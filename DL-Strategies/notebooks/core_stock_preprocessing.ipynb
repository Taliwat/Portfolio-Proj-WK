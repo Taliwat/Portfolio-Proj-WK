{
 "cells": [
  {
   "cell_type": "markdown",
   "metadata": {},
   "source": [
    "# **Core Stock Data Preprocessing Notebook**\n",
    "## In this notebook we will preprocess our core stock data, scaling and performing PCA (Principle Component Analysis) as well as set up lag and rolling windows.  We will also create new features to help our forthcoming baseline models in the upcoming notebooks."
   ]
  },
  {
   "cell_type": "markdown",
   "metadata": {},
   "source": [
    "#### Let's start by bringing in the libraries and logic necessary for reading in our file."
   ]
  },
  {
   "cell_type": "code",
   "execution_count": 1,
   "metadata": {},
   "outputs": [],
   "source": [
    "import sys\n",
    "import os\n",
    "\n",
    "project_root = os.path.abspath(os.path.join(os.getcwd(), '..'))\n",
    "if project_root not in sys.path:\n",
    "    sys.path.append(project_root)\n",
    "\n",
    "import matplotlib.pyplot as plt\n",
    "import seaborn as sns\n",
    "import numpy as np\n",
    "import pandas as pd\n",
    "import plotly.graph_objs as go\n",
    "import plotly.io as pio\n",
    "from sklearn.preprocessing import StandardScaler\n",
    "from sklearn.decomposition import PCA\n",
    "\n"
   ]
  },
  {
   "cell_type": "markdown",
   "metadata": {},
   "source": [
    "#### Now let's read in our data that we need for this notebook."
   ]
  },
  {
   "cell_type": "code",
   "execution_count": 2,
   "metadata": {},
   "outputs": [
    {
     "data": {
      "text/html": [
       "<div>\n",
       "<style scoped>\n",
       "    .dataframe tbody tr th:only-of-type {\n",
       "        vertical-align: middle;\n",
       "    }\n",
       "\n",
       "    .dataframe tbody tr th {\n",
       "        vertical-align: top;\n",
       "    }\n",
       "\n",
       "    .dataframe thead th {\n",
       "        text-align: right;\n",
       "    }\n",
       "</style>\n",
       "<table border=\"1\" class=\"dataframe\">\n",
       "  <thead>\n",
       "    <tr style=\"text-align: right;\">\n",
       "      <th></th>\n",
       "      <th>Close</th>\n",
       "      <th>Volume</th>\n",
       "      <th>Open</th>\n",
       "      <th>High</th>\n",
       "      <th>Low</th>\n",
       "      <th>SMA_core</th>\n",
       "      <th>EMA_core</th>\n",
       "      <th>RSI_core</th>\n",
       "      <th>Ticker</th>\n",
       "    </tr>\n",
       "    <tr>\n",
       "      <th>Date</th>\n",
       "      <th></th>\n",
       "      <th></th>\n",
       "      <th></th>\n",
       "      <th></th>\n",
       "      <th></th>\n",
       "      <th></th>\n",
       "      <th></th>\n",
       "      <th></th>\n",
       "      <th></th>\n",
       "    </tr>\n",
       "  </thead>\n",
       "  <tbody>\n",
       "    <tr>\n",
       "      <th>2019-03-14</th>\n",
       "      <td>45.932499</td>\n",
       "      <td>94318000</td>\n",
       "      <td>45.974998</td>\n",
       "      <td>46.025002</td>\n",
       "      <td>45.639999</td>\n",
       "      <td>41.35925</td>\n",
       "      <td>42.219051</td>\n",
       "      <td>75.741602</td>\n",
       "      <td>AAPL</td>\n",
       "    </tr>\n",
       "    <tr>\n",
       "      <th>2019-03-15</th>\n",
       "      <td>46.529999</td>\n",
       "      <td>156171600</td>\n",
       "      <td>46.212502</td>\n",
       "      <td>46.832500</td>\n",
       "      <td>45.935001</td>\n",
       "      <td>41.50025</td>\n",
       "      <td>42.388107</td>\n",
       "      <td>76.985910</td>\n",
       "      <td>AAPL</td>\n",
       "    </tr>\n",
       "    <tr>\n",
       "      <th>2019-03-18</th>\n",
       "      <td>47.005001</td>\n",
       "      <td>104879200</td>\n",
       "      <td>46.450001</td>\n",
       "      <td>47.097500</td>\n",
       "      <td>46.447498</td>\n",
       "      <td>41.72940</td>\n",
       "      <td>42.569162</td>\n",
       "      <td>78.724282</td>\n",
       "      <td>AAPL</td>\n",
       "    </tr>\n",
       "    <tr>\n",
       "      <th>2019-03-19</th>\n",
       "      <td>46.632500</td>\n",
       "      <td>126585600</td>\n",
       "      <td>47.087502</td>\n",
       "      <td>47.247501</td>\n",
       "      <td>46.480000</td>\n",
       "      <td>41.92075</td>\n",
       "      <td>42.728509</td>\n",
       "      <td>73.527018</td>\n",
       "      <td>AAPL</td>\n",
       "    </tr>\n",
       "    <tr>\n",
       "      <th>2019-03-20</th>\n",
       "      <td>47.040001</td>\n",
       "      <td>124140800</td>\n",
       "      <td>46.557499</td>\n",
       "      <td>47.372501</td>\n",
       "      <td>46.182499</td>\n",
       "      <td>42.12190</td>\n",
       "      <td>42.897587</td>\n",
       "      <td>80.396901</td>\n",
       "      <td>AAPL</td>\n",
       "    </tr>\n",
       "  </tbody>\n",
       "</table>\n",
       "</div>"
      ],
      "text/plain": [
       "                Close     Volume       Open       High        Low  SMA_core  \\\n",
       "Date                                                                          \n",
       "2019-03-14  45.932499   94318000  45.974998  46.025002  45.639999  41.35925   \n",
       "2019-03-15  46.529999  156171600  46.212502  46.832500  45.935001  41.50025   \n",
       "2019-03-18  47.005001  104879200  46.450001  47.097500  46.447498  41.72940   \n",
       "2019-03-19  46.632500  126585600  47.087502  47.247501  46.480000  41.92075   \n",
       "2019-03-20  47.040001  124140800  46.557499  47.372501  46.182499  42.12190   \n",
       "\n",
       "             EMA_core   RSI_core Ticker  \n",
       "Date                                     \n",
       "2019-03-14  42.219051  75.741602   AAPL  \n",
       "2019-03-15  42.388107  76.985910   AAPL  \n",
       "2019-03-18  42.569162  78.724282   AAPL  \n",
       "2019-03-19  42.728509  73.527018   AAPL  \n",
       "2019-03-20  42.897587  80.396901   AAPL  "
      ]
     },
     "execution_count": 2,
     "metadata": {},
     "output_type": "execute_result"
    }
   ],
   "source": [
    "# Now let's access the main core_stock_data.csv file\n",
    "csv_path = os.path.join(project_root, 'data', 'core_stock_data.csv')\n",
    "core_stock_data = pd.read_csv(csv_path, parse_dates=['Date'], index_col= 'Date')\n",
    "core_stock_data.head()"
   ]
  },
  {
   "cell_type": "markdown",
   "metadata": {},
   "source": [
    "#### First we will create new custom features for our core data, as well as set up the lag windows and features here."
   ]
  },
  {
   "cell_type": "code",
   "execution_count": 3,
   "metadata": {},
   "outputs": [
    {
     "name": "stdout",
     "output_type": "stream",
     "text": [
      "Close                   0\n",
      "Volume                  0\n",
      "Open                    0\n",
      "High                    0\n",
      "Low                     0\n",
      "SMA_core                0\n",
      "EMA_core                0\n",
      "RSI_core                0\n",
      "Ticker                  0\n",
      "RMA_core                0\n",
      "Close_Lag_1             1\n",
      "Close_Lag_2             2\n",
      "Close_Lag_3             3\n",
      "EMA_core_Lag_1          1\n",
      "EMA_core_Lag_2          2\n",
      "EMA_core_Lag_3          3\n",
      "SMA_core_Lag_1          1\n",
      "SMA_core_Lag_2          2\n",
      "SMA_core_Lag_3          3\n",
      "RMA_core_Lag_1          1\n",
      "RMA_core_Lag_2          2\n",
      "RMA_core_Lag_3          3\n",
      "EMA_Lag_Avg_1_3         1\n",
      "EMA_Lag_Std_1_3         2\n",
      "SMA_Lag_Avg_1_3         1\n",
      "SMA_Lag_Std_1_3         2\n",
      "RMA_Lag_Avg_1_3         1\n",
      "RMA_Lag_Std_1_3         2\n",
      "Close_Lag_Avg_1_3       1\n",
      "Close_Lag_Std_1_3       2\n",
      "Diff_Close_EMA_core     0\n",
      "Ratio_Close_EMA_core    0\n",
      "dtype: int64\n"
     ]
    }
   ],
   "source": [
    "# Let's create the RMA (Relative Moving Average) to add to our core data.\n",
    "core_stock_data['RMA_core'] = core_stock_data['Close'] / core_stock_data['EMA_core']\n",
    "\n",
    "# Now let's create a variable to house our features we want to create lag features for.\n",
    "features_to_lag = ['Close', 'EMA_core', 'SMA_core', 'RMA_core']\n",
    "\n",
    "# Now we apply the lag windows with a small 3-day window size.\n",
    "for feature in features_to_lag:\n",
    "    for lag in range(1,4):\n",
    "        core_stock_data[f'{feature}_Lag_{lag}'] = core_stock_data[feature].shift(lag)\n",
    "\n",
    "# Great, now from these new lag-based features let's expand on it further by creating some custom features using our existing ones.\n",
    "core_stock_data['EMA_Lag_Avg_1_3'] = core_stock_data[['EMA_core_Lag_1', 'EMA_core_Lag_2', 'EMA_core_Lag_3']].mean(axis = 1)\n",
    "core_stock_data['EMA_Lag_Std_1_3'] = core_stock_data[['EMA_core_Lag_1', 'EMA_core_Lag_2', 'EMA_core_Lag_3']].std(axis = 1)\n",
    "\n",
    "core_stock_data['SMA_Lag_Avg_1_3'] = core_stock_data[['SMA_core_Lag_1', 'SMA_core_Lag_2', 'SMA_core_Lag_3']].mean(axis = 1)\n",
    "core_stock_data['SMA_Lag_Std_1_3'] = core_stock_data[['SMA_core_Lag_1', 'SMA_core_Lag_2', 'SMA_core_Lag_3']].std(axis = 1)\n",
    "\n",
    "core_stock_data['RMA_Lag_Avg_1_3'] = core_stock_data[['RMA_core_Lag_1', 'RMA_core_Lag_2', 'RMA_core_Lag_3']].mean(axis = 1)\n",
    "core_stock_data['RMA_Lag_Std_1_3'] = core_stock_data[['RMA_core_Lag_1', 'RMA_core_Lag_2', 'RMA_core_Lag_3']].std(axis = 1)\n",
    "\n",
    "core_stock_data['Close_Lag_Avg_1_3'] = core_stock_data[['Close_Lag_1', 'Close_Lag_2', 'Close_Lag_3']].mean(axis = 1)\n",
    "core_stock_data['Close_Lag_Std_1_3'] = core_stock_data[['Close_Lag_1', 'Close_Lag_2', 'Close_Lag_3']].std(axis = 1)\n",
    "\n",
    "core_stock_data['Diff_Close_EMA_core'] = core_stock_data['Close'] - core_stock_data['EMA_core']\n",
    "core_stock_data['Ratio_Close_EMA_core'] = core_stock_data['Close'] / core_stock_data['EMA_core']\n",
    "\n",
    "#print(core_stock_data.head(10))\n",
    "print(core_stock_data.isnull().sum())\n"
   ]
  },
  {
   "cell_type": "markdown",
   "metadata": {},
   "source": [
    "#### Looks like with the creation of our new features we have some missing values to take care of.  Let's address those real quick before we move on."
   ]
  },
  {
   "cell_type": "code",
   "execution_count": 4,
   "metadata": {},
   "outputs": [
    {
     "data": {
      "image/png": "[encoded data removed]",
      "text/plain": [
       "<Figure size 1200x700 with 1 Axes>"
      ]
     },
     "metadata": {},
     "output_type": "display_data"
    }
   ],
   "source": [
    "plt.figure(figsize = (12,7))\n",
    "sns.heatmap(core_stock_data.isna(), cbar = False, cmap = 'viridis')\n",
    "plt.title('Heatmap of Missing Values in Core Stock Data')\n",
    "plt.show()"
   ]
  },
  {
   "cell_type": "markdown",
   "metadata": {},
   "source": [
    "#### There are only a few values to fill, most likely due to the overlapping of the lag windows.  Let's create a quick function to impute those values, and then fill each feature column that contained one.  We will follow with a quick check to see that there are no more remaining missing values."
   ]
  },
  {
   "cell_type": "code",
   "execution_count": 5,
   "metadata": {},
   "outputs": [
    {
     "name": "stdout",
     "output_type": "stream",
     "text": [
      "Close                   0\n",
      "Volume                  0\n",
      "Open                    0\n",
      "High                    0\n",
      "Low                     0\n",
      "SMA_core                0\n",
      "EMA_core                0\n",
      "RSI_core                0\n",
      "Ticker                  0\n",
      "RMA_core                0\n",
      "Close_Lag_1             0\n",
      "Close_Lag_2             0\n",
      "Close_Lag_3             0\n",
      "EMA_core_Lag_1          0\n",
      "EMA_core_Lag_2          0\n",
      "EMA_core_Lag_3          0\n",
      "SMA_core_Lag_1          0\n",
      "SMA_core_Lag_2          0\n",
      "SMA_core_Lag_3          0\n",
      "RMA_core_Lag_1          0\n",
      "RMA_core_Lag_2          0\n",
      "RMA_core_Lag_3          0\n",
      "EMA_Lag_Avg_1_3         0\n",
      "EMA_Lag_Std_1_3         0\n",
      "SMA_Lag_Avg_1_3         0\n",
      "SMA_Lag_Std_1_3         0\n",
      "RMA_Lag_Avg_1_3         0\n",
      "RMA_Lag_Std_1_3         0\n",
      "Close_Lag_Avg_1_3       0\n",
      "Close_Lag_Std_1_3       0\n",
      "Diff_Close_EMA_core     0\n",
      "Ratio_Close_EMA_core    0\n",
      "dtype: int64\n"
     ]
    }
   ],
   "source": [
    "def fill_missing_vals(df):\n",
    "    df.ffill(inplace = True)\n",
    "    df.bfill(inplace = True)\n",
    "    df.interpolate(method = 'linear', inplace = True)\n",
    "    \n",
    "    return df\n",
    "\n",
    "core_stock_data['Close_Lag_1'] = fill_missing_vals(core_stock_data['Close_Lag_1'])\n",
    "core_stock_data['Close_Lag_2'] = fill_missing_vals(core_stock_data['Close_Lag_2'])\n",
    "core_stock_data['Close_Lag_3'] = fill_missing_vals(core_stock_data['Close_Lag_3'])\n",
    "core_stock_data['EMA_core_Lag_1'] = fill_missing_vals(core_stock_data['EMA_core_Lag_1'])\n",
    "core_stock_data['EMA_core_Lag_2'] = fill_missing_vals(core_stock_data['EMA_core_Lag_2'])\n",
    "core_stock_data['EMA_core_Lag_3'] = fill_missing_vals(core_stock_data['EMA_core_Lag_3'])\n",
    "core_stock_data['SMA_core_Lag_1'] = fill_missing_vals(core_stock_data['SMA_core_Lag_1'])\n",
    "core_stock_data['SMA_core_Lag_2'] = fill_missing_vals(core_stock_data['SMA_core_Lag_2'])\n",
    "core_stock_data['SMA_core_Lag_3'] = fill_missing_vals(core_stock_data['SMA_core_Lag_3'])\n",
    "core_stock_data['RMA_core_Lag_1'] = fill_missing_vals(core_stock_data['RMA_core_Lag_1'])\n",
    "core_stock_data['RMA_core_Lag_2'] = fill_missing_vals(core_stock_data['RMA_core_Lag_2'])\n",
    "core_stock_data['RMA_core_Lag_3'] = fill_missing_vals(core_stock_data['RMA_core_Lag_3'])\n",
    "core_stock_data['EMA_Lag_Avg_1_3'] = fill_missing_vals(core_stock_data['EMA_Lag_Avg_1_3'])\n",
    "core_stock_data['EMA_Lag_Std_1_3'] = fill_missing_vals(core_stock_data['EMA_Lag_Std_1_3'])\n",
    "core_stock_data['SMA_Lag_Avg_1_3'] = fill_missing_vals(core_stock_data['SMA_Lag_Avg_1_3'])\n",
    "core_stock_data['SMA_Lag_Std_1_3'] = fill_missing_vals(core_stock_data['SMA_Lag_Std_1_3'])\n",
    "core_stock_data['RMA_Lag_Avg_1_3'] = fill_missing_vals(core_stock_data['RMA_Lag_Avg_1_3'])\n",
    "core_stock_data['RMA_Lag_Std_1_3'] = fill_missing_vals(core_stock_data['RMA_Lag_Std_1_3'])\n",
    "core_stock_data['Close_Lag_Avg_1_3'] = fill_missing_vals(core_stock_data['Close_Lag_Avg_1_3'])\n",
    "core_stock_data['Close_Lag_Std_1_3'] = fill_missing_vals(core_stock_data['Close_Lag_Std_1_3'])\n",
    "\n",
    "print(core_stock_data.isna().sum())"
   ]
  },
  {
   "cell_type": "markdown",
   "metadata": {},
   "source": [
    "# Looks good, now we can move on to scaling our new dataframe."
   ]
  },
  {
   "cell_type": "code",
   "execution_count": 6,
   "metadata": {},
   "outputs": [
    {
     "name": "stdout",
     "output_type": "stream",
     "text": [
      "               Close    Volume      Open      High       Low  SMA_core  \\\n",
      "Date                                                                     \n",
      "2019-03-14 -1.013302 -0.074793 -1.012345 -1.018762 -1.009483 -1.085271   \n",
      "2019-03-15 -1.007093  0.293158 -1.009876 -1.010456 -1.006383 -1.083783   \n",
      "2019-03-18 -1.002157 -0.011968 -1.007406 -1.007730 -1.000997 -1.081366   \n",
      "2019-03-19 -1.006028  0.117158 -1.000779 -1.006187 -1.000655 -1.079347   \n",
      "2019-03-20 -1.001793  0.102615 -1.006289 -1.004901 -1.003782 -1.077225   \n",
      "\n",
      "            EMA_core  RSI_core  RMA_core  Close_Lag_1  ...  EMA_Lag_Avg_1_3  \\\n",
      "Date                                                   ...                    \n",
      "2019-03-14 -1.049825  1.249108  0.801504    -1.013494  ...        -1.050817   \n",
      "2019-03-15 -1.048013  1.325622  0.931542    -1.013494  ...        -1.050817   \n",
      "2019-03-18 -1.046072  1.432516  1.018034    -1.007280  ...        -1.049909   \n",
      "2019-03-19 -1.044364  1.112931  0.846961    -1.002341  ...        -1.048958   \n",
      "2019-03-20 -1.042552  1.535368  0.916237    -1.006214  ...        -1.047135   \n",
      "\n",
      "            EMA_Lag_Std_1_3  SMA_Lag_Avg_1_3  SMA_Lag_Std_1_3  \\\n",
      "Date                                                            \n",
      "2019-03-14        -0.081211        -1.086158        -0.085461   \n",
      "2019-03-15        -0.081211        -1.086158        -0.085461   \n",
      "2019-03-18        -0.081211        -1.085413        -0.085461   \n",
      "2019-03-19        -0.066578        -1.084358        -0.062046   \n",
      "2019-03-20        -0.067836        -1.082380        -0.055671   \n",
      "\n",
      "            RMA_Lag_Avg_1_3  RMA_Lag_Std_1_3  Close_Lag_Avg_1_3  \\\n",
      "Date                                                              \n",
      "2019-03-14         0.817706        -0.625300          -1.014627   \n",
      "2019-03-15         0.817706        -0.625300          -1.014627   \n",
      "2019-03-18         0.884049        -0.625300          -1.011515   \n",
      "2019-03-19         0.935581        -0.515015          -1.008829   \n",
      "2019-03-20         0.951042        -0.666796          -1.006398   \n",
      "\n",
      "            Close_Lag_Std_1_3  Diff_Close_EMA_core  Ratio_Close_EMA_core  \n",
      "Date                                                                      \n",
      "2019-03-14          -0.348813             0.037931              0.801504  \n",
      "2019-03-15          -0.348813             0.074966              0.931542  \n",
      "2019-03-18          -0.348813             0.100376              1.018034  \n",
      "2019-03-19          -0.323448             0.054402              0.846961  \n",
      "2019-03-20          -0.386895             0.075012              0.916237  \n",
      "\n",
      "[5 rows x 31 columns]\n"
     ]
    }
   ],
   "source": [
    "# We will need to temporarily drop the Ticker column as it is a float value.  We will create a variable for it now, and use it later to bring it back when needed.\n",
    "tickers = core_stock_data['Ticker']\n",
    "core_stock_data = core_stock_data.drop(columns = ['Ticker'])\n",
    "\n",
    "# Initiate the scaler and transform the data.\n",
    "scaler = StandardScaler()\n",
    "scaled_data = scaler.fit_transform(core_stock_data)\n",
    "core_stock_scaled = pd.DataFrame(scaled_data, index = core_stock_data.index, columns = core_stock_data.columns)\n",
    "print(core_stock_scaled.head())"
   ]
  },
  {
   "cell_type": "markdown",
   "metadata": {},
   "source": [
    "#### Now we can move on to the last part of our processing, the PCA or Principal Component Analysis.  Here we will look at reducing dimensionality of our scaled dataframe and reduce the variance."
   ]
  },
  {
   "cell_type": "code",
   "execution_count": 7,
   "metadata": {},
   "outputs": [],
   "source": [
    "# Instantiate the pca variable and transform on our new data.\n",
    "pca = PCA(n_components = None)\n",
    "core_pca = pca.fit_transform(core_stock_scaled)\n",
    "\n",
    "# The variables below are just being set up so we can use them in the following plots.\n",
    "explained_variance = pca.explained_variance_ratio_\n",
    "cumulative_explained_variance = np.cumsum(explained_variance)"
   ]
  },
  {
   "cell_type": "code",
   "execution_count": 10,
   "metadata": {},
   "outputs": [
    {
     "data": {
      "application/vnd.plotly.v1+json": {
       "config": {
        "plotlyServerURL": "https://plot.ly"
       },
       "data": [
        {
         "line": {
          "color": "blue"
         },
         "mode": "lines+markers",
         "name": "Explained Variance",
         "type": "scatter",
         "x": [
          1,
          2,
          3,
          4,
          5,
          6,
          7,
          8,
          9,
          10,
          11,
          12,
          13,
          14,
          15,
          16,
          17,
          18,
          19,
          20,
          21,
          22,
          23,
          24,
          25,
          26,
          27,
          28,
          29,
          30,
          31
         ],
         "y": [
          0.5786366899927963,
          0.2215230205279461,
          0.0636943023463768,
          0.03498645426486752,
          0.03240679240660352,
          0.019161581483862204,
          0.016503129409980728,
          0.014013745294568388,
          0.009853636572667274,
          0.004855119405297236,
          0.0017710712809842761,
          0.0010816977845098726,
          0.00101197177857715,
          0.00027801954699711867,
          0.00006622237289961336,
          0.0000525597267430617,
          0.00004414200587887463,
          0.00002287894521965358,
          0.000014460295640501137,
          0.000006725160713614486,
          0.0000060013152846717035,
          0.000004554439801463118,
          0.0000024520596660802464,
          0.0000016875961816091357,
          0.0000010827668779151404,
          1.2190585466159324e-9,
          8.344608679804925e-18,
          0,
          0,
          0,
          0
         ]
        },
        {
         "line": {
          "color": "green"
         },
         "mode": "lines+markers",
         "name": "Cumulative Explained Variance",
         "type": "scatter",
         "x": [
          1,
          2,
          3,
          4,
          5,
          6,
          7,
          8,
          9,
          10,
          11,
          12,
          13,
          14,
          15,
          16,
          17,
          18,
          19,
          20,
          21,
          22,
          23,
          24,
          25,
          26,
          27,
          28,
          29,
          30,
          31
         ],
         "y": [
          0.5786366899927963,
          0.8001597105207423,
          0.863854012867119,
          0.8988404671319865,
          0.93124725953859,
          0.9504088410224522,
          0.9669119704324329,
          0.9809257157270013,
          0.9907793522996685,
          0.9956344717049658,
          0.9974055429859501,
          0.9984872407704599,
          0.9994992125490371,
          0.9997772320960342,
          0.9998434544689339,
          0.9998960141956769,
          0.9999401562015557,
          0.9999630351467754,
          0.9999774954424159,
          0.9999842206031295,
          0.9999902219184142,
          0.9999947763582158,
          0.9999972284178819,
          0.9999989160140634,
          0.9999999987809414,
          0.9999999999999999,
          0.9999999999999999,
          0.9999999999999999,
          0.9999999999999999,
          0.9999999999999999,
          0.9999999999999999
         ]
        },
        {
         "line": {
          "color": "red",
          "dash": "dash"
         },
         "mode": "lines",
         "name": "95% Variance Threshold",
         "type": "scatter",
         "x": [
          1,
          31
         ],
         "y": [
          0.95,
          0.95
         ]
        }
       ],
       "layout": {
        "template": {
         "data": {
          "bar": [
           {
            "error_x": {
             "color": "#f2f5fa"
            },
            "error_y": {
             "color": "#f2f5fa"
            },
            "marker": {
             "line": {
              "color": "rgb(17,17,17)",
              "width": 0.5
             },
             "pattern": {
              "fillmode": "overlay",
              "size": 10,
              "solidity": 0.2
             }
            },
            "type": "bar"
           }
          ],
          "barpolar": [
           {
            "marker": {
             "line": {
              "color": "rgb(17,17,17)",
              "width": 0.5
             },
             "pattern": {
              "fillmode": "overlay",
              "size": 10,
              "solidity": 0.2
             }
            },
            "type": "barpolar"
           }
          ],
          "carpet": [
           {
            "aaxis": {
             "endlinecolor": "#A2B1C6",
             "gridcolor": "#506784",
             "linecolor": "#506784",
             "minorgridcolor": "#506784",
             "startlinecolor": "#A2B1C6"
            },
            "baxis": {
             "endlinecolor": "#A2B1C6",
             "gridcolor": "#506784",
             "linecolor": "#506784",
             "minorgridcolor": "#506784",
             "startlinecolor": "#A2B1C6"
            },
            "type": "carpet"
           }
          ],
          "choropleth": [
           {
            "colorbar": {
             "outlinewidth": 0,
             "ticks": ""
            },
            "type": "choropleth"
           }
          ],
          "contour": [
           {
            "colorbar": {
             "outlinewidth": 0,
             "ticks": ""
            },
            "colorscale": [
             [
              0,
              "#0d0887"
             ],
             [
              0.1111111111111111,
              "#46039f"
             ],
             [
              0.2222222222222222,
              "#7201a8"
             ],
             [
              0.3333333333333333,
              "#9c179e"
             ],
             [
              0.4444444444444444,
              "#bd3786"
             ],
             [
              0.5555555555555556,
              "#d8576b"
             ],
             [
              0.6666666666666666,
              "#ed7953"
             ],
             [
              0.7777777777777778,
              "#fb9f3a"
             ],
             [
              0.8888888888888888,
              "#fdca26"
             ],
             [
              1,
              "#f0f921"
             ]
            ],
            "type": "contour"
           }
          ],
          "contourcarpet": [
           {
            "colorbar": {
             "outlinewidth": 0,
             "ticks": ""
            },
            "type": "contourcarpet"
           }
          ],
          "heatmap": [
           {
            "colorbar": {
             "outlinewidth": 0,
             "ticks": ""
            },
            "colorscale": [
             [
              0,
              "#0d0887"
             ],
             [
              0.1111111111111111,
              "#46039f"
             ],
             [
              0.2222222222222222,
              "#7201a8"
             ],
             [
              0.3333333333333333,
              "#9c179e"
             ],
             [
              0.4444444444444444,
              "#bd3786"
             ],
             [
              0.5555555555555556,
              "#d8576b"
             ],
             [
              0.6666666666666666,
              "#ed7953"
             ],
             [
              0.7777777777777778,
              "#fb9f3a"
             ],
             [
              0.8888888888888888,
              "#fdca26"
             ],
             [
              1,
              "#f0f921"
             ]
            ],
            "type": "heatmap"
           }
          ],
          "heatmapgl": [
           {
            "colorbar": {
             "outlinewidth": 0,
             "ticks": ""
            },
            "colorscale": [
             [
              0,
              "#0d0887"
             ],
             [
              0.1111111111111111,
              "#46039f"
             ],
             [
              0.2222222222222222,
              "#7201a8"
             ],
             [
              0.3333333333333333,
              "#9c179e"
             ],
             [
              0.4444444444444444,
              "#bd3786"
             ],
             [
              0.5555555555555556,
              "#d8576b"
             ],
             [
              0.6666666666666666,
              "#ed7953"
             ],
             [
              0.7777777777777778,
              "#fb9f3a"
             ],
             [
              0.8888888888888888,
              "#fdca26"
             ],
             [
              1,
              "#f0f921"
             ]
            ],
            "type": "heatmapgl"
           }
          ],
          "histogram": [
           {
            "marker": {
             "pattern": {
              "fillmode": "overlay",
              "size": 10,
              "solidity": 0.2
             }
            },
            "type": "histogram"
           }
          ],
          "histogram2d": [
           {
            "colorbar": {
             "outlinewidth": 0,
             "ticks": ""
            },
            "colorscale": [
             [
              0,
              "#0d0887"
             ],
             [
              0.1111111111111111,
              "#46039f"
             ],
             [
              0.2222222222222222,
              "#7201a8"
             ],
             [
              0.3333333333333333,
              "#9c179e"
             ],
             [
              0.4444444444444444,
              "#bd3786"
             ],
             [
              0.5555555555555556,
              "#d8576b"
             ],
             [
              0.6666666666666666,
              "#ed7953"
             ],
             [
              0.7777777777777778,
              "#fb9f3a"
             ],
             [
              0.8888888888888888,
              "#fdca26"
             ],
             [
              1,
              "#f0f921"
             ]
            ],
            "type": "histogram2d"
           }
          ],
          "histogram2dcontour": [
           {
            "colorbar": {
             "outlinewidth": 0,
             "ticks": ""
            },
            "colorscale": [
             [
              0,
              "#0d0887"
             ],
             [
              0.1111111111111111,
              "#46039f"
             ],
             [
              0.2222222222222222,
              "#7201a8"
             ],
             [
              0.3333333333333333,
              "#9c179e"
             ],
             [
              0.4444444444444444,
              "#bd3786"
             ],
             [
              0.5555555555555556,
              "#d8576b"
             ],
             [
              0.6666666666666666,
              "#ed7953"
             ],
             [
              0.7777777777777778,
              "#fb9f3a"
             ],
             [
              0.8888888888888888,
              "#fdca26"
             ],
             [
              1,
              "#f0f921"
             ]
            ],
            "type": "histogram2dcontour"
           }
          ],
          "mesh3d": [
           {
            "colorbar": {
             "outlinewidth": 0,
             "ticks": ""
            },
            "type": "mesh3d"
           }
          ],
          "parcoords": [
           {
            "line": {
             "colorbar": {
              "outlinewidth": 0,
              "ticks": ""
             }
            },
            "type": "parcoords"
           }
          ],
          "pie": [
           {
            "automargin": true,
            "type": "pie"
           }
          ],
          "scatter": [
           {
            "marker": {
             "line": {
              "color": "#283442"
             }
            },
            "type": "scatter"
           }
          ],
          "scatter3d": [
           {
            "line": {
             "colorbar": {
              "outlinewidth": 0,
              "ticks": ""
             }
            },
            "marker": {
             "colorbar": {
              "outlinewidth": 0,
              "ticks": ""
             }
            },
            "type": "scatter3d"
           }
          ],
          "scattercarpet": [
           {
            "marker": {
             "colorbar": {
              "outlinewidth": 0,
              "ticks": ""
             }
            },
            "type": "scattercarpet"
           }
          ],
          "scattergeo": [
           {
            "marker": {
             "colorbar": {
              "outlinewidth": 0,
              "ticks": ""
             }
            },
            "type": "scattergeo"
           }
          ],
          "scattergl": [
           {
            "marker": {
             "line": {
              "color": "#283442"
             }
            },
            "type": "scattergl"
           }
          ],
          "scattermapbox": [
           {
            "marker": {
             "colorbar": {
              "outlinewidth": 0,
              "ticks": ""
             }
            },
            "type": "scattermapbox"
           }
          ],
          "scatterpolar": [
           {
            "marker": {
             "colorbar": {
              "outlinewidth": 0,
              "ticks": ""
             }
            },
            "type": "scatterpolar"
           }
          ],
          "scatterpolargl": [
           {
            "marker": {
             "colorbar": {
              "outlinewidth": 0,
              "ticks": ""
             }
            },
            "type": "scatterpolargl"
           }
          ],
          "scatterternary": [
           {
            "marker": {
             "colorbar": {
              "outlinewidth": 0,
              "ticks": ""
             }
            },
            "type": "scatterternary"
           }
          ],
          "surface": [
           {
            "colorbar": {
             "outlinewidth": 0,
             "ticks": ""
            },
            "colorscale": [
             [
              0,
              "#0d0887"
             ],
             [
              0.1111111111111111,
              "#46039f"
             ],
             [
              0.2222222222222222,
              "#7201a8"
             ],
             [
              0.3333333333333333,
              "#9c179e"
             ],
             [
              0.4444444444444444,
              "#bd3786"
             ],
             [
              0.5555555555555556,
              "#d8576b"
             ],
             [
              0.6666666666666666,
              "#ed7953"
             ],
             [
              0.7777777777777778,
              "#fb9f3a"
             ],
             [
              0.8888888888888888,
              "#fdca26"
             ],
             [
              1,
              "#f0f921"
             ]
            ],
            "type": "surface"
           }
          ],
          "table": [
           {
            "cells": {
             "fill": {
              "color": "#506784"
             },
             "line": {
              "color": "rgb(17,17,17)"
             }
            },
            "header": {
             "fill": {
              "color": "#2a3f5f"
             },
             "line": {
              "color": "rgb(17,17,17)"
             }
            },
            "type": "table"
           }
          ]
         },
         "layout": {
          "annotationdefaults": {
           "arrowcolor": "#f2f5fa",
           "arrowhead": 0,
           "arrowwidth": 1
          },
          "autotypenumbers": "strict",
          "coloraxis": {
           "colorbar": {
            "outlinewidth": 0,
            "ticks": ""
           }
          },
          "colorscale": {
           "diverging": [
            [
             0,
             "#8e0152"
            ],
            [
             0.1,
             "#c51b7d"
            ],
            [
             0.2,
             "#de77ae"
            ],
            [
             0.3,
             "#f1b6da"
            ],
            [
             0.4,
             "#fde0ef"
            ],
            [
             0.5,
             "#f7f7f7"
            ],
            [
             0.6,
             "#e6f5d0"
            ],
            [
             0.7,
             "#b8e186"
            ],
            [
             0.8,
             "#7fbc41"
            ],
            [
             0.9,
             "#4d9221"
            ],
            [
             1,
             "#276419"
            ]
           ],
           "sequential": [
            [
             0,
             "#0d0887"
            ],
            [
             0.1111111111111111,
             "#46039f"
            ],
            [
             0.2222222222222222,
             "#7201a8"
            ],
            [
             0.3333333333333333,
             "#9c179e"
            ],
            [
             0.4444444444444444,
             "#bd3786"
            ],
            [
             0.5555555555555556,
             "#d8576b"
            ],
            [
             0.6666666666666666,
             "#ed7953"
            ],
            [
             0.7777777777777778,
             "#fb9f3a"
            ],
            [
             0.8888888888888888,
             "#fdca26"
            ],
            [
             1,
             "#f0f921"
            ]
           ],
           "sequentialminus": [
            [
             0,
             "#0d0887"
            ],
            [
             0.1111111111111111,
             "#46039f"
            ],
            [
             0.2222222222222222,
             "#7201a8"
            ],
            [
             0.3333333333333333,
             "#9c179e"
            ],
            [
             0.4444444444444444,
             "#bd3786"
            ],
            [
             0.5555555555555556,
             "#d8576b"
            ],
            [
             0.6666666666666666,
             "#ed7953"
            ],
            [
             0.7777777777777778,
             "#fb9f3a"
            ],
            [
             0.8888888888888888,
             "#fdca26"
            ],
            [
             1,
             "#f0f921"
            ]
           ]
          },
          "colorway": [
           "#636efa",
           "#EF553B",
           "#00cc96",
           "#ab63fa",
           "#FFA15A",
           "#19d3f3",
           "#FF6692",
           "#B6E880",
           "#FF97FF",
           "#FECB52"
          ],
          "font": {
           "color": "#f2f5fa"
          },
          "geo": {
           "bgcolor": "rgb(17,17,17)",
           "lakecolor": "rgb(17,17,17)",
           "landcolor": "rgb(17,17,17)",
           "showlakes": true,
           "showland": true,
           "subunitcolor": "#506784"
          },
          "hoverlabel": {
           "align": "left"
          },
          "hovermode": "closest",
          "mapbox": {
           "style": "dark"
          },
          "paper_bgcolor": "rgb(17,17,17)",
          "plot_bgcolor": "rgb(17,17,17)",
          "polar": {
           "angularaxis": {
            "gridcolor": "#506784",
            "linecolor": "#506784",
            "ticks": ""
           },
           "bgcolor": "rgb(17,17,17)",
           "radialaxis": {
            "gridcolor": "#506784",
            "linecolor": "#506784",
            "ticks": ""
           }
          },
          "scene": {
           "xaxis": {
            "backgroundcolor": "rgb(17,17,17)",
            "gridcolor": "#506784",
            "gridwidth": 2,
            "linecolor": "#506784",
            "showbackground": true,
            "ticks": "",
            "zerolinecolor": "#C8D4E3"
           },
           "yaxis": {
            "backgroundcolor": "rgb(17,17,17)",
            "gridcolor": "#506784",
            "gridwidth": 2,
            "linecolor": "#506784",
            "showbackground": true,
            "ticks": "",
            "zerolinecolor": "#C8D4E3"
           },
           "zaxis": {
            "backgroundcolor": "rgb(17,17,17)",
            "gridcolor": "#506784",
            "gridwidth": 2,
            "linecolor": "#506784",
            "showbackground": true,
            "ticks": "",
            "zerolinecolor": "#C8D4E3"
           }
          },
          "shapedefaults": {
           "line": {
            "color": "#f2f5fa"
           }
          },
          "sliderdefaults": {
           "bgcolor": "#C8D4E3",
           "bordercolor": "rgb(17,17,17)",
           "borderwidth": 1,
           "tickwidth": 0
          },
          "ternary": {
           "aaxis": {
            "gridcolor": "#506784",
            "linecolor": "#506784",
            "ticks": ""
           },
           "baxis": {
            "gridcolor": "#506784",
            "linecolor": "#506784",
            "ticks": ""
           },
           "bgcolor": "rgb(17,17,17)",
           "caxis": {
            "gridcolor": "#506784",
            "linecolor": "#506784",
            "ticks": ""
           }
          },
          "title": {
           "x": 0.05
          },
          "updatemenudefaults": {
           "bgcolor": "#506784",
           "borderwidth": 0
          },
          "xaxis": {
           "automargin": true,
           "gridcolor": "#283442",
           "linecolor": "#506784",
           "ticks": "",
           "title": {
            "standoff": 15
           },
           "zerolinecolor": "#283442",
           "zerolinewidth": 2
          },
          "yaxis": {
           "automargin": true,
           "gridcolor": "#283442",
           "linecolor": "#506784",
           "ticks": "",
           "title": {
            "standoff": 15
           },
           "zerolinecolor": "#283442",
           "zerolinewidth": 2
          }
         }
        },
        "title": {
         "text": "Explained Variance by Principal Components"
        },
        "xaxis": {
         "title": {
          "text": "Number of Components"
         }
        },
        "yaxis": {
         "title": {
          "text": "Variance Explained"
         }
        }
       }
      }
     },
     "metadata": {},
     "output_type": "display_data"
    }
   ],
   "source": [
    "explained_variance_trace = go.Scatter(\n",
    "    x = list(range(1, len(explained_variance) + 1)),\n",
    "    y = explained_variance,\n",
    "    mode = 'lines+markers',\n",
    "    name = 'Explained Variance',\n",
    "    line = dict(color = 'blue')\n",
    ")\n",
    "\n",
    "cumulative_explained_variance_trace = go.Scatter(\n",
    "    x = list(range(1, len(cumulative_explained_variance) + 1)),\n",
    "    y = cumulative_explained_variance,\n",
    "    mode = 'lines+markers',\n",
    "    name = 'Cumulative Explained Variance',\n",
    "    line = dict(color = 'green')\n",
    ")\n",
    "\n",
    "variance_threshold_trace = go.Scatter(\n",
    "    x = [1, len(cumulative_explained_variance)],\n",
    "    y = [0.95, 0.95],\n",
    "    mode = 'lines',\n",
    "    name = '95% Variance Threshold',\n",
    "    line = dict(color = 'red', dash = 'dash')\n",
    ")\n",
    "\n",
    "fig = go.Figure(data = [explained_variance_trace, cumulative_explained_variance_trace, variance_threshold_trace])\n",
    "fig.update_layout(\n",
    "    title = 'Explained Variance by Principal Components',\n",
    "    xaxis_title = 'Number of Components',\n",
    "    yaxis_title = 'Variance Explained',\n",
    "    template = 'plotly_dark'    \n",
    ")\n",
    "\n",
    "fig.show()"
   ]
  },
  {
   "cell_type": "code",
   "execution_count": null,
   "metadata": {},
   "outputs": [],
   "source": []
  },
  {
   "cell_type": "code",
   "execution_count": null,
   "metadata": {},
   "outputs": [],
   "source": []
  },
  {
   "cell_type": "code",
   "execution_count": null,
   "metadata": {},
   "outputs": [],
   "source": []
  },
  {
   "cell_type": "code",
   "execution_count": null,
   "metadata": {},
   "outputs": [],
   "source": []
  },
  {
   "cell_type": "code",
   "execution_count": null,
   "metadata": {},
   "outputs": [],
   "source": []
  }
 ],
 "metadata": {
  "kernelspec": {
   "display_name": "DL-Strat",
   "language": "python",
   "name": "python3"
  },
  "language_info": {
   "codemirror_mode": {
    "name": "ipython",
    "version": 3
   },
   "file_extension": ".py",
   "mimetype": "text/x-python",
   "name": "python",
   "nbconvert_exporter": "python",
   "pygments_lexer": "ipython3",
   "version": "3.11.0"
  }
 },
 "nbformat": 4,
 "nbformat_minor": 2
}
