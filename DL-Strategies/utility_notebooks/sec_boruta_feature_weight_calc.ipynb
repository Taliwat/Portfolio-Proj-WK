{
 "cells": [
  {
   "cell_type": "markdown",
   "metadata": {},
   "source": [
    "# **Secondary Stock Data - Feature Scoring and Ranking Using RFECV (Recursive Feature Elimination with Cross Validation) and Ridge Notebook**\n",
    "## In this notebook we will take our secondary stock data that has been previously preprocessed in sec_stock_preprocessing.ipynb and apply a method called RFECV (Recursive Feature Elimination with Cross Validation).  This method works by removing the least important features and acts as a sort of professional interpreter for our features, sorting and selecting the most relevant of those we have in our dataframe while also simultaneously performing cross validation inside the model.  It doesn't work without a model though since it is a wrapper, so we will use Ridge once again.  We will also make sure to read in our unscaled version of the appropriate notebook for usage.  Once we complete our RFECV/Ridge our output and end methodology will be used to score and rank our original secondary stock data, as we will insert it into the generate_secondary_stocks.py script so our stock list can be optimized upon generation. "
   ]
  },
  {
   "cell_type": "markdown",
   "metadata": {},
   "source": [
    "#### As usual let's start by bringing in the libraries and logic necessary for reading in our file."
   ]
  },
  {
   "cell_type": "code",
   "execution_count": 1,
   "metadata": {},
   "outputs": [],
   "source": [
    "import sys\n",
    "import os\n",
    "\n",
    "project_root = os.path.abspath(os.path.join(os.getcwd(), '..'))\n",
    "if project_root not in sys.path:\n",
    "    sys.path.append(project_root)\n",
    "\n",
    "import matplotlib.pyplot as plt\n",
    "import seaborn as sns\n",
    "import numpy as np\n",
    "import pandas as pd\n",
    "from sklearn.feature_selection import RFECV\n",
    "from sklearn.linear_model import Ridge\n",
    "from sklearn.metrics import mean_squared_error, mean_absolute_percentage_error, r2_score, make_scorer\n",
    "from sklearn.model_selection import train_test_split, cross_val_score"
   ]
  },
  {
   "cell_type": "markdown",
   "metadata": {},
   "source": [
    "#### Now let's read in our notebook and take a look; we will need the (un)scaled version of our preprocessed secondary stock data."
   ]
  },
  {
   "cell_type": "code",
   "execution_count": 2,
   "metadata": {},
   "outputs": [
    {
     "name": "stdout",
     "output_type": "stream",
     "text": [
      "           ticker   Close_sec  Volume_sec    Open_sec    High_sec     Low_sec  \\\n",
      "Date                                                                            \n",
      "2019-03-14    RMD  101.000000   13.787626  102.570000  102.570000  100.959999   \n",
      "2019-03-15    RMD  100.370003   14.639423  100.900002  101.730003  100.199997   \n",
      "2019-03-18    RMD   97.400002   14.465594  100.360001  100.610001   96.940002   \n",
      "2019-03-19    RMD   97.900002   13.911821   97.660004   98.190002   97.070000   \n",
      "2019-03-20    RMD   98.809998   14.199140   99.129997  100.800003   98.449997   \n",
      "\n",
      "             SMA_sec     EMA_sec    RSI_sec   BBM_sec  ...  \\\n",
      "Date                                                   ...   \n",
      "2019-03-14  104.9046  101.000000  63.818062  104.9046  ...   \n",
      "2019-03-15  104.9046  100.975294  63.818062  104.9046  ...   \n",
      "2019-03-18  104.9046  100.835087  63.818062  104.9046  ...   \n",
      "2019-03-19  104.9046  100.719985  63.818062  104.9046  ...   \n",
      "2019-03-20  104.9046  100.645084  63.818062  104.9046  ...   \n",
      "\n",
      "            Momentum_7_Lag_Avg_1_3_sec  Momentum_7_Lag_Std_1_3_sec  \\\n",
      "Date                                                                 \n",
      "2019-03-14                    0.419998                         0.0   \n",
      "2019-03-15                    0.419998                         0.0   \n",
      "2019-03-18                    0.419998                         0.0   \n",
      "2019-03-19                    0.419998                         0.0   \n",
      "2019-03-20                    0.419998                         0.0   \n",
      "\n",
      "            Momentum_30_Lag_Avg_1_3_sec  Momentum_30_Lag_Std_1_3_sec  \\\n",
      "Date                                                                   \n",
      "2019-03-14                     2.940002                          0.0   \n",
      "2019-03-15                     2.940002                          0.0   \n",
      "2019-03-18                     2.940002                          0.0   \n",
      "2019-03-19                     2.940002                          0.0   \n",
      "2019-03-20                     2.940002                          0.0   \n",
      "\n",
      "            Momentum_50_Lag_Avg_1_3_sec  Momentum_50_Lag_Std_1_3_sec  \\\n",
      "Date                                                                   \n",
      "2019-03-14                    12.889999                          0.0   \n",
      "2019-03-15                    12.889999                          0.0   \n",
      "2019-03-18                    12.889999                          0.0   \n",
      "2019-03-19                    12.889999                          0.0   \n",
      "2019-03-20                    12.889999                          0.0   \n",
      "\n",
      "            OBV_Lag_Avg_1_3_sec  OBV_Lag_Std_1_3_sec  Diff_Close_EMA_sec  \\\n",
      "Date                                                                       \n",
      "2019-03-14         0.000000e+00         1.611779e+06            0.000000   \n",
      "2019-03-15         0.000000e+00         1.611779e+06           -0.605291   \n",
      "2019-03-18        -1.139700e+06         1.611779e+06           -3.435085   \n",
      "2019-03-19        -2.158167e+06         2.100176e+06           -2.819984   \n",
      "2019-03-20        -3.189500e+06         9.614140e+05           -1.835086   \n",
      "\n",
      "            Ratio_Close_EMA_sec  \n",
      "Date                             \n",
      "2019-03-14             1.000000  \n",
      "2019-03-15             0.994006  \n",
      "2019-03-18             0.965934  \n",
      "2019-03-19             0.972002  \n",
      "2019-03-20             0.981767  \n",
      "\n",
      "[5 rows x 153 columns]\n",
      "(266665, 153)\n"
     ]
    }
   ],
   "source": [
    "# Now let's access the main core_stock_data.csv file\n",
    "csv_path = os.path.join(project_root, 'data', 'sec_stock_unscaled.csv')\n",
    "sec_stock_data = pd.read_csv(csv_path, parse_dates=['Date'], index_col= 'Date')\n",
    "print(sec_stock_data.head())\n",
    "print(sec_stock_data.shape)"
   ]
  },
  {
   "cell_type": "markdown",
   "metadata": {},
   "source": [
    "#### We need to treat this like any other model, establishing our X,y and doing a train_test_split.  We will prepare the Ridge and then wrap the RFECV around it afterwards."
   ]
  },
  {
   "cell_type": "code",
   "execution_count": 3,
   "metadata": {},
   "outputs": [
    {
     "data": {
      "text/plain": [
       "(pandas.core.frame.DataFrame, pandas.core.series.Series)"
      ]
     },
     "execution_count": 3,
     "metadata": {},
     "output_type": "execute_result"
    }
   ],
   "source": [
    "# Let's set up our X,y features and target respectively\n",
    "X = sec_stock_data.drop(columns = ['Close_sec', 'ticker'])\n",
    "y = sec_stock_data['Close_sec']\n",
    "type(X), type(y)\n"
   ]
  },
  {
   "cell_type": "code",
   "execution_count": 4,
   "metadata": {},
   "outputs": [],
   "source": [
    "# Now let's do our train_test_split to prepare our variables for the model.\n",
    "X_train, X_test, y_train, y_test = train_test_split(X, y, test_size = 0.2, random_state = 42)"
   ]
  },
  {
   "cell_type": "code",
   "execution_count": 5,
   "metadata": {},
   "outputs": [
    {
     "name": "stdout",
     "output_type": "stream",
     "text": [
      "Fitting estimator with 151 features.\n"
     ]
    },
    {
     "name": "stderr",
     "output_type": "stream",
     "text": [
      "c:\\Users\\ryanm\\Desktop\\Portfolio-Proj-WK\\DL-Strategies\\DL-Strat\\Lib\\site-packages\\sklearn\\linear_model\\_ridge.py:216: LinAlgWarning: Ill-conditioned matrix (rcond=4.50869e-24): result may not be accurate.\n",
      "  return linalg.solve(A, Xy, assume_a=\"pos\", overwrite_a=True).T\n"
     ]
    },
    {
     "name": "stdout",
     "output_type": "stream",
     "text": [
      "Fitting estimator with 150 features.\n"
     ]
    },
    {
     "name": "stderr",
     "output_type": "stream",
     "text": [
      "c:\\Users\\ryanm\\Desktop\\Portfolio-Proj-WK\\DL-Strategies\\DL-Strat\\Lib\\site-packages\\sklearn\\linear_model\\_ridge.py:216: LinAlgWarning: Ill-conditioned matrix (rcond=4.50971e-24): result may not be accurate.\n",
      "  return linalg.solve(A, Xy, assume_a=\"pos\", overwrite_a=True).T\n"
     ]
    },
    {
     "name": "stdout",
     "output_type": "stream",
     "text": [
      "Fitting estimator with 149 features.\n"
     ]
    },
    {
     "name": "stderr",
     "output_type": "stream",
     "text": [
      "c:\\Users\\ryanm\\Desktop\\Portfolio-Proj-WK\\DL-Strategies\\DL-Strat\\Lib\\site-packages\\sklearn\\linear_model\\_ridge.py:216: LinAlgWarning: Ill-conditioned matrix (rcond=4.51373e-24): result may not be accurate.\n",
      "  return linalg.solve(A, Xy, assume_a=\"pos\", overwrite_a=True).T\n"
     ]
    },
    {
     "name": "stdout",
     "output_type": "stream",
     "text": [
      "Fitting estimator with 148 features.\n"
     ]
    },
    {
     "name": "stderr",
     "output_type": "stream",
     "text": [
      "c:\\Users\\ryanm\\Desktop\\Portfolio-Proj-WK\\DL-Strategies\\DL-Strat\\Lib\\site-packages\\sklearn\\linear_model\\_ridge.py:216: LinAlgWarning: Ill-conditioned matrix (rcond=5.6331e-24): result may not be accurate.\n",
      "  return linalg.solve(A, Xy, assume_a=\"pos\", overwrite_a=True).T\n"
     ]
    },
    {
     "name": "stdout",
     "output_type": "stream",
     "text": [
      "Fitting estimator with 147 features.\n"
     ]
    },
    {
     "name": "stderr",
     "output_type": "stream",
     "text": [
      "c:\\Users\\ryanm\\Desktop\\Portfolio-Proj-WK\\DL-Strategies\\DL-Strat\\Lib\\site-packages\\sklearn\\linear_model\\_ridge.py:216: LinAlgWarning: Ill-conditioned matrix (rcond=5.63291e-24): result may not be accurate.\n",
      "  return linalg.solve(A, Xy, assume_a=\"pos\", overwrite_a=True).T\n"
     ]
    },
    {
     "name": "stdout",
     "output_type": "stream",
     "text": [
      "Fitting estimator with 146 features.\n"
     ]
    },
    {
     "name": "stderr",
     "output_type": "stream",
     "text": [
      "c:\\Users\\ryanm\\Desktop\\Portfolio-Proj-WK\\DL-Strategies\\DL-Strat\\Lib\\site-packages\\sklearn\\linear_model\\_ridge.py:216: LinAlgWarning: Ill-conditioned matrix (rcond=5.63291e-24): result may not be accurate.\n",
      "  return linalg.solve(A, Xy, assume_a=\"pos\", overwrite_a=True).T\n"
     ]
    },
    {
     "name": "stdout",
     "output_type": "stream",
     "text": [
      "Fitting estimator with 145 features.\n"
     ]
    },
    {
     "name": "stderr",
     "output_type": "stream",
     "text": [
      "c:\\Users\\ryanm\\Desktop\\Portfolio-Proj-WK\\DL-Strategies\\DL-Strat\\Lib\\site-packages\\sklearn\\linear_model\\_ridge.py:216: LinAlgWarning: Ill-conditioned matrix (rcond=5.63293e-24): result may not be accurate.\n",
      "  return linalg.solve(A, Xy, assume_a=\"pos\", overwrite_a=True).T\n"
     ]
    },
    {
     "name": "stdout",
     "output_type": "stream",
     "text": [
      "Fitting estimator with 144 features.\n"
     ]
    },
    {
     "name": "stderr",
     "output_type": "stream",
     "text": [
      "c:\\Users\\ryanm\\Desktop\\Portfolio-Proj-WK\\DL-Strategies\\DL-Strat\\Lib\\site-packages\\sklearn\\linear_model\\_ridge.py:216: LinAlgWarning: Ill-conditioned matrix (rcond=5.63293e-24): result may not be accurate.\n",
      "  return linalg.solve(A, Xy, assume_a=\"pos\", overwrite_a=True).T\n"
     ]
    },
    {
     "name": "stdout",
     "output_type": "stream",
     "text": [
      "Fitting estimator with 143 features.\n"
     ]
    },
    {
     "name": "stderr",
     "output_type": "stream",
     "text": [
      "c:\\Users\\ryanm\\Desktop\\Portfolio-Proj-WK\\DL-Strategies\\DL-Strat\\Lib\\site-packages\\sklearn\\linear_model\\_ridge.py:216: LinAlgWarning: Ill-conditioned matrix (rcond=5.63293e-24): result may not be accurate.\n",
      "  return linalg.solve(A, Xy, assume_a=\"pos\", overwrite_a=True).T\n"
     ]
    },
    {
     "name": "stdout",
     "output_type": "stream",
     "text": [
      "Fitting estimator with 142 features.\n"
     ]
    },
    {
     "name": "stderr",
     "output_type": "stream",
     "text": [
      "c:\\Users\\ryanm\\Desktop\\Portfolio-Proj-WK\\DL-Strategies\\DL-Strat\\Lib\\site-packages\\sklearn\\linear_model\\_ridge.py:216: LinAlgWarning: Ill-conditioned matrix (rcond=5.63293e-24): result may not be accurate.\n",
      "  return linalg.solve(A, Xy, assume_a=\"pos\", overwrite_a=True).T\n"
     ]
    },
    {
     "name": "stdout",
     "output_type": "stream",
     "text": [
      "Fitting estimator with 141 features.\n"
     ]
    },
    {
     "name": "stderr",
     "output_type": "stream",
     "text": [
      "c:\\Users\\ryanm\\Desktop\\Portfolio-Proj-WK\\DL-Strategies\\DL-Strat\\Lib\\site-packages\\sklearn\\linear_model\\_ridge.py:216: LinAlgWarning: Ill-conditioned matrix (rcond=5.63309e-24): result may not be accurate.\n",
      "  return linalg.solve(A, Xy, assume_a=\"pos\", overwrite_a=True).T\n"
     ]
    },
    {
     "name": "stdout",
     "output_type": "stream",
     "text": [
      "Fitting estimator with 140 features.\n"
     ]
    },
    {
     "name": "stderr",
     "output_type": "stream",
     "text": [
      "c:\\Users\\ryanm\\Desktop\\Portfolio-Proj-WK\\DL-Strategies\\DL-Strat\\Lib\\site-packages\\sklearn\\linear_model\\_ridge.py:216: LinAlgWarning: Ill-conditioned matrix (rcond=4.50738e-24): result may not be accurate.\n",
      "  return linalg.solve(A, Xy, assume_a=\"pos\", overwrite_a=True).T\n"
     ]
    },
    {
     "name": "stdout",
     "output_type": "stream",
     "text": [
      "Fitting estimator with 139 features.\n"
     ]
    },
    {
     "name": "stderr",
     "output_type": "stream",
     "text": [
      "c:\\Users\\ryanm\\Desktop\\Portfolio-Proj-WK\\DL-Strategies\\DL-Strat\\Lib\\site-packages\\sklearn\\linear_model\\_ridge.py:216: LinAlgWarning: Ill-conditioned matrix (rcond=4.50738e-24): result may not be accurate.\n",
      "  return linalg.solve(A, Xy, assume_a=\"pos\", overwrite_a=True).T\n"
     ]
    },
    {
     "name": "stdout",
     "output_type": "stream",
     "text": [
      "Fitting estimator with 138 features.\n"
     ]
    },
    {
     "name": "stderr",
     "output_type": "stream",
     "text": [
      "c:\\Users\\ryanm\\Desktop\\Portfolio-Proj-WK\\DL-Strategies\\DL-Strat\\Lib\\site-packages\\sklearn\\linear_model\\_ridge.py:216: LinAlgWarning: Ill-conditioned matrix (rcond=4.50739e-24): result may not be accurate.\n",
      "  return linalg.solve(A, Xy, assume_a=\"pos\", overwrite_a=True).T\n"
     ]
    },
    {
     "name": "stdout",
     "output_type": "stream",
     "text": [
      "Fitting estimator with 137 features.\n"
     ]
    },
    {
     "name": "stderr",
     "output_type": "stream",
     "text": [
      "c:\\Users\\ryanm\\Desktop\\Portfolio-Proj-WK\\DL-Strategies\\DL-Strat\\Lib\\site-packages\\sklearn\\linear_model\\_ridge.py:216: LinAlgWarning: Ill-conditioned matrix (rcond=4.50739e-24): result may not be accurate.\n",
      "  return linalg.solve(A, Xy, assume_a=\"pos\", overwrite_a=True).T\n"
     ]
    },
    {
     "name": "stdout",
     "output_type": "stream",
     "text": [
      "Fitting estimator with 136 features.\n"
     ]
    },
    {
     "name": "stderr",
     "output_type": "stream",
     "text": [
      "c:\\Users\\ryanm\\Desktop\\Portfolio-Proj-WK\\DL-Strategies\\DL-Strat\\Lib\\site-packages\\sklearn\\linear_model\\_ridge.py:216: LinAlgWarning: Ill-conditioned matrix (rcond=5.99785e-24): result may not be accurate.\n",
      "  return linalg.solve(A, Xy, assume_a=\"pos\", overwrite_a=True).T\n"
     ]
    },
    {
     "name": "stdout",
     "output_type": "stream",
     "text": [
      "Fitting estimator with 135 features.\n"
     ]
    },
    {
     "name": "stderr",
     "output_type": "stream",
     "text": [
      "c:\\Users\\ryanm\\Desktop\\Portfolio-Proj-WK\\DL-Strategies\\DL-Strat\\Lib\\site-packages\\sklearn\\linear_model\\_ridge.py:216: LinAlgWarning: Ill-conditioned matrix (rcond=8.96367e-24): result may not be accurate.\n",
      "  return linalg.solve(A, Xy, assume_a=\"pos\", overwrite_a=True).T\n"
     ]
    },
    {
     "name": "stdout",
     "output_type": "stream",
     "text": [
      "Fitting estimator with 134 features.\n"
     ]
    },
    {
     "name": "stderr",
     "output_type": "stream",
     "text": [
      "c:\\Users\\ryanm\\Desktop\\Portfolio-Proj-WK\\DL-Strategies\\DL-Strat\\Lib\\site-packages\\sklearn\\linear_model\\_ridge.py:216: LinAlgWarning: Ill-conditioned matrix (rcond=1.77208e-23): result may not be accurate.\n",
      "  return linalg.solve(A, Xy, assume_a=\"pos\", overwrite_a=True).T\n"
     ]
    },
    {
     "name": "stdout",
     "output_type": "stream",
     "text": [
      "Fitting estimator with 133 features.\n"
     ]
    },
    {
     "name": "stderr",
     "output_type": "stream",
     "text": [
      "c:\\Users\\ryanm\\Desktop\\Portfolio-Proj-WK\\DL-Strategies\\DL-Strat\\Lib\\site-packages\\sklearn\\linear_model\\_ridge.py:216: LinAlgWarning: Ill-conditioned matrix (rcond=4.65085e-21): result may not be accurate.\n",
      "  return linalg.solve(A, Xy, assume_a=\"pos\", overwrite_a=True).T\n"
     ]
    },
    {
     "name": "stdout",
     "output_type": "stream",
     "text": [
      "Fitting estimator with 132 features.\n"
     ]
    },
    {
     "name": "stderr",
     "output_type": "stream",
     "text": [
      "c:\\Users\\ryanm\\Desktop\\Portfolio-Proj-WK\\DL-Strategies\\DL-Strat\\Lib\\site-packages\\sklearn\\linear_model\\_ridge.py:216: LinAlgWarning: Ill-conditioned matrix (rcond=4.64541e-21): result may not be accurate.\n",
      "  return linalg.solve(A, Xy, assume_a=\"pos\", overwrite_a=True).T\n"
     ]
    },
    {
     "name": "stdout",
     "output_type": "stream",
     "text": [
      "Fitting estimator with 131 features.\n"
     ]
    },
    {
     "name": "stderr",
     "output_type": "stream",
     "text": [
      "c:\\Users\\ryanm\\Desktop\\Portfolio-Proj-WK\\DL-Strategies\\DL-Strat\\Lib\\site-packages\\sklearn\\linear_model\\_ridge.py:216: LinAlgWarning: Ill-conditioned matrix (rcond=6.69044e-21): result may not be accurate.\n",
      "  return linalg.solve(A, Xy, assume_a=\"pos\", overwrite_a=True).T\n"
     ]
    },
    {
     "name": "stdout",
     "output_type": "stream",
     "text": [
      "Fitting estimator with 130 features.\n"
     ]
    },
    {
     "name": "stderr",
     "output_type": "stream",
     "text": [
      "c:\\Users\\ryanm\\Desktop\\Portfolio-Proj-WK\\DL-Strategies\\DL-Strat\\Lib\\site-packages\\sklearn\\linear_model\\_ridge.py:216: LinAlgWarning: Ill-conditioned matrix (rcond=1.40446e-20): result may not be accurate.\n",
      "  return linalg.solve(A, Xy, assume_a=\"pos\", overwrite_a=True).T\n"
     ]
    },
    {
     "name": "stdout",
     "output_type": "stream",
     "text": [
      "Fitting estimator with 129 features.\n",
      "Fitting estimator with 128 features.\n",
      "Fitting estimator with 127 features.\n",
      "Fitting estimator with 126 features.\n",
      "Fitting estimator with 125 features.\n",
      "Fitting estimator with 124 features.\n",
      "Fitting estimator with 123 features.\n",
      "Fitting estimator with 122 features.\n",
      "Fitting estimator with 121 features.\n",
      "Fitting estimator with 120 features.\n",
      "Fitting estimator with 119 features.\n",
      "Fitting estimator with 118 features.\n",
      "Fitting estimator with 117 features.\n",
      "Fitting estimator with 116 features.\n",
      "Fitting estimator with 115 features.\n",
      "Fitting estimator with 114 features.\n",
      "Fitting estimator with 113 features.\n",
      "Fitting estimator with 112 features.\n",
      "Fitting estimator with 111 features.\n",
      "Fitting estimator with 110 features.\n",
      "Fitting estimator with 109 features.\n",
      "Fitting estimator with 108 features.\n",
      "Fitting estimator with 107 features.\n",
      "Fitting estimator with 106 features.\n",
      "Fitting estimator with 105 features.\n",
      "Fitting estimator with 104 features.\n",
      "Fitting estimator with 103 features.\n",
      "Fitting estimator with 102 features.\n",
      "Fitting estimator with 101 features.\n",
      "Fitting estimator with 100 features.\n",
      "Fitting estimator with 99 features.\n",
      "Fitting estimator with 98 features.\n",
      "Fitting estimator with 97 features.\n",
      "Fitting estimator with 96 features.\n",
      "Fitting estimator with 95 features.\n",
      "Fitting estimator with 94 features.\n",
      "Fitting estimator with 93 features.\n",
      "Fitting estimator with 92 features.\n",
      "Fitting estimator with 91 features.\n",
      "Fitting estimator with 90 features.\n",
      "Fitting estimator with 89 features.\n",
      "Fitting estimator with 88 features.\n",
      "Fitting estimator with 87 features.\n",
      "Fitting estimator with 86 features.\n",
      "Fitting estimator with 85 features.\n",
      "Fitting estimator with 84 features.\n",
      "Fitting estimator with 83 features.\n",
      "Fitting estimator with 82 features.\n",
      "Fitting estimator with 81 features.\n",
      "Fitting estimator with 80 features.\n",
      "Fitting estimator with 79 features.\n",
      "Fitting estimator with 78 features.\n",
      "Fitting estimator with 77 features.\n",
      "Fitting estimator with 76 features.\n",
      "Fitting estimator with 75 features.\n",
      "Fitting estimator with 74 features.\n",
      "Fitting estimator with 73 features.\n",
      "Fitting estimator with 72 features.\n",
      "Fitting estimator with 71 features.\n",
      "Fitting estimator with 70 features.\n",
      "Fitting estimator with 69 features.\n",
      "Fitting estimator with 68 features.\n",
      "Fitting estimator with 67 features.\n",
      "Fitting estimator with 66 features.\n",
      "Fitting estimator with 65 features.\n",
      "Fitting estimator with 64 features.\n",
      "Fitting estimator with 63 features.\n",
      "Fitting estimator with 62 features.\n",
      "Fitting estimator with 61 features.\n",
      "Fitting estimator with 60 features.\n",
      "Fitting estimator with 59 features.\n",
      "Fitting estimator with 58 features.\n",
      "Fitting estimator with 57 features.\n",
      "Fitting estimator with 56 features.\n",
      "Fitting estimator with 55 features.\n",
      "Fitting estimator with 54 features.\n",
      "Fitting estimator with 53 features.\n",
      "Fitting estimator with 52 features.\n",
      "Fitting estimator with 51 features.\n",
      "Fitting estimator with 50 features.\n",
      "Fitting estimator with 49 features.\n",
      "Fitting estimator with 48 features.\n",
      "Fitting estimator with 47 features.\n",
      "Fitting estimator with 46 features.\n",
      "Fitting estimator with 45 features.\n",
      "Fitting estimator with 44 features.\n",
      "Fitting estimator with 43 features.\n",
      "Fitting estimator with 42 features.\n",
      "Fitting estimator with 41 features.\n",
      "Fitting estimator with 40 features.\n",
      "Fitting estimator with 39 features.\n",
      "Fitting estimator with 38 features.\n",
      "Fitting estimator with 37 features.\n",
      "Fitting estimator with 36 features.\n",
      "Fitting estimator with 35 features.\n",
      "Fitting estimator with 34 features.\n",
      "Fitting estimator with 33 features.\n",
      "Fitting estimator with 32 features.\n",
      "Fitting estimator with 31 features.\n",
      "Fitting estimator with 30 features.\n",
      "Fitting estimator with 29 features.\n",
      "Fitting estimator with 28 features.\n",
      "Fitting estimator with 27 features.\n",
      "Fitting estimator with 26 features.\n",
      "Fitting estimator with 25 features.\n",
      "Fitting estimator with 24 features.\n",
      "Fitting estimator with 23 features.\n",
      "Fitting estimator with 22 features.\n",
      "Fitting estimator with 21 features.\n",
      "Fitting estimator with 20 features.\n",
      "Fitting estimator with 19 features.\n",
      "Fitting estimator with 18 features.\n",
      "Fitting estimator with 17 features.\n",
      "Fitting estimator with 16 features.\n",
      "Fitting estimator with 15 features.\n",
      "Fitting estimator with 14 features.\n",
      "Fitting estimator with 13 features.\n",
      "Fitting estimator with 12 features.\n",
      "Fitting estimator with 11 features.\n",
      "Fitting estimator with 10 features.\n",
      "Fitting estimator with 9 features.\n",
      "Fitting estimator with 8 features.\n",
      "Fitting estimator with 7 features.\n",
      "Fitting estimator with 6 features.\n",
      "Fitting estimator with 5 features.\n",
      "Fitting estimator with 4 features.\n",
      "Fitting estimator with 3 features.\n",
      "Fitting estimator with 2 features.\n",
      "Fitting estimator with 151 features.\n"
     ]
    },
    {
     "name": "stderr",
     "output_type": "stream",
     "text": [
      "c:\\Users\\ryanm\\Desktop\\Portfolio-Proj-WK\\DL-Strategies\\DL-Strat\\Lib\\site-packages\\sklearn\\linear_model\\_ridge.py:216: LinAlgWarning: Ill-conditioned matrix (rcond=4.51303e-24): result may not be accurate.\n",
      "  return linalg.solve(A, Xy, assume_a=\"pos\", overwrite_a=True).T\n"
     ]
    },
    {
     "name": "stdout",
     "output_type": "stream",
     "text": [
      "Fitting estimator with 150 features.\n"
     ]
    },
    {
     "name": "stderr",
     "output_type": "stream",
     "text": [
      "c:\\Users\\ryanm\\Desktop\\Portfolio-Proj-WK\\DL-Strategies\\DL-Strat\\Lib\\site-packages\\sklearn\\linear_model\\_ridge.py:216: LinAlgWarning: Ill-conditioned matrix (rcond=4.51722e-24): result may not be accurate.\n",
      "  return linalg.solve(A, Xy, assume_a=\"pos\", overwrite_a=True).T\n"
     ]
    },
    {
     "name": "stdout",
     "output_type": "stream",
     "text": [
      "Fitting estimator with 149 features.\n"
     ]
    },
    {
     "name": "stderr",
     "output_type": "stream",
     "text": [
      "c:\\Users\\ryanm\\Desktop\\Portfolio-Proj-WK\\DL-Strategies\\DL-Strat\\Lib\\site-packages\\sklearn\\linear_model\\_ridge.py:216: LinAlgWarning: Ill-conditioned matrix (rcond=5.63708e-24): result may not be accurate.\n",
      "  return linalg.solve(A, Xy, assume_a=\"pos\", overwrite_a=True).T\n"
     ]
    },
    {
     "name": "stdout",
     "output_type": "stream",
     "text": [
      "Fitting estimator with 148 features.\n"
     ]
    },
    {
     "name": "stderr",
     "output_type": "stream",
     "text": [
      "c:\\Users\\ryanm\\Desktop\\Portfolio-Proj-WK\\DL-Strategies\\DL-Strat\\Lib\\site-packages\\sklearn\\linear_model\\_ridge.py:216: LinAlgWarning: Ill-conditioned matrix (rcond=5.63867e-24): result may not be accurate.\n",
      "  return linalg.solve(A, Xy, assume_a=\"pos\", overwrite_a=True).T\n"
     ]
    },
    {
     "name": "stdout",
     "output_type": "stream",
     "text": [
      "Fitting estimator with 147 features.\n"
     ]
    },
    {
     "name": "stderr",
     "output_type": "stream",
     "text": [
      "c:\\Users\\ryanm\\Desktop\\Portfolio-Proj-WK\\DL-Strategies\\DL-Strat\\Lib\\site-packages\\sklearn\\linear_model\\_ridge.py:216: LinAlgWarning: Ill-conditioned matrix (rcond=5.63867e-24): result may not be accurate.\n",
      "  return linalg.solve(A, Xy, assume_a=\"pos\", overwrite_a=True).T\n"
     ]
    },
    {
     "name": "stdout",
     "output_type": "stream",
     "text": [
      "Fitting estimator with 146 features.\n"
     ]
    },
    {
     "name": "stderr",
     "output_type": "stream",
     "text": [
      "c:\\Users\\ryanm\\Desktop\\Portfolio-Proj-WK\\DL-Strategies\\DL-Strat\\Lib\\site-packages\\sklearn\\linear_model\\_ridge.py:216: LinAlgWarning: Ill-conditioned matrix (rcond=7.50308e-24): result may not be accurate.\n",
      "  return linalg.solve(A, Xy, assume_a=\"pos\", overwrite_a=True).T\n"
     ]
    },
    {
     "name": "stdout",
     "output_type": "stream",
     "text": [
      "Fitting estimator with 145 features.\n"
     ]
    },
    {
     "name": "stderr",
     "output_type": "stream",
     "text": [
      "c:\\Users\\ryanm\\Desktop\\Portfolio-Proj-WK\\DL-Strategies\\DL-Strat\\Lib\\site-packages\\sklearn\\linear_model\\_ridge.py:216: LinAlgWarning: Ill-conditioned matrix (rcond=1.12118e-23): result may not be accurate.\n",
      "  return linalg.solve(A, Xy, assume_a=\"pos\", overwrite_a=True).T\n"
     ]
    },
    {
     "name": "stdout",
     "output_type": "stream",
     "text": [
      "Fitting estimator with 144 features.\n"
     ]
    },
    {
     "name": "stderr",
     "output_type": "stream",
     "text": [
      "c:\\Users\\ryanm\\Desktop\\Portfolio-Proj-WK\\DL-Strategies\\DL-Strat\\Lib\\site-packages\\sklearn\\linear_model\\_ridge.py:216: LinAlgWarning: Ill-conditioned matrix (rcond=2.216e-23): result may not be accurate.\n",
      "  return linalg.solve(A, Xy, assume_a=\"pos\", overwrite_a=True).T\n"
     ]
    },
    {
     "name": "stdout",
     "output_type": "stream",
     "text": [
      "Fitting estimator with 143 features.\n"
     ]
    },
    {
     "name": "stderr",
     "output_type": "stream",
     "text": [
      "c:\\Users\\ryanm\\Desktop\\Portfolio-Proj-WK\\DL-Strategies\\DL-Strat\\Lib\\site-packages\\sklearn\\linear_model\\_ridge.py:216: LinAlgWarning: Ill-conditioned matrix (rcond=4.66525e-21): result may not be accurate.\n",
      "  return linalg.solve(A, Xy, assume_a=\"pos\", overwrite_a=True).T\n"
     ]
    },
    {
     "name": "stdout",
     "output_type": "stream",
     "text": [
      "Fitting estimator with 142 features.\n"
     ]
    },
    {
     "name": "stderr",
     "output_type": "stream",
     "text": [
      "c:\\Users\\ryanm\\Desktop\\Portfolio-Proj-WK\\DL-Strategies\\DL-Strat\\Lib\\site-packages\\sklearn\\linear_model\\_ridge.py:216: LinAlgWarning: Ill-conditioned matrix (rcond=6.13687e-21): result may not be accurate.\n",
      "  return linalg.solve(A, Xy, assume_a=\"pos\", overwrite_a=True).T\n"
     ]
    },
    {
     "name": "stdout",
     "output_type": "stream",
     "text": [
      "Fitting estimator with 141 features.\n"
     ]
    },
    {
     "name": "stderr",
     "output_type": "stream",
     "text": [
      "c:\\Users\\ryanm\\Desktop\\Portfolio-Proj-WK\\DL-Strategies\\DL-Strat\\Lib\\site-packages\\sklearn\\linear_model\\_ridge.py:216: LinAlgWarning: Ill-conditioned matrix (rcond=6.84113e-21): result may not be accurate.\n",
      "  return linalg.solve(A, Xy, assume_a=\"pos\", overwrite_a=True).T\n"
     ]
    },
    {
     "name": "stdout",
     "output_type": "stream",
     "text": [
      "Fitting estimator with 140 features.\n"
     ]
    },
    {
     "name": "stderr",
     "output_type": "stream",
     "text": [
      "c:\\Users\\ryanm\\Desktop\\Portfolio-Proj-WK\\DL-Strategies\\DL-Strat\\Lib\\site-packages\\sklearn\\linear_model\\_ridge.py:216: LinAlgWarning: Ill-conditioned matrix (rcond=1.89637e-20): result may not be accurate.\n",
      "  return linalg.solve(A, Xy, assume_a=\"pos\", overwrite_a=True).T\n"
     ]
    },
    {
     "name": "stdout",
     "output_type": "stream",
     "text": [
      "Fitting estimator with 139 features.\n",
      "Fitting estimator with 138 features.\n",
      "Fitting estimator with 137 features.\n",
      "Fitting estimator with 136 features.\n",
      "Fitting estimator with 135 features.\n",
      "Fitting estimator with 134 features.\n",
      "Fitting estimator with 133 features.\n",
      "Fitting estimator with 132 features.\n",
      "Fitting estimator with 131 features.\n",
      "Fitting estimator with 130 features.\n",
      "Fitting estimator with 129 features.\n",
      "Fitting estimator with 128 features.\n",
      "Fitting estimator with 127 features.\n",
      "Fitting estimator with 126 features.\n",
      "Fitting estimator with 125 features.\n",
      "Fitting estimator with 124 features.\n",
      "Fitting estimator with 123 features.\n",
      "Fitting estimator with 122 features.\n",
      "Fitting estimator with 121 features.\n",
      "Fitting estimator with 120 features.\n",
      "Fitting estimator with 119 features.\n",
      "Fitting estimator with 118 features.\n",
      "Fitting estimator with 117 features.\n",
      "Fitting estimator with 116 features.\n",
      "Fitting estimator with 115 features.\n",
      "Fitting estimator with 114 features.\n",
      "Fitting estimator with 113 features.\n",
      "Fitting estimator with 112 features.\n",
      "Fitting estimator with 111 features.\n",
      "Fitting estimator with 110 features.\n",
      "Fitting estimator with 109 features.\n",
      "Fitting estimator with 108 features.\n",
      "Fitting estimator with 107 features.\n",
      "Fitting estimator with 106 features.\n",
      "Fitting estimator with 105 features.\n",
      "Fitting estimator with 104 features.\n",
      "Fitting estimator with 103 features.\n",
      "Fitting estimator with 102 features.\n",
      "Fitting estimator with 101 features.\n",
      "Fitting estimator with 100 features.\n",
      "Fitting estimator with 99 features.\n",
      "Fitting estimator with 98 features.\n",
      "Fitting estimator with 97 features.\n",
      "Fitting estimator with 96 features.\n",
      "Fitting estimator with 95 features.\n",
      "Fitting estimator with 94 features.\n",
      "Fitting estimator with 93 features.\n",
      "Fitting estimator with 92 features.\n",
      "Fitting estimator with 91 features.\n",
      "Fitting estimator with 90 features.\n",
      "Fitting estimator with 89 features.\n",
      "Fitting estimator with 88 features.\n",
      "Fitting estimator with 87 features.\n",
      "Fitting estimator with 86 features.\n",
      "Fitting estimator with 85 features.\n",
      "Fitting estimator with 84 features.\n",
      "Fitting estimator with 83 features.\n",
      "Fitting estimator with 82 features.\n",
      "Fitting estimator with 81 features.\n",
      "Fitting estimator with 80 features.\n",
      "Fitting estimator with 79 features.\n",
      "Fitting estimator with 78 features.\n",
      "Fitting estimator with 77 features.\n",
      "Fitting estimator with 76 features.\n",
      "Fitting estimator with 75 features.\n",
      "Fitting estimator with 74 features.\n",
      "Fitting estimator with 73 features.\n",
      "Fitting estimator with 72 features.\n",
      "Fitting estimator with 71 features.\n",
      "Fitting estimator with 70 features.\n",
      "Fitting estimator with 69 features.\n",
      "Fitting estimator with 68 features.\n",
      "Fitting estimator with 67 features.\n",
      "Fitting estimator with 66 features.\n",
      "Fitting estimator with 65 features.\n",
      "Fitting estimator with 64 features.\n",
      "Fitting estimator with 63 features.\n",
      "Fitting estimator with 62 features.\n",
      "Fitting estimator with 61 features.\n",
      "Fitting estimator with 60 features.\n",
      "Fitting estimator with 59 features.\n",
      "Fitting estimator with 58 features.\n",
      "Fitting estimator with 57 features.\n",
      "Fitting estimator with 56 features.\n",
      "Fitting estimator with 55 features.\n",
      "Fitting estimator with 54 features.\n",
      "Fitting estimator with 53 features.\n",
      "Fitting estimator with 52 features.\n",
      "Fitting estimator with 51 features.\n",
      "Fitting estimator with 50 features.\n",
      "Fitting estimator with 49 features.\n",
      "Fitting estimator with 48 features.\n",
      "Fitting estimator with 47 features.\n",
      "Fitting estimator with 46 features.\n",
      "Fitting estimator with 45 features.\n",
      "Fitting estimator with 44 features.\n",
      "Fitting estimator with 43 features.\n",
      "Fitting estimator with 42 features.\n",
      "Fitting estimator with 41 features.\n",
      "Fitting estimator with 40 features.\n",
      "Fitting estimator with 39 features.\n",
      "Fitting estimator with 38 features.\n",
      "Fitting estimator with 37 features.\n",
      "Fitting estimator with 36 features.\n",
      "Fitting estimator with 35 features.\n",
      "Fitting estimator with 34 features.\n",
      "Fitting estimator with 33 features.\n",
      "Fitting estimator with 32 features.\n",
      "Fitting estimator with 31 features.\n",
      "Fitting estimator with 30 features.\n",
      "Fitting estimator with 29 features.\n",
      "Fitting estimator with 28 features.\n",
      "Fitting estimator with 27 features.\n",
      "Fitting estimator with 26 features.\n",
      "Fitting estimator with 25 features.\n",
      "Fitting estimator with 24 features.\n",
      "Fitting estimator with 23 features.\n",
      "Fitting estimator with 22 features.\n",
      "Fitting estimator with 21 features.\n",
      "Fitting estimator with 20 features.\n",
      "Fitting estimator with 19 features.\n",
      "Fitting estimator with 18 features.\n",
      "Fitting estimator with 17 features.\n",
      "Fitting estimator with 16 features.\n",
      "Fitting estimator with 15 features.\n",
      "Fitting estimator with 14 features.\n",
      "Fitting estimator with 13 features.\n",
      "Fitting estimator with 12 features.\n",
      "Fitting estimator with 11 features.\n",
      "Fitting estimator with 10 features.\n",
      "Fitting estimator with 9 features.\n",
      "Fitting estimator with 8 features.\n",
      "Fitting estimator with 7 features.\n",
      "Fitting estimator with 6 features.\n",
      "Fitting estimator with 5 features.\n",
      "Fitting estimator with 4 features.\n",
      "Fitting estimator with 3 features.\n",
      "Fitting estimator with 2 features.\n",
      "Fitting estimator with 151 features.\n",
      "Fitting estimator with 150 features.\n",
      "Fitting estimator with 149 features.\n",
      "Fitting estimator with 148 features.\n",
      "Fitting estimator with 147 features.\n"
     ]
    },
    {
     "name": "stderr",
     "output_type": "stream",
     "text": [
      "c:\\Users\\ryanm\\Desktop\\Portfolio-Proj-WK\\DL-Strategies\\DL-Strat\\Lib\\site-packages\\sklearn\\linear_model\\_ridge.py:216: LinAlgWarning: Ill-conditioned matrix (rcond=7.55138e-24): result may not be accurate.\n",
      "  return linalg.solve(A, Xy, assume_a=\"pos\", overwrite_a=True).T\n"
     ]
    },
    {
     "name": "stdout",
     "output_type": "stream",
     "text": [
      "Fitting estimator with 146 features.\n"
     ]
    },
    {
     "name": "stderr",
     "output_type": "stream",
     "text": [
      "c:\\Users\\ryanm\\Desktop\\Portfolio-Proj-WK\\DL-Strategies\\DL-Strat\\Lib\\site-packages\\sklearn\\linear_model\\_ridge.py:216: LinAlgWarning: Ill-conditioned matrix (rcond=1.12957e-23): result may not be accurate.\n",
      "  return linalg.solve(A, Xy, assume_a=\"pos\", overwrite_a=True).T\n"
     ]
    },
    {
     "name": "stdout",
     "output_type": "stream",
     "text": [
      "Fitting estimator with 145 features.\n"
     ]
    },
    {
     "name": "stderr",
     "output_type": "stream",
     "text": [
      "c:\\Users\\ryanm\\Desktop\\Portfolio-Proj-WK\\DL-Strategies\\DL-Strat\\Lib\\site-packages\\sklearn\\linear_model\\_ridge.py:216: LinAlgWarning: Ill-conditioned matrix (rcond=2.23495e-23): result may not be accurate.\n",
      "  return linalg.solve(A, Xy, assume_a=\"pos\", overwrite_a=True).T\n"
     ]
    },
    {
     "name": "stdout",
     "output_type": "stream",
     "text": [
      "Fitting estimator with 144 features.\n"
     ]
    },
    {
     "name": "stderr",
     "output_type": "stream",
     "text": [
      "c:\\Users\\ryanm\\Desktop\\Portfolio-Proj-WK\\DL-Strategies\\DL-Strat\\Lib\\site-packages\\sklearn\\linear_model\\_ridge.py:216: LinAlgWarning: Ill-conditioned matrix (rcond=4.67822e-21): result may not be accurate.\n",
      "  return linalg.solve(A, Xy, assume_a=\"pos\", overwrite_a=True).T\n"
     ]
    },
    {
     "name": "stdout",
     "output_type": "stream",
     "text": [
      "Fitting estimator with 143 features.\n"
     ]
    },
    {
     "name": "stderr",
     "output_type": "stream",
     "text": [
      "c:\\Users\\ryanm\\Desktop\\Portfolio-Proj-WK\\DL-Strategies\\DL-Strat\\Lib\\site-packages\\sklearn\\linear_model\\_ridge.py:216: LinAlgWarning: Ill-conditioned matrix (rcond=4.59543e-21): result may not be accurate.\n",
      "  return linalg.solve(A, Xy, assume_a=\"pos\", overwrite_a=True).T\n"
     ]
    },
    {
     "name": "stdout",
     "output_type": "stream",
     "text": [
      "Fitting estimator with 142 features.\n"
     ]
    },
    {
     "name": "stderr",
     "output_type": "stream",
     "text": [
      "c:\\Users\\ryanm\\Desktop\\Portfolio-Proj-WK\\DL-Strategies\\DL-Strat\\Lib\\site-packages\\sklearn\\linear_model\\_ridge.py:216: LinAlgWarning: Ill-conditioned matrix (rcond=6.77375e-21): result may not be accurate.\n",
      "  return linalg.solve(A, Xy, assume_a=\"pos\", overwrite_a=True).T\n"
     ]
    },
    {
     "name": "stdout",
     "output_type": "stream",
     "text": [
      "Fitting estimator with 141 features.\n"
     ]
    },
    {
     "name": "stderr",
     "output_type": "stream",
     "text": [
      "c:\\Users\\ryanm\\Desktop\\Portfolio-Proj-WK\\DL-Strategies\\DL-Strat\\Lib\\site-packages\\sklearn\\linear_model\\_ridge.py:216: LinAlgWarning: Ill-conditioned matrix (rcond=1.4103e-20): result may not be accurate.\n",
      "  return linalg.solve(A, Xy, assume_a=\"pos\", overwrite_a=True).T\n"
     ]
    },
    {
     "name": "stdout",
     "output_type": "stream",
     "text": [
      "Fitting estimator with 140 features.\n",
      "Fitting estimator with 139 features.\n",
      "Fitting estimator with 138 features.\n",
      "Fitting estimator with 137 features.\n",
      "Fitting estimator with 136 features.\n",
      "Fitting estimator with 135 features.\n",
      "Fitting estimator with 134 features.\n",
      "Fitting estimator with 133 features.\n",
      "Fitting estimator with 132 features.\n",
      "Fitting estimator with 131 features.\n",
      "Fitting estimator with 130 features.\n",
      "Fitting estimator with 129 features.\n",
      "Fitting estimator with 128 features.\n",
      "Fitting estimator with 127 features.\n",
      "Fitting estimator with 126 features.\n",
      "Fitting estimator with 125 features.\n",
      "Fitting estimator with 124 features.\n",
      "Fitting estimator with 123 features.\n",
      "Fitting estimator with 122 features.\n",
      "Fitting estimator with 121 features.\n",
      "Fitting estimator with 120 features.\n",
      "Fitting estimator with 119 features.\n",
      "Fitting estimator with 118 features.\n",
      "Fitting estimator with 117 features.\n",
      "Fitting estimator with 116 features.\n",
      "Fitting estimator with 115 features.\n",
      "Fitting estimator with 114 features.\n",
      "Fitting estimator with 113 features.\n",
      "Fitting estimator with 112 features.\n",
      "Fitting estimator with 111 features.\n",
      "Fitting estimator with 110 features.\n",
      "Fitting estimator with 109 features.\n",
      "Fitting estimator with 108 features.\n",
      "Fitting estimator with 107 features.\n",
      "Fitting estimator with 106 features.\n",
      "Fitting estimator with 105 features.\n",
      "Fitting estimator with 104 features.\n",
      "Fitting estimator with 103 features.\n",
      "Fitting estimator with 102 features.\n",
      "Fitting estimator with 101 features.\n",
      "Fitting estimator with 100 features.\n",
      "Fitting estimator with 99 features.\n",
      "Fitting estimator with 98 features.\n",
      "Fitting estimator with 97 features.\n",
      "Fitting estimator with 96 features.\n",
      "Fitting estimator with 95 features.\n",
      "Fitting estimator with 94 features.\n",
      "Fitting estimator with 93 features.\n",
      "Fitting estimator with 92 features.\n",
      "Fitting estimator with 91 features.\n",
      "Fitting estimator with 90 features.\n",
      "Fitting estimator with 89 features.\n",
      "Fitting estimator with 88 features.\n",
      "Fitting estimator with 87 features.\n",
      "Fitting estimator with 86 features.\n",
      "Fitting estimator with 85 features.\n",
      "Fitting estimator with 84 features.\n",
      "Fitting estimator with 83 features.\n",
      "Fitting estimator with 82 features.\n",
      "Fitting estimator with 81 features.\n",
      "Fitting estimator with 80 features.\n",
      "Fitting estimator with 79 features.\n",
      "Fitting estimator with 78 features.\n",
      "Fitting estimator with 77 features.\n",
      "Fitting estimator with 76 features.\n",
      "Fitting estimator with 75 features.\n",
      "Fitting estimator with 74 features.\n",
      "Fitting estimator with 73 features.\n",
      "Fitting estimator with 72 features.\n",
      "Fitting estimator with 71 features.\n",
      "Fitting estimator with 70 features.\n",
      "Fitting estimator with 69 features.\n",
      "Fitting estimator with 68 features.\n",
      "Fitting estimator with 67 features.\n",
      "Fitting estimator with 66 features.\n",
      "Fitting estimator with 65 features.\n",
      "Fitting estimator with 64 features.\n",
      "Fitting estimator with 63 features.\n",
      "Fitting estimator with 62 features.\n",
      "Fitting estimator with 61 features.\n",
      "Fitting estimator with 60 features.\n",
      "Fitting estimator with 59 features.\n",
      "Fitting estimator with 58 features.\n",
      "Fitting estimator with 57 features.\n",
      "Fitting estimator with 56 features.\n",
      "Fitting estimator with 55 features.\n",
      "Fitting estimator with 54 features.\n",
      "Fitting estimator with 53 features.\n",
      "Fitting estimator with 52 features.\n",
      "Fitting estimator with 51 features.\n",
      "Fitting estimator with 50 features.\n",
      "Fitting estimator with 49 features.\n",
      "Fitting estimator with 48 features.\n",
      "Fitting estimator with 47 features.\n",
      "Fitting estimator with 46 features.\n",
      "Fitting estimator with 45 features.\n",
      "Fitting estimator with 44 features.\n",
      "Fitting estimator with 43 features.\n",
      "Fitting estimator with 42 features.\n",
      "Fitting estimator with 41 features.\n",
      "Fitting estimator with 40 features.\n",
      "Fitting estimator with 39 features.\n",
      "Fitting estimator with 38 features.\n",
      "Fitting estimator with 37 features.\n",
      "Fitting estimator with 36 features.\n",
      "Fitting estimator with 35 features.\n",
      "Fitting estimator with 34 features.\n",
      "Fitting estimator with 33 features.\n",
      "Fitting estimator with 32 features.\n",
      "Fitting estimator with 31 features.\n",
      "Fitting estimator with 30 features.\n",
      "Fitting estimator with 29 features.\n",
      "Fitting estimator with 28 features.\n",
      "Fitting estimator with 27 features.\n",
      "Fitting estimator with 26 features.\n",
      "Fitting estimator with 25 features.\n",
      "Fitting estimator with 24 features.\n",
      "Fitting estimator with 23 features.\n",
      "Fitting estimator with 22 features.\n",
      "Fitting estimator with 21 features.\n",
      "Fitting estimator with 20 features.\n",
      "Fitting estimator with 19 features.\n",
      "Fitting estimator with 18 features.\n",
      "Fitting estimator with 17 features.\n",
      "Fitting estimator with 16 features.\n",
      "Fitting estimator with 15 features.\n",
      "Fitting estimator with 14 features.\n",
      "Fitting estimator with 13 features.\n",
      "Fitting estimator with 12 features.\n",
      "Fitting estimator with 11 features.\n",
      "Fitting estimator with 10 features.\n",
      "Fitting estimator with 9 features.\n",
      "Fitting estimator with 8 features.\n",
      "Fitting estimator with 7 features.\n",
      "Fitting estimator with 6 features.\n",
      "Fitting estimator with 5 features.\n",
      "Fitting estimator with 4 features.\n",
      "Fitting estimator with 3 features.\n",
      "Fitting estimator with 2 features.\n",
      "Fitting estimator with 151 features.\n"
     ]
    },
    {
     "name": "stderr",
     "output_type": "stream",
     "text": [
      "c:\\Users\\ryanm\\Desktop\\Portfolio-Proj-WK\\DL-Strategies\\DL-Strat\\Lib\\site-packages\\sklearn\\linear_model\\_ridge.py:216: LinAlgWarning: Ill-conditioned matrix (rcond=4.42e-24): result may not be accurate.\n",
      "  return linalg.solve(A, Xy, assume_a=\"pos\", overwrite_a=True).T\n"
     ]
    },
    {
     "name": "stdout",
     "output_type": "stream",
     "text": [
      "Fitting estimator with 150 features.\n"
     ]
    },
    {
     "name": "stderr",
     "output_type": "stream",
     "text": [
      "c:\\Users\\ryanm\\Desktop\\Portfolio-Proj-WK\\DL-Strategies\\DL-Strat\\Lib\\site-packages\\sklearn\\linear_model\\_ridge.py:216: LinAlgWarning: Ill-conditioned matrix (rcond=4.42421e-24): result may not be accurate.\n",
      "  return linalg.solve(A, Xy, assume_a=\"pos\", overwrite_a=True).T\n"
     ]
    },
    {
     "name": "stdout",
     "output_type": "stream",
     "text": [
      "Fitting estimator with 149 features.\n"
     ]
    },
    {
     "name": "stderr",
     "output_type": "stream",
     "text": [
      "c:\\Users\\ryanm\\Desktop\\Portfolio-Proj-WK\\DL-Strategies\\DL-Strat\\Lib\\site-packages\\sklearn\\linear_model\\_ridge.py:216: LinAlgWarning: Ill-conditioned matrix (rcond=4.42523e-24): result may not be accurate.\n",
      "  return linalg.solve(A, Xy, assume_a=\"pos\", overwrite_a=True).T\n"
     ]
    },
    {
     "name": "stdout",
     "output_type": "stream",
     "text": [
      "Fitting estimator with 148 features.\n"
     ]
    },
    {
     "name": "stderr",
     "output_type": "stream",
     "text": [
      "c:\\Users\\ryanm\\Desktop\\Portfolio-Proj-WK\\DL-Strategies\\DL-Strat\\Lib\\site-packages\\sklearn\\linear_model\\_ridge.py:216: LinAlgWarning: Ill-conditioned matrix (rcond=5.52302e-24): result may not be accurate.\n",
      "  return linalg.solve(A, Xy, assume_a=\"pos\", overwrite_a=True).T\n"
     ]
    },
    {
     "name": "stdout",
     "output_type": "stream",
     "text": [
      "Fitting estimator with 147 features.\n"
     ]
    },
    {
     "name": "stderr",
     "output_type": "stream",
     "text": [
      "c:\\Users\\ryanm\\Desktop\\Portfolio-Proj-WK\\DL-Strategies\\DL-Strat\\Lib\\site-packages\\sklearn\\linear_model\\_ridge.py:216: LinAlgWarning: Ill-conditioned matrix (rcond=5.52302e-24): result may not be accurate.\n",
      "  return linalg.solve(A, Xy, assume_a=\"pos\", overwrite_a=True).T\n"
     ]
    },
    {
     "name": "stdout",
     "output_type": "stream",
     "text": [
      "Fitting estimator with 146 features.\n"
     ]
    },
    {
     "name": "stderr",
     "output_type": "stream",
     "text": [
      "c:\\Users\\ryanm\\Desktop\\Portfolio-Proj-WK\\DL-Strategies\\DL-Strat\\Lib\\site-packages\\sklearn\\linear_model\\_ridge.py:216: LinAlgWarning: Ill-conditioned matrix (rcond=5.52302e-24): result may not be accurate.\n",
      "  return linalg.solve(A, Xy, assume_a=\"pos\", overwrite_a=True).T\n"
     ]
    },
    {
     "name": "stdout",
     "output_type": "stream",
     "text": [
      "Fitting estimator with 145 features.\n"
     ]
    },
    {
     "name": "stderr",
     "output_type": "stream",
     "text": [
      "c:\\Users\\ryanm\\Desktop\\Portfolio-Proj-WK\\DL-Strategies\\DL-Strat\\Lib\\site-packages\\sklearn\\linear_model\\_ridge.py:216: LinAlgWarning: Ill-conditioned matrix (rcond=7.34952e-24): result may not be accurate.\n",
      "  return linalg.solve(A, Xy, assume_a=\"pos\", overwrite_a=True).T\n"
     ]
    },
    {
     "name": "stdout",
     "output_type": "stream",
     "text": [
      "Fitting estimator with 144 features.\n"
     ]
    },
    {
     "name": "stderr",
     "output_type": "stream",
     "text": [
      "c:\\Users\\ryanm\\Desktop\\Portfolio-Proj-WK\\DL-Strategies\\DL-Strat\\Lib\\site-packages\\sklearn\\linear_model\\_ridge.py:216: LinAlgWarning: Ill-conditioned matrix (rcond=1.09874e-23): result may not be accurate.\n",
      "  return linalg.solve(A, Xy, assume_a=\"pos\", overwrite_a=True).T\n"
     ]
    },
    {
     "name": "stdout",
     "output_type": "stream",
     "text": [
      "Fitting estimator with 143 features.\n"
     ]
    },
    {
     "name": "stderr",
     "output_type": "stream",
     "text": [
      "c:\\Users\\ryanm\\Desktop\\Portfolio-Proj-WK\\DL-Strategies\\DL-Strat\\Lib\\site-packages\\sklearn\\linear_model\\_ridge.py:216: LinAlgWarning: Ill-conditioned matrix (rcond=1.63029e-23): result may not be accurate.\n",
      "  return linalg.solve(A, Xy, assume_a=\"pos\", overwrite_a=True).T\n"
     ]
    },
    {
     "name": "stdout",
     "output_type": "stream",
     "text": [
      "Fitting estimator with 142 features.\n"
     ]
    },
    {
     "name": "stderr",
     "output_type": "stream",
     "text": [
      "c:\\Users\\ryanm\\Desktop\\Portfolio-Proj-WK\\DL-Strategies\\DL-Strat\\Lib\\site-packages\\sklearn\\linear_model\\_ridge.py:216: LinAlgWarning: Ill-conditioned matrix (rcond=4.6985e-21): result may not be accurate.\n",
      "  return linalg.solve(A, Xy, assume_a=\"pos\", overwrite_a=True).T\n"
     ]
    },
    {
     "name": "stdout",
     "output_type": "stream",
     "text": [
      "Fitting estimator with 141 features.\n"
     ]
    },
    {
     "name": "stderr",
     "output_type": "stream",
     "text": [
      "c:\\Users\\ryanm\\Desktop\\Portfolio-Proj-WK\\DL-Strategies\\DL-Strat\\Lib\\site-packages\\sklearn\\linear_model\\_ridge.py:216: LinAlgWarning: Ill-conditioned matrix (rcond=4.69949e-21): result may not be accurate.\n",
      "  return linalg.solve(A, Xy, assume_a=\"pos\", overwrite_a=True).T\n"
     ]
    },
    {
     "name": "stdout",
     "output_type": "stream",
     "text": [
      "Fitting estimator with 140 features.\n"
     ]
    },
    {
     "name": "stderr",
     "output_type": "stream",
     "text": [
      "c:\\Users\\ryanm\\Desktop\\Portfolio-Proj-WK\\DL-Strategies\\DL-Strat\\Lib\\site-packages\\sklearn\\linear_model\\_ridge.py:216: LinAlgWarning: Ill-conditioned matrix (rcond=3.76005e-21): result may not be accurate.\n",
      "  return linalg.solve(A, Xy, assume_a=\"pos\", overwrite_a=True).T\n"
     ]
    },
    {
     "name": "stdout",
     "output_type": "stream",
     "text": [
      "Fitting estimator with 139 features.\n"
     ]
    },
    {
     "name": "stderr",
     "output_type": "stream",
     "text": [
      "c:\\Users\\ryanm\\Desktop\\Portfolio-Proj-WK\\DL-Strategies\\DL-Strat\\Lib\\site-packages\\sklearn\\linear_model\\_ridge.py:216: LinAlgWarning: Ill-conditioned matrix (rcond=3.76005e-21): result may not be accurate.\n",
      "  return linalg.solve(A, Xy, assume_a=\"pos\", overwrite_a=True).T\n"
     ]
    },
    {
     "name": "stdout",
     "output_type": "stream",
     "text": [
      "Fitting estimator with 138 features.\n"
     ]
    },
    {
     "name": "stderr",
     "output_type": "stream",
     "text": [
      "c:\\Users\\ryanm\\Desktop\\Portfolio-Proj-WK\\DL-Strategies\\DL-Strat\\Lib\\site-packages\\sklearn\\linear_model\\_ridge.py:216: LinAlgWarning: Ill-conditioned matrix (rcond=4.69959e-21): result may not be accurate.\n",
      "  return linalg.solve(A, Xy, assume_a=\"pos\", overwrite_a=True).T\n"
     ]
    },
    {
     "name": "stdout",
     "output_type": "stream",
     "text": [
      "Fitting estimator with 137 features.\n"
     ]
    },
    {
     "name": "stderr",
     "output_type": "stream",
     "text": [
      "c:\\Users\\ryanm\\Desktop\\Portfolio-Proj-WK\\DL-Strategies\\DL-Strat\\Lib\\site-packages\\sklearn\\linear_model\\_ridge.py:216: LinAlgWarning: Ill-conditioned matrix (rcond=4.69959e-21): result may not be accurate.\n",
      "  return linalg.solve(A, Xy, assume_a=\"pos\", overwrite_a=True).T\n"
     ]
    },
    {
     "name": "stdout",
     "output_type": "stream",
     "text": [
      "Fitting estimator with 136 features.\n"
     ]
    },
    {
     "name": "stderr",
     "output_type": "stream",
     "text": [
      "c:\\Users\\ryanm\\Desktop\\Portfolio-Proj-WK\\DL-Strategies\\DL-Strat\\Lib\\site-packages\\sklearn\\linear_model\\_ridge.py:216: LinAlgWarning: Ill-conditioned matrix (rcond=3.76005e-21): result may not be accurate.\n",
      "  return linalg.solve(A, Xy, assume_a=\"pos\", overwrite_a=True).T\n"
     ]
    },
    {
     "name": "stdout",
     "output_type": "stream",
     "text": [
      "Fitting estimator with 135 features.\n"
     ]
    },
    {
     "name": "stderr",
     "output_type": "stream",
     "text": [
      "c:\\Users\\ryanm\\Desktop\\Portfolio-Proj-WK\\DL-Strategies\\DL-Strat\\Lib\\site-packages\\sklearn\\linear_model\\_ridge.py:216: LinAlgWarning: Ill-conditioned matrix (rcond=3.76005e-21): result may not be accurate.\n",
      "  return linalg.solve(A, Xy, assume_a=\"pos\", overwrite_a=True).T\n"
     ]
    },
    {
     "name": "stdout",
     "output_type": "stream",
     "text": [
      "Fitting estimator with 134 features.\n"
     ]
    },
    {
     "name": "stderr",
     "output_type": "stream",
     "text": [
      "c:\\Users\\ryanm\\Desktop\\Portfolio-Proj-WK\\DL-Strategies\\DL-Strat\\Lib\\site-packages\\sklearn\\linear_model\\_ridge.py:216: LinAlgWarning: Ill-conditioned matrix (rcond=4.33865e-21): result may not be accurate.\n",
      "  return linalg.solve(A, Xy, assume_a=\"pos\", overwrite_a=True).T\n"
     ]
    },
    {
     "name": "stdout",
     "output_type": "stream",
     "text": [
      "Fitting estimator with 133 features.\n"
     ]
    },
    {
     "name": "stderr",
     "output_type": "stream",
     "text": [
      "c:\\Users\\ryanm\\Desktop\\Portfolio-Proj-WK\\DL-Strategies\\DL-Strat\\Lib\\site-packages\\sklearn\\linear_model\\_ridge.py:216: LinAlgWarning: Ill-conditioned matrix (rcond=4.33854e-21): result may not be accurate.\n",
      "  return linalg.solve(A, Xy, assume_a=\"pos\", overwrite_a=True).T\n"
     ]
    },
    {
     "name": "stdout",
     "output_type": "stream",
     "text": [
      "Fitting estimator with 132 features.\n"
     ]
    },
    {
     "name": "stderr",
     "output_type": "stream",
     "text": [
      "c:\\Users\\ryanm\\Desktop\\Portfolio-Proj-WK\\DL-Strategies\\DL-Strat\\Lib\\site-packages\\sklearn\\linear_model\\_ridge.py:216: LinAlgWarning: Ill-conditioned matrix (rcond=4.33854e-21): result may not be accurate.\n",
      "  return linalg.solve(A, Xy, assume_a=\"pos\", overwrite_a=True).T\n"
     ]
    },
    {
     "name": "stdout",
     "output_type": "stream",
     "text": [
      "Fitting estimator with 131 features.\n"
     ]
    },
    {
     "name": "stderr",
     "output_type": "stream",
     "text": [
      "c:\\Users\\ryanm\\Desktop\\Portfolio-Proj-WK\\DL-Strategies\\DL-Strat\\Lib\\site-packages\\sklearn\\linear_model\\_ridge.py:216: LinAlgWarning: Ill-conditioned matrix (rcond=4.33853e-21): result may not be accurate.\n",
      "  return linalg.solve(A, Xy, assume_a=\"pos\", overwrite_a=True).T\n"
     ]
    },
    {
     "name": "stdout",
     "output_type": "stream",
     "text": [
      "Fitting estimator with 130 features.\n"
     ]
    },
    {
     "name": "stderr",
     "output_type": "stream",
     "text": [
      "c:\\Users\\ryanm\\Desktop\\Portfolio-Proj-WK\\DL-Strategies\\DL-Strat\\Lib\\site-packages\\sklearn\\linear_model\\_ridge.py:216: LinAlgWarning: Ill-conditioned matrix (rcond=4.33853e-21): result may not be accurate.\n",
      "  return linalg.solve(A, Xy, assume_a=\"pos\", overwrite_a=True).T\n"
     ]
    },
    {
     "name": "stdout",
     "output_type": "stream",
     "text": [
      "Fitting estimator with 129 features.\n"
     ]
    },
    {
     "name": "stderr",
     "output_type": "stream",
     "text": [
      "c:\\Users\\ryanm\\Desktop\\Portfolio-Proj-WK\\DL-Strategies\\DL-Strat\\Lib\\site-packages\\sklearn\\linear_model\\_ridge.py:216: LinAlgWarning: Ill-conditioned matrix (rcond=4.69839e-21): result may not be accurate.\n",
      "  return linalg.solve(A, Xy, assume_a=\"pos\", overwrite_a=True).T\n"
     ]
    },
    {
     "name": "stdout",
     "output_type": "stream",
     "text": [
      "Fitting estimator with 128 features.\n"
     ]
    },
    {
     "name": "stderr",
     "output_type": "stream",
     "text": [
      "c:\\Users\\ryanm\\Desktop\\Portfolio-Proj-WK\\DL-Strategies\\DL-Strat\\Lib\\site-packages\\sklearn\\linear_model\\_ridge.py:216: LinAlgWarning: Ill-conditioned matrix (rcond=4.69839e-21): result may not be accurate.\n",
      "  return linalg.solve(A, Xy, assume_a=\"pos\", overwrite_a=True).T\n"
     ]
    },
    {
     "name": "stdout",
     "output_type": "stream",
     "text": [
      "Fitting estimator with 127 features.\n"
     ]
    },
    {
     "name": "stderr",
     "output_type": "stream",
     "text": [
      "c:\\Users\\ryanm\\Desktop\\Portfolio-Proj-WK\\DL-Strategies\\DL-Strat\\Lib\\site-packages\\sklearn\\linear_model\\_ridge.py:216: LinAlgWarning: Ill-conditioned matrix (rcond=4.69833e-21): result may not be accurate.\n",
      "  return linalg.solve(A, Xy, assume_a=\"pos\", overwrite_a=True).T\n"
     ]
    },
    {
     "name": "stdout",
     "output_type": "stream",
     "text": [
      "Fitting estimator with 126 features.\n"
     ]
    },
    {
     "name": "stderr",
     "output_type": "stream",
     "text": [
      "c:\\Users\\ryanm\\Desktop\\Portfolio-Proj-WK\\DL-Strategies\\DL-Strat\\Lib\\site-packages\\sklearn\\linear_model\\_ridge.py:216: LinAlgWarning: Ill-conditioned matrix (rcond=4.69833e-21): result may not be accurate.\n",
      "  return linalg.solve(A, Xy, assume_a=\"pos\", overwrite_a=True).T\n"
     ]
    },
    {
     "name": "stdout",
     "output_type": "stream",
     "text": [
      "Fitting estimator with 125 features.\n"
     ]
    },
    {
     "name": "stderr",
     "output_type": "stream",
     "text": [
      "c:\\Users\\ryanm\\Desktop\\Portfolio-Proj-WK\\DL-Strategies\\DL-Strat\\Lib\\site-packages\\sklearn\\linear_model\\_ridge.py:216: LinAlgWarning: Ill-conditioned matrix (rcond=4.69833e-21): result may not be accurate.\n",
      "  return linalg.solve(A, Xy, assume_a=\"pos\", overwrite_a=True).T\n"
     ]
    },
    {
     "name": "stdout",
     "output_type": "stream",
     "text": [
      "Fitting estimator with 124 features.\n"
     ]
    },
    {
     "name": "stderr",
     "output_type": "stream",
     "text": [
      "c:\\Users\\ryanm\\Desktop\\Portfolio-Proj-WK\\DL-Strategies\\DL-Strat\\Lib\\site-packages\\sklearn\\linear_model\\_ridge.py:216: LinAlgWarning: Ill-conditioned matrix (rcond=3.52624e-21): result may not be accurate.\n",
      "  return linalg.solve(A, Xy, assume_a=\"pos\", overwrite_a=True).T\n"
     ]
    },
    {
     "name": "stdout",
     "output_type": "stream",
     "text": [
      "Fitting estimator with 123 features.\n"
     ]
    },
    {
     "name": "stderr",
     "output_type": "stream",
     "text": [
      "c:\\Users\\ryanm\\Desktop\\Portfolio-Proj-WK\\DL-Strategies\\DL-Strat\\Lib\\site-packages\\sklearn\\linear_model\\_ridge.py:216: LinAlgWarning: Ill-conditioned matrix (rcond=3.31799e-21): result may not be accurate.\n",
      "  return linalg.solve(A, Xy, assume_a=\"pos\", overwrite_a=True).T\n"
     ]
    },
    {
     "name": "stdout",
     "output_type": "stream",
     "text": [
      "Fitting estimator with 122 features.\n"
     ]
    },
    {
     "name": "stderr",
     "output_type": "stream",
     "text": [
      "c:\\Users\\ryanm\\Desktop\\Portfolio-Proj-WK\\DL-Strategies\\DL-Strat\\Lib\\site-packages\\sklearn\\linear_model\\_ridge.py:216: LinAlgWarning: Ill-conditioned matrix (rcond=3.31799e-21): result may not be accurate.\n",
      "  return linalg.solve(A, Xy, assume_a=\"pos\", overwrite_a=True).T\n"
     ]
    },
    {
     "name": "stdout",
     "output_type": "stream",
     "text": [
      "Fitting estimator with 121 features.\n"
     ]
    },
    {
     "name": "stderr",
     "output_type": "stream",
     "text": [
      "c:\\Users\\ryanm\\Desktop\\Portfolio-Proj-WK\\DL-Strategies\\DL-Strat\\Lib\\site-packages\\sklearn\\linear_model\\_ridge.py:216: LinAlgWarning: Ill-conditioned matrix (rcond=3.31799e-21): result may not be accurate.\n",
      "  return linalg.solve(A, Xy, assume_a=\"pos\", overwrite_a=True).T\n"
     ]
    },
    {
     "name": "stdout",
     "output_type": "stream",
     "text": [
      "Fitting estimator with 120 features.\n"
     ]
    },
    {
     "name": "stderr",
     "output_type": "stream",
     "text": [
      "c:\\Users\\ryanm\\Desktop\\Portfolio-Proj-WK\\DL-Strategies\\DL-Strat\\Lib\\site-packages\\sklearn\\linear_model\\_ridge.py:216: LinAlgWarning: Ill-conditioned matrix (rcond=4.69844e-21): result may not be accurate.\n",
      "  return linalg.solve(A, Xy, assume_a=\"pos\", overwrite_a=True).T\n"
     ]
    },
    {
     "name": "stdout",
     "output_type": "stream",
     "text": [
      "Fitting estimator with 119 features.\n"
     ]
    },
    {
     "name": "stderr",
     "output_type": "stream",
     "text": [
      "c:\\Users\\ryanm\\Desktop\\Portfolio-Proj-WK\\DL-Strategies\\DL-Strat\\Lib\\site-packages\\sklearn\\linear_model\\_ridge.py:216: LinAlgWarning: Ill-conditioned matrix (rcond=3.318e-21): result may not be accurate.\n",
      "  return linalg.solve(A, Xy, assume_a=\"pos\", overwrite_a=True).T\n"
     ]
    },
    {
     "name": "stdout",
     "output_type": "stream",
     "text": [
      "Fitting estimator with 118 features.\n"
     ]
    },
    {
     "name": "stderr",
     "output_type": "stream",
     "text": [
      "c:\\Users\\ryanm\\Desktop\\Portfolio-Proj-WK\\DL-Strategies\\DL-Strat\\Lib\\site-packages\\sklearn\\linear_model\\_ridge.py:216: LinAlgWarning: Ill-conditioned matrix (rcond=4.33875e-21): result may not be accurate.\n",
      "  return linalg.solve(A, Xy, assume_a=\"pos\", overwrite_a=True).T\n"
     ]
    },
    {
     "name": "stdout",
     "output_type": "stream",
     "text": [
      "Fitting estimator with 117 features.\n"
     ]
    },
    {
     "name": "stderr",
     "output_type": "stream",
     "text": [
      "c:\\Users\\ryanm\\Desktop\\Portfolio-Proj-WK\\DL-Strategies\\DL-Strat\\Lib\\site-packages\\sklearn\\linear_model\\_ridge.py:216: LinAlgWarning: Ill-conditioned matrix (rcond=4.69819e-21): result may not be accurate.\n",
      "  return linalg.solve(A, Xy, assume_a=\"pos\", overwrite_a=True).T\n"
     ]
    },
    {
     "name": "stdout",
     "output_type": "stream",
     "text": [
      "Fitting estimator with 116 features.\n"
     ]
    },
    {
     "name": "stderr",
     "output_type": "stream",
     "text": [
      "c:\\Users\\ryanm\\Desktop\\Portfolio-Proj-WK\\DL-Strategies\\DL-Strat\\Lib\\site-packages\\sklearn\\linear_model\\_ridge.py:216: LinAlgWarning: Ill-conditioned matrix (rcond=3.31818e-21): result may not be accurate.\n",
      "  return linalg.solve(A, Xy, assume_a=\"pos\", overwrite_a=True).T\n"
     ]
    },
    {
     "name": "stdout",
     "output_type": "stream",
     "text": [
      "Fitting estimator with 115 features.\n"
     ]
    },
    {
     "name": "stderr",
     "output_type": "stream",
     "text": [
      "c:\\Users\\ryanm\\Desktop\\Portfolio-Proj-WK\\DL-Strategies\\DL-Strat\\Lib\\site-packages\\sklearn\\linear_model\\_ridge.py:216: LinAlgWarning: Ill-conditioned matrix (rcond=3.31818e-21): result may not be accurate.\n",
      "  return linalg.solve(A, Xy, assume_a=\"pos\", overwrite_a=True).T\n"
     ]
    },
    {
     "name": "stdout",
     "output_type": "stream",
     "text": [
      "Fitting estimator with 114 features.\n"
     ]
    },
    {
     "name": "stderr",
     "output_type": "stream",
     "text": [
      "c:\\Users\\ryanm\\Desktop\\Portfolio-Proj-WK\\DL-Strategies\\DL-Strat\\Lib\\site-packages\\sklearn\\linear_model\\_ridge.py:216: LinAlgWarning: Ill-conditioned matrix (rcond=3.31818e-21): result may not be accurate.\n",
      "  return linalg.solve(A, Xy, assume_a=\"pos\", overwrite_a=True).T\n"
     ]
    },
    {
     "name": "stdout",
     "output_type": "stream",
     "text": [
      "Fitting estimator with 113 features.\n"
     ]
    },
    {
     "name": "stderr",
     "output_type": "stream",
     "text": [
      "c:\\Users\\ryanm\\Desktop\\Portfolio-Proj-WK\\DL-Strategies\\DL-Strat\\Lib\\site-packages\\sklearn\\linear_model\\_ridge.py:216: LinAlgWarning: Ill-conditioned matrix (rcond=3.31818e-21): result may not be accurate.\n",
      "  return linalg.solve(A, Xy, assume_a=\"pos\", overwrite_a=True).T\n"
     ]
    },
    {
     "name": "stdout",
     "output_type": "stream",
     "text": [
      "Fitting estimator with 112 features.\n"
     ]
    },
    {
     "name": "stderr",
     "output_type": "stream",
     "text": [
      "c:\\Users\\ryanm\\Desktop\\Portfolio-Proj-WK\\DL-Strategies\\DL-Strat\\Lib\\site-packages\\sklearn\\linear_model\\_ridge.py:216: LinAlgWarning: Ill-conditioned matrix (rcond=3.3182e-21): result may not be accurate.\n",
      "  return linalg.solve(A, Xy, assume_a=\"pos\", overwrite_a=True).T\n"
     ]
    },
    {
     "name": "stdout",
     "output_type": "stream",
     "text": [
      "Fitting estimator with 111 features.\n"
     ]
    },
    {
     "name": "stderr",
     "output_type": "stream",
     "text": [
      "c:\\Users\\ryanm\\Desktop\\Portfolio-Proj-WK\\DL-Strategies\\DL-Strat\\Lib\\site-packages\\sklearn\\linear_model\\_ridge.py:216: LinAlgWarning: Ill-conditioned matrix (rcond=4.69822e-21): result may not be accurate.\n",
      "  return linalg.solve(A, Xy, assume_a=\"pos\", overwrite_a=True).T\n"
     ]
    },
    {
     "name": "stdout",
     "output_type": "stream",
     "text": [
      "Fitting estimator with 110 features.\n"
     ]
    },
    {
     "name": "stderr",
     "output_type": "stream",
     "text": [
      "c:\\Users\\ryanm\\Desktop\\Portfolio-Proj-WK\\DL-Strategies\\DL-Strat\\Lib\\site-packages\\sklearn\\linear_model\\_ridge.py:216: LinAlgWarning: Ill-conditioned matrix (rcond=4.69822e-21): result may not be accurate.\n",
      "  return linalg.solve(A, Xy, assume_a=\"pos\", overwrite_a=True).T\n"
     ]
    },
    {
     "name": "stdout",
     "output_type": "stream",
     "text": [
      "Fitting estimator with 109 features.\n"
     ]
    },
    {
     "name": "stderr",
     "output_type": "stream",
     "text": [
      "c:\\Users\\ryanm\\Desktop\\Portfolio-Proj-WK\\DL-Strategies\\DL-Strat\\Lib\\site-packages\\sklearn\\linear_model\\_ridge.py:216: LinAlgWarning: Ill-conditioned matrix (rcond=4.69834e-21): result may not be accurate.\n",
      "  return linalg.solve(A, Xy, assume_a=\"pos\", overwrite_a=True).T\n"
     ]
    },
    {
     "name": "stdout",
     "output_type": "stream",
     "text": [
      "Fitting estimator with 108 features.\n"
     ]
    },
    {
     "name": "stderr",
     "output_type": "stream",
     "text": [
      "c:\\Users\\ryanm\\Desktop\\Portfolio-Proj-WK\\DL-Strategies\\DL-Strat\\Lib\\site-packages\\sklearn\\linear_model\\_ridge.py:216: LinAlgWarning: Ill-conditioned matrix (rcond=4.69834e-21): result may not be accurate.\n",
      "  return linalg.solve(A, Xy, assume_a=\"pos\", overwrite_a=True).T\n"
     ]
    },
    {
     "name": "stdout",
     "output_type": "stream",
     "text": [
      "Fitting estimator with 107 features.\n"
     ]
    },
    {
     "name": "stderr",
     "output_type": "stream",
     "text": [
      "c:\\Users\\ryanm\\Desktop\\Portfolio-Proj-WK\\DL-Strategies\\DL-Strat\\Lib\\site-packages\\sklearn\\linear_model\\_ridge.py:216: LinAlgWarning: Ill-conditioned matrix (rcond=4.69834e-21): result may not be accurate.\n",
      "  return linalg.solve(A, Xy, assume_a=\"pos\", overwrite_a=True).T\n"
     ]
    },
    {
     "name": "stdout",
     "output_type": "stream",
     "text": [
      "Fitting estimator with 106 features.\n"
     ]
    },
    {
     "name": "stderr",
     "output_type": "stream",
     "text": [
      "c:\\Users\\ryanm\\Desktop\\Portfolio-Proj-WK\\DL-Strategies\\DL-Strat\\Lib\\site-packages\\sklearn\\linear_model\\_ridge.py:216: LinAlgWarning: Ill-conditioned matrix (rcond=4.69834e-21): result may not be accurate.\n",
      "  return linalg.solve(A, Xy, assume_a=\"pos\", overwrite_a=True).T\n"
     ]
    },
    {
     "name": "stdout",
     "output_type": "stream",
     "text": [
      "Fitting estimator with 105 features.\n"
     ]
    },
    {
     "name": "stderr",
     "output_type": "stream",
     "text": [
      "c:\\Users\\ryanm\\Desktop\\Portfolio-Proj-WK\\DL-Strategies\\DL-Strat\\Lib\\site-packages\\sklearn\\linear_model\\_ridge.py:216: LinAlgWarning: Ill-conditioned matrix (rcond=4.69834e-21): result may not be accurate.\n",
      "  return linalg.solve(A, Xy, assume_a=\"pos\", overwrite_a=True).T\n"
     ]
    },
    {
     "name": "stdout",
     "output_type": "stream",
     "text": [
      "Fitting estimator with 104 features.\n"
     ]
    },
    {
     "name": "stderr",
     "output_type": "stream",
     "text": [
      "c:\\Users\\ryanm\\Desktop\\Portfolio-Proj-WK\\DL-Strategies\\DL-Strat\\Lib\\site-packages\\sklearn\\linear_model\\_ridge.py:216: LinAlgWarning: Ill-conditioned matrix (rcond=4.69832e-21): result may not be accurate.\n",
      "  return linalg.solve(A, Xy, assume_a=\"pos\", overwrite_a=True).T\n"
     ]
    },
    {
     "name": "stdout",
     "output_type": "stream",
     "text": [
      "Fitting estimator with 103 features.\n"
     ]
    },
    {
     "name": "stderr",
     "output_type": "stream",
     "text": [
      "c:\\Users\\ryanm\\Desktop\\Portfolio-Proj-WK\\DL-Strategies\\DL-Strat\\Lib\\site-packages\\sklearn\\linear_model\\_ridge.py:216: LinAlgWarning: Ill-conditioned matrix (rcond=4.69832e-21): result may not be accurate.\n",
      "  return linalg.solve(A, Xy, assume_a=\"pos\", overwrite_a=True).T\n"
     ]
    },
    {
     "name": "stdout",
     "output_type": "stream",
     "text": [
      "Fitting estimator with 102 features.\n"
     ]
    },
    {
     "name": "stderr",
     "output_type": "stream",
     "text": [
      "c:\\Users\\ryanm\\Desktop\\Portfolio-Proj-WK\\DL-Strategies\\DL-Strat\\Lib\\site-packages\\sklearn\\linear_model\\_ridge.py:216: LinAlgWarning: Ill-conditioned matrix (rcond=4.69832e-21): result may not be accurate.\n",
      "  return linalg.solve(A, Xy, assume_a=\"pos\", overwrite_a=True).T\n"
     ]
    },
    {
     "name": "stdout",
     "output_type": "stream",
     "text": [
      "Fitting estimator with 101 features.\n"
     ]
    },
    {
     "name": "stderr",
     "output_type": "stream",
     "text": [
      "c:\\Users\\ryanm\\Desktop\\Portfolio-Proj-WK\\DL-Strategies\\DL-Strat\\Lib\\site-packages\\sklearn\\linear_model\\_ridge.py:216: LinAlgWarning: Ill-conditioned matrix (rcond=4.69832e-21): result may not be accurate.\n",
      "  return linalg.solve(A, Xy, assume_a=\"pos\", overwrite_a=True).T\n"
     ]
    },
    {
     "name": "stdout",
     "output_type": "stream",
     "text": [
      "Fitting estimator with 100 features.\n"
     ]
    },
    {
     "name": "stderr",
     "output_type": "stream",
     "text": [
      "c:\\Users\\ryanm\\Desktop\\Portfolio-Proj-WK\\DL-Strategies\\DL-Strat\\Lib\\site-packages\\sklearn\\linear_model\\_ridge.py:216: LinAlgWarning: Ill-conditioned matrix (rcond=4.69828e-21): result may not be accurate.\n",
      "  return linalg.solve(A, Xy, assume_a=\"pos\", overwrite_a=True).T\n"
     ]
    },
    {
     "name": "stdout",
     "output_type": "stream",
     "text": [
      "Fitting estimator with 99 features.\n"
     ]
    },
    {
     "name": "stderr",
     "output_type": "stream",
     "text": [
      "c:\\Users\\ryanm\\Desktop\\Portfolio-Proj-WK\\DL-Strategies\\DL-Strat\\Lib\\site-packages\\sklearn\\linear_model\\_ridge.py:216: LinAlgWarning: Ill-conditioned matrix (rcond=4.69828e-21): result may not be accurate.\n",
      "  return linalg.solve(A, Xy, assume_a=\"pos\", overwrite_a=True).T\n"
     ]
    },
    {
     "name": "stdout",
     "output_type": "stream",
     "text": [
      "Fitting estimator with 98 features.\n"
     ]
    },
    {
     "name": "stderr",
     "output_type": "stream",
     "text": [
      "c:\\Users\\ryanm\\Desktop\\Portfolio-Proj-WK\\DL-Strategies\\DL-Strat\\Lib\\site-packages\\sklearn\\linear_model\\_ridge.py:216: LinAlgWarning: Ill-conditioned matrix (rcond=4.69828e-21): result may not be accurate.\n",
      "  return linalg.solve(A, Xy, assume_a=\"pos\", overwrite_a=True).T\n"
     ]
    },
    {
     "name": "stdout",
     "output_type": "stream",
     "text": [
      "Fitting estimator with 97 features.\n"
     ]
    },
    {
     "name": "stderr",
     "output_type": "stream",
     "text": [
      "c:\\Users\\ryanm\\Desktop\\Portfolio-Proj-WK\\DL-Strategies\\DL-Strat\\Lib\\site-packages\\sklearn\\linear_model\\_ridge.py:216: LinAlgWarning: Ill-conditioned matrix (rcond=4.69828e-21): result may not be accurate.\n",
      "  return linalg.solve(A, Xy, assume_a=\"pos\", overwrite_a=True).T\n"
     ]
    },
    {
     "name": "stdout",
     "output_type": "stream",
     "text": [
      "Fitting estimator with 96 features.\n"
     ]
    },
    {
     "name": "stderr",
     "output_type": "stream",
     "text": [
      "c:\\Users\\ryanm\\Desktop\\Portfolio-Proj-WK\\DL-Strategies\\DL-Strat\\Lib\\site-packages\\sklearn\\linear_model\\_ridge.py:216: LinAlgWarning: Ill-conditioned matrix (rcond=4.6984e-21): result may not be accurate.\n",
      "  return linalg.solve(A, Xy, assume_a=\"pos\", overwrite_a=True).T\n"
     ]
    },
    {
     "name": "stdout",
     "output_type": "stream",
     "text": [
      "Fitting estimator with 95 features.\n"
     ]
    },
    {
     "name": "stderr",
     "output_type": "stream",
     "text": [
      "c:\\Users\\ryanm\\Desktop\\Portfolio-Proj-WK\\DL-Strategies\\DL-Strat\\Lib\\site-packages\\sklearn\\linear_model\\_ridge.py:216: LinAlgWarning: Ill-conditioned matrix (rcond=4.6984e-21): result may not be accurate.\n",
      "  return linalg.solve(A, Xy, assume_a=\"pos\", overwrite_a=True).T\n"
     ]
    },
    {
     "name": "stdout",
     "output_type": "stream",
     "text": [
      "Fitting estimator with 94 features.\n"
     ]
    },
    {
     "name": "stderr",
     "output_type": "stream",
     "text": [
      "c:\\Users\\ryanm\\Desktop\\Portfolio-Proj-WK\\DL-Strategies\\DL-Strat\\Lib\\site-packages\\sklearn\\linear_model\\_ridge.py:216: LinAlgWarning: Ill-conditioned matrix (rcond=4.6984e-21): result may not be accurate.\n",
      "  return linalg.solve(A, Xy, assume_a=\"pos\", overwrite_a=True).T\n"
     ]
    },
    {
     "name": "stdout",
     "output_type": "stream",
     "text": [
      "Fitting estimator with 93 features.\n"
     ]
    },
    {
     "name": "stderr",
     "output_type": "stream",
     "text": [
      "c:\\Users\\ryanm\\Desktop\\Portfolio-Proj-WK\\DL-Strategies\\DL-Strat\\Lib\\site-packages\\sklearn\\linear_model\\_ridge.py:216: LinAlgWarning: Ill-conditioned matrix (rcond=4.69822e-21): result may not be accurate.\n",
      "  return linalg.solve(A, Xy, assume_a=\"pos\", overwrite_a=True).T\n"
     ]
    },
    {
     "name": "stdout",
     "output_type": "stream",
     "text": [
      "Fitting estimator with 92 features.\n"
     ]
    },
    {
     "name": "stderr",
     "output_type": "stream",
     "text": [
      "c:\\Users\\ryanm\\Desktop\\Portfolio-Proj-WK\\DL-Strategies\\DL-Strat\\Lib\\site-packages\\sklearn\\linear_model\\_ridge.py:216: LinAlgWarning: Ill-conditioned matrix (rcond=4.69821e-21): result may not be accurate.\n",
      "  return linalg.solve(A, Xy, assume_a=\"pos\", overwrite_a=True).T\n"
     ]
    },
    {
     "name": "stdout",
     "output_type": "stream",
     "text": [
      "Fitting estimator with 91 features.\n"
     ]
    },
    {
     "name": "stderr",
     "output_type": "stream",
     "text": [
      "c:\\Users\\ryanm\\Desktop\\Portfolio-Proj-WK\\DL-Strategies\\DL-Strat\\Lib\\site-packages\\sklearn\\linear_model\\_ridge.py:216: LinAlgWarning: Ill-conditioned matrix (rcond=4.69821e-21): result may not be accurate.\n",
      "  return linalg.solve(A, Xy, assume_a=\"pos\", overwrite_a=True).T\n"
     ]
    },
    {
     "name": "stdout",
     "output_type": "stream",
     "text": [
      "Fitting estimator with 90 features.\n"
     ]
    },
    {
     "name": "stderr",
     "output_type": "stream",
     "text": [
      "c:\\Users\\ryanm\\Desktop\\Portfolio-Proj-WK\\DL-Strategies\\DL-Strat\\Lib\\site-packages\\sklearn\\linear_model\\_ridge.py:216: LinAlgWarning: Ill-conditioned matrix (rcond=4.69821e-21): result may not be accurate.\n",
      "  return linalg.solve(A, Xy, assume_a=\"pos\", overwrite_a=True).T\n"
     ]
    },
    {
     "name": "stdout",
     "output_type": "stream",
     "text": [
      "Fitting estimator with 89 features.\n"
     ]
    },
    {
     "name": "stderr",
     "output_type": "stream",
     "text": [
      "c:\\Users\\ryanm\\Desktop\\Portfolio-Proj-WK\\DL-Strategies\\DL-Strat\\Lib\\site-packages\\sklearn\\linear_model\\_ridge.py:216: LinAlgWarning: Ill-conditioned matrix (rcond=4.69867e-21): result may not be accurate.\n",
      "  return linalg.solve(A, Xy, assume_a=\"pos\", overwrite_a=True).T\n"
     ]
    },
    {
     "name": "stdout",
     "output_type": "stream",
     "text": [
      "Fitting estimator with 88 features.\n"
     ]
    },
    {
     "name": "stderr",
     "output_type": "stream",
     "text": [
      "c:\\Users\\ryanm\\Desktop\\Portfolio-Proj-WK\\DL-Strategies\\DL-Strat\\Lib\\site-packages\\sklearn\\linear_model\\_ridge.py:216: LinAlgWarning: Ill-conditioned matrix (rcond=4.69862e-21): result may not be accurate.\n",
      "  return linalg.solve(A, Xy, assume_a=\"pos\", overwrite_a=True).T\n"
     ]
    },
    {
     "name": "stdout",
     "output_type": "stream",
     "text": [
      "Fitting estimator with 87 features.\n"
     ]
    },
    {
     "name": "stderr",
     "output_type": "stream",
     "text": [
      "c:\\Users\\ryanm\\Desktop\\Portfolio-Proj-WK\\DL-Strategies\\DL-Strat\\Lib\\site-packages\\sklearn\\linear_model\\_ridge.py:216: LinAlgWarning: Ill-conditioned matrix (rcond=4.69865e-21): result may not be accurate.\n",
      "  return linalg.solve(A, Xy, assume_a=\"pos\", overwrite_a=True).T\n"
     ]
    },
    {
     "name": "stdout",
     "output_type": "stream",
     "text": [
      "Fitting estimator with 86 features.\n"
     ]
    },
    {
     "name": "stderr",
     "output_type": "stream",
     "text": [
      "c:\\Users\\ryanm\\Desktop\\Portfolio-Proj-WK\\DL-Strategies\\DL-Strat\\Lib\\site-packages\\sklearn\\linear_model\\_ridge.py:216: LinAlgWarning: Ill-conditioned matrix (rcond=4.69865e-21): result may not be accurate.\n",
      "  return linalg.solve(A, Xy, assume_a=\"pos\", overwrite_a=True).T\n"
     ]
    },
    {
     "name": "stdout",
     "output_type": "stream",
     "text": [
      "Fitting estimator with 85 features.\n"
     ]
    },
    {
     "name": "stderr",
     "output_type": "stream",
     "text": [
      "c:\\Users\\ryanm\\Desktop\\Portfolio-Proj-WK\\DL-Strategies\\DL-Strat\\Lib\\site-packages\\sklearn\\linear_model\\_ridge.py:216: LinAlgWarning: Ill-conditioned matrix (rcond=4.69865e-21): result may not be accurate.\n",
      "  return linalg.solve(A, Xy, assume_a=\"pos\", overwrite_a=True).T\n"
     ]
    },
    {
     "name": "stdout",
     "output_type": "stream",
     "text": [
      "Fitting estimator with 84 features.\n"
     ]
    },
    {
     "name": "stderr",
     "output_type": "stream",
     "text": [
      "c:\\Users\\ryanm\\Desktop\\Portfolio-Proj-WK\\DL-Strategies\\DL-Strat\\Lib\\site-packages\\sklearn\\linear_model\\_ridge.py:216: LinAlgWarning: Ill-conditioned matrix (rcond=4.69859e-21): result may not be accurate.\n",
      "  return linalg.solve(A, Xy, assume_a=\"pos\", overwrite_a=True).T\n"
     ]
    },
    {
     "name": "stdout",
     "output_type": "stream",
     "text": [
      "Fitting estimator with 83 features.\n"
     ]
    },
    {
     "name": "stderr",
     "output_type": "stream",
     "text": [
      "c:\\Users\\ryanm\\Desktop\\Portfolio-Proj-WK\\DL-Strategies\\DL-Strat\\Lib\\site-packages\\sklearn\\linear_model\\_ridge.py:216: LinAlgWarning: Ill-conditioned matrix (rcond=4.69888e-21): result may not be accurate.\n",
      "  return linalg.solve(A, Xy, assume_a=\"pos\", overwrite_a=True).T\n"
     ]
    },
    {
     "name": "stdout",
     "output_type": "stream",
     "text": [
      "Fitting estimator with 82 features.\n"
     ]
    },
    {
     "name": "stderr",
     "output_type": "stream",
     "text": [
      "c:\\Users\\ryanm\\Desktop\\Portfolio-Proj-WK\\DL-Strategies\\DL-Strat\\Lib\\site-packages\\sklearn\\linear_model\\_ridge.py:216: LinAlgWarning: Ill-conditioned matrix (rcond=4.69969e-21): result may not be accurate.\n",
      "  return linalg.solve(A, Xy, assume_a=\"pos\", overwrite_a=True).T\n"
     ]
    },
    {
     "name": "stdout",
     "output_type": "stream",
     "text": [
      "Fitting estimator with 81 features.\n"
     ]
    },
    {
     "name": "stderr",
     "output_type": "stream",
     "text": [
      "c:\\Users\\ryanm\\Desktop\\Portfolio-Proj-WK\\DL-Strategies\\DL-Strat\\Lib\\site-packages\\sklearn\\linear_model\\_ridge.py:216: LinAlgWarning: Ill-conditioned matrix (rcond=4.69969e-21): result may not be accurate.\n",
      "  return linalg.solve(A, Xy, assume_a=\"pos\", overwrite_a=True).T\n"
     ]
    },
    {
     "name": "stdout",
     "output_type": "stream",
     "text": [
      "Fitting estimator with 80 features.\n"
     ]
    },
    {
     "name": "stderr",
     "output_type": "stream",
     "text": [
      "c:\\Users\\ryanm\\Desktop\\Portfolio-Proj-WK\\DL-Strategies\\DL-Strat\\Lib\\site-packages\\sklearn\\linear_model\\_ridge.py:216: LinAlgWarning: Ill-conditioned matrix (rcond=4.69974e-21): result may not be accurate.\n",
      "  return linalg.solve(A, Xy, assume_a=\"pos\", overwrite_a=True).T\n"
     ]
    },
    {
     "name": "stdout",
     "output_type": "stream",
     "text": [
      "Fitting estimator with 79 features.\n"
     ]
    },
    {
     "name": "stderr",
     "output_type": "stream",
     "text": [
      "c:\\Users\\ryanm\\Desktop\\Portfolio-Proj-WK\\DL-Strategies\\DL-Strat\\Lib\\site-packages\\sklearn\\linear_model\\_ridge.py:216: LinAlgWarning: Ill-conditioned matrix (rcond=4.69973e-21): result may not be accurate.\n",
      "  return linalg.solve(A, Xy, assume_a=\"pos\", overwrite_a=True).T\n"
     ]
    },
    {
     "name": "stdout",
     "output_type": "stream",
     "text": [
      "Fitting estimator with 78 features.\n"
     ]
    },
    {
     "name": "stderr",
     "output_type": "stream",
     "text": [
      "c:\\Users\\ryanm\\Desktop\\Portfolio-Proj-WK\\DL-Strategies\\DL-Strat\\Lib\\site-packages\\sklearn\\linear_model\\_ridge.py:216: LinAlgWarning: Ill-conditioned matrix (rcond=4.69973e-21): result may not be accurate.\n",
      "  return linalg.solve(A, Xy, assume_a=\"pos\", overwrite_a=True).T\n"
     ]
    },
    {
     "name": "stdout",
     "output_type": "stream",
     "text": [
      "Fitting estimator with 77 features.\n"
     ]
    },
    {
     "name": "stderr",
     "output_type": "stream",
     "text": [
      "c:\\Users\\ryanm\\Desktop\\Portfolio-Proj-WK\\DL-Strategies\\DL-Strat\\Lib\\site-packages\\sklearn\\linear_model\\_ridge.py:216: LinAlgWarning: Ill-conditioned matrix (rcond=4.69998e-21): result may not be accurate.\n",
      "  return linalg.solve(A, Xy, assume_a=\"pos\", overwrite_a=True).T\n"
     ]
    },
    {
     "name": "stdout",
     "output_type": "stream",
     "text": [
      "Fitting estimator with 76 features.\n"
     ]
    },
    {
     "name": "stderr",
     "output_type": "stream",
     "text": [
      "c:\\Users\\ryanm\\Desktop\\Portfolio-Proj-WK\\DL-Strategies\\DL-Strat\\Lib\\site-packages\\sklearn\\linear_model\\_ridge.py:216: LinAlgWarning: Ill-conditioned matrix (rcond=3.36037e-21): result may not be accurate.\n",
      "  return linalg.solve(A, Xy, assume_a=\"pos\", overwrite_a=True).T\n"
     ]
    },
    {
     "name": "stdout",
     "output_type": "stream",
     "text": [
      "Fitting estimator with 75 features.\n"
     ]
    },
    {
     "name": "stderr",
     "output_type": "stream",
     "text": [
      "c:\\Users\\ryanm\\Desktop\\Portfolio-Proj-WK\\DL-Strategies\\DL-Strat\\Lib\\site-packages\\sklearn\\linear_model\\_ridge.py:216: LinAlgWarning: Ill-conditioned matrix (rcond=3.36037e-21): result may not be accurate.\n",
      "  return linalg.solve(A, Xy, assume_a=\"pos\", overwrite_a=True).T\n"
     ]
    },
    {
     "name": "stdout",
     "output_type": "stream",
     "text": [
      "Fitting estimator with 74 features.\n"
     ]
    },
    {
     "name": "stderr",
     "output_type": "stream",
     "text": [
      "c:\\Users\\ryanm\\Desktop\\Portfolio-Proj-WK\\DL-Strategies\\DL-Strat\\Lib\\site-packages\\sklearn\\linear_model\\_ridge.py:216: LinAlgWarning: Ill-conditioned matrix (rcond=3.36031e-21): result may not be accurate.\n",
      "  return linalg.solve(A, Xy, assume_a=\"pos\", overwrite_a=True).T\n"
     ]
    },
    {
     "name": "stdout",
     "output_type": "stream",
     "text": [
      "Fitting estimator with 73 features.\n"
     ]
    },
    {
     "name": "stderr",
     "output_type": "stream",
     "text": [
      "c:\\Users\\ryanm\\Desktop\\Portfolio-Proj-WK\\DL-Strategies\\DL-Strat\\Lib\\site-packages\\sklearn\\linear_model\\_ridge.py:216: LinAlgWarning: Ill-conditioned matrix (rcond=3.86447e-21): result may not be accurate.\n",
      "  return linalg.solve(A, Xy, assume_a=\"pos\", overwrite_a=True).T\n"
     ]
    },
    {
     "name": "stdout",
     "output_type": "stream",
     "text": [
      "Fitting estimator with 72 features.\n"
     ]
    },
    {
     "name": "stderr",
     "output_type": "stream",
     "text": [
      "c:\\Users\\ryanm\\Desktop\\Portfolio-Proj-WK\\DL-Strategies\\DL-Strat\\Lib\\site-packages\\sklearn\\linear_model\\_ridge.py:216: LinAlgWarning: Ill-conditioned matrix (rcond=3.86444e-21): result may not be accurate.\n",
      "  return linalg.solve(A, Xy, assume_a=\"pos\", overwrite_a=True).T\n"
     ]
    },
    {
     "name": "stdout",
     "output_type": "stream",
     "text": [
      "Fitting estimator with 71 features.\n"
     ]
    },
    {
     "name": "stderr",
     "output_type": "stream",
     "text": [
      "c:\\Users\\ryanm\\Desktop\\Portfolio-Proj-WK\\DL-Strategies\\DL-Strat\\Lib\\site-packages\\sklearn\\linear_model\\_ridge.py:216: LinAlgWarning: Ill-conditioned matrix (rcond=3.86444e-21): result may not be accurate.\n",
      "  return linalg.solve(A, Xy, assume_a=\"pos\", overwrite_a=True).T\n"
     ]
    },
    {
     "name": "stdout",
     "output_type": "stream",
     "text": [
      "Fitting estimator with 70 features.\n"
     ]
    },
    {
     "name": "stderr",
     "output_type": "stream",
     "text": [
      "c:\\Users\\ryanm\\Desktop\\Portfolio-Proj-WK\\DL-Strategies\\DL-Strat\\Lib\\site-packages\\sklearn\\linear_model\\_ridge.py:216: LinAlgWarning: Ill-conditioned matrix (rcond=3.86444e-21): result may not be accurate.\n",
      "  return linalg.solve(A, Xy, assume_a=\"pos\", overwrite_a=True).T\n"
     ]
    },
    {
     "name": "stdout",
     "output_type": "stream",
     "text": [
      "Fitting estimator with 69 features.\n"
     ]
    },
    {
     "name": "stderr",
     "output_type": "stream",
     "text": [
      "c:\\Users\\ryanm\\Desktop\\Portfolio-Proj-WK\\DL-Strategies\\DL-Strat\\Lib\\site-packages\\sklearn\\linear_model\\_ridge.py:216: LinAlgWarning: Ill-conditioned matrix (rcond=3.86444e-21): result may not be accurate.\n",
      "  return linalg.solve(A, Xy, assume_a=\"pos\", overwrite_a=True).T\n"
     ]
    },
    {
     "name": "stdout",
     "output_type": "stream",
     "text": [
      "Fitting estimator with 68 features.\n"
     ]
    },
    {
     "name": "stderr",
     "output_type": "stream",
     "text": [
      "c:\\Users\\ryanm\\Desktop\\Portfolio-Proj-WK\\DL-Strategies\\DL-Strat\\Lib\\site-packages\\sklearn\\linear_model\\_ridge.py:216: LinAlgWarning: Ill-conditioned matrix (rcond=3.26275e-21): result may not be accurate.\n",
      "  return linalg.solve(A, Xy, assume_a=\"pos\", overwrite_a=True).T\n"
     ]
    },
    {
     "name": "stdout",
     "output_type": "stream",
     "text": [
      "Fitting estimator with 67 features.\n"
     ]
    },
    {
     "name": "stderr",
     "output_type": "stream",
     "text": [
      "c:\\Users\\ryanm\\Desktop\\Portfolio-Proj-WK\\DL-Strategies\\DL-Strat\\Lib\\site-packages\\sklearn\\linear_model\\_ridge.py:216: LinAlgWarning: Ill-conditioned matrix (rcond=3.26281e-21): result may not be accurate.\n",
      "  return linalg.solve(A, Xy, assume_a=\"pos\", overwrite_a=True).T\n"
     ]
    },
    {
     "name": "stdout",
     "output_type": "stream",
     "text": [
      "Fitting estimator with 66 features.\n"
     ]
    },
    {
     "name": "stderr",
     "output_type": "stream",
     "text": [
      "c:\\Users\\ryanm\\Desktop\\Portfolio-Proj-WK\\DL-Strategies\\DL-Strat\\Lib\\site-packages\\sklearn\\linear_model\\_ridge.py:216: LinAlgWarning: Ill-conditioned matrix (rcond=3.26281e-21): result may not be accurate.\n",
      "  return linalg.solve(A, Xy, assume_a=\"pos\", overwrite_a=True).T\n"
     ]
    },
    {
     "name": "stdout",
     "output_type": "stream",
     "text": [
      "Fitting estimator with 65 features.\n"
     ]
    },
    {
     "name": "stderr",
     "output_type": "stream",
     "text": [
      "c:\\Users\\ryanm\\Desktop\\Portfolio-Proj-WK\\DL-Strategies\\DL-Strat\\Lib\\site-packages\\sklearn\\linear_model\\_ridge.py:216: LinAlgWarning: Ill-conditioned matrix (rcond=3.99571e-21): result may not be accurate.\n",
      "  return linalg.solve(A, Xy, assume_a=\"pos\", overwrite_a=True).T\n"
     ]
    },
    {
     "name": "stdout",
     "output_type": "stream",
     "text": [
      "Fitting estimator with 64 features.\n"
     ]
    },
    {
     "name": "stderr",
     "output_type": "stream",
     "text": [
      "c:\\Users\\ryanm\\Desktop\\Portfolio-Proj-WK\\DL-Strategies\\DL-Strat\\Lib\\site-packages\\sklearn\\linear_model\\_ridge.py:216: LinAlgWarning: Ill-conditioned matrix (rcond=3.2628e-21): result may not be accurate.\n",
      "  return linalg.solve(A, Xy, assume_a=\"pos\", overwrite_a=True).T\n"
     ]
    },
    {
     "name": "stdout",
     "output_type": "stream",
     "text": [
      "Fitting estimator with 63 features.\n"
     ]
    },
    {
     "name": "stderr",
     "output_type": "stream",
     "text": [
      "c:\\Users\\ryanm\\Desktop\\Portfolio-Proj-WK\\DL-Strategies\\DL-Strat\\Lib\\site-packages\\sklearn\\linear_model\\_ridge.py:216: LinAlgWarning: Ill-conditioned matrix (rcond=3.99573e-21): result may not be accurate.\n",
      "  return linalg.solve(A, Xy, assume_a=\"pos\", overwrite_a=True).T\n"
     ]
    },
    {
     "name": "stdout",
     "output_type": "stream",
     "text": [
      "Fitting estimator with 62 features.\n"
     ]
    },
    {
     "name": "stderr",
     "output_type": "stream",
     "text": [
      "c:\\Users\\ryanm\\Desktop\\Portfolio-Proj-WK\\DL-Strategies\\DL-Strat\\Lib\\site-packages\\sklearn\\linear_model\\_ridge.py:216: LinAlgWarning: Ill-conditioned matrix (rcond=3.99574e-21): result may not be accurate.\n",
      "  return linalg.solve(A, Xy, assume_a=\"pos\", overwrite_a=True).T\n"
     ]
    },
    {
     "name": "stdout",
     "output_type": "stream",
     "text": [
      "Fitting estimator with 61 features.\n"
     ]
    },
    {
     "name": "stderr",
     "output_type": "stream",
     "text": [
      "c:\\Users\\ryanm\\Desktop\\Portfolio-Proj-WK\\DL-Strategies\\DL-Strat\\Lib\\site-packages\\sklearn\\linear_model\\_ridge.py:216: LinAlgWarning: Ill-conditioned matrix (rcond=3.26278e-21): result may not be accurate.\n",
      "  return linalg.solve(A, Xy, assume_a=\"pos\", overwrite_a=True).T\n"
     ]
    },
    {
     "name": "stdout",
     "output_type": "stream",
     "text": [
      "Fitting estimator with 60 features.\n"
     ]
    },
    {
     "name": "stderr",
     "output_type": "stream",
     "text": [
      "c:\\Users\\ryanm\\Desktop\\Portfolio-Proj-WK\\DL-Strategies\\DL-Strat\\Lib\\site-packages\\sklearn\\linear_model\\_ridge.py:216: LinAlgWarning: Ill-conditioned matrix (rcond=3.52613e-21): result may not be accurate.\n",
      "  return linalg.solve(A, Xy, assume_a=\"pos\", overwrite_a=True).T\n"
     ]
    },
    {
     "name": "stdout",
     "output_type": "stream",
     "text": [
      "Fitting estimator with 59 features.\n"
     ]
    },
    {
     "name": "stderr",
     "output_type": "stream",
     "text": [
      "c:\\Users\\ryanm\\Desktop\\Portfolio-Proj-WK\\DL-Strategies\\DL-Strat\\Lib\\site-packages\\sklearn\\linear_model\\_ridge.py:216: LinAlgWarning: Ill-conditioned matrix (rcond=4.64615e-21): result may not be accurate.\n",
      "  return linalg.solve(A, Xy, assume_a=\"pos\", overwrite_a=True).T\n"
     ]
    },
    {
     "name": "stdout",
     "output_type": "stream",
     "text": [
      "Fitting estimator with 58 features.\n"
     ]
    },
    {
     "name": "stderr",
     "output_type": "stream",
     "text": [
      "c:\\Users\\ryanm\\Desktop\\Portfolio-Proj-WK\\DL-Strategies\\DL-Strat\\Lib\\site-packages\\sklearn\\linear_model\\_ridge.py:216: LinAlgWarning: Ill-conditioned matrix (rcond=6.86178e-21): result may not be accurate.\n",
      "  return linalg.solve(A, Xy, assume_a=\"pos\", overwrite_a=True).T\n"
     ]
    },
    {
     "name": "stdout",
     "output_type": "stream",
     "text": [
      "Fitting estimator with 57 features.\n"
     ]
    },
    {
     "name": "stderr",
     "output_type": "stream",
     "text": [
      "c:\\Users\\ryanm\\Desktop\\Portfolio-Proj-WK\\DL-Strategies\\DL-Strat\\Lib\\site-packages\\sklearn\\linear_model\\_ridge.py:216: LinAlgWarning: Ill-conditioned matrix (rcond=1.31706e-20): result may not be accurate.\n",
      "  return linalg.solve(A, Xy, assume_a=\"pos\", overwrite_a=True).T\n"
     ]
    },
    {
     "name": "stdout",
     "output_type": "stream",
     "text": [
      "Fitting estimator with 56 features.\n",
      "Fitting estimator with 55 features.\n",
      "Fitting estimator with 54 features.\n",
      "Fitting estimator with 53 features.\n",
      "Fitting estimator with 52 features.\n",
      "Fitting estimator with 51 features.\n",
      "Fitting estimator with 50 features.\n",
      "Fitting estimator with 49 features.\n",
      "Fitting estimator with 48 features.\n",
      "Fitting estimator with 47 features.\n",
      "Fitting estimator with 46 features.\n",
      "Fitting estimator with 45 features.\n",
      "Fitting estimator with 44 features.\n",
      "Fitting estimator with 43 features.\n",
      "Fitting estimator with 42 features.\n",
      "Fitting estimator with 41 features.\n",
      "Fitting estimator with 40 features.\n",
      "Fitting estimator with 39 features.\n",
      "Fitting estimator with 38 features.\n",
      "Fitting estimator with 37 features.\n",
      "Fitting estimator with 36 features.\n",
      "Fitting estimator with 35 features.\n",
      "Fitting estimator with 34 features.\n",
      "Fitting estimator with 33 features.\n",
      "Fitting estimator with 32 features.\n",
      "Fitting estimator with 31 features.\n",
      "Fitting estimator with 30 features.\n",
      "Fitting estimator with 29 features.\n",
      "Fitting estimator with 28 features.\n",
      "Fitting estimator with 27 features.\n",
      "Fitting estimator with 26 features.\n",
      "Fitting estimator with 25 features.\n",
      "Fitting estimator with 24 features.\n",
      "Fitting estimator with 23 features.\n",
      "Fitting estimator with 22 features.\n",
      "Fitting estimator with 21 features.\n",
      "Fitting estimator with 20 features.\n",
      "Fitting estimator with 19 features.\n",
      "Fitting estimator with 18 features.\n",
      "Fitting estimator with 17 features.\n",
      "Fitting estimator with 16 features.\n",
      "Fitting estimator with 15 features.\n",
      "Fitting estimator with 14 features.\n",
      "Fitting estimator with 13 features.\n",
      "Fitting estimator with 12 features.\n",
      "Fitting estimator with 11 features.\n",
      "Fitting estimator with 10 features.\n",
      "Fitting estimator with 9 features.\n",
      "Fitting estimator with 8 features.\n",
      "Fitting estimator with 7 features.\n",
      "Fitting estimator with 6 features.\n",
      "Fitting estimator with 5 features.\n",
      "Fitting estimator with 4 features.\n",
      "Fitting estimator with 3 features.\n",
      "Fitting estimator with 2 features.\n",
      "Fitting estimator with 151 features.\n"
     ]
    },
    {
     "name": "stderr",
     "output_type": "stream",
     "text": [
      "c:\\Users\\ryanm\\Desktop\\Portfolio-Proj-WK\\DL-Strategies\\DL-Strat\\Lib\\site-packages\\sklearn\\linear_model\\_ridge.py:216: LinAlgWarning: Ill-conditioned matrix (rcond=3.16906e-24): result may not be accurate.\n",
      "  return linalg.solve(A, Xy, assume_a=\"pos\", overwrite_a=True).T\n"
     ]
    },
    {
     "name": "stdout",
     "output_type": "stream",
     "text": [
      "Fitting estimator with 150 features.\n"
     ]
    },
    {
     "name": "stderr",
     "output_type": "stream",
     "text": [
      "c:\\Users\\ryanm\\Desktop\\Portfolio-Proj-WK\\DL-Strategies\\DL-Strat\\Lib\\site-packages\\sklearn\\linear_model\\_ridge.py:216: LinAlgWarning: Ill-conditioned matrix (rcond=3.17203e-24): result may not be accurate.\n",
      "  return linalg.solve(A, Xy, assume_a=\"pos\", overwrite_a=True).T\n"
     ]
    },
    {
     "name": "stdout",
     "output_type": "stream",
     "text": [
      "Fitting estimator with 149 features.\n"
     ]
    },
    {
     "name": "stderr",
     "output_type": "stream",
     "text": [
      "c:\\Users\\ryanm\\Desktop\\Portfolio-Proj-WK\\DL-Strategies\\DL-Strat\\Lib\\site-packages\\sklearn\\linear_model\\_ridge.py:216: LinAlgWarning: Ill-conditioned matrix (rcond=3.17269e-24): result may not be accurate.\n",
      "  return linalg.solve(A, Xy, assume_a=\"pos\", overwrite_a=True).T\n"
     ]
    },
    {
     "name": "stdout",
     "output_type": "stream",
     "text": [
      "Fitting estimator with 148 features.\n"
     ]
    },
    {
     "name": "stderr",
     "output_type": "stream",
     "text": [
      "c:\\Users\\ryanm\\Desktop\\Portfolio-Proj-WK\\DL-Strategies\\DL-Strat\\Lib\\site-packages\\sklearn\\linear_model\\_ridge.py:216: LinAlgWarning: Ill-conditioned matrix (rcond=3.96056e-24): result may not be accurate.\n",
      "  return linalg.solve(A, Xy, assume_a=\"pos\", overwrite_a=True).T\n"
     ]
    },
    {
     "name": "stdout",
     "output_type": "stream",
     "text": [
      "Fitting estimator with 147 features.\n"
     ]
    },
    {
     "name": "stderr",
     "output_type": "stream",
     "text": [
      "c:\\Users\\ryanm\\Desktop\\Portfolio-Proj-WK\\DL-Strategies\\DL-Strat\\Lib\\site-packages\\sklearn\\linear_model\\_ridge.py:216: LinAlgWarning: Ill-conditioned matrix (rcond=3.96056e-24): result may not be accurate.\n",
      "  return linalg.solve(A, Xy, assume_a=\"pos\", overwrite_a=True).T\n"
     ]
    },
    {
     "name": "stdout",
     "output_type": "stream",
     "text": [
      "Fitting estimator with 146 features.\n"
     ]
    },
    {
     "name": "stderr",
     "output_type": "stream",
     "text": [
      "c:\\Users\\ryanm\\Desktop\\Portfolio-Proj-WK\\DL-Strategies\\DL-Strat\\Lib\\site-packages\\sklearn\\linear_model\\_ridge.py:216: LinAlgWarning: Ill-conditioned matrix (rcond=3.96056e-24): result may not be accurate.\n",
      "  return linalg.solve(A, Xy, assume_a=\"pos\", overwrite_a=True).T\n"
     ]
    },
    {
     "name": "stdout",
     "output_type": "stream",
     "text": [
      "Fitting estimator with 145 features.\n"
     ]
    },
    {
     "name": "stderr",
     "output_type": "stream",
     "text": [
      "c:\\Users\\ryanm\\Desktop\\Portfolio-Proj-WK\\DL-Strategies\\DL-Strat\\Lib\\site-packages\\sklearn\\linear_model\\_ridge.py:216: LinAlgWarning: Ill-conditioned matrix (rcond=3.95954e-24): result may not be accurate.\n",
      "  return linalg.solve(A, Xy, assume_a=\"pos\", overwrite_a=True).T\n"
     ]
    },
    {
     "name": "stdout",
     "output_type": "stream",
     "text": [
      "Fitting estimator with 144 features.\n"
     ]
    },
    {
     "name": "stderr",
     "output_type": "stream",
     "text": [
      "c:\\Users\\ryanm\\Desktop\\Portfolio-Proj-WK\\DL-Strategies\\DL-Strat\\Lib\\site-packages\\sklearn\\linear_model\\_ridge.py:216: LinAlgWarning: Ill-conditioned matrix (rcond=3.95953e-24): result may not be accurate.\n",
      "  return linalg.solve(A, Xy, assume_a=\"pos\", overwrite_a=True).T\n"
     ]
    },
    {
     "name": "stdout",
     "output_type": "stream",
     "text": [
      "Fitting estimator with 143 features.\n"
     ]
    },
    {
     "name": "stderr",
     "output_type": "stream",
     "text": [
      "c:\\Users\\ryanm\\Desktop\\Portfolio-Proj-WK\\DL-Strategies\\DL-Strat\\Lib\\site-packages\\sklearn\\linear_model\\_ridge.py:216: LinAlgWarning: Ill-conditioned matrix (rcond=5.60768e-24): result may not be accurate.\n",
      "  return linalg.solve(A, Xy, assume_a=\"pos\", overwrite_a=True).T\n"
     ]
    },
    {
     "name": "stdout",
     "output_type": "stream",
     "text": [
      "Fitting estimator with 142 features.\n"
     ]
    },
    {
     "name": "stderr",
     "output_type": "stream",
     "text": [
      "c:\\Users\\ryanm\\Desktop\\Portfolio-Proj-WK\\DL-Strategies\\DL-Strat\\Lib\\site-packages\\sklearn\\linear_model\\_ridge.py:216: LinAlgWarning: Ill-conditioned matrix (rcond=5.61086e-24): result may not be accurate.\n",
      "  return linalg.solve(A, Xy, assume_a=\"pos\", overwrite_a=True).T\n"
     ]
    },
    {
     "name": "stdout",
     "output_type": "stream",
     "text": [
      "Fitting estimator with 141 features.\n"
     ]
    },
    {
     "name": "stderr",
     "output_type": "stream",
     "text": [
      "c:\\Users\\ryanm\\Desktop\\Portfolio-Proj-WK\\DL-Strategies\\DL-Strat\\Lib\\site-packages\\sklearn\\linear_model\\_ridge.py:216: LinAlgWarning: Ill-conditioned matrix (rcond=5.61086e-24): result may not be accurate.\n",
      "  return linalg.solve(A, Xy, assume_a=\"pos\", overwrite_a=True).T\n"
     ]
    },
    {
     "name": "stdout",
     "output_type": "stream",
     "text": [
      "Fitting estimator with 140 features.\n"
     ]
    },
    {
     "name": "stderr",
     "output_type": "stream",
     "text": [
      "c:\\Users\\ryanm\\Desktop\\Portfolio-Proj-WK\\DL-Strategies\\DL-Strat\\Lib\\site-packages\\sklearn\\linear_model\\_ridge.py:216: LinAlgWarning: Ill-conditioned matrix (rcond=5.61086e-24): result may not be accurate.\n",
      "  return linalg.solve(A, Xy, assume_a=\"pos\", overwrite_a=True).T\n"
     ]
    },
    {
     "name": "stdout",
     "output_type": "stream",
     "text": [
      "Fitting estimator with 139 features.\n"
     ]
    },
    {
     "name": "stderr",
     "output_type": "stream",
     "text": [
      "c:\\Users\\ryanm\\Desktop\\Portfolio-Proj-WK\\DL-Strategies\\DL-Strat\\Lib\\site-packages\\sklearn\\linear_model\\_ridge.py:216: LinAlgWarning: Ill-conditioned matrix (rcond=5.60804e-24): result may not be accurate.\n",
      "  return linalg.solve(A, Xy, assume_a=\"pos\", overwrite_a=True).T\n"
     ]
    },
    {
     "name": "stdout",
     "output_type": "stream",
     "text": [
      "Fitting estimator with 138 features.\n"
     ]
    },
    {
     "name": "stderr",
     "output_type": "stream",
     "text": [
      "c:\\Users\\ryanm\\Desktop\\Portfolio-Proj-WK\\DL-Strategies\\DL-Strat\\Lib\\site-packages\\sklearn\\linear_model\\_ridge.py:216: LinAlgWarning: Ill-conditioned matrix (rcond=5.60801e-24): result may not be accurate.\n",
      "  return linalg.solve(A, Xy, assume_a=\"pos\", overwrite_a=True).T\n"
     ]
    },
    {
     "name": "stdout",
     "output_type": "stream",
     "text": [
      "Fitting estimator with 137 features.\n"
     ]
    },
    {
     "name": "stderr",
     "output_type": "stream",
     "text": [
      "c:\\Users\\ryanm\\Desktop\\Portfolio-Proj-WK\\DL-Strategies\\DL-Strat\\Lib\\site-packages\\sklearn\\linear_model\\_ridge.py:216: LinAlgWarning: Ill-conditioned matrix (rcond=5.60804e-24): result may not be accurate.\n",
      "  return linalg.solve(A, Xy, assume_a=\"pos\", overwrite_a=True).T\n"
     ]
    },
    {
     "name": "stdout",
     "output_type": "stream",
     "text": [
      "Fitting estimator with 136 features.\n"
     ]
    },
    {
     "name": "stderr",
     "output_type": "stream",
     "text": [
      "c:\\Users\\ryanm\\Desktop\\Portfolio-Proj-WK\\DL-Strategies\\DL-Strat\\Lib\\site-packages\\sklearn\\linear_model\\_ridge.py:216: LinAlgWarning: Ill-conditioned matrix (rcond=5.608e-24): result may not be accurate.\n",
      "  return linalg.solve(A, Xy, assume_a=\"pos\", overwrite_a=True).T\n"
     ]
    },
    {
     "name": "stdout",
     "output_type": "stream",
     "text": [
      "Fitting estimator with 135 features.\n"
     ]
    },
    {
     "name": "stderr",
     "output_type": "stream",
     "text": [
      "c:\\Users\\ryanm\\Desktop\\Portfolio-Proj-WK\\DL-Strategies\\DL-Strat\\Lib\\site-packages\\sklearn\\linear_model\\_ridge.py:216: LinAlgWarning: Ill-conditioned matrix (rcond=5.608e-24): result may not be accurate.\n",
      "  return linalg.solve(A, Xy, assume_a=\"pos\", overwrite_a=True).T\n"
     ]
    },
    {
     "name": "stdout",
     "output_type": "stream",
     "text": [
      "Fitting estimator with 134 features.\n"
     ]
    },
    {
     "name": "stderr",
     "output_type": "stream",
     "text": [
      "c:\\Users\\ryanm\\Desktop\\Portfolio-Proj-WK\\DL-Strategies\\DL-Strat\\Lib\\site-packages\\sklearn\\linear_model\\_ridge.py:216: LinAlgWarning: Ill-conditioned matrix (rcond=5.40403e-24): result may not be accurate.\n",
      "  return linalg.solve(A, Xy, assume_a=\"pos\", overwrite_a=True).T\n"
     ]
    },
    {
     "name": "stdout",
     "output_type": "stream",
     "text": [
      "Fitting estimator with 133 features.\n"
     ]
    },
    {
     "name": "stderr",
     "output_type": "stream",
     "text": [
      "c:\\Users\\ryanm\\Desktop\\Portfolio-Proj-WK\\DL-Strategies\\DL-Strat\\Lib\\site-packages\\sklearn\\linear_model\\_ridge.py:216: LinAlgWarning: Ill-conditioned matrix (rcond=5.40403e-24): result may not be accurate.\n",
      "  return linalg.solve(A, Xy, assume_a=\"pos\", overwrite_a=True).T\n"
     ]
    },
    {
     "name": "stdout",
     "output_type": "stream",
     "text": [
      "Fitting estimator with 132 features.\n"
     ]
    },
    {
     "name": "stderr",
     "output_type": "stream",
     "text": [
      "c:\\Users\\ryanm\\Desktop\\Portfolio-Proj-WK\\DL-Strategies\\DL-Strat\\Lib\\site-packages\\sklearn\\linear_model\\_ridge.py:216: LinAlgWarning: Ill-conditioned matrix (rcond=5.40403e-24): result may not be accurate.\n",
      "  return linalg.solve(A, Xy, assume_a=\"pos\", overwrite_a=True).T\n"
     ]
    },
    {
     "name": "stdout",
     "output_type": "stream",
     "text": [
      "Fitting estimator with 131 features.\n"
     ]
    },
    {
     "name": "stderr",
     "output_type": "stream",
     "text": [
      "c:\\Users\\ryanm\\Desktop\\Portfolio-Proj-WK\\DL-Strategies\\DL-Strat\\Lib\\site-packages\\sklearn\\linear_model\\_ridge.py:216: LinAlgWarning: Ill-conditioned matrix (rcond=5.40403e-24): result may not be accurate.\n",
      "  return linalg.solve(A, Xy, assume_a=\"pos\", overwrite_a=True).T\n"
     ]
    },
    {
     "name": "stdout",
     "output_type": "stream",
     "text": [
      "Fitting estimator with 130 features.\n"
     ]
    },
    {
     "name": "stderr",
     "output_type": "stream",
     "text": [
      "c:\\Users\\ryanm\\Desktop\\Portfolio-Proj-WK\\DL-Strategies\\DL-Strat\\Lib\\site-packages\\sklearn\\linear_model\\_ridge.py:216: LinAlgWarning: Ill-conditioned matrix (rcond=5.40403e-24): result may not be accurate.\n",
      "  return linalg.solve(A, Xy, assume_a=\"pos\", overwrite_a=True).T\n"
     ]
    },
    {
     "name": "stdout",
     "output_type": "stream",
     "text": [
      "Fitting estimator with 129 features.\n"
     ]
    },
    {
     "name": "stderr",
     "output_type": "stream",
     "text": [
      "c:\\Users\\ryanm\\Desktop\\Portfolio-Proj-WK\\DL-Strategies\\DL-Strat\\Lib\\site-packages\\sklearn\\linear_model\\_ridge.py:216: LinAlgWarning: Ill-conditioned matrix (rcond=5.40403e-24): result may not be accurate.\n",
      "  return linalg.solve(A, Xy, assume_a=\"pos\", overwrite_a=True).T\n"
     ]
    },
    {
     "name": "stdout",
     "output_type": "stream",
     "text": [
      "Fitting estimator with 128 features.\n"
     ]
    },
    {
     "name": "stderr",
     "output_type": "stream",
     "text": [
      "c:\\Users\\ryanm\\Desktop\\Portfolio-Proj-WK\\DL-Strategies\\DL-Strat\\Lib\\site-packages\\sklearn\\linear_model\\_ridge.py:216: LinAlgWarning: Ill-conditioned matrix (rcond=5.40403e-24): result may not be accurate.\n",
      "  return linalg.solve(A, Xy, assume_a=\"pos\", overwrite_a=True).T\n"
     ]
    },
    {
     "name": "stdout",
     "output_type": "stream",
     "text": [
      "Fitting estimator with 127 features.\n"
     ]
    },
    {
     "name": "stderr",
     "output_type": "stream",
     "text": [
      "c:\\Users\\ryanm\\Desktop\\Portfolio-Proj-WK\\DL-Strategies\\DL-Strat\\Lib\\site-packages\\sklearn\\linear_model\\_ridge.py:216: LinAlgWarning: Ill-conditioned matrix (rcond=5.40403e-24): result may not be accurate.\n",
      "  return linalg.solve(A, Xy, assume_a=\"pos\", overwrite_a=True).T\n"
     ]
    },
    {
     "name": "stdout",
     "output_type": "stream",
     "text": [
      "Fitting estimator with 126 features.\n"
     ]
    },
    {
     "name": "stderr",
     "output_type": "stream",
     "text": [
      "c:\\Users\\ryanm\\Desktop\\Portfolio-Proj-WK\\DL-Strategies\\DL-Strat\\Lib\\site-packages\\sklearn\\linear_model\\_ridge.py:216: LinAlgWarning: Ill-conditioned matrix (rcond=5.40403e-24): result may not be accurate.\n",
      "  return linalg.solve(A, Xy, assume_a=\"pos\", overwrite_a=True).T\n"
     ]
    },
    {
     "name": "stdout",
     "output_type": "stream",
     "text": [
      "Fitting estimator with 125 features.\n"
     ]
    },
    {
     "name": "stderr",
     "output_type": "stream",
     "text": [
      "c:\\Users\\ryanm\\Desktop\\Portfolio-Proj-WK\\DL-Strategies\\DL-Strat\\Lib\\site-packages\\sklearn\\linear_model\\_ridge.py:216: LinAlgWarning: Ill-conditioned matrix (rcond=5.40403e-24): result may not be accurate.\n",
      "  return linalg.solve(A, Xy, assume_a=\"pos\", overwrite_a=True).T\n"
     ]
    },
    {
     "name": "stdout",
     "output_type": "stream",
     "text": [
      "Fitting estimator with 124 features.\n"
     ]
    },
    {
     "name": "stderr",
     "output_type": "stream",
     "text": [
      "c:\\Users\\ryanm\\Desktop\\Portfolio-Proj-WK\\DL-Strategies\\DL-Strat\\Lib\\site-packages\\sklearn\\linear_model\\_ridge.py:216: LinAlgWarning: Ill-conditioned matrix (rcond=5.60809e-24): result may not be accurate.\n",
      "  return linalg.solve(A, Xy, assume_a=\"pos\", overwrite_a=True).T\n"
     ]
    },
    {
     "name": "stdout",
     "output_type": "stream",
     "text": [
      "Fitting estimator with 123 features.\n"
     ]
    },
    {
     "name": "stderr",
     "output_type": "stream",
     "text": [
      "c:\\Users\\ryanm\\Desktop\\Portfolio-Proj-WK\\DL-Strategies\\DL-Strat\\Lib\\site-packages\\sklearn\\linear_model\\_ridge.py:216: LinAlgWarning: Ill-conditioned matrix (rcond=5.60809e-24): result may not be accurate.\n",
      "  return linalg.solve(A, Xy, assume_a=\"pos\", overwrite_a=True).T\n"
     ]
    },
    {
     "name": "stdout",
     "output_type": "stream",
     "text": [
      "Fitting estimator with 122 features.\n"
     ]
    },
    {
     "name": "stderr",
     "output_type": "stream",
     "text": [
      "c:\\Users\\ryanm\\Desktop\\Portfolio-Proj-WK\\DL-Strategies\\DL-Strat\\Lib\\site-packages\\sklearn\\linear_model\\_ridge.py:216: LinAlgWarning: Ill-conditioned matrix (rcond=5.60809e-24): result may not be accurate.\n",
      "  return linalg.solve(A, Xy, assume_a=\"pos\", overwrite_a=True).T\n"
     ]
    },
    {
     "name": "stdout",
     "output_type": "stream",
     "text": [
      "Fitting estimator with 121 features.\n"
     ]
    },
    {
     "name": "stderr",
     "output_type": "stream",
     "text": [
      "c:\\Users\\ryanm\\Desktop\\Portfolio-Proj-WK\\DL-Strategies\\DL-Strat\\Lib\\site-packages\\sklearn\\linear_model\\_ridge.py:216: LinAlgWarning: Ill-conditioned matrix (rcond=5.60809e-24): result may not be accurate.\n",
      "  return linalg.solve(A, Xy, assume_a=\"pos\", overwrite_a=True).T\n"
     ]
    },
    {
     "name": "stdout",
     "output_type": "stream",
     "text": [
      "Fitting estimator with 120 features.\n"
     ]
    },
    {
     "name": "stderr",
     "output_type": "stream",
     "text": [
      "c:\\Users\\ryanm\\Desktop\\Portfolio-Proj-WK\\DL-Strategies\\DL-Strat\\Lib\\site-packages\\sklearn\\linear_model\\_ridge.py:216: LinAlgWarning: Ill-conditioned matrix (rcond=5.6081e-24): result may not be accurate.\n",
      "  return linalg.solve(A, Xy, assume_a=\"pos\", overwrite_a=True).T\n"
     ]
    },
    {
     "name": "stdout",
     "output_type": "stream",
     "text": [
      "Fitting estimator with 119 features.\n"
     ]
    },
    {
     "name": "stderr",
     "output_type": "stream",
     "text": [
      "c:\\Users\\ryanm\\Desktop\\Portfolio-Proj-WK\\DL-Strategies\\DL-Strat\\Lib\\site-packages\\sklearn\\linear_model\\_ridge.py:216: LinAlgWarning: Ill-conditioned matrix (rcond=5.6081e-24): result may not be accurate.\n",
      "  return linalg.solve(A, Xy, assume_a=\"pos\", overwrite_a=True).T\n"
     ]
    },
    {
     "name": "stdout",
     "output_type": "stream",
     "text": [
      "Fitting estimator with 118 features.\n"
     ]
    },
    {
     "name": "stderr",
     "output_type": "stream",
     "text": [
      "c:\\Users\\ryanm\\Desktop\\Portfolio-Proj-WK\\DL-Strategies\\DL-Strat\\Lib\\site-packages\\sklearn\\linear_model\\_ridge.py:216: LinAlgWarning: Ill-conditioned matrix (rcond=5.60815e-24): result may not be accurate.\n",
      "  return linalg.solve(A, Xy, assume_a=\"pos\", overwrite_a=True).T\n"
     ]
    },
    {
     "name": "stdout",
     "output_type": "stream",
     "text": [
      "Fitting estimator with 117 features.\n"
     ]
    },
    {
     "name": "stderr",
     "output_type": "stream",
     "text": [
      "c:\\Users\\ryanm\\Desktop\\Portfolio-Proj-WK\\DL-Strategies\\DL-Strat\\Lib\\site-packages\\sklearn\\linear_model\\_ridge.py:216: LinAlgWarning: Ill-conditioned matrix (rcond=7.46368e-24): result may not be accurate.\n",
      "  return linalg.solve(A, Xy, assume_a=\"pos\", overwrite_a=True).T\n"
     ]
    },
    {
     "name": "stdout",
     "output_type": "stream",
     "text": [
      "Fitting estimator with 116 features.\n"
     ]
    },
    {
     "name": "stderr",
     "output_type": "stream",
     "text": [
      "c:\\Users\\ryanm\\Desktop\\Portfolio-Proj-WK\\DL-Strategies\\DL-Strat\\Lib\\site-packages\\sklearn\\linear_model\\_ridge.py:216: LinAlgWarning: Ill-conditioned matrix (rcond=1.11532e-23): result may not be accurate.\n",
      "  return linalg.solve(A, Xy, assume_a=\"pos\", overwrite_a=True).T\n"
     ]
    },
    {
     "name": "stdout",
     "output_type": "stream",
     "text": [
      "Fitting estimator with 115 features.\n"
     ]
    },
    {
     "name": "stderr",
     "output_type": "stream",
     "text": [
      "c:\\Users\\ryanm\\Desktop\\Portfolio-Proj-WK\\DL-Strategies\\DL-Strat\\Lib\\site-packages\\sklearn\\linear_model\\_ridge.py:216: LinAlgWarning: Ill-conditioned matrix (rcond=2.20711e-23): result may not be accurate.\n",
      "  return linalg.solve(A, Xy, assume_a=\"pos\", overwrite_a=True).T\n"
     ]
    },
    {
     "name": "stdout",
     "output_type": "stream",
     "text": [
      "Fitting estimator with 114 features.\n"
     ]
    },
    {
     "name": "stderr",
     "output_type": "stream",
     "text": [
      "c:\\Users\\ryanm\\Desktop\\Portfolio-Proj-WK\\DL-Strategies\\DL-Strat\\Lib\\site-packages\\sklearn\\linear_model\\_ridge.py:216: LinAlgWarning: Ill-conditioned matrix (rcond=4.66634e-21): result may not be accurate.\n",
      "  return linalg.solve(A, Xy, assume_a=\"pos\", overwrite_a=True).T\n"
     ]
    },
    {
     "name": "stdout",
     "output_type": "stream",
     "text": [
      "Fitting estimator with 113 features.\n"
     ]
    },
    {
     "name": "stderr",
     "output_type": "stream",
     "text": [
      "c:\\Users\\ryanm\\Desktop\\Portfolio-Proj-WK\\DL-Strategies\\DL-Strat\\Lib\\site-packages\\sklearn\\linear_model\\_ridge.py:216: LinAlgWarning: Ill-conditioned matrix (rcond=4.57892e-21): result may not be accurate.\n",
      "  return linalg.solve(A, Xy, assume_a=\"pos\", overwrite_a=True).T\n"
     ]
    },
    {
     "name": "stdout",
     "output_type": "stream",
     "text": [
      "Fitting estimator with 112 features.\n"
     ]
    },
    {
     "name": "stderr",
     "output_type": "stream",
     "text": [
      "c:\\Users\\ryanm\\Desktop\\Portfolio-Proj-WK\\DL-Strategies\\DL-Strat\\Lib\\site-packages\\sklearn\\linear_model\\_ridge.py:216: LinAlgWarning: Ill-conditioned matrix (rcond=6.69332e-21): result may not be accurate.\n",
      "  return linalg.solve(A, Xy, assume_a=\"pos\", overwrite_a=True).T\n"
     ]
    },
    {
     "name": "stdout",
     "output_type": "stream",
     "text": [
      "Fitting estimator with 111 features.\n"
     ]
    },
    {
     "name": "stderr",
     "output_type": "stream",
     "text": [
      "c:\\Users\\ryanm\\Desktop\\Portfolio-Proj-WK\\DL-Strategies\\DL-Strat\\Lib\\site-packages\\sklearn\\linear_model\\_ridge.py:216: LinAlgWarning: Ill-conditioned matrix (rcond=1.40447e-20): result may not be accurate.\n",
      "  return linalg.solve(A, Xy, assume_a=\"pos\", overwrite_a=True).T\n"
     ]
    },
    {
     "name": "stdout",
     "output_type": "stream",
     "text": [
      "Fitting estimator with 110 features.\n",
      "Fitting estimator with 109 features.\n",
      "Fitting estimator with 108 features.\n",
      "Fitting estimator with 107 features.\n",
      "Fitting estimator with 106 features.\n",
      "Fitting estimator with 105 features.\n",
      "Fitting estimator with 104 features.\n",
      "Fitting estimator with 103 features.\n",
      "Fitting estimator with 102 features.\n",
      "Fitting estimator with 101 features.\n",
      "Fitting estimator with 100 features.\n",
      "Fitting estimator with 99 features.\n",
      "Fitting estimator with 98 features.\n",
      "Fitting estimator with 97 features.\n",
      "Fitting estimator with 96 features.\n",
      "Fitting estimator with 95 features.\n",
      "Fitting estimator with 94 features.\n",
      "Fitting estimator with 93 features.\n",
      "Fitting estimator with 92 features.\n",
      "Fitting estimator with 91 features.\n",
      "Fitting estimator with 90 features.\n",
      "Fitting estimator with 89 features.\n",
      "Fitting estimator with 88 features.\n",
      "Fitting estimator with 87 features.\n",
      "Fitting estimator with 86 features.\n",
      "Fitting estimator with 85 features.\n",
      "Fitting estimator with 84 features.\n",
      "Fitting estimator with 83 features.\n",
      "Fitting estimator with 82 features.\n",
      "Fitting estimator with 81 features.\n",
      "Fitting estimator with 80 features.\n",
      "Fitting estimator with 79 features.\n",
      "Fitting estimator with 78 features.\n",
      "Fitting estimator with 77 features.\n",
      "Fitting estimator with 76 features.\n",
      "Fitting estimator with 75 features.\n",
      "Fitting estimator with 74 features.\n",
      "Fitting estimator with 73 features.\n",
      "Fitting estimator with 72 features.\n",
      "Fitting estimator with 71 features.\n",
      "Fitting estimator with 70 features.\n",
      "Fitting estimator with 69 features.\n",
      "Fitting estimator with 68 features.\n",
      "Fitting estimator with 67 features.\n",
      "Fitting estimator with 66 features.\n",
      "Fitting estimator with 65 features.\n",
      "Fitting estimator with 64 features.\n",
      "Fitting estimator with 63 features.\n",
      "Fitting estimator with 62 features.\n",
      "Fitting estimator with 61 features.\n",
      "Fitting estimator with 60 features.\n",
      "Fitting estimator with 59 features.\n",
      "Fitting estimator with 58 features.\n",
      "Fitting estimator with 57 features.\n",
      "Fitting estimator with 56 features.\n",
      "Fitting estimator with 55 features.\n",
      "Fitting estimator with 54 features.\n",
      "Fitting estimator with 53 features.\n",
      "Fitting estimator with 52 features.\n",
      "Fitting estimator with 51 features.\n",
      "Fitting estimator with 50 features.\n",
      "Fitting estimator with 49 features.\n",
      "Fitting estimator with 48 features.\n",
      "Fitting estimator with 47 features.\n",
      "Fitting estimator with 46 features.\n",
      "Fitting estimator with 45 features.\n",
      "Fitting estimator with 44 features.\n",
      "Fitting estimator with 43 features.\n",
      "Fitting estimator with 42 features.\n",
      "Fitting estimator with 41 features.\n",
      "Fitting estimator with 40 features.\n",
      "Fitting estimator with 39 features.\n",
      "Fitting estimator with 38 features.\n",
      "Fitting estimator with 37 features.\n",
      "Fitting estimator with 36 features.\n",
      "Fitting estimator with 35 features.\n",
      "Fitting estimator with 34 features.\n",
      "Fitting estimator with 33 features.\n",
      "Fitting estimator with 32 features.\n",
      "Fitting estimator with 31 features.\n",
      "Fitting estimator with 30 features.\n",
      "Fitting estimator with 29 features.\n",
      "Fitting estimator with 28 features.\n",
      "Fitting estimator with 27 features.\n",
      "Fitting estimator with 26 features.\n",
      "Fitting estimator with 25 features.\n",
      "Fitting estimator with 24 features.\n",
      "Fitting estimator with 23 features.\n",
      "Fitting estimator with 22 features.\n",
      "Fitting estimator with 21 features.\n",
      "Fitting estimator with 20 features.\n",
      "Fitting estimator with 19 features.\n",
      "Fitting estimator with 18 features.\n",
      "Fitting estimator with 17 features.\n",
      "Fitting estimator with 16 features.\n",
      "Fitting estimator with 15 features.\n",
      "Fitting estimator with 14 features.\n",
      "Fitting estimator with 13 features.\n",
      "Fitting estimator with 12 features.\n",
      "Fitting estimator with 11 features.\n",
      "Fitting estimator with 10 features.\n",
      "Fitting estimator with 9 features.\n",
      "Fitting estimator with 8 features.\n",
      "Fitting estimator with 7 features.\n",
      "Fitting estimator with 6 features.\n",
      "Fitting estimator with 5 features.\n",
      "Fitting estimator with 4 features.\n",
      "Fitting estimator with 3 features.\n",
      "Fitting estimator with 2 features.\n",
      "Fitting estimator with 151 features.\n"
     ]
    },
    {
     "name": "stderr",
     "output_type": "stream",
     "text": [
      "c:\\Users\\ryanm\\Desktop\\Portfolio-Proj-WK\\DL-Strategies\\DL-Strat\\Lib\\site-packages\\sklearn\\linear_model\\_ridge.py:216: LinAlgWarning: Ill-conditioned matrix (rcond=3.5935e-24): result may not be accurate.\n",
      "  return linalg.solve(A, Xy, assume_a=\"pos\", overwrite_a=True).T\n"
     ]
    },
    {
     "name": "stdout",
     "output_type": "stream",
     "text": [
      "Fitting estimator with 150 features.\n"
     ]
    },
    {
     "name": "stderr",
     "output_type": "stream",
     "text": [
      "c:\\Users\\ryanm\\Desktop\\Portfolio-Proj-WK\\DL-Strategies\\DL-Strat\\Lib\\site-packages\\sklearn\\linear_model\\_ridge.py:216: LinAlgWarning: Ill-conditioned matrix (rcond=3.5968e-24): result may not be accurate.\n",
      "  return linalg.solve(A, Xy, assume_a=\"pos\", overwrite_a=True).T\n"
     ]
    },
    {
     "name": "stdout",
     "output_type": "stream",
     "text": [
      "Fitting estimator with 149 features.\n"
     ]
    },
    {
     "name": "stderr",
     "output_type": "stream",
     "text": [
      "c:\\Users\\ryanm\\Desktop\\Portfolio-Proj-WK\\DL-Strategies\\DL-Strat\\Lib\\site-packages\\sklearn\\linear_model\\_ridge.py:216: LinAlgWarning: Ill-conditioned matrix (rcond=3.59757e-24): result may not be accurate.\n",
      "  return linalg.solve(A, Xy, assume_a=\"pos\", overwrite_a=True).T\n"
     ]
    },
    {
     "name": "stdout",
     "output_type": "stream",
     "text": [
      "Fitting estimator with 148 features.\n",
      "Fitting estimator with 147 features.\n"
     ]
    },
    {
     "name": "stderr",
     "output_type": "stream",
     "text": [
      "c:\\Users\\ryanm\\Desktop\\Portfolio-Proj-WK\\DL-Strategies\\DL-Strat\\Lib\\site-packages\\sklearn\\linear_model\\_ridge.py:216: LinAlgWarning: Ill-conditioned matrix (rcond=5.97483e-24): result may not be accurate.\n",
      "  return linalg.solve(A, Xy, assume_a=\"pos\", overwrite_a=True).T\n"
     ]
    },
    {
     "name": "stdout",
     "output_type": "stream",
     "text": [
      "Fitting estimator with 146 features.\n"
     ]
    },
    {
     "name": "stderr",
     "output_type": "stream",
     "text": [
      "c:\\Users\\ryanm\\Desktop\\Portfolio-Proj-WK\\DL-Strategies\\DL-Strat\\Lib\\site-packages\\sklearn\\linear_model\\_ridge.py:216: LinAlgWarning: Ill-conditioned matrix (rcond=8.93173e-24): result may not be accurate.\n",
      "  return linalg.solve(A, Xy, assume_a=\"pos\", overwrite_a=True).T\n"
     ]
    },
    {
     "name": "stdout",
     "output_type": "stream",
     "text": [
      "Fitting estimator with 145 features.\n"
     ]
    },
    {
     "name": "stderr",
     "output_type": "stream",
     "text": [
      "c:\\Users\\ryanm\\Desktop\\Portfolio-Proj-WK\\DL-Strategies\\DL-Strat\\Lib\\site-packages\\sklearn\\linear_model\\_ridge.py:216: LinAlgWarning: Ill-conditioned matrix (rcond=1.76629e-23): result may not be accurate.\n",
      "  return linalg.solve(A, Xy, assume_a=\"pos\", overwrite_a=True).T\n"
     ]
    },
    {
     "name": "stdout",
     "output_type": "stream",
     "text": [
      "Fitting estimator with 144 features.\n"
     ]
    },
    {
     "name": "stderr",
     "output_type": "stream",
     "text": [
      "c:\\Users\\ryanm\\Desktop\\Portfolio-Proj-WK\\DL-Strategies\\DL-Strat\\Lib\\site-packages\\sklearn\\linear_model\\_ridge.py:216: LinAlgWarning: Ill-conditioned matrix (rcond=3.73557e-21): result may not be accurate.\n",
      "  return linalg.solve(A, Xy, assume_a=\"pos\", overwrite_a=True).T\n"
     ]
    },
    {
     "name": "stdout",
     "output_type": "stream",
     "text": [
      "Fitting estimator with 143 features.\n"
     ]
    },
    {
     "name": "stderr",
     "output_type": "stream",
     "text": [
      "c:\\Users\\ryanm\\Desktop\\Portfolio-Proj-WK\\DL-Strategies\\DL-Strat\\Lib\\site-packages\\sklearn\\linear_model\\_ridge.py:216: LinAlgWarning: Ill-conditioned matrix (rcond=3.6705e-21): result may not be accurate.\n",
      "  return linalg.solve(A, Xy, assume_a=\"pos\", overwrite_a=True).T\n"
     ]
    },
    {
     "name": "stdout",
     "output_type": "stream",
     "text": [
      "Fitting estimator with 142 features.\n"
     ]
    },
    {
     "name": "stderr",
     "output_type": "stream",
     "text": [
      "c:\\Users\\ryanm\\Desktop\\Portfolio-Proj-WK\\DL-Strategies\\DL-Strat\\Lib\\site-packages\\sklearn\\linear_model\\_ridge.py:216: LinAlgWarning: Ill-conditioned matrix (rcond=5.41106e-21): result may not be accurate.\n",
      "  return linalg.solve(A, Xy, assume_a=\"pos\", overwrite_a=True).T\n"
     ]
    },
    {
     "name": "stdout",
     "output_type": "stream",
     "text": [
      "Fitting estimator with 141 features.\n"
     ]
    },
    {
     "name": "stderr",
     "output_type": "stream",
     "text": [
      "c:\\Users\\ryanm\\Desktop\\Portfolio-Proj-WK\\DL-Strategies\\DL-Strat\\Lib\\site-packages\\sklearn\\linear_model\\_ridge.py:216: LinAlgWarning: Ill-conditioned matrix (rcond=1.12746e-20): result may not be accurate.\n",
      "  return linalg.solve(A, Xy, assume_a=\"pos\", overwrite_a=True).T\n"
     ]
    },
    {
     "name": "stdout",
     "output_type": "stream",
     "text": [
      "Fitting estimator with 140 features.\n",
      "Fitting estimator with 139 features.\n",
      "Fitting estimator with 138 features.\n",
      "Fitting estimator with 137 features.\n",
      "Fitting estimator with 136 features.\n",
      "Fitting estimator with 135 features.\n",
      "Fitting estimator with 134 features.\n",
      "Fitting estimator with 133 features.\n",
      "Fitting estimator with 132 features.\n",
      "Fitting estimator with 131 features.\n",
      "Fitting estimator with 130 features.\n",
      "Fitting estimator with 129 features.\n",
      "Fitting estimator with 128 features.\n",
      "Fitting estimator with 127 features.\n",
      "Fitting estimator with 126 features.\n",
      "Fitting estimator with 125 features.\n",
      "Fitting estimator with 124 features.\n",
      "Fitting estimator with 123 features.\n",
      "Fitting estimator with 122 features.\n",
      "Fitting estimator with 121 features.\n",
      "Fitting estimator with 120 features.\n",
      "Fitting estimator with 119 features.\n",
      "Fitting estimator with 118 features.\n",
      "Fitting estimator with 117 features.\n",
      "Fitting estimator with 116 features.\n",
      "Fitting estimator with 115 features.\n",
      "Fitting estimator with 114 features.\n",
      "Fitting estimator with 113 features.\n",
      "Fitting estimator with 112 features.\n",
      "Fitting estimator with 111 features.\n",
      "Fitting estimator with 110 features.\n",
      "Fitting estimator with 109 features.\n",
      "Fitting estimator with 108 features.\n",
      "Fitting estimator with 107 features.\n",
      "Fitting estimator with 106 features.\n",
      "Fitting estimator with 105 features.\n",
      "Fitting estimator with 104 features.\n",
      "Fitting estimator with 103 features.\n",
      "Fitting estimator with 102 features.\n",
      "Fitting estimator with 101 features.\n",
      "Fitting estimator with 100 features.\n",
      "Fitting estimator with 99 features.\n",
      "Fitting estimator with 98 features.\n",
      "Fitting estimator with 97 features.\n",
      "Fitting estimator with 96 features.\n",
      "Fitting estimator with 95 features.\n",
      "Fitting estimator with 94 features.\n",
      "Fitting estimator with 93 features.\n",
      "Fitting estimator with 92 features.\n",
      "Fitting estimator with 91 features.\n",
      "Fitting estimator with 90 features.\n",
      "Fitting estimator with 89 features.\n",
      "Fitting estimator with 88 features.\n",
      "Fitting estimator with 87 features.\n",
      "Fitting estimator with 86 features.\n",
      "Fitting estimator with 85 features.\n",
      "Fitting estimator with 84 features.\n",
      "Fitting estimator with 83 features.\n",
      "Fitting estimator with 82 features.\n",
      "Fitting estimator with 81 features.\n",
      "Fitting estimator with 80 features.\n",
      "Fitting estimator with 79 features.\n",
      "Fitting estimator with 78 features.\n",
      "Fitting estimator with 77 features.\n",
      "Fitting estimator with 76 features.\n",
      "Fitting estimator with 75 features.\n",
      "Fitting estimator with 74 features.\n",
      "Fitting estimator with 73 features.\n",
      "Fitting estimator with 72 features.\n",
      "Fitting estimator with 71 features.\n",
      "Fitting estimator with 70 features.\n",
      "Fitting estimator with 69 features.\n",
      "Fitting estimator with 68 features.\n",
      "Fitting estimator with 67 features.\n",
      "Fitting estimator with 66 features.\n",
      "Fitting estimator with 65 features.\n",
      "Fitting estimator with 64 features.\n",
      "Fitting estimator with 63 features.\n",
      "Fitting estimator with 62 features.\n",
      "Fitting estimator with 61 features.\n",
      "Fitting estimator with 60 features.\n",
      "Fitting estimator with 59 features.\n",
      "Fitting estimator with 58 features.\n",
      "Fitting estimator with 57 features.\n",
      "Fitting estimator with 56 features.\n",
      "Fitting estimator with 55 features.\n",
      "Fitting estimator with 54 features.\n",
      "Fitting estimator with 53 features.\n",
      "Fitting estimator with 52 features.\n",
      "Fitting estimator with 51 features.\n",
      "Fitting estimator with 50 features.\n",
      "Fitting estimator with 49 features.\n",
      "Fitting estimator with 48 features.\n",
      "Fitting estimator with 47 features.\n",
      "Fitting estimator with 46 features.\n",
      "Fitting estimator with 45 features.\n",
      "Fitting estimator with 44 features.\n",
      "Fitting estimator with 43 features.\n",
      "Fitting estimator with 42 features.\n",
      "Fitting estimator with 41 features.\n",
      "Fitting estimator with 40 features.\n",
      "Fitting estimator with 39 features.\n",
      "Fitting estimator with 38 features.\n",
      "Fitting estimator with 37 features.\n",
      "Fitting estimator with 36 features.\n",
      "Fitting estimator with 35 features.\n",
      "Fitting estimator with 34 features.\n",
      "Fitting estimator with 33 features.\n",
      "Fitting estimator with 32 features.\n",
      "Fitting estimator with 31 features.\n",
      "Fitting estimator with 30 features.\n",
      "Fitting estimator with 29 features.\n",
      "Fitting estimator with 28 features.\n",
      "Fitting estimator with 27 features.\n",
      "Fitting estimator with 26 features.\n",
      "Fitting estimator with 25 features.\n",
      "Fitting estimator with 24 features.\n",
      "Fitting estimator with 23 features.\n",
      "Fitting estimator with 22 features.\n",
      "Fitting estimator with 21 features.\n",
      "Fitting estimator with 20 features.\n",
      "Fitting estimator with 19 features.\n",
      "Fitting estimator with 18 features.\n",
      "Fitting estimator with 17 features.\n",
      "Fitting estimator with 16 features.\n",
      "Fitting estimator with 15 features.\n",
      "Fitting estimator with 14 features.\n",
      "Fitting estimator with 13 features.\n",
      "Fitting estimator with 12 features.\n",
      "Fitting estimator with 11 features.\n",
      "Fitting estimator with 10 features.\n",
      "Fitting estimator with 9 features.\n",
      "Fitting estimator with 8 features.\n",
      "Fitting estimator with 7 features.\n",
      "Fitting estimator with 6 features.\n",
      "Fitting estimator with 5 features.\n",
      "Fitting estimator with 4 features.\n",
      "Fitting estimator with 3 features.\n",
      "Optimal number of features: 2\n"
     ]
    }
   ],
   "source": [
    "# Now let's initialize the Ridge model.\n",
    "ridge_sec = Ridge(alpha = 0.5, random_state = 42)\n",
    "\n",
    "# Now set up the RFECV and implement and fit the Ridge model.\n",
    "rfecv_sec = RFECV(estimator = ridge_sec, step = 1, cv = 5, scoring = 'neg_root_mean_squared_error', verbose = 2)\n",
    "rfecv_sec.fit(X_train, y_train)\n",
    "\n",
    "# Let's see how many features are optimal for this model\n",
    "print(f\"Optimal number of features: {rfecv_sec.n_features_}\")\n"
   ]
  },
  {
   "cell_type": "markdown",
   "metadata": {},
   "source": [
    "#### Let's go over the results from our Ridge model.  We will look at the features that our RFECV dynamically selected as the best features from our data."
   ]
  },
  {
   "cell_type": "code",
   "execution_count": 6,
   "metadata": {},
   "outputs": [
    {
     "name": "stdout",
     "output_type": "stream",
     "text": [
      "Selected important features: Index(['EMA_sec', 'Diff_Close_EMA_sec'], dtype='object')\n"
     ]
    }
   ],
   "source": [
    "rfecv_features = X_train.columns[rfecv_sec.support_] # Optimum features\n",
    "\n",
    "print(f\"Selected important features: {rfecv_features}\")\n",
    "\n",
    "# Let's then save our optimum features for our next repeated model\n",
    "X_train_selected = X_train[rfecv_features]\n",
    "X_test_selected = X_test[rfecv_features]\n"
   ]
  },
  {
   "cell_type": "markdown",
   "metadata": {},
   "source": [
    "#### We will now re-run the Ridge model using only our optimum features.  RFECV has done its job so we don't need to use it again."
   ]
  },
  {
   "cell_type": "code",
   "execution_count": 7,
   "metadata": {},
   "outputs": [
    {
     "data": {
      "text/html": [
       "<style>#sk-container-id-1 {\n",
       "  /* Definition of color scheme common for light and dark mode */\n",
       "  --sklearn-color-text: black;\n",
       "  --sklearn-color-line: gray;\n",
       "  /* Definition of color scheme for unfitted estimators */\n",
       "  --sklearn-color-unfitted-level-0: #fff5e6;\n",
       "  --sklearn-color-unfitted-level-1: #f6e4d2;\n",
       "  --sklearn-color-unfitted-level-2: #ffe0b3;\n",
       "  --sklearn-color-unfitted-level-3: chocolate;\n",
       "  /* Definition of color scheme for fitted estimators */\n",
       "  --sklearn-color-fitted-level-0: #f0f8ff;\n",
       "  --sklearn-color-fitted-level-1: #d4ebff;\n",
       "  --sklearn-color-fitted-level-2: #b3dbfd;\n",
       "  --sklearn-color-fitted-level-3: cornflowerblue;\n",
       "\n",
       "  /* Specific color for light theme */\n",
       "  --sklearn-color-text-on-default-background: var(--sg-text-color, var(--theme-code-foreground, var(--jp-content-font-color1, black)));\n",
       "  --sklearn-color-background: var(--sg-background-color, var(--theme-background, var(--jp-layout-color0, white)));\n",
       "  --sklearn-color-border-box: var(--sg-text-color, var(--theme-code-foreground, var(--jp-content-font-color1, black)));\n",
       "  --sklearn-color-icon: #696969;\n",
       "\n",
       "  @media (prefers-color-scheme: dark) {\n",
       "    /* Redefinition of color scheme for dark theme */\n",
       "    --sklearn-color-text-on-default-background: var(--sg-text-color, var(--theme-code-foreground, var(--jp-content-font-color1, white)));\n",
       "    --sklearn-color-background: var(--sg-background-color, var(--theme-background, var(--jp-layout-color0, #111)));\n",
       "    --sklearn-color-border-box: var(--sg-text-color, var(--theme-code-foreground, var(--jp-content-font-color1, white)));\n",
       "    --sklearn-color-icon: #878787;\n",
       "  }\n",
       "}\n",
       "\n",
       "#sk-container-id-1 {\n",
       "  color: var(--sklearn-color-text);\n",
       "}\n",
       "\n",
       "#sk-container-id-1 pre {\n",
       "  padding: 0;\n",
       "}\n",
       "\n",
       "#sk-container-id-1 input.sk-hidden--visually {\n",
       "  border: 0;\n",
       "  clip: rect(1px 1px 1px 1px);\n",
       "  clip: rect(1px, 1px, 1px, 1px);\n",
       "  height: 1px;\n",
       "  margin: -1px;\n",
       "  overflow: hidden;\n",
       "  padding: 0;\n",
       "  position: absolute;\n",
       "  width: 1px;\n",
       "}\n",
       "\n",
       "#sk-container-id-1 div.sk-dashed-wrapped {\n",
       "  border: 1px dashed var(--sklearn-color-line);\n",
       "  margin: 0 0.4em 0.5em 0.4em;\n",
       "  box-sizing: border-box;\n",
       "  padding-bottom: 0.4em;\n",
       "  background-color: var(--sklearn-color-background);\n",
       "}\n",
       "\n",
       "#sk-container-id-1 div.sk-container {\n",
       "  /* jupyter's `normalize.less` sets `[hidden] { display: none; }`\n",
       "     but bootstrap.min.css set `[hidden] { display: none !important; }`\n",
       "     so we also need the `!important` here to be able to override the\n",
       "     default hidden behavior on the sphinx rendered scikit-learn.org.\n",
       "     See: https://github.com/scikit-learn/scikit-learn/issues/21755 */\n",
       "  display: inline-block !important;\n",
       "  position: relative;\n",
       "}\n",
       "\n",
       "#sk-container-id-1 div.sk-text-repr-fallback {\n",
       "  display: none;\n",
       "}\n",
       "\n",
       "div.sk-parallel-item,\n",
       "div.sk-serial,\n",
       "div.sk-item {\n",
       "  /* draw centered vertical line to link estimators */\n",
       "  background-image: linear-gradient(var(--sklearn-color-text-on-default-background), var(--sklearn-color-text-on-default-background));\n",
       "  background-size: 2px 100%;\n",
       "  background-repeat: no-repeat;\n",
       "  background-position: center center;\n",
       "}\n",
       "\n",
       "/* Parallel-specific style estimator block */\n",
       "\n",
       "#sk-container-id-1 div.sk-parallel-item::after {\n",
       "  content: \"\";\n",
       "  width: 100%;\n",
       "  border-bottom: 2px solid var(--sklearn-color-text-on-default-background);\n",
       "  flex-grow: 1;\n",
       "}\n",
       "\n",
       "#sk-container-id-1 div.sk-parallel {\n",
       "  display: flex;\n",
       "  align-items: stretch;\n",
       "  justify-content: center;\n",
       "  background-color: var(--sklearn-color-background);\n",
       "  position: relative;\n",
       "}\n",
       "\n",
       "#sk-container-id-1 div.sk-parallel-item {\n",
       "  display: flex;\n",
       "  flex-direction: column;\n",
       "}\n",
       "\n",
       "#sk-container-id-1 div.sk-parallel-item:first-child::after {\n",
       "  align-self: flex-end;\n",
       "  width: 50%;\n",
       "}\n",
       "\n",
       "#sk-container-id-1 div.sk-parallel-item:last-child::after {\n",
       "  align-self: flex-start;\n",
       "  width: 50%;\n",
       "}\n",
       "\n",
       "#sk-container-id-1 div.sk-parallel-item:only-child::after {\n",
       "  width: 0;\n",
       "}\n",
       "\n",
       "/* Serial-specific style estimator block */\n",
       "\n",
       "#sk-container-id-1 div.sk-serial {\n",
       "  display: flex;\n",
       "  flex-direction: column;\n",
       "  align-items: center;\n",
       "  background-color: var(--sklearn-color-background);\n",
       "  padding-right: 1em;\n",
       "  padding-left: 1em;\n",
       "}\n",
       "\n",
       "\n",
       "/* Toggleable style: style used for estimator/Pipeline/ColumnTransformer box that is\n",
       "clickable and can be expanded/collapsed.\n",
       "- Pipeline and ColumnTransformer use this feature and define the default style\n",
       "- Estimators will overwrite some part of the style using the `sk-estimator` class\n",
       "*/\n",
       "\n",
       "/* Pipeline and ColumnTransformer style (default) */\n",
       "\n",
       "#sk-container-id-1 div.sk-toggleable {\n",
       "  /* Default theme specific background. It is overwritten whether we have a\n",
       "  specific estimator or a Pipeline/ColumnTransformer */\n",
       "  background-color: var(--sklearn-color-background);\n",
       "}\n",
       "\n",
       "/* Toggleable label */\n",
       "#sk-container-id-1 label.sk-toggleable__label {\n",
       "  cursor: pointer;\n",
       "  display: block;\n",
       "  width: 100%;\n",
       "  margin-bottom: 0;\n",
       "  padding: 0.5em;\n",
       "  box-sizing: border-box;\n",
       "  text-align: center;\n",
       "}\n",
       "\n",
       "#sk-container-id-1 label.sk-toggleable__label-arrow:before {\n",
       "  /* Arrow on the left of the label */\n",
       "  content: \"▸\";\n",
       "  float: left;\n",
       "  margin-right: 0.25em;\n",
       "  color: var(--sklearn-color-icon);\n",
       "}\n",
       "\n",
       "#sk-container-id-1 label.sk-toggleable__label-arrow:hover:before {\n",
       "  color: var(--sklearn-color-text);\n",
       "}\n",
       "\n",
       "/* Toggleable content - dropdown */\n",
       "\n",
       "#sk-container-id-1 div.sk-toggleable__content {\n",
       "  max-height: 0;\n",
       "  max-width: 0;\n",
       "  overflow: hidden;\n",
       "  text-align: left;\n",
       "  /* unfitted */\n",
       "  background-color: var(--sklearn-color-unfitted-level-0);\n",
       "}\n",
       "\n",
       "#sk-container-id-1 div.sk-toggleable__content.fitted {\n",
       "  /* fitted */\n",
       "  background-color: var(--sklearn-color-fitted-level-0);\n",
       "}\n",
       "\n",
       "#sk-container-id-1 div.sk-toggleable__content pre {\n",
       "  margin: 0.2em;\n",
       "  border-radius: 0.25em;\n",
       "  color: var(--sklearn-color-text);\n",
       "  /* unfitted */\n",
       "  background-color: var(--sklearn-color-unfitted-level-0);\n",
       "}\n",
       "\n",
       "#sk-container-id-1 div.sk-toggleable__content.fitted pre {\n",
       "  /* unfitted */\n",
       "  background-color: var(--sklearn-color-fitted-level-0);\n",
       "}\n",
       "\n",
       "#sk-container-id-1 input.sk-toggleable__control:checked~div.sk-toggleable__content {\n",
       "  /* Expand drop-down */\n",
       "  max-height: 200px;\n",
       "  max-width: 100%;\n",
       "  overflow: auto;\n",
       "}\n",
       "\n",
       "#sk-container-id-1 input.sk-toggleable__control:checked~label.sk-toggleable__label-arrow:before {\n",
       "  content: \"▾\";\n",
       "}\n",
       "\n",
       "/* Pipeline/ColumnTransformer-specific style */\n",
       "\n",
       "#sk-container-id-1 div.sk-label input.sk-toggleable__control:checked~label.sk-toggleable__label {\n",
       "  color: var(--sklearn-color-text);\n",
       "  background-color: var(--sklearn-color-unfitted-level-2);\n",
       "}\n",
       "\n",
       "#sk-container-id-1 div.sk-label.fitted input.sk-toggleable__control:checked~label.sk-toggleable__label {\n",
       "  background-color: var(--sklearn-color-fitted-level-2);\n",
       "}\n",
       "\n",
       "/* Estimator-specific style */\n",
       "\n",
       "/* Colorize estimator box */\n",
       "#sk-container-id-1 div.sk-estimator input.sk-toggleable__control:checked~label.sk-toggleable__label {\n",
       "  /* unfitted */\n",
       "  background-color: var(--sklearn-color-unfitted-level-2);\n",
       "}\n",
       "\n",
       "#sk-container-id-1 div.sk-estimator.fitted input.sk-toggleable__control:checked~label.sk-toggleable__label {\n",
       "  /* fitted */\n",
       "  background-color: var(--sklearn-color-fitted-level-2);\n",
       "}\n",
       "\n",
       "#sk-container-id-1 div.sk-label label.sk-toggleable__label,\n",
       "#sk-container-id-1 div.sk-label label {\n",
       "  /* The background is the default theme color */\n",
       "  color: var(--sklearn-color-text-on-default-background);\n",
       "}\n",
       "\n",
       "/* On hover, darken the color of the background */\n",
       "#sk-container-id-1 div.sk-label:hover label.sk-toggleable__label {\n",
       "  color: var(--sklearn-color-text);\n",
       "  background-color: var(--sklearn-color-unfitted-level-2);\n",
       "}\n",
       "\n",
       "/* Label box, darken color on hover, fitted */\n",
       "#sk-container-id-1 div.sk-label.fitted:hover label.sk-toggleable__label.fitted {\n",
       "  color: var(--sklearn-color-text);\n",
       "  background-color: var(--sklearn-color-fitted-level-2);\n",
       "}\n",
       "\n",
       "/* Estimator label */\n",
       "\n",
       "#sk-container-id-1 div.sk-label label {\n",
       "  font-family: monospace;\n",
       "  font-weight: bold;\n",
       "  display: inline-block;\n",
       "  line-height: 1.2em;\n",
       "}\n",
       "\n",
       "#sk-container-id-1 div.sk-label-container {\n",
       "  text-align: center;\n",
       "}\n",
       "\n",
       "/* Estimator-specific */\n",
       "#sk-container-id-1 div.sk-estimator {\n",
       "  font-family: monospace;\n",
       "  border: 1px dotted var(--sklearn-color-border-box);\n",
       "  border-radius: 0.25em;\n",
       "  box-sizing: border-box;\n",
       "  margin-bottom: 0.5em;\n",
       "  /* unfitted */\n",
       "  background-color: var(--sklearn-color-unfitted-level-0);\n",
       "}\n",
       "\n",
       "#sk-container-id-1 div.sk-estimator.fitted {\n",
       "  /* fitted */\n",
       "  background-color: var(--sklearn-color-fitted-level-0);\n",
       "}\n",
       "\n",
       "/* on hover */\n",
       "#sk-container-id-1 div.sk-estimator:hover {\n",
       "  /* unfitted */\n",
       "  background-color: var(--sklearn-color-unfitted-level-2);\n",
       "}\n",
       "\n",
       "#sk-container-id-1 div.sk-estimator.fitted:hover {\n",
       "  /* fitted */\n",
       "  background-color: var(--sklearn-color-fitted-level-2);\n",
       "}\n",
       "\n",
       "/* Specification for estimator info (e.g. \"i\" and \"?\") */\n",
       "\n",
       "/* Common style for \"i\" and \"?\" */\n",
       "\n",
       ".sk-estimator-doc-link,\n",
       "a:link.sk-estimator-doc-link,\n",
       "a:visited.sk-estimator-doc-link {\n",
       "  float: right;\n",
       "  font-size: smaller;\n",
       "  line-height: 1em;\n",
       "  font-family: monospace;\n",
       "  background-color: var(--sklearn-color-background);\n",
       "  border-radius: 1em;\n",
       "  height: 1em;\n",
       "  width: 1em;\n",
       "  text-decoration: none !important;\n",
       "  margin-left: 1ex;\n",
       "  /* unfitted */\n",
       "  border: var(--sklearn-color-unfitted-level-1) 1pt solid;\n",
       "  color: var(--sklearn-color-unfitted-level-1);\n",
       "}\n",
       "\n",
       ".sk-estimator-doc-link.fitted,\n",
       "a:link.sk-estimator-doc-link.fitted,\n",
       "a:visited.sk-estimator-doc-link.fitted {\n",
       "  /* fitted */\n",
       "  border: var(--sklearn-color-fitted-level-1) 1pt solid;\n",
       "  color: var(--sklearn-color-fitted-level-1);\n",
       "}\n",
       "\n",
       "/* On hover */\n",
       "div.sk-estimator:hover .sk-estimator-doc-link:hover,\n",
       ".sk-estimator-doc-link:hover,\n",
       "div.sk-label-container:hover .sk-estimator-doc-link:hover,\n",
       ".sk-estimator-doc-link:hover {\n",
       "  /* unfitted */\n",
       "  background-color: var(--sklearn-color-unfitted-level-3);\n",
       "  color: var(--sklearn-color-background);\n",
       "  text-decoration: none;\n",
       "}\n",
       "\n",
       "div.sk-estimator.fitted:hover .sk-estimator-doc-link.fitted:hover,\n",
       ".sk-estimator-doc-link.fitted:hover,\n",
       "div.sk-label-container:hover .sk-estimator-doc-link.fitted:hover,\n",
       ".sk-estimator-doc-link.fitted:hover {\n",
       "  /* fitted */\n",
       "  background-color: var(--sklearn-color-fitted-level-3);\n",
       "  color: var(--sklearn-color-background);\n",
       "  text-decoration: none;\n",
       "}\n",
       "\n",
       "/* Span, style for the box shown on hovering the info icon */\n",
       ".sk-estimator-doc-link span {\n",
       "  display: none;\n",
       "  z-index: 9999;\n",
       "  position: relative;\n",
       "  font-weight: normal;\n",
       "  right: .2ex;\n",
       "  padding: .5ex;\n",
       "  margin: .5ex;\n",
       "  width: min-content;\n",
       "  min-width: 20ex;\n",
       "  max-width: 50ex;\n",
       "  color: var(--sklearn-color-text);\n",
       "  box-shadow: 2pt 2pt 4pt #999;\n",
       "  /* unfitted */\n",
       "  background: var(--sklearn-color-unfitted-level-0);\n",
       "  border: .5pt solid var(--sklearn-color-unfitted-level-3);\n",
       "}\n",
       "\n",
       ".sk-estimator-doc-link.fitted span {\n",
       "  /* fitted */\n",
       "  background: var(--sklearn-color-fitted-level-0);\n",
       "  border: var(--sklearn-color-fitted-level-3);\n",
       "}\n",
       "\n",
       ".sk-estimator-doc-link:hover span {\n",
       "  display: block;\n",
       "}\n",
       "\n",
       "/* \"?\"-specific style due to the `<a>` HTML tag */\n",
       "\n",
       "#sk-container-id-1 a.estimator_doc_link {\n",
       "  float: right;\n",
       "  font-size: 1rem;\n",
       "  line-height: 1em;\n",
       "  font-family: monospace;\n",
       "  background-color: var(--sklearn-color-background);\n",
       "  border-radius: 1rem;\n",
       "  height: 1rem;\n",
       "  width: 1rem;\n",
       "  text-decoration: none;\n",
       "  /* unfitted */\n",
       "  color: var(--sklearn-color-unfitted-level-1);\n",
       "  border: var(--sklearn-color-unfitted-level-1) 1pt solid;\n",
       "}\n",
       "\n",
       "#sk-container-id-1 a.estimator_doc_link.fitted {\n",
       "  /* fitted */\n",
       "  border: var(--sklearn-color-fitted-level-1) 1pt solid;\n",
       "  color: var(--sklearn-color-fitted-level-1);\n",
       "}\n",
       "\n",
       "/* On hover */\n",
       "#sk-container-id-1 a.estimator_doc_link:hover {\n",
       "  /* unfitted */\n",
       "  background-color: var(--sklearn-color-unfitted-level-3);\n",
       "  color: var(--sklearn-color-background);\n",
       "  text-decoration: none;\n",
       "}\n",
       "\n",
       "#sk-container-id-1 a.estimator_doc_link.fitted:hover {\n",
       "  /* fitted */\n",
       "  background-color: var(--sklearn-color-fitted-level-3);\n",
       "}\n",
       "</style><div id=\"sk-container-id-1\" class=\"sk-top-container\"><div class=\"sk-text-repr-fallback\"><pre>Ridge(alpha=0.5, random_state=42)</pre><b>In a Jupyter environment, please rerun this cell to show the HTML representation or trust the notebook. <br />On GitHub, the HTML representation is unable to render, please try loading this page with nbviewer.org.</b></div><div class=\"sk-container\" hidden><div class=\"sk-item\"><div class=\"sk-estimator fitted sk-toggleable\"><input class=\"sk-toggleable__control sk-hidden--visually\" id=\"sk-estimator-id-1\" type=\"checkbox\" checked><label for=\"sk-estimator-id-1\" class=\"sk-toggleable__label fitted sk-toggleable__label-arrow fitted\">&nbsp;&nbsp;Ridge<a class=\"sk-estimator-doc-link fitted\" rel=\"noreferrer\" target=\"_blank\" href=\"https://scikit-learn.org/1.5/modules/generated/sklearn.linear_model.Ridge.html\">?<span>Documentation for Ridge</span></a><span class=\"sk-estimator-doc-link fitted\">i<span>Fitted</span></span></label><div class=\"sk-toggleable__content fitted\"><pre>Ridge(alpha=0.5, random_state=42)</pre></div> </div></div></div></div>"
      ],
      "text/plain": [
       "Ridge(alpha=0.5, random_state=42)"
      ]
     },
     "execution_count": 7,
     "metadata": {},
     "output_type": "execute_result"
    }
   ],
   "source": [
    "ridge_sec_final = Ridge(alpha = 0.5, random_state = 42)\n",
    "ridge_sec_final.fit(X_train_selected, y_train)"
   ]
  },
  {
   "cell_type": "markdown",
   "metadata": {},
   "source": [
    "#### Now let's look at our predictions."
   ]
  },
  {
   "cell_type": "code",
   "execution_count": 8,
   "metadata": {},
   "outputs": [],
   "source": [
    "y_pred = ridge_sec_final.predict(X_test_selected)"
   ]
  },
  {
   "cell_type": "markdown",
   "metadata": {},
   "source": [
    "#### Let's see how we did by looking at some metrics, we will use the same ones we have used in other notebooks so far in this project."
   ]
  },
  {
   "cell_type": "code",
   "execution_count": 9,
   "metadata": {},
   "outputs": [
    {
     "name": "stdout",
     "output_type": "stream",
     "text": [
      "RMSE: 7.919888395783953e-08\n",
      "MAPE: 1.554781157762882e-10\n",
      "R2: 1.0\n",
      "Adjusted R2: 1.0\n"
     ]
    }
   ],
   "source": [
    "rmse = np.sqrt(mean_squared_error(y_test, y_pred))\n",
    "mape = mean_absolute_percentage_error(y_test, y_pred)\n",
    "r2 = r2_score(y_test, y_pred)\n",
    "\n",
    "n = X_test_selected.shape[0]\n",
    "p = X_test_selected.shape[0]\n",
    "adjusted_r2 = 1 - (1 - r2) * (n - 1) / (n - p - 1)\n",
    "\n",
    "print(f\"RMSE: {rmse}\")\n",
    "print(f\"MAPE: {mape}\")\n",
    "print(f\"R2: {r2}\")\n",
    "print(f\"Adjusted R2: {adjusted_r2}\")"
   ]
  },
  {
   "cell_type": "markdown",
   "metadata": {},
   "source": [
    "#### Metric review."
   ]
  },
  {
   "cell_type": "markdown",
   "metadata": {},
   "source": [
    "#### Now let's perform cross-validation to ensure we have done a good job with our model and selecting the best features, and to make sure we are not overfitting.  We will cross-validate for each metric we have chosen to use above in RMSE, MAPE, R2, and adjusted R2."
   ]
  },
  {
   "cell_type": "code",
   "execution_count": 10,
   "metadata": {},
   "outputs": [
    {
     "name": "stdout",
     "output_type": "stream",
     "text": [
      "Cross-validated RMSE: 3.980738886683202e-07\n",
      "Cross-validated MAPE: 7.941507197967914e-10\n",
      "Cross-validated R2: 1.0\n",
      "Cross-validated Adjusted R2: 1.0\n"
     ]
    }
   ],
   "source": [
    "# First we need to come up with separate \"scorers\" for both adjusted R2 and MAPE metrics, as well as RMSE.\n",
    "# The custom scorer for Adjusted R2.\n",
    "def adjusted_r2_score(r2, n, p):\n",
    "    return 1 - (1 - r2) * (n - 1) / (n - p - 1)\n",
    "\n",
    "# The MAPE scorer using the make_scorer import\n",
    "mape_scorer = make_scorer(mean_absolute_percentage_error, greater_is_better=False)\n",
    "\n",
    "# The RMSE scorer.\n",
    "rmse_scorer = make_scorer(lambda y_true, y_pred: np.sqrt(mean_squared_error(y_true, y_pred)), greater_is_better=False)\n",
    "\n",
    "# Now we will continue with our cross_validation, starting with the RMSE.\n",
    "cv_rmse_scores = cross_val_score(ridge_sec_final, X_test_selected, y_test, cv = 5, scoring = rmse_scorer)\n",
    "avg_rmse = np.mean(-cv_rmse_scores)\n",
    "\n",
    "# Let's look at our MAPE cross-val scores now\n",
    "cv_mape_scores = cross_val_score(ridge_sec_final, X_test_selected, y_test, cv = 5, scoring = mape_scorer)\n",
    "avg_mape = np.mean(-cv_mape_scores)\n",
    "\n",
    "# Now the R2 cross_val scores.\n",
    "cv_r2_scores = cross_val_score(ridge_sec_final, X_test_selected, y_test, cv = 5, scoring = 'r2')\n",
    "avg_r2 = np.mean(cv_r2_scores)\n",
    "\n",
    "# Finally the adjusted r2 cross-val scores.  We have to calculate this manually, works a bit differently.\n",
    "n = X_test_selected.shape[0]\n",
    "p = X_test_selected.shape[0]\n",
    "avg_adj_r2 = np.mean([adjusted_r2_score(r2, n, p) for r2 in cv_r2_scores])\n",
    "\n",
    "# Now we can print our results\n",
    "print(f\"Cross-validated RMSE: {avg_rmse}\")\n",
    "print(f\"Cross-validated MAPE: {avg_mape}\")\n",
    "print(f\"Cross-validated R2: {avg_r2}\")\n",
    "print(f\"Cross-validated Adjusted R2: {avg_adj_r2}\")\n",
    "\n"
   ]
  },
  {
   "cell_type": "markdown",
   "metadata": {},
   "source": [
    "#### Let's make a few plots to visualize the results of our models in this notebook.  As we have drawn up before we will plot an Actual vs Predicted plot and a Residuals plot."
   ]
  },
  {
   "cell_type": "code",
   "execution_count": 11,
   "metadata": {},
   "outputs": [
    {
     "data": {
      "image/png": "[encoded data removed]",
      "text/plain": [
       "<Figure size 1000x800 with 1 Axes>"
      ]
     },
     "metadata": {},
     "output_type": "display_data"
    }
   ],
   "source": [
    "# Plotting the Actual vs Predicted Values\n",
    "plt.figure(figsize = (10,8))\n",
    "\n",
    "plt.scatter(y_test, y_pred, color = 'blue', edgecolor = 'black', alpha = 0.5)\n",
    "plt.plot([y_test.min(), y_test.max()], [y_test.min(), y_test.max()], 'k--', lw=2)\n",
    "plt.xlabel('Actual Values')\n",
    "plt.ylabel('Predicted Values')\n",
    "plt.title('Actual vs Predicted')\n",
    "\n",
    "plt.grid(True)\n",
    "plt.show()"
   ]
  },
  {
   "cell_type": "markdown",
   "metadata": {},
   "source": [
    "#### Plot Review."
   ]
  },
  {
   "cell_type": "code",
   "execution_count": 12,
   "metadata": {},
   "outputs": [
    {
     "data": {
      "image/png": "[encoded data removed]",
      "text/plain": [
       "<Figure size 1000x800 with 1 Axes>"
      ]
     },
     "metadata": {},
     "output_type": "display_data"
    }
   ],
   "source": [
    "# Plotting the Residuals.\n",
    "residuals = y_test - y_pred\n",
    "\n",
    "plt.figure(figsize = (10,8))\n",
    "sns.histplot(residuals, kde = True, color = 'green')\n",
    "plt.title('Residuals Distribution')\n",
    "plt.xlabel('Residuals')\n",
    "\n",
    "plt.grid(True)\n",
    "plt.show()"
   ]
  },
  {
   "cell_type": "markdown",
   "metadata": {},
   "source": [
    "#### Plot Review."
   ]
  },
  {
   "cell_type": "markdown",
   "metadata": {},
   "source": [
    "#### Upon inital results it appears we have some data leakage going on, a lot of it to say the least.  Let's look at a correlation matrix to see what features have any unusally high relationships with our target."
   ]
  },
  {
   "cell_type": "code",
   "execution_count": 13,
   "metadata": {},
   "outputs": [
    {
     "name": "stdout",
     "output_type": "stream",
     "text": [
      "Correlation with y_train:\n",
      "Low_sec                   0.999919\n",
      "High_sec                  0.999914\n",
      "Open_sec                  0.999824\n",
      "Close_sec_Lag_1           0.999170\n",
      "Low_sec_Lag_1             0.999099\n",
      "                            ...   \n",
      "Volume_sec_Lag_2         -0.139384\n",
      "Volume_sec_Lag_3         -0.139726\n",
      "Volume_sec_Lag_1         -0.139786\n",
      "Volume_Lag_Avg_1_3_sec   -0.145859\n",
      "Volume_sec               -0.448063\n",
      "Length: 151, dtype: float64\n"
     ]
    }
   ],
   "source": [
    "# Set up the correlation matrix, checking correlation with y_trian first to examine highly correlated features.\n",
    "correlation_features = X_train.corrwith(y_train)\n",
    "\n",
    "corr_matrix = X_train.corr()\n",
    "\n",
    "print(\"Correlation with y_train:\")\n",
    "print(correlation_features.sort_values(ascending = False))\n"
   ]
  },
  {
   "cell_type": "markdown",
   "metadata": {},
   "source": [
    "#### We need to set up a threshold so we can isolate the features that are correlating too closely with our target, as these features are the ones causing the data leakage.  We will then work to isolate and then filter them out."
   ]
  },
  {
   "cell_type": "code",
   "execution_count": 14,
   "metadata": {},
   "outputs": [
    {
     "name": "stdout",
     "output_type": "stream",
     "text": [
      "Correlation Matrix:\n",
      "                             Volume_sec  Open_sec  High_sec   Low_sec  \\\n",
      "Volume_sec                     1.000000 -0.448036 -0.447609 -0.448412   \n",
      "Open_sec                      -0.448036  1.000000  0.999916  0.999909   \n",
      "High_sec                      -0.447609  0.999916  1.000000  0.999882   \n",
      "Low_sec                       -0.448412  0.999909  0.999882  1.000000   \n",
      "SMA_sec                       -0.447664  0.997131  0.997234  0.996922   \n",
      "...                                 ...       ...       ...       ...   \n",
      "Momentum_50_Lag_Std_1_3_sec   -0.314893  0.718408  0.719957  0.716515   \n",
      "OBV_Lag_Avg_1_3_sec            0.192196 -0.033322 -0.033275 -0.033397   \n",
      "OBV_Lag_Std_1_3_sec            0.400756 -0.090941 -0.090870 -0.090934   \n",
      "Diff_Close_EMA_sec            -0.141312  0.341600  0.341713  0.345774   \n",
      "Ratio_Close_EMA_sec           -0.078623  0.056314  0.056579  0.057905   \n",
      "\n",
      "                              SMA_sec   EMA_sec   RSI_sec   BBM_sec   BBU_sec  \\\n",
      "Volume_sec                  -0.447664 -0.448055 -0.070884 -0.447664 -0.448134   \n",
      "Open_sec                     0.997131  0.997962  0.036839  0.997131  0.995752   \n",
      "High_sec                     0.997234  0.998046  0.037182  0.997234  0.996007   \n",
      "Low_sec                      0.996922  0.997766  0.038335  0.996922  0.995402   \n",
      "SMA_sec                      1.000000  0.999810  0.011049  1.000000  0.998607   \n",
      "...                               ...       ...       ...       ...       ...   \n",
      "Momentum_50_Lag_Std_1_3_sec  0.724675  0.725385 -0.008932  0.724675  0.733417   \n",
      "OBV_Lag_Avg_1_3_sec         -0.035006 -0.034975  0.049270 -0.035006 -0.034454   \n",
      "OBV_Lag_Std_1_3_sec         -0.090945 -0.091312 -0.013800 -0.090945 -0.091160   \n",
      "Diff_Close_EMA_sec           0.274088  0.283512  0.362953  0.274088  0.272700   \n",
      "Ratio_Close_EMA_sec          0.021586  0.026281  0.703963  0.021586  0.020970   \n",
      "\n",
      "                              BBL_sec  ...  Momentum_7_Lag_Avg_1_3_sec  \\\n",
      "Volume_sec                  -0.445464  ...                   -0.059245   \n",
      "Open_sec                     0.995133  ...                    0.128735   \n",
      "High_sec                     0.995053  ...                    0.126842   \n",
      "Low_sec                      0.995093  ...                    0.129816   \n",
      "SMA_sec                      0.998008  ...                    0.082083   \n",
      "...                               ...  ...                         ...   \n",
      "Momentum_50_Lag_Std_1_3_sec  0.711571  ...                    0.037219   \n",
      "OBV_Lag_Avg_1_3_sec         -0.035538  ...                    0.004652   \n",
      "OBV_Lag_Std_1_3_sec         -0.090354  ...                   -0.006781   \n",
      "Diff_Close_EMA_sec           0.274745  ...                    0.633375   \n",
      "Ratio_Close_EMA_sec          0.022244  ...                    0.297235   \n",
      "\n",
      "                             Momentum_7_Lag_Std_1_3_sec  \\\n",
      "Volume_sec                                    -0.320774   \n",
      "Open_sec                                       0.737368   \n",
      "High_sec                                       0.739237   \n",
      "Low_sec                                        0.735427   \n",
      "SMA_sec                                        0.747247   \n",
      "...                                                 ...   \n",
      "Momentum_50_Lag_Std_1_3_sec                    0.756103   \n",
      "OBV_Lag_Avg_1_3_sec                           -0.019756   \n",
      "OBV_Lag_Std_1_3_sec                           -0.055767   \n",
      "Diff_Close_EMA_sec                             0.100049   \n",
      "Ratio_Close_EMA_sec                           -0.008260   \n",
      "\n",
      "                             Momentum_30_Lag_Avg_1_3_sec  \\\n",
      "Volume_sec                                     -0.116197   \n",
      "Open_sec                                        0.280286   \n",
      "High_sec                                        0.278257   \n",
      "Low_sec                                         0.281539   \n",
      "SMA_sec                                         0.215288   \n",
      "...                                                  ...   \n",
      "Momentum_50_Lag_Std_1_3_sec                     0.107510   \n",
      "OBV_Lag_Avg_1_3_sec                             0.011329   \n",
      "OBV_Lag_Std_1_3_sec                            -0.018644   \n",
      "Diff_Close_EMA_sec                              0.826816   \n",
      "Ratio_Close_EMA_sec                             0.397607   \n",
      "\n",
      "                             Momentum_30_Lag_Std_1_3_sec  \\\n",
      "Volume_sec                                     -0.314966   \n",
      "Open_sec                                        0.713145   \n",
      "High_sec                                        0.714897   \n",
      "Low_sec                                         0.711190   \n",
      "SMA_sec                                         0.720960   \n",
      "...                                                  ...   \n",
      "Momentum_50_Lag_Std_1_3_sec                     0.770970   \n",
      "OBV_Lag_Avg_1_3_sec                            -0.020287   \n",
      "OBV_Lag_Std_1_3_sec                            -0.042829   \n",
      "Diff_Close_EMA_sec                              0.109370   \n",
      "Ratio_Close_EMA_sec                            -0.010592   \n",
      "\n",
      "                             Momentum_50_Lag_Avg_1_3_sec  \\\n",
      "Volume_sec                                     -0.141803   \n",
      "Open_sec                                        0.352897   \n",
      "High_sec                                        0.350867   \n",
      "Low_sec                                         0.354067   \n",
      "SMA_sec                                         0.297446   \n",
      "...                                                  ...   \n",
      "Momentum_50_Lag_Std_1_3_sec                     0.147369   \n",
      "OBV_Lag_Avg_1_3_sec                             0.015784   \n",
      "OBV_Lag_Std_1_3_sec                            -0.023219   \n",
      "Diff_Close_EMA_sec                              0.781428   \n",
      "Ratio_Close_EMA_sec                             0.371481   \n",
      "\n",
      "                             Momentum_50_Lag_Std_1_3_sec  OBV_Lag_Avg_1_3_sec  \\\n",
      "Volume_sec                                     -0.314893             0.192196   \n",
      "Open_sec                                        0.718408            -0.033322   \n",
      "High_sec                                        0.719957            -0.033275   \n",
      "Low_sec                                         0.716515            -0.033397   \n",
      "SMA_sec                                         0.724675            -0.035006   \n",
      "...                                                  ...                  ...   \n",
      "Momentum_50_Lag_Std_1_3_sec                     1.000000            -0.020182   \n",
      "OBV_Lag_Avg_1_3_sec                            -0.020182             1.000000   \n",
      "OBV_Lag_Std_1_3_sec                            -0.040902             0.098935   \n",
      "Diff_Close_EMA_sec                              0.122031             0.012703   \n",
      "Ratio_Close_EMA_sec                            -0.007610             0.112140   \n",
      "\n",
      "                             OBV_Lag_Std_1_3_sec  Diff_Close_EMA_sec  \\\n",
      "Volume_sec                              0.400756           -0.141312   \n",
      "Open_sec                               -0.090941            0.341600   \n",
      "High_sec                               -0.090870            0.341713   \n",
      "Low_sec                                -0.090934            0.345774   \n",
      "SMA_sec                                -0.090945            0.274088   \n",
      "...                                          ...                 ...   \n",
      "Momentum_50_Lag_Std_1_3_sec            -0.040902            0.122031   \n",
      "OBV_Lag_Avg_1_3_sec                     0.098935            0.012703   \n",
      "OBV_Lag_Std_1_3_sec                     1.000000           -0.022912   \n",
      "Diff_Close_EMA_sec                     -0.022912            1.000000   \n",
      "Ratio_Close_EMA_sec                    -0.022960            0.472408   \n",
      "\n",
      "                             Ratio_Close_EMA_sec  \n",
      "Volume_sec                             -0.078623  \n",
      "Open_sec                                0.056314  \n",
      "High_sec                                0.056579  \n",
      "Low_sec                                 0.057905  \n",
      "SMA_sec                                 0.021586  \n",
      "...                                          ...  \n",
      "Momentum_50_Lag_Std_1_3_sec            -0.007610  \n",
      "OBV_Lag_Avg_1_3_sec                     0.112140  \n",
      "OBV_Lag_Std_1_3_sec                    -0.022960  \n",
      "Diff_Close_EMA_sec                      0.472408  \n",
      "Ratio_Close_EMA_sec                     1.000000  \n",
      "\n",
      "[151 rows x 151 columns]\n",
      "Highly correlated feature pairs (correlation > 0.95):\n",
      "('Open_sec', 'High_sec')\n",
      "('Open_sec', 'Low_sec')\n",
      "('Open_sec', 'SMA_sec')\n",
      "('Open_sec', 'EMA_sec')\n",
      "('Open_sec', 'BBM_sec')\n",
      "('Open_sec', 'BBU_sec')\n",
      "('Open_sec', 'BBL_sec')\n",
      "('Open_sec', 'Open_sec_Lag_1')\n",
      "('Open_sec', 'Open_sec_Lag_2')\n",
      "('Open_sec', 'Open_sec_Lag_3')\n",
      "('Open_sec', 'High_sec_Lag_1')\n",
      "('Open_sec', 'High_sec_Lag_2')\n",
      "('Open_sec', 'High_sec_Lag_3')\n",
      "('Open_sec', 'Low_sec_Lag_1')\n",
      "('Open_sec', 'Low_sec_Lag_2')\n",
      "('Open_sec', 'Low_sec_Lag_3')\n",
      "('Open_sec', 'Close_sec_Lag_1')\n",
      "('Open_sec', 'Close_sec_Lag_2')\n",
      "('Open_sec', 'Close_sec_Lag_3')\n",
      "('Open_sec', 'EMA_sec_Lag_1')\n",
      "('Open_sec', 'EMA_sec_Lag_2')\n",
      "('Open_sec', 'EMA_sec_Lag_3')\n",
      "('Open_sec', 'SMA_sec_Lag_1')\n",
      "('Open_sec', 'SMA_sec_Lag_2')\n",
      "('Open_sec', 'SMA_sec_Lag_3')\n",
      "('Open_sec', 'BBM_sec_Lag_1')\n",
      "('Open_sec', 'BBM_sec_Lag_2')\n",
      "('Open_sec', 'BBM_sec_Lag_3')\n",
      "('Open_sec', 'BBL_sec_Lag_1')\n",
      "('Open_sec', 'BBL_sec_Lag_2')\n",
      "('Open_sec', 'BBL_sec_Lag_3')\n",
      "('Open_sec', 'BBU_sec_Lag_1')\n",
      "('Open_sec', 'BBU_sec_Lag_2')\n",
      "('Open_sec', 'BBU_sec_Lag_3')\n",
      "('Open_sec', 'Close_Lag_Avg_1_3_sec')\n",
      "('Open_sec', 'Open_Lag_Avg_1_3_sec')\n",
      "('Open_sec', 'High_Lag_Avg_1_3_sec')\n",
      "('Open_sec', 'Low_Lag_Avg_1_3_sec')\n",
      "('Open_sec', 'EMA_Lag_Avg_1_3_sec')\n",
      "('Open_sec', 'SMA_Lag_Avg_1_3_sec')\n",
      "('Open_sec', 'BBM_Lag_Avg_1_3_sec')\n",
      "('Open_sec', 'BBU_Lag_Avg_1_3_sec')\n",
      "('Open_sec', 'BBL_Lag_Avg_1_3_sec')\n",
      "('High_sec', 'Low_sec')\n",
      "('High_sec', 'SMA_sec')\n",
      "('High_sec', 'EMA_sec')\n",
      "('High_sec', 'BBM_sec')\n",
      "('High_sec', 'BBU_sec')\n",
      "('High_sec', 'BBL_sec')\n",
      "('High_sec', 'Open_sec_Lag_1')\n",
      "('High_sec', 'Open_sec_Lag_2')\n",
      "('High_sec', 'Open_sec_Lag_3')\n",
      "('High_sec', 'High_sec_Lag_1')\n",
      "('High_sec', 'High_sec_Lag_2')\n",
      "('High_sec', 'High_sec_Lag_3')\n",
      "('High_sec', 'Low_sec_Lag_1')\n",
      "('High_sec', 'Low_sec_Lag_2')\n",
      "('High_sec', 'Low_sec_Lag_3')\n",
      "('High_sec', 'Close_sec_Lag_1')\n",
      "('High_sec', 'Close_sec_Lag_2')\n",
      "('High_sec', 'Close_sec_Lag_3')\n",
      "('High_sec', 'EMA_sec_Lag_1')\n",
      "('High_sec', 'EMA_sec_Lag_2')\n",
      "('High_sec', 'EMA_sec_Lag_3')\n",
      "('High_sec', 'SMA_sec_Lag_1')\n",
      "('High_sec', 'SMA_sec_Lag_2')\n",
      "('High_sec', 'SMA_sec_Lag_3')\n",
      "('High_sec', 'BBM_sec_Lag_1')\n",
      "('High_sec', 'BBM_sec_Lag_2')\n",
      "('High_sec', 'BBM_sec_Lag_3')\n",
      "('High_sec', 'BBL_sec_Lag_1')\n",
      "('High_sec', 'BBL_sec_Lag_2')\n",
      "('High_sec', 'BBL_sec_Lag_3')\n",
      "('High_sec', 'BBU_sec_Lag_1')\n",
      "('High_sec', 'BBU_sec_Lag_2')\n",
      "('High_sec', 'BBU_sec_Lag_3')\n",
      "('High_sec', 'Close_Lag_Avg_1_3_sec')\n",
      "('High_sec', 'Open_Lag_Avg_1_3_sec')\n",
      "('High_sec', 'High_Lag_Avg_1_3_sec')\n",
      "('High_sec', 'Low_Lag_Avg_1_3_sec')\n",
      "('High_sec', 'EMA_Lag_Avg_1_3_sec')\n",
      "('High_sec', 'SMA_Lag_Avg_1_3_sec')\n",
      "('High_sec', 'BBM_Lag_Avg_1_3_sec')\n",
      "('High_sec', 'BBU_Lag_Avg_1_3_sec')\n",
      "('High_sec', 'BBL_Lag_Avg_1_3_sec')\n",
      "('Low_sec', 'SMA_sec')\n",
      "('Low_sec', 'EMA_sec')\n",
      "('Low_sec', 'BBM_sec')\n",
      "('Low_sec', 'BBU_sec')\n",
      "('Low_sec', 'BBL_sec')\n",
      "('Low_sec', 'Open_sec_Lag_1')\n",
      "('Low_sec', 'Open_sec_Lag_2')\n",
      "('Low_sec', 'Open_sec_Lag_3')\n",
      "('Low_sec', 'High_sec_Lag_1')\n",
      "('Low_sec', 'High_sec_Lag_2')\n",
      "('Low_sec', 'High_sec_Lag_3')\n",
      "('Low_sec', 'Low_sec_Lag_1')\n",
      "('Low_sec', 'Low_sec_Lag_2')\n",
      "('Low_sec', 'Low_sec_Lag_3')\n",
      "('Low_sec', 'Close_sec_Lag_1')\n",
      "('Low_sec', 'Close_sec_Lag_2')\n",
      "('Low_sec', 'Close_sec_Lag_3')\n",
      "('Low_sec', 'EMA_sec_Lag_1')\n",
      "('Low_sec', 'EMA_sec_Lag_2')\n",
      "('Low_sec', 'EMA_sec_Lag_3')\n",
      "('Low_sec', 'SMA_sec_Lag_1')\n",
      "('Low_sec', 'SMA_sec_Lag_2')\n",
      "('Low_sec', 'SMA_sec_Lag_3')\n",
      "('Low_sec', 'BBM_sec_Lag_1')\n",
      "('Low_sec', 'BBM_sec_Lag_2')\n",
      "('Low_sec', 'BBM_sec_Lag_3')\n",
      "('Low_sec', 'BBL_sec_Lag_1')\n",
      "('Low_sec', 'BBL_sec_Lag_2')\n",
      "('Low_sec', 'BBL_sec_Lag_3')\n",
      "('Low_sec', 'BBU_sec_Lag_1')\n",
      "('Low_sec', 'BBU_sec_Lag_2')\n",
      "('Low_sec', 'BBU_sec_Lag_3')\n",
      "('Low_sec', 'Close_Lag_Avg_1_3_sec')\n",
      "('Low_sec', 'Open_Lag_Avg_1_3_sec')\n",
      "('Low_sec', 'High_Lag_Avg_1_3_sec')\n",
      "('Low_sec', 'Low_Lag_Avg_1_3_sec')\n",
      "('Low_sec', 'EMA_Lag_Avg_1_3_sec')\n",
      "('Low_sec', 'SMA_Lag_Avg_1_3_sec')\n",
      "('Low_sec', 'BBM_Lag_Avg_1_3_sec')\n",
      "('Low_sec', 'BBU_Lag_Avg_1_3_sec')\n",
      "('Low_sec', 'BBL_Lag_Avg_1_3_sec')\n",
      "('SMA_sec', 'EMA_sec')\n",
      "('SMA_sec', 'BBM_sec')\n",
      "('SMA_sec', 'BBU_sec')\n",
      "('SMA_sec', 'BBL_sec')\n",
      "('SMA_sec', 'Open_sec_Lag_1')\n",
      "('SMA_sec', 'Open_sec_Lag_2')\n",
      "('SMA_sec', 'Open_sec_Lag_3')\n",
      "('SMA_sec', 'High_sec_Lag_1')\n",
      "('SMA_sec', 'High_sec_Lag_2')\n",
      "('SMA_sec', 'High_sec_Lag_3')\n",
      "('SMA_sec', 'Low_sec_Lag_1')\n",
      "('SMA_sec', 'Low_sec_Lag_2')\n",
      "('SMA_sec', 'Low_sec_Lag_3')\n",
      "('SMA_sec', 'Close_sec_Lag_1')\n",
      "('SMA_sec', 'Close_sec_Lag_2')\n",
      "('SMA_sec', 'Close_sec_Lag_3')\n",
      "('SMA_sec', 'EMA_sec_Lag_1')\n",
      "('SMA_sec', 'EMA_sec_Lag_2')\n",
      "('SMA_sec', 'EMA_sec_Lag_3')\n",
      "('SMA_sec', 'SMA_sec_Lag_1')\n",
      "('SMA_sec', 'SMA_sec_Lag_2')\n",
      "('SMA_sec', 'SMA_sec_Lag_3')\n",
      "('SMA_sec', 'BBM_sec_Lag_1')\n",
      "('SMA_sec', 'BBM_sec_Lag_2')\n",
      "('SMA_sec', 'BBM_sec_Lag_3')\n",
      "('SMA_sec', 'BBL_sec_Lag_1')\n",
      "('SMA_sec', 'BBL_sec_Lag_2')\n",
      "('SMA_sec', 'BBL_sec_Lag_3')\n",
      "('SMA_sec', 'BBU_sec_Lag_1')\n",
      "('SMA_sec', 'BBU_sec_Lag_2')\n",
      "('SMA_sec', 'BBU_sec_Lag_3')\n",
      "('SMA_sec', 'Close_Lag_Avg_1_3_sec')\n",
      "('SMA_sec', 'Open_Lag_Avg_1_3_sec')\n",
      "('SMA_sec', 'High_Lag_Avg_1_3_sec')\n",
      "('SMA_sec', 'Low_Lag_Avg_1_3_sec')\n",
      "('SMA_sec', 'EMA_Lag_Avg_1_3_sec')\n",
      "('SMA_sec', 'SMA_Lag_Avg_1_3_sec')\n",
      "('SMA_sec', 'BBM_Lag_Avg_1_3_sec')\n",
      "('SMA_sec', 'BBU_Lag_Avg_1_3_sec')\n",
      "('SMA_sec', 'BBL_Lag_Avg_1_3_sec')\n",
      "('EMA_sec', 'BBM_sec')\n",
      "('EMA_sec', 'BBU_sec')\n",
      "('EMA_sec', 'BBL_sec')\n",
      "('EMA_sec', 'Open_sec_Lag_1')\n",
      "('EMA_sec', 'Open_sec_Lag_2')\n",
      "('EMA_sec', 'Open_sec_Lag_3')\n",
      "('EMA_sec', 'High_sec_Lag_1')\n",
      "('EMA_sec', 'High_sec_Lag_2')\n",
      "('EMA_sec', 'High_sec_Lag_3')\n",
      "('EMA_sec', 'Low_sec_Lag_1')\n",
      "('EMA_sec', 'Low_sec_Lag_2')\n",
      "('EMA_sec', 'Low_sec_Lag_3')\n",
      "('EMA_sec', 'Close_sec_Lag_1')\n",
      "('EMA_sec', 'Close_sec_Lag_2')\n",
      "('EMA_sec', 'Close_sec_Lag_3')\n",
      "('EMA_sec', 'EMA_sec_Lag_1')\n",
      "('EMA_sec', 'EMA_sec_Lag_2')\n",
      "('EMA_sec', 'EMA_sec_Lag_3')\n",
      "('EMA_sec', 'SMA_sec_Lag_1')\n",
      "('EMA_sec', 'SMA_sec_Lag_2')\n",
      "('EMA_sec', 'SMA_sec_Lag_3')\n",
      "('EMA_sec', 'BBM_sec_Lag_1')\n",
      "('EMA_sec', 'BBM_sec_Lag_2')\n",
      "('EMA_sec', 'BBM_sec_Lag_3')\n",
      "('EMA_sec', 'BBL_sec_Lag_1')\n",
      "('EMA_sec', 'BBL_sec_Lag_2')\n",
      "('EMA_sec', 'BBL_sec_Lag_3')\n",
      "('EMA_sec', 'BBU_sec_Lag_1')\n",
      "('EMA_sec', 'BBU_sec_Lag_2')\n",
      "('EMA_sec', 'BBU_sec_Lag_3')\n",
      "('EMA_sec', 'Close_Lag_Avg_1_3_sec')\n",
      "('EMA_sec', 'Open_Lag_Avg_1_3_sec')\n",
      "('EMA_sec', 'High_Lag_Avg_1_3_sec')\n",
      "('EMA_sec', 'Low_Lag_Avg_1_3_sec')\n",
      "('EMA_sec', 'EMA_Lag_Avg_1_3_sec')\n",
      "('EMA_sec', 'SMA_Lag_Avg_1_3_sec')\n",
      "('EMA_sec', 'BBM_Lag_Avg_1_3_sec')\n",
      "('EMA_sec', 'BBU_Lag_Avg_1_3_sec')\n",
      "('EMA_sec', 'BBL_Lag_Avg_1_3_sec')\n",
      "('BBM_sec', 'BBU_sec')\n",
      "('BBM_sec', 'BBL_sec')\n",
      "('BBM_sec', 'Open_sec_Lag_1')\n",
      "('BBM_sec', 'Open_sec_Lag_2')\n",
      "('BBM_sec', 'Open_sec_Lag_3')\n",
      "('BBM_sec', 'High_sec_Lag_1')\n",
      "('BBM_sec', 'High_sec_Lag_2')\n",
      "('BBM_sec', 'High_sec_Lag_3')\n",
      "('BBM_sec', 'Low_sec_Lag_1')\n",
      "('BBM_sec', 'Low_sec_Lag_2')\n",
      "('BBM_sec', 'Low_sec_Lag_3')\n",
      "('BBM_sec', 'Close_sec_Lag_1')\n",
      "('BBM_sec', 'Close_sec_Lag_2')\n",
      "('BBM_sec', 'Close_sec_Lag_3')\n",
      "('BBM_sec', 'EMA_sec_Lag_1')\n",
      "('BBM_sec', 'EMA_sec_Lag_2')\n",
      "('BBM_sec', 'EMA_sec_Lag_3')\n",
      "('BBM_sec', 'SMA_sec_Lag_1')\n",
      "('BBM_sec', 'SMA_sec_Lag_2')\n",
      "('BBM_sec', 'SMA_sec_Lag_3')\n",
      "('BBM_sec', 'BBM_sec_Lag_1')\n",
      "('BBM_sec', 'BBM_sec_Lag_2')\n",
      "('BBM_sec', 'BBM_sec_Lag_3')\n",
      "('BBM_sec', 'BBL_sec_Lag_1')\n",
      "('BBM_sec', 'BBL_sec_Lag_2')\n",
      "('BBM_sec', 'BBL_sec_Lag_3')\n",
      "('BBM_sec', 'BBU_sec_Lag_1')\n",
      "('BBM_sec', 'BBU_sec_Lag_2')\n",
      "('BBM_sec', 'BBU_sec_Lag_3')\n",
      "('BBM_sec', 'Close_Lag_Avg_1_3_sec')\n",
      "('BBM_sec', 'Open_Lag_Avg_1_3_sec')\n",
      "('BBM_sec', 'High_Lag_Avg_1_3_sec')\n",
      "('BBM_sec', 'Low_Lag_Avg_1_3_sec')\n",
      "('BBM_sec', 'EMA_Lag_Avg_1_3_sec')\n",
      "('BBM_sec', 'SMA_Lag_Avg_1_3_sec')\n",
      "('BBM_sec', 'BBM_Lag_Avg_1_3_sec')\n",
      "('BBM_sec', 'BBU_Lag_Avg_1_3_sec')\n",
      "('BBM_sec', 'BBL_Lag_Avg_1_3_sec')\n",
      "('BBU_sec', 'BBL_sec')\n",
      "('BBU_sec', 'Open_sec_Lag_1')\n",
      "('BBU_sec', 'Open_sec_Lag_2')\n",
      "('BBU_sec', 'Open_sec_Lag_3')\n",
      "('BBU_sec', 'High_sec_Lag_1')\n",
      "('BBU_sec', 'High_sec_Lag_2')\n",
      "('BBU_sec', 'High_sec_Lag_3')\n",
      "('BBU_sec', 'Low_sec_Lag_1')\n",
      "('BBU_sec', 'Low_sec_Lag_2')\n",
      "('BBU_sec', 'Low_sec_Lag_3')\n",
      "('BBU_sec', 'Close_sec_Lag_1')\n",
      "('BBU_sec', 'Close_sec_Lag_2')\n",
      "('BBU_sec', 'Close_sec_Lag_3')\n",
      "('BBU_sec', 'EMA_sec_Lag_1')\n",
      "('BBU_sec', 'EMA_sec_Lag_2')\n",
      "('BBU_sec', 'EMA_sec_Lag_3')\n",
      "('BBU_sec', 'SMA_sec_Lag_1')\n",
      "('BBU_sec', 'SMA_sec_Lag_2')\n",
      "('BBU_sec', 'SMA_sec_Lag_3')\n",
      "('BBU_sec', 'BBM_sec_Lag_1')\n",
      "('BBU_sec', 'BBM_sec_Lag_2')\n",
      "('BBU_sec', 'BBM_sec_Lag_3')\n",
      "('BBU_sec', 'BBL_sec_Lag_1')\n",
      "('BBU_sec', 'BBL_sec_Lag_2')\n",
      "('BBU_sec', 'BBL_sec_Lag_3')\n",
      "('BBU_sec', 'BBU_sec_Lag_1')\n",
      "('BBU_sec', 'BBU_sec_Lag_2')\n",
      "('BBU_sec', 'BBU_sec_Lag_3')\n",
      "('BBU_sec', 'Close_Lag_Avg_1_3_sec')\n",
      "('BBU_sec', 'Open_Lag_Avg_1_3_sec')\n",
      "('BBU_sec', 'High_Lag_Avg_1_3_sec')\n",
      "('BBU_sec', 'Low_Lag_Avg_1_3_sec')\n",
      "('BBU_sec', 'EMA_Lag_Avg_1_3_sec')\n",
      "('BBU_sec', 'SMA_Lag_Avg_1_3_sec')\n",
      "('BBU_sec', 'BBM_Lag_Avg_1_3_sec')\n",
      "('BBU_sec', 'BBU_Lag_Avg_1_3_sec')\n",
      "('BBU_sec', 'BBL_Lag_Avg_1_3_sec')\n",
      "('BBL_sec', 'Open_sec_Lag_1')\n",
      "('BBL_sec', 'Open_sec_Lag_2')\n",
      "('BBL_sec', 'Open_sec_Lag_3')\n",
      "('BBL_sec', 'High_sec_Lag_1')\n",
      "('BBL_sec', 'High_sec_Lag_2')\n",
      "('BBL_sec', 'High_sec_Lag_3')\n",
      "('BBL_sec', 'Low_sec_Lag_1')\n",
      "('BBL_sec', 'Low_sec_Lag_2')\n",
      "('BBL_sec', 'Low_sec_Lag_3')\n",
      "('BBL_sec', 'Close_sec_Lag_1')\n",
      "('BBL_sec', 'Close_sec_Lag_2')\n",
      "('BBL_sec', 'Close_sec_Lag_3')\n",
      "('BBL_sec', 'EMA_sec_Lag_1')\n",
      "('BBL_sec', 'EMA_sec_Lag_2')\n",
      "('BBL_sec', 'EMA_sec_Lag_3')\n",
      "('BBL_sec', 'SMA_sec_Lag_1')\n",
      "('BBL_sec', 'SMA_sec_Lag_2')\n",
      "('BBL_sec', 'SMA_sec_Lag_3')\n",
      "('BBL_sec', 'BBM_sec_Lag_1')\n",
      "('BBL_sec', 'BBM_sec_Lag_2')\n",
      "('BBL_sec', 'BBM_sec_Lag_3')\n",
      "('BBL_sec', 'BBL_sec_Lag_1')\n",
      "('BBL_sec', 'BBL_sec_Lag_2')\n",
      "('BBL_sec', 'BBL_sec_Lag_3')\n",
      "('BBL_sec', 'BBU_sec_Lag_1')\n",
      "('BBL_sec', 'BBU_sec_Lag_2')\n",
      "('BBL_sec', 'BBU_sec_Lag_3')\n",
      "('BBL_sec', 'Close_Lag_Avg_1_3_sec')\n",
      "('BBL_sec', 'Open_Lag_Avg_1_3_sec')\n",
      "('BBL_sec', 'High_Lag_Avg_1_3_sec')\n",
      "('BBL_sec', 'Low_Lag_Avg_1_3_sec')\n",
      "('BBL_sec', 'EMA_Lag_Avg_1_3_sec')\n",
      "('BBL_sec', 'SMA_Lag_Avg_1_3_sec')\n",
      "('BBL_sec', 'BBM_Lag_Avg_1_3_sec')\n",
      "('BBL_sec', 'BBU_Lag_Avg_1_3_sec')\n",
      "('BBL_sec', 'BBL_Lag_Avg_1_3_sec')\n",
      "('MACD_sec', 'MACD_sec_Lag_1')\n",
      "('MACD_sec', 'MACD_sec_Lag_2')\n",
      "('MACD_sec', 'MACD_Lag_Avg_1_3_sec')\n",
      "('MACD_Signal_sec', 'MACD_sec_Lag_1')\n",
      "('MACD_Signal_sec', 'MACD_sec_Lag_2')\n",
      "('MACD_Signal_sec', 'MACD_sec_Lag_3')\n",
      "('MACD_Signal_sec', 'MACD_Signal_sec_Lag_1')\n",
      "('MACD_Signal_sec', 'MACD_Signal_sec_Lag_2')\n",
      "('MACD_Signal_sec', 'MACD_Signal_sec_Lag_3')\n",
      "('MACD_Signal_sec', 'MACD_Lag_Avg_1_3_sec')\n",
      "('MACD_Signal_sec', 'MACD_Signal_Lag_Avg_1_3_sec')\n",
      "('MACD_Hist_sec', 'MACD_Hist_sec_Lag_1')\n",
      "('ADX_14_sec', 'ADX_14_sec_Lag_1')\n",
      "('ADX_14_sec', 'ADX_14_sec_Lag_2')\n",
      "('ADX_14_sec', 'ADX_14_Lag_Avg_1_3_sec')\n",
      "('ATR_14_sec', 'ATR_14_sec_Lag_1')\n",
      "('ATR_14_sec', 'ATR_14_sec_Lag_2')\n",
      "('ATR_14_sec', 'ATR_14_sec_Lag_3')\n",
      "('ATR_14_sec', 'ATR_14_Lag_Avg_1_3_sec')\n",
      "('Stoch_D_sec', 'Stoch_K_sec_Lag_1')\n",
      "('Momentum_30_sec', 'Momentum_30_sec_Lag_1')\n",
      "('Momentum_50_sec', 'Momentum_50_sec_Lag_1')\n",
      "('Momentum_50_sec', 'Momentum_50_Lag_Avg_1_3_sec')\n",
      "('OBV_sec', 'OBV_sec_Lag_1')\n",
      "('OBV_sec', 'OBV_sec_Lag_2')\n",
      "('OBV_sec', 'OBV_sec_Lag_3')\n",
      "('OBV_sec', 'OBV_Lag_Avg_1_3_sec')\n",
      "('Open_sec_Lag_1', 'Open_sec_Lag_2')\n",
      "('Open_sec_Lag_1', 'Open_sec_Lag_3')\n",
      "('Open_sec_Lag_1', 'High_sec_Lag_1')\n",
      "('Open_sec_Lag_1', 'High_sec_Lag_2')\n",
      "('Open_sec_Lag_1', 'High_sec_Lag_3')\n",
      "('Open_sec_Lag_1', 'Low_sec_Lag_1')\n",
      "('Open_sec_Lag_1', 'Low_sec_Lag_2')\n",
      "('Open_sec_Lag_1', 'Low_sec_Lag_3')\n",
      "('Open_sec_Lag_1', 'Close_sec_Lag_1')\n",
      "('Open_sec_Lag_1', 'Close_sec_Lag_2')\n",
      "('Open_sec_Lag_1', 'Close_sec_Lag_3')\n",
      "('Open_sec_Lag_1', 'EMA_sec_Lag_1')\n",
      "('Open_sec_Lag_1', 'EMA_sec_Lag_2')\n",
      "('Open_sec_Lag_1', 'EMA_sec_Lag_3')\n",
      "('Open_sec_Lag_1', 'SMA_sec_Lag_1')\n",
      "('Open_sec_Lag_1', 'SMA_sec_Lag_2')\n",
      "('Open_sec_Lag_1', 'SMA_sec_Lag_3')\n",
      "('Open_sec_Lag_1', 'BBM_sec_Lag_1')\n",
      "('Open_sec_Lag_1', 'BBM_sec_Lag_2')\n",
      "('Open_sec_Lag_1', 'BBM_sec_Lag_3')\n",
      "('Open_sec_Lag_1', 'BBL_sec_Lag_1')\n",
      "('Open_sec_Lag_1', 'BBL_sec_Lag_2')\n",
      "('Open_sec_Lag_1', 'BBL_sec_Lag_3')\n",
      "('Open_sec_Lag_1', 'BBU_sec_Lag_1')\n",
      "('Open_sec_Lag_1', 'BBU_sec_Lag_2')\n",
      "('Open_sec_Lag_1', 'BBU_sec_Lag_3')\n",
      "('Open_sec_Lag_1', 'Close_Lag_Avg_1_3_sec')\n",
      "('Open_sec_Lag_1', 'Open_Lag_Avg_1_3_sec')\n",
      "('Open_sec_Lag_1', 'High_Lag_Avg_1_3_sec')\n",
      "('Open_sec_Lag_1', 'Low_Lag_Avg_1_3_sec')\n",
      "('Open_sec_Lag_1', 'EMA_Lag_Avg_1_3_sec')\n",
      "('Open_sec_Lag_1', 'SMA_Lag_Avg_1_3_sec')\n",
      "('Open_sec_Lag_1', 'BBM_Lag_Avg_1_3_sec')\n",
      "('Open_sec_Lag_1', 'BBU_Lag_Avg_1_3_sec')\n",
      "('Open_sec_Lag_1', 'BBL_Lag_Avg_1_3_sec')\n",
      "('Open_sec_Lag_2', 'Open_sec_Lag_3')\n",
      "('Open_sec_Lag_2', 'High_sec_Lag_1')\n",
      "('Open_sec_Lag_2', 'High_sec_Lag_2')\n",
      "('Open_sec_Lag_2', 'High_sec_Lag_3')\n",
      "('Open_sec_Lag_2', 'Low_sec_Lag_1')\n",
      "('Open_sec_Lag_2', 'Low_sec_Lag_2')\n",
      "('Open_sec_Lag_2', 'Low_sec_Lag_3')\n",
      "('Open_sec_Lag_2', 'Close_sec_Lag_1')\n",
      "('Open_sec_Lag_2', 'Close_sec_Lag_2')\n",
      "('Open_sec_Lag_2', 'Close_sec_Lag_3')\n",
      "('Open_sec_Lag_2', 'EMA_sec_Lag_1')\n",
      "('Open_sec_Lag_2', 'EMA_sec_Lag_2')\n",
      "('Open_sec_Lag_2', 'EMA_sec_Lag_3')\n",
      "('Open_sec_Lag_2', 'SMA_sec_Lag_1')\n",
      "('Open_sec_Lag_2', 'SMA_sec_Lag_2')\n",
      "('Open_sec_Lag_2', 'SMA_sec_Lag_3')\n",
      "('Open_sec_Lag_2', 'BBM_sec_Lag_1')\n",
      "('Open_sec_Lag_2', 'BBM_sec_Lag_2')\n",
      "('Open_sec_Lag_2', 'BBM_sec_Lag_3')\n",
      "('Open_sec_Lag_2', 'BBL_sec_Lag_1')\n",
      "('Open_sec_Lag_2', 'BBL_sec_Lag_2')\n",
      "('Open_sec_Lag_2', 'BBL_sec_Lag_3')\n",
      "('Open_sec_Lag_2', 'BBU_sec_Lag_1')\n",
      "('Open_sec_Lag_2', 'BBU_sec_Lag_2')\n",
      "('Open_sec_Lag_2', 'BBU_sec_Lag_3')\n",
      "('Open_sec_Lag_2', 'Close_Lag_Avg_1_3_sec')\n",
      "('Open_sec_Lag_2', 'Open_Lag_Avg_1_3_sec')\n",
      "('Open_sec_Lag_2', 'High_Lag_Avg_1_3_sec')\n",
      "('Open_sec_Lag_2', 'Low_Lag_Avg_1_3_sec')\n",
      "('Open_sec_Lag_2', 'EMA_Lag_Avg_1_3_sec')\n",
      "('Open_sec_Lag_2', 'SMA_Lag_Avg_1_3_sec')\n",
      "('Open_sec_Lag_2', 'BBM_Lag_Avg_1_3_sec')\n",
      "('Open_sec_Lag_2', 'BBU_Lag_Avg_1_3_sec')\n",
      "('Open_sec_Lag_2', 'BBL_Lag_Avg_1_3_sec')\n",
      "('Open_sec_Lag_3', 'High_sec_Lag_1')\n",
      "('Open_sec_Lag_3', 'High_sec_Lag_2')\n",
      "('Open_sec_Lag_3', 'High_sec_Lag_3')\n",
      "('Open_sec_Lag_3', 'Low_sec_Lag_1')\n",
      "('Open_sec_Lag_3', 'Low_sec_Lag_2')\n",
      "('Open_sec_Lag_3', 'Low_sec_Lag_3')\n",
      "('Open_sec_Lag_3', 'Close_sec_Lag_1')\n",
      "('Open_sec_Lag_3', 'Close_sec_Lag_2')\n",
      "('Open_sec_Lag_3', 'Close_sec_Lag_3')\n",
      "('Open_sec_Lag_3', 'EMA_sec_Lag_1')\n",
      "('Open_sec_Lag_3', 'EMA_sec_Lag_2')\n",
      "('Open_sec_Lag_3', 'EMA_sec_Lag_3')\n",
      "('Open_sec_Lag_3', 'SMA_sec_Lag_1')\n",
      "('Open_sec_Lag_3', 'SMA_sec_Lag_2')\n",
      "('Open_sec_Lag_3', 'SMA_sec_Lag_3')\n",
      "('Open_sec_Lag_3', 'BBM_sec_Lag_1')\n",
      "('Open_sec_Lag_3', 'BBM_sec_Lag_2')\n",
      "('Open_sec_Lag_3', 'BBM_sec_Lag_3')\n",
      "('Open_sec_Lag_3', 'BBL_sec_Lag_1')\n",
      "('Open_sec_Lag_3', 'BBL_sec_Lag_2')\n",
      "('Open_sec_Lag_3', 'BBL_sec_Lag_3')\n",
      "('Open_sec_Lag_3', 'BBU_sec_Lag_1')\n",
      "('Open_sec_Lag_3', 'BBU_sec_Lag_2')\n",
      "('Open_sec_Lag_3', 'BBU_sec_Lag_3')\n",
      "('Open_sec_Lag_3', 'Close_Lag_Avg_1_3_sec')\n",
      "('Open_sec_Lag_3', 'Open_Lag_Avg_1_3_sec')\n",
      "('Open_sec_Lag_3', 'High_Lag_Avg_1_3_sec')\n",
      "('Open_sec_Lag_3', 'Low_Lag_Avg_1_3_sec')\n",
      "('Open_sec_Lag_3', 'EMA_Lag_Avg_1_3_sec')\n",
      "('Open_sec_Lag_3', 'SMA_Lag_Avg_1_3_sec')\n",
      "('Open_sec_Lag_3', 'BBM_Lag_Avg_1_3_sec')\n",
      "('Open_sec_Lag_3', 'BBU_Lag_Avg_1_3_sec')\n",
      "('Open_sec_Lag_3', 'BBL_Lag_Avg_1_3_sec')\n",
      "('High_sec_Lag_1', 'High_sec_Lag_2')\n",
      "('High_sec_Lag_1', 'High_sec_Lag_3')\n",
      "('High_sec_Lag_1', 'Low_sec_Lag_1')\n",
      "('High_sec_Lag_1', 'Low_sec_Lag_2')\n",
      "('High_sec_Lag_1', 'Low_sec_Lag_3')\n",
      "('High_sec_Lag_1', 'Close_sec_Lag_1')\n",
      "('High_sec_Lag_1', 'Close_sec_Lag_2')\n",
      "('High_sec_Lag_1', 'Close_sec_Lag_3')\n",
      "('High_sec_Lag_1', 'EMA_sec_Lag_1')\n",
      "('High_sec_Lag_1', 'EMA_sec_Lag_2')\n",
      "('High_sec_Lag_1', 'EMA_sec_Lag_3')\n",
      "('High_sec_Lag_1', 'SMA_sec_Lag_1')\n",
      "('High_sec_Lag_1', 'SMA_sec_Lag_2')\n",
      "('High_sec_Lag_1', 'SMA_sec_Lag_3')\n",
      "('High_sec_Lag_1', 'BBM_sec_Lag_1')\n",
      "('High_sec_Lag_1', 'BBM_sec_Lag_2')\n",
      "('High_sec_Lag_1', 'BBM_sec_Lag_3')\n",
      "('High_sec_Lag_1', 'BBL_sec_Lag_1')\n",
      "('High_sec_Lag_1', 'BBL_sec_Lag_2')\n",
      "('High_sec_Lag_1', 'BBL_sec_Lag_3')\n",
      "('High_sec_Lag_1', 'BBU_sec_Lag_1')\n",
      "('High_sec_Lag_1', 'BBU_sec_Lag_2')\n",
      "('High_sec_Lag_1', 'BBU_sec_Lag_3')\n",
      "('High_sec_Lag_1', 'Close_Lag_Avg_1_3_sec')\n",
      "('High_sec_Lag_1', 'Open_Lag_Avg_1_3_sec')\n",
      "('High_sec_Lag_1', 'High_Lag_Avg_1_3_sec')\n",
      "('High_sec_Lag_1', 'Low_Lag_Avg_1_3_sec')\n",
      "('High_sec_Lag_1', 'EMA_Lag_Avg_1_3_sec')\n",
      "('High_sec_Lag_1', 'SMA_Lag_Avg_1_3_sec')\n",
      "('High_sec_Lag_1', 'BBM_Lag_Avg_1_3_sec')\n",
      "('High_sec_Lag_1', 'BBU_Lag_Avg_1_3_sec')\n",
      "('High_sec_Lag_1', 'BBL_Lag_Avg_1_3_sec')\n",
      "('High_sec_Lag_2', 'High_sec_Lag_3')\n",
      "('High_sec_Lag_2', 'Low_sec_Lag_1')\n",
      "('High_sec_Lag_2', 'Low_sec_Lag_2')\n",
      "('High_sec_Lag_2', 'Low_sec_Lag_3')\n",
      "('High_sec_Lag_2', 'Close_sec_Lag_1')\n",
      "('High_sec_Lag_2', 'Close_sec_Lag_2')\n",
      "('High_sec_Lag_2', 'Close_sec_Lag_3')\n",
      "('High_sec_Lag_2', 'EMA_sec_Lag_1')\n",
      "('High_sec_Lag_2', 'EMA_sec_Lag_2')\n",
      "('High_sec_Lag_2', 'EMA_sec_Lag_3')\n",
      "('High_sec_Lag_2', 'SMA_sec_Lag_1')\n",
      "('High_sec_Lag_2', 'SMA_sec_Lag_2')\n",
      "('High_sec_Lag_2', 'SMA_sec_Lag_3')\n",
      "('High_sec_Lag_2', 'BBM_sec_Lag_1')\n",
      "('High_sec_Lag_2', 'BBM_sec_Lag_2')\n",
      "('High_sec_Lag_2', 'BBM_sec_Lag_3')\n",
      "('High_sec_Lag_2', 'BBL_sec_Lag_1')\n",
      "('High_sec_Lag_2', 'BBL_sec_Lag_2')\n",
      "('High_sec_Lag_2', 'BBL_sec_Lag_3')\n",
      "('High_sec_Lag_2', 'BBU_sec_Lag_1')\n",
      "('High_sec_Lag_2', 'BBU_sec_Lag_2')\n",
      "('High_sec_Lag_2', 'BBU_sec_Lag_3')\n",
      "('High_sec_Lag_2', 'Close_Lag_Avg_1_3_sec')\n",
      "('High_sec_Lag_2', 'Open_Lag_Avg_1_3_sec')\n",
      "('High_sec_Lag_2', 'High_Lag_Avg_1_3_sec')\n",
      "('High_sec_Lag_2', 'Low_Lag_Avg_1_3_sec')\n",
      "('High_sec_Lag_2', 'EMA_Lag_Avg_1_3_sec')\n",
      "('High_sec_Lag_2', 'SMA_Lag_Avg_1_3_sec')\n",
      "('High_sec_Lag_2', 'BBM_Lag_Avg_1_3_sec')\n",
      "('High_sec_Lag_2', 'BBU_Lag_Avg_1_3_sec')\n",
      "('High_sec_Lag_2', 'BBL_Lag_Avg_1_3_sec')\n",
      "('High_sec_Lag_3', 'Low_sec_Lag_1')\n",
      "('High_sec_Lag_3', 'Low_sec_Lag_2')\n",
      "('High_sec_Lag_3', 'Low_sec_Lag_3')\n",
      "('High_sec_Lag_3', 'Close_sec_Lag_1')\n",
      "('High_sec_Lag_3', 'Close_sec_Lag_2')\n",
      "('High_sec_Lag_3', 'Close_sec_Lag_3')\n",
      "('High_sec_Lag_3', 'EMA_sec_Lag_1')\n",
      "('High_sec_Lag_3', 'EMA_sec_Lag_2')\n",
      "('High_sec_Lag_3', 'EMA_sec_Lag_3')\n",
      "('High_sec_Lag_3', 'SMA_sec_Lag_1')\n",
      "('High_sec_Lag_3', 'SMA_sec_Lag_2')\n",
      "('High_sec_Lag_3', 'SMA_sec_Lag_3')\n",
      "('High_sec_Lag_3', 'BBM_sec_Lag_1')\n",
      "('High_sec_Lag_3', 'BBM_sec_Lag_2')\n",
      "('High_sec_Lag_3', 'BBM_sec_Lag_3')\n",
      "('High_sec_Lag_3', 'BBL_sec_Lag_1')\n",
      "('High_sec_Lag_3', 'BBL_sec_Lag_2')\n",
      "('High_sec_Lag_3', 'BBL_sec_Lag_3')\n",
      "('High_sec_Lag_3', 'BBU_sec_Lag_1')\n",
      "('High_sec_Lag_3', 'BBU_sec_Lag_2')\n",
      "('High_sec_Lag_3', 'BBU_sec_Lag_3')\n",
      "('High_sec_Lag_3', 'Close_Lag_Avg_1_3_sec')\n",
      "('High_sec_Lag_3', 'Open_Lag_Avg_1_3_sec')\n",
      "('High_sec_Lag_3', 'High_Lag_Avg_1_3_sec')\n",
      "('High_sec_Lag_3', 'Low_Lag_Avg_1_3_sec')\n",
      "('High_sec_Lag_3', 'EMA_Lag_Avg_1_3_sec')\n",
      "('High_sec_Lag_3', 'SMA_Lag_Avg_1_3_sec')\n",
      "('High_sec_Lag_3', 'BBM_Lag_Avg_1_3_sec')\n",
      "('High_sec_Lag_3', 'BBU_Lag_Avg_1_3_sec')\n",
      "('High_sec_Lag_3', 'BBL_Lag_Avg_1_3_sec')\n",
      "('Low_sec_Lag_1', 'Low_sec_Lag_2')\n",
      "('Low_sec_Lag_1', 'Low_sec_Lag_3')\n",
      "('Low_sec_Lag_1', 'Close_sec_Lag_1')\n",
      "('Low_sec_Lag_1', 'Close_sec_Lag_2')\n",
      "('Low_sec_Lag_1', 'Close_sec_Lag_3')\n",
      "('Low_sec_Lag_1', 'EMA_sec_Lag_1')\n",
      "('Low_sec_Lag_1', 'EMA_sec_Lag_2')\n",
      "('Low_sec_Lag_1', 'EMA_sec_Lag_3')\n",
      "('Low_sec_Lag_1', 'SMA_sec_Lag_1')\n",
      "('Low_sec_Lag_1', 'SMA_sec_Lag_2')\n",
      "('Low_sec_Lag_1', 'SMA_sec_Lag_3')\n",
      "('Low_sec_Lag_1', 'BBM_sec_Lag_1')\n",
      "('Low_sec_Lag_1', 'BBM_sec_Lag_2')\n",
      "('Low_sec_Lag_1', 'BBM_sec_Lag_3')\n",
      "('Low_sec_Lag_1', 'BBL_sec_Lag_1')\n",
      "('Low_sec_Lag_1', 'BBL_sec_Lag_2')\n",
      "('Low_sec_Lag_1', 'BBL_sec_Lag_3')\n",
      "('Low_sec_Lag_1', 'BBU_sec_Lag_1')\n",
      "('Low_sec_Lag_1', 'BBU_sec_Lag_2')\n",
      "('Low_sec_Lag_1', 'BBU_sec_Lag_3')\n",
      "('Low_sec_Lag_1', 'Close_Lag_Avg_1_3_sec')\n",
      "('Low_sec_Lag_1', 'Open_Lag_Avg_1_3_sec')\n",
      "('Low_sec_Lag_1', 'High_Lag_Avg_1_3_sec')\n",
      "('Low_sec_Lag_1', 'Low_Lag_Avg_1_3_sec')\n",
      "('Low_sec_Lag_1', 'EMA_Lag_Avg_1_3_sec')\n",
      "('Low_sec_Lag_1', 'SMA_Lag_Avg_1_3_sec')\n",
      "('Low_sec_Lag_1', 'BBM_Lag_Avg_1_3_sec')\n",
      "('Low_sec_Lag_1', 'BBU_Lag_Avg_1_3_sec')\n",
      "('Low_sec_Lag_1', 'BBL_Lag_Avg_1_3_sec')\n",
      "('Low_sec_Lag_2', 'Low_sec_Lag_3')\n",
      "('Low_sec_Lag_2', 'Close_sec_Lag_1')\n",
      "('Low_sec_Lag_2', 'Close_sec_Lag_2')\n",
      "('Low_sec_Lag_2', 'Close_sec_Lag_3')\n",
      "('Low_sec_Lag_2', 'EMA_sec_Lag_1')\n",
      "('Low_sec_Lag_2', 'EMA_sec_Lag_2')\n",
      "('Low_sec_Lag_2', 'EMA_sec_Lag_3')\n",
      "('Low_sec_Lag_2', 'SMA_sec_Lag_1')\n",
      "('Low_sec_Lag_2', 'SMA_sec_Lag_2')\n",
      "('Low_sec_Lag_2', 'SMA_sec_Lag_3')\n",
      "('Low_sec_Lag_2', 'BBM_sec_Lag_1')\n",
      "('Low_sec_Lag_2', 'BBM_sec_Lag_2')\n",
      "('Low_sec_Lag_2', 'BBM_sec_Lag_3')\n",
      "('Low_sec_Lag_2', 'BBL_sec_Lag_1')\n",
      "('Low_sec_Lag_2', 'BBL_sec_Lag_2')\n",
      "('Low_sec_Lag_2', 'BBL_sec_Lag_3')\n",
      "('Low_sec_Lag_2', 'BBU_sec_Lag_1')\n",
      "('Low_sec_Lag_2', 'BBU_sec_Lag_2')\n",
      "('Low_sec_Lag_2', 'BBU_sec_Lag_3')\n",
      "('Low_sec_Lag_2', 'Close_Lag_Avg_1_3_sec')\n",
      "('Low_sec_Lag_2', 'Open_Lag_Avg_1_3_sec')\n",
      "('Low_sec_Lag_2', 'High_Lag_Avg_1_3_sec')\n",
      "('Low_sec_Lag_2', 'Low_Lag_Avg_1_3_sec')\n",
      "('Low_sec_Lag_2', 'EMA_Lag_Avg_1_3_sec')\n",
      "('Low_sec_Lag_2', 'SMA_Lag_Avg_1_3_sec')\n",
      "('Low_sec_Lag_2', 'BBM_Lag_Avg_1_3_sec')\n",
      "('Low_sec_Lag_2', 'BBU_Lag_Avg_1_3_sec')\n",
      "('Low_sec_Lag_2', 'BBL_Lag_Avg_1_3_sec')\n",
      "('Low_sec_Lag_3', 'Close_sec_Lag_1')\n",
      "('Low_sec_Lag_3', 'Close_sec_Lag_2')\n",
      "('Low_sec_Lag_3', 'Close_sec_Lag_3')\n",
      "('Low_sec_Lag_3', 'EMA_sec_Lag_1')\n",
      "('Low_sec_Lag_3', 'EMA_sec_Lag_2')\n",
      "('Low_sec_Lag_3', 'EMA_sec_Lag_3')\n",
      "('Low_sec_Lag_3', 'SMA_sec_Lag_1')\n",
      "('Low_sec_Lag_3', 'SMA_sec_Lag_2')\n",
      "('Low_sec_Lag_3', 'SMA_sec_Lag_3')\n",
      "('Low_sec_Lag_3', 'BBM_sec_Lag_1')\n",
      "('Low_sec_Lag_3', 'BBM_sec_Lag_2')\n",
      "('Low_sec_Lag_3', 'BBM_sec_Lag_3')\n",
      "('Low_sec_Lag_3', 'BBL_sec_Lag_1')\n",
      "('Low_sec_Lag_3', 'BBL_sec_Lag_2')\n",
      "('Low_sec_Lag_3', 'BBL_sec_Lag_3')\n",
      "('Low_sec_Lag_3', 'BBU_sec_Lag_1')\n",
      "('Low_sec_Lag_3', 'BBU_sec_Lag_2')\n",
      "('Low_sec_Lag_3', 'BBU_sec_Lag_3')\n",
      "('Low_sec_Lag_3', 'Close_Lag_Avg_1_3_sec')\n",
      "('Low_sec_Lag_3', 'Open_Lag_Avg_1_3_sec')\n",
      "('Low_sec_Lag_3', 'High_Lag_Avg_1_3_sec')\n",
      "('Low_sec_Lag_3', 'Low_Lag_Avg_1_3_sec')\n",
      "('Low_sec_Lag_3', 'EMA_Lag_Avg_1_3_sec')\n",
      "('Low_sec_Lag_3', 'SMA_Lag_Avg_1_3_sec')\n",
      "('Low_sec_Lag_3', 'BBM_Lag_Avg_1_3_sec')\n",
      "('Low_sec_Lag_3', 'BBU_Lag_Avg_1_3_sec')\n",
      "('Low_sec_Lag_3', 'BBL_Lag_Avg_1_3_sec')\n",
      "('Volume_sec_Lag_1', 'Volume_Lag_Avg_1_3_sec')\n",
      "('Volume_sec_Lag_2', 'Volume_Lag_Avg_1_3_sec')\n",
      "('Volume_sec_Lag_3', 'Volume_Lag_Avg_1_3_sec')\n",
      "('Close_sec_Lag_1', 'Close_sec_Lag_2')\n",
      "('Close_sec_Lag_1', 'Close_sec_Lag_3')\n",
      "('Close_sec_Lag_1', 'EMA_sec_Lag_1')\n",
      "('Close_sec_Lag_1', 'EMA_sec_Lag_2')\n",
      "('Close_sec_Lag_1', 'EMA_sec_Lag_3')\n",
      "('Close_sec_Lag_1', 'SMA_sec_Lag_1')\n",
      "('Close_sec_Lag_1', 'SMA_sec_Lag_2')\n",
      "('Close_sec_Lag_1', 'SMA_sec_Lag_3')\n",
      "('Close_sec_Lag_1', 'BBM_sec_Lag_1')\n",
      "('Close_sec_Lag_1', 'BBM_sec_Lag_2')\n",
      "('Close_sec_Lag_1', 'BBM_sec_Lag_3')\n",
      "('Close_sec_Lag_1', 'BBL_sec_Lag_1')\n",
      "('Close_sec_Lag_1', 'BBL_sec_Lag_2')\n",
      "('Close_sec_Lag_1', 'BBL_sec_Lag_3')\n",
      "('Close_sec_Lag_1', 'BBU_sec_Lag_1')\n",
      "('Close_sec_Lag_1', 'BBU_sec_Lag_2')\n",
      "('Close_sec_Lag_1', 'BBU_sec_Lag_3')\n",
      "('Close_sec_Lag_1', 'Close_Lag_Avg_1_3_sec')\n",
      "('Close_sec_Lag_1', 'Open_Lag_Avg_1_3_sec')\n",
      "('Close_sec_Lag_1', 'High_Lag_Avg_1_3_sec')\n",
      "('Close_sec_Lag_1', 'Low_Lag_Avg_1_3_sec')\n",
      "('Close_sec_Lag_1', 'EMA_Lag_Avg_1_3_sec')\n",
      "('Close_sec_Lag_1', 'SMA_Lag_Avg_1_3_sec')\n",
      "('Close_sec_Lag_1', 'BBM_Lag_Avg_1_3_sec')\n",
      "('Close_sec_Lag_1', 'BBU_Lag_Avg_1_3_sec')\n",
      "('Close_sec_Lag_1', 'BBL_Lag_Avg_1_3_sec')\n",
      "('Close_sec_Lag_2', 'Close_sec_Lag_3')\n",
      "('Close_sec_Lag_2', 'EMA_sec_Lag_1')\n",
      "('Close_sec_Lag_2', 'EMA_sec_Lag_2')\n",
      "('Close_sec_Lag_2', 'EMA_sec_Lag_3')\n",
      "('Close_sec_Lag_2', 'SMA_sec_Lag_1')\n",
      "('Close_sec_Lag_2', 'SMA_sec_Lag_2')\n",
      "('Close_sec_Lag_2', 'SMA_sec_Lag_3')\n",
      "('Close_sec_Lag_2', 'BBM_sec_Lag_1')\n",
      "('Close_sec_Lag_2', 'BBM_sec_Lag_2')\n",
      "('Close_sec_Lag_2', 'BBM_sec_Lag_3')\n",
      "('Close_sec_Lag_2', 'BBL_sec_Lag_1')\n",
      "('Close_sec_Lag_2', 'BBL_sec_Lag_2')\n",
      "('Close_sec_Lag_2', 'BBL_sec_Lag_3')\n",
      "('Close_sec_Lag_2', 'BBU_sec_Lag_1')\n",
      "('Close_sec_Lag_2', 'BBU_sec_Lag_2')\n",
      "('Close_sec_Lag_2', 'BBU_sec_Lag_3')\n",
      "('Close_sec_Lag_2', 'Close_Lag_Avg_1_3_sec')\n",
      "('Close_sec_Lag_2', 'Open_Lag_Avg_1_3_sec')\n",
      "('Close_sec_Lag_2', 'High_Lag_Avg_1_3_sec')\n",
      "('Close_sec_Lag_2', 'Low_Lag_Avg_1_3_sec')\n",
      "('Close_sec_Lag_2', 'EMA_Lag_Avg_1_3_sec')\n",
      "('Close_sec_Lag_2', 'SMA_Lag_Avg_1_3_sec')\n",
      "('Close_sec_Lag_2', 'BBM_Lag_Avg_1_3_sec')\n",
      "('Close_sec_Lag_2', 'BBU_Lag_Avg_1_3_sec')\n",
      "('Close_sec_Lag_2', 'BBL_Lag_Avg_1_3_sec')\n",
      "('Close_sec_Lag_3', 'EMA_sec_Lag_1')\n",
      "('Close_sec_Lag_3', 'EMA_sec_Lag_2')\n",
      "('Close_sec_Lag_3', 'EMA_sec_Lag_3')\n",
      "('Close_sec_Lag_3', 'SMA_sec_Lag_1')\n",
      "('Close_sec_Lag_3', 'SMA_sec_Lag_2')\n",
      "('Close_sec_Lag_3', 'SMA_sec_Lag_3')\n",
      "('Close_sec_Lag_3', 'BBM_sec_Lag_1')\n",
      "('Close_sec_Lag_3', 'BBM_sec_Lag_2')\n",
      "('Close_sec_Lag_3', 'BBM_sec_Lag_3')\n",
      "('Close_sec_Lag_3', 'BBL_sec_Lag_1')\n",
      "('Close_sec_Lag_3', 'BBL_sec_Lag_2')\n",
      "('Close_sec_Lag_3', 'BBL_sec_Lag_3')\n",
      "('Close_sec_Lag_3', 'BBU_sec_Lag_1')\n",
      "('Close_sec_Lag_3', 'BBU_sec_Lag_2')\n",
      "('Close_sec_Lag_3', 'BBU_sec_Lag_3')\n",
      "('Close_sec_Lag_3', 'Close_Lag_Avg_1_3_sec')\n",
      "('Close_sec_Lag_3', 'Open_Lag_Avg_1_3_sec')\n",
      "('Close_sec_Lag_3', 'High_Lag_Avg_1_3_sec')\n",
      "('Close_sec_Lag_3', 'Low_Lag_Avg_1_3_sec')\n",
      "('Close_sec_Lag_3', 'EMA_Lag_Avg_1_3_sec')\n",
      "('Close_sec_Lag_3', 'SMA_Lag_Avg_1_3_sec')\n",
      "('Close_sec_Lag_3', 'BBM_Lag_Avg_1_3_sec')\n",
      "('Close_sec_Lag_3', 'BBU_Lag_Avg_1_3_sec')\n",
      "('Close_sec_Lag_3', 'BBL_Lag_Avg_1_3_sec')\n",
      "('EMA_sec_Lag_1', 'EMA_sec_Lag_2')\n",
      "('EMA_sec_Lag_1', 'EMA_sec_Lag_3')\n",
      "('EMA_sec_Lag_1', 'SMA_sec_Lag_1')\n",
      "('EMA_sec_Lag_1', 'SMA_sec_Lag_2')\n",
      "('EMA_sec_Lag_1', 'SMA_sec_Lag_3')\n",
      "('EMA_sec_Lag_1', 'BBM_sec_Lag_1')\n",
      "('EMA_sec_Lag_1', 'BBM_sec_Lag_2')\n",
      "('EMA_sec_Lag_1', 'BBM_sec_Lag_3')\n",
      "('EMA_sec_Lag_1', 'BBL_sec_Lag_1')\n",
      "('EMA_sec_Lag_1', 'BBL_sec_Lag_2')\n",
      "('EMA_sec_Lag_1', 'BBL_sec_Lag_3')\n",
      "('EMA_sec_Lag_1', 'BBU_sec_Lag_1')\n",
      "('EMA_sec_Lag_1', 'BBU_sec_Lag_2')\n",
      "('EMA_sec_Lag_1', 'BBU_sec_Lag_3')\n",
      "('EMA_sec_Lag_1', 'Close_Lag_Avg_1_3_sec')\n",
      "('EMA_sec_Lag_1', 'Open_Lag_Avg_1_3_sec')\n",
      "('EMA_sec_Lag_1', 'High_Lag_Avg_1_3_sec')\n",
      "('EMA_sec_Lag_1', 'Low_Lag_Avg_1_3_sec')\n",
      "('EMA_sec_Lag_1', 'EMA_Lag_Avg_1_3_sec')\n",
      "('EMA_sec_Lag_1', 'SMA_Lag_Avg_1_3_sec')\n",
      "('EMA_sec_Lag_1', 'BBM_Lag_Avg_1_3_sec')\n",
      "('EMA_sec_Lag_1', 'BBU_Lag_Avg_1_3_sec')\n",
      "('EMA_sec_Lag_1', 'BBL_Lag_Avg_1_3_sec')\n",
      "('EMA_sec_Lag_2', 'EMA_sec_Lag_3')\n",
      "('EMA_sec_Lag_2', 'SMA_sec_Lag_1')\n",
      "('EMA_sec_Lag_2', 'SMA_sec_Lag_2')\n",
      "('EMA_sec_Lag_2', 'SMA_sec_Lag_3')\n",
      "('EMA_sec_Lag_2', 'BBM_sec_Lag_1')\n",
      "('EMA_sec_Lag_2', 'BBM_sec_Lag_2')\n",
      "('EMA_sec_Lag_2', 'BBM_sec_Lag_3')\n",
      "('EMA_sec_Lag_2', 'BBL_sec_Lag_1')\n",
      "('EMA_sec_Lag_2', 'BBL_sec_Lag_2')\n",
      "('EMA_sec_Lag_2', 'BBL_sec_Lag_3')\n",
      "('EMA_sec_Lag_2', 'BBU_sec_Lag_1')\n",
      "('EMA_sec_Lag_2', 'BBU_sec_Lag_2')\n",
      "('EMA_sec_Lag_2', 'BBU_sec_Lag_3')\n",
      "('EMA_sec_Lag_2', 'Close_Lag_Avg_1_3_sec')\n",
      "('EMA_sec_Lag_2', 'Open_Lag_Avg_1_3_sec')\n",
      "('EMA_sec_Lag_2', 'High_Lag_Avg_1_3_sec')\n",
      "('EMA_sec_Lag_2', 'Low_Lag_Avg_1_3_sec')\n",
      "('EMA_sec_Lag_2', 'EMA_Lag_Avg_1_3_sec')\n",
      "('EMA_sec_Lag_2', 'SMA_Lag_Avg_1_3_sec')\n",
      "('EMA_sec_Lag_2', 'BBM_Lag_Avg_1_3_sec')\n",
      "('EMA_sec_Lag_2', 'BBU_Lag_Avg_1_3_sec')\n",
      "('EMA_sec_Lag_2', 'BBL_Lag_Avg_1_3_sec')\n",
      "('EMA_sec_Lag_3', 'SMA_sec_Lag_1')\n",
      "('EMA_sec_Lag_3', 'SMA_sec_Lag_2')\n",
      "('EMA_sec_Lag_3', 'SMA_sec_Lag_3')\n",
      "('EMA_sec_Lag_3', 'BBM_sec_Lag_1')\n",
      "('EMA_sec_Lag_3', 'BBM_sec_Lag_2')\n",
      "('EMA_sec_Lag_3', 'BBM_sec_Lag_3')\n",
      "('EMA_sec_Lag_3', 'BBL_sec_Lag_1')\n",
      "('EMA_sec_Lag_3', 'BBL_sec_Lag_2')\n",
      "('EMA_sec_Lag_3', 'BBL_sec_Lag_3')\n",
      "('EMA_sec_Lag_3', 'BBU_sec_Lag_1')\n",
      "('EMA_sec_Lag_3', 'BBU_sec_Lag_2')\n",
      "('EMA_sec_Lag_3', 'BBU_sec_Lag_3')\n",
      "('EMA_sec_Lag_3', 'Close_Lag_Avg_1_3_sec')\n",
      "('EMA_sec_Lag_3', 'Open_Lag_Avg_1_3_sec')\n",
      "('EMA_sec_Lag_3', 'High_Lag_Avg_1_3_sec')\n",
      "('EMA_sec_Lag_3', 'Low_Lag_Avg_1_3_sec')\n",
      "('EMA_sec_Lag_3', 'EMA_Lag_Avg_1_3_sec')\n",
      "('EMA_sec_Lag_3', 'SMA_Lag_Avg_1_3_sec')\n",
      "('EMA_sec_Lag_3', 'BBM_Lag_Avg_1_3_sec')\n",
      "('EMA_sec_Lag_3', 'BBU_Lag_Avg_1_3_sec')\n",
      "('EMA_sec_Lag_3', 'BBL_Lag_Avg_1_3_sec')\n",
      "('SMA_sec_Lag_1', 'SMA_sec_Lag_2')\n",
      "('SMA_sec_Lag_1', 'SMA_sec_Lag_3')\n",
      "('SMA_sec_Lag_1', 'BBM_sec_Lag_1')\n",
      "('SMA_sec_Lag_1', 'BBM_sec_Lag_2')\n",
      "('SMA_sec_Lag_1', 'BBM_sec_Lag_3')\n",
      "('SMA_sec_Lag_1', 'BBL_sec_Lag_1')\n",
      "('SMA_sec_Lag_1', 'BBL_sec_Lag_2')\n",
      "('SMA_sec_Lag_1', 'BBL_sec_Lag_3')\n",
      "('SMA_sec_Lag_1', 'BBU_sec_Lag_1')\n",
      "('SMA_sec_Lag_1', 'BBU_sec_Lag_2')\n",
      "('SMA_sec_Lag_1', 'BBU_sec_Lag_3')\n",
      "('SMA_sec_Lag_1', 'Close_Lag_Avg_1_3_sec')\n",
      "('SMA_sec_Lag_1', 'Open_Lag_Avg_1_3_sec')\n",
      "('SMA_sec_Lag_1', 'High_Lag_Avg_1_3_sec')\n",
      "('SMA_sec_Lag_1', 'Low_Lag_Avg_1_3_sec')\n",
      "('SMA_sec_Lag_1', 'EMA_Lag_Avg_1_3_sec')\n",
      "('SMA_sec_Lag_1', 'SMA_Lag_Avg_1_3_sec')\n",
      "('SMA_sec_Lag_1', 'BBM_Lag_Avg_1_3_sec')\n",
      "('SMA_sec_Lag_1', 'BBU_Lag_Avg_1_3_sec')\n",
      "('SMA_sec_Lag_1', 'BBL_Lag_Avg_1_3_sec')\n",
      "('SMA_sec_Lag_2', 'SMA_sec_Lag_3')\n",
      "('SMA_sec_Lag_2', 'BBM_sec_Lag_1')\n",
      "('SMA_sec_Lag_2', 'BBM_sec_Lag_2')\n",
      "('SMA_sec_Lag_2', 'BBM_sec_Lag_3')\n",
      "('SMA_sec_Lag_2', 'BBL_sec_Lag_1')\n",
      "('SMA_sec_Lag_2', 'BBL_sec_Lag_2')\n",
      "('SMA_sec_Lag_2', 'BBL_sec_Lag_3')\n",
      "('SMA_sec_Lag_2', 'BBU_sec_Lag_1')\n",
      "('SMA_sec_Lag_2', 'BBU_sec_Lag_2')\n",
      "('SMA_sec_Lag_2', 'BBU_sec_Lag_3')\n",
      "('SMA_sec_Lag_2', 'Close_Lag_Avg_1_3_sec')\n",
      "('SMA_sec_Lag_2', 'Open_Lag_Avg_1_3_sec')\n",
      "('SMA_sec_Lag_2', 'High_Lag_Avg_1_3_sec')\n",
      "('SMA_sec_Lag_2', 'Low_Lag_Avg_1_3_sec')\n",
      "('SMA_sec_Lag_2', 'EMA_Lag_Avg_1_3_sec')\n",
      "('SMA_sec_Lag_2', 'SMA_Lag_Avg_1_3_sec')\n",
      "('SMA_sec_Lag_2', 'BBM_Lag_Avg_1_3_sec')\n",
      "('SMA_sec_Lag_2', 'BBU_Lag_Avg_1_3_sec')\n",
      "('SMA_sec_Lag_2', 'BBL_Lag_Avg_1_3_sec')\n",
      "('SMA_sec_Lag_3', 'BBM_sec_Lag_1')\n",
      "('SMA_sec_Lag_3', 'BBM_sec_Lag_2')\n",
      "('SMA_sec_Lag_3', 'BBM_sec_Lag_3')\n",
      "('SMA_sec_Lag_3', 'BBL_sec_Lag_1')\n",
      "('SMA_sec_Lag_3', 'BBL_sec_Lag_2')\n",
      "('SMA_sec_Lag_3', 'BBL_sec_Lag_3')\n",
      "('SMA_sec_Lag_3', 'BBU_sec_Lag_1')\n",
      "('SMA_sec_Lag_3', 'BBU_sec_Lag_2')\n",
      "('SMA_sec_Lag_3', 'BBU_sec_Lag_3')\n",
      "('SMA_sec_Lag_3', 'Close_Lag_Avg_1_3_sec')\n",
      "('SMA_sec_Lag_3', 'Open_Lag_Avg_1_3_sec')\n",
      "('SMA_sec_Lag_3', 'High_Lag_Avg_1_3_sec')\n",
      "('SMA_sec_Lag_3', 'Low_Lag_Avg_1_3_sec')\n",
      "('SMA_sec_Lag_3', 'EMA_Lag_Avg_1_3_sec')\n",
      "('SMA_sec_Lag_3', 'SMA_Lag_Avg_1_3_sec')\n",
      "('SMA_sec_Lag_3', 'BBM_Lag_Avg_1_3_sec')\n",
      "('SMA_sec_Lag_3', 'BBU_Lag_Avg_1_3_sec')\n",
      "('SMA_sec_Lag_3', 'BBL_Lag_Avg_1_3_sec')\n",
      "('RSI_sec_Lag_1', 'RSI_Lag_Avg_1_3_sec')\n",
      "('RSI_sec_Lag_2', 'RSI_Lag_Avg_1_3_sec')\n",
      "('RSI_sec_Lag_3', 'RSI_Lag_Avg_1_3_sec')\n",
      "('BBM_sec_Lag_1', 'BBM_sec_Lag_2')\n",
      "('BBM_sec_Lag_1', 'BBM_sec_Lag_3')\n",
      "('BBM_sec_Lag_1', 'BBL_sec_Lag_1')\n",
      "('BBM_sec_Lag_1', 'BBL_sec_Lag_2')\n",
      "('BBM_sec_Lag_1', 'BBL_sec_Lag_3')\n",
      "('BBM_sec_Lag_1', 'BBU_sec_Lag_1')\n",
      "('BBM_sec_Lag_1', 'BBU_sec_Lag_2')\n",
      "('BBM_sec_Lag_1', 'BBU_sec_Lag_3')\n",
      "('BBM_sec_Lag_1', 'Close_Lag_Avg_1_3_sec')\n",
      "('BBM_sec_Lag_1', 'Open_Lag_Avg_1_3_sec')\n",
      "('BBM_sec_Lag_1', 'High_Lag_Avg_1_3_sec')\n",
      "('BBM_sec_Lag_1', 'Low_Lag_Avg_1_3_sec')\n",
      "('BBM_sec_Lag_1', 'EMA_Lag_Avg_1_3_sec')\n",
      "('BBM_sec_Lag_1', 'SMA_Lag_Avg_1_3_sec')\n",
      "('BBM_sec_Lag_1', 'BBM_Lag_Avg_1_3_sec')\n",
      "('BBM_sec_Lag_1', 'BBU_Lag_Avg_1_3_sec')\n",
      "('BBM_sec_Lag_1', 'BBL_Lag_Avg_1_3_sec')\n",
      "('BBM_sec_Lag_2', 'BBM_sec_Lag_3')\n",
      "('BBM_sec_Lag_2', 'BBL_sec_Lag_1')\n",
      "('BBM_sec_Lag_2', 'BBL_sec_Lag_2')\n",
      "('BBM_sec_Lag_2', 'BBL_sec_Lag_3')\n",
      "('BBM_sec_Lag_2', 'BBU_sec_Lag_1')\n",
      "('BBM_sec_Lag_2', 'BBU_sec_Lag_2')\n",
      "('BBM_sec_Lag_2', 'BBU_sec_Lag_3')\n",
      "('BBM_sec_Lag_2', 'Close_Lag_Avg_1_3_sec')\n",
      "('BBM_sec_Lag_2', 'Open_Lag_Avg_1_3_sec')\n",
      "('BBM_sec_Lag_2', 'High_Lag_Avg_1_3_sec')\n",
      "('BBM_sec_Lag_2', 'Low_Lag_Avg_1_3_sec')\n",
      "('BBM_sec_Lag_2', 'EMA_Lag_Avg_1_3_sec')\n",
      "('BBM_sec_Lag_2', 'SMA_Lag_Avg_1_3_sec')\n",
      "('BBM_sec_Lag_2', 'BBM_Lag_Avg_1_3_sec')\n",
      "('BBM_sec_Lag_2', 'BBU_Lag_Avg_1_3_sec')\n",
      "('BBM_sec_Lag_2', 'BBL_Lag_Avg_1_3_sec')\n",
      "('BBM_sec_Lag_3', 'BBL_sec_Lag_1')\n",
      "('BBM_sec_Lag_3', 'BBL_sec_Lag_2')\n",
      "('BBM_sec_Lag_3', 'BBL_sec_Lag_3')\n",
      "('BBM_sec_Lag_3', 'BBU_sec_Lag_1')\n",
      "('BBM_sec_Lag_3', 'BBU_sec_Lag_2')\n",
      "('BBM_sec_Lag_3', 'BBU_sec_Lag_3')\n",
      "('BBM_sec_Lag_3', 'Close_Lag_Avg_1_3_sec')\n",
      "('BBM_sec_Lag_3', 'Open_Lag_Avg_1_3_sec')\n",
      "('BBM_sec_Lag_3', 'High_Lag_Avg_1_3_sec')\n",
      "('BBM_sec_Lag_3', 'Low_Lag_Avg_1_3_sec')\n",
      "('BBM_sec_Lag_3', 'EMA_Lag_Avg_1_3_sec')\n",
      "('BBM_sec_Lag_3', 'SMA_Lag_Avg_1_3_sec')\n",
      "('BBM_sec_Lag_3', 'BBM_Lag_Avg_1_3_sec')\n",
      "('BBM_sec_Lag_3', 'BBU_Lag_Avg_1_3_sec')\n",
      "('BBM_sec_Lag_3', 'BBL_Lag_Avg_1_3_sec')\n",
      "('BBL_sec_Lag_1', 'BBL_sec_Lag_2')\n",
      "('BBL_sec_Lag_1', 'BBL_sec_Lag_3')\n",
      "('BBL_sec_Lag_1', 'BBU_sec_Lag_1')\n",
      "('BBL_sec_Lag_1', 'BBU_sec_Lag_2')\n",
      "('BBL_sec_Lag_1', 'BBU_sec_Lag_3')\n",
      "('BBL_sec_Lag_1', 'Close_Lag_Avg_1_3_sec')\n",
      "('BBL_sec_Lag_1', 'Open_Lag_Avg_1_3_sec')\n",
      "('BBL_sec_Lag_1', 'High_Lag_Avg_1_3_sec')\n",
      "('BBL_sec_Lag_1', 'Low_Lag_Avg_1_3_sec')\n",
      "('BBL_sec_Lag_1', 'EMA_Lag_Avg_1_3_sec')\n",
      "('BBL_sec_Lag_1', 'SMA_Lag_Avg_1_3_sec')\n",
      "('BBL_sec_Lag_1', 'BBM_Lag_Avg_1_3_sec')\n",
      "('BBL_sec_Lag_1', 'BBU_Lag_Avg_1_3_sec')\n",
      "('BBL_sec_Lag_1', 'BBL_Lag_Avg_1_3_sec')\n",
      "('BBL_sec_Lag_2', 'BBL_sec_Lag_3')\n",
      "('BBL_sec_Lag_2', 'BBU_sec_Lag_1')\n",
      "('BBL_sec_Lag_2', 'BBU_sec_Lag_2')\n",
      "('BBL_sec_Lag_2', 'BBU_sec_Lag_3')\n",
      "('BBL_sec_Lag_2', 'Close_Lag_Avg_1_3_sec')\n",
      "('BBL_sec_Lag_2', 'Open_Lag_Avg_1_3_sec')\n",
      "('BBL_sec_Lag_2', 'High_Lag_Avg_1_3_sec')\n",
      "('BBL_sec_Lag_2', 'Low_Lag_Avg_1_3_sec')\n",
      "('BBL_sec_Lag_2', 'EMA_Lag_Avg_1_3_sec')\n",
      "('BBL_sec_Lag_2', 'SMA_Lag_Avg_1_3_sec')\n",
      "('BBL_sec_Lag_2', 'BBM_Lag_Avg_1_3_sec')\n",
      "('BBL_sec_Lag_2', 'BBU_Lag_Avg_1_3_sec')\n",
      "('BBL_sec_Lag_2', 'BBL_Lag_Avg_1_3_sec')\n",
      "('BBL_sec_Lag_3', 'BBU_sec_Lag_1')\n",
      "('BBL_sec_Lag_3', 'BBU_sec_Lag_2')\n",
      "('BBL_sec_Lag_3', 'BBU_sec_Lag_3')\n",
      "('BBL_sec_Lag_3', 'Close_Lag_Avg_1_3_sec')\n",
      "('BBL_sec_Lag_3', 'Open_Lag_Avg_1_3_sec')\n",
      "('BBL_sec_Lag_3', 'High_Lag_Avg_1_3_sec')\n",
      "('BBL_sec_Lag_3', 'Low_Lag_Avg_1_3_sec')\n",
      "('BBL_sec_Lag_3', 'EMA_Lag_Avg_1_3_sec')\n",
      "('BBL_sec_Lag_3', 'SMA_Lag_Avg_1_3_sec')\n",
      "('BBL_sec_Lag_3', 'BBM_Lag_Avg_1_3_sec')\n",
      "('BBL_sec_Lag_3', 'BBU_Lag_Avg_1_3_sec')\n",
      "('BBL_sec_Lag_3', 'BBL_Lag_Avg_1_3_sec')\n",
      "('BBU_sec_Lag_1', 'BBU_sec_Lag_2')\n",
      "('BBU_sec_Lag_1', 'BBU_sec_Lag_3')\n",
      "('BBU_sec_Lag_1', 'Close_Lag_Avg_1_3_sec')\n",
      "('BBU_sec_Lag_1', 'Open_Lag_Avg_1_3_sec')\n",
      "('BBU_sec_Lag_1', 'High_Lag_Avg_1_3_sec')\n",
      "('BBU_sec_Lag_1', 'Low_Lag_Avg_1_3_sec')\n",
      "('BBU_sec_Lag_1', 'EMA_Lag_Avg_1_3_sec')\n",
      "('BBU_sec_Lag_1', 'SMA_Lag_Avg_1_3_sec')\n",
      "('BBU_sec_Lag_1', 'BBM_Lag_Avg_1_3_sec')\n",
      "('BBU_sec_Lag_1', 'BBU_Lag_Avg_1_3_sec')\n",
      "('BBU_sec_Lag_1', 'BBL_Lag_Avg_1_3_sec')\n",
      "('BBU_sec_Lag_2', 'BBU_sec_Lag_3')\n",
      "('BBU_sec_Lag_2', 'Close_Lag_Avg_1_3_sec')\n",
      "('BBU_sec_Lag_2', 'Open_Lag_Avg_1_3_sec')\n",
      "('BBU_sec_Lag_2', 'High_Lag_Avg_1_3_sec')\n",
      "('BBU_sec_Lag_2', 'Low_Lag_Avg_1_3_sec')\n",
      "('BBU_sec_Lag_2', 'EMA_Lag_Avg_1_3_sec')\n",
      "('BBU_sec_Lag_2', 'SMA_Lag_Avg_1_3_sec')\n",
      "('BBU_sec_Lag_2', 'BBM_Lag_Avg_1_3_sec')\n",
      "('BBU_sec_Lag_2', 'BBU_Lag_Avg_1_3_sec')\n",
      "('BBU_sec_Lag_2', 'BBL_Lag_Avg_1_3_sec')\n",
      "('BBU_sec_Lag_3', 'Close_Lag_Avg_1_3_sec')\n",
      "('BBU_sec_Lag_3', 'Open_Lag_Avg_1_3_sec')\n",
      "('BBU_sec_Lag_3', 'High_Lag_Avg_1_3_sec')\n",
      "('BBU_sec_Lag_3', 'Low_Lag_Avg_1_3_sec')\n",
      "('BBU_sec_Lag_3', 'EMA_Lag_Avg_1_3_sec')\n",
      "('BBU_sec_Lag_3', 'SMA_Lag_Avg_1_3_sec')\n",
      "('BBU_sec_Lag_3', 'BBM_Lag_Avg_1_3_sec')\n",
      "('BBU_sec_Lag_3', 'BBU_Lag_Avg_1_3_sec')\n",
      "('BBU_sec_Lag_3', 'BBL_Lag_Avg_1_3_sec')\n",
      "('MACD_sec_Lag_1', 'MACD_sec_Lag_2')\n",
      "('MACD_sec_Lag_1', 'MACD_sec_Lag_3')\n",
      "('MACD_sec_Lag_1', 'MACD_Lag_Avg_1_3_sec')\n",
      "('MACD_sec_Lag_2', 'MACD_sec_Lag_3')\n",
      "('MACD_sec_Lag_2', 'MACD_Signal_sec_Lag_1')\n",
      "('MACD_sec_Lag_2', 'MACD_Lag_Avg_1_3_sec')\n",
      "('MACD_sec_Lag_3', 'MACD_Signal_sec_Lag_1')\n",
      "('MACD_sec_Lag_3', 'MACD_Signal_sec_Lag_2')\n",
      "('MACD_sec_Lag_3', 'MACD_Lag_Avg_1_3_sec')\n",
      "('MACD_sec_Lag_3', 'MACD_Signal_Lag_Avg_1_3_sec')\n",
      "('MACD_Signal_sec_Lag_1', 'MACD_Signal_sec_Lag_2')\n",
      "('MACD_Signal_sec_Lag_1', 'MACD_Signal_sec_Lag_3')\n",
      "('MACD_Signal_sec_Lag_1', 'MACD_Lag_Avg_1_3_sec')\n",
      "('MACD_Signal_sec_Lag_1', 'MACD_Signal_Lag_Avg_1_3_sec')\n",
      "('MACD_Signal_sec_Lag_2', 'MACD_Signal_sec_Lag_3')\n",
      "('MACD_Signal_sec_Lag_2', 'MACD_Lag_Avg_1_3_sec')\n",
      "('MACD_Signal_sec_Lag_2', 'MACD_Signal_Lag_Avg_1_3_sec')\n",
      "('MACD_Signal_sec_Lag_3', 'MACD_Signal_Lag_Avg_1_3_sec')\n",
      "('MACD_Hist_sec_Lag_1', 'MACD_Hist_sec_Lag_2')\n",
      "('MACD_Hist_sec_Lag_1', 'MACD_Hist_Avg_1_3_sec')\n",
      "('MACD_Hist_sec_Lag_2', 'MACD_Hist_sec_Lag_3')\n",
      "('MACD_Hist_sec_Lag_2', 'MACD_Hist_Avg_1_3_sec')\n",
      "('MACD_Hist_sec_Lag_3', 'MACD_Hist_Avg_1_3_sec')\n",
      "('ADX_14_sec_Lag_1', 'ADX_14_sec_Lag_2')\n",
      "('ADX_14_sec_Lag_1', 'ADX_14_sec_Lag_3')\n",
      "('ADX_14_sec_Lag_1', 'ADX_14_Lag_Avg_1_3_sec')\n",
      "('ADX_14_sec_Lag_2', 'ADX_14_sec_Lag_3')\n",
      "('ADX_14_sec_Lag_2', 'ADX_14_Lag_Avg_1_3_sec')\n",
      "('ADX_14_sec_Lag_3', 'ADX_14_Lag_Avg_1_3_sec')\n",
      "('CCI_20_sec_Lag_2', 'CCI_20_Lag_Avg_1_3_sec')\n",
      "('ATR_14_sec_Lag_1', 'ATR_14_sec_Lag_2')\n",
      "('ATR_14_sec_Lag_1', 'ATR_14_sec_Lag_3')\n",
      "('ATR_14_sec_Lag_1', 'ATR_14_Lag_Avg_1_3_sec')\n",
      "('ATR_14_sec_Lag_2', 'ATR_14_sec_Lag_3')\n",
      "('ATR_14_sec_Lag_2', 'ATR_14_Lag_Avg_1_3_sec')\n",
      "('ATR_14_sec_Lag_3', 'ATR_14_Lag_Avg_1_3_sec')\n",
      "('Stoch_K_sec_Lag_2', 'Stoch_D_sec_Lag_1')\n",
      "('Stoch_K_sec_Lag_2', 'Stoch_K_Lag_Avg_1_3_sec')\n",
      "('Stoch_K_sec_Lag_3', 'Stoch_D_sec_Lag_2')\n",
      "('Stoch_K_sec_Lag_3', 'Stoch_D_Lag_Avg_1_3_sec')\n",
      "('Stoch_D_sec_Lag_1', 'Stoch_K_Lag_Avg_1_3_sec')\n",
      "('Stoch_D_sec_Lag_1', 'Stoch_D_Lag_Avg_1_3_sec')\n",
      "('Stoch_D_sec_Lag_2', 'Stoch_D_Lag_Avg_1_3_sec')\n",
      "('Stoch_D_sec_Lag_3', 'Stoch_D_Lag_Avg_1_3_sec')\n",
      "('Momentum_3_sec_Lag_1', 'Momentum_1_Lag_Avg_1_3_sec')\n",
      "('Momentum_7_sec_Lag_2', 'Momentum_7_Lag_Avg_1_3_sec')\n",
      "('Momentum_30_sec_Lag_1', 'Momentum_30_sec_Lag_2')\n",
      "('Momentum_30_sec_Lag_1', 'Momentum_30_Lag_Avg_1_3_sec')\n",
      "('Momentum_30_sec_Lag_2', 'Momentum_30_sec_Lag_3')\n",
      "('Momentum_30_sec_Lag_2', 'Momentum_30_Lag_Avg_1_3_sec')\n",
      "('Momentum_30_sec_Lag_3', 'Momentum_30_Lag_Avg_1_3_sec')\n",
      "('Momentum_50_sec_Lag_1', 'Momentum_50_sec_Lag_2')\n",
      "('Momentum_50_sec_Lag_1', 'Momentum_50_Lag_Avg_1_3_sec')\n",
      "('Momentum_50_sec_Lag_2', 'Momentum_50_sec_Lag_3')\n",
      "('Momentum_50_sec_Lag_2', 'Momentum_50_Lag_Avg_1_3_sec')\n",
      "('Momentum_50_sec_Lag_3', 'Momentum_50_Lag_Avg_1_3_sec')\n",
      "('OBV_sec_Lag_1', 'OBV_sec_Lag_2')\n",
      "('OBV_sec_Lag_1', 'OBV_sec_Lag_3')\n",
      "('OBV_sec_Lag_1', 'OBV_Lag_Avg_1_3_sec')\n",
      "('OBV_sec_Lag_2', 'OBV_sec_Lag_3')\n",
      "('OBV_sec_Lag_2', 'OBV_Lag_Avg_1_3_sec')\n",
      "('OBV_sec_Lag_3', 'OBV_Lag_Avg_1_3_sec')\n",
      "('Close_Lag_Avg_1_3_sec', 'Open_Lag_Avg_1_3_sec')\n",
      "('Close_Lag_Avg_1_3_sec', 'High_Lag_Avg_1_3_sec')\n",
      "('Close_Lag_Avg_1_3_sec', 'Low_Lag_Avg_1_3_sec')\n",
      "('Close_Lag_Avg_1_3_sec', 'EMA_Lag_Avg_1_3_sec')\n",
      "('Close_Lag_Avg_1_3_sec', 'SMA_Lag_Avg_1_3_sec')\n",
      "('Close_Lag_Avg_1_3_sec', 'BBM_Lag_Avg_1_3_sec')\n",
      "('Close_Lag_Avg_1_3_sec', 'BBU_Lag_Avg_1_3_sec')\n",
      "('Close_Lag_Avg_1_3_sec', 'BBL_Lag_Avg_1_3_sec')\n",
      "('Close_Lag_Std_1_3_sec', 'Open_Lag_Std_1_3_sec')\n",
      "('Close_Lag_Std_1_3_sec', 'High_Lag_Std_1_3_sec')\n",
      "('Close_Lag_Std_1_3_sec', 'Low_Lag_Std_1_3_sec')\n",
      "('Open_Lag_Avg_1_3_sec', 'High_Lag_Avg_1_3_sec')\n",
      "('Open_Lag_Avg_1_3_sec', 'Low_Lag_Avg_1_3_sec')\n",
      "('Open_Lag_Avg_1_3_sec', 'EMA_Lag_Avg_1_3_sec')\n",
      "('Open_Lag_Avg_1_3_sec', 'SMA_Lag_Avg_1_3_sec')\n",
      "('Open_Lag_Avg_1_3_sec', 'BBM_Lag_Avg_1_3_sec')\n",
      "('Open_Lag_Avg_1_3_sec', 'BBU_Lag_Avg_1_3_sec')\n",
      "('Open_Lag_Avg_1_3_sec', 'BBL_Lag_Avg_1_3_sec')\n",
      "('Open_Lag_Std_1_3_sec', 'High_Lag_Std_1_3_sec')\n",
      "('Open_Lag_Std_1_3_sec', 'Low_Lag_Std_1_3_sec')\n",
      "('High_Lag_Avg_1_3_sec', 'Low_Lag_Avg_1_3_sec')\n",
      "('High_Lag_Avg_1_3_sec', 'EMA_Lag_Avg_1_3_sec')\n",
      "('High_Lag_Avg_1_3_sec', 'SMA_Lag_Avg_1_3_sec')\n",
      "('High_Lag_Avg_1_3_sec', 'BBM_Lag_Avg_1_3_sec')\n",
      "('High_Lag_Avg_1_3_sec', 'BBU_Lag_Avg_1_3_sec')\n",
      "('High_Lag_Avg_1_3_sec', 'BBL_Lag_Avg_1_3_sec')\n",
      "('High_Lag_Std_1_3_sec', 'Low_Lag_Std_1_3_sec')\n",
      "('High_Lag_Std_1_3_sec', 'BBL_Lag_Std_1_3_sec')\n",
      "('Low_Lag_Avg_1_3_sec', 'EMA_Lag_Avg_1_3_sec')\n",
      "('Low_Lag_Avg_1_3_sec', 'SMA_Lag_Avg_1_3_sec')\n",
      "('Low_Lag_Avg_1_3_sec', 'BBM_Lag_Avg_1_3_sec')\n",
      "('Low_Lag_Avg_1_3_sec', 'BBU_Lag_Avg_1_3_sec')\n",
      "('Low_Lag_Avg_1_3_sec', 'BBL_Lag_Avg_1_3_sec')\n",
      "('EMA_Lag_Avg_1_3_sec', 'SMA_Lag_Avg_1_3_sec')\n",
      "('EMA_Lag_Avg_1_3_sec', 'BBM_Lag_Avg_1_3_sec')\n",
      "('EMA_Lag_Avg_1_3_sec', 'BBU_Lag_Avg_1_3_sec')\n",
      "('EMA_Lag_Avg_1_3_sec', 'BBL_Lag_Avg_1_3_sec')\n",
      "('EMA_Lag_Std_1_3_sec', 'SMA_Lag_Std_1_3_sec')\n",
      "('EMA_Lag_Std_1_3_sec', 'BBM_Lag_Std_1_3_sec')\n",
      "('EMA_Lag_Std_1_3_sec', 'BBU_Lag_Std_1_3_sec')\n",
      "('EMA_Lag_Std_1_3_sec', 'BBL_Lag_Std_1_3_sec')\n",
      "('SMA_Lag_Avg_1_3_sec', 'BBM_Lag_Avg_1_3_sec')\n",
      "('SMA_Lag_Avg_1_3_sec', 'BBU_Lag_Avg_1_3_sec')\n",
      "('SMA_Lag_Avg_1_3_sec', 'BBL_Lag_Avg_1_3_sec')\n",
      "('SMA_Lag_Std_1_3_sec', 'BBM_Lag_Std_1_3_sec')\n",
      "('SMA_Lag_Std_1_3_sec', 'BBU_Lag_Std_1_3_sec')\n",
      "('SMA_Lag_Std_1_3_sec', 'BBL_Lag_Std_1_3_sec')\n",
      "('BBM_Lag_Avg_1_3_sec', 'BBU_Lag_Avg_1_3_sec')\n",
      "('BBM_Lag_Avg_1_3_sec', 'BBL_Lag_Avg_1_3_sec')\n",
      "('BBM_Lag_Std_1_3_sec', 'BBU_Lag_Std_1_3_sec')\n",
      "('BBM_Lag_Std_1_3_sec', 'BBL_Lag_Std_1_3_sec')\n",
      "('BBU_Lag_Avg_1_3_sec', 'BBL_Lag_Avg_1_3_sec')\n",
      "('BBU_Lag_Std_1_3_sec', 'BBL_Lag_Std_1_3_sec')\n",
      "('Stoch_K_Lag_Avg_1_3_sec', 'Stoch_D_Lag_Avg_1_3_sec')\n",
      "('MACD_Lag_Avg_1_3_sec', 'MACD_Signal_Lag_Avg_1_3_sec')\n",
      "Number of highly correlated features to drop: 92\n",
      "Features excluded: {'Momentum_7_Lag_Avg_1_3_sec', 'ADX_14_sec_Lag_1', 'MACD_Signal_sec_Lag_1', 'ADX_14_sec_Lag_2', 'Low_sec_Lag_3', 'Stoch_D_sec_Lag_2', 'Stoch_D_Lag_Avg_1_3_sec', 'BBL_sec_Lag_3', 'OBV_sec_Lag_1', 'BBL_sec_Lag_1', 'MACD_sec_Lag_2', 'Low_Lag_Std_1_3_sec', 'Open_Lag_Avg_1_3_sec', 'ADX_14_sec_Lag_3', 'MACD_Lag_Avg_1_3_sec', 'Volume_Lag_Avg_1_3_sec', 'BBU_Lag_Std_1_3_sec', 'BBM_sec', 'EMA_sec_Lag_1', 'MACD_Hist_sec_Lag_3', 'Low_Lag_Avg_1_3_sec', 'Open_Lag_Std_1_3_sec', 'Momentum_1_Lag_Avg_1_3_sec', 'Momentum_50_Lag_Avg_1_3_sec', 'BBU_sec_Lag_1', 'RSI_Lag_Avg_1_3_sec', 'OBV_sec_Lag_3', 'SMA_sec_Lag_2', 'ATR_14_Lag_Avg_1_3_sec', 'BBU_sec', 'BBL_Lag_Std_1_3_sec', 'SMA_sec_Lag_1', 'EMA_sec', 'SMA_Lag_Avg_1_3_sec', 'Stoch_K_Lag_Avg_1_3_sec', 'BBM_sec_Lag_3', 'High_sec_Lag_3', 'BBL_Lag_Avg_1_3_sec', 'BBU_Lag_Avg_1_3_sec', 'SMA_sec', 'High_sec_Lag_1', 'EMA_sec_Lag_3', 'MACD_Hist_sec_Lag_1', 'MACD_Signal_sec_Lag_3', 'Close_sec_Lag_1', 'BBU_sec_Lag_3', 'Momentum_30_sec_Lag_3', 'OBV_sec_Lag_2', 'BBM_sec_Lag_1', 'Low_sec', 'High_sec', 'Stoch_D_sec_Lag_1', 'MACD_sec_Lag_1', 'SMA_Lag_Std_1_3_sec', 'Momentum_30_sec_Lag_1', 'Stoch_K_sec_Lag_1', 'BBM_Lag_Avg_1_3_sec', 'Momentum_30_Lag_Avg_1_3_sec', 'OBV_Lag_Avg_1_3_sec', 'CCI_20_Lag_Avg_1_3_sec', 'BBM_sec_Lag_2', 'Low_sec_Lag_1', 'Close_sec_Lag_3', 'Momentum_50_sec_Lag_1', 'Close_sec_Lag_2', 'SMA_sec_Lag_3', 'EMA_Lag_Avg_1_3_sec', 'Momentum_50_sec_Lag_3', 'Open_sec_Lag_2', 'ADX_14_Lag_Avg_1_3_sec', 'ATR_14_sec_Lag_1', 'MACD_sec_Lag_3', 'EMA_sec_Lag_2', 'High_Lag_Std_1_3_sec', 'Open_sec_Lag_3', 'MACD_Signal_Lag_Avg_1_3_sec', 'MACD_Signal_sec_Lag_2', 'Momentum_30_sec_Lag_2', 'MACD_Hist_sec_Lag_2', 'BBM_Lag_Std_1_3_sec', 'High_sec_Lag_2', 'ATR_14_sec_Lag_3', 'Close_Lag_Avg_1_3_sec', 'High_Lag_Avg_1_3_sec', 'BBL_sec_Lag_2', 'ATR_14_sec_Lag_2', 'Open_sec_Lag_1', 'MACD_Hist_Avg_1_3_sec', 'BBL_sec', 'BBU_sec_Lag_2', 'Momentum_50_sec_Lag_2', 'Low_sec_Lag_2'}\n"
     ]
    }
   ],
   "source": [
    "# Establish the threshold.\n",
    "threshold = 0.95\n",
    "\n",
    "# Print the correlation matrix we established in the previous cell.\n",
    "print(\"Correlation Matrix:\")\n",
    "print(corr_matrix)\n",
    "\n",
    "# we will now find the PAIRS of features that are highly correlated.  This is important so we don't just callously remove features.\n",
    "high_corr_pairs = np.where(np.abs(corr_matrix) > threshold)\n",
    "\n",
    "# We will create a l;ist of these pairs, with the exception of any features that correlate with each other (self-correlation)\n",
    "high_corr_pairs = [(corr_matrix.index[x], corr_matrix.columns[y]) for x, y, in zip(*high_corr_pairs) if x != y and x < y]\n",
    "\n",
    "print(f\"Highly correlated feature pairs (correlation > {threshold}):\")\n",
    "for pair in high_corr_pairs:\n",
    "    print(pair)\n",
    "\n",
    "# We will now remove one feature from each of these pairs, since these pairs have high concentrations of correlation we are diluting the correlation and trying to establish more stability back to our data.\n",
    "features_to_drop = set()\n",
    "\n",
    "for feature_a, feature_b in high_corr_pairs:\n",
    "    features_to_drop.add(feature_b) # Dropping second feature in each pair\n",
    "\n",
    "X_train_filtered = X_train.drop(columns = features_to_drop)\n",
    "X_test_filtered = X_test.drop(columns = features_to_drop)\n",
    "\n",
    "# Print results for observation\n",
    "print(f\"Number of highly correlated features to drop: {len(features_to_drop)}\")\n",
    "print(f\"Features excluded: {features_to_drop}\")"
   ]
  },
  {
   "cell_type": "markdown",
   "metadata": {},
   "source": [
    "#### This worked out pretty well, we filtered out 92 features that were correlating too high!  We will however need to re-run our RFECV/Ridge model with our revised feature list and look at observations once more.  We will just need to run it once though."
   ]
  },
  {
   "cell_type": "code",
   "execution_count": 15,
   "metadata": {},
   "outputs": [
    {
     "name": "stderr",
     "output_type": "stream",
     "text": [
      "c:\\Users\\ryanm\\Desktop\\Portfolio-Proj-WK\\DL-Strategies\\DL-Strat\\Lib\\site-packages\\sklearn\\linear_model\\_ridge.py:216: LinAlgWarning: Ill-conditioned matrix (rcond=2.21843e-23): result may not be accurate.\n",
      "  return linalg.solve(A, Xy, assume_a=\"pos\", overwrite_a=True).T\n",
      "c:\\Users\\ryanm\\Desktop\\Portfolio-Proj-WK\\DL-Strategies\\DL-Strat\\Lib\\site-packages\\sklearn\\linear_model\\_ridge.py:216: LinAlgWarning: Ill-conditioned matrix (rcond=4.37347e-21): result may not be accurate.\n",
      "  return linalg.solve(A, Xy, assume_a=\"pos\", overwrite_a=True).T\n",
      "c:\\Users\\ryanm\\Desktop\\Portfolio-Proj-WK\\DL-Strategies\\DL-Strat\\Lib\\site-packages\\sklearn\\linear_model\\_ridge.py:216: LinAlgWarning: Ill-conditioned matrix (rcond=5.34146e-21): result may not be accurate.\n",
      "  return linalg.solve(A, Xy, assume_a=\"pos\", overwrite_a=True).T\n",
      "c:\\Users\\ryanm\\Desktop\\Portfolio-Proj-WK\\DL-Strategies\\DL-Strat\\Lib\\site-packages\\sklearn\\linear_model\\_ridge.py:216: LinAlgWarning: Ill-conditioned matrix (rcond=7.03526e-21): result may not be accurate.\n",
      "  return linalg.solve(A, Xy, assume_a=\"pos\", overwrite_a=True).T\n",
      "c:\\Users\\ryanm\\Desktop\\Portfolio-Proj-WK\\DL-Strategies\\DL-Strat\\Lib\\site-packages\\sklearn\\linear_model\\_ridge.py:216: LinAlgWarning: Ill-conditioned matrix (rcond=7.75897e-21): result may not be accurate.\n",
      "  return linalg.solve(A, Xy, assume_a=\"pos\", overwrite_a=True).T\n",
      "c:\\Users\\ryanm\\Desktop\\Portfolio-Proj-WK\\DL-Strategies\\DL-Strat\\Lib\\site-packages\\sklearn\\linear_model\\_ridge.py:216: LinAlgWarning: Ill-conditioned matrix (rcond=1.71164e-20): result may not be accurate.\n",
      "  return linalg.solve(A, Xy, assume_a=\"pos\", overwrite_a=True).T\n",
      "c:\\Users\\ryanm\\Desktop\\Portfolio-Proj-WK\\DL-Strategies\\DL-Strat\\Lib\\site-packages\\sklearn\\linear_model\\_ridge.py:216: LinAlgWarning: Ill-conditioned matrix (rcond=2.21955e-23): result may not be accurate.\n",
      "  return linalg.solve(A, Xy, assume_a=\"pos\", overwrite_a=True).T\n",
      "c:\\Users\\ryanm\\Desktop\\Portfolio-Proj-WK\\DL-Strategies\\DL-Strat\\Lib\\site-packages\\sklearn\\linear_model\\_ridge.py:216: LinAlgWarning: Ill-conditioned matrix (rcond=4.28118e-21): result may not be accurate.\n",
      "  return linalg.solve(A, Xy, assume_a=\"pos\", overwrite_a=True).T\n",
      "c:\\Users\\ryanm\\Desktop\\Portfolio-Proj-WK\\DL-Strategies\\DL-Strat\\Lib\\site-packages\\sklearn\\linear_model\\_ridge.py:216: LinAlgWarning: Ill-conditioned matrix (rcond=5.28743e-21): result may not be accurate.\n",
      "  return linalg.solve(A, Xy, assume_a=\"pos\", overwrite_a=True).T\n",
      "c:\\Users\\ryanm\\Desktop\\Portfolio-Proj-WK\\DL-Strategies\\DL-Strat\\Lib\\site-packages\\sklearn\\linear_model\\_ridge.py:216: LinAlgWarning: Ill-conditioned matrix (rcond=6.92567e-21): result may not be accurate.\n",
      "  return linalg.solve(A, Xy, assume_a=\"pos\", overwrite_a=True).T\n",
      "c:\\Users\\ryanm\\Desktop\\Portfolio-Proj-WK\\DL-Strategies\\DL-Strat\\Lib\\site-packages\\sklearn\\linear_model\\_ridge.py:216: LinAlgWarning: Ill-conditioned matrix (rcond=1.42298e-20): result may not be accurate.\n",
      "  return linalg.solve(A, Xy, assume_a=\"pos\", overwrite_a=True).T\n",
      "c:\\Users\\ryanm\\Desktop\\Portfolio-Proj-WK\\DL-Strategies\\DL-Strat\\Lib\\site-packages\\sklearn\\linear_model\\_ridge.py:216: LinAlgWarning: Ill-conditioned matrix (rcond=1.58114e-19): result may not be accurate.\n",
      "  return linalg.solve(A, Xy, assume_a=\"pos\", overwrite_a=True).T\n",
      "c:\\Users\\ryanm\\Desktop\\Portfolio-Proj-WK\\DL-Strategies\\DL-Strat\\Lib\\site-packages\\sklearn\\linear_model\\_ridge.py:216: LinAlgWarning: Ill-conditioned matrix (rcond=2.23815e-23): result may not be accurate.\n",
      "  return linalg.solve(A, Xy, assume_a=\"pos\", overwrite_a=True).T\n",
      "c:\\Users\\ryanm\\Desktop\\Portfolio-Proj-WK\\DL-Strategies\\DL-Strat\\Lib\\site-packages\\sklearn\\linear_model\\_ridge.py:216: LinAlgWarning: Ill-conditioned matrix (rcond=2.24933e-23): result may not be accurate.\n",
      "  return linalg.solve(A, Xy, assume_a=\"pos\", overwrite_a=True).T\n",
      "c:\\Users\\ryanm\\Desktop\\Portfolio-Proj-WK\\DL-Strategies\\DL-Strat\\Lib\\site-packages\\sklearn\\linear_model\\_ridge.py:216: LinAlgWarning: Ill-conditioned matrix (rcond=4.98609e-21): result may not be accurate.\n",
      "  return linalg.solve(A, Xy, assume_a=\"pos\", overwrite_a=True).T\n",
      "c:\\Users\\ryanm\\Desktop\\Portfolio-Proj-WK\\DL-Strategies\\DL-Strat\\Lib\\site-packages\\sklearn\\linear_model\\_ridge.py:216: LinAlgWarning: Ill-conditioned matrix (rcond=8.05564e-21): result may not be accurate.\n",
      "  return linalg.solve(A, Xy, assume_a=\"pos\", overwrite_a=True).T\n",
      "c:\\Users\\ryanm\\Desktop\\Portfolio-Proj-WK\\DL-Strategies\\DL-Strat\\Lib\\site-packages\\sklearn\\linear_model\\_ridge.py:216: LinAlgWarning: Ill-conditioned matrix (rcond=1.38482e-20): result may not be accurate.\n",
      "  return linalg.solve(A, Xy, assume_a=\"pos\", overwrite_a=True).T\n",
      "c:\\Users\\ryanm\\Desktop\\Portfolio-Proj-WK\\DL-Strategies\\DL-Strat\\Lib\\site-packages\\sklearn\\linear_model\\_ridge.py:216: LinAlgWarning: Ill-conditioned matrix (rcond=1.539e-19): result may not be accurate.\n",
      "  return linalg.solve(A, Xy, assume_a=\"pos\", overwrite_a=True).T\n",
      "c:\\Users\\ryanm\\Desktop\\Portfolio-Proj-WK\\DL-Strategies\\DL-Strat\\Lib\\site-packages\\sklearn\\linear_model\\_ridge.py:216: LinAlgWarning: Ill-conditioned matrix (rcond=2.17577e-23): result may not be accurate.\n",
      "  return linalg.solve(A, Xy, assume_a=\"pos\", overwrite_a=True).T\n",
      "c:\\Users\\ryanm\\Desktop\\Portfolio-Proj-WK\\DL-Strategies\\DL-Strat\\Lib\\site-packages\\sklearn\\linear_model\\_ridge.py:216: LinAlgWarning: Ill-conditioned matrix (rcond=4.16217e-21): result may not be accurate.\n",
      "  return linalg.solve(A, Xy, assume_a=\"pos\", overwrite_a=True).T\n",
      "c:\\Users\\ryanm\\Desktop\\Portfolio-Proj-WK\\DL-Strategies\\DL-Strat\\Lib\\site-packages\\sklearn\\linear_model\\_ridge.py:216: LinAlgWarning: Ill-conditioned matrix (rcond=5.10227e-21): result may not be accurate.\n",
      "  return linalg.solve(A, Xy, assume_a=\"pos\", overwrite_a=True).T\n",
      "c:\\Users\\ryanm\\Desktop\\Portfolio-Proj-WK\\DL-Strategies\\DL-Strat\\Lib\\site-packages\\sklearn\\linear_model\\_ridge.py:216: LinAlgWarning: Ill-conditioned matrix (rcond=6.48342e-21): result may not be accurate.\n",
      "  return linalg.solve(A, Xy, assume_a=\"pos\", overwrite_a=True).T\n",
      "c:\\Users\\ryanm\\Desktop\\Portfolio-Proj-WK\\DL-Strategies\\DL-Strat\\Lib\\site-packages\\sklearn\\linear_model\\_ridge.py:216: LinAlgWarning: Ill-conditioned matrix (rcond=1.40812e-20): result may not be accurate.\n",
      "  return linalg.solve(A, Xy, assume_a=\"pos\", overwrite_a=True).T\n",
      "c:\\Users\\ryanm\\Desktop\\Portfolio-Proj-WK\\DL-Strategies\\DL-Strat\\Lib\\site-packages\\sklearn\\linear_model\\_ridge.py:216: LinAlgWarning: Ill-conditioned matrix (rcond=1.64799e-19): result may not be accurate.\n",
      "  return linalg.solve(A, Xy, assume_a=\"pos\", overwrite_a=True).T\n",
      "c:\\Users\\ryanm\\Desktop\\Portfolio-Proj-WK\\DL-Strategies\\DL-Strat\\Lib\\site-packages\\sklearn\\linear_model\\_ridge.py:216: LinAlgWarning: Ill-conditioned matrix (rcond=2.21148e-23): result may not be accurate.\n",
      "  return linalg.solve(A, Xy, assume_a=\"pos\", overwrite_a=True).T\n",
      "c:\\Users\\ryanm\\Desktop\\Portfolio-Proj-WK\\DL-Strategies\\DL-Strat\\Lib\\site-packages\\sklearn\\linear_model\\_ridge.py:216: LinAlgWarning: Ill-conditioned matrix (rcond=2.22262e-23): result may not be accurate.\n",
      "  return linalg.solve(A, Xy, assume_a=\"pos\", overwrite_a=True).T\n",
      "c:\\Users\\ryanm\\Desktop\\Portfolio-Proj-WK\\DL-Strategies\\DL-Strat\\Lib\\site-packages\\sklearn\\linear_model\\_ridge.py:216: LinAlgWarning: Ill-conditioned matrix (rcond=5.18069e-21): result may not be accurate.\n",
      "  return linalg.solve(A, Xy, assume_a=\"pos\", overwrite_a=True).T\n",
      "c:\\Users\\ryanm\\Desktop\\Portfolio-Proj-WK\\DL-Strategies\\DL-Strat\\Lib\\site-packages\\sklearn\\linear_model\\_ridge.py:216: LinAlgWarning: Ill-conditioned matrix (rcond=6.60192e-21): result may not be accurate.\n",
      "  return linalg.solve(A, Xy, assume_a=\"pos\", overwrite_a=True).T\n",
      "c:\\Users\\ryanm\\Desktop\\Portfolio-Proj-WK\\DL-Strategies\\DL-Strat\\Lib\\site-packages\\sklearn\\linear_model\\_ridge.py:216: LinAlgWarning: Ill-conditioned matrix (rcond=1.38434e-20): result may not be accurate.\n",
      "  return linalg.solve(A, Xy, assume_a=\"pos\", overwrite_a=True).T\n",
      "c:\\Users\\ryanm\\Desktop\\Portfolio-Proj-WK\\DL-Strategies\\DL-Strat\\Lib\\site-packages\\sklearn\\linear_model\\_ridge.py:216: LinAlgWarning: Ill-conditioned matrix (rcond=1.54805e-19): result may not be accurate.\n",
      "  return linalg.solve(A, Xy, assume_a=\"pos\", overwrite_a=True).T\n",
      "c:\\Users\\ryanm\\Desktop\\Portfolio-Proj-WK\\DL-Strategies\\DL-Strat\\Lib\\site-packages\\sklearn\\linear_model\\_ridge.py:216: LinAlgWarning: Ill-conditioned matrix (rcond=1.76999e-23): result may not be accurate.\n",
      "  return linalg.solve(A, Xy, assume_a=\"pos\", overwrite_a=True).T\n",
      "c:\\Users\\ryanm\\Desktop\\Portfolio-Proj-WK\\DL-Strategies\\DL-Strat\\Lib\\site-packages\\sklearn\\linear_model\\_ridge.py:216: LinAlgWarning: Ill-conditioned matrix (rcond=3.38353e-21): result may not be accurate.\n",
      "  return linalg.solve(A, Xy, assume_a=\"pos\", overwrite_a=True).T\n",
      "c:\\Users\\ryanm\\Desktop\\Portfolio-Proj-WK\\DL-Strategies\\DL-Strat\\Lib\\site-packages\\sklearn\\linear_model\\_ridge.py:216: LinAlgWarning: Ill-conditioned matrix (rcond=4.10383e-21): result may not be accurate.\n",
      "  return linalg.solve(A, Xy, assume_a=\"pos\", overwrite_a=True).T\n",
      "c:\\Users\\ryanm\\Desktop\\Portfolio-Proj-WK\\DL-Strategies\\DL-Strat\\Lib\\site-packages\\sklearn\\linear_model\\_ridge.py:216: LinAlgWarning: Ill-conditioned matrix (rcond=5.32448e-21): result may not be accurate.\n",
      "  return linalg.solve(A, Xy, assume_a=\"pos\", overwrite_a=True).T\n",
      "c:\\Users\\ryanm\\Desktop\\Portfolio-Proj-WK\\DL-Strategies\\DL-Strat\\Lib\\site-packages\\sklearn\\linear_model\\_ridge.py:216: LinAlgWarning: Ill-conditioned matrix (rcond=1.10758e-20): result may not be accurate.\n",
      "  return linalg.solve(A, Xy, assume_a=\"pos\", overwrite_a=True).T\n",
      "c:\\Users\\ryanm\\Desktop\\Portfolio-Proj-WK\\DL-Strategies\\DL-Strat\\Lib\\site-packages\\sklearn\\linear_model\\_ridge.py:216: LinAlgWarning: Ill-conditioned matrix (rcond=1.25479e-19): result may not be accurate.\n",
      "  return linalg.solve(A, Xy, assume_a=\"pos\", overwrite_a=True).T\n"
     ]
    },
    {
     "name": "stdout",
     "output_type": "stream",
     "text": [
      "Selected important features: Index(['Volume_sec', 'Open_sec', 'MACD_sec', 'MACD_Signal_sec', 'CCI_20_sec',\n",
      "       'ATR_14_sec', 'Stoch_K_sec', 'Stoch_D_sec', 'Momentum_1_sec',\n",
      "       'Momentum_3_sec', 'Momentum_7_sec', 'CCI_20_sec_Lag_1',\n",
      "       'Stoch_K_sec_Lag_2', 'Momentum_1_sec_Lag_1', 'Momentum_1_sec_Lag_2',\n",
      "       'Momentum_1_sec_Lag_3', 'Momentum_3_sec_Lag_1', 'Momentum_3_sec_Lag_2',\n",
      "       'Momentum_3_sec_Lag_3', 'Momentum_7_sec_Lag_3', 'Close_Lag_Std_1_3_sec',\n",
      "       'EMA_Lag_Std_1_3_sec', 'MACD_Lag_Std_1_3_sec',\n",
      "       'MACD_Signal_Lag_Std_1_3_sec', 'MACD_Hist_Lag_Std_1_3_sec',\n",
      "       'ATR_14_Lag_Std_1_3_sec', 'Momentum_3_Lag_Std_1_3_sec',\n",
      "       'Momentum_30_Lag_Std_1_3_sec', 'Momentum_50_Lag_Std_1_3_sec',\n",
      "       'Diff_Close_EMA_sec', 'Ratio_Close_EMA_sec'],\n",
      "      dtype='object')\n"
     ]
    }
   ],
   "source": [
    "# Redefine our Ridge model with RFECV, isn't completely necessary we could pull from above but helps for readability.\n",
    "ridge_filter = Ridge(alpha = 0.5, random_state = 42)\n",
    "rfecv_filter = RFECV(estimator = ridge_filter, step = 1, cv = 5, scoring = 'neg_mean_squared_error')\n",
    "\n",
    "# Now when we fit the model we will use our filtered data.\n",
    "rfecv_filter.fit(X_train_filtered, y_train)\n",
    "\n",
    "selected_featured_filtered = X_train_filtered.columns[rfecv_filter.support_]\n",
    "print(f\"Selected important features: {selected_featured_filtered}\")\n"
   ]
  },
  {
   "cell_type": "markdown",
   "metadata": {},
   "source": [
    "#### We have warnings in our output that suggest we still have a fair amount of multicollinearity in our features, even after we filtered it the first time.  Let's do a VIF (Variance Inflation Factor) check real quick.  Depending on the ouput of the VIF, we can go back up and adjust our initial threshold modifier, then re-run our filtered model, then our VIF again, and so on until we have our desired feature set with normalized collinearity.  If it gets to a certain point we can review the VIF scores and manually drop certain highly correlated features. (Stop here until collinearity is regulated)."
   ]
  },
  {
   "cell_type": "markdown",
   "metadata": {},
   "source": [
    "#### Now let's set up our predictions on the model with our metrics."
   ]
  },
  {
   "cell_type": "code",
   "execution_count": 16,
   "metadata": {},
   "outputs": [
    {
     "ename": "ValueError",
     "evalue": "The feature names should match those that were passed during fit.\nFeature names seen at fit time, yet now missing:\n- ADX_14_Lag_Std_1_3_sec\n- ADX_14_sec\n- CCI_20_Lag_Std_1_3_sec\n- CCI_20_sec_Lag_2\n- CCI_20_sec_Lag_3\n- ...\n",
     "output_type": "error",
     "traceback": [
      "\u001b[1;31m---------------------------------------------------------------------------\u001b[0m",
      "\u001b[1;31mValueError\u001b[0m                                Traceback (most recent call last)",
      "Cell \u001b[1;32mIn[16], line 1\u001b[0m\n\u001b[1;32m----> 1\u001b[0m y_pred_filtered \u001b[38;5;241m=\u001b[39m \u001b[43mrfecv_filter\u001b[49m\u001b[38;5;241;43m.\u001b[39;49m\u001b[43mpredict\u001b[49m\u001b[43m(\u001b[49m\u001b[43mX_test_filtered\u001b[49m\u001b[43m[\u001b[49m\u001b[43mselected_featured_filtered\u001b[49m\u001b[43m]\u001b[49m\u001b[43m)\u001b[49m\n",
      "File \u001b[1;32mc:\\Users\\ryanm\\Desktop\\Portfolio-Proj-WK\\DL-Strategies\\DL-Strat\\Lib\\site-packages\\sklearn\\feature_selection\\_rfe.py:378\u001b[0m, in \u001b[0;36mRFE.predict\u001b[1;34m(self, X)\u001b[0m\n\u001b[0;32m    365\u001b[0m \u001b[38;5;250m\u001b[39m\u001b[38;5;124;03m\"\"\"Reduce X to the selected features and predict using the estimator.\u001b[39;00m\n\u001b[0;32m    366\u001b[0m \n\u001b[0;32m    367\u001b[0m \u001b[38;5;124;03mParameters\u001b[39;00m\n\u001b[1;32m   (...)\u001b[0m\n\u001b[0;32m    375\u001b[0m \u001b[38;5;124;03m    The predicted target values.\u001b[39;00m\n\u001b[0;32m    376\u001b[0m \u001b[38;5;124;03m\"\"\"\u001b[39;00m\n\u001b[0;32m    377\u001b[0m check_is_fitted(\u001b[38;5;28mself\u001b[39m)\n\u001b[1;32m--> 378\u001b[0m \u001b[38;5;28;01mreturn\u001b[39;00m \u001b[38;5;28mself\u001b[39m\u001b[38;5;241m.\u001b[39mestimator_\u001b[38;5;241m.\u001b[39mpredict(\u001b[38;5;28;43mself\u001b[39;49m\u001b[38;5;241;43m.\u001b[39;49m\u001b[43mtransform\u001b[49m\u001b[43m(\u001b[49m\u001b[43mX\u001b[49m\u001b[43m)\u001b[49m)\n",
      "File \u001b[1;32mc:\\Users\\ryanm\\Desktop\\Portfolio-Proj-WK\\DL-Strategies\\DL-Strat\\Lib\\site-packages\\sklearn\\utils\\_set_output.py:313\u001b[0m, in \u001b[0;36m_wrap_method_output.<locals>.wrapped\u001b[1;34m(self, X, *args, **kwargs)\u001b[0m\n\u001b[0;32m    311\u001b[0m \u001b[38;5;129m@wraps\u001b[39m(f)\n\u001b[0;32m    312\u001b[0m \u001b[38;5;28;01mdef\u001b[39;00m \u001b[38;5;21mwrapped\u001b[39m(\u001b[38;5;28mself\u001b[39m, X, \u001b[38;5;241m*\u001b[39margs, \u001b[38;5;241m*\u001b[39m\u001b[38;5;241m*\u001b[39mkwargs):\n\u001b[1;32m--> 313\u001b[0m     data_to_wrap \u001b[38;5;241m=\u001b[39m \u001b[43mf\u001b[49m\u001b[43m(\u001b[49m\u001b[38;5;28;43mself\u001b[39;49m\u001b[43m,\u001b[49m\u001b[43m \u001b[49m\u001b[43mX\u001b[49m\u001b[43m,\u001b[49m\u001b[43m \u001b[49m\u001b[38;5;241;43m*\u001b[39;49m\u001b[43margs\u001b[49m\u001b[43m,\u001b[49m\u001b[43m \u001b[49m\u001b[38;5;241;43m*\u001b[39;49m\u001b[38;5;241;43m*\u001b[39;49m\u001b[43mkwargs\u001b[49m\u001b[43m)\u001b[49m\n\u001b[0;32m    314\u001b[0m     \u001b[38;5;28;01mif\u001b[39;00m \u001b[38;5;28misinstance\u001b[39m(data_to_wrap, \u001b[38;5;28mtuple\u001b[39m):\n\u001b[0;32m    315\u001b[0m         \u001b[38;5;66;03m# only wrap the first output for cross decomposition\u001b[39;00m\n\u001b[0;32m    316\u001b[0m         return_tuple \u001b[38;5;241m=\u001b[39m (\n\u001b[0;32m    317\u001b[0m             _wrap_data_with_container(method, data_to_wrap[\u001b[38;5;241m0\u001b[39m], X, \u001b[38;5;28mself\u001b[39m),\n\u001b[0;32m    318\u001b[0m             \u001b[38;5;241m*\u001b[39mdata_to_wrap[\u001b[38;5;241m1\u001b[39m:],\n\u001b[0;32m    319\u001b[0m         )\n",
      "File \u001b[1;32mc:\\Users\\ryanm\\Desktop\\Portfolio-Proj-WK\\DL-Strategies\\DL-Strat\\Lib\\site-packages\\sklearn\\feature_selection\\_base.py:102\u001b[0m, in \u001b[0;36mSelectorMixin.transform\u001b[1;34m(self, X)\u001b[0m\n\u001b[0;32m     98\u001b[0m preserve_X \u001b[38;5;241m=\u001b[39m output_config_dense \u001b[38;5;241m!=\u001b[39m \u001b[38;5;124m\"\u001b[39m\u001b[38;5;124mdefault\u001b[39m\u001b[38;5;124m\"\u001b[39m \u001b[38;5;129;01mand\u001b[39;00m _is_pandas_df(X)\n\u001b[0;32m    100\u001b[0m \u001b[38;5;66;03m# note: we use _safe_tags instead of _get_tags because this is a\u001b[39;00m\n\u001b[0;32m    101\u001b[0m \u001b[38;5;66;03m# public Mixin.\u001b[39;00m\n\u001b[1;32m--> 102\u001b[0m X \u001b[38;5;241m=\u001b[39m \u001b[38;5;28;43mself\u001b[39;49m\u001b[38;5;241;43m.\u001b[39;49m\u001b[43m_validate_data\u001b[49m\u001b[43m(\u001b[49m\n\u001b[0;32m    103\u001b[0m \u001b[43m    \u001b[49m\u001b[43mX\u001b[49m\u001b[43m,\u001b[49m\n\u001b[0;32m    104\u001b[0m \u001b[43m    \u001b[49m\u001b[43mdtype\u001b[49m\u001b[38;5;241;43m=\u001b[39;49m\u001b[38;5;28;43;01mNone\u001b[39;49;00m\u001b[43m,\u001b[49m\n\u001b[0;32m    105\u001b[0m \u001b[43m    \u001b[49m\u001b[43maccept_sparse\u001b[49m\u001b[38;5;241;43m=\u001b[39;49m\u001b[38;5;124;43m\"\u001b[39;49m\u001b[38;5;124;43mcsr\u001b[39;49m\u001b[38;5;124;43m\"\u001b[39;49m\u001b[43m,\u001b[49m\n\u001b[0;32m    106\u001b[0m \u001b[43m    \u001b[49m\u001b[43mforce_all_finite\u001b[49m\u001b[38;5;241;43m=\u001b[39;49m\u001b[38;5;129;43;01mnot\u001b[39;49;00m\u001b[43m \u001b[49m\u001b[43m_safe_tags\u001b[49m\u001b[43m(\u001b[49m\u001b[38;5;28;43mself\u001b[39;49m\u001b[43m,\u001b[49m\u001b[43m \u001b[49m\u001b[43mkey\u001b[49m\u001b[38;5;241;43m=\u001b[39;49m\u001b[38;5;124;43m\"\u001b[39;49m\u001b[38;5;124;43mallow_nan\u001b[39;49m\u001b[38;5;124;43m\"\u001b[39;49m\u001b[43m)\u001b[49m\u001b[43m,\u001b[49m\n\u001b[0;32m    107\u001b[0m \u001b[43m    \u001b[49m\u001b[43mcast_to_ndarray\u001b[49m\u001b[38;5;241;43m=\u001b[39;49m\u001b[38;5;129;43;01mnot\u001b[39;49;00m\u001b[43m \u001b[49m\u001b[43mpreserve_X\u001b[49m\u001b[43m,\u001b[49m\n\u001b[0;32m    108\u001b[0m \u001b[43m    \u001b[49m\u001b[43mreset\u001b[49m\u001b[38;5;241;43m=\u001b[39;49m\u001b[38;5;28;43;01mFalse\u001b[39;49;00m\u001b[43m,\u001b[49m\n\u001b[0;32m    109\u001b[0m \u001b[43m\u001b[49m\u001b[43m)\u001b[49m\n\u001b[0;32m    110\u001b[0m \u001b[38;5;28;01mreturn\u001b[39;00m \u001b[38;5;28mself\u001b[39m\u001b[38;5;241m.\u001b[39m_transform(X)\n",
      "File \u001b[1;32mc:\\Users\\ryanm\\Desktop\\Portfolio-Proj-WK\\DL-Strategies\\DL-Strat\\Lib\\site-packages\\sklearn\\base.py:608\u001b[0m, in \u001b[0;36mBaseEstimator._validate_data\u001b[1;34m(self, X, y, reset, validate_separately, cast_to_ndarray, **check_params)\u001b[0m\n\u001b[0;32m    537\u001b[0m \u001b[38;5;28;01mdef\u001b[39;00m \u001b[38;5;21m_validate_data\u001b[39m(\n\u001b[0;32m    538\u001b[0m     \u001b[38;5;28mself\u001b[39m,\n\u001b[0;32m    539\u001b[0m     X\u001b[38;5;241m=\u001b[39m\u001b[38;5;124m\"\u001b[39m\u001b[38;5;124mno_validation\u001b[39m\u001b[38;5;124m\"\u001b[39m,\n\u001b[1;32m   (...)\u001b[0m\n\u001b[0;32m    544\u001b[0m     \u001b[38;5;241m*\u001b[39m\u001b[38;5;241m*\u001b[39mcheck_params,\n\u001b[0;32m    545\u001b[0m ):\n\u001b[0;32m    546\u001b[0m \u001b[38;5;250m    \u001b[39m\u001b[38;5;124;03m\"\"\"Validate input data and set or check the `n_features_in_` attribute.\u001b[39;00m\n\u001b[0;32m    547\u001b[0m \n\u001b[0;32m    548\u001b[0m \u001b[38;5;124;03m    Parameters\u001b[39;00m\n\u001b[1;32m   (...)\u001b[0m\n\u001b[0;32m    606\u001b[0m \u001b[38;5;124;03m        validated.\u001b[39;00m\n\u001b[0;32m    607\u001b[0m \u001b[38;5;124;03m    \"\"\"\u001b[39;00m\n\u001b[1;32m--> 608\u001b[0m     \u001b[38;5;28;43mself\u001b[39;49m\u001b[38;5;241;43m.\u001b[39;49m\u001b[43m_check_feature_names\u001b[49m\u001b[43m(\u001b[49m\u001b[43mX\u001b[49m\u001b[43m,\u001b[49m\u001b[43m \u001b[49m\u001b[43mreset\u001b[49m\u001b[38;5;241;43m=\u001b[39;49m\u001b[43mreset\u001b[49m\u001b[43m)\u001b[49m\n\u001b[0;32m    610\u001b[0m     \u001b[38;5;28;01mif\u001b[39;00m y \u001b[38;5;129;01mis\u001b[39;00m \u001b[38;5;28;01mNone\u001b[39;00m \u001b[38;5;129;01mand\u001b[39;00m \u001b[38;5;28mself\u001b[39m\u001b[38;5;241m.\u001b[39m_get_tags()[\u001b[38;5;124m\"\u001b[39m\u001b[38;5;124mrequires_y\u001b[39m\u001b[38;5;124m\"\u001b[39m]:\n\u001b[0;32m    611\u001b[0m         \u001b[38;5;28;01mraise\u001b[39;00m \u001b[38;5;167;01mValueError\u001b[39;00m(\n\u001b[0;32m    612\u001b[0m             \u001b[38;5;124mf\u001b[39m\u001b[38;5;124m\"\u001b[39m\u001b[38;5;124mThis \u001b[39m\u001b[38;5;132;01m{\u001b[39;00m\u001b[38;5;28mself\u001b[39m\u001b[38;5;241m.\u001b[39m\u001b[38;5;18m__class__\u001b[39m\u001b[38;5;241m.\u001b[39m\u001b[38;5;18m__name__\u001b[39m\u001b[38;5;132;01m}\u001b[39;00m\u001b[38;5;124m estimator \u001b[39m\u001b[38;5;124m\"\u001b[39m\n\u001b[0;32m    613\u001b[0m             \u001b[38;5;124m\"\u001b[39m\u001b[38;5;124mrequires y to be passed, but the target y is None.\u001b[39m\u001b[38;5;124m\"\u001b[39m\n\u001b[0;32m    614\u001b[0m         )\n",
      "File \u001b[1;32mc:\\Users\\ryanm\\Desktop\\Portfolio-Proj-WK\\DL-Strategies\\DL-Strat\\Lib\\site-packages\\sklearn\\base.py:535\u001b[0m, in \u001b[0;36mBaseEstimator._check_feature_names\u001b[1;34m(self, X, reset)\u001b[0m\n\u001b[0;32m    530\u001b[0m \u001b[38;5;28;01mif\u001b[39;00m \u001b[38;5;129;01mnot\u001b[39;00m missing_names \u001b[38;5;129;01mand\u001b[39;00m \u001b[38;5;129;01mnot\u001b[39;00m unexpected_names:\n\u001b[0;32m    531\u001b[0m     message \u001b[38;5;241m+\u001b[39m\u001b[38;5;241m=\u001b[39m (\n\u001b[0;32m    532\u001b[0m         \u001b[38;5;124m\"\u001b[39m\u001b[38;5;124mFeature names must be in the same order as they were in fit.\u001b[39m\u001b[38;5;130;01m\\n\u001b[39;00m\u001b[38;5;124m\"\u001b[39m\n\u001b[0;32m    533\u001b[0m     )\n\u001b[1;32m--> 535\u001b[0m \u001b[38;5;28;01mraise\u001b[39;00m \u001b[38;5;167;01mValueError\u001b[39;00m(message)\n",
      "\u001b[1;31mValueError\u001b[0m: The feature names should match those that were passed during fit.\nFeature names seen at fit time, yet now missing:\n- ADX_14_Lag_Std_1_3_sec\n- ADX_14_sec\n- CCI_20_Lag_Std_1_3_sec\n- CCI_20_sec_Lag_2\n- CCI_20_sec_Lag_3\n- ...\n"
     ]
    }
   ],
   "source": [
    "y_pred_filtered = rfecv_filter.predict(X_test_filtered[selected_featured_filtered])"
   ]
  },
  {
   "cell_type": "code",
   "execution_count": null,
   "metadata": {},
   "outputs": [],
   "source": [
    "# Re-apply the metric logic to review the new set of metrics for the filtered data.\n",
    "rmse = np.sqrt(mean_squared_error(y_test, y_pred))\n",
    "mape = mean_absolute_percentage_error(y_test, y_pred)\n",
    "r2 = r2_score(y_test, y_pred)\n",
    "\n",
    "n = X_test_selected.shape[0]\n",
    "p = X_test_selected.shape[0]\n",
    "adjusted_r2 = 1 - (1 - r2) * (n - 1) / (n - p - 1)\n",
    "\n",
    "print(f\"RMSE: {rmse}\")\n",
    "print(f\"MAPE: {mape}\")\n",
    "print(f\"R2: {r2}\")\n",
    "print(f\"Adjusted R2: {adjusted_r2}\")"
   ]
  },
  {
   "cell_type": "markdown",
   "metadata": {},
   "source": [
    "#### Review metrics."
   ]
  },
  {
   "cell_type": "markdown",
   "metadata": {},
   "source": [
    "#### Let's also revise and review the cross-validation scores while we are at it to make sure we are on the right path with our progress with the features."
   ]
  },
  {
   "cell_type": "code",
   "execution_count": null,
   "metadata": {},
   "outputs": [],
   "source": [
    "# The below was just taken from above and edited for our new filtered variables to review the cross-val scores.  First we need to come up with separate \"scorers\" for both adjusted R2 and MAPE metrics, as well as RMSE.\n",
    "# The custom scorer for Adjusted R2.\n",
    "def adjusted_r2_score(r2, n, p):\n",
    "    return 1 - (1 - r2) * (n - 1) / (n - p - 1)\n",
    "\n",
    "# The MAPE scorer using the make_scorer import\n",
    "mape_scorer = make_scorer(mean_absolute_percentage_error, greater_is_better=False)\n",
    "\n",
    "# The RMSE scorer.\n",
    "rmse_scorer = make_scorer(lambda y_true, y_pred: np.sqrt(mean_squared_error(y_true, y_pred)), greater_is_better=False)\n",
    "\n",
    "# Now we will continue with our cross_validation, starting with the RMSE.\n",
    "cv_rmse_scores = cross_val_score(rfecv_filter, X_test_filtered, y_test, cv = 5, scoring = rmse_scorer)\n",
    "avg_rmse = np.mean(-cv_rmse_scores)\n",
    "\n",
    "# Let's look at our MAPE cross-val scores now\n",
    "cv_mape_scores = cross_val_score(rfecv_filter, X_test_filtered, y_test, cv = 5, scoring = mape_scorer)\n",
    "avg_mape = np.mean(-cv_mape_scores)\n",
    "\n",
    "# Now the R2 cross_val scores.\n",
    "cv_r2_scores = cross_val_score(rfecv_filter, X_test_filtered, y_test, cv = 5, scoring = 'r2')\n",
    "avg_r2 = np.mean(cv_r2_scores)\n",
    "\n",
    "# Finally the adjusted r2 cross-val scores.  We have to calculate this manually, works a bit differently.\n",
    "n = X_test_selected.shape[0]\n",
    "p = X_test_selected.shape[0]\n",
    "avg_adj_r2 = np.mean([adjusted_r2_score(r2, n, p) for r2 in cv_r2_scores])\n",
    "\n",
    "# Now we can print our results\n",
    "print(f\"Cross-validated RMSE: {avg_rmse}\")\n",
    "print(f\"Cross-validated MAPE: {avg_mape}\")\n",
    "print(f\"Cross-validated R2: {avg_r2}\")\n",
    "print(f\"Cross-validated Adjusted R2: {avg_adj_r2}\")\n"
   ]
  },
  {
   "cell_type": "markdown",
   "metadata": {},
   "source": [
    "#### Cross Val Score Review."
   ]
  },
  {
   "cell_type": "markdown",
   "metadata": {},
   "source": [
    "#### Finally let's replot those two plots from above in the Actual vs Predicted and Distribution of Residuals to see how they look now with our changes to filtered features."
   ]
  },
  {
   "cell_type": "code",
   "execution_count": null,
   "metadata": {},
   "outputs": [],
   "source": [
    "# Plotting the Actual vs Predicted Values\n",
    "plt.figure(figsize = (10,8))\n",
    "\n",
    "plt.scatter(y_test, y_pred, color = 'blue', edgecolor = 'black', alpha = 0.5)\n",
    "plt.plot([y_test.min(), y_test.max()], [y_test.min(), y_test.max()], 'k--', lw=2)\n",
    "plt.xlabel('Actual Values')\n",
    "plt.ylabel('Predicted Values')\n",
    "plt.title('Actual vs Predicted with RFECV Filtered Features')\n",
    "\n",
    "plt.grid(True)\n",
    "plt.show()"
   ]
  },
  {
   "cell_type": "markdown",
   "metadata": {},
   "source": [
    "#### Plot Review."
   ]
  },
  {
   "cell_type": "markdown",
   "metadata": {},
   "source": [
    "#### Finally let's look at the Distribution of Residuals plot."
   ]
  },
  {
   "cell_type": "code",
   "execution_count": null,
   "metadata": {},
   "outputs": [],
   "source": [
    "# Plotting the Residuals.\n",
    "residuals = y_test - y_pred\n",
    "\n",
    "plt.figure(figsize = (10,8))\n",
    "sns.histplot(residuals, kde = True, color = 'green')\n",
    "plt.title('Residuals Distribution')\n",
    "plt.xlabel('Residuals')\n",
    "\n",
    "plt.grid(True)\n",
    "plt.show()"
   ]
  },
  {
   "cell_type": "markdown",
   "metadata": {},
   "source": [
    "#### Plot review."
   ]
  },
  {
   "cell_type": "markdown",
   "metadata": {},
   "source": []
  },
  {
   "cell_type": "markdown",
   "metadata": {},
   "source": [
    "#### Notebook summary."
   ]
  }
 ],
 "metadata": {
  "kernelspec": {
   "display_name": "DL-Strat",
   "language": "python",
   "name": "python3"
  },
  "language_info": {
   "codemirror_mode": {
    "name": "ipython",
    "version": 3
   },
   "file_extension": ".py",
   "mimetype": "text/x-python",
   "name": "python",
   "nbconvert_exporter": "python",
   "pygments_lexer": "ipython3",
   "version": "3.11.0"
  }
 },
 "nbformat": 4,
 "nbformat_minor": 2
}
