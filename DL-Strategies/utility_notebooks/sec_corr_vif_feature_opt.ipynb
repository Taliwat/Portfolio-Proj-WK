{
 "cells": [
  {
   "cell_type": "markdown",
   "metadata": {},
   "source": [
    "# **Secondary Stock Data - Feature Filtering and Optimization Using Correlation Matrix and VIF Notebook**\n",
    "## In this notebook we will take our secondary stock data that has been previously preprocessed in sec_stock_preprocessing.ipynb and apply a method called VIF (Variance Inflation Factor) as well as a triangular correlation matrix to optimize our list of lagged features based on our target of the Closing Price for our data.  In other parts of this project it has been shown that there is extremely high collinearity with a lot of our features with our target, creating a lot of data leakage.  This will really skew our model results, so it is something we need to look at now before we get too far along.  Once we optimize our features our models will be much more efficient, as well as using this refined list of features to generate our secondary stocks for better cointegration tests at later parts of the project. "
   ]
  },
  {
   "cell_type": "markdown",
   "metadata": {},
   "source": [
    "#### As usual let's start by bringing in the libraries and logic necessary for reading in our file."
   ]
  },
  {
   "cell_type": "code",
   "execution_count": 1,
   "metadata": {},
   "outputs": [],
   "source": [
    "import sys\n",
    "import os\n",
    "\n",
    "project_root = os.path.abspath(os.path.join(os.getcwd(), '..'))\n",
    "if project_root not in sys.path:\n",
    "    sys.path.append(project_root)\n",
    "\n",
    "import matplotlib.pyplot as plt\n",
    "import seaborn as sns\n",
    "import numpy as np\n",
    "import pandas as pd\n",
    "from statsmodels.stats.outliers_influence import variance_inflation_factor\n",
    "from sklearn.feature_selection import mutual_info_regression"
   ]
  },
  {
   "cell_type": "markdown",
   "metadata": {},
   "source": [
    "#### Now let's read in our notebook and take a look; we will need the unscaled version of our preprocessed secondary stock data."
   ]
  },
  {
   "cell_type": "code",
   "execution_count": 2,
   "metadata": {},
   "outputs": [
    {
     "name": "stdout",
     "output_type": "stream",
     "text": [
      "           ticker   Close_sec  Volume_sec    Open_sec    High_sec     Low_sec  \\\n",
      "Date                                                                            \n",
      "2019-03-14    RMD  101.000000    972500.0  102.570000  102.570000  100.959999   \n",
      "2019-03-15    RMD  100.370003   2279400.0  100.900002  101.730003  100.199997   \n",
      "2019-03-18    RMD   97.400002   1915700.0  100.360001  100.610001   96.940002   \n",
      "2019-03-19    RMD   97.900002   1101100.0   97.660004   98.190002   97.070000   \n",
      "2019-03-20    RMD   98.809998   1467600.0   99.129997  100.800003   98.449997   \n",
      "\n",
      "             SMA_sec     EMA_sec    RSI_sec   BBM_sec  ...  \\\n",
      "Date                                                   ...   \n",
      "2019-03-14  104.9046  101.000000  63.818062  104.9046  ...   \n",
      "2019-03-15  104.9046  100.975294  63.818062  104.9046  ...   \n",
      "2019-03-18  104.9046  100.835087  63.818062  104.9046  ...   \n",
      "2019-03-19  104.9046  100.719985  63.818062  104.9046  ...   \n",
      "2019-03-20  104.9046  100.645084  63.818062  104.9046  ...   \n",
      "\n",
      "            Momentum_7_Lag_Avg_1_3_sec  Momentum_7_Lag_Std_1_3_sec  \\\n",
      "Date                                                                 \n",
      "2019-03-14                    0.419998                1.000000e-10   \n",
      "2019-03-15                    0.419998                1.000000e-10   \n",
      "2019-03-18                    0.419998                1.000000e-10   \n",
      "2019-03-19                    0.419998                1.000000e-10   \n",
      "2019-03-20                    0.419998                1.000000e-10   \n",
      "\n",
      "            Momentum_30_Lag_Avg_1_3_sec  Momentum_30_Lag_Std_1_3_sec  \\\n",
      "Date                                                                   \n",
      "2019-03-14                     2.940002                 1.000000e-10   \n",
      "2019-03-15                     2.940002                 1.000000e-10   \n",
      "2019-03-18                     2.940002                 1.000000e-10   \n",
      "2019-03-19                     2.940002                 1.000000e-10   \n",
      "2019-03-20                     2.940002                 1.000000e-10   \n",
      "\n",
      "            Momentum_50_Lag_Avg_1_3_sec  Momentum_50_Lag_Std_1_3_sec  \\\n",
      "Date                                                                   \n",
      "2019-03-14                    12.889999                 1.000000e-10   \n",
      "2019-03-15                    12.889999                 1.000000e-10   \n",
      "2019-03-18                    12.889999                 1.000000e-10   \n",
      "2019-03-19                    12.889999                 1.000000e-10   \n",
      "2019-03-20                    12.889999                 1.000000e-10   \n",
      "\n",
      "            OBV_Lag_Avg_1_3_sec  OBV_Lag_Std_1_3_sec  Diff_Close_EMA_sec  \\\n",
      "Date                                                                       \n",
      "2019-03-14         1.000000e-10         1.611779e+06        1.000000e-10   \n",
      "2019-03-15         1.000000e-10         1.611779e+06        1.000000e-10   \n",
      "2019-03-18         1.000000e-10         1.611779e+06        1.000000e-10   \n",
      "2019-03-19         1.000000e-10         2.100176e+06        1.000000e-10   \n",
      "2019-03-20         1.000000e-10         9.614140e+05        1.000000e-10   \n",
      "\n",
      "            Ratio_Close_EMA_sec  \n",
      "Date                             \n",
      "2019-03-14             1.000000  \n",
      "2019-03-15             0.994006  \n",
      "2019-03-18             0.965934  \n",
      "2019-03-19             0.972002  \n",
      "2019-03-20             0.981767  \n",
      "\n",
      "[5 rows x 153 columns]\n",
      "(266665, 153)\n"
     ]
    }
   ],
   "source": [
    "# Now let's access the main core_stock_data.csv file\n",
    "csv_path = os.path.join(project_root, 'data', 'sec_stock_unscaled.csv')\n",
    "sec_stock_data = pd.read_csv(csv_path, parse_dates=['Date'], index_col= 'Date')\n",
    "print(sec_stock_data.head())\n",
    "print(sec_stock_data.shape)"
   ]
  },
  {
   "cell_type": "markdown",
   "metadata": {},
   "source": [
    "#### We need to first set up the Correlation Matrix, and will start with a threshold of 0.95.  Doing the correlation matrix first will allow us to filter out the first batch of features which will set us up nicely for our VIF calculations.  First though let's drop our ticker column as it is not in the right format to be processed by the following calculations.  We also need to introduce our target in our Close Price (Close_sec), as all of the correlations will be based on relationships with this feature."
   ]
  },
  {
   "cell_type": "code",
   "execution_count": 3,
   "metadata": {},
   "outputs": [
    {
     "name": "stdout",
     "output_type": "stream",
     "text": [
      "Features sorted by correlation with target (Close_sec):\n",
      "Close_sec_Lag_1          0.998609\n",
      "High_sec_Lag_1           0.998545\n",
      "Low_sec_Lag_1            0.998539\n",
      "Open_sec_Lag_1           0.998445\n",
      "Close_Lag_Avg_1_3_sec    0.997856\n",
      "                           ...   \n",
      "MACD_Hist_Avg_1_3_sec    0.472103\n",
      "Open_Lag_Std_1_3_sec     0.287336\n",
      "Close_Lag_Std_1_3_sec    0.287072\n",
      "Low_Lag_Std_1_3_sec      0.266599\n",
      "High_Lag_Std_1_3_sec     0.258735\n",
      "Name: Close_sec, Length: 85, dtype: float64\n",
      "Number of remaining features after correlation matrix filtering:\n",
      "85\n"
     ]
    }
   ],
   "source": [
    "# Setting up our target for the correlation\n",
    "target = 'Close_sec'\n",
    "\n",
    "# Dropping unnecessary features, this portion to be edited as multiple runs of these models are configured.\n",
    "# We will drop Close_sec, just not here.\n",
    "cols_to_drop = ['ticker', 'Open_sec', 'High_sec', 'Low_sec', 'SMA_sec',\n",
    "                'EMA_sec', 'BBM_sec', 'BBU_sec', 'BBL_sec',\n",
    "                'Momentum_30_sec', 'Momentum_1_sec_Lag_1', 'Momentum_1_sec_Lag_2',\n",
    "                'MACD_Lag_Std_1_3', 'Momentum_3_sec_Lag_2', 'Momentum_3_sec_Lag_3',\n",
    "                'Momentum_1_sec_Lag_3', 'Momentum_1_sec', 'Momentum_3_sec',\n",
    "                'Momentum_7_sec', 'Momentum_3_Lag_Avg_1_3_sec']\n",
    "\n",
    "cols_now = [col for col in cols_to_drop if col in sec_stock_data.columns]\n",
    "sec_stock_data_for_corr = sec_stock_data.drop(columns = cols_now)\n",
    "\n",
    "# Calculate the correlation of each feature with the target\n",
    "corr_with_target = sec_stock_data_for_corr.corr()[target].abs()\n",
    "\n",
    "# Set a correlation threshold with the target \n",
    "corr_threshold_with_target = 0.25\n",
    "\n",
    "# Filter features that have a decent correlation with the target\n",
    "selected_features = corr_with_target[corr_with_target > corr_threshold_with_target].index\n",
    "\n",
    "# Make sure our target in Close_sec isn't included in the list of selected features since we are dropping it\n",
    "selected_features = selected_features.drop(target, errors='ignore')\n",
    "\n",
    "# Print correlation results for selected features\n",
    "#print(f\"Features that correlate well with the target ({target}):\\n{corr_with_target[selected_features]}\")\n",
    "\n",
    "# Now we will instantiate a new variable and drop the target Close_sec before running the correlation matrix\n",
    "sec_stock_data_for_corr = sec_stock_data_for_corr.drop(columns = [target])\n",
    "\n",
    "# Set up the correlation matrix for the selected features (after filtering by target correlation)\n",
    "corr_matrix = sec_stock_data_for_corr[selected_features].corr().abs()\n",
    "\n",
    "# Set the pairwise correlation threshold\n",
    "corr_threshold = 0.85\n",
    "\n",
    "# Set up a triangular matrix to identify features with high pairwise correlation\n",
    "upper_tri = corr_matrix.where(np.triu(np.ones(corr_matrix.shape), k=1).astype(bool))\n",
    "\n",
    "selected_features = corr_with_target[corr_with_target > corr_threshold_with_target].index\n",
    "\n",
    "selected_features = [feature for feature in selected_features if feature != target]\n",
    "\n",
    "final_corr_with_target = corr_with_target[selected_features].sort_values(ascending = False)\n",
    "print(f\"Features sorted by correlation with target ({target}):\\n{final_corr_with_target}\")\n",
    "\n",
    "print(f\"Number of remaining features after correlation matrix filtering:\\n{len(selected_features)}\")\n",
    "\n"
   ]
  },
  {
   "cell_type": "markdown",
   "metadata": {},
   "source": [
    "#### Good start, we filtered down to 85 features from 153 so we did a nice job of not over-filtering.  That will give our VIF (Variance Inflation Factor) a good pool to work with and we can manually step that threshold and adjust it until we find the set of features we like.  Let's get that VIF Calculation up and running."
   ]
  },
  {
   "cell_type": "code",
   "execution_count": 4,
   "metadata": {},
   "outputs": [
    {
     "name": "stderr",
     "output_type": "stream",
     "text": [
      "c:\\Users\\ryanm\\Desktop\\Portfolio-Proj-WK\\DL-Strategies\\DL-Strat\\Lib\\site-packages\\statsmodels\\stats\\outliers_influence.py:197: RuntimeWarning: divide by zero encountered in scalar divide\n",
      "  vif = 1. / (1. - r_squared_i)\n"
     ]
    },
    {
     "name": "stdout",
     "output_type": "stream",
     "text": [
      "Number of final selected features: 6\n",
      "VIF values of selected features:\n",
      "                        Feature       VIF\n",
      "76   Momentum_1_Lag_Std_1_3_sec  7.999026\n",
      "79   Momentum_7_Lag_Std_1_3_sec  7.759133\n",
      "74       ATR_14_Lag_Std_1_3_sec  6.402666\n",
      "77   Momentum_3_Lag_Std_1_3_sec  5.584117\n",
      "81  Momentum_30_Lag_Std_1_3_sec  5.516449\n",
      "83  Momentum_50_Lag_Std_1_3_sec  5.461889\n"
     ]
    }
   ],
   "source": [
    "# Let's set up our VIF Calculation here.  we will make it as a function so we can tune our threshold as needed.\n",
    "\n",
    "def calculate_vif(X):\n",
    "    vif_data = pd.DataFrame()\n",
    "    vif_data['Feature'] = X.columns\n",
    "    vif_data['VIF'] = [variance_inflation_factor(X.values, i) for i in range(X.shape[1])]\n",
    "    \n",
    "    return vif_data\n",
    "\n",
    "# Filter data for VIF calculation\n",
    "sec_data_for_vif = sec_stock_data[selected_features]\n",
    "\n",
    "# Calculate VIF for the remaining features\n",
    "vif_result = calculate_vif(sec_data_for_vif)\n",
    "\n",
    "# Set a VIF threshold \n",
    "vif_threshold = 10\n",
    "\n",
    "# Filter features that have VIF below the threshold\n",
    "filtered_vif_result = vif_result[vif_result['VIF'] < vif_threshold]\n",
    "\n",
    "final_features = filtered_vif_result['Feature']\n",
    "\n",
    "# Print final selected features\n",
    "print(f\"Number of final selected features: {len(final_features)}\")\n",
    "\n",
    "print(f\"VIF values of selected features:\\n{filtered_vif_result.sort_values(by = 'VIF', ascending = False)}\")\n",
    "\n"
   ]
  },
  {
   "cell_type": "markdown",
   "metadata": {},
   "source": [
    "#### We have a final list of 6 features, down from our original 153, that have been optimized according to our target according to their rate of collinearity.  Due to time restrictions we will just manually implement these in various areas in our project for now.  Later as time allows we will explore other methodologies (RFECV/Ridge, Boruta with RandomForest, etc.) to see if the results differ."
   ]
  },
  {
   "cell_type": "markdown",
   "metadata": {},
   "source": [
    "#### We have tested and filtered for multicollinearity, however we need to make sure we didn't remove features that carry predictability with our target.  Let's look at a MIS (Mutual Information Scores) Regression model real quick to ascertain the predictive power of each of the remaining features.  We will want to establish a balance between collinearity and prediction power for our final set of features."
   ]
  },
  {
   "cell_type": "code",
   "execution_count": 5,
   "metadata": {},
   "outputs": [
    {
     "name": "stdout",
     "output_type": "stream",
     "text": [
      "                        Feature  MI_Score\n",
      "76   Momentum_1_Lag_Std_1_3_sec  0.460931\n",
      "79   Momentum_7_Lag_Std_1_3_sec  0.445523\n",
      "77   Momentum_3_Lag_Std_1_3_sec  0.441928\n",
      "81  Momentum_30_Lag_Std_1_3_sec  0.433063\n",
      "83  Momentum_50_Lag_Std_1_3_sec  0.429557\n",
      "74       ATR_14_Lag_Std_1_3_sec  0.362834\n"
     ]
    }
   ],
   "source": [
    "#  Set up our X and y for the model, using our final_features for the X.\n",
    "X_final = sec_stock_data[final_features]\n",
    "y = sec_stock_data[target]\n",
    "\n",
    "# Calculate the MI scores for the selected features\n",
    "mi_scores = mutual_info_regression(X_final, y)\n",
    "\n",
    "# Create a DataFrame to display the scores\n",
    "mi_scores_df = pd.DataFrame({\n",
    "    'Feature' : final_features,\n",
    "    'MI_Score' : mi_scores\n",
    "}).sort_values(by = 'MI_Score', ascending = False)\n",
    "\n",
    "# Display the MI scores for each feature\n",
    "print(mi_scores_df)\n"
   ]
  },
  {
   "cell_type": "markdown",
   "metadata": {},
   "source": [
    "#### Let's also plot the scores we just retrieved from our MIS to see them as well."
   ]
  },
  {
   "cell_type": "code",
   "execution_count": 6,
   "metadata": {},
   "outputs": [
    {
     "data": {
      "image/png": "[encoded data removed]",
      "text/plain": [
       "<Figure size 1000x800 with 1 Axes>"
      ]
     },
     "metadata": {},
     "output_type": "display_data"
    }
   ],
   "source": [
    "plt.figure(figsize = (10,8))\n",
    "\n",
    "sns.barplot(x = 'MI_Score', y = 'Feature', data = mi_scores_df, color = 'orange')\n",
    "plt.title('Mutual Information Scores for Selected Features (After VIF Filtering) for Secondary Stock Data')\n",
    "plt.xlabel('Mutual Information Score')\n",
    "plt.ylabel('Features')\n",
    "plt.show()"
   ]
  },
  {
   "cell_type": "markdown",
   "metadata": {},
   "source": [
    "#### This is what I was aiming for, a balance (or close to it anyways).  Note mulitple prunings have been made in order to acquire the end product above, where I would compare MIS feature scores and VIF feature scores and see which VIF scores were highest as well as which of the same features had noticeably low MIS scores.  I then dropped them, and lowered the VIF threshold until I obtained the desired '10' as well as the MIS balance for the final set of features."
   ]
  },
  {
   "cell_type": "markdown",
   "metadata": {},
   "source": [
    "#### In this notebook we used correlation matrix and VIF (Variance Inflation Factor) to filter down and score our features against our target feature in Closing Price (Close_Sec), then used afterwards MIS (Mutual Information Scores) to make sure our selected features from VIF had stable predictability.  We ended up with 10 features that we will manually implement where needed now in our project."
   ]
  },
  {
   "cell_type": "markdown",
   "metadata": {},
   "source": []
  }
 ],
 "metadata": {
  "kernelspec": {
   "display_name": "DL-Strat",
   "language": "python",
   "name": "python3"
  },
  "language_info": {
   "codemirror_mode": {
    "name": "ipython",
    "version": 3
   },
   "file_extension": ".py",
   "mimetype": "text/x-python",
   "name": "python",
   "nbconvert_exporter": "python",
   "pygments_lexer": "ipython3",
   "version": "3.11.0"
  }
 },
 "nbformat": 4,
 "nbformat_minor": 2
}
