{
 "cells": [
  {
   "cell_type": "markdown",
   "metadata": {},
   "source": [
    "# **Core Stock Baseline Modeling - Linear Regression for NVDA Ticker**\n",
    "## In this notebook we will examine only the Nvidia stock for the periods we have selected for this project (01-01-2019 through 06-30-2024), and perform a Linear Regression model using the preprocessed dataframe that we created in our other notebook.  We will look to get an idea of how well our data is predicting with our new features that we created."
   ]
  },
  {
   "cell_type": "markdown",
   "metadata": {},
   "source": [
    "#### As usual let's start by bringing in our important libraries and logic for needing to complete this notebook."
   ]
  },
  {
   "cell_type": "code",
   "execution_count": 1,
   "metadata": {},
   "outputs": [],
   "source": [
    "import sys\n",
    "import os\n",
    "\n",
    "import numpy as np\n",
    "import pandas as pd\n",
    "from sklearn.model_selection import train_test_split\n",
    "from sklearn.linear_model import LinearRegression\n",
    "from sklearn.metrics import mean_squared_error, mean_absolute_error\n",
    "import plotly.graph_objects as go\n",
    "import plotly.express as px\n",
    "from sklearn.model_selection import cross_val_score\n",
    "\n",
    "project_root = os.path.abspath(os.path.join(os.getcwd(), '..'))\n",
    "if project_root not in sys.path:\n",
    "    sys.path.append(project_root)\n",
    "\n",
    "\n"
   ]
  },
  {
   "cell_type": "markdown",
   "metadata": {},
   "source": [
    "#### Now let's read in our data that we will use for this notebook."
   ]
  },
  {
   "cell_type": "code",
   "execution_count": 2,
   "metadata": {},
   "outputs": [
    {
     "data": {
      "text/html": [
       "<div>\n",
       "<style scoped>\n",
       "    .dataframe tbody tr th:only-of-type {\n",
       "        vertical-align: middle;\n",
       "    }\n",
       "\n",
       "    .dataframe tbody tr th {\n",
       "        vertical-align: top;\n",
       "    }\n",
       "\n",
       "    .dataframe thead th {\n",
       "        text-align: right;\n",
       "    }\n",
       "</style>\n",
       "<table border=\"1\" class=\"dataframe\">\n",
       "  <thead>\n",
       "    <tr style=\"text-align: right;\">\n",
       "      <th></th>\n",
       "      <th>Close</th>\n",
       "      <th>Volume</th>\n",
       "      <th>Open</th>\n",
       "      <th>High</th>\n",
       "      <th>Low</th>\n",
       "      <th>SMA_core</th>\n",
       "      <th>EMA_core</th>\n",
       "      <th>RSI_core</th>\n",
       "      <th>RMA_core</th>\n",
       "      <th>Close_Lag_1</th>\n",
       "      <th>...</th>\n",
       "      <th>EMA_Lag_Std_1_3</th>\n",
       "      <th>SMA_Lag_Avg_1_3</th>\n",
       "      <th>SMA_Lag_Std_1_3</th>\n",
       "      <th>RMA_Lag_Avg_1_3</th>\n",
       "      <th>RMA_Lag_Std_1_3</th>\n",
       "      <th>Close_Lag_Avg_1_3</th>\n",
       "      <th>Close_Lag_Std_1_3</th>\n",
       "      <th>Diff_Close_EMA_core</th>\n",
       "      <th>Ratio_Close_EMA_core</th>\n",
       "      <th>Ticker</th>\n",
       "    </tr>\n",
       "    <tr>\n",
       "      <th>Date</th>\n",
       "      <th></th>\n",
       "      <th></th>\n",
       "      <th></th>\n",
       "      <th></th>\n",
       "      <th></th>\n",
       "      <th></th>\n",
       "      <th></th>\n",
       "      <th></th>\n",
       "      <th></th>\n",
       "      <th></th>\n",
       "      <th></th>\n",
       "      <th></th>\n",
       "      <th></th>\n",
       "      <th></th>\n",
       "      <th></th>\n",
       "      <th></th>\n",
       "      <th></th>\n",
       "      <th></th>\n",
       "      <th></th>\n",
       "      <th></th>\n",
       "      <th></th>\n",
       "    </tr>\n",
       "  </thead>\n",
       "  <tbody>\n",
       "    <tr>\n",
       "      <th>2019-03-14</th>\n",
       "      <td>-1.013302</td>\n",
       "      <td>-0.074793</td>\n",
       "      <td>-1.012345</td>\n",
       "      <td>-1.018762</td>\n",
       "      <td>-1.009483</td>\n",
       "      <td>-1.085271</td>\n",
       "      <td>-1.049825</td>\n",
       "      <td>1.249108</td>\n",
       "      <td>0.801504</td>\n",
       "      <td>-1.013494</td>\n",
       "      <td>...</td>\n",
       "      <td>-0.081211</td>\n",
       "      <td>-1.086158</td>\n",
       "      <td>-0.085461</td>\n",
       "      <td>0.817706</td>\n",
       "      <td>-0.625300</td>\n",
       "      <td>-1.014627</td>\n",
       "      <td>-0.348813</td>\n",
       "      <td>0.037931</td>\n",
       "      <td>0.801504</td>\n",
       "      <td>AAPL</td>\n",
       "    </tr>\n",
       "    <tr>\n",
       "      <th>2019-03-15</th>\n",
       "      <td>-1.007093</td>\n",
       "      <td>0.293158</td>\n",
       "      <td>-1.009876</td>\n",
       "      <td>-1.010456</td>\n",
       "      <td>-1.006383</td>\n",
       "      <td>-1.083783</td>\n",
       "      <td>-1.048013</td>\n",
       "      <td>1.325622</td>\n",
       "      <td>0.931542</td>\n",
       "      <td>-1.013494</td>\n",
       "      <td>...</td>\n",
       "      <td>-0.081211</td>\n",
       "      <td>-1.086158</td>\n",
       "      <td>-0.085461</td>\n",
       "      <td>0.817706</td>\n",
       "      <td>-0.625300</td>\n",
       "      <td>-1.014627</td>\n",
       "      <td>-0.348813</td>\n",
       "      <td>0.074966</td>\n",
       "      <td>0.931542</td>\n",
       "      <td>AAPL</td>\n",
       "    </tr>\n",
       "    <tr>\n",
       "      <th>2019-03-18</th>\n",
       "      <td>-1.002157</td>\n",
       "      <td>-0.011968</td>\n",
       "      <td>-1.007406</td>\n",
       "      <td>-1.007730</td>\n",
       "      <td>-1.000997</td>\n",
       "      <td>-1.081366</td>\n",
       "      <td>-1.046072</td>\n",
       "      <td>1.432516</td>\n",
       "      <td>1.018034</td>\n",
       "      <td>-1.007280</td>\n",
       "      <td>...</td>\n",
       "      <td>-0.081211</td>\n",
       "      <td>-1.085413</td>\n",
       "      <td>-0.085461</td>\n",
       "      <td>0.884049</td>\n",
       "      <td>-0.625300</td>\n",
       "      <td>-1.011515</td>\n",
       "      <td>-0.348813</td>\n",
       "      <td>0.100376</td>\n",
       "      <td>1.018034</td>\n",
       "      <td>AAPL</td>\n",
       "    </tr>\n",
       "    <tr>\n",
       "      <th>2019-03-19</th>\n",
       "      <td>-1.006028</td>\n",
       "      <td>0.117158</td>\n",
       "      <td>-1.000779</td>\n",
       "      <td>-1.006187</td>\n",
       "      <td>-1.000655</td>\n",
       "      <td>-1.079347</td>\n",
       "      <td>-1.044364</td>\n",
       "      <td>1.112931</td>\n",
       "      <td>0.846961</td>\n",
       "      <td>-1.002341</td>\n",
       "      <td>...</td>\n",
       "      <td>-0.066578</td>\n",
       "      <td>-1.084358</td>\n",
       "      <td>-0.062046</td>\n",
       "      <td>0.935581</td>\n",
       "      <td>-0.515015</td>\n",
       "      <td>-1.008829</td>\n",
       "      <td>-0.323448</td>\n",
       "      <td>0.054402</td>\n",
       "      <td>0.846961</td>\n",
       "      <td>AAPL</td>\n",
       "    </tr>\n",
       "    <tr>\n",
       "      <th>2019-03-20</th>\n",
       "      <td>-1.001793</td>\n",
       "      <td>0.102615</td>\n",
       "      <td>-1.006289</td>\n",
       "      <td>-1.004901</td>\n",
       "      <td>-1.003782</td>\n",
       "      <td>-1.077225</td>\n",
       "      <td>-1.042552</td>\n",
       "      <td>1.535368</td>\n",
       "      <td>0.916237</td>\n",
       "      <td>-1.006214</td>\n",
       "      <td>...</td>\n",
       "      <td>-0.067836</td>\n",
       "      <td>-1.082380</td>\n",
       "      <td>-0.055671</td>\n",
       "      <td>0.951042</td>\n",
       "      <td>-0.666796</td>\n",
       "      <td>-1.006398</td>\n",
       "      <td>-0.386895</td>\n",
       "      <td>0.075012</td>\n",
       "      <td>0.916237</td>\n",
       "      <td>AAPL</td>\n",
       "    </tr>\n",
       "  </tbody>\n",
       "</table>\n",
       "<p>5 rows × 32 columns</p>\n",
       "</div>"
      ],
      "text/plain": [
       "               Close    Volume      Open      High       Low  SMA_core  \\\n",
       "Date                                                                     \n",
       "2019-03-14 -1.013302 -0.074793 -1.012345 -1.018762 -1.009483 -1.085271   \n",
       "2019-03-15 -1.007093  0.293158 -1.009876 -1.010456 -1.006383 -1.083783   \n",
       "2019-03-18 -1.002157 -0.011968 -1.007406 -1.007730 -1.000997 -1.081366   \n",
       "2019-03-19 -1.006028  0.117158 -1.000779 -1.006187 -1.000655 -1.079347   \n",
       "2019-03-20 -1.001793  0.102615 -1.006289 -1.004901 -1.003782 -1.077225   \n",
       "\n",
       "            EMA_core  RSI_core  RMA_core  Close_Lag_1  ...  EMA_Lag_Std_1_3  \\\n",
       "Date                                                   ...                    \n",
       "2019-03-14 -1.049825  1.249108  0.801504    -1.013494  ...        -0.081211   \n",
       "2019-03-15 -1.048013  1.325622  0.931542    -1.013494  ...        -0.081211   \n",
       "2019-03-18 -1.046072  1.432516  1.018034    -1.007280  ...        -0.081211   \n",
       "2019-03-19 -1.044364  1.112931  0.846961    -1.002341  ...        -0.066578   \n",
       "2019-03-20 -1.042552  1.535368  0.916237    -1.006214  ...        -0.067836   \n",
       "\n",
       "            SMA_Lag_Avg_1_3  SMA_Lag_Std_1_3  RMA_Lag_Avg_1_3  \\\n",
       "Date                                                            \n",
       "2019-03-14        -1.086158        -0.085461         0.817706   \n",
       "2019-03-15        -1.086158        -0.085461         0.817706   \n",
       "2019-03-18        -1.085413        -0.085461         0.884049   \n",
       "2019-03-19        -1.084358        -0.062046         0.935581   \n",
       "2019-03-20        -1.082380        -0.055671         0.951042   \n",
       "\n",
       "            RMA_Lag_Std_1_3  Close_Lag_Avg_1_3  Close_Lag_Std_1_3  \\\n",
       "Date                                                                \n",
       "2019-03-14        -0.625300          -1.014627          -0.348813   \n",
       "2019-03-15        -0.625300          -1.014627          -0.348813   \n",
       "2019-03-18        -0.625300          -1.011515          -0.348813   \n",
       "2019-03-19        -0.515015          -1.008829          -0.323448   \n",
       "2019-03-20        -0.666796          -1.006398          -0.386895   \n",
       "\n",
       "            Diff_Close_EMA_core  Ratio_Close_EMA_core  Ticker  \n",
       "Date                                                           \n",
       "2019-03-14             0.037931              0.801504    AAPL  \n",
       "2019-03-15             0.074966              0.931542    AAPL  \n",
       "2019-03-18             0.100376              1.018034    AAPL  \n",
       "2019-03-19             0.054402              0.846961    AAPL  \n",
       "2019-03-20             0.075012              0.916237    AAPL  \n",
       "\n",
       "[5 rows x 32 columns]"
      ]
     },
     "execution_count": 2,
     "metadata": {},
     "output_type": "execute_result"
    }
   ],
   "source": [
    "# Now let's access the main core_stock_data.csv file\n",
    "csv_path = os.path.join(project_root, 'data', 'core_stock_preprocessed.csv')\n",
    "preprocessed_df = pd.read_csv(csv_path, parse_dates=['Date'], index_col= 'Date')\n",
    "preprocessed_df.head()"
   ]
  },
  {
   "cell_type": "markdown",
   "metadata": {},
   "source": [
    "#### Great now let's grab the data just for our subject NVDA ticker to use in our Linear Regression model."
   ]
  },
  {
   "cell_type": "code",
   "execution_count": 3,
   "metadata": {},
   "outputs": [
    {
     "name": "stdout",
     "output_type": "stream",
     "text": [
      "               Close    Volume      Open      High       Low  SMA_core  \\\n",
      "Date                                                                     \n",
      "2019-01-02 -1.455257  2.390567 -1.456369 -1.456605 -1.454946  0.416128   \n",
      "2019-01-03 -1.457395  3.561279 -1.455550 -1.457459 -1.455566  0.416128   \n",
      "2019-01-04 -1.455265  2.847835 -1.456291 -1.456798 -1.455038  0.416128   \n",
      "2019-01-07 -1.453391  3.582742 -1.454326 -1.454957 -1.453270  0.416128   \n",
      "2019-01-08 -1.454319  4.039938 -1.452198 -1.454471 -1.453146  0.416128   \n",
      "\n",
      "            EMA_core  RSI_core  RMA_core  Close_Lag_1  ...  EMA_Lag_Std_1_3  \\\n",
      "Date                                                   ...                    \n",
      "2019-01-02 -1.465854  0.456727 -0.370774     0.518515  ...         0.015187   \n",
      "2019-01-03 -1.465941 -3.408328 -1.146266    -1.455748  ...        27.314884   \n",
      "2019-01-04 -1.465938 -0.339385 -0.343192    -1.457888  ...        27.344370   \n",
      "2019-01-07 -1.465859  0.600040  0.333526    -1.455756  ...        -0.111496   \n",
      "2019-01-08 -1.465821  0.074135 -0.030088    -1.453881  ...        -0.111562   \n",
      "\n",
      "            SMA_Lag_Avg_1_3  SMA_Lag_Std_1_3  RMA_Lag_Avg_1_3  \\\n",
      "Date                                                            \n",
      "2019-01-02         0.415091        -0.040920         0.467891   \n",
      "2019-01-03         0.416958        -0.075109         0.204265   \n",
      "2019-01-04         0.417801        -0.112260        -0.412583   \n",
      "2019-01-07         0.417801        -0.112260        -0.632818   \n",
      "2019-01-08         0.417801        -0.112260        -0.393272   \n",
      "\n",
      "            RMA_Lag_Std_1_3  Close_Lag_Avg_1_3  Close_Lag_Std_1_3  \\\n",
      "Date                                                                \n",
      "2019-01-02        -0.006870           0.537087           0.122587   \n",
      "2019-01-03         2.188960          -0.123317          24.048735   \n",
      "2019-01-04         3.477125          -0.799158          23.763497   \n",
      "2019-01-07         1.729987          -1.458315          -0.415895   \n",
      "2019-01-08         3.573659          -1.457692          -0.399521   \n",
      "\n",
      "            Diff_Close_EMA_core  Ratio_Close_EMA_core  Ticker  \n",
      "Date                                                           \n",
      "2019-01-02            -0.283065             -0.370774    NVDA  \n",
      "2019-01-03            -0.300153             -1.146266    NVDA  \n",
      "2019-01-04            -0.282458             -0.343192    NVDA  \n",
      "2019-01-07            -0.267511              0.333526    NVDA  \n",
      "2019-01-08            -0.275534             -0.030088    NVDA  \n",
      "\n",
      "[5 rows x 32 columns]\n"
     ]
    },
    {
     "data": {
      "text/plain": [
       "(1382, 32)"
      ]
     },
     "execution_count": 3,
     "metadata": {},
     "output_type": "execute_result"
    }
   ],
   "source": [
    "nvda_data = preprocessed_df[preprocessed_df['Ticker'] == 'NVDA']\n",
    "print(nvda_data.head())\n",
    "nvda_data.shape"
   ]
  },
  {
   "cell_type": "markdown",
   "metadata": {},
   "source": [
    "#### Now let's prepare our Linear Regression model.  We will be dropping the Ticker and Close columns for the X as Ticker is an improper format and our Close feature will be our y target.  The Date feature is our index so it won't be included in the model as it will automatically be excluded from the feature set."
   ]
  },
  {
   "cell_type": "code",
   "execution_count": 4,
   "metadata": {},
   "outputs": [],
   "source": [
    "X = nvda_data[['EMA_core', 'SMA_core', 'RSI_core', 'Close_Lag_1']]\n",
    "y = nvda_data['Close']"
   ]
  },
  {
   "cell_type": "markdown",
   "metadata": {},
   "source": [
    "#### Let's now set up the rest of the model and run our first set of predictions on it.  I will be looking for the MAE (Mean Absolute Error) and the RMSE (Root Mean Squared Error) for metrics here."
   ]
  },
  {
   "cell_type": "code",
   "execution_count": 5,
   "metadata": {},
   "outputs": [
    {
     "data": {
      "text/html": [
       "<style>#sk-container-id-1 {\n",
       "  /* Definition of color scheme common for light and dark mode */\n",
       "  --sklearn-color-text: black;\n",
       "  --sklearn-color-line: gray;\n",
       "  /* Definition of color scheme for unfitted estimators */\n",
       "  --sklearn-color-unfitted-level-0: #fff5e6;\n",
       "  --sklearn-color-unfitted-level-1: #f6e4d2;\n",
       "  --sklearn-color-unfitted-level-2: #ffe0b3;\n",
       "  --sklearn-color-unfitted-level-3: chocolate;\n",
       "  /* Definition of color scheme for fitted estimators */\n",
       "  --sklearn-color-fitted-level-0: #f0f8ff;\n",
       "  --sklearn-color-fitted-level-1: #d4ebff;\n",
       "  --sklearn-color-fitted-level-2: #b3dbfd;\n",
       "  --sklearn-color-fitted-level-3: cornflowerblue;\n",
       "\n",
       "  /* Specific color for light theme */\n",
       "  --sklearn-color-text-on-default-background: var(--sg-text-color, var(--theme-code-foreground, var(--jp-content-font-color1, black)));\n",
       "  --sklearn-color-background: var(--sg-background-color, var(--theme-background, var(--jp-layout-color0, white)));\n",
       "  --sklearn-color-border-box: var(--sg-text-color, var(--theme-code-foreground, var(--jp-content-font-color1, black)));\n",
       "  --sklearn-color-icon: #696969;\n",
       "\n",
       "  @media (prefers-color-scheme: dark) {\n",
       "    /* Redefinition of color scheme for dark theme */\n",
       "    --sklearn-color-text-on-default-background: var(--sg-text-color, var(--theme-code-foreground, var(--jp-content-font-color1, white)));\n",
       "    --sklearn-color-background: var(--sg-background-color, var(--theme-background, var(--jp-layout-color0, #111)));\n",
       "    --sklearn-color-border-box: var(--sg-text-color, var(--theme-code-foreground, var(--jp-content-font-color1, white)));\n",
       "    --sklearn-color-icon: #878787;\n",
       "  }\n",
       "}\n",
       "\n",
       "#sk-container-id-1 {\n",
       "  color: var(--sklearn-color-text);\n",
       "}\n",
       "\n",
       "#sk-container-id-1 pre {\n",
       "  padding: 0;\n",
       "}\n",
       "\n",
       "#sk-container-id-1 input.sk-hidden--visually {\n",
       "  border: 0;\n",
       "  clip: rect(1px 1px 1px 1px);\n",
       "  clip: rect(1px, 1px, 1px, 1px);\n",
       "  height: 1px;\n",
       "  margin: -1px;\n",
       "  overflow: hidden;\n",
       "  padding: 0;\n",
       "  position: absolute;\n",
       "  width: 1px;\n",
       "}\n",
       "\n",
       "#sk-container-id-1 div.sk-dashed-wrapped {\n",
       "  border: 1px dashed var(--sklearn-color-line);\n",
       "  margin: 0 0.4em 0.5em 0.4em;\n",
       "  box-sizing: border-box;\n",
       "  padding-bottom: 0.4em;\n",
       "  background-color: var(--sklearn-color-background);\n",
       "}\n",
       "\n",
       "#sk-container-id-1 div.sk-container {\n",
       "  /* jupyter's `normalize.less` sets `[hidden] { display: none; }`\n",
       "     but bootstrap.min.css set `[hidden] { display: none !important; }`\n",
       "     so we also need the `!important` here to be able to override the\n",
       "     default hidden behavior on the sphinx rendered scikit-learn.org.\n",
       "     See: https://github.com/scikit-learn/scikit-learn/issues/21755 */\n",
       "  display: inline-block !important;\n",
       "  position: relative;\n",
       "}\n",
       "\n",
       "#sk-container-id-1 div.sk-text-repr-fallback {\n",
       "  display: none;\n",
       "}\n",
       "\n",
       "div.sk-parallel-item,\n",
       "div.sk-serial,\n",
       "div.sk-item {\n",
       "  /* draw centered vertical line to link estimators */\n",
       "  background-image: linear-gradient(var(--sklearn-color-text-on-default-background), var(--sklearn-color-text-on-default-background));\n",
       "  background-size: 2px 100%;\n",
       "  background-repeat: no-repeat;\n",
       "  background-position: center center;\n",
       "}\n",
       "\n",
       "/* Parallel-specific style estimator block */\n",
       "\n",
       "#sk-container-id-1 div.sk-parallel-item::after {\n",
       "  content: \"\";\n",
       "  width: 100%;\n",
       "  border-bottom: 2px solid var(--sklearn-color-text-on-default-background);\n",
       "  flex-grow: 1;\n",
       "}\n",
       "\n",
       "#sk-container-id-1 div.sk-parallel {\n",
       "  display: flex;\n",
       "  align-items: stretch;\n",
       "  justify-content: center;\n",
       "  background-color: var(--sklearn-color-background);\n",
       "  position: relative;\n",
       "}\n",
       "\n",
       "#sk-container-id-1 div.sk-parallel-item {\n",
       "  display: flex;\n",
       "  flex-direction: column;\n",
       "}\n",
       "\n",
       "#sk-container-id-1 div.sk-parallel-item:first-child::after {\n",
       "  align-self: flex-end;\n",
       "  width: 50%;\n",
       "}\n",
       "\n",
       "#sk-container-id-1 div.sk-parallel-item:last-child::after {\n",
       "  align-self: flex-start;\n",
       "  width: 50%;\n",
       "}\n",
       "\n",
       "#sk-container-id-1 div.sk-parallel-item:only-child::after {\n",
       "  width: 0;\n",
       "}\n",
       "\n",
       "/* Serial-specific style estimator block */\n",
       "\n",
       "#sk-container-id-1 div.sk-serial {\n",
       "  display: flex;\n",
       "  flex-direction: column;\n",
       "  align-items: center;\n",
       "  background-color: var(--sklearn-color-background);\n",
       "  padding-right: 1em;\n",
       "  padding-left: 1em;\n",
       "}\n",
       "\n",
       "\n",
       "/* Toggleable style: style used for estimator/Pipeline/ColumnTransformer box that is\n",
       "clickable and can be expanded/collapsed.\n",
       "- Pipeline and ColumnTransformer use this feature and define the default style\n",
       "- Estimators will overwrite some part of the style using the `sk-estimator` class\n",
       "*/\n",
       "\n",
       "/* Pipeline and ColumnTransformer style (default) */\n",
       "\n",
       "#sk-container-id-1 div.sk-toggleable {\n",
       "  /* Default theme specific background. It is overwritten whether we have a\n",
       "  specific estimator or a Pipeline/ColumnTransformer */\n",
       "  background-color: var(--sklearn-color-background);\n",
       "}\n",
       "\n",
       "/* Toggleable label */\n",
       "#sk-container-id-1 label.sk-toggleable__label {\n",
       "  cursor: pointer;\n",
       "  display: block;\n",
       "  width: 100%;\n",
       "  margin-bottom: 0;\n",
       "  padding: 0.5em;\n",
       "  box-sizing: border-box;\n",
       "  text-align: center;\n",
       "}\n",
       "\n",
       "#sk-container-id-1 label.sk-toggleable__label-arrow:before {\n",
       "  /* Arrow on the left of the label */\n",
       "  content: \"▸\";\n",
       "  float: left;\n",
       "  margin-right: 0.25em;\n",
       "  color: var(--sklearn-color-icon);\n",
       "}\n",
       "\n",
       "#sk-container-id-1 label.sk-toggleable__label-arrow:hover:before {\n",
       "  color: var(--sklearn-color-text);\n",
       "}\n",
       "\n",
       "/* Toggleable content - dropdown */\n",
       "\n",
       "#sk-container-id-1 div.sk-toggleable__content {\n",
       "  max-height: 0;\n",
       "  max-width: 0;\n",
       "  overflow: hidden;\n",
       "  text-align: left;\n",
       "  /* unfitted */\n",
       "  background-color: var(--sklearn-color-unfitted-level-0);\n",
       "}\n",
       "\n",
       "#sk-container-id-1 div.sk-toggleable__content.fitted {\n",
       "  /* fitted */\n",
       "  background-color: var(--sklearn-color-fitted-level-0);\n",
       "}\n",
       "\n",
       "#sk-container-id-1 div.sk-toggleable__content pre {\n",
       "  margin: 0.2em;\n",
       "  border-radius: 0.25em;\n",
       "  color: var(--sklearn-color-text);\n",
       "  /* unfitted */\n",
       "  background-color: var(--sklearn-color-unfitted-level-0);\n",
       "}\n",
       "\n",
       "#sk-container-id-1 div.sk-toggleable__content.fitted pre {\n",
       "  /* unfitted */\n",
       "  background-color: var(--sklearn-color-fitted-level-0);\n",
       "}\n",
       "\n",
       "#sk-container-id-1 input.sk-toggleable__control:checked~div.sk-toggleable__content {\n",
       "  /* Expand drop-down */\n",
       "  max-height: 200px;\n",
       "  max-width: 100%;\n",
       "  overflow: auto;\n",
       "}\n",
       "\n",
       "#sk-container-id-1 input.sk-toggleable__control:checked~label.sk-toggleable__label-arrow:before {\n",
       "  content: \"▾\";\n",
       "}\n",
       "\n",
       "/* Pipeline/ColumnTransformer-specific style */\n",
       "\n",
       "#sk-container-id-1 div.sk-label input.sk-toggleable__control:checked~label.sk-toggleable__label {\n",
       "  color: var(--sklearn-color-text);\n",
       "  background-color: var(--sklearn-color-unfitted-level-2);\n",
       "}\n",
       "\n",
       "#sk-container-id-1 div.sk-label.fitted input.sk-toggleable__control:checked~label.sk-toggleable__label {\n",
       "  background-color: var(--sklearn-color-fitted-level-2);\n",
       "}\n",
       "\n",
       "/* Estimator-specific style */\n",
       "\n",
       "/* Colorize estimator box */\n",
       "#sk-container-id-1 div.sk-estimator input.sk-toggleable__control:checked~label.sk-toggleable__label {\n",
       "  /* unfitted */\n",
       "  background-color: var(--sklearn-color-unfitted-level-2);\n",
       "}\n",
       "\n",
       "#sk-container-id-1 div.sk-estimator.fitted input.sk-toggleable__control:checked~label.sk-toggleable__label {\n",
       "  /* fitted */\n",
       "  background-color: var(--sklearn-color-fitted-level-2);\n",
       "}\n",
       "\n",
       "#sk-container-id-1 div.sk-label label.sk-toggleable__label,\n",
       "#sk-container-id-1 div.sk-label label {\n",
       "  /* The background is the default theme color */\n",
       "  color: var(--sklearn-color-text-on-default-background);\n",
       "}\n",
       "\n",
       "/* On hover, darken the color of the background */\n",
       "#sk-container-id-1 div.sk-label:hover label.sk-toggleable__label {\n",
       "  color: var(--sklearn-color-text);\n",
       "  background-color: var(--sklearn-color-unfitted-level-2);\n",
       "}\n",
       "\n",
       "/* Label box, darken color on hover, fitted */\n",
       "#sk-container-id-1 div.sk-label.fitted:hover label.sk-toggleable__label.fitted {\n",
       "  color: var(--sklearn-color-text);\n",
       "  background-color: var(--sklearn-color-fitted-level-2);\n",
       "}\n",
       "\n",
       "/* Estimator label */\n",
       "\n",
       "#sk-container-id-1 div.sk-label label {\n",
       "  font-family: monospace;\n",
       "  font-weight: bold;\n",
       "  display: inline-block;\n",
       "  line-height: 1.2em;\n",
       "}\n",
       "\n",
       "#sk-container-id-1 div.sk-label-container {\n",
       "  text-align: center;\n",
       "}\n",
       "\n",
       "/* Estimator-specific */\n",
       "#sk-container-id-1 div.sk-estimator {\n",
       "  font-family: monospace;\n",
       "  border: 1px dotted var(--sklearn-color-border-box);\n",
       "  border-radius: 0.25em;\n",
       "  box-sizing: border-box;\n",
       "  margin-bottom: 0.5em;\n",
       "  /* unfitted */\n",
       "  background-color: var(--sklearn-color-unfitted-level-0);\n",
       "}\n",
       "\n",
       "#sk-container-id-1 div.sk-estimator.fitted {\n",
       "  /* fitted */\n",
       "  background-color: var(--sklearn-color-fitted-level-0);\n",
       "}\n",
       "\n",
       "/* on hover */\n",
       "#sk-container-id-1 div.sk-estimator:hover {\n",
       "  /* unfitted */\n",
       "  background-color: var(--sklearn-color-unfitted-level-2);\n",
       "}\n",
       "\n",
       "#sk-container-id-1 div.sk-estimator.fitted:hover {\n",
       "  /* fitted */\n",
       "  background-color: var(--sklearn-color-fitted-level-2);\n",
       "}\n",
       "\n",
       "/* Specification for estimator info (e.g. \"i\" and \"?\") */\n",
       "\n",
       "/* Common style for \"i\" and \"?\" */\n",
       "\n",
       ".sk-estimator-doc-link,\n",
       "a:link.sk-estimator-doc-link,\n",
       "a:visited.sk-estimator-doc-link {\n",
       "  float: right;\n",
       "  font-size: smaller;\n",
       "  line-height: 1em;\n",
       "  font-family: monospace;\n",
       "  background-color: var(--sklearn-color-background);\n",
       "  border-radius: 1em;\n",
       "  height: 1em;\n",
       "  width: 1em;\n",
       "  text-decoration: none !important;\n",
       "  margin-left: 1ex;\n",
       "  /* unfitted */\n",
       "  border: var(--sklearn-color-unfitted-level-1) 1pt solid;\n",
       "  color: var(--sklearn-color-unfitted-level-1);\n",
       "}\n",
       "\n",
       ".sk-estimator-doc-link.fitted,\n",
       "a:link.sk-estimator-doc-link.fitted,\n",
       "a:visited.sk-estimator-doc-link.fitted {\n",
       "  /* fitted */\n",
       "  border: var(--sklearn-color-fitted-level-1) 1pt solid;\n",
       "  color: var(--sklearn-color-fitted-level-1);\n",
       "}\n",
       "\n",
       "/* On hover */\n",
       "div.sk-estimator:hover .sk-estimator-doc-link:hover,\n",
       ".sk-estimator-doc-link:hover,\n",
       "div.sk-label-container:hover .sk-estimator-doc-link:hover,\n",
       ".sk-estimator-doc-link:hover {\n",
       "  /* unfitted */\n",
       "  background-color: var(--sklearn-color-unfitted-level-3);\n",
       "  color: var(--sklearn-color-background);\n",
       "  text-decoration: none;\n",
       "}\n",
       "\n",
       "div.sk-estimator.fitted:hover .sk-estimator-doc-link.fitted:hover,\n",
       ".sk-estimator-doc-link.fitted:hover,\n",
       "div.sk-label-container:hover .sk-estimator-doc-link.fitted:hover,\n",
       ".sk-estimator-doc-link.fitted:hover {\n",
       "  /* fitted */\n",
       "  background-color: var(--sklearn-color-fitted-level-3);\n",
       "  color: var(--sklearn-color-background);\n",
       "  text-decoration: none;\n",
       "}\n",
       "\n",
       "/* Span, style for the box shown on hovering the info icon */\n",
       ".sk-estimator-doc-link span {\n",
       "  display: none;\n",
       "  z-index: 9999;\n",
       "  position: relative;\n",
       "  font-weight: normal;\n",
       "  right: .2ex;\n",
       "  padding: .5ex;\n",
       "  margin: .5ex;\n",
       "  width: min-content;\n",
       "  min-width: 20ex;\n",
       "  max-width: 50ex;\n",
       "  color: var(--sklearn-color-text);\n",
       "  box-shadow: 2pt 2pt 4pt #999;\n",
       "  /* unfitted */\n",
       "  background: var(--sklearn-color-unfitted-level-0);\n",
       "  border: .5pt solid var(--sklearn-color-unfitted-level-3);\n",
       "}\n",
       "\n",
       ".sk-estimator-doc-link.fitted span {\n",
       "  /* fitted */\n",
       "  background: var(--sklearn-color-fitted-level-0);\n",
       "  border: var(--sklearn-color-fitted-level-3);\n",
       "}\n",
       "\n",
       ".sk-estimator-doc-link:hover span {\n",
       "  display: block;\n",
       "}\n",
       "\n",
       "/* \"?\"-specific style due to the `<a>` HTML tag */\n",
       "\n",
       "#sk-container-id-1 a.estimator_doc_link {\n",
       "  float: right;\n",
       "  font-size: 1rem;\n",
       "  line-height: 1em;\n",
       "  font-family: monospace;\n",
       "  background-color: var(--sklearn-color-background);\n",
       "  border-radius: 1rem;\n",
       "  height: 1rem;\n",
       "  width: 1rem;\n",
       "  text-decoration: none;\n",
       "  /* unfitted */\n",
       "  color: var(--sklearn-color-unfitted-level-1);\n",
       "  border: var(--sklearn-color-unfitted-level-1) 1pt solid;\n",
       "}\n",
       "\n",
       "#sk-container-id-1 a.estimator_doc_link.fitted {\n",
       "  /* fitted */\n",
       "  border: var(--sklearn-color-fitted-level-1) 1pt solid;\n",
       "  color: var(--sklearn-color-fitted-level-1);\n",
       "}\n",
       "\n",
       "/* On hover */\n",
       "#sk-container-id-1 a.estimator_doc_link:hover {\n",
       "  /* unfitted */\n",
       "  background-color: var(--sklearn-color-unfitted-level-3);\n",
       "  color: var(--sklearn-color-background);\n",
       "  text-decoration: none;\n",
       "}\n",
       "\n",
       "#sk-container-id-1 a.estimator_doc_link.fitted:hover {\n",
       "  /* fitted */\n",
       "  background-color: var(--sklearn-color-fitted-level-3);\n",
       "}\n",
       "</style><div id=\"sk-container-id-1\" class=\"sk-top-container\"><div class=\"sk-text-repr-fallback\"><pre>LinearRegression()</pre><b>In a Jupyter environment, please rerun this cell to show the HTML representation or trust the notebook. <br />On GitHub, the HTML representation is unable to render, please try loading this page with nbviewer.org.</b></div><div class=\"sk-container\" hidden><div class=\"sk-item\"><div class=\"sk-estimator fitted sk-toggleable\"><input class=\"sk-toggleable__control sk-hidden--visually\" id=\"sk-estimator-id-1\" type=\"checkbox\" checked><label for=\"sk-estimator-id-1\" class=\"sk-toggleable__label fitted sk-toggleable__label-arrow fitted\">&nbsp;&nbsp;LinearRegression<a class=\"sk-estimator-doc-link fitted\" rel=\"noreferrer\" target=\"_blank\" href=\"https://scikit-learn.org/1.5/modules/generated/sklearn.linear_model.LinearRegression.html\">?<span>Documentation for LinearRegression</span></a><span class=\"sk-estimator-doc-link fitted\">i<span>Fitted</span></span></label><div class=\"sk-toggleable__content fitted\"><pre>LinearRegression()</pre></div> </div></div></div></div>"
      ],
      "text/plain": [
       "LinearRegression()"
      ]
     },
     "execution_count": 5,
     "metadata": {},
     "output_type": "execute_result"
    }
   ],
   "source": [
    "X_train, X_test, y_train, y_test = train_test_split(X, y, test_size = 0.2, random_state = 42)\n",
    "model = LinearRegression()\n",
    "model.fit(X_train, y_train)"
   ]
  },
  {
   "cell_type": "markdown",
   "metadata": {},
   "source": [
    "#### Now let's make our predictions and see where we end up."
   ]
  },
  {
   "cell_type": "code",
   "execution_count": 6,
   "metadata": {},
   "outputs": [],
   "source": [
    "y_pred = model.predict(X_test)"
   ]
  },
  {
   "cell_type": "markdown",
   "metadata": {},
   "source": [
    "#### Let's retrieve our MAE and RMSE metrics for performance."
   ]
  },
  {
   "cell_type": "code",
   "execution_count": 7,
   "metadata": {},
   "outputs": [
    {
     "name": "stdout",
     "output_type": "stream",
     "text": [
      "Mean Absolute Error (MAE): 0.014229073910618964\n",
      "Root Mean Squared Error (RMSE): 0.0004245469048552596\n"
     ]
    }
   ],
   "source": [
    "mae = mean_absolute_error(y_test, y_pred)\n",
    "rmse = mean_squared_error(y_test, y_pred)\n",
    "\n",
    "print(f'Mean Absolute Error (MAE): {mae}')\n",
    "print(f'Root Mean Squared Error (RMSE): {rmse}')"
   ]
  },
  {
   "cell_type": "markdown",
   "metadata": {},
   "source": [
    "#### Great scores, let's verify with cross validation just to make sure that our data isn't being misinterpreted by the model."
   ]
  },
  {
   "cell_type": "code",
   "execution_count": 8,
   "metadata": {},
   "outputs": [
    {
     "name": "stdout",
     "output_type": "stream",
     "text": [
      "Cross-validated RMSE Scores: [0.16299463 0.01115374 0.01624387 0.01553908 0.07491328]\n",
      "Mean RMSE: 0.05616892024928642\n"
     ]
    }
   ],
   "source": [
    "scores = cross_val_score(model, X, y, cv = 5, scoring = 'neg_mean_squared_error')\n",
    "rmse_scores = np.sqrt(-scores)\n",
    "\n",
    "print(f'Cross-validated RMSE Scores: {rmse_scores}')\n",
    "print(f'Mean RMSE: {rmse_scores.mean()}')"
   ]
  },
  {
   "cell_type": "markdown",
   "metadata": {},
   "source": [
    "#### Our original scores were quite unrealistic, we have since tested with our model and the scores above reflect a great resting place to go forward with.  5.6 cents of error in our NVDA data in predicting future prices, not too bad!"
   ]
  },
  {
   "cell_type": "code",
   "execution_count": 9,
   "metadata": {},
   "outputs": [
    {
     "name": "stdout",
     "output_type": "stream",
     "text": [
      "EMA_core       0.990690\n",
      "Close_Lag_1    0.976618\n",
      "SMA_core       0.410351\n",
      "RSI_core       0.165734\n",
      "dtype: float64\n"
     ]
    }
   ],
   "source": [
    "correlations = X.corrwith(y)\n",
    "print(correlations.sort_values(ascending = False))"
   ]
  },
  {
   "cell_type": "markdown",
   "metadata": {},
   "source": [
    "#### There are several feature columns that are influencing our Close target because they are correlating too well.  Let's go back to our X and y assignment at the top of our notebook and drop some more of those columns to balance our score."
   ]
  },
  {
   "cell_type": "markdown",
   "metadata": {},
   "source": [
    "#### Now that our predictions look good let's make a few plots to visualize our results, starting with a plot that shows Actual vs Predicted values."
   ]
  },
  {
   "cell_type": "code",
   "execution_count": 10,
   "metadata": {},
   "outputs": [
    {
     "data": {
      "application/vnd.plotly.v1+json": {
       "config": {
        "plotlyServerURL": "https://plot.ly"
       },
       "data": [
        {
         "mode": "markers",
         "name": "Predicted vs Actual",
         "type": "scatter",
         "x": [
          -1.426833766269889,
          -1.1737858798650629,
          -1.425667229464234,
          -1.239070453986412,
          -1.2283247870063412,
          -1.2833209628984046,
          -1.441110223334227,
          -1.4443422347025645,
          -1.1741080433314688,
          -1.3497461023320316,
          -1.24420425657499,
          -1.1849992022110916,
          -1.2058981621360685,
          -1.446753252526683,
          -1.428652424925181,
          -1.432453415667315,
          -1.2808995535036676,
          -1.2544718815739309,
          -1.0182959315857945,
          -1.4379275731651888,
          -1.4362829894229576,
          -1.4423261213391816,
          -1.3313309111363956,
          -1.347620879954877,
          -1.3814349020842391,
          -1.0803381176345257,
          -1.407192270632341,
          -1.35704411674823,
          -1.4290577259119812,
          -1.3320064078256164,
          -1.2584937018637397,
          -1.3541862316548372,
          -1.2519881128445902,
          -1.0151886289757717,
          -1.2483612019709631,
          -1.3533756296812365,
          -1.355183891810464,
          -1.4294734184694002,
          -1.3284028668361272,
          -0.9918370601669712,
          -1.199673150479066,
          -1.0683869293537802,
          -1.2125700361068994,
          -1.4216453992635327,
          -1.4396293179789916,
          -1.2642198784874827,
          -1.423814794487847,
          -1.432432632526078,
          -1.332983284840006,
          -1.3095615964679,
          -1.3605775084417364,
          -1.3540797093839665,
          -1.2598862813464404,
          -1.4420871003486166,
          -1.4511440107392966,
          -1.340998372138792,
          -1.4476340037962665,
          -1.3536120540180083,
          -1.4427574037302513,
          -1.3546356906224586,
          -1.184500367177832,
          -1.3632301488656593,
          -1.4414765497369,
          -1.2870414325957218,
          -1.3253163473673415,
          -1.435054093282699,
          -1.330795703128248,
          -1.3467998814552118,
          -1.441037477384451,
          -1.382344226456439,
          -1.0773451074349685,
          -1.3534665621184565,
          -1.0078100885593102,
          -1.449951492529372,
          -1.247093321335685,
          -1.212819453623529,
          -1.2179428695969348,
          -1.1936560098780036,
          -1.242375221215418,
          -1.3605645152618786,
          -1.3585094322698146,
          -1.4476625818543292,
          -1.350715189385042,
          -1.4509283695437616,
          -1.4095617271294314,
          -0.8971734098423717,
          -0.5788772925584076,
          -1.2847239289962775,
          -1.4268805308153956,
          -1.2150018321168088,
          -1.0124138566255425,
          -1.1831805336449073,
          -1.3102552796445648,
          -1.3136249830401827,
          -1.2100342946581275,
          -1.4416428297331352,
          -0.5495813290983207,
          -1.1607331157225051,
          -1.3296915207017503,
          -1.3880574099003242,
          -0.8707041518083761,
          -1.3594707194505533,
          -1.4518688760609864,
          -1.355641150650357,
          -1.4412816966380484,
          -1.200379836746481,
          -1.3142485169208649,
          -1.0263187989350673,
          -1.1788677295559944,
          -1.2131208240378055,
          -1.3500344894773426,
          -0.5851334442391426,
          -1.3215647178245074,
          -1.0643339293966696,
          -1.436238821531244,
          -1.355298204042714,
          -0.974606617041665,
          -1.4211101962108317,
          -1.341504997133431,
          -1.3553865398261409,
          -1.4541863623163689,
          -1.2574336922844016,
          -1.4168753214683885,
          -0.1201081119598997,
          -1.3405956628503386,
          -1.3449916193259843,
          -1.2314528826684932,
          -1.3499045874114417,
          -1.3916427644023694,
          -1.2503877019495184,
          -1.359257684819704,
          -0.5515662826161867,
          -1.0904394576817853,
          -1.3540329398830135,
          -1.2802032736732094,
          -1.3357398508810068,
          -1.4479951368913535,
          -1.3520947756878852,
          -0.5038967140647225,
          -1.2749655454675537,
          -1.4254983528142056,
          -0.9843753871855616,
          -1.206313844782595,
          -0.2331974193824466,
          -1.356875245053648,
          -1.3953112514693629,
          -1.2944511526794849,
          -1.4447917035810782,
          -0.668698124093533,
          -1.2910580595779444,
          -1.4516896078403396,
          -1.4532926228223737,
          -1.3995435196471204,
          -1.2595017585454311,
          -1.3054020544181335,
          -1.0128399457090258,
          -1.0406706035584206,
          -1.0554588838804295,
          -1.3508009285146758,
          -1.2336664408290747,
          -1.2781144143600505,
          -1.3711361073288888,
          -1.3540926926529318,
          -1.0435180822148564,
          -1.4114401385546418,
          -1.363570498819509,
          -1.040202928370678,
          -1.443622565166184,
          -1.2149290861670328,
          -1.3525208548604764,
          -1.2028636054758215,
          -0.976435652401237,
          -1.4526638882009362,
          -1.0243442716759432,
          -1.2554071923058463,
          -1.287654560039447,
          -1.3532015547681755,
          -1.3538121053798924,
          -1.2130480780880295,
          -1.0501380032880407,
          -1.4427729935639022,
          -1.399712401252595,
          -1.3426299627011655,
          -1.4252827116186706,
          -1.3476650428911443,
          -1.2939627042613977,
          -1.3403904181808686,
          -1.265040876987148,
          -1.0100963728478831,
          -1.2968517690220924,
          -0.1436987314919422,
          -1.3260542033911662,
          -1.293544424961078,
          -1.2579948866522648,
          -0.5661051652433507,
          -1.4371923137951574,
          -1.2609462909257785,
          -1.3305125092905232,
          -1.2070828903846138,
          -1.2853994355963911,
          -1.196160551837689,
          -1.0516864811072506,
          -1.3537185762888793,
          -1.445498379937601,
          -1.275090244314976,
          -1.3693694114821358,
          -1.3189770432998735,
          -0.8503040070948742,
          -1.322770239125182,
          -1.4361894553764982,
          -1.1928453979935107,
          -1.4456724498952156,
          -1.4479795470577026,
          -0.5514727237924966,
          -1.336714131241603,
          -1.187056881856949,
          -1.3454670646533216,
          -0.9883348679625514,
          -1.3313880672525205,
          -0.224966700799018,
          -1.0510317675592666,
          -1.3968441196331371,
          -1.3277273701469063,
          -1.3542174014112465,
          -1.449803401498304,
          -1.2789977721943195,
          -1.4268467594497467,
          -1.0499613515429715,
          -1.2777402979959982,
          -1.2730429711060762,
          -1.4530691891877363,
          -1.0027801917660253,
          -0.9777346928820324,
          -1.261995913889944,
          -1.4427574037302513,
          -1.3642304056750791,
          -1.296947904677791,
          -1.3556151742015337,
          -1.2022712314406567,
          -1.0170488638244302,
          -1.233271531412893,
          -1.297901391986258,
          -1.4509283695437616,
          -1.4361426908309918,
          -1.322944294216458,
          -1.425181387610832,
          -1.434199328372831,
          -1.1732870448318031,
          -1.449769625177209,
          -0.7894569557316451,
          -1.438421209935416,
          -1.3397201147992337,
          -1.3984107641180064,
          -1.322032373190465,
          -1.267171302582781,
          -1.4375976147819578,
          -1.4272780368853704,
          -1.277428521144765,
          -1.402448174241466,
          -1.280598183089391,
          -1.3387744075412535,
          -1.426854549411126,
          -1.4000501545526516,
          -1.2157396980515256,
          -1.3418817200621689,
          -1.215303202531085,
          -1.446838991656317,
          -1.4516584306507607,
          -1.3966388749636671,
          -1.2519777262294178,
          -1.0066357271041528,
          -1.3582911944204863,
          -1.1786183120393647,
          -1.3955061095236607,
          -1.3468804272772594,
          -1.3337860968522277,
          -0.7410703142975935
         ],
         "y": [
          -1.444035012640639,
          -1.1811590477672897,
          -1.4215340871135351,
          -1.2251930859297013,
          -1.2161492471732531,
          -1.274706110878741,
          -1.4456900421305987,
          -1.462769132455893,
          -1.1880505077151104,
          -1.348002718996037,
          -1.224717698868061,
          -1.178184580250651,
          -1.1810508440274554,
          -1.4487368737447504,
          -1.398265273135777,
          -1.433486446423219,
          -1.2633766935457102,
          -1.2213922246482105,
          -1.0159477449770038,
          -1.4282182978375373,
          -1.4497705015904359,
          -1.4454508405866104,
          -1.3243713142962272,
          -1.3449264879807754,
          -1.37742718235717,
          -1.1035488242681406,
          -1.409559287456058,
          -1.3664459411528775,
          -1.4260401937265377,
          -1.3312955207364883,
          -1.2370019602195437,
          -1.3498737916929278,
          -1.2550968627321701,
          -0.9923540043021739,
          -1.268362793827027,
          -1.3370094682438258,
          -1.3570124345446417,
          -1.422040608781792,
          -1.3246663416168696,
          -0.9581127955446287,
          -1.18760287036651,
          -1.0829437188300286,
          -1.222783615041061,
          -1.436704330264616,
          -1.4376889348395752,
          -1.276374626859236,
          -1.440080308057978,
          -1.4332438446701468,
          -1.321432432438158,
          -1.2877680611304603,
          -1.3480552595420885,
          -1.3700288140487307,
          -1.2636005926969036,
          -1.4604929485185383,
          -1.4690637348734852,
          -1.3260477231645635,
          -1.455736162884614,
          -1.357057233736929,
          -1.4547647063422962,
          -1.3510719572296688,
          -1.1854133188263332,
          -1.3534682916617835,
          -1.440892233096979,
          -1.2612310979676598,
          -1.3333358809524702,
          -1.4422055411894434,
          -1.329381676681287,
          -1.3550238596230662,
          -1.4351950103477802,
          -1.3890127777659345,
          -1.1189296889917788,
          -1.3520577434485972,
          -1.0182746177619304,
          -1.4354563687555246,
          -1.2557925685732558,
          -1.2048492969039204,
          -1.2264527005791857,
          -1.1891444307609516,
          -1.256280544609881,
          -1.3790289452317206,
          -1.3700970472434078,
          -1.451669956223241,
          -1.3532274367175288,
          -1.4496178550094732,
          -1.41250941816708,
          -0.8888563703033607,
          -0.5516535732182162,
          -1.2922883549363946,
          -1.449521277529129,
          -1.207356063155349,
          -0.9999378101489373,
          -1.1783141881381392,
          -1.2869408540216825,
          -1.3124456169251872,
          -1.2160740574815578,
          -1.4358322161666865,
          -0.5138065091187902,
          -1.1760241342301114,
          -1.3294110322733004,
          -1.3859902391868812,
          -0.87201789626978,
          -1.3709288336214598,
          -1.4781502809336424,
          -1.370221125294341,
          -1.4269766719272274,
          -1.207409898104292,
          -1.2816547847470563,
          -1.0297833053071683,
          -1.1817487565752247,
          -1.1916530627713307,
          -1.3547251069365773,
          -0.5626981671032213,
          -1.3212571835112301,
          -1.0945094174295555,
          -1.4502188580708408,
          -1.3704768422640312,
          -0.9475656105955006,
          -1.4287020204587073,
          -1.3532828902326604,
          -1.3564452782289673,
          -1.4993504107901918,
          -1.2503067163741861,
          -1.422825650645165,
          -0.24069207442181484,
          -1.3330030341791044,
          -1.3627239503972464,
          -1.210990293632387,
          -1.3292752938622654,
          -1.3961878967364163,
          -1.2319196069167915,
          -1.3516959222830975,
          -0.5602309397800672,
          -1.115526621797012,
          -1.3485945922524798,
          -1.2788350282366465,
          -1.3214735403246884,
          -1.4550912765665338,
          -1.357218199126623,
          -0.4605666455966634,
          -1.287497861302523,
          -1.4361588447378117,
          -0.9447512856555558,
          -1.188894865975067,
          -0.317177103565869,
          -1.3726729600319478,
          -1.4047828102680826,
          -1.2909092269158624,
          -1.437816364906882,
          -0.7342555017510456,
          -1.286168038289833,
          -1.469300431135767,
          -1.4827083019786857,
          -1.401695921849537,
          -1.261938051414455,
          -1.2865906638583058,
          -1.043448140724159,
          -1.0318298049284005,
          -1.0757484279833995,
          -1.3579320651292937,
          -1.211940969764466,
          -1.2836244205386707,
          -1.3619485627828538,
          -1.3554743526945463,
          -1.076151202501842,
          -1.4232204481834372,
          -1.3503709759678024,
          -1.0319827999041495,
          -1.4706572342553026,
          -1.2158573125734427,
          -1.3640291909509157,
          -1.1861551962769585,
          -0.9373778261065611,
          -1.4712464005221426,
          -0.9944756507549117,
          -1.2570347757311289,
          -1.259608061775417,
          -1.3621788726740234,
          -1.3407810923456585,
          -1.1860118276339615,
          -1.0311326406505588,
          -1.44615529009031,
          -1.3966591654730103,
          -1.3631342661414398,
          -1.4383117856967387,
          -1.3597924806689068,
          -1.2751175403371107,
          -1.3675721093559388,
          -1.2751897439875732,
          -0.9772593221813555,
          -1.2676871901721818,
          -0.25998438014659103,
          -1.3046515881203558,
          -1.3002812324869428,
          -1.2246610246943777,
          -0.5711468036421026,
          -1.4546566384640887,
          -1.2455958615631746,
          -1.3263977664594162,
          -1.1870327521004433,
          -1.2982003135141487,
          -1.1939528507292767,
          -1.0367475388740814,
          -1.352365705981796,
          -1.448254397362811,
          -1.2809641079066776,
          -1.3621414043072282,
          -1.3167842426167418,
          -0.842810634532787,
          -1.2976532914518564,
          -1.4298629455005312,
          -1.1849836415969053,
          -1.480761591122291,
          -1.4420579048187572,
          -0.5969576519177792,
          -1.3513431309293755,
          -1.1794569058067141,
          -1.3410279544715575,
          -0.9683800179509405,
          -1.331912176292606,
          -0.2971063739912254,
          -1.0672409947196193,
          -1.3868141105713458,
          -1.3271893534338008,
          -1.3539127224860468,
          -1.4465053922379412,
          -1.2643988845126437,
          -1.4343656670604845,
          -1.075510513611124,
          -1.269950133453405,
          -1.2825589475977415,
          -1.464804252889868,
          -0.9586103639145898,
          -0.9589926201486969,
          -1.275847385399811,
          -1.446092202491683,
          -1.3791002018740446,
          -1.2820633530029928,
          -1.3696949926065534,
          -1.2102778721915133,
          -0.9808681649797679,
          -1.2210113579787893,
          -1.26624649371923,
          -1.4728602504219963,
          -1.44218713117007,
          -1.3066500276514041,
          -1.4249394217942752,
          -1.4494548111227366,
          -1.1627832118164543,
          -1.4462623626827877,
          -0.7764248758644553,
          -1.4353637944306359,
          -1.3639805037901604,
          -1.4016431123492978,
          -1.3201762346086823,
          -1.2401192265874827,
          -1.4577007167280944,
          -1.4228239104951472,
          -1.2821535342232964,
          -1.404522044396443,
          -1.2720820007953886,
          -1.3509301017951807,
          -1.4361592911558925,
          -1.3955089842956443,
          -1.2140879216122964,
          -1.3592156687494792,
          -1.1930946151851052,
          -1.448321975189682,
          -1.4870645189749914,
          -1.4104938006688854,
          -1.2493913873644231,
          -0.9774834043575931,
          -1.3529629333520785,
          -1.1840529575797887,
          -1.4034330265197474,
          -1.3273663516266494,
          -1.3297770699290947,
          -0.7774255942064563
         ]
        },
        {
         "mode": "lines",
         "name": "Ideal Line",
         "type": "scatter",
         "x": [
          -1.426833766269889,
          -1.1737858798650629,
          -1.425667229464234,
          -1.239070453986412,
          -1.2283247870063412,
          -1.2833209628984046,
          -1.441110223334227,
          -1.4443422347025645,
          -1.1741080433314688,
          -1.3497461023320316,
          -1.24420425657499,
          -1.1849992022110916,
          -1.2058981621360685,
          -1.446753252526683,
          -1.428652424925181,
          -1.432453415667315,
          -1.2808995535036676,
          -1.2544718815739309,
          -1.0182959315857945,
          -1.4379275731651888,
          -1.4362829894229576,
          -1.4423261213391816,
          -1.3313309111363956,
          -1.347620879954877,
          -1.3814349020842391,
          -1.0803381176345257,
          -1.407192270632341,
          -1.35704411674823,
          -1.4290577259119812,
          -1.3320064078256164,
          -1.2584937018637397,
          -1.3541862316548372,
          -1.2519881128445902,
          -1.0151886289757717,
          -1.2483612019709631,
          -1.3533756296812365,
          -1.355183891810464,
          -1.4294734184694002,
          -1.3284028668361272,
          -0.9918370601669712,
          -1.199673150479066,
          -1.0683869293537802,
          -1.2125700361068994,
          -1.4216453992635327,
          -1.4396293179789916,
          -1.2642198784874827,
          -1.423814794487847,
          -1.432432632526078,
          -1.332983284840006,
          -1.3095615964679,
          -1.3605775084417364,
          -1.3540797093839665,
          -1.2598862813464404,
          -1.4420871003486166,
          -1.4511440107392966,
          -1.340998372138792,
          -1.4476340037962665,
          -1.3536120540180083,
          -1.4427574037302513,
          -1.3546356906224586,
          -1.184500367177832,
          -1.3632301488656593,
          -1.4414765497369,
          -1.2870414325957218,
          -1.3253163473673415,
          -1.435054093282699,
          -1.330795703128248,
          -1.3467998814552118,
          -1.441037477384451,
          -1.382344226456439,
          -1.0773451074349685,
          -1.3534665621184565,
          -1.0078100885593102,
          -1.449951492529372,
          -1.247093321335685,
          -1.212819453623529,
          -1.2179428695969348,
          -1.1936560098780036,
          -1.242375221215418,
          -1.3605645152618786,
          -1.3585094322698146,
          -1.4476625818543292,
          -1.350715189385042,
          -1.4509283695437616,
          -1.4095617271294314,
          -0.8971734098423717,
          -0.5788772925584076,
          -1.2847239289962775,
          -1.4268805308153956,
          -1.2150018321168088,
          -1.0124138566255425,
          -1.1831805336449073,
          -1.3102552796445648,
          -1.3136249830401827,
          -1.2100342946581275,
          -1.4416428297331352,
          -0.5495813290983207,
          -1.1607331157225051,
          -1.3296915207017503,
          -1.3880574099003242,
          -0.8707041518083761,
          -1.3594707194505533,
          -1.4518688760609864,
          -1.355641150650357,
          -1.4412816966380484,
          -1.200379836746481,
          -1.3142485169208649,
          -1.0263187989350673,
          -1.1788677295559944,
          -1.2131208240378055,
          -1.3500344894773426,
          -0.5851334442391426,
          -1.3215647178245074,
          -1.0643339293966696,
          -1.436238821531244,
          -1.355298204042714,
          -0.974606617041665,
          -1.4211101962108317,
          -1.341504997133431,
          -1.3553865398261409,
          -1.4541863623163689,
          -1.2574336922844016,
          -1.4168753214683885,
          -0.1201081119598997,
          -1.3405956628503386,
          -1.3449916193259843,
          -1.2314528826684932,
          -1.3499045874114417,
          -1.3916427644023694,
          -1.2503877019495184,
          -1.359257684819704,
          -0.5515662826161867,
          -1.0904394576817853,
          -1.3540329398830135,
          -1.2802032736732094,
          -1.3357398508810068,
          -1.4479951368913535,
          -1.3520947756878852,
          -0.5038967140647225,
          -1.2749655454675537,
          -1.4254983528142056,
          -0.9843753871855616,
          -1.206313844782595,
          -0.2331974193824466,
          -1.356875245053648,
          -1.3953112514693629,
          -1.2944511526794849,
          -1.4447917035810782,
          -0.668698124093533,
          -1.2910580595779444,
          -1.4516896078403396,
          -1.4532926228223737,
          -1.3995435196471204,
          -1.2595017585454311,
          -1.3054020544181335,
          -1.0128399457090258,
          -1.0406706035584206,
          -1.0554588838804295,
          -1.3508009285146758,
          -1.2336664408290747,
          -1.2781144143600505,
          -1.3711361073288888,
          -1.3540926926529318,
          -1.0435180822148564,
          -1.4114401385546418,
          -1.363570498819509,
          -1.040202928370678,
          -1.443622565166184,
          -1.2149290861670328,
          -1.3525208548604764,
          -1.2028636054758215,
          -0.976435652401237,
          -1.4526638882009362,
          -1.0243442716759432,
          -1.2554071923058463,
          -1.287654560039447,
          -1.3532015547681755,
          -1.3538121053798924,
          -1.2130480780880295,
          -1.0501380032880407,
          -1.4427729935639022,
          -1.399712401252595,
          -1.3426299627011655,
          -1.4252827116186706,
          -1.3476650428911443,
          -1.2939627042613977,
          -1.3403904181808686,
          -1.265040876987148,
          -1.0100963728478831,
          -1.2968517690220924,
          -0.1436987314919422,
          -1.3260542033911662,
          -1.293544424961078,
          -1.2579948866522648,
          -0.5661051652433507,
          -1.4371923137951574,
          -1.2609462909257785,
          -1.3305125092905232,
          -1.2070828903846138,
          -1.2853994355963911,
          -1.196160551837689,
          -1.0516864811072506,
          -1.3537185762888793,
          -1.445498379937601,
          -1.275090244314976,
          -1.3693694114821358,
          -1.3189770432998735,
          -0.8503040070948742,
          -1.322770239125182,
          -1.4361894553764982,
          -1.1928453979935107,
          -1.4456724498952156,
          -1.4479795470577026,
          -0.5514727237924966,
          -1.336714131241603,
          -1.187056881856949,
          -1.3454670646533216,
          -0.9883348679625514,
          -1.3313880672525205,
          -0.224966700799018,
          -1.0510317675592666,
          -1.3968441196331371,
          -1.3277273701469063,
          -1.3542174014112465,
          -1.449803401498304,
          -1.2789977721943195,
          -1.4268467594497467,
          -1.0499613515429715,
          -1.2777402979959982,
          -1.2730429711060762,
          -1.4530691891877363,
          -1.0027801917660253,
          -0.9777346928820324,
          -1.261995913889944,
          -1.4427574037302513,
          -1.3642304056750791,
          -1.296947904677791,
          -1.3556151742015337,
          -1.2022712314406567,
          -1.0170488638244302,
          -1.233271531412893,
          -1.297901391986258,
          -1.4509283695437616,
          -1.4361426908309918,
          -1.322944294216458,
          -1.425181387610832,
          -1.434199328372831,
          -1.1732870448318031,
          -1.449769625177209,
          -0.7894569557316451,
          -1.438421209935416,
          -1.3397201147992337,
          -1.3984107641180064,
          -1.322032373190465,
          -1.267171302582781,
          -1.4375976147819578,
          -1.4272780368853704,
          -1.277428521144765,
          -1.402448174241466,
          -1.280598183089391,
          -1.3387744075412535,
          -1.426854549411126,
          -1.4000501545526516,
          -1.2157396980515256,
          -1.3418817200621689,
          -1.215303202531085,
          -1.446838991656317,
          -1.4516584306507607,
          -1.3966388749636671,
          -1.2519777262294178,
          -1.0066357271041528,
          -1.3582911944204863,
          -1.1786183120393647,
          -1.3955061095236607,
          -1.3468804272772594,
          -1.3337860968522277,
          -0.7410703142975935
         ],
         "y": [
          -1.426833766269889,
          -1.1737858798650629,
          -1.425667229464234,
          -1.239070453986412,
          -1.2283247870063412,
          -1.2833209628984046,
          -1.441110223334227,
          -1.4443422347025645,
          -1.1741080433314688,
          -1.3497461023320316,
          -1.24420425657499,
          -1.1849992022110916,
          -1.2058981621360685,
          -1.446753252526683,
          -1.428652424925181,
          -1.432453415667315,
          -1.2808995535036676,
          -1.2544718815739309,
          -1.0182959315857945,
          -1.4379275731651888,
          -1.4362829894229576,
          -1.4423261213391816,
          -1.3313309111363956,
          -1.347620879954877,
          -1.3814349020842391,
          -1.0803381176345257,
          -1.407192270632341,
          -1.35704411674823,
          -1.4290577259119812,
          -1.3320064078256164,
          -1.2584937018637397,
          -1.3541862316548372,
          -1.2519881128445902,
          -1.0151886289757717,
          -1.2483612019709631,
          -1.3533756296812365,
          -1.355183891810464,
          -1.4294734184694002,
          -1.3284028668361272,
          -0.9918370601669712,
          -1.199673150479066,
          -1.0683869293537802,
          -1.2125700361068994,
          -1.4216453992635327,
          -1.4396293179789916,
          -1.2642198784874827,
          -1.423814794487847,
          -1.432432632526078,
          -1.332983284840006,
          -1.3095615964679,
          -1.3605775084417364,
          -1.3540797093839665,
          -1.2598862813464404,
          -1.4420871003486166,
          -1.4511440107392966,
          -1.340998372138792,
          -1.4476340037962665,
          -1.3536120540180083,
          -1.4427574037302513,
          -1.3546356906224586,
          -1.184500367177832,
          -1.3632301488656593,
          -1.4414765497369,
          -1.2870414325957218,
          -1.3253163473673415,
          -1.435054093282699,
          -1.330795703128248,
          -1.3467998814552118,
          -1.441037477384451,
          -1.382344226456439,
          -1.0773451074349685,
          -1.3534665621184565,
          -1.0078100885593102,
          -1.449951492529372,
          -1.247093321335685,
          -1.212819453623529,
          -1.2179428695969348,
          -1.1936560098780036,
          -1.242375221215418,
          -1.3605645152618786,
          -1.3585094322698146,
          -1.4476625818543292,
          -1.350715189385042,
          -1.4509283695437616,
          -1.4095617271294314,
          -0.8971734098423717,
          -0.5788772925584076,
          -1.2847239289962775,
          -1.4268805308153956,
          -1.2150018321168088,
          -1.0124138566255425,
          -1.1831805336449073,
          -1.3102552796445648,
          -1.3136249830401827,
          -1.2100342946581275,
          -1.4416428297331352,
          -0.5495813290983207,
          -1.1607331157225051,
          -1.3296915207017503,
          -1.3880574099003242,
          -0.8707041518083761,
          -1.3594707194505533,
          -1.4518688760609864,
          -1.355641150650357,
          -1.4412816966380484,
          -1.200379836746481,
          -1.3142485169208649,
          -1.0263187989350673,
          -1.1788677295559944,
          -1.2131208240378055,
          -1.3500344894773426,
          -0.5851334442391426,
          -1.3215647178245074,
          -1.0643339293966696,
          -1.436238821531244,
          -1.355298204042714,
          -0.974606617041665,
          -1.4211101962108317,
          -1.341504997133431,
          -1.3553865398261409,
          -1.4541863623163689,
          -1.2574336922844016,
          -1.4168753214683885,
          -0.1201081119598997,
          -1.3405956628503386,
          -1.3449916193259843,
          -1.2314528826684932,
          -1.3499045874114417,
          -1.3916427644023694,
          -1.2503877019495184,
          -1.359257684819704,
          -0.5515662826161867,
          -1.0904394576817853,
          -1.3540329398830135,
          -1.2802032736732094,
          -1.3357398508810068,
          -1.4479951368913535,
          -1.3520947756878852,
          -0.5038967140647225,
          -1.2749655454675537,
          -1.4254983528142056,
          -0.9843753871855616,
          -1.206313844782595,
          -0.2331974193824466,
          -1.356875245053648,
          -1.3953112514693629,
          -1.2944511526794849,
          -1.4447917035810782,
          -0.668698124093533,
          -1.2910580595779444,
          -1.4516896078403396,
          -1.4532926228223737,
          -1.3995435196471204,
          -1.2595017585454311,
          -1.3054020544181335,
          -1.0128399457090258,
          -1.0406706035584206,
          -1.0554588838804295,
          -1.3508009285146758,
          -1.2336664408290747,
          -1.2781144143600505,
          -1.3711361073288888,
          -1.3540926926529318,
          -1.0435180822148564,
          -1.4114401385546418,
          -1.363570498819509,
          -1.040202928370678,
          -1.443622565166184,
          -1.2149290861670328,
          -1.3525208548604764,
          -1.2028636054758215,
          -0.976435652401237,
          -1.4526638882009362,
          -1.0243442716759432,
          -1.2554071923058463,
          -1.287654560039447,
          -1.3532015547681755,
          -1.3538121053798924,
          -1.2130480780880295,
          -1.0501380032880407,
          -1.4427729935639022,
          -1.399712401252595,
          -1.3426299627011655,
          -1.4252827116186706,
          -1.3476650428911443,
          -1.2939627042613977,
          -1.3403904181808686,
          -1.265040876987148,
          -1.0100963728478831,
          -1.2968517690220924,
          -0.1436987314919422,
          -1.3260542033911662,
          -1.293544424961078,
          -1.2579948866522648,
          -0.5661051652433507,
          -1.4371923137951574,
          -1.2609462909257785,
          -1.3305125092905232,
          -1.2070828903846138,
          -1.2853994355963911,
          -1.196160551837689,
          -1.0516864811072506,
          -1.3537185762888793,
          -1.445498379937601,
          -1.275090244314976,
          -1.3693694114821358,
          -1.3189770432998735,
          -0.8503040070948742,
          -1.322770239125182,
          -1.4361894553764982,
          -1.1928453979935107,
          -1.4456724498952156,
          -1.4479795470577026,
          -0.5514727237924966,
          -1.336714131241603,
          -1.187056881856949,
          -1.3454670646533216,
          -0.9883348679625514,
          -1.3313880672525205,
          -0.224966700799018,
          -1.0510317675592666,
          -1.3968441196331371,
          -1.3277273701469063,
          -1.3542174014112465,
          -1.449803401498304,
          -1.2789977721943195,
          -1.4268467594497467,
          -1.0499613515429715,
          -1.2777402979959982,
          -1.2730429711060762,
          -1.4530691891877363,
          -1.0027801917660253,
          -0.9777346928820324,
          -1.261995913889944,
          -1.4427574037302513,
          -1.3642304056750791,
          -1.296947904677791,
          -1.3556151742015337,
          -1.2022712314406567,
          -1.0170488638244302,
          -1.233271531412893,
          -1.297901391986258,
          -1.4509283695437616,
          -1.4361426908309918,
          -1.322944294216458,
          -1.425181387610832,
          -1.434199328372831,
          -1.1732870448318031,
          -1.449769625177209,
          -0.7894569557316451,
          -1.438421209935416,
          -1.3397201147992337,
          -1.3984107641180064,
          -1.322032373190465,
          -1.267171302582781,
          -1.4375976147819578,
          -1.4272780368853704,
          -1.277428521144765,
          -1.402448174241466,
          -1.280598183089391,
          -1.3387744075412535,
          -1.426854549411126,
          -1.4000501545526516,
          -1.2157396980515256,
          -1.3418817200621689,
          -1.215303202531085,
          -1.446838991656317,
          -1.4516584306507607,
          -1.3966388749636671,
          -1.2519777262294178,
          -1.0066357271041528,
          -1.3582911944204863,
          -1.1786183120393647,
          -1.3955061095236607,
          -1.3468804272772594,
          -1.3337860968522277,
          -0.7410703142975935
         ]
        }
       ],
       "layout": {
        "template": {
         "data": {
          "bar": [
           {
            "error_x": {
             "color": "#f2f5fa"
            },
            "error_y": {
             "color": "#f2f5fa"
            },
            "marker": {
             "line": {
              "color": "rgb(17,17,17)",
              "width": 0.5
             },
             "pattern": {
              "fillmode": "overlay",
              "size": 10,
              "solidity": 0.2
             }
            },
            "type": "bar"
           }
          ],
          "barpolar": [
           {
            "marker": {
             "line": {
              "color": "rgb(17,17,17)",
              "width": 0.5
             },
             "pattern": {
              "fillmode": "overlay",
              "size": 10,
              "solidity": 0.2
             }
            },
            "type": "barpolar"
           }
          ],
          "carpet": [
           {
            "aaxis": {
             "endlinecolor": "#A2B1C6",
             "gridcolor": "#506784",
             "linecolor": "#506784",
             "minorgridcolor": "#506784",
             "startlinecolor": "#A2B1C6"
            },
            "baxis": {
             "endlinecolor": "#A2B1C6",
             "gridcolor": "#506784",
             "linecolor": "#506784",
             "minorgridcolor": "#506784",
             "startlinecolor": "#A2B1C6"
            },
            "type": "carpet"
           }
          ],
          "choropleth": [
           {
            "colorbar": {
             "outlinewidth": 0,
             "ticks": ""
            },
            "type": "choropleth"
           }
          ],
          "contour": [
           {
            "colorbar": {
             "outlinewidth": 0,
             "ticks": ""
            },
            "colorscale": [
             [
              0,
              "#0d0887"
             ],
             [
              0.1111111111111111,
              "#46039f"
             ],
             [
              0.2222222222222222,
              "#7201a8"
             ],
             [
              0.3333333333333333,
              "#9c179e"
             ],
             [
              0.4444444444444444,
              "#bd3786"
             ],
             [
              0.5555555555555556,
              "#d8576b"
             ],
             [
              0.6666666666666666,
              "#ed7953"
             ],
             [
              0.7777777777777778,
              "#fb9f3a"
             ],
             [
              0.8888888888888888,
              "#fdca26"
             ],
             [
              1,
              "#f0f921"
             ]
            ],
            "type": "contour"
           }
          ],
          "contourcarpet": [
           {
            "colorbar": {
             "outlinewidth": 0,
             "ticks": ""
            },
            "type": "contourcarpet"
           }
          ],
          "heatmap": [
           {
            "colorbar": {
             "outlinewidth": 0,
             "ticks": ""
            },
            "colorscale": [
             [
              0,
              "#0d0887"
             ],
             [
              0.1111111111111111,
              "#46039f"
             ],
             [
              0.2222222222222222,
              "#7201a8"
             ],
             [
              0.3333333333333333,
              "#9c179e"
             ],
             [
              0.4444444444444444,
              "#bd3786"
             ],
             [
              0.5555555555555556,
              "#d8576b"
             ],
             [
              0.6666666666666666,
              "#ed7953"
             ],
             [
              0.7777777777777778,
              "#fb9f3a"
             ],
             [
              0.8888888888888888,
              "#fdca26"
             ],
             [
              1,
              "#f0f921"
             ]
            ],
            "type": "heatmap"
           }
          ],
          "heatmapgl": [
           {
            "colorbar": {
             "outlinewidth": 0,
             "ticks": ""
            },
            "colorscale": [
             [
              0,
              "#0d0887"
             ],
             [
              0.1111111111111111,
              "#46039f"
             ],
             [
              0.2222222222222222,
              "#7201a8"
             ],
             [
              0.3333333333333333,
              "#9c179e"
             ],
             [
              0.4444444444444444,
              "#bd3786"
             ],
             [
              0.5555555555555556,
              "#d8576b"
             ],
             [
              0.6666666666666666,
              "#ed7953"
             ],
             [
              0.7777777777777778,
              "#fb9f3a"
             ],
             [
              0.8888888888888888,
              "#fdca26"
             ],
             [
              1,
              "#f0f921"
             ]
            ],
            "type": "heatmapgl"
           }
          ],
          "histogram": [
           {
            "marker": {
             "pattern": {
              "fillmode": "overlay",
              "size": 10,
              "solidity": 0.2
             }
            },
            "type": "histogram"
           }
          ],
          "histogram2d": [
           {
            "colorbar": {
             "outlinewidth": 0,
             "ticks": ""
            },
            "colorscale": [
             [
              0,
              "#0d0887"
             ],
             [
              0.1111111111111111,
              "#46039f"
             ],
             [
              0.2222222222222222,
              "#7201a8"
             ],
             [
              0.3333333333333333,
              "#9c179e"
             ],
             [
              0.4444444444444444,
              "#bd3786"
             ],
             [
              0.5555555555555556,
              "#d8576b"
             ],
             [
              0.6666666666666666,
              "#ed7953"
             ],
             [
              0.7777777777777778,
              "#fb9f3a"
             ],
             [
              0.8888888888888888,
              "#fdca26"
             ],
             [
              1,
              "#f0f921"
             ]
            ],
            "type": "histogram2d"
           }
          ],
          "histogram2dcontour": [
           {
            "colorbar": {
             "outlinewidth": 0,
             "ticks": ""
            },
            "colorscale": [
             [
              0,
              "#0d0887"
             ],
             [
              0.1111111111111111,
              "#46039f"
             ],
             [
              0.2222222222222222,
              "#7201a8"
             ],
             [
              0.3333333333333333,
              "#9c179e"
             ],
             [
              0.4444444444444444,
              "#bd3786"
             ],
             [
              0.5555555555555556,
              "#d8576b"
             ],
             [
              0.6666666666666666,
              "#ed7953"
             ],
             [
              0.7777777777777778,
              "#fb9f3a"
             ],
             [
              0.8888888888888888,
              "#fdca26"
             ],
             [
              1,
              "#f0f921"
             ]
            ],
            "type": "histogram2dcontour"
           }
          ],
          "mesh3d": [
           {
            "colorbar": {
             "outlinewidth": 0,
             "ticks": ""
            },
            "type": "mesh3d"
           }
          ],
          "parcoords": [
           {
            "line": {
             "colorbar": {
              "outlinewidth": 0,
              "ticks": ""
             }
            },
            "type": "parcoords"
           }
          ],
          "pie": [
           {
            "automargin": true,
            "type": "pie"
           }
          ],
          "scatter": [
           {
            "marker": {
             "line": {
              "color": "#283442"
             }
            },
            "type": "scatter"
           }
          ],
          "scatter3d": [
           {
            "line": {
             "colorbar": {
              "outlinewidth": 0,
              "ticks": ""
             }
            },
            "marker": {
             "colorbar": {
              "outlinewidth": 0,
              "ticks": ""
             }
            },
            "type": "scatter3d"
           }
          ],
          "scattercarpet": [
           {
            "marker": {
             "colorbar": {
              "outlinewidth": 0,
              "ticks": ""
             }
            },
            "type": "scattercarpet"
           }
          ],
          "scattergeo": [
           {
            "marker": {
             "colorbar": {
              "outlinewidth": 0,
              "ticks": ""
             }
            },
            "type": "scattergeo"
           }
          ],
          "scattergl": [
           {
            "marker": {
             "line": {
              "color": "#283442"
             }
            },
            "type": "scattergl"
           }
          ],
          "scattermapbox": [
           {
            "marker": {
             "colorbar": {
              "outlinewidth": 0,
              "ticks": ""
             }
            },
            "type": "scattermapbox"
           }
          ],
          "scatterpolar": [
           {
            "marker": {
             "colorbar": {
              "outlinewidth": 0,
              "ticks": ""
             }
            },
            "type": "scatterpolar"
           }
          ],
          "scatterpolargl": [
           {
            "marker": {
             "colorbar": {
              "outlinewidth": 0,
              "ticks": ""
             }
            },
            "type": "scatterpolargl"
           }
          ],
          "scatterternary": [
           {
            "marker": {
             "colorbar": {
              "outlinewidth": 0,
              "ticks": ""
             }
            },
            "type": "scatterternary"
           }
          ],
          "surface": [
           {
            "colorbar": {
             "outlinewidth": 0,
             "ticks": ""
            },
            "colorscale": [
             [
              0,
              "#0d0887"
             ],
             [
              0.1111111111111111,
              "#46039f"
             ],
             [
              0.2222222222222222,
              "#7201a8"
             ],
             [
              0.3333333333333333,
              "#9c179e"
             ],
             [
              0.4444444444444444,
              "#bd3786"
             ],
             [
              0.5555555555555556,
              "#d8576b"
             ],
             [
              0.6666666666666666,
              "#ed7953"
             ],
             [
              0.7777777777777778,
              "#fb9f3a"
             ],
             [
              0.8888888888888888,
              "#fdca26"
             ],
             [
              1,
              "#f0f921"
             ]
            ],
            "type": "surface"
           }
          ],
          "table": [
           {
            "cells": {
             "fill": {
              "color": "#506784"
             },
             "line": {
              "color": "rgb(17,17,17)"
             }
            },
            "header": {
             "fill": {
              "color": "#2a3f5f"
             },
             "line": {
              "color": "rgb(17,17,17)"
             }
            },
            "type": "table"
           }
          ]
         },
         "layout": {
          "annotationdefaults": {
           "arrowcolor": "#f2f5fa",
           "arrowhead": 0,
           "arrowwidth": 1
          },
          "autotypenumbers": "strict",
          "coloraxis": {
           "colorbar": {
            "outlinewidth": 0,
            "ticks": ""
           }
          },
          "colorscale": {
           "diverging": [
            [
             0,
             "#8e0152"
            ],
            [
             0.1,
             "#c51b7d"
            ],
            [
             0.2,
             "#de77ae"
            ],
            [
             0.3,
             "#f1b6da"
            ],
            [
             0.4,
             "#fde0ef"
            ],
            [
             0.5,
             "#f7f7f7"
            ],
            [
             0.6,
             "#e6f5d0"
            ],
            [
             0.7,
             "#b8e186"
            ],
            [
             0.8,
             "#7fbc41"
            ],
            [
             0.9,
             "#4d9221"
            ],
            [
             1,
             "#276419"
            ]
           ],
           "sequential": [
            [
             0,
             "#0d0887"
            ],
            [
             0.1111111111111111,
             "#46039f"
            ],
            [
             0.2222222222222222,
             "#7201a8"
            ],
            [
             0.3333333333333333,
             "#9c179e"
            ],
            [
             0.4444444444444444,
             "#bd3786"
            ],
            [
             0.5555555555555556,
             "#d8576b"
            ],
            [
             0.6666666666666666,
             "#ed7953"
            ],
            [
             0.7777777777777778,
             "#fb9f3a"
            ],
            [
             0.8888888888888888,
             "#fdca26"
            ],
            [
             1,
             "#f0f921"
            ]
           ],
           "sequentialminus": [
            [
             0,
             "#0d0887"
            ],
            [
             0.1111111111111111,
             "#46039f"
            ],
            [
             0.2222222222222222,
             "#7201a8"
            ],
            [
             0.3333333333333333,
             "#9c179e"
            ],
            [
             0.4444444444444444,
             "#bd3786"
            ],
            [
             0.5555555555555556,
             "#d8576b"
            ],
            [
             0.6666666666666666,
             "#ed7953"
            ],
            [
             0.7777777777777778,
             "#fb9f3a"
            ],
            [
             0.8888888888888888,
             "#fdca26"
            ],
            [
             1,
             "#f0f921"
            ]
           ]
          },
          "colorway": [
           "#636efa",
           "#EF553B",
           "#00cc96",
           "#ab63fa",
           "#FFA15A",
           "#19d3f3",
           "#FF6692",
           "#B6E880",
           "#FF97FF",
           "#FECB52"
          ],
          "font": {
           "color": "#f2f5fa"
          },
          "geo": {
           "bgcolor": "rgb(17,17,17)",
           "lakecolor": "rgb(17,17,17)",
           "landcolor": "rgb(17,17,17)",
           "showlakes": true,
           "showland": true,
           "subunitcolor": "#506784"
          },
          "hoverlabel": {
           "align": "left"
          },
          "hovermode": "closest",
          "mapbox": {
           "style": "dark"
          },
          "paper_bgcolor": "rgb(17,17,17)",
          "plot_bgcolor": "rgb(17,17,17)",
          "polar": {
           "angularaxis": {
            "gridcolor": "#506784",
            "linecolor": "#506784",
            "ticks": ""
           },
           "bgcolor": "rgb(17,17,17)",
           "radialaxis": {
            "gridcolor": "#506784",
            "linecolor": "#506784",
            "ticks": ""
           }
          },
          "scene": {
           "xaxis": {
            "backgroundcolor": "rgb(17,17,17)",
            "gridcolor": "#506784",
            "gridwidth": 2,
            "linecolor": "#506784",
            "showbackground": true,
            "ticks": "",
            "zerolinecolor": "#C8D4E3"
           },
           "yaxis": {
            "backgroundcolor": "rgb(17,17,17)",
            "gridcolor": "#506784",
            "gridwidth": 2,
            "linecolor": "#506784",
            "showbackground": true,
            "ticks": "",
            "zerolinecolor": "#C8D4E3"
           },
           "zaxis": {
            "backgroundcolor": "rgb(17,17,17)",
            "gridcolor": "#506784",
            "gridwidth": 2,
            "linecolor": "#506784",
            "showbackground": true,
            "ticks": "",
            "zerolinecolor": "#C8D4E3"
           }
          },
          "shapedefaults": {
           "line": {
            "color": "#f2f5fa"
           }
          },
          "sliderdefaults": {
           "bgcolor": "#C8D4E3",
           "bordercolor": "rgb(17,17,17)",
           "borderwidth": 1,
           "tickwidth": 0
          },
          "ternary": {
           "aaxis": {
            "gridcolor": "#506784",
            "linecolor": "#506784",
            "ticks": ""
           },
           "baxis": {
            "gridcolor": "#506784",
            "linecolor": "#506784",
            "ticks": ""
           },
           "bgcolor": "rgb(17,17,17)",
           "caxis": {
            "gridcolor": "#506784",
            "linecolor": "#506784",
            "ticks": ""
           }
          },
          "title": {
           "x": 0.05
          },
          "updatemenudefaults": {
           "bgcolor": "#506784",
           "borderwidth": 0
          },
          "xaxis": {
           "automargin": true,
           "gridcolor": "#283442",
           "linecolor": "#506784",
           "ticks": "",
           "title": {
            "standoff": 15
           },
           "zerolinecolor": "#283442",
           "zerolinewidth": 2
          },
          "yaxis": {
           "automargin": true,
           "gridcolor": "#283442",
           "linecolor": "#506784",
           "ticks": "",
           "title": {
            "standoff": 15
           },
           "zerolinecolor": "#283442",
           "zerolinewidth": 2
          }
         }
        },
        "title": {
         "text": "AAPL Actual vs Predicted Closing Prices"
        },
        "xaxis": {
         "title": {
          "text": "Actual Closing Price"
         }
        },
        "yaxis": {
         "title": {
          "text": "Predicted Closing Price"
         }
        }
       }
      }
     },
     "metadata": {},
     "output_type": "display_data"
    }
   ],
   "source": [
    "fig = go.Figure()\n",
    "\n",
    "fig.add_trace(go.Scatter(x = y_test, y = y_pred,\n",
    "                        mode = 'markers',\n",
    "                        name = 'Predicted vs Actual'))\n",
    "\n",
    "fig.add_trace(go.Scatter(x = y_test, y = y_test,\n",
    "                        mode = 'lines',\n",
    "                        name = 'Ideal Line'))\n",
    "\n",
    "fig.update_layout(title = 'AAPL Actual vs Predicted Closing Prices',\n",
    "                xaxis_title = 'Actual Closing Price',\n",
    "                yaxis_title = 'Predicted Closing Price',\n",
    "                template = 'plotly_dark')\n",
    "\n",
    "fig.show()\n",
    "\n",
    "\n"
   ]
  },
  {
   "cell_type": "markdown",
   "metadata": {},
   "source": [
    "#### Pretty good, we will improve this further later on in the project.  Let's look at a residuals plot as well now."
   ]
  },
  {
   "cell_type": "code",
   "execution_count": 11,
   "metadata": {},
   "outputs": [
    {
     "data": {
      "application/vnd.plotly.v1+json": {
       "config": {
        "plotlyServerURL": "https://plot.ly"
       },
       "data": [
        {
         "mode": "markers",
         "name": "Residuals",
         "type": "scatter",
         "x": [
          -1.444035012640639,
          -1.1811590477672897,
          -1.4215340871135351,
          -1.2251930859297013,
          -1.2161492471732531,
          -1.274706110878741,
          -1.4456900421305987,
          -1.462769132455893,
          -1.1880505077151104,
          -1.348002718996037,
          -1.224717698868061,
          -1.178184580250651,
          -1.1810508440274554,
          -1.4487368737447504,
          -1.398265273135777,
          -1.433486446423219,
          -1.2633766935457102,
          -1.2213922246482105,
          -1.0159477449770038,
          -1.4282182978375373,
          -1.4497705015904359,
          -1.4454508405866104,
          -1.3243713142962272,
          -1.3449264879807754,
          -1.37742718235717,
          -1.1035488242681406,
          -1.409559287456058,
          -1.3664459411528775,
          -1.4260401937265377,
          -1.3312955207364883,
          -1.2370019602195437,
          -1.3498737916929278,
          -1.2550968627321701,
          -0.9923540043021739,
          -1.268362793827027,
          -1.3370094682438258,
          -1.3570124345446417,
          -1.422040608781792,
          -1.3246663416168696,
          -0.9581127955446287,
          -1.18760287036651,
          -1.0829437188300286,
          -1.222783615041061,
          -1.436704330264616,
          -1.4376889348395752,
          -1.276374626859236,
          -1.440080308057978,
          -1.4332438446701468,
          -1.321432432438158,
          -1.2877680611304603,
          -1.3480552595420885,
          -1.3700288140487307,
          -1.2636005926969036,
          -1.4604929485185383,
          -1.4690637348734852,
          -1.3260477231645635,
          -1.455736162884614,
          -1.357057233736929,
          -1.4547647063422962,
          -1.3510719572296688,
          -1.1854133188263332,
          -1.3534682916617835,
          -1.440892233096979,
          -1.2612310979676598,
          -1.3333358809524702,
          -1.4422055411894434,
          -1.329381676681287,
          -1.3550238596230662,
          -1.4351950103477802,
          -1.3890127777659345,
          -1.1189296889917788,
          -1.3520577434485972,
          -1.0182746177619304,
          -1.4354563687555246,
          -1.2557925685732558,
          -1.2048492969039204,
          -1.2264527005791857,
          -1.1891444307609516,
          -1.256280544609881,
          -1.3790289452317206,
          -1.3700970472434078,
          -1.451669956223241,
          -1.3532274367175288,
          -1.4496178550094732,
          -1.41250941816708,
          -0.8888563703033607,
          -0.5516535732182162,
          -1.2922883549363946,
          -1.449521277529129,
          -1.207356063155349,
          -0.9999378101489373,
          -1.1783141881381392,
          -1.2869408540216825,
          -1.3124456169251872,
          -1.2160740574815578,
          -1.4358322161666865,
          -0.5138065091187902,
          -1.1760241342301114,
          -1.3294110322733004,
          -1.3859902391868812,
          -0.87201789626978,
          -1.3709288336214598,
          -1.4781502809336424,
          -1.370221125294341,
          -1.4269766719272274,
          -1.207409898104292,
          -1.2816547847470563,
          -1.0297833053071683,
          -1.1817487565752247,
          -1.1916530627713307,
          -1.3547251069365773,
          -0.5626981671032213,
          -1.3212571835112301,
          -1.0945094174295555,
          -1.4502188580708408,
          -1.3704768422640312,
          -0.9475656105955006,
          -1.4287020204587073,
          -1.3532828902326604,
          -1.3564452782289673,
          -1.4993504107901918,
          -1.2503067163741861,
          -1.422825650645165,
          -0.24069207442181484,
          -1.3330030341791044,
          -1.3627239503972464,
          -1.210990293632387,
          -1.3292752938622654,
          -1.3961878967364163,
          -1.2319196069167915,
          -1.3516959222830975,
          -0.5602309397800672,
          -1.115526621797012,
          -1.3485945922524798,
          -1.2788350282366465,
          -1.3214735403246884,
          -1.4550912765665338,
          -1.357218199126623,
          -0.4605666455966634,
          -1.287497861302523,
          -1.4361588447378117,
          -0.9447512856555558,
          -1.188894865975067,
          -0.317177103565869,
          -1.3726729600319478,
          -1.4047828102680826,
          -1.2909092269158624,
          -1.437816364906882,
          -0.7342555017510456,
          -1.286168038289833,
          -1.469300431135767,
          -1.4827083019786857,
          -1.401695921849537,
          -1.261938051414455,
          -1.2865906638583058,
          -1.043448140724159,
          -1.0318298049284005,
          -1.0757484279833995,
          -1.3579320651292937,
          -1.211940969764466,
          -1.2836244205386707,
          -1.3619485627828538,
          -1.3554743526945463,
          -1.076151202501842,
          -1.4232204481834372,
          -1.3503709759678024,
          -1.0319827999041495,
          -1.4706572342553026,
          -1.2158573125734427,
          -1.3640291909509157,
          -1.1861551962769585,
          -0.9373778261065611,
          -1.4712464005221426,
          -0.9944756507549117,
          -1.2570347757311289,
          -1.259608061775417,
          -1.3621788726740234,
          -1.3407810923456585,
          -1.1860118276339615,
          -1.0311326406505588,
          -1.44615529009031,
          -1.3966591654730103,
          -1.3631342661414398,
          -1.4383117856967387,
          -1.3597924806689068,
          -1.2751175403371107,
          -1.3675721093559388,
          -1.2751897439875732,
          -0.9772593221813555,
          -1.2676871901721818,
          -0.25998438014659103,
          -1.3046515881203558,
          -1.3002812324869428,
          -1.2246610246943777,
          -0.5711468036421026,
          -1.4546566384640887,
          -1.2455958615631746,
          -1.3263977664594162,
          -1.1870327521004433,
          -1.2982003135141487,
          -1.1939528507292767,
          -1.0367475388740814,
          -1.352365705981796,
          -1.448254397362811,
          -1.2809641079066776,
          -1.3621414043072282,
          -1.3167842426167418,
          -0.842810634532787,
          -1.2976532914518564,
          -1.4298629455005312,
          -1.1849836415969053,
          -1.480761591122291,
          -1.4420579048187572,
          -0.5969576519177792,
          -1.3513431309293755,
          -1.1794569058067141,
          -1.3410279544715575,
          -0.9683800179509405,
          -1.331912176292606,
          -0.2971063739912254,
          -1.0672409947196193,
          -1.3868141105713458,
          -1.3271893534338008,
          -1.3539127224860468,
          -1.4465053922379412,
          -1.2643988845126437,
          -1.4343656670604845,
          -1.075510513611124,
          -1.269950133453405,
          -1.2825589475977415,
          -1.464804252889868,
          -0.9586103639145898,
          -0.9589926201486969,
          -1.275847385399811,
          -1.446092202491683,
          -1.3791002018740446,
          -1.2820633530029928,
          -1.3696949926065534,
          -1.2102778721915133,
          -0.9808681649797679,
          -1.2210113579787893,
          -1.26624649371923,
          -1.4728602504219963,
          -1.44218713117007,
          -1.3066500276514041,
          -1.4249394217942752,
          -1.4494548111227366,
          -1.1627832118164543,
          -1.4462623626827877,
          -0.7764248758644553,
          -1.4353637944306359,
          -1.3639805037901604,
          -1.4016431123492978,
          -1.3201762346086823,
          -1.2401192265874827,
          -1.4577007167280944,
          -1.4228239104951472,
          -1.2821535342232964,
          -1.404522044396443,
          -1.2720820007953886,
          -1.3509301017951807,
          -1.4361592911558925,
          -1.3955089842956443,
          -1.2140879216122964,
          -1.3592156687494792,
          -1.1930946151851052,
          -1.448321975189682,
          -1.4870645189749914,
          -1.4104938006688854,
          -1.2493913873644231,
          -0.9774834043575931,
          -1.3529629333520785,
          -1.1840529575797887,
          -1.4034330265197474,
          -1.3273663516266494,
          -1.3297770699290947,
          -0.7774255942064563
         ],
         "y": [
          0.017201246370750045,
          0.007373167902226863,
          -0.004133142350698948,
          -0.013877368056710582,
          -0.012175539833088056,
          -0.00861485201966361,
          0.004579818796371704,
          0.018426897753328397,
          0.013942464383641662,
          -0.0017433833359945528,
          -0.019486557706928975,
          -0.006814621960440581,
          -0.02484731810861307,
          0.0019836212180672774,
          -0.0303871517894041,
          0.0010330307559041074,
          -0.017522859957957326,
          -0.03307965692572035,
          -0.002348186608790659,
          -0.009709275327651534,
          0.013487512167478233,
          0.003124719247428853,
          -0.006959596840168336,
          -0.0026943919741015954,
          -0.004007719727069148,
          0.023210706633614908,
          0.002367016823717094,
          0.009401824404647652,
          -0.003017532185443539,
          -0.0007108870891281427,
          -0.021491741644195983,
          -0.004312439961909442,
          0.00310874988757992,
          -0.02283462467359776,
          0.02000159185606387,
          -0.016366161437410653,
          0.0018285427341777627,
          -0.007432809687608177,
          -0.0037365252192576026,
          -0.03372426462234246,
          -0.012070280112556064,
          0.014556789476248388,
          0.010213578934161527,
          0.015058931001083353,
          -0.0019403831394164683,
          0.012154748371753232,
          0.016265513570131063,
          0.0008112121440686515,
          -0.011550852401848166,
          -0.021793535337439662,
          -0.012522248899647925,
          0.01594910466476418,
          0.003714311350463184,
          0.018405848169921635,
          0.01791972413418863,
          -0.014950648974228375,
          0.008102159088347438,
          0.0034451797189207767,
          0.012007302612044857,
          -0.003563733392789814,
          0.0009129516485011369,
          -0.00976185720387579,
          -0.0005843166399210897,
          -0.025810334628062037,
          0.008019533585128746,
          0.00715144790674449,
          -0.001414026446961092,
          0.008223978167854362,
          -0.005842467036670795,
          0.006668551309495507,
          0.04158458155681033,
          -0.001408818669859313,
          0.010464529202620199,
          -0.014495123773847318,
          0.008699247237570873,
          -0.007970156719608656,
          0.008509830982250888,
          -0.0045115791170520225,
          0.013905323394463043,
          0.01846442996984199,
          0.011587614973593174,
          0.0040073743689117425,
          0.0025122473324867833,
          -0.0013105145342884317,
          0.002947691037648692,
          -0.008317039539010973,
          -0.02722371934019141,
          0.007564425940117081,
          0.022640746713733506,
          -0.007645768961459742,
          -0.012476046476605163,
          -0.004866345506768122,
          -0.02331442562288233,
          -0.0011793661149954726,
          0.006039762823430328,
          -0.00581061356644863,
          -0.03577481997953047,
          0.01529101850760628,
          -0.00028048842844996535,
          -0.0020671707134429784,
          0.0013137444614038651,
          0.011458114170906475,
          0.026281404872656067,
          0.014579974643984084,
          -0.014305024710820957,
          0.007030061357810924,
          -0.032593732173808565,
          0.0034645063721010505,
          0.00288102701923032,
          -0.021467761266474872,
          0.004690617459234714,
          -0.022435277135921305,
          -0.0003075343132772357,
          0.030175488032885944,
          0.013980036539596785,
          0.015178638221317264,
          -0.027041006446164362,
          0.007591824247875634,
          0.011777893099229386,
          0.0010587384028264424,
          0.04516404847382294,
          -0.007126975910215494,
          0.005950329176776625,
          0.12058396246191513,
          -0.007592628671234225,
          0.017732331071262042,
          -0.020462589036106094,
          -0.02062929354917631,
          0.004545132334046853,
          -0.01846809503272695,
          -0.007561762536606453,
          0.00866465716388054,
          0.0250871641152266,
          -0.005438347630533746,
          -0.001368245436562887,
          -0.014266310556318329,
          0.007096139675180302,
          0.00512342343873784,
          -0.04333006846805909,
          0.012532315834969276,
          0.010660491923606186,
          -0.03962410153000584,
          -0.017418978807527852,
          0.08397968418342239,
          0.015797714978299737,
          0.009471558798719748,
          -0.0035419257636224444,
          -0.0069753386741961965,
          0.06555737765751257,
          -0.004890021288111335,
          0.01761082329542729,
          0.029415679156312047,
          0.0021524022024166367,
          0.002436292869023804,
          -0.018811390559827723,
          0.03060819501513312,
          -0.008840798630020075,
          0.020289544102970014,
          0.007131136614617839,
          -0.021725471064608648,
          0.005510006178620186,
          -0.009187544546034987,
          0.001381660041614552,
          0.03263312028698562,
          0.011780309628795393,
          -0.013199522851706558,
          -0.00822012846652842,
          0.027034669089118557,
          0.0009282264064098822,
          0.01150833609043933,
          -0.01670840919886296,
          -0.03905782629467591,
          0.018582512321206446,
          -0.029868620921031486,
          0.001627583425282575,
          -0.02804649826402983,
          0.008977317905847881,
          -0.01303101303423393,
          -0.02703625045406799,
          -0.019005362637481982,
          0.0033822965264078686,
          -0.0030532357795847176,
          0.02050430344027432,
          0.013029074078068081,
          0.012127437777762484,
          -0.018845163924287034,
          0.02718169117507019,
          0.010148867000425277,
          -0.032837050666527645,
          -0.02916457884991064,
          0.11628564865464883,
          -0.021402615270810443,
          0.0067368075258649185,
          -0.03333386195788712,
          0.005041638398751824,
          0.01746432466893122,
          -0.01535042936260389,
          -0.004114742831107021,
          -0.02005013828417046,
          0.012800877917757525,
          -0.0022077011084122855,
          -0.014938942233169161,
          -0.0013528703070833092,
          0.0027560174252099223,
          0.0058738635917015,
          -0.007228007174907569,
          -0.002192800683131768,
          -0.007493372562087153,
          -0.02511694767332573,
          -0.006326509875967057,
          -0.007861756396605468,
          0.035089141227075515,
          -0.005921642238945424,
          0.0454849281252826,
          0.014628999687772426,
          -0.007599976050234769,
          -0.004439110181764017,
          -0.019954850011610903,
          0.0005241090400855963,
          0.0721396731922074,
          0.01620922716035267,
          -0.0100300090617913,
          -0.0005380167131054936,
          -0.0003046789251996973,
          -0.003298009260362722,
          -0.014598887681675832,
          0.007518907610737813,
          0.025549162068152498,
          -0.007790164542593292,
          0.009515976491665246,
          0.01173506370213162,
          -0.04416982785143553,
          -0.018742072733335502,
          0.013851471509866986,
          0.003334798761431612,
          0.014869796198965446,
          -0.014884551674798185,
          0.014079818405019706,
          0.008006640750856553,
          -0.03618069884466224,
          -0.012260173434103683,
          -0.031654898267028164,
          0.021931880878234722,
          0.00604444033907825,
          -0.01629426656505384,
          -0.00024196581655666627,
          0.015255482749905624,
          -0.010503833015348851,
          -0.003507262494421237,
          -0.013032079867189794,
          -0.0030574155047800033,
          0.02426038899092675,
          0.003232348231291482,
          -0.0018561385817827958,
          -0.027052075995298352,
          0.020103101946136626,
          -0.004454126390223134,
          0.004725013078531459,
          0.0020738701549769534,
          -0.008516182294002528,
          0.012155694253927152,
          0.009304741744766476,
          -0.004541170257007288,
          -0.0016517764392292023,
          0.017333948687310308,
          -0.022208587345979858,
          0.0014829835333651786,
          0.035406088324230645,
          0.01385492570521829,
          -0.0025863388649947083,
          -0.029152322746559767,
          -0.00532826106840778,
          0.0054346455404239435,
          0.00792691699608672,
          -0.01951407565061003,
          -0.004009026923132986,
          0.03635527990886278
         ]
        },
        {
         "mode": "lines",
         "name": "Zero Line",
         "type": "scatter",
         "x": [
          -1.444035012640639,
          -1.1811590477672897,
          -1.4215340871135351,
          -1.2251930859297013,
          -1.2161492471732531,
          -1.274706110878741,
          -1.4456900421305987,
          -1.462769132455893,
          -1.1880505077151104,
          -1.348002718996037,
          -1.224717698868061,
          -1.178184580250651,
          -1.1810508440274554,
          -1.4487368737447504,
          -1.398265273135777,
          -1.433486446423219,
          -1.2633766935457102,
          -1.2213922246482105,
          -1.0159477449770038,
          -1.4282182978375373,
          -1.4497705015904359,
          -1.4454508405866104,
          -1.3243713142962272,
          -1.3449264879807754,
          -1.37742718235717,
          -1.1035488242681406,
          -1.409559287456058,
          -1.3664459411528775,
          -1.4260401937265377,
          -1.3312955207364883,
          -1.2370019602195437,
          -1.3498737916929278,
          -1.2550968627321701,
          -0.9923540043021739,
          -1.268362793827027,
          -1.3370094682438258,
          -1.3570124345446417,
          -1.422040608781792,
          -1.3246663416168696,
          -0.9581127955446287,
          -1.18760287036651,
          -1.0829437188300286,
          -1.222783615041061,
          -1.436704330264616,
          -1.4376889348395752,
          -1.276374626859236,
          -1.440080308057978,
          -1.4332438446701468,
          -1.321432432438158,
          -1.2877680611304603,
          -1.3480552595420885,
          -1.3700288140487307,
          -1.2636005926969036,
          -1.4604929485185383,
          -1.4690637348734852,
          -1.3260477231645635,
          -1.455736162884614,
          -1.357057233736929,
          -1.4547647063422962,
          -1.3510719572296688,
          -1.1854133188263332,
          -1.3534682916617835,
          -1.440892233096979,
          -1.2612310979676598,
          -1.3333358809524702,
          -1.4422055411894434,
          -1.329381676681287,
          -1.3550238596230662,
          -1.4351950103477802,
          -1.3890127777659345,
          -1.1189296889917788,
          -1.3520577434485972,
          -1.0182746177619304,
          -1.4354563687555246,
          -1.2557925685732558,
          -1.2048492969039204,
          -1.2264527005791857,
          -1.1891444307609516,
          -1.256280544609881,
          -1.3790289452317206,
          -1.3700970472434078,
          -1.451669956223241,
          -1.3532274367175288,
          -1.4496178550094732,
          -1.41250941816708,
          -0.8888563703033607,
          -0.5516535732182162,
          -1.2922883549363946,
          -1.449521277529129,
          -1.207356063155349,
          -0.9999378101489373,
          -1.1783141881381392,
          -1.2869408540216825,
          -1.3124456169251872,
          -1.2160740574815578,
          -1.4358322161666865,
          -0.5138065091187902,
          -1.1760241342301114,
          -1.3294110322733004,
          -1.3859902391868812,
          -0.87201789626978,
          -1.3709288336214598,
          -1.4781502809336424,
          -1.370221125294341,
          -1.4269766719272274,
          -1.207409898104292,
          -1.2816547847470563,
          -1.0297833053071683,
          -1.1817487565752247,
          -1.1916530627713307,
          -1.3547251069365773,
          -0.5626981671032213,
          -1.3212571835112301,
          -1.0945094174295555,
          -1.4502188580708408,
          -1.3704768422640312,
          -0.9475656105955006,
          -1.4287020204587073,
          -1.3532828902326604,
          -1.3564452782289673,
          -1.4993504107901918,
          -1.2503067163741861,
          -1.422825650645165,
          -0.24069207442181484,
          -1.3330030341791044,
          -1.3627239503972464,
          -1.210990293632387,
          -1.3292752938622654,
          -1.3961878967364163,
          -1.2319196069167915,
          -1.3516959222830975,
          -0.5602309397800672,
          -1.115526621797012,
          -1.3485945922524798,
          -1.2788350282366465,
          -1.3214735403246884,
          -1.4550912765665338,
          -1.357218199126623,
          -0.4605666455966634,
          -1.287497861302523,
          -1.4361588447378117,
          -0.9447512856555558,
          -1.188894865975067,
          -0.317177103565869,
          -1.3726729600319478,
          -1.4047828102680826,
          -1.2909092269158624,
          -1.437816364906882,
          -0.7342555017510456,
          -1.286168038289833,
          -1.469300431135767,
          -1.4827083019786857,
          -1.401695921849537,
          -1.261938051414455,
          -1.2865906638583058,
          -1.043448140724159,
          -1.0318298049284005,
          -1.0757484279833995,
          -1.3579320651292937,
          -1.211940969764466,
          -1.2836244205386707,
          -1.3619485627828538,
          -1.3554743526945463,
          -1.076151202501842,
          -1.4232204481834372,
          -1.3503709759678024,
          -1.0319827999041495,
          -1.4706572342553026,
          -1.2158573125734427,
          -1.3640291909509157,
          -1.1861551962769585,
          -0.9373778261065611,
          -1.4712464005221426,
          -0.9944756507549117,
          -1.2570347757311289,
          -1.259608061775417,
          -1.3621788726740234,
          -1.3407810923456585,
          -1.1860118276339615,
          -1.0311326406505588,
          -1.44615529009031,
          -1.3966591654730103,
          -1.3631342661414398,
          -1.4383117856967387,
          -1.3597924806689068,
          -1.2751175403371107,
          -1.3675721093559388,
          -1.2751897439875732,
          -0.9772593221813555,
          -1.2676871901721818,
          -0.25998438014659103,
          -1.3046515881203558,
          -1.3002812324869428,
          -1.2246610246943777,
          -0.5711468036421026,
          -1.4546566384640887,
          -1.2455958615631746,
          -1.3263977664594162,
          -1.1870327521004433,
          -1.2982003135141487,
          -1.1939528507292767,
          -1.0367475388740814,
          -1.352365705981796,
          -1.448254397362811,
          -1.2809641079066776,
          -1.3621414043072282,
          -1.3167842426167418,
          -0.842810634532787,
          -1.2976532914518564,
          -1.4298629455005312,
          -1.1849836415969053,
          -1.480761591122291,
          -1.4420579048187572,
          -0.5969576519177792,
          -1.3513431309293755,
          -1.1794569058067141,
          -1.3410279544715575,
          -0.9683800179509405,
          -1.331912176292606,
          -0.2971063739912254,
          -1.0672409947196193,
          -1.3868141105713458,
          -1.3271893534338008,
          -1.3539127224860468,
          -1.4465053922379412,
          -1.2643988845126437,
          -1.4343656670604845,
          -1.075510513611124,
          -1.269950133453405,
          -1.2825589475977415,
          -1.464804252889868,
          -0.9586103639145898,
          -0.9589926201486969,
          -1.275847385399811,
          -1.446092202491683,
          -1.3791002018740446,
          -1.2820633530029928,
          -1.3696949926065534,
          -1.2102778721915133,
          -0.9808681649797679,
          -1.2210113579787893,
          -1.26624649371923,
          -1.4728602504219963,
          -1.44218713117007,
          -1.3066500276514041,
          -1.4249394217942752,
          -1.4494548111227366,
          -1.1627832118164543,
          -1.4462623626827877,
          -0.7764248758644553,
          -1.4353637944306359,
          -1.3639805037901604,
          -1.4016431123492978,
          -1.3201762346086823,
          -1.2401192265874827,
          -1.4577007167280944,
          -1.4228239104951472,
          -1.2821535342232964,
          -1.404522044396443,
          -1.2720820007953886,
          -1.3509301017951807,
          -1.4361592911558925,
          -1.3955089842956443,
          -1.2140879216122964,
          -1.3592156687494792,
          -1.1930946151851052,
          -1.448321975189682,
          -1.4870645189749914,
          -1.4104938006688854,
          -1.2493913873644231,
          -0.9774834043575931,
          -1.3529629333520785,
          -1.1840529575797887,
          -1.4034330265197474,
          -1.3273663516266494,
          -1.3297770699290947,
          -0.7774255942064563
         ],
         "y": [
          0,
          0,
          0,
          0,
          0,
          0,
          0,
          0,
          0,
          0,
          0,
          0,
          0,
          0,
          0,
          0,
          0,
          0,
          0,
          0,
          0,
          0,
          0,
          0,
          0,
          0,
          0,
          0,
          0,
          0,
          0,
          0,
          0,
          0,
          0,
          0,
          0,
          0,
          0,
          0,
          0,
          0,
          0,
          0,
          0,
          0,
          0,
          0,
          0,
          0,
          0,
          0,
          0,
          0,
          0,
          0,
          0,
          0,
          0,
          0,
          0,
          0,
          0,
          0,
          0,
          0,
          0,
          0,
          0,
          0,
          0,
          0,
          0,
          0,
          0,
          0,
          0,
          0,
          0,
          0,
          0,
          0,
          0,
          0,
          0,
          0,
          0,
          0,
          0,
          0,
          0,
          0,
          0,
          0,
          0,
          0,
          0,
          0,
          0,
          0,
          0,
          0,
          0,
          0,
          0,
          0,
          0,
          0,
          0,
          0,
          0,
          0,
          0,
          0,
          0,
          0,
          0,
          0,
          0,
          0,
          0,
          0,
          0,
          0,
          0,
          0,
          0,
          0,
          0,
          0,
          0,
          0,
          0,
          0,
          0,
          0,
          0,
          0,
          0,
          0,
          0,
          0,
          0,
          0,
          0,
          0,
          0,
          0,
          0,
          0,
          0,
          0,
          0,
          0,
          0,
          0,
          0,
          0,
          0,
          0,
          0,
          0,
          0,
          0,
          0,
          0,
          0,
          0,
          0,
          0,
          0,
          0,
          0,
          0,
          0,
          0,
          0,
          0,
          0,
          0,
          0,
          0,
          0,
          0,
          0,
          0,
          0,
          0,
          0,
          0,
          0,
          0,
          0,
          0,
          0,
          0,
          0,
          0,
          0,
          0,
          0,
          0,
          0,
          0,
          0,
          0,
          0,
          0,
          0,
          0,
          0,
          0,
          0,
          0,
          0,
          0,
          0,
          0,
          0,
          0,
          0,
          0,
          0,
          0,
          0,
          0,
          0,
          0,
          0,
          0,
          0,
          0,
          0,
          0,
          0,
          0,
          0,
          0,
          0,
          0,
          0,
          0,
          0,
          0,
          0,
          0,
          0,
          0,
          0,
          0,
          0,
          0,
          0,
          0,
          0,
          0,
          0,
          0,
          0,
          0,
          0,
          0,
          0,
          0,
          0,
          0,
          0,
          0,
          0,
          0,
          0,
          0,
          0,
          0,
          0,
          0,
          0
         ]
        }
       ],
       "layout": {
        "template": {
         "data": {
          "bar": [
           {
            "error_x": {
             "color": "#f2f5fa"
            },
            "error_y": {
             "color": "#f2f5fa"
            },
            "marker": {
             "line": {
              "color": "rgb(17,17,17)",
              "width": 0.5
             },
             "pattern": {
              "fillmode": "overlay",
              "size": 10,
              "solidity": 0.2
             }
            },
            "type": "bar"
           }
          ],
          "barpolar": [
           {
            "marker": {
             "line": {
              "color": "rgb(17,17,17)",
              "width": 0.5
             },
             "pattern": {
              "fillmode": "overlay",
              "size": 10,
              "solidity": 0.2
             }
            },
            "type": "barpolar"
           }
          ],
          "carpet": [
           {
            "aaxis": {
             "endlinecolor": "#A2B1C6",
             "gridcolor": "#506784",
             "linecolor": "#506784",
             "minorgridcolor": "#506784",
             "startlinecolor": "#A2B1C6"
            },
            "baxis": {
             "endlinecolor": "#A2B1C6",
             "gridcolor": "#506784",
             "linecolor": "#506784",
             "minorgridcolor": "#506784",
             "startlinecolor": "#A2B1C6"
            },
            "type": "carpet"
           }
          ],
          "choropleth": [
           {
            "colorbar": {
             "outlinewidth": 0,
             "ticks": ""
            },
            "type": "choropleth"
           }
          ],
          "contour": [
           {
            "colorbar": {
             "outlinewidth": 0,
             "ticks": ""
            },
            "colorscale": [
             [
              0,
              "#0d0887"
             ],
             [
              0.1111111111111111,
              "#46039f"
             ],
             [
              0.2222222222222222,
              "#7201a8"
             ],
             [
              0.3333333333333333,
              "#9c179e"
             ],
             [
              0.4444444444444444,
              "#bd3786"
             ],
             [
              0.5555555555555556,
              "#d8576b"
             ],
             [
              0.6666666666666666,
              "#ed7953"
             ],
             [
              0.7777777777777778,
              "#fb9f3a"
             ],
             [
              0.8888888888888888,
              "#fdca26"
             ],
             [
              1,
              "#f0f921"
             ]
            ],
            "type": "contour"
           }
          ],
          "contourcarpet": [
           {
            "colorbar": {
             "outlinewidth": 0,
             "ticks": ""
            },
            "type": "contourcarpet"
           }
          ],
          "heatmap": [
           {
            "colorbar": {
             "outlinewidth": 0,
             "ticks": ""
            },
            "colorscale": [
             [
              0,
              "#0d0887"
             ],
             [
              0.1111111111111111,
              "#46039f"
             ],
             [
              0.2222222222222222,
              "#7201a8"
             ],
             [
              0.3333333333333333,
              "#9c179e"
             ],
             [
              0.4444444444444444,
              "#bd3786"
             ],
             [
              0.5555555555555556,
              "#d8576b"
             ],
             [
              0.6666666666666666,
              "#ed7953"
             ],
             [
              0.7777777777777778,
              "#fb9f3a"
             ],
             [
              0.8888888888888888,
              "#fdca26"
             ],
             [
              1,
              "#f0f921"
             ]
            ],
            "type": "heatmap"
           }
          ],
          "heatmapgl": [
           {
            "colorbar": {
             "outlinewidth": 0,
             "ticks": ""
            },
            "colorscale": [
             [
              0,
              "#0d0887"
             ],
             [
              0.1111111111111111,
              "#46039f"
             ],
             [
              0.2222222222222222,
              "#7201a8"
             ],
             [
              0.3333333333333333,
              "#9c179e"
             ],
             [
              0.4444444444444444,
              "#bd3786"
             ],
             [
              0.5555555555555556,
              "#d8576b"
             ],
             [
              0.6666666666666666,
              "#ed7953"
             ],
             [
              0.7777777777777778,
              "#fb9f3a"
             ],
             [
              0.8888888888888888,
              "#fdca26"
             ],
             [
              1,
              "#f0f921"
             ]
            ],
            "type": "heatmapgl"
           }
          ],
          "histogram": [
           {
            "marker": {
             "pattern": {
              "fillmode": "overlay",
              "size": 10,
              "solidity": 0.2
             }
            },
            "type": "histogram"
           }
          ],
          "histogram2d": [
           {
            "colorbar": {
             "outlinewidth": 0,
             "ticks": ""
            },
            "colorscale": [
             [
              0,
              "#0d0887"
             ],
             [
              0.1111111111111111,
              "#46039f"
             ],
             [
              0.2222222222222222,
              "#7201a8"
             ],
             [
              0.3333333333333333,
              "#9c179e"
             ],
             [
              0.4444444444444444,
              "#bd3786"
             ],
             [
              0.5555555555555556,
              "#d8576b"
             ],
             [
              0.6666666666666666,
              "#ed7953"
             ],
             [
              0.7777777777777778,
              "#fb9f3a"
             ],
             [
              0.8888888888888888,
              "#fdca26"
             ],
             [
              1,
              "#f0f921"
             ]
            ],
            "type": "histogram2d"
           }
          ],
          "histogram2dcontour": [
           {
            "colorbar": {
             "outlinewidth": 0,
             "ticks": ""
            },
            "colorscale": [
             [
              0,
              "#0d0887"
             ],
             [
              0.1111111111111111,
              "#46039f"
             ],
             [
              0.2222222222222222,
              "#7201a8"
             ],
             [
              0.3333333333333333,
              "#9c179e"
             ],
             [
              0.4444444444444444,
              "#bd3786"
             ],
             [
              0.5555555555555556,
              "#d8576b"
             ],
             [
              0.6666666666666666,
              "#ed7953"
             ],
             [
              0.7777777777777778,
              "#fb9f3a"
             ],
             [
              0.8888888888888888,
              "#fdca26"
             ],
             [
              1,
              "#f0f921"
             ]
            ],
            "type": "histogram2dcontour"
           }
          ],
          "mesh3d": [
           {
            "colorbar": {
             "outlinewidth": 0,
             "ticks": ""
            },
            "type": "mesh3d"
           }
          ],
          "parcoords": [
           {
            "line": {
             "colorbar": {
              "outlinewidth": 0,
              "ticks": ""
             }
            },
            "type": "parcoords"
           }
          ],
          "pie": [
           {
            "automargin": true,
            "type": "pie"
           }
          ],
          "scatter": [
           {
            "marker": {
             "line": {
              "color": "#283442"
             }
            },
            "type": "scatter"
           }
          ],
          "scatter3d": [
           {
            "line": {
             "colorbar": {
              "outlinewidth": 0,
              "ticks": ""
             }
            },
            "marker": {
             "colorbar": {
              "outlinewidth": 0,
              "ticks": ""
             }
            },
            "type": "scatter3d"
           }
          ],
          "scattercarpet": [
           {
            "marker": {
             "colorbar": {
              "outlinewidth": 0,
              "ticks": ""
             }
            },
            "type": "scattercarpet"
           }
          ],
          "scattergeo": [
           {
            "marker": {
             "colorbar": {
              "outlinewidth": 0,
              "ticks": ""
             }
            },
            "type": "scattergeo"
           }
          ],
          "scattergl": [
           {
            "marker": {
             "line": {
              "color": "#283442"
             }
            },
            "type": "scattergl"
           }
          ],
          "scattermapbox": [
           {
            "marker": {
             "colorbar": {
              "outlinewidth": 0,
              "ticks": ""
             }
            },
            "type": "scattermapbox"
           }
          ],
          "scatterpolar": [
           {
            "marker": {
             "colorbar": {
              "outlinewidth": 0,
              "ticks": ""
             }
            },
            "type": "scatterpolar"
           }
          ],
          "scatterpolargl": [
           {
            "marker": {
             "colorbar": {
              "outlinewidth": 0,
              "ticks": ""
             }
            },
            "type": "scatterpolargl"
           }
          ],
          "scatterternary": [
           {
            "marker": {
             "colorbar": {
              "outlinewidth": 0,
              "ticks": ""
             }
            },
            "type": "scatterternary"
           }
          ],
          "surface": [
           {
            "colorbar": {
             "outlinewidth": 0,
             "ticks": ""
            },
            "colorscale": [
             [
              0,
              "#0d0887"
             ],
             [
              0.1111111111111111,
              "#46039f"
             ],
             [
              0.2222222222222222,
              "#7201a8"
             ],
             [
              0.3333333333333333,
              "#9c179e"
             ],
             [
              0.4444444444444444,
              "#bd3786"
             ],
             [
              0.5555555555555556,
              "#d8576b"
             ],
             [
              0.6666666666666666,
              "#ed7953"
             ],
             [
              0.7777777777777778,
              "#fb9f3a"
             ],
             [
              0.8888888888888888,
              "#fdca26"
             ],
             [
              1,
              "#f0f921"
             ]
            ],
            "type": "surface"
           }
          ],
          "table": [
           {
            "cells": {
             "fill": {
              "color": "#506784"
             },
             "line": {
              "color": "rgb(17,17,17)"
             }
            },
            "header": {
             "fill": {
              "color": "#2a3f5f"
             },
             "line": {
              "color": "rgb(17,17,17)"
             }
            },
            "type": "table"
           }
          ]
         },
         "layout": {
          "annotationdefaults": {
           "arrowcolor": "#f2f5fa",
           "arrowhead": 0,
           "arrowwidth": 1
          },
          "autotypenumbers": "strict",
          "coloraxis": {
           "colorbar": {
            "outlinewidth": 0,
            "ticks": ""
           }
          },
          "colorscale": {
           "diverging": [
            [
             0,
             "#8e0152"
            ],
            [
             0.1,
             "#c51b7d"
            ],
            [
             0.2,
             "#de77ae"
            ],
            [
             0.3,
             "#f1b6da"
            ],
            [
             0.4,
             "#fde0ef"
            ],
            [
             0.5,
             "#f7f7f7"
            ],
            [
             0.6,
             "#e6f5d0"
            ],
            [
             0.7,
             "#b8e186"
            ],
            [
             0.8,
             "#7fbc41"
            ],
            [
             0.9,
             "#4d9221"
            ],
            [
             1,
             "#276419"
            ]
           ],
           "sequential": [
            [
             0,
             "#0d0887"
            ],
            [
             0.1111111111111111,
             "#46039f"
            ],
            [
             0.2222222222222222,
             "#7201a8"
            ],
            [
             0.3333333333333333,
             "#9c179e"
            ],
            [
             0.4444444444444444,
             "#bd3786"
            ],
            [
             0.5555555555555556,
             "#d8576b"
            ],
            [
             0.6666666666666666,
             "#ed7953"
            ],
            [
             0.7777777777777778,
             "#fb9f3a"
            ],
            [
             0.8888888888888888,
             "#fdca26"
            ],
            [
             1,
             "#f0f921"
            ]
           ],
           "sequentialminus": [
            [
             0,
             "#0d0887"
            ],
            [
             0.1111111111111111,
             "#46039f"
            ],
            [
             0.2222222222222222,
             "#7201a8"
            ],
            [
             0.3333333333333333,
             "#9c179e"
            ],
            [
             0.4444444444444444,
             "#bd3786"
            ],
            [
             0.5555555555555556,
             "#d8576b"
            ],
            [
             0.6666666666666666,
             "#ed7953"
            ],
            [
             0.7777777777777778,
             "#fb9f3a"
            ],
            [
             0.8888888888888888,
             "#fdca26"
            ],
            [
             1,
             "#f0f921"
            ]
           ]
          },
          "colorway": [
           "#636efa",
           "#EF553B",
           "#00cc96",
           "#ab63fa",
           "#FFA15A",
           "#19d3f3",
           "#FF6692",
           "#B6E880",
           "#FF97FF",
           "#FECB52"
          ],
          "font": {
           "color": "#f2f5fa"
          },
          "geo": {
           "bgcolor": "rgb(17,17,17)",
           "lakecolor": "rgb(17,17,17)",
           "landcolor": "rgb(17,17,17)",
           "showlakes": true,
           "showland": true,
           "subunitcolor": "#506784"
          },
          "hoverlabel": {
           "align": "left"
          },
          "hovermode": "closest",
          "mapbox": {
           "style": "dark"
          },
          "paper_bgcolor": "rgb(17,17,17)",
          "plot_bgcolor": "rgb(17,17,17)",
          "polar": {
           "angularaxis": {
            "gridcolor": "#506784",
            "linecolor": "#506784",
            "ticks": ""
           },
           "bgcolor": "rgb(17,17,17)",
           "radialaxis": {
            "gridcolor": "#506784",
            "linecolor": "#506784",
            "ticks": ""
           }
          },
          "scene": {
           "xaxis": {
            "backgroundcolor": "rgb(17,17,17)",
            "gridcolor": "#506784",
            "gridwidth": 2,
            "linecolor": "#506784",
            "showbackground": true,
            "ticks": "",
            "zerolinecolor": "#C8D4E3"
           },
           "yaxis": {
            "backgroundcolor": "rgb(17,17,17)",
            "gridcolor": "#506784",
            "gridwidth": 2,
            "linecolor": "#506784",
            "showbackground": true,
            "ticks": "",
            "zerolinecolor": "#C8D4E3"
           },
           "zaxis": {
            "backgroundcolor": "rgb(17,17,17)",
            "gridcolor": "#506784",
            "gridwidth": 2,
            "linecolor": "#506784",
            "showbackground": true,
            "ticks": "",
            "zerolinecolor": "#C8D4E3"
           }
          },
          "shapedefaults": {
           "line": {
            "color": "#f2f5fa"
           }
          },
          "sliderdefaults": {
           "bgcolor": "#C8D4E3",
           "bordercolor": "rgb(17,17,17)",
           "borderwidth": 1,
           "tickwidth": 0
          },
          "ternary": {
           "aaxis": {
            "gridcolor": "#506784",
            "linecolor": "#506784",
            "ticks": ""
           },
           "baxis": {
            "gridcolor": "#506784",
            "linecolor": "#506784",
            "ticks": ""
           },
           "bgcolor": "rgb(17,17,17)",
           "caxis": {
            "gridcolor": "#506784",
            "linecolor": "#506784",
            "ticks": ""
           }
          },
          "title": {
           "x": 0.05
          },
          "updatemenudefaults": {
           "bgcolor": "#506784",
           "borderwidth": 0
          },
          "xaxis": {
           "automargin": true,
           "gridcolor": "#283442",
           "linecolor": "#506784",
           "ticks": "",
           "title": {
            "standoff": 15
           },
           "zerolinecolor": "#283442",
           "zerolinewidth": 2
          },
          "yaxis": {
           "automargin": true,
           "gridcolor": "#283442",
           "linecolor": "#506784",
           "ticks": "",
           "title": {
            "standoff": 15
           },
           "zerolinecolor": "#283442",
           "zerolinewidth": 2
          }
         }
        },
        "title": {
         "text": "Residuals vs Predicted Closing Prices"
        },
        "xaxis": {
         "title": {
          "text": "Predicted Closing Prices"
         }
        },
        "yaxis": {
         "title": {
          "text": "Residuals"
         }
        }
       }
      }
     },
     "metadata": {},
     "output_type": "display_data"
    }
   ],
   "source": [
    "# Calculate the residuals first.\n",
    "residuals = y_test - y_pred\n",
    "\n",
    "# Create the residuals plot\n",
    "fig = go.Figure()\n",
    "\n",
    "fig.add_trace(go.Scatter(x = y_pred, y = residuals,\n",
    "                mode = 'markers',\n",
    "                name = 'Residuals'))\n",
    "\n",
    "fig.add_trace(go.Scatter(x = y_pred, y = np.zeros_like(y_pred),\n",
    "                mode = 'lines',\n",
    "                name = 'Zero Line'))\n",
    "\n",
    "fig.update_layout(title = 'Residuals vs Predicted Closing Prices',\n",
    "                xaxis_title = 'Predicted Closing Prices',\n",
    "                yaxis_title = 'Residuals',\n",
    "                template = 'plotly_dark')\n",
    "\n",
    "fig.show()\n",
    "\n",
    "\n"
   ]
  },
  {
   "cell_type": "markdown",
   "metadata": {},
   "source": [
    "#### In the plot above, contrary to many other plots we create, we are wanting to see randomness.  We are looking for the data to be scattered around the zero line and randomly distributed, and that the spread is fairly symmetrical around the zero.  If there was clustering it could indicate bias in the predictions, which in this one we do see some centralized clustering.  In order to alleviate the distortion seen above I will be addressing outliers (outside this notebook) and performing more advanced models that will help capture the behavior that this data is trying to exhibit.  "
   ]
  },
  {
   "cell_type": "markdown",
   "metadata": {},
   "source": [
    "#### Since we have our residuals variable established let's make a distribution plot for it to get another look."
   ]
  },
  {
   "cell_type": "code",
   "execution_count": 12,
   "metadata": {},
   "outputs": [
    {
     "data": {
      "application/vnd.plotly.v1+json": {
       "config": {
        "plotlyServerURL": "https://plot.ly"
       },
       "data": [
        {
         "alignmentgroup": "True",
         "bingroup": "x",
         "histnorm": "probability density",
         "hovertemplate": "variable=Close<br>value=%{x}<br>probability density=%{y}<extra></extra>",
         "legendgroup": "Close",
         "marker": {
          "color": "#636efa",
          "pattern": {
           "shape": ""
          }
         },
         "name": "Close",
         "nbinsx": 30,
         "offsetgroup": "Close",
         "orientation": "v",
         "showlegend": true,
         "type": "histogram",
         "x": [
          0.017201246370750045,
          0.007373167902226863,
          -0.004133142350698948,
          -0.013877368056710582,
          -0.012175539833088056,
          -0.00861485201966361,
          0.004579818796371704,
          0.018426897753328397,
          0.013942464383641662,
          -0.0017433833359945528,
          -0.019486557706928975,
          -0.006814621960440581,
          -0.02484731810861307,
          0.0019836212180672774,
          -0.0303871517894041,
          0.0010330307559041074,
          -0.017522859957957326,
          -0.03307965692572035,
          -0.002348186608790659,
          -0.009709275327651534,
          0.013487512167478233,
          0.003124719247428853,
          -0.006959596840168336,
          -0.0026943919741015954,
          -0.004007719727069148,
          0.023210706633614908,
          0.002367016823717094,
          0.009401824404647652,
          -0.003017532185443539,
          -0.0007108870891281427,
          -0.021491741644195983,
          -0.004312439961909442,
          0.00310874988757992,
          -0.02283462467359776,
          0.02000159185606387,
          -0.016366161437410653,
          0.0018285427341777627,
          -0.007432809687608177,
          -0.0037365252192576026,
          -0.03372426462234246,
          -0.012070280112556064,
          0.014556789476248388,
          0.010213578934161527,
          0.015058931001083353,
          -0.0019403831394164683,
          0.012154748371753232,
          0.016265513570131063,
          0.0008112121440686515,
          -0.011550852401848166,
          -0.021793535337439662,
          -0.012522248899647925,
          0.01594910466476418,
          0.003714311350463184,
          0.018405848169921635,
          0.01791972413418863,
          -0.014950648974228375,
          0.008102159088347438,
          0.0034451797189207767,
          0.012007302612044857,
          -0.003563733392789814,
          0.0009129516485011369,
          -0.00976185720387579,
          -0.0005843166399210897,
          -0.025810334628062037,
          0.008019533585128746,
          0.00715144790674449,
          -0.001414026446961092,
          0.008223978167854362,
          -0.005842467036670795,
          0.006668551309495507,
          0.04158458155681033,
          -0.001408818669859313,
          0.010464529202620199,
          -0.014495123773847318,
          0.008699247237570873,
          -0.007970156719608656,
          0.008509830982250888,
          -0.0045115791170520225,
          0.013905323394463043,
          0.01846442996984199,
          0.011587614973593174,
          0.0040073743689117425,
          0.0025122473324867833,
          -0.0013105145342884317,
          0.002947691037648692,
          -0.008317039539010973,
          -0.02722371934019141,
          0.007564425940117081,
          0.022640746713733506,
          -0.007645768961459742,
          -0.012476046476605163,
          -0.004866345506768122,
          -0.02331442562288233,
          -0.0011793661149954726,
          0.006039762823430328,
          -0.00581061356644863,
          -0.03577481997953047,
          0.01529101850760628,
          -0.00028048842844996535,
          -0.0020671707134429784,
          0.0013137444614038651,
          0.011458114170906475,
          0.026281404872656067,
          0.014579974643984084,
          -0.014305024710820957,
          0.007030061357810924,
          -0.032593732173808565,
          0.0034645063721010505,
          0.00288102701923032,
          -0.021467761266474872,
          0.004690617459234714,
          -0.022435277135921305,
          -0.0003075343132772357,
          0.030175488032885944,
          0.013980036539596785,
          0.015178638221317264,
          -0.027041006446164362,
          0.007591824247875634,
          0.011777893099229386,
          0.0010587384028264424,
          0.04516404847382294,
          -0.007126975910215494,
          0.005950329176776625,
          0.12058396246191513,
          -0.007592628671234225,
          0.017732331071262042,
          -0.020462589036106094,
          -0.02062929354917631,
          0.004545132334046853,
          -0.01846809503272695,
          -0.007561762536606453,
          0.00866465716388054,
          0.0250871641152266,
          -0.005438347630533746,
          -0.001368245436562887,
          -0.014266310556318329,
          0.007096139675180302,
          0.00512342343873784,
          -0.04333006846805909,
          0.012532315834969276,
          0.010660491923606186,
          -0.03962410153000584,
          -0.017418978807527852,
          0.08397968418342239,
          0.015797714978299737,
          0.009471558798719748,
          -0.0035419257636224444,
          -0.0069753386741961965,
          0.06555737765751257,
          -0.004890021288111335,
          0.01761082329542729,
          0.029415679156312047,
          0.0021524022024166367,
          0.002436292869023804,
          -0.018811390559827723,
          0.03060819501513312,
          -0.008840798630020075,
          0.020289544102970014,
          0.007131136614617839,
          -0.021725471064608648,
          0.005510006178620186,
          -0.009187544546034987,
          0.001381660041614552,
          0.03263312028698562,
          0.011780309628795393,
          -0.013199522851706558,
          -0.00822012846652842,
          0.027034669089118557,
          0.0009282264064098822,
          0.01150833609043933,
          -0.01670840919886296,
          -0.03905782629467591,
          0.018582512321206446,
          -0.029868620921031486,
          0.001627583425282575,
          -0.02804649826402983,
          0.008977317905847881,
          -0.01303101303423393,
          -0.02703625045406799,
          -0.019005362637481982,
          0.0033822965264078686,
          -0.0030532357795847176,
          0.02050430344027432,
          0.013029074078068081,
          0.012127437777762484,
          -0.018845163924287034,
          0.02718169117507019,
          0.010148867000425277,
          -0.032837050666527645,
          -0.02916457884991064,
          0.11628564865464883,
          -0.021402615270810443,
          0.0067368075258649185,
          -0.03333386195788712,
          0.005041638398751824,
          0.01746432466893122,
          -0.01535042936260389,
          -0.004114742831107021,
          -0.02005013828417046,
          0.012800877917757525,
          -0.0022077011084122855,
          -0.014938942233169161,
          -0.0013528703070833092,
          0.0027560174252099223,
          0.0058738635917015,
          -0.007228007174907569,
          -0.002192800683131768,
          -0.007493372562087153,
          -0.02511694767332573,
          -0.006326509875967057,
          -0.007861756396605468,
          0.035089141227075515,
          -0.005921642238945424,
          0.0454849281252826,
          0.014628999687772426,
          -0.007599976050234769,
          -0.004439110181764017,
          -0.019954850011610903,
          0.0005241090400855963,
          0.0721396731922074,
          0.01620922716035267,
          -0.0100300090617913,
          -0.0005380167131054936,
          -0.0003046789251996973,
          -0.003298009260362722,
          -0.014598887681675832,
          0.007518907610737813,
          0.025549162068152498,
          -0.007790164542593292,
          0.009515976491665246,
          0.01173506370213162,
          -0.04416982785143553,
          -0.018742072733335502,
          0.013851471509866986,
          0.003334798761431612,
          0.014869796198965446,
          -0.014884551674798185,
          0.014079818405019706,
          0.008006640750856553,
          -0.03618069884466224,
          -0.012260173434103683,
          -0.031654898267028164,
          0.021931880878234722,
          0.00604444033907825,
          -0.01629426656505384,
          -0.00024196581655666627,
          0.015255482749905624,
          -0.010503833015348851,
          -0.003507262494421237,
          -0.013032079867189794,
          -0.0030574155047800033,
          0.02426038899092675,
          0.003232348231291482,
          -0.0018561385817827958,
          -0.027052075995298352,
          0.020103101946136626,
          -0.004454126390223134,
          0.004725013078531459,
          0.0020738701549769534,
          -0.008516182294002528,
          0.012155694253927152,
          0.009304741744766476,
          -0.004541170257007288,
          -0.0016517764392292023,
          0.017333948687310308,
          -0.022208587345979858,
          0.0014829835333651786,
          0.035406088324230645,
          0.01385492570521829,
          -0.0025863388649947083,
          -0.029152322746559767,
          -0.00532826106840778,
          0.0054346455404239435,
          0.00792691699608672,
          -0.01951407565061003,
          -0.004009026923132986,
          0.03635527990886278
         ],
         "xaxis": "x",
         "yaxis": "y"
        },
        {
         "alignmentgroup": "True",
         "hovertemplate": "variable=Close<br>value=%{x}<extra></extra>",
         "legendgroup": "Close",
         "marker": {
          "color": "#636efa"
         },
         "name": "Close",
         "notched": true,
         "offsetgroup": "Close",
         "showlegend": false,
         "type": "box",
         "x": [
          0.017201246370750045,
          0.007373167902226863,
          -0.004133142350698948,
          -0.013877368056710582,
          -0.012175539833088056,
          -0.00861485201966361,
          0.004579818796371704,
          0.018426897753328397,
          0.013942464383641662,
          -0.0017433833359945528,
          -0.019486557706928975,
          -0.006814621960440581,
          -0.02484731810861307,
          0.0019836212180672774,
          -0.0303871517894041,
          0.0010330307559041074,
          -0.017522859957957326,
          -0.03307965692572035,
          -0.002348186608790659,
          -0.009709275327651534,
          0.013487512167478233,
          0.003124719247428853,
          -0.006959596840168336,
          -0.0026943919741015954,
          -0.004007719727069148,
          0.023210706633614908,
          0.002367016823717094,
          0.009401824404647652,
          -0.003017532185443539,
          -0.0007108870891281427,
          -0.021491741644195983,
          -0.004312439961909442,
          0.00310874988757992,
          -0.02283462467359776,
          0.02000159185606387,
          -0.016366161437410653,
          0.0018285427341777627,
          -0.007432809687608177,
          -0.0037365252192576026,
          -0.03372426462234246,
          -0.012070280112556064,
          0.014556789476248388,
          0.010213578934161527,
          0.015058931001083353,
          -0.0019403831394164683,
          0.012154748371753232,
          0.016265513570131063,
          0.0008112121440686515,
          -0.011550852401848166,
          -0.021793535337439662,
          -0.012522248899647925,
          0.01594910466476418,
          0.003714311350463184,
          0.018405848169921635,
          0.01791972413418863,
          -0.014950648974228375,
          0.008102159088347438,
          0.0034451797189207767,
          0.012007302612044857,
          -0.003563733392789814,
          0.0009129516485011369,
          -0.00976185720387579,
          -0.0005843166399210897,
          -0.025810334628062037,
          0.008019533585128746,
          0.00715144790674449,
          -0.001414026446961092,
          0.008223978167854362,
          -0.005842467036670795,
          0.006668551309495507,
          0.04158458155681033,
          -0.001408818669859313,
          0.010464529202620199,
          -0.014495123773847318,
          0.008699247237570873,
          -0.007970156719608656,
          0.008509830982250888,
          -0.0045115791170520225,
          0.013905323394463043,
          0.01846442996984199,
          0.011587614973593174,
          0.0040073743689117425,
          0.0025122473324867833,
          -0.0013105145342884317,
          0.002947691037648692,
          -0.008317039539010973,
          -0.02722371934019141,
          0.007564425940117081,
          0.022640746713733506,
          -0.007645768961459742,
          -0.012476046476605163,
          -0.004866345506768122,
          -0.02331442562288233,
          -0.0011793661149954726,
          0.006039762823430328,
          -0.00581061356644863,
          -0.03577481997953047,
          0.01529101850760628,
          -0.00028048842844996535,
          -0.0020671707134429784,
          0.0013137444614038651,
          0.011458114170906475,
          0.026281404872656067,
          0.014579974643984084,
          -0.014305024710820957,
          0.007030061357810924,
          -0.032593732173808565,
          0.0034645063721010505,
          0.00288102701923032,
          -0.021467761266474872,
          0.004690617459234714,
          -0.022435277135921305,
          -0.0003075343132772357,
          0.030175488032885944,
          0.013980036539596785,
          0.015178638221317264,
          -0.027041006446164362,
          0.007591824247875634,
          0.011777893099229386,
          0.0010587384028264424,
          0.04516404847382294,
          -0.007126975910215494,
          0.005950329176776625,
          0.12058396246191513,
          -0.007592628671234225,
          0.017732331071262042,
          -0.020462589036106094,
          -0.02062929354917631,
          0.004545132334046853,
          -0.01846809503272695,
          -0.007561762536606453,
          0.00866465716388054,
          0.0250871641152266,
          -0.005438347630533746,
          -0.001368245436562887,
          -0.014266310556318329,
          0.007096139675180302,
          0.00512342343873784,
          -0.04333006846805909,
          0.012532315834969276,
          0.010660491923606186,
          -0.03962410153000584,
          -0.017418978807527852,
          0.08397968418342239,
          0.015797714978299737,
          0.009471558798719748,
          -0.0035419257636224444,
          -0.0069753386741961965,
          0.06555737765751257,
          -0.004890021288111335,
          0.01761082329542729,
          0.029415679156312047,
          0.0021524022024166367,
          0.002436292869023804,
          -0.018811390559827723,
          0.03060819501513312,
          -0.008840798630020075,
          0.020289544102970014,
          0.007131136614617839,
          -0.021725471064608648,
          0.005510006178620186,
          -0.009187544546034987,
          0.001381660041614552,
          0.03263312028698562,
          0.011780309628795393,
          -0.013199522851706558,
          -0.00822012846652842,
          0.027034669089118557,
          0.0009282264064098822,
          0.01150833609043933,
          -0.01670840919886296,
          -0.03905782629467591,
          0.018582512321206446,
          -0.029868620921031486,
          0.001627583425282575,
          -0.02804649826402983,
          0.008977317905847881,
          -0.01303101303423393,
          -0.02703625045406799,
          -0.019005362637481982,
          0.0033822965264078686,
          -0.0030532357795847176,
          0.02050430344027432,
          0.013029074078068081,
          0.012127437777762484,
          -0.018845163924287034,
          0.02718169117507019,
          0.010148867000425277,
          -0.032837050666527645,
          -0.02916457884991064,
          0.11628564865464883,
          -0.021402615270810443,
          0.0067368075258649185,
          -0.03333386195788712,
          0.005041638398751824,
          0.01746432466893122,
          -0.01535042936260389,
          -0.004114742831107021,
          -0.02005013828417046,
          0.012800877917757525,
          -0.0022077011084122855,
          -0.014938942233169161,
          -0.0013528703070833092,
          0.0027560174252099223,
          0.0058738635917015,
          -0.007228007174907569,
          -0.002192800683131768,
          -0.007493372562087153,
          -0.02511694767332573,
          -0.006326509875967057,
          -0.007861756396605468,
          0.035089141227075515,
          -0.005921642238945424,
          0.0454849281252826,
          0.014628999687772426,
          -0.007599976050234769,
          -0.004439110181764017,
          -0.019954850011610903,
          0.0005241090400855963,
          0.0721396731922074,
          0.01620922716035267,
          -0.0100300090617913,
          -0.0005380167131054936,
          -0.0003046789251996973,
          -0.003298009260362722,
          -0.014598887681675832,
          0.007518907610737813,
          0.025549162068152498,
          -0.007790164542593292,
          0.009515976491665246,
          0.01173506370213162,
          -0.04416982785143553,
          -0.018742072733335502,
          0.013851471509866986,
          0.003334798761431612,
          0.014869796198965446,
          -0.014884551674798185,
          0.014079818405019706,
          0.008006640750856553,
          -0.03618069884466224,
          -0.012260173434103683,
          -0.031654898267028164,
          0.021931880878234722,
          0.00604444033907825,
          -0.01629426656505384,
          -0.00024196581655666627,
          0.015255482749905624,
          -0.010503833015348851,
          -0.003507262494421237,
          -0.013032079867189794,
          -0.0030574155047800033,
          0.02426038899092675,
          0.003232348231291482,
          -0.0018561385817827958,
          -0.027052075995298352,
          0.020103101946136626,
          -0.004454126390223134,
          0.004725013078531459,
          0.0020738701549769534,
          -0.008516182294002528,
          0.012155694253927152,
          0.009304741744766476,
          -0.004541170257007288,
          -0.0016517764392292023,
          0.017333948687310308,
          -0.022208587345979858,
          0.0014829835333651786,
          0.035406088324230645,
          0.01385492570521829,
          -0.0025863388649947083,
          -0.029152322746559767,
          -0.00532826106840778,
          0.0054346455404239435,
          0.00792691699608672,
          -0.01951407565061003,
          -0.004009026923132986,
          0.03635527990886278
         ],
         "xaxis": "x2",
         "yaxis": "y2"
        }
       ],
       "layout": {
        "barmode": "relative",
        "legend": {
         "title": {
          "text": "variable"
         },
         "tracegroupgap": 0
        },
        "margin": {
         "t": 60
        },
        "template": {
         "data": {
          "bar": [
           {
            "error_x": {
             "color": "#f2f5fa"
            },
            "error_y": {
             "color": "#f2f5fa"
            },
            "marker": {
             "line": {
              "color": "rgb(17,17,17)",
              "width": 0.5
             },
             "pattern": {
              "fillmode": "overlay",
              "size": 10,
              "solidity": 0.2
             }
            },
            "type": "bar"
           }
          ],
          "barpolar": [
           {
            "marker": {
             "line": {
              "color": "rgb(17,17,17)",
              "width": 0.5
             },
             "pattern": {
              "fillmode": "overlay",
              "size": 10,
              "solidity": 0.2
             }
            },
            "type": "barpolar"
           }
          ],
          "carpet": [
           {
            "aaxis": {
             "endlinecolor": "#A2B1C6",
             "gridcolor": "#506784",
             "linecolor": "#506784",
             "minorgridcolor": "#506784",
             "startlinecolor": "#A2B1C6"
            },
            "baxis": {
             "endlinecolor": "#A2B1C6",
             "gridcolor": "#506784",
             "linecolor": "#506784",
             "minorgridcolor": "#506784",
             "startlinecolor": "#A2B1C6"
            },
            "type": "carpet"
           }
          ],
          "choropleth": [
           {
            "colorbar": {
             "outlinewidth": 0,
             "ticks": ""
            },
            "type": "choropleth"
           }
          ],
          "contour": [
           {
            "colorbar": {
             "outlinewidth": 0,
             "ticks": ""
            },
            "colorscale": [
             [
              0,
              "#0d0887"
             ],
             [
              0.1111111111111111,
              "#46039f"
             ],
             [
              0.2222222222222222,
              "#7201a8"
             ],
             [
              0.3333333333333333,
              "#9c179e"
             ],
             [
              0.4444444444444444,
              "#bd3786"
             ],
             [
              0.5555555555555556,
              "#d8576b"
             ],
             [
              0.6666666666666666,
              "#ed7953"
             ],
             [
              0.7777777777777778,
              "#fb9f3a"
             ],
             [
              0.8888888888888888,
              "#fdca26"
             ],
             [
              1,
              "#f0f921"
             ]
            ],
            "type": "contour"
           }
          ],
          "contourcarpet": [
           {
            "colorbar": {
             "outlinewidth": 0,
             "ticks": ""
            },
            "type": "contourcarpet"
           }
          ],
          "heatmap": [
           {
            "colorbar": {
             "outlinewidth": 0,
             "ticks": ""
            },
            "colorscale": [
             [
              0,
              "#0d0887"
             ],
             [
              0.1111111111111111,
              "#46039f"
             ],
             [
              0.2222222222222222,
              "#7201a8"
             ],
             [
              0.3333333333333333,
              "#9c179e"
             ],
             [
              0.4444444444444444,
              "#bd3786"
             ],
             [
              0.5555555555555556,
              "#d8576b"
             ],
             [
              0.6666666666666666,
              "#ed7953"
             ],
             [
              0.7777777777777778,
              "#fb9f3a"
             ],
             [
              0.8888888888888888,
              "#fdca26"
             ],
             [
              1,
              "#f0f921"
             ]
            ],
            "type": "heatmap"
           }
          ],
          "heatmapgl": [
           {
            "colorbar": {
             "outlinewidth": 0,
             "ticks": ""
            },
            "colorscale": [
             [
              0,
              "#0d0887"
             ],
             [
              0.1111111111111111,
              "#46039f"
             ],
             [
              0.2222222222222222,
              "#7201a8"
             ],
             [
              0.3333333333333333,
              "#9c179e"
             ],
             [
              0.4444444444444444,
              "#bd3786"
             ],
             [
              0.5555555555555556,
              "#d8576b"
             ],
             [
              0.6666666666666666,
              "#ed7953"
             ],
             [
              0.7777777777777778,
              "#fb9f3a"
             ],
             [
              0.8888888888888888,
              "#fdca26"
             ],
             [
              1,
              "#f0f921"
             ]
            ],
            "type": "heatmapgl"
           }
          ],
          "histogram": [
           {
            "marker": {
             "pattern": {
              "fillmode": "overlay",
              "size": 10,
              "solidity": 0.2
             }
            },
            "type": "histogram"
           }
          ],
          "histogram2d": [
           {
            "colorbar": {
             "outlinewidth": 0,
             "ticks": ""
            },
            "colorscale": [
             [
              0,
              "#0d0887"
             ],
             [
              0.1111111111111111,
              "#46039f"
             ],
             [
              0.2222222222222222,
              "#7201a8"
             ],
             [
              0.3333333333333333,
              "#9c179e"
             ],
             [
              0.4444444444444444,
              "#bd3786"
             ],
             [
              0.5555555555555556,
              "#d8576b"
             ],
             [
              0.6666666666666666,
              "#ed7953"
             ],
             [
              0.7777777777777778,
              "#fb9f3a"
             ],
             [
              0.8888888888888888,
              "#fdca26"
             ],
             [
              1,
              "#f0f921"
             ]
            ],
            "type": "histogram2d"
           }
          ],
          "histogram2dcontour": [
           {
            "colorbar": {
             "outlinewidth": 0,
             "ticks": ""
            },
            "colorscale": [
             [
              0,
              "#0d0887"
             ],
             [
              0.1111111111111111,
              "#46039f"
             ],
             [
              0.2222222222222222,
              "#7201a8"
             ],
             [
              0.3333333333333333,
              "#9c179e"
             ],
             [
              0.4444444444444444,
              "#bd3786"
             ],
             [
              0.5555555555555556,
              "#d8576b"
             ],
             [
              0.6666666666666666,
              "#ed7953"
             ],
             [
              0.7777777777777778,
              "#fb9f3a"
             ],
             [
              0.8888888888888888,
              "#fdca26"
             ],
             [
              1,
              "#f0f921"
             ]
            ],
            "type": "histogram2dcontour"
           }
          ],
          "mesh3d": [
           {
            "colorbar": {
             "outlinewidth": 0,
             "ticks": ""
            },
            "type": "mesh3d"
           }
          ],
          "parcoords": [
           {
            "line": {
             "colorbar": {
              "outlinewidth": 0,
              "ticks": ""
             }
            },
            "type": "parcoords"
           }
          ],
          "pie": [
           {
            "automargin": true,
            "type": "pie"
           }
          ],
          "scatter": [
           {
            "marker": {
             "line": {
              "color": "#283442"
             }
            },
            "type": "scatter"
           }
          ],
          "scatter3d": [
           {
            "line": {
             "colorbar": {
              "outlinewidth": 0,
              "ticks": ""
             }
            },
            "marker": {
             "colorbar": {
              "outlinewidth": 0,
              "ticks": ""
             }
            },
            "type": "scatter3d"
           }
          ],
          "scattercarpet": [
           {
            "marker": {
             "colorbar": {
              "outlinewidth": 0,
              "ticks": ""
             }
            },
            "type": "scattercarpet"
           }
          ],
          "scattergeo": [
           {
            "marker": {
             "colorbar": {
              "outlinewidth": 0,
              "ticks": ""
             }
            },
            "type": "scattergeo"
           }
          ],
          "scattergl": [
           {
            "marker": {
             "line": {
              "color": "#283442"
             }
            },
            "type": "scattergl"
           }
          ],
          "scattermapbox": [
           {
            "marker": {
             "colorbar": {
              "outlinewidth": 0,
              "ticks": ""
             }
            },
            "type": "scattermapbox"
           }
          ],
          "scatterpolar": [
           {
            "marker": {
             "colorbar": {
              "outlinewidth": 0,
              "ticks": ""
             }
            },
            "type": "scatterpolar"
           }
          ],
          "scatterpolargl": [
           {
            "marker": {
             "colorbar": {
              "outlinewidth": 0,
              "ticks": ""
             }
            },
            "type": "scatterpolargl"
           }
          ],
          "scatterternary": [
           {
            "marker": {
             "colorbar": {
              "outlinewidth": 0,
              "ticks": ""
             }
            },
            "type": "scatterternary"
           }
          ],
          "surface": [
           {
            "colorbar": {
             "outlinewidth": 0,
             "ticks": ""
            },
            "colorscale": [
             [
              0,
              "#0d0887"
             ],
             [
              0.1111111111111111,
              "#46039f"
             ],
             [
              0.2222222222222222,
              "#7201a8"
             ],
             [
              0.3333333333333333,
              "#9c179e"
             ],
             [
              0.4444444444444444,
              "#bd3786"
             ],
             [
              0.5555555555555556,
              "#d8576b"
             ],
             [
              0.6666666666666666,
              "#ed7953"
             ],
             [
              0.7777777777777778,
              "#fb9f3a"
             ],
             [
              0.8888888888888888,
              "#fdca26"
             ],
             [
              1,
              "#f0f921"
             ]
            ],
            "type": "surface"
           }
          ],
          "table": [
           {
            "cells": {
             "fill": {
              "color": "#506784"
             },
             "line": {
              "color": "rgb(17,17,17)"
             }
            },
            "header": {
             "fill": {
              "color": "#2a3f5f"
             },
             "line": {
              "color": "rgb(17,17,17)"
             }
            },
            "type": "table"
           }
          ]
         },
         "layout": {
          "annotationdefaults": {
           "arrowcolor": "#f2f5fa",
           "arrowhead": 0,
           "arrowwidth": 1
          },
          "autotypenumbers": "strict",
          "coloraxis": {
           "colorbar": {
            "outlinewidth": 0,
            "ticks": ""
           }
          },
          "colorscale": {
           "diverging": [
            [
             0,
             "#8e0152"
            ],
            [
             0.1,
             "#c51b7d"
            ],
            [
             0.2,
             "#de77ae"
            ],
            [
             0.3,
             "#f1b6da"
            ],
            [
             0.4,
             "#fde0ef"
            ],
            [
             0.5,
             "#f7f7f7"
            ],
            [
             0.6,
             "#e6f5d0"
            ],
            [
             0.7,
             "#b8e186"
            ],
            [
             0.8,
             "#7fbc41"
            ],
            [
             0.9,
             "#4d9221"
            ],
            [
             1,
             "#276419"
            ]
           ],
           "sequential": [
            [
             0,
             "#0d0887"
            ],
            [
             0.1111111111111111,
             "#46039f"
            ],
            [
             0.2222222222222222,
             "#7201a8"
            ],
            [
             0.3333333333333333,
             "#9c179e"
            ],
            [
             0.4444444444444444,
             "#bd3786"
            ],
            [
             0.5555555555555556,
             "#d8576b"
            ],
            [
             0.6666666666666666,
             "#ed7953"
            ],
            [
             0.7777777777777778,
             "#fb9f3a"
            ],
            [
             0.8888888888888888,
             "#fdca26"
            ],
            [
             1,
             "#f0f921"
            ]
           ],
           "sequentialminus": [
            [
             0,
             "#0d0887"
            ],
            [
             0.1111111111111111,
             "#46039f"
            ],
            [
             0.2222222222222222,
             "#7201a8"
            ],
            [
             0.3333333333333333,
             "#9c179e"
            ],
            [
             0.4444444444444444,
             "#bd3786"
            ],
            [
             0.5555555555555556,
             "#d8576b"
            ],
            [
             0.6666666666666666,
             "#ed7953"
            ],
            [
             0.7777777777777778,
             "#fb9f3a"
            ],
            [
             0.8888888888888888,
             "#fdca26"
            ],
            [
             1,
             "#f0f921"
            ]
           ]
          },
          "colorway": [
           "#636efa",
           "#EF553B",
           "#00cc96",
           "#ab63fa",
           "#FFA15A",
           "#19d3f3",
           "#FF6692",
           "#B6E880",
           "#FF97FF",
           "#FECB52"
          ],
          "font": {
           "color": "#f2f5fa"
          },
          "geo": {
           "bgcolor": "rgb(17,17,17)",
           "lakecolor": "rgb(17,17,17)",
           "landcolor": "rgb(17,17,17)",
           "showlakes": true,
           "showland": true,
           "subunitcolor": "#506784"
          },
          "hoverlabel": {
           "align": "left"
          },
          "hovermode": "closest",
          "mapbox": {
           "style": "dark"
          },
          "paper_bgcolor": "rgb(17,17,17)",
          "plot_bgcolor": "rgb(17,17,17)",
          "polar": {
           "angularaxis": {
            "gridcolor": "#506784",
            "linecolor": "#506784",
            "ticks": ""
           },
           "bgcolor": "rgb(17,17,17)",
           "radialaxis": {
            "gridcolor": "#506784",
            "linecolor": "#506784",
            "ticks": ""
           }
          },
          "scene": {
           "xaxis": {
            "backgroundcolor": "rgb(17,17,17)",
            "gridcolor": "#506784",
            "gridwidth": 2,
            "linecolor": "#506784",
            "showbackground": true,
            "ticks": "",
            "zerolinecolor": "#C8D4E3"
           },
           "yaxis": {
            "backgroundcolor": "rgb(17,17,17)",
            "gridcolor": "#506784",
            "gridwidth": 2,
            "linecolor": "#506784",
            "showbackground": true,
            "ticks": "",
            "zerolinecolor": "#C8D4E3"
           },
           "zaxis": {
            "backgroundcolor": "rgb(17,17,17)",
            "gridcolor": "#506784",
            "gridwidth": 2,
            "linecolor": "#506784",
            "showbackground": true,
            "ticks": "",
            "zerolinecolor": "#C8D4E3"
           }
          },
          "shapedefaults": {
           "line": {
            "color": "#f2f5fa"
           }
          },
          "sliderdefaults": {
           "bgcolor": "#C8D4E3",
           "bordercolor": "rgb(17,17,17)",
           "borderwidth": 1,
           "tickwidth": 0
          },
          "ternary": {
           "aaxis": {
            "gridcolor": "#506784",
            "linecolor": "#506784",
            "ticks": ""
           },
           "baxis": {
            "gridcolor": "#506784",
            "linecolor": "#506784",
            "ticks": ""
           },
           "bgcolor": "rgb(17,17,17)",
           "caxis": {
            "gridcolor": "#506784",
            "linecolor": "#506784",
            "ticks": ""
           }
          },
          "title": {
           "x": 0.05
          },
          "updatemenudefaults": {
           "bgcolor": "#506784",
           "borderwidth": 0
          },
          "xaxis": {
           "automargin": true,
           "gridcolor": "#283442",
           "linecolor": "#506784",
           "ticks": "",
           "title": {
            "standoff": 15
           },
           "zerolinecolor": "#283442",
           "zerolinewidth": 2
          },
          "yaxis": {
           "automargin": true,
           "gridcolor": "#283442",
           "linecolor": "#506784",
           "ticks": "",
           "title": {
            "standoff": 15
           },
           "zerolinecolor": "#283442",
           "zerolinewidth": 2
          }
         }
        },
        "title": {
         "text": "AAPL Distribution of Residuals"
        },
        "xaxis": {
         "anchor": "y",
         "domain": [
          0,
          1
         ],
         "title": {
          "text": "Residuals"
         }
        },
        "xaxis2": {
         "anchor": "y2",
         "domain": [
          0,
          1
         ],
         "matches": "x",
         "showgrid": true,
         "showticklabels": false
        },
        "yaxis": {
         "anchor": "x",
         "domain": [
          0,
          0.7326
         ],
         "title": {
          "text": "Density"
         }
        },
        "yaxis2": {
         "anchor": "x2",
         "domain": [
          0.7426,
          1
         ],
         "matches": "y2",
         "showgrid": false,
         "showline": false,
         "showticklabels": false,
         "ticks": ""
        }
       }
      }
     },
     "metadata": {},
     "output_type": "display_data"
    }
   ],
   "source": [
    "fig = px.histogram(residuals, nbins = 30, marginal = 'box', histnorm = 'probability density')\n",
    "\n",
    "fig.update_layout(title = 'AAPL Distribution of Residuals',\n",
    "                xaxis_title = 'Residuals',\n",
    "                yaxis_title = 'Density',\n",
    "                template = 'plotly_dark')\n",
    "\n",
    "fig.show()"
   ]
  },
  {
   "cell_type": "markdown",
   "metadata": {},
   "source": [
    "#### Overall this is a good distribution.  The distribution is centered around 0, and suggests that on average the model's predictions are unbiased.  The histogram appears somewhat bell-shaped though it is definitely not normal.  Again the highest concentration of residuals are very close to the 0 marker, indicating that most predictions are very accurate.  Speaking to the boxplot at the top, is shows a few outliers on each end.  The majority of the data points within the IQR (Interquartile Range) suggest that most predictions are fairly close to the actual values.  If anything is to be improved I can look at the outliers here and remove them so as the model isn't hindered by their bias."
   ]
  },
  {
   "cell_type": "markdown",
   "metadata": {},
   "source": [
    "## Summary of the Analysis on the NVDA Linear Regression Model\n",
    "\n",
    "#### In this notebook we developed a baseline Linear Regression model to predict the closing prices of NVDA stock.  We implemented several of our previous preprocessing steps, including feature creation and scaling, followed by model creation and evaluation.\n",
    "\n",
    "### Key Insights\n",
    "\n",
    "#### - The model performed well as a baseline, with a Mean Squared Error (RMsE) of approximately 5.6 cents.\n",
    "#### - The residuals analysis indicated that the model's errors are unbiased and normally distributed, suggesting that the model is generally reliable.\n",
    "#### - The distribution of residuals showed no significant skewness or outliers, further confirming the model's robustness for a baseline.\n",
    "\n",
    "### Potential Next Steps\n",
    "\n",
    "#### - In the next phase, we will explore more advanced models such as Decision Trees, GRU, and Transformer models to improve prediction accuracy.\n",
    "#### - We will also consider incorporating additional data and refining features based on the insights gained from this baseline model."
   ]
  },
  {
   "cell_type": "code",
   "execution_count": null,
   "metadata": {},
   "outputs": [],
   "source": []
  }
 ],
 "metadata": {
  "kernelspec": {
   "display_name": "DL-Strat",
   "language": "python",
   "name": "python3"
  },
  "language_info": {
   "codemirror_mode": {
    "name": "ipython",
    "version": 3
   },
   "file_extension": ".py",
   "mimetype": "text/x-python",
   "name": "python",
   "nbconvert_exporter": "python",
   "pygments_lexer": "ipython3",
   "version": "3.11.0"
  }
 },
 "nbformat": 4,
 "nbformat_minor": 2
}
