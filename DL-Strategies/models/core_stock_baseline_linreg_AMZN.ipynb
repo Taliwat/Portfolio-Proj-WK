{
 "cells": [
  {
   "cell_type": "markdown",
   "metadata": {},
   "source": [
    "# **Core Stock Baseline Modeling - Linear Regression for AMZN Ticker**\n",
    "## In this notebook we will examine only the Amazon stock for the periods we have selected for this project (01-01-2019 through 06-30-2024), and perform a Linear Regression model using the preprocessed dataframe that we created in our other notebook.  We will look to get an idea of how well our data is predicting with our new features that we created."
   ]
  },
  {
   "cell_type": "markdown",
   "metadata": {},
   "source": [
    "#### As usual let's start by bringing in our important libraries and logic for needing to complete this notebook."
   ]
  },
  {
   "cell_type": "code",
   "execution_count": 1,
   "metadata": {},
   "outputs": [],
   "source": [
    "import sys\n",
    "import os\n",
    "\n",
    "import numpy as np\n",
    "import pandas as pd\n",
    "from sklearn.model_selection import train_test_split\n",
    "from sklearn.linear_model import LinearRegression\n",
    "from sklearn.metrics import mean_squared_error, mean_absolute_error\n",
    "import plotly.graph_objects as go\n",
    "import plotly.express as px\n",
    "from sklearn.model_selection import cross_val_score\n",
    "\n",
    "project_root = os.path.abspath(os.path.join(os.getcwd(), '..'))\n",
    "if project_root not in sys.path:\n",
    "    sys.path.append(project_root)\n",
    "\n",
    "\n"
   ]
  },
  {
   "cell_type": "markdown",
   "metadata": {},
   "source": [
    "#### Now let's read in our data that we will use for this notebook."
   ]
  },
  {
   "cell_type": "code",
   "execution_count": 2,
   "metadata": {},
   "outputs": [
    {
     "data": {
      "text/html": [
       "<div>\n",
       "<style scoped>\n",
       "    .dataframe tbody tr th:only-of-type {\n",
       "        vertical-align: middle;\n",
       "    }\n",
       "\n",
       "    .dataframe tbody tr th {\n",
       "        vertical-align: top;\n",
       "    }\n",
       "\n",
       "    .dataframe thead th {\n",
       "        text-align: right;\n",
       "    }\n",
       "</style>\n",
       "<table border=\"1\" class=\"dataframe\">\n",
       "  <thead>\n",
       "    <tr style=\"text-align: right;\">\n",
       "      <th></th>\n",
       "      <th>Close</th>\n",
       "      <th>Volume</th>\n",
       "      <th>Open</th>\n",
       "      <th>High</th>\n",
       "      <th>Low</th>\n",
       "      <th>SMA_core</th>\n",
       "      <th>EMA_core</th>\n",
       "      <th>RSI_core</th>\n",
       "      <th>RMA_core</th>\n",
       "      <th>Close_Lag_1</th>\n",
       "      <th>...</th>\n",
       "      <th>EMA_Lag_Std_1_3</th>\n",
       "      <th>SMA_Lag_Avg_1_3</th>\n",
       "      <th>SMA_Lag_Std_1_3</th>\n",
       "      <th>RMA_Lag_Avg_1_3</th>\n",
       "      <th>RMA_Lag_Std_1_3</th>\n",
       "      <th>Close_Lag_Avg_1_3</th>\n",
       "      <th>Close_Lag_Std_1_3</th>\n",
       "      <th>Diff_Close_EMA_core</th>\n",
       "      <th>Ratio_Close_EMA_core</th>\n",
       "      <th>Ticker</th>\n",
       "    </tr>\n",
       "    <tr>\n",
       "      <th>Date</th>\n",
       "      <th></th>\n",
       "      <th></th>\n",
       "      <th></th>\n",
       "      <th></th>\n",
       "      <th></th>\n",
       "      <th></th>\n",
       "      <th></th>\n",
       "      <th></th>\n",
       "      <th></th>\n",
       "      <th></th>\n",
       "      <th></th>\n",
       "      <th></th>\n",
       "      <th></th>\n",
       "      <th></th>\n",
       "      <th></th>\n",
       "      <th></th>\n",
       "      <th></th>\n",
       "      <th></th>\n",
       "      <th></th>\n",
       "      <th></th>\n",
       "      <th></th>\n",
       "    </tr>\n",
       "  </thead>\n",
       "  <tbody>\n",
       "    <tr>\n",
       "      <th>2019-03-14</th>\n",
       "      <td>-1.013302</td>\n",
       "      <td>-0.074793</td>\n",
       "      <td>-1.012345</td>\n",
       "      <td>-1.018762</td>\n",
       "      <td>-1.009483</td>\n",
       "      <td>-1.085271</td>\n",
       "      <td>-1.049825</td>\n",
       "      <td>1.249108</td>\n",
       "      <td>0.801504</td>\n",
       "      <td>-1.013494</td>\n",
       "      <td>...</td>\n",
       "      <td>-0.081211</td>\n",
       "      <td>-1.086158</td>\n",
       "      <td>-0.085461</td>\n",
       "      <td>0.817706</td>\n",
       "      <td>-0.625300</td>\n",
       "      <td>-1.014627</td>\n",
       "      <td>-0.348813</td>\n",
       "      <td>0.037931</td>\n",
       "      <td>0.801504</td>\n",
       "      <td>AAPL</td>\n",
       "    </tr>\n",
       "    <tr>\n",
       "      <th>2019-03-15</th>\n",
       "      <td>-1.007093</td>\n",
       "      <td>0.293158</td>\n",
       "      <td>-1.009876</td>\n",
       "      <td>-1.010456</td>\n",
       "      <td>-1.006383</td>\n",
       "      <td>-1.083783</td>\n",
       "      <td>-1.048013</td>\n",
       "      <td>1.325622</td>\n",
       "      <td>0.931542</td>\n",
       "      <td>-1.013494</td>\n",
       "      <td>...</td>\n",
       "      <td>-0.081211</td>\n",
       "      <td>-1.086158</td>\n",
       "      <td>-0.085461</td>\n",
       "      <td>0.817706</td>\n",
       "      <td>-0.625300</td>\n",
       "      <td>-1.014627</td>\n",
       "      <td>-0.348813</td>\n",
       "      <td>0.074966</td>\n",
       "      <td>0.931542</td>\n",
       "      <td>AAPL</td>\n",
       "    </tr>\n",
       "    <tr>\n",
       "      <th>2019-03-18</th>\n",
       "      <td>-1.002157</td>\n",
       "      <td>-0.011968</td>\n",
       "      <td>-1.007406</td>\n",
       "      <td>-1.007730</td>\n",
       "      <td>-1.000997</td>\n",
       "      <td>-1.081366</td>\n",
       "      <td>-1.046072</td>\n",
       "      <td>1.432516</td>\n",
       "      <td>1.018034</td>\n",
       "      <td>-1.007280</td>\n",
       "      <td>...</td>\n",
       "      <td>-0.081211</td>\n",
       "      <td>-1.085413</td>\n",
       "      <td>-0.085461</td>\n",
       "      <td>0.884049</td>\n",
       "      <td>-0.625300</td>\n",
       "      <td>-1.011515</td>\n",
       "      <td>-0.348813</td>\n",
       "      <td>0.100376</td>\n",
       "      <td>1.018034</td>\n",
       "      <td>AAPL</td>\n",
       "    </tr>\n",
       "    <tr>\n",
       "      <th>2019-03-19</th>\n",
       "      <td>-1.006028</td>\n",
       "      <td>0.117158</td>\n",
       "      <td>-1.000779</td>\n",
       "      <td>-1.006187</td>\n",
       "      <td>-1.000655</td>\n",
       "      <td>-1.079347</td>\n",
       "      <td>-1.044364</td>\n",
       "      <td>1.112931</td>\n",
       "      <td>0.846961</td>\n",
       "      <td>-1.002341</td>\n",
       "      <td>...</td>\n",
       "      <td>-0.066578</td>\n",
       "      <td>-1.084358</td>\n",
       "      <td>-0.062046</td>\n",
       "      <td>0.935581</td>\n",
       "      <td>-0.515015</td>\n",
       "      <td>-1.008829</td>\n",
       "      <td>-0.323448</td>\n",
       "      <td>0.054402</td>\n",
       "      <td>0.846961</td>\n",
       "      <td>AAPL</td>\n",
       "    </tr>\n",
       "    <tr>\n",
       "      <th>2019-03-20</th>\n",
       "      <td>-1.001793</td>\n",
       "      <td>0.102615</td>\n",
       "      <td>-1.006289</td>\n",
       "      <td>-1.004901</td>\n",
       "      <td>-1.003782</td>\n",
       "      <td>-1.077225</td>\n",
       "      <td>-1.042552</td>\n",
       "      <td>1.535368</td>\n",
       "      <td>0.916237</td>\n",
       "      <td>-1.006214</td>\n",
       "      <td>...</td>\n",
       "      <td>-0.067836</td>\n",
       "      <td>-1.082380</td>\n",
       "      <td>-0.055671</td>\n",
       "      <td>0.951042</td>\n",
       "      <td>-0.666796</td>\n",
       "      <td>-1.006398</td>\n",
       "      <td>-0.386895</td>\n",
       "      <td>0.075012</td>\n",
       "      <td>0.916237</td>\n",
       "      <td>AAPL</td>\n",
       "    </tr>\n",
       "  </tbody>\n",
       "</table>\n",
       "<p>5 rows × 32 columns</p>\n",
       "</div>"
      ],
      "text/plain": [
       "               Close    Volume      Open      High       Low  SMA_core  \\\n",
       "Date                                                                     \n",
       "2019-03-14 -1.013302 -0.074793 -1.012345 -1.018762 -1.009483 -1.085271   \n",
       "2019-03-15 -1.007093  0.293158 -1.009876 -1.010456 -1.006383 -1.083783   \n",
       "2019-03-18 -1.002157 -0.011968 -1.007406 -1.007730 -1.000997 -1.081366   \n",
       "2019-03-19 -1.006028  0.117158 -1.000779 -1.006187 -1.000655 -1.079347   \n",
       "2019-03-20 -1.001793  0.102615 -1.006289 -1.004901 -1.003782 -1.077225   \n",
       "\n",
       "            EMA_core  RSI_core  RMA_core  Close_Lag_1  ...  EMA_Lag_Std_1_3  \\\n",
       "Date                                                   ...                    \n",
       "2019-03-14 -1.049825  1.249108  0.801504    -1.013494  ...        -0.081211   \n",
       "2019-03-15 -1.048013  1.325622  0.931542    -1.013494  ...        -0.081211   \n",
       "2019-03-18 -1.046072  1.432516  1.018034    -1.007280  ...        -0.081211   \n",
       "2019-03-19 -1.044364  1.112931  0.846961    -1.002341  ...        -0.066578   \n",
       "2019-03-20 -1.042552  1.535368  0.916237    -1.006214  ...        -0.067836   \n",
       "\n",
       "            SMA_Lag_Avg_1_3  SMA_Lag_Std_1_3  RMA_Lag_Avg_1_3  \\\n",
       "Date                                                            \n",
       "2019-03-14        -1.086158        -0.085461         0.817706   \n",
       "2019-03-15        -1.086158        -0.085461         0.817706   \n",
       "2019-03-18        -1.085413        -0.085461         0.884049   \n",
       "2019-03-19        -1.084358        -0.062046         0.935581   \n",
       "2019-03-20        -1.082380        -0.055671         0.951042   \n",
       "\n",
       "            RMA_Lag_Std_1_3  Close_Lag_Avg_1_3  Close_Lag_Std_1_3  \\\n",
       "Date                                                                \n",
       "2019-03-14        -0.625300          -1.014627          -0.348813   \n",
       "2019-03-15        -0.625300          -1.014627          -0.348813   \n",
       "2019-03-18        -0.625300          -1.011515          -0.348813   \n",
       "2019-03-19        -0.515015          -1.008829          -0.323448   \n",
       "2019-03-20        -0.666796          -1.006398          -0.386895   \n",
       "\n",
       "            Diff_Close_EMA_core  Ratio_Close_EMA_core  Ticker  \n",
       "Date                                                           \n",
       "2019-03-14             0.037931              0.801504    AAPL  \n",
       "2019-03-15             0.074966              0.931542    AAPL  \n",
       "2019-03-18             0.100376              1.018034    AAPL  \n",
       "2019-03-19             0.054402              0.846961    AAPL  \n",
       "2019-03-20             0.075012              0.916237    AAPL  \n",
       "\n",
       "[5 rows x 32 columns]"
      ]
     },
     "execution_count": 2,
     "metadata": {},
     "output_type": "execute_result"
    }
   ],
   "source": [
    "# Now let's access the main core_stock_data.csv file\n",
    "csv_path = os.path.join(project_root, 'data', 'core_stock_preprocessed.csv')\n",
    "preprocessed_df = pd.read_csv(csv_path, parse_dates=['Date'], index_col= 'Date')\n",
    "preprocessed_df.head()"
   ]
  },
  {
   "cell_type": "markdown",
   "metadata": {},
   "source": [
    "#### Great now let's grab the data just for our subject AAPL ticker to use in our Linear Regression model."
   ]
  },
  {
   "cell_type": "code",
   "execution_count": 13,
   "metadata": {},
   "outputs": [
    {
     "name": "stdout",
     "output_type": "stream",
     "text": [
      "               Close    Volume      Open      High       Low  SMA_core  \\\n",
      "Date                                                                     \n",
      "2019-01-02 -0.690891  0.313921 -0.728676 -0.693253 -0.721468  0.293433   \n",
      "2019-01-03 -0.711078  0.194054 -0.700184 -0.701153 -0.702457  0.293433   \n",
      "2019-01-04 -0.672050  0.456631 -0.694991 -0.672350 -0.691318  0.293433   \n",
      "2019-01-07 -0.643928  0.315123 -0.657403 -0.651488 -0.654074  0.293433   \n",
      "2019-01-08 -0.629862  0.420796 -0.624976 -0.629860 -0.639666  0.293433   \n",
      "\n",
      "            EMA_core  RSI_core  RMA_core  Close_Lag_1  ...  EMA_Lag_Std_1_3  \\\n",
      "Date                                                   ...                    \n",
      "2019-01-02 -0.677486  0.616139 -0.370774     0.403082  ...         0.020027   \n",
      "2019-01-03 -0.678303 -3.408328 -0.694318    -0.690864  ...        14.263733   \n",
      "2019-01-04 -0.677509  0.644498 -0.056414    -0.711065  ...        14.301870   \n",
      "2019-01-07 -0.675608  1.319481  0.379808    -0.672010  ...        -0.101272   \n",
      "2019-01-08 -0.673214  1.516635  0.572347    -0.643869  ...        -0.078673   \n",
      "\n",
      "            SMA_Lag_Avg_1_3  SMA_Lag_Std_1_3  RMA_Lag_Avg_1_3  \\\n",
      "Date                                                            \n",
      "2019-01-02         0.288953         0.042950         0.622161   \n",
      "2019-01-03         0.293017        -0.029453         0.271897   \n",
      "2019-01-04         0.294897        -0.112260        -0.212449   \n",
      "2019-01-07         0.294897        -0.112260        -0.381563   \n",
      "2019-01-08         0.294897        -0.112260        -0.126275   \n",
      "\n",
      "            RMA_Lag_Std_1_3  Close_Lag_Avg_1_3  Close_Lag_Std_1_3  \\\n",
      "Date                                                                \n",
      "2019-01-02        -0.245685           0.421571          -0.082066   \n",
      "2019-01-03         2.471998           0.050325          13.175520   \n",
      "2019-01-04         2.564055          -0.332979          13.088518   \n",
      "2019-01-07         0.843798          -0.691924          -0.027527   \n",
      "2019-01-08         2.275585          -0.676233           0.274154   \n",
      "\n",
      "            Diff_Close_EMA_core  Ratio_Close_EMA_core  Ticker  \n",
      "Date                                                           \n",
      "2019-01-02            -0.283065             -0.370774    AMZN  \n",
      "2019-01-03            -0.444393             -0.694318    AMZN  \n",
      "2019-01-04            -0.126166             -0.056414    AMZN  \n",
      "2019-01-07             0.092420              0.379808    AMZN  \n",
      "2019-01-08             0.190105              0.572347    AMZN  \n",
      "\n",
      "[5 rows x 32 columns]\n"
     ]
    },
    {
     "data": {
      "text/plain": [
       "(1382, 32)"
      ]
     },
     "execution_count": 13,
     "metadata": {},
     "output_type": "execute_result"
    }
   ],
   "source": [
    "amzn_data = preprocessed_df[preprocessed_df['Ticker'] == 'AMZN']\n",
    "print(amzn_data.head())\n",
    "amzn_data.shape"
   ]
  },
  {
   "cell_type": "markdown",
   "metadata": {},
   "source": [
    "#### Now let's prepare our Linear Regression model.  We will be dropping the Ticker and Close columns for the X as Ticker is an improper format and our Close feature will be our y target.  The Date feature is our index so it won't be included in the model as it will automatically be excluded from the feature set."
   ]
  },
  {
   "cell_type": "code",
   "execution_count": 26,
   "metadata": {},
   "outputs": [],
   "source": [
    "X = amzn_data[['EMA_core', 'SMA_core', 'RSI_core', 'Close_Lag_1']]\n",
    "y = amzn_data['Close']"
   ]
  },
  {
   "cell_type": "markdown",
   "metadata": {},
   "source": [
    "#### Let's now set up the rest of the model and run our first set of predictions on it.  I will be looking for the MAE (Mean Absolute Error) and the RMSE (Root Mean Squared Error) for metrics here."
   ]
  },
  {
   "cell_type": "code",
   "execution_count": 27,
   "metadata": {},
   "outputs": [
    {
     "data": {
      "text/html": [
       "<style>#sk-container-id-4 {\n",
       "  /* Definition of color scheme common for light and dark mode */\n",
       "  --sklearn-color-text: black;\n",
       "  --sklearn-color-line: gray;\n",
       "  /* Definition of color scheme for unfitted estimators */\n",
       "  --sklearn-color-unfitted-level-0: #fff5e6;\n",
       "  --sklearn-color-unfitted-level-1: #f6e4d2;\n",
       "  --sklearn-color-unfitted-level-2: #ffe0b3;\n",
       "  --sklearn-color-unfitted-level-3: chocolate;\n",
       "  /* Definition of color scheme for fitted estimators */\n",
       "  --sklearn-color-fitted-level-0: #f0f8ff;\n",
       "  --sklearn-color-fitted-level-1: #d4ebff;\n",
       "  --sklearn-color-fitted-level-2: #b3dbfd;\n",
       "  --sklearn-color-fitted-level-3: cornflowerblue;\n",
       "\n",
       "  /* Specific color for light theme */\n",
       "  --sklearn-color-text-on-default-background: var(--sg-text-color, var(--theme-code-foreground, var(--jp-content-font-color1, black)));\n",
       "  --sklearn-color-background: var(--sg-background-color, var(--theme-background, var(--jp-layout-color0, white)));\n",
       "  --sklearn-color-border-box: var(--sg-text-color, var(--theme-code-foreground, var(--jp-content-font-color1, black)));\n",
       "  --sklearn-color-icon: #696969;\n",
       "\n",
       "  @media (prefers-color-scheme: dark) {\n",
       "    /* Redefinition of color scheme for dark theme */\n",
       "    --sklearn-color-text-on-default-background: var(--sg-text-color, var(--theme-code-foreground, var(--jp-content-font-color1, white)));\n",
       "    --sklearn-color-background: var(--sg-background-color, var(--theme-background, var(--jp-layout-color0, #111)));\n",
       "    --sklearn-color-border-box: var(--sg-text-color, var(--theme-code-foreground, var(--jp-content-font-color1, white)));\n",
       "    --sklearn-color-icon: #878787;\n",
       "  }\n",
       "}\n",
       "\n",
       "#sk-container-id-4 {\n",
       "  color: var(--sklearn-color-text);\n",
       "}\n",
       "\n",
       "#sk-container-id-4 pre {\n",
       "  padding: 0;\n",
       "}\n",
       "\n",
       "#sk-container-id-4 input.sk-hidden--visually {\n",
       "  border: 0;\n",
       "  clip: rect(1px 1px 1px 1px);\n",
       "  clip: rect(1px, 1px, 1px, 1px);\n",
       "  height: 1px;\n",
       "  margin: -1px;\n",
       "  overflow: hidden;\n",
       "  padding: 0;\n",
       "  position: absolute;\n",
       "  width: 1px;\n",
       "}\n",
       "\n",
       "#sk-container-id-4 div.sk-dashed-wrapped {\n",
       "  border: 1px dashed var(--sklearn-color-line);\n",
       "  margin: 0 0.4em 0.5em 0.4em;\n",
       "  box-sizing: border-box;\n",
       "  padding-bottom: 0.4em;\n",
       "  background-color: var(--sklearn-color-background);\n",
       "}\n",
       "\n",
       "#sk-container-id-4 div.sk-container {\n",
       "  /* jupyter's `normalize.less` sets `[hidden] { display: none; }`\n",
       "     but bootstrap.min.css set `[hidden] { display: none !important; }`\n",
       "     so we also need the `!important` here to be able to override the\n",
       "     default hidden behavior on the sphinx rendered scikit-learn.org.\n",
       "     See: https://github.com/scikit-learn/scikit-learn/issues/21755 */\n",
       "  display: inline-block !important;\n",
       "  position: relative;\n",
       "}\n",
       "\n",
       "#sk-container-id-4 div.sk-text-repr-fallback {\n",
       "  display: none;\n",
       "}\n",
       "\n",
       "div.sk-parallel-item,\n",
       "div.sk-serial,\n",
       "div.sk-item {\n",
       "  /* draw centered vertical line to link estimators */\n",
       "  background-image: linear-gradient(var(--sklearn-color-text-on-default-background), var(--sklearn-color-text-on-default-background));\n",
       "  background-size: 2px 100%;\n",
       "  background-repeat: no-repeat;\n",
       "  background-position: center center;\n",
       "}\n",
       "\n",
       "/* Parallel-specific style estimator block */\n",
       "\n",
       "#sk-container-id-4 div.sk-parallel-item::after {\n",
       "  content: \"\";\n",
       "  width: 100%;\n",
       "  border-bottom: 2px solid var(--sklearn-color-text-on-default-background);\n",
       "  flex-grow: 1;\n",
       "}\n",
       "\n",
       "#sk-container-id-4 div.sk-parallel {\n",
       "  display: flex;\n",
       "  align-items: stretch;\n",
       "  justify-content: center;\n",
       "  background-color: var(--sklearn-color-background);\n",
       "  position: relative;\n",
       "}\n",
       "\n",
       "#sk-container-id-4 div.sk-parallel-item {\n",
       "  display: flex;\n",
       "  flex-direction: column;\n",
       "}\n",
       "\n",
       "#sk-container-id-4 div.sk-parallel-item:first-child::after {\n",
       "  align-self: flex-end;\n",
       "  width: 50%;\n",
       "}\n",
       "\n",
       "#sk-container-id-4 div.sk-parallel-item:last-child::after {\n",
       "  align-self: flex-start;\n",
       "  width: 50%;\n",
       "}\n",
       "\n",
       "#sk-container-id-4 div.sk-parallel-item:only-child::after {\n",
       "  width: 0;\n",
       "}\n",
       "\n",
       "/* Serial-specific style estimator block */\n",
       "\n",
       "#sk-container-id-4 div.sk-serial {\n",
       "  display: flex;\n",
       "  flex-direction: column;\n",
       "  align-items: center;\n",
       "  background-color: var(--sklearn-color-background);\n",
       "  padding-right: 1em;\n",
       "  padding-left: 1em;\n",
       "}\n",
       "\n",
       "\n",
       "/* Toggleable style: style used for estimator/Pipeline/ColumnTransformer box that is\n",
       "clickable and can be expanded/collapsed.\n",
       "- Pipeline and ColumnTransformer use this feature and define the default style\n",
       "- Estimators will overwrite some part of the style using the `sk-estimator` class\n",
       "*/\n",
       "\n",
       "/* Pipeline and ColumnTransformer style (default) */\n",
       "\n",
       "#sk-container-id-4 div.sk-toggleable {\n",
       "  /* Default theme specific background. It is overwritten whether we have a\n",
       "  specific estimator or a Pipeline/ColumnTransformer */\n",
       "  background-color: var(--sklearn-color-background);\n",
       "}\n",
       "\n",
       "/* Toggleable label */\n",
       "#sk-container-id-4 label.sk-toggleable__label {\n",
       "  cursor: pointer;\n",
       "  display: block;\n",
       "  width: 100%;\n",
       "  margin-bottom: 0;\n",
       "  padding: 0.5em;\n",
       "  box-sizing: border-box;\n",
       "  text-align: center;\n",
       "}\n",
       "\n",
       "#sk-container-id-4 label.sk-toggleable__label-arrow:before {\n",
       "  /* Arrow on the left of the label */\n",
       "  content: \"▸\";\n",
       "  float: left;\n",
       "  margin-right: 0.25em;\n",
       "  color: var(--sklearn-color-icon);\n",
       "}\n",
       "\n",
       "#sk-container-id-4 label.sk-toggleable__label-arrow:hover:before {\n",
       "  color: var(--sklearn-color-text);\n",
       "}\n",
       "\n",
       "/* Toggleable content - dropdown */\n",
       "\n",
       "#sk-container-id-4 div.sk-toggleable__content {\n",
       "  max-height: 0;\n",
       "  max-width: 0;\n",
       "  overflow: hidden;\n",
       "  text-align: left;\n",
       "  /* unfitted */\n",
       "  background-color: var(--sklearn-color-unfitted-level-0);\n",
       "}\n",
       "\n",
       "#sk-container-id-4 div.sk-toggleable__content.fitted {\n",
       "  /* fitted */\n",
       "  background-color: var(--sklearn-color-fitted-level-0);\n",
       "}\n",
       "\n",
       "#sk-container-id-4 div.sk-toggleable__content pre {\n",
       "  margin: 0.2em;\n",
       "  border-radius: 0.25em;\n",
       "  color: var(--sklearn-color-text);\n",
       "  /* unfitted */\n",
       "  background-color: var(--sklearn-color-unfitted-level-0);\n",
       "}\n",
       "\n",
       "#sk-container-id-4 div.sk-toggleable__content.fitted pre {\n",
       "  /* unfitted */\n",
       "  background-color: var(--sklearn-color-fitted-level-0);\n",
       "}\n",
       "\n",
       "#sk-container-id-4 input.sk-toggleable__control:checked~div.sk-toggleable__content {\n",
       "  /* Expand drop-down */\n",
       "  max-height: 200px;\n",
       "  max-width: 100%;\n",
       "  overflow: auto;\n",
       "}\n",
       "\n",
       "#sk-container-id-4 input.sk-toggleable__control:checked~label.sk-toggleable__label-arrow:before {\n",
       "  content: \"▾\";\n",
       "}\n",
       "\n",
       "/* Pipeline/ColumnTransformer-specific style */\n",
       "\n",
       "#sk-container-id-4 div.sk-label input.sk-toggleable__control:checked~label.sk-toggleable__label {\n",
       "  color: var(--sklearn-color-text);\n",
       "  background-color: var(--sklearn-color-unfitted-level-2);\n",
       "}\n",
       "\n",
       "#sk-container-id-4 div.sk-label.fitted input.sk-toggleable__control:checked~label.sk-toggleable__label {\n",
       "  background-color: var(--sklearn-color-fitted-level-2);\n",
       "}\n",
       "\n",
       "/* Estimator-specific style */\n",
       "\n",
       "/* Colorize estimator box */\n",
       "#sk-container-id-4 div.sk-estimator input.sk-toggleable__control:checked~label.sk-toggleable__label {\n",
       "  /* unfitted */\n",
       "  background-color: var(--sklearn-color-unfitted-level-2);\n",
       "}\n",
       "\n",
       "#sk-container-id-4 div.sk-estimator.fitted input.sk-toggleable__control:checked~label.sk-toggleable__label {\n",
       "  /* fitted */\n",
       "  background-color: var(--sklearn-color-fitted-level-2);\n",
       "}\n",
       "\n",
       "#sk-container-id-4 div.sk-label label.sk-toggleable__label,\n",
       "#sk-container-id-4 div.sk-label label {\n",
       "  /* The background is the default theme color */\n",
       "  color: var(--sklearn-color-text-on-default-background);\n",
       "}\n",
       "\n",
       "/* On hover, darken the color of the background */\n",
       "#sk-container-id-4 div.sk-label:hover label.sk-toggleable__label {\n",
       "  color: var(--sklearn-color-text);\n",
       "  background-color: var(--sklearn-color-unfitted-level-2);\n",
       "}\n",
       "\n",
       "/* Label box, darken color on hover, fitted */\n",
       "#sk-container-id-4 div.sk-label.fitted:hover label.sk-toggleable__label.fitted {\n",
       "  color: var(--sklearn-color-text);\n",
       "  background-color: var(--sklearn-color-fitted-level-2);\n",
       "}\n",
       "\n",
       "/* Estimator label */\n",
       "\n",
       "#sk-container-id-4 div.sk-label label {\n",
       "  font-family: monospace;\n",
       "  font-weight: bold;\n",
       "  display: inline-block;\n",
       "  line-height: 1.2em;\n",
       "}\n",
       "\n",
       "#sk-container-id-4 div.sk-label-container {\n",
       "  text-align: center;\n",
       "}\n",
       "\n",
       "/* Estimator-specific */\n",
       "#sk-container-id-4 div.sk-estimator {\n",
       "  font-family: monospace;\n",
       "  border: 1px dotted var(--sklearn-color-border-box);\n",
       "  border-radius: 0.25em;\n",
       "  box-sizing: border-box;\n",
       "  margin-bottom: 0.5em;\n",
       "  /* unfitted */\n",
       "  background-color: var(--sklearn-color-unfitted-level-0);\n",
       "}\n",
       "\n",
       "#sk-container-id-4 div.sk-estimator.fitted {\n",
       "  /* fitted */\n",
       "  background-color: var(--sklearn-color-fitted-level-0);\n",
       "}\n",
       "\n",
       "/* on hover */\n",
       "#sk-container-id-4 div.sk-estimator:hover {\n",
       "  /* unfitted */\n",
       "  background-color: var(--sklearn-color-unfitted-level-2);\n",
       "}\n",
       "\n",
       "#sk-container-id-4 div.sk-estimator.fitted:hover {\n",
       "  /* fitted */\n",
       "  background-color: var(--sklearn-color-fitted-level-2);\n",
       "}\n",
       "\n",
       "/* Specification for estimator info (e.g. \"i\" and \"?\") */\n",
       "\n",
       "/* Common style for \"i\" and \"?\" */\n",
       "\n",
       ".sk-estimator-doc-link,\n",
       "a:link.sk-estimator-doc-link,\n",
       "a:visited.sk-estimator-doc-link {\n",
       "  float: right;\n",
       "  font-size: smaller;\n",
       "  line-height: 1em;\n",
       "  font-family: monospace;\n",
       "  background-color: var(--sklearn-color-background);\n",
       "  border-radius: 1em;\n",
       "  height: 1em;\n",
       "  width: 1em;\n",
       "  text-decoration: none !important;\n",
       "  margin-left: 1ex;\n",
       "  /* unfitted */\n",
       "  border: var(--sklearn-color-unfitted-level-1) 1pt solid;\n",
       "  color: var(--sklearn-color-unfitted-level-1);\n",
       "}\n",
       "\n",
       ".sk-estimator-doc-link.fitted,\n",
       "a:link.sk-estimator-doc-link.fitted,\n",
       "a:visited.sk-estimator-doc-link.fitted {\n",
       "  /* fitted */\n",
       "  border: var(--sklearn-color-fitted-level-1) 1pt solid;\n",
       "  color: var(--sklearn-color-fitted-level-1);\n",
       "}\n",
       "\n",
       "/* On hover */\n",
       "div.sk-estimator:hover .sk-estimator-doc-link:hover,\n",
       ".sk-estimator-doc-link:hover,\n",
       "div.sk-label-container:hover .sk-estimator-doc-link:hover,\n",
       ".sk-estimator-doc-link:hover {\n",
       "  /* unfitted */\n",
       "  background-color: var(--sklearn-color-unfitted-level-3);\n",
       "  color: var(--sklearn-color-background);\n",
       "  text-decoration: none;\n",
       "}\n",
       "\n",
       "div.sk-estimator.fitted:hover .sk-estimator-doc-link.fitted:hover,\n",
       ".sk-estimator-doc-link.fitted:hover,\n",
       "div.sk-label-container:hover .sk-estimator-doc-link.fitted:hover,\n",
       ".sk-estimator-doc-link.fitted:hover {\n",
       "  /* fitted */\n",
       "  background-color: var(--sklearn-color-fitted-level-3);\n",
       "  color: var(--sklearn-color-background);\n",
       "  text-decoration: none;\n",
       "}\n",
       "\n",
       "/* Span, style for the box shown on hovering the info icon */\n",
       ".sk-estimator-doc-link span {\n",
       "  display: none;\n",
       "  z-index: 9999;\n",
       "  position: relative;\n",
       "  font-weight: normal;\n",
       "  right: .2ex;\n",
       "  padding: .5ex;\n",
       "  margin: .5ex;\n",
       "  width: min-content;\n",
       "  min-width: 20ex;\n",
       "  max-width: 50ex;\n",
       "  color: var(--sklearn-color-text);\n",
       "  box-shadow: 2pt 2pt 4pt #999;\n",
       "  /* unfitted */\n",
       "  background: var(--sklearn-color-unfitted-level-0);\n",
       "  border: .5pt solid var(--sklearn-color-unfitted-level-3);\n",
       "}\n",
       "\n",
       ".sk-estimator-doc-link.fitted span {\n",
       "  /* fitted */\n",
       "  background: var(--sklearn-color-fitted-level-0);\n",
       "  border: var(--sklearn-color-fitted-level-3);\n",
       "}\n",
       "\n",
       ".sk-estimator-doc-link:hover span {\n",
       "  display: block;\n",
       "}\n",
       "\n",
       "/* \"?\"-specific style due to the `<a>` HTML tag */\n",
       "\n",
       "#sk-container-id-4 a.estimator_doc_link {\n",
       "  float: right;\n",
       "  font-size: 1rem;\n",
       "  line-height: 1em;\n",
       "  font-family: monospace;\n",
       "  background-color: var(--sklearn-color-background);\n",
       "  border-radius: 1rem;\n",
       "  height: 1rem;\n",
       "  width: 1rem;\n",
       "  text-decoration: none;\n",
       "  /* unfitted */\n",
       "  color: var(--sklearn-color-unfitted-level-1);\n",
       "  border: var(--sklearn-color-unfitted-level-1) 1pt solid;\n",
       "}\n",
       "\n",
       "#sk-container-id-4 a.estimator_doc_link.fitted {\n",
       "  /* fitted */\n",
       "  border: var(--sklearn-color-fitted-level-1) 1pt solid;\n",
       "  color: var(--sklearn-color-fitted-level-1);\n",
       "}\n",
       "\n",
       "/* On hover */\n",
       "#sk-container-id-4 a.estimator_doc_link:hover {\n",
       "  /* unfitted */\n",
       "  background-color: var(--sklearn-color-unfitted-level-3);\n",
       "  color: var(--sklearn-color-background);\n",
       "  text-decoration: none;\n",
       "}\n",
       "\n",
       "#sk-container-id-4 a.estimator_doc_link.fitted:hover {\n",
       "  /* fitted */\n",
       "  background-color: var(--sklearn-color-fitted-level-3);\n",
       "}\n",
       "</style><div id=\"sk-container-id-4\" class=\"sk-top-container\"><div class=\"sk-text-repr-fallback\"><pre>LinearRegression()</pre><b>In a Jupyter environment, please rerun this cell to show the HTML representation or trust the notebook. <br />On GitHub, the HTML representation is unable to render, please try loading this page with nbviewer.org.</b></div><div class=\"sk-container\" hidden><div class=\"sk-item\"><div class=\"sk-estimator fitted sk-toggleable\"><input class=\"sk-toggleable__control sk-hidden--visually\" id=\"sk-estimator-id-4\" type=\"checkbox\" checked><label for=\"sk-estimator-id-4\" class=\"sk-toggleable__label fitted sk-toggleable__label-arrow fitted\">&nbsp;&nbsp;LinearRegression<a class=\"sk-estimator-doc-link fitted\" rel=\"noreferrer\" target=\"_blank\" href=\"https://scikit-learn.org/1.5/modules/generated/sklearn.linear_model.LinearRegression.html\">?<span>Documentation for LinearRegression</span></a><span class=\"sk-estimator-doc-link fitted\">i<span>Fitted</span></span></label><div class=\"sk-toggleable__content fitted\"><pre>LinearRegression()</pre></div> </div></div></div></div>"
      ],
      "text/plain": [
       "LinearRegression()"
      ]
     },
     "execution_count": 27,
     "metadata": {},
     "output_type": "execute_result"
    }
   ],
   "source": [
    "X_train, X_test, y_train, y_test = train_test_split(X, y, test_size = 0.2, random_state = 42)\n",
    "model = LinearRegression()\n",
    "model.fit(X_train, y_train)"
   ]
  },
  {
   "cell_type": "markdown",
   "metadata": {},
   "source": [
    "#### Now let's make our predictions and see where we end up."
   ]
  },
  {
   "cell_type": "code",
   "execution_count": 28,
   "metadata": {},
   "outputs": [],
   "source": [
    "y_pred = model.predict(X_test)"
   ]
  },
  {
   "cell_type": "markdown",
   "metadata": {},
   "source": [
    "#### Let's retrieve our MAE and RMSE metrics for performance."
   ]
  },
  {
   "cell_type": "code",
   "execution_count": 29,
   "metadata": {},
   "outputs": [
    {
     "name": "stdout",
     "output_type": "stream",
     "text": [
      "Mean Absolute Error (MAE): 0.021889577217940433\n",
      "Root Mean Squared Error (RMSE): 0.0009467809395291042\n"
     ]
    }
   ],
   "source": [
    "mae = mean_absolute_error(y_test, y_pred)\n",
    "rmse = mean_squared_error(y_test, y_pred)\n",
    "\n",
    "print(f'Mean Absolute Error (MAE): {mae}')\n",
    "print(f'Root Mean Squared Error (RMSE): {rmse}')"
   ]
  },
  {
   "cell_type": "markdown",
   "metadata": {},
   "source": [
    "#### Great scores, let's verify with cross validation just to make sure that our data isn't being misinterpreted by the model."
   ]
  },
  {
   "cell_type": "code",
   "execution_count": 30,
   "metadata": {},
   "outputs": [
    {
     "name": "stdout",
     "output_type": "stream",
     "text": [
      "Cross-validated RMSE Scores: [0.06953152 0.03190291 0.02986046 0.04910314 0.02730232]\n",
      "Mean RMSE: 0.04154006938868398\n"
     ]
    }
   ],
   "source": [
    "scores = cross_val_score(model, X, y, cv = 5, scoring = 'neg_mean_squared_error')\n",
    "rmse_scores = np.sqrt(-scores)\n",
    "\n",
    "print(f'Cross-validated RMSE Scores: {rmse_scores}')\n",
    "print(f'Mean RMSE: {rmse_scores.mean()}')"
   ]
  },
  {
   "cell_type": "markdown",
   "metadata": {},
   "source": [
    "#### Our original scores were quite unrealistic, we have since tested with our model and the scores above reflect a great resting place to go forward with.  4.1 cents of error in our AMZN data in predicting future prices, not too bad!"
   ]
  },
  {
   "cell_type": "code",
   "execution_count": 31,
   "metadata": {},
   "outputs": [
    {
     "name": "stdout",
     "output_type": "stream",
     "text": [
      "Close_Lag_1    0.992645\n",
      "EMA_core       0.963857\n",
      "SMA_core       0.812807\n",
      "RSI_core       0.084793\n",
      "dtype: float64\n"
     ]
    }
   ],
   "source": [
    "correlations = X.corrwith(y)\n",
    "print(correlations.sort_values(ascending = False))"
   ]
  },
  {
   "cell_type": "markdown",
   "metadata": {},
   "source": [
    "#### There are several feature columns that are influencing our Close target because they are correlating too well.  Let's go back to our X and y assignment at the top of our notebook and drop some more of those columns to balance our score."
   ]
  },
  {
   "cell_type": "markdown",
   "metadata": {},
   "source": [
    "#### Now that our predictions look good let's make a few plots to visualize our results, starting with a plot that shows Actual vs Predicted values."
   ]
  },
  {
   "cell_type": "code",
   "execution_count": 32,
   "metadata": {},
   "outputs": [
    {
     "data": {
      "application/vnd.plotly.v1+json": {
       "config": {
        "plotlyServerURL": "https://plot.ly"
       },
       "data": [
        {
         "mode": "markers",
         "name": "Predicted vs Actual",
         "type": "scatter",
         "x": [
          -0.5107348333436657,
          0.3193936596324355,
          -0.5098930417918709,
          0.1490997916430451,
          0.0745660754631884,
          0.2235607222295565,
          -0.4910257949748201,
          -0.5717949688922057,
          0.3104978012422814,
          0.1526799231048271,
          0.0463612616061722,
          0.241929173656917,
          0.1875668984389233,
          -0.5853985011438849,
          -0.560945316829703,
          -0.5756349243075746,
          0.0504922801077837,
          0.24255792066697,
          -0.1588715940803148,
          -0.5747151934984177,
          -0.5648996042991067,
          -0.5907141487851183,
          0.2079514632296667,
          0.2171487713212358,
          0.1630982531326908,
          -0.1752914054993434,
          -0.2493627190861827,
          0.1147012250834668,
          -0.5018806007013398,
          0.2453275789967518,
          0.3412589910259215,
          -0.1726933245377526,
          -0.5477522540951794,
          -0.0384244401845126,
          -0.5332030641399819,
          -0.2336962940592752,
          0.1586399373224414,
          -0.5593501388857868,
          0.1955014795592309,
          0.0117705030223356,
          0.2262368217356482,
          -0.1673932171757086,
          -0.4253306918709612,
          -0.4701475884584031,
          -0.5722885313307404,
          -0.4561959063806026,
          -0.4745435845776184,
          -0.5759518350010401,
          0.2421110583531417,
          0.2498845280075694,
          -0.3082092370087874,
          0.1757821338623518,
          -0.4508957990185586,
          -0.5022078980099777,
          -0.6234343651922627,
          0.2616018985162285,
          -0.6144606468318852,
          0.1258106218124177,
          -0.5903296061623242,
          0.1198506075948035,
          0.3186816611267261,
          0.2305755725407072,
          -0.5367156429595741,
          -0.1862968567894318,
          -0.556689658946023,
          -0.5869261264456114,
          0.2851041921757364,
          0.1441375267790887,
          -0.5359674102314692,
          0.0968887350728139,
          -0.2147822678303796,
          0.1344362696338126,
          -0.1026490840136624,
          -0.6449309321035601,
          -0.5319559567350481,
          0.1876241437530794,
          -0.4247071778120639,
          -0.324836939305541,
          -0.5044162826847575,
          0.0476603020869676,
          0.2077748114845976,
          -0.5715143717082741,
          -0.1800718649542139,
          -0.502665226226117,
          -0.2659384090199356,
          0.1045738788547071,
          0.3760213269779491,
          0.2585049428778088,
          -0.5550216954087615,
          0.222932133793781,
          -0.1057668128824269,
          0.2619604349575223,
          0.2142907871189195,
          -0.1061824360635994,
          -0.4229405017870956,
          -0.544582592150553,
          0.4710071605907394,
          0.3695989101673174,
          0.1877695563654927,
          0.0682630650834697,
          0.11787604069211,
          0.221290097150881,
          -0.6457778773193716,
          0.1493284557511149,
          -0.5329640134167397,
          -0.4067284226715144,
          -0.3511295059508981,
          -0.0401911162094811,
          0.2677437974300674,
          0.1844856416539702,
          0.230596345771052,
          0.4339066469178462,
          -0.51990082301544,
          -0.1743560551238586,
          -0.5757647966407986,
          0.1778450266375798,
          0.0245530169525648,
          -0.4620208153138374,
          0.2302535081832249,
          0.2594194407358101,
          -0.5453672176753304,
          0.3170968697979822,
          -0.3041977835123662,
          0.4180064041188521,
          0.2360056315231141,
          0.1888971780523745,
          0.3002458156314532,
          -0.4847747969581019,
          -0.080503076149106,
          0.1145556538967761,
          0.1134437310633609,
          0.3900510276002507,
          -0.1994015936514208,
          0.2167329895657859,
          0.4201679300946486,
          0.2285751580307909,
          -0.560618019521065,
          0.1753352715485235,
          0.412498485166222,
          -0.4951671208044652,
          -0.4306983518751952,
          0.034010069710582,
          0.2588634793191025,
          0.4319320800151527,
          0.1217056094923065,
          -0.1538416179998911,
          0.0139528022284765,
          -0.5731614827280522,
          0.3252028697122034,
          0.3015499304891267,
          -0.6287033127087898,
          -0.5790539443034767,
          -0.2120802414299263,
          0.3218981817703362,
          0.248419301684016,
          -0.0949587072806136,
          -0.1061824360635994,
          -0.1481675132045027,
          0.1255040977341245,
          0.1506690426925998,
          0.1830359556096059,
          -0.3173544534502172,
          0.1193257267364742,
          -0.138086946387588,
          -0.260399330221788,
          -0.2939717247958996,
          -0.0982843270271031,
          -0.4895968821608006,
          -0.4717843921501476,
          0.1159327129220725,
          0.2217317265135538,
          -0.0063121975570764,
          -0.5265935296819696,
          -0.0229399791409688,
          0.2498742206795358,
          -0.19680351268983,
          0.1434827735875355,
          -0.2322413750637556,
          0.2091206313772381,
          -0.0506874647818456,
          -0.5327094224143085,
          -0.2299238119989576,
          0.1840232390609527,
          -0.4102203075479003,
          0.147151230921852,
          -0.212391998459375,
          0.2087776352151335,
          -0.3172505080113547,
          -0.0580659259111683,
          -0.2313060246882708,
          0.4197730801438209,
          -0.289918724838789,
          0.3961824606117781,
          0.0144412110029943,
          0.405015999310898,
          -0.5313896087031682,
          0.2838727043371308,
          -0.5123144710083924,
          0.2032749492136587,
          0.2404431741030188,
          0.2666058684151519,
          -0.0846704081602515,
          -0.2208097554030451,
          -0.5687136328201139,
          0.2153871696731455,
          -0.3093523989748583,
          -0.5124184164472552,
          0.1487412552017514,
          -0.4088069350130701,
          -0.5667702257629377,
          0.268928505856828,
          -0.492465094404012,
          -0.5066869870505717,
          0.3607445982378528,
          0.2197260790524819,
          -0.3121582915270355,
          0.2441687181772141,
          0.001274154449971,
          0.3131011151550277,
          0.4533402417667765,
          -0.1359044886071697,
          -0.224405506431155,
          -0.5049359305919312,
          -0.1547145693972029,
          -0.4761907748845352,
          0.2474370926095474,
          -0.5231121107078948,
          -0.1523243793133371,
          0.3337141854795635,
          0.2159172834826302,
          -0.5191370500081463,
          -0.1154315979438917,
          -0.056403274612201,
          -0.4706412301840766,
          -0.5433927300597756,
          0.1285905874702332,
          0.3212018821180934,
          0.127223994347248,
          -0.3947773136779072,
          -0.0541169506800588,
          0.1434307612245349,
          -0.1990742170556444,
          -0.6384772761602725,
          -0.5789292256342694,
          0.2651820299780105,
          -0.5078977016588327,
          -0.5512649122019103,
          -0.277344022499146,
          -0.6551309846385264,
          0.2613940076385035,
          -0.5674665254151804,
          0.2273955239809085,
          -0.2215528344671328,
          -0.3221349129050878,
          0.0763847638511575,
          -0.5867806345460594,
          -0.4999528132104913,
          0.2246675706860936,
          -0.2429973890154295,
          0.2931789529573018,
          -0.6176926284675458,
          -0.5252009303774842,
          -0.2322101359310998,
          0.1851196216151787,
          -0.5987786022386501,
          0.1358599494966765,
          -0.6120756104120361,
          -0.5745852418780549,
          -0.1391988692210033,
          -0.5300853352712172,
          -0.014106440441849,
          -0.2642496722523292,
          0.351744873695975,
          -0.0913890417211427,
          -0.4159775845518065,
          -0.1732129724449262,
          0.2619136555456772
         ],
         "y": [
          -0.4928936923660086,
          0.30949925803590594,
          -0.5064154929493117,
          0.15335812328131815,
          0.08879616195698402,
          0.19570201397878367,
          -0.47707844641921127,
          -0.6009063197913675,
          0.2705832956709835,
          0.1739683742400852,
          0.08643891218678258,
          0.2599793237402203,
          0.20820009951982238,
          -0.584437500426624,
          -0.5464231320311975,
          -0.5703057669266601,
          0.09787255960335418,
          0.31042144716017583,
          -0.16239973490536386,
          -0.5541730188418452,
          -0.5565018275606103,
          -0.6052477988905561,
          0.2024462082643083,
          0.18497339968660143,
          0.08480022166672437,
          -0.21143151939430221,
          -0.2890665201224938,
          0.12892190921684332,
          -0.4890356470456345,
          0.23857395135075204,
          0.3839717571275518,
          -0.10655467431421008,
          -0.5518381006194135,
          -0.05508372041439604,
          -0.5472361834076764,
          -0.23400804926458613,
          0.12463381936634176,
          -0.571712979629383,
          0.17710199799213971,
          0.02979356298390658,
          0.22657439724985984,
          -0.1783538784875921,
          -0.4246820451967341,
          -0.49821098930198016,
          -0.5828790299320357,
          -0.4709524339806789,
          -0.5053874192159394,
          -0.5708775456661009,
          0.2801875744567544,
          0.23339170935618608,
          -0.26568205157152647,
          0.18631076029633226,
          -0.4325251054347321,
          -0.4864631776265371,
          -0.6342632381797648,
          0.24926550479727777,
          -0.604367257266443,
          0.12446790132889345,
          -0.6097042429012683,
          0.148512615186992,
          0.3485777320157524,
          0.1610718797738292,
          -0.5381941921771394,
          -0.1724935355229842,
          -0.5500246793612064,
          -0.5850145725288104,
          0.2802567261542764,
          0.11525693008248106,
          -0.534970932762708,
          0.044093852827445046,
          -0.24381293172252755,
          0.15310844027234533,
          -0.10396146827579053,
          -0.6749211239101356,
          -0.5373006044889916,
          0.18044109641779615,
          -0.41181748283682074,
          -0.356839303773351,
          -0.5312162784179385,
          0.03548255253014338,
          0.14794043811909874,
          -0.5709423913095866,
          -0.20694148547276642,
          -0.5035541157997554,
          -0.27484236537084095,
          0.07565444213707608,
          0.31503608202870304,
          0.23477023816020465,
          -0.5375999744630312,
          0.18651372016399415,
          -0.1524213255334172,
          0.2646150653580513,
          0.2178163898293955,
          -0.08217720604167263,
          -0.4222476533992586,
          -0.5314102890169876,
          0.45519747893332574,
          0.3730571227674205,
          0.19959329042276885,
          0.0628386208154696,
          0.11193714672358611,
          0.23635876479387852,
          -0.654829479459459,
          0.1152375797237997,
          -0.515371616965782,
          -0.42384849254792223,
          -0.24571246963021165,
          -0.1440050767490298,
          0.27250172504863085,
          0.19683098094736623,
          0.2607064030527211,
          0.44327261429084996,
          -0.4698215067458758,
          -0.1866227370409838,
          -0.5686004995453416,
          0.15174274425121564,
          0.020902519531770122,
          -0.47994439457135407,
          0.2534893064199343,
          0.306079564795958,
          -0.5626533761499065,
          0.33582552707732266,
          -0.36173404051446045,
          0.42849992931538006,
          0.2593384489339583,
          0.18386497948762587,
          0.2964565187572055,
          -0.40450505105022455,
          -0.10158283281173199,
          0.13890901897129931,
          0.15878943003429585,
          0.3926190318441497,
          -0.2444664515995978,
          0.25255452191885586,
          0.42623058885423587,
          0.22047905899286002,
          -0.5685384138040969,
          0.16825883614856862,
          0.40287939196255607,
          -0.5203768970279699,
          -0.41806223857217367,
          0.009831070090245605,
          0.23959452781235757,
          0.40188537526544377,
          0.11859182889191151,
          -0.16894619053805515,
          -0.00488161691621023,
          -0.5478434669174592,
          0.29892154201847454,
          0.3466215736946302,
          -0.6752733104917216,
          -0.6136691609159391,
          -0.21151595275748825,
          0.3486963053290607,
          0.2702876367442637,
          -0.143755261443625,
          -0.11017157390822636,
          -0.1898795547647979,
          0.14267100148549478,
          0.15632339812484658,
          0.16344865656933205,
          -0.3027570231473819,
          0.1377488425080166,
          -0.19776659827142506,
          -0.29999569123415304,
          -0.287681659148024,
          -0.09772065512084228,
          -0.47255445945615393,
          -0.4607448489046476,
          0.11867964205612332,
          0.23681011776745392,
          0.01552014336206856,
          -0.5319165173653911,
          -0.010139508858948869,
          0.2484618292845106,
          -0.1412172745990813,
          0.14143766686036058,
          -0.27513602925275976,
          0.23475471521057145,
          -0.06637881611507011,
          -0.5297691913112333,
          -0.25406252172733845,
          0.14811054609282776,
          -0.40876001906997533,
          0.1765535232798472,
          -0.16791843863243439,
          0.21364375341831648,
          -0.3841744001759773,
          -0.0766627855854136,
          -0.1646963998506794,
          0.44995457262760696,
          -0.24862426014816075,
          0.4174343975774346,
          0.09088749666565225,
          0.38882524748337677,
          -0.5196530105359071,
          0.31216419005870877,
          -0.4788854157110215,
          0.24639188073548535,
          0.22914821294720894,
          0.26097514715481124,
          -0.06690501234857889,
          -0.1954864151591631,
          -0.5730730541639489,
          0.20676745469087976,
          -0.29128362902352084,
          -0.4693745119936003,
          0.16551080391896805,
          -0.33110484358668657,
          -0.5622893138333875,
          0.28428148983077794,
          -0.48412826949680415,
          -0.4953460891448439,
          0.3210718112774059,
          0.2160613717830232,
          -0.3364317308246125,
          0.25083168541373646,
          -0.01796666058883127,
          0.29648534597228,
          0.43235056220039264,
          -0.16340982349345862,
          -0.2227981799330449,
          -0.46098607227342414,
          -0.17298968529958952,
          -0.4651933937445062,
          0.25818402690739267,
          -0.5091312015872865,
          -0.17757598350897813,
          0.30652548082890485,
          0.1968380526469113,
          -0.5179010758073609,
          -0.11008091286825251,
          -0.09823025993640981,
          -0.4597191521618348,
          -0.5442743601154277,
          0.14320573282872356,
          0.34637958459821094,
          0.10495682898758327,
          -0.3704841905947778,
          -0.052908183645782286,
          0.10907504006073483,
          0.007350410410370774,
          -0.6728203756577461,
          -0.5807346859157535,
          0.27327448863754084,
          -0.49430706398825247,
          -0.5922589566010172,
          -0.28073518163815364,
          -0.6809555777569912,
          0.24951023020448826,
          -0.552218536368806,
          0.20147717532473086,
          -0.24898918895060335,
          -0.3400003003672213,
          0.07596639344280186,
          -0.5969488074753945,
          -0.47081507182354104,
          0.21849722438957897,
          -0.2522696589974957,
          0.30236752587747656,
          -0.600801475599476,
          -0.544300862242152,
          -0.2299207812450515,
          0.14583994880229234,
          -0.6017449518114764,
          0.16155525196237708,
          -0.6292032782835375,
          -0.5739642236504904,
          -0.17853897505993055,
          -0.5440702615876152,
          -0.011854137682366084,
          -0.2872235774725896,
          0.3463418973666855,
          -0.08024951991266355,
          -0.32982440402476265,
          -0.18190649498640904,
          0.2755366707738617
         ]
        },
        {
         "mode": "lines",
         "name": "Ideal Line",
         "type": "scatter",
         "x": [
          -0.5107348333436657,
          0.3193936596324355,
          -0.5098930417918709,
          0.1490997916430451,
          0.0745660754631884,
          0.2235607222295565,
          -0.4910257949748201,
          -0.5717949688922057,
          0.3104978012422814,
          0.1526799231048271,
          0.0463612616061722,
          0.241929173656917,
          0.1875668984389233,
          -0.5853985011438849,
          -0.560945316829703,
          -0.5756349243075746,
          0.0504922801077837,
          0.24255792066697,
          -0.1588715940803148,
          -0.5747151934984177,
          -0.5648996042991067,
          -0.5907141487851183,
          0.2079514632296667,
          0.2171487713212358,
          0.1630982531326908,
          -0.1752914054993434,
          -0.2493627190861827,
          0.1147012250834668,
          -0.5018806007013398,
          0.2453275789967518,
          0.3412589910259215,
          -0.1726933245377526,
          -0.5477522540951794,
          -0.0384244401845126,
          -0.5332030641399819,
          -0.2336962940592752,
          0.1586399373224414,
          -0.5593501388857868,
          0.1955014795592309,
          0.0117705030223356,
          0.2262368217356482,
          -0.1673932171757086,
          -0.4253306918709612,
          -0.4701475884584031,
          -0.5722885313307404,
          -0.4561959063806026,
          -0.4745435845776184,
          -0.5759518350010401,
          0.2421110583531417,
          0.2498845280075694,
          -0.3082092370087874,
          0.1757821338623518,
          -0.4508957990185586,
          -0.5022078980099777,
          -0.6234343651922627,
          0.2616018985162285,
          -0.6144606468318852,
          0.1258106218124177,
          -0.5903296061623242,
          0.1198506075948035,
          0.3186816611267261,
          0.2305755725407072,
          -0.5367156429595741,
          -0.1862968567894318,
          -0.556689658946023,
          -0.5869261264456114,
          0.2851041921757364,
          0.1441375267790887,
          -0.5359674102314692,
          0.0968887350728139,
          -0.2147822678303796,
          0.1344362696338126,
          -0.1026490840136624,
          -0.6449309321035601,
          -0.5319559567350481,
          0.1876241437530794,
          -0.4247071778120639,
          -0.324836939305541,
          -0.5044162826847575,
          0.0476603020869676,
          0.2077748114845976,
          -0.5715143717082741,
          -0.1800718649542139,
          -0.502665226226117,
          -0.2659384090199356,
          0.1045738788547071,
          0.3760213269779491,
          0.2585049428778088,
          -0.5550216954087615,
          0.222932133793781,
          -0.1057668128824269,
          0.2619604349575223,
          0.2142907871189195,
          -0.1061824360635994,
          -0.4229405017870956,
          -0.544582592150553,
          0.4710071605907394,
          0.3695989101673174,
          0.1877695563654927,
          0.0682630650834697,
          0.11787604069211,
          0.221290097150881,
          -0.6457778773193716,
          0.1493284557511149,
          -0.5329640134167397,
          -0.4067284226715144,
          -0.3511295059508981,
          -0.0401911162094811,
          0.2677437974300674,
          0.1844856416539702,
          0.230596345771052,
          0.4339066469178462,
          -0.51990082301544,
          -0.1743560551238586,
          -0.5757647966407986,
          0.1778450266375798,
          0.0245530169525648,
          -0.4620208153138374,
          0.2302535081832249,
          0.2594194407358101,
          -0.5453672176753304,
          0.3170968697979822,
          -0.3041977835123662,
          0.4180064041188521,
          0.2360056315231141,
          0.1888971780523745,
          0.3002458156314532,
          -0.4847747969581019,
          -0.080503076149106,
          0.1145556538967761,
          0.1134437310633609,
          0.3900510276002507,
          -0.1994015936514208,
          0.2167329895657859,
          0.4201679300946486,
          0.2285751580307909,
          -0.560618019521065,
          0.1753352715485235,
          0.412498485166222,
          -0.4951671208044652,
          -0.4306983518751952,
          0.034010069710582,
          0.2588634793191025,
          0.4319320800151527,
          0.1217056094923065,
          -0.1538416179998911,
          0.0139528022284765,
          -0.5731614827280522,
          0.3252028697122034,
          0.3015499304891267,
          -0.6287033127087898,
          -0.5790539443034767,
          -0.2120802414299263,
          0.3218981817703362,
          0.248419301684016,
          -0.0949587072806136,
          -0.1061824360635994,
          -0.1481675132045027,
          0.1255040977341245,
          0.1506690426925998,
          0.1830359556096059,
          -0.3173544534502172,
          0.1193257267364742,
          -0.138086946387588,
          -0.260399330221788,
          -0.2939717247958996,
          -0.0982843270271031,
          -0.4895968821608006,
          -0.4717843921501476,
          0.1159327129220725,
          0.2217317265135538,
          -0.0063121975570764,
          -0.5265935296819696,
          -0.0229399791409688,
          0.2498742206795358,
          -0.19680351268983,
          0.1434827735875355,
          -0.2322413750637556,
          0.2091206313772381,
          -0.0506874647818456,
          -0.5327094224143085,
          -0.2299238119989576,
          0.1840232390609527,
          -0.4102203075479003,
          0.147151230921852,
          -0.212391998459375,
          0.2087776352151335,
          -0.3172505080113547,
          -0.0580659259111683,
          -0.2313060246882708,
          0.4197730801438209,
          -0.289918724838789,
          0.3961824606117781,
          0.0144412110029943,
          0.405015999310898,
          -0.5313896087031682,
          0.2838727043371308,
          -0.5123144710083924,
          0.2032749492136587,
          0.2404431741030188,
          0.2666058684151519,
          -0.0846704081602515,
          -0.2208097554030451,
          -0.5687136328201139,
          0.2153871696731455,
          -0.3093523989748583,
          -0.5124184164472552,
          0.1487412552017514,
          -0.4088069350130701,
          -0.5667702257629377,
          0.268928505856828,
          -0.492465094404012,
          -0.5066869870505717,
          0.3607445982378528,
          0.2197260790524819,
          -0.3121582915270355,
          0.2441687181772141,
          0.001274154449971,
          0.3131011151550277,
          0.4533402417667765,
          -0.1359044886071697,
          -0.224405506431155,
          -0.5049359305919312,
          -0.1547145693972029,
          -0.4761907748845352,
          0.2474370926095474,
          -0.5231121107078948,
          -0.1523243793133371,
          0.3337141854795635,
          0.2159172834826302,
          -0.5191370500081463,
          -0.1154315979438917,
          -0.056403274612201,
          -0.4706412301840766,
          -0.5433927300597756,
          0.1285905874702332,
          0.3212018821180934,
          0.127223994347248,
          -0.3947773136779072,
          -0.0541169506800588,
          0.1434307612245349,
          -0.1990742170556444,
          -0.6384772761602725,
          -0.5789292256342694,
          0.2651820299780105,
          -0.5078977016588327,
          -0.5512649122019103,
          -0.277344022499146,
          -0.6551309846385264,
          0.2613940076385035,
          -0.5674665254151804,
          0.2273955239809085,
          -0.2215528344671328,
          -0.3221349129050878,
          0.0763847638511575,
          -0.5867806345460594,
          -0.4999528132104913,
          0.2246675706860936,
          -0.2429973890154295,
          0.2931789529573018,
          -0.6176926284675458,
          -0.5252009303774842,
          -0.2322101359310998,
          0.1851196216151787,
          -0.5987786022386501,
          0.1358599494966765,
          -0.6120756104120361,
          -0.5745852418780549,
          -0.1391988692210033,
          -0.5300853352712172,
          -0.014106440441849,
          -0.2642496722523292,
          0.351744873695975,
          -0.0913890417211427,
          -0.4159775845518065,
          -0.1732129724449262,
          0.2619136555456772
         ],
         "y": [
          -0.5107348333436657,
          0.3193936596324355,
          -0.5098930417918709,
          0.1490997916430451,
          0.0745660754631884,
          0.2235607222295565,
          -0.4910257949748201,
          -0.5717949688922057,
          0.3104978012422814,
          0.1526799231048271,
          0.0463612616061722,
          0.241929173656917,
          0.1875668984389233,
          -0.5853985011438849,
          -0.560945316829703,
          -0.5756349243075746,
          0.0504922801077837,
          0.24255792066697,
          -0.1588715940803148,
          -0.5747151934984177,
          -0.5648996042991067,
          -0.5907141487851183,
          0.2079514632296667,
          0.2171487713212358,
          0.1630982531326908,
          -0.1752914054993434,
          -0.2493627190861827,
          0.1147012250834668,
          -0.5018806007013398,
          0.2453275789967518,
          0.3412589910259215,
          -0.1726933245377526,
          -0.5477522540951794,
          -0.0384244401845126,
          -0.5332030641399819,
          -0.2336962940592752,
          0.1586399373224414,
          -0.5593501388857868,
          0.1955014795592309,
          0.0117705030223356,
          0.2262368217356482,
          -0.1673932171757086,
          -0.4253306918709612,
          -0.4701475884584031,
          -0.5722885313307404,
          -0.4561959063806026,
          -0.4745435845776184,
          -0.5759518350010401,
          0.2421110583531417,
          0.2498845280075694,
          -0.3082092370087874,
          0.1757821338623518,
          -0.4508957990185586,
          -0.5022078980099777,
          -0.6234343651922627,
          0.2616018985162285,
          -0.6144606468318852,
          0.1258106218124177,
          -0.5903296061623242,
          0.1198506075948035,
          0.3186816611267261,
          0.2305755725407072,
          -0.5367156429595741,
          -0.1862968567894318,
          -0.556689658946023,
          -0.5869261264456114,
          0.2851041921757364,
          0.1441375267790887,
          -0.5359674102314692,
          0.0968887350728139,
          -0.2147822678303796,
          0.1344362696338126,
          -0.1026490840136624,
          -0.6449309321035601,
          -0.5319559567350481,
          0.1876241437530794,
          -0.4247071778120639,
          -0.324836939305541,
          -0.5044162826847575,
          0.0476603020869676,
          0.2077748114845976,
          -0.5715143717082741,
          -0.1800718649542139,
          -0.502665226226117,
          -0.2659384090199356,
          0.1045738788547071,
          0.3760213269779491,
          0.2585049428778088,
          -0.5550216954087615,
          0.222932133793781,
          -0.1057668128824269,
          0.2619604349575223,
          0.2142907871189195,
          -0.1061824360635994,
          -0.4229405017870956,
          -0.544582592150553,
          0.4710071605907394,
          0.3695989101673174,
          0.1877695563654927,
          0.0682630650834697,
          0.11787604069211,
          0.221290097150881,
          -0.6457778773193716,
          0.1493284557511149,
          -0.5329640134167397,
          -0.4067284226715144,
          -0.3511295059508981,
          -0.0401911162094811,
          0.2677437974300674,
          0.1844856416539702,
          0.230596345771052,
          0.4339066469178462,
          -0.51990082301544,
          -0.1743560551238586,
          -0.5757647966407986,
          0.1778450266375798,
          0.0245530169525648,
          -0.4620208153138374,
          0.2302535081832249,
          0.2594194407358101,
          -0.5453672176753304,
          0.3170968697979822,
          -0.3041977835123662,
          0.4180064041188521,
          0.2360056315231141,
          0.1888971780523745,
          0.3002458156314532,
          -0.4847747969581019,
          -0.080503076149106,
          0.1145556538967761,
          0.1134437310633609,
          0.3900510276002507,
          -0.1994015936514208,
          0.2167329895657859,
          0.4201679300946486,
          0.2285751580307909,
          -0.560618019521065,
          0.1753352715485235,
          0.412498485166222,
          -0.4951671208044652,
          -0.4306983518751952,
          0.034010069710582,
          0.2588634793191025,
          0.4319320800151527,
          0.1217056094923065,
          -0.1538416179998911,
          0.0139528022284765,
          -0.5731614827280522,
          0.3252028697122034,
          0.3015499304891267,
          -0.6287033127087898,
          -0.5790539443034767,
          -0.2120802414299263,
          0.3218981817703362,
          0.248419301684016,
          -0.0949587072806136,
          -0.1061824360635994,
          -0.1481675132045027,
          0.1255040977341245,
          0.1506690426925998,
          0.1830359556096059,
          -0.3173544534502172,
          0.1193257267364742,
          -0.138086946387588,
          -0.260399330221788,
          -0.2939717247958996,
          -0.0982843270271031,
          -0.4895968821608006,
          -0.4717843921501476,
          0.1159327129220725,
          0.2217317265135538,
          -0.0063121975570764,
          -0.5265935296819696,
          -0.0229399791409688,
          0.2498742206795358,
          -0.19680351268983,
          0.1434827735875355,
          -0.2322413750637556,
          0.2091206313772381,
          -0.0506874647818456,
          -0.5327094224143085,
          -0.2299238119989576,
          0.1840232390609527,
          -0.4102203075479003,
          0.147151230921852,
          -0.212391998459375,
          0.2087776352151335,
          -0.3172505080113547,
          -0.0580659259111683,
          -0.2313060246882708,
          0.4197730801438209,
          -0.289918724838789,
          0.3961824606117781,
          0.0144412110029943,
          0.405015999310898,
          -0.5313896087031682,
          0.2838727043371308,
          -0.5123144710083924,
          0.2032749492136587,
          0.2404431741030188,
          0.2666058684151519,
          -0.0846704081602515,
          -0.2208097554030451,
          -0.5687136328201139,
          0.2153871696731455,
          -0.3093523989748583,
          -0.5124184164472552,
          0.1487412552017514,
          -0.4088069350130701,
          -0.5667702257629377,
          0.268928505856828,
          -0.492465094404012,
          -0.5066869870505717,
          0.3607445982378528,
          0.2197260790524819,
          -0.3121582915270355,
          0.2441687181772141,
          0.001274154449971,
          0.3131011151550277,
          0.4533402417667765,
          -0.1359044886071697,
          -0.224405506431155,
          -0.5049359305919312,
          -0.1547145693972029,
          -0.4761907748845352,
          0.2474370926095474,
          -0.5231121107078948,
          -0.1523243793133371,
          0.3337141854795635,
          0.2159172834826302,
          -0.5191370500081463,
          -0.1154315979438917,
          -0.056403274612201,
          -0.4706412301840766,
          -0.5433927300597756,
          0.1285905874702332,
          0.3212018821180934,
          0.127223994347248,
          -0.3947773136779072,
          -0.0541169506800588,
          0.1434307612245349,
          -0.1990742170556444,
          -0.6384772761602725,
          -0.5789292256342694,
          0.2651820299780105,
          -0.5078977016588327,
          -0.5512649122019103,
          -0.277344022499146,
          -0.6551309846385264,
          0.2613940076385035,
          -0.5674665254151804,
          0.2273955239809085,
          -0.2215528344671328,
          -0.3221349129050878,
          0.0763847638511575,
          -0.5867806345460594,
          -0.4999528132104913,
          0.2246675706860936,
          -0.2429973890154295,
          0.2931789529573018,
          -0.6176926284675458,
          -0.5252009303774842,
          -0.2322101359310998,
          0.1851196216151787,
          -0.5987786022386501,
          0.1358599494966765,
          -0.6120756104120361,
          -0.5745852418780549,
          -0.1391988692210033,
          -0.5300853352712172,
          -0.014106440441849,
          -0.2642496722523292,
          0.351744873695975,
          -0.0913890417211427,
          -0.4159775845518065,
          -0.1732129724449262,
          0.2619136555456772
         ]
        }
       ],
       "layout": {
        "template": {
         "data": {
          "bar": [
           {
            "error_x": {
             "color": "#f2f5fa"
            },
            "error_y": {
             "color": "#f2f5fa"
            },
            "marker": {
             "line": {
              "color": "rgb(17,17,17)",
              "width": 0.5
             },
             "pattern": {
              "fillmode": "overlay",
              "size": 10,
              "solidity": 0.2
             }
            },
            "type": "bar"
           }
          ],
          "barpolar": [
           {
            "marker": {
             "line": {
              "color": "rgb(17,17,17)",
              "width": 0.5
             },
             "pattern": {
              "fillmode": "overlay",
              "size": 10,
              "solidity": 0.2
             }
            },
            "type": "barpolar"
           }
          ],
          "carpet": [
           {
            "aaxis": {
             "endlinecolor": "#A2B1C6",
             "gridcolor": "#506784",
             "linecolor": "#506784",
             "minorgridcolor": "#506784",
             "startlinecolor": "#A2B1C6"
            },
            "baxis": {
             "endlinecolor": "#A2B1C6",
             "gridcolor": "#506784",
             "linecolor": "#506784",
             "minorgridcolor": "#506784",
             "startlinecolor": "#A2B1C6"
            },
            "type": "carpet"
           }
          ],
          "choropleth": [
           {
            "colorbar": {
             "outlinewidth": 0,
             "ticks": ""
            },
            "type": "choropleth"
           }
          ],
          "contour": [
           {
            "colorbar": {
             "outlinewidth": 0,
             "ticks": ""
            },
            "colorscale": [
             [
              0,
              "#0d0887"
             ],
             [
              0.1111111111111111,
              "#46039f"
             ],
             [
              0.2222222222222222,
              "#7201a8"
             ],
             [
              0.3333333333333333,
              "#9c179e"
             ],
             [
              0.4444444444444444,
              "#bd3786"
             ],
             [
              0.5555555555555556,
              "#d8576b"
             ],
             [
              0.6666666666666666,
              "#ed7953"
             ],
             [
              0.7777777777777778,
              "#fb9f3a"
             ],
             [
              0.8888888888888888,
              "#fdca26"
             ],
             [
              1,
              "#f0f921"
             ]
            ],
            "type": "contour"
           }
          ],
          "contourcarpet": [
           {
            "colorbar": {
             "outlinewidth": 0,
             "ticks": ""
            },
            "type": "contourcarpet"
           }
          ],
          "heatmap": [
           {
            "colorbar": {
             "outlinewidth": 0,
             "ticks": ""
            },
            "colorscale": [
             [
              0,
              "#0d0887"
             ],
             [
              0.1111111111111111,
              "#46039f"
             ],
             [
              0.2222222222222222,
              "#7201a8"
             ],
             [
              0.3333333333333333,
              "#9c179e"
             ],
             [
              0.4444444444444444,
              "#bd3786"
             ],
             [
              0.5555555555555556,
              "#d8576b"
             ],
             [
              0.6666666666666666,
              "#ed7953"
             ],
             [
              0.7777777777777778,
              "#fb9f3a"
             ],
             [
              0.8888888888888888,
              "#fdca26"
             ],
             [
              1,
              "#f0f921"
             ]
            ],
            "type": "heatmap"
           }
          ],
          "heatmapgl": [
           {
            "colorbar": {
             "outlinewidth": 0,
             "ticks": ""
            },
            "colorscale": [
             [
              0,
              "#0d0887"
             ],
             [
              0.1111111111111111,
              "#46039f"
             ],
             [
              0.2222222222222222,
              "#7201a8"
             ],
             [
              0.3333333333333333,
              "#9c179e"
             ],
             [
              0.4444444444444444,
              "#bd3786"
             ],
             [
              0.5555555555555556,
              "#d8576b"
             ],
             [
              0.6666666666666666,
              "#ed7953"
             ],
             [
              0.7777777777777778,
              "#fb9f3a"
             ],
             [
              0.8888888888888888,
              "#fdca26"
             ],
             [
              1,
              "#f0f921"
             ]
            ],
            "type": "heatmapgl"
           }
          ],
          "histogram": [
           {
            "marker": {
             "pattern": {
              "fillmode": "overlay",
              "size": 10,
              "solidity": 0.2
             }
            },
            "type": "histogram"
           }
          ],
          "histogram2d": [
           {
            "colorbar": {
             "outlinewidth": 0,
             "ticks": ""
            },
            "colorscale": [
             [
              0,
              "#0d0887"
             ],
             [
              0.1111111111111111,
              "#46039f"
             ],
             [
              0.2222222222222222,
              "#7201a8"
             ],
             [
              0.3333333333333333,
              "#9c179e"
             ],
             [
              0.4444444444444444,
              "#bd3786"
             ],
             [
              0.5555555555555556,
              "#d8576b"
             ],
             [
              0.6666666666666666,
              "#ed7953"
             ],
             [
              0.7777777777777778,
              "#fb9f3a"
             ],
             [
              0.8888888888888888,
              "#fdca26"
             ],
             [
              1,
              "#f0f921"
             ]
            ],
            "type": "histogram2d"
           }
          ],
          "histogram2dcontour": [
           {
            "colorbar": {
             "outlinewidth": 0,
             "ticks": ""
            },
            "colorscale": [
             [
              0,
              "#0d0887"
             ],
             [
              0.1111111111111111,
              "#46039f"
             ],
             [
              0.2222222222222222,
              "#7201a8"
             ],
             [
              0.3333333333333333,
              "#9c179e"
             ],
             [
              0.4444444444444444,
              "#bd3786"
             ],
             [
              0.5555555555555556,
              "#d8576b"
             ],
             [
              0.6666666666666666,
              "#ed7953"
             ],
             [
              0.7777777777777778,
              "#fb9f3a"
             ],
             [
              0.8888888888888888,
              "#fdca26"
             ],
             [
              1,
              "#f0f921"
             ]
            ],
            "type": "histogram2dcontour"
           }
          ],
          "mesh3d": [
           {
            "colorbar": {
             "outlinewidth": 0,
             "ticks": ""
            },
            "type": "mesh3d"
           }
          ],
          "parcoords": [
           {
            "line": {
             "colorbar": {
              "outlinewidth": 0,
              "ticks": ""
             }
            },
            "type": "parcoords"
           }
          ],
          "pie": [
           {
            "automargin": true,
            "type": "pie"
           }
          ],
          "scatter": [
           {
            "marker": {
             "line": {
              "color": "#283442"
             }
            },
            "type": "scatter"
           }
          ],
          "scatter3d": [
           {
            "line": {
             "colorbar": {
              "outlinewidth": 0,
              "ticks": ""
             }
            },
            "marker": {
             "colorbar": {
              "outlinewidth": 0,
              "ticks": ""
             }
            },
            "type": "scatter3d"
           }
          ],
          "scattercarpet": [
           {
            "marker": {
             "colorbar": {
              "outlinewidth": 0,
              "ticks": ""
             }
            },
            "type": "scattercarpet"
           }
          ],
          "scattergeo": [
           {
            "marker": {
             "colorbar": {
              "outlinewidth": 0,
              "ticks": ""
             }
            },
            "type": "scattergeo"
           }
          ],
          "scattergl": [
           {
            "marker": {
             "line": {
              "color": "#283442"
             }
            },
            "type": "scattergl"
           }
          ],
          "scattermapbox": [
           {
            "marker": {
             "colorbar": {
              "outlinewidth": 0,
              "ticks": ""
             }
            },
            "type": "scattermapbox"
           }
          ],
          "scatterpolar": [
           {
            "marker": {
             "colorbar": {
              "outlinewidth": 0,
              "ticks": ""
             }
            },
            "type": "scatterpolar"
           }
          ],
          "scatterpolargl": [
           {
            "marker": {
             "colorbar": {
              "outlinewidth": 0,
              "ticks": ""
             }
            },
            "type": "scatterpolargl"
           }
          ],
          "scatterternary": [
           {
            "marker": {
             "colorbar": {
              "outlinewidth": 0,
              "ticks": ""
             }
            },
            "type": "scatterternary"
           }
          ],
          "surface": [
           {
            "colorbar": {
             "outlinewidth": 0,
             "ticks": ""
            },
            "colorscale": [
             [
              0,
              "#0d0887"
             ],
             [
              0.1111111111111111,
              "#46039f"
             ],
             [
              0.2222222222222222,
              "#7201a8"
             ],
             [
              0.3333333333333333,
              "#9c179e"
             ],
             [
              0.4444444444444444,
              "#bd3786"
             ],
             [
              0.5555555555555556,
              "#d8576b"
             ],
             [
              0.6666666666666666,
              "#ed7953"
             ],
             [
              0.7777777777777778,
              "#fb9f3a"
             ],
             [
              0.8888888888888888,
              "#fdca26"
             ],
             [
              1,
              "#f0f921"
             ]
            ],
            "type": "surface"
           }
          ],
          "table": [
           {
            "cells": {
             "fill": {
              "color": "#506784"
             },
             "line": {
              "color": "rgb(17,17,17)"
             }
            },
            "header": {
             "fill": {
              "color": "#2a3f5f"
             },
             "line": {
              "color": "rgb(17,17,17)"
             }
            },
            "type": "table"
           }
          ]
         },
         "layout": {
          "annotationdefaults": {
           "arrowcolor": "#f2f5fa",
           "arrowhead": 0,
           "arrowwidth": 1
          },
          "autotypenumbers": "strict",
          "coloraxis": {
           "colorbar": {
            "outlinewidth": 0,
            "ticks": ""
           }
          },
          "colorscale": {
           "diverging": [
            [
             0,
             "#8e0152"
            ],
            [
             0.1,
             "#c51b7d"
            ],
            [
             0.2,
             "#de77ae"
            ],
            [
             0.3,
             "#f1b6da"
            ],
            [
             0.4,
             "#fde0ef"
            ],
            [
             0.5,
             "#f7f7f7"
            ],
            [
             0.6,
             "#e6f5d0"
            ],
            [
             0.7,
             "#b8e186"
            ],
            [
             0.8,
             "#7fbc41"
            ],
            [
             0.9,
             "#4d9221"
            ],
            [
             1,
             "#276419"
            ]
           ],
           "sequential": [
            [
             0,
             "#0d0887"
            ],
            [
             0.1111111111111111,
             "#46039f"
            ],
            [
             0.2222222222222222,
             "#7201a8"
            ],
            [
             0.3333333333333333,
             "#9c179e"
            ],
            [
             0.4444444444444444,
             "#bd3786"
            ],
            [
             0.5555555555555556,
             "#d8576b"
            ],
            [
             0.6666666666666666,
             "#ed7953"
            ],
            [
             0.7777777777777778,
             "#fb9f3a"
            ],
            [
             0.8888888888888888,
             "#fdca26"
            ],
            [
             1,
             "#f0f921"
            ]
           ],
           "sequentialminus": [
            [
             0,
             "#0d0887"
            ],
            [
             0.1111111111111111,
             "#46039f"
            ],
            [
             0.2222222222222222,
             "#7201a8"
            ],
            [
             0.3333333333333333,
             "#9c179e"
            ],
            [
             0.4444444444444444,
             "#bd3786"
            ],
            [
             0.5555555555555556,
             "#d8576b"
            ],
            [
             0.6666666666666666,
             "#ed7953"
            ],
            [
             0.7777777777777778,
             "#fb9f3a"
            ],
            [
             0.8888888888888888,
             "#fdca26"
            ],
            [
             1,
             "#f0f921"
            ]
           ]
          },
          "colorway": [
           "#636efa",
           "#EF553B",
           "#00cc96",
           "#ab63fa",
           "#FFA15A",
           "#19d3f3",
           "#FF6692",
           "#B6E880",
           "#FF97FF",
           "#FECB52"
          ],
          "font": {
           "color": "#f2f5fa"
          },
          "geo": {
           "bgcolor": "rgb(17,17,17)",
           "lakecolor": "rgb(17,17,17)",
           "landcolor": "rgb(17,17,17)",
           "showlakes": true,
           "showland": true,
           "subunitcolor": "#506784"
          },
          "hoverlabel": {
           "align": "left"
          },
          "hovermode": "closest",
          "mapbox": {
           "style": "dark"
          },
          "paper_bgcolor": "rgb(17,17,17)",
          "plot_bgcolor": "rgb(17,17,17)",
          "polar": {
           "angularaxis": {
            "gridcolor": "#506784",
            "linecolor": "#506784",
            "ticks": ""
           },
           "bgcolor": "rgb(17,17,17)",
           "radialaxis": {
            "gridcolor": "#506784",
            "linecolor": "#506784",
            "ticks": ""
           }
          },
          "scene": {
           "xaxis": {
            "backgroundcolor": "rgb(17,17,17)",
            "gridcolor": "#506784",
            "gridwidth": 2,
            "linecolor": "#506784",
            "showbackground": true,
            "ticks": "",
            "zerolinecolor": "#C8D4E3"
           },
           "yaxis": {
            "backgroundcolor": "rgb(17,17,17)",
            "gridcolor": "#506784",
            "gridwidth": 2,
            "linecolor": "#506784",
            "showbackground": true,
            "ticks": "",
            "zerolinecolor": "#C8D4E3"
           },
           "zaxis": {
            "backgroundcolor": "rgb(17,17,17)",
            "gridcolor": "#506784",
            "gridwidth": 2,
            "linecolor": "#506784",
            "showbackground": true,
            "ticks": "",
            "zerolinecolor": "#C8D4E3"
           }
          },
          "shapedefaults": {
           "line": {
            "color": "#f2f5fa"
           }
          },
          "sliderdefaults": {
           "bgcolor": "#C8D4E3",
           "bordercolor": "rgb(17,17,17)",
           "borderwidth": 1,
           "tickwidth": 0
          },
          "ternary": {
           "aaxis": {
            "gridcolor": "#506784",
            "linecolor": "#506784",
            "ticks": ""
           },
           "baxis": {
            "gridcolor": "#506784",
            "linecolor": "#506784",
            "ticks": ""
           },
           "bgcolor": "rgb(17,17,17)",
           "caxis": {
            "gridcolor": "#506784",
            "linecolor": "#506784",
            "ticks": ""
           }
          },
          "title": {
           "x": 0.05
          },
          "updatemenudefaults": {
           "bgcolor": "#506784",
           "borderwidth": 0
          },
          "xaxis": {
           "automargin": true,
           "gridcolor": "#283442",
           "linecolor": "#506784",
           "ticks": "",
           "title": {
            "standoff": 15
           },
           "zerolinecolor": "#283442",
           "zerolinewidth": 2
          },
          "yaxis": {
           "automargin": true,
           "gridcolor": "#283442",
           "linecolor": "#506784",
           "ticks": "",
           "title": {
            "standoff": 15
           },
           "zerolinecolor": "#283442",
           "zerolinewidth": 2
          }
         }
        },
        "title": {
         "text": "AAPL Actual vs Predicted Closing Prices"
        },
        "xaxis": {
         "title": {
          "text": "Actual Closing Price"
         }
        },
        "yaxis": {
         "title": {
          "text": "Predicted Closing Price"
         }
        }
       }
      }
     },
     "metadata": {},
     "output_type": "display_data"
    }
   ],
   "source": [
    "fig = go.Figure()\n",
    "\n",
    "fig.add_trace(go.Scatter(x = y_test, y = y_pred,\n",
    "                        mode = 'markers',\n",
    "                        name = 'Predicted vs Actual'))\n",
    "\n",
    "fig.add_trace(go.Scatter(x = y_test, y = y_test,\n",
    "                        mode = 'lines',\n",
    "                        name = 'Ideal Line'))\n",
    "\n",
    "fig.update_layout(title = 'AAPL Actual vs Predicted Closing Prices',\n",
    "                xaxis_title = 'Actual Closing Price',\n",
    "                yaxis_title = 'Predicted Closing Price',\n",
    "                template = 'plotly_dark')\n",
    "\n",
    "fig.show()\n",
    "\n",
    "\n"
   ]
  },
  {
   "cell_type": "markdown",
   "metadata": {},
   "source": [
    "#### Pretty good, we will improve this further later on in the project.  Let's look at a residuals plot as well now."
   ]
  },
  {
   "cell_type": "code",
   "execution_count": 33,
   "metadata": {},
   "outputs": [
    {
     "data": {
      "application/vnd.plotly.v1+json": {
       "config": {
        "plotlyServerURL": "https://plot.ly"
       },
       "data": [
        {
         "mode": "markers",
         "name": "Residuals",
         "type": "scatter",
         "x": [
          -0.4928936923660086,
          0.30949925803590594,
          -0.5064154929493117,
          0.15335812328131815,
          0.08879616195698402,
          0.19570201397878367,
          -0.47707844641921127,
          -0.6009063197913675,
          0.2705832956709835,
          0.1739683742400852,
          0.08643891218678258,
          0.2599793237402203,
          0.20820009951982238,
          -0.584437500426624,
          -0.5464231320311975,
          -0.5703057669266601,
          0.09787255960335418,
          0.31042144716017583,
          -0.16239973490536386,
          -0.5541730188418452,
          -0.5565018275606103,
          -0.6052477988905561,
          0.2024462082643083,
          0.18497339968660143,
          0.08480022166672437,
          -0.21143151939430221,
          -0.2890665201224938,
          0.12892190921684332,
          -0.4890356470456345,
          0.23857395135075204,
          0.3839717571275518,
          -0.10655467431421008,
          -0.5518381006194135,
          -0.05508372041439604,
          -0.5472361834076764,
          -0.23400804926458613,
          0.12463381936634176,
          -0.571712979629383,
          0.17710199799213971,
          0.02979356298390658,
          0.22657439724985984,
          -0.1783538784875921,
          -0.4246820451967341,
          -0.49821098930198016,
          -0.5828790299320357,
          -0.4709524339806789,
          -0.5053874192159394,
          -0.5708775456661009,
          0.2801875744567544,
          0.23339170935618608,
          -0.26568205157152647,
          0.18631076029633226,
          -0.4325251054347321,
          -0.4864631776265371,
          -0.6342632381797648,
          0.24926550479727777,
          -0.604367257266443,
          0.12446790132889345,
          -0.6097042429012683,
          0.148512615186992,
          0.3485777320157524,
          0.1610718797738292,
          -0.5381941921771394,
          -0.1724935355229842,
          -0.5500246793612064,
          -0.5850145725288104,
          0.2802567261542764,
          0.11525693008248106,
          -0.534970932762708,
          0.044093852827445046,
          -0.24381293172252755,
          0.15310844027234533,
          -0.10396146827579053,
          -0.6749211239101356,
          -0.5373006044889916,
          0.18044109641779615,
          -0.41181748283682074,
          -0.356839303773351,
          -0.5312162784179385,
          0.03548255253014338,
          0.14794043811909874,
          -0.5709423913095866,
          -0.20694148547276642,
          -0.5035541157997554,
          -0.27484236537084095,
          0.07565444213707608,
          0.31503608202870304,
          0.23477023816020465,
          -0.5375999744630312,
          0.18651372016399415,
          -0.1524213255334172,
          0.2646150653580513,
          0.2178163898293955,
          -0.08217720604167263,
          -0.4222476533992586,
          -0.5314102890169876,
          0.45519747893332574,
          0.3730571227674205,
          0.19959329042276885,
          0.0628386208154696,
          0.11193714672358611,
          0.23635876479387852,
          -0.654829479459459,
          0.1152375797237997,
          -0.515371616965782,
          -0.42384849254792223,
          -0.24571246963021165,
          -0.1440050767490298,
          0.27250172504863085,
          0.19683098094736623,
          0.2607064030527211,
          0.44327261429084996,
          -0.4698215067458758,
          -0.1866227370409838,
          -0.5686004995453416,
          0.15174274425121564,
          0.020902519531770122,
          -0.47994439457135407,
          0.2534893064199343,
          0.306079564795958,
          -0.5626533761499065,
          0.33582552707732266,
          -0.36173404051446045,
          0.42849992931538006,
          0.2593384489339583,
          0.18386497948762587,
          0.2964565187572055,
          -0.40450505105022455,
          -0.10158283281173199,
          0.13890901897129931,
          0.15878943003429585,
          0.3926190318441497,
          -0.2444664515995978,
          0.25255452191885586,
          0.42623058885423587,
          0.22047905899286002,
          -0.5685384138040969,
          0.16825883614856862,
          0.40287939196255607,
          -0.5203768970279699,
          -0.41806223857217367,
          0.009831070090245605,
          0.23959452781235757,
          0.40188537526544377,
          0.11859182889191151,
          -0.16894619053805515,
          -0.00488161691621023,
          -0.5478434669174592,
          0.29892154201847454,
          0.3466215736946302,
          -0.6752733104917216,
          -0.6136691609159391,
          -0.21151595275748825,
          0.3486963053290607,
          0.2702876367442637,
          -0.143755261443625,
          -0.11017157390822636,
          -0.1898795547647979,
          0.14267100148549478,
          0.15632339812484658,
          0.16344865656933205,
          -0.3027570231473819,
          0.1377488425080166,
          -0.19776659827142506,
          -0.29999569123415304,
          -0.287681659148024,
          -0.09772065512084228,
          -0.47255445945615393,
          -0.4607448489046476,
          0.11867964205612332,
          0.23681011776745392,
          0.01552014336206856,
          -0.5319165173653911,
          -0.010139508858948869,
          0.2484618292845106,
          -0.1412172745990813,
          0.14143766686036058,
          -0.27513602925275976,
          0.23475471521057145,
          -0.06637881611507011,
          -0.5297691913112333,
          -0.25406252172733845,
          0.14811054609282776,
          -0.40876001906997533,
          0.1765535232798472,
          -0.16791843863243439,
          0.21364375341831648,
          -0.3841744001759773,
          -0.0766627855854136,
          -0.1646963998506794,
          0.44995457262760696,
          -0.24862426014816075,
          0.4174343975774346,
          0.09088749666565225,
          0.38882524748337677,
          -0.5196530105359071,
          0.31216419005870877,
          -0.4788854157110215,
          0.24639188073548535,
          0.22914821294720894,
          0.26097514715481124,
          -0.06690501234857889,
          -0.1954864151591631,
          -0.5730730541639489,
          0.20676745469087976,
          -0.29128362902352084,
          -0.4693745119936003,
          0.16551080391896805,
          -0.33110484358668657,
          -0.5622893138333875,
          0.28428148983077794,
          -0.48412826949680415,
          -0.4953460891448439,
          0.3210718112774059,
          0.2160613717830232,
          -0.3364317308246125,
          0.25083168541373646,
          -0.01796666058883127,
          0.29648534597228,
          0.43235056220039264,
          -0.16340982349345862,
          -0.2227981799330449,
          -0.46098607227342414,
          -0.17298968529958952,
          -0.4651933937445062,
          0.25818402690739267,
          -0.5091312015872865,
          -0.17757598350897813,
          0.30652548082890485,
          0.1968380526469113,
          -0.5179010758073609,
          -0.11008091286825251,
          -0.09823025993640981,
          -0.4597191521618348,
          -0.5442743601154277,
          0.14320573282872356,
          0.34637958459821094,
          0.10495682898758327,
          -0.3704841905947778,
          -0.052908183645782286,
          0.10907504006073483,
          0.007350410410370774,
          -0.6728203756577461,
          -0.5807346859157535,
          0.27327448863754084,
          -0.49430706398825247,
          -0.5922589566010172,
          -0.28073518163815364,
          -0.6809555777569912,
          0.24951023020448826,
          -0.552218536368806,
          0.20147717532473086,
          -0.24898918895060335,
          -0.3400003003672213,
          0.07596639344280186,
          -0.5969488074753945,
          -0.47081507182354104,
          0.21849722438957897,
          -0.2522696589974957,
          0.30236752587747656,
          -0.600801475599476,
          -0.544300862242152,
          -0.2299207812450515,
          0.14583994880229234,
          -0.6017449518114764,
          0.16155525196237708,
          -0.6292032782835375,
          -0.5739642236504904,
          -0.17853897505993055,
          -0.5440702615876152,
          -0.011854137682366084,
          -0.2872235774725896,
          0.3463418973666855,
          -0.08024951991266355,
          -0.32982440402476265,
          -0.18190649498640904,
          0.2755366707738617
         ],
         "y": [
          -0.017841140977657044,
          0.009894401596529545,
          -0.0034775488425592416,
          -0.00425833163827305,
          -0.014230086493795618,
          0.02785870825077283,
          -0.013947348555608807,
          0.029111350899161836,
          0.03991450557129789,
          -0.021288451135258124,
          -0.040077650580610386,
          -0.018050150083303323,
          -0.020633201080899083,
          -0.000961000717260907,
          -0.014522184798505422,
          -0.00532915738091444,
          -0.047380279495570485,
          -0.06786352649320584,
          0.00352814082504907,
          -0.020542174656572487,
          -0.008397776738496399,
          0.014533650105437834,
          0.0055052549653583915,
          0.03217537163463438,
          0.07829803146596644,
          0.0361401138949588,
          0.039703801036311076,
          -0.014220684133376515,
          -0.01284495365570526,
          0.006753627645999766,
          -0.04271276610163033,
          -0.06613865022354252,
          0.00408584652423416,
          0.016659280229883444,
          0.014033119267694572,
          0.0003117552053109318,
          0.03400611795609963,
          0.01236284074359617,
          0.018399481567091175,
          -0.01802305996157098,
          -0.00033757551421162435,
          0.010960661311883502,
          -0.0006486466742270935,
          0.028063400843577058,
          0.01059049860129524,
          0.014756527600076286,
          0.03084383463832102,
          -0.005074289334939142,
          -0.038076516103612706,
          0.01649281865138333,
          -0.04252718543726092,
          -0.010528626433980448,
          -0.01837069358382648,
          -0.015744720383440547,
          0.010828872987502125,
          0.012336393718950733,
          -0.010093389565442146,
          0.001342720483524254,
          0.01937463673894413,
          -0.028662007592188496,
          -0.029896070889026294,
          0.06950369276687801,
          0.0014785492175652948,
          -0.013803321266447621,
          -0.006664979584816599,
          -0.0019115539168009787,
          0.004847466021460023,
          0.02888059669660764,
          -0.0009964774687611921,
          0.05279488224536885,
          0.02903066389214795,
          -0.018672170638532715,
          0.0013123842621281245,
          0.029990191806575472,
          0.005344647753943499,
          0.007183047335283244,
          -0.012889694975243171,
          0.03200236446781002,
          0.026799995733181037,
          0.01217774955682422,
          0.05983437336549885,
          -0.0005719803986875549,
          0.026869620518552517,
          0.0008888895736384184,
          0.008903956350905351,
          0.02891943671763103,
          0.060985244949246065,
          0.023734704717604138,
          -0.017421720945730246,
          0.036418413629786844,
          0.0466545126509903,
          -0.00265463040052899,
          -0.003525602710476,
          -0.02400523002192677,
          -0.0006928483878369529,
          -0.013172303133565433,
          0.015809681657413643,
          -0.0034582126001030944,
          -0.011823734057276158,
          0.005424444268000095,
          0.005938893968523887,
          -0.015068667642997524,
          0.009051602140087378,
          0.0340908760273152,
          -0.01759239645095767,
          0.01712006987640785,
          -0.10541703632068644,
          0.1038139605395487,
          -0.004757927618563473,
          -0.01234533929339604,
          -0.030110057281669073,
          -0.00936596737300377,
          -0.050079316269564245,
          0.01226668191712521,
          -0.007164297095456962,
          0.026102282386364167,
          0.003650497420794676,
          0.017923579257516697,
          -0.023235798236709376,
          -0.04666012406014791,
          0.017286158474576152,
          -0.018728657279340477,
          0.05753625700209425,
          -0.010493525196527964,
          -0.023332817410844198,
          0.0050321985647486245,
          0.003789296874247672,
          -0.08026974590787733,
          0.021079756662625987,
          -0.02435336507452321,
          -0.04534569897093495,
          -0.0025680042438990247,
          0.045064857948176995,
          -0.03582153235306995,
          -0.0060626587595872805,
          0.008096099037930876,
          0.007920394283031817,
          0.007076435399954867,
          0.00961909320366594,
          0.025209776223504676,
          -0.012636113303021501,
          0.024178999620336393,
          0.019268951506744902,
          0.03004670474970894,
          0.0031137806003949803,
          0.015104572538164052,
          0.01883441914468673,
          -0.02531801581059301,
          0.026281327693728873,
          -0.0450716432055035,
          0.046569997782931805,
          0.034615216612462474,
          -0.0005642886724380458,
          -0.026798123558724518,
          -0.021868335060247712,
          0.04879655416301139,
          0.003989137844626969,
          0.041712041560295204,
          -0.017166903751370283,
          -0.005654355432246766,
          0.019587299040273842,
          -0.01459743030283528,
          -0.018423115771542417,
          0.05967965188383706,
          0.03959636101236502,
          -0.006290065647875598,
          -0.0005636719062608181,
          -0.017042422704646676,
          -0.011039543245499994,
          -0.002746929134050821,
          -0.01507839125390012,
          -0.02183234091914496,
          0.005322987683421543,
          -0.01280047028201993,
          0.001412391395025192,
          -0.055586238090748724,
          0.0020451067271749224,
          0.04289465418900415,
          -0.02563408383333335,
          0.015691351333224517,
          -0.002940231103075175,
          0.024138709728380864,
          0.03591269296812494,
          -0.0014602884779249536,
          -0.029402292357995186,
          -0.04447355982694062,
          -0.004866118203182973,
          0.06692389216462263,
          0.018596859674245306,
          -0.06660962483759139,
          -0.030181492483786043,
          -0.04129446469062825,
          -0.021251936965656526,
          -0.07644628566265796,
          0.01619075182752122,
          -0.011736598167261136,
          -0.02829148572157797,
          -0.033429055297370946,
          -0.043116931521826635,
          0.011294961155809857,
          0.005630721260340643,
          -0.017765395811672607,
          -0.025323340243881998,
          0.004359421343835046,
          0.008619714982265742,
          -0.018068769951337438,
          -0.04304390445365486,
          -0.016769548717216642,
          -0.07770209142638351,
          -0.004480911929550135,
          -0.015352983973949963,
          -0.00833682490720783,
          -0.011340897905727787,
          0.039672786960446904,
          0.0036647072694586946,
          0.02427343929757697,
          -0.006662967236522349,
          0.019240815038802272,
          0.01661576918274771,
          0.020989679566383868,
          0.027505334886288924,
          -0.001607326498110101,
          -0.04394985831850706,
          0.01827511590238662,
          -0.010997381140029017,
          -0.010746934297845262,
          -0.013980909120608231,
          0.025251604195641042,
          0.027188704650658646,
          0.019079230835718913,
          -0.0012359742007853614,
          -0.005350685075639183,
          0.04182698532420881,
          -0.010922078022241821,
          0.0008816300556521162,
          -0.014615145358490372,
          -0.025177702480117525,
          0.02226716535966472,
          -0.02429312308312942,
          -0.0012087670342765117,
          0.034355721163800076,
          -0.20642462746601517,
          0.034343099497473606,
          0.0018054602814840948,
          -0.008092458659530344,
          -0.013590637670580274,
          0.04099404439910692,
          0.0033911591390076157,
          0.025824593118464856,
          0.011883777434015252,
          -0.015247989046374366,
          0.025918348656177648,
          0.027436354483470538,
          0.01786538746213351,
          0.0004183704083556422,
          0.010168172929335029,
          -0.029137741386950244,
          0.006170346296514639,
          0.009272269982066206,
          -0.009188572920174776,
          -0.016891152868069748,
          0.019099931864667852,
          -0.002289354686048295,
          0.03927967281288636,
          0.0029663495728262657,
          -0.025695302465700565,
          0.01712766787150144,
          -0.0006210182275645515,
          0.03934010583892725,
          0.013984926316398028,
          -0.0022523027594829152,
          0.022973905220260382,
          0.005402976329289488,
          -0.011139521808479158,
          -0.08615318052704385,
          0.00869352254148284,
          -0.013623015228184487
         ]
        },
        {
         "mode": "lines",
         "name": "Zero Line",
         "type": "scatter",
         "x": [
          -0.4928936923660086,
          0.30949925803590594,
          -0.5064154929493117,
          0.15335812328131815,
          0.08879616195698402,
          0.19570201397878367,
          -0.47707844641921127,
          -0.6009063197913675,
          0.2705832956709835,
          0.1739683742400852,
          0.08643891218678258,
          0.2599793237402203,
          0.20820009951982238,
          -0.584437500426624,
          -0.5464231320311975,
          -0.5703057669266601,
          0.09787255960335418,
          0.31042144716017583,
          -0.16239973490536386,
          -0.5541730188418452,
          -0.5565018275606103,
          -0.6052477988905561,
          0.2024462082643083,
          0.18497339968660143,
          0.08480022166672437,
          -0.21143151939430221,
          -0.2890665201224938,
          0.12892190921684332,
          -0.4890356470456345,
          0.23857395135075204,
          0.3839717571275518,
          -0.10655467431421008,
          -0.5518381006194135,
          -0.05508372041439604,
          -0.5472361834076764,
          -0.23400804926458613,
          0.12463381936634176,
          -0.571712979629383,
          0.17710199799213971,
          0.02979356298390658,
          0.22657439724985984,
          -0.1783538784875921,
          -0.4246820451967341,
          -0.49821098930198016,
          -0.5828790299320357,
          -0.4709524339806789,
          -0.5053874192159394,
          -0.5708775456661009,
          0.2801875744567544,
          0.23339170935618608,
          -0.26568205157152647,
          0.18631076029633226,
          -0.4325251054347321,
          -0.4864631776265371,
          -0.6342632381797648,
          0.24926550479727777,
          -0.604367257266443,
          0.12446790132889345,
          -0.6097042429012683,
          0.148512615186992,
          0.3485777320157524,
          0.1610718797738292,
          -0.5381941921771394,
          -0.1724935355229842,
          -0.5500246793612064,
          -0.5850145725288104,
          0.2802567261542764,
          0.11525693008248106,
          -0.534970932762708,
          0.044093852827445046,
          -0.24381293172252755,
          0.15310844027234533,
          -0.10396146827579053,
          -0.6749211239101356,
          -0.5373006044889916,
          0.18044109641779615,
          -0.41181748283682074,
          -0.356839303773351,
          -0.5312162784179385,
          0.03548255253014338,
          0.14794043811909874,
          -0.5709423913095866,
          -0.20694148547276642,
          -0.5035541157997554,
          -0.27484236537084095,
          0.07565444213707608,
          0.31503608202870304,
          0.23477023816020465,
          -0.5375999744630312,
          0.18651372016399415,
          -0.1524213255334172,
          0.2646150653580513,
          0.2178163898293955,
          -0.08217720604167263,
          -0.4222476533992586,
          -0.5314102890169876,
          0.45519747893332574,
          0.3730571227674205,
          0.19959329042276885,
          0.0628386208154696,
          0.11193714672358611,
          0.23635876479387852,
          -0.654829479459459,
          0.1152375797237997,
          -0.515371616965782,
          -0.42384849254792223,
          -0.24571246963021165,
          -0.1440050767490298,
          0.27250172504863085,
          0.19683098094736623,
          0.2607064030527211,
          0.44327261429084996,
          -0.4698215067458758,
          -0.1866227370409838,
          -0.5686004995453416,
          0.15174274425121564,
          0.020902519531770122,
          -0.47994439457135407,
          0.2534893064199343,
          0.306079564795958,
          -0.5626533761499065,
          0.33582552707732266,
          -0.36173404051446045,
          0.42849992931538006,
          0.2593384489339583,
          0.18386497948762587,
          0.2964565187572055,
          -0.40450505105022455,
          -0.10158283281173199,
          0.13890901897129931,
          0.15878943003429585,
          0.3926190318441497,
          -0.2444664515995978,
          0.25255452191885586,
          0.42623058885423587,
          0.22047905899286002,
          -0.5685384138040969,
          0.16825883614856862,
          0.40287939196255607,
          -0.5203768970279699,
          -0.41806223857217367,
          0.009831070090245605,
          0.23959452781235757,
          0.40188537526544377,
          0.11859182889191151,
          -0.16894619053805515,
          -0.00488161691621023,
          -0.5478434669174592,
          0.29892154201847454,
          0.3466215736946302,
          -0.6752733104917216,
          -0.6136691609159391,
          -0.21151595275748825,
          0.3486963053290607,
          0.2702876367442637,
          -0.143755261443625,
          -0.11017157390822636,
          -0.1898795547647979,
          0.14267100148549478,
          0.15632339812484658,
          0.16344865656933205,
          -0.3027570231473819,
          0.1377488425080166,
          -0.19776659827142506,
          -0.29999569123415304,
          -0.287681659148024,
          -0.09772065512084228,
          -0.47255445945615393,
          -0.4607448489046476,
          0.11867964205612332,
          0.23681011776745392,
          0.01552014336206856,
          -0.5319165173653911,
          -0.010139508858948869,
          0.2484618292845106,
          -0.1412172745990813,
          0.14143766686036058,
          -0.27513602925275976,
          0.23475471521057145,
          -0.06637881611507011,
          -0.5297691913112333,
          -0.25406252172733845,
          0.14811054609282776,
          -0.40876001906997533,
          0.1765535232798472,
          -0.16791843863243439,
          0.21364375341831648,
          -0.3841744001759773,
          -0.0766627855854136,
          -0.1646963998506794,
          0.44995457262760696,
          -0.24862426014816075,
          0.4174343975774346,
          0.09088749666565225,
          0.38882524748337677,
          -0.5196530105359071,
          0.31216419005870877,
          -0.4788854157110215,
          0.24639188073548535,
          0.22914821294720894,
          0.26097514715481124,
          -0.06690501234857889,
          -0.1954864151591631,
          -0.5730730541639489,
          0.20676745469087976,
          -0.29128362902352084,
          -0.4693745119936003,
          0.16551080391896805,
          -0.33110484358668657,
          -0.5622893138333875,
          0.28428148983077794,
          -0.48412826949680415,
          -0.4953460891448439,
          0.3210718112774059,
          0.2160613717830232,
          -0.3364317308246125,
          0.25083168541373646,
          -0.01796666058883127,
          0.29648534597228,
          0.43235056220039264,
          -0.16340982349345862,
          -0.2227981799330449,
          -0.46098607227342414,
          -0.17298968529958952,
          -0.4651933937445062,
          0.25818402690739267,
          -0.5091312015872865,
          -0.17757598350897813,
          0.30652548082890485,
          0.1968380526469113,
          -0.5179010758073609,
          -0.11008091286825251,
          -0.09823025993640981,
          -0.4597191521618348,
          -0.5442743601154277,
          0.14320573282872356,
          0.34637958459821094,
          0.10495682898758327,
          -0.3704841905947778,
          -0.052908183645782286,
          0.10907504006073483,
          0.007350410410370774,
          -0.6728203756577461,
          -0.5807346859157535,
          0.27327448863754084,
          -0.49430706398825247,
          -0.5922589566010172,
          -0.28073518163815364,
          -0.6809555777569912,
          0.24951023020448826,
          -0.552218536368806,
          0.20147717532473086,
          -0.24898918895060335,
          -0.3400003003672213,
          0.07596639344280186,
          -0.5969488074753945,
          -0.47081507182354104,
          0.21849722438957897,
          -0.2522696589974957,
          0.30236752587747656,
          -0.600801475599476,
          -0.544300862242152,
          -0.2299207812450515,
          0.14583994880229234,
          -0.6017449518114764,
          0.16155525196237708,
          -0.6292032782835375,
          -0.5739642236504904,
          -0.17853897505993055,
          -0.5440702615876152,
          -0.011854137682366084,
          -0.2872235774725896,
          0.3463418973666855,
          -0.08024951991266355,
          -0.32982440402476265,
          -0.18190649498640904,
          0.2755366707738617
         ],
         "y": [
          0,
          0,
          0,
          0,
          0,
          0,
          0,
          0,
          0,
          0,
          0,
          0,
          0,
          0,
          0,
          0,
          0,
          0,
          0,
          0,
          0,
          0,
          0,
          0,
          0,
          0,
          0,
          0,
          0,
          0,
          0,
          0,
          0,
          0,
          0,
          0,
          0,
          0,
          0,
          0,
          0,
          0,
          0,
          0,
          0,
          0,
          0,
          0,
          0,
          0,
          0,
          0,
          0,
          0,
          0,
          0,
          0,
          0,
          0,
          0,
          0,
          0,
          0,
          0,
          0,
          0,
          0,
          0,
          0,
          0,
          0,
          0,
          0,
          0,
          0,
          0,
          0,
          0,
          0,
          0,
          0,
          0,
          0,
          0,
          0,
          0,
          0,
          0,
          0,
          0,
          0,
          0,
          0,
          0,
          0,
          0,
          0,
          0,
          0,
          0,
          0,
          0,
          0,
          0,
          0,
          0,
          0,
          0,
          0,
          0,
          0,
          0,
          0,
          0,
          0,
          0,
          0,
          0,
          0,
          0,
          0,
          0,
          0,
          0,
          0,
          0,
          0,
          0,
          0,
          0,
          0,
          0,
          0,
          0,
          0,
          0,
          0,
          0,
          0,
          0,
          0,
          0,
          0,
          0,
          0,
          0,
          0,
          0,
          0,
          0,
          0,
          0,
          0,
          0,
          0,
          0,
          0,
          0,
          0,
          0,
          0,
          0,
          0,
          0,
          0,
          0,
          0,
          0,
          0,
          0,
          0,
          0,
          0,
          0,
          0,
          0,
          0,
          0,
          0,
          0,
          0,
          0,
          0,
          0,
          0,
          0,
          0,
          0,
          0,
          0,
          0,
          0,
          0,
          0,
          0,
          0,
          0,
          0,
          0,
          0,
          0,
          0,
          0,
          0,
          0,
          0,
          0,
          0,
          0,
          0,
          0,
          0,
          0,
          0,
          0,
          0,
          0,
          0,
          0,
          0,
          0,
          0,
          0,
          0,
          0,
          0,
          0,
          0,
          0,
          0,
          0,
          0,
          0,
          0,
          0,
          0,
          0,
          0,
          0,
          0,
          0,
          0,
          0,
          0,
          0,
          0,
          0,
          0,
          0,
          0,
          0,
          0,
          0,
          0,
          0,
          0,
          0,
          0,
          0,
          0,
          0,
          0,
          0,
          0,
          0,
          0,
          0,
          0,
          0,
          0,
          0,
          0,
          0,
          0,
          0,
          0,
          0
         ]
        }
       ],
       "layout": {
        "template": {
         "data": {
          "bar": [
           {
            "error_x": {
             "color": "#f2f5fa"
            },
            "error_y": {
             "color": "#f2f5fa"
            },
            "marker": {
             "line": {
              "color": "rgb(17,17,17)",
              "width": 0.5
             },
             "pattern": {
              "fillmode": "overlay",
              "size": 10,
              "solidity": 0.2
             }
            },
            "type": "bar"
           }
          ],
          "barpolar": [
           {
            "marker": {
             "line": {
              "color": "rgb(17,17,17)",
              "width": 0.5
             },
             "pattern": {
              "fillmode": "overlay",
              "size": 10,
              "solidity": 0.2
             }
            },
            "type": "barpolar"
           }
          ],
          "carpet": [
           {
            "aaxis": {
             "endlinecolor": "#A2B1C6",
             "gridcolor": "#506784",
             "linecolor": "#506784",
             "minorgridcolor": "#506784",
             "startlinecolor": "#A2B1C6"
            },
            "baxis": {
             "endlinecolor": "#A2B1C6",
             "gridcolor": "#506784",
             "linecolor": "#506784",
             "minorgridcolor": "#506784",
             "startlinecolor": "#A2B1C6"
            },
            "type": "carpet"
           }
          ],
          "choropleth": [
           {
            "colorbar": {
             "outlinewidth": 0,
             "ticks": ""
            },
            "type": "choropleth"
           }
          ],
          "contour": [
           {
            "colorbar": {
             "outlinewidth": 0,
             "ticks": ""
            },
            "colorscale": [
             [
              0,
              "#0d0887"
             ],
             [
              0.1111111111111111,
              "#46039f"
             ],
             [
              0.2222222222222222,
              "#7201a8"
             ],
             [
              0.3333333333333333,
              "#9c179e"
             ],
             [
              0.4444444444444444,
              "#bd3786"
             ],
             [
              0.5555555555555556,
              "#d8576b"
             ],
             [
              0.6666666666666666,
              "#ed7953"
             ],
             [
              0.7777777777777778,
              "#fb9f3a"
             ],
             [
              0.8888888888888888,
              "#fdca26"
             ],
             [
              1,
              "#f0f921"
             ]
            ],
            "type": "contour"
           }
          ],
          "contourcarpet": [
           {
            "colorbar": {
             "outlinewidth": 0,
             "ticks": ""
            },
            "type": "contourcarpet"
           }
          ],
          "heatmap": [
           {
            "colorbar": {
             "outlinewidth": 0,
             "ticks": ""
            },
            "colorscale": [
             [
              0,
              "#0d0887"
             ],
             [
              0.1111111111111111,
              "#46039f"
             ],
             [
              0.2222222222222222,
              "#7201a8"
             ],
             [
              0.3333333333333333,
              "#9c179e"
             ],
             [
              0.4444444444444444,
              "#bd3786"
             ],
             [
              0.5555555555555556,
              "#d8576b"
             ],
             [
              0.6666666666666666,
              "#ed7953"
             ],
             [
              0.7777777777777778,
              "#fb9f3a"
             ],
             [
              0.8888888888888888,
              "#fdca26"
             ],
             [
              1,
              "#f0f921"
             ]
            ],
            "type": "heatmap"
           }
          ],
          "heatmapgl": [
           {
            "colorbar": {
             "outlinewidth": 0,
             "ticks": ""
            },
            "colorscale": [
             [
              0,
              "#0d0887"
             ],
             [
              0.1111111111111111,
              "#46039f"
             ],
             [
              0.2222222222222222,
              "#7201a8"
             ],
             [
              0.3333333333333333,
              "#9c179e"
             ],
             [
              0.4444444444444444,
              "#bd3786"
             ],
             [
              0.5555555555555556,
              "#d8576b"
             ],
             [
              0.6666666666666666,
              "#ed7953"
             ],
             [
              0.7777777777777778,
              "#fb9f3a"
             ],
             [
              0.8888888888888888,
              "#fdca26"
             ],
             [
              1,
              "#f0f921"
             ]
            ],
            "type": "heatmapgl"
           }
          ],
          "histogram": [
           {
            "marker": {
             "pattern": {
              "fillmode": "overlay",
              "size": 10,
              "solidity": 0.2
             }
            },
            "type": "histogram"
           }
          ],
          "histogram2d": [
           {
            "colorbar": {
             "outlinewidth": 0,
             "ticks": ""
            },
            "colorscale": [
             [
              0,
              "#0d0887"
             ],
             [
              0.1111111111111111,
              "#46039f"
             ],
             [
              0.2222222222222222,
              "#7201a8"
             ],
             [
              0.3333333333333333,
              "#9c179e"
             ],
             [
              0.4444444444444444,
              "#bd3786"
             ],
             [
              0.5555555555555556,
              "#d8576b"
             ],
             [
              0.6666666666666666,
              "#ed7953"
             ],
             [
              0.7777777777777778,
              "#fb9f3a"
             ],
             [
              0.8888888888888888,
              "#fdca26"
             ],
             [
              1,
              "#f0f921"
             ]
            ],
            "type": "histogram2d"
           }
          ],
          "histogram2dcontour": [
           {
            "colorbar": {
             "outlinewidth": 0,
             "ticks": ""
            },
            "colorscale": [
             [
              0,
              "#0d0887"
             ],
             [
              0.1111111111111111,
              "#46039f"
             ],
             [
              0.2222222222222222,
              "#7201a8"
             ],
             [
              0.3333333333333333,
              "#9c179e"
             ],
             [
              0.4444444444444444,
              "#bd3786"
             ],
             [
              0.5555555555555556,
              "#d8576b"
             ],
             [
              0.6666666666666666,
              "#ed7953"
             ],
             [
              0.7777777777777778,
              "#fb9f3a"
             ],
             [
              0.8888888888888888,
              "#fdca26"
             ],
             [
              1,
              "#f0f921"
             ]
            ],
            "type": "histogram2dcontour"
           }
          ],
          "mesh3d": [
           {
            "colorbar": {
             "outlinewidth": 0,
             "ticks": ""
            },
            "type": "mesh3d"
           }
          ],
          "parcoords": [
           {
            "line": {
             "colorbar": {
              "outlinewidth": 0,
              "ticks": ""
             }
            },
            "type": "parcoords"
           }
          ],
          "pie": [
           {
            "automargin": true,
            "type": "pie"
           }
          ],
          "scatter": [
           {
            "marker": {
             "line": {
              "color": "#283442"
             }
            },
            "type": "scatter"
           }
          ],
          "scatter3d": [
           {
            "line": {
             "colorbar": {
              "outlinewidth": 0,
              "ticks": ""
             }
            },
            "marker": {
             "colorbar": {
              "outlinewidth": 0,
              "ticks": ""
             }
            },
            "type": "scatter3d"
           }
          ],
          "scattercarpet": [
           {
            "marker": {
             "colorbar": {
              "outlinewidth": 0,
              "ticks": ""
             }
            },
            "type": "scattercarpet"
           }
          ],
          "scattergeo": [
           {
            "marker": {
             "colorbar": {
              "outlinewidth": 0,
              "ticks": ""
             }
            },
            "type": "scattergeo"
           }
          ],
          "scattergl": [
           {
            "marker": {
             "line": {
              "color": "#283442"
             }
            },
            "type": "scattergl"
           }
          ],
          "scattermapbox": [
           {
            "marker": {
             "colorbar": {
              "outlinewidth": 0,
              "ticks": ""
             }
            },
            "type": "scattermapbox"
           }
          ],
          "scatterpolar": [
           {
            "marker": {
             "colorbar": {
              "outlinewidth": 0,
              "ticks": ""
             }
            },
            "type": "scatterpolar"
           }
          ],
          "scatterpolargl": [
           {
            "marker": {
             "colorbar": {
              "outlinewidth": 0,
              "ticks": ""
             }
            },
            "type": "scatterpolargl"
           }
          ],
          "scatterternary": [
           {
            "marker": {
             "colorbar": {
              "outlinewidth": 0,
              "ticks": ""
             }
            },
            "type": "scatterternary"
           }
          ],
          "surface": [
           {
            "colorbar": {
             "outlinewidth": 0,
             "ticks": ""
            },
            "colorscale": [
             [
              0,
              "#0d0887"
             ],
             [
              0.1111111111111111,
              "#46039f"
             ],
             [
              0.2222222222222222,
              "#7201a8"
             ],
             [
              0.3333333333333333,
              "#9c179e"
             ],
             [
              0.4444444444444444,
              "#bd3786"
             ],
             [
              0.5555555555555556,
              "#d8576b"
             ],
             [
              0.6666666666666666,
              "#ed7953"
             ],
             [
              0.7777777777777778,
              "#fb9f3a"
             ],
             [
              0.8888888888888888,
              "#fdca26"
             ],
             [
              1,
              "#f0f921"
             ]
            ],
            "type": "surface"
           }
          ],
          "table": [
           {
            "cells": {
             "fill": {
              "color": "#506784"
             },
             "line": {
              "color": "rgb(17,17,17)"
             }
            },
            "header": {
             "fill": {
              "color": "#2a3f5f"
             },
             "line": {
              "color": "rgb(17,17,17)"
             }
            },
            "type": "table"
           }
          ]
         },
         "layout": {
          "annotationdefaults": {
           "arrowcolor": "#f2f5fa",
           "arrowhead": 0,
           "arrowwidth": 1
          },
          "autotypenumbers": "strict",
          "coloraxis": {
           "colorbar": {
            "outlinewidth": 0,
            "ticks": ""
           }
          },
          "colorscale": {
           "diverging": [
            [
             0,
             "#8e0152"
            ],
            [
             0.1,
             "#c51b7d"
            ],
            [
             0.2,
             "#de77ae"
            ],
            [
             0.3,
             "#f1b6da"
            ],
            [
             0.4,
             "#fde0ef"
            ],
            [
             0.5,
             "#f7f7f7"
            ],
            [
             0.6,
             "#e6f5d0"
            ],
            [
             0.7,
             "#b8e186"
            ],
            [
             0.8,
             "#7fbc41"
            ],
            [
             0.9,
             "#4d9221"
            ],
            [
             1,
             "#276419"
            ]
           ],
           "sequential": [
            [
             0,
             "#0d0887"
            ],
            [
             0.1111111111111111,
             "#46039f"
            ],
            [
             0.2222222222222222,
             "#7201a8"
            ],
            [
             0.3333333333333333,
             "#9c179e"
            ],
            [
             0.4444444444444444,
             "#bd3786"
            ],
            [
             0.5555555555555556,
             "#d8576b"
            ],
            [
             0.6666666666666666,
             "#ed7953"
            ],
            [
             0.7777777777777778,
             "#fb9f3a"
            ],
            [
             0.8888888888888888,
             "#fdca26"
            ],
            [
             1,
             "#f0f921"
            ]
           ],
           "sequentialminus": [
            [
             0,
             "#0d0887"
            ],
            [
             0.1111111111111111,
             "#46039f"
            ],
            [
             0.2222222222222222,
             "#7201a8"
            ],
            [
             0.3333333333333333,
             "#9c179e"
            ],
            [
             0.4444444444444444,
             "#bd3786"
            ],
            [
             0.5555555555555556,
             "#d8576b"
            ],
            [
             0.6666666666666666,
             "#ed7953"
            ],
            [
             0.7777777777777778,
             "#fb9f3a"
            ],
            [
             0.8888888888888888,
             "#fdca26"
            ],
            [
             1,
             "#f0f921"
            ]
           ]
          },
          "colorway": [
           "#636efa",
           "#EF553B",
           "#00cc96",
           "#ab63fa",
           "#FFA15A",
           "#19d3f3",
           "#FF6692",
           "#B6E880",
           "#FF97FF",
           "#FECB52"
          ],
          "font": {
           "color": "#f2f5fa"
          },
          "geo": {
           "bgcolor": "rgb(17,17,17)",
           "lakecolor": "rgb(17,17,17)",
           "landcolor": "rgb(17,17,17)",
           "showlakes": true,
           "showland": true,
           "subunitcolor": "#506784"
          },
          "hoverlabel": {
           "align": "left"
          },
          "hovermode": "closest",
          "mapbox": {
           "style": "dark"
          },
          "paper_bgcolor": "rgb(17,17,17)",
          "plot_bgcolor": "rgb(17,17,17)",
          "polar": {
           "angularaxis": {
            "gridcolor": "#506784",
            "linecolor": "#506784",
            "ticks": ""
           },
           "bgcolor": "rgb(17,17,17)",
           "radialaxis": {
            "gridcolor": "#506784",
            "linecolor": "#506784",
            "ticks": ""
           }
          },
          "scene": {
           "xaxis": {
            "backgroundcolor": "rgb(17,17,17)",
            "gridcolor": "#506784",
            "gridwidth": 2,
            "linecolor": "#506784",
            "showbackground": true,
            "ticks": "",
            "zerolinecolor": "#C8D4E3"
           },
           "yaxis": {
            "backgroundcolor": "rgb(17,17,17)",
            "gridcolor": "#506784",
            "gridwidth": 2,
            "linecolor": "#506784",
            "showbackground": true,
            "ticks": "",
            "zerolinecolor": "#C8D4E3"
           },
           "zaxis": {
            "backgroundcolor": "rgb(17,17,17)",
            "gridcolor": "#506784",
            "gridwidth": 2,
            "linecolor": "#506784",
            "showbackground": true,
            "ticks": "",
            "zerolinecolor": "#C8D4E3"
           }
          },
          "shapedefaults": {
           "line": {
            "color": "#f2f5fa"
           }
          },
          "sliderdefaults": {
           "bgcolor": "#C8D4E3",
           "bordercolor": "rgb(17,17,17)",
           "borderwidth": 1,
           "tickwidth": 0
          },
          "ternary": {
           "aaxis": {
            "gridcolor": "#506784",
            "linecolor": "#506784",
            "ticks": ""
           },
           "baxis": {
            "gridcolor": "#506784",
            "linecolor": "#506784",
            "ticks": ""
           },
           "bgcolor": "rgb(17,17,17)",
           "caxis": {
            "gridcolor": "#506784",
            "linecolor": "#506784",
            "ticks": ""
           }
          },
          "title": {
           "x": 0.05
          },
          "updatemenudefaults": {
           "bgcolor": "#506784",
           "borderwidth": 0
          },
          "xaxis": {
           "automargin": true,
           "gridcolor": "#283442",
           "linecolor": "#506784",
           "ticks": "",
           "title": {
            "standoff": 15
           },
           "zerolinecolor": "#283442",
           "zerolinewidth": 2
          },
          "yaxis": {
           "automargin": true,
           "gridcolor": "#283442",
           "linecolor": "#506784",
           "ticks": "",
           "title": {
            "standoff": 15
           },
           "zerolinecolor": "#283442",
           "zerolinewidth": 2
          }
         }
        },
        "title": {
         "text": "Residuals vs Predicted Closing Prices"
        },
        "xaxis": {
         "title": {
          "text": "Predicted Closing Prices"
         }
        },
        "yaxis": {
         "title": {
          "text": "Residuals"
         }
        }
       }
      }
     },
     "metadata": {},
     "output_type": "display_data"
    }
   ],
   "source": [
    "# Calculate the residuals first.\n",
    "residuals = y_test - y_pred\n",
    "\n",
    "# Create the residuals plot\n",
    "fig = go.Figure()\n",
    "\n",
    "fig.add_trace(go.Scatter(x = y_pred, y = residuals,\n",
    "                mode = 'markers',\n",
    "                name = 'Residuals'))\n",
    "\n",
    "fig.add_trace(go.Scatter(x = y_pred, y = np.zeros_like(y_pred),\n",
    "                mode = 'lines',\n",
    "                name = 'Zero Line'))\n",
    "\n",
    "fig.update_layout(title = 'Residuals vs Predicted Closing Prices',\n",
    "                xaxis_title = 'Predicted Closing Prices',\n",
    "                yaxis_title = 'Residuals',\n",
    "                template = 'plotly_dark')\n",
    "\n",
    "fig.show()\n",
    "\n",
    "\n"
   ]
  },
  {
   "cell_type": "markdown",
   "metadata": {},
   "source": [
    "#### In the plot above, contrary to many other plots we create, we are wanting to see randomness.  We are looking for the data to be scattered around the zero line and randomly distributed, and that the spread is fairly symmetrical around the zero.  If there was clustering it could indicate bias in the predictions.  "
   ]
  },
  {
   "cell_type": "markdown",
   "metadata": {},
   "source": [
    "#### Since we have our residuals variable established let's make a distribution plot for it to get another look."
   ]
  },
  {
   "cell_type": "code",
   "execution_count": 34,
   "metadata": {},
   "outputs": [
    {
     "data": {
      "application/vnd.plotly.v1+json": {
       "config": {
        "plotlyServerURL": "https://plot.ly"
       },
       "data": [
        {
         "alignmentgroup": "True",
         "bingroup": "x",
         "histnorm": "probability density",
         "hovertemplate": "variable=Close<br>value=%{x}<br>probability density=%{y}<extra></extra>",
         "legendgroup": "Close",
         "marker": {
          "color": "#636efa",
          "pattern": {
           "shape": ""
          }
         },
         "name": "Close",
         "nbinsx": 30,
         "offsetgroup": "Close",
         "orientation": "v",
         "showlegend": true,
         "type": "histogram",
         "x": [
          -0.017841140977657044,
          0.009894401596529545,
          -0.0034775488425592416,
          -0.00425833163827305,
          -0.014230086493795618,
          0.02785870825077283,
          -0.013947348555608807,
          0.029111350899161836,
          0.03991450557129789,
          -0.021288451135258124,
          -0.040077650580610386,
          -0.018050150083303323,
          -0.020633201080899083,
          -0.000961000717260907,
          -0.014522184798505422,
          -0.00532915738091444,
          -0.047380279495570485,
          -0.06786352649320584,
          0.00352814082504907,
          -0.020542174656572487,
          -0.008397776738496399,
          0.014533650105437834,
          0.0055052549653583915,
          0.03217537163463438,
          0.07829803146596644,
          0.0361401138949588,
          0.039703801036311076,
          -0.014220684133376515,
          -0.01284495365570526,
          0.006753627645999766,
          -0.04271276610163033,
          -0.06613865022354252,
          0.00408584652423416,
          0.016659280229883444,
          0.014033119267694572,
          0.0003117552053109318,
          0.03400611795609963,
          0.01236284074359617,
          0.018399481567091175,
          -0.01802305996157098,
          -0.00033757551421162435,
          0.010960661311883502,
          -0.0006486466742270935,
          0.028063400843577058,
          0.01059049860129524,
          0.014756527600076286,
          0.03084383463832102,
          -0.005074289334939142,
          -0.038076516103612706,
          0.01649281865138333,
          -0.04252718543726092,
          -0.010528626433980448,
          -0.01837069358382648,
          -0.015744720383440547,
          0.010828872987502125,
          0.012336393718950733,
          -0.010093389565442146,
          0.001342720483524254,
          0.01937463673894413,
          -0.028662007592188496,
          -0.029896070889026294,
          0.06950369276687801,
          0.0014785492175652948,
          -0.013803321266447621,
          -0.006664979584816599,
          -0.0019115539168009787,
          0.004847466021460023,
          0.02888059669660764,
          -0.0009964774687611921,
          0.05279488224536885,
          0.02903066389214795,
          -0.018672170638532715,
          0.0013123842621281245,
          0.029990191806575472,
          0.005344647753943499,
          0.007183047335283244,
          -0.012889694975243171,
          0.03200236446781002,
          0.026799995733181037,
          0.01217774955682422,
          0.05983437336549885,
          -0.0005719803986875549,
          0.026869620518552517,
          0.0008888895736384184,
          0.008903956350905351,
          0.02891943671763103,
          0.060985244949246065,
          0.023734704717604138,
          -0.017421720945730246,
          0.036418413629786844,
          0.0466545126509903,
          -0.00265463040052899,
          -0.003525602710476,
          -0.02400523002192677,
          -0.0006928483878369529,
          -0.013172303133565433,
          0.015809681657413643,
          -0.0034582126001030944,
          -0.011823734057276158,
          0.005424444268000095,
          0.005938893968523887,
          -0.015068667642997524,
          0.009051602140087378,
          0.0340908760273152,
          -0.01759239645095767,
          0.01712006987640785,
          -0.10541703632068644,
          0.1038139605395487,
          -0.004757927618563473,
          -0.01234533929339604,
          -0.030110057281669073,
          -0.00936596737300377,
          -0.050079316269564245,
          0.01226668191712521,
          -0.007164297095456962,
          0.026102282386364167,
          0.003650497420794676,
          0.017923579257516697,
          -0.023235798236709376,
          -0.04666012406014791,
          0.017286158474576152,
          -0.018728657279340477,
          0.05753625700209425,
          -0.010493525196527964,
          -0.023332817410844198,
          0.0050321985647486245,
          0.003789296874247672,
          -0.08026974590787733,
          0.021079756662625987,
          -0.02435336507452321,
          -0.04534569897093495,
          -0.0025680042438990247,
          0.045064857948176995,
          -0.03582153235306995,
          -0.0060626587595872805,
          0.008096099037930876,
          0.007920394283031817,
          0.007076435399954867,
          0.00961909320366594,
          0.025209776223504676,
          -0.012636113303021501,
          0.024178999620336393,
          0.019268951506744902,
          0.03004670474970894,
          0.0031137806003949803,
          0.015104572538164052,
          0.01883441914468673,
          -0.02531801581059301,
          0.026281327693728873,
          -0.0450716432055035,
          0.046569997782931805,
          0.034615216612462474,
          -0.0005642886724380458,
          -0.026798123558724518,
          -0.021868335060247712,
          0.04879655416301139,
          0.003989137844626969,
          0.041712041560295204,
          -0.017166903751370283,
          -0.005654355432246766,
          0.019587299040273842,
          -0.01459743030283528,
          -0.018423115771542417,
          0.05967965188383706,
          0.03959636101236502,
          -0.006290065647875598,
          -0.0005636719062608181,
          -0.017042422704646676,
          -0.011039543245499994,
          -0.002746929134050821,
          -0.01507839125390012,
          -0.02183234091914496,
          0.005322987683421543,
          -0.01280047028201993,
          0.001412391395025192,
          -0.055586238090748724,
          0.0020451067271749224,
          0.04289465418900415,
          -0.02563408383333335,
          0.015691351333224517,
          -0.002940231103075175,
          0.024138709728380864,
          0.03591269296812494,
          -0.0014602884779249536,
          -0.029402292357995186,
          -0.04447355982694062,
          -0.004866118203182973,
          0.06692389216462263,
          0.018596859674245306,
          -0.06660962483759139,
          -0.030181492483786043,
          -0.04129446469062825,
          -0.021251936965656526,
          -0.07644628566265796,
          0.01619075182752122,
          -0.011736598167261136,
          -0.02829148572157797,
          -0.033429055297370946,
          -0.043116931521826635,
          0.011294961155809857,
          0.005630721260340643,
          -0.017765395811672607,
          -0.025323340243881998,
          0.004359421343835046,
          0.008619714982265742,
          -0.018068769951337438,
          -0.04304390445365486,
          -0.016769548717216642,
          -0.07770209142638351,
          -0.004480911929550135,
          -0.015352983973949963,
          -0.00833682490720783,
          -0.011340897905727787,
          0.039672786960446904,
          0.0036647072694586946,
          0.02427343929757697,
          -0.006662967236522349,
          0.019240815038802272,
          0.01661576918274771,
          0.020989679566383868,
          0.027505334886288924,
          -0.001607326498110101,
          -0.04394985831850706,
          0.01827511590238662,
          -0.010997381140029017,
          -0.010746934297845262,
          -0.013980909120608231,
          0.025251604195641042,
          0.027188704650658646,
          0.019079230835718913,
          -0.0012359742007853614,
          -0.005350685075639183,
          0.04182698532420881,
          -0.010922078022241821,
          0.0008816300556521162,
          -0.014615145358490372,
          -0.025177702480117525,
          0.02226716535966472,
          -0.02429312308312942,
          -0.0012087670342765117,
          0.034355721163800076,
          -0.20642462746601517,
          0.034343099497473606,
          0.0018054602814840948,
          -0.008092458659530344,
          -0.013590637670580274,
          0.04099404439910692,
          0.0033911591390076157,
          0.025824593118464856,
          0.011883777434015252,
          -0.015247989046374366,
          0.025918348656177648,
          0.027436354483470538,
          0.01786538746213351,
          0.0004183704083556422,
          0.010168172929335029,
          -0.029137741386950244,
          0.006170346296514639,
          0.009272269982066206,
          -0.009188572920174776,
          -0.016891152868069748,
          0.019099931864667852,
          -0.002289354686048295,
          0.03927967281288636,
          0.0029663495728262657,
          -0.025695302465700565,
          0.01712766787150144,
          -0.0006210182275645515,
          0.03934010583892725,
          0.013984926316398028,
          -0.0022523027594829152,
          0.022973905220260382,
          0.005402976329289488,
          -0.011139521808479158,
          -0.08615318052704385,
          0.00869352254148284,
          -0.013623015228184487
         ],
         "xaxis": "x",
         "yaxis": "y"
        },
        {
         "alignmentgroup": "True",
         "hovertemplate": "variable=Close<br>value=%{x}<extra></extra>",
         "legendgroup": "Close",
         "marker": {
          "color": "#636efa"
         },
         "name": "Close",
         "notched": true,
         "offsetgroup": "Close",
         "showlegend": false,
         "type": "box",
         "x": [
          -0.017841140977657044,
          0.009894401596529545,
          -0.0034775488425592416,
          -0.00425833163827305,
          -0.014230086493795618,
          0.02785870825077283,
          -0.013947348555608807,
          0.029111350899161836,
          0.03991450557129789,
          -0.021288451135258124,
          -0.040077650580610386,
          -0.018050150083303323,
          -0.020633201080899083,
          -0.000961000717260907,
          -0.014522184798505422,
          -0.00532915738091444,
          -0.047380279495570485,
          -0.06786352649320584,
          0.00352814082504907,
          -0.020542174656572487,
          -0.008397776738496399,
          0.014533650105437834,
          0.0055052549653583915,
          0.03217537163463438,
          0.07829803146596644,
          0.0361401138949588,
          0.039703801036311076,
          -0.014220684133376515,
          -0.01284495365570526,
          0.006753627645999766,
          -0.04271276610163033,
          -0.06613865022354252,
          0.00408584652423416,
          0.016659280229883444,
          0.014033119267694572,
          0.0003117552053109318,
          0.03400611795609963,
          0.01236284074359617,
          0.018399481567091175,
          -0.01802305996157098,
          -0.00033757551421162435,
          0.010960661311883502,
          -0.0006486466742270935,
          0.028063400843577058,
          0.01059049860129524,
          0.014756527600076286,
          0.03084383463832102,
          -0.005074289334939142,
          -0.038076516103612706,
          0.01649281865138333,
          -0.04252718543726092,
          -0.010528626433980448,
          -0.01837069358382648,
          -0.015744720383440547,
          0.010828872987502125,
          0.012336393718950733,
          -0.010093389565442146,
          0.001342720483524254,
          0.01937463673894413,
          -0.028662007592188496,
          -0.029896070889026294,
          0.06950369276687801,
          0.0014785492175652948,
          -0.013803321266447621,
          -0.006664979584816599,
          -0.0019115539168009787,
          0.004847466021460023,
          0.02888059669660764,
          -0.0009964774687611921,
          0.05279488224536885,
          0.02903066389214795,
          -0.018672170638532715,
          0.0013123842621281245,
          0.029990191806575472,
          0.005344647753943499,
          0.007183047335283244,
          -0.012889694975243171,
          0.03200236446781002,
          0.026799995733181037,
          0.01217774955682422,
          0.05983437336549885,
          -0.0005719803986875549,
          0.026869620518552517,
          0.0008888895736384184,
          0.008903956350905351,
          0.02891943671763103,
          0.060985244949246065,
          0.023734704717604138,
          -0.017421720945730246,
          0.036418413629786844,
          0.0466545126509903,
          -0.00265463040052899,
          -0.003525602710476,
          -0.02400523002192677,
          -0.0006928483878369529,
          -0.013172303133565433,
          0.015809681657413643,
          -0.0034582126001030944,
          -0.011823734057276158,
          0.005424444268000095,
          0.005938893968523887,
          -0.015068667642997524,
          0.009051602140087378,
          0.0340908760273152,
          -0.01759239645095767,
          0.01712006987640785,
          -0.10541703632068644,
          0.1038139605395487,
          -0.004757927618563473,
          -0.01234533929339604,
          -0.030110057281669073,
          -0.00936596737300377,
          -0.050079316269564245,
          0.01226668191712521,
          -0.007164297095456962,
          0.026102282386364167,
          0.003650497420794676,
          0.017923579257516697,
          -0.023235798236709376,
          -0.04666012406014791,
          0.017286158474576152,
          -0.018728657279340477,
          0.05753625700209425,
          -0.010493525196527964,
          -0.023332817410844198,
          0.0050321985647486245,
          0.003789296874247672,
          -0.08026974590787733,
          0.021079756662625987,
          -0.02435336507452321,
          -0.04534569897093495,
          -0.0025680042438990247,
          0.045064857948176995,
          -0.03582153235306995,
          -0.0060626587595872805,
          0.008096099037930876,
          0.007920394283031817,
          0.007076435399954867,
          0.00961909320366594,
          0.025209776223504676,
          -0.012636113303021501,
          0.024178999620336393,
          0.019268951506744902,
          0.03004670474970894,
          0.0031137806003949803,
          0.015104572538164052,
          0.01883441914468673,
          -0.02531801581059301,
          0.026281327693728873,
          -0.0450716432055035,
          0.046569997782931805,
          0.034615216612462474,
          -0.0005642886724380458,
          -0.026798123558724518,
          -0.021868335060247712,
          0.04879655416301139,
          0.003989137844626969,
          0.041712041560295204,
          -0.017166903751370283,
          -0.005654355432246766,
          0.019587299040273842,
          -0.01459743030283528,
          -0.018423115771542417,
          0.05967965188383706,
          0.03959636101236502,
          -0.006290065647875598,
          -0.0005636719062608181,
          -0.017042422704646676,
          -0.011039543245499994,
          -0.002746929134050821,
          -0.01507839125390012,
          -0.02183234091914496,
          0.005322987683421543,
          -0.01280047028201993,
          0.001412391395025192,
          -0.055586238090748724,
          0.0020451067271749224,
          0.04289465418900415,
          -0.02563408383333335,
          0.015691351333224517,
          -0.002940231103075175,
          0.024138709728380864,
          0.03591269296812494,
          -0.0014602884779249536,
          -0.029402292357995186,
          -0.04447355982694062,
          -0.004866118203182973,
          0.06692389216462263,
          0.018596859674245306,
          -0.06660962483759139,
          -0.030181492483786043,
          -0.04129446469062825,
          -0.021251936965656526,
          -0.07644628566265796,
          0.01619075182752122,
          -0.011736598167261136,
          -0.02829148572157797,
          -0.033429055297370946,
          -0.043116931521826635,
          0.011294961155809857,
          0.005630721260340643,
          -0.017765395811672607,
          -0.025323340243881998,
          0.004359421343835046,
          0.008619714982265742,
          -0.018068769951337438,
          -0.04304390445365486,
          -0.016769548717216642,
          -0.07770209142638351,
          -0.004480911929550135,
          -0.015352983973949963,
          -0.00833682490720783,
          -0.011340897905727787,
          0.039672786960446904,
          0.0036647072694586946,
          0.02427343929757697,
          -0.006662967236522349,
          0.019240815038802272,
          0.01661576918274771,
          0.020989679566383868,
          0.027505334886288924,
          -0.001607326498110101,
          -0.04394985831850706,
          0.01827511590238662,
          -0.010997381140029017,
          -0.010746934297845262,
          -0.013980909120608231,
          0.025251604195641042,
          0.027188704650658646,
          0.019079230835718913,
          -0.0012359742007853614,
          -0.005350685075639183,
          0.04182698532420881,
          -0.010922078022241821,
          0.0008816300556521162,
          -0.014615145358490372,
          -0.025177702480117525,
          0.02226716535966472,
          -0.02429312308312942,
          -0.0012087670342765117,
          0.034355721163800076,
          -0.20642462746601517,
          0.034343099497473606,
          0.0018054602814840948,
          -0.008092458659530344,
          -0.013590637670580274,
          0.04099404439910692,
          0.0033911591390076157,
          0.025824593118464856,
          0.011883777434015252,
          -0.015247989046374366,
          0.025918348656177648,
          0.027436354483470538,
          0.01786538746213351,
          0.0004183704083556422,
          0.010168172929335029,
          -0.029137741386950244,
          0.006170346296514639,
          0.009272269982066206,
          -0.009188572920174776,
          -0.016891152868069748,
          0.019099931864667852,
          -0.002289354686048295,
          0.03927967281288636,
          0.0029663495728262657,
          -0.025695302465700565,
          0.01712766787150144,
          -0.0006210182275645515,
          0.03934010583892725,
          0.013984926316398028,
          -0.0022523027594829152,
          0.022973905220260382,
          0.005402976329289488,
          -0.011139521808479158,
          -0.08615318052704385,
          0.00869352254148284,
          -0.013623015228184487
         ],
         "xaxis": "x2",
         "yaxis": "y2"
        }
       ],
       "layout": {
        "barmode": "relative",
        "legend": {
         "title": {
          "text": "variable"
         },
         "tracegroupgap": 0
        },
        "margin": {
         "t": 60
        },
        "template": {
         "data": {
          "bar": [
           {
            "error_x": {
             "color": "#f2f5fa"
            },
            "error_y": {
             "color": "#f2f5fa"
            },
            "marker": {
             "line": {
              "color": "rgb(17,17,17)",
              "width": 0.5
             },
             "pattern": {
              "fillmode": "overlay",
              "size": 10,
              "solidity": 0.2
             }
            },
            "type": "bar"
           }
          ],
          "barpolar": [
           {
            "marker": {
             "line": {
              "color": "rgb(17,17,17)",
              "width": 0.5
             },
             "pattern": {
              "fillmode": "overlay",
              "size": 10,
              "solidity": 0.2
             }
            },
            "type": "barpolar"
           }
          ],
          "carpet": [
           {
            "aaxis": {
             "endlinecolor": "#A2B1C6",
             "gridcolor": "#506784",
             "linecolor": "#506784",
             "minorgridcolor": "#506784",
             "startlinecolor": "#A2B1C6"
            },
            "baxis": {
             "endlinecolor": "#A2B1C6",
             "gridcolor": "#506784",
             "linecolor": "#506784",
             "minorgridcolor": "#506784",
             "startlinecolor": "#A2B1C6"
            },
            "type": "carpet"
           }
          ],
          "choropleth": [
           {
            "colorbar": {
             "outlinewidth": 0,
             "ticks": ""
            },
            "type": "choropleth"
           }
          ],
          "contour": [
           {
            "colorbar": {
             "outlinewidth": 0,
             "ticks": ""
            },
            "colorscale": [
             [
              0,
              "#0d0887"
             ],
             [
              0.1111111111111111,
              "#46039f"
             ],
             [
              0.2222222222222222,
              "#7201a8"
             ],
             [
              0.3333333333333333,
              "#9c179e"
             ],
             [
              0.4444444444444444,
              "#bd3786"
             ],
             [
              0.5555555555555556,
              "#d8576b"
             ],
             [
              0.6666666666666666,
              "#ed7953"
             ],
             [
              0.7777777777777778,
              "#fb9f3a"
             ],
             [
              0.8888888888888888,
              "#fdca26"
             ],
             [
              1,
              "#f0f921"
             ]
            ],
            "type": "contour"
           }
          ],
          "contourcarpet": [
           {
            "colorbar": {
             "outlinewidth": 0,
             "ticks": ""
            },
            "type": "contourcarpet"
           }
          ],
          "heatmap": [
           {
            "colorbar": {
             "outlinewidth": 0,
             "ticks": ""
            },
            "colorscale": [
             [
              0,
              "#0d0887"
             ],
             [
              0.1111111111111111,
              "#46039f"
             ],
             [
              0.2222222222222222,
              "#7201a8"
             ],
             [
              0.3333333333333333,
              "#9c179e"
             ],
             [
              0.4444444444444444,
              "#bd3786"
             ],
             [
              0.5555555555555556,
              "#d8576b"
             ],
             [
              0.6666666666666666,
              "#ed7953"
             ],
             [
              0.7777777777777778,
              "#fb9f3a"
             ],
             [
              0.8888888888888888,
              "#fdca26"
             ],
             [
              1,
              "#f0f921"
             ]
            ],
            "type": "heatmap"
           }
          ],
          "heatmapgl": [
           {
            "colorbar": {
             "outlinewidth": 0,
             "ticks": ""
            },
            "colorscale": [
             [
              0,
              "#0d0887"
             ],
             [
              0.1111111111111111,
              "#46039f"
             ],
             [
              0.2222222222222222,
              "#7201a8"
             ],
             [
              0.3333333333333333,
              "#9c179e"
             ],
             [
              0.4444444444444444,
              "#bd3786"
             ],
             [
              0.5555555555555556,
              "#d8576b"
             ],
             [
              0.6666666666666666,
              "#ed7953"
             ],
             [
              0.7777777777777778,
              "#fb9f3a"
             ],
             [
              0.8888888888888888,
              "#fdca26"
             ],
             [
              1,
              "#f0f921"
             ]
            ],
            "type": "heatmapgl"
           }
          ],
          "histogram": [
           {
            "marker": {
             "pattern": {
              "fillmode": "overlay",
              "size": 10,
              "solidity": 0.2
             }
            },
            "type": "histogram"
           }
          ],
          "histogram2d": [
           {
            "colorbar": {
             "outlinewidth": 0,
             "ticks": ""
            },
            "colorscale": [
             [
              0,
              "#0d0887"
             ],
             [
              0.1111111111111111,
              "#46039f"
             ],
             [
              0.2222222222222222,
              "#7201a8"
             ],
             [
              0.3333333333333333,
              "#9c179e"
             ],
             [
              0.4444444444444444,
              "#bd3786"
             ],
             [
              0.5555555555555556,
              "#d8576b"
             ],
             [
              0.6666666666666666,
              "#ed7953"
             ],
             [
              0.7777777777777778,
              "#fb9f3a"
             ],
             [
              0.8888888888888888,
              "#fdca26"
             ],
             [
              1,
              "#f0f921"
             ]
            ],
            "type": "histogram2d"
           }
          ],
          "histogram2dcontour": [
           {
            "colorbar": {
             "outlinewidth": 0,
             "ticks": ""
            },
            "colorscale": [
             [
              0,
              "#0d0887"
             ],
             [
              0.1111111111111111,
              "#46039f"
             ],
             [
              0.2222222222222222,
              "#7201a8"
             ],
             [
              0.3333333333333333,
              "#9c179e"
             ],
             [
              0.4444444444444444,
              "#bd3786"
             ],
             [
              0.5555555555555556,
              "#d8576b"
             ],
             [
              0.6666666666666666,
              "#ed7953"
             ],
             [
              0.7777777777777778,
              "#fb9f3a"
             ],
             [
              0.8888888888888888,
              "#fdca26"
             ],
             [
              1,
              "#f0f921"
             ]
            ],
            "type": "histogram2dcontour"
           }
          ],
          "mesh3d": [
           {
            "colorbar": {
             "outlinewidth": 0,
             "ticks": ""
            },
            "type": "mesh3d"
           }
          ],
          "parcoords": [
           {
            "line": {
             "colorbar": {
              "outlinewidth": 0,
              "ticks": ""
             }
            },
            "type": "parcoords"
           }
          ],
          "pie": [
           {
            "automargin": true,
            "type": "pie"
           }
          ],
          "scatter": [
           {
            "marker": {
             "line": {
              "color": "#283442"
             }
            },
            "type": "scatter"
           }
          ],
          "scatter3d": [
           {
            "line": {
             "colorbar": {
              "outlinewidth": 0,
              "ticks": ""
             }
            },
            "marker": {
             "colorbar": {
              "outlinewidth": 0,
              "ticks": ""
             }
            },
            "type": "scatter3d"
           }
          ],
          "scattercarpet": [
           {
            "marker": {
             "colorbar": {
              "outlinewidth": 0,
              "ticks": ""
             }
            },
            "type": "scattercarpet"
           }
          ],
          "scattergeo": [
           {
            "marker": {
             "colorbar": {
              "outlinewidth": 0,
              "ticks": ""
             }
            },
            "type": "scattergeo"
           }
          ],
          "scattergl": [
           {
            "marker": {
             "line": {
              "color": "#283442"
             }
            },
            "type": "scattergl"
           }
          ],
          "scattermapbox": [
           {
            "marker": {
             "colorbar": {
              "outlinewidth": 0,
              "ticks": ""
             }
            },
            "type": "scattermapbox"
           }
          ],
          "scatterpolar": [
           {
            "marker": {
             "colorbar": {
              "outlinewidth": 0,
              "ticks": ""
             }
            },
            "type": "scatterpolar"
           }
          ],
          "scatterpolargl": [
           {
            "marker": {
             "colorbar": {
              "outlinewidth": 0,
              "ticks": ""
             }
            },
            "type": "scatterpolargl"
           }
          ],
          "scatterternary": [
           {
            "marker": {
             "colorbar": {
              "outlinewidth": 0,
              "ticks": ""
             }
            },
            "type": "scatterternary"
           }
          ],
          "surface": [
           {
            "colorbar": {
             "outlinewidth": 0,
             "ticks": ""
            },
            "colorscale": [
             [
              0,
              "#0d0887"
             ],
             [
              0.1111111111111111,
              "#46039f"
             ],
             [
              0.2222222222222222,
              "#7201a8"
             ],
             [
              0.3333333333333333,
              "#9c179e"
             ],
             [
              0.4444444444444444,
              "#bd3786"
             ],
             [
              0.5555555555555556,
              "#d8576b"
             ],
             [
              0.6666666666666666,
              "#ed7953"
             ],
             [
              0.7777777777777778,
              "#fb9f3a"
             ],
             [
              0.8888888888888888,
              "#fdca26"
             ],
             [
              1,
              "#f0f921"
             ]
            ],
            "type": "surface"
           }
          ],
          "table": [
           {
            "cells": {
             "fill": {
              "color": "#506784"
             },
             "line": {
              "color": "rgb(17,17,17)"
             }
            },
            "header": {
             "fill": {
              "color": "#2a3f5f"
             },
             "line": {
              "color": "rgb(17,17,17)"
             }
            },
            "type": "table"
           }
          ]
         },
         "layout": {
          "annotationdefaults": {
           "arrowcolor": "#f2f5fa",
           "arrowhead": 0,
           "arrowwidth": 1
          },
          "autotypenumbers": "strict",
          "coloraxis": {
           "colorbar": {
            "outlinewidth": 0,
            "ticks": ""
           }
          },
          "colorscale": {
           "diverging": [
            [
             0,
             "#8e0152"
            ],
            [
             0.1,
             "#c51b7d"
            ],
            [
             0.2,
             "#de77ae"
            ],
            [
             0.3,
             "#f1b6da"
            ],
            [
             0.4,
             "#fde0ef"
            ],
            [
             0.5,
             "#f7f7f7"
            ],
            [
             0.6,
             "#e6f5d0"
            ],
            [
             0.7,
             "#b8e186"
            ],
            [
             0.8,
             "#7fbc41"
            ],
            [
             0.9,
             "#4d9221"
            ],
            [
             1,
             "#276419"
            ]
           ],
           "sequential": [
            [
             0,
             "#0d0887"
            ],
            [
             0.1111111111111111,
             "#46039f"
            ],
            [
             0.2222222222222222,
             "#7201a8"
            ],
            [
             0.3333333333333333,
             "#9c179e"
            ],
            [
             0.4444444444444444,
             "#bd3786"
            ],
            [
             0.5555555555555556,
             "#d8576b"
            ],
            [
             0.6666666666666666,
             "#ed7953"
            ],
            [
             0.7777777777777778,
             "#fb9f3a"
            ],
            [
             0.8888888888888888,
             "#fdca26"
            ],
            [
             1,
             "#f0f921"
            ]
           ],
           "sequentialminus": [
            [
             0,
             "#0d0887"
            ],
            [
             0.1111111111111111,
             "#46039f"
            ],
            [
             0.2222222222222222,
             "#7201a8"
            ],
            [
             0.3333333333333333,
             "#9c179e"
            ],
            [
             0.4444444444444444,
             "#bd3786"
            ],
            [
             0.5555555555555556,
             "#d8576b"
            ],
            [
             0.6666666666666666,
             "#ed7953"
            ],
            [
             0.7777777777777778,
             "#fb9f3a"
            ],
            [
             0.8888888888888888,
             "#fdca26"
            ],
            [
             1,
             "#f0f921"
            ]
           ]
          },
          "colorway": [
           "#636efa",
           "#EF553B",
           "#00cc96",
           "#ab63fa",
           "#FFA15A",
           "#19d3f3",
           "#FF6692",
           "#B6E880",
           "#FF97FF",
           "#FECB52"
          ],
          "font": {
           "color": "#f2f5fa"
          },
          "geo": {
           "bgcolor": "rgb(17,17,17)",
           "lakecolor": "rgb(17,17,17)",
           "landcolor": "rgb(17,17,17)",
           "showlakes": true,
           "showland": true,
           "subunitcolor": "#506784"
          },
          "hoverlabel": {
           "align": "left"
          },
          "hovermode": "closest",
          "mapbox": {
           "style": "dark"
          },
          "paper_bgcolor": "rgb(17,17,17)",
          "plot_bgcolor": "rgb(17,17,17)",
          "polar": {
           "angularaxis": {
            "gridcolor": "#506784",
            "linecolor": "#506784",
            "ticks": ""
           },
           "bgcolor": "rgb(17,17,17)",
           "radialaxis": {
            "gridcolor": "#506784",
            "linecolor": "#506784",
            "ticks": ""
           }
          },
          "scene": {
           "xaxis": {
            "backgroundcolor": "rgb(17,17,17)",
            "gridcolor": "#506784",
            "gridwidth": 2,
            "linecolor": "#506784",
            "showbackground": true,
            "ticks": "",
            "zerolinecolor": "#C8D4E3"
           },
           "yaxis": {
            "backgroundcolor": "rgb(17,17,17)",
            "gridcolor": "#506784",
            "gridwidth": 2,
            "linecolor": "#506784",
            "showbackground": true,
            "ticks": "",
            "zerolinecolor": "#C8D4E3"
           },
           "zaxis": {
            "backgroundcolor": "rgb(17,17,17)",
            "gridcolor": "#506784",
            "gridwidth": 2,
            "linecolor": "#506784",
            "showbackground": true,
            "ticks": "",
            "zerolinecolor": "#C8D4E3"
           }
          },
          "shapedefaults": {
           "line": {
            "color": "#f2f5fa"
           }
          },
          "sliderdefaults": {
           "bgcolor": "#C8D4E3",
           "bordercolor": "rgb(17,17,17)",
           "borderwidth": 1,
           "tickwidth": 0
          },
          "ternary": {
           "aaxis": {
            "gridcolor": "#506784",
            "linecolor": "#506784",
            "ticks": ""
           },
           "baxis": {
            "gridcolor": "#506784",
            "linecolor": "#506784",
            "ticks": ""
           },
           "bgcolor": "rgb(17,17,17)",
           "caxis": {
            "gridcolor": "#506784",
            "linecolor": "#506784",
            "ticks": ""
           }
          },
          "title": {
           "x": 0.05
          },
          "updatemenudefaults": {
           "bgcolor": "#506784",
           "borderwidth": 0
          },
          "xaxis": {
           "automargin": true,
           "gridcolor": "#283442",
           "linecolor": "#506784",
           "ticks": "",
           "title": {
            "standoff": 15
           },
           "zerolinecolor": "#283442",
           "zerolinewidth": 2
          },
          "yaxis": {
           "automargin": true,
           "gridcolor": "#283442",
           "linecolor": "#506784",
           "ticks": "",
           "title": {
            "standoff": 15
           },
           "zerolinecolor": "#283442",
           "zerolinewidth": 2
          }
         }
        },
        "title": {
         "text": "AAPL Distribution of Residuals"
        },
        "xaxis": {
         "anchor": "y",
         "domain": [
          0,
          1
         ],
         "title": {
          "text": "Residuals"
         }
        },
        "xaxis2": {
         "anchor": "y2",
         "domain": [
          0,
          1
         ],
         "matches": "x",
         "showgrid": true,
         "showticklabels": false
        },
        "yaxis": {
         "anchor": "x",
         "domain": [
          0,
          0.7326
         ],
         "title": {
          "text": "Density"
         }
        },
        "yaxis2": {
         "anchor": "x2",
         "domain": [
          0.7426,
          1
         ],
         "matches": "y2",
         "showgrid": false,
         "showline": false,
         "showticklabels": false,
         "ticks": ""
        }
       }
      }
     },
     "metadata": {},
     "output_type": "display_data"
    }
   ],
   "source": [
    "fig = px.histogram(residuals, nbins = 30, marginal = 'box', histnorm = 'probability density')\n",
    "\n",
    "fig.update_layout(title = 'AAPL Distribution of Residuals',\n",
    "                xaxis_title = 'Residuals',\n",
    "                yaxis_title = 'Density',\n",
    "                template = 'plotly_dark')\n",
    "\n",
    "fig.show()"
   ]
  },
  {
   "cell_type": "markdown",
   "metadata": {},
   "source": [
    "#### Overall this is a good distribution.  The distribution is centered around 0, and suggests that on average the model's predictions are unbiased.  The histogram appears somewhat bell-shaped though it is definitely not normal.  Again the highest concentration of residuals are very close to the 0 marker, indicating that most predictions are very accurate.  Speaking to the boxplot at the top, is shows a few outliers on each end.  The majority of the data points within the IQR (Interquartile Range) suggest that most predictions are fairly close to the actual values.  If anything is to be improved I can look at the outliers here and remove them so as the model isn't hindered by their bias."
   ]
  },
  {
   "cell_type": "markdown",
   "metadata": {},
   "source": [
    "## Summary of the Analysis on the AMZN Linear Regression Model\n",
    "\n",
    "#### In this notebook we developed a baseline Linear Regression model to predict the closing prices of AAPL stock.  We implemented several of our previous preprocessing steps, including feature creation and scaling, followed by model creation and evaluation.\n",
    "\n",
    "### Key Insights\n",
    "\n",
    "#### - The model performed well as a baseline, with a Mean Absolute Error (MAE) of approximately 4.1 cents.\n",
    "#### - The residuals analysis indicated that the model's errors are unbiased and normally distributed, suggesting that the model is generally reliable.\n",
    "#### - The distribution of residuals showed no significant skewness or outliers, further confirming the model's robustness for a baseline.\n",
    "\n",
    "### Potential Next Steps\n",
    "\n",
    "#### - In the next phase, we will explore more advanced models such as Decision Trees, GRU, and Transformer models to improve prediction accuracy.\n",
    "#### - We will also consider incorporating additional data and refining features based on the insights gained from this baseline model."
   ]
  },
  {
   "cell_type": "code",
   "execution_count": null,
   "metadata": {},
   "outputs": [],
   "source": []
  }
 ],
 "metadata": {
  "kernelspec": {
   "display_name": "DL-Strat",
   "language": "python",
   "name": "python3"
  },
  "language_info": {
   "codemirror_mode": {
    "name": "ipython",
    "version": 3
   },
   "file_extension": ".py",
   "mimetype": "text/x-python",
   "name": "python",
   "nbconvert_exporter": "python",
   "pygments_lexer": "ipython3",
   "version": "3.11.0"
  }
 },
 "nbformat": 4,
 "nbformat_minor": 2
}
