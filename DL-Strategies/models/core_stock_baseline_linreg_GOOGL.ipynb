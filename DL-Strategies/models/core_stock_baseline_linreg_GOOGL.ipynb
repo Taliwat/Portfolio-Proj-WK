{
 "cells": [
  {
   "cell_type": "markdown",
   "metadata": {},
   "source": [
    "# **Core Stock Baseline Modeling - Linear Regression for GOOGL Ticker**\n",
    "## In this notebook we will examine only the Google (Class C) stock for the periods we have selected for this project (01-01-2019 through 06-30-2024), and perform a Linear Regression model using the preprocessed dataframe that we created in our other notebook.  We will look to get an idea of how well our data is predicting with our new features that we created."
   ]
  },
  {
   "cell_type": "markdown",
   "metadata": {},
   "source": [
    "#### As usual let's start by bringing in our important libraries and logic for needing to complete this notebook."
   ]
  },
  {
   "cell_type": "code",
   "execution_count": 1,
   "metadata": {},
   "outputs": [],
   "source": [
    "import sys\n",
    "import os\n",
    "\n",
    "import numpy as np\n",
    "import pandas as pd\n",
    "from sklearn.model_selection import train_test_split\n",
    "from sklearn.linear_model import LinearRegression\n",
    "from sklearn.metrics import mean_squared_error, mean_absolute_error\n",
    "import plotly.graph_objects as go\n",
    "import plotly.express as px\n",
    "from sklearn.model_selection import cross_val_score\n",
    "\n",
    "project_root = os.path.abspath(os.path.join(os.getcwd(), '..'))\n",
    "if project_root not in sys.path:\n",
    "    sys.path.append(project_root)\n",
    "\n",
    "\n"
   ]
  },
  {
   "cell_type": "markdown",
   "metadata": {},
   "source": [
    "#### Now let's read in our data that we will use for this notebook."
   ]
  },
  {
   "cell_type": "code",
   "execution_count": 2,
   "metadata": {},
   "outputs": [
    {
     "data": {
      "text/html": [
       "<div>\n",
       "<style scoped>\n",
       "    .dataframe tbody tr th:only-of-type {\n",
       "        vertical-align: middle;\n",
       "    }\n",
       "\n",
       "    .dataframe tbody tr th {\n",
       "        vertical-align: top;\n",
       "    }\n",
       "\n",
       "    .dataframe thead th {\n",
       "        text-align: right;\n",
       "    }\n",
       "</style>\n",
       "<table border=\"1\" class=\"dataframe\">\n",
       "  <thead>\n",
       "    <tr style=\"text-align: right;\">\n",
       "      <th></th>\n",
       "      <th>Close</th>\n",
       "      <th>Volume</th>\n",
       "      <th>Open</th>\n",
       "      <th>High</th>\n",
       "      <th>Low</th>\n",
       "      <th>SMA_core</th>\n",
       "      <th>EMA_core</th>\n",
       "      <th>RSI_core</th>\n",
       "      <th>RMA_core</th>\n",
       "      <th>Close_Lag_1</th>\n",
       "      <th>...</th>\n",
       "      <th>EMA_Lag_Std_1_3</th>\n",
       "      <th>SMA_Lag_Avg_1_3</th>\n",
       "      <th>SMA_Lag_Std_1_3</th>\n",
       "      <th>RMA_Lag_Avg_1_3</th>\n",
       "      <th>RMA_Lag_Std_1_3</th>\n",
       "      <th>Close_Lag_Avg_1_3</th>\n",
       "      <th>Close_Lag_Std_1_3</th>\n",
       "      <th>Diff_Close_EMA_core</th>\n",
       "      <th>Ratio_Close_EMA_core</th>\n",
       "      <th>Ticker</th>\n",
       "    </tr>\n",
       "    <tr>\n",
       "      <th>Date</th>\n",
       "      <th></th>\n",
       "      <th></th>\n",
       "      <th></th>\n",
       "      <th></th>\n",
       "      <th></th>\n",
       "      <th></th>\n",
       "      <th></th>\n",
       "      <th></th>\n",
       "      <th></th>\n",
       "      <th></th>\n",
       "      <th></th>\n",
       "      <th></th>\n",
       "      <th></th>\n",
       "      <th></th>\n",
       "      <th></th>\n",
       "      <th></th>\n",
       "      <th></th>\n",
       "      <th></th>\n",
       "      <th></th>\n",
       "      <th></th>\n",
       "      <th></th>\n",
       "    </tr>\n",
       "  </thead>\n",
       "  <tbody>\n",
       "    <tr>\n",
       "      <th>2019-03-14</th>\n",
       "      <td>-1.013302</td>\n",
       "      <td>-0.074793</td>\n",
       "      <td>-1.012345</td>\n",
       "      <td>-1.018762</td>\n",
       "      <td>-1.009483</td>\n",
       "      <td>-1.085271</td>\n",
       "      <td>-1.049825</td>\n",
       "      <td>1.249108</td>\n",
       "      <td>0.801504</td>\n",
       "      <td>-1.013494</td>\n",
       "      <td>...</td>\n",
       "      <td>-0.081211</td>\n",
       "      <td>-1.086158</td>\n",
       "      <td>-0.085461</td>\n",
       "      <td>0.817706</td>\n",
       "      <td>-0.625300</td>\n",
       "      <td>-1.014627</td>\n",
       "      <td>-0.348813</td>\n",
       "      <td>0.037931</td>\n",
       "      <td>0.801504</td>\n",
       "      <td>AAPL</td>\n",
       "    </tr>\n",
       "    <tr>\n",
       "      <th>2019-03-15</th>\n",
       "      <td>-1.007093</td>\n",
       "      <td>0.293158</td>\n",
       "      <td>-1.009876</td>\n",
       "      <td>-1.010456</td>\n",
       "      <td>-1.006383</td>\n",
       "      <td>-1.083783</td>\n",
       "      <td>-1.048013</td>\n",
       "      <td>1.325622</td>\n",
       "      <td>0.931542</td>\n",
       "      <td>-1.013494</td>\n",
       "      <td>...</td>\n",
       "      <td>-0.081211</td>\n",
       "      <td>-1.086158</td>\n",
       "      <td>-0.085461</td>\n",
       "      <td>0.817706</td>\n",
       "      <td>-0.625300</td>\n",
       "      <td>-1.014627</td>\n",
       "      <td>-0.348813</td>\n",
       "      <td>0.074966</td>\n",
       "      <td>0.931542</td>\n",
       "      <td>AAPL</td>\n",
       "    </tr>\n",
       "    <tr>\n",
       "      <th>2019-03-18</th>\n",
       "      <td>-1.002157</td>\n",
       "      <td>-0.011968</td>\n",
       "      <td>-1.007406</td>\n",
       "      <td>-1.007730</td>\n",
       "      <td>-1.000997</td>\n",
       "      <td>-1.081366</td>\n",
       "      <td>-1.046072</td>\n",
       "      <td>1.432516</td>\n",
       "      <td>1.018034</td>\n",
       "      <td>-1.007280</td>\n",
       "      <td>...</td>\n",
       "      <td>-0.081211</td>\n",
       "      <td>-1.085413</td>\n",
       "      <td>-0.085461</td>\n",
       "      <td>0.884049</td>\n",
       "      <td>-0.625300</td>\n",
       "      <td>-1.011515</td>\n",
       "      <td>-0.348813</td>\n",
       "      <td>0.100376</td>\n",
       "      <td>1.018034</td>\n",
       "      <td>AAPL</td>\n",
       "    </tr>\n",
       "    <tr>\n",
       "      <th>2019-03-19</th>\n",
       "      <td>-1.006028</td>\n",
       "      <td>0.117158</td>\n",
       "      <td>-1.000779</td>\n",
       "      <td>-1.006187</td>\n",
       "      <td>-1.000655</td>\n",
       "      <td>-1.079347</td>\n",
       "      <td>-1.044364</td>\n",
       "      <td>1.112931</td>\n",
       "      <td>0.846961</td>\n",
       "      <td>-1.002341</td>\n",
       "      <td>...</td>\n",
       "      <td>-0.066578</td>\n",
       "      <td>-1.084358</td>\n",
       "      <td>-0.062046</td>\n",
       "      <td>0.935581</td>\n",
       "      <td>-0.515015</td>\n",
       "      <td>-1.008829</td>\n",
       "      <td>-0.323448</td>\n",
       "      <td>0.054402</td>\n",
       "      <td>0.846961</td>\n",
       "      <td>AAPL</td>\n",
       "    </tr>\n",
       "    <tr>\n",
       "      <th>2019-03-20</th>\n",
       "      <td>-1.001793</td>\n",
       "      <td>0.102615</td>\n",
       "      <td>-1.006289</td>\n",
       "      <td>-1.004901</td>\n",
       "      <td>-1.003782</td>\n",
       "      <td>-1.077225</td>\n",
       "      <td>-1.042552</td>\n",
       "      <td>1.535368</td>\n",
       "      <td>0.916237</td>\n",
       "      <td>-1.006214</td>\n",
       "      <td>...</td>\n",
       "      <td>-0.067836</td>\n",
       "      <td>-1.082380</td>\n",
       "      <td>-0.055671</td>\n",
       "      <td>0.951042</td>\n",
       "      <td>-0.666796</td>\n",
       "      <td>-1.006398</td>\n",
       "      <td>-0.386895</td>\n",
       "      <td>0.075012</td>\n",
       "      <td>0.916237</td>\n",
       "      <td>AAPL</td>\n",
       "    </tr>\n",
       "  </tbody>\n",
       "</table>\n",
       "<p>5 rows × 32 columns</p>\n",
       "</div>"
      ],
      "text/plain": [
       "               Close    Volume      Open      High       Low  SMA_core  \\\n",
       "Date                                                                     \n",
       "2019-03-14 -1.013302 -0.074793 -1.012345 -1.018762 -1.009483 -1.085271   \n",
       "2019-03-15 -1.007093  0.293158 -1.009876 -1.010456 -1.006383 -1.083783   \n",
       "2019-03-18 -1.002157 -0.011968 -1.007406 -1.007730 -1.000997 -1.081366   \n",
       "2019-03-19 -1.006028  0.117158 -1.000779 -1.006187 -1.000655 -1.079347   \n",
       "2019-03-20 -1.001793  0.102615 -1.006289 -1.004901 -1.003782 -1.077225   \n",
       "\n",
       "            EMA_core  RSI_core  RMA_core  Close_Lag_1  ...  EMA_Lag_Std_1_3  \\\n",
       "Date                                                   ...                    \n",
       "2019-03-14 -1.049825  1.249108  0.801504    -1.013494  ...        -0.081211   \n",
       "2019-03-15 -1.048013  1.325622  0.931542    -1.013494  ...        -0.081211   \n",
       "2019-03-18 -1.046072  1.432516  1.018034    -1.007280  ...        -0.081211   \n",
       "2019-03-19 -1.044364  1.112931  0.846961    -1.002341  ...        -0.066578   \n",
       "2019-03-20 -1.042552  1.535368  0.916237    -1.006214  ...        -0.067836   \n",
       "\n",
       "            SMA_Lag_Avg_1_3  SMA_Lag_Std_1_3  RMA_Lag_Avg_1_3  \\\n",
       "Date                                                            \n",
       "2019-03-14        -1.086158        -0.085461         0.817706   \n",
       "2019-03-15        -1.086158        -0.085461         0.817706   \n",
       "2019-03-18        -1.085413        -0.085461         0.884049   \n",
       "2019-03-19        -1.084358        -0.062046         0.935581   \n",
       "2019-03-20        -1.082380        -0.055671         0.951042   \n",
       "\n",
       "            RMA_Lag_Std_1_3  Close_Lag_Avg_1_3  Close_Lag_Std_1_3  \\\n",
       "Date                                                                \n",
       "2019-03-14        -0.625300          -1.014627          -0.348813   \n",
       "2019-03-15        -0.625300          -1.014627          -0.348813   \n",
       "2019-03-18        -0.625300          -1.011515          -0.348813   \n",
       "2019-03-19        -0.515015          -1.008829          -0.323448   \n",
       "2019-03-20        -0.666796          -1.006398          -0.386895   \n",
       "\n",
       "            Diff_Close_EMA_core  Ratio_Close_EMA_core  Ticker  \n",
       "Date                                                           \n",
       "2019-03-14             0.037931              0.801504    AAPL  \n",
       "2019-03-15             0.074966              0.931542    AAPL  \n",
       "2019-03-18             0.100376              1.018034    AAPL  \n",
       "2019-03-19             0.054402              0.846961    AAPL  \n",
       "2019-03-20             0.075012              0.916237    AAPL  \n",
       "\n",
       "[5 rows x 32 columns]"
      ]
     },
     "execution_count": 2,
     "metadata": {},
     "output_type": "execute_result"
    }
   ],
   "source": [
    "# Now let's access the main core_stock_data.csv file\n",
    "csv_path = os.path.join(project_root, 'data', 'core_stock_preprocessed.csv')\n",
    "preprocessed_df = pd.read_csv(csv_path, parse_dates=['Date'], index_col= 'Date')\n",
    "preprocessed_df.head()"
   ]
  },
  {
   "cell_type": "markdown",
   "metadata": {},
   "source": [
    "#### Great now let's grab the data just for our subject AAPL ticker to use in our Linear Regression model."
   ]
  },
  {
   "cell_type": "code",
   "execution_count": 3,
   "metadata": {},
   "outputs": [
    {
     "name": "stdout",
     "output_type": "stream",
     "text": [
      "               Close    Volume      Open      High       Low  SMA_core  \\\n",
      "Date                                                                     \n",
      "2019-01-02 -0.942619 -0.446292 -0.956360 -0.946605 -0.950380  0.309924   \n",
      "2019-01-03 -0.957797 -0.386258 -0.944159 -0.943791 -0.951909  0.309924   \n",
      "2019-01-04 -0.930465 -0.362094 -0.948375 -0.936724 -0.944295  0.309924   \n",
      "2019-01-07 -0.931582 -0.353623 -0.928409 -0.935335 -0.930749  0.309924   \n",
      "2019-01-08 -0.926672 -0.425198 -0.925794 -0.929858 -0.927749  0.309924   \n",
      "\n",
      "            EMA_core  RSI_core  RMA_core  Close_Lag_1  ...  EMA_Lag_Std_1_3  \\\n",
      "Date                                                   ...                    \n",
      "2019-01-02 -0.937119  0.582340 -0.370774     0.416289  ...         0.018837   \n",
      "2019-01-03 -0.937733 -3.408328 -0.725810    -0.942763  ...        18.172124   \n",
      "2019-01-04 -0.937217  0.545261 -0.072829    -0.957951  ...        18.208224   \n",
      "2019-01-07 -0.936767  0.444022 -0.110828    -0.930601  ...        -0.104597   \n",
      "2019-01-08 -0.936136  0.676378 -0.006764    -0.931719  ...        -0.100823   \n",
      "\n",
      "            SMA_Lag_Avg_1_3  SMA_Lag_Std_1_3  RMA_Lag_Avg_1_3  \\\n",
      "Date                                                            \n",
      "2019-01-02         0.305502         0.042170         0.607785   \n",
      "2019-01-03         0.309546        -0.029888         0.260293   \n",
      "2019-01-04         0.311416        -0.112260        -0.230779   \n",
      "2019-01-07         0.311416        -0.112260        -0.397857   \n",
      "2019-01-08         0.311416        -0.112260        -0.309444   \n",
      "\n",
      "            RMA_Lag_Std_1_3  Close_Lag_Avg_1_3  Close_Lag_Std_1_3  \\\n",
      "Date                                                                \n",
      "2019-01-02        -0.202871           0.436189          -0.061298   \n",
      "2019-01-03         2.419434          -0.024334          16.435090   \n",
      "2019-01-04         2.569800          -0.495100          16.305468   \n",
      "2019-01-07         0.895200          -0.944792          -0.151228   \n",
      "2019-01-08         1.151573          -0.941104          -0.113553   \n",
      "\n",
      "            Diff_Close_EMA_core  Ratio_Close_EMA_core  Ticker  \n",
      "Date                                                           \n",
      "2019-01-02            -0.283065             -0.370774   GOOGL  \n",
      "2019-01-03            -0.404363             -0.725810   GOOGL  \n",
      "2019-01-04            -0.181180             -0.072829   GOOGL  \n",
      "2019-01-07            -0.194103             -0.110828   GOOGL  \n",
      "2019-01-08            -0.158350             -0.006764   GOOGL  \n",
      "\n",
      "[5 rows x 32 columns]\n"
     ]
    },
    {
     "data": {
      "text/plain": [
       "(1382, 32)"
      ]
     },
     "execution_count": 3,
     "metadata": {},
     "output_type": "execute_result"
    }
   ],
   "source": [
    "googl_data = preprocessed_df[preprocessed_df['Ticker'] == 'GOOGL']\n",
    "print(googl_data.head())\n",
    "googl_data.shape"
   ]
  },
  {
   "cell_type": "markdown",
   "metadata": {},
   "source": [
    "#### Now let's prepare our Linear Regression model.  We will be dropping the Ticker and Close columns for the X as Ticker is an improper format and our Close feature will be our y target.  The Date feature is our index so it won't be included in the model as it will automatically be excluded from the feature set."
   ]
  },
  {
   "cell_type": "code",
   "execution_count": 4,
   "metadata": {},
   "outputs": [],
   "source": [
    "X = googl_data[['EMA_core', 'SMA_core', 'RSI_core', 'Close_Lag_1']]\n",
    "y = googl_data['Close']"
   ]
  },
  {
   "cell_type": "markdown",
   "metadata": {},
   "source": [
    "#### Let's now set up the rest of the model and run our first set of predictions on it.  I will be looking for the MAE (Mean Absolute Error) and the RMSE (Root Mean Squared Error) for metrics here."
   ]
  },
  {
   "cell_type": "code",
   "execution_count": 5,
   "metadata": {},
   "outputs": [
    {
     "data": {
      "text/html": [
       "<style>#sk-container-id-1 {\n",
       "  /* Definition of color scheme common for light and dark mode */\n",
       "  --sklearn-color-text: black;\n",
       "  --sklearn-color-line: gray;\n",
       "  /* Definition of color scheme for unfitted estimators */\n",
       "  --sklearn-color-unfitted-level-0: #fff5e6;\n",
       "  --sklearn-color-unfitted-level-1: #f6e4d2;\n",
       "  --sklearn-color-unfitted-level-2: #ffe0b3;\n",
       "  --sklearn-color-unfitted-level-3: chocolate;\n",
       "  /* Definition of color scheme for fitted estimators */\n",
       "  --sklearn-color-fitted-level-0: #f0f8ff;\n",
       "  --sklearn-color-fitted-level-1: #d4ebff;\n",
       "  --sklearn-color-fitted-level-2: #b3dbfd;\n",
       "  --sklearn-color-fitted-level-3: cornflowerblue;\n",
       "\n",
       "  /* Specific color for light theme */\n",
       "  --sklearn-color-text-on-default-background: var(--sg-text-color, var(--theme-code-foreground, var(--jp-content-font-color1, black)));\n",
       "  --sklearn-color-background: var(--sg-background-color, var(--theme-background, var(--jp-layout-color0, white)));\n",
       "  --sklearn-color-border-box: var(--sg-text-color, var(--theme-code-foreground, var(--jp-content-font-color1, black)));\n",
       "  --sklearn-color-icon: #696969;\n",
       "\n",
       "  @media (prefers-color-scheme: dark) {\n",
       "    /* Redefinition of color scheme for dark theme */\n",
       "    --sklearn-color-text-on-default-background: var(--sg-text-color, var(--theme-code-foreground, var(--jp-content-font-color1, white)));\n",
       "    --sklearn-color-background: var(--sg-background-color, var(--theme-background, var(--jp-layout-color0, #111)));\n",
       "    --sklearn-color-border-box: var(--sg-text-color, var(--theme-code-foreground, var(--jp-content-font-color1, white)));\n",
       "    --sklearn-color-icon: #878787;\n",
       "  }\n",
       "}\n",
       "\n",
       "#sk-container-id-1 {\n",
       "  color: var(--sklearn-color-text);\n",
       "}\n",
       "\n",
       "#sk-container-id-1 pre {\n",
       "  padding: 0;\n",
       "}\n",
       "\n",
       "#sk-container-id-1 input.sk-hidden--visually {\n",
       "  border: 0;\n",
       "  clip: rect(1px 1px 1px 1px);\n",
       "  clip: rect(1px, 1px, 1px, 1px);\n",
       "  height: 1px;\n",
       "  margin: -1px;\n",
       "  overflow: hidden;\n",
       "  padding: 0;\n",
       "  position: absolute;\n",
       "  width: 1px;\n",
       "}\n",
       "\n",
       "#sk-container-id-1 div.sk-dashed-wrapped {\n",
       "  border: 1px dashed var(--sklearn-color-line);\n",
       "  margin: 0 0.4em 0.5em 0.4em;\n",
       "  box-sizing: border-box;\n",
       "  padding-bottom: 0.4em;\n",
       "  background-color: var(--sklearn-color-background);\n",
       "}\n",
       "\n",
       "#sk-container-id-1 div.sk-container {\n",
       "  /* jupyter's `normalize.less` sets `[hidden] { display: none; }`\n",
       "     but bootstrap.min.css set `[hidden] { display: none !important; }`\n",
       "     so we also need the `!important` here to be able to override the\n",
       "     default hidden behavior on the sphinx rendered scikit-learn.org.\n",
       "     See: https://github.com/scikit-learn/scikit-learn/issues/21755 */\n",
       "  display: inline-block !important;\n",
       "  position: relative;\n",
       "}\n",
       "\n",
       "#sk-container-id-1 div.sk-text-repr-fallback {\n",
       "  display: none;\n",
       "}\n",
       "\n",
       "div.sk-parallel-item,\n",
       "div.sk-serial,\n",
       "div.sk-item {\n",
       "  /* draw centered vertical line to link estimators */\n",
       "  background-image: linear-gradient(var(--sklearn-color-text-on-default-background), var(--sklearn-color-text-on-default-background));\n",
       "  background-size: 2px 100%;\n",
       "  background-repeat: no-repeat;\n",
       "  background-position: center center;\n",
       "}\n",
       "\n",
       "/* Parallel-specific style estimator block */\n",
       "\n",
       "#sk-container-id-1 div.sk-parallel-item::after {\n",
       "  content: \"\";\n",
       "  width: 100%;\n",
       "  border-bottom: 2px solid var(--sklearn-color-text-on-default-background);\n",
       "  flex-grow: 1;\n",
       "}\n",
       "\n",
       "#sk-container-id-1 div.sk-parallel {\n",
       "  display: flex;\n",
       "  align-items: stretch;\n",
       "  justify-content: center;\n",
       "  background-color: var(--sklearn-color-background);\n",
       "  position: relative;\n",
       "}\n",
       "\n",
       "#sk-container-id-1 div.sk-parallel-item {\n",
       "  display: flex;\n",
       "  flex-direction: column;\n",
       "}\n",
       "\n",
       "#sk-container-id-1 div.sk-parallel-item:first-child::after {\n",
       "  align-self: flex-end;\n",
       "  width: 50%;\n",
       "}\n",
       "\n",
       "#sk-container-id-1 div.sk-parallel-item:last-child::after {\n",
       "  align-self: flex-start;\n",
       "  width: 50%;\n",
       "}\n",
       "\n",
       "#sk-container-id-1 div.sk-parallel-item:only-child::after {\n",
       "  width: 0;\n",
       "}\n",
       "\n",
       "/* Serial-specific style estimator block */\n",
       "\n",
       "#sk-container-id-1 div.sk-serial {\n",
       "  display: flex;\n",
       "  flex-direction: column;\n",
       "  align-items: center;\n",
       "  background-color: var(--sklearn-color-background);\n",
       "  padding-right: 1em;\n",
       "  padding-left: 1em;\n",
       "}\n",
       "\n",
       "\n",
       "/* Toggleable style: style used for estimator/Pipeline/ColumnTransformer box that is\n",
       "clickable and can be expanded/collapsed.\n",
       "- Pipeline and ColumnTransformer use this feature and define the default style\n",
       "- Estimators will overwrite some part of the style using the `sk-estimator` class\n",
       "*/\n",
       "\n",
       "/* Pipeline and ColumnTransformer style (default) */\n",
       "\n",
       "#sk-container-id-1 div.sk-toggleable {\n",
       "  /* Default theme specific background. It is overwritten whether we have a\n",
       "  specific estimator or a Pipeline/ColumnTransformer */\n",
       "  background-color: var(--sklearn-color-background);\n",
       "}\n",
       "\n",
       "/* Toggleable label */\n",
       "#sk-container-id-1 label.sk-toggleable__label {\n",
       "  cursor: pointer;\n",
       "  display: block;\n",
       "  width: 100%;\n",
       "  margin-bottom: 0;\n",
       "  padding: 0.5em;\n",
       "  box-sizing: border-box;\n",
       "  text-align: center;\n",
       "}\n",
       "\n",
       "#sk-container-id-1 label.sk-toggleable__label-arrow:before {\n",
       "  /* Arrow on the left of the label */\n",
       "  content: \"▸\";\n",
       "  float: left;\n",
       "  margin-right: 0.25em;\n",
       "  color: var(--sklearn-color-icon);\n",
       "}\n",
       "\n",
       "#sk-container-id-1 label.sk-toggleable__label-arrow:hover:before {\n",
       "  color: var(--sklearn-color-text);\n",
       "}\n",
       "\n",
       "/* Toggleable content - dropdown */\n",
       "\n",
       "#sk-container-id-1 div.sk-toggleable__content {\n",
       "  max-height: 0;\n",
       "  max-width: 0;\n",
       "  overflow: hidden;\n",
       "  text-align: left;\n",
       "  /* unfitted */\n",
       "  background-color: var(--sklearn-color-unfitted-level-0);\n",
       "}\n",
       "\n",
       "#sk-container-id-1 div.sk-toggleable__content.fitted {\n",
       "  /* fitted */\n",
       "  background-color: var(--sklearn-color-fitted-level-0);\n",
       "}\n",
       "\n",
       "#sk-container-id-1 div.sk-toggleable__content pre {\n",
       "  margin: 0.2em;\n",
       "  border-radius: 0.25em;\n",
       "  color: var(--sklearn-color-text);\n",
       "  /* unfitted */\n",
       "  background-color: var(--sklearn-color-unfitted-level-0);\n",
       "}\n",
       "\n",
       "#sk-container-id-1 div.sk-toggleable__content.fitted pre {\n",
       "  /* unfitted */\n",
       "  background-color: var(--sklearn-color-fitted-level-0);\n",
       "}\n",
       "\n",
       "#sk-container-id-1 input.sk-toggleable__control:checked~div.sk-toggleable__content {\n",
       "  /* Expand drop-down */\n",
       "  max-height: 200px;\n",
       "  max-width: 100%;\n",
       "  overflow: auto;\n",
       "}\n",
       "\n",
       "#sk-container-id-1 input.sk-toggleable__control:checked~label.sk-toggleable__label-arrow:before {\n",
       "  content: \"▾\";\n",
       "}\n",
       "\n",
       "/* Pipeline/ColumnTransformer-specific style */\n",
       "\n",
       "#sk-container-id-1 div.sk-label input.sk-toggleable__control:checked~label.sk-toggleable__label {\n",
       "  color: var(--sklearn-color-text);\n",
       "  background-color: var(--sklearn-color-unfitted-level-2);\n",
       "}\n",
       "\n",
       "#sk-container-id-1 div.sk-label.fitted input.sk-toggleable__control:checked~label.sk-toggleable__label {\n",
       "  background-color: var(--sklearn-color-fitted-level-2);\n",
       "}\n",
       "\n",
       "/* Estimator-specific style */\n",
       "\n",
       "/* Colorize estimator box */\n",
       "#sk-container-id-1 div.sk-estimator input.sk-toggleable__control:checked~label.sk-toggleable__label {\n",
       "  /* unfitted */\n",
       "  background-color: var(--sklearn-color-unfitted-level-2);\n",
       "}\n",
       "\n",
       "#sk-container-id-1 div.sk-estimator.fitted input.sk-toggleable__control:checked~label.sk-toggleable__label {\n",
       "  /* fitted */\n",
       "  background-color: var(--sklearn-color-fitted-level-2);\n",
       "}\n",
       "\n",
       "#sk-container-id-1 div.sk-label label.sk-toggleable__label,\n",
       "#sk-container-id-1 div.sk-label label {\n",
       "  /* The background is the default theme color */\n",
       "  color: var(--sklearn-color-text-on-default-background);\n",
       "}\n",
       "\n",
       "/* On hover, darken the color of the background */\n",
       "#sk-container-id-1 div.sk-label:hover label.sk-toggleable__label {\n",
       "  color: var(--sklearn-color-text);\n",
       "  background-color: var(--sklearn-color-unfitted-level-2);\n",
       "}\n",
       "\n",
       "/* Label box, darken color on hover, fitted */\n",
       "#sk-container-id-1 div.sk-label.fitted:hover label.sk-toggleable__label.fitted {\n",
       "  color: var(--sklearn-color-text);\n",
       "  background-color: var(--sklearn-color-fitted-level-2);\n",
       "}\n",
       "\n",
       "/* Estimator label */\n",
       "\n",
       "#sk-container-id-1 div.sk-label label {\n",
       "  font-family: monospace;\n",
       "  font-weight: bold;\n",
       "  display: inline-block;\n",
       "  line-height: 1.2em;\n",
       "}\n",
       "\n",
       "#sk-container-id-1 div.sk-label-container {\n",
       "  text-align: center;\n",
       "}\n",
       "\n",
       "/* Estimator-specific */\n",
       "#sk-container-id-1 div.sk-estimator {\n",
       "  font-family: monospace;\n",
       "  border: 1px dotted var(--sklearn-color-border-box);\n",
       "  border-radius: 0.25em;\n",
       "  box-sizing: border-box;\n",
       "  margin-bottom: 0.5em;\n",
       "  /* unfitted */\n",
       "  background-color: var(--sklearn-color-unfitted-level-0);\n",
       "}\n",
       "\n",
       "#sk-container-id-1 div.sk-estimator.fitted {\n",
       "  /* fitted */\n",
       "  background-color: var(--sklearn-color-fitted-level-0);\n",
       "}\n",
       "\n",
       "/* on hover */\n",
       "#sk-container-id-1 div.sk-estimator:hover {\n",
       "  /* unfitted */\n",
       "  background-color: var(--sklearn-color-unfitted-level-2);\n",
       "}\n",
       "\n",
       "#sk-container-id-1 div.sk-estimator.fitted:hover {\n",
       "  /* fitted */\n",
       "  background-color: var(--sklearn-color-fitted-level-2);\n",
       "}\n",
       "\n",
       "/* Specification for estimator info (e.g. \"i\" and \"?\") */\n",
       "\n",
       "/* Common style for \"i\" and \"?\" */\n",
       "\n",
       ".sk-estimator-doc-link,\n",
       "a:link.sk-estimator-doc-link,\n",
       "a:visited.sk-estimator-doc-link {\n",
       "  float: right;\n",
       "  font-size: smaller;\n",
       "  line-height: 1em;\n",
       "  font-family: monospace;\n",
       "  background-color: var(--sklearn-color-background);\n",
       "  border-radius: 1em;\n",
       "  height: 1em;\n",
       "  width: 1em;\n",
       "  text-decoration: none !important;\n",
       "  margin-left: 1ex;\n",
       "  /* unfitted */\n",
       "  border: var(--sklearn-color-unfitted-level-1) 1pt solid;\n",
       "  color: var(--sklearn-color-unfitted-level-1);\n",
       "}\n",
       "\n",
       ".sk-estimator-doc-link.fitted,\n",
       "a:link.sk-estimator-doc-link.fitted,\n",
       "a:visited.sk-estimator-doc-link.fitted {\n",
       "  /* fitted */\n",
       "  border: var(--sklearn-color-fitted-level-1) 1pt solid;\n",
       "  color: var(--sklearn-color-fitted-level-1);\n",
       "}\n",
       "\n",
       "/* On hover */\n",
       "div.sk-estimator:hover .sk-estimator-doc-link:hover,\n",
       ".sk-estimator-doc-link:hover,\n",
       "div.sk-label-container:hover .sk-estimator-doc-link:hover,\n",
       ".sk-estimator-doc-link:hover {\n",
       "  /* unfitted */\n",
       "  background-color: var(--sklearn-color-unfitted-level-3);\n",
       "  color: var(--sklearn-color-background);\n",
       "  text-decoration: none;\n",
       "}\n",
       "\n",
       "div.sk-estimator.fitted:hover .sk-estimator-doc-link.fitted:hover,\n",
       ".sk-estimator-doc-link.fitted:hover,\n",
       "div.sk-label-container:hover .sk-estimator-doc-link.fitted:hover,\n",
       ".sk-estimator-doc-link.fitted:hover {\n",
       "  /* fitted */\n",
       "  background-color: var(--sklearn-color-fitted-level-3);\n",
       "  color: var(--sklearn-color-background);\n",
       "  text-decoration: none;\n",
       "}\n",
       "\n",
       "/* Span, style for the box shown on hovering the info icon */\n",
       ".sk-estimator-doc-link span {\n",
       "  display: none;\n",
       "  z-index: 9999;\n",
       "  position: relative;\n",
       "  font-weight: normal;\n",
       "  right: .2ex;\n",
       "  padding: .5ex;\n",
       "  margin: .5ex;\n",
       "  width: min-content;\n",
       "  min-width: 20ex;\n",
       "  max-width: 50ex;\n",
       "  color: var(--sklearn-color-text);\n",
       "  box-shadow: 2pt 2pt 4pt #999;\n",
       "  /* unfitted */\n",
       "  background: var(--sklearn-color-unfitted-level-0);\n",
       "  border: .5pt solid var(--sklearn-color-unfitted-level-3);\n",
       "}\n",
       "\n",
       ".sk-estimator-doc-link.fitted span {\n",
       "  /* fitted */\n",
       "  background: var(--sklearn-color-fitted-level-0);\n",
       "  border: var(--sklearn-color-fitted-level-3);\n",
       "}\n",
       "\n",
       ".sk-estimator-doc-link:hover span {\n",
       "  display: block;\n",
       "}\n",
       "\n",
       "/* \"?\"-specific style due to the `<a>` HTML tag */\n",
       "\n",
       "#sk-container-id-1 a.estimator_doc_link {\n",
       "  float: right;\n",
       "  font-size: 1rem;\n",
       "  line-height: 1em;\n",
       "  font-family: monospace;\n",
       "  background-color: var(--sklearn-color-background);\n",
       "  border-radius: 1rem;\n",
       "  height: 1rem;\n",
       "  width: 1rem;\n",
       "  text-decoration: none;\n",
       "  /* unfitted */\n",
       "  color: var(--sklearn-color-unfitted-level-1);\n",
       "  border: var(--sklearn-color-unfitted-level-1) 1pt solid;\n",
       "}\n",
       "\n",
       "#sk-container-id-1 a.estimator_doc_link.fitted {\n",
       "  /* fitted */\n",
       "  border: var(--sklearn-color-fitted-level-1) 1pt solid;\n",
       "  color: var(--sklearn-color-fitted-level-1);\n",
       "}\n",
       "\n",
       "/* On hover */\n",
       "#sk-container-id-1 a.estimator_doc_link:hover {\n",
       "  /* unfitted */\n",
       "  background-color: var(--sklearn-color-unfitted-level-3);\n",
       "  color: var(--sklearn-color-background);\n",
       "  text-decoration: none;\n",
       "}\n",
       "\n",
       "#sk-container-id-1 a.estimator_doc_link.fitted:hover {\n",
       "  /* fitted */\n",
       "  background-color: var(--sklearn-color-fitted-level-3);\n",
       "}\n",
       "</style><div id=\"sk-container-id-1\" class=\"sk-top-container\"><div class=\"sk-text-repr-fallback\"><pre>LinearRegression()</pre><b>In a Jupyter environment, please rerun this cell to show the HTML representation or trust the notebook. <br />On GitHub, the HTML representation is unable to render, please try loading this page with nbviewer.org.</b></div><div class=\"sk-container\" hidden><div class=\"sk-item\"><div class=\"sk-estimator fitted sk-toggleable\"><input class=\"sk-toggleable__control sk-hidden--visually\" id=\"sk-estimator-id-1\" type=\"checkbox\" checked><label for=\"sk-estimator-id-1\" class=\"sk-toggleable__label fitted sk-toggleable__label-arrow fitted\">&nbsp;&nbsp;LinearRegression<a class=\"sk-estimator-doc-link fitted\" rel=\"noreferrer\" target=\"_blank\" href=\"https://scikit-learn.org/1.5/modules/generated/sklearn.linear_model.LinearRegression.html\">?<span>Documentation for LinearRegression</span></a><span class=\"sk-estimator-doc-link fitted\">i<span>Fitted</span></span></label><div class=\"sk-toggleable__content fitted\"><pre>LinearRegression()</pre></div> </div></div></div></div>"
      ],
      "text/plain": [
       "LinearRegression()"
      ]
     },
     "execution_count": 5,
     "metadata": {},
     "output_type": "execute_result"
    }
   ],
   "source": [
    "X_train, X_test, y_train, y_test = train_test_split(X, y, test_size = 0.2, random_state = 42)\n",
    "model = LinearRegression()\n",
    "model.fit(X_train, y_train)"
   ]
  },
  {
   "cell_type": "markdown",
   "metadata": {},
   "source": [
    "#### Now let's make our predictions and see where we end up."
   ]
  },
  {
   "cell_type": "code",
   "execution_count": 6,
   "metadata": {},
   "outputs": [],
   "source": [
    "y_pred = model.predict(X_test)"
   ]
  },
  {
   "cell_type": "markdown",
   "metadata": {},
   "source": [
    "#### Let's retrieve our MAE and RMSE metrics for performance."
   ]
  },
  {
   "cell_type": "code",
   "execution_count": 7,
   "metadata": {},
   "outputs": [
    {
     "name": "stdout",
     "output_type": "stream",
     "text": [
      "Mean Absolute Error (MAE): 0.020560443662807123\n",
      "Root Mean Squared Error (RMSE): 0.0007427106091933438\n"
     ]
    }
   ],
   "source": [
    "mae = mean_absolute_error(y_test, y_pred)\n",
    "rmse = mean_squared_error(y_test, y_pred)\n",
    "\n",
    "print(f'Mean Absolute Error (MAE): {mae}')\n",
    "print(f'Root Mean Squared Error (RMSE): {rmse}')"
   ]
  },
  {
   "cell_type": "markdown",
   "metadata": {},
   "source": [
    "#### Great scores, let's verify with cross validation just to make sure that our data isn't being misinterpreted by the model."
   ]
  },
  {
   "cell_type": "code",
   "execution_count": 8,
   "metadata": {},
   "outputs": [
    {
     "name": "stdout",
     "output_type": "stream",
     "text": [
      "Cross-validated RMSE Scores: [0.09037801 0.02435877 0.0232167  0.04496554 0.03286379]\n",
      "Mean RMSE: 0.043156562683546194\n"
     ]
    }
   ],
   "source": [
    "scores = cross_val_score(model, X, y, cv = 5, scoring = 'neg_mean_squared_error')\n",
    "rmse_scores = np.sqrt(-scores)\n",
    "\n",
    "print(f'Cross-validated RMSE Scores: {rmse_scores}')\n",
    "print(f'Mean RMSE: {rmse_scores.mean()}')"
   ]
  },
  {
   "cell_type": "markdown",
   "metadata": {},
   "source": [
    "#### Our original scores were quite unrealistic, we have since tested with our model and the scores above reflect a great resting place to go forward with.  2.4 cents of error in our AAPL data in predicting future prices, not too bad!"
   ]
  },
  {
   "cell_type": "code",
   "execution_count": 9,
   "metadata": {},
   "outputs": [
    {
     "name": "stdout",
     "output_type": "stream",
     "text": [
      "Close_Lag_1    0.992437\n",
      "EMA_core       0.984264\n",
      "SMA_core       0.755636\n",
      "RSI_core       0.048948\n",
      "dtype: float64\n"
     ]
    }
   ],
   "source": [
    "correlations = X.corrwith(y)\n",
    "print(correlations.sort_values(ascending = False))"
   ]
  },
  {
   "cell_type": "markdown",
   "metadata": {},
   "source": [
    "#### There are several feature columns that are influencing our Close target because they are correlating too well.  Let's go back to our X and y assignment at the top of our notebook and drop some more of those columns to balance our score."
   ]
  },
  {
   "cell_type": "markdown",
   "metadata": {},
   "source": [
    "#### Now that our predictions look good let's make a few plots to visualize our results, starting with a plot that shows Actual vs Predicted values."
   ]
  },
  {
   "cell_type": "code",
   "execution_count": 10,
   "metadata": {},
   "outputs": [
    {
     "data": {
      "application/vnd.plotly.v1+json": {
       "config": {
        "plotlyServerURL": "https://plot.ly"
       },
       "data": [
        {
         "mode": "markers",
         "name": "Predicted vs Actual",
         "type": "scatter",
         "x": [
          -0.9182282284602884,
          0.0436593144928576,
          -0.7196049865189519,
          -0.0784504907019117,
          0.0474160976997087,
          -0.053290778694592,
          -0.830428703596132,
          -0.8432372237078616,
          0.0312144051992999,
          -0.5429925678706536,
          -0.0991208063406036,
          0.0147011142437199,
          -0.0495495357669301,
          -0.8730579887391388,
          -0.7920602696443915,
          -0.7907923890091132,
          -0.1935351382574965,
          -0.0610122359860192,
          -0.1472320835418791,
          -0.835588472722641,
          -0.8209352976850114,
          -0.8589452348390276,
          -0.3938938963782844,
          -0.7057935633895478,
          -0.7015275188906954,
          -0.2057409175406736,
          -0.7856013807499483,
          -0.4254346373098238,
          -0.7643230913315482,
          -0.2955669820269545,
          0.0026355146218007,
          -0.406520611080928,
          -0.5487915499095268,
          -0.1370476505732407,
          -0.534554037696639,
          -0.436554420653947,
          -0.7327044904297855,
          -0.7858196582428456,
          -0.2638131965536734,
          -0.0732387884995408,
          -0.0208563131353961,
          -0.2608202656412549,
          -0.3592355058651191,
          -0.8950066112718507,
          -0.8451598178911237,
          -0.5074300661146596,
          -0.8863757701428696,
          -0.7899505974573184,
          -0.3064373280326635,
          -0.2253148506251394,
          -0.464509797172549,
          -0.6674250897942379,
          -0.457962582405571,
          -0.8321174403637382,
          -0.8853261273569192,
          -0.3107709251737055,
          -0.8709899422998939,
          -0.4354684247148932,
          -0.8628215830510692,
          -0.588396665007459,
          0.0255246015504449,
          -0.6822393366541779,
          -0.8657106478117639,
          -0.2682767453150782,
          -0.571758576095533,
          -0.7928604354483579,
          -0.3002174898614623,
          -0.4152189652085295,
          -0.8611588128213937,
          -0.6959312740655305,
          -0.2049095126040512,
          -0.5912337966922919,
          -0.1952446482554478,
          -0.9052949896793516,
          -0.5312284972372883,
          -0.0762369523631149,
          -0.411405015974661,
          -0.2792146439629769,
          -0.5174066874927117,
          -0.7475238909537424,
          -0.6866820328980995,
          -0.8820837591060863,
          -0.380643746903882,
          -0.9163472203812848,
          -0.7760820083008968,
          0.0004427495133487,
          0.2963122221052555,
          -0.0811368975360371,
          -0.8589036487347688,
          -0.0370943191453388,
          -0.1408927596526264,
          0.0287151160125547,
          -0.2394431844480091,
          -0.303428777553917,
          -0.3893732608770007,
          -0.8614913430811872,
          0.2890376271276567,
          0.0243658993051846,
          -0.2629610183867063,
          -0.7164612514686871,
          0.0265275838552582,
          -0.6690255006893095,
          -0.8926475413899325,
          -0.6929746566626458,
          -0.8552975110914864,
          -0.4079755300764478,
          -0.3354215344633013,
          -0.1592872172614872,
          0.0334384094404078,
          -0.0191779629829621,
          -0.42082044298485,
          0.1186035794770086,
          -0.4778119590099517,
          -0.2037663506379803,
          -0.8053052654547769,
          -0.6816677556711424,
          -0.102025569954765,
          -0.7681371198525555,
          -0.291981617614017,
          -0.6439280290858854,
          -0.9087088560112369,
          0.0184786706809157,
          -0.8332138229179643,
          0.3466110314638275,
          -0.4074975079171025,
          -0.3150318160085411,
          0.0250621989574274,
          -0.5504542804956327,
          -0.7368614358257585,
          -0.1054809034602011,
          -0.4345123011090638,
          0.1252546603957101,
          -0.2213294033102186,
          -0.5884642176496488,
          -0.1672737314576567,
          -0.3897785767301395,
          -0.8829307043218978,
          -0.5893424019981163,
          0.3423502992032694,
          -0.5381913351854384,
          -0.73925685886078,
          -0.0514148449924668,
          -0.0048417382823675,
          0.3459875174049301,
          -0.7066353549413424,
          -0.7524082958474753,
          -0.2259020511745027,
          -0.878534747846252,
          -0.0609757639022078,
          -0.2175881603825567,
          -0.8921175465111558,
          -0.9462147648244073,
          -0.7557546888243095,
          0.0017938023571447,
          -0.2278765387900574,
          -0.1963878102215188,
          -0.1660422436190511,
          -0.2609241317929788,
          -0.5850503513177636,
          -0.0440259179608331,
          -0.0770528170205481,
          -0.476772742482743,
          -0.5929796994869158,
          -0.2108331340249928,
          -0.7791478040937995,
          -0.4704334185934902,
          -0.1404771364714539,
          -0.8676487822742153,
          -0.4258503397781349,
          -0.4078248052257404,
          -0.0183360921440287,
          -0.0676270033951867,
          -0.9299299794026196,
          -0.0841507602530778,
          0.0058883487749448,
          -0.2790795386785972,
          -0.7288800752936058,
          -0.4343720421606674,
          -0.034158474972799,
          -0.1428673265553198,
          -0.8489374139718889,
          -0.7708858463777152,
          -0.3067647046284399,
          -0.7220783488113356,
          -0.3473623361288744,
          -0.2731923100543285,
          -0.287855832063561,
          -0.3709788825552788,
          -0.0849821651897002,
          -0.2727298281741722,
          0.3296716514247639,
          -0.2502876035593563,
          -0.1707707699980599,
          -0.1647120432927386,
          0.1193309596876298,
          -0.9355886232059574,
          -0.0173385013646483,
          -0.4781237160394004,
          -0.0454132843141631,
          -0.0891961180384133,
          0.0048802920932533,
          -0.1007783832626927,
          -0.439568204083849,
          -0.8684698005956653,
          -0.0716487642196415,
          -0.4736550136139786,
          -0.4674196351635883,
          0.0876343402413661,
          -0.3893732608770007,
          -0.8165965468799524,
          -0.0096845967154109,
          -0.8780930788400099,
          -0.9280074248629264,
          0.0551064744327575,
          -0.2685469558838377,
          -0.2486611864827841,
          -0.6824004481200578,
          -0.1127296508305771,
          -0.2473309861564719,
          0.328112707703243,
          -0.2466866988672294,
          -0.7563054172898616,
          -0.468458851690797,
          -0.3994538276939154,
          -0.9103456597029812,
          -0.0800094344234327,
          -0.7428162170922172,
          -0.2732910225420354,
          -0.1889313305476953,
          -0.0608511245201393,
          -0.9261887761185268,
          -0.0464265739470101,
          -0.075525112431683,
          -0.4980769587955046,
          -0.8567160769339028,
          -0.703034370962077,
          -0.2424154214172216,
          -0.3991732305099838,
          -0.3751358279512517,
          -0.0733426546512646,
          -0.0997495533506565,
          -0.3047849840617297,
          -0.9041934138175391,
          -0.8103923282750792,
          -0.3031949597818302,
          -0.7423848950575781,
          -0.9096857528474112,
          -0.2342158626793103,
          -0.9088699674771168,
          -0.009222035548116,
          -0.8365549829436429,
          -0.2761229212757127,
          -0.7457676015439463,
          -0.3241926520162988,
          -0.1633973832456152,
          -0.7977188341605906,
          -0.9228632356591762,
          -0.094402745863906,
          -0.7537073363282707,
          -0.2181648950296092,
          -0.5737330637110878,
          -0.7337229337266493,
          -0.7520809985388374,
          -0.0759875150247005,
          -0.5644839018307954,
          -0.0709680048465879,
          -0.8675968491983534,
          -0.885684663798213,
          -0.7361235897128262,
          -0.5438031995769312,
          -0.1205238937153496,
          -0.4508957990185586,
          0.0521133849460615,
          -0.7826499962982193,
          -0.4899709588812835,
          -0.3659905322226832,
          0.0176940451561384
         ],
         "y": [
          -0.8827754110688537,
          0.028188467150175794,
          -0.6899933844956916,
          -0.059029876328503095,
          -0.023748272033058335,
          -0.058485567493871286,
          -0.8071877463715369,
          -0.8448443273207189,
          0.018568842227599372,
          -0.5684161767046525,
          -0.08195031458856743,
          0.017769874677844685,
          -0.03098347377825384,
          -0.8503342487882968,
          -0.774902276723396,
          -0.767483305584937,
          -0.15049046085171436,
          -0.011316129996753719,
          -0.20187029603077375,
          -0.8091059092753652,
          -0.8339822035455979,
          -0.8784645708233882,
          -0.4277833732343293,
          -0.6953259539909933,
          -0.7180769391754049,
          -0.2635532540118996,
          -0.7903976534438917,
          -0.43583252655931426,
          -0.7706868839012833,
          -0.3269273082187205,
          0.013814773673607615,
          -0.34834664938191046,
          -0.5377759804083828,
          -0.15039689065643103,
          -0.5449744473425957,
          -0.4060172004648937,
          -0.7420842815583952,
          -0.7639963016165854,
          -0.30300863596315586,
          -0.03825481981538206,
          -0.03160573191531806,
          -0.27366335876701603,
          -0.3995417717027313,
          -0.883878803016181,
          -0.8691378906124325,
          -0.503348140036034,
          -0.8817973850276037,
          -0.7748927302961139,
          -0.2951526560363836,
          -0.2289869560282472,
          -0.4228358802721121,
          -0.6398597092098395,
          -0.42380494391105955,
          -0.820491368276923,
          -0.8920775082190717,
          -0.306122339061396,
          -0.8439936134559594,
          -0.4530406340304242,
          -0.8808033094750549,
          -0.5812941876750408,
          0.036855097896713165,
          -0.7037919886528241,
          -0.8958537782812004,
          -0.2527538227593454,
          -0.5461343653360062,
          -0.7921965032357987,
          -0.3184240604982477,
          -0.46889267692689124,
          -0.867645205663387,
          -0.7099623366093439,
          -0.243437682414677,
          -0.5881438503198455,
          -0.19379359542915128,
          -0.911575417146165,
          -0.5257137852932461,
          -0.06718644626618661,
          -0.41647186558396004,
          -0.3286463889107556,
          -0.5237727959633862,
          -0.7533877463867644,
          -0.6963558196272208,
          -0.8933117571553673,
          -0.3788042378153339,
          -0.9230569327500577,
          -0.7685283989551845,
          -0.0191280700570388,
          0.15169594029946412,
          -0.10783510516957462,
          -0.8376248929707801,
          -0.058978701755612734,
          -0.165710874146488,
          0.02657845825865728,
          -0.23166210361232997,
          -0.27641125493574015,
          -0.3910739193709924,
          -0.8738606835830072,
          0.22341778449769195,
          0.019751814260855264,
          -0.28665995064507327,
          -0.7316814112568286,
          0.01988743477803306,
          -0.6586827013325867,
          -0.9060511302869276,
          -0.7146582737707465,
          -0.8590499235149167,
          -0.41238511988703414,
          -0.2601825858870797,
          -0.17220589994105356,
          0.02594117715778991,
          -0.010685598641491958,
          -0.48405381111839507,
          0.09121818620573867,
          -0.4267344795065768,
          -0.24309694840047497,
          -0.8156988252054354,
          -0.6924699278897304,
          -0.07652904852332672,
          -0.7809547164788455,
          -0.3013825784646829,
          -0.6237846752225198,
          -0.9159628764278966,
          0.0039127067024127705,
          -0.8317371460603769,
          0.31155315923371396,
          -0.4340618316871699,
          -0.3385715523742275,
          0.017849961422118144,
          -0.478267270118862,
          -0.7634312861770396,
          -0.07110848913779377,
          -0.44282420168651654,
          0.10335046160921561,
          -0.263271887101689,
          -0.6077861109346232,
          -0.15842440102169292,
          -0.3920460397523475,
          -0.8957698664187739,
          -0.6295160350931246,
          0.321370332248245,
          -0.5325604670392501,
          -0.7549374211084328,
          -0.031058880856180103,
          0.006846895866793849,
          0.3029942245249204,
          -0.7143274438183738,
          -0.7733635802580876,
          -0.2085736430824781,
          -0.8762103940981465,
          -0.015038492951928412,
          -0.22368425208352605,
          -0.9078266912743256,
          -0.9806865921394667,
          -0.7395218976681854,
          -0.011233750506785652,
          -0.21728677028510862,
          -0.24834779080209765,
          -0.18748837411909014,
          -0.2993834907007414,
          -0.6070318881660512,
          -0.0038105360587438004,
          -0.09995358921523045,
          -0.44057827051434495,
          -0.5932349468568743,
          -0.2557041388085295,
          -0.7960965966326854,
          -0.4310197420793567,
          -0.18341870503689015,
          -0.8515937110921334,
          -0.4146452754039565,
          -0.4434893265716287,
          -0.0030489317294008027,
          -0.033213415979998585,
          -0.9520887576285275,
          -0.07447607000078926,
          -0.026087346992590334,
          -0.22672234171355277,
          -0.7435179498669295,
          -0.425199809481939,
          0.0010104754190787442,
          -0.1351650641575523,
          -0.8535981071509655,
          -0.7627423367537853,
          -0.34050116456073964,
          -0.7485868605787489,
          -0.336348214717228,
          -0.2518364049996849,
          -0.3159370142433125,
          -0.43291920809529055,
          -0.0967293752105449,
          -0.23678293817107787,
          0.3208536962954544,
          -0.23199381259611285,
          -0.15983256962737166,
          -0.1385445420863942,
          0.11835443905248336,
          -0.8888719701895265,
          0.00874644579204513,
          -0.45746286701184785,
          -0.007163810363686046,
          -0.11066991657026115,
          0.019784288664732575,
          -0.1010675563189866,
          -0.3962333053149519,
          -0.8723727142983673,
          -0.09273464746423216,
          -0.4315569911134139,
          -0.4226434511508647,
          0.07571395348978693,
          -0.30226028319884324,
          -0.8090826729397071,
          -0.01180081621533725,
          -0.892709554043345,
          -0.9232503298228363,
          0.042713871230724815,
          -0.29758467076137485,
          -0.28452762332796483,
          -0.6589298599036164,
          -0.13050919642957717,
          -0.28641097540981947,
          0.28333806570689424,
          -0.26800672805955483,
          -0.7570632107869497,
          -0.4573583988498555,
          -0.3776192689409937,
          -0.8977434748428539,
          -0.0759780780190665,
          -0.7302082425334535,
          -0.29049308580594413,
          -0.21442352821915694,
          -0.0696627905584297,
          -0.9399544212814186,
          -0.03555948705368042,
          -0.09567886531776448,
          -0.4946353619980149,
          -0.8634818948762089,
          -0.7083199296602036,
          -0.23891177375779432,
          -0.44915236680563003,
          -0.3979193822845755,
          -0.07193378530952516,
          -0.08783639897500632,
          -0.21494107824870906,
          -0.9193263459761558,
          -0.8062773951527611,
          -0.309925135270447,
          -0.7328518857576405,
          -0.8828272028122837,
          -0.23918347746673513,
          -0.9176310167267274,
          0.0026580465957642945,
          -0.8217940351432382,
          -0.30634617675796344,
          -0.7606999275238824,
          -0.31326579303011076,
          -0.13225969721440034,
          -0.8023831880711099,
          -0.8723916831729694,
          -0.09364932670607645,
          -0.7615564098412717,
          -0.23129228779383365,
          -0.5553533328106852,
          -0.7349582990774004,
          -0.758676961627341,
          -0.08064926595552474,
          -0.5554907838091332,
          -0.03384703639990207,
          -0.849321285299439,
          -0.8778052977939999,
          -0.7217427517608499,
          -0.5310406250388229,
          -0.13265489915220835,
          -0.44122469321267244,
          0.058404278490279876,
          -0.7839368967838769,
          -0.47163816055332664,
          -0.35571773303685467,
          0.012003453191829256
         ]
        },
        {
         "mode": "lines",
         "name": "Ideal Line",
         "type": "scatter",
         "x": [
          -0.9182282284602884,
          0.0436593144928576,
          -0.7196049865189519,
          -0.0784504907019117,
          0.0474160976997087,
          -0.053290778694592,
          -0.830428703596132,
          -0.8432372237078616,
          0.0312144051992999,
          -0.5429925678706536,
          -0.0991208063406036,
          0.0147011142437199,
          -0.0495495357669301,
          -0.8730579887391388,
          -0.7920602696443915,
          -0.7907923890091132,
          -0.1935351382574965,
          -0.0610122359860192,
          -0.1472320835418791,
          -0.835588472722641,
          -0.8209352976850114,
          -0.8589452348390276,
          -0.3938938963782844,
          -0.7057935633895478,
          -0.7015275188906954,
          -0.2057409175406736,
          -0.7856013807499483,
          -0.4254346373098238,
          -0.7643230913315482,
          -0.2955669820269545,
          0.0026355146218007,
          -0.406520611080928,
          -0.5487915499095268,
          -0.1370476505732407,
          -0.534554037696639,
          -0.436554420653947,
          -0.7327044904297855,
          -0.7858196582428456,
          -0.2638131965536734,
          -0.0732387884995408,
          -0.0208563131353961,
          -0.2608202656412549,
          -0.3592355058651191,
          -0.8950066112718507,
          -0.8451598178911237,
          -0.5074300661146596,
          -0.8863757701428696,
          -0.7899505974573184,
          -0.3064373280326635,
          -0.2253148506251394,
          -0.464509797172549,
          -0.6674250897942379,
          -0.457962582405571,
          -0.8321174403637382,
          -0.8853261273569192,
          -0.3107709251737055,
          -0.8709899422998939,
          -0.4354684247148932,
          -0.8628215830510692,
          -0.588396665007459,
          0.0255246015504449,
          -0.6822393366541779,
          -0.8657106478117639,
          -0.2682767453150782,
          -0.571758576095533,
          -0.7928604354483579,
          -0.3002174898614623,
          -0.4152189652085295,
          -0.8611588128213937,
          -0.6959312740655305,
          -0.2049095126040512,
          -0.5912337966922919,
          -0.1952446482554478,
          -0.9052949896793516,
          -0.5312284972372883,
          -0.0762369523631149,
          -0.411405015974661,
          -0.2792146439629769,
          -0.5174066874927117,
          -0.7475238909537424,
          -0.6866820328980995,
          -0.8820837591060863,
          -0.380643746903882,
          -0.9163472203812848,
          -0.7760820083008968,
          0.0004427495133487,
          0.2963122221052555,
          -0.0811368975360371,
          -0.8589036487347688,
          -0.0370943191453388,
          -0.1408927596526264,
          0.0287151160125547,
          -0.2394431844480091,
          -0.303428777553917,
          -0.3893732608770007,
          -0.8614913430811872,
          0.2890376271276567,
          0.0243658993051846,
          -0.2629610183867063,
          -0.7164612514686871,
          0.0265275838552582,
          -0.6690255006893095,
          -0.8926475413899325,
          -0.6929746566626458,
          -0.8552975110914864,
          -0.4079755300764478,
          -0.3354215344633013,
          -0.1592872172614872,
          0.0334384094404078,
          -0.0191779629829621,
          -0.42082044298485,
          0.1186035794770086,
          -0.4778119590099517,
          -0.2037663506379803,
          -0.8053052654547769,
          -0.6816677556711424,
          -0.102025569954765,
          -0.7681371198525555,
          -0.291981617614017,
          -0.6439280290858854,
          -0.9087088560112369,
          0.0184786706809157,
          -0.8332138229179643,
          0.3466110314638275,
          -0.4074975079171025,
          -0.3150318160085411,
          0.0250621989574274,
          -0.5504542804956327,
          -0.7368614358257585,
          -0.1054809034602011,
          -0.4345123011090638,
          0.1252546603957101,
          -0.2213294033102186,
          -0.5884642176496488,
          -0.1672737314576567,
          -0.3897785767301395,
          -0.8829307043218978,
          -0.5893424019981163,
          0.3423502992032694,
          -0.5381913351854384,
          -0.73925685886078,
          -0.0514148449924668,
          -0.0048417382823675,
          0.3459875174049301,
          -0.7066353549413424,
          -0.7524082958474753,
          -0.2259020511745027,
          -0.878534747846252,
          -0.0609757639022078,
          -0.2175881603825567,
          -0.8921175465111558,
          -0.9462147648244073,
          -0.7557546888243095,
          0.0017938023571447,
          -0.2278765387900574,
          -0.1963878102215188,
          -0.1660422436190511,
          -0.2609241317929788,
          -0.5850503513177636,
          -0.0440259179608331,
          -0.0770528170205481,
          -0.476772742482743,
          -0.5929796994869158,
          -0.2108331340249928,
          -0.7791478040937995,
          -0.4704334185934902,
          -0.1404771364714539,
          -0.8676487822742153,
          -0.4258503397781349,
          -0.4078248052257404,
          -0.0183360921440287,
          -0.0676270033951867,
          -0.9299299794026196,
          -0.0841507602530778,
          0.0058883487749448,
          -0.2790795386785972,
          -0.7288800752936058,
          -0.4343720421606674,
          -0.034158474972799,
          -0.1428673265553198,
          -0.8489374139718889,
          -0.7708858463777152,
          -0.3067647046284399,
          -0.7220783488113356,
          -0.3473623361288744,
          -0.2731923100543285,
          -0.287855832063561,
          -0.3709788825552788,
          -0.0849821651897002,
          -0.2727298281741722,
          0.3296716514247639,
          -0.2502876035593563,
          -0.1707707699980599,
          -0.1647120432927386,
          0.1193309596876298,
          -0.9355886232059574,
          -0.0173385013646483,
          -0.4781237160394004,
          -0.0454132843141631,
          -0.0891961180384133,
          0.0048802920932533,
          -0.1007783832626927,
          -0.439568204083849,
          -0.8684698005956653,
          -0.0716487642196415,
          -0.4736550136139786,
          -0.4674196351635883,
          0.0876343402413661,
          -0.3893732608770007,
          -0.8165965468799524,
          -0.0096845967154109,
          -0.8780930788400099,
          -0.9280074248629264,
          0.0551064744327575,
          -0.2685469558838377,
          -0.2486611864827841,
          -0.6824004481200578,
          -0.1127296508305771,
          -0.2473309861564719,
          0.328112707703243,
          -0.2466866988672294,
          -0.7563054172898616,
          -0.468458851690797,
          -0.3994538276939154,
          -0.9103456597029812,
          -0.0800094344234327,
          -0.7428162170922172,
          -0.2732910225420354,
          -0.1889313305476953,
          -0.0608511245201393,
          -0.9261887761185268,
          -0.0464265739470101,
          -0.075525112431683,
          -0.4980769587955046,
          -0.8567160769339028,
          -0.703034370962077,
          -0.2424154214172216,
          -0.3991732305099838,
          -0.3751358279512517,
          -0.0733426546512646,
          -0.0997495533506565,
          -0.3047849840617297,
          -0.9041934138175391,
          -0.8103923282750792,
          -0.3031949597818302,
          -0.7423848950575781,
          -0.9096857528474112,
          -0.2342158626793103,
          -0.9088699674771168,
          -0.009222035548116,
          -0.8365549829436429,
          -0.2761229212757127,
          -0.7457676015439463,
          -0.3241926520162988,
          -0.1633973832456152,
          -0.7977188341605906,
          -0.9228632356591762,
          -0.094402745863906,
          -0.7537073363282707,
          -0.2181648950296092,
          -0.5737330637110878,
          -0.7337229337266493,
          -0.7520809985388374,
          -0.0759875150247005,
          -0.5644839018307954,
          -0.0709680048465879,
          -0.8675968491983534,
          -0.885684663798213,
          -0.7361235897128262,
          -0.5438031995769312,
          -0.1205238937153496,
          -0.4508957990185586,
          0.0521133849460615,
          -0.7826499962982193,
          -0.4899709588812835,
          -0.3659905322226832,
          0.0176940451561384
         ],
         "y": [
          -0.9182282284602884,
          0.0436593144928576,
          -0.7196049865189519,
          -0.0784504907019117,
          0.0474160976997087,
          -0.053290778694592,
          -0.830428703596132,
          -0.8432372237078616,
          0.0312144051992999,
          -0.5429925678706536,
          -0.0991208063406036,
          0.0147011142437199,
          -0.0495495357669301,
          -0.8730579887391388,
          -0.7920602696443915,
          -0.7907923890091132,
          -0.1935351382574965,
          -0.0610122359860192,
          -0.1472320835418791,
          -0.835588472722641,
          -0.8209352976850114,
          -0.8589452348390276,
          -0.3938938963782844,
          -0.7057935633895478,
          -0.7015275188906954,
          -0.2057409175406736,
          -0.7856013807499483,
          -0.4254346373098238,
          -0.7643230913315482,
          -0.2955669820269545,
          0.0026355146218007,
          -0.406520611080928,
          -0.5487915499095268,
          -0.1370476505732407,
          -0.534554037696639,
          -0.436554420653947,
          -0.7327044904297855,
          -0.7858196582428456,
          -0.2638131965536734,
          -0.0732387884995408,
          -0.0208563131353961,
          -0.2608202656412549,
          -0.3592355058651191,
          -0.8950066112718507,
          -0.8451598178911237,
          -0.5074300661146596,
          -0.8863757701428696,
          -0.7899505974573184,
          -0.3064373280326635,
          -0.2253148506251394,
          -0.464509797172549,
          -0.6674250897942379,
          -0.457962582405571,
          -0.8321174403637382,
          -0.8853261273569192,
          -0.3107709251737055,
          -0.8709899422998939,
          -0.4354684247148932,
          -0.8628215830510692,
          -0.588396665007459,
          0.0255246015504449,
          -0.6822393366541779,
          -0.8657106478117639,
          -0.2682767453150782,
          -0.571758576095533,
          -0.7928604354483579,
          -0.3002174898614623,
          -0.4152189652085295,
          -0.8611588128213937,
          -0.6959312740655305,
          -0.2049095126040512,
          -0.5912337966922919,
          -0.1952446482554478,
          -0.9052949896793516,
          -0.5312284972372883,
          -0.0762369523631149,
          -0.411405015974661,
          -0.2792146439629769,
          -0.5174066874927117,
          -0.7475238909537424,
          -0.6866820328980995,
          -0.8820837591060863,
          -0.380643746903882,
          -0.9163472203812848,
          -0.7760820083008968,
          0.0004427495133487,
          0.2963122221052555,
          -0.0811368975360371,
          -0.8589036487347688,
          -0.0370943191453388,
          -0.1408927596526264,
          0.0287151160125547,
          -0.2394431844480091,
          -0.303428777553917,
          -0.3893732608770007,
          -0.8614913430811872,
          0.2890376271276567,
          0.0243658993051846,
          -0.2629610183867063,
          -0.7164612514686871,
          0.0265275838552582,
          -0.6690255006893095,
          -0.8926475413899325,
          -0.6929746566626458,
          -0.8552975110914864,
          -0.4079755300764478,
          -0.3354215344633013,
          -0.1592872172614872,
          0.0334384094404078,
          -0.0191779629829621,
          -0.42082044298485,
          0.1186035794770086,
          -0.4778119590099517,
          -0.2037663506379803,
          -0.8053052654547769,
          -0.6816677556711424,
          -0.102025569954765,
          -0.7681371198525555,
          -0.291981617614017,
          -0.6439280290858854,
          -0.9087088560112369,
          0.0184786706809157,
          -0.8332138229179643,
          0.3466110314638275,
          -0.4074975079171025,
          -0.3150318160085411,
          0.0250621989574274,
          -0.5504542804956327,
          -0.7368614358257585,
          -0.1054809034602011,
          -0.4345123011090638,
          0.1252546603957101,
          -0.2213294033102186,
          -0.5884642176496488,
          -0.1672737314576567,
          -0.3897785767301395,
          -0.8829307043218978,
          -0.5893424019981163,
          0.3423502992032694,
          -0.5381913351854384,
          -0.73925685886078,
          -0.0514148449924668,
          -0.0048417382823675,
          0.3459875174049301,
          -0.7066353549413424,
          -0.7524082958474753,
          -0.2259020511745027,
          -0.878534747846252,
          -0.0609757639022078,
          -0.2175881603825567,
          -0.8921175465111558,
          -0.9462147648244073,
          -0.7557546888243095,
          0.0017938023571447,
          -0.2278765387900574,
          -0.1963878102215188,
          -0.1660422436190511,
          -0.2609241317929788,
          -0.5850503513177636,
          -0.0440259179608331,
          -0.0770528170205481,
          -0.476772742482743,
          -0.5929796994869158,
          -0.2108331340249928,
          -0.7791478040937995,
          -0.4704334185934902,
          -0.1404771364714539,
          -0.8676487822742153,
          -0.4258503397781349,
          -0.4078248052257404,
          -0.0183360921440287,
          -0.0676270033951867,
          -0.9299299794026196,
          -0.0841507602530778,
          0.0058883487749448,
          -0.2790795386785972,
          -0.7288800752936058,
          -0.4343720421606674,
          -0.034158474972799,
          -0.1428673265553198,
          -0.8489374139718889,
          -0.7708858463777152,
          -0.3067647046284399,
          -0.7220783488113356,
          -0.3473623361288744,
          -0.2731923100543285,
          -0.287855832063561,
          -0.3709788825552788,
          -0.0849821651897002,
          -0.2727298281741722,
          0.3296716514247639,
          -0.2502876035593563,
          -0.1707707699980599,
          -0.1647120432927386,
          0.1193309596876298,
          -0.9355886232059574,
          -0.0173385013646483,
          -0.4781237160394004,
          -0.0454132843141631,
          -0.0891961180384133,
          0.0048802920932533,
          -0.1007783832626927,
          -0.439568204083849,
          -0.8684698005956653,
          -0.0716487642196415,
          -0.4736550136139786,
          -0.4674196351635883,
          0.0876343402413661,
          -0.3893732608770007,
          -0.8165965468799524,
          -0.0096845967154109,
          -0.8780930788400099,
          -0.9280074248629264,
          0.0551064744327575,
          -0.2685469558838377,
          -0.2486611864827841,
          -0.6824004481200578,
          -0.1127296508305771,
          -0.2473309861564719,
          0.328112707703243,
          -0.2466866988672294,
          -0.7563054172898616,
          -0.468458851690797,
          -0.3994538276939154,
          -0.9103456597029812,
          -0.0800094344234327,
          -0.7428162170922172,
          -0.2732910225420354,
          -0.1889313305476953,
          -0.0608511245201393,
          -0.9261887761185268,
          -0.0464265739470101,
          -0.075525112431683,
          -0.4980769587955046,
          -0.8567160769339028,
          -0.703034370962077,
          -0.2424154214172216,
          -0.3991732305099838,
          -0.3751358279512517,
          -0.0733426546512646,
          -0.0997495533506565,
          -0.3047849840617297,
          -0.9041934138175391,
          -0.8103923282750792,
          -0.3031949597818302,
          -0.7423848950575781,
          -0.9096857528474112,
          -0.2342158626793103,
          -0.9088699674771168,
          -0.009222035548116,
          -0.8365549829436429,
          -0.2761229212757127,
          -0.7457676015439463,
          -0.3241926520162988,
          -0.1633973832456152,
          -0.7977188341605906,
          -0.9228632356591762,
          -0.094402745863906,
          -0.7537073363282707,
          -0.2181648950296092,
          -0.5737330637110878,
          -0.7337229337266493,
          -0.7520809985388374,
          -0.0759875150247005,
          -0.5644839018307954,
          -0.0709680048465879,
          -0.8675968491983534,
          -0.885684663798213,
          -0.7361235897128262,
          -0.5438031995769312,
          -0.1205238937153496,
          -0.4508957990185586,
          0.0521133849460615,
          -0.7826499962982193,
          -0.4899709588812835,
          -0.3659905322226832,
          0.0176940451561384
         ]
        }
       ],
       "layout": {
        "template": {
         "data": {
          "bar": [
           {
            "error_x": {
             "color": "#f2f5fa"
            },
            "error_y": {
             "color": "#f2f5fa"
            },
            "marker": {
             "line": {
              "color": "rgb(17,17,17)",
              "width": 0.5
             },
             "pattern": {
              "fillmode": "overlay",
              "size": 10,
              "solidity": 0.2
             }
            },
            "type": "bar"
           }
          ],
          "barpolar": [
           {
            "marker": {
             "line": {
              "color": "rgb(17,17,17)",
              "width": 0.5
             },
             "pattern": {
              "fillmode": "overlay",
              "size": 10,
              "solidity": 0.2
             }
            },
            "type": "barpolar"
           }
          ],
          "carpet": [
           {
            "aaxis": {
             "endlinecolor": "#A2B1C6",
             "gridcolor": "#506784",
             "linecolor": "#506784",
             "minorgridcolor": "#506784",
             "startlinecolor": "#A2B1C6"
            },
            "baxis": {
             "endlinecolor": "#A2B1C6",
             "gridcolor": "#506784",
             "linecolor": "#506784",
             "minorgridcolor": "#506784",
             "startlinecolor": "#A2B1C6"
            },
            "type": "carpet"
           }
          ],
          "choropleth": [
           {
            "colorbar": {
             "outlinewidth": 0,
             "ticks": ""
            },
            "type": "choropleth"
           }
          ],
          "contour": [
           {
            "colorbar": {
             "outlinewidth": 0,
             "ticks": ""
            },
            "colorscale": [
             [
              0,
              "#0d0887"
             ],
             [
              0.1111111111111111,
              "#46039f"
             ],
             [
              0.2222222222222222,
              "#7201a8"
             ],
             [
              0.3333333333333333,
              "#9c179e"
             ],
             [
              0.4444444444444444,
              "#bd3786"
             ],
             [
              0.5555555555555556,
              "#d8576b"
             ],
             [
              0.6666666666666666,
              "#ed7953"
             ],
             [
              0.7777777777777778,
              "#fb9f3a"
             ],
             [
              0.8888888888888888,
              "#fdca26"
             ],
             [
              1,
              "#f0f921"
             ]
            ],
            "type": "contour"
           }
          ],
          "contourcarpet": [
           {
            "colorbar": {
             "outlinewidth": 0,
             "ticks": ""
            },
            "type": "contourcarpet"
           }
          ],
          "heatmap": [
           {
            "colorbar": {
             "outlinewidth": 0,
             "ticks": ""
            },
            "colorscale": [
             [
              0,
              "#0d0887"
             ],
             [
              0.1111111111111111,
              "#46039f"
             ],
             [
              0.2222222222222222,
              "#7201a8"
             ],
             [
              0.3333333333333333,
              "#9c179e"
             ],
             [
              0.4444444444444444,
              "#bd3786"
             ],
             [
              0.5555555555555556,
              "#d8576b"
             ],
             [
              0.6666666666666666,
              "#ed7953"
             ],
             [
              0.7777777777777778,
              "#fb9f3a"
             ],
             [
              0.8888888888888888,
              "#fdca26"
             ],
             [
              1,
              "#f0f921"
             ]
            ],
            "type": "heatmap"
           }
          ],
          "heatmapgl": [
           {
            "colorbar": {
             "outlinewidth": 0,
             "ticks": ""
            },
            "colorscale": [
             [
              0,
              "#0d0887"
             ],
             [
              0.1111111111111111,
              "#46039f"
             ],
             [
              0.2222222222222222,
              "#7201a8"
             ],
             [
              0.3333333333333333,
              "#9c179e"
             ],
             [
              0.4444444444444444,
              "#bd3786"
             ],
             [
              0.5555555555555556,
              "#d8576b"
             ],
             [
              0.6666666666666666,
              "#ed7953"
             ],
             [
              0.7777777777777778,
              "#fb9f3a"
             ],
             [
              0.8888888888888888,
              "#fdca26"
             ],
             [
              1,
              "#f0f921"
             ]
            ],
            "type": "heatmapgl"
           }
          ],
          "histogram": [
           {
            "marker": {
             "pattern": {
              "fillmode": "overlay",
              "size": 10,
              "solidity": 0.2
             }
            },
            "type": "histogram"
           }
          ],
          "histogram2d": [
           {
            "colorbar": {
             "outlinewidth": 0,
             "ticks": ""
            },
            "colorscale": [
             [
              0,
              "#0d0887"
             ],
             [
              0.1111111111111111,
              "#46039f"
             ],
             [
              0.2222222222222222,
              "#7201a8"
             ],
             [
              0.3333333333333333,
              "#9c179e"
             ],
             [
              0.4444444444444444,
              "#bd3786"
             ],
             [
              0.5555555555555556,
              "#d8576b"
             ],
             [
              0.6666666666666666,
              "#ed7953"
             ],
             [
              0.7777777777777778,
              "#fb9f3a"
             ],
             [
              0.8888888888888888,
              "#fdca26"
             ],
             [
              1,
              "#f0f921"
             ]
            ],
            "type": "histogram2d"
           }
          ],
          "histogram2dcontour": [
           {
            "colorbar": {
             "outlinewidth": 0,
             "ticks": ""
            },
            "colorscale": [
             [
              0,
              "#0d0887"
             ],
             [
              0.1111111111111111,
              "#46039f"
             ],
             [
              0.2222222222222222,
              "#7201a8"
             ],
             [
              0.3333333333333333,
              "#9c179e"
             ],
             [
              0.4444444444444444,
              "#bd3786"
             ],
             [
              0.5555555555555556,
              "#d8576b"
             ],
             [
              0.6666666666666666,
              "#ed7953"
             ],
             [
              0.7777777777777778,
              "#fb9f3a"
             ],
             [
              0.8888888888888888,
              "#fdca26"
             ],
             [
              1,
              "#f0f921"
             ]
            ],
            "type": "histogram2dcontour"
           }
          ],
          "mesh3d": [
           {
            "colorbar": {
             "outlinewidth": 0,
             "ticks": ""
            },
            "type": "mesh3d"
           }
          ],
          "parcoords": [
           {
            "line": {
             "colorbar": {
              "outlinewidth": 0,
              "ticks": ""
             }
            },
            "type": "parcoords"
           }
          ],
          "pie": [
           {
            "automargin": true,
            "type": "pie"
           }
          ],
          "scatter": [
           {
            "marker": {
             "line": {
              "color": "#283442"
             }
            },
            "type": "scatter"
           }
          ],
          "scatter3d": [
           {
            "line": {
             "colorbar": {
              "outlinewidth": 0,
              "ticks": ""
             }
            },
            "marker": {
             "colorbar": {
              "outlinewidth": 0,
              "ticks": ""
             }
            },
            "type": "scatter3d"
           }
          ],
          "scattercarpet": [
           {
            "marker": {
             "colorbar": {
              "outlinewidth": 0,
              "ticks": ""
             }
            },
            "type": "scattercarpet"
           }
          ],
          "scattergeo": [
           {
            "marker": {
             "colorbar": {
              "outlinewidth": 0,
              "ticks": ""
             }
            },
            "type": "scattergeo"
           }
          ],
          "scattergl": [
           {
            "marker": {
             "line": {
              "color": "#283442"
             }
            },
            "type": "scattergl"
           }
          ],
          "scattermapbox": [
           {
            "marker": {
             "colorbar": {
              "outlinewidth": 0,
              "ticks": ""
             }
            },
            "type": "scattermapbox"
           }
          ],
          "scatterpolar": [
           {
            "marker": {
             "colorbar": {
              "outlinewidth": 0,
              "ticks": ""
             }
            },
            "type": "scatterpolar"
           }
          ],
          "scatterpolargl": [
           {
            "marker": {
             "colorbar": {
              "outlinewidth": 0,
              "ticks": ""
             }
            },
            "type": "scatterpolargl"
           }
          ],
          "scatterternary": [
           {
            "marker": {
             "colorbar": {
              "outlinewidth": 0,
              "ticks": ""
             }
            },
            "type": "scatterternary"
           }
          ],
          "surface": [
           {
            "colorbar": {
             "outlinewidth": 0,
             "ticks": ""
            },
            "colorscale": [
             [
              0,
              "#0d0887"
             ],
             [
              0.1111111111111111,
              "#46039f"
             ],
             [
              0.2222222222222222,
              "#7201a8"
             ],
             [
              0.3333333333333333,
              "#9c179e"
             ],
             [
              0.4444444444444444,
              "#bd3786"
             ],
             [
              0.5555555555555556,
              "#d8576b"
             ],
             [
              0.6666666666666666,
              "#ed7953"
             ],
             [
              0.7777777777777778,
              "#fb9f3a"
             ],
             [
              0.8888888888888888,
              "#fdca26"
             ],
             [
              1,
              "#f0f921"
             ]
            ],
            "type": "surface"
           }
          ],
          "table": [
           {
            "cells": {
             "fill": {
              "color": "#506784"
             },
             "line": {
              "color": "rgb(17,17,17)"
             }
            },
            "header": {
             "fill": {
              "color": "#2a3f5f"
             },
             "line": {
              "color": "rgb(17,17,17)"
             }
            },
            "type": "table"
           }
          ]
         },
         "layout": {
          "annotationdefaults": {
           "arrowcolor": "#f2f5fa",
           "arrowhead": 0,
           "arrowwidth": 1
          },
          "autotypenumbers": "strict",
          "coloraxis": {
           "colorbar": {
            "outlinewidth": 0,
            "ticks": ""
           }
          },
          "colorscale": {
           "diverging": [
            [
             0,
             "#8e0152"
            ],
            [
             0.1,
             "#c51b7d"
            ],
            [
             0.2,
             "#de77ae"
            ],
            [
             0.3,
             "#f1b6da"
            ],
            [
             0.4,
             "#fde0ef"
            ],
            [
             0.5,
             "#f7f7f7"
            ],
            [
             0.6,
             "#e6f5d0"
            ],
            [
             0.7,
             "#b8e186"
            ],
            [
             0.8,
             "#7fbc41"
            ],
            [
             0.9,
             "#4d9221"
            ],
            [
             1,
             "#276419"
            ]
           ],
           "sequential": [
            [
             0,
             "#0d0887"
            ],
            [
             0.1111111111111111,
             "#46039f"
            ],
            [
             0.2222222222222222,
             "#7201a8"
            ],
            [
             0.3333333333333333,
             "#9c179e"
            ],
            [
             0.4444444444444444,
             "#bd3786"
            ],
            [
             0.5555555555555556,
             "#d8576b"
            ],
            [
             0.6666666666666666,
             "#ed7953"
            ],
            [
             0.7777777777777778,
             "#fb9f3a"
            ],
            [
             0.8888888888888888,
             "#fdca26"
            ],
            [
             1,
             "#f0f921"
            ]
           ],
           "sequentialminus": [
            [
             0,
             "#0d0887"
            ],
            [
             0.1111111111111111,
             "#46039f"
            ],
            [
             0.2222222222222222,
             "#7201a8"
            ],
            [
             0.3333333333333333,
             "#9c179e"
            ],
            [
             0.4444444444444444,
             "#bd3786"
            ],
            [
             0.5555555555555556,
             "#d8576b"
            ],
            [
             0.6666666666666666,
             "#ed7953"
            ],
            [
             0.7777777777777778,
             "#fb9f3a"
            ],
            [
             0.8888888888888888,
             "#fdca26"
            ],
            [
             1,
             "#f0f921"
            ]
           ]
          },
          "colorway": [
           "#636efa",
           "#EF553B",
           "#00cc96",
           "#ab63fa",
           "#FFA15A",
           "#19d3f3",
           "#FF6692",
           "#B6E880",
           "#FF97FF",
           "#FECB52"
          ],
          "font": {
           "color": "#f2f5fa"
          },
          "geo": {
           "bgcolor": "rgb(17,17,17)",
           "lakecolor": "rgb(17,17,17)",
           "landcolor": "rgb(17,17,17)",
           "showlakes": true,
           "showland": true,
           "subunitcolor": "#506784"
          },
          "hoverlabel": {
           "align": "left"
          },
          "hovermode": "closest",
          "mapbox": {
           "style": "dark"
          },
          "paper_bgcolor": "rgb(17,17,17)",
          "plot_bgcolor": "rgb(17,17,17)",
          "polar": {
           "angularaxis": {
            "gridcolor": "#506784",
            "linecolor": "#506784",
            "ticks": ""
           },
           "bgcolor": "rgb(17,17,17)",
           "radialaxis": {
            "gridcolor": "#506784",
            "linecolor": "#506784",
            "ticks": ""
           }
          },
          "scene": {
           "xaxis": {
            "backgroundcolor": "rgb(17,17,17)",
            "gridcolor": "#506784",
            "gridwidth": 2,
            "linecolor": "#506784",
            "showbackground": true,
            "ticks": "",
            "zerolinecolor": "#C8D4E3"
           },
           "yaxis": {
            "backgroundcolor": "rgb(17,17,17)",
            "gridcolor": "#506784",
            "gridwidth": 2,
            "linecolor": "#506784",
            "showbackground": true,
            "ticks": "",
            "zerolinecolor": "#C8D4E3"
           },
           "zaxis": {
            "backgroundcolor": "rgb(17,17,17)",
            "gridcolor": "#506784",
            "gridwidth": 2,
            "linecolor": "#506784",
            "showbackground": true,
            "ticks": "",
            "zerolinecolor": "#C8D4E3"
           }
          },
          "shapedefaults": {
           "line": {
            "color": "#f2f5fa"
           }
          },
          "sliderdefaults": {
           "bgcolor": "#C8D4E3",
           "bordercolor": "rgb(17,17,17)",
           "borderwidth": 1,
           "tickwidth": 0
          },
          "ternary": {
           "aaxis": {
            "gridcolor": "#506784",
            "linecolor": "#506784",
            "ticks": ""
           },
           "baxis": {
            "gridcolor": "#506784",
            "linecolor": "#506784",
            "ticks": ""
           },
           "bgcolor": "rgb(17,17,17)",
           "caxis": {
            "gridcolor": "#506784",
            "linecolor": "#506784",
            "ticks": ""
           }
          },
          "title": {
           "x": 0.05
          },
          "updatemenudefaults": {
           "bgcolor": "#506784",
           "borderwidth": 0
          },
          "xaxis": {
           "automargin": true,
           "gridcolor": "#283442",
           "linecolor": "#506784",
           "ticks": "",
           "title": {
            "standoff": 15
           },
           "zerolinecolor": "#283442",
           "zerolinewidth": 2
          },
          "yaxis": {
           "automargin": true,
           "gridcolor": "#283442",
           "linecolor": "#506784",
           "ticks": "",
           "title": {
            "standoff": 15
           },
           "zerolinecolor": "#283442",
           "zerolinewidth": 2
          }
         }
        },
        "title": {
         "text": "AAPL Actual vs Predicted Closing Prices"
        },
        "xaxis": {
         "title": {
          "text": "Actual Closing Price"
         }
        },
        "yaxis": {
         "title": {
          "text": "Predicted Closing Price"
         }
        }
       }
      }
     },
     "metadata": {},
     "output_type": "display_data"
    }
   ],
   "source": [
    "fig = go.Figure()\n",
    "\n",
    "fig.add_trace(go.Scatter(x = y_test, y = y_pred,\n",
    "                        mode = 'markers',\n",
    "                        name = 'Predicted vs Actual'))\n",
    "\n",
    "fig.add_trace(go.Scatter(x = y_test, y = y_test,\n",
    "                        mode = 'lines',\n",
    "                        name = 'Ideal Line'))\n",
    "\n",
    "fig.update_layout(title = 'AAPL Actual vs Predicted Closing Prices',\n",
    "                xaxis_title = 'Actual Closing Price',\n",
    "                yaxis_title = 'Predicted Closing Price',\n",
    "                template = 'plotly_dark')\n",
    "\n",
    "fig.show()\n",
    "\n",
    "\n"
   ]
  },
  {
   "cell_type": "markdown",
   "metadata": {},
   "source": [
    "#### Pretty good, we will improve this further later on in the project.  Let's look at a residuals plot as well now."
   ]
  },
  {
   "cell_type": "code",
   "execution_count": 11,
   "metadata": {},
   "outputs": [
    {
     "data": {
      "application/vnd.plotly.v1+json": {
       "config": {
        "plotlyServerURL": "https://plot.ly"
       },
       "data": [
        {
         "mode": "markers",
         "name": "Residuals",
         "type": "scatter",
         "x": [
          -0.8827754110688537,
          0.028188467150175794,
          -0.6899933844956916,
          -0.059029876328503095,
          -0.023748272033058335,
          -0.058485567493871286,
          -0.8071877463715369,
          -0.8448443273207189,
          0.018568842227599372,
          -0.5684161767046525,
          -0.08195031458856743,
          0.017769874677844685,
          -0.03098347377825384,
          -0.8503342487882968,
          -0.774902276723396,
          -0.767483305584937,
          -0.15049046085171436,
          -0.011316129996753719,
          -0.20187029603077375,
          -0.8091059092753652,
          -0.8339822035455979,
          -0.8784645708233882,
          -0.4277833732343293,
          -0.6953259539909933,
          -0.7180769391754049,
          -0.2635532540118996,
          -0.7903976534438917,
          -0.43583252655931426,
          -0.7706868839012833,
          -0.3269273082187205,
          0.013814773673607615,
          -0.34834664938191046,
          -0.5377759804083828,
          -0.15039689065643103,
          -0.5449744473425957,
          -0.4060172004648937,
          -0.7420842815583952,
          -0.7639963016165854,
          -0.30300863596315586,
          -0.03825481981538206,
          -0.03160573191531806,
          -0.27366335876701603,
          -0.3995417717027313,
          -0.883878803016181,
          -0.8691378906124325,
          -0.503348140036034,
          -0.8817973850276037,
          -0.7748927302961139,
          -0.2951526560363836,
          -0.2289869560282472,
          -0.4228358802721121,
          -0.6398597092098395,
          -0.42380494391105955,
          -0.820491368276923,
          -0.8920775082190717,
          -0.306122339061396,
          -0.8439936134559594,
          -0.4530406340304242,
          -0.8808033094750549,
          -0.5812941876750408,
          0.036855097896713165,
          -0.7037919886528241,
          -0.8958537782812004,
          -0.2527538227593454,
          -0.5461343653360062,
          -0.7921965032357987,
          -0.3184240604982477,
          -0.46889267692689124,
          -0.867645205663387,
          -0.7099623366093439,
          -0.243437682414677,
          -0.5881438503198455,
          -0.19379359542915128,
          -0.911575417146165,
          -0.5257137852932461,
          -0.06718644626618661,
          -0.41647186558396004,
          -0.3286463889107556,
          -0.5237727959633862,
          -0.7533877463867644,
          -0.6963558196272208,
          -0.8933117571553673,
          -0.3788042378153339,
          -0.9230569327500577,
          -0.7685283989551845,
          -0.0191280700570388,
          0.15169594029946412,
          -0.10783510516957462,
          -0.8376248929707801,
          -0.058978701755612734,
          -0.165710874146488,
          0.02657845825865728,
          -0.23166210361232997,
          -0.27641125493574015,
          -0.3910739193709924,
          -0.8738606835830072,
          0.22341778449769195,
          0.019751814260855264,
          -0.28665995064507327,
          -0.7316814112568286,
          0.01988743477803306,
          -0.6586827013325867,
          -0.9060511302869276,
          -0.7146582737707465,
          -0.8590499235149167,
          -0.41238511988703414,
          -0.2601825858870797,
          -0.17220589994105356,
          0.02594117715778991,
          -0.010685598641491958,
          -0.48405381111839507,
          0.09121818620573867,
          -0.4267344795065768,
          -0.24309694840047497,
          -0.8156988252054354,
          -0.6924699278897304,
          -0.07652904852332672,
          -0.7809547164788455,
          -0.3013825784646829,
          -0.6237846752225198,
          -0.9159628764278966,
          0.0039127067024127705,
          -0.8317371460603769,
          0.31155315923371396,
          -0.4340618316871699,
          -0.3385715523742275,
          0.017849961422118144,
          -0.478267270118862,
          -0.7634312861770396,
          -0.07110848913779377,
          -0.44282420168651654,
          0.10335046160921561,
          -0.263271887101689,
          -0.6077861109346232,
          -0.15842440102169292,
          -0.3920460397523475,
          -0.8957698664187739,
          -0.6295160350931246,
          0.321370332248245,
          -0.5325604670392501,
          -0.7549374211084328,
          -0.031058880856180103,
          0.006846895866793849,
          0.3029942245249204,
          -0.7143274438183738,
          -0.7733635802580876,
          -0.2085736430824781,
          -0.8762103940981465,
          -0.015038492951928412,
          -0.22368425208352605,
          -0.9078266912743256,
          -0.9806865921394667,
          -0.7395218976681854,
          -0.011233750506785652,
          -0.21728677028510862,
          -0.24834779080209765,
          -0.18748837411909014,
          -0.2993834907007414,
          -0.6070318881660512,
          -0.0038105360587438004,
          -0.09995358921523045,
          -0.44057827051434495,
          -0.5932349468568743,
          -0.2557041388085295,
          -0.7960965966326854,
          -0.4310197420793567,
          -0.18341870503689015,
          -0.8515937110921334,
          -0.4146452754039565,
          -0.4434893265716287,
          -0.0030489317294008027,
          -0.033213415979998585,
          -0.9520887576285275,
          -0.07447607000078926,
          -0.026087346992590334,
          -0.22672234171355277,
          -0.7435179498669295,
          -0.425199809481939,
          0.0010104754190787442,
          -0.1351650641575523,
          -0.8535981071509655,
          -0.7627423367537853,
          -0.34050116456073964,
          -0.7485868605787489,
          -0.336348214717228,
          -0.2518364049996849,
          -0.3159370142433125,
          -0.43291920809529055,
          -0.0967293752105449,
          -0.23678293817107787,
          0.3208536962954544,
          -0.23199381259611285,
          -0.15983256962737166,
          -0.1385445420863942,
          0.11835443905248336,
          -0.8888719701895265,
          0.00874644579204513,
          -0.45746286701184785,
          -0.007163810363686046,
          -0.11066991657026115,
          0.019784288664732575,
          -0.1010675563189866,
          -0.3962333053149519,
          -0.8723727142983673,
          -0.09273464746423216,
          -0.4315569911134139,
          -0.4226434511508647,
          0.07571395348978693,
          -0.30226028319884324,
          -0.8090826729397071,
          -0.01180081621533725,
          -0.892709554043345,
          -0.9232503298228363,
          0.042713871230724815,
          -0.29758467076137485,
          -0.28452762332796483,
          -0.6589298599036164,
          -0.13050919642957717,
          -0.28641097540981947,
          0.28333806570689424,
          -0.26800672805955483,
          -0.7570632107869497,
          -0.4573583988498555,
          -0.3776192689409937,
          -0.8977434748428539,
          -0.0759780780190665,
          -0.7302082425334535,
          -0.29049308580594413,
          -0.21442352821915694,
          -0.0696627905584297,
          -0.9399544212814186,
          -0.03555948705368042,
          -0.09567886531776448,
          -0.4946353619980149,
          -0.8634818948762089,
          -0.7083199296602036,
          -0.23891177375779432,
          -0.44915236680563003,
          -0.3979193822845755,
          -0.07193378530952516,
          -0.08783639897500632,
          -0.21494107824870906,
          -0.9193263459761558,
          -0.8062773951527611,
          -0.309925135270447,
          -0.7328518857576405,
          -0.8828272028122837,
          -0.23918347746673513,
          -0.9176310167267274,
          0.0026580465957642945,
          -0.8217940351432382,
          -0.30634617675796344,
          -0.7606999275238824,
          -0.31326579303011076,
          -0.13225969721440034,
          -0.8023831880711099,
          -0.8723916831729694,
          -0.09364932670607645,
          -0.7615564098412717,
          -0.23129228779383365,
          -0.5553533328106852,
          -0.7349582990774004,
          -0.758676961627341,
          -0.08064926595552474,
          -0.5554907838091332,
          -0.03384703639990207,
          -0.849321285299439,
          -0.8778052977939999,
          -0.7217427517608499,
          -0.5310406250388229,
          -0.13265489915220835,
          -0.44122469321267244,
          0.058404278490279876,
          -0.7839368967838769,
          -0.47163816055332664,
          -0.35571773303685467,
          0.012003453191829256
         ],
         "y": [
          -0.03545281739143469,
          0.015470847342681806,
          -0.029611602023260297,
          -0.0194206143734086,
          0.07116436973276703,
          0.005194788799279287,
          -0.02324095722459507,
          0.001607103612857319,
          0.012645562971700528,
          0.025423608833998856,
          -0.01717049175203618,
          -0.003068760434124785,
          -0.01856606198867626,
          -0.02272373995084198,
          -0.017157992920995513,
          -0.023309083424176147,
          -0.043044677405782134,
          -0.04969610598926548,
          0.05463821248889464,
          -0.026482563447275842,
          0.013046905860586544,
          0.01951933598436062,
          0.033889476856044876,
          -0.010467609398554512,
          0.016549420284709515,
          0.057812336471225995,
          0.0047962726939433376,
          0.010397889249490477,
          0.006363792569735072,
          0.03136032619176604,
          -0.011179259051806915,
          -0.05817396169901756,
          -0.011015569501144018,
          0.013349240083190328,
          0.010420409645956696,
          -0.030537220189053305,
          0.00937979112860976,
          -0.021823356626260226,
          0.03919543940948245,
          -0.034983968684158734,
          0.010749418779921964,
          0.012843093125761151,
          0.04030626583761221,
          -0.011127808255669613,
          0.023978072721308807,
          -0.004081926078625564,
          -0.0045783851152658706,
          -0.015057867161204497,
          -0.011284671996279916,
          0.003672105403107806,
          -0.04167391690043687,
          -0.02756538058439839,
          -0.03415763849451142,
          -0.011626072086815209,
          0.006751380862152545,
          -0.004648586112309505,
          -0.026996328843934547,
          0.017572209315530996,
          0.017981726423985767,
          -0.0071024773324182,
          -0.011330496346268266,
          0.0215526519986462,
          0.030143130469436508,
          -0.015522922555732843,
          -0.02562421075952681,
          -0.0006639322125592262,
          0.01820657063678538,
          0.053673711718361716,
          0.00648639284199326,
          0.014031062543813477,
          0.03852816981062579,
          -0.003089946372446417,
          -0.0014510528262965117,
          0.006280427466813343,
          -0.005514711944042183,
          -0.009050506096928285,
          0.00506684960929904,
          0.04943174494777869,
          0.006366108470674536,
          0.005863855433022036,
          0.009673786729121336,
          0.011227998049280985,
          -0.0018395090885480747,
          0.006709712368772935,
          -0.007553609345712253,
          0.0195708195703875,
          0.14461628180579136,
          0.026698207633537516,
          -0.021278755763988633,
          0.021884382610273936,
          0.024818114493861593,
          0.0021366577538974203,
          -0.007781080835679133,
          -0.02701752261817686,
          0.0017006584939917024,
          0.012369340501819925,
          0.06561984262996473,
          0.004614085044329336,
          0.023698932258366945,
          0.015220159788141507,
          0.006640149077225141,
          -0.010342799356722887,
          0.013403588896995111,
          0.02168361710810074,
          0.0037524124234302736,
          0.004409589810586312,
          -0.0752389485762216,
          0.012918682679566362,
          0.007497232282617894,
          -0.008492364341470143,
          0.06323336813354508,
          0.02738539327126993,
          -0.051077479503374934,
          0.03933059776249467,
          0.010393559750658476,
          0.010802172218588035,
          -0.025496521431438282,
          0.012817596626290007,
          0.00940096085066594,
          -0.02014335386336563,
          0.00725402041665979,
          0.014565963978502931,
          -0.0014766768575874556,
          0.03505787223011353,
          0.0265643237700674,
          0.023539736365686403,
          0.007212237535309255,
          -0.07218701037677072,
          0.02656985035128112,
          -0.03437241432240733,
          0.008311900577452735,
          0.02190419878649448,
          0.041942483791470364,
          0.019321893284974356,
          -0.008849330435963781,
          0.002267463022207983,
          0.012839162096876078,
          0.04017363309500832,
          0.02097996695502441,
          -0.005630868146188295,
          0.015680562247652796,
          -0.020355964136286694,
          -0.01168863414916135,
          0.04299329288000969,
          0.007692088877031322,
          0.02095528441061234,
          -0.0173284080920246,
          -0.0023243537481054677,
          -0.045937270950279385,
          0.006096091700969336,
          0.015709144763169758,
          0.03447182731505949,
          -0.016232791156124082,
          0.013027552863930352,
          -0.010589768504948777,
          0.05195998058057885,
          0.021446130500039046,
          0.038459358907762586,
          0.02198153684828763,
          -0.0402153819020893,
          0.022900772194682353,
          -0.036194471968398034,
          0.00025524736995852226,
          0.0448710047835367,
          0.016948792538885926,
          -0.03941367651413347,
          0.04294156856543624,
          -0.016055071182081826,
          -0.011205064374178397,
          0.03566452134588832,
          -0.015287160414627897,
          -0.03441358741518811,
          0.02215877822590795,
          -0.009674690252288537,
          0.03197569576753513,
          -0.05235719696504443,
          0.014637874573323773,
          -0.00917223267872841,
          -0.03516895039187774,
          -0.007702262397767501,
          0.00466069317907658,
          -0.008143509623929845,
          0.033736459932299734,
          0.026508511767413312,
          -0.011014121411646427,
          -0.021355905054643576,
          0.028081182179751474,
          0.061940325540011776,
          0.011747210020844695,
          -0.03594689000309431,
          0.008817955129309496,
          -0.01829379096324346,
          -0.01093820037068824,
          -0.026167501206344423,
          0.0009765206351464439,
          -0.04671665301643091,
          -0.02608494715669343,
          -0.020660849027552552,
          -0.03824947395047706,
          0.021473798531847846,
          -0.014903996571479276,
          0.0002891730562939038,
          -0.04333489876889712,
          0.0039029137027020155,
          0.021085883244590653,
          -0.042098022500564714,
          -0.0447761840127236,
          0.011920386751579165,
          -0.08711297767815745,
          -0.007513873940245275,
          0.0021162194999263494,
          0.014616475203335089,
          -0.004757095040090142,
          0.012392603202032684,
          0.029037714877537146,
          0.03586643684518073,
          -0.023470588216441435,
          0.01777954559900008,
          0.039079989253347575,
          0.044774641996348785,
          0.021320029192325424,
          0.000757793497088155,
          -0.011100452840941466,
          -0.02183455875292173,
          -0.012602184860127319,
          -0.004031356404366193,
          -0.012607974558763724,
          0.017202063263908718,
          0.02549219767146166,
          0.008811666038290394,
          0.013765645162891804,
          -0.010867086893329679,
          0.020153752886081483,
          -0.003441596797489732,
          0.006765817942306018,
          0.005285558698126636,
          -0.003503647659427289,
          0.04997913629564621,
          0.022783554333323797,
          -0.0014088693417394493,
          -0.011913154375650173,
          -0.08984390581302065,
          0.015132932158616663,
          -0.004114933122318143,
          0.006730175488616819,
          -0.009533009299937611,
          -0.026858550035127493,
          0.004967614787424829,
          0.00876104924961063,
          -0.011880082143880295,
          -0.014760947800404711,
          0.030223255482250744,
          0.0149323259799361,
          -0.01092685898618806,
          -0.031137686031214862,
          0.0046643539105192255,
          -0.05047155248620672,
          -0.0007534191578295463,
          0.007849073513001015,
          0.01312739276422445,
          -0.01837973090040257,
          0.0012353653507510831,
          0.006595963088503631,
          0.004661750930824243,
          -0.00899311802166225,
          -0.03712096844668583,
          -0.018275563898914493,
          -0.007879366004213129,
          -0.01438083795197631,
          -0.012762574538108362,
          0.012131005436858744,
          -0.009671105805886149,
          -0.0062908935442183775,
          0.001286900485657605,
          -0.018332798327956867,
          -0.010272799185828518,
          0.005690591964309143
         ]
        },
        {
         "mode": "lines",
         "name": "Zero Line",
         "type": "scatter",
         "x": [
          -0.8827754110688537,
          0.028188467150175794,
          -0.6899933844956916,
          -0.059029876328503095,
          -0.023748272033058335,
          -0.058485567493871286,
          -0.8071877463715369,
          -0.8448443273207189,
          0.018568842227599372,
          -0.5684161767046525,
          -0.08195031458856743,
          0.017769874677844685,
          -0.03098347377825384,
          -0.8503342487882968,
          -0.774902276723396,
          -0.767483305584937,
          -0.15049046085171436,
          -0.011316129996753719,
          -0.20187029603077375,
          -0.8091059092753652,
          -0.8339822035455979,
          -0.8784645708233882,
          -0.4277833732343293,
          -0.6953259539909933,
          -0.7180769391754049,
          -0.2635532540118996,
          -0.7903976534438917,
          -0.43583252655931426,
          -0.7706868839012833,
          -0.3269273082187205,
          0.013814773673607615,
          -0.34834664938191046,
          -0.5377759804083828,
          -0.15039689065643103,
          -0.5449744473425957,
          -0.4060172004648937,
          -0.7420842815583952,
          -0.7639963016165854,
          -0.30300863596315586,
          -0.03825481981538206,
          -0.03160573191531806,
          -0.27366335876701603,
          -0.3995417717027313,
          -0.883878803016181,
          -0.8691378906124325,
          -0.503348140036034,
          -0.8817973850276037,
          -0.7748927302961139,
          -0.2951526560363836,
          -0.2289869560282472,
          -0.4228358802721121,
          -0.6398597092098395,
          -0.42380494391105955,
          -0.820491368276923,
          -0.8920775082190717,
          -0.306122339061396,
          -0.8439936134559594,
          -0.4530406340304242,
          -0.8808033094750549,
          -0.5812941876750408,
          0.036855097896713165,
          -0.7037919886528241,
          -0.8958537782812004,
          -0.2527538227593454,
          -0.5461343653360062,
          -0.7921965032357987,
          -0.3184240604982477,
          -0.46889267692689124,
          -0.867645205663387,
          -0.7099623366093439,
          -0.243437682414677,
          -0.5881438503198455,
          -0.19379359542915128,
          -0.911575417146165,
          -0.5257137852932461,
          -0.06718644626618661,
          -0.41647186558396004,
          -0.3286463889107556,
          -0.5237727959633862,
          -0.7533877463867644,
          -0.6963558196272208,
          -0.8933117571553673,
          -0.3788042378153339,
          -0.9230569327500577,
          -0.7685283989551845,
          -0.0191280700570388,
          0.15169594029946412,
          -0.10783510516957462,
          -0.8376248929707801,
          -0.058978701755612734,
          -0.165710874146488,
          0.02657845825865728,
          -0.23166210361232997,
          -0.27641125493574015,
          -0.3910739193709924,
          -0.8738606835830072,
          0.22341778449769195,
          0.019751814260855264,
          -0.28665995064507327,
          -0.7316814112568286,
          0.01988743477803306,
          -0.6586827013325867,
          -0.9060511302869276,
          -0.7146582737707465,
          -0.8590499235149167,
          -0.41238511988703414,
          -0.2601825858870797,
          -0.17220589994105356,
          0.02594117715778991,
          -0.010685598641491958,
          -0.48405381111839507,
          0.09121818620573867,
          -0.4267344795065768,
          -0.24309694840047497,
          -0.8156988252054354,
          -0.6924699278897304,
          -0.07652904852332672,
          -0.7809547164788455,
          -0.3013825784646829,
          -0.6237846752225198,
          -0.9159628764278966,
          0.0039127067024127705,
          -0.8317371460603769,
          0.31155315923371396,
          -0.4340618316871699,
          -0.3385715523742275,
          0.017849961422118144,
          -0.478267270118862,
          -0.7634312861770396,
          -0.07110848913779377,
          -0.44282420168651654,
          0.10335046160921561,
          -0.263271887101689,
          -0.6077861109346232,
          -0.15842440102169292,
          -0.3920460397523475,
          -0.8957698664187739,
          -0.6295160350931246,
          0.321370332248245,
          -0.5325604670392501,
          -0.7549374211084328,
          -0.031058880856180103,
          0.006846895866793849,
          0.3029942245249204,
          -0.7143274438183738,
          -0.7733635802580876,
          -0.2085736430824781,
          -0.8762103940981465,
          -0.015038492951928412,
          -0.22368425208352605,
          -0.9078266912743256,
          -0.9806865921394667,
          -0.7395218976681854,
          -0.011233750506785652,
          -0.21728677028510862,
          -0.24834779080209765,
          -0.18748837411909014,
          -0.2993834907007414,
          -0.6070318881660512,
          -0.0038105360587438004,
          -0.09995358921523045,
          -0.44057827051434495,
          -0.5932349468568743,
          -0.2557041388085295,
          -0.7960965966326854,
          -0.4310197420793567,
          -0.18341870503689015,
          -0.8515937110921334,
          -0.4146452754039565,
          -0.4434893265716287,
          -0.0030489317294008027,
          -0.033213415979998585,
          -0.9520887576285275,
          -0.07447607000078926,
          -0.026087346992590334,
          -0.22672234171355277,
          -0.7435179498669295,
          -0.425199809481939,
          0.0010104754190787442,
          -0.1351650641575523,
          -0.8535981071509655,
          -0.7627423367537853,
          -0.34050116456073964,
          -0.7485868605787489,
          -0.336348214717228,
          -0.2518364049996849,
          -0.3159370142433125,
          -0.43291920809529055,
          -0.0967293752105449,
          -0.23678293817107787,
          0.3208536962954544,
          -0.23199381259611285,
          -0.15983256962737166,
          -0.1385445420863942,
          0.11835443905248336,
          -0.8888719701895265,
          0.00874644579204513,
          -0.45746286701184785,
          -0.007163810363686046,
          -0.11066991657026115,
          0.019784288664732575,
          -0.1010675563189866,
          -0.3962333053149519,
          -0.8723727142983673,
          -0.09273464746423216,
          -0.4315569911134139,
          -0.4226434511508647,
          0.07571395348978693,
          -0.30226028319884324,
          -0.8090826729397071,
          -0.01180081621533725,
          -0.892709554043345,
          -0.9232503298228363,
          0.042713871230724815,
          -0.29758467076137485,
          -0.28452762332796483,
          -0.6589298599036164,
          -0.13050919642957717,
          -0.28641097540981947,
          0.28333806570689424,
          -0.26800672805955483,
          -0.7570632107869497,
          -0.4573583988498555,
          -0.3776192689409937,
          -0.8977434748428539,
          -0.0759780780190665,
          -0.7302082425334535,
          -0.29049308580594413,
          -0.21442352821915694,
          -0.0696627905584297,
          -0.9399544212814186,
          -0.03555948705368042,
          -0.09567886531776448,
          -0.4946353619980149,
          -0.8634818948762089,
          -0.7083199296602036,
          -0.23891177375779432,
          -0.44915236680563003,
          -0.3979193822845755,
          -0.07193378530952516,
          -0.08783639897500632,
          -0.21494107824870906,
          -0.9193263459761558,
          -0.8062773951527611,
          -0.309925135270447,
          -0.7328518857576405,
          -0.8828272028122837,
          -0.23918347746673513,
          -0.9176310167267274,
          0.0026580465957642945,
          -0.8217940351432382,
          -0.30634617675796344,
          -0.7606999275238824,
          -0.31326579303011076,
          -0.13225969721440034,
          -0.8023831880711099,
          -0.8723916831729694,
          -0.09364932670607645,
          -0.7615564098412717,
          -0.23129228779383365,
          -0.5553533328106852,
          -0.7349582990774004,
          -0.758676961627341,
          -0.08064926595552474,
          -0.5554907838091332,
          -0.03384703639990207,
          -0.849321285299439,
          -0.8778052977939999,
          -0.7217427517608499,
          -0.5310406250388229,
          -0.13265489915220835,
          -0.44122469321267244,
          0.058404278490279876,
          -0.7839368967838769,
          -0.47163816055332664,
          -0.35571773303685467,
          0.012003453191829256
         ],
         "y": [
          0,
          0,
          0,
          0,
          0,
          0,
          0,
          0,
          0,
          0,
          0,
          0,
          0,
          0,
          0,
          0,
          0,
          0,
          0,
          0,
          0,
          0,
          0,
          0,
          0,
          0,
          0,
          0,
          0,
          0,
          0,
          0,
          0,
          0,
          0,
          0,
          0,
          0,
          0,
          0,
          0,
          0,
          0,
          0,
          0,
          0,
          0,
          0,
          0,
          0,
          0,
          0,
          0,
          0,
          0,
          0,
          0,
          0,
          0,
          0,
          0,
          0,
          0,
          0,
          0,
          0,
          0,
          0,
          0,
          0,
          0,
          0,
          0,
          0,
          0,
          0,
          0,
          0,
          0,
          0,
          0,
          0,
          0,
          0,
          0,
          0,
          0,
          0,
          0,
          0,
          0,
          0,
          0,
          0,
          0,
          0,
          0,
          0,
          0,
          0,
          0,
          0,
          0,
          0,
          0,
          0,
          0,
          0,
          0,
          0,
          0,
          0,
          0,
          0,
          0,
          0,
          0,
          0,
          0,
          0,
          0,
          0,
          0,
          0,
          0,
          0,
          0,
          0,
          0,
          0,
          0,
          0,
          0,
          0,
          0,
          0,
          0,
          0,
          0,
          0,
          0,
          0,
          0,
          0,
          0,
          0,
          0,
          0,
          0,
          0,
          0,
          0,
          0,
          0,
          0,
          0,
          0,
          0,
          0,
          0,
          0,
          0,
          0,
          0,
          0,
          0,
          0,
          0,
          0,
          0,
          0,
          0,
          0,
          0,
          0,
          0,
          0,
          0,
          0,
          0,
          0,
          0,
          0,
          0,
          0,
          0,
          0,
          0,
          0,
          0,
          0,
          0,
          0,
          0,
          0,
          0,
          0,
          0,
          0,
          0,
          0,
          0,
          0,
          0,
          0,
          0,
          0,
          0,
          0,
          0,
          0,
          0,
          0,
          0,
          0,
          0,
          0,
          0,
          0,
          0,
          0,
          0,
          0,
          0,
          0,
          0,
          0,
          0,
          0,
          0,
          0,
          0,
          0,
          0,
          0,
          0,
          0,
          0,
          0,
          0,
          0,
          0,
          0,
          0,
          0,
          0,
          0,
          0,
          0,
          0,
          0,
          0,
          0,
          0,
          0,
          0,
          0,
          0,
          0,
          0,
          0,
          0,
          0,
          0,
          0,
          0,
          0,
          0,
          0,
          0,
          0,
          0,
          0,
          0,
          0,
          0,
          0
         ]
        }
       ],
       "layout": {
        "template": {
         "data": {
          "bar": [
           {
            "error_x": {
             "color": "#f2f5fa"
            },
            "error_y": {
             "color": "#f2f5fa"
            },
            "marker": {
             "line": {
              "color": "rgb(17,17,17)",
              "width": 0.5
             },
             "pattern": {
              "fillmode": "overlay",
              "size": 10,
              "solidity": 0.2
             }
            },
            "type": "bar"
           }
          ],
          "barpolar": [
           {
            "marker": {
             "line": {
              "color": "rgb(17,17,17)",
              "width": 0.5
             },
             "pattern": {
              "fillmode": "overlay",
              "size": 10,
              "solidity": 0.2
             }
            },
            "type": "barpolar"
           }
          ],
          "carpet": [
           {
            "aaxis": {
             "endlinecolor": "#A2B1C6",
             "gridcolor": "#506784",
             "linecolor": "#506784",
             "minorgridcolor": "#506784",
             "startlinecolor": "#A2B1C6"
            },
            "baxis": {
             "endlinecolor": "#A2B1C6",
             "gridcolor": "#506784",
             "linecolor": "#506784",
             "minorgridcolor": "#506784",
             "startlinecolor": "#A2B1C6"
            },
            "type": "carpet"
           }
          ],
          "choropleth": [
           {
            "colorbar": {
             "outlinewidth": 0,
             "ticks": ""
            },
            "type": "choropleth"
           }
          ],
          "contour": [
           {
            "colorbar": {
             "outlinewidth": 0,
             "ticks": ""
            },
            "colorscale": [
             [
              0,
              "#0d0887"
             ],
             [
              0.1111111111111111,
              "#46039f"
             ],
             [
              0.2222222222222222,
              "#7201a8"
             ],
             [
              0.3333333333333333,
              "#9c179e"
             ],
             [
              0.4444444444444444,
              "#bd3786"
             ],
             [
              0.5555555555555556,
              "#d8576b"
             ],
             [
              0.6666666666666666,
              "#ed7953"
             ],
             [
              0.7777777777777778,
              "#fb9f3a"
             ],
             [
              0.8888888888888888,
              "#fdca26"
             ],
             [
              1,
              "#f0f921"
             ]
            ],
            "type": "contour"
           }
          ],
          "contourcarpet": [
           {
            "colorbar": {
             "outlinewidth": 0,
             "ticks": ""
            },
            "type": "contourcarpet"
           }
          ],
          "heatmap": [
           {
            "colorbar": {
             "outlinewidth": 0,
             "ticks": ""
            },
            "colorscale": [
             [
              0,
              "#0d0887"
             ],
             [
              0.1111111111111111,
              "#46039f"
             ],
             [
              0.2222222222222222,
              "#7201a8"
             ],
             [
              0.3333333333333333,
              "#9c179e"
             ],
             [
              0.4444444444444444,
              "#bd3786"
             ],
             [
              0.5555555555555556,
              "#d8576b"
             ],
             [
              0.6666666666666666,
              "#ed7953"
             ],
             [
              0.7777777777777778,
              "#fb9f3a"
             ],
             [
              0.8888888888888888,
              "#fdca26"
             ],
             [
              1,
              "#f0f921"
             ]
            ],
            "type": "heatmap"
           }
          ],
          "heatmapgl": [
           {
            "colorbar": {
             "outlinewidth": 0,
             "ticks": ""
            },
            "colorscale": [
             [
              0,
              "#0d0887"
             ],
             [
              0.1111111111111111,
              "#46039f"
             ],
             [
              0.2222222222222222,
              "#7201a8"
             ],
             [
              0.3333333333333333,
              "#9c179e"
             ],
             [
              0.4444444444444444,
              "#bd3786"
             ],
             [
              0.5555555555555556,
              "#d8576b"
             ],
             [
              0.6666666666666666,
              "#ed7953"
             ],
             [
              0.7777777777777778,
              "#fb9f3a"
             ],
             [
              0.8888888888888888,
              "#fdca26"
             ],
             [
              1,
              "#f0f921"
             ]
            ],
            "type": "heatmapgl"
           }
          ],
          "histogram": [
           {
            "marker": {
             "pattern": {
              "fillmode": "overlay",
              "size": 10,
              "solidity": 0.2
             }
            },
            "type": "histogram"
           }
          ],
          "histogram2d": [
           {
            "colorbar": {
             "outlinewidth": 0,
             "ticks": ""
            },
            "colorscale": [
             [
              0,
              "#0d0887"
             ],
             [
              0.1111111111111111,
              "#46039f"
             ],
             [
              0.2222222222222222,
              "#7201a8"
             ],
             [
              0.3333333333333333,
              "#9c179e"
             ],
             [
              0.4444444444444444,
              "#bd3786"
             ],
             [
              0.5555555555555556,
              "#d8576b"
             ],
             [
              0.6666666666666666,
              "#ed7953"
             ],
             [
              0.7777777777777778,
              "#fb9f3a"
             ],
             [
              0.8888888888888888,
              "#fdca26"
             ],
             [
              1,
              "#f0f921"
             ]
            ],
            "type": "histogram2d"
           }
          ],
          "histogram2dcontour": [
           {
            "colorbar": {
             "outlinewidth": 0,
             "ticks": ""
            },
            "colorscale": [
             [
              0,
              "#0d0887"
             ],
             [
              0.1111111111111111,
              "#46039f"
             ],
             [
              0.2222222222222222,
              "#7201a8"
             ],
             [
              0.3333333333333333,
              "#9c179e"
             ],
             [
              0.4444444444444444,
              "#bd3786"
             ],
             [
              0.5555555555555556,
              "#d8576b"
             ],
             [
              0.6666666666666666,
              "#ed7953"
             ],
             [
              0.7777777777777778,
              "#fb9f3a"
             ],
             [
              0.8888888888888888,
              "#fdca26"
             ],
             [
              1,
              "#f0f921"
             ]
            ],
            "type": "histogram2dcontour"
           }
          ],
          "mesh3d": [
           {
            "colorbar": {
             "outlinewidth": 0,
             "ticks": ""
            },
            "type": "mesh3d"
           }
          ],
          "parcoords": [
           {
            "line": {
             "colorbar": {
              "outlinewidth": 0,
              "ticks": ""
             }
            },
            "type": "parcoords"
           }
          ],
          "pie": [
           {
            "automargin": true,
            "type": "pie"
           }
          ],
          "scatter": [
           {
            "marker": {
             "line": {
              "color": "#283442"
             }
            },
            "type": "scatter"
           }
          ],
          "scatter3d": [
           {
            "line": {
             "colorbar": {
              "outlinewidth": 0,
              "ticks": ""
             }
            },
            "marker": {
             "colorbar": {
              "outlinewidth": 0,
              "ticks": ""
             }
            },
            "type": "scatter3d"
           }
          ],
          "scattercarpet": [
           {
            "marker": {
             "colorbar": {
              "outlinewidth": 0,
              "ticks": ""
             }
            },
            "type": "scattercarpet"
           }
          ],
          "scattergeo": [
           {
            "marker": {
             "colorbar": {
              "outlinewidth": 0,
              "ticks": ""
             }
            },
            "type": "scattergeo"
           }
          ],
          "scattergl": [
           {
            "marker": {
             "line": {
              "color": "#283442"
             }
            },
            "type": "scattergl"
           }
          ],
          "scattermapbox": [
           {
            "marker": {
             "colorbar": {
              "outlinewidth": 0,
              "ticks": ""
             }
            },
            "type": "scattermapbox"
           }
          ],
          "scatterpolar": [
           {
            "marker": {
             "colorbar": {
              "outlinewidth": 0,
              "ticks": ""
             }
            },
            "type": "scatterpolar"
           }
          ],
          "scatterpolargl": [
           {
            "marker": {
             "colorbar": {
              "outlinewidth": 0,
              "ticks": ""
             }
            },
            "type": "scatterpolargl"
           }
          ],
          "scatterternary": [
           {
            "marker": {
             "colorbar": {
              "outlinewidth": 0,
              "ticks": ""
             }
            },
            "type": "scatterternary"
           }
          ],
          "surface": [
           {
            "colorbar": {
             "outlinewidth": 0,
             "ticks": ""
            },
            "colorscale": [
             [
              0,
              "#0d0887"
             ],
             [
              0.1111111111111111,
              "#46039f"
             ],
             [
              0.2222222222222222,
              "#7201a8"
             ],
             [
              0.3333333333333333,
              "#9c179e"
             ],
             [
              0.4444444444444444,
              "#bd3786"
             ],
             [
              0.5555555555555556,
              "#d8576b"
             ],
             [
              0.6666666666666666,
              "#ed7953"
             ],
             [
              0.7777777777777778,
              "#fb9f3a"
             ],
             [
              0.8888888888888888,
              "#fdca26"
             ],
             [
              1,
              "#f0f921"
             ]
            ],
            "type": "surface"
           }
          ],
          "table": [
           {
            "cells": {
             "fill": {
              "color": "#506784"
             },
             "line": {
              "color": "rgb(17,17,17)"
             }
            },
            "header": {
             "fill": {
              "color": "#2a3f5f"
             },
             "line": {
              "color": "rgb(17,17,17)"
             }
            },
            "type": "table"
           }
          ]
         },
         "layout": {
          "annotationdefaults": {
           "arrowcolor": "#f2f5fa",
           "arrowhead": 0,
           "arrowwidth": 1
          },
          "autotypenumbers": "strict",
          "coloraxis": {
           "colorbar": {
            "outlinewidth": 0,
            "ticks": ""
           }
          },
          "colorscale": {
           "diverging": [
            [
             0,
             "#8e0152"
            ],
            [
             0.1,
             "#c51b7d"
            ],
            [
             0.2,
             "#de77ae"
            ],
            [
             0.3,
             "#f1b6da"
            ],
            [
             0.4,
             "#fde0ef"
            ],
            [
             0.5,
             "#f7f7f7"
            ],
            [
             0.6,
             "#e6f5d0"
            ],
            [
             0.7,
             "#b8e186"
            ],
            [
             0.8,
             "#7fbc41"
            ],
            [
             0.9,
             "#4d9221"
            ],
            [
             1,
             "#276419"
            ]
           ],
           "sequential": [
            [
             0,
             "#0d0887"
            ],
            [
             0.1111111111111111,
             "#46039f"
            ],
            [
             0.2222222222222222,
             "#7201a8"
            ],
            [
             0.3333333333333333,
             "#9c179e"
            ],
            [
             0.4444444444444444,
             "#bd3786"
            ],
            [
             0.5555555555555556,
             "#d8576b"
            ],
            [
             0.6666666666666666,
             "#ed7953"
            ],
            [
             0.7777777777777778,
             "#fb9f3a"
            ],
            [
             0.8888888888888888,
             "#fdca26"
            ],
            [
             1,
             "#f0f921"
            ]
           ],
           "sequentialminus": [
            [
             0,
             "#0d0887"
            ],
            [
             0.1111111111111111,
             "#46039f"
            ],
            [
             0.2222222222222222,
             "#7201a8"
            ],
            [
             0.3333333333333333,
             "#9c179e"
            ],
            [
             0.4444444444444444,
             "#bd3786"
            ],
            [
             0.5555555555555556,
             "#d8576b"
            ],
            [
             0.6666666666666666,
             "#ed7953"
            ],
            [
             0.7777777777777778,
             "#fb9f3a"
            ],
            [
             0.8888888888888888,
             "#fdca26"
            ],
            [
             1,
             "#f0f921"
            ]
           ]
          },
          "colorway": [
           "#636efa",
           "#EF553B",
           "#00cc96",
           "#ab63fa",
           "#FFA15A",
           "#19d3f3",
           "#FF6692",
           "#B6E880",
           "#FF97FF",
           "#FECB52"
          ],
          "font": {
           "color": "#f2f5fa"
          },
          "geo": {
           "bgcolor": "rgb(17,17,17)",
           "lakecolor": "rgb(17,17,17)",
           "landcolor": "rgb(17,17,17)",
           "showlakes": true,
           "showland": true,
           "subunitcolor": "#506784"
          },
          "hoverlabel": {
           "align": "left"
          },
          "hovermode": "closest",
          "mapbox": {
           "style": "dark"
          },
          "paper_bgcolor": "rgb(17,17,17)",
          "plot_bgcolor": "rgb(17,17,17)",
          "polar": {
           "angularaxis": {
            "gridcolor": "#506784",
            "linecolor": "#506784",
            "ticks": ""
           },
           "bgcolor": "rgb(17,17,17)",
           "radialaxis": {
            "gridcolor": "#506784",
            "linecolor": "#506784",
            "ticks": ""
           }
          },
          "scene": {
           "xaxis": {
            "backgroundcolor": "rgb(17,17,17)",
            "gridcolor": "#506784",
            "gridwidth": 2,
            "linecolor": "#506784",
            "showbackground": true,
            "ticks": "",
            "zerolinecolor": "#C8D4E3"
           },
           "yaxis": {
            "backgroundcolor": "rgb(17,17,17)",
            "gridcolor": "#506784",
            "gridwidth": 2,
            "linecolor": "#506784",
            "showbackground": true,
            "ticks": "",
            "zerolinecolor": "#C8D4E3"
           },
           "zaxis": {
            "backgroundcolor": "rgb(17,17,17)",
            "gridcolor": "#506784",
            "gridwidth": 2,
            "linecolor": "#506784",
            "showbackground": true,
            "ticks": "",
            "zerolinecolor": "#C8D4E3"
           }
          },
          "shapedefaults": {
           "line": {
            "color": "#f2f5fa"
           }
          },
          "sliderdefaults": {
           "bgcolor": "#C8D4E3",
           "bordercolor": "rgb(17,17,17)",
           "borderwidth": 1,
           "tickwidth": 0
          },
          "ternary": {
           "aaxis": {
            "gridcolor": "#506784",
            "linecolor": "#506784",
            "ticks": ""
           },
           "baxis": {
            "gridcolor": "#506784",
            "linecolor": "#506784",
            "ticks": ""
           },
           "bgcolor": "rgb(17,17,17)",
           "caxis": {
            "gridcolor": "#506784",
            "linecolor": "#506784",
            "ticks": ""
           }
          },
          "title": {
           "x": 0.05
          },
          "updatemenudefaults": {
           "bgcolor": "#506784",
           "borderwidth": 0
          },
          "xaxis": {
           "automargin": true,
           "gridcolor": "#283442",
           "linecolor": "#506784",
           "ticks": "",
           "title": {
            "standoff": 15
           },
           "zerolinecolor": "#283442",
           "zerolinewidth": 2
          },
          "yaxis": {
           "automargin": true,
           "gridcolor": "#283442",
           "linecolor": "#506784",
           "ticks": "",
           "title": {
            "standoff": 15
           },
           "zerolinecolor": "#283442",
           "zerolinewidth": 2
          }
         }
        },
        "title": {
         "text": "Residuals vs Predicted Closing Prices"
        },
        "xaxis": {
         "title": {
          "text": "Predicted Closing Prices"
         }
        },
        "yaxis": {
         "title": {
          "text": "Residuals"
         }
        }
       }
      }
     },
     "metadata": {},
     "output_type": "display_data"
    }
   ],
   "source": [
    "# Calculate the residuals first.\n",
    "residuals = y_test - y_pred\n",
    "\n",
    "# Create the residuals plot\n",
    "fig = go.Figure()\n",
    "\n",
    "fig.add_trace(go.Scatter(x = y_pred, y = residuals,\n",
    "                mode = 'markers',\n",
    "                name = 'Residuals'))\n",
    "\n",
    "fig.add_trace(go.Scatter(x = y_pred, y = np.zeros_like(y_pred),\n",
    "                mode = 'lines',\n",
    "                name = 'Zero Line'))\n",
    "\n",
    "fig.update_layout(title = 'Residuals vs Predicted Closing Prices',\n",
    "                xaxis_title = 'Predicted Closing Prices',\n",
    "                yaxis_title = 'Residuals',\n",
    "                template = 'plotly_dark')\n",
    "\n",
    "fig.show()\n",
    "\n",
    "\n"
   ]
  },
  {
   "cell_type": "markdown",
   "metadata": {},
   "source": [
    "#### In the plot above, contrary to many other plots we create, we are wanting to see randomness.  We are looking for the data to be scattered around the zero line and randomly distributed, and that the spread is fairly symmetrical around the zero.  If there was clustering it could indicate bias in the predictions.  "
   ]
  },
  {
   "cell_type": "markdown",
   "metadata": {},
   "source": [
    "#### Since we have our residuals variable established let's make a distribution plot for it to get another look."
   ]
  },
  {
   "cell_type": "code",
   "execution_count": 12,
   "metadata": {},
   "outputs": [
    {
     "data": {
      "application/vnd.plotly.v1+json": {
       "config": {
        "plotlyServerURL": "https://plot.ly"
       },
       "data": [
        {
         "alignmentgroup": "True",
         "bingroup": "x",
         "histnorm": "probability density",
         "hovertemplate": "variable=Close<br>value=%{x}<br>probability density=%{y}<extra></extra>",
         "legendgroup": "Close",
         "marker": {
          "color": "#636efa",
          "pattern": {
           "shape": ""
          }
         },
         "name": "Close",
         "nbinsx": 30,
         "offsetgroup": "Close",
         "orientation": "v",
         "showlegend": true,
         "type": "histogram",
         "x": [
          -0.03545281739143469,
          0.015470847342681806,
          -0.029611602023260297,
          -0.0194206143734086,
          0.07116436973276703,
          0.005194788799279287,
          -0.02324095722459507,
          0.001607103612857319,
          0.012645562971700528,
          0.025423608833998856,
          -0.01717049175203618,
          -0.003068760434124785,
          -0.01856606198867626,
          -0.02272373995084198,
          -0.017157992920995513,
          -0.023309083424176147,
          -0.043044677405782134,
          -0.04969610598926548,
          0.05463821248889464,
          -0.026482563447275842,
          0.013046905860586544,
          0.01951933598436062,
          0.033889476856044876,
          -0.010467609398554512,
          0.016549420284709515,
          0.057812336471225995,
          0.0047962726939433376,
          0.010397889249490477,
          0.006363792569735072,
          0.03136032619176604,
          -0.011179259051806915,
          -0.05817396169901756,
          -0.011015569501144018,
          0.013349240083190328,
          0.010420409645956696,
          -0.030537220189053305,
          0.00937979112860976,
          -0.021823356626260226,
          0.03919543940948245,
          -0.034983968684158734,
          0.010749418779921964,
          0.012843093125761151,
          0.04030626583761221,
          -0.011127808255669613,
          0.023978072721308807,
          -0.004081926078625564,
          -0.0045783851152658706,
          -0.015057867161204497,
          -0.011284671996279916,
          0.003672105403107806,
          -0.04167391690043687,
          -0.02756538058439839,
          -0.03415763849451142,
          -0.011626072086815209,
          0.006751380862152545,
          -0.004648586112309505,
          -0.026996328843934547,
          0.017572209315530996,
          0.017981726423985767,
          -0.0071024773324182,
          -0.011330496346268266,
          0.0215526519986462,
          0.030143130469436508,
          -0.015522922555732843,
          -0.02562421075952681,
          -0.0006639322125592262,
          0.01820657063678538,
          0.053673711718361716,
          0.00648639284199326,
          0.014031062543813477,
          0.03852816981062579,
          -0.003089946372446417,
          -0.0014510528262965117,
          0.006280427466813343,
          -0.005514711944042183,
          -0.009050506096928285,
          0.00506684960929904,
          0.04943174494777869,
          0.006366108470674536,
          0.005863855433022036,
          0.009673786729121336,
          0.011227998049280985,
          -0.0018395090885480747,
          0.006709712368772935,
          -0.007553609345712253,
          0.0195708195703875,
          0.14461628180579136,
          0.026698207633537516,
          -0.021278755763988633,
          0.021884382610273936,
          0.024818114493861593,
          0.0021366577538974203,
          -0.007781080835679133,
          -0.02701752261817686,
          0.0017006584939917024,
          0.012369340501819925,
          0.06561984262996473,
          0.004614085044329336,
          0.023698932258366945,
          0.015220159788141507,
          0.006640149077225141,
          -0.010342799356722887,
          0.013403588896995111,
          0.02168361710810074,
          0.0037524124234302736,
          0.004409589810586312,
          -0.0752389485762216,
          0.012918682679566362,
          0.007497232282617894,
          -0.008492364341470143,
          0.06323336813354508,
          0.02738539327126993,
          -0.051077479503374934,
          0.03933059776249467,
          0.010393559750658476,
          0.010802172218588035,
          -0.025496521431438282,
          0.012817596626290007,
          0.00940096085066594,
          -0.02014335386336563,
          0.00725402041665979,
          0.014565963978502931,
          -0.0014766768575874556,
          0.03505787223011353,
          0.0265643237700674,
          0.023539736365686403,
          0.007212237535309255,
          -0.07218701037677072,
          0.02656985035128112,
          -0.03437241432240733,
          0.008311900577452735,
          0.02190419878649448,
          0.041942483791470364,
          0.019321893284974356,
          -0.008849330435963781,
          0.002267463022207983,
          0.012839162096876078,
          0.04017363309500832,
          0.02097996695502441,
          -0.005630868146188295,
          0.015680562247652796,
          -0.020355964136286694,
          -0.01168863414916135,
          0.04299329288000969,
          0.007692088877031322,
          0.02095528441061234,
          -0.0173284080920246,
          -0.0023243537481054677,
          -0.045937270950279385,
          0.006096091700969336,
          0.015709144763169758,
          0.03447182731505949,
          -0.016232791156124082,
          0.013027552863930352,
          -0.010589768504948777,
          0.05195998058057885,
          0.021446130500039046,
          0.038459358907762586,
          0.02198153684828763,
          -0.0402153819020893,
          0.022900772194682353,
          -0.036194471968398034,
          0.00025524736995852226,
          0.0448710047835367,
          0.016948792538885926,
          -0.03941367651413347,
          0.04294156856543624,
          -0.016055071182081826,
          -0.011205064374178397,
          0.03566452134588832,
          -0.015287160414627897,
          -0.03441358741518811,
          0.02215877822590795,
          -0.009674690252288537,
          0.03197569576753513,
          -0.05235719696504443,
          0.014637874573323773,
          -0.00917223267872841,
          -0.03516895039187774,
          -0.007702262397767501,
          0.00466069317907658,
          -0.008143509623929845,
          0.033736459932299734,
          0.026508511767413312,
          -0.011014121411646427,
          -0.021355905054643576,
          0.028081182179751474,
          0.061940325540011776,
          0.011747210020844695,
          -0.03594689000309431,
          0.008817955129309496,
          -0.01829379096324346,
          -0.01093820037068824,
          -0.026167501206344423,
          0.0009765206351464439,
          -0.04671665301643091,
          -0.02608494715669343,
          -0.020660849027552552,
          -0.03824947395047706,
          0.021473798531847846,
          -0.014903996571479276,
          0.0002891730562939038,
          -0.04333489876889712,
          0.0039029137027020155,
          0.021085883244590653,
          -0.042098022500564714,
          -0.0447761840127236,
          0.011920386751579165,
          -0.08711297767815745,
          -0.007513873940245275,
          0.0021162194999263494,
          0.014616475203335089,
          -0.004757095040090142,
          0.012392603202032684,
          0.029037714877537146,
          0.03586643684518073,
          -0.023470588216441435,
          0.01777954559900008,
          0.039079989253347575,
          0.044774641996348785,
          0.021320029192325424,
          0.000757793497088155,
          -0.011100452840941466,
          -0.02183455875292173,
          -0.012602184860127319,
          -0.004031356404366193,
          -0.012607974558763724,
          0.017202063263908718,
          0.02549219767146166,
          0.008811666038290394,
          0.013765645162891804,
          -0.010867086893329679,
          0.020153752886081483,
          -0.003441596797489732,
          0.006765817942306018,
          0.005285558698126636,
          -0.003503647659427289,
          0.04997913629564621,
          0.022783554333323797,
          -0.0014088693417394493,
          -0.011913154375650173,
          -0.08984390581302065,
          0.015132932158616663,
          -0.004114933122318143,
          0.006730175488616819,
          -0.009533009299937611,
          -0.026858550035127493,
          0.004967614787424829,
          0.00876104924961063,
          -0.011880082143880295,
          -0.014760947800404711,
          0.030223255482250744,
          0.0149323259799361,
          -0.01092685898618806,
          -0.031137686031214862,
          0.0046643539105192255,
          -0.05047155248620672,
          -0.0007534191578295463,
          0.007849073513001015,
          0.01312739276422445,
          -0.01837973090040257,
          0.0012353653507510831,
          0.006595963088503631,
          0.004661750930824243,
          -0.00899311802166225,
          -0.03712096844668583,
          -0.018275563898914493,
          -0.007879366004213129,
          -0.01438083795197631,
          -0.012762574538108362,
          0.012131005436858744,
          -0.009671105805886149,
          -0.0062908935442183775,
          0.001286900485657605,
          -0.018332798327956867,
          -0.010272799185828518,
          0.005690591964309143
         ],
         "xaxis": "x",
         "yaxis": "y"
        },
        {
         "alignmentgroup": "True",
         "hovertemplate": "variable=Close<br>value=%{x}<extra></extra>",
         "legendgroup": "Close",
         "marker": {
          "color": "#636efa"
         },
         "name": "Close",
         "notched": true,
         "offsetgroup": "Close",
         "showlegend": false,
         "type": "box",
         "x": [
          -0.03545281739143469,
          0.015470847342681806,
          -0.029611602023260297,
          -0.0194206143734086,
          0.07116436973276703,
          0.005194788799279287,
          -0.02324095722459507,
          0.001607103612857319,
          0.012645562971700528,
          0.025423608833998856,
          -0.01717049175203618,
          -0.003068760434124785,
          -0.01856606198867626,
          -0.02272373995084198,
          -0.017157992920995513,
          -0.023309083424176147,
          -0.043044677405782134,
          -0.04969610598926548,
          0.05463821248889464,
          -0.026482563447275842,
          0.013046905860586544,
          0.01951933598436062,
          0.033889476856044876,
          -0.010467609398554512,
          0.016549420284709515,
          0.057812336471225995,
          0.0047962726939433376,
          0.010397889249490477,
          0.006363792569735072,
          0.03136032619176604,
          -0.011179259051806915,
          -0.05817396169901756,
          -0.011015569501144018,
          0.013349240083190328,
          0.010420409645956696,
          -0.030537220189053305,
          0.00937979112860976,
          -0.021823356626260226,
          0.03919543940948245,
          -0.034983968684158734,
          0.010749418779921964,
          0.012843093125761151,
          0.04030626583761221,
          -0.011127808255669613,
          0.023978072721308807,
          -0.004081926078625564,
          -0.0045783851152658706,
          -0.015057867161204497,
          -0.011284671996279916,
          0.003672105403107806,
          -0.04167391690043687,
          -0.02756538058439839,
          -0.03415763849451142,
          -0.011626072086815209,
          0.006751380862152545,
          -0.004648586112309505,
          -0.026996328843934547,
          0.017572209315530996,
          0.017981726423985767,
          -0.0071024773324182,
          -0.011330496346268266,
          0.0215526519986462,
          0.030143130469436508,
          -0.015522922555732843,
          -0.02562421075952681,
          -0.0006639322125592262,
          0.01820657063678538,
          0.053673711718361716,
          0.00648639284199326,
          0.014031062543813477,
          0.03852816981062579,
          -0.003089946372446417,
          -0.0014510528262965117,
          0.006280427466813343,
          -0.005514711944042183,
          -0.009050506096928285,
          0.00506684960929904,
          0.04943174494777869,
          0.006366108470674536,
          0.005863855433022036,
          0.009673786729121336,
          0.011227998049280985,
          -0.0018395090885480747,
          0.006709712368772935,
          -0.007553609345712253,
          0.0195708195703875,
          0.14461628180579136,
          0.026698207633537516,
          -0.021278755763988633,
          0.021884382610273936,
          0.024818114493861593,
          0.0021366577538974203,
          -0.007781080835679133,
          -0.02701752261817686,
          0.0017006584939917024,
          0.012369340501819925,
          0.06561984262996473,
          0.004614085044329336,
          0.023698932258366945,
          0.015220159788141507,
          0.006640149077225141,
          -0.010342799356722887,
          0.013403588896995111,
          0.02168361710810074,
          0.0037524124234302736,
          0.004409589810586312,
          -0.0752389485762216,
          0.012918682679566362,
          0.007497232282617894,
          -0.008492364341470143,
          0.06323336813354508,
          0.02738539327126993,
          -0.051077479503374934,
          0.03933059776249467,
          0.010393559750658476,
          0.010802172218588035,
          -0.025496521431438282,
          0.012817596626290007,
          0.00940096085066594,
          -0.02014335386336563,
          0.00725402041665979,
          0.014565963978502931,
          -0.0014766768575874556,
          0.03505787223011353,
          0.0265643237700674,
          0.023539736365686403,
          0.007212237535309255,
          -0.07218701037677072,
          0.02656985035128112,
          -0.03437241432240733,
          0.008311900577452735,
          0.02190419878649448,
          0.041942483791470364,
          0.019321893284974356,
          -0.008849330435963781,
          0.002267463022207983,
          0.012839162096876078,
          0.04017363309500832,
          0.02097996695502441,
          -0.005630868146188295,
          0.015680562247652796,
          -0.020355964136286694,
          -0.01168863414916135,
          0.04299329288000969,
          0.007692088877031322,
          0.02095528441061234,
          -0.0173284080920246,
          -0.0023243537481054677,
          -0.045937270950279385,
          0.006096091700969336,
          0.015709144763169758,
          0.03447182731505949,
          -0.016232791156124082,
          0.013027552863930352,
          -0.010589768504948777,
          0.05195998058057885,
          0.021446130500039046,
          0.038459358907762586,
          0.02198153684828763,
          -0.0402153819020893,
          0.022900772194682353,
          -0.036194471968398034,
          0.00025524736995852226,
          0.0448710047835367,
          0.016948792538885926,
          -0.03941367651413347,
          0.04294156856543624,
          -0.016055071182081826,
          -0.011205064374178397,
          0.03566452134588832,
          -0.015287160414627897,
          -0.03441358741518811,
          0.02215877822590795,
          -0.009674690252288537,
          0.03197569576753513,
          -0.05235719696504443,
          0.014637874573323773,
          -0.00917223267872841,
          -0.03516895039187774,
          -0.007702262397767501,
          0.00466069317907658,
          -0.008143509623929845,
          0.033736459932299734,
          0.026508511767413312,
          -0.011014121411646427,
          -0.021355905054643576,
          0.028081182179751474,
          0.061940325540011776,
          0.011747210020844695,
          -0.03594689000309431,
          0.008817955129309496,
          -0.01829379096324346,
          -0.01093820037068824,
          -0.026167501206344423,
          0.0009765206351464439,
          -0.04671665301643091,
          -0.02608494715669343,
          -0.020660849027552552,
          -0.03824947395047706,
          0.021473798531847846,
          -0.014903996571479276,
          0.0002891730562939038,
          -0.04333489876889712,
          0.0039029137027020155,
          0.021085883244590653,
          -0.042098022500564714,
          -0.0447761840127236,
          0.011920386751579165,
          -0.08711297767815745,
          -0.007513873940245275,
          0.0021162194999263494,
          0.014616475203335089,
          -0.004757095040090142,
          0.012392603202032684,
          0.029037714877537146,
          0.03586643684518073,
          -0.023470588216441435,
          0.01777954559900008,
          0.039079989253347575,
          0.044774641996348785,
          0.021320029192325424,
          0.000757793497088155,
          -0.011100452840941466,
          -0.02183455875292173,
          -0.012602184860127319,
          -0.004031356404366193,
          -0.012607974558763724,
          0.017202063263908718,
          0.02549219767146166,
          0.008811666038290394,
          0.013765645162891804,
          -0.010867086893329679,
          0.020153752886081483,
          -0.003441596797489732,
          0.006765817942306018,
          0.005285558698126636,
          -0.003503647659427289,
          0.04997913629564621,
          0.022783554333323797,
          -0.0014088693417394493,
          -0.011913154375650173,
          -0.08984390581302065,
          0.015132932158616663,
          -0.004114933122318143,
          0.006730175488616819,
          -0.009533009299937611,
          -0.026858550035127493,
          0.004967614787424829,
          0.00876104924961063,
          -0.011880082143880295,
          -0.014760947800404711,
          0.030223255482250744,
          0.0149323259799361,
          -0.01092685898618806,
          -0.031137686031214862,
          0.0046643539105192255,
          -0.05047155248620672,
          -0.0007534191578295463,
          0.007849073513001015,
          0.01312739276422445,
          -0.01837973090040257,
          0.0012353653507510831,
          0.006595963088503631,
          0.004661750930824243,
          -0.00899311802166225,
          -0.03712096844668583,
          -0.018275563898914493,
          -0.007879366004213129,
          -0.01438083795197631,
          -0.012762574538108362,
          0.012131005436858744,
          -0.009671105805886149,
          -0.0062908935442183775,
          0.001286900485657605,
          -0.018332798327956867,
          -0.010272799185828518,
          0.005690591964309143
         ],
         "xaxis": "x2",
         "yaxis": "y2"
        }
       ],
       "layout": {
        "barmode": "relative",
        "legend": {
         "title": {
          "text": "variable"
         },
         "tracegroupgap": 0
        },
        "margin": {
         "t": 60
        },
        "template": {
         "data": {
          "bar": [
           {
            "error_x": {
             "color": "#f2f5fa"
            },
            "error_y": {
             "color": "#f2f5fa"
            },
            "marker": {
             "line": {
              "color": "rgb(17,17,17)",
              "width": 0.5
             },
             "pattern": {
              "fillmode": "overlay",
              "size": 10,
              "solidity": 0.2
             }
            },
            "type": "bar"
           }
          ],
          "barpolar": [
           {
            "marker": {
             "line": {
              "color": "rgb(17,17,17)",
              "width": 0.5
             },
             "pattern": {
              "fillmode": "overlay",
              "size": 10,
              "solidity": 0.2
             }
            },
            "type": "barpolar"
           }
          ],
          "carpet": [
           {
            "aaxis": {
             "endlinecolor": "#A2B1C6",
             "gridcolor": "#506784",
             "linecolor": "#506784",
             "minorgridcolor": "#506784",
             "startlinecolor": "#A2B1C6"
            },
            "baxis": {
             "endlinecolor": "#A2B1C6",
             "gridcolor": "#506784",
             "linecolor": "#506784",
             "minorgridcolor": "#506784",
             "startlinecolor": "#A2B1C6"
            },
            "type": "carpet"
           }
          ],
          "choropleth": [
           {
            "colorbar": {
             "outlinewidth": 0,
             "ticks": ""
            },
            "type": "choropleth"
           }
          ],
          "contour": [
           {
            "colorbar": {
             "outlinewidth": 0,
             "ticks": ""
            },
            "colorscale": [
             [
              0,
              "#0d0887"
             ],
             [
              0.1111111111111111,
              "#46039f"
             ],
             [
              0.2222222222222222,
              "#7201a8"
             ],
             [
              0.3333333333333333,
              "#9c179e"
             ],
             [
              0.4444444444444444,
              "#bd3786"
             ],
             [
              0.5555555555555556,
              "#d8576b"
             ],
             [
              0.6666666666666666,
              "#ed7953"
             ],
             [
              0.7777777777777778,
              "#fb9f3a"
             ],
             [
              0.8888888888888888,
              "#fdca26"
             ],
             [
              1,
              "#f0f921"
             ]
            ],
            "type": "contour"
           }
          ],
          "contourcarpet": [
           {
            "colorbar": {
             "outlinewidth": 0,
             "ticks": ""
            },
            "type": "contourcarpet"
           }
          ],
          "heatmap": [
           {
            "colorbar": {
             "outlinewidth": 0,
             "ticks": ""
            },
            "colorscale": [
             [
              0,
              "#0d0887"
             ],
             [
              0.1111111111111111,
              "#46039f"
             ],
             [
              0.2222222222222222,
              "#7201a8"
             ],
             [
              0.3333333333333333,
              "#9c179e"
             ],
             [
              0.4444444444444444,
              "#bd3786"
             ],
             [
              0.5555555555555556,
              "#d8576b"
             ],
             [
              0.6666666666666666,
              "#ed7953"
             ],
             [
              0.7777777777777778,
              "#fb9f3a"
             ],
             [
              0.8888888888888888,
              "#fdca26"
             ],
             [
              1,
              "#f0f921"
             ]
            ],
            "type": "heatmap"
           }
          ],
          "heatmapgl": [
           {
            "colorbar": {
             "outlinewidth": 0,
             "ticks": ""
            },
            "colorscale": [
             [
              0,
              "#0d0887"
             ],
             [
              0.1111111111111111,
              "#46039f"
             ],
             [
              0.2222222222222222,
              "#7201a8"
             ],
             [
              0.3333333333333333,
              "#9c179e"
             ],
             [
              0.4444444444444444,
              "#bd3786"
             ],
             [
              0.5555555555555556,
              "#d8576b"
             ],
             [
              0.6666666666666666,
              "#ed7953"
             ],
             [
              0.7777777777777778,
              "#fb9f3a"
             ],
             [
              0.8888888888888888,
              "#fdca26"
             ],
             [
              1,
              "#f0f921"
             ]
            ],
            "type": "heatmapgl"
           }
          ],
          "histogram": [
           {
            "marker": {
             "pattern": {
              "fillmode": "overlay",
              "size": 10,
              "solidity": 0.2
             }
            },
            "type": "histogram"
           }
          ],
          "histogram2d": [
           {
            "colorbar": {
             "outlinewidth": 0,
             "ticks": ""
            },
            "colorscale": [
             [
              0,
              "#0d0887"
             ],
             [
              0.1111111111111111,
              "#46039f"
             ],
             [
              0.2222222222222222,
              "#7201a8"
             ],
             [
              0.3333333333333333,
              "#9c179e"
             ],
             [
              0.4444444444444444,
              "#bd3786"
             ],
             [
              0.5555555555555556,
              "#d8576b"
             ],
             [
              0.6666666666666666,
              "#ed7953"
             ],
             [
              0.7777777777777778,
              "#fb9f3a"
             ],
             [
              0.8888888888888888,
              "#fdca26"
             ],
             [
              1,
              "#f0f921"
             ]
            ],
            "type": "histogram2d"
           }
          ],
          "histogram2dcontour": [
           {
            "colorbar": {
             "outlinewidth": 0,
             "ticks": ""
            },
            "colorscale": [
             [
              0,
              "#0d0887"
             ],
             [
              0.1111111111111111,
              "#46039f"
             ],
             [
              0.2222222222222222,
              "#7201a8"
             ],
             [
              0.3333333333333333,
              "#9c179e"
             ],
             [
              0.4444444444444444,
              "#bd3786"
             ],
             [
              0.5555555555555556,
              "#d8576b"
             ],
             [
              0.6666666666666666,
              "#ed7953"
             ],
             [
              0.7777777777777778,
              "#fb9f3a"
             ],
             [
              0.8888888888888888,
              "#fdca26"
             ],
             [
              1,
              "#f0f921"
             ]
            ],
            "type": "histogram2dcontour"
           }
          ],
          "mesh3d": [
           {
            "colorbar": {
             "outlinewidth": 0,
             "ticks": ""
            },
            "type": "mesh3d"
           }
          ],
          "parcoords": [
           {
            "line": {
             "colorbar": {
              "outlinewidth": 0,
              "ticks": ""
             }
            },
            "type": "parcoords"
           }
          ],
          "pie": [
           {
            "automargin": true,
            "type": "pie"
           }
          ],
          "scatter": [
           {
            "marker": {
             "line": {
              "color": "#283442"
             }
            },
            "type": "scatter"
           }
          ],
          "scatter3d": [
           {
            "line": {
             "colorbar": {
              "outlinewidth": 0,
              "ticks": ""
             }
            },
            "marker": {
             "colorbar": {
              "outlinewidth": 0,
              "ticks": ""
             }
            },
            "type": "scatter3d"
           }
          ],
          "scattercarpet": [
           {
            "marker": {
             "colorbar": {
              "outlinewidth": 0,
              "ticks": ""
             }
            },
            "type": "scattercarpet"
           }
          ],
          "scattergeo": [
           {
            "marker": {
             "colorbar": {
              "outlinewidth": 0,
              "ticks": ""
             }
            },
            "type": "scattergeo"
           }
          ],
          "scattergl": [
           {
            "marker": {
             "line": {
              "color": "#283442"
             }
            },
            "type": "scattergl"
           }
          ],
          "scattermapbox": [
           {
            "marker": {
             "colorbar": {
              "outlinewidth": 0,
              "ticks": ""
             }
            },
            "type": "scattermapbox"
           }
          ],
          "scatterpolar": [
           {
            "marker": {
             "colorbar": {
              "outlinewidth": 0,
              "ticks": ""
             }
            },
            "type": "scatterpolar"
           }
          ],
          "scatterpolargl": [
           {
            "marker": {
             "colorbar": {
              "outlinewidth": 0,
              "ticks": ""
             }
            },
            "type": "scatterpolargl"
           }
          ],
          "scatterternary": [
           {
            "marker": {
             "colorbar": {
              "outlinewidth": 0,
              "ticks": ""
             }
            },
            "type": "scatterternary"
           }
          ],
          "surface": [
           {
            "colorbar": {
             "outlinewidth": 0,
             "ticks": ""
            },
            "colorscale": [
             [
              0,
              "#0d0887"
             ],
             [
              0.1111111111111111,
              "#46039f"
             ],
             [
              0.2222222222222222,
              "#7201a8"
             ],
             [
              0.3333333333333333,
              "#9c179e"
             ],
             [
              0.4444444444444444,
              "#bd3786"
             ],
             [
              0.5555555555555556,
              "#d8576b"
             ],
             [
              0.6666666666666666,
              "#ed7953"
             ],
             [
              0.7777777777777778,
              "#fb9f3a"
             ],
             [
              0.8888888888888888,
              "#fdca26"
             ],
             [
              1,
              "#f0f921"
             ]
            ],
            "type": "surface"
           }
          ],
          "table": [
           {
            "cells": {
             "fill": {
              "color": "#506784"
             },
             "line": {
              "color": "rgb(17,17,17)"
             }
            },
            "header": {
             "fill": {
              "color": "#2a3f5f"
             },
             "line": {
              "color": "rgb(17,17,17)"
             }
            },
            "type": "table"
           }
          ]
         },
         "layout": {
          "annotationdefaults": {
           "arrowcolor": "#f2f5fa",
           "arrowhead": 0,
           "arrowwidth": 1
          },
          "autotypenumbers": "strict",
          "coloraxis": {
           "colorbar": {
            "outlinewidth": 0,
            "ticks": ""
           }
          },
          "colorscale": {
           "diverging": [
            [
             0,
             "#8e0152"
            ],
            [
             0.1,
             "#c51b7d"
            ],
            [
             0.2,
             "#de77ae"
            ],
            [
             0.3,
             "#f1b6da"
            ],
            [
             0.4,
             "#fde0ef"
            ],
            [
             0.5,
             "#f7f7f7"
            ],
            [
             0.6,
             "#e6f5d0"
            ],
            [
             0.7,
             "#b8e186"
            ],
            [
             0.8,
             "#7fbc41"
            ],
            [
             0.9,
             "#4d9221"
            ],
            [
             1,
             "#276419"
            ]
           ],
           "sequential": [
            [
             0,
             "#0d0887"
            ],
            [
             0.1111111111111111,
             "#46039f"
            ],
            [
             0.2222222222222222,
             "#7201a8"
            ],
            [
             0.3333333333333333,
             "#9c179e"
            ],
            [
             0.4444444444444444,
             "#bd3786"
            ],
            [
             0.5555555555555556,
             "#d8576b"
            ],
            [
             0.6666666666666666,
             "#ed7953"
            ],
            [
             0.7777777777777778,
             "#fb9f3a"
            ],
            [
             0.8888888888888888,
             "#fdca26"
            ],
            [
             1,
             "#f0f921"
            ]
           ],
           "sequentialminus": [
            [
             0,
             "#0d0887"
            ],
            [
             0.1111111111111111,
             "#46039f"
            ],
            [
             0.2222222222222222,
             "#7201a8"
            ],
            [
             0.3333333333333333,
             "#9c179e"
            ],
            [
             0.4444444444444444,
             "#bd3786"
            ],
            [
             0.5555555555555556,
             "#d8576b"
            ],
            [
             0.6666666666666666,
             "#ed7953"
            ],
            [
             0.7777777777777778,
             "#fb9f3a"
            ],
            [
             0.8888888888888888,
             "#fdca26"
            ],
            [
             1,
             "#f0f921"
            ]
           ]
          },
          "colorway": [
           "#636efa",
           "#EF553B",
           "#00cc96",
           "#ab63fa",
           "#FFA15A",
           "#19d3f3",
           "#FF6692",
           "#B6E880",
           "#FF97FF",
           "#FECB52"
          ],
          "font": {
           "color": "#f2f5fa"
          },
          "geo": {
           "bgcolor": "rgb(17,17,17)",
           "lakecolor": "rgb(17,17,17)",
           "landcolor": "rgb(17,17,17)",
           "showlakes": true,
           "showland": true,
           "subunitcolor": "#506784"
          },
          "hoverlabel": {
           "align": "left"
          },
          "hovermode": "closest",
          "mapbox": {
           "style": "dark"
          },
          "paper_bgcolor": "rgb(17,17,17)",
          "plot_bgcolor": "rgb(17,17,17)",
          "polar": {
           "angularaxis": {
            "gridcolor": "#506784",
            "linecolor": "#506784",
            "ticks": ""
           },
           "bgcolor": "rgb(17,17,17)",
           "radialaxis": {
            "gridcolor": "#506784",
            "linecolor": "#506784",
            "ticks": ""
           }
          },
          "scene": {
           "xaxis": {
            "backgroundcolor": "rgb(17,17,17)",
            "gridcolor": "#506784",
            "gridwidth": 2,
            "linecolor": "#506784",
            "showbackground": true,
            "ticks": "",
            "zerolinecolor": "#C8D4E3"
           },
           "yaxis": {
            "backgroundcolor": "rgb(17,17,17)",
            "gridcolor": "#506784",
            "gridwidth": 2,
            "linecolor": "#506784",
            "showbackground": true,
            "ticks": "",
            "zerolinecolor": "#C8D4E3"
           },
           "zaxis": {
            "backgroundcolor": "rgb(17,17,17)",
            "gridcolor": "#506784",
            "gridwidth": 2,
            "linecolor": "#506784",
            "showbackground": true,
            "ticks": "",
            "zerolinecolor": "#C8D4E3"
           }
          },
          "shapedefaults": {
           "line": {
            "color": "#f2f5fa"
           }
          },
          "sliderdefaults": {
           "bgcolor": "#C8D4E3",
           "bordercolor": "rgb(17,17,17)",
           "borderwidth": 1,
           "tickwidth": 0
          },
          "ternary": {
           "aaxis": {
            "gridcolor": "#506784",
            "linecolor": "#506784",
            "ticks": ""
           },
           "baxis": {
            "gridcolor": "#506784",
            "linecolor": "#506784",
            "ticks": ""
           },
           "bgcolor": "rgb(17,17,17)",
           "caxis": {
            "gridcolor": "#506784",
            "linecolor": "#506784",
            "ticks": ""
           }
          },
          "title": {
           "x": 0.05
          },
          "updatemenudefaults": {
           "bgcolor": "#506784",
           "borderwidth": 0
          },
          "xaxis": {
           "automargin": true,
           "gridcolor": "#283442",
           "linecolor": "#506784",
           "ticks": "",
           "title": {
            "standoff": 15
           },
           "zerolinecolor": "#283442",
           "zerolinewidth": 2
          },
          "yaxis": {
           "automargin": true,
           "gridcolor": "#283442",
           "linecolor": "#506784",
           "ticks": "",
           "title": {
            "standoff": 15
           },
           "zerolinecolor": "#283442",
           "zerolinewidth": 2
          }
         }
        },
        "title": {
         "text": "AAPL Distribution of Residuals"
        },
        "xaxis": {
         "anchor": "y",
         "domain": [
          0,
          1
         ],
         "title": {
          "text": "Residuals"
         }
        },
        "xaxis2": {
         "anchor": "y2",
         "domain": [
          0,
          1
         ],
         "matches": "x",
         "showgrid": true,
         "showticklabels": false
        },
        "yaxis": {
         "anchor": "x",
         "domain": [
          0,
          0.7326
         ],
         "title": {
          "text": "Density"
         }
        },
        "yaxis2": {
         "anchor": "x2",
         "domain": [
          0.7426,
          1
         ],
         "matches": "y2",
         "showgrid": false,
         "showline": false,
         "showticklabels": false,
         "ticks": ""
        }
       }
      }
     },
     "metadata": {},
     "output_type": "display_data"
    }
   ],
   "source": [
    "fig = px.histogram(residuals, nbins = 30, marginal = 'box', histnorm = 'probability density')\n",
    "\n",
    "fig.update_layout(title = 'AAPL Distribution of Residuals',\n",
    "                xaxis_title = 'Residuals',\n",
    "                yaxis_title = 'Density',\n",
    "                template = 'plotly_dark')\n",
    "\n",
    "fig.show()"
   ]
  },
  {
   "cell_type": "markdown",
   "metadata": {},
   "source": [
    "#### Overall this is a good distribution.  The distribution is mostly centered around 0, and suggests that on average the model's predictions are unbiased.  The histogram appears somewhat bell-shaped though it is definitely not normal.  Again the highest concentration of residuals are very close to the 0 marker, indicating that most predictions are very accurate.  Speaking to the boxplot at the top, is shows a few outliers on each end.  The majority of the data points within the IQR (Interquartile Range) suggest that most predictions are fairly close to the actual values.  If anything is to be improved I can look at the outliers here and remove them so as the model isn't hindered by their bias."
   ]
  },
  {
   "cell_type": "markdown",
   "metadata": {},
   "source": [
    "## Summary of the Analysis on the Google (Class C) Linear Regression Model\n",
    "\n",
    "#### In this notebook we developed a baseline Linear Regression model to predict the closing prices of GOOGL stock.  We implemented several of our previous preprocessing steps, including feature creation and scaling, followed by model creation and evaluation.\n",
    "\n",
    "### Key Insights\n",
    "\n",
    "#### - The model performed well as a baseline, with a Mean Squared Error (RMSE) of approximately 4.3 cents.\n",
    "#### - The residuals analysis indicated that the model's errors are unbiased and normally distributed, suggesting that the model is generally reliable.\n",
    "#### - The distribution of residuals showed no significant skewness or outliers, further confirming the model's robustness for a baseline.\n",
    "\n",
    "### Potential Next Steps\n",
    "\n",
    "#### - In the next phase, we will explore more advanced models such as Decision Trees, GRU, and Transformer models to improve prediction accuracy.\n",
    "#### - We will also consider incorporating additional data and refining features based on the insights gained from this baseline model."
   ]
  },
  {
   "cell_type": "code",
   "execution_count": null,
   "metadata": {},
   "outputs": [],
   "source": []
  }
 ],
 "metadata": {
  "kernelspec": {
   "display_name": "DL-Strat",
   "language": "python",
   "name": "python3"
  },
  "language_info": {
   "codemirror_mode": {
    "name": "ipython",
    "version": 3
   },
   "file_extension": ".py",
   "mimetype": "text/x-python",
   "name": "python",
   "nbconvert_exporter": "python",
   "pygments_lexer": "ipython3",
   "version": "3.11.0"
  }
 },
 "nbformat": 4,
 "nbformat_minor": 2
}
