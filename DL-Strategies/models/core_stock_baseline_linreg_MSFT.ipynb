{
 "cells": [
  {
   "cell_type": "markdown",
   "metadata": {},
   "source": [
    "# **Core Stock Baseline Modeling - Linear Regression for MSFT Ticker**\n",
    "## In this notebook we will examine only the Microsoft stock for the periods we have selected for this project (01-01-2019 through 06-30-2024), and perform a Linear Regression model using the preprocessed dataframe that we created in our other notebook.  We will look to get an idea of how well our data is predicting with our new features that we created."
   ]
  },
  {
   "cell_type": "markdown",
   "metadata": {},
   "source": [
    "#### As usual let's start by bringing in our important libraries and logic for needing to complete this notebook."
   ]
  },
  {
   "cell_type": "code",
   "execution_count": 1,
   "metadata": {},
   "outputs": [],
   "source": [
    "import sys\n",
    "import os\n",
    "\n",
    "import numpy as np\n",
    "import pandas as pd\n",
    "from sklearn.model_selection import train_test_split\n",
    "from sklearn.linear_model import LinearRegression\n",
    "from sklearn.metrics import mean_squared_error, mean_absolute_error\n",
    "import plotly.graph_objects as go\n",
    "import plotly.express as px\n",
    "from sklearn.model_selection import cross_val_score\n",
    "\n",
    "project_root = os.path.abspath(os.path.join(os.getcwd(), '..'))\n",
    "if project_root not in sys.path:\n",
    "    sys.path.append(project_root)\n",
    "\n",
    "\n"
   ]
  },
  {
   "cell_type": "markdown",
   "metadata": {},
   "source": [
    "#### Now let's read in our data that we will use for this notebook."
   ]
  },
  {
   "cell_type": "code",
   "execution_count": 2,
   "metadata": {},
   "outputs": [
    {
     "data": {
      "text/html": [
       "<div>\n",
       "<style scoped>\n",
       "    .dataframe tbody tr th:only-of-type {\n",
       "        vertical-align: middle;\n",
       "    }\n",
       "\n",
       "    .dataframe tbody tr th {\n",
       "        vertical-align: top;\n",
       "    }\n",
       "\n",
       "    .dataframe thead th {\n",
       "        text-align: right;\n",
       "    }\n",
       "</style>\n",
       "<table border=\"1\" class=\"dataframe\">\n",
       "  <thead>\n",
       "    <tr style=\"text-align: right;\">\n",
       "      <th></th>\n",
       "      <th>Close</th>\n",
       "      <th>Volume</th>\n",
       "      <th>Open</th>\n",
       "      <th>High</th>\n",
       "      <th>Low</th>\n",
       "      <th>SMA_core</th>\n",
       "      <th>EMA_core</th>\n",
       "      <th>RSI_core</th>\n",
       "      <th>RMA_core</th>\n",
       "      <th>Close_Lag_1</th>\n",
       "      <th>...</th>\n",
       "      <th>EMA_Lag_Std_1_3</th>\n",
       "      <th>SMA_Lag_Avg_1_3</th>\n",
       "      <th>SMA_Lag_Std_1_3</th>\n",
       "      <th>RMA_Lag_Avg_1_3</th>\n",
       "      <th>RMA_Lag_Std_1_3</th>\n",
       "      <th>Close_Lag_Avg_1_3</th>\n",
       "      <th>Close_Lag_Std_1_3</th>\n",
       "      <th>Diff_Close_EMA_core</th>\n",
       "      <th>Ratio_Close_EMA_core</th>\n",
       "      <th>Ticker</th>\n",
       "    </tr>\n",
       "    <tr>\n",
       "      <th>Date</th>\n",
       "      <th></th>\n",
       "      <th></th>\n",
       "      <th></th>\n",
       "      <th></th>\n",
       "      <th></th>\n",
       "      <th></th>\n",
       "      <th></th>\n",
       "      <th></th>\n",
       "      <th></th>\n",
       "      <th></th>\n",
       "      <th></th>\n",
       "      <th></th>\n",
       "      <th></th>\n",
       "      <th></th>\n",
       "      <th></th>\n",
       "      <th></th>\n",
       "      <th></th>\n",
       "      <th></th>\n",
       "      <th></th>\n",
       "      <th></th>\n",
       "      <th></th>\n",
       "    </tr>\n",
       "  </thead>\n",
       "  <tbody>\n",
       "    <tr>\n",
       "      <th>2019-03-14</th>\n",
       "      <td>-1.013302</td>\n",
       "      <td>-0.074793</td>\n",
       "      <td>-1.012345</td>\n",
       "      <td>-1.018762</td>\n",
       "      <td>-1.009483</td>\n",
       "      <td>-1.085271</td>\n",
       "      <td>-1.049825</td>\n",
       "      <td>1.249108</td>\n",
       "      <td>0.801504</td>\n",
       "      <td>-1.013494</td>\n",
       "      <td>...</td>\n",
       "      <td>-0.081211</td>\n",
       "      <td>-1.086158</td>\n",
       "      <td>-0.085461</td>\n",
       "      <td>0.817706</td>\n",
       "      <td>-0.625300</td>\n",
       "      <td>-1.014627</td>\n",
       "      <td>-0.348813</td>\n",
       "      <td>0.037931</td>\n",
       "      <td>0.801504</td>\n",
       "      <td>AAPL</td>\n",
       "    </tr>\n",
       "    <tr>\n",
       "      <th>2019-03-15</th>\n",
       "      <td>-1.007093</td>\n",
       "      <td>0.293158</td>\n",
       "      <td>-1.009876</td>\n",
       "      <td>-1.010456</td>\n",
       "      <td>-1.006383</td>\n",
       "      <td>-1.083783</td>\n",
       "      <td>-1.048013</td>\n",
       "      <td>1.325622</td>\n",
       "      <td>0.931542</td>\n",
       "      <td>-1.013494</td>\n",
       "      <td>...</td>\n",
       "      <td>-0.081211</td>\n",
       "      <td>-1.086158</td>\n",
       "      <td>-0.085461</td>\n",
       "      <td>0.817706</td>\n",
       "      <td>-0.625300</td>\n",
       "      <td>-1.014627</td>\n",
       "      <td>-0.348813</td>\n",
       "      <td>0.074966</td>\n",
       "      <td>0.931542</td>\n",
       "      <td>AAPL</td>\n",
       "    </tr>\n",
       "    <tr>\n",
       "      <th>2019-03-18</th>\n",
       "      <td>-1.002157</td>\n",
       "      <td>-0.011968</td>\n",
       "      <td>-1.007406</td>\n",
       "      <td>-1.007730</td>\n",
       "      <td>-1.000997</td>\n",
       "      <td>-1.081366</td>\n",
       "      <td>-1.046072</td>\n",
       "      <td>1.432516</td>\n",
       "      <td>1.018034</td>\n",
       "      <td>-1.007280</td>\n",
       "      <td>...</td>\n",
       "      <td>-0.081211</td>\n",
       "      <td>-1.085413</td>\n",
       "      <td>-0.085461</td>\n",
       "      <td>0.884049</td>\n",
       "      <td>-0.625300</td>\n",
       "      <td>-1.011515</td>\n",
       "      <td>-0.348813</td>\n",
       "      <td>0.100376</td>\n",
       "      <td>1.018034</td>\n",
       "      <td>AAPL</td>\n",
       "    </tr>\n",
       "    <tr>\n",
       "      <th>2019-03-19</th>\n",
       "      <td>-1.006028</td>\n",
       "      <td>0.117158</td>\n",
       "      <td>-1.000779</td>\n",
       "      <td>-1.006187</td>\n",
       "      <td>-1.000655</td>\n",
       "      <td>-1.079347</td>\n",
       "      <td>-1.044364</td>\n",
       "      <td>1.112931</td>\n",
       "      <td>0.846961</td>\n",
       "      <td>-1.002341</td>\n",
       "      <td>...</td>\n",
       "      <td>-0.066578</td>\n",
       "      <td>-1.084358</td>\n",
       "      <td>-0.062046</td>\n",
       "      <td>0.935581</td>\n",
       "      <td>-0.515015</td>\n",
       "      <td>-1.008829</td>\n",
       "      <td>-0.323448</td>\n",
       "      <td>0.054402</td>\n",
       "      <td>0.846961</td>\n",
       "      <td>AAPL</td>\n",
       "    </tr>\n",
       "    <tr>\n",
       "      <th>2019-03-20</th>\n",
       "      <td>-1.001793</td>\n",
       "      <td>0.102615</td>\n",
       "      <td>-1.006289</td>\n",
       "      <td>-1.004901</td>\n",
       "      <td>-1.003782</td>\n",
       "      <td>-1.077225</td>\n",
       "      <td>-1.042552</td>\n",
       "      <td>1.535368</td>\n",
       "      <td>0.916237</td>\n",
       "      <td>-1.006214</td>\n",
       "      <td>...</td>\n",
       "      <td>-0.067836</td>\n",
       "      <td>-1.082380</td>\n",
       "      <td>-0.055671</td>\n",
       "      <td>0.951042</td>\n",
       "      <td>-0.666796</td>\n",
       "      <td>-1.006398</td>\n",
       "      <td>-0.386895</td>\n",
       "      <td>0.075012</td>\n",
       "      <td>0.916237</td>\n",
       "      <td>AAPL</td>\n",
       "    </tr>\n",
       "  </tbody>\n",
       "</table>\n",
       "<p>5 rows × 32 columns</p>\n",
       "</div>"
      ],
      "text/plain": [
       "               Close    Volume      Open      High       Low  SMA_core  \\\n",
       "Date                                                                     \n",
       "2019-03-14 -1.013302 -0.074793 -1.012345 -1.018762 -1.009483 -1.085271   \n",
       "2019-03-15 -1.007093  0.293158 -1.009876 -1.010456 -1.006383 -1.083783   \n",
       "2019-03-18 -1.002157 -0.011968 -1.007406 -1.007730 -1.000997 -1.081366   \n",
       "2019-03-19 -1.006028  0.117158 -1.000779 -1.006187 -1.000655 -1.079347   \n",
       "2019-03-20 -1.001793  0.102615 -1.006289 -1.004901 -1.003782 -1.077225   \n",
       "\n",
       "            EMA_core  RSI_core  RMA_core  Close_Lag_1  ...  EMA_Lag_Std_1_3  \\\n",
       "Date                                                   ...                    \n",
       "2019-03-14 -1.049825  1.249108  0.801504    -1.013494  ...        -0.081211   \n",
       "2019-03-15 -1.048013  1.325622  0.931542    -1.013494  ...        -0.081211   \n",
       "2019-03-18 -1.046072  1.432516  1.018034    -1.007280  ...        -0.081211   \n",
       "2019-03-19 -1.044364  1.112931  0.846961    -1.002341  ...        -0.066578   \n",
       "2019-03-20 -1.042552  1.535368  0.916237    -1.006214  ...        -0.067836   \n",
       "\n",
       "            SMA_Lag_Avg_1_3  SMA_Lag_Std_1_3  RMA_Lag_Avg_1_3  \\\n",
       "Date                                                            \n",
       "2019-03-14        -1.086158        -0.085461         0.817706   \n",
       "2019-03-15        -1.086158        -0.085461         0.817706   \n",
       "2019-03-18        -1.085413        -0.085461         0.884049   \n",
       "2019-03-19        -1.084358        -0.062046         0.935581   \n",
       "2019-03-20        -1.082380        -0.055671         0.951042   \n",
       "\n",
       "            RMA_Lag_Std_1_3  Close_Lag_Avg_1_3  Close_Lag_Std_1_3  \\\n",
       "Date                                                                \n",
       "2019-03-14        -0.625300          -1.014627          -0.348813   \n",
       "2019-03-15        -0.625300          -1.014627          -0.348813   \n",
       "2019-03-18        -0.625300          -1.011515          -0.348813   \n",
       "2019-03-19        -0.515015          -1.008829          -0.323448   \n",
       "2019-03-20        -0.666796          -1.006398          -0.386895   \n",
       "\n",
       "            Diff_Close_EMA_core  Ratio_Close_EMA_core  Ticker  \n",
       "Date                                                           \n",
       "2019-03-14             0.037931              0.801504    AAPL  \n",
       "2019-03-15             0.074966              0.931542    AAPL  \n",
       "2019-03-18             0.100376              1.018034    AAPL  \n",
       "2019-03-19             0.054402              0.846961    AAPL  \n",
       "2019-03-20             0.075012              0.916237    AAPL  \n",
       "\n",
       "[5 rows x 32 columns]"
      ]
     },
     "execution_count": 2,
     "metadata": {},
     "output_type": "execute_result"
    }
   ],
   "source": [
    "# Now let's access the main core_stock_data.csv file\n",
    "csv_path = os.path.join(project_root, 'data', 'core_stock_preprocessed.csv')\n",
    "preprocessed_df = pd.read_csv(csv_path, parse_dates=['Date'], index_col= 'Date')\n",
    "preprocessed_df.head()"
   ]
  },
  {
   "cell_type": "markdown",
   "metadata": {},
   "source": [
    "#### Great now let's grab the data just for our subject MSFT ticker to use in our Linear Regression model."
   ]
  },
  {
   "cell_type": "code",
   "execution_count": 3,
   "metadata": {},
   "outputs": [
    {
     "name": "stdout",
     "output_type": "stream",
     "text": [
      "               Close    Volume      Open      High       Low  SMA_core  \\\n",
      "Date                                                                     \n",
      "2019-01-02 -0.439776 -0.425702 -0.455352 -0.445523 -0.449353   0.49001   \n",
      "2019-01-03 -0.478435 -0.382575 -0.449634 -0.461571 -0.467639   0.49001   \n",
      "2019-01-04 -0.431358 -0.373762 -0.453585 -0.437705 -0.449458   0.49001   \n",
      "2019-01-07 -0.430007 -0.423758 -0.433623 -0.429887 -0.427915   0.49001   \n",
      "2019-01-08 -0.422317 -0.448396 -0.419068 -0.422686 -0.420243   0.49001   \n",
      "\n",
      "            EMA_core  RSI_core  RMA_core  Close_Lag_1  ...  EMA_Lag_Std_1_3  \\\n",
      "Date                                                   ...                    \n",
      "2019-01-02 -0.418486  0.508984 -0.370774     0.699152  ...         0.073307   \n",
      "2019-01-03 -0.420050 -3.408328 -0.842534    -0.439579  ...        14.181084   \n",
      "2019-01-04 -0.419648 -0.031907 -0.249598    -0.478265  ...        14.239163   \n",
      "2019-01-07 -0.419207  0.011105 -0.237924    -0.431155  ...        -0.092745   \n",
      "2019-01-08 -0.418473  0.232593 -0.149511    -0.429804  ...        -0.102345   \n",
      "\n",
      "            SMA_Lag_Avg_1_3  SMA_Lag_Std_1_3  RMA_Lag_Avg_1_3  \\\n",
      "Date                                                            \n",
      "2019-01-02         0.482653         0.122523         0.873477   \n",
      "2019-01-03         0.488807         0.020020         0.423733   \n",
      "2019-01-04         0.491809        -0.112260        -0.186086   \n",
      "2019-01-07         0.491809        -0.112260        -0.497680   \n",
      "2019-01-08         0.491809        -0.112260        -0.452495   \n",
      "\n",
      "            RMA_Lag_Std_1_3  Close_Lag_Avg_1_3  Close_Lag_Std_1_3  \\\n",
      "Date                                                                \n",
      "2019-01-02        -0.157572           0.722010          -0.041616   \n",
      "2019-01-03         3.280402           0.332686          13.738775   \n",
      "2019-01-04         3.775556          -0.072505          13.754802   \n",
      "2019-01-07         0.806932          -0.449885           0.091141   \n",
      "2019-01-08         1.017156          -0.446622           0.143663   \n",
      "\n",
      "            Diff_Close_EMA_core  Ratio_Close_EMA_core  Ticker  \n",
      "Date                                                           \n",
      "2019-01-02            -0.283065             -0.370774    MSFT  \n",
      "2019-01-03            -0.592018             -0.842534    MSFT  \n",
      "2019-01-04            -0.203678             -0.249598    MSFT  \n",
      "2019-01-07            -0.195995             -0.237924    MSFT  \n",
      "2019-01-08            -0.137950             -0.149511    MSFT  \n",
      "\n",
      "[5 rows x 32 columns]\n"
     ]
    },
    {
     "data": {
      "text/plain": [
       "(1382, 32)"
      ]
     },
     "execution_count": 3,
     "metadata": {},
     "output_type": "execute_result"
    }
   ],
   "source": [
    "msft_data = preprocessed_df[preprocessed_df['Ticker'] == 'MSFT']\n",
    "print(msft_data.head())\n",
    "msft_data.shape"
   ]
  },
  {
   "cell_type": "markdown",
   "metadata": {},
   "source": [
    "#### Now let's prepare our Linear Regression model.  We will be dropping the Ticker and Close columns for the X as Ticker is an improper format and our Close feature will be our y target.  The Date feature is our index so it won't be included in the model as it will automatically be excluded from the feature set."
   ]
  },
  {
   "cell_type": "code",
   "execution_count": 4,
   "metadata": {},
   "outputs": [],
   "source": [
    "X = msft_data[['EMA_core', 'SMA_core', 'RSI_core', 'Close_Lag_1']]\n",
    "y = msft_data['Close']"
   ]
  },
  {
   "cell_type": "markdown",
   "metadata": {},
   "source": [
    "#### Let's now set up the rest of the model and run our first set of predictions on it.  I will be looking for the MAE (Mean Absolute Error) and the RMSE (Root Mean Squared Error) for metrics here."
   ]
  },
  {
   "cell_type": "code",
   "execution_count": 5,
   "metadata": {},
   "outputs": [
    {
     "data": {
      "text/html": [
       "<style>#sk-container-id-1 {\n",
       "  /* Definition of color scheme common for light and dark mode */\n",
       "  --sklearn-color-text: black;\n",
       "  --sklearn-color-line: gray;\n",
       "  /* Definition of color scheme for unfitted estimators */\n",
       "  --sklearn-color-unfitted-level-0: #fff5e6;\n",
       "  --sklearn-color-unfitted-level-1: #f6e4d2;\n",
       "  --sklearn-color-unfitted-level-2: #ffe0b3;\n",
       "  --sklearn-color-unfitted-level-3: chocolate;\n",
       "  /* Definition of color scheme for fitted estimators */\n",
       "  --sklearn-color-fitted-level-0: #f0f8ff;\n",
       "  --sklearn-color-fitted-level-1: #d4ebff;\n",
       "  --sklearn-color-fitted-level-2: #b3dbfd;\n",
       "  --sklearn-color-fitted-level-3: cornflowerblue;\n",
       "\n",
       "  /* Specific color for light theme */\n",
       "  --sklearn-color-text-on-default-background: var(--sg-text-color, var(--theme-code-foreground, var(--jp-content-font-color1, black)));\n",
       "  --sklearn-color-background: var(--sg-background-color, var(--theme-background, var(--jp-layout-color0, white)));\n",
       "  --sklearn-color-border-box: var(--sg-text-color, var(--theme-code-foreground, var(--jp-content-font-color1, black)));\n",
       "  --sklearn-color-icon: #696969;\n",
       "\n",
       "  @media (prefers-color-scheme: dark) {\n",
       "    /* Redefinition of color scheme for dark theme */\n",
       "    --sklearn-color-text-on-default-background: var(--sg-text-color, var(--theme-code-foreground, var(--jp-content-font-color1, white)));\n",
       "    --sklearn-color-background: var(--sg-background-color, var(--theme-background, var(--jp-layout-color0, #111)));\n",
       "    --sklearn-color-border-box: var(--sg-text-color, var(--theme-code-foreground, var(--jp-content-font-color1, white)));\n",
       "    --sklearn-color-icon: #878787;\n",
       "  }\n",
       "}\n",
       "\n",
       "#sk-container-id-1 {\n",
       "  color: var(--sklearn-color-text);\n",
       "}\n",
       "\n",
       "#sk-container-id-1 pre {\n",
       "  padding: 0;\n",
       "}\n",
       "\n",
       "#sk-container-id-1 input.sk-hidden--visually {\n",
       "  border: 0;\n",
       "  clip: rect(1px 1px 1px 1px);\n",
       "  clip: rect(1px, 1px, 1px, 1px);\n",
       "  height: 1px;\n",
       "  margin: -1px;\n",
       "  overflow: hidden;\n",
       "  padding: 0;\n",
       "  position: absolute;\n",
       "  width: 1px;\n",
       "}\n",
       "\n",
       "#sk-container-id-1 div.sk-dashed-wrapped {\n",
       "  border: 1px dashed var(--sklearn-color-line);\n",
       "  margin: 0 0.4em 0.5em 0.4em;\n",
       "  box-sizing: border-box;\n",
       "  padding-bottom: 0.4em;\n",
       "  background-color: var(--sklearn-color-background);\n",
       "}\n",
       "\n",
       "#sk-container-id-1 div.sk-container {\n",
       "  /* jupyter's `normalize.less` sets `[hidden] { display: none; }`\n",
       "     but bootstrap.min.css set `[hidden] { display: none !important; }`\n",
       "     so we also need the `!important` here to be able to override the\n",
       "     default hidden behavior on the sphinx rendered scikit-learn.org.\n",
       "     See: https://github.com/scikit-learn/scikit-learn/issues/21755 */\n",
       "  display: inline-block !important;\n",
       "  position: relative;\n",
       "}\n",
       "\n",
       "#sk-container-id-1 div.sk-text-repr-fallback {\n",
       "  display: none;\n",
       "}\n",
       "\n",
       "div.sk-parallel-item,\n",
       "div.sk-serial,\n",
       "div.sk-item {\n",
       "  /* draw centered vertical line to link estimators */\n",
       "  background-image: linear-gradient(var(--sklearn-color-text-on-default-background), var(--sklearn-color-text-on-default-background));\n",
       "  background-size: 2px 100%;\n",
       "  background-repeat: no-repeat;\n",
       "  background-position: center center;\n",
       "}\n",
       "\n",
       "/* Parallel-specific style estimator block */\n",
       "\n",
       "#sk-container-id-1 div.sk-parallel-item::after {\n",
       "  content: \"\";\n",
       "  width: 100%;\n",
       "  border-bottom: 2px solid var(--sklearn-color-text-on-default-background);\n",
       "  flex-grow: 1;\n",
       "}\n",
       "\n",
       "#sk-container-id-1 div.sk-parallel {\n",
       "  display: flex;\n",
       "  align-items: stretch;\n",
       "  justify-content: center;\n",
       "  background-color: var(--sklearn-color-background);\n",
       "  position: relative;\n",
       "}\n",
       "\n",
       "#sk-container-id-1 div.sk-parallel-item {\n",
       "  display: flex;\n",
       "  flex-direction: column;\n",
       "}\n",
       "\n",
       "#sk-container-id-1 div.sk-parallel-item:first-child::after {\n",
       "  align-self: flex-end;\n",
       "  width: 50%;\n",
       "}\n",
       "\n",
       "#sk-container-id-1 div.sk-parallel-item:last-child::after {\n",
       "  align-self: flex-start;\n",
       "  width: 50%;\n",
       "}\n",
       "\n",
       "#sk-container-id-1 div.sk-parallel-item:only-child::after {\n",
       "  width: 0;\n",
       "}\n",
       "\n",
       "/* Serial-specific style estimator block */\n",
       "\n",
       "#sk-container-id-1 div.sk-serial {\n",
       "  display: flex;\n",
       "  flex-direction: column;\n",
       "  align-items: center;\n",
       "  background-color: var(--sklearn-color-background);\n",
       "  padding-right: 1em;\n",
       "  padding-left: 1em;\n",
       "}\n",
       "\n",
       "\n",
       "/* Toggleable style: style used for estimator/Pipeline/ColumnTransformer box that is\n",
       "clickable and can be expanded/collapsed.\n",
       "- Pipeline and ColumnTransformer use this feature and define the default style\n",
       "- Estimators will overwrite some part of the style using the `sk-estimator` class\n",
       "*/\n",
       "\n",
       "/* Pipeline and ColumnTransformer style (default) */\n",
       "\n",
       "#sk-container-id-1 div.sk-toggleable {\n",
       "  /* Default theme specific background. It is overwritten whether we have a\n",
       "  specific estimator or a Pipeline/ColumnTransformer */\n",
       "  background-color: var(--sklearn-color-background);\n",
       "}\n",
       "\n",
       "/* Toggleable label */\n",
       "#sk-container-id-1 label.sk-toggleable__label {\n",
       "  cursor: pointer;\n",
       "  display: block;\n",
       "  width: 100%;\n",
       "  margin-bottom: 0;\n",
       "  padding: 0.5em;\n",
       "  box-sizing: border-box;\n",
       "  text-align: center;\n",
       "}\n",
       "\n",
       "#sk-container-id-1 label.sk-toggleable__label-arrow:before {\n",
       "  /* Arrow on the left of the label */\n",
       "  content: \"▸\";\n",
       "  float: left;\n",
       "  margin-right: 0.25em;\n",
       "  color: var(--sklearn-color-icon);\n",
       "}\n",
       "\n",
       "#sk-container-id-1 label.sk-toggleable__label-arrow:hover:before {\n",
       "  color: var(--sklearn-color-text);\n",
       "}\n",
       "\n",
       "/* Toggleable content - dropdown */\n",
       "\n",
       "#sk-container-id-1 div.sk-toggleable__content {\n",
       "  max-height: 0;\n",
       "  max-width: 0;\n",
       "  overflow: hidden;\n",
       "  text-align: left;\n",
       "  /* unfitted */\n",
       "  background-color: var(--sklearn-color-unfitted-level-0);\n",
       "}\n",
       "\n",
       "#sk-container-id-1 div.sk-toggleable__content.fitted {\n",
       "  /* fitted */\n",
       "  background-color: var(--sklearn-color-fitted-level-0);\n",
       "}\n",
       "\n",
       "#sk-container-id-1 div.sk-toggleable__content pre {\n",
       "  margin: 0.2em;\n",
       "  border-radius: 0.25em;\n",
       "  color: var(--sklearn-color-text);\n",
       "  /* unfitted */\n",
       "  background-color: var(--sklearn-color-unfitted-level-0);\n",
       "}\n",
       "\n",
       "#sk-container-id-1 div.sk-toggleable__content.fitted pre {\n",
       "  /* unfitted */\n",
       "  background-color: var(--sklearn-color-fitted-level-0);\n",
       "}\n",
       "\n",
       "#sk-container-id-1 input.sk-toggleable__control:checked~div.sk-toggleable__content {\n",
       "  /* Expand drop-down */\n",
       "  max-height: 200px;\n",
       "  max-width: 100%;\n",
       "  overflow: auto;\n",
       "}\n",
       "\n",
       "#sk-container-id-1 input.sk-toggleable__control:checked~label.sk-toggleable__label-arrow:before {\n",
       "  content: \"▾\";\n",
       "}\n",
       "\n",
       "/* Pipeline/ColumnTransformer-specific style */\n",
       "\n",
       "#sk-container-id-1 div.sk-label input.sk-toggleable__control:checked~label.sk-toggleable__label {\n",
       "  color: var(--sklearn-color-text);\n",
       "  background-color: var(--sklearn-color-unfitted-level-2);\n",
       "}\n",
       "\n",
       "#sk-container-id-1 div.sk-label.fitted input.sk-toggleable__control:checked~label.sk-toggleable__label {\n",
       "  background-color: var(--sklearn-color-fitted-level-2);\n",
       "}\n",
       "\n",
       "/* Estimator-specific style */\n",
       "\n",
       "/* Colorize estimator box */\n",
       "#sk-container-id-1 div.sk-estimator input.sk-toggleable__control:checked~label.sk-toggleable__label {\n",
       "  /* unfitted */\n",
       "  background-color: var(--sklearn-color-unfitted-level-2);\n",
       "}\n",
       "\n",
       "#sk-container-id-1 div.sk-estimator.fitted input.sk-toggleable__control:checked~label.sk-toggleable__label {\n",
       "  /* fitted */\n",
       "  background-color: var(--sklearn-color-fitted-level-2);\n",
       "}\n",
       "\n",
       "#sk-container-id-1 div.sk-label label.sk-toggleable__label,\n",
       "#sk-container-id-1 div.sk-label label {\n",
       "  /* The background is the default theme color */\n",
       "  color: var(--sklearn-color-text-on-default-background);\n",
       "}\n",
       "\n",
       "/* On hover, darken the color of the background */\n",
       "#sk-container-id-1 div.sk-label:hover label.sk-toggleable__label {\n",
       "  color: var(--sklearn-color-text);\n",
       "  background-color: var(--sklearn-color-unfitted-level-2);\n",
       "}\n",
       "\n",
       "/* Label box, darken color on hover, fitted */\n",
       "#sk-container-id-1 div.sk-label.fitted:hover label.sk-toggleable__label.fitted {\n",
       "  color: var(--sklearn-color-text);\n",
       "  background-color: var(--sklearn-color-fitted-level-2);\n",
       "}\n",
       "\n",
       "/* Estimator label */\n",
       "\n",
       "#sk-container-id-1 div.sk-label label {\n",
       "  font-family: monospace;\n",
       "  font-weight: bold;\n",
       "  display: inline-block;\n",
       "  line-height: 1.2em;\n",
       "}\n",
       "\n",
       "#sk-container-id-1 div.sk-label-container {\n",
       "  text-align: center;\n",
       "}\n",
       "\n",
       "/* Estimator-specific */\n",
       "#sk-container-id-1 div.sk-estimator {\n",
       "  font-family: monospace;\n",
       "  border: 1px dotted var(--sklearn-color-border-box);\n",
       "  border-radius: 0.25em;\n",
       "  box-sizing: border-box;\n",
       "  margin-bottom: 0.5em;\n",
       "  /* unfitted */\n",
       "  background-color: var(--sklearn-color-unfitted-level-0);\n",
       "}\n",
       "\n",
       "#sk-container-id-1 div.sk-estimator.fitted {\n",
       "  /* fitted */\n",
       "  background-color: var(--sklearn-color-fitted-level-0);\n",
       "}\n",
       "\n",
       "/* on hover */\n",
       "#sk-container-id-1 div.sk-estimator:hover {\n",
       "  /* unfitted */\n",
       "  background-color: var(--sklearn-color-unfitted-level-2);\n",
       "}\n",
       "\n",
       "#sk-container-id-1 div.sk-estimator.fitted:hover {\n",
       "  /* fitted */\n",
       "  background-color: var(--sklearn-color-fitted-level-2);\n",
       "}\n",
       "\n",
       "/* Specification for estimator info (e.g. \"i\" and \"?\") */\n",
       "\n",
       "/* Common style for \"i\" and \"?\" */\n",
       "\n",
       ".sk-estimator-doc-link,\n",
       "a:link.sk-estimator-doc-link,\n",
       "a:visited.sk-estimator-doc-link {\n",
       "  float: right;\n",
       "  font-size: smaller;\n",
       "  line-height: 1em;\n",
       "  font-family: monospace;\n",
       "  background-color: var(--sklearn-color-background);\n",
       "  border-radius: 1em;\n",
       "  height: 1em;\n",
       "  width: 1em;\n",
       "  text-decoration: none !important;\n",
       "  margin-left: 1ex;\n",
       "  /* unfitted */\n",
       "  border: var(--sklearn-color-unfitted-level-1) 1pt solid;\n",
       "  color: var(--sklearn-color-unfitted-level-1);\n",
       "}\n",
       "\n",
       ".sk-estimator-doc-link.fitted,\n",
       "a:link.sk-estimator-doc-link.fitted,\n",
       "a:visited.sk-estimator-doc-link.fitted {\n",
       "  /* fitted */\n",
       "  border: var(--sklearn-color-fitted-level-1) 1pt solid;\n",
       "  color: var(--sklearn-color-fitted-level-1);\n",
       "}\n",
       "\n",
       "/* On hover */\n",
       "div.sk-estimator:hover .sk-estimator-doc-link:hover,\n",
       ".sk-estimator-doc-link:hover,\n",
       "div.sk-label-container:hover .sk-estimator-doc-link:hover,\n",
       ".sk-estimator-doc-link:hover {\n",
       "  /* unfitted */\n",
       "  background-color: var(--sklearn-color-unfitted-level-3);\n",
       "  color: var(--sklearn-color-background);\n",
       "  text-decoration: none;\n",
       "}\n",
       "\n",
       "div.sk-estimator.fitted:hover .sk-estimator-doc-link.fitted:hover,\n",
       ".sk-estimator-doc-link.fitted:hover,\n",
       "div.sk-label-container:hover .sk-estimator-doc-link.fitted:hover,\n",
       ".sk-estimator-doc-link.fitted:hover {\n",
       "  /* fitted */\n",
       "  background-color: var(--sklearn-color-fitted-level-3);\n",
       "  color: var(--sklearn-color-background);\n",
       "  text-decoration: none;\n",
       "}\n",
       "\n",
       "/* Span, style for the box shown on hovering the info icon */\n",
       ".sk-estimator-doc-link span {\n",
       "  display: none;\n",
       "  z-index: 9999;\n",
       "  position: relative;\n",
       "  font-weight: normal;\n",
       "  right: .2ex;\n",
       "  padding: .5ex;\n",
       "  margin: .5ex;\n",
       "  width: min-content;\n",
       "  min-width: 20ex;\n",
       "  max-width: 50ex;\n",
       "  color: var(--sklearn-color-text);\n",
       "  box-shadow: 2pt 2pt 4pt #999;\n",
       "  /* unfitted */\n",
       "  background: var(--sklearn-color-unfitted-level-0);\n",
       "  border: .5pt solid var(--sklearn-color-unfitted-level-3);\n",
       "}\n",
       "\n",
       ".sk-estimator-doc-link.fitted span {\n",
       "  /* fitted */\n",
       "  background: var(--sklearn-color-fitted-level-0);\n",
       "  border: var(--sklearn-color-fitted-level-3);\n",
       "}\n",
       "\n",
       ".sk-estimator-doc-link:hover span {\n",
       "  display: block;\n",
       "}\n",
       "\n",
       "/* \"?\"-specific style due to the `<a>` HTML tag */\n",
       "\n",
       "#sk-container-id-1 a.estimator_doc_link {\n",
       "  float: right;\n",
       "  font-size: 1rem;\n",
       "  line-height: 1em;\n",
       "  font-family: monospace;\n",
       "  background-color: var(--sklearn-color-background);\n",
       "  border-radius: 1rem;\n",
       "  height: 1rem;\n",
       "  width: 1rem;\n",
       "  text-decoration: none;\n",
       "  /* unfitted */\n",
       "  color: var(--sklearn-color-unfitted-level-1);\n",
       "  border: var(--sklearn-color-unfitted-level-1) 1pt solid;\n",
       "}\n",
       "\n",
       "#sk-container-id-1 a.estimator_doc_link.fitted {\n",
       "  /* fitted */\n",
       "  border: var(--sklearn-color-fitted-level-1) 1pt solid;\n",
       "  color: var(--sklearn-color-fitted-level-1);\n",
       "}\n",
       "\n",
       "/* On hover */\n",
       "#sk-container-id-1 a.estimator_doc_link:hover {\n",
       "  /* unfitted */\n",
       "  background-color: var(--sklearn-color-unfitted-level-3);\n",
       "  color: var(--sklearn-color-background);\n",
       "  text-decoration: none;\n",
       "}\n",
       "\n",
       "#sk-container-id-1 a.estimator_doc_link.fitted:hover {\n",
       "  /* fitted */\n",
       "  background-color: var(--sklearn-color-fitted-level-3);\n",
       "}\n",
       "</style><div id=\"sk-container-id-1\" class=\"sk-top-container\"><div class=\"sk-text-repr-fallback\"><pre>LinearRegression()</pre><b>In a Jupyter environment, please rerun this cell to show the HTML representation or trust the notebook. <br />On GitHub, the HTML representation is unable to render, please try loading this page with nbviewer.org.</b></div><div class=\"sk-container\" hidden><div class=\"sk-item\"><div class=\"sk-estimator fitted sk-toggleable\"><input class=\"sk-toggleable__control sk-hidden--visually\" id=\"sk-estimator-id-1\" type=\"checkbox\" checked><label for=\"sk-estimator-id-1\" class=\"sk-toggleable__label fitted sk-toggleable__label-arrow fitted\">&nbsp;&nbsp;LinearRegression<a class=\"sk-estimator-doc-link fitted\" rel=\"noreferrer\" target=\"_blank\" href=\"https://scikit-learn.org/1.5/modules/generated/sklearn.linear_model.LinearRegression.html\">?<span>Documentation for LinearRegression</span></a><span class=\"sk-estimator-doc-link fitted\">i<span>Fitted</span></span></label><div class=\"sk-toggleable__content fitted\"><pre>LinearRegression()</pre></div> </div></div></div></div>"
      ],
      "text/plain": [
       "LinearRegression()"
      ]
     },
     "execution_count": 5,
     "metadata": {},
     "output_type": "execute_result"
    }
   ],
   "source": [
    "X_train, X_test, y_train, y_test = train_test_split(X, y, test_size = 0.2, random_state = 42)\n",
    "model = LinearRegression()\n",
    "model.fit(X_train, y_train)"
   ]
  },
  {
   "cell_type": "markdown",
   "metadata": {},
   "source": [
    "#### Now let's make our predictions and see where we end up."
   ]
  },
  {
   "cell_type": "code",
   "execution_count": 6,
   "metadata": {},
   "outputs": [],
   "source": [
    "y_pred = model.predict(X_test)"
   ]
  },
  {
   "cell_type": "markdown",
   "metadata": {},
   "source": [
    "#### Let's retrieve our MAE and RMSE metrics for performance."
   ]
  },
  {
   "cell_type": "code",
   "execution_count": 7,
   "metadata": {},
   "outputs": [
    {
     "name": "stdout",
     "output_type": "stream",
     "text": [
      "Mean Absolute Error (MAE): 0.031033831848107617\n",
      "Root Mean Squared Error (RMSE): 0.0016634245948400623\n"
     ]
    }
   ],
   "source": [
    "mae = mean_absolute_error(y_test, y_pred)\n",
    "rmse = mean_squared_error(y_test, y_pred)\n",
    "\n",
    "print(f'Mean Absolute Error (MAE): {mae}')\n",
    "print(f'Root Mean Squared Error (RMSE): {rmse}')"
   ]
  },
  {
   "cell_type": "markdown",
   "metadata": {},
   "source": [
    "#### Great scores, let's verify with cross validation just to make sure that our data isn't being misinterpreted by the model."
   ]
  },
  {
   "cell_type": "code",
   "execution_count": 8,
   "metadata": {},
   "outputs": [
    {
     "name": "stdout",
     "output_type": "stream",
     "text": [
      "Cross-validated RMSE Scores: [0.0854865  0.0437734  0.04285629 0.05828226 0.0478576 ]\n",
      "Mean RMSE: 0.05565120847581825\n"
     ]
    }
   ],
   "source": [
    "scores = cross_val_score(model, X, y, cv = 5, scoring = 'neg_mean_squared_error')\n",
    "rmse_scores = np.sqrt(-scores)\n",
    "\n",
    "print(f'Cross-validated RMSE Scores: {rmse_scores}')\n",
    "print(f'Mean RMSE: {rmse_scores.mean()}')"
   ]
  },
  {
   "cell_type": "markdown",
   "metadata": {},
   "source": [
    "#### Our original scores were quite unrealistic, we have since tested with our model and the scores above reflect a great resting place to go forward with.  5.5 cents of error in our MSFT data in predicting future prices, not too bad!"
   ]
  },
  {
   "cell_type": "code",
   "execution_count": 9,
   "metadata": {},
   "outputs": [
    {
     "name": "stdout",
     "output_type": "stream",
     "text": [
      "Close_Lag_1    0.998071\n",
      "EMA_core       0.989850\n",
      "SMA_core       0.968163\n",
      "RSI_core      -0.018684\n",
      "dtype: float64\n"
     ]
    }
   ],
   "source": [
    "correlations = X.corrwith(y)\n",
    "print(correlations.sort_values(ascending = False))"
   ]
  },
  {
   "cell_type": "markdown",
   "metadata": {},
   "source": [
    "#### There are several feature columns that are influencing our Close target because they are correlating too well.  Let's go back to our X and y assignment at the top of our notebook and drop some more of those columns to balance our score."
   ]
  },
  {
   "cell_type": "markdown",
   "metadata": {},
   "source": [
    "#### Now that our predictions look good let's make a few plots to visualize our results, starting with a plot that shows Actual vs Predicted values."
   ]
  },
  {
   "cell_type": "code",
   "execution_count": 10,
   "metadata": {},
   "outputs": [
    {
     "data": {
      "application/vnd.plotly.v1+json": {
       "config": {
        "plotlyServerURL": "https://plot.ly"
       },
       "data": [
        {
         "mode": "markers",
         "name": "Predicted vs Actual",
         "type": "scatter",
         "x": [
          0.036192368916723,
          1.971035305091276,
          0.2313601980654845,
          1.6412867552726873,
          1.7669299125173936,
          1.570930837006287,
          -0.1870347029023642,
          -0.0423735739898995,
          1.9871432801937172,
          0.7370507144873522,
          1.5846487805991398,
          2.0044986005625085,
          1.7753476694610637,
          -0.2688223201166136,
          0.1448961461223657,
          0.1152779597305192,
          1.4276206023633409,
          1.7222430468374532,
          2.019567279850602,
          -0.0063121975570764,
          0.0635242313764274,
          -0.0390481128176875,
          1.041961458081826,
          0.7521195523497229,
          0.7366350913061794,
          1.958044900283322,
          0.3854783797359664,
          0.9593425152180928,
          0.1620434170391543,
          1.223307477486011,
          1.629231621553079,
          1.1281139115697738,
          1.092779915347572,
          2.214527376695916,
          1.118968615841205,
          1.0991192392368243,
          0.6859205001921574,
          0.1275409843278522,
          1.1155391299429918,
          2.3331038298407494,
          1.8169169648465169,
          1.9242698477826408,
          1.4830118660676486,
          0.1745141739399348,
          -0.0194064685167544,
          1.3289975505488905,
          0.1316978504366866,
          0.1018719317413925,
          1.1932738264872695,
          1.1826734531889038,
          0.981893838935788,
          0.6925715811108589,
          1.2812968221519092,
          -0.1484792702339514,
          -0.3293056417309628,
          1.168228287959707,
          -0.2997914800651174,
          0.9618367300279602,
          -0.0656524364924933,
          0.6957931761313472,
          1.9471327699555077,
          0.7072247957920581,
          -0.2510514558537889,
          1.3628763106270176,
          0.8876355441078965,
          0.0799441220825948,
          1.231829259155682,
          0.9717094059671496,
          -0.2447121319645361,
          0.6278274479488126,
          1.965631093716092,
          0.7231250385910513,
          2.102290406014614,
          -0.3665101801298567,
          1.1315433974679867,
          1.6183198083738195,
          1.371606141748691,
          1.7321155642023651,
          1.1624084534033507,
          0.6142133705076839,
          0.7051462041633633,
          -0.0830075982870068,
          1.1412081825294516,
          -0.0860213024297701,
          0.4060551365509684,
          2.6025767110612974,
          2.731961269807944,
          1.4931961404620095,
          0.0746439354334119,
          1.6692421317912884,
          1.865865038509848,
          2.0356755721015984,
          1.1447415345793888,
          1.3958201167653537,
          1.5106551684082468,
          -0.2438807270279138,
          2.7633459736504804,
          2.018632008762256,
          1.1002624012028952,
          0.6735536094431007,
          2.630012598247003,
          0.7359075525212808,
          -0.343439208504988,
          0.6790615283957311,
          -0.2336962940592752,
          1.5070181087808634,
          1.1385062354161373,
          1.91574806611297,
          2.0630074345613028,
          1.743547183863076,
          1.0346868631042272,
          2.9218289123075216,
          1.081348454261139,
          1.983402195840333,
          0.0666419602451919,
          0.6368687189513803,
          2.357317804857411,
          0.2778138983446709,
          1.0844660245556257,
          0.7676041719675445,
          -0.1922308648255459,
          1.646067135440419,
          0.3144987888363914,
          3.1086830092386157,
          1.0291789441515968,
          1.0355182680408497,
          1.880102471435597,
          0.8805686814337453,
          0.5937406384186833,
          1.5955605937783994,
          0.9563288110753296,
          2.921621180004075,
          1.889559524193614,
          0.8131224425841074,
          1.429387436962587,
          1.0471576200050077,
          -0.076876165275479,
          0.8225794953421249,
          2.983455316600803,
          1.1231254819500398,
          0.3789311649689887,
          2.436091797216036,
          1.78262242301294,
          2.9211013735226232,
          0.6440394477772551,
          0.4728778613417088,
          1.551289192705354,
          -0.2771362109085598,
          2.7446399175864484,
          1.2808810403964594,
          -0.3763828560690465,
          -0.1623010006913892,
          0.4103160273858037,
          1.681297265510897,
          1.189428717407884,
          2.0703858956906256,
          1.798314933508486,
          1.9863120338313724,
          0.7482744432703375,
          1.636922156860405,
          1.5102397038013518,
          0.8554192767544594,
          0.6928833381403079,
          2.039728413484432,
          0.4173828900599547,
          0.9770094340420552,
          1.8024717996173203,
          -0.1334102737973026,
          1.3815826838396046,
          0.9797115397296472,
          1.665292997985902,
          2.418632769269799,
          -0.1241611119170103,
          1.9572133367724225,
          1.6241394843558987,
          1.4656565456988575,
          0.6632651517484613,
          1.0957937780646123,
          1.7249451525250452,
          1.8653452320283967,
          -0.0614954118093815,
          0.4309968089268063,
          1.0882072674832877,
          0.4203965942027183,
          0.9931175677187738,
          1.3412604165719462,
          1.0707482395370502,
          1.2591611216153866,
          1.9378837666494928,
          1.3195404977908731,
          3.098394392969697,
          1.290961607213374,
          1.429906926295483,
          1.4220086586847096,
          2.8788048565008264,
          -0.0632620878343499,
          1.7040564801063174,
          1.0161885393436425,
          1.7134095081383327,
          1.4692939224747958,
          1.921567742095049,
          1.8428977744624253,
          1.0289710532738718,
          -0.2678869697411288,
          1.5137730558512887,
          0.8917924102167311,
          1.0822837253494846,
          2.716892273371294,
          1.2074072346870173,
          0.0377513126382439,
          1.7871950708772242,
          -0.1862033772528804,
          -0.0984920593305506,
          2.9284801518005006,
          1.1329983164635065,
          1.7490551028157064,
          0.7921300625879328,
          2.351082664268437,
          1.133517805796403,
          2.9559157218376515,
          2.048354219880104,
          0.4164474603973317,
          1.0209689195113745,
          1.1305041016536397,
          -0.0673150877914605,
          1.5175141402046732,
          0.2051714975718512,
          1.9644880903242985,
          1.3947808209510064,
          1.5887016219819723,
          -0.1141845698260968,
          1.950874171457447,
          1.9155403338095225,
          1.2336998013323743,
          -0.0760447603388566,
          0.6296979901255052,
          1.205432667784324,
          0.9736839728698432,
          1.7024976949590738,
          1.9831941463883305,
          1.5773740270472636,
          1.3934297681072103,
          -0.380643746903882,
          0.0480396117586061,
          1.2061602065692223,
          0.2062107933861985,
          0.0325551507150623,
          1.7709830710487815,
          -0.3659905322226832,
          2.688936896852693,
          -0.0007004124527223,
          1.104627158189455,
          0.4137455132840169,
          1.1995089670762435,
          1.4406110071712948,
          0.0678889883629867,
          0.1080033647529203,
          1.4607721408051246,
          0.394519650738534,
          1.33190738853993,
          1.0016393493884448,
          0.2556781978081482,
          0.3962864853377796,
          1.631517945485221,
          0.9991451345785778,
          1.631933727240671,
          -0.3007267511534635,
          -0.0982843270271031,
          0.4818152661925523,
          1.1481710204776017,
          2.2838443162965247,
          1.0146297541963991,
          2.0019005196009174,
          0.5496771282233628,
          0.9605895433358878,
          1.2266330972325006,
          2.731961269807944
         ],
         "y": [
          0.06076918774419346,
          1.9483630179430822,
          0.24711411854851473,
          1.6442744080806686,
          1.7418305279116044,
          1.562037383899224,
          -0.15666612806045996,
          -0.07460321544470674,
          1.9185540568027775,
          0.7219010403266799,
          1.642559272440433,
          2.00225416715263,
          1.8083842798220164,
          -0.2559109631259766,
          0.194439000084213,
          0.12510741500033473,
          1.4820093227261706,
          1.7882045881558897,
          2.1051001114789036,
          0.011619059094028363,
          0.09472493189198711,
          -0.052977874145612974,
          1.0503409260054788,
          0.7213746150251649,
          0.7065541532232795,
          1.8819314436720447,
          0.36851636805510124,
          0.9621025887792645,
          0.17068862387556383,
          1.1905505001585714,
          1.6417570043346923,
          1.246347255933974,
          1.105917819525861,
          2.17071537630906,
          1.0580024243950392,
          1.1321288990142002,
          0.6850649115745557,
          0.13207353128533258,
          1.072861910295048,
          2.335044538575316,
          1.7855629523928602,
          1.9365719530646142,
          1.4813958351787715,
          0.0860652751734686,
          -0.038782643138229,
          1.2530367302503556,
          0.062410190492922527,
          0.10537298870876063,
          1.2290795101077614,
          1.175993923252884,
          1.0401206670102674,
          0.7579206278300601,
          1.2881372413220116,
          -0.13172902635589653,
          -0.3220402525060404,
          1.155532397875193,
          -0.27883018468201715,
          0.9162602741854695,
          -0.06527253577965039,
          0.7369301928243717,
          1.9865836529604515,
          0.693652024881735,
          -0.2548108523770488,
          1.4041230048837372,
          0.8855345331736044,
          0.07045493875396226,
          1.2309579712951464,
          0.903237508102523,
          -0.2547541783402827,
          0.5788757874382575,
          1.9043903513728246,
          0.7335552043305457,
          2.0984166700883073,
          -0.38261571473279066,
          1.1156949832551806,
          1.6435363951108184,
          1.3906908208396673,
          1.7310049577680997,
          1.1067187557702143,
          0.5764570058757423,
          0.6411607973268553,
          -0.10138429885859111,
          1.12464228606749,
          -0.08869973349495229,
          0.42533156507734565,
          2.5747660493024744,
          2.6804345735353863,
          1.4593251652062313,
          0.15245528521931445,
          1.6344947872592956,
          1.8476784732305305,
          2.0417694798539743,
          1.1666196457931022,
          1.4663659111280904,
          1.473725631247715,
          -0.2356554708620599,
          2.8083311872548644,
          2.003738156683519,
          1.1044265357139786,
          0.6792391450142683,
          2.644065229269007,
          0.7560886918327332,
          -0.3442123338739208,
          0.6443123682028763,
          -0.21807747469364921,
          1.4863733501737784,
          1.2999923957843371,
          1.9041377880309782,
          2.0365436071147487,
          1.727584058478841,
          1.0146106339268,
          2.929373166047118,
          1.1342448237355045,
          1.9410470716280976,
          0.07213682689078184,
          0.6095561859341044,
          2.3034814148414684,
          0.2295527308665823,
          1.0881763898056065,
          0.8717379906495776,
          -0.19970233612097352,
          1.6481510387430345,
          0.2540380146717793,
          3.0859645189596683,
          1.0489911001914805,
          1.0335254835434227,
          1.8879892298619985,
          0.9691303895905843,
          0.5394817851970267,
          1.6513558513805109,
          0.9885794249410482,
          2.907295915901772,
          1.8445441178879816,
          0.8599572690410295,
          1.4184388372921726,
          1.0426523478186032,
          -0.08249465900641251,
          0.8012514852775081,
          3.0171029371403257,
          1.1328459503917676,
          0.37755874850177135,
          2.3774389183033104,
          1.774235933473462,
          2.9216836979786684,
          0.6331325541196026,
          0.4586817507464306,
          1.563928770627538,
          -0.24474138922009614,
          2.748919040120361,
          1.3021012068234044,
          -0.4280825568008653,
          -0.20351224625411926,
          0.42135634769977215,
          1.6760727796988002,
          1.213222310434812,
          1.9944235442969394,
          1.7828555886116986,
          1.9050830556764287,
          0.7470060830559426,
          1.7214191311366829,
          1.4485176825841777,
          0.9043501204557456,
          0.7125344817449324,
          1.9480173388265687,
          0.3742096767508314,
          1.01799802387151,
          1.8075786033325616,
          -0.08158683988133324,
          1.4093544236977817,
          0.9505545022645572,
          1.7094091268225768,
          2.3740010270432323,
          -0.12836897345249187,
          2.0289917692377273,
          1.6194730341329269,
          1.4490030531337301,
          0.6714217870930084,
          1.0546955405919527,
          1.7692884269016433,
          1.8543332113333073,
          -0.08315047854245547,
          0.4246713223822338,
          1.015461712567523,
          0.4092121293849535,
          1.021371923757898,
          1.3456728609129853,
          1.0352997511584947,
          1.161157642125733,
          2.005659967143103,
          1.407107064075666,
          3.0828328621253176,
          1.3489976558808234,
          1.4537283866165647,
          1.516710297375288,
          2.8862520866040597,
          0.012183933838340218,
          1.7475841397017287,
          1.0404284412840397,
          1.7976773447906451,
          1.4551847204610442,
          1.987863252976128,
          1.919196655546248,
          1.068772124982622,
          -0.2559515947924895,
          1.4573658858497662,
          0.980955476474767,
          1.121782005605489,
          2.727508414240268,
          1.2359101325539825,
          0.07748540116862423,
          1.7681696057987297,
          -0.16397356323840295,
          -0.10742248495467288,
          2.875594668860703,
          1.079008628589834,
          1.725690123054059,
          0.8053429846840825,
          2.265382887795602,
          1.122684896882028,
          2.920768380936963,
          1.981733912647139,
          0.4074788398911974,
          1.03434677258454,
          1.1375418759485438,
          -0.059949354646854996,
          1.539127168126456,
          0.20090651764291878,
          1.9315282002451095,
          1.3607021645942827,
          1.5495936535439632,
          -0.11216500227172613,
          1.991072279576352,
          1.9534323158597857,
          1.2796003086954588,
          -0.0972553363675225,
          0.6422348913112871,
          1.2340203947382138,
          0.9156849407132985,
          1.6329832824444006,
          1.9941689372100755,
          1.5893264231511113,
          1.516805548870932,
          -0.42542230250559643,
          0.07985246353923045,
          1.1916171115249456,
          0.19771723337970837,
          -0.020691695672753904,
          1.7600152164344411,
          -0.4090366346818619,
          2.6921021816872717,
          0.009383033991990825,
          1.0365505571162263,
          0.36788071045852455,
          1.1670181073141621,
          1.5021315671232833,
          0.07964586114254146,
          0.15300428415591297,
          1.4539044534291476,
          0.36598609401634835,
          1.3452660853540477,
          1.0146552488992329,
          0.24121012179092016,
          0.39154805157563327,
          1.6011913884871136,
          0.9842021958980427,
          1.6409132215126276,
          -0.3070210869544288,
          -0.09023206168720016,
          0.46751224641819467,
          1.1105574771009263,
          2.2457627999633085,
          0.9974674750744914,
          2.01465136232933,
          0.5636350501115128,
          0.9394709782071113,
          1.216043412893491,
          2.7726135618220527
         ]
        },
        {
         "mode": "lines",
         "name": "Ideal Line",
         "type": "scatter",
         "x": [
          0.036192368916723,
          1.971035305091276,
          0.2313601980654845,
          1.6412867552726873,
          1.7669299125173936,
          1.570930837006287,
          -0.1870347029023642,
          -0.0423735739898995,
          1.9871432801937172,
          0.7370507144873522,
          1.5846487805991398,
          2.0044986005625085,
          1.7753476694610637,
          -0.2688223201166136,
          0.1448961461223657,
          0.1152779597305192,
          1.4276206023633409,
          1.7222430468374532,
          2.019567279850602,
          -0.0063121975570764,
          0.0635242313764274,
          -0.0390481128176875,
          1.041961458081826,
          0.7521195523497229,
          0.7366350913061794,
          1.958044900283322,
          0.3854783797359664,
          0.9593425152180928,
          0.1620434170391543,
          1.223307477486011,
          1.629231621553079,
          1.1281139115697738,
          1.092779915347572,
          2.214527376695916,
          1.118968615841205,
          1.0991192392368243,
          0.6859205001921574,
          0.1275409843278522,
          1.1155391299429918,
          2.3331038298407494,
          1.8169169648465169,
          1.9242698477826408,
          1.4830118660676486,
          0.1745141739399348,
          -0.0194064685167544,
          1.3289975505488905,
          0.1316978504366866,
          0.1018719317413925,
          1.1932738264872695,
          1.1826734531889038,
          0.981893838935788,
          0.6925715811108589,
          1.2812968221519092,
          -0.1484792702339514,
          -0.3293056417309628,
          1.168228287959707,
          -0.2997914800651174,
          0.9618367300279602,
          -0.0656524364924933,
          0.6957931761313472,
          1.9471327699555077,
          0.7072247957920581,
          -0.2510514558537889,
          1.3628763106270176,
          0.8876355441078965,
          0.0799441220825948,
          1.231829259155682,
          0.9717094059671496,
          -0.2447121319645361,
          0.6278274479488126,
          1.965631093716092,
          0.7231250385910513,
          2.102290406014614,
          -0.3665101801298567,
          1.1315433974679867,
          1.6183198083738195,
          1.371606141748691,
          1.7321155642023651,
          1.1624084534033507,
          0.6142133705076839,
          0.7051462041633633,
          -0.0830075982870068,
          1.1412081825294516,
          -0.0860213024297701,
          0.4060551365509684,
          2.6025767110612974,
          2.731961269807944,
          1.4931961404620095,
          0.0746439354334119,
          1.6692421317912884,
          1.865865038509848,
          2.0356755721015984,
          1.1447415345793888,
          1.3958201167653537,
          1.5106551684082468,
          -0.2438807270279138,
          2.7633459736504804,
          2.018632008762256,
          1.1002624012028952,
          0.6735536094431007,
          2.630012598247003,
          0.7359075525212808,
          -0.343439208504988,
          0.6790615283957311,
          -0.2336962940592752,
          1.5070181087808634,
          1.1385062354161373,
          1.91574806611297,
          2.0630074345613028,
          1.743547183863076,
          1.0346868631042272,
          2.9218289123075216,
          1.081348454261139,
          1.983402195840333,
          0.0666419602451919,
          0.6368687189513803,
          2.357317804857411,
          0.2778138983446709,
          1.0844660245556257,
          0.7676041719675445,
          -0.1922308648255459,
          1.646067135440419,
          0.3144987888363914,
          3.1086830092386157,
          1.0291789441515968,
          1.0355182680408497,
          1.880102471435597,
          0.8805686814337453,
          0.5937406384186833,
          1.5955605937783994,
          0.9563288110753296,
          2.921621180004075,
          1.889559524193614,
          0.8131224425841074,
          1.429387436962587,
          1.0471576200050077,
          -0.076876165275479,
          0.8225794953421249,
          2.983455316600803,
          1.1231254819500398,
          0.3789311649689887,
          2.436091797216036,
          1.78262242301294,
          2.9211013735226232,
          0.6440394477772551,
          0.4728778613417088,
          1.551289192705354,
          -0.2771362109085598,
          2.7446399175864484,
          1.2808810403964594,
          -0.3763828560690465,
          -0.1623010006913892,
          0.4103160273858037,
          1.681297265510897,
          1.189428717407884,
          2.0703858956906256,
          1.798314933508486,
          1.9863120338313724,
          0.7482744432703375,
          1.636922156860405,
          1.5102397038013518,
          0.8554192767544594,
          0.6928833381403079,
          2.039728413484432,
          0.4173828900599547,
          0.9770094340420552,
          1.8024717996173203,
          -0.1334102737973026,
          1.3815826838396046,
          0.9797115397296472,
          1.665292997985902,
          2.418632769269799,
          -0.1241611119170103,
          1.9572133367724225,
          1.6241394843558987,
          1.4656565456988575,
          0.6632651517484613,
          1.0957937780646123,
          1.7249451525250452,
          1.8653452320283967,
          -0.0614954118093815,
          0.4309968089268063,
          1.0882072674832877,
          0.4203965942027183,
          0.9931175677187738,
          1.3412604165719462,
          1.0707482395370502,
          1.2591611216153866,
          1.9378837666494928,
          1.3195404977908731,
          3.098394392969697,
          1.290961607213374,
          1.429906926295483,
          1.4220086586847096,
          2.8788048565008264,
          -0.0632620878343499,
          1.7040564801063174,
          1.0161885393436425,
          1.7134095081383327,
          1.4692939224747958,
          1.921567742095049,
          1.8428977744624253,
          1.0289710532738718,
          -0.2678869697411288,
          1.5137730558512887,
          0.8917924102167311,
          1.0822837253494846,
          2.716892273371294,
          1.2074072346870173,
          0.0377513126382439,
          1.7871950708772242,
          -0.1862033772528804,
          -0.0984920593305506,
          2.9284801518005006,
          1.1329983164635065,
          1.7490551028157064,
          0.7921300625879328,
          2.351082664268437,
          1.133517805796403,
          2.9559157218376515,
          2.048354219880104,
          0.4164474603973317,
          1.0209689195113745,
          1.1305041016536397,
          -0.0673150877914605,
          1.5175141402046732,
          0.2051714975718512,
          1.9644880903242985,
          1.3947808209510064,
          1.5887016219819723,
          -0.1141845698260968,
          1.950874171457447,
          1.9155403338095225,
          1.2336998013323743,
          -0.0760447603388566,
          0.6296979901255052,
          1.205432667784324,
          0.9736839728698432,
          1.7024976949590738,
          1.9831941463883305,
          1.5773740270472636,
          1.3934297681072103,
          -0.380643746903882,
          0.0480396117586061,
          1.2061602065692223,
          0.2062107933861985,
          0.0325551507150623,
          1.7709830710487815,
          -0.3659905322226832,
          2.688936896852693,
          -0.0007004124527223,
          1.104627158189455,
          0.4137455132840169,
          1.1995089670762435,
          1.4406110071712948,
          0.0678889883629867,
          0.1080033647529203,
          1.4607721408051246,
          0.394519650738534,
          1.33190738853993,
          1.0016393493884448,
          0.2556781978081482,
          0.3962864853377796,
          1.631517945485221,
          0.9991451345785778,
          1.631933727240671,
          -0.3007267511534635,
          -0.0982843270271031,
          0.4818152661925523,
          1.1481710204776017,
          2.2838443162965247,
          1.0146297541963991,
          2.0019005196009174,
          0.5496771282233628,
          0.9605895433358878,
          1.2266330972325006,
          2.731961269807944
         ],
         "y": [
          0.036192368916723,
          1.971035305091276,
          0.2313601980654845,
          1.6412867552726873,
          1.7669299125173936,
          1.570930837006287,
          -0.1870347029023642,
          -0.0423735739898995,
          1.9871432801937172,
          0.7370507144873522,
          1.5846487805991398,
          2.0044986005625085,
          1.7753476694610637,
          -0.2688223201166136,
          0.1448961461223657,
          0.1152779597305192,
          1.4276206023633409,
          1.7222430468374532,
          2.019567279850602,
          -0.0063121975570764,
          0.0635242313764274,
          -0.0390481128176875,
          1.041961458081826,
          0.7521195523497229,
          0.7366350913061794,
          1.958044900283322,
          0.3854783797359664,
          0.9593425152180928,
          0.1620434170391543,
          1.223307477486011,
          1.629231621553079,
          1.1281139115697738,
          1.092779915347572,
          2.214527376695916,
          1.118968615841205,
          1.0991192392368243,
          0.6859205001921574,
          0.1275409843278522,
          1.1155391299429918,
          2.3331038298407494,
          1.8169169648465169,
          1.9242698477826408,
          1.4830118660676486,
          0.1745141739399348,
          -0.0194064685167544,
          1.3289975505488905,
          0.1316978504366866,
          0.1018719317413925,
          1.1932738264872695,
          1.1826734531889038,
          0.981893838935788,
          0.6925715811108589,
          1.2812968221519092,
          -0.1484792702339514,
          -0.3293056417309628,
          1.168228287959707,
          -0.2997914800651174,
          0.9618367300279602,
          -0.0656524364924933,
          0.6957931761313472,
          1.9471327699555077,
          0.7072247957920581,
          -0.2510514558537889,
          1.3628763106270176,
          0.8876355441078965,
          0.0799441220825948,
          1.231829259155682,
          0.9717094059671496,
          -0.2447121319645361,
          0.6278274479488126,
          1.965631093716092,
          0.7231250385910513,
          2.102290406014614,
          -0.3665101801298567,
          1.1315433974679867,
          1.6183198083738195,
          1.371606141748691,
          1.7321155642023651,
          1.1624084534033507,
          0.6142133705076839,
          0.7051462041633633,
          -0.0830075982870068,
          1.1412081825294516,
          -0.0860213024297701,
          0.4060551365509684,
          2.6025767110612974,
          2.731961269807944,
          1.4931961404620095,
          0.0746439354334119,
          1.6692421317912884,
          1.865865038509848,
          2.0356755721015984,
          1.1447415345793888,
          1.3958201167653537,
          1.5106551684082468,
          -0.2438807270279138,
          2.7633459736504804,
          2.018632008762256,
          1.1002624012028952,
          0.6735536094431007,
          2.630012598247003,
          0.7359075525212808,
          -0.343439208504988,
          0.6790615283957311,
          -0.2336962940592752,
          1.5070181087808634,
          1.1385062354161373,
          1.91574806611297,
          2.0630074345613028,
          1.743547183863076,
          1.0346868631042272,
          2.9218289123075216,
          1.081348454261139,
          1.983402195840333,
          0.0666419602451919,
          0.6368687189513803,
          2.357317804857411,
          0.2778138983446709,
          1.0844660245556257,
          0.7676041719675445,
          -0.1922308648255459,
          1.646067135440419,
          0.3144987888363914,
          3.1086830092386157,
          1.0291789441515968,
          1.0355182680408497,
          1.880102471435597,
          0.8805686814337453,
          0.5937406384186833,
          1.5955605937783994,
          0.9563288110753296,
          2.921621180004075,
          1.889559524193614,
          0.8131224425841074,
          1.429387436962587,
          1.0471576200050077,
          -0.076876165275479,
          0.8225794953421249,
          2.983455316600803,
          1.1231254819500398,
          0.3789311649689887,
          2.436091797216036,
          1.78262242301294,
          2.9211013735226232,
          0.6440394477772551,
          0.4728778613417088,
          1.551289192705354,
          -0.2771362109085598,
          2.7446399175864484,
          1.2808810403964594,
          -0.3763828560690465,
          -0.1623010006913892,
          0.4103160273858037,
          1.681297265510897,
          1.189428717407884,
          2.0703858956906256,
          1.798314933508486,
          1.9863120338313724,
          0.7482744432703375,
          1.636922156860405,
          1.5102397038013518,
          0.8554192767544594,
          0.6928833381403079,
          2.039728413484432,
          0.4173828900599547,
          0.9770094340420552,
          1.8024717996173203,
          -0.1334102737973026,
          1.3815826838396046,
          0.9797115397296472,
          1.665292997985902,
          2.418632769269799,
          -0.1241611119170103,
          1.9572133367724225,
          1.6241394843558987,
          1.4656565456988575,
          0.6632651517484613,
          1.0957937780646123,
          1.7249451525250452,
          1.8653452320283967,
          -0.0614954118093815,
          0.4309968089268063,
          1.0882072674832877,
          0.4203965942027183,
          0.9931175677187738,
          1.3412604165719462,
          1.0707482395370502,
          1.2591611216153866,
          1.9378837666494928,
          1.3195404977908731,
          3.098394392969697,
          1.290961607213374,
          1.429906926295483,
          1.4220086586847096,
          2.8788048565008264,
          -0.0632620878343499,
          1.7040564801063174,
          1.0161885393436425,
          1.7134095081383327,
          1.4692939224747958,
          1.921567742095049,
          1.8428977744624253,
          1.0289710532738718,
          -0.2678869697411288,
          1.5137730558512887,
          0.8917924102167311,
          1.0822837253494846,
          2.716892273371294,
          1.2074072346870173,
          0.0377513126382439,
          1.7871950708772242,
          -0.1862033772528804,
          -0.0984920593305506,
          2.9284801518005006,
          1.1329983164635065,
          1.7490551028157064,
          0.7921300625879328,
          2.351082664268437,
          1.133517805796403,
          2.9559157218376515,
          2.048354219880104,
          0.4164474603973317,
          1.0209689195113745,
          1.1305041016536397,
          -0.0673150877914605,
          1.5175141402046732,
          0.2051714975718512,
          1.9644880903242985,
          1.3947808209510064,
          1.5887016219819723,
          -0.1141845698260968,
          1.950874171457447,
          1.9155403338095225,
          1.2336998013323743,
          -0.0760447603388566,
          0.6296979901255052,
          1.205432667784324,
          0.9736839728698432,
          1.7024976949590738,
          1.9831941463883305,
          1.5773740270472636,
          1.3934297681072103,
          -0.380643746903882,
          0.0480396117586061,
          1.2061602065692223,
          0.2062107933861985,
          0.0325551507150623,
          1.7709830710487815,
          -0.3659905322226832,
          2.688936896852693,
          -0.0007004124527223,
          1.104627158189455,
          0.4137455132840169,
          1.1995089670762435,
          1.4406110071712948,
          0.0678889883629867,
          0.1080033647529203,
          1.4607721408051246,
          0.394519650738534,
          1.33190738853993,
          1.0016393493884448,
          0.2556781978081482,
          0.3962864853377796,
          1.631517945485221,
          0.9991451345785778,
          1.631933727240671,
          -0.3007267511534635,
          -0.0982843270271031,
          0.4818152661925523,
          1.1481710204776017,
          2.2838443162965247,
          1.0146297541963991,
          2.0019005196009174,
          0.5496771282233628,
          0.9605895433358878,
          1.2266330972325006,
          2.731961269807944
         ]
        }
       ],
       "layout": {
        "template": {
         "data": {
          "bar": [
           {
            "error_x": {
             "color": "#f2f5fa"
            },
            "error_y": {
             "color": "#f2f5fa"
            },
            "marker": {
             "line": {
              "color": "rgb(17,17,17)",
              "width": 0.5
             },
             "pattern": {
              "fillmode": "overlay",
              "size": 10,
              "solidity": 0.2
             }
            },
            "type": "bar"
           }
          ],
          "barpolar": [
           {
            "marker": {
             "line": {
              "color": "rgb(17,17,17)",
              "width": 0.5
             },
             "pattern": {
              "fillmode": "overlay",
              "size": 10,
              "solidity": 0.2
             }
            },
            "type": "barpolar"
           }
          ],
          "carpet": [
           {
            "aaxis": {
             "endlinecolor": "#A2B1C6",
             "gridcolor": "#506784",
             "linecolor": "#506784",
             "minorgridcolor": "#506784",
             "startlinecolor": "#A2B1C6"
            },
            "baxis": {
             "endlinecolor": "#A2B1C6",
             "gridcolor": "#506784",
             "linecolor": "#506784",
             "minorgridcolor": "#506784",
             "startlinecolor": "#A2B1C6"
            },
            "type": "carpet"
           }
          ],
          "choropleth": [
           {
            "colorbar": {
             "outlinewidth": 0,
             "ticks": ""
            },
            "type": "choropleth"
           }
          ],
          "contour": [
           {
            "colorbar": {
             "outlinewidth": 0,
             "ticks": ""
            },
            "colorscale": [
             [
              0,
              "#0d0887"
             ],
             [
              0.1111111111111111,
              "#46039f"
             ],
             [
              0.2222222222222222,
              "#7201a8"
             ],
             [
              0.3333333333333333,
              "#9c179e"
             ],
             [
              0.4444444444444444,
              "#bd3786"
             ],
             [
              0.5555555555555556,
              "#d8576b"
             ],
             [
              0.6666666666666666,
              "#ed7953"
             ],
             [
              0.7777777777777778,
              "#fb9f3a"
             ],
             [
              0.8888888888888888,
              "#fdca26"
             ],
             [
              1,
              "#f0f921"
             ]
            ],
            "type": "contour"
           }
          ],
          "contourcarpet": [
           {
            "colorbar": {
             "outlinewidth": 0,
             "ticks": ""
            },
            "type": "contourcarpet"
           }
          ],
          "heatmap": [
           {
            "colorbar": {
             "outlinewidth": 0,
             "ticks": ""
            },
            "colorscale": [
             [
              0,
              "#0d0887"
             ],
             [
              0.1111111111111111,
              "#46039f"
             ],
             [
              0.2222222222222222,
              "#7201a8"
             ],
             [
              0.3333333333333333,
              "#9c179e"
             ],
             [
              0.4444444444444444,
              "#bd3786"
             ],
             [
              0.5555555555555556,
              "#d8576b"
             ],
             [
              0.6666666666666666,
              "#ed7953"
             ],
             [
              0.7777777777777778,
              "#fb9f3a"
             ],
             [
              0.8888888888888888,
              "#fdca26"
             ],
             [
              1,
              "#f0f921"
             ]
            ],
            "type": "heatmap"
           }
          ],
          "heatmapgl": [
           {
            "colorbar": {
             "outlinewidth": 0,
             "ticks": ""
            },
            "colorscale": [
             [
              0,
              "#0d0887"
             ],
             [
              0.1111111111111111,
              "#46039f"
             ],
             [
              0.2222222222222222,
              "#7201a8"
             ],
             [
              0.3333333333333333,
              "#9c179e"
             ],
             [
              0.4444444444444444,
              "#bd3786"
             ],
             [
              0.5555555555555556,
              "#d8576b"
             ],
             [
              0.6666666666666666,
              "#ed7953"
             ],
             [
              0.7777777777777778,
              "#fb9f3a"
             ],
             [
              0.8888888888888888,
              "#fdca26"
             ],
             [
              1,
              "#f0f921"
             ]
            ],
            "type": "heatmapgl"
           }
          ],
          "histogram": [
           {
            "marker": {
             "pattern": {
              "fillmode": "overlay",
              "size": 10,
              "solidity": 0.2
             }
            },
            "type": "histogram"
           }
          ],
          "histogram2d": [
           {
            "colorbar": {
             "outlinewidth": 0,
             "ticks": ""
            },
            "colorscale": [
             [
              0,
              "#0d0887"
             ],
             [
              0.1111111111111111,
              "#46039f"
             ],
             [
              0.2222222222222222,
              "#7201a8"
             ],
             [
              0.3333333333333333,
              "#9c179e"
             ],
             [
              0.4444444444444444,
              "#bd3786"
             ],
             [
              0.5555555555555556,
              "#d8576b"
             ],
             [
              0.6666666666666666,
              "#ed7953"
             ],
             [
              0.7777777777777778,
              "#fb9f3a"
             ],
             [
              0.8888888888888888,
              "#fdca26"
             ],
             [
              1,
              "#f0f921"
             ]
            ],
            "type": "histogram2d"
           }
          ],
          "histogram2dcontour": [
           {
            "colorbar": {
             "outlinewidth": 0,
             "ticks": ""
            },
            "colorscale": [
             [
              0,
              "#0d0887"
             ],
             [
              0.1111111111111111,
              "#46039f"
             ],
             [
              0.2222222222222222,
              "#7201a8"
             ],
             [
              0.3333333333333333,
              "#9c179e"
             ],
             [
              0.4444444444444444,
              "#bd3786"
             ],
             [
              0.5555555555555556,
              "#d8576b"
             ],
             [
              0.6666666666666666,
              "#ed7953"
             ],
             [
              0.7777777777777778,
              "#fb9f3a"
             ],
             [
              0.8888888888888888,
              "#fdca26"
             ],
             [
              1,
              "#f0f921"
             ]
            ],
            "type": "histogram2dcontour"
           }
          ],
          "mesh3d": [
           {
            "colorbar": {
             "outlinewidth": 0,
             "ticks": ""
            },
            "type": "mesh3d"
           }
          ],
          "parcoords": [
           {
            "line": {
             "colorbar": {
              "outlinewidth": 0,
              "ticks": ""
             }
            },
            "type": "parcoords"
           }
          ],
          "pie": [
           {
            "automargin": true,
            "type": "pie"
           }
          ],
          "scatter": [
           {
            "marker": {
             "line": {
              "color": "#283442"
             }
            },
            "type": "scatter"
           }
          ],
          "scatter3d": [
           {
            "line": {
             "colorbar": {
              "outlinewidth": 0,
              "ticks": ""
             }
            },
            "marker": {
             "colorbar": {
              "outlinewidth": 0,
              "ticks": ""
             }
            },
            "type": "scatter3d"
           }
          ],
          "scattercarpet": [
           {
            "marker": {
             "colorbar": {
              "outlinewidth": 0,
              "ticks": ""
             }
            },
            "type": "scattercarpet"
           }
          ],
          "scattergeo": [
           {
            "marker": {
             "colorbar": {
              "outlinewidth": 0,
              "ticks": ""
             }
            },
            "type": "scattergeo"
           }
          ],
          "scattergl": [
           {
            "marker": {
             "line": {
              "color": "#283442"
             }
            },
            "type": "scattergl"
           }
          ],
          "scattermapbox": [
           {
            "marker": {
             "colorbar": {
              "outlinewidth": 0,
              "ticks": ""
             }
            },
            "type": "scattermapbox"
           }
          ],
          "scatterpolar": [
           {
            "marker": {
             "colorbar": {
              "outlinewidth": 0,
              "ticks": ""
             }
            },
            "type": "scatterpolar"
           }
          ],
          "scatterpolargl": [
           {
            "marker": {
             "colorbar": {
              "outlinewidth": 0,
              "ticks": ""
             }
            },
            "type": "scatterpolargl"
           }
          ],
          "scatterternary": [
           {
            "marker": {
             "colorbar": {
              "outlinewidth": 0,
              "ticks": ""
             }
            },
            "type": "scatterternary"
           }
          ],
          "surface": [
           {
            "colorbar": {
             "outlinewidth": 0,
             "ticks": ""
            },
            "colorscale": [
             [
              0,
              "#0d0887"
             ],
             [
              0.1111111111111111,
              "#46039f"
             ],
             [
              0.2222222222222222,
              "#7201a8"
             ],
             [
              0.3333333333333333,
              "#9c179e"
             ],
             [
              0.4444444444444444,
              "#bd3786"
             ],
             [
              0.5555555555555556,
              "#d8576b"
             ],
             [
              0.6666666666666666,
              "#ed7953"
             ],
             [
              0.7777777777777778,
              "#fb9f3a"
             ],
             [
              0.8888888888888888,
              "#fdca26"
             ],
             [
              1,
              "#f0f921"
             ]
            ],
            "type": "surface"
           }
          ],
          "table": [
           {
            "cells": {
             "fill": {
              "color": "#506784"
             },
             "line": {
              "color": "rgb(17,17,17)"
             }
            },
            "header": {
             "fill": {
              "color": "#2a3f5f"
             },
             "line": {
              "color": "rgb(17,17,17)"
             }
            },
            "type": "table"
           }
          ]
         },
         "layout": {
          "annotationdefaults": {
           "arrowcolor": "#f2f5fa",
           "arrowhead": 0,
           "arrowwidth": 1
          },
          "autotypenumbers": "strict",
          "coloraxis": {
           "colorbar": {
            "outlinewidth": 0,
            "ticks": ""
           }
          },
          "colorscale": {
           "diverging": [
            [
             0,
             "#8e0152"
            ],
            [
             0.1,
             "#c51b7d"
            ],
            [
             0.2,
             "#de77ae"
            ],
            [
             0.3,
             "#f1b6da"
            ],
            [
             0.4,
             "#fde0ef"
            ],
            [
             0.5,
             "#f7f7f7"
            ],
            [
             0.6,
             "#e6f5d0"
            ],
            [
             0.7,
             "#b8e186"
            ],
            [
             0.8,
             "#7fbc41"
            ],
            [
             0.9,
             "#4d9221"
            ],
            [
             1,
             "#276419"
            ]
           ],
           "sequential": [
            [
             0,
             "#0d0887"
            ],
            [
             0.1111111111111111,
             "#46039f"
            ],
            [
             0.2222222222222222,
             "#7201a8"
            ],
            [
             0.3333333333333333,
             "#9c179e"
            ],
            [
             0.4444444444444444,
             "#bd3786"
            ],
            [
             0.5555555555555556,
             "#d8576b"
            ],
            [
             0.6666666666666666,
             "#ed7953"
            ],
            [
             0.7777777777777778,
             "#fb9f3a"
            ],
            [
             0.8888888888888888,
             "#fdca26"
            ],
            [
             1,
             "#f0f921"
            ]
           ],
           "sequentialminus": [
            [
             0,
             "#0d0887"
            ],
            [
             0.1111111111111111,
             "#46039f"
            ],
            [
             0.2222222222222222,
             "#7201a8"
            ],
            [
             0.3333333333333333,
             "#9c179e"
            ],
            [
             0.4444444444444444,
             "#bd3786"
            ],
            [
             0.5555555555555556,
             "#d8576b"
            ],
            [
             0.6666666666666666,
             "#ed7953"
            ],
            [
             0.7777777777777778,
             "#fb9f3a"
            ],
            [
             0.8888888888888888,
             "#fdca26"
            ],
            [
             1,
             "#f0f921"
            ]
           ]
          },
          "colorway": [
           "#636efa",
           "#EF553B",
           "#00cc96",
           "#ab63fa",
           "#FFA15A",
           "#19d3f3",
           "#FF6692",
           "#B6E880",
           "#FF97FF",
           "#FECB52"
          ],
          "font": {
           "color": "#f2f5fa"
          },
          "geo": {
           "bgcolor": "rgb(17,17,17)",
           "lakecolor": "rgb(17,17,17)",
           "landcolor": "rgb(17,17,17)",
           "showlakes": true,
           "showland": true,
           "subunitcolor": "#506784"
          },
          "hoverlabel": {
           "align": "left"
          },
          "hovermode": "closest",
          "mapbox": {
           "style": "dark"
          },
          "paper_bgcolor": "rgb(17,17,17)",
          "plot_bgcolor": "rgb(17,17,17)",
          "polar": {
           "angularaxis": {
            "gridcolor": "#506784",
            "linecolor": "#506784",
            "ticks": ""
           },
           "bgcolor": "rgb(17,17,17)",
           "radialaxis": {
            "gridcolor": "#506784",
            "linecolor": "#506784",
            "ticks": ""
           }
          },
          "scene": {
           "xaxis": {
            "backgroundcolor": "rgb(17,17,17)",
            "gridcolor": "#506784",
            "gridwidth": 2,
            "linecolor": "#506784",
            "showbackground": true,
            "ticks": "",
            "zerolinecolor": "#C8D4E3"
           },
           "yaxis": {
            "backgroundcolor": "rgb(17,17,17)",
            "gridcolor": "#506784",
            "gridwidth": 2,
            "linecolor": "#506784",
            "showbackground": true,
            "ticks": "",
            "zerolinecolor": "#C8D4E3"
           },
           "zaxis": {
            "backgroundcolor": "rgb(17,17,17)",
            "gridcolor": "#506784",
            "gridwidth": 2,
            "linecolor": "#506784",
            "showbackground": true,
            "ticks": "",
            "zerolinecolor": "#C8D4E3"
           }
          },
          "shapedefaults": {
           "line": {
            "color": "#f2f5fa"
           }
          },
          "sliderdefaults": {
           "bgcolor": "#C8D4E3",
           "bordercolor": "rgb(17,17,17)",
           "borderwidth": 1,
           "tickwidth": 0
          },
          "ternary": {
           "aaxis": {
            "gridcolor": "#506784",
            "linecolor": "#506784",
            "ticks": ""
           },
           "baxis": {
            "gridcolor": "#506784",
            "linecolor": "#506784",
            "ticks": ""
           },
           "bgcolor": "rgb(17,17,17)",
           "caxis": {
            "gridcolor": "#506784",
            "linecolor": "#506784",
            "ticks": ""
           }
          },
          "title": {
           "x": 0.05
          },
          "updatemenudefaults": {
           "bgcolor": "#506784",
           "borderwidth": 0
          },
          "xaxis": {
           "automargin": true,
           "gridcolor": "#283442",
           "linecolor": "#506784",
           "ticks": "",
           "title": {
            "standoff": 15
           },
           "zerolinecolor": "#283442",
           "zerolinewidth": 2
          },
          "yaxis": {
           "automargin": true,
           "gridcolor": "#283442",
           "linecolor": "#506784",
           "ticks": "",
           "title": {
            "standoff": 15
           },
           "zerolinecolor": "#283442",
           "zerolinewidth": 2
          }
         }
        },
        "title": {
         "text": "AAPL Actual vs Predicted Closing Prices"
        },
        "xaxis": {
         "title": {
          "text": "Actual Closing Price"
         }
        },
        "yaxis": {
         "title": {
          "text": "Predicted Closing Price"
         }
        }
       }
      }
     },
     "metadata": {},
     "output_type": "display_data"
    }
   ],
   "source": [
    "fig = go.Figure()\n",
    "\n",
    "fig.add_trace(go.Scatter(x = y_test, y = y_pred,\n",
    "                        mode = 'markers',\n",
    "                        name = 'Predicted vs Actual'))\n",
    "\n",
    "fig.add_trace(go.Scatter(x = y_test, y = y_test,\n",
    "                        mode = 'lines',\n",
    "                        name = 'Ideal Line'))\n",
    "\n",
    "fig.update_layout(title = 'AAPL Actual vs Predicted Closing Prices',\n",
    "                xaxis_title = 'Actual Closing Price',\n",
    "                yaxis_title = 'Predicted Closing Price',\n",
    "                template = 'plotly_dark')\n",
    "\n",
    "fig.show()\n",
    "\n",
    "\n"
   ]
  },
  {
   "cell_type": "markdown",
   "metadata": {},
   "source": [
    "#### Pretty good, we will improve this further later on in the project.  Let's look at a residuals plot as well now."
   ]
  },
  {
   "cell_type": "code",
   "execution_count": 11,
   "metadata": {},
   "outputs": [
    {
     "data": {
      "application/vnd.plotly.v1+json": {
       "config": {
        "plotlyServerURL": "https://plot.ly"
       },
       "data": [
        {
         "mode": "markers",
         "name": "Residuals",
         "type": "scatter",
         "x": [
          0.06076918774419346,
          1.9483630179430822,
          0.24711411854851473,
          1.6442744080806686,
          1.7418305279116044,
          1.562037383899224,
          -0.15666612806045996,
          -0.07460321544470674,
          1.9185540568027775,
          0.7219010403266799,
          1.642559272440433,
          2.00225416715263,
          1.8083842798220164,
          -0.2559109631259766,
          0.194439000084213,
          0.12510741500033473,
          1.4820093227261706,
          1.7882045881558897,
          2.1051001114789036,
          0.011619059094028363,
          0.09472493189198711,
          -0.052977874145612974,
          1.0503409260054788,
          0.7213746150251649,
          0.7065541532232795,
          1.8819314436720447,
          0.36851636805510124,
          0.9621025887792645,
          0.17068862387556383,
          1.1905505001585714,
          1.6417570043346923,
          1.246347255933974,
          1.105917819525861,
          2.17071537630906,
          1.0580024243950392,
          1.1321288990142002,
          0.6850649115745557,
          0.13207353128533258,
          1.072861910295048,
          2.335044538575316,
          1.7855629523928602,
          1.9365719530646142,
          1.4813958351787715,
          0.0860652751734686,
          -0.038782643138229,
          1.2530367302503556,
          0.062410190492922527,
          0.10537298870876063,
          1.2290795101077614,
          1.175993923252884,
          1.0401206670102674,
          0.7579206278300601,
          1.2881372413220116,
          -0.13172902635589653,
          -0.3220402525060404,
          1.155532397875193,
          -0.27883018468201715,
          0.9162602741854695,
          -0.06527253577965039,
          0.7369301928243717,
          1.9865836529604515,
          0.693652024881735,
          -0.2548108523770488,
          1.4041230048837372,
          0.8855345331736044,
          0.07045493875396226,
          1.2309579712951464,
          0.903237508102523,
          -0.2547541783402827,
          0.5788757874382575,
          1.9043903513728246,
          0.7335552043305457,
          2.0984166700883073,
          -0.38261571473279066,
          1.1156949832551806,
          1.6435363951108184,
          1.3906908208396673,
          1.7310049577680997,
          1.1067187557702143,
          0.5764570058757423,
          0.6411607973268553,
          -0.10138429885859111,
          1.12464228606749,
          -0.08869973349495229,
          0.42533156507734565,
          2.5747660493024744,
          2.6804345735353863,
          1.4593251652062313,
          0.15245528521931445,
          1.6344947872592956,
          1.8476784732305305,
          2.0417694798539743,
          1.1666196457931022,
          1.4663659111280904,
          1.473725631247715,
          -0.2356554708620599,
          2.8083311872548644,
          2.003738156683519,
          1.1044265357139786,
          0.6792391450142683,
          2.644065229269007,
          0.7560886918327332,
          -0.3442123338739208,
          0.6443123682028763,
          -0.21807747469364921,
          1.4863733501737784,
          1.2999923957843371,
          1.9041377880309782,
          2.0365436071147487,
          1.727584058478841,
          1.0146106339268,
          2.929373166047118,
          1.1342448237355045,
          1.9410470716280976,
          0.07213682689078184,
          0.6095561859341044,
          2.3034814148414684,
          0.2295527308665823,
          1.0881763898056065,
          0.8717379906495776,
          -0.19970233612097352,
          1.6481510387430345,
          0.2540380146717793,
          3.0859645189596683,
          1.0489911001914805,
          1.0335254835434227,
          1.8879892298619985,
          0.9691303895905843,
          0.5394817851970267,
          1.6513558513805109,
          0.9885794249410482,
          2.907295915901772,
          1.8445441178879816,
          0.8599572690410295,
          1.4184388372921726,
          1.0426523478186032,
          -0.08249465900641251,
          0.8012514852775081,
          3.0171029371403257,
          1.1328459503917676,
          0.37755874850177135,
          2.3774389183033104,
          1.774235933473462,
          2.9216836979786684,
          0.6331325541196026,
          0.4586817507464306,
          1.563928770627538,
          -0.24474138922009614,
          2.748919040120361,
          1.3021012068234044,
          -0.4280825568008653,
          -0.20351224625411926,
          0.42135634769977215,
          1.6760727796988002,
          1.213222310434812,
          1.9944235442969394,
          1.7828555886116986,
          1.9050830556764287,
          0.7470060830559426,
          1.7214191311366829,
          1.4485176825841777,
          0.9043501204557456,
          0.7125344817449324,
          1.9480173388265687,
          0.3742096767508314,
          1.01799802387151,
          1.8075786033325616,
          -0.08158683988133324,
          1.4093544236977817,
          0.9505545022645572,
          1.7094091268225768,
          2.3740010270432323,
          -0.12836897345249187,
          2.0289917692377273,
          1.6194730341329269,
          1.4490030531337301,
          0.6714217870930084,
          1.0546955405919527,
          1.7692884269016433,
          1.8543332113333073,
          -0.08315047854245547,
          0.4246713223822338,
          1.015461712567523,
          0.4092121293849535,
          1.021371923757898,
          1.3456728609129853,
          1.0352997511584947,
          1.161157642125733,
          2.005659967143103,
          1.407107064075666,
          3.0828328621253176,
          1.3489976558808234,
          1.4537283866165647,
          1.516710297375288,
          2.8862520866040597,
          0.012183933838340218,
          1.7475841397017287,
          1.0404284412840397,
          1.7976773447906451,
          1.4551847204610442,
          1.987863252976128,
          1.919196655546248,
          1.068772124982622,
          -0.2559515947924895,
          1.4573658858497662,
          0.980955476474767,
          1.121782005605489,
          2.727508414240268,
          1.2359101325539825,
          0.07748540116862423,
          1.7681696057987297,
          -0.16397356323840295,
          -0.10742248495467288,
          2.875594668860703,
          1.079008628589834,
          1.725690123054059,
          0.8053429846840825,
          2.265382887795602,
          1.122684896882028,
          2.920768380936963,
          1.981733912647139,
          0.4074788398911974,
          1.03434677258454,
          1.1375418759485438,
          -0.059949354646854996,
          1.539127168126456,
          0.20090651764291878,
          1.9315282002451095,
          1.3607021645942827,
          1.5495936535439632,
          -0.11216500227172613,
          1.991072279576352,
          1.9534323158597857,
          1.2796003086954588,
          -0.0972553363675225,
          0.6422348913112871,
          1.2340203947382138,
          0.9156849407132985,
          1.6329832824444006,
          1.9941689372100755,
          1.5893264231511113,
          1.516805548870932,
          -0.42542230250559643,
          0.07985246353923045,
          1.1916171115249456,
          0.19771723337970837,
          -0.020691695672753904,
          1.7600152164344411,
          -0.4090366346818619,
          2.6921021816872717,
          0.009383033991990825,
          1.0365505571162263,
          0.36788071045852455,
          1.1670181073141621,
          1.5021315671232833,
          0.07964586114254146,
          0.15300428415591297,
          1.4539044534291476,
          0.36598609401634835,
          1.3452660853540477,
          1.0146552488992329,
          0.24121012179092016,
          0.39154805157563327,
          1.6011913884871136,
          0.9842021958980427,
          1.6409132215126276,
          -0.3070210869544288,
          -0.09023206168720016,
          0.46751224641819467,
          1.1105574771009263,
          2.2457627999633085,
          0.9974674750744914,
          2.01465136232933,
          0.5636350501115128,
          0.9394709782071113,
          1.216043412893491,
          2.7726135618220527
         ],
         "y": [
          -0.02457681882747046,
          0.022672287148193693,
          -0.01575392048303023,
          -0.0029876528079813003,
          0.0250993846057892,
          0.00889345310706302,
          -0.03036857484190425,
          0.032229641454807244,
          0.06858922339093976,
          0.015149674160672255,
          -0.057910491841293155,
          0.0022444334098783436,
          -0.033036610360952734,
          -0.012911356990637002,
          -0.049542853961847294,
          -0.009829455269815532,
          -0.05438872036282971,
          -0.06596154131843646,
          -0.0855328316283015,
          -0.017931256651104763,
          -0.031200700515559704,
          0.013929761327925477,
          -0.00837946792365285,
          0.030744937324558075,
          0.03008093808289991,
          0.07611345661127733,
          0.01696201168086514,
          -0.0027600735611716942,
          -0.008645206836409514,
          0.03275697732743965,
          -0.012525382781613192,
          -0.1182333443642003,
          -0.013137904178289084,
          0.04381200038685629,
          0.060966191446165885,
          -0.03300965977737591,
          0.0008555886176017102,
          -0.004532546957480371,
          0.04267721964794369,
          -0.001940708734566421,
          0.031354012453656654,
          -0.012302105281973397,
          0.0016160308888770736,
          0.0884488987664662,
          0.019376174621474604,
          0.0759608202985349,
          0.06928765994376408,
          -0.0035010569673681324,
          -0.03580568362049186,
          0.006679529936019835,
          -0.05822682807447943,
          -0.06534904671920116,
          -0.006840419170102363,
          -0.016750243878054877,
          -0.0072653892249223695,
          0.012695890084513994,
          -0.020961295383100265,
          0.045576455842490704,
          -0.00037990071284291216,
          -0.0411370166930245,
          -0.039450883004943815,
          0.013572770910323051,
          0.003759396523259906,
          -0.04124669425671956,
          0.002101010934292047,
          0.009489183328632536,
          0.0008712878605356966,
          0.0684718978646266,
          0.0100420463757466,
          0.048951660510555106,
          0.06124074234326726,
          -0.010430165739494401,
          0.0038737359263065763,
          0.016105534602933957,
          0.01584841421280614,
          -0.02521658673699889,
          -0.01908467909097622,
          0.0011106064342654154,
          0.05568969763313647,
          0.03775636463194154,
          0.063985406836508,
          0.018376700571584317,
          0.016565896461961493,
          0.002678431065182188,
          -0.01927642852637723,
          0.027810661758822963,
          0.05152669627255779,
          0.0338709752557782,
          -0.07781134978590255,
          0.034747344531992796,
          0.018186565279317612,
          -0.006093907752375838,
          -0.021878111213713414,
          -0.07054579436273678,
          0.03692953716053182,
          -0.0082252561658539,
          -0.04498521360438401,
          0.014893852078737169,
          -0.004164134511083439,
          -0.005685535571167577,
          -0.014052631022003936,
          -0.02018113931145238,
          0.0007731253689328144,
          0.03474916019285479,
          -0.01561881936562598,
          0.020644758607085034,
          -0.16148616036819985,
          0.011610278081991776,
          0.026463827446554067,
          0.015963125384235166,
          0.02007622917742724,
          -0.007544253739596218,
          -0.0528963694743656,
          0.04235512421223531,
          -0.005494866645589944,
          0.027312533017275875,
          0.05383639001594265,
          0.04826116747808862,
          -0.003710365249980807,
          -0.10413381868203309,
          0.007471471295427606,
          -0.0020839033026154308,
          0.0604607741646121,
          0.022718490278947456,
          -0.01981215603988362,
          0.0019927844974270137,
          -0.007886758426401519,
          -0.08856170815683895,
          0.05425885322165658,
          -0.05579525760211146,
          -0.03225061386571859,
          0.014325264102302615,
          0.0450154063056325,
          -0.04683482645692216,
          0.010948599670414394,
          0.0045052721864045076,
          0.00561849373093351,
          0.02132801006461682,
          -0.03364762053952264,
          -0.009720468441727803,
          0.0013724164672173633,
          0.05865287891272564,
          0.008386489539477848,
          -0.0005823244560452245,
          0.010906893657652517,
          0.0141961105952782,
          -0.012639577922183953,
          -0.03239482168846364,
          -0.004279122533912716,
          -0.02122016642694491,
          0.05169970073181884,
          0.041211245562730064,
          -0.011040320313968455,
          0.005224485812096891,
          -0.023793593026928184,
          0.07596235139368623,
          0.015459344896787464,
          0.08122897815494379,
          0.0012683602143949146,
          -0.08449697427627778,
          0.06172202121717407,
          -0.0489308437012862,
          -0.0196511436046245,
          0.0917110746578631,
          0.043173213309123326,
          -0.04098858982945486,
          -0.005106803715241304,
          -0.05182343391596937,
          -0.027771739858177158,
          0.02915703746509002,
          -0.04411612883667493,
          0.04463174222656674,
          0.004207861535481569,
          -0.0717784324653048,
          0.004666450222971852,
          0.01665349256512738,
          -0.008156635344547025,
          0.041098237472659616,
          -0.04434327437659813,
          0.011012020695089442,
          0.02165506673307397,
          0.0063254865445724895,
          0.07274555491576473,
          0.011184464817764805,
          -0.028254356039124184,
          -0.004412444341039157,
          0.03544848837855552,
          0.0980034794896536,
          -0.06777620049361022,
          -0.08756656628479287,
          0.0155615308443795,
          -0.05803604866744938,
          -0.023821460321081567,
          -0.09470163869057835,
          -0.007447230103233338,
          -0.07544602167269013,
          -0.04352765959541127,
          -0.024239901940397157,
          -0.08426783665231241,
          0.014109202013751654,
          -0.06629551088107899,
          -0.07629888108382277,
          -0.039801071708750246,
          -0.011935374948639277,
          0.05640717000152251,
          -0.08916306625803594,
          -0.03949828025600444,
          -0.010616140868974,
          -0.02850289786696525,
          -0.03973408853038034,
          0.019025465078494452,
          -0.022229814014477434,
          0.008930425624122287,
          0.05288548293979778,
          0.05398968787367253,
          0.02336497976164731,
          -0.01321292209614966,
          0.08569977647283489,
          0.01083290891437505,
          0.035147340900688384,
          0.06662030723296519,
          0.00896862050613434,
          -0.013377853073165635,
          -0.007037774294904153,
          -0.007365733144605507,
          -0.021613027921782768,
          0.004264979928932433,
          0.03295989007918898,
          0.03407865635672369,
          0.03910796843800912,
          -0.0020195675543706743,
          -0.04019810811890512,
          -0.03789198205026323,
          -0.045900507363084486,
          0.021210576028665898,
          -0.012536901185781879,
          -0.02858772695388989,
          0.05799903215654467,
          0.06951441251467316,
          -0.010974790821745017,
          -0.011952396103847684,
          -0.12337578076372169,
          0.044778555601714454,
          -0.03181285178062435,
          0.014543095044276644,
          0.008493560006490125,
          0.0532468463878162,
          0.010967854614340355,
          0.043046102459178726,
          -0.0031652848345786744,
          -0.010083446444713125,
          0.06807660107322855,
          0.04586480282549232,
          0.03249085976208144,
          -0.061520559951988574,
          -0.01175687277955477,
          -0.04500091940299267,
          0.006867687375976983,
          0.02853355672218566,
          -0.013358696814117721,
          -0.013015899510788076,
          0.014468076017228049,
          0.004738433762146332,
          0.03032655699810749,
          0.01494293868053509,
          -0.008979494271956545,
          0.006294335800965334,
          -0.008052265339902942,
          0.014303019774357661,
          0.03761354337667533,
          0.038081516333216214,
          0.01716227912190771,
          -0.012750842728412426,
          -0.013957921888150038,
          0.021118565128776412,
          0.010589684339009642,
          -0.04065229201410858
         ]
        },
        {
         "mode": "lines",
         "name": "Zero Line",
         "type": "scatter",
         "x": [
          0.06076918774419346,
          1.9483630179430822,
          0.24711411854851473,
          1.6442744080806686,
          1.7418305279116044,
          1.562037383899224,
          -0.15666612806045996,
          -0.07460321544470674,
          1.9185540568027775,
          0.7219010403266799,
          1.642559272440433,
          2.00225416715263,
          1.8083842798220164,
          -0.2559109631259766,
          0.194439000084213,
          0.12510741500033473,
          1.4820093227261706,
          1.7882045881558897,
          2.1051001114789036,
          0.011619059094028363,
          0.09472493189198711,
          -0.052977874145612974,
          1.0503409260054788,
          0.7213746150251649,
          0.7065541532232795,
          1.8819314436720447,
          0.36851636805510124,
          0.9621025887792645,
          0.17068862387556383,
          1.1905505001585714,
          1.6417570043346923,
          1.246347255933974,
          1.105917819525861,
          2.17071537630906,
          1.0580024243950392,
          1.1321288990142002,
          0.6850649115745557,
          0.13207353128533258,
          1.072861910295048,
          2.335044538575316,
          1.7855629523928602,
          1.9365719530646142,
          1.4813958351787715,
          0.0860652751734686,
          -0.038782643138229,
          1.2530367302503556,
          0.062410190492922527,
          0.10537298870876063,
          1.2290795101077614,
          1.175993923252884,
          1.0401206670102674,
          0.7579206278300601,
          1.2881372413220116,
          -0.13172902635589653,
          -0.3220402525060404,
          1.155532397875193,
          -0.27883018468201715,
          0.9162602741854695,
          -0.06527253577965039,
          0.7369301928243717,
          1.9865836529604515,
          0.693652024881735,
          -0.2548108523770488,
          1.4041230048837372,
          0.8855345331736044,
          0.07045493875396226,
          1.2309579712951464,
          0.903237508102523,
          -0.2547541783402827,
          0.5788757874382575,
          1.9043903513728246,
          0.7335552043305457,
          2.0984166700883073,
          -0.38261571473279066,
          1.1156949832551806,
          1.6435363951108184,
          1.3906908208396673,
          1.7310049577680997,
          1.1067187557702143,
          0.5764570058757423,
          0.6411607973268553,
          -0.10138429885859111,
          1.12464228606749,
          -0.08869973349495229,
          0.42533156507734565,
          2.5747660493024744,
          2.6804345735353863,
          1.4593251652062313,
          0.15245528521931445,
          1.6344947872592956,
          1.8476784732305305,
          2.0417694798539743,
          1.1666196457931022,
          1.4663659111280904,
          1.473725631247715,
          -0.2356554708620599,
          2.8083311872548644,
          2.003738156683519,
          1.1044265357139786,
          0.6792391450142683,
          2.644065229269007,
          0.7560886918327332,
          -0.3442123338739208,
          0.6443123682028763,
          -0.21807747469364921,
          1.4863733501737784,
          1.2999923957843371,
          1.9041377880309782,
          2.0365436071147487,
          1.727584058478841,
          1.0146106339268,
          2.929373166047118,
          1.1342448237355045,
          1.9410470716280976,
          0.07213682689078184,
          0.6095561859341044,
          2.3034814148414684,
          0.2295527308665823,
          1.0881763898056065,
          0.8717379906495776,
          -0.19970233612097352,
          1.6481510387430345,
          0.2540380146717793,
          3.0859645189596683,
          1.0489911001914805,
          1.0335254835434227,
          1.8879892298619985,
          0.9691303895905843,
          0.5394817851970267,
          1.6513558513805109,
          0.9885794249410482,
          2.907295915901772,
          1.8445441178879816,
          0.8599572690410295,
          1.4184388372921726,
          1.0426523478186032,
          -0.08249465900641251,
          0.8012514852775081,
          3.0171029371403257,
          1.1328459503917676,
          0.37755874850177135,
          2.3774389183033104,
          1.774235933473462,
          2.9216836979786684,
          0.6331325541196026,
          0.4586817507464306,
          1.563928770627538,
          -0.24474138922009614,
          2.748919040120361,
          1.3021012068234044,
          -0.4280825568008653,
          -0.20351224625411926,
          0.42135634769977215,
          1.6760727796988002,
          1.213222310434812,
          1.9944235442969394,
          1.7828555886116986,
          1.9050830556764287,
          0.7470060830559426,
          1.7214191311366829,
          1.4485176825841777,
          0.9043501204557456,
          0.7125344817449324,
          1.9480173388265687,
          0.3742096767508314,
          1.01799802387151,
          1.8075786033325616,
          -0.08158683988133324,
          1.4093544236977817,
          0.9505545022645572,
          1.7094091268225768,
          2.3740010270432323,
          -0.12836897345249187,
          2.0289917692377273,
          1.6194730341329269,
          1.4490030531337301,
          0.6714217870930084,
          1.0546955405919527,
          1.7692884269016433,
          1.8543332113333073,
          -0.08315047854245547,
          0.4246713223822338,
          1.015461712567523,
          0.4092121293849535,
          1.021371923757898,
          1.3456728609129853,
          1.0352997511584947,
          1.161157642125733,
          2.005659967143103,
          1.407107064075666,
          3.0828328621253176,
          1.3489976558808234,
          1.4537283866165647,
          1.516710297375288,
          2.8862520866040597,
          0.012183933838340218,
          1.7475841397017287,
          1.0404284412840397,
          1.7976773447906451,
          1.4551847204610442,
          1.987863252976128,
          1.919196655546248,
          1.068772124982622,
          -0.2559515947924895,
          1.4573658858497662,
          0.980955476474767,
          1.121782005605489,
          2.727508414240268,
          1.2359101325539825,
          0.07748540116862423,
          1.7681696057987297,
          -0.16397356323840295,
          -0.10742248495467288,
          2.875594668860703,
          1.079008628589834,
          1.725690123054059,
          0.8053429846840825,
          2.265382887795602,
          1.122684896882028,
          2.920768380936963,
          1.981733912647139,
          0.4074788398911974,
          1.03434677258454,
          1.1375418759485438,
          -0.059949354646854996,
          1.539127168126456,
          0.20090651764291878,
          1.9315282002451095,
          1.3607021645942827,
          1.5495936535439632,
          -0.11216500227172613,
          1.991072279576352,
          1.9534323158597857,
          1.2796003086954588,
          -0.0972553363675225,
          0.6422348913112871,
          1.2340203947382138,
          0.9156849407132985,
          1.6329832824444006,
          1.9941689372100755,
          1.5893264231511113,
          1.516805548870932,
          -0.42542230250559643,
          0.07985246353923045,
          1.1916171115249456,
          0.19771723337970837,
          -0.020691695672753904,
          1.7600152164344411,
          -0.4090366346818619,
          2.6921021816872717,
          0.009383033991990825,
          1.0365505571162263,
          0.36788071045852455,
          1.1670181073141621,
          1.5021315671232833,
          0.07964586114254146,
          0.15300428415591297,
          1.4539044534291476,
          0.36598609401634835,
          1.3452660853540477,
          1.0146552488992329,
          0.24121012179092016,
          0.39154805157563327,
          1.6011913884871136,
          0.9842021958980427,
          1.6409132215126276,
          -0.3070210869544288,
          -0.09023206168720016,
          0.46751224641819467,
          1.1105574771009263,
          2.2457627999633085,
          0.9974674750744914,
          2.01465136232933,
          0.5636350501115128,
          0.9394709782071113,
          1.216043412893491,
          2.7726135618220527
         ],
         "y": [
          0,
          0,
          0,
          0,
          0,
          0,
          0,
          0,
          0,
          0,
          0,
          0,
          0,
          0,
          0,
          0,
          0,
          0,
          0,
          0,
          0,
          0,
          0,
          0,
          0,
          0,
          0,
          0,
          0,
          0,
          0,
          0,
          0,
          0,
          0,
          0,
          0,
          0,
          0,
          0,
          0,
          0,
          0,
          0,
          0,
          0,
          0,
          0,
          0,
          0,
          0,
          0,
          0,
          0,
          0,
          0,
          0,
          0,
          0,
          0,
          0,
          0,
          0,
          0,
          0,
          0,
          0,
          0,
          0,
          0,
          0,
          0,
          0,
          0,
          0,
          0,
          0,
          0,
          0,
          0,
          0,
          0,
          0,
          0,
          0,
          0,
          0,
          0,
          0,
          0,
          0,
          0,
          0,
          0,
          0,
          0,
          0,
          0,
          0,
          0,
          0,
          0,
          0,
          0,
          0,
          0,
          0,
          0,
          0,
          0,
          0,
          0,
          0,
          0,
          0,
          0,
          0,
          0,
          0,
          0,
          0,
          0,
          0,
          0,
          0,
          0,
          0,
          0,
          0,
          0,
          0,
          0,
          0,
          0,
          0,
          0,
          0,
          0,
          0,
          0,
          0,
          0,
          0,
          0,
          0,
          0,
          0,
          0,
          0,
          0,
          0,
          0,
          0,
          0,
          0,
          0,
          0,
          0,
          0,
          0,
          0,
          0,
          0,
          0,
          0,
          0,
          0,
          0,
          0,
          0,
          0,
          0,
          0,
          0,
          0,
          0,
          0,
          0,
          0,
          0,
          0,
          0,
          0,
          0,
          0,
          0,
          0,
          0,
          0,
          0,
          0,
          0,
          0,
          0,
          0,
          0,
          0,
          0,
          0,
          0,
          0,
          0,
          0,
          0,
          0,
          0,
          0,
          0,
          0,
          0,
          0,
          0,
          0,
          0,
          0,
          0,
          0,
          0,
          0,
          0,
          0,
          0,
          0,
          0,
          0,
          0,
          0,
          0,
          0,
          0,
          0,
          0,
          0,
          0,
          0,
          0,
          0,
          0,
          0,
          0,
          0,
          0,
          0,
          0,
          0,
          0,
          0,
          0,
          0,
          0,
          0,
          0,
          0,
          0,
          0,
          0,
          0,
          0,
          0,
          0,
          0,
          0,
          0,
          0,
          0,
          0,
          0,
          0,
          0,
          0,
          0,
          0,
          0,
          0,
          0,
          0,
          0
         ]
        }
       ],
       "layout": {
        "template": {
         "data": {
          "bar": [
           {
            "error_x": {
             "color": "#f2f5fa"
            },
            "error_y": {
             "color": "#f2f5fa"
            },
            "marker": {
             "line": {
              "color": "rgb(17,17,17)",
              "width": 0.5
             },
             "pattern": {
              "fillmode": "overlay",
              "size": 10,
              "solidity": 0.2
             }
            },
            "type": "bar"
           }
          ],
          "barpolar": [
           {
            "marker": {
             "line": {
              "color": "rgb(17,17,17)",
              "width": 0.5
             },
             "pattern": {
              "fillmode": "overlay",
              "size": 10,
              "solidity": 0.2
             }
            },
            "type": "barpolar"
           }
          ],
          "carpet": [
           {
            "aaxis": {
             "endlinecolor": "#A2B1C6",
             "gridcolor": "#506784",
             "linecolor": "#506784",
             "minorgridcolor": "#506784",
             "startlinecolor": "#A2B1C6"
            },
            "baxis": {
             "endlinecolor": "#A2B1C6",
             "gridcolor": "#506784",
             "linecolor": "#506784",
             "minorgridcolor": "#506784",
             "startlinecolor": "#A2B1C6"
            },
            "type": "carpet"
           }
          ],
          "choropleth": [
           {
            "colorbar": {
             "outlinewidth": 0,
             "ticks": ""
            },
            "type": "choropleth"
           }
          ],
          "contour": [
           {
            "colorbar": {
             "outlinewidth": 0,
             "ticks": ""
            },
            "colorscale": [
             [
              0,
              "#0d0887"
             ],
             [
              0.1111111111111111,
              "#46039f"
             ],
             [
              0.2222222222222222,
              "#7201a8"
             ],
             [
              0.3333333333333333,
              "#9c179e"
             ],
             [
              0.4444444444444444,
              "#bd3786"
             ],
             [
              0.5555555555555556,
              "#d8576b"
             ],
             [
              0.6666666666666666,
              "#ed7953"
             ],
             [
              0.7777777777777778,
              "#fb9f3a"
             ],
             [
              0.8888888888888888,
              "#fdca26"
             ],
             [
              1,
              "#f0f921"
             ]
            ],
            "type": "contour"
           }
          ],
          "contourcarpet": [
           {
            "colorbar": {
             "outlinewidth": 0,
             "ticks": ""
            },
            "type": "contourcarpet"
           }
          ],
          "heatmap": [
           {
            "colorbar": {
             "outlinewidth": 0,
             "ticks": ""
            },
            "colorscale": [
             [
              0,
              "#0d0887"
             ],
             [
              0.1111111111111111,
              "#46039f"
             ],
             [
              0.2222222222222222,
              "#7201a8"
             ],
             [
              0.3333333333333333,
              "#9c179e"
             ],
             [
              0.4444444444444444,
              "#bd3786"
             ],
             [
              0.5555555555555556,
              "#d8576b"
             ],
             [
              0.6666666666666666,
              "#ed7953"
             ],
             [
              0.7777777777777778,
              "#fb9f3a"
             ],
             [
              0.8888888888888888,
              "#fdca26"
             ],
             [
              1,
              "#f0f921"
             ]
            ],
            "type": "heatmap"
           }
          ],
          "heatmapgl": [
           {
            "colorbar": {
             "outlinewidth": 0,
             "ticks": ""
            },
            "colorscale": [
             [
              0,
              "#0d0887"
             ],
             [
              0.1111111111111111,
              "#46039f"
             ],
             [
              0.2222222222222222,
              "#7201a8"
             ],
             [
              0.3333333333333333,
              "#9c179e"
             ],
             [
              0.4444444444444444,
              "#bd3786"
             ],
             [
              0.5555555555555556,
              "#d8576b"
             ],
             [
              0.6666666666666666,
              "#ed7953"
             ],
             [
              0.7777777777777778,
              "#fb9f3a"
             ],
             [
              0.8888888888888888,
              "#fdca26"
             ],
             [
              1,
              "#f0f921"
             ]
            ],
            "type": "heatmapgl"
           }
          ],
          "histogram": [
           {
            "marker": {
             "pattern": {
              "fillmode": "overlay",
              "size": 10,
              "solidity": 0.2
             }
            },
            "type": "histogram"
           }
          ],
          "histogram2d": [
           {
            "colorbar": {
             "outlinewidth": 0,
             "ticks": ""
            },
            "colorscale": [
             [
              0,
              "#0d0887"
             ],
             [
              0.1111111111111111,
              "#46039f"
             ],
             [
              0.2222222222222222,
              "#7201a8"
             ],
             [
              0.3333333333333333,
              "#9c179e"
             ],
             [
              0.4444444444444444,
              "#bd3786"
             ],
             [
              0.5555555555555556,
              "#d8576b"
             ],
             [
              0.6666666666666666,
              "#ed7953"
             ],
             [
              0.7777777777777778,
              "#fb9f3a"
             ],
             [
              0.8888888888888888,
              "#fdca26"
             ],
             [
              1,
              "#f0f921"
             ]
            ],
            "type": "histogram2d"
           }
          ],
          "histogram2dcontour": [
           {
            "colorbar": {
             "outlinewidth": 0,
             "ticks": ""
            },
            "colorscale": [
             [
              0,
              "#0d0887"
             ],
             [
              0.1111111111111111,
              "#46039f"
             ],
             [
              0.2222222222222222,
              "#7201a8"
             ],
             [
              0.3333333333333333,
              "#9c179e"
             ],
             [
              0.4444444444444444,
              "#bd3786"
             ],
             [
              0.5555555555555556,
              "#d8576b"
             ],
             [
              0.6666666666666666,
              "#ed7953"
             ],
             [
              0.7777777777777778,
              "#fb9f3a"
             ],
             [
              0.8888888888888888,
              "#fdca26"
             ],
             [
              1,
              "#f0f921"
             ]
            ],
            "type": "histogram2dcontour"
           }
          ],
          "mesh3d": [
           {
            "colorbar": {
             "outlinewidth": 0,
             "ticks": ""
            },
            "type": "mesh3d"
           }
          ],
          "parcoords": [
           {
            "line": {
             "colorbar": {
              "outlinewidth": 0,
              "ticks": ""
             }
            },
            "type": "parcoords"
           }
          ],
          "pie": [
           {
            "automargin": true,
            "type": "pie"
           }
          ],
          "scatter": [
           {
            "marker": {
             "line": {
              "color": "#283442"
             }
            },
            "type": "scatter"
           }
          ],
          "scatter3d": [
           {
            "line": {
             "colorbar": {
              "outlinewidth": 0,
              "ticks": ""
             }
            },
            "marker": {
             "colorbar": {
              "outlinewidth": 0,
              "ticks": ""
             }
            },
            "type": "scatter3d"
           }
          ],
          "scattercarpet": [
           {
            "marker": {
             "colorbar": {
              "outlinewidth": 0,
              "ticks": ""
             }
            },
            "type": "scattercarpet"
           }
          ],
          "scattergeo": [
           {
            "marker": {
             "colorbar": {
              "outlinewidth": 0,
              "ticks": ""
             }
            },
            "type": "scattergeo"
           }
          ],
          "scattergl": [
           {
            "marker": {
             "line": {
              "color": "#283442"
             }
            },
            "type": "scattergl"
           }
          ],
          "scattermapbox": [
           {
            "marker": {
             "colorbar": {
              "outlinewidth": 0,
              "ticks": ""
             }
            },
            "type": "scattermapbox"
           }
          ],
          "scatterpolar": [
           {
            "marker": {
             "colorbar": {
              "outlinewidth": 0,
              "ticks": ""
             }
            },
            "type": "scatterpolar"
           }
          ],
          "scatterpolargl": [
           {
            "marker": {
             "colorbar": {
              "outlinewidth": 0,
              "ticks": ""
             }
            },
            "type": "scatterpolargl"
           }
          ],
          "scatterternary": [
           {
            "marker": {
             "colorbar": {
              "outlinewidth": 0,
              "ticks": ""
             }
            },
            "type": "scatterternary"
           }
          ],
          "surface": [
           {
            "colorbar": {
             "outlinewidth": 0,
             "ticks": ""
            },
            "colorscale": [
             [
              0,
              "#0d0887"
             ],
             [
              0.1111111111111111,
              "#46039f"
             ],
             [
              0.2222222222222222,
              "#7201a8"
             ],
             [
              0.3333333333333333,
              "#9c179e"
             ],
             [
              0.4444444444444444,
              "#bd3786"
             ],
             [
              0.5555555555555556,
              "#d8576b"
             ],
             [
              0.6666666666666666,
              "#ed7953"
             ],
             [
              0.7777777777777778,
              "#fb9f3a"
             ],
             [
              0.8888888888888888,
              "#fdca26"
             ],
             [
              1,
              "#f0f921"
             ]
            ],
            "type": "surface"
           }
          ],
          "table": [
           {
            "cells": {
             "fill": {
              "color": "#506784"
             },
             "line": {
              "color": "rgb(17,17,17)"
             }
            },
            "header": {
             "fill": {
              "color": "#2a3f5f"
             },
             "line": {
              "color": "rgb(17,17,17)"
             }
            },
            "type": "table"
           }
          ]
         },
         "layout": {
          "annotationdefaults": {
           "arrowcolor": "#f2f5fa",
           "arrowhead": 0,
           "arrowwidth": 1
          },
          "autotypenumbers": "strict",
          "coloraxis": {
           "colorbar": {
            "outlinewidth": 0,
            "ticks": ""
           }
          },
          "colorscale": {
           "diverging": [
            [
             0,
             "#8e0152"
            ],
            [
             0.1,
             "#c51b7d"
            ],
            [
             0.2,
             "#de77ae"
            ],
            [
             0.3,
             "#f1b6da"
            ],
            [
             0.4,
             "#fde0ef"
            ],
            [
             0.5,
             "#f7f7f7"
            ],
            [
             0.6,
             "#e6f5d0"
            ],
            [
             0.7,
             "#b8e186"
            ],
            [
             0.8,
             "#7fbc41"
            ],
            [
             0.9,
             "#4d9221"
            ],
            [
             1,
             "#276419"
            ]
           ],
           "sequential": [
            [
             0,
             "#0d0887"
            ],
            [
             0.1111111111111111,
             "#46039f"
            ],
            [
             0.2222222222222222,
             "#7201a8"
            ],
            [
             0.3333333333333333,
             "#9c179e"
            ],
            [
             0.4444444444444444,
             "#bd3786"
            ],
            [
             0.5555555555555556,
             "#d8576b"
            ],
            [
             0.6666666666666666,
             "#ed7953"
            ],
            [
             0.7777777777777778,
             "#fb9f3a"
            ],
            [
             0.8888888888888888,
             "#fdca26"
            ],
            [
             1,
             "#f0f921"
            ]
           ],
           "sequentialminus": [
            [
             0,
             "#0d0887"
            ],
            [
             0.1111111111111111,
             "#46039f"
            ],
            [
             0.2222222222222222,
             "#7201a8"
            ],
            [
             0.3333333333333333,
             "#9c179e"
            ],
            [
             0.4444444444444444,
             "#bd3786"
            ],
            [
             0.5555555555555556,
             "#d8576b"
            ],
            [
             0.6666666666666666,
             "#ed7953"
            ],
            [
             0.7777777777777778,
             "#fb9f3a"
            ],
            [
             0.8888888888888888,
             "#fdca26"
            ],
            [
             1,
             "#f0f921"
            ]
           ]
          },
          "colorway": [
           "#636efa",
           "#EF553B",
           "#00cc96",
           "#ab63fa",
           "#FFA15A",
           "#19d3f3",
           "#FF6692",
           "#B6E880",
           "#FF97FF",
           "#FECB52"
          ],
          "font": {
           "color": "#f2f5fa"
          },
          "geo": {
           "bgcolor": "rgb(17,17,17)",
           "lakecolor": "rgb(17,17,17)",
           "landcolor": "rgb(17,17,17)",
           "showlakes": true,
           "showland": true,
           "subunitcolor": "#506784"
          },
          "hoverlabel": {
           "align": "left"
          },
          "hovermode": "closest",
          "mapbox": {
           "style": "dark"
          },
          "paper_bgcolor": "rgb(17,17,17)",
          "plot_bgcolor": "rgb(17,17,17)",
          "polar": {
           "angularaxis": {
            "gridcolor": "#506784",
            "linecolor": "#506784",
            "ticks": ""
           },
           "bgcolor": "rgb(17,17,17)",
           "radialaxis": {
            "gridcolor": "#506784",
            "linecolor": "#506784",
            "ticks": ""
           }
          },
          "scene": {
           "xaxis": {
            "backgroundcolor": "rgb(17,17,17)",
            "gridcolor": "#506784",
            "gridwidth": 2,
            "linecolor": "#506784",
            "showbackground": true,
            "ticks": "",
            "zerolinecolor": "#C8D4E3"
           },
           "yaxis": {
            "backgroundcolor": "rgb(17,17,17)",
            "gridcolor": "#506784",
            "gridwidth": 2,
            "linecolor": "#506784",
            "showbackground": true,
            "ticks": "",
            "zerolinecolor": "#C8D4E3"
           },
           "zaxis": {
            "backgroundcolor": "rgb(17,17,17)",
            "gridcolor": "#506784",
            "gridwidth": 2,
            "linecolor": "#506784",
            "showbackground": true,
            "ticks": "",
            "zerolinecolor": "#C8D4E3"
           }
          },
          "shapedefaults": {
           "line": {
            "color": "#f2f5fa"
           }
          },
          "sliderdefaults": {
           "bgcolor": "#C8D4E3",
           "bordercolor": "rgb(17,17,17)",
           "borderwidth": 1,
           "tickwidth": 0
          },
          "ternary": {
           "aaxis": {
            "gridcolor": "#506784",
            "linecolor": "#506784",
            "ticks": ""
           },
           "baxis": {
            "gridcolor": "#506784",
            "linecolor": "#506784",
            "ticks": ""
           },
           "bgcolor": "rgb(17,17,17)",
           "caxis": {
            "gridcolor": "#506784",
            "linecolor": "#506784",
            "ticks": ""
           }
          },
          "title": {
           "x": 0.05
          },
          "updatemenudefaults": {
           "bgcolor": "#506784",
           "borderwidth": 0
          },
          "xaxis": {
           "automargin": true,
           "gridcolor": "#283442",
           "linecolor": "#506784",
           "ticks": "",
           "title": {
            "standoff": 15
           },
           "zerolinecolor": "#283442",
           "zerolinewidth": 2
          },
          "yaxis": {
           "automargin": true,
           "gridcolor": "#283442",
           "linecolor": "#506784",
           "ticks": "",
           "title": {
            "standoff": 15
           },
           "zerolinecolor": "#283442",
           "zerolinewidth": 2
          }
         }
        },
        "title": {
         "text": "Residuals vs Predicted Closing Prices"
        },
        "xaxis": {
         "title": {
          "text": "Predicted Closing Prices"
         }
        },
        "yaxis": {
         "title": {
          "text": "Residuals"
         }
        }
       }
      }
     },
     "metadata": {},
     "output_type": "display_data"
    }
   ],
   "source": [
    "# Calculate the residuals first.\n",
    "residuals = y_test - y_pred\n",
    "\n",
    "# Create the residuals plot\n",
    "fig = go.Figure()\n",
    "\n",
    "fig.add_trace(go.Scatter(x = y_pred, y = residuals,\n",
    "                mode = 'markers',\n",
    "                name = 'Residuals'))\n",
    "\n",
    "fig.add_trace(go.Scatter(x = y_pred, y = np.zeros_like(y_pred),\n",
    "                mode = 'lines',\n",
    "                name = 'Zero Line'))\n",
    "\n",
    "fig.update_layout(title = 'Residuals vs Predicted Closing Prices',\n",
    "                xaxis_title = 'Predicted Closing Prices',\n",
    "                yaxis_title = 'Residuals',\n",
    "                template = 'plotly_dark')\n",
    "\n",
    "fig.show()\n",
    "\n",
    "\n"
   ]
  },
  {
   "cell_type": "markdown",
   "metadata": {},
   "source": [
    "#### In the plot above, contrary to many other plots we create, we are wanting to see randomness.  We are looking for the data to be scattered around the zero line and randomly distributed, and that the spread is fairly symmetrical around the zero.  If there was clustering it could indicate bias in the predictions.  "
   ]
  },
  {
   "cell_type": "markdown",
   "metadata": {},
   "source": [
    "#### Since we have our residuals variable established let's make a distribution plot for it to get another look."
   ]
  },
  {
   "cell_type": "code",
   "execution_count": 13,
   "metadata": {},
   "outputs": [
    {
     "data": {
      "application/vnd.plotly.v1+json": {
       "config": {
        "plotlyServerURL": "https://plot.ly"
       },
       "data": [
        {
         "alignmentgroup": "True",
         "bingroup": "x",
         "histnorm": "probability density",
         "hovertemplate": "variable=Close<br>value=%{x}<br>probability density=%{y}<extra></extra>",
         "legendgroup": "Close",
         "marker": {
          "color": "#636efa",
          "pattern": {
           "shape": ""
          }
         },
         "name": "Close",
         "nbinsx": 30,
         "offsetgroup": "Close",
         "orientation": "v",
         "showlegend": true,
         "type": "histogram",
         "x": [
          -0.02457681882747046,
          0.022672287148193693,
          -0.01575392048303023,
          -0.0029876528079813003,
          0.0250993846057892,
          0.00889345310706302,
          -0.03036857484190425,
          0.032229641454807244,
          0.06858922339093976,
          0.015149674160672255,
          -0.057910491841293155,
          0.0022444334098783436,
          -0.033036610360952734,
          -0.012911356990637002,
          -0.049542853961847294,
          -0.009829455269815532,
          -0.05438872036282971,
          -0.06596154131843646,
          -0.0855328316283015,
          -0.017931256651104763,
          -0.031200700515559704,
          0.013929761327925477,
          -0.00837946792365285,
          0.030744937324558075,
          0.03008093808289991,
          0.07611345661127733,
          0.01696201168086514,
          -0.0027600735611716942,
          -0.008645206836409514,
          0.03275697732743965,
          -0.012525382781613192,
          -0.1182333443642003,
          -0.013137904178289084,
          0.04381200038685629,
          0.060966191446165885,
          -0.03300965977737591,
          0.0008555886176017102,
          -0.004532546957480371,
          0.04267721964794369,
          -0.001940708734566421,
          0.031354012453656654,
          -0.012302105281973397,
          0.0016160308888770736,
          0.0884488987664662,
          0.019376174621474604,
          0.0759608202985349,
          0.06928765994376408,
          -0.0035010569673681324,
          -0.03580568362049186,
          0.006679529936019835,
          -0.05822682807447943,
          -0.06534904671920116,
          -0.006840419170102363,
          -0.016750243878054877,
          -0.0072653892249223695,
          0.012695890084513994,
          -0.020961295383100265,
          0.045576455842490704,
          -0.00037990071284291216,
          -0.0411370166930245,
          -0.039450883004943815,
          0.013572770910323051,
          0.003759396523259906,
          -0.04124669425671956,
          0.002101010934292047,
          0.009489183328632536,
          0.0008712878605356966,
          0.0684718978646266,
          0.0100420463757466,
          0.048951660510555106,
          0.06124074234326726,
          -0.010430165739494401,
          0.0038737359263065763,
          0.016105534602933957,
          0.01584841421280614,
          -0.02521658673699889,
          -0.01908467909097622,
          0.0011106064342654154,
          0.05568969763313647,
          0.03775636463194154,
          0.063985406836508,
          0.018376700571584317,
          0.016565896461961493,
          0.002678431065182188,
          -0.01927642852637723,
          0.027810661758822963,
          0.05152669627255779,
          0.0338709752557782,
          -0.07781134978590255,
          0.034747344531992796,
          0.018186565279317612,
          -0.006093907752375838,
          -0.021878111213713414,
          -0.07054579436273678,
          0.03692953716053182,
          -0.0082252561658539,
          -0.04498521360438401,
          0.014893852078737169,
          -0.004164134511083439,
          -0.005685535571167577,
          -0.014052631022003936,
          -0.02018113931145238,
          0.0007731253689328144,
          0.03474916019285479,
          -0.01561881936562598,
          0.020644758607085034,
          -0.16148616036819985,
          0.011610278081991776,
          0.026463827446554067,
          0.015963125384235166,
          0.02007622917742724,
          -0.007544253739596218,
          -0.0528963694743656,
          0.04235512421223531,
          -0.005494866645589944,
          0.027312533017275875,
          0.05383639001594265,
          0.04826116747808862,
          -0.003710365249980807,
          -0.10413381868203309,
          0.007471471295427606,
          -0.0020839033026154308,
          0.0604607741646121,
          0.022718490278947456,
          -0.01981215603988362,
          0.0019927844974270137,
          -0.007886758426401519,
          -0.08856170815683895,
          0.05425885322165658,
          -0.05579525760211146,
          -0.03225061386571859,
          0.014325264102302615,
          0.0450154063056325,
          -0.04683482645692216,
          0.010948599670414394,
          0.0045052721864045076,
          0.00561849373093351,
          0.02132801006461682,
          -0.03364762053952264,
          -0.009720468441727803,
          0.0013724164672173633,
          0.05865287891272564,
          0.008386489539477848,
          -0.0005823244560452245,
          0.010906893657652517,
          0.0141961105952782,
          -0.012639577922183953,
          -0.03239482168846364,
          -0.004279122533912716,
          -0.02122016642694491,
          0.05169970073181884,
          0.041211245562730064,
          -0.011040320313968455,
          0.005224485812096891,
          -0.023793593026928184,
          0.07596235139368623,
          0.015459344896787464,
          0.08122897815494379,
          0.0012683602143949146,
          -0.08449697427627778,
          0.06172202121717407,
          -0.0489308437012862,
          -0.0196511436046245,
          0.0917110746578631,
          0.043173213309123326,
          -0.04098858982945486,
          -0.005106803715241304,
          -0.05182343391596937,
          -0.027771739858177158,
          0.02915703746509002,
          -0.04411612883667493,
          0.04463174222656674,
          0.004207861535481569,
          -0.0717784324653048,
          0.004666450222971852,
          0.01665349256512738,
          -0.008156635344547025,
          0.041098237472659616,
          -0.04434327437659813,
          0.011012020695089442,
          0.02165506673307397,
          0.0063254865445724895,
          0.07274555491576473,
          0.011184464817764805,
          -0.028254356039124184,
          -0.004412444341039157,
          0.03544848837855552,
          0.0980034794896536,
          -0.06777620049361022,
          -0.08756656628479287,
          0.0155615308443795,
          -0.05803604866744938,
          -0.023821460321081567,
          -0.09470163869057835,
          -0.007447230103233338,
          -0.07544602167269013,
          -0.04352765959541127,
          -0.024239901940397157,
          -0.08426783665231241,
          0.014109202013751654,
          -0.06629551088107899,
          -0.07629888108382277,
          -0.039801071708750246,
          -0.011935374948639277,
          0.05640717000152251,
          -0.08916306625803594,
          -0.03949828025600444,
          -0.010616140868974,
          -0.02850289786696525,
          -0.03973408853038034,
          0.019025465078494452,
          -0.022229814014477434,
          0.008930425624122287,
          0.05288548293979778,
          0.05398968787367253,
          0.02336497976164731,
          -0.01321292209614966,
          0.08569977647283489,
          0.01083290891437505,
          0.035147340900688384,
          0.06662030723296519,
          0.00896862050613434,
          -0.013377853073165635,
          -0.007037774294904153,
          -0.007365733144605507,
          -0.021613027921782768,
          0.004264979928932433,
          0.03295989007918898,
          0.03407865635672369,
          0.03910796843800912,
          -0.0020195675543706743,
          -0.04019810811890512,
          -0.03789198205026323,
          -0.045900507363084486,
          0.021210576028665898,
          -0.012536901185781879,
          -0.02858772695388989,
          0.05799903215654467,
          0.06951441251467316,
          -0.010974790821745017,
          -0.011952396103847684,
          -0.12337578076372169,
          0.044778555601714454,
          -0.03181285178062435,
          0.014543095044276644,
          0.008493560006490125,
          0.0532468463878162,
          0.010967854614340355,
          0.043046102459178726,
          -0.0031652848345786744,
          -0.010083446444713125,
          0.06807660107322855,
          0.04586480282549232,
          0.03249085976208144,
          -0.061520559951988574,
          -0.01175687277955477,
          -0.04500091940299267,
          0.006867687375976983,
          0.02853355672218566,
          -0.013358696814117721,
          -0.013015899510788076,
          0.014468076017228049,
          0.004738433762146332,
          0.03032655699810749,
          0.01494293868053509,
          -0.008979494271956545,
          0.006294335800965334,
          -0.008052265339902942,
          0.014303019774357661,
          0.03761354337667533,
          0.038081516333216214,
          0.01716227912190771,
          -0.012750842728412426,
          -0.013957921888150038,
          0.021118565128776412,
          0.010589684339009642,
          -0.04065229201410858
         ],
         "xaxis": "x",
         "yaxis": "y"
        },
        {
         "alignmentgroup": "True",
         "hovertemplate": "variable=Close<br>value=%{x}<extra></extra>",
         "legendgroup": "Close",
         "marker": {
          "color": "#636efa"
         },
         "name": "Close",
         "notched": true,
         "offsetgroup": "Close",
         "showlegend": false,
         "type": "box",
         "x": [
          -0.02457681882747046,
          0.022672287148193693,
          -0.01575392048303023,
          -0.0029876528079813003,
          0.0250993846057892,
          0.00889345310706302,
          -0.03036857484190425,
          0.032229641454807244,
          0.06858922339093976,
          0.015149674160672255,
          -0.057910491841293155,
          0.0022444334098783436,
          -0.033036610360952734,
          -0.012911356990637002,
          -0.049542853961847294,
          -0.009829455269815532,
          -0.05438872036282971,
          -0.06596154131843646,
          -0.0855328316283015,
          -0.017931256651104763,
          -0.031200700515559704,
          0.013929761327925477,
          -0.00837946792365285,
          0.030744937324558075,
          0.03008093808289991,
          0.07611345661127733,
          0.01696201168086514,
          -0.0027600735611716942,
          -0.008645206836409514,
          0.03275697732743965,
          -0.012525382781613192,
          -0.1182333443642003,
          -0.013137904178289084,
          0.04381200038685629,
          0.060966191446165885,
          -0.03300965977737591,
          0.0008555886176017102,
          -0.004532546957480371,
          0.04267721964794369,
          -0.001940708734566421,
          0.031354012453656654,
          -0.012302105281973397,
          0.0016160308888770736,
          0.0884488987664662,
          0.019376174621474604,
          0.0759608202985349,
          0.06928765994376408,
          -0.0035010569673681324,
          -0.03580568362049186,
          0.006679529936019835,
          -0.05822682807447943,
          -0.06534904671920116,
          -0.006840419170102363,
          -0.016750243878054877,
          -0.0072653892249223695,
          0.012695890084513994,
          -0.020961295383100265,
          0.045576455842490704,
          -0.00037990071284291216,
          -0.0411370166930245,
          -0.039450883004943815,
          0.013572770910323051,
          0.003759396523259906,
          -0.04124669425671956,
          0.002101010934292047,
          0.009489183328632536,
          0.0008712878605356966,
          0.0684718978646266,
          0.0100420463757466,
          0.048951660510555106,
          0.06124074234326726,
          -0.010430165739494401,
          0.0038737359263065763,
          0.016105534602933957,
          0.01584841421280614,
          -0.02521658673699889,
          -0.01908467909097622,
          0.0011106064342654154,
          0.05568969763313647,
          0.03775636463194154,
          0.063985406836508,
          0.018376700571584317,
          0.016565896461961493,
          0.002678431065182188,
          -0.01927642852637723,
          0.027810661758822963,
          0.05152669627255779,
          0.0338709752557782,
          -0.07781134978590255,
          0.034747344531992796,
          0.018186565279317612,
          -0.006093907752375838,
          -0.021878111213713414,
          -0.07054579436273678,
          0.03692953716053182,
          -0.0082252561658539,
          -0.04498521360438401,
          0.014893852078737169,
          -0.004164134511083439,
          -0.005685535571167577,
          -0.014052631022003936,
          -0.02018113931145238,
          0.0007731253689328144,
          0.03474916019285479,
          -0.01561881936562598,
          0.020644758607085034,
          -0.16148616036819985,
          0.011610278081991776,
          0.026463827446554067,
          0.015963125384235166,
          0.02007622917742724,
          -0.007544253739596218,
          -0.0528963694743656,
          0.04235512421223531,
          -0.005494866645589944,
          0.027312533017275875,
          0.05383639001594265,
          0.04826116747808862,
          -0.003710365249980807,
          -0.10413381868203309,
          0.007471471295427606,
          -0.0020839033026154308,
          0.0604607741646121,
          0.022718490278947456,
          -0.01981215603988362,
          0.0019927844974270137,
          -0.007886758426401519,
          -0.08856170815683895,
          0.05425885322165658,
          -0.05579525760211146,
          -0.03225061386571859,
          0.014325264102302615,
          0.0450154063056325,
          -0.04683482645692216,
          0.010948599670414394,
          0.0045052721864045076,
          0.00561849373093351,
          0.02132801006461682,
          -0.03364762053952264,
          -0.009720468441727803,
          0.0013724164672173633,
          0.05865287891272564,
          0.008386489539477848,
          -0.0005823244560452245,
          0.010906893657652517,
          0.0141961105952782,
          -0.012639577922183953,
          -0.03239482168846364,
          -0.004279122533912716,
          -0.02122016642694491,
          0.05169970073181884,
          0.041211245562730064,
          -0.011040320313968455,
          0.005224485812096891,
          -0.023793593026928184,
          0.07596235139368623,
          0.015459344896787464,
          0.08122897815494379,
          0.0012683602143949146,
          -0.08449697427627778,
          0.06172202121717407,
          -0.0489308437012862,
          -0.0196511436046245,
          0.0917110746578631,
          0.043173213309123326,
          -0.04098858982945486,
          -0.005106803715241304,
          -0.05182343391596937,
          -0.027771739858177158,
          0.02915703746509002,
          -0.04411612883667493,
          0.04463174222656674,
          0.004207861535481569,
          -0.0717784324653048,
          0.004666450222971852,
          0.01665349256512738,
          -0.008156635344547025,
          0.041098237472659616,
          -0.04434327437659813,
          0.011012020695089442,
          0.02165506673307397,
          0.0063254865445724895,
          0.07274555491576473,
          0.011184464817764805,
          -0.028254356039124184,
          -0.004412444341039157,
          0.03544848837855552,
          0.0980034794896536,
          -0.06777620049361022,
          -0.08756656628479287,
          0.0155615308443795,
          -0.05803604866744938,
          -0.023821460321081567,
          -0.09470163869057835,
          -0.007447230103233338,
          -0.07544602167269013,
          -0.04352765959541127,
          -0.024239901940397157,
          -0.08426783665231241,
          0.014109202013751654,
          -0.06629551088107899,
          -0.07629888108382277,
          -0.039801071708750246,
          -0.011935374948639277,
          0.05640717000152251,
          -0.08916306625803594,
          -0.03949828025600444,
          -0.010616140868974,
          -0.02850289786696525,
          -0.03973408853038034,
          0.019025465078494452,
          -0.022229814014477434,
          0.008930425624122287,
          0.05288548293979778,
          0.05398968787367253,
          0.02336497976164731,
          -0.01321292209614966,
          0.08569977647283489,
          0.01083290891437505,
          0.035147340900688384,
          0.06662030723296519,
          0.00896862050613434,
          -0.013377853073165635,
          -0.007037774294904153,
          -0.007365733144605507,
          -0.021613027921782768,
          0.004264979928932433,
          0.03295989007918898,
          0.03407865635672369,
          0.03910796843800912,
          -0.0020195675543706743,
          -0.04019810811890512,
          -0.03789198205026323,
          -0.045900507363084486,
          0.021210576028665898,
          -0.012536901185781879,
          -0.02858772695388989,
          0.05799903215654467,
          0.06951441251467316,
          -0.010974790821745017,
          -0.011952396103847684,
          -0.12337578076372169,
          0.044778555601714454,
          -0.03181285178062435,
          0.014543095044276644,
          0.008493560006490125,
          0.0532468463878162,
          0.010967854614340355,
          0.043046102459178726,
          -0.0031652848345786744,
          -0.010083446444713125,
          0.06807660107322855,
          0.04586480282549232,
          0.03249085976208144,
          -0.061520559951988574,
          -0.01175687277955477,
          -0.04500091940299267,
          0.006867687375976983,
          0.02853355672218566,
          -0.013358696814117721,
          -0.013015899510788076,
          0.014468076017228049,
          0.004738433762146332,
          0.03032655699810749,
          0.01494293868053509,
          -0.008979494271956545,
          0.006294335800965334,
          -0.008052265339902942,
          0.014303019774357661,
          0.03761354337667533,
          0.038081516333216214,
          0.01716227912190771,
          -0.012750842728412426,
          -0.013957921888150038,
          0.021118565128776412,
          0.010589684339009642,
          -0.04065229201410858
         ],
         "xaxis": "x2",
         "yaxis": "y2"
        }
       ],
       "layout": {
        "barmode": "relative",
        "legend": {
         "title": {
          "text": "variable"
         },
         "tracegroupgap": 0
        },
        "margin": {
         "t": 60
        },
        "template": {
         "data": {
          "bar": [
           {
            "error_x": {
             "color": "#f2f5fa"
            },
            "error_y": {
             "color": "#f2f5fa"
            },
            "marker": {
             "line": {
              "color": "rgb(17,17,17)",
              "width": 0.5
             },
             "pattern": {
              "fillmode": "overlay",
              "size": 10,
              "solidity": 0.2
             }
            },
            "type": "bar"
           }
          ],
          "barpolar": [
           {
            "marker": {
             "line": {
              "color": "rgb(17,17,17)",
              "width": 0.5
             },
             "pattern": {
              "fillmode": "overlay",
              "size": 10,
              "solidity": 0.2
             }
            },
            "type": "barpolar"
           }
          ],
          "carpet": [
           {
            "aaxis": {
             "endlinecolor": "#A2B1C6",
             "gridcolor": "#506784",
             "linecolor": "#506784",
             "minorgridcolor": "#506784",
             "startlinecolor": "#A2B1C6"
            },
            "baxis": {
             "endlinecolor": "#A2B1C6",
             "gridcolor": "#506784",
             "linecolor": "#506784",
             "minorgridcolor": "#506784",
             "startlinecolor": "#A2B1C6"
            },
            "type": "carpet"
           }
          ],
          "choropleth": [
           {
            "colorbar": {
             "outlinewidth": 0,
             "ticks": ""
            },
            "type": "choropleth"
           }
          ],
          "contour": [
           {
            "colorbar": {
             "outlinewidth": 0,
             "ticks": ""
            },
            "colorscale": [
             [
              0,
              "#0d0887"
             ],
             [
              0.1111111111111111,
              "#46039f"
             ],
             [
              0.2222222222222222,
              "#7201a8"
             ],
             [
              0.3333333333333333,
              "#9c179e"
             ],
             [
              0.4444444444444444,
              "#bd3786"
             ],
             [
              0.5555555555555556,
              "#d8576b"
             ],
             [
              0.6666666666666666,
              "#ed7953"
             ],
             [
              0.7777777777777778,
              "#fb9f3a"
             ],
             [
              0.8888888888888888,
              "#fdca26"
             ],
             [
              1,
              "#f0f921"
             ]
            ],
            "type": "contour"
           }
          ],
          "contourcarpet": [
           {
            "colorbar": {
             "outlinewidth": 0,
             "ticks": ""
            },
            "type": "contourcarpet"
           }
          ],
          "heatmap": [
           {
            "colorbar": {
             "outlinewidth": 0,
             "ticks": ""
            },
            "colorscale": [
             [
              0,
              "#0d0887"
             ],
             [
              0.1111111111111111,
              "#46039f"
             ],
             [
              0.2222222222222222,
              "#7201a8"
             ],
             [
              0.3333333333333333,
              "#9c179e"
             ],
             [
              0.4444444444444444,
              "#bd3786"
             ],
             [
              0.5555555555555556,
              "#d8576b"
             ],
             [
              0.6666666666666666,
              "#ed7953"
             ],
             [
              0.7777777777777778,
              "#fb9f3a"
             ],
             [
              0.8888888888888888,
              "#fdca26"
             ],
             [
              1,
              "#f0f921"
             ]
            ],
            "type": "heatmap"
           }
          ],
          "heatmapgl": [
           {
            "colorbar": {
             "outlinewidth": 0,
             "ticks": ""
            },
            "colorscale": [
             [
              0,
              "#0d0887"
             ],
             [
              0.1111111111111111,
              "#46039f"
             ],
             [
              0.2222222222222222,
              "#7201a8"
             ],
             [
              0.3333333333333333,
              "#9c179e"
             ],
             [
              0.4444444444444444,
              "#bd3786"
             ],
             [
              0.5555555555555556,
              "#d8576b"
             ],
             [
              0.6666666666666666,
              "#ed7953"
             ],
             [
              0.7777777777777778,
              "#fb9f3a"
             ],
             [
              0.8888888888888888,
              "#fdca26"
             ],
             [
              1,
              "#f0f921"
             ]
            ],
            "type": "heatmapgl"
           }
          ],
          "histogram": [
           {
            "marker": {
             "pattern": {
              "fillmode": "overlay",
              "size": 10,
              "solidity": 0.2
             }
            },
            "type": "histogram"
           }
          ],
          "histogram2d": [
           {
            "colorbar": {
             "outlinewidth": 0,
             "ticks": ""
            },
            "colorscale": [
             [
              0,
              "#0d0887"
             ],
             [
              0.1111111111111111,
              "#46039f"
             ],
             [
              0.2222222222222222,
              "#7201a8"
             ],
             [
              0.3333333333333333,
              "#9c179e"
             ],
             [
              0.4444444444444444,
              "#bd3786"
             ],
             [
              0.5555555555555556,
              "#d8576b"
             ],
             [
              0.6666666666666666,
              "#ed7953"
             ],
             [
              0.7777777777777778,
              "#fb9f3a"
             ],
             [
              0.8888888888888888,
              "#fdca26"
             ],
             [
              1,
              "#f0f921"
             ]
            ],
            "type": "histogram2d"
           }
          ],
          "histogram2dcontour": [
           {
            "colorbar": {
             "outlinewidth": 0,
             "ticks": ""
            },
            "colorscale": [
             [
              0,
              "#0d0887"
             ],
             [
              0.1111111111111111,
              "#46039f"
             ],
             [
              0.2222222222222222,
              "#7201a8"
             ],
             [
              0.3333333333333333,
              "#9c179e"
             ],
             [
              0.4444444444444444,
              "#bd3786"
             ],
             [
              0.5555555555555556,
              "#d8576b"
             ],
             [
              0.6666666666666666,
              "#ed7953"
             ],
             [
              0.7777777777777778,
              "#fb9f3a"
             ],
             [
              0.8888888888888888,
              "#fdca26"
             ],
             [
              1,
              "#f0f921"
             ]
            ],
            "type": "histogram2dcontour"
           }
          ],
          "mesh3d": [
           {
            "colorbar": {
             "outlinewidth": 0,
             "ticks": ""
            },
            "type": "mesh3d"
           }
          ],
          "parcoords": [
           {
            "line": {
             "colorbar": {
              "outlinewidth": 0,
              "ticks": ""
             }
            },
            "type": "parcoords"
           }
          ],
          "pie": [
           {
            "automargin": true,
            "type": "pie"
           }
          ],
          "scatter": [
           {
            "marker": {
             "line": {
              "color": "#283442"
             }
            },
            "type": "scatter"
           }
          ],
          "scatter3d": [
           {
            "line": {
             "colorbar": {
              "outlinewidth": 0,
              "ticks": ""
             }
            },
            "marker": {
             "colorbar": {
              "outlinewidth": 0,
              "ticks": ""
             }
            },
            "type": "scatter3d"
           }
          ],
          "scattercarpet": [
           {
            "marker": {
             "colorbar": {
              "outlinewidth": 0,
              "ticks": ""
             }
            },
            "type": "scattercarpet"
           }
          ],
          "scattergeo": [
           {
            "marker": {
             "colorbar": {
              "outlinewidth": 0,
              "ticks": ""
             }
            },
            "type": "scattergeo"
           }
          ],
          "scattergl": [
           {
            "marker": {
             "line": {
              "color": "#283442"
             }
            },
            "type": "scattergl"
           }
          ],
          "scattermapbox": [
           {
            "marker": {
             "colorbar": {
              "outlinewidth": 0,
              "ticks": ""
             }
            },
            "type": "scattermapbox"
           }
          ],
          "scatterpolar": [
           {
            "marker": {
             "colorbar": {
              "outlinewidth": 0,
              "ticks": ""
             }
            },
            "type": "scatterpolar"
           }
          ],
          "scatterpolargl": [
           {
            "marker": {
             "colorbar": {
              "outlinewidth": 0,
              "ticks": ""
             }
            },
            "type": "scatterpolargl"
           }
          ],
          "scatterternary": [
           {
            "marker": {
             "colorbar": {
              "outlinewidth": 0,
              "ticks": ""
             }
            },
            "type": "scatterternary"
           }
          ],
          "surface": [
           {
            "colorbar": {
             "outlinewidth": 0,
             "ticks": ""
            },
            "colorscale": [
             [
              0,
              "#0d0887"
             ],
             [
              0.1111111111111111,
              "#46039f"
             ],
             [
              0.2222222222222222,
              "#7201a8"
             ],
             [
              0.3333333333333333,
              "#9c179e"
             ],
             [
              0.4444444444444444,
              "#bd3786"
             ],
             [
              0.5555555555555556,
              "#d8576b"
             ],
             [
              0.6666666666666666,
              "#ed7953"
             ],
             [
              0.7777777777777778,
              "#fb9f3a"
             ],
             [
              0.8888888888888888,
              "#fdca26"
             ],
             [
              1,
              "#f0f921"
             ]
            ],
            "type": "surface"
           }
          ],
          "table": [
           {
            "cells": {
             "fill": {
              "color": "#506784"
             },
             "line": {
              "color": "rgb(17,17,17)"
             }
            },
            "header": {
             "fill": {
              "color": "#2a3f5f"
             },
             "line": {
              "color": "rgb(17,17,17)"
             }
            },
            "type": "table"
           }
          ]
         },
         "layout": {
          "annotationdefaults": {
           "arrowcolor": "#f2f5fa",
           "arrowhead": 0,
           "arrowwidth": 1
          },
          "autotypenumbers": "strict",
          "coloraxis": {
           "colorbar": {
            "outlinewidth": 0,
            "ticks": ""
           }
          },
          "colorscale": {
           "diverging": [
            [
             0,
             "#8e0152"
            ],
            [
             0.1,
             "#c51b7d"
            ],
            [
             0.2,
             "#de77ae"
            ],
            [
             0.3,
             "#f1b6da"
            ],
            [
             0.4,
             "#fde0ef"
            ],
            [
             0.5,
             "#f7f7f7"
            ],
            [
             0.6,
             "#e6f5d0"
            ],
            [
             0.7,
             "#b8e186"
            ],
            [
             0.8,
             "#7fbc41"
            ],
            [
             0.9,
             "#4d9221"
            ],
            [
             1,
             "#276419"
            ]
           ],
           "sequential": [
            [
             0,
             "#0d0887"
            ],
            [
             0.1111111111111111,
             "#46039f"
            ],
            [
             0.2222222222222222,
             "#7201a8"
            ],
            [
             0.3333333333333333,
             "#9c179e"
            ],
            [
             0.4444444444444444,
             "#bd3786"
            ],
            [
             0.5555555555555556,
             "#d8576b"
            ],
            [
             0.6666666666666666,
             "#ed7953"
            ],
            [
             0.7777777777777778,
             "#fb9f3a"
            ],
            [
             0.8888888888888888,
             "#fdca26"
            ],
            [
             1,
             "#f0f921"
            ]
           ],
           "sequentialminus": [
            [
             0,
             "#0d0887"
            ],
            [
             0.1111111111111111,
             "#46039f"
            ],
            [
             0.2222222222222222,
             "#7201a8"
            ],
            [
             0.3333333333333333,
             "#9c179e"
            ],
            [
             0.4444444444444444,
             "#bd3786"
            ],
            [
             0.5555555555555556,
             "#d8576b"
            ],
            [
             0.6666666666666666,
             "#ed7953"
            ],
            [
             0.7777777777777778,
             "#fb9f3a"
            ],
            [
             0.8888888888888888,
             "#fdca26"
            ],
            [
             1,
             "#f0f921"
            ]
           ]
          },
          "colorway": [
           "#636efa",
           "#EF553B",
           "#00cc96",
           "#ab63fa",
           "#FFA15A",
           "#19d3f3",
           "#FF6692",
           "#B6E880",
           "#FF97FF",
           "#FECB52"
          ],
          "font": {
           "color": "#f2f5fa"
          },
          "geo": {
           "bgcolor": "rgb(17,17,17)",
           "lakecolor": "rgb(17,17,17)",
           "landcolor": "rgb(17,17,17)",
           "showlakes": true,
           "showland": true,
           "subunitcolor": "#506784"
          },
          "hoverlabel": {
           "align": "left"
          },
          "hovermode": "closest",
          "mapbox": {
           "style": "dark"
          },
          "paper_bgcolor": "rgb(17,17,17)",
          "plot_bgcolor": "rgb(17,17,17)",
          "polar": {
           "angularaxis": {
            "gridcolor": "#506784",
            "linecolor": "#506784",
            "ticks": ""
           },
           "bgcolor": "rgb(17,17,17)",
           "radialaxis": {
            "gridcolor": "#506784",
            "linecolor": "#506784",
            "ticks": ""
           }
          },
          "scene": {
           "xaxis": {
            "backgroundcolor": "rgb(17,17,17)",
            "gridcolor": "#506784",
            "gridwidth": 2,
            "linecolor": "#506784",
            "showbackground": true,
            "ticks": "",
            "zerolinecolor": "#C8D4E3"
           },
           "yaxis": {
            "backgroundcolor": "rgb(17,17,17)",
            "gridcolor": "#506784",
            "gridwidth": 2,
            "linecolor": "#506784",
            "showbackground": true,
            "ticks": "",
            "zerolinecolor": "#C8D4E3"
           },
           "zaxis": {
            "backgroundcolor": "rgb(17,17,17)",
            "gridcolor": "#506784",
            "gridwidth": 2,
            "linecolor": "#506784",
            "showbackground": true,
            "ticks": "",
            "zerolinecolor": "#C8D4E3"
           }
          },
          "shapedefaults": {
           "line": {
            "color": "#f2f5fa"
           }
          },
          "sliderdefaults": {
           "bgcolor": "#C8D4E3",
           "bordercolor": "rgb(17,17,17)",
           "borderwidth": 1,
           "tickwidth": 0
          },
          "ternary": {
           "aaxis": {
            "gridcolor": "#506784",
            "linecolor": "#506784",
            "ticks": ""
           },
           "baxis": {
            "gridcolor": "#506784",
            "linecolor": "#506784",
            "ticks": ""
           },
           "bgcolor": "rgb(17,17,17)",
           "caxis": {
            "gridcolor": "#506784",
            "linecolor": "#506784",
            "ticks": ""
           }
          },
          "title": {
           "x": 0.05
          },
          "updatemenudefaults": {
           "bgcolor": "#506784",
           "borderwidth": 0
          },
          "xaxis": {
           "automargin": true,
           "gridcolor": "#283442",
           "linecolor": "#506784",
           "ticks": "",
           "title": {
            "standoff": 15
           },
           "zerolinecolor": "#283442",
           "zerolinewidth": 2
          },
          "yaxis": {
           "automargin": true,
           "gridcolor": "#283442",
           "linecolor": "#506784",
           "ticks": "",
           "title": {
            "standoff": 15
           },
           "zerolinecolor": "#283442",
           "zerolinewidth": 2
          }
         }
        },
        "title": {
         "text": "MSFT Distribution of Residuals"
        },
        "xaxis": {
         "anchor": "y",
         "domain": [
          0,
          1
         ],
         "title": {
          "text": "Residuals"
         }
        },
        "xaxis2": {
         "anchor": "y2",
         "domain": [
          0,
          1
         ],
         "matches": "x",
         "showgrid": true,
         "showticklabels": false
        },
        "yaxis": {
         "anchor": "x",
         "domain": [
          0,
          0.7326
         ],
         "title": {
          "text": "Density"
         }
        },
        "yaxis2": {
         "anchor": "x2",
         "domain": [
          0.7426,
          1
         ],
         "matches": "y2",
         "showgrid": false,
         "showline": false,
         "showticklabels": false,
         "ticks": ""
        }
       }
      }
     },
     "metadata": {},
     "output_type": "display_data"
    }
   ],
   "source": [
    "fig = px.histogram(residuals, nbins = 30, marginal = 'box', histnorm = 'probability density')\n",
    "\n",
    "fig.update_layout(title = 'MSFT Distribution of Residuals',\n",
    "                xaxis_title = 'Residuals',\n",
    "                yaxis_title = 'Density',\n",
    "                template = 'plotly_dark')\n",
    "\n",
    "fig.show()"
   ]
  },
  {
   "cell_type": "markdown",
   "metadata": {},
   "source": [
    "#### Overall this is a good distribution.  The distribution is centered around 0, and suggests that on average the model's predictions are unbiased.  The histogram appears somewhat bell-shaped though it is definitely not normal.  Again the highest concentration of residuals are very close to the 0 marker, indicating that most predictions are very accurate.  Speaking to the boxplot at the top, is shows a few outliers on each end.  The majority of the data points within the IQR (Interquartile Range) suggest that most predictions are fairly close to the actual values.  If anything is to be improved I can look at the outliers here and remove them so as the model isn't hindered by their bias."
   ]
  },
  {
   "cell_type": "markdown",
   "metadata": {},
   "source": [
    "## Summary of the Analysis on the MSFT Linear Regression Model\n",
    "\n",
    "#### In this notebook we developed a baseline Linear Regression model to predict the closing prices of MSFT stock.  We implemented several of our previous preprocessing steps, including feature creation and scaling, followed by model creation and evaluation.\n",
    "\n",
    "### Key Insights\n",
    "\n",
    "#### - The model performed well as a baseline, with a Mean Squared Error (RMSE) of approximately 5.5 cents.\n",
    "#### - The residuals analysis indicated that the model's errors are unbiased and normally distributed, suggesting that the model is generally reliable.\n",
    "#### - The distribution of residuals showed no significant skewness or outliers, further confirming the model's robustness for a baseline.\n",
    "\n",
    "### Potential Next Steps\n",
    "\n",
    "#### - In the next phase, we will explore more advanced models such as Decision Trees, GRU, and Transformer models to improve prediction accuracy.\n",
    "#### - We will also consider incorporating additional data and refining features based on the insights gained from this baseline model."
   ]
  },
  {
   "cell_type": "code",
   "execution_count": null,
   "metadata": {},
   "outputs": [],
   "source": []
  }
 ],
 "metadata": {
  "kernelspec": {
   "display_name": "DL-Strat",
   "language": "python",
   "name": "python3"
  },
  "language_info": {
   "codemirror_mode": {
    "name": "ipython",
    "version": 3
   },
   "file_extension": ".py",
   "mimetype": "text/x-python",
   "name": "python",
   "nbconvert_exporter": "python",
   "pygments_lexer": "ipython3",
   "version": "3.11.0"
  }
 },
 "nbformat": 4,
 "nbformat_minor": 2
}
