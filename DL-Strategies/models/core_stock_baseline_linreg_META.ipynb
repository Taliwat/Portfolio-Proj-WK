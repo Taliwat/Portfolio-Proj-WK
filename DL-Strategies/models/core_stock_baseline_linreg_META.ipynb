{
 "cells": [
  {
   "cell_type": "markdown",
   "metadata": {},
   "source": [
    "# **Core Stock Baseline Modeling - Linear Regression for META Ticker**\n",
    "## In this notebook we will examine only the Meta stock for the periods we have selected for this project (01-01-2019 through 06-30-2024), and perform a Linear Regression model using the preprocessed dataframe that we created in our other notebook.  We will look to get an idea of how well our data is predicting with our new features that we created."
   ]
  },
  {
   "cell_type": "markdown",
   "metadata": {},
   "source": [
    "#### As usual let's start by bringing in our important libraries and logic for needing to complete this notebook."
   ]
  },
  {
   "cell_type": "code",
   "execution_count": 1,
   "metadata": {},
   "outputs": [],
   "source": [
    "import sys\n",
    "import os\n",
    "\n",
    "import numpy as np\n",
    "import pandas as pd\n",
    "from sklearn.model_selection import train_test_split\n",
    "from sklearn.linear_model import LinearRegression\n",
    "from sklearn.metrics import mean_squared_error, mean_absolute_error\n",
    "import plotly.graph_objects as go\n",
    "import plotly.express as px\n",
    "from sklearn.model_selection import cross_val_score\n",
    "\n",
    "project_root = os.path.abspath(os.path.join(os.getcwd(), '..'))\n",
    "if project_root not in sys.path:\n",
    "    sys.path.append(project_root)\n",
    "\n",
    "\n"
   ]
  },
  {
   "cell_type": "markdown",
   "metadata": {},
   "source": [
    "#### Now let's read in our data that we will use for this notebook."
   ]
  },
  {
   "cell_type": "code",
   "execution_count": 2,
   "metadata": {},
   "outputs": [
    {
     "data": {
      "text/html": [
       "<div>\n",
       "<style scoped>\n",
       "    .dataframe tbody tr th:only-of-type {\n",
       "        vertical-align: middle;\n",
       "    }\n",
       "\n",
       "    .dataframe tbody tr th {\n",
       "        vertical-align: top;\n",
       "    }\n",
       "\n",
       "    .dataframe thead th {\n",
       "        text-align: right;\n",
       "    }\n",
       "</style>\n",
       "<table border=\"1\" class=\"dataframe\">\n",
       "  <thead>\n",
       "    <tr style=\"text-align: right;\">\n",
       "      <th></th>\n",
       "      <th>Close</th>\n",
       "      <th>Volume</th>\n",
       "      <th>Open</th>\n",
       "      <th>High</th>\n",
       "      <th>Low</th>\n",
       "      <th>SMA_core</th>\n",
       "      <th>EMA_core</th>\n",
       "      <th>RSI_core</th>\n",
       "      <th>RMA_core</th>\n",
       "      <th>Close_Lag_1</th>\n",
       "      <th>...</th>\n",
       "      <th>EMA_Lag_Std_1_3</th>\n",
       "      <th>SMA_Lag_Avg_1_3</th>\n",
       "      <th>SMA_Lag_Std_1_3</th>\n",
       "      <th>RMA_Lag_Avg_1_3</th>\n",
       "      <th>RMA_Lag_Std_1_3</th>\n",
       "      <th>Close_Lag_Avg_1_3</th>\n",
       "      <th>Close_Lag_Std_1_3</th>\n",
       "      <th>Diff_Close_EMA_core</th>\n",
       "      <th>Ratio_Close_EMA_core</th>\n",
       "      <th>Ticker</th>\n",
       "    </tr>\n",
       "    <tr>\n",
       "      <th>Date</th>\n",
       "      <th></th>\n",
       "      <th></th>\n",
       "      <th></th>\n",
       "      <th></th>\n",
       "      <th></th>\n",
       "      <th></th>\n",
       "      <th></th>\n",
       "      <th></th>\n",
       "      <th></th>\n",
       "      <th></th>\n",
       "      <th></th>\n",
       "      <th></th>\n",
       "      <th></th>\n",
       "      <th></th>\n",
       "      <th></th>\n",
       "      <th></th>\n",
       "      <th></th>\n",
       "      <th></th>\n",
       "      <th></th>\n",
       "      <th></th>\n",
       "      <th></th>\n",
       "    </tr>\n",
       "  </thead>\n",
       "  <tbody>\n",
       "    <tr>\n",
       "      <th>2019-03-14</th>\n",
       "      <td>-1.013302</td>\n",
       "      <td>-0.074793</td>\n",
       "      <td>-1.012345</td>\n",
       "      <td>-1.018762</td>\n",
       "      <td>-1.009483</td>\n",
       "      <td>-1.085271</td>\n",
       "      <td>-1.049825</td>\n",
       "      <td>1.249108</td>\n",
       "      <td>0.801504</td>\n",
       "      <td>-1.013494</td>\n",
       "      <td>...</td>\n",
       "      <td>-0.081211</td>\n",
       "      <td>-1.086158</td>\n",
       "      <td>-0.085461</td>\n",
       "      <td>0.817706</td>\n",
       "      <td>-0.625300</td>\n",
       "      <td>-1.014627</td>\n",
       "      <td>-0.348813</td>\n",
       "      <td>0.037931</td>\n",
       "      <td>0.801504</td>\n",
       "      <td>AAPL</td>\n",
       "    </tr>\n",
       "    <tr>\n",
       "      <th>2019-03-15</th>\n",
       "      <td>-1.007093</td>\n",
       "      <td>0.293158</td>\n",
       "      <td>-1.009876</td>\n",
       "      <td>-1.010456</td>\n",
       "      <td>-1.006383</td>\n",
       "      <td>-1.083783</td>\n",
       "      <td>-1.048013</td>\n",
       "      <td>1.325622</td>\n",
       "      <td>0.931542</td>\n",
       "      <td>-1.013494</td>\n",
       "      <td>...</td>\n",
       "      <td>-0.081211</td>\n",
       "      <td>-1.086158</td>\n",
       "      <td>-0.085461</td>\n",
       "      <td>0.817706</td>\n",
       "      <td>-0.625300</td>\n",
       "      <td>-1.014627</td>\n",
       "      <td>-0.348813</td>\n",
       "      <td>0.074966</td>\n",
       "      <td>0.931542</td>\n",
       "      <td>AAPL</td>\n",
       "    </tr>\n",
       "    <tr>\n",
       "      <th>2019-03-18</th>\n",
       "      <td>-1.002157</td>\n",
       "      <td>-0.011968</td>\n",
       "      <td>-1.007406</td>\n",
       "      <td>-1.007730</td>\n",
       "      <td>-1.000997</td>\n",
       "      <td>-1.081366</td>\n",
       "      <td>-1.046072</td>\n",
       "      <td>1.432516</td>\n",
       "      <td>1.018034</td>\n",
       "      <td>-1.007280</td>\n",
       "      <td>...</td>\n",
       "      <td>-0.081211</td>\n",
       "      <td>-1.085413</td>\n",
       "      <td>-0.085461</td>\n",
       "      <td>0.884049</td>\n",
       "      <td>-0.625300</td>\n",
       "      <td>-1.011515</td>\n",
       "      <td>-0.348813</td>\n",
       "      <td>0.100376</td>\n",
       "      <td>1.018034</td>\n",
       "      <td>AAPL</td>\n",
       "    </tr>\n",
       "    <tr>\n",
       "      <th>2019-03-19</th>\n",
       "      <td>-1.006028</td>\n",
       "      <td>0.117158</td>\n",
       "      <td>-1.000779</td>\n",
       "      <td>-1.006187</td>\n",
       "      <td>-1.000655</td>\n",
       "      <td>-1.079347</td>\n",
       "      <td>-1.044364</td>\n",
       "      <td>1.112931</td>\n",
       "      <td>0.846961</td>\n",
       "      <td>-1.002341</td>\n",
       "      <td>...</td>\n",
       "      <td>-0.066578</td>\n",
       "      <td>-1.084358</td>\n",
       "      <td>-0.062046</td>\n",
       "      <td>0.935581</td>\n",
       "      <td>-0.515015</td>\n",
       "      <td>-1.008829</td>\n",
       "      <td>-0.323448</td>\n",
       "      <td>0.054402</td>\n",
       "      <td>0.846961</td>\n",
       "      <td>AAPL</td>\n",
       "    </tr>\n",
       "    <tr>\n",
       "      <th>2019-03-20</th>\n",
       "      <td>-1.001793</td>\n",
       "      <td>0.102615</td>\n",
       "      <td>-1.006289</td>\n",
       "      <td>-1.004901</td>\n",
       "      <td>-1.003782</td>\n",
       "      <td>-1.077225</td>\n",
       "      <td>-1.042552</td>\n",
       "      <td>1.535368</td>\n",
       "      <td>0.916237</td>\n",
       "      <td>-1.006214</td>\n",
       "      <td>...</td>\n",
       "      <td>-0.067836</td>\n",
       "      <td>-1.082380</td>\n",
       "      <td>-0.055671</td>\n",
       "      <td>0.951042</td>\n",
       "      <td>-0.666796</td>\n",
       "      <td>-1.006398</td>\n",
       "      <td>-0.386895</td>\n",
       "      <td>0.075012</td>\n",
       "      <td>0.916237</td>\n",
       "      <td>AAPL</td>\n",
       "    </tr>\n",
       "  </tbody>\n",
       "</table>\n",
       "<p>5 rows × 32 columns</p>\n",
       "</div>"
      ],
      "text/plain": [
       "               Close    Volume      Open      High       Low  SMA_core  \\\n",
       "Date                                                                     \n",
       "2019-03-14 -1.013302 -0.074793 -1.012345 -1.018762 -1.009483 -1.085271   \n",
       "2019-03-15 -1.007093  0.293158 -1.009876 -1.010456 -1.006383 -1.083783   \n",
       "2019-03-18 -1.002157 -0.011968 -1.007406 -1.007730 -1.000997 -1.081366   \n",
       "2019-03-19 -1.006028  0.117158 -1.000779 -1.006187 -1.000655 -1.079347   \n",
       "2019-03-20 -1.001793  0.102615 -1.006289 -1.004901 -1.003782 -1.077225   \n",
       "\n",
       "            EMA_core  RSI_core  RMA_core  Close_Lag_1  ...  EMA_Lag_Std_1_3  \\\n",
       "Date                                                   ...                    \n",
       "2019-03-14 -1.049825  1.249108  0.801504    -1.013494  ...        -0.081211   \n",
       "2019-03-15 -1.048013  1.325622  0.931542    -1.013494  ...        -0.081211   \n",
       "2019-03-18 -1.046072  1.432516  1.018034    -1.007280  ...        -0.081211   \n",
       "2019-03-19 -1.044364  1.112931  0.846961    -1.002341  ...        -0.066578   \n",
       "2019-03-20 -1.042552  1.535368  0.916237    -1.006214  ...        -0.067836   \n",
       "\n",
       "            SMA_Lag_Avg_1_3  SMA_Lag_Std_1_3  RMA_Lag_Avg_1_3  \\\n",
       "Date                                                            \n",
       "2019-03-14        -1.086158        -0.085461         0.817706   \n",
       "2019-03-15        -1.086158        -0.085461         0.817706   \n",
       "2019-03-18        -1.085413        -0.085461         0.884049   \n",
       "2019-03-19        -1.084358        -0.062046         0.935581   \n",
       "2019-03-20        -1.082380        -0.055671         0.951042   \n",
       "\n",
       "            RMA_Lag_Std_1_3  Close_Lag_Avg_1_3  Close_Lag_Std_1_3  \\\n",
       "Date                                                                \n",
       "2019-03-14        -0.625300          -1.014627          -0.348813   \n",
       "2019-03-15        -0.625300          -1.014627          -0.348813   \n",
       "2019-03-18        -0.625300          -1.011515          -0.348813   \n",
       "2019-03-19        -0.515015          -1.008829          -0.323448   \n",
       "2019-03-20        -0.666796          -1.006398          -0.386895   \n",
       "\n",
       "            Diff_Close_EMA_core  Ratio_Close_EMA_core  Ticker  \n",
       "Date                                                           \n",
       "2019-03-14             0.037931              0.801504    AAPL  \n",
       "2019-03-15             0.074966              0.931542    AAPL  \n",
       "2019-03-18             0.100376              1.018034    AAPL  \n",
       "2019-03-19             0.054402              0.846961    AAPL  \n",
       "2019-03-20             0.075012              0.916237    AAPL  \n",
       "\n",
       "[5 rows x 32 columns]"
      ]
     },
     "execution_count": 2,
     "metadata": {},
     "output_type": "execute_result"
    }
   ],
   "source": [
    "# Now let's access the main core_stock_data.csv file\n",
    "csv_path = os.path.join(project_root, 'data', 'core_stock_preprocessed.csv')\n",
    "preprocessed_df = pd.read_csv(csv_path, parse_dates=['Date'], index_col= 'Date')\n",
    "preprocessed_df.head()"
   ]
  },
  {
   "cell_type": "markdown",
   "metadata": {},
   "source": [
    "#### Great now let's grab the data just for our subject Meta ticker to use in our Linear Regression model."
   ]
  },
  {
   "cell_type": "code",
   "execution_count": 3,
   "metadata": {},
   "outputs": [
    {
     "name": "stdout",
     "output_type": "stream",
     "text": [
      "               Close    Volume      Open      High       Low  SMA_core  \\\n",
      "Date                                                                     \n",
      "2019-01-02 -0.080617 -0.468432 -0.149279 -0.077662 -0.138076 -0.417891   \n",
      "2019-01-03 -0.121563 -0.500724 -0.090019 -0.081160 -0.111173 -0.417891   \n",
      "2019-01-04 -0.057027 -0.463341 -0.097088 -0.072622 -0.083535 -0.417891   \n",
      "2019-01-07 -0.055987 -0.516361 -0.060181 -0.063672 -0.060835 -0.417891   \n",
      "2019-01-08 -0.009430 -0.479630 -0.035957 -0.019747 -0.022688 -0.417891   \n",
      "\n",
      "            EMA_core  RSI_core  RMA_core  Close_Lag_1  ...  EMA_Lag_Std_1_3  \\\n",
      "Date                                                   ...                    \n",
      "2019-01-02 -0.048049 -0.159815 -0.370774    -0.206425  ...         0.044165   \n",
      "2019-01-03 -0.049705 -3.408328 -0.743047    -0.080177  ...         3.918596   \n",
      "2019-01-04 -0.048686  0.353841 -0.141853    -0.121150  ...         3.862504   \n",
      "2019-01-07 -0.047665  0.377129 -0.141549    -0.056570  ...        -0.092171   \n",
      "2019-01-08 -0.044801  1.096015  0.270901    -0.055530  ...        -0.087630   \n",
      "\n",
      "            SMA_Lag_Avg_1_3  SMA_Lag_Std_1_3  RMA_Lag_Avg_1_3  \\\n",
      "Date                                                            \n",
      "2019-01-02        -0.425784         0.092285         1.591747   \n",
      "2019-01-03        -0.420424         0.010352         0.832926   \n",
      "2019-01-04        -0.417641        -0.112260         0.077765   \n",
      "2019-01-07        -0.417641        -0.112260        -0.427197   \n",
      "2019-01-08        -0.417641        -0.112260        -0.349232   \n",
      "\n",
      "            RMA_Lag_Std_1_3  Close_Lag_Avg_1_3  Close_Lag_Std_1_3  \\\n",
      "Date                                                                \n",
      "2019-01-02         0.517218          -0.194757          -0.102628   \n",
      "2019-01-03         5.447409          -0.162536           1.077108   \n",
      "2019-01-04         5.979021          -0.135628           0.924924   \n",
      "2019-01-07         0.743292          -0.085595           0.251480   \n",
      "2019-01-08         1.026453          -0.077366           0.355739   \n",
      "\n",
      "            Diff_Close_EMA_core  Ratio_Close_EMA_core  Ticker  \n",
      "Date                                                           \n",
      "2019-01-02            -0.283065             -0.370774    META  \n",
      "2019-01-03            -0.610288             -0.743047    META  \n",
      "2019-01-04            -0.081705             -0.141853    META  \n",
      "2019-01-07            -0.081296             -0.141549    META  \n",
      "2019-01-08             0.282863              0.270901    META  \n",
      "\n",
      "[5 rows x 32 columns]\n"
     ]
    },
    {
     "data": {
      "text/plain": [
       "(1382, 32)"
      ]
     },
     "execution_count": 3,
     "metadata": {},
     "output_type": "execute_result"
    }
   ],
   "source": [
    "meta_data = preprocessed_df[preprocessed_df['Ticker'] == 'META']\n",
    "print(meta_data.head())\n",
    "meta_data.shape"
   ]
  },
  {
   "cell_type": "markdown",
   "metadata": {},
   "source": [
    "#### Now let's prepare our Linear Regression model.  We will be dropping the Ticker and Close columns for the X as Ticker is an improper format and our Close feature will be our y target.  The Date feature is our index so it won't be included in the model as it will automatically be excluded from the feature set."
   ]
  },
  {
   "cell_type": "code",
   "execution_count": 4,
   "metadata": {},
   "outputs": [],
   "source": [
    "X = meta_data[['EMA_core', 'SMA_core', 'RSI_core', 'Close_Lag_1']]\n",
    "y = meta_data['Close']"
   ]
  },
  {
   "cell_type": "markdown",
   "metadata": {},
   "source": [
    "#### Let's now set up the rest of the model and run our first set of predictions on it.  I will be looking for the MAE (Mean Absolute Error) and the RMSE (Root Mean Squared Error) for metrics here."
   ]
  },
  {
   "cell_type": "code",
   "execution_count": 5,
   "metadata": {},
   "outputs": [
    {
     "data": {
      "text/html": [
       "<style>#sk-container-id-1 {\n",
       "  /* Definition of color scheme common for light and dark mode */\n",
       "  --sklearn-color-text: black;\n",
       "  --sklearn-color-line: gray;\n",
       "  /* Definition of color scheme for unfitted estimators */\n",
       "  --sklearn-color-unfitted-level-0: #fff5e6;\n",
       "  --sklearn-color-unfitted-level-1: #f6e4d2;\n",
       "  --sklearn-color-unfitted-level-2: #ffe0b3;\n",
       "  --sklearn-color-unfitted-level-3: chocolate;\n",
       "  /* Definition of color scheme for fitted estimators */\n",
       "  --sklearn-color-fitted-level-0: #f0f8ff;\n",
       "  --sklearn-color-fitted-level-1: #d4ebff;\n",
       "  --sklearn-color-fitted-level-2: #b3dbfd;\n",
       "  --sklearn-color-fitted-level-3: cornflowerblue;\n",
       "\n",
       "  /* Specific color for light theme */\n",
       "  --sklearn-color-text-on-default-background: var(--sg-text-color, var(--theme-code-foreground, var(--jp-content-font-color1, black)));\n",
       "  --sklearn-color-background: var(--sg-background-color, var(--theme-background, var(--jp-layout-color0, white)));\n",
       "  --sklearn-color-border-box: var(--sg-text-color, var(--theme-code-foreground, var(--jp-content-font-color1, black)));\n",
       "  --sklearn-color-icon: #696969;\n",
       "\n",
       "  @media (prefers-color-scheme: dark) {\n",
       "    /* Redefinition of color scheme for dark theme */\n",
       "    --sklearn-color-text-on-default-background: var(--sg-text-color, var(--theme-code-foreground, var(--jp-content-font-color1, white)));\n",
       "    --sklearn-color-background: var(--sg-background-color, var(--theme-background, var(--jp-layout-color0, #111)));\n",
       "    --sklearn-color-border-box: var(--sg-text-color, var(--theme-code-foreground, var(--jp-content-font-color1, white)));\n",
       "    --sklearn-color-icon: #878787;\n",
       "  }\n",
       "}\n",
       "\n",
       "#sk-container-id-1 {\n",
       "  color: var(--sklearn-color-text);\n",
       "}\n",
       "\n",
       "#sk-container-id-1 pre {\n",
       "  padding: 0;\n",
       "}\n",
       "\n",
       "#sk-container-id-1 input.sk-hidden--visually {\n",
       "  border: 0;\n",
       "  clip: rect(1px 1px 1px 1px);\n",
       "  clip: rect(1px, 1px, 1px, 1px);\n",
       "  height: 1px;\n",
       "  margin: -1px;\n",
       "  overflow: hidden;\n",
       "  padding: 0;\n",
       "  position: absolute;\n",
       "  width: 1px;\n",
       "}\n",
       "\n",
       "#sk-container-id-1 div.sk-dashed-wrapped {\n",
       "  border: 1px dashed var(--sklearn-color-line);\n",
       "  margin: 0 0.4em 0.5em 0.4em;\n",
       "  box-sizing: border-box;\n",
       "  padding-bottom: 0.4em;\n",
       "  background-color: var(--sklearn-color-background);\n",
       "}\n",
       "\n",
       "#sk-container-id-1 div.sk-container {\n",
       "  /* jupyter's `normalize.less` sets `[hidden] { display: none; }`\n",
       "     but bootstrap.min.css set `[hidden] { display: none !important; }`\n",
       "     so we also need the `!important` here to be able to override the\n",
       "     default hidden behavior on the sphinx rendered scikit-learn.org.\n",
       "     See: https://github.com/scikit-learn/scikit-learn/issues/21755 */\n",
       "  display: inline-block !important;\n",
       "  position: relative;\n",
       "}\n",
       "\n",
       "#sk-container-id-1 div.sk-text-repr-fallback {\n",
       "  display: none;\n",
       "}\n",
       "\n",
       "div.sk-parallel-item,\n",
       "div.sk-serial,\n",
       "div.sk-item {\n",
       "  /* draw centered vertical line to link estimators */\n",
       "  background-image: linear-gradient(var(--sklearn-color-text-on-default-background), var(--sklearn-color-text-on-default-background));\n",
       "  background-size: 2px 100%;\n",
       "  background-repeat: no-repeat;\n",
       "  background-position: center center;\n",
       "}\n",
       "\n",
       "/* Parallel-specific style estimator block */\n",
       "\n",
       "#sk-container-id-1 div.sk-parallel-item::after {\n",
       "  content: \"\";\n",
       "  width: 100%;\n",
       "  border-bottom: 2px solid var(--sklearn-color-text-on-default-background);\n",
       "  flex-grow: 1;\n",
       "}\n",
       "\n",
       "#sk-container-id-1 div.sk-parallel {\n",
       "  display: flex;\n",
       "  align-items: stretch;\n",
       "  justify-content: center;\n",
       "  background-color: var(--sklearn-color-background);\n",
       "  position: relative;\n",
       "}\n",
       "\n",
       "#sk-container-id-1 div.sk-parallel-item {\n",
       "  display: flex;\n",
       "  flex-direction: column;\n",
       "}\n",
       "\n",
       "#sk-container-id-1 div.sk-parallel-item:first-child::after {\n",
       "  align-self: flex-end;\n",
       "  width: 50%;\n",
       "}\n",
       "\n",
       "#sk-container-id-1 div.sk-parallel-item:last-child::after {\n",
       "  align-self: flex-start;\n",
       "  width: 50%;\n",
       "}\n",
       "\n",
       "#sk-container-id-1 div.sk-parallel-item:only-child::after {\n",
       "  width: 0;\n",
       "}\n",
       "\n",
       "/* Serial-specific style estimator block */\n",
       "\n",
       "#sk-container-id-1 div.sk-serial {\n",
       "  display: flex;\n",
       "  flex-direction: column;\n",
       "  align-items: center;\n",
       "  background-color: var(--sklearn-color-background);\n",
       "  padding-right: 1em;\n",
       "  padding-left: 1em;\n",
       "}\n",
       "\n",
       "\n",
       "/* Toggleable style: style used for estimator/Pipeline/ColumnTransformer box that is\n",
       "clickable and can be expanded/collapsed.\n",
       "- Pipeline and ColumnTransformer use this feature and define the default style\n",
       "- Estimators will overwrite some part of the style using the `sk-estimator` class\n",
       "*/\n",
       "\n",
       "/* Pipeline and ColumnTransformer style (default) */\n",
       "\n",
       "#sk-container-id-1 div.sk-toggleable {\n",
       "  /* Default theme specific background. It is overwritten whether we have a\n",
       "  specific estimator or a Pipeline/ColumnTransformer */\n",
       "  background-color: var(--sklearn-color-background);\n",
       "}\n",
       "\n",
       "/* Toggleable label */\n",
       "#sk-container-id-1 label.sk-toggleable__label {\n",
       "  cursor: pointer;\n",
       "  display: block;\n",
       "  width: 100%;\n",
       "  margin-bottom: 0;\n",
       "  padding: 0.5em;\n",
       "  box-sizing: border-box;\n",
       "  text-align: center;\n",
       "}\n",
       "\n",
       "#sk-container-id-1 label.sk-toggleable__label-arrow:before {\n",
       "  /* Arrow on the left of the label */\n",
       "  content: \"▸\";\n",
       "  float: left;\n",
       "  margin-right: 0.25em;\n",
       "  color: var(--sklearn-color-icon);\n",
       "}\n",
       "\n",
       "#sk-container-id-1 label.sk-toggleable__label-arrow:hover:before {\n",
       "  color: var(--sklearn-color-text);\n",
       "}\n",
       "\n",
       "/* Toggleable content - dropdown */\n",
       "\n",
       "#sk-container-id-1 div.sk-toggleable__content {\n",
       "  max-height: 0;\n",
       "  max-width: 0;\n",
       "  overflow: hidden;\n",
       "  text-align: left;\n",
       "  /* unfitted */\n",
       "  background-color: var(--sklearn-color-unfitted-level-0);\n",
       "}\n",
       "\n",
       "#sk-container-id-1 div.sk-toggleable__content.fitted {\n",
       "  /* fitted */\n",
       "  background-color: var(--sklearn-color-fitted-level-0);\n",
       "}\n",
       "\n",
       "#sk-container-id-1 div.sk-toggleable__content pre {\n",
       "  margin: 0.2em;\n",
       "  border-radius: 0.25em;\n",
       "  color: var(--sklearn-color-text);\n",
       "  /* unfitted */\n",
       "  background-color: var(--sklearn-color-unfitted-level-0);\n",
       "}\n",
       "\n",
       "#sk-container-id-1 div.sk-toggleable__content.fitted pre {\n",
       "  /* unfitted */\n",
       "  background-color: var(--sklearn-color-fitted-level-0);\n",
       "}\n",
       "\n",
       "#sk-container-id-1 input.sk-toggleable__control:checked~div.sk-toggleable__content {\n",
       "  /* Expand drop-down */\n",
       "  max-height: 200px;\n",
       "  max-width: 100%;\n",
       "  overflow: auto;\n",
       "}\n",
       "\n",
       "#sk-container-id-1 input.sk-toggleable__control:checked~label.sk-toggleable__label-arrow:before {\n",
       "  content: \"▾\";\n",
       "}\n",
       "\n",
       "/* Pipeline/ColumnTransformer-specific style */\n",
       "\n",
       "#sk-container-id-1 div.sk-label input.sk-toggleable__control:checked~label.sk-toggleable__label {\n",
       "  color: var(--sklearn-color-text);\n",
       "  background-color: var(--sklearn-color-unfitted-level-2);\n",
       "}\n",
       "\n",
       "#sk-container-id-1 div.sk-label.fitted input.sk-toggleable__control:checked~label.sk-toggleable__label {\n",
       "  background-color: var(--sklearn-color-fitted-level-2);\n",
       "}\n",
       "\n",
       "/* Estimator-specific style */\n",
       "\n",
       "/* Colorize estimator box */\n",
       "#sk-container-id-1 div.sk-estimator input.sk-toggleable__control:checked~label.sk-toggleable__label {\n",
       "  /* unfitted */\n",
       "  background-color: var(--sklearn-color-unfitted-level-2);\n",
       "}\n",
       "\n",
       "#sk-container-id-1 div.sk-estimator.fitted input.sk-toggleable__control:checked~label.sk-toggleable__label {\n",
       "  /* fitted */\n",
       "  background-color: var(--sklearn-color-fitted-level-2);\n",
       "}\n",
       "\n",
       "#sk-container-id-1 div.sk-label label.sk-toggleable__label,\n",
       "#sk-container-id-1 div.sk-label label {\n",
       "  /* The background is the default theme color */\n",
       "  color: var(--sklearn-color-text-on-default-background);\n",
       "}\n",
       "\n",
       "/* On hover, darken the color of the background */\n",
       "#sk-container-id-1 div.sk-label:hover label.sk-toggleable__label {\n",
       "  color: var(--sklearn-color-text);\n",
       "  background-color: var(--sklearn-color-unfitted-level-2);\n",
       "}\n",
       "\n",
       "/* Label box, darken color on hover, fitted */\n",
       "#sk-container-id-1 div.sk-label.fitted:hover label.sk-toggleable__label.fitted {\n",
       "  color: var(--sklearn-color-text);\n",
       "  background-color: var(--sklearn-color-fitted-level-2);\n",
       "}\n",
       "\n",
       "/* Estimator label */\n",
       "\n",
       "#sk-container-id-1 div.sk-label label {\n",
       "  font-family: monospace;\n",
       "  font-weight: bold;\n",
       "  display: inline-block;\n",
       "  line-height: 1.2em;\n",
       "}\n",
       "\n",
       "#sk-container-id-1 div.sk-label-container {\n",
       "  text-align: center;\n",
       "}\n",
       "\n",
       "/* Estimator-specific */\n",
       "#sk-container-id-1 div.sk-estimator {\n",
       "  font-family: monospace;\n",
       "  border: 1px dotted var(--sklearn-color-border-box);\n",
       "  border-radius: 0.25em;\n",
       "  box-sizing: border-box;\n",
       "  margin-bottom: 0.5em;\n",
       "  /* unfitted */\n",
       "  background-color: var(--sklearn-color-unfitted-level-0);\n",
       "}\n",
       "\n",
       "#sk-container-id-1 div.sk-estimator.fitted {\n",
       "  /* fitted */\n",
       "  background-color: var(--sklearn-color-fitted-level-0);\n",
       "}\n",
       "\n",
       "/* on hover */\n",
       "#sk-container-id-1 div.sk-estimator:hover {\n",
       "  /* unfitted */\n",
       "  background-color: var(--sklearn-color-unfitted-level-2);\n",
       "}\n",
       "\n",
       "#sk-container-id-1 div.sk-estimator.fitted:hover {\n",
       "  /* fitted */\n",
       "  background-color: var(--sklearn-color-fitted-level-2);\n",
       "}\n",
       "\n",
       "/* Specification for estimator info (e.g. \"i\" and \"?\") */\n",
       "\n",
       "/* Common style for \"i\" and \"?\" */\n",
       "\n",
       ".sk-estimator-doc-link,\n",
       "a:link.sk-estimator-doc-link,\n",
       "a:visited.sk-estimator-doc-link {\n",
       "  float: right;\n",
       "  font-size: smaller;\n",
       "  line-height: 1em;\n",
       "  font-family: monospace;\n",
       "  background-color: var(--sklearn-color-background);\n",
       "  border-radius: 1em;\n",
       "  height: 1em;\n",
       "  width: 1em;\n",
       "  text-decoration: none !important;\n",
       "  margin-left: 1ex;\n",
       "  /* unfitted */\n",
       "  border: var(--sklearn-color-unfitted-level-1) 1pt solid;\n",
       "  color: var(--sklearn-color-unfitted-level-1);\n",
       "}\n",
       "\n",
       ".sk-estimator-doc-link.fitted,\n",
       "a:link.sk-estimator-doc-link.fitted,\n",
       "a:visited.sk-estimator-doc-link.fitted {\n",
       "  /* fitted */\n",
       "  border: var(--sklearn-color-fitted-level-1) 1pt solid;\n",
       "  color: var(--sklearn-color-fitted-level-1);\n",
       "}\n",
       "\n",
       "/* On hover */\n",
       "div.sk-estimator:hover .sk-estimator-doc-link:hover,\n",
       ".sk-estimator-doc-link:hover,\n",
       "div.sk-label-container:hover .sk-estimator-doc-link:hover,\n",
       ".sk-estimator-doc-link:hover {\n",
       "  /* unfitted */\n",
       "  background-color: var(--sklearn-color-unfitted-level-3);\n",
       "  color: var(--sklearn-color-background);\n",
       "  text-decoration: none;\n",
       "}\n",
       "\n",
       "div.sk-estimator.fitted:hover .sk-estimator-doc-link.fitted:hover,\n",
       ".sk-estimator-doc-link.fitted:hover,\n",
       "div.sk-label-container:hover .sk-estimator-doc-link.fitted:hover,\n",
       ".sk-estimator-doc-link.fitted:hover {\n",
       "  /* fitted */\n",
       "  background-color: var(--sklearn-color-fitted-level-3);\n",
       "  color: var(--sklearn-color-background);\n",
       "  text-decoration: none;\n",
       "}\n",
       "\n",
       "/* Span, style for the box shown on hovering the info icon */\n",
       ".sk-estimator-doc-link span {\n",
       "  display: none;\n",
       "  z-index: 9999;\n",
       "  position: relative;\n",
       "  font-weight: normal;\n",
       "  right: .2ex;\n",
       "  padding: .5ex;\n",
       "  margin: .5ex;\n",
       "  width: min-content;\n",
       "  min-width: 20ex;\n",
       "  max-width: 50ex;\n",
       "  color: var(--sklearn-color-text);\n",
       "  box-shadow: 2pt 2pt 4pt #999;\n",
       "  /* unfitted */\n",
       "  background: var(--sklearn-color-unfitted-level-0);\n",
       "  border: .5pt solid var(--sklearn-color-unfitted-level-3);\n",
       "}\n",
       "\n",
       ".sk-estimator-doc-link.fitted span {\n",
       "  /* fitted */\n",
       "  background: var(--sklearn-color-fitted-level-0);\n",
       "  border: var(--sklearn-color-fitted-level-3);\n",
       "}\n",
       "\n",
       ".sk-estimator-doc-link:hover span {\n",
       "  display: block;\n",
       "}\n",
       "\n",
       "/* \"?\"-specific style due to the `<a>` HTML tag */\n",
       "\n",
       "#sk-container-id-1 a.estimator_doc_link {\n",
       "  float: right;\n",
       "  font-size: 1rem;\n",
       "  line-height: 1em;\n",
       "  font-family: monospace;\n",
       "  background-color: var(--sklearn-color-background);\n",
       "  border-radius: 1rem;\n",
       "  height: 1rem;\n",
       "  width: 1rem;\n",
       "  text-decoration: none;\n",
       "  /* unfitted */\n",
       "  color: var(--sklearn-color-unfitted-level-1);\n",
       "  border: var(--sklearn-color-unfitted-level-1) 1pt solid;\n",
       "}\n",
       "\n",
       "#sk-container-id-1 a.estimator_doc_link.fitted {\n",
       "  /* fitted */\n",
       "  border: var(--sklearn-color-fitted-level-1) 1pt solid;\n",
       "  color: var(--sklearn-color-fitted-level-1);\n",
       "}\n",
       "\n",
       "/* On hover */\n",
       "#sk-container-id-1 a.estimator_doc_link:hover {\n",
       "  /* unfitted */\n",
       "  background-color: var(--sklearn-color-unfitted-level-3);\n",
       "  color: var(--sklearn-color-background);\n",
       "  text-decoration: none;\n",
       "}\n",
       "\n",
       "#sk-container-id-1 a.estimator_doc_link.fitted:hover {\n",
       "  /* fitted */\n",
       "  background-color: var(--sklearn-color-fitted-level-3);\n",
       "}\n",
       "</style><div id=\"sk-container-id-1\" class=\"sk-top-container\"><div class=\"sk-text-repr-fallback\"><pre>LinearRegression()</pre><b>In a Jupyter environment, please rerun this cell to show the HTML representation or trust the notebook. <br />On GitHub, the HTML representation is unable to render, please try loading this page with nbviewer.org.</b></div><div class=\"sk-container\" hidden><div class=\"sk-item\"><div class=\"sk-estimator fitted sk-toggleable\"><input class=\"sk-toggleable__control sk-hidden--visually\" id=\"sk-estimator-id-1\" type=\"checkbox\" checked><label for=\"sk-estimator-id-1\" class=\"sk-toggleable__label fitted sk-toggleable__label-arrow fitted\">&nbsp;&nbsp;LinearRegression<a class=\"sk-estimator-doc-link fitted\" rel=\"noreferrer\" target=\"_blank\" href=\"https://scikit-learn.org/1.5/modules/generated/sklearn.linear_model.LinearRegression.html\">?<span>Documentation for LinearRegression</span></a><span class=\"sk-estimator-doc-link fitted\">i<span>Fitted</span></span></label><div class=\"sk-toggleable__content fitted\"><pre>LinearRegression()</pre></div> </div></div></div></div>"
      ],
      "text/plain": [
       "LinearRegression()"
      ]
     },
     "execution_count": 5,
     "metadata": {},
     "output_type": "execute_result"
    }
   ],
   "source": [
    "X_train, X_test, y_train, y_test = train_test_split(X, y, test_size = 0.2, random_state = 42)\n",
    "model = LinearRegression()\n",
    "model.fit(X_train, y_train)"
   ]
  },
  {
   "cell_type": "markdown",
   "metadata": {},
   "source": [
    "#### Now let's make our predictions and see where we end up."
   ]
  },
  {
   "cell_type": "code",
   "execution_count": 6,
   "metadata": {},
   "outputs": [],
   "source": [
    "y_pred = model.predict(X_test)"
   ]
  },
  {
   "cell_type": "markdown",
   "metadata": {},
   "source": [
    "#### Let's retrieve our MAE and RMSE metrics for performance."
   ]
  },
  {
   "cell_type": "code",
   "execution_count": 7,
   "metadata": {},
   "outputs": [
    {
     "name": "stdout",
     "output_type": "stream",
     "text": [
      "Mean Absolute Error (MAE): 0.0406684463695958\n",
      "Root Mean Squared Error (RMSE): 0.0030154289681431365\n"
     ]
    }
   ],
   "source": [
    "mae = mean_absolute_error(y_test, y_pred)\n",
    "rmse = mean_squared_error(y_test, y_pred)\n",
    "\n",
    "print(f'Mean Absolute Error (MAE): {mae}')\n",
    "print(f'Root Mean Squared Error (RMSE): {rmse}')"
   ]
  },
  {
   "cell_type": "markdown",
   "metadata": {},
   "source": [
    "#### Great scores, let's verify with cross validation just to make sure that our data isn't being misinterpreted by the model."
   ]
  },
  {
   "cell_type": "code",
   "execution_count": 8,
   "metadata": {},
   "outputs": [
    {
     "name": "stdout",
     "output_type": "stream",
     "text": [
      "Cross-validated RMSE Scores: [0.04509668 0.06015497 0.08038245 0.05999339 0.08730525]\n",
      "Mean RMSE: 0.06658654634462619\n"
     ]
    }
   ],
   "source": [
    "scores = cross_val_score(model, X, y, cv = 5, scoring = 'neg_mean_squared_error')\n",
    "rmse_scores = np.sqrt(-scores)\n",
    "\n",
    "print(f'Cross-validated RMSE Scores: {rmse_scores}')\n",
    "print(f'Mean RMSE: {rmse_scores.mean()}')"
   ]
  },
  {
   "cell_type": "markdown",
   "metadata": {},
   "source": [
    "#### Our original scores were quite unrealistic, we have since tested with our model and the scores above reflect a great resting place to go forward with.  2.4 cents of error in our AAPL data in predicting future prices, not too bad!"
   ]
  },
  {
   "cell_type": "code",
   "execution_count": 9,
   "metadata": {},
   "outputs": [
    {
     "name": "stdout",
     "output_type": "stream",
     "text": [
      "Close_Lag_1    0.997435\n",
      "EMA_core       0.970695\n",
      "SMA_core       0.955791\n",
      "RSI_core       0.132301\n",
      "dtype: float64\n"
     ]
    }
   ],
   "source": [
    "correlations = X.corrwith(y)\n",
    "print(correlations.sort_values(ascending = False))"
   ]
  },
  {
   "cell_type": "markdown",
   "metadata": {},
   "source": [
    "#### There are several feature columns that are influencing our Close target because they are correlating too well.  Let's go back to our X and y assignment at the top of our notebook and drop some more of those columns to balance our score."
   ]
  },
  {
   "cell_type": "markdown",
   "metadata": {},
   "source": [
    "#### Now that our predictions look good let's make a few plots to visualize our results, starting with a plot that shows Actual vs Predicted values."
   ]
  },
  {
   "cell_type": "code",
   "execution_count": 10,
   "metadata": {},
   "outputs": [
    {
     "data": {
      "application/vnd.plotly.v1+json": {
       "config": {
        "plotlyServerURL": "https://plot.ly"
       },
       "data": [
        {
         "mode": "markers",
         "name": "Predicted vs Actual",
         "type": "scatter",
         "x": [
          0.1327371462510339,
          1.936948495561147,
          0.8093813582307229,
          0.8263207382697865,
          1.8660727708132956,
          2.3187623721889987,
          0.4192534322366473,
          0.4090689992680089,
          2.059993571844262,
          1.4160852751251842,
          0.6186821522202444,
          2.004810357591957,
          1.9187619288300104,
          0.1770083887498019,
          0.6410255850602147,
          0.5266061565984943,
          0.4638365903391414,
          1.882804259974634,
          1.612188375362292,
          0.4767229704210941,
          0.5846992088418386,
          0.4235143230714828,
          1.3565371453120425,
          1.257602336468143,
          1.0502753488737722,
          1.3261914201352971,
          0.6585886377324528,
          1.2986518253721453,
          0.718760281604492,
          1.6387926990370976,
          2.433181959224997,
          0.1007287697753215,
          0.3748781650118781,
          1.7912479122600573,
          0.3231244366577863,
          -0.0463227077952863,
          1.1783088547766218,
          0.6507943948476803,
          1.8830123094266364,
          2.1167355712438107,
          1.9726981149645209,
          1.4033026026206774,
          0.8111480342556917,
          0.2339582790270754,
          0.4723582134345351,
          0.3740467600752557,
          0.2068343074450959,
          0.5540418852099221,
          1.6545889171100905,
          1.9643840655982971,
          -0.0314616022363625,
          1.3891688772723747,
          0.4156160554607091,
          0.5177726178993745,
          0.3021318980873346,
          1.7565375886710302,
          0.2778138983446709,
          1.5599149991010264,
          0.3766448410368466,
          1.3121620366615507,
          1.914293305691728,
          1.235674368235068,
          0.35482105610405,
          0.5759696948687202,
          -0.1085726261474653,
          0.5968582087131704,
          1.6641499945941085,
          1.2623827166358748,
          0.335491327406843,
          0.9359597865637752,
          1.3424034199637398,
          1.0621225917156554,
          1.7374157508515482,
          0.1959223356915589,
          0.3975335134555744,
          0.7072247957920581,
          0.6662790144655019,
          0.9597581383992654,
          0.4345301609767436,
          1.0882072674832877,
          1.3539390643504516,
          0.3837117037109982,
          0.1569511212676964,
          0.4679934564479758,
          0.6927794719885836,
          2.418216987514349,
          3.1161654950939384,
          2.1595518947470587,
          0.2708510603965208,
          0.7608490663228422,
          1.4763606265746696,
          2.0880526559403103,
          1.9414171186994296,
          0.2038206033023326,
          0.7838161717959873,
          0.3128359789631467,
          3.375453784771571,
          2.014163385623973,
          1.967397928315338,
          1.012447296415981,
          2.476933553816591,
          1.447574003693723,
          0.2670059513171351,
          1.3404291702096012,
          0.37061743275132,
          0.7509763903836522,
          0.3339325422595995,
          1.7385590713918968,
          2.073295733681665,
          0.9203713007942304,
          1.2804652586410097,
          3.905566325662104,
          -0.3328389937808997,
          1.3289975505488905,
          0.5744109097214763,
          1.4278283346667886,
          2.0043945758365065,
          0.5587183992259301,
          1.817852235934863,
          1.534765435847463,
          0.4027296753787561,
          2.47973936708163,
          0.3609524891155777,
          3.7487461968783062,
          1.2797377198561108,
          1.730556779055122,
          1.8028875813727705,
          -0.5012986331031316,
          0.995403891650916,
          0.81987754822881,
          1.4414425706821952,
          3.615620553778277,
          1.258953072163384,
          1.3347132018049683,
          2.1683854334461787,
          1.352380279203208,
          0.4048081084331733,
          1.3442742792889868,
          3.37067340460384,
          0.2876865742838607,
          0.6928833381403079,
          2.058226737245016,
          0.940012786520886,
          3.640666092305839,
          1.2752690967178275,
          0.925567462717412,
          0.3744625418307056,
          0.233126874090453,
          3.5157501566974765,
          2.0757897899172546,
          0.2881023560393105,
          0.258692060525189,
          0.8610310618588135,
          2.3863124771903603,
          1.9519134672717944,
          1.7664104231844977,
          1.452977897920352,
          1.492468601677111,
          1.3680724725501994,
          0.8466897627813404,
          1.9695802275214789,
          -0.1656265411507399,
          1.2989635824015942,
          1.4699174365336931,
          0.7048344471339149,
          -0.0734466793772658,
          1.472099735739834,
          0.5192275368948942,
          0.6173310993764487,
          1.4117203595643475,
          0.8145775201539046,
          1.9823629000259857,
          0.3284244647326917,
          1.644300617989728,
          2.381843854052077,
          0.7034835528643959,
          1.2299587169789898,
          -0.0328126550801585,
          0.8460662487224431,
          1.6867011597375263,
          0.4576011326016124,
          0.7248917146160201,
          1.7927029898298543,
          0.7159543097651765,
          1.6535496212957428,
          0.5426102655492118,
          1.783141912345836,
          0.47111118531674,
          1.6132276711766391,
          0.552898723243851,
          3.7481226828194094,
          0.285192518048271,
          2.0890919517546576,
          0.5717088040338844,
          3.77555825285656,
          0.0653947735531196,
          2.0508482761156936,
          -0.3261879128621984,
          0.820189305258259,
          2.1669306730249365,
          1.9776862274357,
          1.6236199950230026,
          0.0275667210953281,
          0.2374916310770123,
          2.0740232724665635,
          -0.1002588939297965,
          -0.3242134252466437,
          2.5954059822354227,
          0.3932726226207389,
          0.530347399526156,
          0.8981317341059841,
          0.4815035091631033,
          0.5150706707860596,
          3.762879605078055,
          1.825334721790187,
          0.9912470255420816,
          1.281192797425908,
          1.926036365233332,
          1.9337269005406583,
          3.732534197049864,
          1.491741380040767,
          0.950613001244974,
          -0.3324233705997271,
          0.0834774741325317,
          0.5437534275152829,
          2.287065911317012,
          0.8076145236314772,
          1.6092785373712524,
          2.195509563602436,
          1.8820770383382903,
          0.3937922705279125,
          1.8781279045329036,
          1.5843370235696912,
          0.3014045178767134,
          0.468201347325701,
          1.2800494768855597,
          1.935285685687902,
          1.3556018742236964,
          1.0068355113116263,
          1.605121671262418,
          0.6692927186082654,
          0.592701342604336,
          0.214420818026421,
          0.5166294559333034,
          1.7083173709411528,
          0.8155127912422504,
          0.0621731785326314,
          1.0992232639628257,
          0.1981047934719773,
          3.37327148556543,
          0.5010409701637584,
          1.8351035315776527,
          0.8485603049580333,
          0.1591335790481148,
          0.7347643905552097,
          0.5368946142931333,
          0.111640582954581,
          2.038689117670084,
          0.852405572611696,
          2.1922879685819474,
          -0.2400356179485281,
          0.8292305762608257,
          0.9224497338486476,
          0.7591864150238748,
          -0.1943093771671018,
          0.8060557384842334,
          0.3110693029381782,
          0.3769567566405727,
          0.9896880818205606,
          0.3893234888153523,
          1.8326094753420632,
          -0.0189908453355819,
          2.1213082191080943,
          0.754925524189039,
          -0.4597293377176781,
          0.2025734166102604,
          3.2910681658828693
         ],
         "y": [
          0.17357056752622263,
          1.9466696748053047,
          0.8520212607356217,
          0.855736057682441,
          1.824707662351349,
          2.2721474100590475,
          0.4314658012450856,
          0.3622081918192794,
          1.987393339531793,
          1.4368416917968185,
          0.6871548304373285,
          2.0958887360279723,
          1.9719203252220459,
          0.2084309634023476,
          0.660937950088589,
          0.5241027188956705,
          0.5804485554091947,
          2.0667959816097845,
          1.5626129419685078,
          0.49434024141758004,
          0.6347898495522858,
          0.370702372477741,
          1.3022604378930496,
          1.2731397507332374,
          1.0261113433081381,
          1.2834350797635758,
          0.6568788961501983,
          1.3581997959485388,
          0.7235473919472382,
          1.5697238228115051,
          2.503071986447514,
          0.24490661534379976,
          0.3906745655625628,
          1.7625404065641959,
          0.27521596161505724,
          -0.05298737559578774,
          1.1380979836331007,
          0.6169459629789398,
          1.7943884189999706,
          2.1114256961220406,
          1.9961121342866537,
          1.4823309006368608,
          0.800858254198871,
          0.14564993458444547,
          0.42841208713058665,
          0.32249869961583316,
          0.1380032959624154,
          0.5917497930671631,
          1.668299535444216,
          1.9571363235961137,
          -0.036735781382922106,
          1.4724208872263558,
          0.4961653086957617,
          0.4543016044174279,
          0.3296328690057042,
          1.767157765294023,
          0.3170123817319265,
          1.5457026386576307,
          0.3544666482492326,
          1.3569436804376245,
          1.985738853396629,
          1.2460628496058106,
          0.3583229414306076,
          0.49371435948535036,
          -0.10071584684454025,
          0.6000095638734939,
          1.6224426263835472,
          1.1955052387330032,
          0.3765930949382003,
          0.8795156575149217,
          1.2964984299259517,
          1.1062994584911223,
          1.7303904914658126,
          0.24900219136247503,
          0.4308419095923568,
          0.7874957598067669,
          0.674397987206912,
          0.9440925916945979,
          0.32827393968772994,
          1.0884261208801183,
          1.329416416127344,
          0.3496378186120388,
          0.1406588085164439,
          0.4653468106622516,
          0.7497701744155444,
          2.346479827276994,
          3.096551439950134,
          2.1680549564348013,
          0.3424813442924492,
          0.7415765796644934,
          1.4475972412896396,
          2.0964547465639374,
          1.9920551746633086,
          0.26370974268089986,
          0.8151471039379579,
          0.3080577755095854,
          3.3478317589098596,
          2.068160717645985,
          1.9152891650702686,
          0.9895881666696713,
          2.5021910883237704,
          1.5272452424665102,
          0.3255035667874542,
          1.2632169299287281,
          0.39264048208578795,
          0.7722549540505892,
          0.41510470945668765,
          1.7372151258766417,
          2.1229714365468064,
          0.8484346620621268,
          1.3065798317424997,
          3.96836517649668,
          -0.27018075270184266,
          1.3474782469592144,
          0.596290383716446,
          1.3052910977247767,
          1.9712538255431107,
          0.5308979631875257,
          1.8632255850849275,
          1.644532507080407,
          0.39041836590349,
          2.47014617300973,
          0.34587239379399287,
          3.779001746036216,
          1.3055026773283886,
          1.7789414113539261,
          1.7718959057315316,
          -0.5270631296812884,
          0.9783328668765688,
          0.8613491648524242,
          1.538319123046713,
          3.5567801609468495,
          1.2590309684280876,
          1.3655313986347406,
          2.188092974451309,
          1.3559931142994242,
          0.41478078249628014,
          1.3417085925512622,
          3.3919344872133808,
          0.2935396709818657,
          0.660550442650099,
          2.0635854762213492,
          0.9153424037670916,
          3.6742635818543388,
          1.270711230457522,
          0.866730674208266,
          0.39951340582167943,
          0.22457091273887803,
          3.5043234030195105,
          2.0567612967274593,
          0.3010229167767172,
          0.21431466755749135,
          0.9125641606394217,
          2.4111180413782813,
          1.9818455394148247,
          1.719550037880131,
          1.4261398550216497,
          1.4022355021525335,
          1.3691988602445107,
          1.0058414039832793,
          1.8900848810983515,
          -0.17899920512815215,
          1.3200677924251747,
          1.4321327488066593,
          0.6961132050864801,
          -0.06320208525011403,
          1.5088765635791817,
          0.5591186668474732,
          0.6401278678711145,
          1.366131666847518,
          0.8522395846956872,
          2.024513162957299,
          0.3288208337251311,
          1.7151167002154226,
          2.3149593417803205,
          0.6104387144716972,
          1.1612904390903918,
          -0.06859492162645488,
          0.8892400366759532,
          1.6815216143982445,
          0.47454708421426217,
          0.739658938948518,
          1.696930073326752,
          0.6733506339134875,
          1.7002565589264869,
          0.5245255894906424,
          1.8116979718369486,
          0.14274907907109127,
          1.638126350217566,
          0.5533567305444201,
          3.830596817788388,
          0.32148418100979936,
          2.1157471334265576,
          0.6075950602972153,
          3.6729387413301824,
          0.09217762023061438,
          2.055326198727701,
          -0.2859492165194434,
          0.9357751765969222,
          2.2033269278938414,
          1.9886378272474177,
          1.67734995475109,
          0.03746792975308355,
          0.18835643982265676,
          2.010992616837978,
          -0.12451329053598777,
          -0.2717674464612169,
          2.6032580331864663,
          0.5077095009422742,
          0.5107078158681532,
          0.8883702169974219,
          0.5308891097102738,
          0.5108583048747569,
          3.6498651342471806,
          1.8448700035896177,
          1.0130057151136354,
          1.340747320158569,
          1.8519664324265166,
          1.7190588894372725,
          3.672731788453869,
          1.4438614244165424,
          0.9423522356406114,
          -0.28771127795718515,
          0.09095538341498169,
          0.5596559577783401,
          2.3013414739822933,
          0.8154655571679998,
          1.5556705645777422,
          2.1971864146110764,
          1.8718436170759534,
          0.34562891947434576,
          1.9334519732479365,
          1.562597302355393,
          0.33865491370499834,
          0.45136808466792444,
          1.289567489171738,
          1.9925503092992107,
          1.2809725530081548,
          0.9868277457279084,
          1.6366031915902466,
          0.6564887842003859,
          0.6437473524787927,
          0.2639114395234816,
          0.5309134026404663,
          1.6908553493761682,
          0.8096633368005068,
          0.032729717707037,
          1.097919266817381,
          0.25115523211857055,
          3.4012171154916793,
          0.47846963085959326,
          1.7916979690513306,
          0.8537989030962778,
          0.10850956481855141,
          0.7827038332569297,
          0.5324824179990552,
          0.17696228493263744,
          2.0165499687962853,
          0.8896153951835231,
          2.139496480221296,
          -0.23804853034084175,
          0.7870641599057596,
          0.965806089362525,
          0.7047704990517434,
          -0.22413788687956404,
          0.8089145414207162,
          0.3545198123805676,
          0.41843727763065086,
          0.9297897816649177,
          0.37768557031241795,
          1.823080218094434,
          -0.11326695361591424,
          2.1006542883696193,
          0.9152827903237254,
          -0.4820780489989615,
          0.12291618315595812,
          3.355803357251334
         ]
        },
        {
         "mode": "lines",
         "name": "Ideal Line",
         "type": "scatter",
         "x": [
          0.1327371462510339,
          1.936948495561147,
          0.8093813582307229,
          0.8263207382697865,
          1.8660727708132956,
          2.3187623721889987,
          0.4192534322366473,
          0.4090689992680089,
          2.059993571844262,
          1.4160852751251842,
          0.6186821522202444,
          2.004810357591957,
          1.9187619288300104,
          0.1770083887498019,
          0.6410255850602147,
          0.5266061565984943,
          0.4638365903391414,
          1.882804259974634,
          1.612188375362292,
          0.4767229704210941,
          0.5846992088418386,
          0.4235143230714828,
          1.3565371453120425,
          1.257602336468143,
          1.0502753488737722,
          1.3261914201352971,
          0.6585886377324528,
          1.2986518253721453,
          0.718760281604492,
          1.6387926990370976,
          2.433181959224997,
          0.1007287697753215,
          0.3748781650118781,
          1.7912479122600573,
          0.3231244366577863,
          -0.0463227077952863,
          1.1783088547766218,
          0.6507943948476803,
          1.8830123094266364,
          2.1167355712438107,
          1.9726981149645209,
          1.4033026026206774,
          0.8111480342556917,
          0.2339582790270754,
          0.4723582134345351,
          0.3740467600752557,
          0.2068343074450959,
          0.5540418852099221,
          1.6545889171100905,
          1.9643840655982971,
          -0.0314616022363625,
          1.3891688772723747,
          0.4156160554607091,
          0.5177726178993745,
          0.3021318980873346,
          1.7565375886710302,
          0.2778138983446709,
          1.5599149991010264,
          0.3766448410368466,
          1.3121620366615507,
          1.914293305691728,
          1.235674368235068,
          0.35482105610405,
          0.5759696948687202,
          -0.1085726261474653,
          0.5968582087131704,
          1.6641499945941085,
          1.2623827166358748,
          0.335491327406843,
          0.9359597865637752,
          1.3424034199637398,
          1.0621225917156554,
          1.7374157508515482,
          0.1959223356915589,
          0.3975335134555744,
          0.7072247957920581,
          0.6662790144655019,
          0.9597581383992654,
          0.4345301609767436,
          1.0882072674832877,
          1.3539390643504516,
          0.3837117037109982,
          0.1569511212676964,
          0.4679934564479758,
          0.6927794719885836,
          2.418216987514349,
          3.1161654950939384,
          2.1595518947470587,
          0.2708510603965208,
          0.7608490663228422,
          1.4763606265746696,
          2.0880526559403103,
          1.9414171186994296,
          0.2038206033023326,
          0.7838161717959873,
          0.3128359789631467,
          3.375453784771571,
          2.014163385623973,
          1.967397928315338,
          1.012447296415981,
          2.476933553816591,
          1.447574003693723,
          0.2670059513171351,
          1.3404291702096012,
          0.37061743275132,
          0.7509763903836522,
          0.3339325422595995,
          1.7385590713918968,
          2.073295733681665,
          0.9203713007942304,
          1.2804652586410097,
          3.905566325662104,
          -0.3328389937808997,
          1.3289975505488905,
          0.5744109097214763,
          1.4278283346667886,
          2.0043945758365065,
          0.5587183992259301,
          1.817852235934863,
          1.534765435847463,
          0.4027296753787561,
          2.47973936708163,
          0.3609524891155777,
          3.7487461968783062,
          1.2797377198561108,
          1.730556779055122,
          1.8028875813727705,
          -0.5012986331031316,
          0.995403891650916,
          0.81987754822881,
          1.4414425706821952,
          3.615620553778277,
          1.258953072163384,
          1.3347132018049683,
          2.1683854334461787,
          1.352380279203208,
          0.4048081084331733,
          1.3442742792889868,
          3.37067340460384,
          0.2876865742838607,
          0.6928833381403079,
          2.058226737245016,
          0.940012786520886,
          3.640666092305839,
          1.2752690967178275,
          0.925567462717412,
          0.3744625418307056,
          0.233126874090453,
          3.5157501566974765,
          2.0757897899172546,
          0.2881023560393105,
          0.258692060525189,
          0.8610310618588135,
          2.3863124771903603,
          1.9519134672717944,
          1.7664104231844977,
          1.452977897920352,
          1.492468601677111,
          1.3680724725501994,
          0.8466897627813404,
          1.9695802275214789,
          -0.1656265411507399,
          1.2989635824015942,
          1.4699174365336931,
          0.7048344471339149,
          -0.0734466793772658,
          1.472099735739834,
          0.5192275368948942,
          0.6173310993764487,
          1.4117203595643475,
          0.8145775201539046,
          1.9823629000259857,
          0.3284244647326917,
          1.644300617989728,
          2.381843854052077,
          0.7034835528643959,
          1.2299587169789898,
          -0.0328126550801585,
          0.8460662487224431,
          1.6867011597375263,
          0.4576011326016124,
          0.7248917146160201,
          1.7927029898298543,
          0.7159543097651765,
          1.6535496212957428,
          0.5426102655492118,
          1.783141912345836,
          0.47111118531674,
          1.6132276711766391,
          0.552898723243851,
          3.7481226828194094,
          0.285192518048271,
          2.0890919517546576,
          0.5717088040338844,
          3.77555825285656,
          0.0653947735531196,
          2.0508482761156936,
          -0.3261879128621984,
          0.820189305258259,
          2.1669306730249365,
          1.9776862274357,
          1.6236199950230026,
          0.0275667210953281,
          0.2374916310770123,
          2.0740232724665635,
          -0.1002588939297965,
          -0.3242134252466437,
          2.5954059822354227,
          0.3932726226207389,
          0.530347399526156,
          0.8981317341059841,
          0.4815035091631033,
          0.5150706707860596,
          3.762879605078055,
          1.825334721790187,
          0.9912470255420816,
          1.281192797425908,
          1.926036365233332,
          1.9337269005406583,
          3.732534197049864,
          1.491741380040767,
          0.950613001244974,
          -0.3324233705997271,
          0.0834774741325317,
          0.5437534275152829,
          2.287065911317012,
          0.8076145236314772,
          1.6092785373712524,
          2.195509563602436,
          1.8820770383382903,
          0.3937922705279125,
          1.8781279045329036,
          1.5843370235696912,
          0.3014045178767134,
          0.468201347325701,
          1.2800494768855597,
          1.935285685687902,
          1.3556018742236964,
          1.0068355113116263,
          1.605121671262418,
          0.6692927186082654,
          0.592701342604336,
          0.214420818026421,
          0.5166294559333034,
          1.7083173709411528,
          0.8155127912422504,
          0.0621731785326314,
          1.0992232639628257,
          0.1981047934719773,
          3.37327148556543,
          0.5010409701637584,
          1.8351035315776527,
          0.8485603049580333,
          0.1591335790481148,
          0.7347643905552097,
          0.5368946142931333,
          0.111640582954581,
          2.038689117670084,
          0.852405572611696,
          2.1922879685819474,
          -0.2400356179485281,
          0.8292305762608257,
          0.9224497338486476,
          0.7591864150238748,
          -0.1943093771671018,
          0.8060557384842334,
          0.3110693029381782,
          0.3769567566405727,
          0.9896880818205606,
          0.3893234888153523,
          1.8326094753420632,
          -0.0189908453355819,
          2.1213082191080943,
          0.754925524189039,
          -0.4597293377176781,
          0.2025734166102604,
          3.2910681658828693
         ],
         "y": [
          0.1327371462510339,
          1.936948495561147,
          0.8093813582307229,
          0.8263207382697865,
          1.8660727708132956,
          2.3187623721889987,
          0.4192534322366473,
          0.4090689992680089,
          2.059993571844262,
          1.4160852751251842,
          0.6186821522202444,
          2.004810357591957,
          1.9187619288300104,
          0.1770083887498019,
          0.6410255850602147,
          0.5266061565984943,
          0.4638365903391414,
          1.882804259974634,
          1.612188375362292,
          0.4767229704210941,
          0.5846992088418386,
          0.4235143230714828,
          1.3565371453120425,
          1.257602336468143,
          1.0502753488737722,
          1.3261914201352971,
          0.6585886377324528,
          1.2986518253721453,
          0.718760281604492,
          1.6387926990370976,
          2.433181959224997,
          0.1007287697753215,
          0.3748781650118781,
          1.7912479122600573,
          0.3231244366577863,
          -0.0463227077952863,
          1.1783088547766218,
          0.6507943948476803,
          1.8830123094266364,
          2.1167355712438107,
          1.9726981149645209,
          1.4033026026206774,
          0.8111480342556917,
          0.2339582790270754,
          0.4723582134345351,
          0.3740467600752557,
          0.2068343074450959,
          0.5540418852099221,
          1.6545889171100905,
          1.9643840655982971,
          -0.0314616022363625,
          1.3891688772723747,
          0.4156160554607091,
          0.5177726178993745,
          0.3021318980873346,
          1.7565375886710302,
          0.2778138983446709,
          1.5599149991010264,
          0.3766448410368466,
          1.3121620366615507,
          1.914293305691728,
          1.235674368235068,
          0.35482105610405,
          0.5759696948687202,
          -0.1085726261474653,
          0.5968582087131704,
          1.6641499945941085,
          1.2623827166358748,
          0.335491327406843,
          0.9359597865637752,
          1.3424034199637398,
          1.0621225917156554,
          1.7374157508515482,
          0.1959223356915589,
          0.3975335134555744,
          0.7072247957920581,
          0.6662790144655019,
          0.9597581383992654,
          0.4345301609767436,
          1.0882072674832877,
          1.3539390643504516,
          0.3837117037109982,
          0.1569511212676964,
          0.4679934564479758,
          0.6927794719885836,
          2.418216987514349,
          3.1161654950939384,
          2.1595518947470587,
          0.2708510603965208,
          0.7608490663228422,
          1.4763606265746696,
          2.0880526559403103,
          1.9414171186994296,
          0.2038206033023326,
          0.7838161717959873,
          0.3128359789631467,
          3.375453784771571,
          2.014163385623973,
          1.967397928315338,
          1.012447296415981,
          2.476933553816591,
          1.447574003693723,
          0.2670059513171351,
          1.3404291702096012,
          0.37061743275132,
          0.7509763903836522,
          0.3339325422595995,
          1.7385590713918968,
          2.073295733681665,
          0.9203713007942304,
          1.2804652586410097,
          3.905566325662104,
          -0.3328389937808997,
          1.3289975505488905,
          0.5744109097214763,
          1.4278283346667886,
          2.0043945758365065,
          0.5587183992259301,
          1.817852235934863,
          1.534765435847463,
          0.4027296753787561,
          2.47973936708163,
          0.3609524891155777,
          3.7487461968783062,
          1.2797377198561108,
          1.730556779055122,
          1.8028875813727705,
          -0.5012986331031316,
          0.995403891650916,
          0.81987754822881,
          1.4414425706821952,
          3.615620553778277,
          1.258953072163384,
          1.3347132018049683,
          2.1683854334461787,
          1.352380279203208,
          0.4048081084331733,
          1.3442742792889868,
          3.37067340460384,
          0.2876865742838607,
          0.6928833381403079,
          2.058226737245016,
          0.940012786520886,
          3.640666092305839,
          1.2752690967178275,
          0.925567462717412,
          0.3744625418307056,
          0.233126874090453,
          3.5157501566974765,
          2.0757897899172546,
          0.2881023560393105,
          0.258692060525189,
          0.8610310618588135,
          2.3863124771903603,
          1.9519134672717944,
          1.7664104231844977,
          1.452977897920352,
          1.492468601677111,
          1.3680724725501994,
          0.8466897627813404,
          1.9695802275214789,
          -0.1656265411507399,
          1.2989635824015942,
          1.4699174365336931,
          0.7048344471339149,
          -0.0734466793772658,
          1.472099735739834,
          0.5192275368948942,
          0.6173310993764487,
          1.4117203595643475,
          0.8145775201539046,
          1.9823629000259857,
          0.3284244647326917,
          1.644300617989728,
          2.381843854052077,
          0.7034835528643959,
          1.2299587169789898,
          -0.0328126550801585,
          0.8460662487224431,
          1.6867011597375263,
          0.4576011326016124,
          0.7248917146160201,
          1.7927029898298543,
          0.7159543097651765,
          1.6535496212957428,
          0.5426102655492118,
          1.783141912345836,
          0.47111118531674,
          1.6132276711766391,
          0.552898723243851,
          3.7481226828194094,
          0.285192518048271,
          2.0890919517546576,
          0.5717088040338844,
          3.77555825285656,
          0.0653947735531196,
          2.0508482761156936,
          -0.3261879128621984,
          0.820189305258259,
          2.1669306730249365,
          1.9776862274357,
          1.6236199950230026,
          0.0275667210953281,
          0.2374916310770123,
          2.0740232724665635,
          -0.1002588939297965,
          -0.3242134252466437,
          2.5954059822354227,
          0.3932726226207389,
          0.530347399526156,
          0.8981317341059841,
          0.4815035091631033,
          0.5150706707860596,
          3.762879605078055,
          1.825334721790187,
          0.9912470255420816,
          1.281192797425908,
          1.926036365233332,
          1.9337269005406583,
          3.732534197049864,
          1.491741380040767,
          0.950613001244974,
          -0.3324233705997271,
          0.0834774741325317,
          0.5437534275152829,
          2.287065911317012,
          0.8076145236314772,
          1.6092785373712524,
          2.195509563602436,
          1.8820770383382903,
          0.3937922705279125,
          1.8781279045329036,
          1.5843370235696912,
          0.3014045178767134,
          0.468201347325701,
          1.2800494768855597,
          1.935285685687902,
          1.3556018742236964,
          1.0068355113116263,
          1.605121671262418,
          0.6692927186082654,
          0.592701342604336,
          0.214420818026421,
          0.5166294559333034,
          1.7083173709411528,
          0.8155127912422504,
          0.0621731785326314,
          1.0992232639628257,
          0.1981047934719773,
          3.37327148556543,
          0.5010409701637584,
          1.8351035315776527,
          0.8485603049580333,
          0.1591335790481148,
          0.7347643905552097,
          0.5368946142931333,
          0.111640582954581,
          2.038689117670084,
          0.852405572611696,
          2.1922879685819474,
          -0.2400356179485281,
          0.8292305762608257,
          0.9224497338486476,
          0.7591864150238748,
          -0.1943093771671018,
          0.8060557384842334,
          0.3110693029381782,
          0.3769567566405727,
          0.9896880818205606,
          0.3893234888153523,
          1.8326094753420632,
          -0.0189908453355819,
          2.1213082191080943,
          0.754925524189039,
          -0.4597293377176781,
          0.2025734166102604,
          3.2910681658828693
         ]
        }
       ],
       "layout": {
        "template": {
         "data": {
          "bar": [
           {
            "error_x": {
             "color": "#f2f5fa"
            },
            "error_y": {
             "color": "#f2f5fa"
            },
            "marker": {
             "line": {
              "color": "rgb(17,17,17)",
              "width": 0.5
             },
             "pattern": {
              "fillmode": "overlay",
              "size": 10,
              "solidity": 0.2
             }
            },
            "type": "bar"
           }
          ],
          "barpolar": [
           {
            "marker": {
             "line": {
              "color": "rgb(17,17,17)",
              "width": 0.5
             },
             "pattern": {
              "fillmode": "overlay",
              "size": 10,
              "solidity": 0.2
             }
            },
            "type": "barpolar"
           }
          ],
          "carpet": [
           {
            "aaxis": {
             "endlinecolor": "#A2B1C6",
             "gridcolor": "#506784",
             "linecolor": "#506784",
             "minorgridcolor": "#506784",
             "startlinecolor": "#A2B1C6"
            },
            "baxis": {
             "endlinecolor": "#A2B1C6",
             "gridcolor": "#506784",
             "linecolor": "#506784",
             "minorgridcolor": "#506784",
             "startlinecolor": "#A2B1C6"
            },
            "type": "carpet"
           }
          ],
          "choropleth": [
           {
            "colorbar": {
             "outlinewidth": 0,
             "ticks": ""
            },
            "type": "choropleth"
           }
          ],
          "contour": [
           {
            "colorbar": {
             "outlinewidth": 0,
             "ticks": ""
            },
            "colorscale": [
             [
              0,
              "#0d0887"
             ],
             [
              0.1111111111111111,
              "#46039f"
             ],
             [
              0.2222222222222222,
              "#7201a8"
             ],
             [
              0.3333333333333333,
              "#9c179e"
             ],
             [
              0.4444444444444444,
              "#bd3786"
             ],
             [
              0.5555555555555556,
              "#d8576b"
             ],
             [
              0.6666666666666666,
              "#ed7953"
             ],
             [
              0.7777777777777778,
              "#fb9f3a"
             ],
             [
              0.8888888888888888,
              "#fdca26"
             ],
             [
              1,
              "#f0f921"
             ]
            ],
            "type": "contour"
           }
          ],
          "contourcarpet": [
           {
            "colorbar": {
             "outlinewidth": 0,
             "ticks": ""
            },
            "type": "contourcarpet"
           }
          ],
          "heatmap": [
           {
            "colorbar": {
             "outlinewidth": 0,
             "ticks": ""
            },
            "colorscale": [
             [
              0,
              "#0d0887"
             ],
             [
              0.1111111111111111,
              "#46039f"
             ],
             [
              0.2222222222222222,
              "#7201a8"
             ],
             [
              0.3333333333333333,
              "#9c179e"
             ],
             [
              0.4444444444444444,
              "#bd3786"
             ],
             [
              0.5555555555555556,
              "#d8576b"
             ],
             [
              0.6666666666666666,
              "#ed7953"
             ],
             [
              0.7777777777777778,
              "#fb9f3a"
             ],
             [
              0.8888888888888888,
              "#fdca26"
             ],
             [
              1,
              "#f0f921"
             ]
            ],
            "type": "heatmap"
           }
          ],
          "heatmapgl": [
           {
            "colorbar": {
             "outlinewidth": 0,
             "ticks": ""
            },
            "colorscale": [
             [
              0,
              "#0d0887"
             ],
             [
              0.1111111111111111,
              "#46039f"
             ],
             [
              0.2222222222222222,
              "#7201a8"
             ],
             [
              0.3333333333333333,
              "#9c179e"
             ],
             [
              0.4444444444444444,
              "#bd3786"
             ],
             [
              0.5555555555555556,
              "#d8576b"
             ],
             [
              0.6666666666666666,
              "#ed7953"
             ],
             [
              0.7777777777777778,
              "#fb9f3a"
             ],
             [
              0.8888888888888888,
              "#fdca26"
             ],
             [
              1,
              "#f0f921"
             ]
            ],
            "type": "heatmapgl"
           }
          ],
          "histogram": [
           {
            "marker": {
             "pattern": {
              "fillmode": "overlay",
              "size": 10,
              "solidity": 0.2
             }
            },
            "type": "histogram"
           }
          ],
          "histogram2d": [
           {
            "colorbar": {
             "outlinewidth": 0,
             "ticks": ""
            },
            "colorscale": [
             [
              0,
              "#0d0887"
             ],
             [
              0.1111111111111111,
              "#46039f"
             ],
             [
              0.2222222222222222,
              "#7201a8"
             ],
             [
              0.3333333333333333,
              "#9c179e"
             ],
             [
              0.4444444444444444,
              "#bd3786"
             ],
             [
              0.5555555555555556,
              "#d8576b"
             ],
             [
              0.6666666666666666,
              "#ed7953"
             ],
             [
              0.7777777777777778,
              "#fb9f3a"
             ],
             [
              0.8888888888888888,
              "#fdca26"
             ],
             [
              1,
              "#f0f921"
             ]
            ],
            "type": "histogram2d"
           }
          ],
          "histogram2dcontour": [
           {
            "colorbar": {
             "outlinewidth": 0,
             "ticks": ""
            },
            "colorscale": [
             [
              0,
              "#0d0887"
             ],
             [
              0.1111111111111111,
              "#46039f"
             ],
             [
              0.2222222222222222,
              "#7201a8"
             ],
             [
              0.3333333333333333,
              "#9c179e"
             ],
             [
              0.4444444444444444,
              "#bd3786"
             ],
             [
              0.5555555555555556,
              "#d8576b"
             ],
             [
              0.6666666666666666,
              "#ed7953"
             ],
             [
              0.7777777777777778,
              "#fb9f3a"
             ],
             [
              0.8888888888888888,
              "#fdca26"
             ],
             [
              1,
              "#f0f921"
             ]
            ],
            "type": "histogram2dcontour"
           }
          ],
          "mesh3d": [
           {
            "colorbar": {
             "outlinewidth": 0,
             "ticks": ""
            },
            "type": "mesh3d"
           }
          ],
          "parcoords": [
           {
            "line": {
             "colorbar": {
              "outlinewidth": 0,
              "ticks": ""
             }
            },
            "type": "parcoords"
           }
          ],
          "pie": [
           {
            "automargin": true,
            "type": "pie"
           }
          ],
          "scatter": [
           {
            "marker": {
             "line": {
              "color": "#283442"
             }
            },
            "type": "scatter"
           }
          ],
          "scatter3d": [
           {
            "line": {
             "colorbar": {
              "outlinewidth": 0,
              "ticks": ""
             }
            },
            "marker": {
             "colorbar": {
              "outlinewidth": 0,
              "ticks": ""
             }
            },
            "type": "scatter3d"
           }
          ],
          "scattercarpet": [
           {
            "marker": {
             "colorbar": {
              "outlinewidth": 0,
              "ticks": ""
             }
            },
            "type": "scattercarpet"
           }
          ],
          "scattergeo": [
           {
            "marker": {
             "colorbar": {
              "outlinewidth": 0,
              "ticks": ""
             }
            },
            "type": "scattergeo"
           }
          ],
          "scattergl": [
           {
            "marker": {
             "line": {
              "color": "#283442"
             }
            },
            "type": "scattergl"
           }
          ],
          "scattermapbox": [
           {
            "marker": {
             "colorbar": {
              "outlinewidth": 0,
              "ticks": ""
             }
            },
            "type": "scattermapbox"
           }
          ],
          "scatterpolar": [
           {
            "marker": {
             "colorbar": {
              "outlinewidth": 0,
              "ticks": ""
             }
            },
            "type": "scatterpolar"
           }
          ],
          "scatterpolargl": [
           {
            "marker": {
             "colorbar": {
              "outlinewidth": 0,
              "ticks": ""
             }
            },
            "type": "scatterpolargl"
           }
          ],
          "scatterternary": [
           {
            "marker": {
             "colorbar": {
              "outlinewidth": 0,
              "ticks": ""
             }
            },
            "type": "scatterternary"
           }
          ],
          "surface": [
           {
            "colorbar": {
             "outlinewidth": 0,
             "ticks": ""
            },
            "colorscale": [
             [
              0,
              "#0d0887"
             ],
             [
              0.1111111111111111,
              "#46039f"
             ],
             [
              0.2222222222222222,
              "#7201a8"
             ],
             [
              0.3333333333333333,
              "#9c179e"
             ],
             [
              0.4444444444444444,
              "#bd3786"
             ],
             [
              0.5555555555555556,
              "#d8576b"
             ],
             [
              0.6666666666666666,
              "#ed7953"
             ],
             [
              0.7777777777777778,
              "#fb9f3a"
             ],
             [
              0.8888888888888888,
              "#fdca26"
             ],
             [
              1,
              "#f0f921"
             ]
            ],
            "type": "surface"
           }
          ],
          "table": [
           {
            "cells": {
             "fill": {
              "color": "#506784"
             },
             "line": {
              "color": "rgb(17,17,17)"
             }
            },
            "header": {
             "fill": {
              "color": "#2a3f5f"
             },
             "line": {
              "color": "rgb(17,17,17)"
             }
            },
            "type": "table"
           }
          ]
         },
         "layout": {
          "annotationdefaults": {
           "arrowcolor": "#f2f5fa",
           "arrowhead": 0,
           "arrowwidth": 1
          },
          "autotypenumbers": "strict",
          "coloraxis": {
           "colorbar": {
            "outlinewidth": 0,
            "ticks": ""
           }
          },
          "colorscale": {
           "diverging": [
            [
             0,
             "#8e0152"
            ],
            [
             0.1,
             "#c51b7d"
            ],
            [
             0.2,
             "#de77ae"
            ],
            [
             0.3,
             "#f1b6da"
            ],
            [
             0.4,
             "#fde0ef"
            ],
            [
             0.5,
             "#f7f7f7"
            ],
            [
             0.6,
             "#e6f5d0"
            ],
            [
             0.7,
             "#b8e186"
            ],
            [
             0.8,
             "#7fbc41"
            ],
            [
             0.9,
             "#4d9221"
            ],
            [
             1,
             "#276419"
            ]
           ],
           "sequential": [
            [
             0,
             "#0d0887"
            ],
            [
             0.1111111111111111,
             "#46039f"
            ],
            [
             0.2222222222222222,
             "#7201a8"
            ],
            [
             0.3333333333333333,
             "#9c179e"
            ],
            [
             0.4444444444444444,
             "#bd3786"
            ],
            [
             0.5555555555555556,
             "#d8576b"
            ],
            [
             0.6666666666666666,
             "#ed7953"
            ],
            [
             0.7777777777777778,
             "#fb9f3a"
            ],
            [
             0.8888888888888888,
             "#fdca26"
            ],
            [
             1,
             "#f0f921"
            ]
           ],
           "sequentialminus": [
            [
             0,
             "#0d0887"
            ],
            [
             0.1111111111111111,
             "#46039f"
            ],
            [
             0.2222222222222222,
             "#7201a8"
            ],
            [
             0.3333333333333333,
             "#9c179e"
            ],
            [
             0.4444444444444444,
             "#bd3786"
            ],
            [
             0.5555555555555556,
             "#d8576b"
            ],
            [
             0.6666666666666666,
             "#ed7953"
            ],
            [
             0.7777777777777778,
             "#fb9f3a"
            ],
            [
             0.8888888888888888,
             "#fdca26"
            ],
            [
             1,
             "#f0f921"
            ]
           ]
          },
          "colorway": [
           "#636efa",
           "#EF553B",
           "#00cc96",
           "#ab63fa",
           "#FFA15A",
           "#19d3f3",
           "#FF6692",
           "#B6E880",
           "#FF97FF",
           "#FECB52"
          ],
          "font": {
           "color": "#f2f5fa"
          },
          "geo": {
           "bgcolor": "rgb(17,17,17)",
           "lakecolor": "rgb(17,17,17)",
           "landcolor": "rgb(17,17,17)",
           "showlakes": true,
           "showland": true,
           "subunitcolor": "#506784"
          },
          "hoverlabel": {
           "align": "left"
          },
          "hovermode": "closest",
          "mapbox": {
           "style": "dark"
          },
          "paper_bgcolor": "rgb(17,17,17)",
          "plot_bgcolor": "rgb(17,17,17)",
          "polar": {
           "angularaxis": {
            "gridcolor": "#506784",
            "linecolor": "#506784",
            "ticks": ""
           },
           "bgcolor": "rgb(17,17,17)",
           "radialaxis": {
            "gridcolor": "#506784",
            "linecolor": "#506784",
            "ticks": ""
           }
          },
          "scene": {
           "xaxis": {
            "backgroundcolor": "rgb(17,17,17)",
            "gridcolor": "#506784",
            "gridwidth": 2,
            "linecolor": "#506784",
            "showbackground": true,
            "ticks": "",
            "zerolinecolor": "#C8D4E3"
           },
           "yaxis": {
            "backgroundcolor": "rgb(17,17,17)",
            "gridcolor": "#506784",
            "gridwidth": 2,
            "linecolor": "#506784",
            "showbackground": true,
            "ticks": "",
            "zerolinecolor": "#C8D4E3"
           },
           "zaxis": {
            "backgroundcolor": "rgb(17,17,17)",
            "gridcolor": "#506784",
            "gridwidth": 2,
            "linecolor": "#506784",
            "showbackground": true,
            "ticks": "",
            "zerolinecolor": "#C8D4E3"
           }
          },
          "shapedefaults": {
           "line": {
            "color": "#f2f5fa"
           }
          },
          "sliderdefaults": {
           "bgcolor": "#C8D4E3",
           "bordercolor": "rgb(17,17,17)",
           "borderwidth": 1,
           "tickwidth": 0
          },
          "ternary": {
           "aaxis": {
            "gridcolor": "#506784",
            "linecolor": "#506784",
            "ticks": ""
           },
           "baxis": {
            "gridcolor": "#506784",
            "linecolor": "#506784",
            "ticks": ""
           },
           "bgcolor": "rgb(17,17,17)",
           "caxis": {
            "gridcolor": "#506784",
            "linecolor": "#506784",
            "ticks": ""
           }
          },
          "title": {
           "x": 0.05
          },
          "updatemenudefaults": {
           "bgcolor": "#506784",
           "borderwidth": 0
          },
          "xaxis": {
           "automargin": true,
           "gridcolor": "#283442",
           "linecolor": "#506784",
           "ticks": "",
           "title": {
            "standoff": 15
           },
           "zerolinecolor": "#283442",
           "zerolinewidth": 2
          },
          "yaxis": {
           "automargin": true,
           "gridcolor": "#283442",
           "linecolor": "#506784",
           "ticks": "",
           "title": {
            "standoff": 15
           },
           "zerolinecolor": "#283442",
           "zerolinewidth": 2
          }
         }
        },
        "title": {
         "text": "AAPL Actual vs Predicted Closing Prices"
        },
        "xaxis": {
         "title": {
          "text": "Actual Closing Price"
         }
        },
        "yaxis": {
         "title": {
          "text": "Predicted Closing Price"
         }
        }
       }
      }
     },
     "metadata": {},
     "output_type": "display_data"
    }
   ],
   "source": [
    "fig = go.Figure()\n",
    "\n",
    "fig.add_trace(go.Scatter(x = y_test, y = y_pred,\n",
    "                        mode = 'markers',\n",
    "                        name = 'Predicted vs Actual'))\n",
    "\n",
    "fig.add_trace(go.Scatter(x = y_test, y = y_test,\n",
    "                        mode = 'lines',\n",
    "                        name = 'Ideal Line'))\n",
    "\n",
    "fig.update_layout(title = 'AAPL Actual vs Predicted Closing Prices',\n",
    "                xaxis_title = 'Actual Closing Price',\n",
    "                yaxis_title = 'Predicted Closing Price',\n",
    "                template = 'plotly_dark')\n",
    "\n",
    "fig.show()\n",
    "\n",
    "\n"
   ]
  },
  {
   "cell_type": "markdown",
   "metadata": {},
   "source": [
    "#### Pretty good, we will improve this further later on in the project.  Let's look at a residuals plot as well now."
   ]
  },
  {
   "cell_type": "code",
   "execution_count": 11,
   "metadata": {},
   "outputs": [
    {
     "data": {
      "application/vnd.plotly.v1+json": {
       "config": {
        "plotlyServerURL": "https://plot.ly"
       },
       "data": [
        {
         "mode": "markers",
         "name": "Residuals",
         "type": "scatter",
         "x": [
          0.17357056752622263,
          1.9466696748053047,
          0.8520212607356217,
          0.855736057682441,
          1.824707662351349,
          2.2721474100590475,
          0.4314658012450856,
          0.3622081918192794,
          1.987393339531793,
          1.4368416917968185,
          0.6871548304373285,
          2.0958887360279723,
          1.9719203252220459,
          0.2084309634023476,
          0.660937950088589,
          0.5241027188956705,
          0.5804485554091947,
          2.0667959816097845,
          1.5626129419685078,
          0.49434024141758004,
          0.6347898495522858,
          0.370702372477741,
          1.3022604378930496,
          1.2731397507332374,
          1.0261113433081381,
          1.2834350797635758,
          0.6568788961501983,
          1.3581997959485388,
          0.7235473919472382,
          1.5697238228115051,
          2.503071986447514,
          0.24490661534379976,
          0.3906745655625628,
          1.7625404065641959,
          0.27521596161505724,
          -0.05298737559578774,
          1.1380979836331007,
          0.6169459629789398,
          1.7943884189999706,
          2.1114256961220406,
          1.9961121342866537,
          1.4823309006368608,
          0.800858254198871,
          0.14564993458444547,
          0.42841208713058665,
          0.32249869961583316,
          0.1380032959624154,
          0.5917497930671631,
          1.668299535444216,
          1.9571363235961137,
          -0.036735781382922106,
          1.4724208872263558,
          0.4961653086957617,
          0.4543016044174279,
          0.3296328690057042,
          1.767157765294023,
          0.3170123817319265,
          1.5457026386576307,
          0.3544666482492326,
          1.3569436804376245,
          1.985738853396629,
          1.2460628496058106,
          0.3583229414306076,
          0.49371435948535036,
          -0.10071584684454025,
          0.6000095638734939,
          1.6224426263835472,
          1.1955052387330032,
          0.3765930949382003,
          0.8795156575149217,
          1.2964984299259517,
          1.1062994584911223,
          1.7303904914658126,
          0.24900219136247503,
          0.4308419095923568,
          0.7874957598067669,
          0.674397987206912,
          0.9440925916945979,
          0.32827393968772994,
          1.0884261208801183,
          1.329416416127344,
          0.3496378186120388,
          0.1406588085164439,
          0.4653468106622516,
          0.7497701744155444,
          2.346479827276994,
          3.096551439950134,
          2.1680549564348013,
          0.3424813442924492,
          0.7415765796644934,
          1.4475972412896396,
          2.0964547465639374,
          1.9920551746633086,
          0.26370974268089986,
          0.8151471039379579,
          0.3080577755095854,
          3.3478317589098596,
          2.068160717645985,
          1.9152891650702686,
          0.9895881666696713,
          2.5021910883237704,
          1.5272452424665102,
          0.3255035667874542,
          1.2632169299287281,
          0.39264048208578795,
          0.7722549540505892,
          0.41510470945668765,
          1.7372151258766417,
          2.1229714365468064,
          0.8484346620621268,
          1.3065798317424997,
          3.96836517649668,
          -0.27018075270184266,
          1.3474782469592144,
          0.596290383716446,
          1.3052910977247767,
          1.9712538255431107,
          0.5308979631875257,
          1.8632255850849275,
          1.644532507080407,
          0.39041836590349,
          2.47014617300973,
          0.34587239379399287,
          3.779001746036216,
          1.3055026773283886,
          1.7789414113539261,
          1.7718959057315316,
          -0.5270631296812884,
          0.9783328668765688,
          0.8613491648524242,
          1.538319123046713,
          3.5567801609468495,
          1.2590309684280876,
          1.3655313986347406,
          2.188092974451309,
          1.3559931142994242,
          0.41478078249628014,
          1.3417085925512622,
          3.3919344872133808,
          0.2935396709818657,
          0.660550442650099,
          2.0635854762213492,
          0.9153424037670916,
          3.6742635818543388,
          1.270711230457522,
          0.866730674208266,
          0.39951340582167943,
          0.22457091273887803,
          3.5043234030195105,
          2.0567612967274593,
          0.3010229167767172,
          0.21431466755749135,
          0.9125641606394217,
          2.4111180413782813,
          1.9818455394148247,
          1.719550037880131,
          1.4261398550216497,
          1.4022355021525335,
          1.3691988602445107,
          1.0058414039832793,
          1.8900848810983515,
          -0.17899920512815215,
          1.3200677924251747,
          1.4321327488066593,
          0.6961132050864801,
          -0.06320208525011403,
          1.5088765635791817,
          0.5591186668474732,
          0.6401278678711145,
          1.366131666847518,
          0.8522395846956872,
          2.024513162957299,
          0.3288208337251311,
          1.7151167002154226,
          2.3149593417803205,
          0.6104387144716972,
          1.1612904390903918,
          -0.06859492162645488,
          0.8892400366759532,
          1.6815216143982445,
          0.47454708421426217,
          0.739658938948518,
          1.696930073326752,
          0.6733506339134875,
          1.7002565589264869,
          0.5245255894906424,
          1.8116979718369486,
          0.14274907907109127,
          1.638126350217566,
          0.5533567305444201,
          3.830596817788388,
          0.32148418100979936,
          2.1157471334265576,
          0.6075950602972153,
          3.6729387413301824,
          0.09217762023061438,
          2.055326198727701,
          -0.2859492165194434,
          0.9357751765969222,
          2.2033269278938414,
          1.9886378272474177,
          1.67734995475109,
          0.03746792975308355,
          0.18835643982265676,
          2.010992616837978,
          -0.12451329053598777,
          -0.2717674464612169,
          2.6032580331864663,
          0.5077095009422742,
          0.5107078158681532,
          0.8883702169974219,
          0.5308891097102738,
          0.5108583048747569,
          3.6498651342471806,
          1.8448700035896177,
          1.0130057151136354,
          1.340747320158569,
          1.8519664324265166,
          1.7190588894372725,
          3.672731788453869,
          1.4438614244165424,
          0.9423522356406114,
          -0.28771127795718515,
          0.09095538341498169,
          0.5596559577783401,
          2.3013414739822933,
          0.8154655571679998,
          1.5556705645777422,
          2.1971864146110764,
          1.8718436170759534,
          0.34562891947434576,
          1.9334519732479365,
          1.562597302355393,
          0.33865491370499834,
          0.45136808466792444,
          1.289567489171738,
          1.9925503092992107,
          1.2809725530081548,
          0.9868277457279084,
          1.6366031915902466,
          0.6564887842003859,
          0.6437473524787927,
          0.2639114395234816,
          0.5309134026404663,
          1.6908553493761682,
          0.8096633368005068,
          0.032729717707037,
          1.097919266817381,
          0.25115523211857055,
          3.4012171154916793,
          0.47846963085959326,
          1.7916979690513306,
          0.8537989030962778,
          0.10850956481855141,
          0.7827038332569297,
          0.5324824179990552,
          0.17696228493263744,
          2.0165499687962853,
          0.8896153951835231,
          2.139496480221296,
          -0.23804853034084175,
          0.7870641599057596,
          0.965806089362525,
          0.7047704990517434,
          -0.22413788687956404,
          0.8089145414207162,
          0.3545198123805676,
          0.41843727763065086,
          0.9297897816649177,
          0.37768557031241795,
          1.823080218094434,
          -0.11326695361591424,
          2.1006542883696193,
          0.9152827903237254,
          -0.4820780489989615,
          0.12291618315595812,
          3.355803357251334
         ],
         "y": [
          -0.04083342127518874,
          -0.00972117924415783,
          -0.0426399025048988,
          -0.029415319412654517,
          0.04136510846194663,
          0.0466149621299512,
          -0.012212369008438306,
          0.0468608074487295,
          0.07260023231246904,
          -0.020756416671634303,
          -0.06847267821708414,
          -0.0910783784360154,
          -0.053158396392035456,
          -0.03142257465254569,
          -0.019912365028374346,
          0.0025034377028237964,
          -0.11661196507005334,
          -0.18399172163515054,
          0.04957543339378434,
          -0.017617270996485912,
          -0.05009064071044722,
          0.052811950593741774,
          0.05427670741899293,
          -0.015537414265094363,
          0.024164005565634028,
          0.04275634037172127,
          0.0017097415822544537,
          -0.059547970576393494,
          -0.004787110342746148,
          0.06906887622559243,
          -0.06989002722251714,
          -0.14417784556847826,
          -0.01579640055068471,
          0.028707505695861446,
          0.04790847504272905,
          0.006664667800501442,
          0.040210871143521176,
          0.033848431868740536,
          0.08862389042666585,
          0.005309875121770169,
          -0.02341401932213283,
          -0.07902829801618338,
          0.010289780056820685,
          0.08830834444262992,
          0.04394612630394845,
          0.05154806045942256,
          0.0688310114826805,
          -0.037707907857240985,
          -0.013710618334125568,
          0.007247742002183477,
          0.005274179146559609,
          -0.08325200995398108,
          -0.08054925323505258,
          0.06347101348194656,
          -0.027500970918369616,
          -0.01062017662299275,
          -0.03919848338725557,
          0.014212360443395688,
          0.022178192787614015,
          -0.04478164377607374,
          -0.07144554770490097,
          -0.010388481370742664,
          -0.0035018853265575967,
          0.08225533538336982,
          -0.00785677930292504,
          -0.003151355160323499,
          0.04170736821056131,
          0.06687747790287157,
          -0.0411017675313573,
          0.05644412904885354,
          0.04590499003778814,
          -0.04417686677546695,
          0.007025259385735616,
          -0.05307985567091614,
          -0.03330839613678238,
          -0.08027096401470879,
          -0.008118972741410158,
          0.015665546704667466,
          0.10625622128901363,
          -0.00021885339683058724,
          0.024522648223107568,
          0.03407388509895942,
          0.01629231275125248,
          0.002646645785724211,
          -0.056990702426960804,
          0.0717371602373551,
          0.019614055143804432,
          -0.008503061687742619,
          -0.0716302838959284,
          0.019272486658348797,
          0.028763385285029974,
          -0.008402090623627068,
          -0.05063805596387905,
          -0.05988913937856727,
          -0.03133093214197058,
          0.0047782034535612805,
          0.027622025861711474,
          -0.05399733202201196,
          0.05210876324506941,
          0.02285912974630966,
          -0.02525753450717927,
          -0.07967123877278715,
          -0.058497615470319064,
          0.07721224028087303,
          -0.02202304933446797,
          -0.021278563666937034,
          -0.08117216719708814,
          0.0013439455152550739,
          -0.049675702865141336,
          0.07193663873210354,
          -0.026114573101490013,
          -0.06279885083457604,
          -0.06265824107905704,
          -0.018480696410323905,
          -0.0218794739949697,
          0.1225372369420119,
          0.033140750293395804,
          0.02782043603840445,
          -0.045373349150064524,
          -0.10976707123294416,
          0.012311309475266097,
          0.009593194071900069,
          0.01508009532158483,
          -0.030255549157909734,
          -0.025764957472277805,
          -0.04838463229880419,
          0.030991675641238947,
          0.025764496578156826,
          0.017071024774347188,
          -0.041471616623614205,
          -0.09687655236451787,
          0.05884039283142739,
          -0.00007789626470366962,
          -0.03081819682977227,
          -0.01970754100513039,
          -0.003612835096216127,
          -0.009972674063106868,
          0.002565686737724615,
          -0.02126108260954096,
          -0.005853096698004989,
          0.0323328954902089,
          -0.0053587389763332105,
          0.024670382753794406,
          -0.03359748954849984,
          0.00455786626030541,
          0.058836788509145976,
          -0.025050863990973837,
          0.008555961351574964,
          0.011426753677965973,
          0.01902849318979527,
          -0.012920560737406717,
          0.04437739296769766,
          -0.05153309878060819,
          -0.024805564187921014,
          -0.029932072143030286,
          0.04686038530436676,
          0.026838042898702286,
          0.09023309952457748,
          -0.0011263876943112816,
          -0.1591516412019388,
          0.07949534642312739,
          0.013372663977412241,
          -0.02110421002358054,
          0.037784687727033806,
          0.00872124204743474,
          -0.010244594127151771,
          -0.03677682783934766,
          -0.03989112995257904,
          -0.02279676849466583,
          0.045588692716829415,
          -0.03766206454178256,
          -0.0421502629313133,
          -0.0003963689924393887,
          -0.07081608222569469,
          0.06688451227175651,
          0.09304483839269873,
          0.06866827788859808,
          0.035782266546296376,
          -0.04317378795351012,
          0.005179545339281777,
          -0.01694595161264978,
          -0.014767224332497886,
          0.09577291650310227,
          0.042603675851689005,
          -0.04670693763074407,
          0.018084676058569338,
          -0.028556059491112507,
          0.32836210624564877,
          -0.024898679040926908,
          -0.00045800730056910766,
          -0.0824741349689786,
          -0.03629166296152836,
          -0.026655181671900063,
          -0.03588625626333097,
          0.1026195115263775,
          -0.02678284667749478,
          -0.004477922612007301,
          -0.04023869634275501,
          -0.11558587133866327,
          -0.036396254868904965,
          -0.01095159981171756,
          -0.05372995972808736,
          -0.009901208657755452,
          0.04913519125435553,
          0.06303065562858556,
          0.02425439660619126,
          -0.05244597878542678,
          -0.007852050951043577,
          -0.11443687832153526,
          0.01963958365800278,
          0.009761517108562212,
          -0.049385600547170505,
          0.004212365911302696,
          0.11301447083087446,
          -0.01953528179943076,
          -0.021758689571553802,
          -0.05955452273266082,
          0.07406993280681551,
          0.21466801110338585,
          0.05980240859599517,
          0.047879955624224646,
          0.008260765604362619,
          -0.044712092642541945,
          -0.007477909282449985,
          -0.015902530263057213,
          -0.014275562665281072,
          -0.007851033536522611,
          0.05360797279351015,
          -0.0016768510086402344,
          0.01023342126233695,
          0.04816335105356673,
          -0.055324068715032926,
          0.021739721214298235,
          -0.03725039582828493,
          0.01683326265777657,
          -0.009518012286178212,
          -0.057264623611308796,
          0.07462932121554156,
          0.020007765583717863,
          -0.031481520327828694,
          0.012803934407879525,
          -0.05104600987445662,
          -0.04949062149706063,
          -0.01428394670716282,
          0.017462021564984553,
          0.005849454441743562,
          0.029443460825594403,
          0.001303997145444713,
          -0.053050438646593256,
          -0.02794562992624927,
          0.022571339304165106,
          0.043405562526322106,
          -0.005238598138244566,
          0.05062401422956338,
          -0.047939442701720014,
          0.004412196294078186,
          -0.06532170197805644,
          0.022139148873798753,
          -0.037209822571827034,
          0.052791488360651506,
          -0.001987087607686344,
          0.04216641635506613,
          -0.0433563555138774,
          0.05441591597213147,
          0.02982850971246223,
          -0.002858802936482774,
          -0.04345050944238943,
          -0.04148052099007815,
          0.0598983001556429,
          0.01163791850293433,
          0.009529257247629097,
          0.09427610828033234,
          0.02065393073847499,
          -0.16035726613468637,
          0.022348711281283407,
          0.07965723345430228,
          -0.06473519136846484
         ]
        },
        {
         "mode": "lines",
         "name": "Zero Line",
         "type": "scatter",
         "x": [
          0.17357056752622263,
          1.9466696748053047,
          0.8520212607356217,
          0.855736057682441,
          1.824707662351349,
          2.2721474100590475,
          0.4314658012450856,
          0.3622081918192794,
          1.987393339531793,
          1.4368416917968185,
          0.6871548304373285,
          2.0958887360279723,
          1.9719203252220459,
          0.2084309634023476,
          0.660937950088589,
          0.5241027188956705,
          0.5804485554091947,
          2.0667959816097845,
          1.5626129419685078,
          0.49434024141758004,
          0.6347898495522858,
          0.370702372477741,
          1.3022604378930496,
          1.2731397507332374,
          1.0261113433081381,
          1.2834350797635758,
          0.6568788961501983,
          1.3581997959485388,
          0.7235473919472382,
          1.5697238228115051,
          2.503071986447514,
          0.24490661534379976,
          0.3906745655625628,
          1.7625404065641959,
          0.27521596161505724,
          -0.05298737559578774,
          1.1380979836331007,
          0.6169459629789398,
          1.7943884189999706,
          2.1114256961220406,
          1.9961121342866537,
          1.4823309006368608,
          0.800858254198871,
          0.14564993458444547,
          0.42841208713058665,
          0.32249869961583316,
          0.1380032959624154,
          0.5917497930671631,
          1.668299535444216,
          1.9571363235961137,
          -0.036735781382922106,
          1.4724208872263558,
          0.4961653086957617,
          0.4543016044174279,
          0.3296328690057042,
          1.767157765294023,
          0.3170123817319265,
          1.5457026386576307,
          0.3544666482492326,
          1.3569436804376245,
          1.985738853396629,
          1.2460628496058106,
          0.3583229414306076,
          0.49371435948535036,
          -0.10071584684454025,
          0.6000095638734939,
          1.6224426263835472,
          1.1955052387330032,
          0.3765930949382003,
          0.8795156575149217,
          1.2964984299259517,
          1.1062994584911223,
          1.7303904914658126,
          0.24900219136247503,
          0.4308419095923568,
          0.7874957598067669,
          0.674397987206912,
          0.9440925916945979,
          0.32827393968772994,
          1.0884261208801183,
          1.329416416127344,
          0.3496378186120388,
          0.1406588085164439,
          0.4653468106622516,
          0.7497701744155444,
          2.346479827276994,
          3.096551439950134,
          2.1680549564348013,
          0.3424813442924492,
          0.7415765796644934,
          1.4475972412896396,
          2.0964547465639374,
          1.9920551746633086,
          0.26370974268089986,
          0.8151471039379579,
          0.3080577755095854,
          3.3478317589098596,
          2.068160717645985,
          1.9152891650702686,
          0.9895881666696713,
          2.5021910883237704,
          1.5272452424665102,
          0.3255035667874542,
          1.2632169299287281,
          0.39264048208578795,
          0.7722549540505892,
          0.41510470945668765,
          1.7372151258766417,
          2.1229714365468064,
          0.8484346620621268,
          1.3065798317424997,
          3.96836517649668,
          -0.27018075270184266,
          1.3474782469592144,
          0.596290383716446,
          1.3052910977247767,
          1.9712538255431107,
          0.5308979631875257,
          1.8632255850849275,
          1.644532507080407,
          0.39041836590349,
          2.47014617300973,
          0.34587239379399287,
          3.779001746036216,
          1.3055026773283886,
          1.7789414113539261,
          1.7718959057315316,
          -0.5270631296812884,
          0.9783328668765688,
          0.8613491648524242,
          1.538319123046713,
          3.5567801609468495,
          1.2590309684280876,
          1.3655313986347406,
          2.188092974451309,
          1.3559931142994242,
          0.41478078249628014,
          1.3417085925512622,
          3.3919344872133808,
          0.2935396709818657,
          0.660550442650099,
          2.0635854762213492,
          0.9153424037670916,
          3.6742635818543388,
          1.270711230457522,
          0.866730674208266,
          0.39951340582167943,
          0.22457091273887803,
          3.5043234030195105,
          2.0567612967274593,
          0.3010229167767172,
          0.21431466755749135,
          0.9125641606394217,
          2.4111180413782813,
          1.9818455394148247,
          1.719550037880131,
          1.4261398550216497,
          1.4022355021525335,
          1.3691988602445107,
          1.0058414039832793,
          1.8900848810983515,
          -0.17899920512815215,
          1.3200677924251747,
          1.4321327488066593,
          0.6961132050864801,
          -0.06320208525011403,
          1.5088765635791817,
          0.5591186668474732,
          0.6401278678711145,
          1.366131666847518,
          0.8522395846956872,
          2.024513162957299,
          0.3288208337251311,
          1.7151167002154226,
          2.3149593417803205,
          0.6104387144716972,
          1.1612904390903918,
          -0.06859492162645488,
          0.8892400366759532,
          1.6815216143982445,
          0.47454708421426217,
          0.739658938948518,
          1.696930073326752,
          0.6733506339134875,
          1.7002565589264869,
          0.5245255894906424,
          1.8116979718369486,
          0.14274907907109127,
          1.638126350217566,
          0.5533567305444201,
          3.830596817788388,
          0.32148418100979936,
          2.1157471334265576,
          0.6075950602972153,
          3.6729387413301824,
          0.09217762023061438,
          2.055326198727701,
          -0.2859492165194434,
          0.9357751765969222,
          2.2033269278938414,
          1.9886378272474177,
          1.67734995475109,
          0.03746792975308355,
          0.18835643982265676,
          2.010992616837978,
          -0.12451329053598777,
          -0.2717674464612169,
          2.6032580331864663,
          0.5077095009422742,
          0.5107078158681532,
          0.8883702169974219,
          0.5308891097102738,
          0.5108583048747569,
          3.6498651342471806,
          1.8448700035896177,
          1.0130057151136354,
          1.340747320158569,
          1.8519664324265166,
          1.7190588894372725,
          3.672731788453869,
          1.4438614244165424,
          0.9423522356406114,
          -0.28771127795718515,
          0.09095538341498169,
          0.5596559577783401,
          2.3013414739822933,
          0.8154655571679998,
          1.5556705645777422,
          2.1971864146110764,
          1.8718436170759534,
          0.34562891947434576,
          1.9334519732479365,
          1.562597302355393,
          0.33865491370499834,
          0.45136808466792444,
          1.289567489171738,
          1.9925503092992107,
          1.2809725530081548,
          0.9868277457279084,
          1.6366031915902466,
          0.6564887842003859,
          0.6437473524787927,
          0.2639114395234816,
          0.5309134026404663,
          1.6908553493761682,
          0.8096633368005068,
          0.032729717707037,
          1.097919266817381,
          0.25115523211857055,
          3.4012171154916793,
          0.47846963085959326,
          1.7916979690513306,
          0.8537989030962778,
          0.10850956481855141,
          0.7827038332569297,
          0.5324824179990552,
          0.17696228493263744,
          2.0165499687962853,
          0.8896153951835231,
          2.139496480221296,
          -0.23804853034084175,
          0.7870641599057596,
          0.965806089362525,
          0.7047704990517434,
          -0.22413788687956404,
          0.8089145414207162,
          0.3545198123805676,
          0.41843727763065086,
          0.9297897816649177,
          0.37768557031241795,
          1.823080218094434,
          -0.11326695361591424,
          2.1006542883696193,
          0.9152827903237254,
          -0.4820780489989615,
          0.12291618315595812,
          3.355803357251334
         ],
         "y": [
          0,
          0,
          0,
          0,
          0,
          0,
          0,
          0,
          0,
          0,
          0,
          0,
          0,
          0,
          0,
          0,
          0,
          0,
          0,
          0,
          0,
          0,
          0,
          0,
          0,
          0,
          0,
          0,
          0,
          0,
          0,
          0,
          0,
          0,
          0,
          0,
          0,
          0,
          0,
          0,
          0,
          0,
          0,
          0,
          0,
          0,
          0,
          0,
          0,
          0,
          0,
          0,
          0,
          0,
          0,
          0,
          0,
          0,
          0,
          0,
          0,
          0,
          0,
          0,
          0,
          0,
          0,
          0,
          0,
          0,
          0,
          0,
          0,
          0,
          0,
          0,
          0,
          0,
          0,
          0,
          0,
          0,
          0,
          0,
          0,
          0,
          0,
          0,
          0,
          0,
          0,
          0,
          0,
          0,
          0,
          0,
          0,
          0,
          0,
          0,
          0,
          0,
          0,
          0,
          0,
          0,
          0,
          0,
          0,
          0,
          0,
          0,
          0,
          0,
          0,
          0,
          0,
          0,
          0,
          0,
          0,
          0,
          0,
          0,
          0,
          0,
          0,
          0,
          0,
          0,
          0,
          0,
          0,
          0,
          0,
          0,
          0,
          0,
          0,
          0,
          0,
          0,
          0,
          0,
          0,
          0,
          0,
          0,
          0,
          0,
          0,
          0,
          0,
          0,
          0,
          0,
          0,
          0,
          0,
          0,
          0,
          0,
          0,
          0,
          0,
          0,
          0,
          0,
          0,
          0,
          0,
          0,
          0,
          0,
          0,
          0,
          0,
          0,
          0,
          0,
          0,
          0,
          0,
          0,
          0,
          0,
          0,
          0,
          0,
          0,
          0,
          0,
          0,
          0,
          0,
          0,
          0,
          0,
          0,
          0,
          0,
          0,
          0,
          0,
          0,
          0,
          0,
          0,
          0,
          0,
          0,
          0,
          0,
          0,
          0,
          0,
          0,
          0,
          0,
          0,
          0,
          0,
          0,
          0,
          0,
          0,
          0,
          0,
          0,
          0,
          0,
          0,
          0,
          0,
          0,
          0,
          0,
          0,
          0,
          0,
          0,
          0,
          0,
          0,
          0,
          0,
          0,
          0,
          0,
          0,
          0,
          0,
          0,
          0,
          0,
          0,
          0,
          0,
          0,
          0,
          0,
          0,
          0,
          0,
          0,
          0,
          0,
          0,
          0,
          0,
          0,
          0,
          0,
          0,
          0,
          0,
          0
         ]
        }
       ],
       "layout": {
        "template": {
         "data": {
          "bar": [
           {
            "error_x": {
             "color": "#f2f5fa"
            },
            "error_y": {
             "color": "#f2f5fa"
            },
            "marker": {
             "line": {
              "color": "rgb(17,17,17)",
              "width": 0.5
             },
             "pattern": {
              "fillmode": "overlay",
              "size": 10,
              "solidity": 0.2
             }
            },
            "type": "bar"
           }
          ],
          "barpolar": [
           {
            "marker": {
             "line": {
              "color": "rgb(17,17,17)",
              "width": 0.5
             },
             "pattern": {
              "fillmode": "overlay",
              "size": 10,
              "solidity": 0.2
             }
            },
            "type": "barpolar"
           }
          ],
          "carpet": [
           {
            "aaxis": {
             "endlinecolor": "#A2B1C6",
             "gridcolor": "#506784",
             "linecolor": "#506784",
             "minorgridcolor": "#506784",
             "startlinecolor": "#A2B1C6"
            },
            "baxis": {
             "endlinecolor": "#A2B1C6",
             "gridcolor": "#506784",
             "linecolor": "#506784",
             "minorgridcolor": "#506784",
             "startlinecolor": "#A2B1C6"
            },
            "type": "carpet"
           }
          ],
          "choropleth": [
           {
            "colorbar": {
             "outlinewidth": 0,
             "ticks": ""
            },
            "type": "choropleth"
           }
          ],
          "contour": [
           {
            "colorbar": {
             "outlinewidth": 0,
             "ticks": ""
            },
            "colorscale": [
             [
              0,
              "#0d0887"
             ],
             [
              0.1111111111111111,
              "#46039f"
             ],
             [
              0.2222222222222222,
              "#7201a8"
             ],
             [
              0.3333333333333333,
              "#9c179e"
             ],
             [
              0.4444444444444444,
              "#bd3786"
             ],
             [
              0.5555555555555556,
              "#d8576b"
             ],
             [
              0.6666666666666666,
              "#ed7953"
             ],
             [
              0.7777777777777778,
              "#fb9f3a"
             ],
             [
              0.8888888888888888,
              "#fdca26"
             ],
             [
              1,
              "#f0f921"
             ]
            ],
            "type": "contour"
           }
          ],
          "contourcarpet": [
           {
            "colorbar": {
             "outlinewidth": 0,
             "ticks": ""
            },
            "type": "contourcarpet"
           }
          ],
          "heatmap": [
           {
            "colorbar": {
             "outlinewidth": 0,
             "ticks": ""
            },
            "colorscale": [
             [
              0,
              "#0d0887"
             ],
             [
              0.1111111111111111,
              "#46039f"
             ],
             [
              0.2222222222222222,
              "#7201a8"
             ],
             [
              0.3333333333333333,
              "#9c179e"
             ],
             [
              0.4444444444444444,
              "#bd3786"
             ],
             [
              0.5555555555555556,
              "#d8576b"
             ],
             [
              0.6666666666666666,
              "#ed7953"
             ],
             [
              0.7777777777777778,
              "#fb9f3a"
             ],
             [
              0.8888888888888888,
              "#fdca26"
             ],
             [
              1,
              "#f0f921"
             ]
            ],
            "type": "heatmap"
           }
          ],
          "heatmapgl": [
           {
            "colorbar": {
             "outlinewidth": 0,
             "ticks": ""
            },
            "colorscale": [
             [
              0,
              "#0d0887"
             ],
             [
              0.1111111111111111,
              "#46039f"
             ],
             [
              0.2222222222222222,
              "#7201a8"
             ],
             [
              0.3333333333333333,
              "#9c179e"
             ],
             [
              0.4444444444444444,
              "#bd3786"
             ],
             [
              0.5555555555555556,
              "#d8576b"
             ],
             [
              0.6666666666666666,
              "#ed7953"
             ],
             [
              0.7777777777777778,
              "#fb9f3a"
             ],
             [
              0.8888888888888888,
              "#fdca26"
             ],
             [
              1,
              "#f0f921"
             ]
            ],
            "type": "heatmapgl"
           }
          ],
          "histogram": [
           {
            "marker": {
             "pattern": {
              "fillmode": "overlay",
              "size": 10,
              "solidity": 0.2
             }
            },
            "type": "histogram"
           }
          ],
          "histogram2d": [
           {
            "colorbar": {
             "outlinewidth": 0,
             "ticks": ""
            },
            "colorscale": [
             [
              0,
              "#0d0887"
             ],
             [
              0.1111111111111111,
              "#46039f"
             ],
             [
              0.2222222222222222,
              "#7201a8"
             ],
             [
              0.3333333333333333,
              "#9c179e"
             ],
             [
              0.4444444444444444,
              "#bd3786"
             ],
             [
              0.5555555555555556,
              "#d8576b"
             ],
             [
              0.6666666666666666,
              "#ed7953"
             ],
             [
              0.7777777777777778,
              "#fb9f3a"
             ],
             [
              0.8888888888888888,
              "#fdca26"
             ],
             [
              1,
              "#f0f921"
             ]
            ],
            "type": "histogram2d"
           }
          ],
          "histogram2dcontour": [
           {
            "colorbar": {
             "outlinewidth": 0,
             "ticks": ""
            },
            "colorscale": [
             [
              0,
              "#0d0887"
             ],
             [
              0.1111111111111111,
              "#46039f"
             ],
             [
              0.2222222222222222,
              "#7201a8"
             ],
             [
              0.3333333333333333,
              "#9c179e"
             ],
             [
              0.4444444444444444,
              "#bd3786"
             ],
             [
              0.5555555555555556,
              "#d8576b"
             ],
             [
              0.6666666666666666,
              "#ed7953"
             ],
             [
              0.7777777777777778,
              "#fb9f3a"
             ],
             [
              0.8888888888888888,
              "#fdca26"
             ],
             [
              1,
              "#f0f921"
             ]
            ],
            "type": "histogram2dcontour"
           }
          ],
          "mesh3d": [
           {
            "colorbar": {
             "outlinewidth": 0,
             "ticks": ""
            },
            "type": "mesh3d"
           }
          ],
          "parcoords": [
           {
            "line": {
             "colorbar": {
              "outlinewidth": 0,
              "ticks": ""
             }
            },
            "type": "parcoords"
           }
          ],
          "pie": [
           {
            "automargin": true,
            "type": "pie"
           }
          ],
          "scatter": [
           {
            "marker": {
             "line": {
              "color": "#283442"
             }
            },
            "type": "scatter"
           }
          ],
          "scatter3d": [
           {
            "line": {
             "colorbar": {
              "outlinewidth": 0,
              "ticks": ""
             }
            },
            "marker": {
             "colorbar": {
              "outlinewidth": 0,
              "ticks": ""
             }
            },
            "type": "scatter3d"
           }
          ],
          "scattercarpet": [
           {
            "marker": {
             "colorbar": {
              "outlinewidth": 0,
              "ticks": ""
             }
            },
            "type": "scattercarpet"
           }
          ],
          "scattergeo": [
           {
            "marker": {
             "colorbar": {
              "outlinewidth": 0,
              "ticks": ""
             }
            },
            "type": "scattergeo"
           }
          ],
          "scattergl": [
           {
            "marker": {
             "line": {
              "color": "#283442"
             }
            },
            "type": "scattergl"
           }
          ],
          "scattermapbox": [
           {
            "marker": {
             "colorbar": {
              "outlinewidth": 0,
              "ticks": ""
             }
            },
            "type": "scattermapbox"
           }
          ],
          "scatterpolar": [
           {
            "marker": {
             "colorbar": {
              "outlinewidth": 0,
              "ticks": ""
             }
            },
            "type": "scatterpolar"
           }
          ],
          "scatterpolargl": [
           {
            "marker": {
             "colorbar": {
              "outlinewidth": 0,
              "ticks": ""
             }
            },
            "type": "scatterpolargl"
           }
          ],
          "scatterternary": [
           {
            "marker": {
             "colorbar": {
              "outlinewidth": 0,
              "ticks": ""
             }
            },
            "type": "scatterternary"
           }
          ],
          "surface": [
           {
            "colorbar": {
             "outlinewidth": 0,
             "ticks": ""
            },
            "colorscale": [
             [
              0,
              "#0d0887"
             ],
             [
              0.1111111111111111,
              "#46039f"
             ],
             [
              0.2222222222222222,
              "#7201a8"
             ],
             [
              0.3333333333333333,
              "#9c179e"
             ],
             [
              0.4444444444444444,
              "#bd3786"
             ],
             [
              0.5555555555555556,
              "#d8576b"
             ],
             [
              0.6666666666666666,
              "#ed7953"
             ],
             [
              0.7777777777777778,
              "#fb9f3a"
             ],
             [
              0.8888888888888888,
              "#fdca26"
             ],
             [
              1,
              "#f0f921"
             ]
            ],
            "type": "surface"
           }
          ],
          "table": [
           {
            "cells": {
             "fill": {
              "color": "#506784"
             },
             "line": {
              "color": "rgb(17,17,17)"
             }
            },
            "header": {
             "fill": {
              "color": "#2a3f5f"
             },
             "line": {
              "color": "rgb(17,17,17)"
             }
            },
            "type": "table"
           }
          ]
         },
         "layout": {
          "annotationdefaults": {
           "arrowcolor": "#f2f5fa",
           "arrowhead": 0,
           "arrowwidth": 1
          },
          "autotypenumbers": "strict",
          "coloraxis": {
           "colorbar": {
            "outlinewidth": 0,
            "ticks": ""
           }
          },
          "colorscale": {
           "diverging": [
            [
             0,
             "#8e0152"
            ],
            [
             0.1,
             "#c51b7d"
            ],
            [
             0.2,
             "#de77ae"
            ],
            [
             0.3,
             "#f1b6da"
            ],
            [
             0.4,
             "#fde0ef"
            ],
            [
             0.5,
             "#f7f7f7"
            ],
            [
             0.6,
             "#e6f5d0"
            ],
            [
             0.7,
             "#b8e186"
            ],
            [
             0.8,
             "#7fbc41"
            ],
            [
             0.9,
             "#4d9221"
            ],
            [
             1,
             "#276419"
            ]
           ],
           "sequential": [
            [
             0,
             "#0d0887"
            ],
            [
             0.1111111111111111,
             "#46039f"
            ],
            [
             0.2222222222222222,
             "#7201a8"
            ],
            [
             0.3333333333333333,
             "#9c179e"
            ],
            [
             0.4444444444444444,
             "#bd3786"
            ],
            [
             0.5555555555555556,
             "#d8576b"
            ],
            [
             0.6666666666666666,
             "#ed7953"
            ],
            [
             0.7777777777777778,
             "#fb9f3a"
            ],
            [
             0.8888888888888888,
             "#fdca26"
            ],
            [
             1,
             "#f0f921"
            ]
           ],
           "sequentialminus": [
            [
             0,
             "#0d0887"
            ],
            [
             0.1111111111111111,
             "#46039f"
            ],
            [
             0.2222222222222222,
             "#7201a8"
            ],
            [
             0.3333333333333333,
             "#9c179e"
            ],
            [
             0.4444444444444444,
             "#bd3786"
            ],
            [
             0.5555555555555556,
             "#d8576b"
            ],
            [
             0.6666666666666666,
             "#ed7953"
            ],
            [
             0.7777777777777778,
             "#fb9f3a"
            ],
            [
             0.8888888888888888,
             "#fdca26"
            ],
            [
             1,
             "#f0f921"
            ]
           ]
          },
          "colorway": [
           "#636efa",
           "#EF553B",
           "#00cc96",
           "#ab63fa",
           "#FFA15A",
           "#19d3f3",
           "#FF6692",
           "#B6E880",
           "#FF97FF",
           "#FECB52"
          ],
          "font": {
           "color": "#f2f5fa"
          },
          "geo": {
           "bgcolor": "rgb(17,17,17)",
           "lakecolor": "rgb(17,17,17)",
           "landcolor": "rgb(17,17,17)",
           "showlakes": true,
           "showland": true,
           "subunitcolor": "#506784"
          },
          "hoverlabel": {
           "align": "left"
          },
          "hovermode": "closest",
          "mapbox": {
           "style": "dark"
          },
          "paper_bgcolor": "rgb(17,17,17)",
          "plot_bgcolor": "rgb(17,17,17)",
          "polar": {
           "angularaxis": {
            "gridcolor": "#506784",
            "linecolor": "#506784",
            "ticks": ""
           },
           "bgcolor": "rgb(17,17,17)",
           "radialaxis": {
            "gridcolor": "#506784",
            "linecolor": "#506784",
            "ticks": ""
           }
          },
          "scene": {
           "xaxis": {
            "backgroundcolor": "rgb(17,17,17)",
            "gridcolor": "#506784",
            "gridwidth": 2,
            "linecolor": "#506784",
            "showbackground": true,
            "ticks": "",
            "zerolinecolor": "#C8D4E3"
           },
           "yaxis": {
            "backgroundcolor": "rgb(17,17,17)",
            "gridcolor": "#506784",
            "gridwidth": 2,
            "linecolor": "#506784",
            "showbackground": true,
            "ticks": "",
            "zerolinecolor": "#C8D4E3"
           },
           "zaxis": {
            "backgroundcolor": "rgb(17,17,17)",
            "gridcolor": "#506784",
            "gridwidth": 2,
            "linecolor": "#506784",
            "showbackground": true,
            "ticks": "",
            "zerolinecolor": "#C8D4E3"
           }
          },
          "shapedefaults": {
           "line": {
            "color": "#f2f5fa"
           }
          },
          "sliderdefaults": {
           "bgcolor": "#C8D4E3",
           "bordercolor": "rgb(17,17,17)",
           "borderwidth": 1,
           "tickwidth": 0
          },
          "ternary": {
           "aaxis": {
            "gridcolor": "#506784",
            "linecolor": "#506784",
            "ticks": ""
           },
           "baxis": {
            "gridcolor": "#506784",
            "linecolor": "#506784",
            "ticks": ""
           },
           "bgcolor": "rgb(17,17,17)",
           "caxis": {
            "gridcolor": "#506784",
            "linecolor": "#506784",
            "ticks": ""
           }
          },
          "title": {
           "x": 0.05
          },
          "updatemenudefaults": {
           "bgcolor": "#506784",
           "borderwidth": 0
          },
          "xaxis": {
           "automargin": true,
           "gridcolor": "#283442",
           "linecolor": "#506784",
           "ticks": "",
           "title": {
            "standoff": 15
           },
           "zerolinecolor": "#283442",
           "zerolinewidth": 2
          },
          "yaxis": {
           "automargin": true,
           "gridcolor": "#283442",
           "linecolor": "#506784",
           "ticks": "",
           "title": {
            "standoff": 15
           },
           "zerolinecolor": "#283442",
           "zerolinewidth": 2
          }
         }
        },
        "title": {
         "text": "Residuals vs Predicted Closing Prices"
        },
        "xaxis": {
         "title": {
          "text": "Predicted Closing Prices"
         }
        },
        "yaxis": {
         "title": {
          "text": "Residuals"
         }
        }
       }
      }
     },
     "metadata": {},
     "output_type": "display_data"
    }
   ],
   "source": [
    "# Calculate the residuals first.\n",
    "residuals = y_test - y_pred\n",
    "\n",
    "# Create the residuals plot\n",
    "fig = go.Figure()\n",
    "\n",
    "fig.add_trace(go.Scatter(x = y_pred, y = residuals,\n",
    "                mode = 'markers',\n",
    "                name = 'Residuals'))\n",
    "\n",
    "fig.add_trace(go.Scatter(x = y_pred, y = np.zeros_like(y_pred),\n",
    "                mode = 'lines',\n",
    "                name = 'Zero Line'))\n",
    "\n",
    "fig.update_layout(title = 'Residuals vs Predicted Closing Prices',\n",
    "                xaxis_title = 'Predicted Closing Prices',\n",
    "                yaxis_title = 'Residuals',\n",
    "                template = 'plotly_dark')\n",
    "\n",
    "fig.show()\n",
    "\n",
    "\n"
   ]
  },
  {
   "cell_type": "markdown",
   "metadata": {},
   "source": [
    "#### In the plot above, contrary to many other plots we create, we are wanting to see randomness.  We are looking for the data to be scattered around the zero line and randomly distributed, and that the spread is fairly symmetrical around the zero.  If there was clustering it could indicate bias in the predictions.  "
   ]
  },
  {
   "cell_type": "markdown",
   "metadata": {},
   "source": [
    "#### Since we have our residuals variable established let's make a distribution plot for it to get another look."
   ]
  },
  {
   "cell_type": "code",
   "execution_count": 12,
   "metadata": {},
   "outputs": [
    {
     "data": {
      "application/vnd.plotly.v1+json": {
       "config": {
        "plotlyServerURL": "https://plot.ly"
       },
       "data": [
        {
         "alignmentgroup": "True",
         "bingroup": "x",
         "histnorm": "probability density",
         "hovertemplate": "variable=Close<br>value=%{x}<br>probability density=%{y}<extra></extra>",
         "legendgroup": "Close",
         "marker": {
          "color": "#636efa",
          "pattern": {
           "shape": ""
          }
         },
         "name": "Close",
         "nbinsx": 30,
         "offsetgroup": "Close",
         "orientation": "v",
         "showlegend": true,
         "type": "histogram",
         "x": [
          -0.04083342127518874,
          -0.00972117924415783,
          -0.0426399025048988,
          -0.029415319412654517,
          0.04136510846194663,
          0.0466149621299512,
          -0.012212369008438306,
          0.0468608074487295,
          0.07260023231246904,
          -0.020756416671634303,
          -0.06847267821708414,
          -0.0910783784360154,
          -0.053158396392035456,
          -0.03142257465254569,
          -0.019912365028374346,
          0.0025034377028237964,
          -0.11661196507005334,
          -0.18399172163515054,
          0.04957543339378434,
          -0.017617270996485912,
          -0.05009064071044722,
          0.052811950593741774,
          0.05427670741899293,
          -0.015537414265094363,
          0.024164005565634028,
          0.04275634037172127,
          0.0017097415822544537,
          -0.059547970576393494,
          -0.004787110342746148,
          0.06906887622559243,
          -0.06989002722251714,
          -0.14417784556847826,
          -0.01579640055068471,
          0.028707505695861446,
          0.04790847504272905,
          0.006664667800501442,
          0.040210871143521176,
          0.033848431868740536,
          0.08862389042666585,
          0.005309875121770169,
          -0.02341401932213283,
          -0.07902829801618338,
          0.010289780056820685,
          0.08830834444262992,
          0.04394612630394845,
          0.05154806045942256,
          0.0688310114826805,
          -0.037707907857240985,
          -0.013710618334125568,
          0.007247742002183477,
          0.005274179146559609,
          -0.08325200995398108,
          -0.08054925323505258,
          0.06347101348194656,
          -0.027500970918369616,
          -0.01062017662299275,
          -0.03919848338725557,
          0.014212360443395688,
          0.022178192787614015,
          -0.04478164377607374,
          -0.07144554770490097,
          -0.010388481370742664,
          -0.0035018853265575967,
          0.08225533538336982,
          -0.00785677930292504,
          -0.003151355160323499,
          0.04170736821056131,
          0.06687747790287157,
          -0.0411017675313573,
          0.05644412904885354,
          0.04590499003778814,
          -0.04417686677546695,
          0.007025259385735616,
          -0.05307985567091614,
          -0.03330839613678238,
          -0.08027096401470879,
          -0.008118972741410158,
          0.015665546704667466,
          0.10625622128901363,
          -0.00021885339683058724,
          0.024522648223107568,
          0.03407388509895942,
          0.01629231275125248,
          0.002646645785724211,
          -0.056990702426960804,
          0.0717371602373551,
          0.019614055143804432,
          -0.008503061687742619,
          -0.0716302838959284,
          0.019272486658348797,
          0.028763385285029974,
          -0.008402090623627068,
          -0.05063805596387905,
          -0.05988913937856727,
          -0.03133093214197058,
          0.0047782034535612805,
          0.027622025861711474,
          -0.05399733202201196,
          0.05210876324506941,
          0.02285912974630966,
          -0.02525753450717927,
          -0.07967123877278715,
          -0.058497615470319064,
          0.07721224028087303,
          -0.02202304933446797,
          -0.021278563666937034,
          -0.08117216719708814,
          0.0013439455152550739,
          -0.049675702865141336,
          0.07193663873210354,
          -0.026114573101490013,
          -0.06279885083457604,
          -0.06265824107905704,
          -0.018480696410323905,
          -0.0218794739949697,
          0.1225372369420119,
          0.033140750293395804,
          0.02782043603840445,
          -0.045373349150064524,
          -0.10976707123294416,
          0.012311309475266097,
          0.009593194071900069,
          0.01508009532158483,
          -0.030255549157909734,
          -0.025764957472277805,
          -0.04838463229880419,
          0.030991675641238947,
          0.025764496578156826,
          0.017071024774347188,
          -0.041471616623614205,
          -0.09687655236451787,
          0.05884039283142739,
          -0.00007789626470366962,
          -0.03081819682977227,
          -0.01970754100513039,
          -0.003612835096216127,
          -0.009972674063106868,
          0.002565686737724615,
          -0.02126108260954096,
          -0.005853096698004989,
          0.0323328954902089,
          -0.0053587389763332105,
          0.024670382753794406,
          -0.03359748954849984,
          0.00455786626030541,
          0.058836788509145976,
          -0.025050863990973837,
          0.008555961351574964,
          0.011426753677965973,
          0.01902849318979527,
          -0.012920560737406717,
          0.04437739296769766,
          -0.05153309878060819,
          -0.024805564187921014,
          -0.029932072143030286,
          0.04686038530436676,
          0.026838042898702286,
          0.09023309952457748,
          -0.0011263876943112816,
          -0.1591516412019388,
          0.07949534642312739,
          0.013372663977412241,
          -0.02110421002358054,
          0.037784687727033806,
          0.00872124204743474,
          -0.010244594127151771,
          -0.03677682783934766,
          -0.03989112995257904,
          -0.02279676849466583,
          0.045588692716829415,
          -0.03766206454178256,
          -0.0421502629313133,
          -0.0003963689924393887,
          -0.07081608222569469,
          0.06688451227175651,
          0.09304483839269873,
          0.06866827788859808,
          0.035782266546296376,
          -0.04317378795351012,
          0.005179545339281777,
          -0.01694595161264978,
          -0.014767224332497886,
          0.09577291650310227,
          0.042603675851689005,
          -0.04670693763074407,
          0.018084676058569338,
          -0.028556059491112507,
          0.32836210624564877,
          -0.024898679040926908,
          -0.00045800730056910766,
          -0.0824741349689786,
          -0.03629166296152836,
          -0.026655181671900063,
          -0.03588625626333097,
          0.1026195115263775,
          -0.02678284667749478,
          -0.004477922612007301,
          -0.04023869634275501,
          -0.11558587133866327,
          -0.036396254868904965,
          -0.01095159981171756,
          -0.05372995972808736,
          -0.009901208657755452,
          0.04913519125435553,
          0.06303065562858556,
          0.02425439660619126,
          -0.05244597878542678,
          -0.007852050951043577,
          -0.11443687832153526,
          0.01963958365800278,
          0.009761517108562212,
          -0.049385600547170505,
          0.004212365911302696,
          0.11301447083087446,
          -0.01953528179943076,
          -0.021758689571553802,
          -0.05955452273266082,
          0.07406993280681551,
          0.21466801110338585,
          0.05980240859599517,
          0.047879955624224646,
          0.008260765604362619,
          -0.044712092642541945,
          -0.007477909282449985,
          -0.015902530263057213,
          -0.014275562665281072,
          -0.007851033536522611,
          0.05360797279351015,
          -0.0016768510086402344,
          0.01023342126233695,
          0.04816335105356673,
          -0.055324068715032926,
          0.021739721214298235,
          -0.03725039582828493,
          0.01683326265777657,
          -0.009518012286178212,
          -0.057264623611308796,
          0.07462932121554156,
          0.020007765583717863,
          -0.031481520327828694,
          0.012803934407879525,
          -0.05104600987445662,
          -0.04949062149706063,
          -0.01428394670716282,
          0.017462021564984553,
          0.005849454441743562,
          0.029443460825594403,
          0.001303997145444713,
          -0.053050438646593256,
          -0.02794562992624927,
          0.022571339304165106,
          0.043405562526322106,
          -0.005238598138244566,
          0.05062401422956338,
          -0.047939442701720014,
          0.004412196294078186,
          -0.06532170197805644,
          0.022139148873798753,
          -0.037209822571827034,
          0.052791488360651506,
          -0.001987087607686344,
          0.04216641635506613,
          -0.0433563555138774,
          0.05441591597213147,
          0.02982850971246223,
          -0.002858802936482774,
          -0.04345050944238943,
          -0.04148052099007815,
          0.0598983001556429,
          0.01163791850293433,
          0.009529257247629097,
          0.09427610828033234,
          0.02065393073847499,
          -0.16035726613468637,
          0.022348711281283407,
          0.07965723345430228,
          -0.06473519136846484
         ],
         "xaxis": "x",
         "yaxis": "y"
        },
        {
         "alignmentgroup": "True",
         "hovertemplate": "variable=Close<br>value=%{x}<extra></extra>",
         "legendgroup": "Close",
         "marker": {
          "color": "#636efa"
         },
         "name": "Close",
         "notched": true,
         "offsetgroup": "Close",
         "showlegend": false,
         "type": "box",
         "x": [
          -0.04083342127518874,
          -0.00972117924415783,
          -0.0426399025048988,
          -0.029415319412654517,
          0.04136510846194663,
          0.0466149621299512,
          -0.012212369008438306,
          0.0468608074487295,
          0.07260023231246904,
          -0.020756416671634303,
          -0.06847267821708414,
          -0.0910783784360154,
          -0.053158396392035456,
          -0.03142257465254569,
          -0.019912365028374346,
          0.0025034377028237964,
          -0.11661196507005334,
          -0.18399172163515054,
          0.04957543339378434,
          -0.017617270996485912,
          -0.05009064071044722,
          0.052811950593741774,
          0.05427670741899293,
          -0.015537414265094363,
          0.024164005565634028,
          0.04275634037172127,
          0.0017097415822544537,
          -0.059547970576393494,
          -0.004787110342746148,
          0.06906887622559243,
          -0.06989002722251714,
          -0.14417784556847826,
          -0.01579640055068471,
          0.028707505695861446,
          0.04790847504272905,
          0.006664667800501442,
          0.040210871143521176,
          0.033848431868740536,
          0.08862389042666585,
          0.005309875121770169,
          -0.02341401932213283,
          -0.07902829801618338,
          0.010289780056820685,
          0.08830834444262992,
          0.04394612630394845,
          0.05154806045942256,
          0.0688310114826805,
          -0.037707907857240985,
          -0.013710618334125568,
          0.007247742002183477,
          0.005274179146559609,
          -0.08325200995398108,
          -0.08054925323505258,
          0.06347101348194656,
          -0.027500970918369616,
          -0.01062017662299275,
          -0.03919848338725557,
          0.014212360443395688,
          0.022178192787614015,
          -0.04478164377607374,
          -0.07144554770490097,
          -0.010388481370742664,
          -0.0035018853265575967,
          0.08225533538336982,
          -0.00785677930292504,
          -0.003151355160323499,
          0.04170736821056131,
          0.06687747790287157,
          -0.0411017675313573,
          0.05644412904885354,
          0.04590499003778814,
          -0.04417686677546695,
          0.007025259385735616,
          -0.05307985567091614,
          -0.03330839613678238,
          -0.08027096401470879,
          -0.008118972741410158,
          0.015665546704667466,
          0.10625622128901363,
          -0.00021885339683058724,
          0.024522648223107568,
          0.03407388509895942,
          0.01629231275125248,
          0.002646645785724211,
          -0.056990702426960804,
          0.0717371602373551,
          0.019614055143804432,
          -0.008503061687742619,
          -0.0716302838959284,
          0.019272486658348797,
          0.028763385285029974,
          -0.008402090623627068,
          -0.05063805596387905,
          -0.05988913937856727,
          -0.03133093214197058,
          0.0047782034535612805,
          0.027622025861711474,
          -0.05399733202201196,
          0.05210876324506941,
          0.02285912974630966,
          -0.02525753450717927,
          -0.07967123877278715,
          -0.058497615470319064,
          0.07721224028087303,
          -0.02202304933446797,
          -0.021278563666937034,
          -0.08117216719708814,
          0.0013439455152550739,
          -0.049675702865141336,
          0.07193663873210354,
          -0.026114573101490013,
          -0.06279885083457604,
          -0.06265824107905704,
          -0.018480696410323905,
          -0.0218794739949697,
          0.1225372369420119,
          0.033140750293395804,
          0.02782043603840445,
          -0.045373349150064524,
          -0.10976707123294416,
          0.012311309475266097,
          0.009593194071900069,
          0.01508009532158483,
          -0.030255549157909734,
          -0.025764957472277805,
          -0.04838463229880419,
          0.030991675641238947,
          0.025764496578156826,
          0.017071024774347188,
          -0.041471616623614205,
          -0.09687655236451787,
          0.05884039283142739,
          -0.00007789626470366962,
          -0.03081819682977227,
          -0.01970754100513039,
          -0.003612835096216127,
          -0.009972674063106868,
          0.002565686737724615,
          -0.02126108260954096,
          -0.005853096698004989,
          0.0323328954902089,
          -0.0053587389763332105,
          0.024670382753794406,
          -0.03359748954849984,
          0.00455786626030541,
          0.058836788509145976,
          -0.025050863990973837,
          0.008555961351574964,
          0.011426753677965973,
          0.01902849318979527,
          -0.012920560737406717,
          0.04437739296769766,
          -0.05153309878060819,
          -0.024805564187921014,
          -0.029932072143030286,
          0.04686038530436676,
          0.026838042898702286,
          0.09023309952457748,
          -0.0011263876943112816,
          -0.1591516412019388,
          0.07949534642312739,
          0.013372663977412241,
          -0.02110421002358054,
          0.037784687727033806,
          0.00872124204743474,
          -0.010244594127151771,
          -0.03677682783934766,
          -0.03989112995257904,
          -0.02279676849466583,
          0.045588692716829415,
          -0.03766206454178256,
          -0.0421502629313133,
          -0.0003963689924393887,
          -0.07081608222569469,
          0.06688451227175651,
          0.09304483839269873,
          0.06866827788859808,
          0.035782266546296376,
          -0.04317378795351012,
          0.005179545339281777,
          -0.01694595161264978,
          -0.014767224332497886,
          0.09577291650310227,
          0.042603675851689005,
          -0.04670693763074407,
          0.018084676058569338,
          -0.028556059491112507,
          0.32836210624564877,
          -0.024898679040926908,
          -0.00045800730056910766,
          -0.0824741349689786,
          -0.03629166296152836,
          -0.026655181671900063,
          -0.03588625626333097,
          0.1026195115263775,
          -0.02678284667749478,
          -0.004477922612007301,
          -0.04023869634275501,
          -0.11558587133866327,
          -0.036396254868904965,
          -0.01095159981171756,
          -0.05372995972808736,
          -0.009901208657755452,
          0.04913519125435553,
          0.06303065562858556,
          0.02425439660619126,
          -0.05244597878542678,
          -0.007852050951043577,
          -0.11443687832153526,
          0.01963958365800278,
          0.009761517108562212,
          -0.049385600547170505,
          0.004212365911302696,
          0.11301447083087446,
          -0.01953528179943076,
          -0.021758689571553802,
          -0.05955452273266082,
          0.07406993280681551,
          0.21466801110338585,
          0.05980240859599517,
          0.047879955624224646,
          0.008260765604362619,
          -0.044712092642541945,
          -0.007477909282449985,
          -0.015902530263057213,
          -0.014275562665281072,
          -0.007851033536522611,
          0.05360797279351015,
          -0.0016768510086402344,
          0.01023342126233695,
          0.04816335105356673,
          -0.055324068715032926,
          0.021739721214298235,
          -0.03725039582828493,
          0.01683326265777657,
          -0.009518012286178212,
          -0.057264623611308796,
          0.07462932121554156,
          0.020007765583717863,
          -0.031481520327828694,
          0.012803934407879525,
          -0.05104600987445662,
          -0.04949062149706063,
          -0.01428394670716282,
          0.017462021564984553,
          0.005849454441743562,
          0.029443460825594403,
          0.001303997145444713,
          -0.053050438646593256,
          -0.02794562992624927,
          0.022571339304165106,
          0.043405562526322106,
          -0.005238598138244566,
          0.05062401422956338,
          -0.047939442701720014,
          0.004412196294078186,
          -0.06532170197805644,
          0.022139148873798753,
          -0.037209822571827034,
          0.052791488360651506,
          -0.001987087607686344,
          0.04216641635506613,
          -0.0433563555138774,
          0.05441591597213147,
          0.02982850971246223,
          -0.002858802936482774,
          -0.04345050944238943,
          -0.04148052099007815,
          0.0598983001556429,
          0.01163791850293433,
          0.009529257247629097,
          0.09427610828033234,
          0.02065393073847499,
          -0.16035726613468637,
          0.022348711281283407,
          0.07965723345430228,
          -0.06473519136846484
         ],
         "xaxis": "x2",
         "yaxis": "y2"
        }
       ],
       "layout": {
        "barmode": "relative",
        "legend": {
         "title": {
          "text": "variable"
         },
         "tracegroupgap": 0
        },
        "margin": {
         "t": 60
        },
        "template": {
         "data": {
          "bar": [
           {
            "error_x": {
             "color": "#f2f5fa"
            },
            "error_y": {
             "color": "#f2f5fa"
            },
            "marker": {
             "line": {
              "color": "rgb(17,17,17)",
              "width": 0.5
             },
             "pattern": {
              "fillmode": "overlay",
              "size": 10,
              "solidity": 0.2
             }
            },
            "type": "bar"
           }
          ],
          "barpolar": [
           {
            "marker": {
             "line": {
              "color": "rgb(17,17,17)",
              "width": 0.5
             },
             "pattern": {
              "fillmode": "overlay",
              "size": 10,
              "solidity": 0.2
             }
            },
            "type": "barpolar"
           }
          ],
          "carpet": [
           {
            "aaxis": {
             "endlinecolor": "#A2B1C6",
             "gridcolor": "#506784",
             "linecolor": "#506784",
             "minorgridcolor": "#506784",
             "startlinecolor": "#A2B1C6"
            },
            "baxis": {
             "endlinecolor": "#A2B1C6",
             "gridcolor": "#506784",
             "linecolor": "#506784",
             "minorgridcolor": "#506784",
             "startlinecolor": "#A2B1C6"
            },
            "type": "carpet"
           }
          ],
          "choropleth": [
           {
            "colorbar": {
             "outlinewidth": 0,
             "ticks": ""
            },
            "type": "choropleth"
           }
          ],
          "contour": [
           {
            "colorbar": {
             "outlinewidth": 0,
             "ticks": ""
            },
            "colorscale": [
             [
              0,
              "#0d0887"
             ],
             [
              0.1111111111111111,
              "#46039f"
             ],
             [
              0.2222222222222222,
              "#7201a8"
             ],
             [
              0.3333333333333333,
              "#9c179e"
             ],
             [
              0.4444444444444444,
              "#bd3786"
             ],
             [
              0.5555555555555556,
              "#d8576b"
             ],
             [
              0.6666666666666666,
              "#ed7953"
             ],
             [
              0.7777777777777778,
              "#fb9f3a"
             ],
             [
              0.8888888888888888,
              "#fdca26"
             ],
             [
              1,
              "#f0f921"
             ]
            ],
            "type": "contour"
           }
          ],
          "contourcarpet": [
           {
            "colorbar": {
             "outlinewidth": 0,
             "ticks": ""
            },
            "type": "contourcarpet"
           }
          ],
          "heatmap": [
           {
            "colorbar": {
             "outlinewidth": 0,
             "ticks": ""
            },
            "colorscale": [
             [
              0,
              "#0d0887"
             ],
             [
              0.1111111111111111,
              "#46039f"
             ],
             [
              0.2222222222222222,
              "#7201a8"
             ],
             [
              0.3333333333333333,
              "#9c179e"
             ],
             [
              0.4444444444444444,
              "#bd3786"
             ],
             [
              0.5555555555555556,
              "#d8576b"
             ],
             [
              0.6666666666666666,
              "#ed7953"
             ],
             [
              0.7777777777777778,
              "#fb9f3a"
             ],
             [
              0.8888888888888888,
              "#fdca26"
             ],
             [
              1,
              "#f0f921"
             ]
            ],
            "type": "heatmap"
           }
          ],
          "heatmapgl": [
           {
            "colorbar": {
             "outlinewidth": 0,
             "ticks": ""
            },
            "colorscale": [
             [
              0,
              "#0d0887"
             ],
             [
              0.1111111111111111,
              "#46039f"
             ],
             [
              0.2222222222222222,
              "#7201a8"
             ],
             [
              0.3333333333333333,
              "#9c179e"
             ],
             [
              0.4444444444444444,
              "#bd3786"
             ],
             [
              0.5555555555555556,
              "#d8576b"
             ],
             [
              0.6666666666666666,
              "#ed7953"
             ],
             [
              0.7777777777777778,
              "#fb9f3a"
             ],
             [
              0.8888888888888888,
              "#fdca26"
             ],
             [
              1,
              "#f0f921"
             ]
            ],
            "type": "heatmapgl"
           }
          ],
          "histogram": [
           {
            "marker": {
             "pattern": {
              "fillmode": "overlay",
              "size": 10,
              "solidity": 0.2
             }
            },
            "type": "histogram"
           }
          ],
          "histogram2d": [
           {
            "colorbar": {
             "outlinewidth": 0,
             "ticks": ""
            },
            "colorscale": [
             [
              0,
              "#0d0887"
             ],
             [
              0.1111111111111111,
              "#46039f"
             ],
             [
              0.2222222222222222,
              "#7201a8"
             ],
             [
              0.3333333333333333,
              "#9c179e"
             ],
             [
              0.4444444444444444,
              "#bd3786"
             ],
             [
              0.5555555555555556,
              "#d8576b"
             ],
             [
              0.6666666666666666,
              "#ed7953"
             ],
             [
              0.7777777777777778,
              "#fb9f3a"
             ],
             [
              0.8888888888888888,
              "#fdca26"
             ],
             [
              1,
              "#f0f921"
             ]
            ],
            "type": "histogram2d"
           }
          ],
          "histogram2dcontour": [
           {
            "colorbar": {
             "outlinewidth": 0,
             "ticks": ""
            },
            "colorscale": [
             [
              0,
              "#0d0887"
             ],
             [
              0.1111111111111111,
              "#46039f"
             ],
             [
              0.2222222222222222,
              "#7201a8"
             ],
             [
              0.3333333333333333,
              "#9c179e"
             ],
             [
              0.4444444444444444,
              "#bd3786"
             ],
             [
              0.5555555555555556,
              "#d8576b"
             ],
             [
              0.6666666666666666,
              "#ed7953"
             ],
             [
              0.7777777777777778,
              "#fb9f3a"
             ],
             [
              0.8888888888888888,
              "#fdca26"
             ],
             [
              1,
              "#f0f921"
             ]
            ],
            "type": "histogram2dcontour"
           }
          ],
          "mesh3d": [
           {
            "colorbar": {
             "outlinewidth": 0,
             "ticks": ""
            },
            "type": "mesh3d"
           }
          ],
          "parcoords": [
           {
            "line": {
             "colorbar": {
              "outlinewidth": 0,
              "ticks": ""
             }
            },
            "type": "parcoords"
           }
          ],
          "pie": [
           {
            "automargin": true,
            "type": "pie"
           }
          ],
          "scatter": [
           {
            "marker": {
             "line": {
              "color": "#283442"
             }
            },
            "type": "scatter"
           }
          ],
          "scatter3d": [
           {
            "line": {
             "colorbar": {
              "outlinewidth": 0,
              "ticks": ""
             }
            },
            "marker": {
             "colorbar": {
              "outlinewidth": 0,
              "ticks": ""
             }
            },
            "type": "scatter3d"
           }
          ],
          "scattercarpet": [
           {
            "marker": {
             "colorbar": {
              "outlinewidth": 0,
              "ticks": ""
             }
            },
            "type": "scattercarpet"
           }
          ],
          "scattergeo": [
           {
            "marker": {
             "colorbar": {
              "outlinewidth": 0,
              "ticks": ""
             }
            },
            "type": "scattergeo"
           }
          ],
          "scattergl": [
           {
            "marker": {
             "line": {
              "color": "#283442"
             }
            },
            "type": "scattergl"
           }
          ],
          "scattermapbox": [
           {
            "marker": {
             "colorbar": {
              "outlinewidth": 0,
              "ticks": ""
             }
            },
            "type": "scattermapbox"
           }
          ],
          "scatterpolar": [
           {
            "marker": {
             "colorbar": {
              "outlinewidth": 0,
              "ticks": ""
             }
            },
            "type": "scatterpolar"
           }
          ],
          "scatterpolargl": [
           {
            "marker": {
             "colorbar": {
              "outlinewidth": 0,
              "ticks": ""
             }
            },
            "type": "scatterpolargl"
           }
          ],
          "scatterternary": [
           {
            "marker": {
             "colorbar": {
              "outlinewidth": 0,
              "ticks": ""
             }
            },
            "type": "scatterternary"
           }
          ],
          "surface": [
           {
            "colorbar": {
             "outlinewidth": 0,
             "ticks": ""
            },
            "colorscale": [
             [
              0,
              "#0d0887"
             ],
             [
              0.1111111111111111,
              "#46039f"
             ],
             [
              0.2222222222222222,
              "#7201a8"
             ],
             [
              0.3333333333333333,
              "#9c179e"
             ],
             [
              0.4444444444444444,
              "#bd3786"
             ],
             [
              0.5555555555555556,
              "#d8576b"
             ],
             [
              0.6666666666666666,
              "#ed7953"
             ],
             [
              0.7777777777777778,
              "#fb9f3a"
             ],
             [
              0.8888888888888888,
              "#fdca26"
             ],
             [
              1,
              "#f0f921"
             ]
            ],
            "type": "surface"
           }
          ],
          "table": [
           {
            "cells": {
             "fill": {
              "color": "#506784"
             },
             "line": {
              "color": "rgb(17,17,17)"
             }
            },
            "header": {
             "fill": {
              "color": "#2a3f5f"
             },
             "line": {
              "color": "rgb(17,17,17)"
             }
            },
            "type": "table"
           }
          ]
         },
         "layout": {
          "annotationdefaults": {
           "arrowcolor": "#f2f5fa",
           "arrowhead": 0,
           "arrowwidth": 1
          },
          "autotypenumbers": "strict",
          "coloraxis": {
           "colorbar": {
            "outlinewidth": 0,
            "ticks": ""
           }
          },
          "colorscale": {
           "diverging": [
            [
             0,
             "#8e0152"
            ],
            [
             0.1,
             "#c51b7d"
            ],
            [
             0.2,
             "#de77ae"
            ],
            [
             0.3,
             "#f1b6da"
            ],
            [
             0.4,
             "#fde0ef"
            ],
            [
             0.5,
             "#f7f7f7"
            ],
            [
             0.6,
             "#e6f5d0"
            ],
            [
             0.7,
             "#b8e186"
            ],
            [
             0.8,
             "#7fbc41"
            ],
            [
             0.9,
             "#4d9221"
            ],
            [
             1,
             "#276419"
            ]
           ],
           "sequential": [
            [
             0,
             "#0d0887"
            ],
            [
             0.1111111111111111,
             "#46039f"
            ],
            [
             0.2222222222222222,
             "#7201a8"
            ],
            [
             0.3333333333333333,
             "#9c179e"
            ],
            [
             0.4444444444444444,
             "#bd3786"
            ],
            [
             0.5555555555555556,
             "#d8576b"
            ],
            [
             0.6666666666666666,
             "#ed7953"
            ],
            [
             0.7777777777777778,
             "#fb9f3a"
            ],
            [
             0.8888888888888888,
             "#fdca26"
            ],
            [
             1,
             "#f0f921"
            ]
           ],
           "sequentialminus": [
            [
             0,
             "#0d0887"
            ],
            [
             0.1111111111111111,
             "#46039f"
            ],
            [
             0.2222222222222222,
             "#7201a8"
            ],
            [
             0.3333333333333333,
             "#9c179e"
            ],
            [
             0.4444444444444444,
             "#bd3786"
            ],
            [
             0.5555555555555556,
             "#d8576b"
            ],
            [
             0.6666666666666666,
             "#ed7953"
            ],
            [
             0.7777777777777778,
             "#fb9f3a"
            ],
            [
             0.8888888888888888,
             "#fdca26"
            ],
            [
             1,
             "#f0f921"
            ]
           ]
          },
          "colorway": [
           "#636efa",
           "#EF553B",
           "#00cc96",
           "#ab63fa",
           "#FFA15A",
           "#19d3f3",
           "#FF6692",
           "#B6E880",
           "#FF97FF",
           "#FECB52"
          ],
          "font": {
           "color": "#f2f5fa"
          },
          "geo": {
           "bgcolor": "rgb(17,17,17)",
           "lakecolor": "rgb(17,17,17)",
           "landcolor": "rgb(17,17,17)",
           "showlakes": true,
           "showland": true,
           "subunitcolor": "#506784"
          },
          "hoverlabel": {
           "align": "left"
          },
          "hovermode": "closest",
          "mapbox": {
           "style": "dark"
          },
          "paper_bgcolor": "rgb(17,17,17)",
          "plot_bgcolor": "rgb(17,17,17)",
          "polar": {
           "angularaxis": {
            "gridcolor": "#506784",
            "linecolor": "#506784",
            "ticks": ""
           },
           "bgcolor": "rgb(17,17,17)",
           "radialaxis": {
            "gridcolor": "#506784",
            "linecolor": "#506784",
            "ticks": ""
           }
          },
          "scene": {
           "xaxis": {
            "backgroundcolor": "rgb(17,17,17)",
            "gridcolor": "#506784",
            "gridwidth": 2,
            "linecolor": "#506784",
            "showbackground": true,
            "ticks": "",
            "zerolinecolor": "#C8D4E3"
           },
           "yaxis": {
            "backgroundcolor": "rgb(17,17,17)",
            "gridcolor": "#506784",
            "gridwidth": 2,
            "linecolor": "#506784",
            "showbackground": true,
            "ticks": "",
            "zerolinecolor": "#C8D4E3"
           },
           "zaxis": {
            "backgroundcolor": "rgb(17,17,17)",
            "gridcolor": "#506784",
            "gridwidth": 2,
            "linecolor": "#506784",
            "showbackground": true,
            "ticks": "",
            "zerolinecolor": "#C8D4E3"
           }
          },
          "shapedefaults": {
           "line": {
            "color": "#f2f5fa"
           }
          },
          "sliderdefaults": {
           "bgcolor": "#C8D4E3",
           "bordercolor": "rgb(17,17,17)",
           "borderwidth": 1,
           "tickwidth": 0
          },
          "ternary": {
           "aaxis": {
            "gridcolor": "#506784",
            "linecolor": "#506784",
            "ticks": ""
           },
           "baxis": {
            "gridcolor": "#506784",
            "linecolor": "#506784",
            "ticks": ""
           },
           "bgcolor": "rgb(17,17,17)",
           "caxis": {
            "gridcolor": "#506784",
            "linecolor": "#506784",
            "ticks": ""
           }
          },
          "title": {
           "x": 0.05
          },
          "updatemenudefaults": {
           "bgcolor": "#506784",
           "borderwidth": 0
          },
          "xaxis": {
           "automargin": true,
           "gridcolor": "#283442",
           "linecolor": "#506784",
           "ticks": "",
           "title": {
            "standoff": 15
           },
           "zerolinecolor": "#283442",
           "zerolinewidth": 2
          },
          "yaxis": {
           "automargin": true,
           "gridcolor": "#283442",
           "linecolor": "#506784",
           "ticks": "",
           "title": {
            "standoff": 15
           },
           "zerolinecolor": "#283442",
           "zerolinewidth": 2
          }
         }
        },
        "title": {
         "text": "AAPL Distribution of Residuals"
        },
        "xaxis": {
         "anchor": "y",
         "domain": [
          0,
          1
         ],
         "title": {
          "text": "Residuals"
         }
        },
        "xaxis2": {
         "anchor": "y2",
         "domain": [
          0,
          1
         ],
         "matches": "x",
         "showgrid": true,
         "showticklabels": false
        },
        "yaxis": {
         "anchor": "x",
         "domain": [
          0,
          0.7326
         ],
         "title": {
          "text": "Density"
         }
        },
        "yaxis2": {
         "anchor": "x2",
         "domain": [
          0.7426,
          1
         ],
         "matches": "y2",
         "showgrid": false,
         "showline": false,
         "showticklabels": false,
         "ticks": ""
        }
       }
      }
     },
     "metadata": {},
     "output_type": "display_data"
    }
   ],
   "source": [
    "fig = px.histogram(residuals, nbins = 30, marginal = 'box', histnorm = 'probability density')\n",
    "\n",
    "fig.update_layout(title = 'AAPL Distribution of Residuals',\n",
    "                xaxis_title = 'Residuals',\n",
    "                yaxis_title = 'Density',\n",
    "                template = 'plotly_dark')\n",
    "\n",
    "fig.show()"
   ]
  },
  {
   "cell_type": "markdown",
   "metadata": {},
   "source": [
    "#### Overall this is a good distribution.  The distribution is centered around 0, and suggests that on average the model's predictions are unbiased.  The histogram appears somewhat bell-shaped though it is definitely not normal.  Again the highest concentration of residuals are very close to the 0 marker, indicating that most predictions are very accurate.  Speaking to the boxplot at the top, is shows a few outliers on each end.  The majority of the data points within the IQR (Interquartile Range) suggest that most predictions are fairly close to the actual values.  If anything is to be improved I can look at the outliers here and remove them so as the model isn't hindered by their bias."
   ]
  },
  {
   "cell_type": "markdown",
   "metadata": {},
   "source": [
    "## Summary of the Analysis on the AAPL Linear Regression Model\n",
    "\n",
    "#### In this notebook we developed a baseline Linear Regression model to predict the closing prices of AAPL stock.  We implemented several of our previous preprocessing steps, including feature creation and scaling, followed by model creation and evaluation.\n",
    "\n",
    "### Key Insights\n",
    "\n",
    "#### - The model performed well as a baseline, with a Mean Absolute Error (MAE) of approximately 2.4 cents.\n",
    "#### - The residuals analysis indicated that the model's errors are unbiased and normally distributed, suggesting that the model is generally reliable.\n",
    "#### - The distribution of residuals showed no significant skewness or outliers, further confirming the model's robustness for a baseline.\n",
    "\n",
    "### Potential Next Steps\n",
    "\n",
    "#### - In the next phase, we will explore more advanced models such as Decision Trees, GRU, and Transformer models to improve prediction accuracy.\n",
    "#### - We will also consider incorporating additional data and refining features based on the insights gained from this baseline model."
   ]
  },
  {
   "cell_type": "code",
   "execution_count": null,
   "metadata": {},
   "outputs": [],
   "source": []
  }
 ],
 "metadata": {
  "kernelspec": {
   "display_name": "DL-Strat",
   "language": "python",
   "name": "python3"
  },
  "language_info": {
   "codemirror_mode": {
    "name": "ipython",
    "version": 3
   },
   "file_extension": ".py",
   "mimetype": "text/x-python",
   "name": "python",
   "nbconvert_exporter": "python",
   "pygments_lexer": "ipython3",
   "version": "3.11.0"
  }
 },
 "nbformat": 4,
 "nbformat_minor": 2
}
