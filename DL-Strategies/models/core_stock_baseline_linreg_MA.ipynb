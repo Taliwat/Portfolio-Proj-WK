{
 "cells": [
  {
   "cell_type": "markdown",
   "metadata": {},
   "source": [
    "# **Core Stock Baseline Modeling - Linear Regression for AAPL Ticker**\n",
    "## In this notebook we will examine only the Apple stock for the periods we have selected for this project (01-01-2019 through 06-30-2024), and perform a Linear Regression model using the preprocessed dataframe that we created in our other notebook.  We will look to get an idea of how well our data is predicting with our new features that we created."
   ]
  },
  {
   "cell_type": "markdown",
   "metadata": {},
   "source": [
    "#### As usual let's start by bringing in our important libraries and logic for needing to complete this notebook."
   ]
  },
  {
   "cell_type": "code",
   "execution_count": 10,
   "metadata": {},
   "outputs": [],
   "source": [
    "import sys\n",
    "import os\n",
    "\n",
    "import numpy as np\n",
    "import pandas as pd\n",
    "from sklearn.model_selection import train_test_split\n",
    "from sklearn.linear_model import LinearRegression\n",
    "from sklearn.metrics import mean_squared_error, mean_absolute_error\n",
    "import plotly.graph_objects as go\n",
    "import plotly.express as px\n",
    "from sklearn.model_selection import cross_val_score\n",
    "\n",
    "project_root = os.path.abspath(os.path.join(os.getcwd(), '..'))\n",
    "if project_root not in sys.path:\n",
    "    sys.path.append(project_root)\n",
    "\n",
    "\n"
   ]
  },
  {
   "cell_type": "markdown",
   "metadata": {},
   "source": [
    "#### Now let's read in our data that we will use for this notebook."
   ]
  },
  {
   "cell_type": "code",
   "execution_count": 2,
   "metadata": {},
   "outputs": [
    {
     "data": {
      "text/html": [
       "<div>\n",
       "<style scoped>\n",
       "    .dataframe tbody tr th:only-of-type {\n",
       "        vertical-align: middle;\n",
       "    }\n",
       "\n",
       "    .dataframe tbody tr th {\n",
       "        vertical-align: top;\n",
       "    }\n",
       "\n",
       "    .dataframe thead th {\n",
       "        text-align: right;\n",
       "    }\n",
       "</style>\n",
       "<table border=\"1\" class=\"dataframe\">\n",
       "  <thead>\n",
       "    <tr style=\"text-align: right;\">\n",
       "      <th></th>\n",
       "      <th>Close</th>\n",
       "      <th>Volume</th>\n",
       "      <th>Open</th>\n",
       "      <th>High</th>\n",
       "      <th>Low</th>\n",
       "      <th>SMA_core</th>\n",
       "      <th>EMA_core</th>\n",
       "      <th>RSI_core</th>\n",
       "      <th>RMA_core</th>\n",
       "      <th>Close_Lag_1</th>\n",
       "      <th>...</th>\n",
       "      <th>EMA_Lag_Std_1_3</th>\n",
       "      <th>SMA_Lag_Avg_1_3</th>\n",
       "      <th>SMA_Lag_Std_1_3</th>\n",
       "      <th>RMA_Lag_Avg_1_3</th>\n",
       "      <th>RMA_Lag_Std_1_3</th>\n",
       "      <th>Close_Lag_Avg_1_3</th>\n",
       "      <th>Close_Lag_Std_1_3</th>\n",
       "      <th>Diff_Close_EMA_core</th>\n",
       "      <th>Ratio_Close_EMA_core</th>\n",
       "      <th>Ticker</th>\n",
       "    </tr>\n",
       "    <tr>\n",
       "      <th>Date</th>\n",
       "      <th></th>\n",
       "      <th></th>\n",
       "      <th></th>\n",
       "      <th></th>\n",
       "      <th></th>\n",
       "      <th></th>\n",
       "      <th></th>\n",
       "      <th></th>\n",
       "      <th></th>\n",
       "      <th></th>\n",
       "      <th></th>\n",
       "      <th></th>\n",
       "      <th></th>\n",
       "      <th></th>\n",
       "      <th></th>\n",
       "      <th></th>\n",
       "      <th></th>\n",
       "      <th></th>\n",
       "      <th></th>\n",
       "      <th></th>\n",
       "      <th></th>\n",
       "    </tr>\n",
       "  </thead>\n",
       "  <tbody>\n",
       "    <tr>\n",
       "      <th>2019-03-14</th>\n",
       "      <td>-1.013302</td>\n",
       "      <td>-0.074793</td>\n",
       "      <td>-1.012345</td>\n",
       "      <td>-1.018762</td>\n",
       "      <td>-1.009483</td>\n",
       "      <td>-1.085271</td>\n",
       "      <td>-1.049825</td>\n",
       "      <td>1.249108</td>\n",
       "      <td>0.801504</td>\n",
       "      <td>-1.013494</td>\n",
       "      <td>...</td>\n",
       "      <td>-0.081211</td>\n",
       "      <td>-1.086158</td>\n",
       "      <td>-0.085461</td>\n",
       "      <td>0.817706</td>\n",
       "      <td>-0.625300</td>\n",
       "      <td>-1.014627</td>\n",
       "      <td>-0.348813</td>\n",
       "      <td>0.037931</td>\n",
       "      <td>0.801504</td>\n",
       "      <td>AAPL</td>\n",
       "    </tr>\n",
       "    <tr>\n",
       "      <th>2019-03-15</th>\n",
       "      <td>-1.007093</td>\n",
       "      <td>0.293158</td>\n",
       "      <td>-1.009876</td>\n",
       "      <td>-1.010456</td>\n",
       "      <td>-1.006383</td>\n",
       "      <td>-1.083783</td>\n",
       "      <td>-1.048013</td>\n",
       "      <td>1.325622</td>\n",
       "      <td>0.931542</td>\n",
       "      <td>-1.013494</td>\n",
       "      <td>...</td>\n",
       "      <td>-0.081211</td>\n",
       "      <td>-1.086158</td>\n",
       "      <td>-0.085461</td>\n",
       "      <td>0.817706</td>\n",
       "      <td>-0.625300</td>\n",
       "      <td>-1.014627</td>\n",
       "      <td>-0.348813</td>\n",
       "      <td>0.074966</td>\n",
       "      <td>0.931542</td>\n",
       "      <td>AAPL</td>\n",
       "    </tr>\n",
       "    <tr>\n",
       "      <th>2019-03-18</th>\n",
       "      <td>-1.002157</td>\n",
       "      <td>-0.011968</td>\n",
       "      <td>-1.007406</td>\n",
       "      <td>-1.007730</td>\n",
       "      <td>-1.000997</td>\n",
       "      <td>-1.081366</td>\n",
       "      <td>-1.046072</td>\n",
       "      <td>1.432516</td>\n",
       "      <td>1.018034</td>\n",
       "      <td>-1.007280</td>\n",
       "      <td>...</td>\n",
       "      <td>-0.081211</td>\n",
       "      <td>-1.085413</td>\n",
       "      <td>-0.085461</td>\n",
       "      <td>0.884049</td>\n",
       "      <td>-0.625300</td>\n",
       "      <td>-1.011515</td>\n",
       "      <td>-0.348813</td>\n",
       "      <td>0.100376</td>\n",
       "      <td>1.018034</td>\n",
       "      <td>AAPL</td>\n",
       "    </tr>\n",
       "    <tr>\n",
       "      <th>2019-03-19</th>\n",
       "      <td>-1.006028</td>\n",
       "      <td>0.117158</td>\n",
       "      <td>-1.000779</td>\n",
       "      <td>-1.006187</td>\n",
       "      <td>-1.000655</td>\n",
       "      <td>-1.079347</td>\n",
       "      <td>-1.044364</td>\n",
       "      <td>1.112931</td>\n",
       "      <td>0.846961</td>\n",
       "      <td>-1.002341</td>\n",
       "      <td>...</td>\n",
       "      <td>-0.066578</td>\n",
       "      <td>-1.084358</td>\n",
       "      <td>-0.062046</td>\n",
       "      <td>0.935581</td>\n",
       "      <td>-0.515015</td>\n",
       "      <td>-1.008829</td>\n",
       "      <td>-0.323448</td>\n",
       "      <td>0.054402</td>\n",
       "      <td>0.846961</td>\n",
       "      <td>AAPL</td>\n",
       "    </tr>\n",
       "    <tr>\n",
       "      <th>2019-03-20</th>\n",
       "      <td>-1.001793</td>\n",
       "      <td>0.102615</td>\n",
       "      <td>-1.006289</td>\n",
       "      <td>-1.004901</td>\n",
       "      <td>-1.003782</td>\n",
       "      <td>-1.077225</td>\n",
       "      <td>-1.042552</td>\n",
       "      <td>1.535368</td>\n",
       "      <td>0.916237</td>\n",
       "      <td>-1.006214</td>\n",
       "      <td>...</td>\n",
       "      <td>-0.067836</td>\n",
       "      <td>-1.082380</td>\n",
       "      <td>-0.055671</td>\n",
       "      <td>0.951042</td>\n",
       "      <td>-0.666796</td>\n",
       "      <td>-1.006398</td>\n",
       "      <td>-0.386895</td>\n",
       "      <td>0.075012</td>\n",
       "      <td>0.916237</td>\n",
       "      <td>AAPL</td>\n",
       "    </tr>\n",
       "  </tbody>\n",
       "</table>\n",
       "<p>5 rows × 32 columns</p>\n",
       "</div>"
      ],
      "text/plain": [
       "               Close    Volume      Open      High       Low  SMA_core  \\\n",
       "Date                                                                     \n",
       "2019-03-14 -1.013302 -0.074793 -1.012345 -1.018762 -1.009483 -1.085271   \n",
       "2019-03-15 -1.007093  0.293158 -1.009876 -1.010456 -1.006383 -1.083783   \n",
       "2019-03-18 -1.002157 -0.011968 -1.007406 -1.007730 -1.000997 -1.081366   \n",
       "2019-03-19 -1.006028  0.117158 -1.000779 -1.006187 -1.000655 -1.079347   \n",
       "2019-03-20 -1.001793  0.102615 -1.006289 -1.004901 -1.003782 -1.077225   \n",
       "\n",
       "            EMA_core  RSI_core  RMA_core  Close_Lag_1  ...  EMA_Lag_Std_1_3  \\\n",
       "Date                                                   ...                    \n",
       "2019-03-14 -1.049825  1.249108  0.801504    -1.013494  ...        -0.081211   \n",
       "2019-03-15 -1.048013  1.325622  0.931542    -1.013494  ...        -0.081211   \n",
       "2019-03-18 -1.046072  1.432516  1.018034    -1.007280  ...        -0.081211   \n",
       "2019-03-19 -1.044364  1.112931  0.846961    -1.002341  ...        -0.066578   \n",
       "2019-03-20 -1.042552  1.535368  0.916237    -1.006214  ...        -0.067836   \n",
       "\n",
       "            SMA_Lag_Avg_1_3  SMA_Lag_Std_1_3  RMA_Lag_Avg_1_3  \\\n",
       "Date                                                            \n",
       "2019-03-14        -1.086158        -0.085461         0.817706   \n",
       "2019-03-15        -1.086158        -0.085461         0.817706   \n",
       "2019-03-18        -1.085413        -0.085461         0.884049   \n",
       "2019-03-19        -1.084358        -0.062046         0.935581   \n",
       "2019-03-20        -1.082380        -0.055671         0.951042   \n",
       "\n",
       "            RMA_Lag_Std_1_3  Close_Lag_Avg_1_3  Close_Lag_Std_1_3  \\\n",
       "Date                                                                \n",
       "2019-03-14        -0.625300          -1.014627          -0.348813   \n",
       "2019-03-15        -0.625300          -1.014627          -0.348813   \n",
       "2019-03-18        -0.625300          -1.011515          -0.348813   \n",
       "2019-03-19        -0.515015          -1.008829          -0.323448   \n",
       "2019-03-20        -0.666796          -1.006398          -0.386895   \n",
       "\n",
       "            Diff_Close_EMA_core  Ratio_Close_EMA_core  Ticker  \n",
       "Date                                                           \n",
       "2019-03-14             0.037931              0.801504    AAPL  \n",
       "2019-03-15             0.074966              0.931542    AAPL  \n",
       "2019-03-18             0.100376              1.018034    AAPL  \n",
       "2019-03-19             0.054402              0.846961    AAPL  \n",
       "2019-03-20             0.075012              0.916237    AAPL  \n",
       "\n",
       "[5 rows x 32 columns]"
      ]
     },
     "execution_count": 2,
     "metadata": {},
     "output_type": "execute_result"
    }
   ],
   "source": [
    "# Now let's access the main core_stock_data.csv file\n",
    "csv_path = os.path.join(project_root, 'data', 'core_stock_preprocessed.csv')\n",
    "preprocessed_df = pd.read_csv(csv_path, parse_dates=['Date'], index_col= 'Date')\n",
    "preprocessed_df.head()"
   ]
  },
  {
   "cell_type": "markdown",
   "metadata": {},
   "source": [
    "#### Great now let's grab the data just for our subject AAPL ticker to use in our Linear Regression model."
   ]
  },
  {
   "cell_type": "code",
   "execution_count": 3,
   "metadata": {},
   "outputs": [
    {
     "name": "stdout",
     "output_type": "stream",
     "text": [
      "               Close    Volume      Open      High       Low  SMA_core  \\\n",
      "Date                                                                     \n",
      "2019-03-14 -1.013302 -0.074793 -1.012345 -1.018762 -1.009483 -1.085271   \n",
      "2019-03-15 -1.007093  0.293158 -1.009876 -1.010456 -1.006383 -1.083783   \n",
      "2019-03-18 -1.002157 -0.011968 -1.007406 -1.007730 -1.000997 -1.081366   \n",
      "2019-03-19 -1.006028  0.117158 -1.000779 -1.006187 -1.000655 -1.079347   \n",
      "2019-03-20 -1.001793  0.102615 -1.006289 -1.004901 -1.003782 -1.077225   \n",
      "\n",
      "            EMA_core  RSI_core  RMA_core  Close_Lag_1  ...  EMA_Lag_Std_1_3  \\\n",
      "Date                                                   ...                    \n",
      "2019-03-14 -1.049825  1.249108  0.801504    -1.013494  ...        -0.081211   \n",
      "2019-03-15 -1.048013  1.325622  0.931542    -1.013494  ...        -0.081211   \n",
      "2019-03-18 -1.046072  1.432516  1.018034    -1.007280  ...        -0.081211   \n",
      "2019-03-19 -1.044364  1.112931  0.846961    -1.002341  ...        -0.066578   \n",
      "2019-03-20 -1.042552  1.535368  0.916237    -1.006214  ...        -0.067836   \n",
      "\n",
      "            SMA_Lag_Avg_1_3  SMA_Lag_Std_1_3  RMA_Lag_Avg_1_3  \\\n",
      "Date                                                            \n",
      "2019-03-14        -1.086158        -0.085461         0.817706   \n",
      "2019-03-15        -1.086158        -0.085461         0.817706   \n",
      "2019-03-18        -1.085413        -0.085461         0.884049   \n",
      "2019-03-19        -1.084358        -0.062046         0.935581   \n",
      "2019-03-20        -1.082380        -0.055671         0.951042   \n",
      "\n",
      "            RMA_Lag_Std_1_3  Close_Lag_Avg_1_3  Close_Lag_Std_1_3  \\\n",
      "Date                                                                \n",
      "2019-03-14        -0.625300          -1.014627          -0.348813   \n",
      "2019-03-15        -0.625300          -1.014627          -0.348813   \n",
      "2019-03-18        -0.625300          -1.011515          -0.348813   \n",
      "2019-03-19        -0.515015          -1.008829          -0.323448   \n",
      "2019-03-20        -0.666796          -1.006398          -0.386895   \n",
      "\n",
      "            Diff_Close_EMA_core  Ratio_Close_EMA_core  Ticker  \n",
      "Date                                                           \n",
      "2019-03-14             0.037931              0.801504    AAPL  \n",
      "2019-03-15             0.074966              0.931542    AAPL  \n",
      "2019-03-18             0.100376              1.018034    AAPL  \n",
      "2019-03-19             0.054402              0.846961    AAPL  \n",
      "2019-03-20             0.075012              0.916237    AAPL  \n",
      "\n",
      "[5 rows x 32 columns]\n"
     ]
    },
    {
     "data": {
      "text/plain": [
       "(1333, 32)"
      ]
     },
     "execution_count": 3,
     "metadata": {},
     "output_type": "execute_result"
    }
   ],
   "source": [
    "aapl_data = preprocessed_df[preprocessed_df['Ticker'] == 'AAPL']\n",
    "print(aapl_data.head())\n",
    "aapl_data.shape"
   ]
  },
  {
   "cell_type": "markdown",
   "metadata": {},
   "source": [
    "#### Now let's prepare our Linear Regression model.  We will be dropping the Ticker and Close columns for the X as Ticker is an improper format and our Close feature will be our y target.  The Date feature is our index so it won't be included in the model as it will automatically be excluded from the feature set."
   ]
  },
  {
   "cell_type": "code",
   "execution_count": 31,
   "metadata": {},
   "outputs": [],
   "source": [
    "X = aapl_data[['EMA_core', 'SMA_core', 'RSI_core', 'Close_Lag_1']]\n",
    "y = aapl_data['Close']"
   ]
  },
  {
   "cell_type": "markdown",
   "metadata": {},
   "source": [
    "#### Let's now set up the rest of the model and run our first set of predictions on it.  I will be looking for the MAE (Mean Absolute Error) and the RMSE (Root Mean Squared Error) for metrics here."
   ]
  },
  {
   "cell_type": "code",
   "execution_count": 32,
   "metadata": {},
   "outputs": [
    {
     "data": {
      "text/html": [
       "<style>#sk-container-id-6 {\n",
       "  /* Definition of color scheme common for light and dark mode */\n",
       "  --sklearn-color-text: black;\n",
       "  --sklearn-color-line: gray;\n",
       "  /* Definition of color scheme for unfitted estimators */\n",
       "  --sklearn-color-unfitted-level-0: #fff5e6;\n",
       "  --sklearn-color-unfitted-level-1: #f6e4d2;\n",
       "  --sklearn-color-unfitted-level-2: #ffe0b3;\n",
       "  --sklearn-color-unfitted-level-3: chocolate;\n",
       "  /* Definition of color scheme for fitted estimators */\n",
       "  --sklearn-color-fitted-level-0: #f0f8ff;\n",
       "  --sklearn-color-fitted-level-1: #d4ebff;\n",
       "  --sklearn-color-fitted-level-2: #b3dbfd;\n",
       "  --sklearn-color-fitted-level-3: cornflowerblue;\n",
       "\n",
       "  /* Specific color for light theme */\n",
       "  --sklearn-color-text-on-default-background: var(--sg-text-color, var(--theme-code-foreground, var(--jp-content-font-color1, black)));\n",
       "  --sklearn-color-background: var(--sg-background-color, var(--theme-background, var(--jp-layout-color0, white)));\n",
       "  --sklearn-color-border-box: var(--sg-text-color, var(--theme-code-foreground, var(--jp-content-font-color1, black)));\n",
       "  --sklearn-color-icon: #696969;\n",
       "\n",
       "  @media (prefers-color-scheme: dark) {\n",
       "    /* Redefinition of color scheme for dark theme */\n",
       "    --sklearn-color-text-on-default-background: var(--sg-text-color, var(--theme-code-foreground, var(--jp-content-font-color1, white)));\n",
       "    --sklearn-color-background: var(--sg-background-color, var(--theme-background, var(--jp-layout-color0, #111)));\n",
       "    --sklearn-color-border-box: var(--sg-text-color, var(--theme-code-foreground, var(--jp-content-font-color1, white)));\n",
       "    --sklearn-color-icon: #878787;\n",
       "  }\n",
       "}\n",
       "\n",
       "#sk-container-id-6 {\n",
       "  color: var(--sklearn-color-text);\n",
       "}\n",
       "\n",
       "#sk-container-id-6 pre {\n",
       "  padding: 0;\n",
       "}\n",
       "\n",
       "#sk-container-id-6 input.sk-hidden--visually {\n",
       "  border: 0;\n",
       "  clip: rect(1px 1px 1px 1px);\n",
       "  clip: rect(1px, 1px, 1px, 1px);\n",
       "  height: 1px;\n",
       "  margin: -1px;\n",
       "  overflow: hidden;\n",
       "  padding: 0;\n",
       "  position: absolute;\n",
       "  width: 1px;\n",
       "}\n",
       "\n",
       "#sk-container-id-6 div.sk-dashed-wrapped {\n",
       "  border: 1px dashed var(--sklearn-color-line);\n",
       "  margin: 0 0.4em 0.5em 0.4em;\n",
       "  box-sizing: border-box;\n",
       "  padding-bottom: 0.4em;\n",
       "  background-color: var(--sklearn-color-background);\n",
       "}\n",
       "\n",
       "#sk-container-id-6 div.sk-container {\n",
       "  /* jupyter's `normalize.less` sets `[hidden] { display: none; }`\n",
       "     but bootstrap.min.css set `[hidden] { display: none !important; }`\n",
       "     so we also need the `!important` here to be able to override the\n",
       "     default hidden behavior on the sphinx rendered scikit-learn.org.\n",
       "     See: https://github.com/scikit-learn/scikit-learn/issues/21755 */\n",
       "  display: inline-block !important;\n",
       "  position: relative;\n",
       "}\n",
       "\n",
       "#sk-container-id-6 div.sk-text-repr-fallback {\n",
       "  display: none;\n",
       "}\n",
       "\n",
       "div.sk-parallel-item,\n",
       "div.sk-serial,\n",
       "div.sk-item {\n",
       "  /* draw centered vertical line to link estimators */\n",
       "  background-image: linear-gradient(var(--sklearn-color-text-on-default-background), var(--sklearn-color-text-on-default-background));\n",
       "  background-size: 2px 100%;\n",
       "  background-repeat: no-repeat;\n",
       "  background-position: center center;\n",
       "}\n",
       "\n",
       "/* Parallel-specific style estimator block */\n",
       "\n",
       "#sk-container-id-6 div.sk-parallel-item::after {\n",
       "  content: \"\";\n",
       "  width: 100%;\n",
       "  border-bottom: 2px solid var(--sklearn-color-text-on-default-background);\n",
       "  flex-grow: 1;\n",
       "}\n",
       "\n",
       "#sk-container-id-6 div.sk-parallel {\n",
       "  display: flex;\n",
       "  align-items: stretch;\n",
       "  justify-content: center;\n",
       "  background-color: var(--sklearn-color-background);\n",
       "  position: relative;\n",
       "}\n",
       "\n",
       "#sk-container-id-6 div.sk-parallel-item {\n",
       "  display: flex;\n",
       "  flex-direction: column;\n",
       "}\n",
       "\n",
       "#sk-container-id-6 div.sk-parallel-item:first-child::after {\n",
       "  align-self: flex-end;\n",
       "  width: 50%;\n",
       "}\n",
       "\n",
       "#sk-container-id-6 div.sk-parallel-item:last-child::after {\n",
       "  align-self: flex-start;\n",
       "  width: 50%;\n",
       "}\n",
       "\n",
       "#sk-container-id-6 div.sk-parallel-item:only-child::after {\n",
       "  width: 0;\n",
       "}\n",
       "\n",
       "/* Serial-specific style estimator block */\n",
       "\n",
       "#sk-container-id-6 div.sk-serial {\n",
       "  display: flex;\n",
       "  flex-direction: column;\n",
       "  align-items: center;\n",
       "  background-color: var(--sklearn-color-background);\n",
       "  padding-right: 1em;\n",
       "  padding-left: 1em;\n",
       "}\n",
       "\n",
       "\n",
       "/* Toggleable style: style used for estimator/Pipeline/ColumnTransformer box that is\n",
       "clickable and can be expanded/collapsed.\n",
       "- Pipeline and ColumnTransformer use this feature and define the default style\n",
       "- Estimators will overwrite some part of the style using the `sk-estimator` class\n",
       "*/\n",
       "\n",
       "/* Pipeline and ColumnTransformer style (default) */\n",
       "\n",
       "#sk-container-id-6 div.sk-toggleable {\n",
       "  /* Default theme specific background. It is overwritten whether we have a\n",
       "  specific estimator or a Pipeline/ColumnTransformer */\n",
       "  background-color: var(--sklearn-color-background);\n",
       "}\n",
       "\n",
       "/* Toggleable label */\n",
       "#sk-container-id-6 label.sk-toggleable__label {\n",
       "  cursor: pointer;\n",
       "  display: block;\n",
       "  width: 100%;\n",
       "  margin-bottom: 0;\n",
       "  padding: 0.5em;\n",
       "  box-sizing: border-box;\n",
       "  text-align: center;\n",
       "}\n",
       "\n",
       "#sk-container-id-6 label.sk-toggleable__label-arrow:before {\n",
       "  /* Arrow on the left of the label */\n",
       "  content: \"▸\";\n",
       "  float: left;\n",
       "  margin-right: 0.25em;\n",
       "  color: var(--sklearn-color-icon);\n",
       "}\n",
       "\n",
       "#sk-container-id-6 label.sk-toggleable__label-arrow:hover:before {\n",
       "  color: var(--sklearn-color-text);\n",
       "}\n",
       "\n",
       "/* Toggleable content - dropdown */\n",
       "\n",
       "#sk-container-id-6 div.sk-toggleable__content {\n",
       "  max-height: 0;\n",
       "  max-width: 0;\n",
       "  overflow: hidden;\n",
       "  text-align: left;\n",
       "  /* unfitted */\n",
       "  background-color: var(--sklearn-color-unfitted-level-0);\n",
       "}\n",
       "\n",
       "#sk-container-id-6 div.sk-toggleable__content.fitted {\n",
       "  /* fitted */\n",
       "  background-color: var(--sklearn-color-fitted-level-0);\n",
       "}\n",
       "\n",
       "#sk-container-id-6 div.sk-toggleable__content pre {\n",
       "  margin: 0.2em;\n",
       "  border-radius: 0.25em;\n",
       "  color: var(--sklearn-color-text);\n",
       "  /* unfitted */\n",
       "  background-color: var(--sklearn-color-unfitted-level-0);\n",
       "}\n",
       "\n",
       "#sk-container-id-6 div.sk-toggleable__content.fitted pre {\n",
       "  /* unfitted */\n",
       "  background-color: var(--sklearn-color-fitted-level-0);\n",
       "}\n",
       "\n",
       "#sk-container-id-6 input.sk-toggleable__control:checked~div.sk-toggleable__content {\n",
       "  /* Expand drop-down */\n",
       "  max-height: 200px;\n",
       "  max-width: 100%;\n",
       "  overflow: auto;\n",
       "}\n",
       "\n",
       "#sk-container-id-6 input.sk-toggleable__control:checked~label.sk-toggleable__label-arrow:before {\n",
       "  content: \"▾\";\n",
       "}\n",
       "\n",
       "/* Pipeline/ColumnTransformer-specific style */\n",
       "\n",
       "#sk-container-id-6 div.sk-label input.sk-toggleable__control:checked~label.sk-toggleable__label {\n",
       "  color: var(--sklearn-color-text);\n",
       "  background-color: var(--sklearn-color-unfitted-level-2);\n",
       "}\n",
       "\n",
       "#sk-container-id-6 div.sk-label.fitted input.sk-toggleable__control:checked~label.sk-toggleable__label {\n",
       "  background-color: var(--sklearn-color-fitted-level-2);\n",
       "}\n",
       "\n",
       "/* Estimator-specific style */\n",
       "\n",
       "/* Colorize estimator box */\n",
       "#sk-container-id-6 div.sk-estimator input.sk-toggleable__control:checked~label.sk-toggleable__label {\n",
       "  /* unfitted */\n",
       "  background-color: var(--sklearn-color-unfitted-level-2);\n",
       "}\n",
       "\n",
       "#sk-container-id-6 div.sk-estimator.fitted input.sk-toggleable__control:checked~label.sk-toggleable__label {\n",
       "  /* fitted */\n",
       "  background-color: var(--sklearn-color-fitted-level-2);\n",
       "}\n",
       "\n",
       "#sk-container-id-6 div.sk-label label.sk-toggleable__label,\n",
       "#sk-container-id-6 div.sk-label label {\n",
       "  /* The background is the default theme color */\n",
       "  color: var(--sklearn-color-text-on-default-background);\n",
       "}\n",
       "\n",
       "/* On hover, darken the color of the background */\n",
       "#sk-container-id-6 div.sk-label:hover label.sk-toggleable__label {\n",
       "  color: var(--sklearn-color-text);\n",
       "  background-color: var(--sklearn-color-unfitted-level-2);\n",
       "}\n",
       "\n",
       "/* Label box, darken color on hover, fitted */\n",
       "#sk-container-id-6 div.sk-label.fitted:hover label.sk-toggleable__label.fitted {\n",
       "  color: var(--sklearn-color-text);\n",
       "  background-color: var(--sklearn-color-fitted-level-2);\n",
       "}\n",
       "\n",
       "/* Estimator label */\n",
       "\n",
       "#sk-container-id-6 div.sk-label label {\n",
       "  font-family: monospace;\n",
       "  font-weight: bold;\n",
       "  display: inline-block;\n",
       "  line-height: 1.2em;\n",
       "}\n",
       "\n",
       "#sk-container-id-6 div.sk-label-container {\n",
       "  text-align: center;\n",
       "}\n",
       "\n",
       "/* Estimator-specific */\n",
       "#sk-container-id-6 div.sk-estimator {\n",
       "  font-family: monospace;\n",
       "  border: 1px dotted var(--sklearn-color-border-box);\n",
       "  border-radius: 0.25em;\n",
       "  box-sizing: border-box;\n",
       "  margin-bottom: 0.5em;\n",
       "  /* unfitted */\n",
       "  background-color: var(--sklearn-color-unfitted-level-0);\n",
       "}\n",
       "\n",
       "#sk-container-id-6 div.sk-estimator.fitted {\n",
       "  /* fitted */\n",
       "  background-color: var(--sklearn-color-fitted-level-0);\n",
       "}\n",
       "\n",
       "/* on hover */\n",
       "#sk-container-id-6 div.sk-estimator:hover {\n",
       "  /* unfitted */\n",
       "  background-color: var(--sklearn-color-unfitted-level-2);\n",
       "}\n",
       "\n",
       "#sk-container-id-6 div.sk-estimator.fitted:hover {\n",
       "  /* fitted */\n",
       "  background-color: var(--sklearn-color-fitted-level-2);\n",
       "}\n",
       "\n",
       "/* Specification for estimator info (e.g. \"i\" and \"?\") */\n",
       "\n",
       "/* Common style for \"i\" and \"?\" */\n",
       "\n",
       ".sk-estimator-doc-link,\n",
       "a:link.sk-estimator-doc-link,\n",
       "a:visited.sk-estimator-doc-link {\n",
       "  float: right;\n",
       "  font-size: smaller;\n",
       "  line-height: 1em;\n",
       "  font-family: monospace;\n",
       "  background-color: var(--sklearn-color-background);\n",
       "  border-radius: 1em;\n",
       "  height: 1em;\n",
       "  width: 1em;\n",
       "  text-decoration: none !important;\n",
       "  margin-left: 1ex;\n",
       "  /* unfitted */\n",
       "  border: var(--sklearn-color-unfitted-level-1) 1pt solid;\n",
       "  color: var(--sklearn-color-unfitted-level-1);\n",
       "}\n",
       "\n",
       ".sk-estimator-doc-link.fitted,\n",
       "a:link.sk-estimator-doc-link.fitted,\n",
       "a:visited.sk-estimator-doc-link.fitted {\n",
       "  /* fitted */\n",
       "  border: var(--sklearn-color-fitted-level-1) 1pt solid;\n",
       "  color: var(--sklearn-color-fitted-level-1);\n",
       "}\n",
       "\n",
       "/* On hover */\n",
       "div.sk-estimator:hover .sk-estimator-doc-link:hover,\n",
       ".sk-estimator-doc-link:hover,\n",
       "div.sk-label-container:hover .sk-estimator-doc-link:hover,\n",
       ".sk-estimator-doc-link:hover {\n",
       "  /* unfitted */\n",
       "  background-color: var(--sklearn-color-unfitted-level-3);\n",
       "  color: var(--sklearn-color-background);\n",
       "  text-decoration: none;\n",
       "}\n",
       "\n",
       "div.sk-estimator.fitted:hover .sk-estimator-doc-link.fitted:hover,\n",
       ".sk-estimator-doc-link.fitted:hover,\n",
       "div.sk-label-container:hover .sk-estimator-doc-link.fitted:hover,\n",
       ".sk-estimator-doc-link.fitted:hover {\n",
       "  /* fitted */\n",
       "  background-color: var(--sklearn-color-fitted-level-3);\n",
       "  color: var(--sklearn-color-background);\n",
       "  text-decoration: none;\n",
       "}\n",
       "\n",
       "/* Span, style for the box shown on hovering the info icon */\n",
       ".sk-estimator-doc-link span {\n",
       "  display: none;\n",
       "  z-index: 9999;\n",
       "  position: relative;\n",
       "  font-weight: normal;\n",
       "  right: .2ex;\n",
       "  padding: .5ex;\n",
       "  margin: .5ex;\n",
       "  width: min-content;\n",
       "  min-width: 20ex;\n",
       "  max-width: 50ex;\n",
       "  color: var(--sklearn-color-text);\n",
       "  box-shadow: 2pt 2pt 4pt #999;\n",
       "  /* unfitted */\n",
       "  background: var(--sklearn-color-unfitted-level-0);\n",
       "  border: .5pt solid var(--sklearn-color-unfitted-level-3);\n",
       "}\n",
       "\n",
       ".sk-estimator-doc-link.fitted span {\n",
       "  /* fitted */\n",
       "  background: var(--sklearn-color-fitted-level-0);\n",
       "  border: var(--sklearn-color-fitted-level-3);\n",
       "}\n",
       "\n",
       ".sk-estimator-doc-link:hover span {\n",
       "  display: block;\n",
       "}\n",
       "\n",
       "/* \"?\"-specific style due to the `<a>` HTML tag */\n",
       "\n",
       "#sk-container-id-6 a.estimator_doc_link {\n",
       "  float: right;\n",
       "  font-size: 1rem;\n",
       "  line-height: 1em;\n",
       "  font-family: monospace;\n",
       "  background-color: var(--sklearn-color-background);\n",
       "  border-radius: 1rem;\n",
       "  height: 1rem;\n",
       "  width: 1rem;\n",
       "  text-decoration: none;\n",
       "  /* unfitted */\n",
       "  color: var(--sklearn-color-unfitted-level-1);\n",
       "  border: var(--sklearn-color-unfitted-level-1) 1pt solid;\n",
       "}\n",
       "\n",
       "#sk-container-id-6 a.estimator_doc_link.fitted {\n",
       "  /* fitted */\n",
       "  border: var(--sklearn-color-fitted-level-1) 1pt solid;\n",
       "  color: var(--sklearn-color-fitted-level-1);\n",
       "}\n",
       "\n",
       "/* On hover */\n",
       "#sk-container-id-6 a.estimator_doc_link:hover {\n",
       "  /* unfitted */\n",
       "  background-color: var(--sklearn-color-unfitted-level-3);\n",
       "  color: var(--sklearn-color-background);\n",
       "  text-decoration: none;\n",
       "}\n",
       "\n",
       "#sk-container-id-6 a.estimator_doc_link.fitted:hover {\n",
       "  /* fitted */\n",
       "  background-color: var(--sklearn-color-fitted-level-3);\n",
       "}\n",
       "</style><div id=\"sk-container-id-6\" class=\"sk-top-container\"><div class=\"sk-text-repr-fallback\"><pre>LinearRegression()</pre><b>In a Jupyter environment, please rerun this cell to show the HTML representation or trust the notebook. <br />On GitHub, the HTML representation is unable to render, please try loading this page with nbviewer.org.</b></div><div class=\"sk-container\" hidden><div class=\"sk-item\"><div class=\"sk-estimator fitted sk-toggleable\"><input class=\"sk-toggleable__control sk-hidden--visually\" id=\"sk-estimator-id-6\" type=\"checkbox\" checked><label for=\"sk-estimator-id-6\" class=\"sk-toggleable__label fitted sk-toggleable__label-arrow fitted\">&nbsp;&nbsp;LinearRegression<a class=\"sk-estimator-doc-link fitted\" rel=\"noreferrer\" target=\"_blank\" href=\"https://scikit-learn.org/1.5/modules/generated/sklearn.linear_model.LinearRegression.html\">?<span>Documentation for LinearRegression</span></a><span class=\"sk-estimator-doc-link fitted\">i<span>Fitted</span></span></label><div class=\"sk-toggleable__content fitted\"><pre>LinearRegression()</pre></div> </div></div></div></div>"
      ],
      "text/plain": [
       "LinearRegression()"
      ]
     },
     "execution_count": 32,
     "metadata": {},
     "output_type": "execute_result"
    }
   ],
   "source": [
    "X_train, X_test, y_train, y_test = train_test_split(X, y, test_size = 0.2, random_state = 42)\n",
    "model = LinearRegression()\n",
    "model.fit(X_train, y_train)"
   ]
  },
  {
   "cell_type": "markdown",
   "metadata": {},
   "source": [
    "#### Now let's make our predictions and see where we end up."
   ]
  },
  {
   "cell_type": "code",
   "execution_count": 33,
   "metadata": {},
   "outputs": [],
   "source": [
    "y_pred = model.predict(X_test)"
   ]
  },
  {
   "cell_type": "markdown",
   "metadata": {},
   "source": [
    "#### Let's retrieve our MAE and RMSE metrics for performance."
   ]
  },
  {
   "cell_type": "code",
   "execution_count": 34,
   "metadata": {},
   "outputs": [
    {
     "name": "stdout",
     "output_type": "stream",
     "text": [
      "Mean Absolute Error (MAE): 0.016831661587765147\n",
      "Root Mean Squared Error (RMSE): 0.00048244910319164254\n"
     ]
    }
   ],
   "source": [
    "mae = mean_absolute_error(y_test, y_pred)\n",
    "rmse = mean_squared_error(y_test, y_pred)\n",
    "\n",
    "print(f'Mean Absolute Error (MAE): {mae}')\n",
    "print(f'Root Mean Squared Error (RMSE): {rmse}')"
   ]
  },
  {
   "cell_type": "markdown",
   "metadata": {},
   "source": [
    "#### Great scores, let's verify with cross validation just to make sure that our data isn't being misinterpreted by the model."
   ]
  },
  {
   "cell_type": "code",
   "execution_count": 35,
   "metadata": {},
   "outputs": [
    {
     "name": "stdout",
     "output_type": "stream",
     "text": [
      "Cross-validated RMSE Scores: [0.01864198 0.02465441 0.02487498 0.02806141 0.02347755]\n",
      "Mean RMSE: 0.023942066110403417\n"
     ]
    }
   ],
   "source": [
    "scores = cross_val_score(model, X, y, cv = 5, scoring = 'neg_mean_squared_error')\n",
    "rmse_scores = np.sqrt(-scores)\n",
    "\n",
    "print(f'Cross-validated RMSE Scores: {rmse_scores}')\n",
    "print(f'Mean RMSE: {rmse_scores.mean()}')"
   ]
  },
  {
   "cell_type": "markdown",
   "metadata": {},
   "source": [
    "#### Our original scores were quite unrealistic, we have since tested with our model and the scores above reflect a great resting place to go forward with.  2.4 cents of error in our AAPL data in predicting future prices, not too bad!"
   ]
  },
  {
   "cell_type": "code",
   "execution_count": 12,
   "metadata": {},
   "outputs": [
    {
     "name": "stdout",
     "output_type": "stream",
     "text": [
      "Low                     0.999550\n",
      "High                    0.999547\n",
      "Open                    0.999023\n",
      "Close_Lag_1             0.998528\n",
      "Close_Lag_Avg_1_3       0.997798\n",
      "Close_Lag_2             0.997134\n",
      "Close_Lag_3             0.995803\n",
      "EMA_core                0.986100\n",
      "EMA_core_Lag_1          0.984951\n",
      "EMA_Lag_Avg_1_3         0.983836\n",
      "EMA_core_Lag_2          0.983817\n",
      "EMA_core_Lag_3          0.982697\n",
      "SMA_core                0.979655\n",
      "SMA_core_Lag_1          0.978507\n",
      "SMA_Lag_Avg_1_3         0.977400\n",
      "SMA_core_Lag_2          0.977379\n",
      "SMA_core_Lag_3          0.976272\n",
      "EMA_Lag_Std_1_3         0.333238\n",
      "SMA_Lag_Std_1_3         0.322123\n",
      "Close_Lag_Std_1_3       0.298874\n",
      "Diff_Close_EMA_core     0.087974\n",
      "RSI_core               -0.117985\n",
      "Ratio_Close_EMA_core   -0.133453\n",
      "RMA_core               -0.133453\n",
      "RMA_Lag_Std_1_3        -0.133727\n",
      "RMA_core_Lag_1         -0.137388\n",
      "RMA_core_Lag_2         -0.140965\n",
      "RMA_Lag_Avg_1_3        -0.143943\n",
      "RMA_core_Lag_3         -0.144451\n",
      "Volume                 -0.490924\n",
      "dtype: float64\n"
     ]
    }
   ],
   "source": [
    "correlations = X.corrwith(y)\n",
    "print(correlations.sort_values(ascending = False))"
   ]
  },
  {
   "cell_type": "markdown",
   "metadata": {},
   "source": [
    "#### There are several feature columns that are influencing our Close target because they are correlating too well.  Let's go back to our X and y assignment at the top of our notebook and drop some more of those columns to balance our score."
   ]
  },
  {
   "cell_type": "markdown",
   "metadata": {},
   "source": [
    "#### Now that our predictions look good let's make a few plots to visualize our results, starting with a plot that shows Actual vs Predicted values."
   ]
  },
  {
   "cell_type": "code",
   "execution_count": 36,
   "metadata": {},
   "outputs": [
    {
     "data": {
      "application/vnd.plotly.v1+json": {
       "config": {
        "plotlyServerURL": "https://plot.ly"
       },
       "data": [
        {
         "mode": "markers",
         "name": "Predicted vs Actual",
         "type": "scatter",
         "x": [
          0.0307883161158164,
          0.3809057318716821,
          0.3290481373658666,
          -0.6770847211916857,
          -0.677318618250911,
          -0.0771879223049277,
          -0.7303194540099364,
          -0.7711612898976299,
          -0.3429195605978145,
          0.3735272707423595,
          -0.1496224322000225,
          -0.5223690316438069,
          0.4253848652481751,
          0.0665379355191907,
          -0.00007689839382495037,
          -0.2422179964418079,
          -0.6671601121766342,
          -1.0238765964882008,
          0.7255152286749175,
          -0.9639388893189562,
          0.0303726929346439,
          0.2437270888145413,
          -0.0055848173464553,
          -0.2291236461949911,
          -0.0082867644597699,
          -1.0275918728779316,
          -0.0313577360846387,
          0.2637843562966469,
          -0.1826959520973049,
          -0.3049876419882991,
          -0.1064941930930481,
          0.319694950759573,
          0.1014561499859426,
          -0.646401391378269,
          -0.1723815675083039,
          0.1785671738970454,
          -0.9692909297568624,
          0.3176165177051559,
          0.269604032278726,
          -0.1132492987377507,
          -0.96004176787657,
          -0.0099495743330146,
          -0.5969339869563194,
          0.4932467272789859,
          -0.2067801340678822,
          0.2608743597313299,
          0.3233323275355112,
          0.2739687892652853,
          -0.986230428726634,
          0.3168889789202573,
          -0.6641723349282325,
          0.371760594717391,
          0.5282689664717384,
          -0.2335923486204129,
          -0.0132750355052266,
          -0.8106261460471658,
          0.1080033647529203,
          0.2944416799285633,
          0.3443248661059628,
          -0.1346574604893748,
          -0.5281627807315245,
          0.2517292225770388,
          -0.169783486546713,
          0.2794767082179157,
          0.2322954691538307,
          0.0726693685307185,
          -0.9968045976256524,
          0.2975594087973278,
          -0.6911923610713494,
          -0.0982843270271031,
          0.2763589793491512,
          -0.0028827116588632,
          0.1689023888355807,
          -0.2712125894876182,
          0.4825426464031735,
          0.1747220648176598,
          -0.2304746197516483,
          -0.5215376267071846,
          0.1006247450493203,
          -0.9602236129292252,
          0.3270735704631731,
          -0.2045977555746025,
          0.6656555004066047,
          -0.020134007301653,
          -0.7389710287256929,
          -0.0947508164028887,
          -0.9735258144101976,
          -0.7993764110826798,
          0.2968318700124291,
          -0.0693936794201552,
          -0.2115605935227528,
          0.4836858083692443,
          0.459471674778305,
          0.5253591284806994,
          -0.9869059155049624,
          0.5257747516618716,
          0.3071203277070687,
          -0.4895812625944726,
          0.0398297456926611,
          0.0213314219320766,
          -0.686204010738754,
          0.0785930692387988,
          -1.0094312726847268,
          0.2877905990098618,
          -0.1990898366219721,
          0.2225268179406422,
          -0.9729801999650928,
          -0.1626127577208379,
          -0.0259536832837321,
          -0.138086946387588,
          -0.9946222191323728,
          -0.1042078691609059,
          0.0577045553943483,
          0.3286323556104166,
          0.1147583118233455,
          -0.739724494404953,
          -0.004545521532108,
          0.4230985413160332,
          -0.2954266437914192,
          0.4572893755721637,
          0.2262680608683041,
          -0.3069362027094922,
          -0.7421927030333197,
          0.2452858739617849,
          0.0772420163950027,
          0.4637325656131399,
          -0.3593394513039817,
          0.1029110689814624,
          -0.3112230204386895,
          -0.8068588969380036,
          0.7236446864982252,
          -0.9626398488381608,
          -0.763548931709082,
          0.3733193798646345,
          -0.1034804889502848,
          0.4910644280728446,
          0.1104975795627874,
          -0.3350214515613179,
          0.3637584609548935,
          0.3451561124683078,
          -0.8216419839524266,
          -0.0529737887139878,
          -0.1931662152010306,
          0.0088605064570186,
          -0.0779153025155489,
          -0.7646400813121524,
          0.1377254172964906,
          0.3367383555246379,
          0.0339060449845808,
          0.086491178275295,
          0.0588477173604194,
          0.4617579987104468,
          -0.2896849070667024,
          0.3075359508882412,
          0.4380635130266808,
          0.0642516115870485,
          0.2232541981512633,
          -0.7396205489660905,
          -0.0200301411499292,
          -0.5995320679179102,
          -0.182358188886356,
          0.5018723751003802,
          0.2964162468312567,
          0.5448965894813537,
          -0.9623280521651428,
          -0.934216836775386,
          0.0465846927630863,
          -0.81919978150556,
          -0.0673150877914605,
          0.0173822881266897,
          0.5163176989038544,
          0.0228902070793201,
          0.2264757931717516,
          0.3140831656552189,
          0.3271774366148969,
          -0.91932984396567,
          -0.2614957127760141,
          0.2599390886429838,
          0.0306844499640926,
          -0.0081828983080461,
          0.1387645545365605,
          -0.7988048300996443,
          -0.7095867393930715,
          -0.3585340525488596,
          0.0684086362701603,
          0.3285284894586929,
          0.4320359461668768,
          0.2388426839208084,
          -0.0901783271128819,
          -0.9573137749381856,
          -0.1718619196011302,
          0.0568731504577259,
          -0.6479862619941517,
          0.414369027342914,
          -0.9590544844252232,
          0.4241378371303803,
          -0.2517789153515488,
          -0.6544554582166284,
          -0.6405557092146896,
          -0.1521164884356121,
          -0.8492335910785791,
          -0.9747209094521304,
          0.2802040884285368,
          -0.3439588564121617,
          -0.0023630637516896,
          -0.6652634845313029,
          -0.6532343569931952,
          0.0346335837694795,
          0.1607963889213595,
          0.3680193517897291,
          0.2790609264624658,
          0.2749040603536314,
          -0.0020513067222409,
          0.2503781697332428,
          -1.0157705965739796,
          -0.3359307164681641,
          -0.9641727070910427,
          -0.8588465223513206,
          0.5213061285235883,
          0.2832179511455776,
          -0.1784091343681079,
          -0.864744137590762,
          0.0460650448559127,
          -0.2750576985670039,
          0.7358036863695574,
          -0.2854500224133672,
          -0.8336970780284653,
          -0.7520913851540098,
          0.0872187170601936,
          -0.1191728408715536,
          0.5304512656778794,
          -0.5383732198816631,
          -0.9665109640990468,
          0.2886220039464842,
          -0.0720956265334698,
          0.3296716514247639,
          0.5272296706573915,
          0.2644078703555443,
          0.2848807610188223,
          -0.6636526870210588,
          0.4347380518544682,
          0.45126180871236,
          -0.6849049702579586,
          -0.3509736274361737,
          -0.150973326469541,
          0.3288402464881416,
          0.2507939514886927,
          -0.7143152657720802,
          -0.2577025367724904,
          0.0881539881485398,
          -0.8094309717180942,
          0.0493906646024021,
          0.2619136555456772,
          -1.023928569207632,
          0.419357298388371,
          0.239362331827982,
          -0.0962058939726859,
          0.3612642461450265,
          -1.035801778587446,
          -0.0890351651468108,
          0.3025476798427845,
          -0.9441414854340068,
          0.0352570978283769,
          -0.0940234361922675,
          -0.1374632737544132,
          -0.0544287077095076,
          0.4895054843513237
         ],
         "y": [
          0.02970028924730038,
          0.35114754747401394,
          0.3642227520691162,
          -0.6616664007333766,
          -0.6659498881692802,
          -0.07387762705030596,
          -0.7550400152652912,
          -0.754023303228585,
          -0.3725214310610503,
          0.35440043845556307,
          -0.1939309640159075,
          -0.5256468673371697,
          0.40798389460800516,
          0.08661941263876094,
          -0.015312492593449568,
          -0.2351279890138458,
          -0.6679662893903888,
          -1.044973422462612,
          0.681040977571818,
          -0.9597312610891995,
          0.059301258242267396,
          0.27930902311128986,
          0.000004435858473291268,
          -0.22727778202463084,
          0.06089039007507151,
          -1.05103398828712,
          -0.03697020455584246,
          0.22886934717970767,
          -0.21708311167407424,
          -0.3129248969605232,
          -0.11063598264272195,
          0.3252131890089534,
          0.11143961088157314,
          -0.6489645585029025,
          -0.14832055358477803,
          0.17265834187443005,
          -0.9662553058466554,
          0.32286192892420357,
          0.31201382482908563,
          -0.1272433878686791,
          -0.9477471299727274,
          0.0591978766185112,
          -0.607340839196836,
          0.522173544757208,
          -0.19043103648090856,
          0.2754992758838457,
          0.3174639440096541,
          0.2871796143462784,
          -0.9737738186277964,
          0.32388745641654276,
          -0.6588463208124045,
          0.3747884809534602,
          0.5131060904488853,
          -0.2461266683197454,
          -0.005493491997237502,
          -0.8273720349171301,
          0.0780784284262928,
          0.3003575321851362,
          0.33978463874023596,
          -0.15876085220160852,
          -0.537193346129418,
          0.23845324207235177,
          -0.1813750668514764,
          0.3203257676147547,
          0.24110236069025381,
          0.09727629873259765,
          -1.0097938652689504,
          0.30374321573948787,
          -0.6765453493564624,
          -0.10358432966658743,
          0.30059408538699045,
          -0.01825493354476114,
          0.15588067456200813,
          -0.2467263727231473,
          0.4913266471514863,
          0.15789640207644784,
          -0.25839399256375156,
          -0.5235739972921345,
          0.06095389838325019,
          -0.9551731175323708,
          0.32481173977917804,
          -0.22317229570539698,
          0.6804446302854865,
          -0.017606551486425707,
          -0.7301691236004493,
          -0.1069948510058989,
          -0.9858980616010729,
          -0.8112412767217638,
          0.31767199262266693,
          -0.0638096119529188,
          -0.220065149720283,
          0.4657376587730065,
          0.4300462221054683,
          0.4955763488609994,
          -0.97549096046329,
          0.5175509556122055,
          0.272006129092185,
          -0.4790710620521215,
          0.012636857362600909,
          0.04563051613702005,
          -0.6872842655252283,
          0.07216250546109002,
          -1.0257128661422374,
          0.3046065185493713,
          -0.19285877784062488,
          0.1993812461525926,
          -0.9525825716615772,
          -0.2335307847316439,
          -0.00023090586040732698,
          -0.13314788109686362,
          -1.0142584647850523,
          -0.08967165561548476,
          0.049946866354649094,
          0.36903014381030014,
          0.082409678775898,
          -0.7438432060793332,
          0.03886277941260487,
          0.4200013043490369,
          -0.32249144820531417,
          0.44650460671638287,
          0.22057796582995243,
          -0.35750287039055145,
          -0.7351567360928648,
          0.26553361934669867,
          0.09265444345459033,
          0.43895065511820547,
          -0.3242497049000898,
          0.12879418417791103,
          -0.2876374227348479,
          -0.7887154229572872,
          0.6569175742476776,
          -0.964806342406235,
          -0.7743128046001597,
          0.3724861392869851,
          -0.10427266316712527,
          0.4843900791439579,
          0.12056538111570972,
          -0.2962587927528009,
          0.34415301925382585,
          0.35096303089202086,
          -0.8142174237589244,
          -0.047436543514322776,
          -0.1863445804248649,
          0.016222254691915322,
          -0.0784669255743929,
          -0.7572477383504803,
          0.10953402610728291,
          0.3702096947663462,
          0.027832685783510572,
          0.07991760047958317,
          0.04584802589205654,
          0.4605715709696289,
          -0.3036927886100838,
          0.27691113138811846,
          0.43062790817839675,
          0.0614597403457018,
          0.22906883408207002,
          -0.7269301771729597,
          -0.014765441370628452,
          -0.6061882052390699,
          -0.20387998600507684,
          0.5144546479288543,
          0.33066355512868234,
          0.5348094004989592,
          -0.9584519784435337,
          -0.939667521553301,
          0.03511708595697073,
          -0.851173089713744,
          -0.05761445265125441,
          0.014591520481575491,
          0.5465509642427191,
          0.010788915754734014,
          0.22332629058220077,
          0.3104344773297898,
          0.3520694966546847,
          -0.9137739142405594,
          -0.2969504685936413,
          0.27846000555854716,
          0.05768213397778647,
          -0.027362748361842777,
          0.1033593038252863,
          -0.7765227181332577,
          -0.7168376150150897,
          -0.40102626633036736,
          0.0740127372414458,
          0.30281907751947507,
          0.4316014940627972,
          0.2426988010363254,
          -0.09201222803349615,
          -0.9416385206834279,
          -0.16868920025457673,
          0.0606731065000522,
          -0.663515217180527,
          0.4245037190798418,
          -0.956915197077119,
          0.42985239478917,
          -0.2544449830390261,
          -0.6635456832230837,
          -0.6665216666493428,
          -0.15418876212253785,
          -0.899041680346971,
          -0.9508962927547511,
          0.25307396020239864,
          -0.3413976121568091,
          0.01785459214761053,
          -0.6833814087558809,
          -0.6400321673217872,
          0.04609006276973142,
          0.17765091576872358,
          0.3892765588207166,
          0.2602691375535302,
          0.2799718384835878,
          0.01721446795331642,
          0.24846388486045107,
          -1.0316854045346253,
          -0.33092511957469745,
          -0.9389970822805291,
          -0.8476004039635614,
          0.5374050082691142,
          0.2859957740371078,
          -0.17490333116014456,
          -0.8306478964130117,
          0.04538649556082397,
          -0.3006500453110009,
          0.7167043896281056,
          -0.2900091418212463,
          -0.8516193857171366,
          -0.7367522891463205,
          0.09510737436924803,
          -0.12871924492345693,
          0.5435167632592826,
          -0.556173053453048,
          -0.9730380640525773,
          0.28619031830852404,
          -0.0056493339563178,
          0.32356497024025277,
          0.5407959580280655,
          0.27091411243719776,
          0.31571952190893343,
          -0.6560822394081673,
          0.44423331389964776,
          0.43640165629055044,
          -0.690161341356389,
          -0.3768901342556605,
          -0.1420404140287062,
          0.2990573997579193,
          0.2929335484251327,
          -0.7800411639228324,
          -0.24837562171368816,
          0.11793720411671954,
          -0.8004786154742509,
          0.03562148603793862,
          0.2968663888943372,
          -1.0502591421408414,
          0.39244954405549376,
          0.22794367540489296,
          -0.15549410410551473,
          0.3554323355760328,
          -1.051522275248935,
          -0.029924017424254733,
          0.309635279236392,
          -0.9591373318262302,
          0.012889397703425023,
          -0.084739514441946,
          -0.14885098644377528,
          -0.015257542359712776,
          0.4761735600546147
         ]
        },
        {
         "mode": "lines",
         "name": "Ideal Line",
         "type": "scatter",
         "x": [
          0.0307883161158164,
          0.3809057318716821,
          0.3290481373658666,
          -0.6770847211916857,
          -0.677318618250911,
          -0.0771879223049277,
          -0.7303194540099364,
          -0.7711612898976299,
          -0.3429195605978145,
          0.3735272707423595,
          -0.1496224322000225,
          -0.5223690316438069,
          0.4253848652481751,
          0.0665379355191907,
          -0.00007689839382495037,
          -0.2422179964418079,
          -0.6671601121766342,
          -1.0238765964882008,
          0.7255152286749175,
          -0.9639388893189562,
          0.0303726929346439,
          0.2437270888145413,
          -0.0055848173464553,
          -0.2291236461949911,
          -0.0082867644597699,
          -1.0275918728779316,
          -0.0313577360846387,
          0.2637843562966469,
          -0.1826959520973049,
          -0.3049876419882991,
          -0.1064941930930481,
          0.319694950759573,
          0.1014561499859426,
          -0.646401391378269,
          -0.1723815675083039,
          0.1785671738970454,
          -0.9692909297568624,
          0.3176165177051559,
          0.269604032278726,
          -0.1132492987377507,
          -0.96004176787657,
          -0.0099495743330146,
          -0.5969339869563194,
          0.4932467272789859,
          -0.2067801340678822,
          0.2608743597313299,
          0.3233323275355112,
          0.2739687892652853,
          -0.986230428726634,
          0.3168889789202573,
          -0.6641723349282325,
          0.371760594717391,
          0.5282689664717384,
          -0.2335923486204129,
          -0.0132750355052266,
          -0.8106261460471658,
          0.1080033647529203,
          0.2944416799285633,
          0.3443248661059628,
          -0.1346574604893748,
          -0.5281627807315245,
          0.2517292225770388,
          -0.169783486546713,
          0.2794767082179157,
          0.2322954691538307,
          0.0726693685307185,
          -0.9968045976256524,
          0.2975594087973278,
          -0.6911923610713494,
          -0.0982843270271031,
          0.2763589793491512,
          -0.0028827116588632,
          0.1689023888355807,
          -0.2712125894876182,
          0.4825426464031735,
          0.1747220648176598,
          -0.2304746197516483,
          -0.5215376267071846,
          0.1006247450493203,
          -0.9602236129292252,
          0.3270735704631731,
          -0.2045977555746025,
          0.6656555004066047,
          -0.020134007301653,
          -0.7389710287256929,
          -0.0947508164028887,
          -0.9735258144101976,
          -0.7993764110826798,
          0.2968318700124291,
          -0.0693936794201552,
          -0.2115605935227528,
          0.4836858083692443,
          0.459471674778305,
          0.5253591284806994,
          -0.9869059155049624,
          0.5257747516618716,
          0.3071203277070687,
          -0.4895812625944726,
          0.0398297456926611,
          0.0213314219320766,
          -0.686204010738754,
          0.0785930692387988,
          -1.0094312726847268,
          0.2877905990098618,
          -0.1990898366219721,
          0.2225268179406422,
          -0.9729801999650928,
          -0.1626127577208379,
          -0.0259536832837321,
          -0.138086946387588,
          -0.9946222191323728,
          -0.1042078691609059,
          0.0577045553943483,
          0.3286323556104166,
          0.1147583118233455,
          -0.739724494404953,
          -0.004545521532108,
          0.4230985413160332,
          -0.2954266437914192,
          0.4572893755721637,
          0.2262680608683041,
          -0.3069362027094922,
          -0.7421927030333197,
          0.2452858739617849,
          0.0772420163950027,
          0.4637325656131399,
          -0.3593394513039817,
          0.1029110689814624,
          -0.3112230204386895,
          -0.8068588969380036,
          0.7236446864982252,
          -0.9626398488381608,
          -0.763548931709082,
          0.3733193798646345,
          -0.1034804889502848,
          0.4910644280728446,
          0.1104975795627874,
          -0.3350214515613179,
          0.3637584609548935,
          0.3451561124683078,
          -0.8216419839524266,
          -0.0529737887139878,
          -0.1931662152010306,
          0.0088605064570186,
          -0.0779153025155489,
          -0.7646400813121524,
          0.1377254172964906,
          0.3367383555246379,
          0.0339060449845808,
          0.086491178275295,
          0.0588477173604194,
          0.4617579987104468,
          -0.2896849070667024,
          0.3075359508882412,
          0.4380635130266808,
          0.0642516115870485,
          0.2232541981512633,
          -0.7396205489660905,
          -0.0200301411499292,
          -0.5995320679179102,
          -0.182358188886356,
          0.5018723751003802,
          0.2964162468312567,
          0.5448965894813537,
          -0.9623280521651428,
          -0.934216836775386,
          0.0465846927630863,
          -0.81919978150556,
          -0.0673150877914605,
          0.0173822881266897,
          0.5163176989038544,
          0.0228902070793201,
          0.2264757931717516,
          0.3140831656552189,
          0.3271774366148969,
          -0.91932984396567,
          -0.2614957127760141,
          0.2599390886429838,
          0.0306844499640926,
          -0.0081828983080461,
          0.1387645545365605,
          -0.7988048300996443,
          -0.7095867393930715,
          -0.3585340525488596,
          0.0684086362701603,
          0.3285284894586929,
          0.4320359461668768,
          0.2388426839208084,
          -0.0901783271128819,
          -0.9573137749381856,
          -0.1718619196011302,
          0.0568731504577259,
          -0.6479862619941517,
          0.414369027342914,
          -0.9590544844252232,
          0.4241378371303803,
          -0.2517789153515488,
          -0.6544554582166284,
          -0.6405557092146896,
          -0.1521164884356121,
          -0.8492335910785791,
          -0.9747209094521304,
          0.2802040884285368,
          -0.3439588564121617,
          -0.0023630637516896,
          -0.6652634845313029,
          -0.6532343569931952,
          0.0346335837694795,
          0.1607963889213595,
          0.3680193517897291,
          0.2790609264624658,
          0.2749040603536314,
          -0.0020513067222409,
          0.2503781697332428,
          -1.0157705965739796,
          -0.3359307164681641,
          -0.9641727070910427,
          -0.8588465223513206,
          0.5213061285235883,
          0.2832179511455776,
          -0.1784091343681079,
          -0.864744137590762,
          0.0460650448559127,
          -0.2750576985670039,
          0.7358036863695574,
          -0.2854500224133672,
          -0.8336970780284653,
          -0.7520913851540098,
          0.0872187170601936,
          -0.1191728408715536,
          0.5304512656778794,
          -0.5383732198816631,
          -0.9665109640990468,
          0.2886220039464842,
          -0.0720956265334698,
          0.3296716514247639,
          0.5272296706573915,
          0.2644078703555443,
          0.2848807610188223,
          -0.6636526870210588,
          0.4347380518544682,
          0.45126180871236,
          -0.6849049702579586,
          -0.3509736274361737,
          -0.150973326469541,
          0.3288402464881416,
          0.2507939514886927,
          -0.7143152657720802,
          -0.2577025367724904,
          0.0881539881485398,
          -0.8094309717180942,
          0.0493906646024021,
          0.2619136555456772,
          -1.023928569207632,
          0.419357298388371,
          0.239362331827982,
          -0.0962058939726859,
          0.3612642461450265,
          -1.035801778587446,
          -0.0890351651468108,
          0.3025476798427845,
          -0.9441414854340068,
          0.0352570978283769,
          -0.0940234361922675,
          -0.1374632737544132,
          -0.0544287077095076,
          0.4895054843513237
         ],
         "y": [
          0.0307883161158164,
          0.3809057318716821,
          0.3290481373658666,
          -0.6770847211916857,
          -0.677318618250911,
          -0.0771879223049277,
          -0.7303194540099364,
          -0.7711612898976299,
          -0.3429195605978145,
          0.3735272707423595,
          -0.1496224322000225,
          -0.5223690316438069,
          0.4253848652481751,
          0.0665379355191907,
          -0.00007689839382495037,
          -0.2422179964418079,
          -0.6671601121766342,
          -1.0238765964882008,
          0.7255152286749175,
          -0.9639388893189562,
          0.0303726929346439,
          0.2437270888145413,
          -0.0055848173464553,
          -0.2291236461949911,
          -0.0082867644597699,
          -1.0275918728779316,
          -0.0313577360846387,
          0.2637843562966469,
          -0.1826959520973049,
          -0.3049876419882991,
          -0.1064941930930481,
          0.319694950759573,
          0.1014561499859426,
          -0.646401391378269,
          -0.1723815675083039,
          0.1785671738970454,
          -0.9692909297568624,
          0.3176165177051559,
          0.269604032278726,
          -0.1132492987377507,
          -0.96004176787657,
          -0.0099495743330146,
          -0.5969339869563194,
          0.4932467272789859,
          -0.2067801340678822,
          0.2608743597313299,
          0.3233323275355112,
          0.2739687892652853,
          -0.986230428726634,
          0.3168889789202573,
          -0.6641723349282325,
          0.371760594717391,
          0.5282689664717384,
          -0.2335923486204129,
          -0.0132750355052266,
          -0.8106261460471658,
          0.1080033647529203,
          0.2944416799285633,
          0.3443248661059628,
          -0.1346574604893748,
          -0.5281627807315245,
          0.2517292225770388,
          -0.169783486546713,
          0.2794767082179157,
          0.2322954691538307,
          0.0726693685307185,
          -0.9968045976256524,
          0.2975594087973278,
          -0.6911923610713494,
          -0.0982843270271031,
          0.2763589793491512,
          -0.0028827116588632,
          0.1689023888355807,
          -0.2712125894876182,
          0.4825426464031735,
          0.1747220648176598,
          -0.2304746197516483,
          -0.5215376267071846,
          0.1006247450493203,
          -0.9602236129292252,
          0.3270735704631731,
          -0.2045977555746025,
          0.6656555004066047,
          -0.020134007301653,
          -0.7389710287256929,
          -0.0947508164028887,
          -0.9735258144101976,
          -0.7993764110826798,
          0.2968318700124291,
          -0.0693936794201552,
          -0.2115605935227528,
          0.4836858083692443,
          0.459471674778305,
          0.5253591284806994,
          -0.9869059155049624,
          0.5257747516618716,
          0.3071203277070687,
          -0.4895812625944726,
          0.0398297456926611,
          0.0213314219320766,
          -0.686204010738754,
          0.0785930692387988,
          -1.0094312726847268,
          0.2877905990098618,
          -0.1990898366219721,
          0.2225268179406422,
          -0.9729801999650928,
          -0.1626127577208379,
          -0.0259536832837321,
          -0.138086946387588,
          -0.9946222191323728,
          -0.1042078691609059,
          0.0577045553943483,
          0.3286323556104166,
          0.1147583118233455,
          -0.739724494404953,
          -0.004545521532108,
          0.4230985413160332,
          -0.2954266437914192,
          0.4572893755721637,
          0.2262680608683041,
          -0.3069362027094922,
          -0.7421927030333197,
          0.2452858739617849,
          0.0772420163950027,
          0.4637325656131399,
          -0.3593394513039817,
          0.1029110689814624,
          -0.3112230204386895,
          -0.8068588969380036,
          0.7236446864982252,
          -0.9626398488381608,
          -0.763548931709082,
          0.3733193798646345,
          -0.1034804889502848,
          0.4910644280728446,
          0.1104975795627874,
          -0.3350214515613179,
          0.3637584609548935,
          0.3451561124683078,
          -0.8216419839524266,
          -0.0529737887139878,
          -0.1931662152010306,
          0.0088605064570186,
          -0.0779153025155489,
          -0.7646400813121524,
          0.1377254172964906,
          0.3367383555246379,
          0.0339060449845808,
          0.086491178275295,
          0.0588477173604194,
          0.4617579987104468,
          -0.2896849070667024,
          0.3075359508882412,
          0.4380635130266808,
          0.0642516115870485,
          0.2232541981512633,
          -0.7396205489660905,
          -0.0200301411499292,
          -0.5995320679179102,
          -0.182358188886356,
          0.5018723751003802,
          0.2964162468312567,
          0.5448965894813537,
          -0.9623280521651428,
          -0.934216836775386,
          0.0465846927630863,
          -0.81919978150556,
          -0.0673150877914605,
          0.0173822881266897,
          0.5163176989038544,
          0.0228902070793201,
          0.2264757931717516,
          0.3140831656552189,
          0.3271774366148969,
          -0.91932984396567,
          -0.2614957127760141,
          0.2599390886429838,
          0.0306844499640926,
          -0.0081828983080461,
          0.1387645545365605,
          -0.7988048300996443,
          -0.7095867393930715,
          -0.3585340525488596,
          0.0684086362701603,
          0.3285284894586929,
          0.4320359461668768,
          0.2388426839208084,
          -0.0901783271128819,
          -0.9573137749381856,
          -0.1718619196011302,
          0.0568731504577259,
          -0.6479862619941517,
          0.414369027342914,
          -0.9590544844252232,
          0.4241378371303803,
          -0.2517789153515488,
          -0.6544554582166284,
          -0.6405557092146896,
          -0.1521164884356121,
          -0.8492335910785791,
          -0.9747209094521304,
          0.2802040884285368,
          -0.3439588564121617,
          -0.0023630637516896,
          -0.6652634845313029,
          -0.6532343569931952,
          0.0346335837694795,
          0.1607963889213595,
          0.3680193517897291,
          0.2790609264624658,
          0.2749040603536314,
          -0.0020513067222409,
          0.2503781697332428,
          -1.0157705965739796,
          -0.3359307164681641,
          -0.9641727070910427,
          -0.8588465223513206,
          0.5213061285235883,
          0.2832179511455776,
          -0.1784091343681079,
          -0.864744137590762,
          0.0460650448559127,
          -0.2750576985670039,
          0.7358036863695574,
          -0.2854500224133672,
          -0.8336970780284653,
          -0.7520913851540098,
          0.0872187170601936,
          -0.1191728408715536,
          0.5304512656778794,
          -0.5383732198816631,
          -0.9665109640990468,
          0.2886220039464842,
          -0.0720956265334698,
          0.3296716514247639,
          0.5272296706573915,
          0.2644078703555443,
          0.2848807610188223,
          -0.6636526870210588,
          0.4347380518544682,
          0.45126180871236,
          -0.6849049702579586,
          -0.3509736274361737,
          -0.150973326469541,
          0.3288402464881416,
          0.2507939514886927,
          -0.7143152657720802,
          -0.2577025367724904,
          0.0881539881485398,
          -0.8094309717180942,
          0.0493906646024021,
          0.2619136555456772,
          -1.023928569207632,
          0.419357298388371,
          0.239362331827982,
          -0.0962058939726859,
          0.3612642461450265,
          -1.035801778587446,
          -0.0890351651468108,
          0.3025476798427845,
          -0.9441414854340068,
          0.0352570978283769,
          -0.0940234361922675,
          -0.1374632737544132,
          -0.0544287077095076,
          0.4895054843513237
         ]
        }
       ],
       "layout": {
        "template": {
         "data": {
          "bar": [
           {
            "error_x": {
             "color": "#f2f5fa"
            },
            "error_y": {
             "color": "#f2f5fa"
            },
            "marker": {
             "line": {
              "color": "rgb(17,17,17)",
              "width": 0.5
             },
             "pattern": {
              "fillmode": "overlay",
              "size": 10,
              "solidity": 0.2
             }
            },
            "type": "bar"
           }
          ],
          "barpolar": [
           {
            "marker": {
             "line": {
              "color": "rgb(17,17,17)",
              "width": 0.5
             },
             "pattern": {
              "fillmode": "overlay",
              "size": 10,
              "solidity": 0.2
             }
            },
            "type": "barpolar"
           }
          ],
          "carpet": [
           {
            "aaxis": {
             "endlinecolor": "#A2B1C6",
             "gridcolor": "#506784",
             "linecolor": "#506784",
             "minorgridcolor": "#506784",
             "startlinecolor": "#A2B1C6"
            },
            "baxis": {
             "endlinecolor": "#A2B1C6",
             "gridcolor": "#506784",
             "linecolor": "#506784",
             "minorgridcolor": "#506784",
             "startlinecolor": "#A2B1C6"
            },
            "type": "carpet"
           }
          ],
          "choropleth": [
           {
            "colorbar": {
             "outlinewidth": 0,
             "ticks": ""
            },
            "type": "choropleth"
           }
          ],
          "contour": [
           {
            "colorbar": {
             "outlinewidth": 0,
             "ticks": ""
            },
            "colorscale": [
             [
              0,
              "#0d0887"
             ],
             [
              0.1111111111111111,
              "#46039f"
             ],
             [
              0.2222222222222222,
              "#7201a8"
             ],
             [
              0.3333333333333333,
              "#9c179e"
             ],
             [
              0.4444444444444444,
              "#bd3786"
             ],
             [
              0.5555555555555556,
              "#d8576b"
             ],
             [
              0.6666666666666666,
              "#ed7953"
             ],
             [
              0.7777777777777778,
              "#fb9f3a"
             ],
             [
              0.8888888888888888,
              "#fdca26"
             ],
             [
              1,
              "#f0f921"
             ]
            ],
            "type": "contour"
           }
          ],
          "contourcarpet": [
           {
            "colorbar": {
             "outlinewidth": 0,
             "ticks": ""
            },
            "type": "contourcarpet"
           }
          ],
          "heatmap": [
           {
            "colorbar": {
             "outlinewidth": 0,
             "ticks": ""
            },
            "colorscale": [
             [
              0,
              "#0d0887"
             ],
             [
              0.1111111111111111,
              "#46039f"
             ],
             [
              0.2222222222222222,
              "#7201a8"
             ],
             [
              0.3333333333333333,
              "#9c179e"
             ],
             [
              0.4444444444444444,
              "#bd3786"
             ],
             [
              0.5555555555555556,
              "#d8576b"
             ],
             [
              0.6666666666666666,
              "#ed7953"
             ],
             [
              0.7777777777777778,
              "#fb9f3a"
             ],
             [
              0.8888888888888888,
              "#fdca26"
             ],
             [
              1,
              "#f0f921"
             ]
            ],
            "type": "heatmap"
           }
          ],
          "heatmapgl": [
           {
            "colorbar": {
             "outlinewidth": 0,
             "ticks": ""
            },
            "colorscale": [
             [
              0,
              "#0d0887"
             ],
             [
              0.1111111111111111,
              "#46039f"
             ],
             [
              0.2222222222222222,
              "#7201a8"
             ],
             [
              0.3333333333333333,
              "#9c179e"
             ],
             [
              0.4444444444444444,
              "#bd3786"
             ],
             [
              0.5555555555555556,
              "#d8576b"
             ],
             [
              0.6666666666666666,
              "#ed7953"
             ],
             [
              0.7777777777777778,
              "#fb9f3a"
             ],
             [
              0.8888888888888888,
              "#fdca26"
             ],
             [
              1,
              "#f0f921"
             ]
            ],
            "type": "heatmapgl"
           }
          ],
          "histogram": [
           {
            "marker": {
             "pattern": {
              "fillmode": "overlay",
              "size": 10,
              "solidity": 0.2
             }
            },
            "type": "histogram"
           }
          ],
          "histogram2d": [
           {
            "colorbar": {
             "outlinewidth": 0,
             "ticks": ""
            },
            "colorscale": [
             [
              0,
              "#0d0887"
             ],
             [
              0.1111111111111111,
              "#46039f"
             ],
             [
              0.2222222222222222,
              "#7201a8"
             ],
             [
              0.3333333333333333,
              "#9c179e"
             ],
             [
              0.4444444444444444,
              "#bd3786"
             ],
             [
              0.5555555555555556,
              "#d8576b"
             ],
             [
              0.6666666666666666,
              "#ed7953"
             ],
             [
              0.7777777777777778,
              "#fb9f3a"
             ],
             [
              0.8888888888888888,
              "#fdca26"
             ],
             [
              1,
              "#f0f921"
             ]
            ],
            "type": "histogram2d"
           }
          ],
          "histogram2dcontour": [
           {
            "colorbar": {
             "outlinewidth": 0,
             "ticks": ""
            },
            "colorscale": [
             [
              0,
              "#0d0887"
             ],
             [
              0.1111111111111111,
              "#46039f"
             ],
             [
              0.2222222222222222,
              "#7201a8"
             ],
             [
              0.3333333333333333,
              "#9c179e"
             ],
             [
              0.4444444444444444,
              "#bd3786"
             ],
             [
              0.5555555555555556,
              "#d8576b"
             ],
             [
              0.6666666666666666,
              "#ed7953"
             ],
             [
              0.7777777777777778,
              "#fb9f3a"
             ],
             [
              0.8888888888888888,
              "#fdca26"
             ],
             [
              1,
              "#f0f921"
             ]
            ],
            "type": "histogram2dcontour"
           }
          ],
          "mesh3d": [
           {
            "colorbar": {
             "outlinewidth": 0,
             "ticks": ""
            },
            "type": "mesh3d"
           }
          ],
          "parcoords": [
           {
            "line": {
             "colorbar": {
              "outlinewidth": 0,
              "ticks": ""
             }
            },
            "type": "parcoords"
           }
          ],
          "pie": [
           {
            "automargin": true,
            "type": "pie"
           }
          ],
          "scatter": [
           {
            "marker": {
             "line": {
              "color": "#283442"
             }
            },
            "type": "scatter"
           }
          ],
          "scatter3d": [
           {
            "line": {
             "colorbar": {
              "outlinewidth": 0,
              "ticks": ""
             }
            },
            "marker": {
             "colorbar": {
              "outlinewidth": 0,
              "ticks": ""
             }
            },
            "type": "scatter3d"
           }
          ],
          "scattercarpet": [
           {
            "marker": {
             "colorbar": {
              "outlinewidth": 0,
              "ticks": ""
             }
            },
            "type": "scattercarpet"
           }
          ],
          "scattergeo": [
           {
            "marker": {
             "colorbar": {
              "outlinewidth": 0,
              "ticks": ""
             }
            },
            "type": "scattergeo"
           }
          ],
          "scattergl": [
           {
            "marker": {
             "line": {
              "color": "#283442"
             }
            },
            "type": "scattergl"
           }
          ],
          "scattermapbox": [
           {
            "marker": {
             "colorbar": {
              "outlinewidth": 0,
              "ticks": ""
             }
            },
            "type": "scattermapbox"
           }
          ],
          "scatterpolar": [
           {
            "marker": {
             "colorbar": {
              "outlinewidth": 0,
              "ticks": ""
             }
            },
            "type": "scatterpolar"
           }
          ],
          "scatterpolargl": [
           {
            "marker": {
             "colorbar": {
              "outlinewidth": 0,
              "ticks": ""
             }
            },
            "type": "scatterpolargl"
           }
          ],
          "scatterternary": [
           {
            "marker": {
             "colorbar": {
              "outlinewidth": 0,
              "ticks": ""
             }
            },
            "type": "scatterternary"
           }
          ],
          "surface": [
           {
            "colorbar": {
             "outlinewidth": 0,
             "ticks": ""
            },
            "colorscale": [
             [
              0,
              "#0d0887"
             ],
             [
              0.1111111111111111,
              "#46039f"
             ],
             [
              0.2222222222222222,
              "#7201a8"
             ],
             [
              0.3333333333333333,
              "#9c179e"
             ],
             [
              0.4444444444444444,
              "#bd3786"
             ],
             [
              0.5555555555555556,
              "#d8576b"
             ],
             [
              0.6666666666666666,
              "#ed7953"
             ],
             [
              0.7777777777777778,
              "#fb9f3a"
             ],
             [
              0.8888888888888888,
              "#fdca26"
             ],
             [
              1,
              "#f0f921"
             ]
            ],
            "type": "surface"
           }
          ],
          "table": [
           {
            "cells": {
             "fill": {
              "color": "#506784"
             },
             "line": {
              "color": "rgb(17,17,17)"
             }
            },
            "header": {
             "fill": {
              "color": "#2a3f5f"
             },
             "line": {
              "color": "rgb(17,17,17)"
             }
            },
            "type": "table"
           }
          ]
         },
         "layout": {
          "annotationdefaults": {
           "arrowcolor": "#f2f5fa",
           "arrowhead": 0,
           "arrowwidth": 1
          },
          "autotypenumbers": "strict",
          "coloraxis": {
           "colorbar": {
            "outlinewidth": 0,
            "ticks": ""
           }
          },
          "colorscale": {
           "diverging": [
            [
             0,
             "#8e0152"
            ],
            [
             0.1,
             "#c51b7d"
            ],
            [
             0.2,
             "#de77ae"
            ],
            [
             0.3,
             "#f1b6da"
            ],
            [
             0.4,
             "#fde0ef"
            ],
            [
             0.5,
             "#f7f7f7"
            ],
            [
             0.6,
             "#e6f5d0"
            ],
            [
             0.7,
             "#b8e186"
            ],
            [
             0.8,
             "#7fbc41"
            ],
            [
             0.9,
             "#4d9221"
            ],
            [
             1,
             "#276419"
            ]
           ],
           "sequential": [
            [
             0,
             "#0d0887"
            ],
            [
             0.1111111111111111,
             "#46039f"
            ],
            [
             0.2222222222222222,
             "#7201a8"
            ],
            [
             0.3333333333333333,
             "#9c179e"
            ],
            [
             0.4444444444444444,
             "#bd3786"
            ],
            [
             0.5555555555555556,
             "#d8576b"
            ],
            [
             0.6666666666666666,
             "#ed7953"
            ],
            [
             0.7777777777777778,
             "#fb9f3a"
            ],
            [
             0.8888888888888888,
             "#fdca26"
            ],
            [
             1,
             "#f0f921"
            ]
           ],
           "sequentialminus": [
            [
             0,
             "#0d0887"
            ],
            [
             0.1111111111111111,
             "#46039f"
            ],
            [
             0.2222222222222222,
             "#7201a8"
            ],
            [
             0.3333333333333333,
             "#9c179e"
            ],
            [
             0.4444444444444444,
             "#bd3786"
            ],
            [
             0.5555555555555556,
             "#d8576b"
            ],
            [
             0.6666666666666666,
             "#ed7953"
            ],
            [
             0.7777777777777778,
             "#fb9f3a"
            ],
            [
             0.8888888888888888,
             "#fdca26"
            ],
            [
             1,
             "#f0f921"
            ]
           ]
          },
          "colorway": [
           "#636efa",
           "#EF553B",
           "#00cc96",
           "#ab63fa",
           "#FFA15A",
           "#19d3f3",
           "#FF6692",
           "#B6E880",
           "#FF97FF",
           "#FECB52"
          ],
          "font": {
           "color": "#f2f5fa"
          },
          "geo": {
           "bgcolor": "rgb(17,17,17)",
           "lakecolor": "rgb(17,17,17)",
           "landcolor": "rgb(17,17,17)",
           "showlakes": true,
           "showland": true,
           "subunitcolor": "#506784"
          },
          "hoverlabel": {
           "align": "left"
          },
          "hovermode": "closest",
          "mapbox": {
           "style": "dark"
          },
          "paper_bgcolor": "rgb(17,17,17)",
          "plot_bgcolor": "rgb(17,17,17)",
          "polar": {
           "angularaxis": {
            "gridcolor": "#506784",
            "linecolor": "#506784",
            "ticks": ""
           },
           "bgcolor": "rgb(17,17,17)",
           "radialaxis": {
            "gridcolor": "#506784",
            "linecolor": "#506784",
            "ticks": ""
           }
          },
          "scene": {
           "xaxis": {
            "backgroundcolor": "rgb(17,17,17)",
            "gridcolor": "#506784",
            "gridwidth": 2,
            "linecolor": "#506784",
            "showbackground": true,
            "ticks": "",
            "zerolinecolor": "#C8D4E3"
           },
           "yaxis": {
            "backgroundcolor": "rgb(17,17,17)",
            "gridcolor": "#506784",
            "gridwidth": 2,
            "linecolor": "#506784",
            "showbackground": true,
            "ticks": "",
            "zerolinecolor": "#C8D4E3"
           },
           "zaxis": {
            "backgroundcolor": "rgb(17,17,17)",
            "gridcolor": "#506784",
            "gridwidth": 2,
            "linecolor": "#506784",
            "showbackground": true,
            "ticks": "",
            "zerolinecolor": "#C8D4E3"
           }
          },
          "shapedefaults": {
           "line": {
            "color": "#f2f5fa"
           }
          },
          "sliderdefaults": {
           "bgcolor": "#C8D4E3",
           "bordercolor": "rgb(17,17,17)",
           "borderwidth": 1,
           "tickwidth": 0
          },
          "ternary": {
           "aaxis": {
            "gridcolor": "#506784",
            "linecolor": "#506784",
            "ticks": ""
           },
           "baxis": {
            "gridcolor": "#506784",
            "linecolor": "#506784",
            "ticks": ""
           },
           "bgcolor": "rgb(17,17,17)",
           "caxis": {
            "gridcolor": "#506784",
            "linecolor": "#506784",
            "ticks": ""
           }
          },
          "title": {
           "x": 0.05
          },
          "updatemenudefaults": {
           "bgcolor": "#506784",
           "borderwidth": 0
          },
          "xaxis": {
           "automargin": true,
           "gridcolor": "#283442",
           "linecolor": "#506784",
           "ticks": "",
           "title": {
            "standoff": 15
           },
           "zerolinecolor": "#283442",
           "zerolinewidth": 2
          },
          "yaxis": {
           "automargin": true,
           "gridcolor": "#283442",
           "linecolor": "#506784",
           "ticks": "",
           "title": {
            "standoff": 15
           },
           "zerolinecolor": "#283442",
           "zerolinewidth": 2
          }
         }
        },
        "title": {
         "text": "AAPL Actual vs Predicted Closing Prices"
        },
        "xaxis": {
         "title": {
          "text": "Actual Closing Price"
         }
        },
        "yaxis": {
         "title": {
          "text": "Predicted Closing Price"
         }
        }
       }
      }
     },
     "metadata": {},
     "output_type": "display_data"
    }
   ],
   "source": [
    "fig = go.Figure()\n",
    "\n",
    "fig.add_trace(go.Scatter(x = y_test, y = y_pred,\n",
    "                        mode = 'markers',\n",
    "                        name = 'Predicted vs Actual'))\n",
    "\n",
    "fig.add_trace(go.Scatter(x = y_test, y = y_test,\n",
    "                        mode = 'lines',\n",
    "                        name = 'Ideal Line'))\n",
    "\n",
    "fig.update_layout(title = 'AAPL Actual vs Predicted Closing Prices',\n",
    "                xaxis_title = 'Actual Closing Price',\n",
    "                yaxis_title = 'Predicted Closing Price',\n",
    "                template = 'plotly_dark')\n",
    "\n",
    "fig.show()\n",
    "\n",
    "\n"
   ]
  },
  {
   "cell_type": "markdown",
   "metadata": {},
   "source": [
    "#### Pretty good, we will improve this further later on in the project.  Let's look at a residuals plot as well now."
   ]
  },
  {
   "cell_type": "code",
   "execution_count": 37,
   "metadata": {},
   "outputs": [
    {
     "data": {
      "application/vnd.plotly.v1+json": {
       "config": {
        "plotlyServerURL": "https://plot.ly"
       },
       "data": [
        {
         "mode": "markers",
         "name": "Residuals",
         "type": "scatter",
         "x": [
          0.02970028924730038,
          0.35114754747401394,
          0.3642227520691162,
          -0.6616664007333766,
          -0.6659498881692802,
          -0.07387762705030596,
          -0.7550400152652912,
          -0.754023303228585,
          -0.3725214310610503,
          0.35440043845556307,
          -0.1939309640159075,
          -0.5256468673371697,
          0.40798389460800516,
          0.08661941263876094,
          -0.015312492593449568,
          -0.2351279890138458,
          -0.6679662893903888,
          -1.044973422462612,
          0.681040977571818,
          -0.9597312610891995,
          0.059301258242267396,
          0.27930902311128986,
          0.000004435858473291268,
          -0.22727778202463084,
          0.06089039007507151,
          -1.05103398828712,
          -0.03697020455584246,
          0.22886934717970767,
          -0.21708311167407424,
          -0.3129248969605232,
          -0.11063598264272195,
          0.3252131890089534,
          0.11143961088157314,
          -0.6489645585029025,
          -0.14832055358477803,
          0.17265834187443005,
          -0.9662553058466554,
          0.32286192892420357,
          0.31201382482908563,
          -0.1272433878686791,
          -0.9477471299727274,
          0.0591978766185112,
          -0.607340839196836,
          0.522173544757208,
          -0.19043103648090856,
          0.2754992758838457,
          0.3174639440096541,
          0.2871796143462784,
          -0.9737738186277964,
          0.32388745641654276,
          -0.6588463208124045,
          0.3747884809534602,
          0.5131060904488853,
          -0.2461266683197454,
          -0.005493491997237502,
          -0.8273720349171301,
          0.0780784284262928,
          0.3003575321851362,
          0.33978463874023596,
          -0.15876085220160852,
          -0.537193346129418,
          0.23845324207235177,
          -0.1813750668514764,
          0.3203257676147547,
          0.24110236069025381,
          0.09727629873259765,
          -1.0097938652689504,
          0.30374321573948787,
          -0.6765453493564624,
          -0.10358432966658743,
          0.30059408538699045,
          -0.01825493354476114,
          0.15588067456200813,
          -0.2467263727231473,
          0.4913266471514863,
          0.15789640207644784,
          -0.25839399256375156,
          -0.5235739972921345,
          0.06095389838325019,
          -0.9551731175323708,
          0.32481173977917804,
          -0.22317229570539698,
          0.6804446302854865,
          -0.017606551486425707,
          -0.7301691236004493,
          -0.1069948510058989,
          -0.9858980616010729,
          -0.8112412767217638,
          0.31767199262266693,
          -0.0638096119529188,
          -0.220065149720283,
          0.4657376587730065,
          0.4300462221054683,
          0.4955763488609994,
          -0.97549096046329,
          0.5175509556122055,
          0.272006129092185,
          -0.4790710620521215,
          0.012636857362600909,
          0.04563051613702005,
          -0.6872842655252283,
          0.07216250546109002,
          -1.0257128661422374,
          0.3046065185493713,
          -0.19285877784062488,
          0.1993812461525926,
          -0.9525825716615772,
          -0.2335307847316439,
          -0.00023090586040732698,
          -0.13314788109686362,
          -1.0142584647850523,
          -0.08967165561548476,
          0.049946866354649094,
          0.36903014381030014,
          0.082409678775898,
          -0.7438432060793332,
          0.03886277941260487,
          0.4200013043490369,
          -0.32249144820531417,
          0.44650460671638287,
          0.22057796582995243,
          -0.35750287039055145,
          -0.7351567360928648,
          0.26553361934669867,
          0.09265444345459033,
          0.43895065511820547,
          -0.3242497049000898,
          0.12879418417791103,
          -0.2876374227348479,
          -0.7887154229572872,
          0.6569175742476776,
          -0.964806342406235,
          -0.7743128046001597,
          0.3724861392869851,
          -0.10427266316712527,
          0.4843900791439579,
          0.12056538111570972,
          -0.2962587927528009,
          0.34415301925382585,
          0.35096303089202086,
          -0.8142174237589244,
          -0.047436543514322776,
          -0.1863445804248649,
          0.016222254691915322,
          -0.0784669255743929,
          -0.7572477383504803,
          0.10953402610728291,
          0.3702096947663462,
          0.027832685783510572,
          0.07991760047958317,
          0.04584802589205654,
          0.4605715709696289,
          -0.3036927886100838,
          0.27691113138811846,
          0.43062790817839675,
          0.0614597403457018,
          0.22906883408207002,
          -0.7269301771729597,
          -0.014765441370628452,
          -0.6061882052390699,
          -0.20387998600507684,
          0.5144546479288543,
          0.33066355512868234,
          0.5348094004989592,
          -0.9584519784435337,
          -0.939667521553301,
          0.03511708595697073,
          -0.851173089713744,
          -0.05761445265125441,
          0.014591520481575491,
          0.5465509642427191,
          0.010788915754734014,
          0.22332629058220077,
          0.3104344773297898,
          0.3520694966546847,
          -0.9137739142405594,
          -0.2969504685936413,
          0.27846000555854716,
          0.05768213397778647,
          -0.027362748361842777,
          0.1033593038252863,
          -0.7765227181332577,
          -0.7168376150150897,
          -0.40102626633036736,
          0.0740127372414458,
          0.30281907751947507,
          0.4316014940627972,
          0.2426988010363254,
          -0.09201222803349615,
          -0.9416385206834279,
          -0.16868920025457673,
          0.0606731065000522,
          -0.663515217180527,
          0.4245037190798418,
          -0.956915197077119,
          0.42985239478917,
          -0.2544449830390261,
          -0.6635456832230837,
          -0.6665216666493428,
          -0.15418876212253785,
          -0.899041680346971,
          -0.9508962927547511,
          0.25307396020239864,
          -0.3413976121568091,
          0.01785459214761053,
          -0.6833814087558809,
          -0.6400321673217872,
          0.04609006276973142,
          0.17765091576872358,
          0.3892765588207166,
          0.2602691375535302,
          0.2799718384835878,
          0.01721446795331642,
          0.24846388486045107,
          -1.0316854045346253,
          -0.33092511957469745,
          -0.9389970822805291,
          -0.8476004039635614,
          0.5374050082691142,
          0.2859957740371078,
          -0.17490333116014456,
          -0.8306478964130117,
          0.04538649556082397,
          -0.3006500453110009,
          0.7167043896281056,
          -0.2900091418212463,
          -0.8516193857171366,
          -0.7367522891463205,
          0.09510737436924803,
          -0.12871924492345693,
          0.5435167632592826,
          -0.556173053453048,
          -0.9730380640525773,
          0.28619031830852404,
          -0.0056493339563178,
          0.32356497024025277,
          0.5407959580280655,
          0.27091411243719776,
          0.31571952190893343,
          -0.6560822394081673,
          0.44423331389964776,
          0.43640165629055044,
          -0.690161341356389,
          -0.3768901342556605,
          -0.1420404140287062,
          0.2990573997579193,
          0.2929335484251327,
          -0.7800411639228324,
          -0.24837562171368816,
          0.11793720411671954,
          -0.8004786154742509,
          0.03562148603793862,
          0.2968663888943372,
          -1.0502591421408414,
          0.39244954405549376,
          0.22794367540489296,
          -0.15549410410551473,
          0.3554323355760328,
          -1.051522275248935,
          -0.029924017424254733,
          0.309635279236392,
          -0.9591373318262302,
          0.012889397703425023,
          -0.084739514441946,
          -0.14885098644377528,
          -0.015257542359712776,
          0.4761735600546147
         ],
         "y": [
          0.0010880268685160219,
          0.02975818439766814,
          -0.03517461470324962,
          -0.015418320458309154,
          -0.011368730081630751,
          -0.003310295254621745,
          0.024720561255354823,
          -0.01713798666904487,
          0.029601870463235813,
          0.019126832286796402,
          0.04430853181588501,
          0.0032778356933628183,
          0.017400970640169933,
          -0.020081477119570243,
          0.015235594199624617,
          -0.007090007427962092,
          0.0008061772137546441,
          0.021096825974411093,
          0.04447425110309944,
          -0.0042076282297567325,
          -0.028928565307623496,
          -0.03558193429674855,
          -0.005589253204928591,
          -0.0018458641703602563,
          -0.06917715453484141,
          0.02344211540918839,
          0.005612468471203759,
          0.03491500911693926,
          0.03438715957676933,
          0.00793725497222414,
          0.004141789549673855,
          -0.005518238249380414,
          -0.009983460895630542,
          0.0025631671246334475,
          -0.024061013923525887,
          0.005908832022615357,
          -0.0030356239102069527,
          -0.0052454112190476465,
          -0.04240979255035965,
          0.01399408913092838,
          -0.012294637903842665,
          -0.0691474509515258,
          0.010406852240516629,
          -0.028926817478222122,
          -0.016349097586973643,
          -0.014624916152515821,
          0.005868383525857113,
          -0.013210825080993138,
          -0.012456610098837584,
          -0.00699847749628546,
          -0.005326014115828004,
          -0.0030278862360691994,
          0.015162876022853045,
          0.012534319699332497,
          -0.007781543507989097,
          0.01674588886996431,
          0.029924936326627502,
          -0.005915852256572929,
          0.0045402273657268455,
          0.024103391712233718,
          0.009030565397893597,
          0.013275980504687007,
          0.0115915803047634,
          -0.04084905939683897,
          -0.008806891536423112,
          -0.02460693020187915,
          0.012989267643297997,
          -0.006183806942160086,
          -0.014647011714887026,
          0.005300002639484325,
          -0.024235106037839238,
          0.01537222188589794,
          0.013021714273572571,
          -0.024486216764470936,
          -0.008784000748312759,
          0.016825662741211972,
          0.02791937281210327,
          0.002036370584949876,
          0.03967084666607011,
          -0.005050495396854426,
          0.0022618306839950475,
          0.018574540130794487,
          -0.014789129878881813,
          -0.0025274558152272933,
          -0.008801905125243592,
          0.012244034603010198,
          0.012372247190875263,
          0.011864865639084066,
          -0.02084012261023782,
          -0.0055840674672364005,
          0.008504556197530183,
          0.017948149596237806,
          0.029425452672836694,
          0.02978277961970005,
          -0.011414955041672448,
          0.008223796049666054,
          0.035114198614883685,
          -0.010510200542351078,
          0.027192888330060193,
          -0.02429909420494345,
          0.0010802547864742218,
          0.0064305637777087865,
          0.01628159345751068,
          -0.016815919539509505,
          -0.006231058781347221,
          0.0231455717880496,
          -0.020397628303515547,
          0.07091802701080599,
          -0.025722777423324773,
          -0.0049390652907243815,
          0.019636245652679518,
          -0.014536213545421131,
          0.007757689039699207,
          -0.040397788199883544,
          0.032348633047447506,
          0.00411871167438016,
          -0.04340830094471287,
          0.0030972369669963196,
          0.02706480441389497,
          0.010784768855780835,
          0.005690095038351661,
          0.050566667681059274,
          -0.007035966940454941,
          -0.02024774538491378,
          -0.015412427059587633,
          0.024781910494934445,
          -0.0350897464038919,
          -0.02588311519644862,
          -0.02358559770384161,
          -0.018143473980716363,
          0.06672711225054762,
          0.0021664935680741904,
          0.01076387289107772,
          0.0008332405776493856,
          0.0007921742168404688,
          0.006674348928886742,
          -0.01006780155292232,
          -0.03876265880851698,
          0.01960544170106765,
          -0.005806918423713059,
          -0.007424560193502239,
          -0.005537245199665024,
          -0.006821634776165708,
          -0.007361748234896721,
          0.0005516230588440002,
          -0.007392342961672127,
          0.028191391189207687,
          -0.03347133924170831,
          0.00607335920107023,
          0.006573577795711827,
          0.012999691468362863,
          0.001186427740817897,
          0.014007881543381395,
          0.030624819500122746,
          0.007435604848284039,
          0.002791871241346694,
          -0.005814635930806722,
          -0.012690371793130817,
          -0.005264699779300747,
          0.006656137321159661,
          0.021521797118720848,
          -0.012582272828474128,
          -0.034247308297425616,
          0.010087188982394468,
          -0.003876073721609141,
          0.005450684777914994,
          0.011467606806115568,
          0.03197330820818389,
          -0.009700635140206096,
          0.002790767645114208,
          -0.030233265338864723,
          0.012101291324586084,
          0.0031495025895508233,
          0.0036486883254290836,
          -0.024892060039787778,
          -0.005555929725110542,
          0.03545475581762725,
          -0.018520916915563346,
          -0.026997684013693873,
          0.019179850053796677,
          0.035405250711274205,
          -0.02228211196638663,
          0.007250875622018205,
          0.04249221378150775,
          -0.005604100971285497,
          0.02570941193921783,
          0.0004344521040796079,
          -0.003856117115517005,
          0.001833900920614251,
          -0.015675254254757687,
          -0.003172719346553471,
          -0.0037999560423262954,
          0.015528955186375315,
          -0.010134691736927826,
          -0.002139287348104202,
          -0.0057145576587896985,
          0.0026660676874772915,
          0.009090225006455288,
          0.02596595743465313,
          0.002072273686925752,
          0.049808089268391864,
          -0.02382461669737934,
          0.02713012822613814,
          -0.0025612442553525905,
          -0.020217655899300132,
          0.01811792422457803,
          -0.01320218967140796,
          -0.011456479000251915,
          -0.016854526847364076,
          -0.02125720703098749,
          0.01879178890893557,
          -0.005067778129956402,
          -0.019265774675557318,
          0.001914284872791716,
          0.015914807960645705,
          -0.005005596893466635,
          -0.025175624810513608,
          -0.01124611838775924,
          -0.01609887974552593,
          -0.002777822891530224,
          -0.0035058032079633428,
          -0.03409624117775023,
          0.0006785492950887317,
          0.02559234674399702,
          0.019099296741451832,
          0.00455911940787912,
          0.017922307688671313,
          -0.015339096007689235,
          -0.007888657309054428,
          0.009546404051903337,
          -0.013065497581403185,
          0.017799833571384927,
          0.006527099953530513,
          0.002431685637960146,
          -0.06644629257715201,
          0.006106681184511131,
          -0.013566287370674002,
          -0.006506242081653457,
          -0.030838760890111117,
          -0.0075704476128914955,
          -0.009495262045179587,
          0.014860152421809547,
          0.005256371098430357,
          0.025916506819486762,
          -0.0089329124408348,
          0.0297828467302223,
          -0.04213959693643998,
          0.06572589815075225,
          -0.009326915058802232,
          -0.029783215968179746,
          -0.008952356243843274,
          0.013769178564463483,
          -0.03495273334866,
          0.026330572933209284,
          0.02690775433287723,
          0.011418656423089035,
          0.059288210132828825,
          0.005831910568993681,
          0.015720496661489003,
          -0.059111147722556066,
          -0.00708759939360748,
          0.0149958463922234,
          0.02236770012495188,
          -0.0092839217503215,
          0.01138771268936209,
          -0.039171165349794826,
          0.013331924296708986
         ]
        },
        {
         "mode": "lines",
         "name": "Zero Line",
         "type": "scatter",
         "x": [
          0.02970028924730038,
          0.35114754747401394,
          0.3642227520691162,
          -0.6616664007333766,
          -0.6659498881692802,
          -0.07387762705030596,
          -0.7550400152652912,
          -0.754023303228585,
          -0.3725214310610503,
          0.35440043845556307,
          -0.1939309640159075,
          -0.5256468673371697,
          0.40798389460800516,
          0.08661941263876094,
          -0.015312492593449568,
          -0.2351279890138458,
          -0.6679662893903888,
          -1.044973422462612,
          0.681040977571818,
          -0.9597312610891995,
          0.059301258242267396,
          0.27930902311128986,
          0.000004435858473291268,
          -0.22727778202463084,
          0.06089039007507151,
          -1.05103398828712,
          -0.03697020455584246,
          0.22886934717970767,
          -0.21708311167407424,
          -0.3129248969605232,
          -0.11063598264272195,
          0.3252131890089534,
          0.11143961088157314,
          -0.6489645585029025,
          -0.14832055358477803,
          0.17265834187443005,
          -0.9662553058466554,
          0.32286192892420357,
          0.31201382482908563,
          -0.1272433878686791,
          -0.9477471299727274,
          0.0591978766185112,
          -0.607340839196836,
          0.522173544757208,
          -0.19043103648090856,
          0.2754992758838457,
          0.3174639440096541,
          0.2871796143462784,
          -0.9737738186277964,
          0.32388745641654276,
          -0.6588463208124045,
          0.3747884809534602,
          0.5131060904488853,
          -0.2461266683197454,
          -0.005493491997237502,
          -0.8273720349171301,
          0.0780784284262928,
          0.3003575321851362,
          0.33978463874023596,
          -0.15876085220160852,
          -0.537193346129418,
          0.23845324207235177,
          -0.1813750668514764,
          0.3203257676147547,
          0.24110236069025381,
          0.09727629873259765,
          -1.0097938652689504,
          0.30374321573948787,
          -0.6765453493564624,
          -0.10358432966658743,
          0.30059408538699045,
          -0.01825493354476114,
          0.15588067456200813,
          -0.2467263727231473,
          0.4913266471514863,
          0.15789640207644784,
          -0.25839399256375156,
          -0.5235739972921345,
          0.06095389838325019,
          -0.9551731175323708,
          0.32481173977917804,
          -0.22317229570539698,
          0.6804446302854865,
          -0.017606551486425707,
          -0.7301691236004493,
          -0.1069948510058989,
          -0.9858980616010729,
          -0.8112412767217638,
          0.31767199262266693,
          -0.0638096119529188,
          -0.220065149720283,
          0.4657376587730065,
          0.4300462221054683,
          0.4955763488609994,
          -0.97549096046329,
          0.5175509556122055,
          0.272006129092185,
          -0.4790710620521215,
          0.012636857362600909,
          0.04563051613702005,
          -0.6872842655252283,
          0.07216250546109002,
          -1.0257128661422374,
          0.3046065185493713,
          -0.19285877784062488,
          0.1993812461525926,
          -0.9525825716615772,
          -0.2335307847316439,
          -0.00023090586040732698,
          -0.13314788109686362,
          -1.0142584647850523,
          -0.08967165561548476,
          0.049946866354649094,
          0.36903014381030014,
          0.082409678775898,
          -0.7438432060793332,
          0.03886277941260487,
          0.4200013043490369,
          -0.32249144820531417,
          0.44650460671638287,
          0.22057796582995243,
          -0.35750287039055145,
          -0.7351567360928648,
          0.26553361934669867,
          0.09265444345459033,
          0.43895065511820547,
          -0.3242497049000898,
          0.12879418417791103,
          -0.2876374227348479,
          -0.7887154229572872,
          0.6569175742476776,
          -0.964806342406235,
          -0.7743128046001597,
          0.3724861392869851,
          -0.10427266316712527,
          0.4843900791439579,
          0.12056538111570972,
          -0.2962587927528009,
          0.34415301925382585,
          0.35096303089202086,
          -0.8142174237589244,
          -0.047436543514322776,
          -0.1863445804248649,
          0.016222254691915322,
          -0.0784669255743929,
          -0.7572477383504803,
          0.10953402610728291,
          0.3702096947663462,
          0.027832685783510572,
          0.07991760047958317,
          0.04584802589205654,
          0.4605715709696289,
          -0.3036927886100838,
          0.27691113138811846,
          0.43062790817839675,
          0.0614597403457018,
          0.22906883408207002,
          -0.7269301771729597,
          -0.014765441370628452,
          -0.6061882052390699,
          -0.20387998600507684,
          0.5144546479288543,
          0.33066355512868234,
          0.5348094004989592,
          -0.9584519784435337,
          -0.939667521553301,
          0.03511708595697073,
          -0.851173089713744,
          -0.05761445265125441,
          0.014591520481575491,
          0.5465509642427191,
          0.010788915754734014,
          0.22332629058220077,
          0.3104344773297898,
          0.3520694966546847,
          -0.9137739142405594,
          -0.2969504685936413,
          0.27846000555854716,
          0.05768213397778647,
          -0.027362748361842777,
          0.1033593038252863,
          -0.7765227181332577,
          -0.7168376150150897,
          -0.40102626633036736,
          0.0740127372414458,
          0.30281907751947507,
          0.4316014940627972,
          0.2426988010363254,
          -0.09201222803349615,
          -0.9416385206834279,
          -0.16868920025457673,
          0.0606731065000522,
          -0.663515217180527,
          0.4245037190798418,
          -0.956915197077119,
          0.42985239478917,
          -0.2544449830390261,
          -0.6635456832230837,
          -0.6665216666493428,
          -0.15418876212253785,
          -0.899041680346971,
          -0.9508962927547511,
          0.25307396020239864,
          -0.3413976121568091,
          0.01785459214761053,
          -0.6833814087558809,
          -0.6400321673217872,
          0.04609006276973142,
          0.17765091576872358,
          0.3892765588207166,
          0.2602691375535302,
          0.2799718384835878,
          0.01721446795331642,
          0.24846388486045107,
          -1.0316854045346253,
          -0.33092511957469745,
          -0.9389970822805291,
          -0.8476004039635614,
          0.5374050082691142,
          0.2859957740371078,
          -0.17490333116014456,
          -0.8306478964130117,
          0.04538649556082397,
          -0.3006500453110009,
          0.7167043896281056,
          -0.2900091418212463,
          -0.8516193857171366,
          -0.7367522891463205,
          0.09510737436924803,
          -0.12871924492345693,
          0.5435167632592826,
          -0.556173053453048,
          -0.9730380640525773,
          0.28619031830852404,
          -0.0056493339563178,
          0.32356497024025277,
          0.5407959580280655,
          0.27091411243719776,
          0.31571952190893343,
          -0.6560822394081673,
          0.44423331389964776,
          0.43640165629055044,
          -0.690161341356389,
          -0.3768901342556605,
          -0.1420404140287062,
          0.2990573997579193,
          0.2929335484251327,
          -0.7800411639228324,
          -0.24837562171368816,
          0.11793720411671954,
          -0.8004786154742509,
          0.03562148603793862,
          0.2968663888943372,
          -1.0502591421408414,
          0.39244954405549376,
          0.22794367540489296,
          -0.15549410410551473,
          0.3554323355760328,
          -1.051522275248935,
          -0.029924017424254733,
          0.309635279236392,
          -0.9591373318262302,
          0.012889397703425023,
          -0.084739514441946,
          -0.14885098644377528,
          -0.015257542359712776,
          0.4761735600546147
         ],
         "y": [
          0,
          0,
          0,
          0,
          0,
          0,
          0,
          0,
          0,
          0,
          0,
          0,
          0,
          0,
          0,
          0,
          0,
          0,
          0,
          0,
          0,
          0,
          0,
          0,
          0,
          0,
          0,
          0,
          0,
          0,
          0,
          0,
          0,
          0,
          0,
          0,
          0,
          0,
          0,
          0,
          0,
          0,
          0,
          0,
          0,
          0,
          0,
          0,
          0,
          0,
          0,
          0,
          0,
          0,
          0,
          0,
          0,
          0,
          0,
          0,
          0,
          0,
          0,
          0,
          0,
          0,
          0,
          0,
          0,
          0,
          0,
          0,
          0,
          0,
          0,
          0,
          0,
          0,
          0,
          0,
          0,
          0,
          0,
          0,
          0,
          0,
          0,
          0,
          0,
          0,
          0,
          0,
          0,
          0,
          0,
          0,
          0,
          0,
          0,
          0,
          0,
          0,
          0,
          0,
          0,
          0,
          0,
          0,
          0,
          0,
          0,
          0,
          0,
          0,
          0,
          0,
          0,
          0,
          0,
          0,
          0,
          0,
          0,
          0,
          0,
          0,
          0,
          0,
          0,
          0,
          0,
          0,
          0,
          0,
          0,
          0,
          0,
          0,
          0,
          0,
          0,
          0,
          0,
          0,
          0,
          0,
          0,
          0,
          0,
          0,
          0,
          0,
          0,
          0,
          0,
          0,
          0,
          0,
          0,
          0,
          0,
          0,
          0,
          0,
          0,
          0,
          0,
          0,
          0,
          0,
          0,
          0,
          0,
          0,
          0,
          0,
          0,
          0,
          0,
          0,
          0,
          0,
          0,
          0,
          0,
          0,
          0,
          0,
          0,
          0,
          0,
          0,
          0,
          0,
          0,
          0,
          0,
          0,
          0,
          0,
          0,
          0,
          0,
          0,
          0,
          0,
          0,
          0,
          0,
          0,
          0,
          0,
          0,
          0,
          0,
          0,
          0,
          0,
          0,
          0,
          0,
          0,
          0,
          0,
          0,
          0,
          0,
          0,
          0,
          0,
          0,
          0,
          0,
          0,
          0,
          0,
          0,
          0,
          0,
          0,
          0,
          0,
          0,
          0,
          0,
          0,
          0,
          0,
          0,
          0,
          0,
          0,
          0,
          0,
          0,
          0,
          0,
          0,
          0,
          0,
          0,
          0,
          0,
          0,
          0,
          0,
          0
         ]
        }
       ],
       "layout": {
        "template": {
         "data": {
          "bar": [
           {
            "error_x": {
             "color": "#f2f5fa"
            },
            "error_y": {
             "color": "#f2f5fa"
            },
            "marker": {
             "line": {
              "color": "rgb(17,17,17)",
              "width": 0.5
             },
             "pattern": {
              "fillmode": "overlay",
              "size": 10,
              "solidity": 0.2
             }
            },
            "type": "bar"
           }
          ],
          "barpolar": [
           {
            "marker": {
             "line": {
              "color": "rgb(17,17,17)",
              "width": 0.5
             },
             "pattern": {
              "fillmode": "overlay",
              "size": 10,
              "solidity": 0.2
             }
            },
            "type": "barpolar"
           }
          ],
          "carpet": [
           {
            "aaxis": {
             "endlinecolor": "#A2B1C6",
             "gridcolor": "#506784",
             "linecolor": "#506784",
             "minorgridcolor": "#506784",
             "startlinecolor": "#A2B1C6"
            },
            "baxis": {
             "endlinecolor": "#A2B1C6",
             "gridcolor": "#506784",
             "linecolor": "#506784",
             "minorgridcolor": "#506784",
             "startlinecolor": "#A2B1C6"
            },
            "type": "carpet"
           }
          ],
          "choropleth": [
           {
            "colorbar": {
             "outlinewidth": 0,
             "ticks": ""
            },
            "type": "choropleth"
           }
          ],
          "contour": [
           {
            "colorbar": {
             "outlinewidth": 0,
             "ticks": ""
            },
            "colorscale": [
             [
              0,
              "#0d0887"
             ],
             [
              0.1111111111111111,
              "#46039f"
             ],
             [
              0.2222222222222222,
              "#7201a8"
             ],
             [
              0.3333333333333333,
              "#9c179e"
             ],
             [
              0.4444444444444444,
              "#bd3786"
             ],
             [
              0.5555555555555556,
              "#d8576b"
             ],
             [
              0.6666666666666666,
              "#ed7953"
             ],
             [
              0.7777777777777778,
              "#fb9f3a"
             ],
             [
              0.8888888888888888,
              "#fdca26"
             ],
             [
              1,
              "#f0f921"
             ]
            ],
            "type": "contour"
           }
          ],
          "contourcarpet": [
           {
            "colorbar": {
             "outlinewidth": 0,
             "ticks": ""
            },
            "type": "contourcarpet"
           }
          ],
          "heatmap": [
           {
            "colorbar": {
             "outlinewidth": 0,
             "ticks": ""
            },
            "colorscale": [
             [
              0,
              "#0d0887"
             ],
             [
              0.1111111111111111,
              "#46039f"
             ],
             [
              0.2222222222222222,
              "#7201a8"
             ],
             [
              0.3333333333333333,
              "#9c179e"
             ],
             [
              0.4444444444444444,
              "#bd3786"
             ],
             [
              0.5555555555555556,
              "#d8576b"
             ],
             [
              0.6666666666666666,
              "#ed7953"
             ],
             [
              0.7777777777777778,
              "#fb9f3a"
             ],
             [
              0.8888888888888888,
              "#fdca26"
             ],
             [
              1,
              "#f0f921"
             ]
            ],
            "type": "heatmap"
           }
          ],
          "heatmapgl": [
           {
            "colorbar": {
             "outlinewidth": 0,
             "ticks": ""
            },
            "colorscale": [
             [
              0,
              "#0d0887"
             ],
             [
              0.1111111111111111,
              "#46039f"
             ],
             [
              0.2222222222222222,
              "#7201a8"
             ],
             [
              0.3333333333333333,
              "#9c179e"
             ],
             [
              0.4444444444444444,
              "#bd3786"
             ],
             [
              0.5555555555555556,
              "#d8576b"
             ],
             [
              0.6666666666666666,
              "#ed7953"
             ],
             [
              0.7777777777777778,
              "#fb9f3a"
             ],
             [
              0.8888888888888888,
              "#fdca26"
             ],
             [
              1,
              "#f0f921"
             ]
            ],
            "type": "heatmapgl"
           }
          ],
          "histogram": [
           {
            "marker": {
             "pattern": {
              "fillmode": "overlay",
              "size": 10,
              "solidity": 0.2
             }
            },
            "type": "histogram"
           }
          ],
          "histogram2d": [
           {
            "colorbar": {
             "outlinewidth": 0,
             "ticks": ""
            },
            "colorscale": [
             [
              0,
              "#0d0887"
             ],
             [
              0.1111111111111111,
              "#46039f"
             ],
             [
              0.2222222222222222,
              "#7201a8"
             ],
             [
              0.3333333333333333,
              "#9c179e"
             ],
             [
              0.4444444444444444,
              "#bd3786"
             ],
             [
              0.5555555555555556,
              "#d8576b"
             ],
             [
              0.6666666666666666,
              "#ed7953"
             ],
             [
              0.7777777777777778,
              "#fb9f3a"
             ],
             [
              0.8888888888888888,
              "#fdca26"
             ],
             [
              1,
              "#f0f921"
             ]
            ],
            "type": "histogram2d"
           }
          ],
          "histogram2dcontour": [
           {
            "colorbar": {
             "outlinewidth": 0,
             "ticks": ""
            },
            "colorscale": [
             [
              0,
              "#0d0887"
             ],
             [
              0.1111111111111111,
              "#46039f"
             ],
             [
              0.2222222222222222,
              "#7201a8"
             ],
             [
              0.3333333333333333,
              "#9c179e"
             ],
             [
              0.4444444444444444,
              "#bd3786"
             ],
             [
              0.5555555555555556,
              "#d8576b"
             ],
             [
              0.6666666666666666,
              "#ed7953"
             ],
             [
              0.7777777777777778,
              "#fb9f3a"
             ],
             [
              0.8888888888888888,
              "#fdca26"
             ],
             [
              1,
              "#f0f921"
             ]
            ],
            "type": "histogram2dcontour"
           }
          ],
          "mesh3d": [
           {
            "colorbar": {
             "outlinewidth": 0,
             "ticks": ""
            },
            "type": "mesh3d"
           }
          ],
          "parcoords": [
           {
            "line": {
             "colorbar": {
              "outlinewidth": 0,
              "ticks": ""
             }
            },
            "type": "parcoords"
           }
          ],
          "pie": [
           {
            "automargin": true,
            "type": "pie"
           }
          ],
          "scatter": [
           {
            "marker": {
             "line": {
              "color": "#283442"
             }
            },
            "type": "scatter"
           }
          ],
          "scatter3d": [
           {
            "line": {
             "colorbar": {
              "outlinewidth": 0,
              "ticks": ""
             }
            },
            "marker": {
             "colorbar": {
              "outlinewidth": 0,
              "ticks": ""
             }
            },
            "type": "scatter3d"
           }
          ],
          "scattercarpet": [
           {
            "marker": {
             "colorbar": {
              "outlinewidth": 0,
              "ticks": ""
             }
            },
            "type": "scattercarpet"
           }
          ],
          "scattergeo": [
           {
            "marker": {
             "colorbar": {
              "outlinewidth": 0,
              "ticks": ""
             }
            },
            "type": "scattergeo"
           }
          ],
          "scattergl": [
           {
            "marker": {
             "line": {
              "color": "#283442"
             }
            },
            "type": "scattergl"
           }
          ],
          "scattermapbox": [
           {
            "marker": {
             "colorbar": {
              "outlinewidth": 0,
              "ticks": ""
             }
            },
            "type": "scattermapbox"
           }
          ],
          "scatterpolar": [
           {
            "marker": {
             "colorbar": {
              "outlinewidth": 0,
              "ticks": ""
             }
            },
            "type": "scatterpolar"
           }
          ],
          "scatterpolargl": [
           {
            "marker": {
             "colorbar": {
              "outlinewidth": 0,
              "ticks": ""
             }
            },
            "type": "scatterpolargl"
           }
          ],
          "scatterternary": [
           {
            "marker": {
             "colorbar": {
              "outlinewidth": 0,
              "ticks": ""
             }
            },
            "type": "scatterternary"
           }
          ],
          "surface": [
           {
            "colorbar": {
             "outlinewidth": 0,
             "ticks": ""
            },
            "colorscale": [
             [
              0,
              "#0d0887"
             ],
             [
              0.1111111111111111,
              "#46039f"
             ],
             [
              0.2222222222222222,
              "#7201a8"
             ],
             [
              0.3333333333333333,
              "#9c179e"
             ],
             [
              0.4444444444444444,
              "#bd3786"
             ],
             [
              0.5555555555555556,
              "#d8576b"
             ],
             [
              0.6666666666666666,
              "#ed7953"
             ],
             [
              0.7777777777777778,
              "#fb9f3a"
             ],
             [
              0.8888888888888888,
              "#fdca26"
             ],
             [
              1,
              "#f0f921"
             ]
            ],
            "type": "surface"
           }
          ],
          "table": [
           {
            "cells": {
             "fill": {
              "color": "#506784"
             },
             "line": {
              "color": "rgb(17,17,17)"
             }
            },
            "header": {
             "fill": {
              "color": "#2a3f5f"
             },
             "line": {
              "color": "rgb(17,17,17)"
             }
            },
            "type": "table"
           }
          ]
         },
         "layout": {
          "annotationdefaults": {
           "arrowcolor": "#f2f5fa",
           "arrowhead": 0,
           "arrowwidth": 1
          },
          "autotypenumbers": "strict",
          "coloraxis": {
           "colorbar": {
            "outlinewidth": 0,
            "ticks": ""
           }
          },
          "colorscale": {
           "diverging": [
            [
             0,
             "#8e0152"
            ],
            [
             0.1,
             "#c51b7d"
            ],
            [
             0.2,
             "#de77ae"
            ],
            [
             0.3,
             "#f1b6da"
            ],
            [
             0.4,
             "#fde0ef"
            ],
            [
             0.5,
             "#f7f7f7"
            ],
            [
             0.6,
             "#e6f5d0"
            ],
            [
             0.7,
             "#b8e186"
            ],
            [
             0.8,
             "#7fbc41"
            ],
            [
             0.9,
             "#4d9221"
            ],
            [
             1,
             "#276419"
            ]
           ],
           "sequential": [
            [
             0,
             "#0d0887"
            ],
            [
             0.1111111111111111,
             "#46039f"
            ],
            [
             0.2222222222222222,
             "#7201a8"
            ],
            [
             0.3333333333333333,
             "#9c179e"
            ],
            [
             0.4444444444444444,
             "#bd3786"
            ],
            [
             0.5555555555555556,
             "#d8576b"
            ],
            [
             0.6666666666666666,
             "#ed7953"
            ],
            [
             0.7777777777777778,
             "#fb9f3a"
            ],
            [
             0.8888888888888888,
             "#fdca26"
            ],
            [
             1,
             "#f0f921"
            ]
           ],
           "sequentialminus": [
            [
             0,
             "#0d0887"
            ],
            [
             0.1111111111111111,
             "#46039f"
            ],
            [
             0.2222222222222222,
             "#7201a8"
            ],
            [
             0.3333333333333333,
             "#9c179e"
            ],
            [
             0.4444444444444444,
             "#bd3786"
            ],
            [
             0.5555555555555556,
             "#d8576b"
            ],
            [
             0.6666666666666666,
             "#ed7953"
            ],
            [
             0.7777777777777778,
             "#fb9f3a"
            ],
            [
             0.8888888888888888,
             "#fdca26"
            ],
            [
             1,
             "#f0f921"
            ]
           ]
          },
          "colorway": [
           "#636efa",
           "#EF553B",
           "#00cc96",
           "#ab63fa",
           "#FFA15A",
           "#19d3f3",
           "#FF6692",
           "#B6E880",
           "#FF97FF",
           "#FECB52"
          ],
          "font": {
           "color": "#f2f5fa"
          },
          "geo": {
           "bgcolor": "rgb(17,17,17)",
           "lakecolor": "rgb(17,17,17)",
           "landcolor": "rgb(17,17,17)",
           "showlakes": true,
           "showland": true,
           "subunitcolor": "#506784"
          },
          "hoverlabel": {
           "align": "left"
          },
          "hovermode": "closest",
          "mapbox": {
           "style": "dark"
          },
          "paper_bgcolor": "rgb(17,17,17)",
          "plot_bgcolor": "rgb(17,17,17)",
          "polar": {
           "angularaxis": {
            "gridcolor": "#506784",
            "linecolor": "#506784",
            "ticks": ""
           },
           "bgcolor": "rgb(17,17,17)",
           "radialaxis": {
            "gridcolor": "#506784",
            "linecolor": "#506784",
            "ticks": ""
           }
          },
          "scene": {
           "xaxis": {
            "backgroundcolor": "rgb(17,17,17)",
            "gridcolor": "#506784",
            "gridwidth": 2,
            "linecolor": "#506784",
            "showbackground": true,
            "ticks": "",
            "zerolinecolor": "#C8D4E3"
           },
           "yaxis": {
            "backgroundcolor": "rgb(17,17,17)",
            "gridcolor": "#506784",
            "gridwidth": 2,
            "linecolor": "#506784",
            "showbackground": true,
            "ticks": "",
            "zerolinecolor": "#C8D4E3"
           },
           "zaxis": {
            "backgroundcolor": "rgb(17,17,17)",
            "gridcolor": "#506784",
            "gridwidth": 2,
            "linecolor": "#506784",
            "showbackground": true,
            "ticks": "",
            "zerolinecolor": "#C8D4E3"
           }
          },
          "shapedefaults": {
           "line": {
            "color": "#f2f5fa"
           }
          },
          "sliderdefaults": {
           "bgcolor": "#C8D4E3",
           "bordercolor": "rgb(17,17,17)",
           "borderwidth": 1,
           "tickwidth": 0
          },
          "ternary": {
           "aaxis": {
            "gridcolor": "#506784",
            "linecolor": "#506784",
            "ticks": ""
           },
           "baxis": {
            "gridcolor": "#506784",
            "linecolor": "#506784",
            "ticks": ""
           },
           "bgcolor": "rgb(17,17,17)",
           "caxis": {
            "gridcolor": "#506784",
            "linecolor": "#506784",
            "ticks": ""
           }
          },
          "title": {
           "x": 0.05
          },
          "updatemenudefaults": {
           "bgcolor": "#506784",
           "borderwidth": 0
          },
          "xaxis": {
           "automargin": true,
           "gridcolor": "#283442",
           "linecolor": "#506784",
           "ticks": "",
           "title": {
            "standoff": 15
           },
           "zerolinecolor": "#283442",
           "zerolinewidth": 2
          },
          "yaxis": {
           "automargin": true,
           "gridcolor": "#283442",
           "linecolor": "#506784",
           "ticks": "",
           "title": {
            "standoff": 15
           },
           "zerolinecolor": "#283442",
           "zerolinewidth": 2
          }
         }
        },
        "title": {
         "text": "Residuals vs Predicted Closing Prices"
        },
        "xaxis": {
         "title": {
          "text": "Predicted Closing Prices"
         }
        },
        "yaxis": {
         "title": {
          "text": "Residuals"
         }
        }
       }
      }
     },
     "metadata": {},
     "output_type": "display_data"
    }
   ],
   "source": [
    "# Calculate the residuals first.\n",
    "residuals = y_test - y_pred\n",
    "\n",
    "# Create the residuals plot\n",
    "fig = go.Figure()\n",
    "\n",
    "fig.add_trace(go.Scatter(x = y_pred, y = residuals,\n",
    "                mode = 'markers',\n",
    "                name = 'Residuals'))\n",
    "\n",
    "fig.add_trace(go.Scatter(x = y_pred, y = np.zeros_like(y_pred),\n",
    "                mode = 'lines',\n",
    "                name = 'Zero Line'))\n",
    "\n",
    "fig.update_layout(title = 'Residuals vs Predicted Closing Prices',\n",
    "                xaxis_title = 'Predicted Closing Prices',\n",
    "                yaxis_title = 'Residuals',\n",
    "                template = 'plotly_dark')\n",
    "\n",
    "fig.show()\n",
    "\n",
    "\n"
   ]
  },
  {
   "cell_type": "markdown",
   "metadata": {},
   "source": [
    "#### In the plot above, contrary to many other plots we create, we are wanting to see randomness.  We are looking for the data to be scattered around the zero line and randomly distributed, and that the spread is fairly symmetrical around the zero.  If there was clustering it could indicate bias in the predictions.  "
   ]
  },
  {
   "cell_type": "markdown",
   "metadata": {},
   "source": [
    "#### Since we have our residuals variable established let's make a distribution plot for it to get another look."
   ]
  },
  {
   "cell_type": "code",
   "execution_count": 38,
   "metadata": {},
   "outputs": [
    {
     "data": {
      "application/vnd.plotly.v1+json": {
       "config": {
        "plotlyServerURL": "https://plot.ly"
       },
       "data": [
        {
         "alignmentgroup": "True",
         "bingroup": "x",
         "histnorm": "probability density",
         "hovertemplate": "variable=Close<br>value=%{x}<br>probability density=%{y}<extra></extra>",
         "legendgroup": "Close",
         "marker": {
          "color": "#636efa",
          "pattern": {
           "shape": ""
          }
         },
         "name": "Close",
         "nbinsx": 30,
         "offsetgroup": "Close",
         "orientation": "v",
         "showlegend": true,
         "type": "histogram",
         "x": [
          0.0010880268685160219,
          0.02975818439766814,
          -0.03517461470324962,
          -0.015418320458309154,
          -0.011368730081630751,
          -0.003310295254621745,
          0.024720561255354823,
          -0.01713798666904487,
          0.029601870463235813,
          0.019126832286796402,
          0.04430853181588501,
          0.0032778356933628183,
          0.017400970640169933,
          -0.020081477119570243,
          0.015235594199624617,
          -0.007090007427962092,
          0.0008061772137546441,
          0.021096825974411093,
          0.04447425110309944,
          -0.0042076282297567325,
          -0.028928565307623496,
          -0.03558193429674855,
          -0.005589253204928591,
          -0.0018458641703602563,
          -0.06917715453484141,
          0.02344211540918839,
          0.005612468471203759,
          0.03491500911693926,
          0.03438715957676933,
          0.00793725497222414,
          0.004141789549673855,
          -0.005518238249380414,
          -0.009983460895630542,
          0.0025631671246334475,
          -0.024061013923525887,
          0.005908832022615357,
          -0.0030356239102069527,
          -0.0052454112190476465,
          -0.04240979255035965,
          0.01399408913092838,
          -0.012294637903842665,
          -0.0691474509515258,
          0.010406852240516629,
          -0.028926817478222122,
          -0.016349097586973643,
          -0.014624916152515821,
          0.005868383525857113,
          -0.013210825080993138,
          -0.012456610098837584,
          -0.00699847749628546,
          -0.005326014115828004,
          -0.0030278862360691994,
          0.015162876022853045,
          0.012534319699332497,
          -0.007781543507989097,
          0.01674588886996431,
          0.029924936326627502,
          -0.005915852256572929,
          0.0045402273657268455,
          0.024103391712233718,
          0.009030565397893597,
          0.013275980504687007,
          0.0115915803047634,
          -0.04084905939683897,
          -0.008806891536423112,
          -0.02460693020187915,
          0.012989267643297997,
          -0.006183806942160086,
          -0.014647011714887026,
          0.005300002639484325,
          -0.024235106037839238,
          0.01537222188589794,
          0.013021714273572571,
          -0.024486216764470936,
          -0.008784000748312759,
          0.016825662741211972,
          0.02791937281210327,
          0.002036370584949876,
          0.03967084666607011,
          -0.005050495396854426,
          0.0022618306839950475,
          0.018574540130794487,
          -0.014789129878881813,
          -0.0025274558152272933,
          -0.008801905125243592,
          0.012244034603010198,
          0.012372247190875263,
          0.011864865639084066,
          -0.02084012261023782,
          -0.0055840674672364005,
          0.008504556197530183,
          0.017948149596237806,
          0.029425452672836694,
          0.02978277961970005,
          -0.011414955041672448,
          0.008223796049666054,
          0.035114198614883685,
          -0.010510200542351078,
          0.027192888330060193,
          -0.02429909420494345,
          0.0010802547864742218,
          0.0064305637777087865,
          0.01628159345751068,
          -0.016815919539509505,
          -0.006231058781347221,
          0.0231455717880496,
          -0.020397628303515547,
          0.07091802701080599,
          -0.025722777423324773,
          -0.0049390652907243815,
          0.019636245652679518,
          -0.014536213545421131,
          0.007757689039699207,
          -0.040397788199883544,
          0.032348633047447506,
          0.00411871167438016,
          -0.04340830094471287,
          0.0030972369669963196,
          0.02706480441389497,
          0.010784768855780835,
          0.005690095038351661,
          0.050566667681059274,
          -0.007035966940454941,
          -0.02024774538491378,
          -0.015412427059587633,
          0.024781910494934445,
          -0.0350897464038919,
          -0.02588311519644862,
          -0.02358559770384161,
          -0.018143473980716363,
          0.06672711225054762,
          0.0021664935680741904,
          0.01076387289107772,
          0.0008332405776493856,
          0.0007921742168404688,
          0.006674348928886742,
          -0.01006780155292232,
          -0.03876265880851698,
          0.01960544170106765,
          -0.005806918423713059,
          -0.007424560193502239,
          -0.005537245199665024,
          -0.006821634776165708,
          -0.007361748234896721,
          0.0005516230588440002,
          -0.007392342961672127,
          0.028191391189207687,
          -0.03347133924170831,
          0.00607335920107023,
          0.006573577795711827,
          0.012999691468362863,
          0.001186427740817897,
          0.014007881543381395,
          0.030624819500122746,
          0.007435604848284039,
          0.002791871241346694,
          -0.005814635930806722,
          -0.012690371793130817,
          -0.005264699779300747,
          0.006656137321159661,
          0.021521797118720848,
          -0.012582272828474128,
          -0.034247308297425616,
          0.010087188982394468,
          -0.003876073721609141,
          0.005450684777914994,
          0.011467606806115568,
          0.03197330820818389,
          -0.009700635140206096,
          0.002790767645114208,
          -0.030233265338864723,
          0.012101291324586084,
          0.0031495025895508233,
          0.0036486883254290836,
          -0.024892060039787778,
          -0.005555929725110542,
          0.03545475581762725,
          -0.018520916915563346,
          -0.026997684013693873,
          0.019179850053796677,
          0.035405250711274205,
          -0.02228211196638663,
          0.007250875622018205,
          0.04249221378150775,
          -0.005604100971285497,
          0.02570941193921783,
          0.0004344521040796079,
          -0.003856117115517005,
          0.001833900920614251,
          -0.015675254254757687,
          -0.003172719346553471,
          -0.0037999560423262954,
          0.015528955186375315,
          -0.010134691736927826,
          -0.002139287348104202,
          -0.0057145576587896985,
          0.0026660676874772915,
          0.009090225006455288,
          0.02596595743465313,
          0.002072273686925752,
          0.049808089268391864,
          -0.02382461669737934,
          0.02713012822613814,
          -0.0025612442553525905,
          -0.020217655899300132,
          0.01811792422457803,
          -0.01320218967140796,
          -0.011456479000251915,
          -0.016854526847364076,
          -0.02125720703098749,
          0.01879178890893557,
          -0.005067778129956402,
          -0.019265774675557318,
          0.001914284872791716,
          0.015914807960645705,
          -0.005005596893466635,
          -0.025175624810513608,
          -0.01124611838775924,
          -0.01609887974552593,
          -0.002777822891530224,
          -0.0035058032079633428,
          -0.03409624117775023,
          0.0006785492950887317,
          0.02559234674399702,
          0.019099296741451832,
          0.00455911940787912,
          0.017922307688671313,
          -0.015339096007689235,
          -0.007888657309054428,
          0.009546404051903337,
          -0.013065497581403185,
          0.017799833571384927,
          0.006527099953530513,
          0.002431685637960146,
          -0.06644629257715201,
          0.006106681184511131,
          -0.013566287370674002,
          -0.006506242081653457,
          -0.030838760890111117,
          -0.0075704476128914955,
          -0.009495262045179587,
          0.014860152421809547,
          0.005256371098430357,
          0.025916506819486762,
          -0.0089329124408348,
          0.0297828467302223,
          -0.04213959693643998,
          0.06572589815075225,
          -0.009326915058802232,
          -0.029783215968179746,
          -0.008952356243843274,
          0.013769178564463483,
          -0.03495273334866,
          0.026330572933209284,
          0.02690775433287723,
          0.011418656423089035,
          0.059288210132828825,
          0.005831910568993681,
          0.015720496661489003,
          -0.059111147722556066,
          -0.00708759939360748,
          0.0149958463922234,
          0.02236770012495188,
          -0.0092839217503215,
          0.01138771268936209,
          -0.039171165349794826,
          0.013331924296708986
         ],
         "xaxis": "x",
         "yaxis": "y"
        },
        {
         "alignmentgroup": "True",
         "hovertemplate": "variable=Close<br>value=%{x}<extra></extra>",
         "legendgroup": "Close",
         "marker": {
          "color": "#636efa"
         },
         "name": "Close",
         "notched": true,
         "offsetgroup": "Close",
         "showlegend": false,
         "type": "box",
         "x": [
          0.0010880268685160219,
          0.02975818439766814,
          -0.03517461470324962,
          -0.015418320458309154,
          -0.011368730081630751,
          -0.003310295254621745,
          0.024720561255354823,
          -0.01713798666904487,
          0.029601870463235813,
          0.019126832286796402,
          0.04430853181588501,
          0.0032778356933628183,
          0.017400970640169933,
          -0.020081477119570243,
          0.015235594199624617,
          -0.007090007427962092,
          0.0008061772137546441,
          0.021096825974411093,
          0.04447425110309944,
          -0.0042076282297567325,
          -0.028928565307623496,
          -0.03558193429674855,
          -0.005589253204928591,
          -0.0018458641703602563,
          -0.06917715453484141,
          0.02344211540918839,
          0.005612468471203759,
          0.03491500911693926,
          0.03438715957676933,
          0.00793725497222414,
          0.004141789549673855,
          -0.005518238249380414,
          -0.009983460895630542,
          0.0025631671246334475,
          -0.024061013923525887,
          0.005908832022615357,
          -0.0030356239102069527,
          -0.0052454112190476465,
          -0.04240979255035965,
          0.01399408913092838,
          -0.012294637903842665,
          -0.0691474509515258,
          0.010406852240516629,
          -0.028926817478222122,
          -0.016349097586973643,
          -0.014624916152515821,
          0.005868383525857113,
          -0.013210825080993138,
          -0.012456610098837584,
          -0.00699847749628546,
          -0.005326014115828004,
          -0.0030278862360691994,
          0.015162876022853045,
          0.012534319699332497,
          -0.007781543507989097,
          0.01674588886996431,
          0.029924936326627502,
          -0.005915852256572929,
          0.0045402273657268455,
          0.024103391712233718,
          0.009030565397893597,
          0.013275980504687007,
          0.0115915803047634,
          -0.04084905939683897,
          -0.008806891536423112,
          -0.02460693020187915,
          0.012989267643297997,
          -0.006183806942160086,
          -0.014647011714887026,
          0.005300002639484325,
          -0.024235106037839238,
          0.01537222188589794,
          0.013021714273572571,
          -0.024486216764470936,
          -0.008784000748312759,
          0.016825662741211972,
          0.02791937281210327,
          0.002036370584949876,
          0.03967084666607011,
          -0.005050495396854426,
          0.0022618306839950475,
          0.018574540130794487,
          -0.014789129878881813,
          -0.0025274558152272933,
          -0.008801905125243592,
          0.012244034603010198,
          0.012372247190875263,
          0.011864865639084066,
          -0.02084012261023782,
          -0.0055840674672364005,
          0.008504556197530183,
          0.017948149596237806,
          0.029425452672836694,
          0.02978277961970005,
          -0.011414955041672448,
          0.008223796049666054,
          0.035114198614883685,
          -0.010510200542351078,
          0.027192888330060193,
          -0.02429909420494345,
          0.0010802547864742218,
          0.0064305637777087865,
          0.01628159345751068,
          -0.016815919539509505,
          -0.006231058781347221,
          0.0231455717880496,
          -0.020397628303515547,
          0.07091802701080599,
          -0.025722777423324773,
          -0.0049390652907243815,
          0.019636245652679518,
          -0.014536213545421131,
          0.007757689039699207,
          -0.040397788199883544,
          0.032348633047447506,
          0.00411871167438016,
          -0.04340830094471287,
          0.0030972369669963196,
          0.02706480441389497,
          0.010784768855780835,
          0.005690095038351661,
          0.050566667681059274,
          -0.007035966940454941,
          -0.02024774538491378,
          -0.015412427059587633,
          0.024781910494934445,
          -0.0350897464038919,
          -0.02588311519644862,
          -0.02358559770384161,
          -0.018143473980716363,
          0.06672711225054762,
          0.0021664935680741904,
          0.01076387289107772,
          0.0008332405776493856,
          0.0007921742168404688,
          0.006674348928886742,
          -0.01006780155292232,
          -0.03876265880851698,
          0.01960544170106765,
          -0.005806918423713059,
          -0.007424560193502239,
          -0.005537245199665024,
          -0.006821634776165708,
          -0.007361748234896721,
          0.0005516230588440002,
          -0.007392342961672127,
          0.028191391189207687,
          -0.03347133924170831,
          0.00607335920107023,
          0.006573577795711827,
          0.012999691468362863,
          0.001186427740817897,
          0.014007881543381395,
          0.030624819500122746,
          0.007435604848284039,
          0.002791871241346694,
          -0.005814635930806722,
          -0.012690371793130817,
          -0.005264699779300747,
          0.006656137321159661,
          0.021521797118720848,
          -0.012582272828474128,
          -0.034247308297425616,
          0.010087188982394468,
          -0.003876073721609141,
          0.005450684777914994,
          0.011467606806115568,
          0.03197330820818389,
          -0.009700635140206096,
          0.002790767645114208,
          -0.030233265338864723,
          0.012101291324586084,
          0.0031495025895508233,
          0.0036486883254290836,
          -0.024892060039787778,
          -0.005555929725110542,
          0.03545475581762725,
          -0.018520916915563346,
          -0.026997684013693873,
          0.019179850053796677,
          0.035405250711274205,
          -0.02228211196638663,
          0.007250875622018205,
          0.04249221378150775,
          -0.005604100971285497,
          0.02570941193921783,
          0.0004344521040796079,
          -0.003856117115517005,
          0.001833900920614251,
          -0.015675254254757687,
          -0.003172719346553471,
          -0.0037999560423262954,
          0.015528955186375315,
          -0.010134691736927826,
          -0.002139287348104202,
          -0.0057145576587896985,
          0.0026660676874772915,
          0.009090225006455288,
          0.02596595743465313,
          0.002072273686925752,
          0.049808089268391864,
          -0.02382461669737934,
          0.02713012822613814,
          -0.0025612442553525905,
          -0.020217655899300132,
          0.01811792422457803,
          -0.01320218967140796,
          -0.011456479000251915,
          -0.016854526847364076,
          -0.02125720703098749,
          0.01879178890893557,
          -0.005067778129956402,
          -0.019265774675557318,
          0.001914284872791716,
          0.015914807960645705,
          -0.005005596893466635,
          -0.025175624810513608,
          -0.01124611838775924,
          -0.01609887974552593,
          -0.002777822891530224,
          -0.0035058032079633428,
          -0.03409624117775023,
          0.0006785492950887317,
          0.02559234674399702,
          0.019099296741451832,
          0.00455911940787912,
          0.017922307688671313,
          -0.015339096007689235,
          -0.007888657309054428,
          0.009546404051903337,
          -0.013065497581403185,
          0.017799833571384927,
          0.006527099953530513,
          0.002431685637960146,
          -0.06644629257715201,
          0.006106681184511131,
          -0.013566287370674002,
          -0.006506242081653457,
          -0.030838760890111117,
          -0.0075704476128914955,
          -0.009495262045179587,
          0.014860152421809547,
          0.005256371098430357,
          0.025916506819486762,
          -0.0089329124408348,
          0.0297828467302223,
          -0.04213959693643998,
          0.06572589815075225,
          -0.009326915058802232,
          -0.029783215968179746,
          -0.008952356243843274,
          0.013769178564463483,
          -0.03495273334866,
          0.026330572933209284,
          0.02690775433287723,
          0.011418656423089035,
          0.059288210132828825,
          0.005831910568993681,
          0.015720496661489003,
          -0.059111147722556066,
          -0.00708759939360748,
          0.0149958463922234,
          0.02236770012495188,
          -0.0092839217503215,
          0.01138771268936209,
          -0.039171165349794826,
          0.013331924296708986
         ],
         "xaxis": "x2",
         "yaxis": "y2"
        }
       ],
       "layout": {
        "barmode": "relative",
        "legend": {
         "title": {
          "text": "variable"
         },
         "tracegroupgap": 0
        },
        "margin": {
         "t": 60
        },
        "template": {
         "data": {
          "bar": [
           {
            "error_x": {
             "color": "#f2f5fa"
            },
            "error_y": {
             "color": "#f2f5fa"
            },
            "marker": {
             "line": {
              "color": "rgb(17,17,17)",
              "width": 0.5
             },
             "pattern": {
              "fillmode": "overlay",
              "size": 10,
              "solidity": 0.2
             }
            },
            "type": "bar"
           }
          ],
          "barpolar": [
           {
            "marker": {
             "line": {
              "color": "rgb(17,17,17)",
              "width": 0.5
             },
             "pattern": {
              "fillmode": "overlay",
              "size": 10,
              "solidity": 0.2
             }
            },
            "type": "barpolar"
           }
          ],
          "carpet": [
           {
            "aaxis": {
             "endlinecolor": "#A2B1C6",
             "gridcolor": "#506784",
             "linecolor": "#506784",
             "minorgridcolor": "#506784",
             "startlinecolor": "#A2B1C6"
            },
            "baxis": {
             "endlinecolor": "#A2B1C6",
             "gridcolor": "#506784",
             "linecolor": "#506784",
             "minorgridcolor": "#506784",
             "startlinecolor": "#A2B1C6"
            },
            "type": "carpet"
           }
          ],
          "choropleth": [
           {
            "colorbar": {
             "outlinewidth": 0,
             "ticks": ""
            },
            "type": "choropleth"
           }
          ],
          "contour": [
           {
            "colorbar": {
             "outlinewidth": 0,
             "ticks": ""
            },
            "colorscale": [
             [
              0,
              "#0d0887"
             ],
             [
              0.1111111111111111,
              "#46039f"
             ],
             [
              0.2222222222222222,
              "#7201a8"
             ],
             [
              0.3333333333333333,
              "#9c179e"
             ],
             [
              0.4444444444444444,
              "#bd3786"
             ],
             [
              0.5555555555555556,
              "#d8576b"
             ],
             [
              0.6666666666666666,
              "#ed7953"
             ],
             [
              0.7777777777777778,
              "#fb9f3a"
             ],
             [
              0.8888888888888888,
              "#fdca26"
             ],
             [
              1,
              "#f0f921"
             ]
            ],
            "type": "contour"
           }
          ],
          "contourcarpet": [
           {
            "colorbar": {
             "outlinewidth": 0,
             "ticks": ""
            },
            "type": "contourcarpet"
           }
          ],
          "heatmap": [
           {
            "colorbar": {
             "outlinewidth": 0,
             "ticks": ""
            },
            "colorscale": [
             [
              0,
              "#0d0887"
             ],
             [
              0.1111111111111111,
              "#46039f"
             ],
             [
              0.2222222222222222,
              "#7201a8"
             ],
             [
              0.3333333333333333,
              "#9c179e"
             ],
             [
              0.4444444444444444,
              "#bd3786"
             ],
             [
              0.5555555555555556,
              "#d8576b"
             ],
             [
              0.6666666666666666,
              "#ed7953"
             ],
             [
              0.7777777777777778,
              "#fb9f3a"
             ],
             [
              0.8888888888888888,
              "#fdca26"
             ],
             [
              1,
              "#f0f921"
             ]
            ],
            "type": "heatmap"
           }
          ],
          "heatmapgl": [
           {
            "colorbar": {
             "outlinewidth": 0,
             "ticks": ""
            },
            "colorscale": [
             [
              0,
              "#0d0887"
             ],
             [
              0.1111111111111111,
              "#46039f"
             ],
             [
              0.2222222222222222,
              "#7201a8"
             ],
             [
              0.3333333333333333,
              "#9c179e"
             ],
             [
              0.4444444444444444,
              "#bd3786"
             ],
             [
              0.5555555555555556,
              "#d8576b"
             ],
             [
              0.6666666666666666,
              "#ed7953"
             ],
             [
              0.7777777777777778,
              "#fb9f3a"
             ],
             [
              0.8888888888888888,
              "#fdca26"
             ],
             [
              1,
              "#f0f921"
             ]
            ],
            "type": "heatmapgl"
           }
          ],
          "histogram": [
           {
            "marker": {
             "pattern": {
              "fillmode": "overlay",
              "size": 10,
              "solidity": 0.2
             }
            },
            "type": "histogram"
           }
          ],
          "histogram2d": [
           {
            "colorbar": {
             "outlinewidth": 0,
             "ticks": ""
            },
            "colorscale": [
             [
              0,
              "#0d0887"
             ],
             [
              0.1111111111111111,
              "#46039f"
             ],
             [
              0.2222222222222222,
              "#7201a8"
             ],
             [
              0.3333333333333333,
              "#9c179e"
             ],
             [
              0.4444444444444444,
              "#bd3786"
             ],
             [
              0.5555555555555556,
              "#d8576b"
             ],
             [
              0.6666666666666666,
              "#ed7953"
             ],
             [
              0.7777777777777778,
              "#fb9f3a"
             ],
             [
              0.8888888888888888,
              "#fdca26"
             ],
             [
              1,
              "#f0f921"
             ]
            ],
            "type": "histogram2d"
           }
          ],
          "histogram2dcontour": [
           {
            "colorbar": {
             "outlinewidth": 0,
             "ticks": ""
            },
            "colorscale": [
             [
              0,
              "#0d0887"
             ],
             [
              0.1111111111111111,
              "#46039f"
             ],
             [
              0.2222222222222222,
              "#7201a8"
             ],
             [
              0.3333333333333333,
              "#9c179e"
             ],
             [
              0.4444444444444444,
              "#bd3786"
             ],
             [
              0.5555555555555556,
              "#d8576b"
             ],
             [
              0.6666666666666666,
              "#ed7953"
             ],
             [
              0.7777777777777778,
              "#fb9f3a"
             ],
             [
              0.8888888888888888,
              "#fdca26"
             ],
             [
              1,
              "#f0f921"
             ]
            ],
            "type": "histogram2dcontour"
           }
          ],
          "mesh3d": [
           {
            "colorbar": {
             "outlinewidth": 0,
             "ticks": ""
            },
            "type": "mesh3d"
           }
          ],
          "parcoords": [
           {
            "line": {
             "colorbar": {
              "outlinewidth": 0,
              "ticks": ""
             }
            },
            "type": "parcoords"
           }
          ],
          "pie": [
           {
            "automargin": true,
            "type": "pie"
           }
          ],
          "scatter": [
           {
            "marker": {
             "line": {
              "color": "#283442"
             }
            },
            "type": "scatter"
           }
          ],
          "scatter3d": [
           {
            "line": {
             "colorbar": {
              "outlinewidth": 0,
              "ticks": ""
             }
            },
            "marker": {
             "colorbar": {
              "outlinewidth": 0,
              "ticks": ""
             }
            },
            "type": "scatter3d"
           }
          ],
          "scattercarpet": [
           {
            "marker": {
             "colorbar": {
              "outlinewidth": 0,
              "ticks": ""
             }
            },
            "type": "scattercarpet"
           }
          ],
          "scattergeo": [
           {
            "marker": {
             "colorbar": {
              "outlinewidth": 0,
              "ticks": ""
             }
            },
            "type": "scattergeo"
           }
          ],
          "scattergl": [
           {
            "marker": {
             "line": {
              "color": "#283442"
             }
            },
            "type": "scattergl"
           }
          ],
          "scattermapbox": [
           {
            "marker": {
             "colorbar": {
              "outlinewidth": 0,
              "ticks": ""
             }
            },
            "type": "scattermapbox"
           }
          ],
          "scatterpolar": [
           {
            "marker": {
             "colorbar": {
              "outlinewidth": 0,
              "ticks": ""
             }
            },
            "type": "scatterpolar"
           }
          ],
          "scatterpolargl": [
           {
            "marker": {
             "colorbar": {
              "outlinewidth": 0,
              "ticks": ""
             }
            },
            "type": "scatterpolargl"
           }
          ],
          "scatterternary": [
           {
            "marker": {
             "colorbar": {
              "outlinewidth": 0,
              "ticks": ""
             }
            },
            "type": "scatterternary"
           }
          ],
          "surface": [
           {
            "colorbar": {
             "outlinewidth": 0,
             "ticks": ""
            },
            "colorscale": [
             [
              0,
              "#0d0887"
             ],
             [
              0.1111111111111111,
              "#46039f"
             ],
             [
              0.2222222222222222,
              "#7201a8"
             ],
             [
              0.3333333333333333,
              "#9c179e"
             ],
             [
              0.4444444444444444,
              "#bd3786"
             ],
             [
              0.5555555555555556,
              "#d8576b"
             ],
             [
              0.6666666666666666,
              "#ed7953"
             ],
             [
              0.7777777777777778,
              "#fb9f3a"
             ],
             [
              0.8888888888888888,
              "#fdca26"
             ],
             [
              1,
              "#f0f921"
             ]
            ],
            "type": "surface"
           }
          ],
          "table": [
           {
            "cells": {
             "fill": {
              "color": "#506784"
             },
             "line": {
              "color": "rgb(17,17,17)"
             }
            },
            "header": {
             "fill": {
              "color": "#2a3f5f"
             },
             "line": {
              "color": "rgb(17,17,17)"
             }
            },
            "type": "table"
           }
          ]
         },
         "layout": {
          "annotationdefaults": {
           "arrowcolor": "#f2f5fa",
           "arrowhead": 0,
           "arrowwidth": 1
          },
          "autotypenumbers": "strict",
          "coloraxis": {
           "colorbar": {
            "outlinewidth": 0,
            "ticks": ""
           }
          },
          "colorscale": {
           "diverging": [
            [
             0,
             "#8e0152"
            ],
            [
             0.1,
             "#c51b7d"
            ],
            [
             0.2,
             "#de77ae"
            ],
            [
             0.3,
             "#f1b6da"
            ],
            [
             0.4,
             "#fde0ef"
            ],
            [
             0.5,
             "#f7f7f7"
            ],
            [
             0.6,
             "#e6f5d0"
            ],
            [
             0.7,
             "#b8e186"
            ],
            [
             0.8,
             "#7fbc41"
            ],
            [
             0.9,
             "#4d9221"
            ],
            [
             1,
             "#276419"
            ]
           ],
           "sequential": [
            [
             0,
             "#0d0887"
            ],
            [
             0.1111111111111111,
             "#46039f"
            ],
            [
             0.2222222222222222,
             "#7201a8"
            ],
            [
             0.3333333333333333,
             "#9c179e"
            ],
            [
             0.4444444444444444,
             "#bd3786"
            ],
            [
             0.5555555555555556,
             "#d8576b"
            ],
            [
             0.6666666666666666,
             "#ed7953"
            ],
            [
             0.7777777777777778,
             "#fb9f3a"
            ],
            [
             0.8888888888888888,
             "#fdca26"
            ],
            [
             1,
             "#f0f921"
            ]
           ],
           "sequentialminus": [
            [
             0,
             "#0d0887"
            ],
            [
             0.1111111111111111,
             "#46039f"
            ],
            [
             0.2222222222222222,
             "#7201a8"
            ],
            [
             0.3333333333333333,
             "#9c179e"
            ],
            [
             0.4444444444444444,
             "#bd3786"
            ],
            [
             0.5555555555555556,
             "#d8576b"
            ],
            [
             0.6666666666666666,
             "#ed7953"
            ],
            [
             0.7777777777777778,
             "#fb9f3a"
            ],
            [
             0.8888888888888888,
             "#fdca26"
            ],
            [
             1,
             "#f0f921"
            ]
           ]
          },
          "colorway": [
           "#636efa",
           "#EF553B",
           "#00cc96",
           "#ab63fa",
           "#FFA15A",
           "#19d3f3",
           "#FF6692",
           "#B6E880",
           "#FF97FF",
           "#FECB52"
          ],
          "font": {
           "color": "#f2f5fa"
          },
          "geo": {
           "bgcolor": "rgb(17,17,17)",
           "lakecolor": "rgb(17,17,17)",
           "landcolor": "rgb(17,17,17)",
           "showlakes": true,
           "showland": true,
           "subunitcolor": "#506784"
          },
          "hoverlabel": {
           "align": "left"
          },
          "hovermode": "closest",
          "mapbox": {
           "style": "dark"
          },
          "paper_bgcolor": "rgb(17,17,17)",
          "plot_bgcolor": "rgb(17,17,17)",
          "polar": {
           "angularaxis": {
            "gridcolor": "#506784",
            "linecolor": "#506784",
            "ticks": ""
           },
           "bgcolor": "rgb(17,17,17)",
           "radialaxis": {
            "gridcolor": "#506784",
            "linecolor": "#506784",
            "ticks": ""
           }
          },
          "scene": {
           "xaxis": {
            "backgroundcolor": "rgb(17,17,17)",
            "gridcolor": "#506784",
            "gridwidth": 2,
            "linecolor": "#506784",
            "showbackground": true,
            "ticks": "",
            "zerolinecolor": "#C8D4E3"
           },
           "yaxis": {
            "backgroundcolor": "rgb(17,17,17)",
            "gridcolor": "#506784",
            "gridwidth": 2,
            "linecolor": "#506784",
            "showbackground": true,
            "ticks": "",
            "zerolinecolor": "#C8D4E3"
           },
           "zaxis": {
            "backgroundcolor": "rgb(17,17,17)",
            "gridcolor": "#506784",
            "gridwidth": 2,
            "linecolor": "#506784",
            "showbackground": true,
            "ticks": "",
            "zerolinecolor": "#C8D4E3"
           }
          },
          "shapedefaults": {
           "line": {
            "color": "#f2f5fa"
           }
          },
          "sliderdefaults": {
           "bgcolor": "#C8D4E3",
           "bordercolor": "rgb(17,17,17)",
           "borderwidth": 1,
           "tickwidth": 0
          },
          "ternary": {
           "aaxis": {
            "gridcolor": "#506784",
            "linecolor": "#506784",
            "ticks": ""
           },
           "baxis": {
            "gridcolor": "#506784",
            "linecolor": "#506784",
            "ticks": ""
           },
           "bgcolor": "rgb(17,17,17)",
           "caxis": {
            "gridcolor": "#506784",
            "linecolor": "#506784",
            "ticks": ""
           }
          },
          "title": {
           "x": 0.05
          },
          "updatemenudefaults": {
           "bgcolor": "#506784",
           "borderwidth": 0
          },
          "xaxis": {
           "automargin": true,
           "gridcolor": "#283442",
           "linecolor": "#506784",
           "ticks": "",
           "title": {
            "standoff": 15
           },
           "zerolinecolor": "#283442",
           "zerolinewidth": 2
          },
          "yaxis": {
           "automargin": true,
           "gridcolor": "#283442",
           "linecolor": "#506784",
           "ticks": "",
           "title": {
            "standoff": 15
           },
           "zerolinecolor": "#283442",
           "zerolinewidth": 2
          }
         }
        },
        "title": {
         "text": "Distribution of Residuals"
        },
        "xaxis": {
         "anchor": "y",
         "domain": [
          0,
          1
         ],
         "title": {
          "text": "Residuals"
         }
        },
        "xaxis2": {
         "anchor": "y2",
         "domain": [
          0,
          1
         ],
         "matches": "x",
         "showgrid": true,
         "showticklabels": false
        },
        "yaxis": {
         "anchor": "x",
         "domain": [
          0,
          0.7326
         ],
         "title": {
          "text": "Density"
         }
        },
        "yaxis2": {
         "anchor": "x2",
         "domain": [
          0.7426,
          1
         ],
         "matches": "y2",
         "showgrid": false,
         "showline": false,
         "showticklabels": false,
         "ticks": ""
        }
       }
      }
     },
     "metadata": {},
     "output_type": "display_data"
    }
   ],
   "source": [
    "fig = px.histogram(residuals, nbins = 30, marginal = 'box', histnorm = 'probability density')\n",
    "\n",
    "fig.update_layout(title = 'AAPL Distribution of Residuals',\n",
    "                xaxis_title = 'Residuals',\n",
    "                yaxis_title = 'Density',\n",
    "                template = 'plotly_dark')\n",
    "\n",
    "fig.show()"
   ]
  },
  {
   "cell_type": "markdown",
   "metadata": {},
   "source": [
    "#### Overall this is a good distribution.  The distribution is centered around 0, and suggests that on average the model's predictions are unbiased.  The histogram appears somewhat bell-shaped though it is definitely not normal.  Again the highest concentration of residuals are very close to the 0 marker, indicating that most predictions are very accurate.  Speaking to the boxplot at the top, is shows a few outliers on each end.  The majority of the data points within the IQR (Interquartile Range) suggest that most predictions are fairly close to the actual values.  If anything is to be improved I can look at the outliers here and remove them so as the model isn't hindered by their bias."
   ]
  },
  {
   "cell_type": "markdown",
   "metadata": {},
   "source": [
    "## Summary of the Analysis on the AAPL Linear Regression Model\n",
    "\n",
    "#### In this notebook we developed a baseline Linear Regression model to predict the closing prices of AAPL stock.  We implemented several of our previous preprocessing steps, including feature creation and scaling, followed by model creation and evaluation.\n",
    "\n",
    "### Key Insights\n",
    "\n",
    "#### - The model performed well as a baseline, with a Mean Absolute Error (MAE) of approximately 2.4 cents.\n",
    "#### - The residuals analysis indicated that the model's errors are unbiased and normally distributed, suggesting that the model is generally reliable.\n",
    "#### - The distribution of residuals showed no significant skewness or outliers, further confirming the model's robustness for a baseline.\n",
    "\n",
    "### Potential Next Steps\n",
    "\n",
    "#### - In the next phase, we will explore more advanced models such as Decision Trees, GRU, and Transformer models to improve prediction accuracy.\n",
    "#### - We will also consider incorporating additional data and refining features based on the insights gained from this baseline model."
   ]
  },
  {
   "cell_type": "code",
   "execution_count": null,
   "metadata": {},
   "outputs": [],
   "source": []
  }
 ],
 "metadata": {
  "kernelspec": {
   "display_name": "DL-Strat",
   "language": "python",
   "name": "python3"
  },
  "language_info": {
   "codemirror_mode": {
    "name": "ipython",
    "version": 3
   },
   "file_extension": ".py",
   "mimetype": "text/x-python",
   "name": "python",
   "nbconvert_exporter": "python",
   "pygments_lexer": "ipython3",
   "version": "3.11.0"
  }
 },
 "nbformat": 4,
 "nbformat_minor": 2
}
