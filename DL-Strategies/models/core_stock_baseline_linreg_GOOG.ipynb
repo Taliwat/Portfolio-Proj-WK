{
 "cells": [
  {
   "cell_type": "markdown",
   "metadata": {},
   "source": [
    "# **Core Stock Baseline Modeling - Linear Regression for GOOG Ticker**\n",
    "## In this notebook we will examine only the Google (Class A) stock for the periods we have selected for this project (01-01-2019 through 06-30-2024), and perform a Linear Regression model using the preprocessed dataframe that we created in our other notebook.  We will look to get an idea of how well our data is predicting with our new features that we created."
   ]
  },
  {
   "cell_type": "markdown",
   "metadata": {},
   "source": [
    "#### As usual let's start by bringing in our important libraries and logic for needing to complete this notebook."
   ]
  },
  {
   "cell_type": "code",
   "execution_count": 1,
   "metadata": {},
   "outputs": [],
   "source": [
    "import sys\n",
    "import os\n",
    "\n",
    "import numpy as np\n",
    "import pandas as pd\n",
    "from sklearn.model_selection import train_test_split\n",
    "from sklearn.linear_model import LinearRegression\n",
    "from sklearn.metrics import mean_squared_error, mean_absolute_error\n",
    "import plotly.graph_objects as go\n",
    "import plotly.express as px\n",
    "from sklearn.model_selection import cross_val_score\n",
    "\n",
    "project_root = os.path.abspath(os.path.join(os.getcwd(), '..'))\n",
    "if project_root not in sys.path:\n",
    "    sys.path.append(project_root)\n",
    "\n",
    "\n"
   ]
  },
  {
   "cell_type": "markdown",
   "metadata": {},
   "source": [
    "#### Now let's read in our data that we will use for this notebook."
   ]
  },
  {
   "cell_type": "code",
   "execution_count": 2,
   "metadata": {},
   "outputs": [
    {
     "data": {
      "text/html": [
       "<div>\n",
       "<style scoped>\n",
       "    .dataframe tbody tr th:only-of-type {\n",
       "        vertical-align: middle;\n",
       "    }\n",
       "\n",
       "    .dataframe tbody tr th {\n",
       "        vertical-align: top;\n",
       "    }\n",
       "\n",
       "    .dataframe thead th {\n",
       "        text-align: right;\n",
       "    }\n",
       "</style>\n",
       "<table border=\"1\" class=\"dataframe\">\n",
       "  <thead>\n",
       "    <tr style=\"text-align: right;\">\n",
       "      <th></th>\n",
       "      <th>Close</th>\n",
       "      <th>Volume</th>\n",
       "      <th>Open</th>\n",
       "      <th>High</th>\n",
       "      <th>Low</th>\n",
       "      <th>SMA_core</th>\n",
       "      <th>EMA_core</th>\n",
       "      <th>RSI_core</th>\n",
       "      <th>RMA_core</th>\n",
       "      <th>Close_Lag_1</th>\n",
       "      <th>...</th>\n",
       "      <th>EMA_Lag_Std_1_3</th>\n",
       "      <th>SMA_Lag_Avg_1_3</th>\n",
       "      <th>SMA_Lag_Std_1_3</th>\n",
       "      <th>RMA_Lag_Avg_1_3</th>\n",
       "      <th>RMA_Lag_Std_1_3</th>\n",
       "      <th>Close_Lag_Avg_1_3</th>\n",
       "      <th>Close_Lag_Std_1_3</th>\n",
       "      <th>Diff_Close_EMA_core</th>\n",
       "      <th>Ratio_Close_EMA_core</th>\n",
       "      <th>Ticker</th>\n",
       "    </tr>\n",
       "    <tr>\n",
       "      <th>Date</th>\n",
       "      <th></th>\n",
       "      <th></th>\n",
       "      <th></th>\n",
       "      <th></th>\n",
       "      <th></th>\n",
       "      <th></th>\n",
       "      <th></th>\n",
       "      <th></th>\n",
       "      <th></th>\n",
       "      <th></th>\n",
       "      <th></th>\n",
       "      <th></th>\n",
       "      <th></th>\n",
       "      <th></th>\n",
       "      <th></th>\n",
       "      <th></th>\n",
       "      <th></th>\n",
       "      <th></th>\n",
       "      <th></th>\n",
       "      <th></th>\n",
       "      <th></th>\n",
       "    </tr>\n",
       "  </thead>\n",
       "  <tbody>\n",
       "    <tr>\n",
       "      <th>2019-03-14</th>\n",
       "      <td>-1.013302</td>\n",
       "      <td>-0.074793</td>\n",
       "      <td>-1.012345</td>\n",
       "      <td>-1.018762</td>\n",
       "      <td>-1.009483</td>\n",
       "      <td>-1.085271</td>\n",
       "      <td>-1.049825</td>\n",
       "      <td>1.249108</td>\n",
       "      <td>0.801504</td>\n",
       "      <td>-1.013494</td>\n",
       "      <td>...</td>\n",
       "      <td>-0.081211</td>\n",
       "      <td>-1.086158</td>\n",
       "      <td>-0.085461</td>\n",
       "      <td>0.817706</td>\n",
       "      <td>-0.625300</td>\n",
       "      <td>-1.014627</td>\n",
       "      <td>-0.348813</td>\n",
       "      <td>0.037931</td>\n",
       "      <td>0.801504</td>\n",
       "      <td>AAPL</td>\n",
       "    </tr>\n",
       "    <tr>\n",
       "      <th>2019-03-15</th>\n",
       "      <td>-1.007093</td>\n",
       "      <td>0.293158</td>\n",
       "      <td>-1.009876</td>\n",
       "      <td>-1.010456</td>\n",
       "      <td>-1.006383</td>\n",
       "      <td>-1.083783</td>\n",
       "      <td>-1.048013</td>\n",
       "      <td>1.325622</td>\n",
       "      <td>0.931542</td>\n",
       "      <td>-1.013494</td>\n",
       "      <td>...</td>\n",
       "      <td>-0.081211</td>\n",
       "      <td>-1.086158</td>\n",
       "      <td>-0.085461</td>\n",
       "      <td>0.817706</td>\n",
       "      <td>-0.625300</td>\n",
       "      <td>-1.014627</td>\n",
       "      <td>-0.348813</td>\n",
       "      <td>0.074966</td>\n",
       "      <td>0.931542</td>\n",
       "      <td>AAPL</td>\n",
       "    </tr>\n",
       "    <tr>\n",
       "      <th>2019-03-18</th>\n",
       "      <td>-1.002157</td>\n",
       "      <td>-0.011968</td>\n",
       "      <td>-1.007406</td>\n",
       "      <td>-1.007730</td>\n",
       "      <td>-1.000997</td>\n",
       "      <td>-1.081366</td>\n",
       "      <td>-1.046072</td>\n",
       "      <td>1.432516</td>\n",
       "      <td>1.018034</td>\n",
       "      <td>-1.007280</td>\n",
       "      <td>...</td>\n",
       "      <td>-0.081211</td>\n",
       "      <td>-1.085413</td>\n",
       "      <td>-0.085461</td>\n",
       "      <td>0.884049</td>\n",
       "      <td>-0.625300</td>\n",
       "      <td>-1.011515</td>\n",
       "      <td>-0.348813</td>\n",
       "      <td>0.100376</td>\n",
       "      <td>1.018034</td>\n",
       "      <td>AAPL</td>\n",
       "    </tr>\n",
       "    <tr>\n",
       "      <th>2019-03-19</th>\n",
       "      <td>-1.006028</td>\n",
       "      <td>0.117158</td>\n",
       "      <td>-1.000779</td>\n",
       "      <td>-1.006187</td>\n",
       "      <td>-1.000655</td>\n",
       "      <td>-1.079347</td>\n",
       "      <td>-1.044364</td>\n",
       "      <td>1.112931</td>\n",
       "      <td>0.846961</td>\n",
       "      <td>-1.002341</td>\n",
       "      <td>...</td>\n",
       "      <td>-0.066578</td>\n",
       "      <td>-1.084358</td>\n",
       "      <td>-0.062046</td>\n",
       "      <td>0.935581</td>\n",
       "      <td>-0.515015</td>\n",
       "      <td>-1.008829</td>\n",
       "      <td>-0.323448</td>\n",
       "      <td>0.054402</td>\n",
       "      <td>0.846961</td>\n",
       "      <td>AAPL</td>\n",
       "    </tr>\n",
       "    <tr>\n",
       "      <th>2019-03-20</th>\n",
       "      <td>-1.001793</td>\n",
       "      <td>0.102615</td>\n",
       "      <td>-1.006289</td>\n",
       "      <td>-1.004901</td>\n",
       "      <td>-1.003782</td>\n",
       "      <td>-1.077225</td>\n",
       "      <td>-1.042552</td>\n",
       "      <td>1.535368</td>\n",
       "      <td>0.916237</td>\n",
       "      <td>-1.006214</td>\n",
       "      <td>...</td>\n",
       "      <td>-0.067836</td>\n",
       "      <td>-1.082380</td>\n",
       "      <td>-0.055671</td>\n",
       "      <td>0.951042</td>\n",
       "      <td>-0.666796</td>\n",
       "      <td>-1.006398</td>\n",
       "      <td>-0.386895</td>\n",
       "      <td>0.075012</td>\n",
       "      <td>0.916237</td>\n",
       "      <td>AAPL</td>\n",
       "    </tr>\n",
       "  </tbody>\n",
       "</table>\n",
       "<p>5 rows × 32 columns</p>\n",
       "</div>"
      ],
      "text/plain": [
       "               Close    Volume      Open      High       Low  SMA_core  \\\n",
       "Date                                                                     \n",
       "2019-03-14 -1.013302 -0.074793 -1.012345 -1.018762 -1.009483 -1.085271   \n",
       "2019-03-15 -1.007093  0.293158 -1.009876 -1.010456 -1.006383 -1.083783   \n",
       "2019-03-18 -1.002157 -0.011968 -1.007406 -1.007730 -1.000997 -1.081366   \n",
       "2019-03-19 -1.006028  0.117158 -1.000779 -1.006187 -1.000655 -1.079347   \n",
       "2019-03-20 -1.001793  0.102615 -1.006289 -1.004901 -1.003782 -1.077225   \n",
       "\n",
       "            EMA_core  RSI_core  RMA_core  Close_Lag_1  ...  EMA_Lag_Std_1_3  \\\n",
       "Date                                                   ...                    \n",
       "2019-03-14 -1.049825  1.249108  0.801504    -1.013494  ...        -0.081211   \n",
       "2019-03-15 -1.048013  1.325622  0.931542    -1.013494  ...        -0.081211   \n",
       "2019-03-18 -1.046072  1.432516  1.018034    -1.007280  ...        -0.081211   \n",
       "2019-03-19 -1.044364  1.112931  0.846961    -1.002341  ...        -0.066578   \n",
       "2019-03-20 -1.042552  1.535368  0.916237    -1.006214  ...        -0.067836   \n",
       "\n",
       "            SMA_Lag_Avg_1_3  SMA_Lag_Std_1_3  RMA_Lag_Avg_1_3  \\\n",
       "Date                                                            \n",
       "2019-03-14        -1.086158        -0.085461         0.817706   \n",
       "2019-03-15        -1.086158        -0.085461         0.817706   \n",
       "2019-03-18        -1.085413        -0.085461         0.884049   \n",
       "2019-03-19        -1.084358        -0.062046         0.935581   \n",
       "2019-03-20        -1.082380        -0.055671         0.951042   \n",
       "\n",
       "            RMA_Lag_Std_1_3  Close_Lag_Avg_1_3  Close_Lag_Std_1_3  \\\n",
       "Date                                                                \n",
       "2019-03-14        -0.625300          -1.014627          -0.348813   \n",
       "2019-03-15        -0.625300          -1.014627          -0.348813   \n",
       "2019-03-18        -0.625300          -1.011515          -0.348813   \n",
       "2019-03-19        -0.515015          -1.008829          -0.323448   \n",
       "2019-03-20        -0.666796          -1.006398          -0.386895   \n",
       "\n",
       "            Diff_Close_EMA_core  Ratio_Close_EMA_core  Ticker  \n",
       "Date                                                           \n",
       "2019-03-14             0.037931              0.801504    AAPL  \n",
       "2019-03-15             0.074966              0.931542    AAPL  \n",
       "2019-03-18             0.100376              1.018034    AAPL  \n",
       "2019-03-19             0.054402              0.846961    AAPL  \n",
       "2019-03-20             0.075012              0.916237    AAPL  \n",
       "\n",
       "[5 rows x 32 columns]"
      ]
     },
     "execution_count": 2,
     "metadata": {},
     "output_type": "execute_result"
    }
   ],
   "source": [
    "# Now let's access the main core_stock_data.csv file\n",
    "csv_path = os.path.join(project_root, 'data', 'core_stock_preprocessed.csv')\n",
    "preprocessed_df = pd.read_csv(csv_path, parse_dates=['Date'], index_col= 'Date')\n",
    "preprocessed_df.head()"
   ]
  },
  {
   "cell_type": "markdown",
   "metadata": {},
   "source": [
    "#### Great now let's grab the data just for our subject GOOG ticker to use in our Linear Regression model."
   ]
  },
  {
   "cell_type": "code",
   "execution_count": 3,
   "metadata": {},
   "outputs": [
    {
     "name": "stdout",
     "output_type": "stream",
     "text": [
      "               Close    Volume      Open      High       Low  SMA_core  \\\n",
      "Date                                                                     \n",
      "2019-01-02 -0.947207 -0.453526 -0.961885 -0.950961 -0.955409  2.937099   \n",
      "2019-01-03 -0.962687 -0.416822 -0.949186 -0.948564 -0.956270  2.937099   \n",
      "2019-01-04 -0.934290 -0.386745 -0.953558 -0.941436 -0.949257  2.937099   \n",
      "2019-01-07 -0.935495 -0.400070 -0.933331 -0.939810 -0.934890  2.937099   \n",
      "2019-01-08 -0.931395 -0.425888 -0.930935 -0.934379 -0.931858  2.937099   \n",
      "\n",
      "            EMA_core  RSI_core  RMA_core  Close_Lag_1  ...  EMA_Lag_Std_1_3  \\\n",
      "Date                                                   ...                    \n",
      "2019-01-02 -0.941851  1.263672 -0.370774     3.156834  ...         0.117938   \n",
      "2019-01-03 -0.942477 -3.408328 -0.735926    -0.947354  ...        57.110152   \n",
      "2019-01-04 -0.941930  0.571410 -0.052043    -0.962844  ...        57.170527   \n",
      "2019-01-07 -0.941454  0.464989 -0.093189    -0.934428  ...        -0.104322   \n",
      "2019-01-08 -0.940830  0.654699 -0.007943    -0.935634  ...        -0.100110   \n",
      "\n",
      "            SMA_Lag_Avg_1_3  SMA_Lag_Std_1_3  RMA_Lag_Avg_1_3  \\\n",
      "Date                                                            \n",
      "2019-01-02         2.935429         0.085038         0.338931   \n",
      "2019-01-03         2.940598        -0.003289         0.073620   \n",
      "2019-01-04         2.943072        -0.112260        -0.311901   \n",
      "2019-01-07         2.943072        -0.112260        -0.394229   \n",
      "2019-01-08         2.943072        -0.112260        -0.299816   \n",
      "\n",
      "            RMA_Lag_Std_1_3  Close_Lag_Avg_1_3  Close_Lag_Std_1_3  \\\n",
      "Date                                                                \n",
      "2019-01-02        -0.422106           3.201038           0.269906   \n",
      "2019-01-03         1.351848           1.812667          50.230413   \n",
      "2019-01-04         1.797932           0.416729          49.945476   \n",
      "2019-01-07         0.994201          -0.949236          -0.140099   \n",
      "2019-01-08         1.261540          -0.945323          -0.101007   \n",
      "\n",
      "            Diff_Close_EMA_core  Ratio_Close_EMA_core  Ticker  \n",
      "Date                                                           \n",
      "2019-01-02            -0.283065             -0.370774    GOOG  \n",
      "2019-01-03            -0.406771             -0.735926    GOOG  \n",
      "2019-01-04            -0.174981             -0.052043    GOOG  \n",
      "2019-01-07            -0.188854             -0.093189    GOOG  \n",
      "2019-01-08            -0.159784             -0.007943    GOOG  \n",
      "\n",
      "[5 rows x 32 columns]\n"
     ]
    },
    {
     "data": {
      "text/plain": [
       "(1382, 32)"
      ]
     },
     "execution_count": 3,
     "metadata": {},
     "output_type": "execute_result"
    }
   ],
   "source": [
    "goog_data = preprocessed_df[preprocessed_df['Ticker'] == 'GOOG']\n",
    "print(goog_data.head())\n",
    "goog_data.shape"
   ]
  },
  {
   "cell_type": "markdown",
   "metadata": {},
   "source": [
    "#### Now let's prepare our Linear Regression model.  We will be dropping the Ticker and Close columns for the X as Ticker is an improper format and our Close feature will be our y target.  The Date feature is our index so it won't be included in the model as it will automatically be excluded from the feature set."
   ]
  },
  {
   "cell_type": "code",
   "execution_count": 4,
   "metadata": {},
   "outputs": [],
   "source": [
    "X = goog_data[['EMA_core', 'SMA_core', 'RSI_core', 'Close_Lag_1']]\n",
    "y = goog_data['Close']"
   ]
  },
  {
   "cell_type": "markdown",
   "metadata": {},
   "source": [
    "#### Let's now set up the rest of the model and run our first set of predictions on it.  I will be looking for the MAE (Mean Absolute Error) and the RMSE (Root Mean Squared Error) for metrics here."
   ]
  },
  {
   "cell_type": "code",
   "execution_count": 5,
   "metadata": {},
   "outputs": [
    {
     "data": {
      "text/html": [
       "<style>#sk-container-id-1 {\n",
       "  /* Definition of color scheme common for light and dark mode */\n",
       "  --sklearn-color-text: black;\n",
       "  --sklearn-color-line: gray;\n",
       "  /* Definition of color scheme for unfitted estimators */\n",
       "  --sklearn-color-unfitted-level-0: #fff5e6;\n",
       "  --sklearn-color-unfitted-level-1: #f6e4d2;\n",
       "  --sklearn-color-unfitted-level-2: #ffe0b3;\n",
       "  --sklearn-color-unfitted-level-3: chocolate;\n",
       "  /* Definition of color scheme for fitted estimators */\n",
       "  --sklearn-color-fitted-level-0: #f0f8ff;\n",
       "  --sklearn-color-fitted-level-1: #d4ebff;\n",
       "  --sklearn-color-fitted-level-2: #b3dbfd;\n",
       "  --sklearn-color-fitted-level-3: cornflowerblue;\n",
       "\n",
       "  /* Specific color for light theme */\n",
       "  --sklearn-color-text-on-default-background: var(--sg-text-color, var(--theme-code-foreground, var(--jp-content-font-color1, black)));\n",
       "  --sklearn-color-background: var(--sg-background-color, var(--theme-background, var(--jp-layout-color0, white)));\n",
       "  --sklearn-color-border-box: var(--sg-text-color, var(--theme-code-foreground, var(--jp-content-font-color1, black)));\n",
       "  --sklearn-color-icon: #696969;\n",
       "\n",
       "  @media (prefers-color-scheme: dark) {\n",
       "    /* Redefinition of color scheme for dark theme */\n",
       "    --sklearn-color-text-on-default-background: var(--sg-text-color, var(--theme-code-foreground, var(--jp-content-font-color1, white)));\n",
       "    --sklearn-color-background: var(--sg-background-color, var(--theme-background, var(--jp-layout-color0, #111)));\n",
       "    --sklearn-color-border-box: var(--sg-text-color, var(--theme-code-foreground, var(--jp-content-font-color1, white)));\n",
       "    --sklearn-color-icon: #878787;\n",
       "  }\n",
       "}\n",
       "\n",
       "#sk-container-id-1 {\n",
       "  color: var(--sklearn-color-text);\n",
       "}\n",
       "\n",
       "#sk-container-id-1 pre {\n",
       "  padding: 0;\n",
       "}\n",
       "\n",
       "#sk-container-id-1 input.sk-hidden--visually {\n",
       "  border: 0;\n",
       "  clip: rect(1px 1px 1px 1px);\n",
       "  clip: rect(1px, 1px, 1px, 1px);\n",
       "  height: 1px;\n",
       "  margin: -1px;\n",
       "  overflow: hidden;\n",
       "  padding: 0;\n",
       "  position: absolute;\n",
       "  width: 1px;\n",
       "}\n",
       "\n",
       "#sk-container-id-1 div.sk-dashed-wrapped {\n",
       "  border: 1px dashed var(--sklearn-color-line);\n",
       "  margin: 0 0.4em 0.5em 0.4em;\n",
       "  box-sizing: border-box;\n",
       "  padding-bottom: 0.4em;\n",
       "  background-color: var(--sklearn-color-background);\n",
       "}\n",
       "\n",
       "#sk-container-id-1 div.sk-container {\n",
       "  /* jupyter's `normalize.less` sets `[hidden] { display: none; }`\n",
       "     but bootstrap.min.css set `[hidden] { display: none !important; }`\n",
       "     so we also need the `!important` here to be able to override the\n",
       "     default hidden behavior on the sphinx rendered scikit-learn.org.\n",
       "     See: https://github.com/scikit-learn/scikit-learn/issues/21755 */\n",
       "  display: inline-block !important;\n",
       "  position: relative;\n",
       "}\n",
       "\n",
       "#sk-container-id-1 div.sk-text-repr-fallback {\n",
       "  display: none;\n",
       "}\n",
       "\n",
       "div.sk-parallel-item,\n",
       "div.sk-serial,\n",
       "div.sk-item {\n",
       "  /* draw centered vertical line to link estimators */\n",
       "  background-image: linear-gradient(var(--sklearn-color-text-on-default-background), var(--sklearn-color-text-on-default-background));\n",
       "  background-size: 2px 100%;\n",
       "  background-repeat: no-repeat;\n",
       "  background-position: center center;\n",
       "}\n",
       "\n",
       "/* Parallel-specific style estimator block */\n",
       "\n",
       "#sk-container-id-1 div.sk-parallel-item::after {\n",
       "  content: \"\";\n",
       "  width: 100%;\n",
       "  border-bottom: 2px solid var(--sklearn-color-text-on-default-background);\n",
       "  flex-grow: 1;\n",
       "}\n",
       "\n",
       "#sk-container-id-1 div.sk-parallel {\n",
       "  display: flex;\n",
       "  align-items: stretch;\n",
       "  justify-content: center;\n",
       "  background-color: var(--sklearn-color-background);\n",
       "  position: relative;\n",
       "}\n",
       "\n",
       "#sk-container-id-1 div.sk-parallel-item {\n",
       "  display: flex;\n",
       "  flex-direction: column;\n",
       "}\n",
       "\n",
       "#sk-container-id-1 div.sk-parallel-item:first-child::after {\n",
       "  align-self: flex-end;\n",
       "  width: 50%;\n",
       "}\n",
       "\n",
       "#sk-container-id-1 div.sk-parallel-item:last-child::after {\n",
       "  align-self: flex-start;\n",
       "  width: 50%;\n",
       "}\n",
       "\n",
       "#sk-container-id-1 div.sk-parallel-item:only-child::after {\n",
       "  width: 0;\n",
       "}\n",
       "\n",
       "/* Serial-specific style estimator block */\n",
       "\n",
       "#sk-container-id-1 div.sk-serial {\n",
       "  display: flex;\n",
       "  flex-direction: column;\n",
       "  align-items: center;\n",
       "  background-color: var(--sklearn-color-background);\n",
       "  padding-right: 1em;\n",
       "  padding-left: 1em;\n",
       "}\n",
       "\n",
       "\n",
       "/* Toggleable style: style used for estimator/Pipeline/ColumnTransformer box that is\n",
       "clickable and can be expanded/collapsed.\n",
       "- Pipeline and ColumnTransformer use this feature and define the default style\n",
       "- Estimators will overwrite some part of the style using the `sk-estimator` class\n",
       "*/\n",
       "\n",
       "/* Pipeline and ColumnTransformer style (default) */\n",
       "\n",
       "#sk-container-id-1 div.sk-toggleable {\n",
       "  /* Default theme specific background. It is overwritten whether we have a\n",
       "  specific estimator or a Pipeline/ColumnTransformer */\n",
       "  background-color: var(--sklearn-color-background);\n",
       "}\n",
       "\n",
       "/* Toggleable label */\n",
       "#sk-container-id-1 label.sk-toggleable__label {\n",
       "  cursor: pointer;\n",
       "  display: block;\n",
       "  width: 100%;\n",
       "  margin-bottom: 0;\n",
       "  padding: 0.5em;\n",
       "  box-sizing: border-box;\n",
       "  text-align: center;\n",
       "}\n",
       "\n",
       "#sk-container-id-1 label.sk-toggleable__label-arrow:before {\n",
       "  /* Arrow on the left of the label */\n",
       "  content: \"▸\";\n",
       "  float: left;\n",
       "  margin-right: 0.25em;\n",
       "  color: var(--sklearn-color-icon);\n",
       "}\n",
       "\n",
       "#sk-container-id-1 label.sk-toggleable__label-arrow:hover:before {\n",
       "  color: var(--sklearn-color-text);\n",
       "}\n",
       "\n",
       "/* Toggleable content - dropdown */\n",
       "\n",
       "#sk-container-id-1 div.sk-toggleable__content {\n",
       "  max-height: 0;\n",
       "  max-width: 0;\n",
       "  overflow: hidden;\n",
       "  text-align: left;\n",
       "  /* unfitted */\n",
       "  background-color: var(--sklearn-color-unfitted-level-0);\n",
       "}\n",
       "\n",
       "#sk-container-id-1 div.sk-toggleable__content.fitted {\n",
       "  /* fitted */\n",
       "  background-color: var(--sklearn-color-fitted-level-0);\n",
       "}\n",
       "\n",
       "#sk-container-id-1 div.sk-toggleable__content pre {\n",
       "  margin: 0.2em;\n",
       "  border-radius: 0.25em;\n",
       "  color: var(--sklearn-color-text);\n",
       "  /* unfitted */\n",
       "  background-color: var(--sklearn-color-unfitted-level-0);\n",
       "}\n",
       "\n",
       "#sk-container-id-1 div.sk-toggleable__content.fitted pre {\n",
       "  /* unfitted */\n",
       "  background-color: var(--sklearn-color-fitted-level-0);\n",
       "}\n",
       "\n",
       "#sk-container-id-1 input.sk-toggleable__control:checked~div.sk-toggleable__content {\n",
       "  /* Expand drop-down */\n",
       "  max-height: 200px;\n",
       "  max-width: 100%;\n",
       "  overflow: auto;\n",
       "}\n",
       "\n",
       "#sk-container-id-1 input.sk-toggleable__control:checked~label.sk-toggleable__label-arrow:before {\n",
       "  content: \"▾\";\n",
       "}\n",
       "\n",
       "/* Pipeline/ColumnTransformer-specific style */\n",
       "\n",
       "#sk-container-id-1 div.sk-label input.sk-toggleable__control:checked~label.sk-toggleable__label {\n",
       "  color: var(--sklearn-color-text);\n",
       "  background-color: var(--sklearn-color-unfitted-level-2);\n",
       "}\n",
       "\n",
       "#sk-container-id-1 div.sk-label.fitted input.sk-toggleable__control:checked~label.sk-toggleable__label {\n",
       "  background-color: var(--sklearn-color-fitted-level-2);\n",
       "}\n",
       "\n",
       "/* Estimator-specific style */\n",
       "\n",
       "/* Colorize estimator box */\n",
       "#sk-container-id-1 div.sk-estimator input.sk-toggleable__control:checked~label.sk-toggleable__label {\n",
       "  /* unfitted */\n",
       "  background-color: var(--sklearn-color-unfitted-level-2);\n",
       "}\n",
       "\n",
       "#sk-container-id-1 div.sk-estimator.fitted input.sk-toggleable__control:checked~label.sk-toggleable__label {\n",
       "  /* fitted */\n",
       "  background-color: var(--sklearn-color-fitted-level-2);\n",
       "}\n",
       "\n",
       "#sk-container-id-1 div.sk-label label.sk-toggleable__label,\n",
       "#sk-container-id-1 div.sk-label label {\n",
       "  /* The background is the default theme color */\n",
       "  color: var(--sklearn-color-text-on-default-background);\n",
       "}\n",
       "\n",
       "/* On hover, darken the color of the background */\n",
       "#sk-container-id-1 div.sk-label:hover label.sk-toggleable__label {\n",
       "  color: var(--sklearn-color-text);\n",
       "  background-color: var(--sklearn-color-unfitted-level-2);\n",
       "}\n",
       "\n",
       "/* Label box, darken color on hover, fitted */\n",
       "#sk-container-id-1 div.sk-label.fitted:hover label.sk-toggleable__label.fitted {\n",
       "  color: var(--sklearn-color-text);\n",
       "  background-color: var(--sklearn-color-fitted-level-2);\n",
       "}\n",
       "\n",
       "/* Estimator label */\n",
       "\n",
       "#sk-container-id-1 div.sk-label label {\n",
       "  font-family: monospace;\n",
       "  font-weight: bold;\n",
       "  display: inline-block;\n",
       "  line-height: 1.2em;\n",
       "}\n",
       "\n",
       "#sk-container-id-1 div.sk-label-container {\n",
       "  text-align: center;\n",
       "}\n",
       "\n",
       "/* Estimator-specific */\n",
       "#sk-container-id-1 div.sk-estimator {\n",
       "  font-family: monospace;\n",
       "  border: 1px dotted var(--sklearn-color-border-box);\n",
       "  border-radius: 0.25em;\n",
       "  box-sizing: border-box;\n",
       "  margin-bottom: 0.5em;\n",
       "  /* unfitted */\n",
       "  background-color: var(--sklearn-color-unfitted-level-0);\n",
       "}\n",
       "\n",
       "#sk-container-id-1 div.sk-estimator.fitted {\n",
       "  /* fitted */\n",
       "  background-color: var(--sklearn-color-fitted-level-0);\n",
       "}\n",
       "\n",
       "/* on hover */\n",
       "#sk-container-id-1 div.sk-estimator:hover {\n",
       "  /* unfitted */\n",
       "  background-color: var(--sklearn-color-unfitted-level-2);\n",
       "}\n",
       "\n",
       "#sk-container-id-1 div.sk-estimator.fitted:hover {\n",
       "  /* fitted */\n",
       "  background-color: var(--sklearn-color-fitted-level-2);\n",
       "}\n",
       "\n",
       "/* Specification for estimator info (e.g. \"i\" and \"?\") */\n",
       "\n",
       "/* Common style for \"i\" and \"?\" */\n",
       "\n",
       ".sk-estimator-doc-link,\n",
       "a:link.sk-estimator-doc-link,\n",
       "a:visited.sk-estimator-doc-link {\n",
       "  float: right;\n",
       "  font-size: smaller;\n",
       "  line-height: 1em;\n",
       "  font-family: monospace;\n",
       "  background-color: var(--sklearn-color-background);\n",
       "  border-radius: 1em;\n",
       "  height: 1em;\n",
       "  width: 1em;\n",
       "  text-decoration: none !important;\n",
       "  margin-left: 1ex;\n",
       "  /* unfitted */\n",
       "  border: var(--sklearn-color-unfitted-level-1) 1pt solid;\n",
       "  color: var(--sklearn-color-unfitted-level-1);\n",
       "}\n",
       "\n",
       ".sk-estimator-doc-link.fitted,\n",
       "a:link.sk-estimator-doc-link.fitted,\n",
       "a:visited.sk-estimator-doc-link.fitted {\n",
       "  /* fitted */\n",
       "  border: var(--sklearn-color-fitted-level-1) 1pt solid;\n",
       "  color: var(--sklearn-color-fitted-level-1);\n",
       "}\n",
       "\n",
       "/* On hover */\n",
       "div.sk-estimator:hover .sk-estimator-doc-link:hover,\n",
       ".sk-estimator-doc-link:hover,\n",
       "div.sk-label-container:hover .sk-estimator-doc-link:hover,\n",
       ".sk-estimator-doc-link:hover {\n",
       "  /* unfitted */\n",
       "  background-color: var(--sklearn-color-unfitted-level-3);\n",
       "  color: var(--sklearn-color-background);\n",
       "  text-decoration: none;\n",
       "}\n",
       "\n",
       "div.sk-estimator.fitted:hover .sk-estimator-doc-link.fitted:hover,\n",
       ".sk-estimator-doc-link.fitted:hover,\n",
       "div.sk-label-container:hover .sk-estimator-doc-link.fitted:hover,\n",
       ".sk-estimator-doc-link.fitted:hover {\n",
       "  /* fitted */\n",
       "  background-color: var(--sklearn-color-fitted-level-3);\n",
       "  color: var(--sklearn-color-background);\n",
       "  text-decoration: none;\n",
       "}\n",
       "\n",
       "/* Span, style for the box shown on hovering the info icon */\n",
       ".sk-estimator-doc-link span {\n",
       "  display: none;\n",
       "  z-index: 9999;\n",
       "  position: relative;\n",
       "  font-weight: normal;\n",
       "  right: .2ex;\n",
       "  padding: .5ex;\n",
       "  margin: .5ex;\n",
       "  width: min-content;\n",
       "  min-width: 20ex;\n",
       "  max-width: 50ex;\n",
       "  color: var(--sklearn-color-text);\n",
       "  box-shadow: 2pt 2pt 4pt #999;\n",
       "  /* unfitted */\n",
       "  background: var(--sklearn-color-unfitted-level-0);\n",
       "  border: .5pt solid var(--sklearn-color-unfitted-level-3);\n",
       "}\n",
       "\n",
       ".sk-estimator-doc-link.fitted span {\n",
       "  /* fitted */\n",
       "  background: var(--sklearn-color-fitted-level-0);\n",
       "  border: var(--sklearn-color-fitted-level-3);\n",
       "}\n",
       "\n",
       ".sk-estimator-doc-link:hover span {\n",
       "  display: block;\n",
       "}\n",
       "\n",
       "/* \"?\"-specific style due to the `<a>` HTML tag */\n",
       "\n",
       "#sk-container-id-1 a.estimator_doc_link {\n",
       "  float: right;\n",
       "  font-size: 1rem;\n",
       "  line-height: 1em;\n",
       "  font-family: monospace;\n",
       "  background-color: var(--sklearn-color-background);\n",
       "  border-radius: 1rem;\n",
       "  height: 1rem;\n",
       "  width: 1rem;\n",
       "  text-decoration: none;\n",
       "  /* unfitted */\n",
       "  color: var(--sklearn-color-unfitted-level-1);\n",
       "  border: var(--sklearn-color-unfitted-level-1) 1pt solid;\n",
       "}\n",
       "\n",
       "#sk-container-id-1 a.estimator_doc_link.fitted {\n",
       "  /* fitted */\n",
       "  border: var(--sklearn-color-fitted-level-1) 1pt solid;\n",
       "  color: var(--sklearn-color-fitted-level-1);\n",
       "}\n",
       "\n",
       "/* On hover */\n",
       "#sk-container-id-1 a.estimator_doc_link:hover {\n",
       "  /* unfitted */\n",
       "  background-color: var(--sklearn-color-unfitted-level-3);\n",
       "  color: var(--sklearn-color-background);\n",
       "  text-decoration: none;\n",
       "}\n",
       "\n",
       "#sk-container-id-1 a.estimator_doc_link.fitted:hover {\n",
       "  /* fitted */\n",
       "  background-color: var(--sklearn-color-fitted-level-3);\n",
       "}\n",
       "</style><div id=\"sk-container-id-1\" class=\"sk-top-container\"><div class=\"sk-text-repr-fallback\"><pre>LinearRegression()</pre><b>In a Jupyter environment, please rerun this cell to show the HTML representation or trust the notebook. <br />On GitHub, the HTML representation is unable to render, please try loading this page with nbviewer.org.</b></div><div class=\"sk-container\" hidden><div class=\"sk-item\"><div class=\"sk-estimator fitted sk-toggleable\"><input class=\"sk-toggleable__control sk-hidden--visually\" id=\"sk-estimator-id-1\" type=\"checkbox\" checked><label for=\"sk-estimator-id-1\" class=\"sk-toggleable__label fitted sk-toggleable__label-arrow fitted\">&nbsp;&nbsp;LinearRegression<a class=\"sk-estimator-doc-link fitted\" rel=\"noreferrer\" target=\"_blank\" href=\"https://scikit-learn.org/1.5/modules/generated/sklearn.linear_model.LinearRegression.html\">?<span>Documentation for LinearRegression</span></a><span class=\"sk-estimator-doc-link fitted\">i<span>Fitted</span></span></label><div class=\"sk-toggleable__content fitted\"><pre>LinearRegression()</pre></div> </div></div></div></div>"
      ],
      "text/plain": [
       "LinearRegression()"
      ]
     },
     "execution_count": 5,
     "metadata": {},
     "output_type": "execute_result"
    }
   ],
   "source": [
    "X_train, X_test, y_train, y_test = train_test_split(X, y, test_size = 0.2, random_state = 42)\n",
    "model = LinearRegression()\n",
    "model.fit(X_train, y_train)"
   ]
  },
  {
   "cell_type": "markdown",
   "metadata": {},
   "source": [
    "#### Now let's make our predictions and see where we end up."
   ]
  },
  {
   "cell_type": "code",
   "execution_count": 6,
   "metadata": {},
   "outputs": [],
   "source": [
    "y_pred = model.predict(X_test)"
   ]
  },
  {
   "cell_type": "markdown",
   "metadata": {},
   "source": [
    "#### Let's retrieve our MAE and RMSE metrics for performance."
   ]
  },
  {
   "cell_type": "code",
   "execution_count": 7,
   "metadata": {},
   "outputs": [
    {
     "name": "stdout",
     "output_type": "stream",
     "text": [
      "Mean Absolute Error (MAE): 0.029055652472759888\n",
      "Root Mean Squared Error (RMSE): 0.0014167549712260023\n"
     ]
    }
   ],
   "source": [
    "mae = mean_absolute_error(y_test, y_pred)\n",
    "rmse = mean_squared_error(y_test, y_pred)\n",
    "\n",
    "print(f'Mean Absolute Error (MAE): {mae}')\n",
    "print(f'Root Mean Squared Error (RMSE): {rmse}')"
   ]
  },
  {
   "cell_type": "markdown",
   "metadata": {},
   "source": [
    "#### Great scores, let's verify with cross validation just to make sure that our data isn't being misinterpreted by the model."
   ]
  },
  {
   "cell_type": "code",
   "execution_count": 8,
   "metadata": {},
   "outputs": [
    {
     "name": "stdout",
     "output_type": "stream",
     "text": [
      "Cross-validated RMSE Scores: [0.28210771 0.03647533 0.03265027 0.06290402 0.0491035 ]\n",
      "Mean RMSE: 0.09264816616508913\n"
     ]
    }
   ],
   "source": [
    "scores = cross_val_score(model, X, y, cv = 5, scoring = 'neg_mean_squared_error')\n",
    "rmse_scores = np.sqrt(-scores)\n",
    "\n",
    "print(f'Cross-validated RMSE Scores: {rmse_scores}')\n",
    "print(f'Mean RMSE: {rmse_scores.mean()}')"
   ]
  },
  {
   "cell_type": "markdown",
   "metadata": {},
   "source": [
    "#### Our original scores were quite unrealistic, we have since tested with our model and the scores above reflect a great resting place to go forward with.  2.4 cents of error in our AAPL data in predicting future prices, not too bad!"
   ]
  },
  {
   "cell_type": "code",
   "execution_count": 9,
   "metadata": {},
   "outputs": [
    {
     "name": "stdout",
     "output_type": "stream",
     "text": [
      "EMA_core       0.984508\n",
      "Close_Lag_1    0.950509\n",
      "SMA_core       0.191014\n",
      "RSI_core       0.050654\n",
      "dtype: float64\n"
     ]
    }
   ],
   "source": [
    "correlations = X.corrwith(y)\n",
    "print(correlations.sort_values(ascending = False))"
   ]
  },
  {
   "cell_type": "markdown",
   "metadata": {},
   "source": [
    "#### There are several feature columns that are influencing our Close target because they are correlating too well.  Let's go back to our X and y assignment at the top of our notebook and drop some more of those columns to balance our score."
   ]
  },
  {
   "cell_type": "markdown",
   "metadata": {},
   "source": [
    "#### Now that our predictions look good let's make a few plots to visualize our results, starting with a plot that shows Actual vs Predicted values."
   ]
  },
  {
   "cell_type": "code",
   "execution_count": 10,
   "metadata": {},
   "outputs": [
    {
     "data": {
      "application/vnd.plotly.v1+json": {
       "config": {
        "plotlyServerURL": "https://plot.ly"
       },
       "data": [
        {
         "mode": "markers",
         "name": "Predicted vs Actual",
         "type": "scatter",
         "x": [
          -0.9177761728388738,
          0.0485177132050903,
          -0.7185241442439151,
          -0.0724593959259191,
          0.0477954073713472,
          -0.0469877683148732,
          -0.8335671660516719,
          -0.8429358532935852,
          0.0408533426535418,
          -0.5407946490981848,
          -0.0948756143592347,
          0.0129084320372511,
          -0.050541893595155,
          -0.8752871466442634,
          -0.7925122856222365,
          -0.7902935143322842,
          -0.192256871007046,
          -0.0500119383599476,
          -0.1431790835847685,
          -0.8345700294257772,
          -0.8203844899323206,
          -0.8590803401234072,
          -0.3880742203962053,
          -0.7033149681460086,
          -0.7055129662056162,
          -0.1983623771242122,
          -0.7859806904215868,
          -0.419240805320123,
          -0.7661937127953792,
          -0.287580467830785,
          0.0150284115523578,
          -0.396232232673427,
          -0.5448424161041397,
          -0.1245768936724602,
          -0.5313324426761505,
          -0.4283444753008633,
          -0.7296595471543663,
          -0.7860274698334319,
          -0.2401030913035794,
          -0.0560915175827523,
          -0.0185959953847542,
          -0.2530260227564823,
          -0.3531040728535915,
          -0.8947415940106777,
          -0.844759695345571,
          -0.503377066157549,
          -0.8869837042790084,
          -0.7890257129841447,
          -0.2988405101233047,
          -0.1803836219836627,
          -0.4600410947471269,
          -0.6642242680040944,
          -0.4514154469257321,
          -0.8341387470347074,
          -0.8890050109499775,
          -0.3028675831860537,
          -0.874616853173521,
          -0.4313634916819209,
          -0.8631177601577592,
          -0.5853777279135403,
          0.0331371183132702,
          -0.6807740310434858,
          -0.8685373532378551,
          -0.2669932451134721,
          -0.5632368737130007,
          -0.7919407046392011,
          -0.2918308927633093,
          -0.4090615260155016,
          -0.8633931640341046,
          -0.6955311118764085,
          -0.1981544862464871,
          -0.5864220981047656,
          -0.1909838367077508,
          -0.9094259288938242,
          -0.5276950659002125,
          -0.0723190576903839,
          -0.403506827651026,
          -0.2757851580647638,
          -0.5135615784133261,
          -0.746993935718535,
          -0.6816262092104529,
          -0.883273660840433,
          -0.3736808296685932,
          -0.917199398548252,
          -0.7757910245017928,
          0.0161352600088949,
          0.3143949226846676,
          -0.0743819504656119,
          -0.8590231740963897,
          -0.0328386612616588,
          -0.1324750027089564,
          0.0266574561884823,
          -0.1960760531920701,
          -0.294803129732522,
          -0.3846967468609926,
          -0.8640322580157606,
          0.3070163029810676,
          0.0344984784850999,
          -0.2422646965665141,
          -0.7189242271458983,
          0.0444023935569454,
          -0.6639176646386624,
          -0.8965706293702497,
          -0.6896906626639846,
          -0.8578228461033013,
          -0.3992460161033291,
          -0.3326571883718139,
          -0.1548185941232041,
          0.0318743913420087,
          -0.0206224160761708,
          -0.4150059206667877,
          0.1320096074661353,
          -0.4763570400144319,
          -0.1975309721875899,
          -0.8044738605181545,
          -0.6762845553877193,
          -0.0832154891647317,
          -0.7667289802688808,
          -0.2673413949395935,
          -0.6375211525544429,
          -0.910517118140464,
          0.024989413364082,
          -0.8311353898635472,
          0.3630309221699949,
          -0.4031379045945597,
          -0.2937482936389856,
          0.0279720369484669,
          -0.550142523466184,
          -0.7362378424797223,
          -0.0979673370464988,
          -0.4280015584258975,
          0.1357508503937972,
          -0.2158214843575881,
          -0.5867650942668702,
          -0.1293104944283469,
          -0.3847435262728377,
          -0.8835334847940198,
          -0.5868430335242324,
          0.3591858130906093,
          -0.5366324707510564,
          -0.7381240835098812,
          -0.0355146021934731,
          0.0021315655680937,
          0.3628231898665474,
          -0.7012053752460743,
          -0.7528707777276316,
          -0.2174842149436941,
          -0.8811276355002566,
          -0.0487128978791522,
          -0.1678920918525373,
          -0.8951728764017474,
          -0.9479918671081174,
          -0.7568562250425523,
          0.0097283834774523,
          -0.1843690692985834,
          -0.1933740267916169,
          -0.1592872172614872,
          -0.2538573484059658,
          -0.5814026672137917,
          -0.0467591042068035,
          -0.0754523268383376,
          -0.4690823657496945,
          -0.589186523483392,
          -0.2033506481696688,
          -0.7774434477598652,
          -0.4637823376747887,
          -0.1348651927928223,
          -0.8730943815358114,
          -0.4196149613277445,
          -0.4033405625211292,
          -0.0199105761447388,
          -0.0492325457863259,
          -0.9310055887265006,
          -0.0765642496717528,
          0.0115678450957662,
          -0.2731143707969663,
          -0.7271601786804823,
          -0.4263699083981699,
          -0.0284478980935992,
          -0.1374632737544132,
          -0.8493115303359413,
          -0.771530212954096,
          -0.2871336055169567,
          -0.7220159498331625,
          -0.3271855829287173,
          -0.2723609051177063,
          -0.2660475874099536,
          -0.3599629653628793,
          -0.0752133554022343,
          -0.2722725792451715,
          0.3460915421309313,
          -0.2418178342526857,
          -0.1264839079329638,
          -0.1647432031382557,
          0.1343997975500012,
          -0.9334529844809534,
          -0.0106251007549126,
          -0.4742785276728762,
          -0.0393649442240143,
          -0.0774008875595307,
          0.0159326020823255,
          -0.0919450031378504,
          -0.432397475257974,
          -0.8707456982690657,
          -0.0724854021074194,
          -0.4648215542019975,
          -0.4636783922359264,
          0.1060287978502269,
          -0.3898305098060014,
          -0.8157702956073469,
          -0.0019474405705171,
          -0.8805664411323935,
          -0.9289894753631176,
          0.064875125645946,
          -0.2442496500843799,
          -0.242633698910119,
          -0.6804986668107098,
          -0.0974529220904807,
          -0.2280376502559376,
          0.3449483801648603,
          -0.2334884031815504,
          -0.7577707229005537,
          -0.4670039326952772,
          -0.3904124774042092,
          -0.9105742841674817,
          -0.0665253878898051,
          -0.7428162170922172,
          -0.2673674011210938,
          -0.1529583592745456,
          -0.057546436578272,
          -0.9266823782006308,
          -0.0327087889284347,
          -0.0632620878343499,
          -0.4952710662433277,
          -0.8566277510613683,
          -0.7004570632308309,
          -0.1857097355272072,
          -0.3917790705271946,
          -0.3659905322226832,
          -0.0648210315558709,
          -0.091835904034971,
          -0.2958787390564033,
          -0.9085945636007712,
          -0.8091920002819908,
          -0.2972661054097331,
          -0.7428005975258892,
          -0.9087816019610128,
          -0.2265255652334003,
          -0.9119772700871396,
          0.0041839924410106,
          -0.8358742632141588,
          -0.253259840528569,
          -0.7481578709149509,
          -0.3195939979705142,
          -0.1565384907363275,
          -0.7970277674595034,
          -0.9201715958738952,
          -0.0926620760204379,
          -0.754491961853048,
          -0.1773854581200885,
          -0.5685369017879061,
          -0.7327200307089746,
          -0.7543413162894792,
          -0.0689623573855161,
          -0.5584564142581302,
          -0.072869786155936,
          -0.870579433139169,
          -0.8856638905678682,
          -0.7340035309105808,
          -0.5380873897465759,
          -0.1057668128824269,
          -0.4437251494798223,
          0.0618406482728379,
          -0.7840217430852213,
          -0.4869571754513817,
          -0.3563256678740797,
          0.0304765590863676
         ],
         "y": [
          -0.864525515675843,
          0.020294076802178745,
          -0.6727148884465854,
          -0.047610818477212234,
          0.0014317043769458563,
          -0.06512669995628702,
          -0.7973582752725523,
          -0.8375488825070434,
          0.03700813231808423,
          -0.5834904863378151,
          -0.07095975802563113,
          0.011332081086077774,
          -0.007541220621764242,
          -0.8421910809284894,
          -0.7729449326908675,
          -0.7575129906539984,
          -0.13778277549044307,
          0.004063532568091195,
          -0.18816982764867274,
          -0.8026454287553083,
          -0.8462645683024335,
          -0.8878641623106159,
          -0.4452620518842179,
          -0.6778862266283578,
          -0.7294181033767803,
          -0.2851179910722383,
          -0.792532142939672,
          -0.4537402126171069,
          -0.768641708801524,
          -0.321493849482402,
          0.030915451273001184,
          -0.3414273839455443,
          -0.5324810779272864,
          -0.13632204091585307,
          -0.5340206502853319,
          -0.37902511944837813,
          -0.737294241075417,
          -0.7534151211710377,
          -0.2912195774007215,
          -0.018666010095935052,
          -0.02056255119689116,
          -0.298349449831401,
          -0.41234536585899084,
          -0.8614968091935895,
          -0.8760750917066255,
          -0.49580507284973785,
          -0.8545848815530781,
          -0.7654754796703918,
          -0.28654357748782366,
          -0.19103741320815892,
          -0.3944874722195899,
          -0.6395472791692565,
          -0.4526245014008873,
          -0.8157429440761439,
          -0.8853052273734945,
          -0.2957486594076257,
          -0.8413349728527514,
          -0.45798132761896637,
          -0.8923280669723362,
          -0.5833013321161502,
          0.029268336557350116,
          -0.703208588694331,
          -0.9217835973885282,
          -0.2147687906803986,
          -0.5199357949382202,
          -0.7947861712171733,
          -0.3299528287003886,
          -0.48079817171399836,
          -0.8783990551240278,
          -0.7118759826889667,
          -0.26089861530215724,
          -0.5855155303347161,
          -0.19856981961188772,
          -0.9015801983770003,
          -0.5263885106914091,
          -0.058259154211686565,
          -0.42544526121299187,
          -0.32891878520955015,
          -0.5098261446908551,
          -0.7572618726171231,
          -0.6906581265355011,
          -0.8957645767072059,
          -0.3718345728176102,
          -0.9227082350453737,
          -0.7764494808490799,
          -0.0009938251646406764,
          0.17782100751459418,
          -0.10854007706995987,
          -0.8431891390045283,
          -0.04584719575290909,
          -0.1711655276354559,
          0.023783007139625934,
          -0.1921063400136377,
          -0.27111192630211967,
          -0.4092951798945368,
          -0.881679566815241,
          0.21470083421540578,
          0.028168893849965702,
          -0.2933825901559913,
          -0.746227295831203,
          0.02883602081837866,
          -0.6663843656429828,
          -0.9074017882077752,
          -0.7140659167850602,
          -0.862496708506312,
          -0.4104656241162748,
          -0.2336852336638435,
          -0.1786922767876378,
          0.022688525818199978,
          0.008058096699594714,
          -0.4785120216550685,
          0.10345610633468344,
          -0.4002919391318502,
          -0.2630374611932814,
          -0.8148395006106968,
          -0.6804453933319151,
          -0.03626807584524845,
          -0.7844187793850705,
          -0.2983759703855816,
          -0.6405731974500735,
          -0.9256944176864942,
          0.012473335234077697,
          -0.8118870470811154,
          0.31559065179714824,
          -0.45518098221681147,
          -0.3408795309383997,
          0.017196759830799102,
          -0.4526758407527949,
          -0.7686045313490151,
          -0.05964330833577404,
          -0.446002622178887,
          0.12650922060339845,
          -0.28749422141721626,
          -0.6253042403984733,
          -0.1438263011507764,
          -0.39712773235502474,
          -0.9114269690945636,
          -0.6465911579545954,
          0.3073135930661422,
          -0.5239479947172708,
          -0.7634127644160722,
          0.001735581363121521,
          0.029184584095027305,
          0.2996971333303349,
          -0.7148018261533212,
          -0.7814606603122867,
          -0.19251815261475344,
          -0.8812772327465637,
          -0.012073417871661793,
          -0.16422705878420224,
          -0.9017620196751037,
          -0.995579756129561,
          -0.7406072477667022,
          -0.009774946866900915,
          -0.18382951745710882,
          -0.23988344984838594,
          -0.2081090614124075,
          -0.3126941435309823,
          -0.6228888267981919,
          -0.0060372050830275895,
          -0.0850335656587963,
          -0.4017085658162256,
          -0.5944793204651043,
          -0.2599014249301293,
          -0.8001417857012106,
          -0.3973447501780448,
          -0.19520356194073304,
          -0.8800955321901384,
          -0.4246950697886284,
          -0.45178654188566103,
          0.0036870383168898695,
          0.012620968011824763,
          -0.9631696947517788,
          -0.07655434349074736,
          -0.011475371847190061,
          -0.16849565028071772,
          -0.7475405712062604,
          -0.38897872429203695,
          0.025675016842801192,
          -0.12728888889968712,
          -0.8536520118117886,
          -0.7563400523298621,
          -0.3258689403331156,
          -0.7646332508721122,
          -0.331591566460757,
          -0.23247733262746575,
          -0.3087058735493824,
          -0.4206482306683559,
          -0.09348144440003514,
          -0.21336085012845918,
          0.3123021523729664,
          -0.21578210229066758,
          -0.13847400949892905,
          -0.1286951347002879,
          0.13061830042335243,
          -0.8669641135836322,
          0.02567467302948747,
          -0.4455747418194035,
          -0.0028724366116382287,
          -0.10840117251400157,
          0.02541655215000756,
          -0.12318130929047066,
          -0.3693780862436944,
          -0.8808041166351507,
          -0.07764480840854956,
          -0.39799334032113526,
          -0.3831871160940108,
          0.09798246578393903,
          -0.2762388905889689,
          -0.8070815302419709,
          -0.005630156186752403,
          -0.9088627660262213,
          -0.9182762423035444,
          0.053484688381726014,
          -0.2892915344244521,
          -0.28935170031588714,
          -0.6487475327280514,
          -0.1120263545048531,
          -0.2917225023164953,
          0.27547746213658136,
          -0.2641314862845718,
          -0.7610610378830066,
          -0.4500268905148043,
          -0.34660422081546,
          -0.8956916454565946,
          -0.06687537362637366,
          -0.7218130395354857,
          -0.28522931024663584,
          -0.1846861371005398,
          -0.05790780028020095,
          -0.9466834099273724,
          -0.03212026037060042,
          -0.10136158439188298,
          -0.49804314991687776,
          -0.8652099018162231,
          -0.7110334026585372,
          -0.18332466393926852,
          -0.4535602081158677,
          -0.4058941149546141,
          -0.0629468196465667,
          -0.07079358473324698,
          -0.17618673795202805,
          -0.9164333026805616,
          -0.8007721569483044,
          -0.2988985915852632,
          -0.7257863806564572,
          -0.8443360606440656,
          -0.25349413690466,
          -0.9127231686294518,
          0.03115869053338489,
          -0.8138250784332619,
          -0.2976675740605553,
          -0.771407000461681,
          -0.29390282750351304,
          -0.10827501826040806,
          -0.7994740721084986,
          -0.846849100857936,
          -0.09064692086517116,
          -0.7713247821924325,
          -0.2087540317731445,
          -0.5360547123846486,
          -0.7339232871856126,
          -0.765816912020503,
          -0.06228962706540807,
          -0.5344413578840196,
          -0.0034161264081108457,
          -0.8314349404570224,
          -0.8840652776161395,
          -0.7124548024048531,
          -0.5105700579891791,
          -0.11938149239231399,
          -0.40818388647504056,
          0.06916704595857207,
          -0.8102165406341365,
          -0.42666930660565644,
          -0.34247010707720243,
          0.005186941270705104
         ]
        },
        {
         "mode": "lines",
         "name": "Ideal Line",
         "type": "scatter",
         "x": [
          -0.9177761728388738,
          0.0485177132050903,
          -0.7185241442439151,
          -0.0724593959259191,
          0.0477954073713472,
          -0.0469877683148732,
          -0.8335671660516719,
          -0.8429358532935852,
          0.0408533426535418,
          -0.5407946490981848,
          -0.0948756143592347,
          0.0129084320372511,
          -0.050541893595155,
          -0.8752871466442634,
          -0.7925122856222365,
          -0.7902935143322842,
          -0.192256871007046,
          -0.0500119383599476,
          -0.1431790835847685,
          -0.8345700294257772,
          -0.8203844899323206,
          -0.8590803401234072,
          -0.3880742203962053,
          -0.7033149681460086,
          -0.7055129662056162,
          -0.1983623771242122,
          -0.7859806904215868,
          -0.419240805320123,
          -0.7661937127953792,
          -0.287580467830785,
          0.0150284115523578,
          -0.396232232673427,
          -0.5448424161041397,
          -0.1245768936724602,
          -0.5313324426761505,
          -0.4283444753008633,
          -0.7296595471543663,
          -0.7860274698334319,
          -0.2401030913035794,
          -0.0560915175827523,
          -0.0185959953847542,
          -0.2530260227564823,
          -0.3531040728535915,
          -0.8947415940106777,
          -0.844759695345571,
          -0.503377066157549,
          -0.8869837042790084,
          -0.7890257129841447,
          -0.2988405101233047,
          -0.1803836219836627,
          -0.4600410947471269,
          -0.6642242680040944,
          -0.4514154469257321,
          -0.8341387470347074,
          -0.8890050109499775,
          -0.3028675831860537,
          -0.874616853173521,
          -0.4313634916819209,
          -0.8631177601577592,
          -0.5853777279135403,
          0.0331371183132702,
          -0.6807740310434858,
          -0.8685373532378551,
          -0.2669932451134721,
          -0.5632368737130007,
          -0.7919407046392011,
          -0.2918308927633093,
          -0.4090615260155016,
          -0.8633931640341046,
          -0.6955311118764085,
          -0.1981544862464871,
          -0.5864220981047656,
          -0.1909838367077508,
          -0.9094259288938242,
          -0.5276950659002125,
          -0.0723190576903839,
          -0.403506827651026,
          -0.2757851580647638,
          -0.5135615784133261,
          -0.746993935718535,
          -0.6816262092104529,
          -0.883273660840433,
          -0.3736808296685932,
          -0.917199398548252,
          -0.7757910245017928,
          0.0161352600088949,
          0.3143949226846676,
          -0.0743819504656119,
          -0.8590231740963897,
          -0.0328386612616588,
          -0.1324750027089564,
          0.0266574561884823,
          -0.1960760531920701,
          -0.294803129732522,
          -0.3846967468609926,
          -0.8640322580157606,
          0.3070163029810676,
          0.0344984784850999,
          -0.2422646965665141,
          -0.7189242271458983,
          0.0444023935569454,
          -0.6639176646386624,
          -0.8965706293702497,
          -0.6896906626639846,
          -0.8578228461033013,
          -0.3992460161033291,
          -0.3326571883718139,
          -0.1548185941232041,
          0.0318743913420087,
          -0.0206224160761708,
          -0.4150059206667877,
          0.1320096074661353,
          -0.4763570400144319,
          -0.1975309721875899,
          -0.8044738605181545,
          -0.6762845553877193,
          -0.0832154891647317,
          -0.7667289802688808,
          -0.2673413949395935,
          -0.6375211525544429,
          -0.910517118140464,
          0.024989413364082,
          -0.8311353898635472,
          0.3630309221699949,
          -0.4031379045945597,
          -0.2937482936389856,
          0.0279720369484669,
          -0.550142523466184,
          -0.7362378424797223,
          -0.0979673370464988,
          -0.4280015584258975,
          0.1357508503937972,
          -0.2158214843575881,
          -0.5867650942668702,
          -0.1293104944283469,
          -0.3847435262728377,
          -0.8835334847940198,
          -0.5868430335242324,
          0.3591858130906093,
          -0.5366324707510564,
          -0.7381240835098812,
          -0.0355146021934731,
          0.0021315655680937,
          0.3628231898665474,
          -0.7012053752460743,
          -0.7528707777276316,
          -0.2174842149436941,
          -0.8811276355002566,
          -0.0487128978791522,
          -0.1678920918525373,
          -0.8951728764017474,
          -0.9479918671081174,
          -0.7568562250425523,
          0.0097283834774523,
          -0.1843690692985834,
          -0.1933740267916169,
          -0.1592872172614872,
          -0.2538573484059658,
          -0.5814026672137917,
          -0.0467591042068035,
          -0.0754523268383376,
          -0.4690823657496945,
          -0.589186523483392,
          -0.2033506481696688,
          -0.7774434477598652,
          -0.4637823376747887,
          -0.1348651927928223,
          -0.8730943815358114,
          -0.4196149613277445,
          -0.4033405625211292,
          -0.0199105761447388,
          -0.0492325457863259,
          -0.9310055887265006,
          -0.0765642496717528,
          0.0115678450957662,
          -0.2731143707969663,
          -0.7271601786804823,
          -0.4263699083981699,
          -0.0284478980935992,
          -0.1374632737544132,
          -0.8493115303359413,
          -0.771530212954096,
          -0.2871336055169567,
          -0.7220159498331625,
          -0.3271855829287173,
          -0.2723609051177063,
          -0.2660475874099536,
          -0.3599629653628793,
          -0.0752133554022343,
          -0.2722725792451715,
          0.3460915421309313,
          -0.2418178342526857,
          -0.1264839079329638,
          -0.1647432031382557,
          0.1343997975500012,
          -0.9334529844809534,
          -0.0106251007549126,
          -0.4742785276728762,
          -0.0393649442240143,
          -0.0774008875595307,
          0.0159326020823255,
          -0.0919450031378504,
          -0.432397475257974,
          -0.8707456982690657,
          -0.0724854021074194,
          -0.4648215542019975,
          -0.4636783922359264,
          0.1060287978502269,
          -0.3898305098060014,
          -0.8157702956073469,
          -0.0019474405705171,
          -0.8805664411323935,
          -0.9289894753631176,
          0.064875125645946,
          -0.2442496500843799,
          -0.242633698910119,
          -0.6804986668107098,
          -0.0974529220904807,
          -0.2280376502559376,
          0.3449483801648603,
          -0.2334884031815504,
          -0.7577707229005537,
          -0.4670039326952772,
          -0.3904124774042092,
          -0.9105742841674817,
          -0.0665253878898051,
          -0.7428162170922172,
          -0.2673674011210938,
          -0.1529583592745456,
          -0.057546436578272,
          -0.9266823782006308,
          -0.0327087889284347,
          -0.0632620878343499,
          -0.4952710662433277,
          -0.8566277510613683,
          -0.7004570632308309,
          -0.1857097355272072,
          -0.3917790705271946,
          -0.3659905322226832,
          -0.0648210315558709,
          -0.091835904034971,
          -0.2958787390564033,
          -0.9085945636007712,
          -0.8091920002819908,
          -0.2972661054097331,
          -0.7428005975258892,
          -0.9087816019610128,
          -0.2265255652334003,
          -0.9119772700871396,
          0.0041839924410106,
          -0.8358742632141588,
          -0.253259840528569,
          -0.7481578709149509,
          -0.3195939979705142,
          -0.1565384907363275,
          -0.7970277674595034,
          -0.9201715958738952,
          -0.0926620760204379,
          -0.754491961853048,
          -0.1773854581200885,
          -0.5685369017879061,
          -0.7327200307089746,
          -0.7543413162894792,
          -0.0689623573855161,
          -0.5584564142581302,
          -0.072869786155936,
          -0.870579433139169,
          -0.8856638905678682,
          -0.7340035309105808,
          -0.5380873897465759,
          -0.1057668128824269,
          -0.4437251494798223,
          0.0618406482728379,
          -0.7840217430852213,
          -0.4869571754513817,
          -0.3563256678740797,
          0.0304765590863676
         ],
         "y": [
          -0.9177761728388738,
          0.0485177132050903,
          -0.7185241442439151,
          -0.0724593959259191,
          0.0477954073713472,
          -0.0469877683148732,
          -0.8335671660516719,
          -0.8429358532935852,
          0.0408533426535418,
          -0.5407946490981848,
          -0.0948756143592347,
          0.0129084320372511,
          -0.050541893595155,
          -0.8752871466442634,
          -0.7925122856222365,
          -0.7902935143322842,
          -0.192256871007046,
          -0.0500119383599476,
          -0.1431790835847685,
          -0.8345700294257772,
          -0.8203844899323206,
          -0.8590803401234072,
          -0.3880742203962053,
          -0.7033149681460086,
          -0.7055129662056162,
          -0.1983623771242122,
          -0.7859806904215868,
          -0.419240805320123,
          -0.7661937127953792,
          -0.287580467830785,
          0.0150284115523578,
          -0.396232232673427,
          -0.5448424161041397,
          -0.1245768936724602,
          -0.5313324426761505,
          -0.4283444753008633,
          -0.7296595471543663,
          -0.7860274698334319,
          -0.2401030913035794,
          -0.0560915175827523,
          -0.0185959953847542,
          -0.2530260227564823,
          -0.3531040728535915,
          -0.8947415940106777,
          -0.844759695345571,
          -0.503377066157549,
          -0.8869837042790084,
          -0.7890257129841447,
          -0.2988405101233047,
          -0.1803836219836627,
          -0.4600410947471269,
          -0.6642242680040944,
          -0.4514154469257321,
          -0.8341387470347074,
          -0.8890050109499775,
          -0.3028675831860537,
          -0.874616853173521,
          -0.4313634916819209,
          -0.8631177601577592,
          -0.5853777279135403,
          0.0331371183132702,
          -0.6807740310434858,
          -0.8685373532378551,
          -0.2669932451134721,
          -0.5632368737130007,
          -0.7919407046392011,
          -0.2918308927633093,
          -0.4090615260155016,
          -0.8633931640341046,
          -0.6955311118764085,
          -0.1981544862464871,
          -0.5864220981047656,
          -0.1909838367077508,
          -0.9094259288938242,
          -0.5276950659002125,
          -0.0723190576903839,
          -0.403506827651026,
          -0.2757851580647638,
          -0.5135615784133261,
          -0.746993935718535,
          -0.6816262092104529,
          -0.883273660840433,
          -0.3736808296685932,
          -0.917199398548252,
          -0.7757910245017928,
          0.0161352600088949,
          0.3143949226846676,
          -0.0743819504656119,
          -0.8590231740963897,
          -0.0328386612616588,
          -0.1324750027089564,
          0.0266574561884823,
          -0.1960760531920701,
          -0.294803129732522,
          -0.3846967468609926,
          -0.8640322580157606,
          0.3070163029810676,
          0.0344984784850999,
          -0.2422646965665141,
          -0.7189242271458983,
          0.0444023935569454,
          -0.6639176646386624,
          -0.8965706293702497,
          -0.6896906626639846,
          -0.8578228461033013,
          -0.3992460161033291,
          -0.3326571883718139,
          -0.1548185941232041,
          0.0318743913420087,
          -0.0206224160761708,
          -0.4150059206667877,
          0.1320096074661353,
          -0.4763570400144319,
          -0.1975309721875899,
          -0.8044738605181545,
          -0.6762845553877193,
          -0.0832154891647317,
          -0.7667289802688808,
          -0.2673413949395935,
          -0.6375211525544429,
          -0.910517118140464,
          0.024989413364082,
          -0.8311353898635472,
          0.3630309221699949,
          -0.4031379045945597,
          -0.2937482936389856,
          0.0279720369484669,
          -0.550142523466184,
          -0.7362378424797223,
          -0.0979673370464988,
          -0.4280015584258975,
          0.1357508503937972,
          -0.2158214843575881,
          -0.5867650942668702,
          -0.1293104944283469,
          -0.3847435262728377,
          -0.8835334847940198,
          -0.5868430335242324,
          0.3591858130906093,
          -0.5366324707510564,
          -0.7381240835098812,
          -0.0355146021934731,
          0.0021315655680937,
          0.3628231898665474,
          -0.7012053752460743,
          -0.7528707777276316,
          -0.2174842149436941,
          -0.8811276355002566,
          -0.0487128978791522,
          -0.1678920918525373,
          -0.8951728764017474,
          -0.9479918671081174,
          -0.7568562250425523,
          0.0097283834774523,
          -0.1843690692985834,
          -0.1933740267916169,
          -0.1592872172614872,
          -0.2538573484059658,
          -0.5814026672137917,
          -0.0467591042068035,
          -0.0754523268383376,
          -0.4690823657496945,
          -0.589186523483392,
          -0.2033506481696688,
          -0.7774434477598652,
          -0.4637823376747887,
          -0.1348651927928223,
          -0.8730943815358114,
          -0.4196149613277445,
          -0.4033405625211292,
          -0.0199105761447388,
          -0.0492325457863259,
          -0.9310055887265006,
          -0.0765642496717528,
          0.0115678450957662,
          -0.2731143707969663,
          -0.7271601786804823,
          -0.4263699083981699,
          -0.0284478980935992,
          -0.1374632737544132,
          -0.8493115303359413,
          -0.771530212954096,
          -0.2871336055169567,
          -0.7220159498331625,
          -0.3271855829287173,
          -0.2723609051177063,
          -0.2660475874099536,
          -0.3599629653628793,
          -0.0752133554022343,
          -0.2722725792451715,
          0.3460915421309313,
          -0.2418178342526857,
          -0.1264839079329638,
          -0.1647432031382557,
          0.1343997975500012,
          -0.9334529844809534,
          -0.0106251007549126,
          -0.4742785276728762,
          -0.0393649442240143,
          -0.0774008875595307,
          0.0159326020823255,
          -0.0919450031378504,
          -0.432397475257974,
          -0.8707456982690657,
          -0.0724854021074194,
          -0.4648215542019975,
          -0.4636783922359264,
          0.1060287978502269,
          -0.3898305098060014,
          -0.8157702956073469,
          -0.0019474405705171,
          -0.8805664411323935,
          -0.9289894753631176,
          0.064875125645946,
          -0.2442496500843799,
          -0.242633698910119,
          -0.6804986668107098,
          -0.0974529220904807,
          -0.2280376502559376,
          0.3449483801648603,
          -0.2334884031815504,
          -0.7577707229005537,
          -0.4670039326952772,
          -0.3904124774042092,
          -0.9105742841674817,
          -0.0665253878898051,
          -0.7428162170922172,
          -0.2673674011210938,
          -0.1529583592745456,
          -0.057546436578272,
          -0.9266823782006308,
          -0.0327087889284347,
          -0.0632620878343499,
          -0.4952710662433277,
          -0.8566277510613683,
          -0.7004570632308309,
          -0.1857097355272072,
          -0.3917790705271946,
          -0.3659905322226832,
          -0.0648210315558709,
          -0.091835904034971,
          -0.2958787390564033,
          -0.9085945636007712,
          -0.8091920002819908,
          -0.2972661054097331,
          -0.7428005975258892,
          -0.9087816019610128,
          -0.2265255652334003,
          -0.9119772700871396,
          0.0041839924410106,
          -0.8358742632141588,
          -0.253259840528569,
          -0.7481578709149509,
          -0.3195939979705142,
          -0.1565384907363275,
          -0.7970277674595034,
          -0.9201715958738952,
          -0.0926620760204379,
          -0.754491961853048,
          -0.1773854581200885,
          -0.5685369017879061,
          -0.7327200307089746,
          -0.7543413162894792,
          -0.0689623573855161,
          -0.5584564142581302,
          -0.072869786155936,
          -0.870579433139169,
          -0.8856638905678682,
          -0.7340035309105808,
          -0.5380873897465759,
          -0.1057668128824269,
          -0.4437251494798223,
          0.0618406482728379,
          -0.7840217430852213,
          -0.4869571754513817,
          -0.3563256678740797,
          0.0304765590863676
         ]
        }
       ],
       "layout": {
        "template": {
         "data": {
          "bar": [
           {
            "error_x": {
             "color": "#f2f5fa"
            },
            "error_y": {
             "color": "#f2f5fa"
            },
            "marker": {
             "line": {
              "color": "rgb(17,17,17)",
              "width": 0.5
             },
             "pattern": {
              "fillmode": "overlay",
              "size": 10,
              "solidity": 0.2
             }
            },
            "type": "bar"
           }
          ],
          "barpolar": [
           {
            "marker": {
             "line": {
              "color": "rgb(17,17,17)",
              "width": 0.5
             },
             "pattern": {
              "fillmode": "overlay",
              "size": 10,
              "solidity": 0.2
             }
            },
            "type": "barpolar"
           }
          ],
          "carpet": [
           {
            "aaxis": {
             "endlinecolor": "#A2B1C6",
             "gridcolor": "#506784",
             "linecolor": "#506784",
             "minorgridcolor": "#506784",
             "startlinecolor": "#A2B1C6"
            },
            "baxis": {
             "endlinecolor": "#A2B1C6",
             "gridcolor": "#506784",
             "linecolor": "#506784",
             "minorgridcolor": "#506784",
             "startlinecolor": "#A2B1C6"
            },
            "type": "carpet"
           }
          ],
          "choropleth": [
           {
            "colorbar": {
             "outlinewidth": 0,
             "ticks": ""
            },
            "type": "choropleth"
           }
          ],
          "contour": [
           {
            "colorbar": {
             "outlinewidth": 0,
             "ticks": ""
            },
            "colorscale": [
             [
              0,
              "#0d0887"
             ],
             [
              0.1111111111111111,
              "#46039f"
             ],
             [
              0.2222222222222222,
              "#7201a8"
             ],
             [
              0.3333333333333333,
              "#9c179e"
             ],
             [
              0.4444444444444444,
              "#bd3786"
             ],
             [
              0.5555555555555556,
              "#d8576b"
             ],
             [
              0.6666666666666666,
              "#ed7953"
             ],
             [
              0.7777777777777778,
              "#fb9f3a"
             ],
             [
              0.8888888888888888,
              "#fdca26"
             ],
             [
              1,
              "#f0f921"
             ]
            ],
            "type": "contour"
           }
          ],
          "contourcarpet": [
           {
            "colorbar": {
             "outlinewidth": 0,
             "ticks": ""
            },
            "type": "contourcarpet"
           }
          ],
          "heatmap": [
           {
            "colorbar": {
             "outlinewidth": 0,
             "ticks": ""
            },
            "colorscale": [
             [
              0,
              "#0d0887"
             ],
             [
              0.1111111111111111,
              "#46039f"
             ],
             [
              0.2222222222222222,
              "#7201a8"
             ],
             [
              0.3333333333333333,
              "#9c179e"
             ],
             [
              0.4444444444444444,
              "#bd3786"
             ],
             [
              0.5555555555555556,
              "#d8576b"
             ],
             [
              0.6666666666666666,
              "#ed7953"
             ],
             [
              0.7777777777777778,
              "#fb9f3a"
             ],
             [
              0.8888888888888888,
              "#fdca26"
             ],
             [
              1,
              "#f0f921"
             ]
            ],
            "type": "heatmap"
           }
          ],
          "heatmapgl": [
           {
            "colorbar": {
             "outlinewidth": 0,
             "ticks": ""
            },
            "colorscale": [
             [
              0,
              "#0d0887"
             ],
             [
              0.1111111111111111,
              "#46039f"
             ],
             [
              0.2222222222222222,
              "#7201a8"
             ],
             [
              0.3333333333333333,
              "#9c179e"
             ],
             [
              0.4444444444444444,
              "#bd3786"
             ],
             [
              0.5555555555555556,
              "#d8576b"
             ],
             [
              0.6666666666666666,
              "#ed7953"
             ],
             [
              0.7777777777777778,
              "#fb9f3a"
             ],
             [
              0.8888888888888888,
              "#fdca26"
             ],
             [
              1,
              "#f0f921"
             ]
            ],
            "type": "heatmapgl"
           }
          ],
          "histogram": [
           {
            "marker": {
             "pattern": {
              "fillmode": "overlay",
              "size": 10,
              "solidity": 0.2
             }
            },
            "type": "histogram"
           }
          ],
          "histogram2d": [
           {
            "colorbar": {
             "outlinewidth": 0,
             "ticks": ""
            },
            "colorscale": [
             [
              0,
              "#0d0887"
             ],
             [
              0.1111111111111111,
              "#46039f"
             ],
             [
              0.2222222222222222,
              "#7201a8"
             ],
             [
              0.3333333333333333,
              "#9c179e"
             ],
             [
              0.4444444444444444,
              "#bd3786"
             ],
             [
              0.5555555555555556,
              "#d8576b"
             ],
             [
              0.6666666666666666,
              "#ed7953"
             ],
             [
              0.7777777777777778,
              "#fb9f3a"
             ],
             [
              0.8888888888888888,
              "#fdca26"
             ],
             [
              1,
              "#f0f921"
             ]
            ],
            "type": "histogram2d"
           }
          ],
          "histogram2dcontour": [
           {
            "colorbar": {
             "outlinewidth": 0,
             "ticks": ""
            },
            "colorscale": [
             [
              0,
              "#0d0887"
             ],
             [
              0.1111111111111111,
              "#46039f"
             ],
             [
              0.2222222222222222,
              "#7201a8"
             ],
             [
              0.3333333333333333,
              "#9c179e"
             ],
             [
              0.4444444444444444,
              "#bd3786"
             ],
             [
              0.5555555555555556,
              "#d8576b"
             ],
             [
              0.6666666666666666,
              "#ed7953"
             ],
             [
              0.7777777777777778,
              "#fb9f3a"
             ],
             [
              0.8888888888888888,
              "#fdca26"
             ],
             [
              1,
              "#f0f921"
             ]
            ],
            "type": "histogram2dcontour"
           }
          ],
          "mesh3d": [
           {
            "colorbar": {
             "outlinewidth": 0,
             "ticks": ""
            },
            "type": "mesh3d"
           }
          ],
          "parcoords": [
           {
            "line": {
             "colorbar": {
              "outlinewidth": 0,
              "ticks": ""
             }
            },
            "type": "parcoords"
           }
          ],
          "pie": [
           {
            "automargin": true,
            "type": "pie"
           }
          ],
          "scatter": [
           {
            "marker": {
             "line": {
              "color": "#283442"
             }
            },
            "type": "scatter"
           }
          ],
          "scatter3d": [
           {
            "line": {
             "colorbar": {
              "outlinewidth": 0,
              "ticks": ""
             }
            },
            "marker": {
             "colorbar": {
              "outlinewidth": 0,
              "ticks": ""
             }
            },
            "type": "scatter3d"
           }
          ],
          "scattercarpet": [
           {
            "marker": {
             "colorbar": {
              "outlinewidth": 0,
              "ticks": ""
             }
            },
            "type": "scattercarpet"
           }
          ],
          "scattergeo": [
           {
            "marker": {
             "colorbar": {
              "outlinewidth": 0,
              "ticks": ""
             }
            },
            "type": "scattergeo"
           }
          ],
          "scattergl": [
           {
            "marker": {
             "line": {
              "color": "#283442"
             }
            },
            "type": "scattergl"
           }
          ],
          "scattermapbox": [
           {
            "marker": {
             "colorbar": {
              "outlinewidth": 0,
              "ticks": ""
             }
            },
            "type": "scattermapbox"
           }
          ],
          "scatterpolar": [
           {
            "marker": {
             "colorbar": {
              "outlinewidth": 0,
              "ticks": ""
             }
            },
            "type": "scatterpolar"
           }
          ],
          "scatterpolargl": [
           {
            "marker": {
             "colorbar": {
              "outlinewidth": 0,
              "ticks": ""
             }
            },
            "type": "scatterpolargl"
           }
          ],
          "scatterternary": [
           {
            "marker": {
             "colorbar": {
              "outlinewidth": 0,
              "ticks": ""
             }
            },
            "type": "scatterternary"
           }
          ],
          "surface": [
           {
            "colorbar": {
             "outlinewidth": 0,
             "ticks": ""
            },
            "colorscale": [
             [
              0,
              "#0d0887"
             ],
             [
              0.1111111111111111,
              "#46039f"
             ],
             [
              0.2222222222222222,
              "#7201a8"
             ],
             [
              0.3333333333333333,
              "#9c179e"
             ],
             [
              0.4444444444444444,
              "#bd3786"
             ],
             [
              0.5555555555555556,
              "#d8576b"
             ],
             [
              0.6666666666666666,
              "#ed7953"
             ],
             [
              0.7777777777777778,
              "#fb9f3a"
             ],
             [
              0.8888888888888888,
              "#fdca26"
             ],
             [
              1,
              "#f0f921"
             ]
            ],
            "type": "surface"
           }
          ],
          "table": [
           {
            "cells": {
             "fill": {
              "color": "#506784"
             },
             "line": {
              "color": "rgb(17,17,17)"
             }
            },
            "header": {
             "fill": {
              "color": "#2a3f5f"
             },
             "line": {
              "color": "rgb(17,17,17)"
             }
            },
            "type": "table"
           }
          ]
         },
         "layout": {
          "annotationdefaults": {
           "arrowcolor": "#f2f5fa",
           "arrowhead": 0,
           "arrowwidth": 1
          },
          "autotypenumbers": "strict",
          "coloraxis": {
           "colorbar": {
            "outlinewidth": 0,
            "ticks": ""
           }
          },
          "colorscale": {
           "diverging": [
            [
             0,
             "#8e0152"
            ],
            [
             0.1,
             "#c51b7d"
            ],
            [
             0.2,
             "#de77ae"
            ],
            [
             0.3,
             "#f1b6da"
            ],
            [
             0.4,
             "#fde0ef"
            ],
            [
             0.5,
             "#f7f7f7"
            ],
            [
             0.6,
             "#e6f5d0"
            ],
            [
             0.7,
             "#b8e186"
            ],
            [
             0.8,
             "#7fbc41"
            ],
            [
             0.9,
             "#4d9221"
            ],
            [
             1,
             "#276419"
            ]
           ],
           "sequential": [
            [
             0,
             "#0d0887"
            ],
            [
             0.1111111111111111,
             "#46039f"
            ],
            [
             0.2222222222222222,
             "#7201a8"
            ],
            [
             0.3333333333333333,
             "#9c179e"
            ],
            [
             0.4444444444444444,
             "#bd3786"
            ],
            [
             0.5555555555555556,
             "#d8576b"
            ],
            [
             0.6666666666666666,
             "#ed7953"
            ],
            [
             0.7777777777777778,
             "#fb9f3a"
            ],
            [
             0.8888888888888888,
             "#fdca26"
            ],
            [
             1,
             "#f0f921"
            ]
           ],
           "sequentialminus": [
            [
             0,
             "#0d0887"
            ],
            [
             0.1111111111111111,
             "#46039f"
            ],
            [
             0.2222222222222222,
             "#7201a8"
            ],
            [
             0.3333333333333333,
             "#9c179e"
            ],
            [
             0.4444444444444444,
             "#bd3786"
            ],
            [
             0.5555555555555556,
             "#d8576b"
            ],
            [
             0.6666666666666666,
             "#ed7953"
            ],
            [
             0.7777777777777778,
             "#fb9f3a"
            ],
            [
             0.8888888888888888,
             "#fdca26"
            ],
            [
             1,
             "#f0f921"
            ]
           ]
          },
          "colorway": [
           "#636efa",
           "#EF553B",
           "#00cc96",
           "#ab63fa",
           "#FFA15A",
           "#19d3f3",
           "#FF6692",
           "#B6E880",
           "#FF97FF",
           "#FECB52"
          ],
          "font": {
           "color": "#f2f5fa"
          },
          "geo": {
           "bgcolor": "rgb(17,17,17)",
           "lakecolor": "rgb(17,17,17)",
           "landcolor": "rgb(17,17,17)",
           "showlakes": true,
           "showland": true,
           "subunitcolor": "#506784"
          },
          "hoverlabel": {
           "align": "left"
          },
          "hovermode": "closest",
          "mapbox": {
           "style": "dark"
          },
          "paper_bgcolor": "rgb(17,17,17)",
          "plot_bgcolor": "rgb(17,17,17)",
          "polar": {
           "angularaxis": {
            "gridcolor": "#506784",
            "linecolor": "#506784",
            "ticks": ""
           },
           "bgcolor": "rgb(17,17,17)",
           "radialaxis": {
            "gridcolor": "#506784",
            "linecolor": "#506784",
            "ticks": ""
           }
          },
          "scene": {
           "xaxis": {
            "backgroundcolor": "rgb(17,17,17)",
            "gridcolor": "#506784",
            "gridwidth": 2,
            "linecolor": "#506784",
            "showbackground": true,
            "ticks": "",
            "zerolinecolor": "#C8D4E3"
           },
           "yaxis": {
            "backgroundcolor": "rgb(17,17,17)",
            "gridcolor": "#506784",
            "gridwidth": 2,
            "linecolor": "#506784",
            "showbackground": true,
            "ticks": "",
            "zerolinecolor": "#C8D4E3"
           },
           "zaxis": {
            "backgroundcolor": "rgb(17,17,17)",
            "gridcolor": "#506784",
            "gridwidth": 2,
            "linecolor": "#506784",
            "showbackground": true,
            "ticks": "",
            "zerolinecolor": "#C8D4E3"
           }
          },
          "shapedefaults": {
           "line": {
            "color": "#f2f5fa"
           }
          },
          "sliderdefaults": {
           "bgcolor": "#C8D4E3",
           "bordercolor": "rgb(17,17,17)",
           "borderwidth": 1,
           "tickwidth": 0
          },
          "ternary": {
           "aaxis": {
            "gridcolor": "#506784",
            "linecolor": "#506784",
            "ticks": ""
           },
           "baxis": {
            "gridcolor": "#506784",
            "linecolor": "#506784",
            "ticks": ""
           },
           "bgcolor": "rgb(17,17,17)",
           "caxis": {
            "gridcolor": "#506784",
            "linecolor": "#506784",
            "ticks": ""
           }
          },
          "title": {
           "x": 0.05
          },
          "updatemenudefaults": {
           "bgcolor": "#506784",
           "borderwidth": 0
          },
          "xaxis": {
           "automargin": true,
           "gridcolor": "#283442",
           "linecolor": "#506784",
           "ticks": "",
           "title": {
            "standoff": 15
           },
           "zerolinecolor": "#283442",
           "zerolinewidth": 2
          },
          "yaxis": {
           "automargin": true,
           "gridcolor": "#283442",
           "linecolor": "#506784",
           "ticks": "",
           "title": {
            "standoff": 15
           },
           "zerolinecolor": "#283442",
           "zerolinewidth": 2
          }
         }
        },
        "title": {
         "text": "AAPL Actual vs Predicted Closing Prices"
        },
        "xaxis": {
         "title": {
          "text": "Actual Closing Price"
         }
        },
        "yaxis": {
         "title": {
          "text": "Predicted Closing Price"
         }
        }
       }
      }
     },
     "metadata": {},
     "output_type": "display_data"
    }
   ],
   "source": [
    "fig = go.Figure()\n",
    "\n",
    "fig.add_trace(go.Scatter(x = y_test, y = y_pred,\n",
    "                        mode = 'markers',\n",
    "                        name = 'Predicted vs Actual'))\n",
    "\n",
    "fig.add_trace(go.Scatter(x = y_test, y = y_test,\n",
    "                        mode = 'lines',\n",
    "                        name = 'Ideal Line'))\n",
    "\n",
    "fig.update_layout(title = 'AAPL Actual vs Predicted Closing Prices',\n",
    "                xaxis_title = 'Actual Closing Price',\n",
    "                yaxis_title = 'Predicted Closing Price',\n",
    "                template = 'plotly_dark')\n",
    "\n",
    "fig.show()\n",
    "\n",
    "\n"
   ]
  },
  {
   "cell_type": "markdown",
   "metadata": {},
   "source": [
    "#### Pretty good, we will improve this further later on in the project.  Let's look at a residuals plot as well now."
   ]
  },
  {
   "cell_type": "code",
   "execution_count": 11,
   "metadata": {},
   "outputs": [
    {
     "data": {
      "application/vnd.plotly.v1+json": {
       "config": {
        "plotlyServerURL": "https://plot.ly"
       },
       "data": [
        {
         "mode": "markers",
         "name": "Residuals",
         "type": "scatter",
         "x": [
          -0.864525515675843,
          0.020294076802178745,
          -0.6727148884465854,
          -0.047610818477212234,
          0.0014317043769458563,
          -0.06512669995628702,
          -0.7973582752725523,
          -0.8375488825070434,
          0.03700813231808423,
          -0.5834904863378151,
          -0.07095975802563113,
          0.011332081086077774,
          -0.007541220621764242,
          -0.8421910809284894,
          -0.7729449326908675,
          -0.7575129906539984,
          -0.13778277549044307,
          0.004063532568091195,
          -0.18816982764867274,
          -0.8026454287553083,
          -0.8462645683024335,
          -0.8878641623106159,
          -0.4452620518842179,
          -0.6778862266283578,
          -0.7294181033767803,
          -0.2851179910722383,
          -0.792532142939672,
          -0.4537402126171069,
          -0.768641708801524,
          -0.321493849482402,
          0.030915451273001184,
          -0.3414273839455443,
          -0.5324810779272864,
          -0.13632204091585307,
          -0.5340206502853319,
          -0.37902511944837813,
          -0.737294241075417,
          -0.7534151211710377,
          -0.2912195774007215,
          -0.018666010095935052,
          -0.02056255119689116,
          -0.298349449831401,
          -0.41234536585899084,
          -0.8614968091935895,
          -0.8760750917066255,
          -0.49580507284973785,
          -0.8545848815530781,
          -0.7654754796703918,
          -0.28654357748782366,
          -0.19103741320815892,
          -0.3944874722195899,
          -0.6395472791692565,
          -0.4526245014008873,
          -0.8157429440761439,
          -0.8853052273734945,
          -0.2957486594076257,
          -0.8413349728527514,
          -0.45798132761896637,
          -0.8923280669723362,
          -0.5833013321161502,
          0.029268336557350116,
          -0.703208588694331,
          -0.9217835973885282,
          -0.2147687906803986,
          -0.5199357949382202,
          -0.7947861712171733,
          -0.3299528287003886,
          -0.48079817171399836,
          -0.8783990551240278,
          -0.7118759826889667,
          -0.26089861530215724,
          -0.5855155303347161,
          -0.19856981961188772,
          -0.9015801983770003,
          -0.5263885106914091,
          -0.058259154211686565,
          -0.42544526121299187,
          -0.32891878520955015,
          -0.5098261446908551,
          -0.7572618726171231,
          -0.6906581265355011,
          -0.8957645767072059,
          -0.3718345728176102,
          -0.9227082350453737,
          -0.7764494808490799,
          -0.0009938251646406764,
          0.17782100751459418,
          -0.10854007706995987,
          -0.8431891390045283,
          -0.04584719575290909,
          -0.1711655276354559,
          0.023783007139625934,
          -0.1921063400136377,
          -0.27111192630211967,
          -0.4092951798945368,
          -0.881679566815241,
          0.21470083421540578,
          0.028168893849965702,
          -0.2933825901559913,
          -0.746227295831203,
          0.02883602081837866,
          -0.6663843656429828,
          -0.9074017882077752,
          -0.7140659167850602,
          -0.862496708506312,
          -0.4104656241162748,
          -0.2336852336638435,
          -0.1786922767876378,
          0.022688525818199978,
          0.008058096699594714,
          -0.4785120216550685,
          0.10345610633468344,
          -0.4002919391318502,
          -0.2630374611932814,
          -0.8148395006106968,
          -0.6804453933319151,
          -0.03626807584524845,
          -0.7844187793850705,
          -0.2983759703855816,
          -0.6405731974500735,
          -0.9256944176864942,
          0.012473335234077697,
          -0.8118870470811154,
          0.31559065179714824,
          -0.45518098221681147,
          -0.3408795309383997,
          0.017196759830799102,
          -0.4526758407527949,
          -0.7686045313490151,
          -0.05964330833577404,
          -0.446002622178887,
          0.12650922060339845,
          -0.28749422141721626,
          -0.6253042403984733,
          -0.1438263011507764,
          -0.39712773235502474,
          -0.9114269690945636,
          -0.6465911579545954,
          0.3073135930661422,
          -0.5239479947172708,
          -0.7634127644160722,
          0.001735581363121521,
          0.029184584095027305,
          0.2996971333303349,
          -0.7148018261533212,
          -0.7814606603122867,
          -0.19251815261475344,
          -0.8812772327465637,
          -0.012073417871661793,
          -0.16422705878420224,
          -0.9017620196751037,
          -0.995579756129561,
          -0.7406072477667022,
          -0.009774946866900915,
          -0.18382951745710882,
          -0.23988344984838594,
          -0.2081090614124075,
          -0.3126941435309823,
          -0.6228888267981919,
          -0.0060372050830275895,
          -0.0850335656587963,
          -0.4017085658162256,
          -0.5944793204651043,
          -0.2599014249301293,
          -0.8001417857012106,
          -0.3973447501780448,
          -0.19520356194073304,
          -0.8800955321901384,
          -0.4246950697886284,
          -0.45178654188566103,
          0.0036870383168898695,
          0.012620968011824763,
          -0.9631696947517788,
          -0.07655434349074736,
          -0.011475371847190061,
          -0.16849565028071772,
          -0.7475405712062604,
          -0.38897872429203695,
          0.025675016842801192,
          -0.12728888889968712,
          -0.8536520118117886,
          -0.7563400523298621,
          -0.3258689403331156,
          -0.7646332508721122,
          -0.331591566460757,
          -0.23247733262746575,
          -0.3087058735493824,
          -0.4206482306683559,
          -0.09348144440003514,
          -0.21336085012845918,
          0.3123021523729664,
          -0.21578210229066758,
          -0.13847400949892905,
          -0.1286951347002879,
          0.13061830042335243,
          -0.8669641135836322,
          0.02567467302948747,
          -0.4455747418194035,
          -0.0028724366116382287,
          -0.10840117251400157,
          0.02541655215000756,
          -0.12318130929047066,
          -0.3693780862436944,
          -0.8808041166351507,
          -0.07764480840854956,
          -0.39799334032113526,
          -0.3831871160940108,
          0.09798246578393903,
          -0.2762388905889689,
          -0.8070815302419709,
          -0.005630156186752403,
          -0.9088627660262213,
          -0.9182762423035444,
          0.053484688381726014,
          -0.2892915344244521,
          -0.28935170031588714,
          -0.6487475327280514,
          -0.1120263545048531,
          -0.2917225023164953,
          0.27547746213658136,
          -0.2641314862845718,
          -0.7610610378830066,
          -0.4500268905148043,
          -0.34660422081546,
          -0.8956916454565946,
          -0.06687537362637366,
          -0.7218130395354857,
          -0.28522931024663584,
          -0.1846861371005398,
          -0.05790780028020095,
          -0.9466834099273724,
          -0.03212026037060042,
          -0.10136158439188298,
          -0.49804314991687776,
          -0.8652099018162231,
          -0.7110334026585372,
          -0.18332466393926852,
          -0.4535602081158677,
          -0.4058941149546141,
          -0.0629468196465667,
          -0.07079358473324698,
          -0.17618673795202805,
          -0.9164333026805616,
          -0.8007721569483044,
          -0.2988985915852632,
          -0.7257863806564572,
          -0.8443360606440656,
          -0.25349413690466,
          -0.9127231686294518,
          0.03115869053338489,
          -0.8138250784332619,
          -0.2976675740605553,
          -0.771407000461681,
          -0.29390282750351304,
          -0.10827501826040806,
          -0.7994740721084986,
          -0.846849100857936,
          -0.09064692086517116,
          -0.7713247821924325,
          -0.2087540317731445,
          -0.5360547123846486,
          -0.7339232871856126,
          -0.765816912020503,
          -0.06228962706540807,
          -0.5344413578840196,
          -0.0034161264081108457,
          -0.8314349404570224,
          -0.8840652776161395,
          -0.7124548024048531,
          -0.5105700579891791,
          -0.11938149239231399,
          -0.40818388647504056,
          0.06916704595857207,
          -0.8102165406341365,
          -0.42666930660565644,
          -0.34247010707720243,
          0.005186941270705104
         ],
         "y": [
          -0.05325065716303079,
          0.028223636402911558,
          -0.04580925579732964,
          -0.024848577448706867,
          0.046363702994401346,
          0.018138931641413815,
          -0.036208890779119596,
          -0.005386970786541823,
          0.003845210335457566,
          0.04269583723963033,
          -0.02391585633360356,
          0.0015763509511733265,
          -0.04300067297339076,
          -0.03309606571577406,
          -0.01956735293136902,
          -0.03278052367828588,
          -0.05447409551660293,
          -0.05407547092803879,
          0.04499074406390424,
          -0.03192460067046887,
          0.025880078370112858,
          0.028783822187208763,
          0.0571878314880126,
          -0.025428741517650733,
          0.023905137171164048,
          0.08675561394802608,
          0.006551452518085199,
          0.03449940729698392,
          0.0024479960061448702,
          0.033913381651617,
          -0.015887039720643384,
          -0.054804848727882716,
          -0.012361338176853365,
          0.011745147243392859,
          0.0026882076091813145,
          -0.04931935585248515,
          0.00763469392105065,
          -0.03261234866239415,
          0.051116486097142116,
          -0.03742550748681725,
          0.00196655581213696,
          0.04532342707491871,
          0.05924129300539932,
          -0.03324478481708815,
          0.031315396361054404,
          -0.007571993307811109,
          -0.03239882272593031,
          -0.023550233313752944,
          -0.01229693263548104,
          0.010653791224496223,
          -0.06555362252753699,
          -0.024676988834837932,
          0.0012090544751551802,
          -0.018395802958563467,
          -0.00369978357648304,
          -0.0071189237784280435,
          -0.03328188032076962,
          0.026617835937045475,
          0.029210306814577036,
          -0.0020763957973900515,
          0.003868781755920085,
          0.022434557650845233,
          0.05324624415067314,
          -0.0522244544330735,
          -0.04330107877478051,
          0.0028454665779722443,
          0.0381219359370793,
          0.07173664569849675,
          0.015005891089923229,
          0.0163448708125582,
          0.06274412905567014,
          -0.0009065677700494934,
          0.007585982904136923,
          -0.007845730516823912,
          -0.001306555208803406,
          -0.01405990347869733,
          0.021938433561965842,
          0.053133627144786366,
          -0.003735433722470982,
          0.01026793689858807,
          0.009031917325048155,
          0.012490915866772867,
          -0.0018462568509829969,
          0.005508836497121639,
          0.0006584563472871174,
          0.017129085173535577,
          0.13657391517007345,
          0.03415812660434797,
          -0.01583403509186143,
          0.013008534491250293,
          0.03869052492649949,
          0.0028744490488563645,
          -0.003969713178432421,
          -0.02369120343040232,
          0.024598433033544198,
          0.0176473087994804,
          0.0923154687656618,
          0.0063295846351341944,
          0.05111789358947719,
          0.027303068685304632,
          0.015566372738566737,
          0.0024667010043203375,
          0.0108311588375255,
          0.02437525412107555,
          0.004673862403010709,
          0.011219608012945692,
          -0.0989719547079704,
          0.02387368266443371,
          0.009185865523808723,
          -0.028680512775765513,
          0.0635061009882808,
          0.02855350113145186,
          -0.07606510088258173,
          0.06550648900569153,
          0.010365640092542261,
          0.004160837944195861,
          -0.04694741331948325,
          0.01768979911618973,
          0.03103457544598809,
          0.0030520448956306012,
          0.015177299546030198,
          0.012516078130004302,
          -0.019248342782431815,
          0.04744027037284665,
          0.05204307762225174,
          0.0471312372994141,
          0.010775277117667799,
          -0.0974666827133891,
          0.032366688869292726,
          -0.03832402871072477,
          0.018001063752989488,
          0.009241629790398748,
          0.07167273705962815,
          0.03853914613160314,
          0.014515806722429497,
          0.012384206082187044,
          0.027893484300543725,
          0.05974812443036304,
          0.05187222002446712,
          -0.01268447603378553,
          0.025288680906190963,
          -0.03725018355659462,
          -0.027053018526933606,
          0.0631260565362125,
          0.013596450907246926,
          0.028589882584655113,
          -0.024966062328940664,
          0.00014959724630703164,
          -0.036639480007490406,
          -0.003665033068335072,
          0.006589143273356357,
          0.04758788902144351,
          -0.016248977275850174,
          0.019503330344353215,
          -0.0005395518414745837,
          0.046509423056769056,
          0.04882184415092031,
          0.058836795125016494,
          0.04148615958440016,
          -0.04072189912377591,
          0.009581238820458707,
          -0.06737379993346887,
          0.005292796981712367,
          0.0565507767604605,
          0.02269833794134546,
          -0.06643758749674389,
          0.06033836914791074,
          0.0070011506543269375,
          0.005080108460883914,
          0.04844597936453182,
          -0.02359761446162867,
          -0.06185351379815067,
          0.032164106025278194,
          -0.000009906181005436832,
          0.02304321694295626,
          -0.1046187205162486,
          0.020380392525778057,
          -0.03739118410613296,
          -0.054122914936400396,
          -0.010174384854726076,
          0.004340481475847313,
          -0.01519016062423384,
          0.03873533481615887,
          0.04261730103894967,
          0.004405983532039692,
          -0.03988357249024052,
          0.04265828613942879,
          0.06068526530547658,
          0.018268088997800844,
          -0.05891172911671233,
          0.033789389757964916,
          -0.02603573196201811,
          0.01199010156596525,
          -0.03604806843796779,
          0.0037814971266487696,
          -0.06648887089732114,
          -0.036299773784400066,
          -0.02870378585347272,
          -0.036492507612376074,
          0.031000284954470866,
          -0.00948395006768206,
          0.03123630615262027,
          -0.06301938901427961,
          0.010058418366085009,
          0.005159406301130168,
          -0.06682821388086224,
          -0.08049127614191559,
          0.008046332066287867,
          -0.11359161921703254,
          -0.008688765365375994,
          0.0036827156162353033,
          0.02829632489382783,
          -0.010713233059573168,
          0.011390437264219982,
          0.0450418843400722,
          0.04671800140576815,
          -0.031751134082658394,
          0.014573432414372395,
          0.06368485206055771,
          0.06947091802827893,
          0.030643083103021385,
          0.003290314982452913,
          -0.016977042180472857,
          -0.043808256588749206,
          -0.01488263871088702,
          0.00034998573656856713,
          -0.021003177556731534,
          0.01786190912554203,
          0.0317277778259942,
          0.00036136370192894895,
          0.020001031726741614,
          -0.0005885285578342767,
          0.03809949655753307,
          0.0027720836735500853,
          0.0085821507548548,
          0.010576339427706305,
          -0.0023850715879386863,
          0.06178113758867315,
          0.0399035827319309,
          -0.001874211909304202,
          -0.02104231930172401,
          -0.11969200110437522,
          0.00783873907979038,
          -0.008419843333686394,
          0.0016324861755301345,
          -0.017014216869432053,
          -0.06444554131694713,
          0.026968571671259683,
          0.0007458985423122177,
          -0.02697469809237429,
          -0.022049184780896902,
          0.04440773353198629,
          0.023249129546730085,
          -0.025691170467001145,
          -0.048263472475919444,
          0.002446304648995201,
          -0.07332249501595922,
          -0.0020151551552667346,
          0.01683282033938449,
          0.03136857365305601,
          -0.03248218940325742,
          0.0012032564766379927,
          0.011475595731023747,
          -0.006672730320108025,
          -0.02401505637411061,
          -0.06945365974782516,
          -0.03914449268214659,
          -0.0015986129517286951,
          -0.021548728505727643,
          -0.02751733175739679,
          0.013614679509887095,
          -0.03554126300478172,
          -0.007326397685734162,
          0.026194797548915183,
          -0.060287868845725234,
          -0.013855560796877275,
          0.025289617815662496
         ]
        },
        {
         "mode": "lines",
         "name": "Zero Line",
         "type": "scatter",
         "x": [
          -0.864525515675843,
          0.020294076802178745,
          -0.6727148884465854,
          -0.047610818477212234,
          0.0014317043769458563,
          -0.06512669995628702,
          -0.7973582752725523,
          -0.8375488825070434,
          0.03700813231808423,
          -0.5834904863378151,
          -0.07095975802563113,
          0.011332081086077774,
          -0.007541220621764242,
          -0.8421910809284894,
          -0.7729449326908675,
          -0.7575129906539984,
          -0.13778277549044307,
          0.004063532568091195,
          -0.18816982764867274,
          -0.8026454287553083,
          -0.8462645683024335,
          -0.8878641623106159,
          -0.4452620518842179,
          -0.6778862266283578,
          -0.7294181033767803,
          -0.2851179910722383,
          -0.792532142939672,
          -0.4537402126171069,
          -0.768641708801524,
          -0.321493849482402,
          0.030915451273001184,
          -0.3414273839455443,
          -0.5324810779272864,
          -0.13632204091585307,
          -0.5340206502853319,
          -0.37902511944837813,
          -0.737294241075417,
          -0.7534151211710377,
          -0.2912195774007215,
          -0.018666010095935052,
          -0.02056255119689116,
          -0.298349449831401,
          -0.41234536585899084,
          -0.8614968091935895,
          -0.8760750917066255,
          -0.49580507284973785,
          -0.8545848815530781,
          -0.7654754796703918,
          -0.28654357748782366,
          -0.19103741320815892,
          -0.3944874722195899,
          -0.6395472791692565,
          -0.4526245014008873,
          -0.8157429440761439,
          -0.8853052273734945,
          -0.2957486594076257,
          -0.8413349728527514,
          -0.45798132761896637,
          -0.8923280669723362,
          -0.5833013321161502,
          0.029268336557350116,
          -0.703208588694331,
          -0.9217835973885282,
          -0.2147687906803986,
          -0.5199357949382202,
          -0.7947861712171733,
          -0.3299528287003886,
          -0.48079817171399836,
          -0.8783990551240278,
          -0.7118759826889667,
          -0.26089861530215724,
          -0.5855155303347161,
          -0.19856981961188772,
          -0.9015801983770003,
          -0.5263885106914091,
          -0.058259154211686565,
          -0.42544526121299187,
          -0.32891878520955015,
          -0.5098261446908551,
          -0.7572618726171231,
          -0.6906581265355011,
          -0.8957645767072059,
          -0.3718345728176102,
          -0.9227082350453737,
          -0.7764494808490799,
          -0.0009938251646406764,
          0.17782100751459418,
          -0.10854007706995987,
          -0.8431891390045283,
          -0.04584719575290909,
          -0.1711655276354559,
          0.023783007139625934,
          -0.1921063400136377,
          -0.27111192630211967,
          -0.4092951798945368,
          -0.881679566815241,
          0.21470083421540578,
          0.028168893849965702,
          -0.2933825901559913,
          -0.746227295831203,
          0.02883602081837866,
          -0.6663843656429828,
          -0.9074017882077752,
          -0.7140659167850602,
          -0.862496708506312,
          -0.4104656241162748,
          -0.2336852336638435,
          -0.1786922767876378,
          0.022688525818199978,
          0.008058096699594714,
          -0.4785120216550685,
          0.10345610633468344,
          -0.4002919391318502,
          -0.2630374611932814,
          -0.8148395006106968,
          -0.6804453933319151,
          -0.03626807584524845,
          -0.7844187793850705,
          -0.2983759703855816,
          -0.6405731974500735,
          -0.9256944176864942,
          0.012473335234077697,
          -0.8118870470811154,
          0.31559065179714824,
          -0.45518098221681147,
          -0.3408795309383997,
          0.017196759830799102,
          -0.4526758407527949,
          -0.7686045313490151,
          -0.05964330833577404,
          -0.446002622178887,
          0.12650922060339845,
          -0.28749422141721626,
          -0.6253042403984733,
          -0.1438263011507764,
          -0.39712773235502474,
          -0.9114269690945636,
          -0.6465911579545954,
          0.3073135930661422,
          -0.5239479947172708,
          -0.7634127644160722,
          0.001735581363121521,
          0.029184584095027305,
          0.2996971333303349,
          -0.7148018261533212,
          -0.7814606603122867,
          -0.19251815261475344,
          -0.8812772327465637,
          -0.012073417871661793,
          -0.16422705878420224,
          -0.9017620196751037,
          -0.995579756129561,
          -0.7406072477667022,
          -0.009774946866900915,
          -0.18382951745710882,
          -0.23988344984838594,
          -0.2081090614124075,
          -0.3126941435309823,
          -0.6228888267981919,
          -0.0060372050830275895,
          -0.0850335656587963,
          -0.4017085658162256,
          -0.5944793204651043,
          -0.2599014249301293,
          -0.8001417857012106,
          -0.3973447501780448,
          -0.19520356194073304,
          -0.8800955321901384,
          -0.4246950697886284,
          -0.45178654188566103,
          0.0036870383168898695,
          0.012620968011824763,
          -0.9631696947517788,
          -0.07655434349074736,
          -0.011475371847190061,
          -0.16849565028071772,
          -0.7475405712062604,
          -0.38897872429203695,
          0.025675016842801192,
          -0.12728888889968712,
          -0.8536520118117886,
          -0.7563400523298621,
          -0.3258689403331156,
          -0.7646332508721122,
          -0.331591566460757,
          -0.23247733262746575,
          -0.3087058735493824,
          -0.4206482306683559,
          -0.09348144440003514,
          -0.21336085012845918,
          0.3123021523729664,
          -0.21578210229066758,
          -0.13847400949892905,
          -0.1286951347002879,
          0.13061830042335243,
          -0.8669641135836322,
          0.02567467302948747,
          -0.4455747418194035,
          -0.0028724366116382287,
          -0.10840117251400157,
          0.02541655215000756,
          -0.12318130929047066,
          -0.3693780862436944,
          -0.8808041166351507,
          -0.07764480840854956,
          -0.39799334032113526,
          -0.3831871160940108,
          0.09798246578393903,
          -0.2762388905889689,
          -0.8070815302419709,
          -0.005630156186752403,
          -0.9088627660262213,
          -0.9182762423035444,
          0.053484688381726014,
          -0.2892915344244521,
          -0.28935170031588714,
          -0.6487475327280514,
          -0.1120263545048531,
          -0.2917225023164953,
          0.27547746213658136,
          -0.2641314862845718,
          -0.7610610378830066,
          -0.4500268905148043,
          -0.34660422081546,
          -0.8956916454565946,
          -0.06687537362637366,
          -0.7218130395354857,
          -0.28522931024663584,
          -0.1846861371005398,
          -0.05790780028020095,
          -0.9466834099273724,
          -0.03212026037060042,
          -0.10136158439188298,
          -0.49804314991687776,
          -0.8652099018162231,
          -0.7110334026585372,
          -0.18332466393926852,
          -0.4535602081158677,
          -0.4058941149546141,
          -0.0629468196465667,
          -0.07079358473324698,
          -0.17618673795202805,
          -0.9164333026805616,
          -0.8007721569483044,
          -0.2988985915852632,
          -0.7257863806564572,
          -0.8443360606440656,
          -0.25349413690466,
          -0.9127231686294518,
          0.03115869053338489,
          -0.8138250784332619,
          -0.2976675740605553,
          -0.771407000461681,
          -0.29390282750351304,
          -0.10827501826040806,
          -0.7994740721084986,
          -0.846849100857936,
          -0.09064692086517116,
          -0.7713247821924325,
          -0.2087540317731445,
          -0.5360547123846486,
          -0.7339232871856126,
          -0.765816912020503,
          -0.06228962706540807,
          -0.5344413578840196,
          -0.0034161264081108457,
          -0.8314349404570224,
          -0.8840652776161395,
          -0.7124548024048531,
          -0.5105700579891791,
          -0.11938149239231399,
          -0.40818388647504056,
          0.06916704595857207,
          -0.8102165406341365,
          -0.42666930660565644,
          -0.34247010707720243,
          0.005186941270705104
         ],
         "y": [
          0,
          0,
          0,
          0,
          0,
          0,
          0,
          0,
          0,
          0,
          0,
          0,
          0,
          0,
          0,
          0,
          0,
          0,
          0,
          0,
          0,
          0,
          0,
          0,
          0,
          0,
          0,
          0,
          0,
          0,
          0,
          0,
          0,
          0,
          0,
          0,
          0,
          0,
          0,
          0,
          0,
          0,
          0,
          0,
          0,
          0,
          0,
          0,
          0,
          0,
          0,
          0,
          0,
          0,
          0,
          0,
          0,
          0,
          0,
          0,
          0,
          0,
          0,
          0,
          0,
          0,
          0,
          0,
          0,
          0,
          0,
          0,
          0,
          0,
          0,
          0,
          0,
          0,
          0,
          0,
          0,
          0,
          0,
          0,
          0,
          0,
          0,
          0,
          0,
          0,
          0,
          0,
          0,
          0,
          0,
          0,
          0,
          0,
          0,
          0,
          0,
          0,
          0,
          0,
          0,
          0,
          0,
          0,
          0,
          0,
          0,
          0,
          0,
          0,
          0,
          0,
          0,
          0,
          0,
          0,
          0,
          0,
          0,
          0,
          0,
          0,
          0,
          0,
          0,
          0,
          0,
          0,
          0,
          0,
          0,
          0,
          0,
          0,
          0,
          0,
          0,
          0,
          0,
          0,
          0,
          0,
          0,
          0,
          0,
          0,
          0,
          0,
          0,
          0,
          0,
          0,
          0,
          0,
          0,
          0,
          0,
          0,
          0,
          0,
          0,
          0,
          0,
          0,
          0,
          0,
          0,
          0,
          0,
          0,
          0,
          0,
          0,
          0,
          0,
          0,
          0,
          0,
          0,
          0,
          0,
          0,
          0,
          0,
          0,
          0,
          0,
          0,
          0,
          0,
          0,
          0,
          0,
          0,
          0,
          0,
          0,
          0,
          0,
          0,
          0,
          0,
          0,
          0,
          0,
          0,
          0,
          0,
          0,
          0,
          0,
          0,
          0,
          0,
          0,
          0,
          0,
          0,
          0,
          0,
          0,
          0,
          0,
          0,
          0,
          0,
          0,
          0,
          0,
          0,
          0,
          0,
          0,
          0,
          0,
          0,
          0,
          0,
          0,
          0,
          0,
          0,
          0,
          0,
          0,
          0,
          0,
          0,
          0,
          0,
          0,
          0,
          0,
          0,
          0,
          0,
          0,
          0,
          0,
          0,
          0,
          0,
          0,
          0,
          0,
          0,
          0,
          0,
          0,
          0,
          0,
          0,
          0
         ]
        }
       ],
       "layout": {
        "template": {
         "data": {
          "bar": [
           {
            "error_x": {
             "color": "#f2f5fa"
            },
            "error_y": {
             "color": "#f2f5fa"
            },
            "marker": {
             "line": {
              "color": "rgb(17,17,17)",
              "width": 0.5
             },
             "pattern": {
              "fillmode": "overlay",
              "size": 10,
              "solidity": 0.2
             }
            },
            "type": "bar"
           }
          ],
          "barpolar": [
           {
            "marker": {
             "line": {
              "color": "rgb(17,17,17)",
              "width": 0.5
             },
             "pattern": {
              "fillmode": "overlay",
              "size": 10,
              "solidity": 0.2
             }
            },
            "type": "barpolar"
           }
          ],
          "carpet": [
           {
            "aaxis": {
             "endlinecolor": "#A2B1C6",
             "gridcolor": "#506784",
             "linecolor": "#506784",
             "minorgridcolor": "#506784",
             "startlinecolor": "#A2B1C6"
            },
            "baxis": {
             "endlinecolor": "#A2B1C6",
             "gridcolor": "#506784",
             "linecolor": "#506784",
             "minorgridcolor": "#506784",
             "startlinecolor": "#A2B1C6"
            },
            "type": "carpet"
           }
          ],
          "choropleth": [
           {
            "colorbar": {
             "outlinewidth": 0,
             "ticks": ""
            },
            "type": "choropleth"
           }
          ],
          "contour": [
           {
            "colorbar": {
             "outlinewidth": 0,
             "ticks": ""
            },
            "colorscale": [
             [
              0,
              "#0d0887"
             ],
             [
              0.1111111111111111,
              "#46039f"
             ],
             [
              0.2222222222222222,
              "#7201a8"
             ],
             [
              0.3333333333333333,
              "#9c179e"
             ],
             [
              0.4444444444444444,
              "#bd3786"
             ],
             [
              0.5555555555555556,
              "#d8576b"
             ],
             [
              0.6666666666666666,
              "#ed7953"
             ],
             [
              0.7777777777777778,
              "#fb9f3a"
             ],
             [
              0.8888888888888888,
              "#fdca26"
             ],
             [
              1,
              "#f0f921"
             ]
            ],
            "type": "contour"
           }
          ],
          "contourcarpet": [
           {
            "colorbar": {
             "outlinewidth": 0,
             "ticks": ""
            },
            "type": "contourcarpet"
           }
          ],
          "heatmap": [
           {
            "colorbar": {
             "outlinewidth": 0,
             "ticks": ""
            },
            "colorscale": [
             [
              0,
              "#0d0887"
             ],
             [
              0.1111111111111111,
              "#46039f"
             ],
             [
              0.2222222222222222,
              "#7201a8"
             ],
             [
              0.3333333333333333,
              "#9c179e"
             ],
             [
              0.4444444444444444,
              "#bd3786"
             ],
             [
              0.5555555555555556,
              "#d8576b"
             ],
             [
              0.6666666666666666,
              "#ed7953"
             ],
             [
              0.7777777777777778,
              "#fb9f3a"
             ],
             [
              0.8888888888888888,
              "#fdca26"
             ],
             [
              1,
              "#f0f921"
             ]
            ],
            "type": "heatmap"
           }
          ],
          "heatmapgl": [
           {
            "colorbar": {
             "outlinewidth": 0,
             "ticks": ""
            },
            "colorscale": [
             [
              0,
              "#0d0887"
             ],
             [
              0.1111111111111111,
              "#46039f"
             ],
             [
              0.2222222222222222,
              "#7201a8"
             ],
             [
              0.3333333333333333,
              "#9c179e"
             ],
             [
              0.4444444444444444,
              "#bd3786"
             ],
             [
              0.5555555555555556,
              "#d8576b"
             ],
             [
              0.6666666666666666,
              "#ed7953"
             ],
             [
              0.7777777777777778,
              "#fb9f3a"
             ],
             [
              0.8888888888888888,
              "#fdca26"
             ],
             [
              1,
              "#f0f921"
             ]
            ],
            "type": "heatmapgl"
           }
          ],
          "histogram": [
           {
            "marker": {
             "pattern": {
              "fillmode": "overlay",
              "size": 10,
              "solidity": 0.2
             }
            },
            "type": "histogram"
           }
          ],
          "histogram2d": [
           {
            "colorbar": {
             "outlinewidth": 0,
             "ticks": ""
            },
            "colorscale": [
             [
              0,
              "#0d0887"
             ],
             [
              0.1111111111111111,
              "#46039f"
             ],
             [
              0.2222222222222222,
              "#7201a8"
             ],
             [
              0.3333333333333333,
              "#9c179e"
             ],
             [
              0.4444444444444444,
              "#bd3786"
             ],
             [
              0.5555555555555556,
              "#d8576b"
             ],
             [
              0.6666666666666666,
              "#ed7953"
             ],
             [
              0.7777777777777778,
              "#fb9f3a"
             ],
             [
              0.8888888888888888,
              "#fdca26"
             ],
             [
              1,
              "#f0f921"
             ]
            ],
            "type": "histogram2d"
           }
          ],
          "histogram2dcontour": [
           {
            "colorbar": {
             "outlinewidth": 0,
             "ticks": ""
            },
            "colorscale": [
             [
              0,
              "#0d0887"
             ],
             [
              0.1111111111111111,
              "#46039f"
             ],
             [
              0.2222222222222222,
              "#7201a8"
             ],
             [
              0.3333333333333333,
              "#9c179e"
             ],
             [
              0.4444444444444444,
              "#bd3786"
             ],
             [
              0.5555555555555556,
              "#d8576b"
             ],
             [
              0.6666666666666666,
              "#ed7953"
             ],
             [
              0.7777777777777778,
              "#fb9f3a"
             ],
             [
              0.8888888888888888,
              "#fdca26"
             ],
             [
              1,
              "#f0f921"
             ]
            ],
            "type": "histogram2dcontour"
           }
          ],
          "mesh3d": [
           {
            "colorbar": {
             "outlinewidth": 0,
             "ticks": ""
            },
            "type": "mesh3d"
           }
          ],
          "parcoords": [
           {
            "line": {
             "colorbar": {
              "outlinewidth": 0,
              "ticks": ""
             }
            },
            "type": "parcoords"
           }
          ],
          "pie": [
           {
            "automargin": true,
            "type": "pie"
           }
          ],
          "scatter": [
           {
            "marker": {
             "line": {
              "color": "#283442"
             }
            },
            "type": "scatter"
           }
          ],
          "scatter3d": [
           {
            "line": {
             "colorbar": {
              "outlinewidth": 0,
              "ticks": ""
             }
            },
            "marker": {
             "colorbar": {
              "outlinewidth": 0,
              "ticks": ""
             }
            },
            "type": "scatter3d"
           }
          ],
          "scattercarpet": [
           {
            "marker": {
             "colorbar": {
              "outlinewidth": 0,
              "ticks": ""
             }
            },
            "type": "scattercarpet"
           }
          ],
          "scattergeo": [
           {
            "marker": {
             "colorbar": {
              "outlinewidth": 0,
              "ticks": ""
             }
            },
            "type": "scattergeo"
           }
          ],
          "scattergl": [
           {
            "marker": {
             "line": {
              "color": "#283442"
             }
            },
            "type": "scattergl"
           }
          ],
          "scattermapbox": [
           {
            "marker": {
             "colorbar": {
              "outlinewidth": 0,
              "ticks": ""
             }
            },
            "type": "scattermapbox"
           }
          ],
          "scatterpolar": [
           {
            "marker": {
             "colorbar": {
              "outlinewidth": 0,
              "ticks": ""
             }
            },
            "type": "scatterpolar"
           }
          ],
          "scatterpolargl": [
           {
            "marker": {
             "colorbar": {
              "outlinewidth": 0,
              "ticks": ""
             }
            },
            "type": "scatterpolargl"
           }
          ],
          "scatterternary": [
           {
            "marker": {
             "colorbar": {
              "outlinewidth": 0,
              "ticks": ""
             }
            },
            "type": "scatterternary"
           }
          ],
          "surface": [
           {
            "colorbar": {
             "outlinewidth": 0,
             "ticks": ""
            },
            "colorscale": [
             [
              0,
              "#0d0887"
             ],
             [
              0.1111111111111111,
              "#46039f"
             ],
             [
              0.2222222222222222,
              "#7201a8"
             ],
             [
              0.3333333333333333,
              "#9c179e"
             ],
             [
              0.4444444444444444,
              "#bd3786"
             ],
             [
              0.5555555555555556,
              "#d8576b"
             ],
             [
              0.6666666666666666,
              "#ed7953"
             ],
             [
              0.7777777777777778,
              "#fb9f3a"
             ],
             [
              0.8888888888888888,
              "#fdca26"
             ],
             [
              1,
              "#f0f921"
             ]
            ],
            "type": "surface"
           }
          ],
          "table": [
           {
            "cells": {
             "fill": {
              "color": "#506784"
             },
             "line": {
              "color": "rgb(17,17,17)"
             }
            },
            "header": {
             "fill": {
              "color": "#2a3f5f"
             },
             "line": {
              "color": "rgb(17,17,17)"
             }
            },
            "type": "table"
           }
          ]
         },
         "layout": {
          "annotationdefaults": {
           "arrowcolor": "#f2f5fa",
           "arrowhead": 0,
           "arrowwidth": 1
          },
          "autotypenumbers": "strict",
          "coloraxis": {
           "colorbar": {
            "outlinewidth": 0,
            "ticks": ""
           }
          },
          "colorscale": {
           "diverging": [
            [
             0,
             "#8e0152"
            ],
            [
             0.1,
             "#c51b7d"
            ],
            [
             0.2,
             "#de77ae"
            ],
            [
             0.3,
             "#f1b6da"
            ],
            [
             0.4,
             "#fde0ef"
            ],
            [
             0.5,
             "#f7f7f7"
            ],
            [
             0.6,
             "#e6f5d0"
            ],
            [
             0.7,
             "#b8e186"
            ],
            [
             0.8,
             "#7fbc41"
            ],
            [
             0.9,
             "#4d9221"
            ],
            [
             1,
             "#276419"
            ]
           ],
           "sequential": [
            [
             0,
             "#0d0887"
            ],
            [
             0.1111111111111111,
             "#46039f"
            ],
            [
             0.2222222222222222,
             "#7201a8"
            ],
            [
             0.3333333333333333,
             "#9c179e"
            ],
            [
             0.4444444444444444,
             "#bd3786"
            ],
            [
             0.5555555555555556,
             "#d8576b"
            ],
            [
             0.6666666666666666,
             "#ed7953"
            ],
            [
             0.7777777777777778,
             "#fb9f3a"
            ],
            [
             0.8888888888888888,
             "#fdca26"
            ],
            [
             1,
             "#f0f921"
            ]
           ],
           "sequentialminus": [
            [
             0,
             "#0d0887"
            ],
            [
             0.1111111111111111,
             "#46039f"
            ],
            [
             0.2222222222222222,
             "#7201a8"
            ],
            [
             0.3333333333333333,
             "#9c179e"
            ],
            [
             0.4444444444444444,
             "#bd3786"
            ],
            [
             0.5555555555555556,
             "#d8576b"
            ],
            [
             0.6666666666666666,
             "#ed7953"
            ],
            [
             0.7777777777777778,
             "#fb9f3a"
            ],
            [
             0.8888888888888888,
             "#fdca26"
            ],
            [
             1,
             "#f0f921"
            ]
           ]
          },
          "colorway": [
           "#636efa",
           "#EF553B",
           "#00cc96",
           "#ab63fa",
           "#FFA15A",
           "#19d3f3",
           "#FF6692",
           "#B6E880",
           "#FF97FF",
           "#FECB52"
          ],
          "font": {
           "color": "#f2f5fa"
          },
          "geo": {
           "bgcolor": "rgb(17,17,17)",
           "lakecolor": "rgb(17,17,17)",
           "landcolor": "rgb(17,17,17)",
           "showlakes": true,
           "showland": true,
           "subunitcolor": "#506784"
          },
          "hoverlabel": {
           "align": "left"
          },
          "hovermode": "closest",
          "mapbox": {
           "style": "dark"
          },
          "paper_bgcolor": "rgb(17,17,17)",
          "plot_bgcolor": "rgb(17,17,17)",
          "polar": {
           "angularaxis": {
            "gridcolor": "#506784",
            "linecolor": "#506784",
            "ticks": ""
           },
           "bgcolor": "rgb(17,17,17)",
           "radialaxis": {
            "gridcolor": "#506784",
            "linecolor": "#506784",
            "ticks": ""
           }
          },
          "scene": {
           "xaxis": {
            "backgroundcolor": "rgb(17,17,17)",
            "gridcolor": "#506784",
            "gridwidth": 2,
            "linecolor": "#506784",
            "showbackground": true,
            "ticks": "",
            "zerolinecolor": "#C8D4E3"
           },
           "yaxis": {
            "backgroundcolor": "rgb(17,17,17)",
            "gridcolor": "#506784",
            "gridwidth": 2,
            "linecolor": "#506784",
            "showbackground": true,
            "ticks": "",
            "zerolinecolor": "#C8D4E3"
           },
           "zaxis": {
            "backgroundcolor": "rgb(17,17,17)",
            "gridcolor": "#506784",
            "gridwidth": 2,
            "linecolor": "#506784",
            "showbackground": true,
            "ticks": "",
            "zerolinecolor": "#C8D4E3"
           }
          },
          "shapedefaults": {
           "line": {
            "color": "#f2f5fa"
           }
          },
          "sliderdefaults": {
           "bgcolor": "#C8D4E3",
           "bordercolor": "rgb(17,17,17)",
           "borderwidth": 1,
           "tickwidth": 0
          },
          "ternary": {
           "aaxis": {
            "gridcolor": "#506784",
            "linecolor": "#506784",
            "ticks": ""
           },
           "baxis": {
            "gridcolor": "#506784",
            "linecolor": "#506784",
            "ticks": ""
           },
           "bgcolor": "rgb(17,17,17)",
           "caxis": {
            "gridcolor": "#506784",
            "linecolor": "#506784",
            "ticks": ""
           }
          },
          "title": {
           "x": 0.05
          },
          "updatemenudefaults": {
           "bgcolor": "#506784",
           "borderwidth": 0
          },
          "xaxis": {
           "automargin": true,
           "gridcolor": "#283442",
           "linecolor": "#506784",
           "ticks": "",
           "title": {
            "standoff": 15
           },
           "zerolinecolor": "#283442",
           "zerolinewidth": 2
          },
          "yaxis": {
           "automargin": true,
           "gridcolor": "#283442",
           "linecolor": "#506784",
           "ticks": "",
           "title": {
            "standoff": 15
           },
           "zerolinecolor": "#283442",
           "zerolinewidth": 2
          }
         }
        },
        "title": {
         "text": "Residuals vs Predicted Closing Prices"
        },
        "xaxis": {
         "title": {
          "text": "Predicted Closing Prices"
         }
        },
        "yaxis": {
         "title": {
          "text": "Residuals"
         }
        }
       }
      }
     },
     "metadata": {},
     "output_type": "display_data"
    }
   ],
   "source": [
    "# Calculate the residuals first.\n",
    "residuals = y_test - y_pred\n",
    "\n",
    "# Create the residuals plot\n",
    "fig = go.Figure()\n",
    "\n",
    "fig.add_trace(go.Scatter(x = y_pred, y = residuals,\n",
    "                mode = 'markers',\n",
    "                name = 'Residuals'))\n",
    "\n",
    "fig.add_trace(go.Scatter(x = y_pred, y = np.zeros_like(y_pred),\n",
    "                mode = 'lines',\n",
    "                name = 'Zero Line'))\n",
    "\n",
    "fig.update_layout(title = 'Residuals vs Predicted Closing Prices',\n",
    "                xaxis_title = 'Predicted Closing Prices',\n",
    "                yaxis_title = 'Residuals',\n",
    "                template = 'plotly_dark')\n",
    "\n",
    "fig.show()\n",
    "\n",
    "\n"
   ]
  },
  {
   "cell_type": "markdown",
   "metadata": {},
   "source": [
    "#### In the plot above, contrary to many other plots we create, we are wanting to see randomness.  We are looking for the data to be scattered around the zero line and randomly distributed, and that the spread is fairly symmetrical around the zero.  If there was clustering it could indicate bias in the predictions.  "
   ]
  },
  {
   "cell_type": "markdown",
   "metadata": {},
   "source": [
    "#### Since we have our residuals variable established let's make a distribution plot for it to get another look."
   ]
  },
  {
   "cell_type": "code",
   "execution_count": 12,
   "metadata": {},
   "outputs": [
    {
     "data": {
      "application/vnd.plotly.v1+json": {
       "config": {
        "plotlyServerURL": "https://plot.ly"
       },
       "data": [
        {
         "alignmentgroup": "True",
         "bingroup": "x",
         "histnorm": "probability density",
         "hovertemplate": "variable=Close<br>value=%{x}<br>probability density=%{y}<extra></extra>",
         "legendgroup": "Close",
         "marker": {
          "color": "#636efa",
          "pattern": {
           "shape": ""
          }
         },
         "name": "Close",
         "nbinsx": 30,
         "offsetgroup": "Close",
         "orientation": "v",
         "showlegend": true,
         "type": "histogram",
         "x": [
          -0.05325065716303079,
          0.028223636402911558,
          -0.04580925579732964,
          -0.024848577448706867,
          0.046363702994401346,
          0.018138931641413815,
          -0.036208890779119596,
          -0.005386970786541823,
          0.003845210335457566,
          0.04269583723963033,
          -0.02391585633360356,
          0.0015763509511733265,
          -0.04300067297339076,
          -0.03309606571577406,
          -0.01956735293136902,
          -0.03278052367828588,
          -0.05447409551660293,
          -0.05407547092803879,
          0.04499074406390424,
          -0.03192460067046887,
          0.025880078370112858,
          0.028783822187208763,
          0.0571878314880126,
          -0.025428741517650733,
          0.023905137171164048,
          0.08675561394802608,
          0.006551452518085199,
          0.03449940729698392,
          0.0024479960061448702,
          0.033913381651617,
          -0.015887039720643384,
          -0.054804848727882716,
          -0.012361338176853365,
          0.011745147243392859,
          0.0026882076091813145,
          -0.04931935585248515,
          0.00763469392105065,
          -0.03261234866239415,
          0.051116486097142116,
          -0.03742550748681725,
          0.00196655581213696,
          0.04532342707491871,
          0.05924129300539932,
          -0.03324478481708815,
          0.031315396361054404,
          -0.007571993307811109,
          -0.03239882272593031,
          -0.023550233313752944,
          -0.01229693263548104,
          0.010653791224496223,
          -0.06555362252753699,
          -0.024676988834837932,
          0.0012090544751551802,
          -0.018395802958563467,
          -0.00369978357648304,
          -0.0071189237784280435,
          -0.03328188032076962,
          0.026617835937045475,
          0.029210306814577036,
          -0.0020763957973900515,
          0.003868781755920085,
          0.022434557650845233,
          0.05324624415067314,
          -0.0522244544330735,
          -0.04330107877478051,
          0.0028454665779722443,
          0.0381219359370793,
          0.07173664569849675,
          0.015005891089923229,
          0.0163448708125582,
          0.06274412905567014,
          -0.0009065677700494934,
          0.007585982904136923,
          -0.007845730516823912,
          -0.001306555208803406,
          -0.01405990347869733,
          0.021938433561965842,
          0.053133627144786366,
          -0.003735433722470982,
          0.01026793689858807,
          0.009031917325048155,
          0.012490915866772867,
          -0.0018462568509829969,
          0.005508836497121639,
          0.0006584563472871174,
          0.017129085173535577,
          0.13657391517007345,
          0.03415812660434797,
          -0.01583403509186143,
          0.013008534491250293,
          0.03869052492649949,
          0.0028744490488563645,
          -0.003969713178432421,
          -0.02369120343040232,
          0.024598433033544198,
          0.0176473087994804,
          0.0923154687656618,
          0.0063295846351341944,
          0.05111789358947719,
          0.027303068685304632,
          0.015566372738566737,
          0.0024667010043203375,
          0.0108311588375255,
          0.02437525412107555,
          0.004673862403010709,
          0.011219608012945692,
          -0.0989719547079704,
          0.02387368266443371,
          0.009185865523808723,
          -0.028680512775765513,
          0.0635061009882808,
          0.02855350113145186,
          -0.07606510088258173,
          0.06550648900569153,
          0.010365640092542261,
          0.004160837944195861,
          -0.04694741331948325,
          0.01768979911618973,
          0.03103457544598809,
          0.0030520448956306012,
          0.015177299546030198,
          0.012516078130004302,
          -0.019248342782431815,
          0.04744027037284665,
          0.05204307762225174,
          0.0471312372994141,
          0.010775277117667799,
          -0.0974666827133891,
          0.032366688869292726,
          -0.03832402871072477,
          0.018001063752989488,
          0.009241629790398748,
          0.07167273705962815,
          0.03853914613160314,
          0.014515806722429497,
          0.012384206082187044,
          0.027893484300543725,
          0.05974812443036304,
          0.05187222002446712,
          -0.01268447603378553,
          0.025288680906190963,
          -0.03725018355659462,
          -0.027053018526933606,
          0.0631260565362125,
          0.013596450907246926,
          0.028589882584655113,
          -0.024966062328940664,
          0.00014959724630703164,
          -0.036639480007490406,
          -0.003665033068335072,
          0.006589143273356357,
          0.04758788902144351,
          -0.016248977275850174,
          0.019503330344353215,
          -0.0005395518414745837,
          0.046509423056769056,
          0.04882184415092031,
          0.058836795125016494,
          0.04148615958440016,
          -0.04072189912377591,
          0.009581238820458707,
          -0.06737379993346887,
          0.005292796981712367,
          0.0565507767604605,
          0.02269833794134546,
          -0.06643758749674389,
          0.06033836914791074,
          0.0070011506543269375,
          0.005080108460883914,
          0.04844597936453182,
          -0.02359761446162867,
          -0.06185351379815067,
          0.032164106025278194,
          -0.000009906181005436832,
          0.02304321694295626,
          -0.1046187205162486,
          0.020380392525778057,
          -0.03739118410613296,
          -0.054122914936400396,
          -0.010174384854726076,
          0.004340481475847313,
          -0.01519016062423384,
          0.03873533481615887,
          0.04261730103894967,
          0.004405983532039692,
          -0.03988357249024052,
          0.04265828613942879,
          0.06068526530547658,
          0.018268088997800844,
          -0.05891172911671233,
          0.033789389757964916,
          -0.02603573196201811,
          0.01199010156596525,
          -0.03604806843796779,
          0.0037814971266487696,
          -0.06648887089732114,
          -0.036299773784400066,
          -0.02870378585347272,
          -0.036492507612376074,
          0.031000284954470866,
          -0.00948395006768206,
          0.03123630615262027,
          -0.06301938901427961,
          0.010058418366085009,
          0.005159406301130168,
          -0.06682821388086224,
          -0.08049127614191559,
          0.008046332066287867,
          -0.11359161921703254,
          -0.008688765365375994,
          0.0036827156162353033,
          0.02829632489382783,
          -0.010713233059573168,
          0.011390437264219982,
          0.0450418843400722,
          0.04671800140576815,
          -0.031751134082658394,
          0.014573432414372395,
          0.06368485206055771,
          0.06947091802827893,
          0.030643083103021385,
          0.003290314982452913,
          -0.016977042180472857,
          -0.043808256588749206,
          -0.01488263871088702,
          0.00034998573656856713,
          -0.021003177556731534,
          0.01786190912554203,
          0.0317277778259942,
          0.00036136370192894895,
          0.020001031726741614,
          -0.0005885285578342767,
          0.03809949655753307,
          0.0027720836735500853,
          0.0085821507548548,
          0.010576339427706305,
          -0.0023850715879386863,
          0.06178113758867315,
          0.0399035827319309,
          -0.001874211909304202,
          -0.02104231930172401,
          -0.11969200110437522,
          0.00783873907979038,
          -0.008419843333686394,
          0.0016324861755301345,
          -0.017014216869432053,
          -0.06444554131694713,
          0.026968571671259683,
          0.0007458985423122177,
          -0.02697469809237429,
          -0.022049184780896902,
          0.04440773353198629,
          0.023249129546730085,
          -0.025691170467001145,
          -0.048263472475919444,
          0.002446304648995201,
          -0.07332249501595922,
          -0.0020151551552667346,
          0.01683282033938449,
          0.03136857365305601,
          -0.03248218940325742,
          0.0012032564766379927,
          0.011475595731023747,
          -0.006672730320108025,
          -0.02401505637411061,
          -0.06945365974782516,
          -0.03914449268214659,
          -0.0015986129517286951,
          -0.021548728505727643,
          -0.02751733175739679,
          0.013614679509887095,
          -0.03554126300478172,
          -0.007326397685734162,
          0.026194797548915183,
          -0.060287868845725234,
          -0.013855560796877275,
          0.025289617815662496
         ],
         "xaxis": "x",
         "yaxis": "y"
        },
        {
         "alignmentgroup": "True",
         "hovertemplate": "variable=Close<br>value=%{x}<extra></extra>",
         "legendgroup": "Close",
         "marker": {
          "color": "#636efa"
         },
         "name": "Close",
         "notched": true,
         "offsetgroup": "Close",
         "showlegend": false,
         "type": "box",
         "x": [
          -0.05325065716303079,
          0.028223636402911558,
          -0.04580925579732964,
          -0.024848577448706867,
          0.046363702994401346,
          0.018138931641413815,
          -0.036208890779119596,
          -0.005386970786541823,
          0.003845210335457566,
          0.04269583723963033,
          -0.02391585633360356,
          0.0015763509511733265,
          -0.04300067297339076,
          -0.03309606571577406,
          -0.01956735293136902,
          -0.03278052367828588,
          -0.05447409551660293,
          -0.05407547092803879,
          0.04499074406390424,
          -0.03192460067046887,
          0.025880078370112858,
          0.028783822187208763,
          0.0571878314880126,
          -0.025428741517650733,
          0.023905137171164048,
          0.08675561394802608,
          0.006551452518085199,
          0.03449940729698392,
          0.0024479960061448702,
          0.033913381651617,
          -0.015887039720643384,
          -0.054804848727882716,
          -0.012361338176853365,
          0.011745147243392859,
          0.0026882076091813145,
          -0.04931935585248515,
          0.00763469392105065,
          -0.03261234866239415,
          0.051116486097142116,
          -0.03742550748681725,
          0.00196655581213696,
          0.04532342707491871,
          0.05924129300539932,
          -0.03324478481708815,
          0.031315396361054404,
          -0.007571993307811109,
          -0.03239882272593031,
          -0.023550233313752944,
          -0.01229693263548104,
          0.010653791224496223,
          -0.06555362252753699,
          -0.024676988834837932,
          0.0012090544751551802,
          -0.018395802958563467,
          -0.00369978357648304,
          -0.0071189237784280435,
          -0.03328188032076962,
          0.026617835937045475,
          0.029210306814577036,
          -0.0020763957973900515,
          0.003868781755920085,
          0.022434557650845233,
          0.05324624415067314,
          -0.0522244544330735,
          -0.04330107877478051,
          0.0028454665779722443,
          0.0381219359370793,
          0.07173664569849675,
          0.015005891089923229,
          0.0163448708125582,
          0.06274412905567014,
          -0.0009065677700494934,
          0.007585982904136923,
          -0.007845730516823912,
          -0.001306555208803406,
          -0.01405990347869733,
          0.021938433561965842,
          0.053133627144786366,
          -0.003735433722470982,
          0.01026793689858807,
          0.009031917325048155,
          0.012490915866772867,
          -0.0018462568509829969,
          0.005508836497121639,
          0.0006584563472871174,
          0.017129085173535577,
          0.13657391517007345,
          0.03415812660434797,
          -0.01583403509186143,
          0.013008534491250293,
          0.03869052492649949,
          0.0028744490488563645,
          -0.003969713178432421,
          -0.02369120343040232,
          0.024598433033544198,
          0.0176473087994804,
          0.0923154687656618,
          0.0063295846351341944,
          0.05111789358947719,
          0.027303068685304632,
          0.015566372738566737,
          0.0024667010043203375,
          0.0108311588375255,
          0.02437525412107555,
          0.004673862403010709,
          0.011219608012945692,
          -0.0989719547079704,
          0.02387368266443371,
          0.009185865523808723,
          -0.028680512775765513,
          0.0635061009882808,
          0.02855350113145186,
          -0.07606510088258173,
          0.06550648900569153,
          0.010365640092542261,
          0.004160837944195861,
          -0.04694741331948325,
          0.01768979911618973,
          0.03103457544598809,
          0.0030520448956306012,
          0.015177299546030198,
          0.012516078130004302,
          -0.019248342782431815,
          0.04744027037284665,
          0.05204307762225174,
          0.0471312372994141,
          0.010775277117667799,
          -0.0974666827133891,
          0.032366688869292726,
          -0.03832402871072477,
          0.018001063752989488,
          0.009241629790398748,
          0.07167273705962815,
          0.03853914613160314,
          0.014515806722429497,
          0.012384206082187044,
          0.027893484300543725,
          0.05974812443036304,
          0.05187222002446712,
          -0.01268447603378553,
          0.025288680906190963,
          -0.03725018355659462,
          -0.027053018526933606,
          0.0631260565362125,
          0.013596450907246926,
          0.028589882584655113,
          -0.024966062328940664,
          0.00014959724630703164,
          -0.036639480007490406,
          -0.003665033068335072,
          0.006589143273356357,
          0.04758788902144351,
          -0.016248977275850174,
          0.019503330344353215,
          -0.0005395518414745837,
          0.046509423056769056,
          0.04882184415092031,
          0.058836795125016494,
          0.04148615958440016,
          -0.04072189912377591,
          0.009581238820458707,
          -0.06737379993346887,
          0.005292796981712367,
          0.0565507767604605,
          0.02269833794134546,
          -0.06643758749674389,
          0.06033836914791074,
          0.0070011506543269375,
          0.005080108460883914,
          0.04844597936453182,
          -0.02359761446162867,
          -0.06185351379815067,
          0.032164106025278194,
          -0.000009906181005436832,
          0.02304321694295626,
          -0.1046187205162486,
          0.020380392525778057,
          -0.03739118410613296,
          -0.054122914936400396,
          -0.010174384854726076,
          0.004340481475847313,
          -0.01519016062423384,
          0.03873533481615887,
          0.04261730103894967,
          0.004405983532039692,
          -0.03988357249024052,
          0.04265828613942879,
          0.06068526530547658,
          0.018268088997800844,
          -0.05891172911671233,
          0.033789389757964916,
          -0.02603573196201811,
          0.01199010156596525,
          -0.03604806843796779,
          0.0037814971266487696,
          -0.06648887089732114,
          -0.036299773784400066,
          -0.02870378585347272,
          -0.036492507612376074,
          0.031000284954470866,
          -0.00948395006768206,
          0.03123630615262027,
          -0.06301938901427961,
          0.010058418366085009,
          0.005159406301130168,
          -0.06682821388086224,
          -0.08049127614191559,
          0.008046332066287867,
          -0.11359161921703254,
          -0.008688765365375994,
          0.0036827156162353033,
          0.02829632489382783,
          -0.010713233059573168,
          0.011390437264219982,
          0.0450418843400722,
          0.04671800140576815,
          -0.031751134082658394,
          0.014573432414372395,
          0.06368485206055771,
          0.06947091802827893,
          0.030643083103021385,
          0.003290314982452913,
          -0.016977042180472857,
          -0.043808256588749206,
          -0.01488263871088702,
          0.00034998573656856713,
          -0.021003177556731534,
          0.01786190912554203,
          0.0317277778259942,
          0.00036136370192894895,
          0.020001031726741614,
          -0.0005885285578342767,
          0.03809949655753307,
          0.0027720836735500853,
          0.0085821507548548,
          0.010576339427706305,
          -0.0023850715879386863,
          0.06178113758867315,
          0.0399035827319309,
          -0.001874211909304202,
          -0.02104231930172401,
          -0.11969200110437522,
          0.00783873907979038,
          -0.008419843333686394,
          0.0016324861755301345,
          -0.017014216869432053,
          -0.06444554131694713,
          0.026968571671259683,
          0.0007458985423122177,
          -0.02697469809237429,
          -0.022049184780896902,
          0.04440773353198629,
          0.023249129546730085,
          -0.025691170467001145,
          -0.048263472475919444,
          0.002446304648995201,
          -0.07332249501595922,
          -0.0020151551552667346,
          0.01683282033938449,
          0.03136857365305601,
          -0.03248218940325742,
          0.0012032564766379927,
          0.011475595731023747,
          -0.006672730320108025,
          -0.02401505637411061,
          -0.06945365974782516,
          -0.03914449268214659,
          -0.0015986129517286951,
          -0.021548728505727643,
          -0.02751733175739679,
          0.013614679509887095,
          -0.03554126300478172,
          -0.007326397685734162,
          0.026194797548915183,
          -0.060287868845725234,
          -0.013855560796877275,
          0.025289617815662496
         ],
         "xaxis": "x2",
         "yaxis": "y2"
        }
       ],
       "layout": {
        "barmode": "relative",
        "legend": {
         "title": {
          "text": "variable"
         },
         "tracegroupgap": 0
        },
        "margin": {
         "t": 60
        },
        "template": {
         "data": {
          "bar": [
           {
            "error_x": {
             "color": "#f2f5fa"
            },
            "error_y": {
             "color": "#f2f5fa"
            },
            "marker": {
             "line": {
              "color": "rgb(17,17,17)",
              "width": 0.5
             },
             "pattern": {
              "fillmode": "overlay",
              "size": 10,
              "solidity": 0.2
             }
            },
            "type": "bar"
           }
          ],
          "barpolar": [
           {
            "marker": {
             "line": {
              "color": "rgb(17,17,17)",
              "width": 0.5
             },
             "pattern": {
              "fillmode": "overlay",
              "size": 10,
              "solidity": 0.2
             }
            },
            "type": "barpolar"
           }
          ],
          "carpet": [
           {
            "aaxis": {
             "endlinecolor": "#A2B1C6",
             "gridcolor": "#506784",
             "linecolor": "#506784",
             "minorgridcolor": "#506784",
             "startlinecolor": "#A2B1C6"
            },
            "baxis": {
             "endlinecolor": "#A2B1C6",
             "gridcolor": "#506784",
             "linecolor": "#506784",
             "minorgridcolor": "#506784",
             "startlinecolor": "#A2B1C6"
            },
            "type": "carpet"
           }
          ],
          "choropleth": [
           {
            "colorbar": {
             "outlinewidth": 0,
             "ticks": ""
            },
            "type": "choropleth"
           }
          ],
          "contour": [
           {
            "colorbar": {
             "outlinewidth": 0,
             "ticks": ""
            },
            "colorscale": [
             [
              0,
              "#0d0887"
             ],
             [
              0.1111111111111111,
              "#46039f"
             ],
             [
              0.2222222222222222,
              "#7201a8"
             ],
             [
              0.3333333333333333,
              "#9c179e"
             ],
             [
              0.4444444444444444,
              "#bd3786"
             ],
             [
              0.5555555555555556,
              "#d8576b"
             ],
             [
              0.6666666666666666,
              "#ed7953"
             ],
             [
              0.7777777777777778,
              "#fb9f3a"
             ],
             [
              0.8888888888888888,
              "#fdca26"
             ],
             [
              1,
              "#f0f921"
             ]
            ],
            "type": "contour"
           }
          ],
          "contourcarpet": [
           {
            "colorbar": {
             "outlinewidth": 0,
             "ticks": ""
            },
            "type": "contourcarpet"
           }
          ],
          "heatmap": [
           {
            "colorbar": {
             "outlinewidth": 0,
             "ticks": ""
            },
            "colorscale": [
             [
              0,
              "#0d0887"
             ],
             [
              0.1111111111111111,
              "#46039f"
             ],
             [
              0.2222222222222222,
              "#7201a8"
             ],
             [
              0.3333333333333333,
              "#9c179e"
             ],
             [
              0.4444444444444444,
              "#bd3786"
             ],
             [
              0.5555555555555556,
              "#d8576b"
             ],
             [
              0.6666666666666666,
              "#ed7953"
             ],
             [
              0.7777777777777778,
              "#fb9f3a"
             ],
             [
              0.8888888888888888,
              "#fdca26"
             ],
             [
              1,
              "#f0f921"
             ]
            ],
            "type": "heatmap"
           }
          ],
          "heatmapgl": [
           {
            "colorbar": {
             "outlinewidth": 0,
             "ticks": ""
            },
            "colorscale": [
             [
              0,
              "#0d0887"
             ],
             [
              0.1111111111111111,
              "#46039f"
             ],
             [
              0.2222222222222222,
              "#7201a8"
             ],
             [
              0.3333333333333333,
              "#9c179e"
             ],
             [
              0.4444444444444444,
              "#bd3786"
             ],
             [
              0.5555555555555556,
              "#d8576b"
             ],
             [
              0.6666666666666666,
              "#ed7953"
             ],
             [
              0.7777777777777778,
              "#fb9f3a"
             ],
             [
              0.8888888888888888,
              "#fdca26"
             ],
             [
              1,
              "#f0f921"
             ]
            ],
            "type": "heatmapgl"
           }
          ],
          "histogram": [
           {
            "marker": {
             "pattern": {
              "fillmode": "overlay",
              "size": 10,
              "solidity": 0.2
             }
            },
            "type": "histogram"
           }
          ],
          "histogram2d": [
           {
            "colorbar": {
             "outlinewidth": 0,
             "ticks": ""
            },
            "colorscale": [
             [
              0,
              "#0d0887"
             ],
             [
              0.1111111111111111,
              "#46039f"
             ],
             [
              0.2222222222222222,
              "#7201a8"
             ],
             [
              0.3333333333333333,
              "#9c179e"
             ],
             [
              0.4444444444444444,
              "#bd3786"
             ],
             [
              0.5555555555555556,
              "#d8576b"
             ],
             [
              0.6666666666666666,
              "#ed7953"
             ],
             [
              0.7777777777777778,
              "#fb9f3a"
             ],
             [
              0.8888888888888888,
              "#fdca26"
             ],
             [
              1,
              "#f0f921"
             ]
            ],
            "type": "histogram2d"
           }
          ],
          "histogram2dcontour": [
           {
            "colorbar": {
             "outlinewidth": 0,
             "ticks": ""
            },
            "colorscale": [
             [
              0,
              "#0d0887"
             ],
             [
              0.1111111111111111,
              "#46039f"
             ],
             [
              0.2222222222222222,
              "#7201a8"
             ],
             [
              0.3333333333333333,
              "#9c179e"
             ],
             [
              0.4444444444444444,
              "#bd3786"
             ],
             [
              0.5555555555555556,
              "#d8576b"
             ],
             [
              0.6666666666666666,
              "#ed7953"
             ],
             [
              0.7777777777777778,
              "#fb9f3a"
             ],
             [
              0.8888888888888888,
              "#fdca26"
             ],
             [
              1,
              "#f0f921"
             ]
            ],
            "type": "histogram2dcontour"
           }
          ],
          "mesh3d": [
           {
            "colorbar": {
             "outlinewidth": 0,
             "ticks": ""
            },
            "type": "mesh3d"
           }
          ],
          "parcoords": [
           {
            "line": {
             "colorbar": {
              "outlinewidth": 0,
              "ticks": ""
             }
            },
            "type": "parcoords"
           }
          ],
          "pie": [
           {
            "automargin": true,
            "type": "pie"
           }
          ],
          "scatter": [
           {
            "marker": {
             "line": {
              "color": "#283442"
             }
            },
            "type": "scatter"
           }
          ],
          "scatter3d": [
           {
            "line": {
             "colorbar": {
              "outlinewidth": 0,
              "ticks": ""
             }
            },
            "marker": {
             "colorbar": {
              "outlinewidth": 0,
              "ticks": ""
             }
            },
            "type": "scatter3d"
           }
          ],
          "scattercarpet": [
           {
            "marker": {
             "colorbar": {
              "outlinewidth": 0,
              "ticks": ""
             }
            },
            "type": "scattercarpet"
           }
          ],
          "scattergeo": [
           {
            "marker": {
             "colorbar": {
              "outlinewidth": 0,
              "ticks": ""
             }
            },
            "type": "scattergeo"
           }
          ],
          "scattergl": [
           {
            "marker": {
             "line": {
              "color": "#283442"
             }
            },
            "type": "scattergl"
           }
          ],
          "scattermapbox": [
           {
            "marker": {
             "colorbar": {
              "outlinewidth": 0,
              "ticks": ""
             }
            },
            "type": "scattermapbox"
           }
          ],
          "scatterpolar": [
           {
            "marker": {
             "colorbar": {
              "outlinewidth": 0,
              "ticks": ""
             }
            },
            "type": "scatterpolar"
           }
          ],
          "scatterpolargl": [
           {
            "marker": {
             "colorbar": {
              "outlinewidth": 0,
              "ticks": ""
             }
            },
            "type": "scatterpolargl"
           }
          ],
          "scatterternary": [
           {
            "marker": {
             "colorbar": {
              "outlinewidth": 0,
              "ticks": ""
             }
            },
            "type": "scatterternary"
           }
          ],
          "surface": [
           {
            "colorbar": {
             "outlinewidth": 0,
             "ticks": ""
            },
            "colorscale": [
             [
              0,
              "#0d0887"
             ],
             [
              0.1111111111111111,
              "#46039f"
             ],
             [
              0.2222222222222222,
              "#7201a8"
             ],
             [
              0.3333333333333333,
              "#9c179e"
             ],
             [
              0.4444444444444444,
              "#bd3786"
             ],
             [
              0.5555555555555556,
              "#d8576b"
             ],
             [
              0.6666666666666666,
              "#ed7953"
             ],
             [
              0.7777777777777778,
              "#fb9f3a"
             ],
             [
              0.8888888888888888,
              "#fdca26"
             ],
             [
              1,
              "#f0f921"
             ]
            ],
            "type": "surface"
           }
          ],
          "table": [
           {
            "cells": {
             "fill": {
              "color": "#506784"
             },
             "line": {
              "color": "rgb(17,17,17)"
             }
            },
            "header": {
             "fill": {
              "color": "#2a3f5f"
             },
             "line": {
              "color": "rgb(17,17,17)"
             }
            },
            "type": "table"
           }
          ]
         },
         "layout": {
          "annotationdefaults": {
           "arrowcolor": "#f2f5fa",
           "arrowhead": 0,
           "arrowwidth": 1
          },
          "autotypenumbers": "strict",
          "coloraxis": {
           "colorbar": {
            "outlinewidth": 0,
            "ticks": ""
           }
          },
          "colorscale": {
           "diverging": [
            [
             0,
             "#8e0152"
            ],
            [
             0.1,
             "#c51b7d"
            ],
            [
             0.2,
             "#de77ae"
            ],
            [
             0.3,
             "#f1b6da"
            ],
            [
             0.4,
             "#fde0ef"
            ],
            [
             0.5,
             "#f7f7f7"
            ],
            [
             0.6,
             "#e6f5d0"
            ],
            [
             0.7,
             "#b8e186"
            ],
            [
             0.8,
             "#7fbc41"
            ],
            [
             0.9,
             "#4d9221"
            ],
            [
             1,
             "#276419"
            ]
           ],
           "sequential": [
            [
             0,
             "#0d0887"
            ],
            [
             0.1111111111111111,
             "#46039f"
            ],
            [
             0.2222222222222222,
             "#7201a8"
            ],
            [
             0.3333333333333333,
             "#9c179e"
            ],
            [
             0.4444444444444444,
             "#bd3786"
            ],
            [
             0.5555555555555556,
             "#d8576b"
            ],
            [
             0.6666666666666666,
             "#ed7953"
            ],
            [
             0.7777777777777778,
             "#fb9f3a"
            ],
            [
             0.8888888888888888,
             "#fdca26"
            ],
            [
             1,
             "#f0f921"
            ]
           ],
           "sequentialminus": [
            [
             0,
             "#0d0887"
            ],
            [
             0.1111111111111111,
             "#46039f"
            ],
            [
             0.2222222222222222,
             "#7201a8"
            ],
            [
             0.3333333333333333,
             "#9c179e"
            ],
            [
             0.4444444444444444,
             "#bd3786"
            ],
            [
             0.5555555555555556,
             "#d8576b"
            ],
            [
             0.6666666666666666,
             "#ed7953"
            ],
            [
             0.7777777777777778,
             "#fb9f3a"
            ],
            [
             0.8888888888888888,
             "#fdca26"
            ],
            [
             1,
             "#f0f921"
            ]
           ]
          },
          "colorway": [
           "#636efa",
           "#EF553B",
           "#00cc96",
           "#ab63fa",
           "#FFA15A",
           "#19d3f3",
           "#FF6692",
           "#B6E880",
           "#FF97FF",
           "#FECB52"
          ],
          "font": {
           "color": "#f2f5fa"
          },
          "geo": {
           "bgcolor": "rgb(17,17,17)",
           "lakecolor": "rgb(17,17,17)",
           "landcolor": "rgb(17,17,17)",
           "showlakes": true,
           "showland": true,
           "subunitcolor": "#506784"
          },
          "hoverlabel": {
           "align": "left"
          },
          "hovermode": "closest",
          "mapbox": {
           "style": "dark"
          },
          "paper_bgcolor": "rgb(17,17,17)",
          "plot_bgcolor": "rgb(17,17,17)",
          "polar": {
           "angularaxis": {
            "gridcolor": "#506784",
            "linecolor": "#506784",
            "ticks": ""
           },
           "bgcolor": "rgb(17,17,17)",
           "radialaxis": {
            "gridcolor": "#506784",
            "linecolor": "#506784",
            "ticks": ""
           }
          },
          "scene": {
           "xaxis": {
            "backgroundcolor": "rgb(17,17,17)",
            "gridcolor": "#506784",
            "gridwidth": 2,
            "linecolor": "#506784",
            "showbackground": true,
            "ticks": "",
            "zerolinecolor": "#C8D4E3"
           },
           "yaxis": {
            "backgroundcolor": "rgb(17,17,17)",
            "gridcolor": "#506784",
            "gridwidth": 2,
            "linecolor": "#506784",
            "showbackground": true,
            "ticks": "",
            "zerolinecolor": "#C8D4E3"
           },
           "zaxis": {
            "backgroundcolor": "rgb(17,17,17)",
            "gridcolor": "#506784",
            "gridwidth": 2,
            "linecolor": "#506784",
            "showbackground": true,
            "ticks": "",
            "zerolinecolor": "#C8D4E3"
           }
          },
          "shapedefaults": {
           "line": {
            "color": "#f2f5fa"
           }
          },
          "sliderdefaults": {
           "bgcolor": "#C8D4E3",
           "bordercolor": "rgb(17,17,17)",
           "borderwidth": 1,
           "tickwidth": 0
          },
          "ternary": {
           "aaxis": {
            "gridcolor": "#506784",
            "linecolor": "#506784",
            "ticks": ""
           },
           "baxis": {
            "gridcolor": "#506784",
            "linecolor": "#506784",
            "ticks": ""
           },
           "bgcolor": "rgb(17,17,17)",
           "caxis": {
            "gridcolor": "#506784",
            "linecolor": "#506784",
            "ticks": ""
           }
          },
          "title": {
           "x": 0.05
          },
          "updatemenudefaults": {
           "bgcolor": "#506784",
           "borderwidth": 0
          },
          "xaxis": {
           "automargin": true,
           "gridcolor": "#283442",
           "linecolor": "#506784",
           "ticks": "",
           "title": {
            "standoff": 15
           },
           "zerolinecolor": "#283442",
           "zerolinewidth": 2
          },
          "yaxis": {
           "automargin": true,
           "gridcolor": "#283442",
           "linecolor": "#506784",
           "ticks": "",
           "title": {
            "standoff": 15
           },
           "zerolinecolor": "#283442",
           "zerolinewidth": 2
          }
         }
        },
        "title": {
         "text": "AAPL Distribution of Residuals"
        },
        "xaxis": {
         "anchor": "y",
         "domain": [
          0,
          1
         ],
         "title": {
          "text": "Residuals"
         }
        },
        "xaxis2": {
         "anchor": "y2",
         "domain": [
          0,
          1
         ],
         "matches": "x",
         "showgrid": true,
         "showticklabels": false
        },
        "yaxis": {
         "anchor": "x",
         "domain": [
          0,
          0.7326
         ],
         "title": {
          "text": "Density"
         }
        },
        "yaxis2": {
         "anchor": "x2",
         "domain": [
          0.7426,
          1
         ],
         "matches": "y2",
         "showgrid": false,
         "showline": false,
         "showticklabels": false,
         "ticks": ""
        }
       }
      }
     },
     "metadata": {},
     "output_type": "display_data"
    }
   ],
   "source": [
    "fig = px.histogram(residuals, nbins = 30, marginal = 'box', histnorm = 'probability density')\n",
    "\n",
    "fig.update_layout(title = 'AAPL Distribution of Residuals',\n",
    "                xaxis_title = 'Residuals',\n",
    "                yaxis_title = 'Density',\n",
    "                template = 'plotly_dark')\n",
    "\n",
    "fig.show()"
   ]
  },
  {
   "cell_type": "markdown",
   "metadata": {},
   "source": [
    "#### Overall this is a good distribution.  The distribution is centered mostly around 0, and suggests that on average the model's predictions are unbiased.  The histogram appears somewhat bell-shaped though it is definitely not normal.  Again the highest concentration of residuals are very close to the 0 marker, indicating that most predictions are very accurate.  Speaking to the boxplot at the top, is shows a few outliers on each end.  The majority of the data points within the IQR (Interquartile Range) suggest that most predictions are fairly close to the actual values.  If anything is to be improved I can look at the outliers here and remove them so as the model isn't hindered by their bias."
   ]
  },
  {
   "cell_type": "markdown",
   "metadata": {},
   "source": [
    "## Summary of the Analysis on the Google (Class A) Linear Regression Model\n",
    "\n",
    "#### In this notebook we developed a baseline Linear Regression model to predict the closing prices of GOOG stock.  We implemented several of our previous preprocessing steps, including feature creation and scaling, followed by model creation and evaluation.\n",
    "\n",
    "### Key Insights\n",
    "\n",
    "#### - The model performed well as a baseline, with a Mean Squared Error (RMSE) of approximately 9.2 cents.\n",
    "#### - The residuals analysis indicated that the model's errors are unbiased and normally distributed, suggesting that the model is generally reliable.\n",
    "#### - The distribution of residuals showed no significant skewness or outliers, further confirming the model's robustness for a baseline.\n",
    "\n",
    "### Potential Next Steps\n",
    "\n",
    "#### - In the next phase, we will explore more advanced models such as Decision Trees, GRU, and Transformer models to improve prediction accuracy.\n",
    "#### - We will also consider incorporating additional data and refining features based on the insights gained from this baseline model."
   ]
  },
  {
   "cell_type": "code",
   "execution_count": null,
   "metadata": {},
   "outputs": [],
   "source": []
  }
 ],
 "metadata": {
  "kernelspec": {
   "display_name": "DL-Strat",
   "language": "python",
   "name": "python3"
  },
  "language_info": {
   "codemirror_mode": {
    "name": "ipython",
    "version": 3
   },
   "file_extension": ".py",
   "mimetype": "text/x-python",
   "name": "python",
   "nbconvert_exporter": "python",
   "pygments_lexer": "ipython3",
   "version": "3.11.0"
  }
 },
 "nbformat": 4,
 "nbformat_minor": 2
}
