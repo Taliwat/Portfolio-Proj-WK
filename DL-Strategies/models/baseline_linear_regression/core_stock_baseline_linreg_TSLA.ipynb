{
 "cells": [
  {
   "cell_type": "markdown",
   "metadata": {},
   "source": [
    "# **Core Stock Baseline Modeling - Linear Regression for TSLA Ticker**\n",
    "## In this notebook we will examine only the Tesla stock for the periods we have selected for this project (01-01-2019 through 06-30-2024), and perform a Linear Regression model using the preprocessed dataframe that we created in our other notebook.  We will look to get an idea of how well our data is predicting with our new features that we created."
   ]
  },
  {
   "cell_type": "markdown",
   "metadata": {},
   "source": [
    "#### As usual let's start by bringing in our important libraries and logic for needing to complete this notebook."
   ]
  },
  {
   "cell_type": "code",
   "execution_count": 100,
   "metadata": {},
   "outputs": [],
   "source": [
    "import sys\n",
    "import os\n",
    "\n",
    "import numpy as np\n",
    "import pandas as pd\n",
    "from sklearn.model_selection import train_test_split\n",
    "from sklearn.linear_model import LinearRegression\n",
    "from sklearn.metrics import mean_squared_error, mean_absolute_error\n",
    "import plotly.graph_objects as go\n",
    "import plotly.express as px\n",
    "from sklearn.model_selection import cross_val_score\n",
    "\n",
    "project_root = os.path.abspath(os.path.join(os.getcwd(), '..'))\n",
    "if project_root not in sys.path:\n",
    "    sys.path.append(project_root)\n",
    "\n",
    "\n"
   ]
  },
  {
   "cell_type": "markdown",
   "metadata": {},
   "source": [
    "#### Now let's read in our data that we will use for this notebook."
   ]
  },
  {
   "cell_type": "code",
   "execution_count": 101,
   "metadata": {},
   "outputs": [
    {
     "data": {
      "text/html": [
       "<div>\n",
       "<style scoped>\n",
       "    .dataframe tbody tr th:only-of-type {\n",
       "        vertical-align: middle;\n",
       "    }\n",
       "\n",
       "    .dataframe tbody tr th {\n",
       "        vertical-align: top;\n",
       "    }\n",
       "\n",
       "    .dataframe thead th {\n",
       "        text-align: right;\n",
       "    }\n",
       "</style>\n",
       "<table border=\"1\" class=\"dataframe\">\n",
       "  <thead>\n",
       "    <tr style=\"text-align: right;\">\n",
       "      <th></th>\n",
       "      <th>Close</th>\n",
       "      <th>Volume</th>\n",
       "      <th>Open</th>\n",
       "      <th>High</th>\n",
       "      <th>Low</th>\n",
       "      <th>SMA_core</th>\n",
       "      <th>EMA_core</th>\n",
       "      <th>RSI_core</th>\n",
       "      <th>RMA_core</th>\n",
       "      <th>Close_Lag_1</th>\n",
       "      <th>...</th>\n",
       "      <th>EMA_Lag_Std_1_3</th>\n",
       "      <th>SMA_Lag_Avg_1_3</th>\n",
       "      <th>SMA_Lag_Std_1_3</th>\n",
       "      <th>RMA_Lag_Avg_1_3</th>\n",
       "      <th>RMA_Lag_Std_1_3</th>\n",
       "      <th>Close_Lag_Avg_1_3</th>\n",
       "      <th>Close_Lag_Std_1_3</th>\n",
       "      <th>Diff_Close_EMA_core</th>\n",
       "      <th>Ratio_Close_EMA_core</th>\n",
       "      <th>Ticker</th>\n",
       "    </tr>\n",
       "    <tr>\n",
       "      <th>Date</th>\n",
       "      <th></th>\n",
       "      <th></th>\n",
       "      <th></th>\n",
       "      <th></th>\n",
       "      <th></th>\n",
       "      <th></th>\n",
       "      <th></th>\n",
       "      <th></th>\n",
       "      <th></th>\n",
       "      <th></th>\n",
       "      <th></th>\n",
       "      <th></th>\n",
       "      <th></th>\n",
       "      <th></th>\n",
       "      <th></th>\n",
       "      <th></th>\n",
       "      <th></th>\n",
       "      <th></th>\n",
       "      <th></th>\n",
       "      <th></th>\n",
       "      <th></th>\n",
       "    </tr>\n",
       "  </thead>\n",
       "  <tbody>\n",
       "    <tr>\n",
       "      <th>2019-03-14</th>\n",
       "      <td>-1.010398</td>\n",
       "      <td>0.038580</td>\n",
       "      <td>-1.009605</td>\n",
       "      <td>-1.015299</td>\n",
       "      <td>-1.006805</td>\n",
       "      <td>-1.062552</td>\n",
       "      <td>-1.040363</td>\n",
       "      <td>1.266968</td>\n",
       "      <td>0.782694</td>\n",
       "      <td>-1.010284</td>\n",
       "      <td>...</td>\n",
       "      <td>-0.073765</td>\n",
       "      <td>-1.063089</td>\n",
       "      <td>-0.076952</td>\n",
       "      <td>0.796947</td>\n",
       "      <td>-0.554398</td>\n",
       "      <td>-1.011303</td>\n",
       "      <td>-0.312358</td>\n",
       "      <td>0.057257</td>\n",
       "      <td>0.782694</td>\n",
       "      <td>AAPL</td>\n",
       "    </tr>\n",
       "    <tr>\n",
       "      <th>2019-03-15</th>\n",
       "      <td>-1.005062</td>\n",
       "      <td>0.452947</td>\n",
       "      <td>-1.007484</td>\n",
       "      <td>-1.008167</td>\n",
       "      <td>-1.004140</td>\n",
       "      <td>-1.061304</td>\n",
       "      <td>-1.038819</td>\n",
       "      <td>1.340410</td>\n",
       "      <td>0.900346</td>\n",
       "      <td>-1.010284</td>\n",
       "      <td>...</td>\n",
       "      <td>-0.073765</td>\n",
       "      <td>-1.063089</td>\n",
       "      <td>-0.076952</td>\n",
       "      <td>0.796947</td>\n",
       "      <td>-0.554398</td>\n",
       "      <td>-1.011303</td>\n",
       "      <td>-0.312358</td>\n",
       "      <td>0.088819</td>\n",
       "      <td>0.900346</td>\n",
       "      <td>AAPL</td>\n",
       "    </tr>\n",
       "    <tr>\n",
       "      <th>2019-03-18</th>\n",
       "      <td>-1.000821</td>\n",
       "      <td>0.109331</td>\n",
       "      <td>-1.005363</td>\n",
       "      <td>-1.005826</td>\n",
       "      <td>-0.999509</td>\n",
       "      <td>-1.059275</td>\n",
       "      <td>-1.037165</td>\n",
       "      <td>1.443013</td>\n",
       "      <td>0.978601</td>\n",
       "      <td>-1.004948</td>\n",
       "      <td>...</td>\n",
       "      <td>-0.073765</td>\n",
       "      <td>-1.062464</td>\n",
       "      <td>-0.076952</td>\n",
       "      <td>0.856856</td>\n",
       "      <td>-0.554398</td>\n",
       "      <td>-1.008633</td>\n",
       "      <td>-0.312358</td>\n",
       "      <td>0.110473</td>\n",
       "      <td>0.978601</td>\n",
       "      <td>AAPL</td>\n",
       "    </tr>\n",
       "    <tr>\n",
       "      <th>2019-03-19</th>\n",
       "      <td>-1.004147</td>\n",
       "      <td>0.254746</td>\n",
       "      <td>-0.999669</td>\n",
       "      <td>-1.004502</td>\n",
       "      <td>-0.999215</td>\n",
       "      <td>-1.057581</td>\n",
       "      <td>-1.035710</td>\n",
       "      <td>1.136258</td>\n",
       "      <td>0.823821</td>\n",
       "      <td>-1.000706</td>\n",
       "      <td>...</td>\n",
       "      <td>-0.063359</td>\n",
       "      <td>-1.061579</td>\n",
       "      <td>-0.060461</td>\n",
       "      <td>0.903391</td>\n",
       "      <td>-0.456453</td>\n",
       "      <td>-1.006327</td>\n",
       "      <td>-0.293423</td>\n",
       "      <td>0.071293</td>\n",
       "      <td>0.823821</td>\n",
       "      <td>AAPL</td>\n",
       "    </tr>\n",
       "    <tr>\n",
       "      <th>2019-03-20</th>\n",
       "      <td>-1.000508</td>\n",
       "      <td>0.238368</td>\n",
       "      <td>-1.004403</td>\n",
       "      <td>-1.003398</td>\n",
       "      <td>-1.001903</td>\n",
       "      <td>-1.055800</td>\n",
       "      <td>-1.034166</td>\n",
       "      <td>1.541735</td>\n",
       "      <td>0.886499</td>\n",
       "      <td>-1.004033</td>\n",
       "      <td>...</td>\n",
       "      <td>-0.064253</td>\n",
       "      <td>-1.059921</td>\n",
       "      <td>-0.055971</td>\n",
       "      <td>0.917352</td>\n",
       "      <td>-0.591252</td>\n",
       "      <td>-1.004241</td>\n",
       "      <td>-0.340785</td>\n",
       "      <td>0.088857</td>\n",
       "      <td>0.886499</td>\n",
       "      <td>AAPL</td>\n",
       "    </tr>\n",
       "  </tbody>\n",
       "</table>\n",
       "<p>5 rows × 32 columns</p>\n",
       "</div>"
      ],
      "text/plain": [
       "               Close    Volume      Open      High       Low  SMA_core  \\\n",
       "Date                                                                     \n",
       "2019-03-14 -1.010398  0.038580 -1.009605 -1.015299 -1.006805 -1.062552   \n",
       "2019-03-15 -1.005062  0.452947 -1.007484 -1.008167 -1.004140 -1.061304   \n",
       "2019-03-18 -1.000821  0.109331 -1.005363 -1.005826 -0.999509 -1.059275   \n",
       "2019-03-19 -1.004147  0.254746 -0.999669 -1.004502 -0.999215 -1.057581   \n",
       "2019-03-20 -1.000508  0.238368 -1.004403 -1.003398 -1.001903 -1.055800   \n",
       "\n",
       "            EMA_core  RSI_core  RMA_core  Close_Lag_1  ...  EMA_Lag_Std_1_3  \\\n",
       "Date                                                   ...                    \n",
       "2019-03-14 -1.040363  1.266968  0.782694    -1.010284  ...        -0.073765   \n",
       "2019-03-15 -1.038819  1.340410  0.900346    -1.010284  ...        -0.073765   \n",
       "2019-03-18 -1.037165  1.443013  0.978601    -1.004948  ...        -0.073765   \n",
       "2019-03-19 -1.035710  1.136258  0.823821    -1.000706  ...        -0.063359   \n",
       "2019-03-20 -1.034166  1.541735  0.886499    -1.004033  ...        -0.064253   \n",
       "\n",
       "            SMA_Lag_Avg_1_3  SMA_Lag_Std_1_3  RMA_Lag_Avg_1_3  \\\n",
       "Date                                                            \n",
       "2019-03-14        -1.063089        -0.076952         0.796947   \n",
       "2019-03-15        -1.063089        -0.076952         0.796947   \n",
       "2019-03-18        -1.062464        -0.076952         0.856856   \n",
       "2019-03-19        -1.061579        -0.060461         0.903391   \n",
       "2019-03-20        -1.059921        -0.055971         0.917352   \n",
       "\n",
       "            RMA_Lag_Std_1_3  Close_Lag_Avg_1_3  Close_Lag_Std_1_3  \\\n",
       "Date                                                                \n",
       "2019-03-14        -0.554398          -1.011303          -0.312358   \n",
       "2019-03-15        -0.554398          -1.011303          -0.312358   \n",
       "2019-03-18        -0.554398          -1.008633          -0.312358   \n",
       "2019-03-19        -0.456453          -1.006327          -0.293423   \n",
       "2019-03-20        -0.591252          -1.004241          -0.340785   \n",
       "\n",
       "            Diff_Close_EMA_core  Ratio_Close_EMA_core  Ticker  \n",
       "Date                                                           \n",
       "2019-03-14             0.057257              0.782694    AAPL  \n",
       "2019-03-15             0.088819              0.900346    AAPL  \n",
       "2019-03-18             0.110473              0.978601    AAPL  \n",
       "2019-03-19             0.071293              0.823821    AAPL  \n",
       "2019-03-20             0.088857              0.886499    AAPL  \n",
       "\n",
       "[5 rows x 32 columns]"
      ]
     },
     "execution_count": 101,
     "metadata": {},
     "output_type": "execute_result"
    }
   ],
   "source": [
    "# Now let's access the main core_stock_data.csv file\n",
    "csv_path = os.path.join(project_root, 'data', 'core_stock_preprocessed.csv')\n",
    "preprocessed_df = pd.read_csv(csv_path, parse_dates=['Date'], index_col= 'Date')\n",
    "preprocessed_df.head()"
   ]
  },
  {
   "cell_type": "markdown",
   "metadata": {},
   "source": [
    "#### Great now let's grab the data just for our subject TSLA ticker to use in our Linear Regression model."
   ]
  },
  {
   "cell_type": "code",
   "execution_count": 102,
   "metadata": {},
   "outputs": [
    {
     "name": "stdout",
     "output_type": "stream",
     "text": [
      "               Close    Volume      Open      High       Low  SMA_core  \\\n",
      "Date                                                                     \n",
      "2019-01-02 -1.235957  0.578270 -1.237963 -1.236249 -1.239220  2.822138   \n",
      "2019-01-03 -1.241768  0.106643 -1.237427 -1.239623 -1.240075  2.822138   \n",
      "2019-01-04 -1.231451  0.149742 -1.238022 -1.234559 -1.236852  2.822138   \n",
      "2019-01-07 -1.221169  0.165529 -1.228662 -1.223525 -1.227804  2.822138   \n",
      "2019-01-08 -1.220937  0.110995 -1.216611 -1.219244 -1.222220  2.822138   \n",
      "\n",
      "            EMA_core  RSI_core  RMA_core  Close_Lag_1  ...  EMA_Lag_Std_1_3  \\\n",
      "Date                                                   ...                    \n",
      "2019-01-02 -1.237114  0.165409 -0.277934     3.082193  ...         0.091251   \n",
      "2019-01-03 -1.237347 -3.203487 -0.643004    -1.235834  ...        50.430704   \n",
      "2019-01-04 -1.237157  0.572292  0.019237    -1.241645  ...        50.467524   \n",
      "2019-01-07 -1.236562  1.400157  0.649990    -1.231328  ...        -0.093617   \n",
      "2019-01-08 -1.235982  1.411474  0.625357    -1.221046  ...        -0.087763   \n",
      "\n",
      "            SMA_Lag_Avg_1_3  SMA_Lag_Std_1_3  RMA_Lag_Avg_1_3  \\\n",
      "Date                                                            \n",
      "2019-01-02         2.821788        -0.038322         0.347661   \n",
      "2019-01-03         2.823551        -0.073858         0.120860   \n",
      "2019-01-04         2.824144        -0.095827        -0.272347   \n",
      "2019-01-07         2.824144        -0.095827        -0.306245   \n",
      "2019-01-08         2.824144        -0.095827         0.008754   \n",
      "\n",
      "            RMA_Lag_Std_1_3  Close_Lag_Avg_1_3  Close_Lag_Std_1_3  \\\n",
      "Date                                                                \n",
      "2019-01-02         0.203709           3.157854           0.887165   \n",
      "2019-01-03         1.436601           1.690426          46.362347   \n",
      "2019-01-04         1.338407           0.201869          45.646626   \n",
      "2019-01-07         1.024211          -1.237534          -0.286538   \n",
      "2019-01-08         3.024327          -1.232600          -0.191943   \n",
      "\n",
      "            Diff_Close_EMA_core  Ratio_Close_EMA_core  Ticker  \n",
      "Date                                                           \n",
      "2019-01-02            -0.216303             -0.277934    TSLA  \n",
      "2019-01-03            -0.262356             -0.643004    TSLA  \n",
      "2019-01-04            -0.178777              0.019237    TSLA  \n",
      "2019-01-07            -0.098759              0.649990    TSLA  \n",
      "2019-01-08            -0.101529              0.625357    TSLA  \n",
      "\n",
      "[5 rows x 32 columns]\n"
     ]
    },
    {
     "data": {
      "text/plain": [
       "(1382, 32)"
      ]
     },
     "execution_count": 102,
     "metadata": {},
     "output_type": "execute_result"
    }
   ],
   "source": [
    "tsla_data = preprocessed_df[preprocessed_df['Ticker'] == 'TSLA']\n",
    "print(tsla_data.head())\n",
    "tsla_data.shape"
   ]
  },
  {
   "cell_type": "markdown",
   "metadata": {},
   "source": [
    "#### Now let's prepare our Linear Regression model.  We will be dropping the Ticker and Close columns for the X as Ticker is an improper format and our Close feature will be our y target.  The Date feature is our index so it won't be included in the model as it will automatically be excluded from the feature set."
   ]
  },
  {
   "cell_type": "code",
   "execution_count": 103,
   "metadata": {},
   "outputs": [],
   "source": [
    "X = tsla_data[['EMA_core', 'SMA_core', 'RSI_core', 'Close_Lag_1', 'Volume', 'Open', 'High', 'Low', 'Close_Lag_3']]\n",
    "y = tsla_data['Close']"
   ]
  },
  {
   "cell_type": "markdown",
   "metadata": {},
   "source": [
    "#### Let's now set up the rest of the model and run our first set of predictions on it.  I will be looking for the MAE (Mean Absolute Error) and the RMSE (Root Mean Squared Error) for metrics here."
   ]
  },
  {
   "cell_type": "code",
   "execution_count": 104,
   "metadata": {},
   "outputs": [
    {
     "data": {
      "text/html": [
       "<style>#sk-container-id-10 {\n",
       "  /* Definition of color scheme common for light and dark mode */\n",
       "  --sklearn-color-text: black;\n",
       "  --sklearn-color-line: gray;\n",
       "  /* Definition of color scheme for unfitted estimators */\n",
       "  --sklearn-color-unfitted-level-0: #fff5e6;\n",
       "  --sklearn-color-unfitted-level-1: #f6e4d2;\n",
       "  --sklearn-color-unfitted-level-2: #ffe0b3;\n",
       "  --sklearn-color-unfitted-level-3: chocolate;\n",
       "  /* Definition of color scheme for fitted estimators */\n",
       "  --sklearn-color-fitted-level-0: #f0f8ff;\n",
       "  --sklearn-color-fitted-level-1: #d4ebff;\n",
       "  --sklearn-color-fitted-level-2: #b3dbfd;\n",
       "  --sklearn-color-fitted-level-3: cornflowerblue;\n",
       "\n",
       "  /* Specific color for light theme */\n",
       "  --sklearn-color-text-on-default-background: var(--sg-text-color, var(--theme-code-foreground, var(--jp-content-font-color1, black)));\n",
       "  --sklearn-color-background: var(--sg-background-color, var(--theme-background, var(--jp-layout-color0, white)));\n",
       "  --sklearn-color-border-box: var(--sg-text-color, var(--theme-code-foreground, var(--jp-content-font-color1, black)));\n",
       "  --sklearn-color-icon: #696969;\n",
       "\n",
       "  @media (prefers-color-scheme: dark) {\n",
       "    /* Redefinition of color scheme for dark theme */\n",
       "    --sklearn-color-text-on-default-background: var(--sg-text-color, var(--theme-code-foreground, var(--jp-content-font-color1, white)));\n",
       "    --sklearn-color-background: var(--sg-background-color, var(--theme-background, var(--jp-layout-color0, #111)));\n",
       "    --sklearn-color-border-box: var(--sg-text-color, var(--theme-code-foreground, var(--jp-content-font-color1, white)));\n",
       "    --sklearn-color-icon: #878787;\n",
       "  }\n",
       "}\n",
       "\n",
       "#sk-container-id-10 {\n",
       "  color: var(--sklearn-color-text);\n",
       "}\n",
       "\n",
       "#sk-container-id-10 pre {\n",
       "  padding: 0;\n",
       "}\n",
       "\n",
       "#sk-container-id-10 input.sk-hidden--visually {\n",
       "  border: 0;\n",
       "  clip: rect(1px 1px 1px 1px);\n",
       "  clip: rect(1px, 1px, 1px, 1px);\n",
       "  height: 1px;\n",
       "  margin: -1px;\n",
       "  overflow: hidden;\n",
       "  padding: 0;\n",
       "  position: absolute;\n",
       "  width: 1px;\n",
       "}\n",
       "\n",
       "#sk-container-id-10 div.sk-dashed-wrapped {\n",
       "  border: 1px dashed var(--sklearn-color-line);\n",
       "  margin: 0 0.4em 0.5em 0.4em;\n",
       "  box-sizing: border-box;\n",
       "  padding-bottom: 0.4em;\n",
       "  background-color: var(--sklearn-color-background);\n",
       "}\n",
       "\n",
       "#sk-container-id-10 div.sk-container {\n",
       "  /* jupyter's `normalize.less` sets `[hidden] { display: none; }`\n",
       "     but bootstrap.min.css set `[hidden] { display: none !important; }`\n",
       "     so we also need the `!important` here to be able to override the\n",
       "     default hidden behavior on the sphinx rendered scikit-learn.org.\n",
       "     See: https://github.com/scikit-learn/scikit-learn/issues/21755 */\n",
       "  display: inline-block !important;\n",
       "  position: relative;\n",
       "}\n",
       "\n",
       "#sk-container-id-10 div.sk-text-repr-fallback {\n",
       "  display: none;\n",
       "}\n",
       "\n",
       "div.sk-parallel-item,\n",
       "div.sk-serial,\n",
       "div.sk-item {\n",
       "  /* draw centered vertical line to link estimators */\n",
       "  background-image: linear-gradient(var(--sklearn-color-text-on-default-background), var(--sklearn-color-text-on-default-background));\n",
       "  background-size: 2px 100%;\n",
       "  background-repeat: no-repeat;\n",
       "  background-position: center center;\n",
       "}\n",
       "\n",
       "/* Parallel-specific style estimator block */\n",
       "\n",
       "#sk-container-id-10 div.sk-parallel-item::after {\n",
       "  content: \"\";\n",
       "  width: 100%;\n",
       "  border-bottom: 2px solid var(--sklearn-color-text-on-default-background);\n",
       "  flex-grow: 1;\n",
       "}\n",
       "\n",
       "#sk-container-id-10 div.sk-parallel {\n",
       "  display: flex;\n",
       "  align-items: stretch;\n",
       "  justify-content: center;\n",
       "  background-color: var(--sklearn-color-background);\n",
       "  position: relative;\n",
       "}\n",
       "\n",
       "#sk-container-id-10 div.sk-parallel-item {\n",
       "  display: flex;\n",
       "  flex-direction: column;\n",
       "}\n",
       "\n",
       "#sk-container-id-10 div.sk-parallel-item:first-child::after {\n",
       "  align-self: flex-end;\n",
       "  width: 50%;\n",
       "}\n",
       "\n",
       "#sk-container-id-10 div.sk-parallel-item:last-child::after {\n",
       "  align-self: flex-start;\n",
       "  width: 50%;\n",
       "}\n",
       "\n",
       "#sk-container-id-10 div.sk-parallel-item:only-child::after {\n",
       "  width: 0;\n",
       "}\n",
       "\n",
       "/* Serial-specific style estimator block */\n",
       "\n",
       "#sk-container-id-10 div.sk-serial {\n",
       "  display: flex;\n",
       "  flex-direction: column;\n",
       "  align-items: center;\n",
       "  background-color: var(--sklearn-color-background);\n",
       "  padding-right: 1em;\n",
       "  padding-left: 1em;\n",
       "}\n",
       "\n",
       "\n",
       "/* Toggleable style: style used for estimator/Pipeline/ColumnTransformer box that is\n",
       "clickable and can be expanded/collapsed.\n",
       "- Pipeline and ColumnTransformer use this feature and define the default style\n",
       "- Estimators will overwrite some part of the style using the `sk-estimator` class\n",
       "*/\n",
       "\n",
       "/* Pipeline and ColumnTransformer style (default) */\n",
       "\n",
       "#sk-container-id-10 div.sk-toggleable {\n",
       "  /* Default theme specific background. It is overwritten whether we have a\n",
       "  specific estimator or a Pipeline/ColumnTransformer */\n",
       "  background-color: var(--sklearn-color-background);\n",
       "}\n",
       "\n",
       "/* Toggleable label */\n",
       "#sk-container-id-10 label.sk-toggleable__label {\n",
       "  cursor: pointer;\n",
       "  display: block;\n",
       "  width: 100%;\n",
       "  margin-bottom: 0;\n",
       "  padding: 0.5em;\n",
       "  box-sizing: border-box;\n",
       "  text-align: center;\n",
       "}\n",
       "\n",
       "#sk-container-id-10 label.sk-toggleable__label-arrow:before {\n",
       "  /* Arrow on the left of the label */\n",
       "  content: \"▸\";\n",
       "  float: left;\n",
       "  margin-right: 0.25em;\n",
       "  color: var(--sklearn-color-icon);\n",
       "}\n",
       "\n",
       "#sk-container-id-10 label.sk-toggleable__label-arrow:hover:before {\n",
       "  color: var(--sklearn-color-text);\n",
       "}\n",
       "\n",
       "/* Toggleable content - dropdown */\n",
       "\n",
       "#sk-container-id-10 div.sk-toggleable__content {\n",
       "  max-height: 0;\n",
       "  max-width: 0;\n",
       "  overflow: hidden;\n",
       "  text-align: left;\n",
       "  /* unfitted */\n",
       "  background-color: var(--sklearn-color-unfitted-level-0);\n",
       "}\n",
       "\n",
       "#sk-container-id-10 div.sk-toggleable__content.fitted {\n",
       "  /* fitted */\n",
       "  background-color: var(--sklearn-color-fitted-level-0);\n",
       "}\n",
       "\n",
       "#sk-container-id-10 div.sk-toggleable__content pre {\n",
       "  margin: 0.2em;\n",
       "  border-radius: 0.25em;\n",
       "  color: var(--sklearn-color-text);\n",
       "  /* unfitted */\n",
       "  background-color: var(--sklearn-color-unfitted-level-0);\n",
       "}\n",
       "\n",
       "#sk-container-id-10 div.sk-toggleable__content.fitted pre {\n",
       "  /* unfitted */\n",
       "  background-color: var(--sklearn-color-fitted-level-0);\n",
       "}\n",
       "\n",
       "#sk-container-id-10 input.sk-toggleable__control:checked~div.sk-toggleable__content {\n",
       "  /* Expand drop-down */\n",
       "  max-height: 200px;\n",
       "  max-width: 100%;\n",
       "  overflow: auto;\n",
       "}\n",
       "\n",
       "#sk-container-id-10 input.sk-toggleable__control:checked~label.sk-toggleable__label-arrow:before {\n",
       "  content: \"▾\";\n",
       "}\n",
       "\n",
       "/* Pipeline/ColumnTransformer-specific style */\n",
       "\n",
       "#sk-container-id-10 div.sk-label input.sk-toggleable__control:checked~label.sk-toggleable__label {\n",
       "  color: var(--sklearn-color-text);\n",
       "  background-color: var(--sklearn-color-unfitted-level-2);\n",
       "}\n",
       "\n",
       "#sk-container-id-10 div.sk-label.fitted input.sk-toggleable__control:checked~label.sk-toggleable__label {\n",
       "  background-color: var(--sklearn-color-fitted-level-2);\n",
       "}\n",
       "\n",
       "/* Estimator-specific style */\n",
       "\n",
       "/* Colorize estimator box */\n",
       "#sk-container-id-10 div.sk-estimator input.sk-toggleable__control:checked~label.sk-toggleable__label {\n",
       "  /* unfitted */\n",
       "  background-color: var(--sklearn-color-unfitted-level-2);\n",
       "}\n",
       "\n",
       "#sk-container-id-10 div.sk-estimator.fitted input.sk-toggleable__control:checked~label.sk-toggleable__label {\n",
       "  /* fitted */\n",
       "  background-color: var(--sklearn-color-fitted-level-2);\n",
       "}\n",
       "\n",
       "#sk-container-id-10 div.sk-label label.sk-toggleable__label,\n",
       "#sk-container-id-10 div.sk-label label {\n",
       "  /* The background is the default theme color */\n",
       "  color: var(--sklearn-color-text-on-default-background);\n",
       "}\n",
       "\n",
       "/* On hover, darken the color of the background */\n",
       "#sk-container-id-10 div.sk-label:hover label.sk-toggleable__label {\n",
       "  color: var(--sklearn-color-text);\n",
       "  background-color: var(--sklearn-color-unfitted-level-2);\n",
       "}\n",
       "\n",
       "/* Label box, darken color on hover, fitted */\n",
       "#sk-container-id-10 div.sk-label.fitted:hover label.sk-toggleable__label.fitted {\n",
       "  color: var(--sklearn-color-text);\n",
       "  background-color: var(--sklearn-color-fitted-level-2);\n",
       "}\n",
       "\n",
       "/* Estimator label */\n",
       "\n",
       "#sk-container-id-10 div.sk-label label {\n",
       "  font-family: monospace;\n",
       "  font-weight: bold;\n",
       "  display: inline-block;\n",
       "  line-height: 1.2em;\n",
       "}\n",
       "\n",
       "#sk-container-id-10 div.sk-label-container {\n",
       "  text-align: center;\n",
       "}\n",
       "\n",
       "/* Estimator-specific */\n",
       "#sk-container-id-10 div.sk-estimator {\n",
       "  font-family: monospace;\n",
       "  border: 1px dotted var(--sklearn-color-border-box);\n",
       "  border-radius: 0.25em;\n",
       "  box-sizing: border-box;\n",
       "  margin-bottom: 0.5em;\n",
       "  /* unfitted */\n",
       "  background-color: var(--sklearn-color-unfitted-level-0);\n",
       "}\n",
       "\n",
       "#sk-container-id-10 div.sk-estimator.fitted {\n",
       "  /* fitted */\n",
       "  background-color: var(--sklearn-color-fitted-level-0);\n",
       "}\n",
       "\n",
       "/* on hover */\n",
       "#sk-container-id-10 div.sk-estimator:hover {\n",
       "  /* unfitted */\n",
       "  background-color: var(--sklearn-color-unfitted-level-2);\n",
       "}\n",
       "\n",
       "#sk-container-id-10 div.sk-estimator.fitted:hover {\n",
       "  /* fitted */\n",
       "  background-color: var(--sklearn-color-fitted-level-2);\n",
       "}\n",
       "\n",
       "/* Specification for estimator info (e.g. \"i\" and \"?\") */\n",
       "\n",
       "/* Common style for \"i\" and \"?\" */\n",
       "\n",
       ".sk-estimator-doc-link,\n",
       "a:link.sk-estimator-doc-link,\n",
       "a:visited.sk-estimator-doc-link {\n",
       "  float: right;\n",
       "  font-size: smaller;\n",
       "  line-height: 1em;\n",
       "  font-family: monospace;\n",
       "  background-color: var(--sklearn-color-background);\n",
       "  border-radius: 1em;\n",
       "  height: 1em;\n",
       "  width: 1em;\n",
       "  text-decoration: none !important;\n",
       "  margin-left: 1ex;\n",
       "  /* unfitted */\n",
       "  border: var(--sklearn-color-unfitted-level-1) 1pt solid;\n",
       "  color: var(--sklearn-color-unfitted-level-1);\n",
       "}\n",
       "\n",
       ".sk-estimator-doc-link.fitted,\n",
       "a:link.sk-estimator-doc-link.fitted,\n",
       "a:visited.sk-estimator-doc-link.fitted {\n",
       "  /* fitted */\n",
       "  border: var(--sklearn-color-fitted-level-1) 1pt solid;\n",
       "  color: var(--sklearn-color-fitted-level-1);\n",
       "}\n",
       "\n",
       "/* On hover */\n",
       "div.sk-estimator:hover .sk-estimator-doc-link:hover,\n",
       ".sk-estimator-doc-link:hover,\n",
       "div.sk-label-container:hover .sk-estimator-doc-link:hover,\n",
       ".sk-estimator-doc-link:hover {\n",
       "  /* unfitted */\n",
       "  background-color: var(--sklearn-color-unfitted-level-3);\n",
       "  color: var(--sklearn-color-background);\n",
       "  text-decoration: none;\n",
       "}\n",
       "\n",
       "div.sk-estimator.fitted:hover .sk-estimator-doc-link.fitted:hover,\n",
       ".sk-estimator-doc-link.fitted:hover,\n",
       "div.sk-label-container:hover .sk-estimator-doc-link.fitted:hover,\n",
       ".sk-estimator-doc-link.fitted:hover {\n",
       "  /* fitted */\n",
       "  background-color: var(--sklearn-color-fitted-level-3);\n",
       "  color: var(--sklearn-color-background);\n",
       "  text-decoration: none;\n",
       "}\n",
       "\n",
       "/* Span, style for the box shown on hovering the info icon */\n",
       ".sk-estimator-doc-link span {\n",
       "  display: none;\n",
       "  z-index: 9999;\n",
       "  position: relative;\n",
       "  font-weight: normal;\n",
       "  right: .2ex;\n",
       "  padding: .5ex;\n",
       "  margin: .5ex;\n",
       "  width: min-content;\n",
       "  min-width: 20ex;\n",
       "  max-width: 50ex;\n",
       "  color: var(--sklearn-color-text);\n",
       "  box-shadow: 2pt 2pt 4pt #999;\n",
       "  /* unfitted */\n",
       "  background: var(--sklearn-color-unfitted-level-0);\n",
       "  border: .5pt solid var(--sklearn-color-unfitted-level-3);\n",
       "}\n",
       "\n",
       ".sk-estimator-doc-link.fitted span {\n",
       "  /* fitted */\n",
       "  background: var(--sklearn-color-fitted-level-0);\n",
       "  border: var(--sklearn-color-fitted-level-3);\n",
       "}\n",
       "\n",
       ".sk-estimator-doc-link:hover span {\n",
       "  display: block;\n",
       "}\n",
       "\n",
       "/* \"?\"-specific style due to the `<a>` HTML tag */\n",
       "\n",
       "#sk-container-id-10 a.estimator_doc_link {\n",
       "  float: right;\n",
       "  font-size: 1rem;\n",
       "  line-height: 1em;\n",
       "  font-family: monospace;\n",
       "  background-color: var(--sklearn-color-background);\n",
       "  border-radius: 1rem;\n",
       "  height: 1rem;\n",
       "  width: 1rem;\n",
       "  text-decoration: none;\n",
       "  /* unfitted */\n",
       "  color: var(--sklearn-color-unfitted-level-1);\n",
       "  border: var(--sklearn-color-unfitted-level-1) 1pt solid;\n",
       "}\n",
       "\n",
       "#sk-container-id-10 a.estimator_doc_link.fitted {\n",
       "  /* fitted */\n",
       "  border: var(--sklearn-color-fitted-level-1) 1pt solid;\n",
       "  color: var(--sklearn-color-fitted-level-1);\n",
       "}\n",
       "\n",
       "/* On hover */\n",
       "#sk-container-id-10 a.estimator_doc_link:hover {\n",
       "  /* unfitted */\n",
       "  background-color: var(--sklearn-color-unfitted-level-3);\n",
       "  color: var(--sklearn-color-background);\n",
       "  text-decoration: none;\n",
       "}\n",
       "\n",
       "#sk-container-id-10 a.estimator_doc_link.fitted:hover {\n",
       "  /* fitted */\n",
       "  background-color: var(--sklearn-color-fitted-level-3);\n",
       "}\n",
       "</style><div id=\"sk-container-id-10\" class=\"sk-top-container\"><div class=\"sk-text-repr-fallback\"><pre>LinearRegression()</pre><b>In a Jupyter environment, please rerun this cell to show the HTML representation or trust the notebook. <br />On GitHub, the HTML representation is unable to render, please try loading this page with nbviewer.org.</b></div><div class=\"sk-container\" hidden><div class=\"sk-item\"><div class=\"sk-estimator fitted sk-toggleable\"><input class=\"sk-toggleable__control sk-hidden--visually\" id=\"sk-estimator-id-10\" type=\"checkbox\" checked><label for=\"sk-estimator-id-10\" class=\"sk-toggleable__label fitted sk-toggleable__label-arrow fitted\">&nbsp;&nbsp;LinearRegression<a class=\"sk-estimator-doc-link fitted\" rel=\"noreferrer\" target=\"_blank\" href=\"https://scikit-learn.org/1.5/modules/generated/sklearn.linear_model.LinearRegression.html\">?<span>Documentation for LinearRegression</span></a><span class=\"sk-estimator-doc-link fitted\">i<span>Fitted</span></span></label><div class=\"sk-toggleable__content fitted\"><pre>LinearRegression()</pre></div> </div></div></div></div>"
      ],
      "text/plain": [
       "LinearRegression()"
      ]
     },
     "execution_count": 104,
     "metadata": {},
     "output_type": "execute_result"
    }
   ],
   "source": [
    "X_train, X_test, y_train, y_test = train_test_split(X, y, test_size = 0.2, random_state = 42)\n",
    "model = LinearRegression()\n",
    "model.fit(X_train, y_train)"
   ]
  },
  {
   "cell_type": "markdown",
   "metadata": {},
   "source": [
    "#### Now let's make our predictions and see where we end up."
   ]
  },
  {
   "cell_type": "code",
   "execution_count": 105,
   "metadata": {},
   "outputs": [],
   "source": [
    "y_pred = model.predict(X_test)"
   ]
  },
  {
   "cell_type": "markdown",
   "metadata": {},
   "source": [
    "#### Let's retrieve our MAE and RMSE metrics for performance."
   ]
  },
  {
   "cell_type": "code",
   "execution_count": 106,
   "metadata": {},
   "outputs": [
    {
     "name": "stdout",
     "output_type": "stream",
     "text": [
      "Mean Absolute Error (MAE): 0.016894743260739375\n",
      "Root Mean Squared Error (RMSE): 0.0005844685220932393\n"
     ]
    }
   ],
   "source": [
    "mae = mean_absolute_error(y_test, y_pred)\n",
    "rmse = mean_squared_error(y_test, y_pred)\n",
    "\n",
    "print(f'Mean Absolute Error (MAE): {mae}')\n",
    "print(f'Root Mean Squared Error (RMSE): {rmse}')"
   ]
  },
  {
   "cell_type": "markdown",
   "metadata": {},
   "source": [
    "#### Great scores, let's verify with cross validation just to make sure that our data isn't being misinterpreted by the model."
   ]
  },
  {
   "cell_type": "code",
   "execution_count": 107,
   "metadata": {},
   "outputs": [
    {
     "name": "stdout",
     "output_type": "stream",
     "text": [
      "Cross-validated RMSE Scores: [0.02587436 0.02354417 0.03333949 0.02871106 0.0194676 ]\n",
      "Mean RMSE: 0.026187336264943007\n"
     ]
    }
   ],
   "source": [
    "scores = cross_val_score(model, X, y, cv = 5, scoring = 'neg_mean_squared_error')\n",
    "rmse_scores = np.sqrt(-scores)\n",
    "\n",
    "print(f'Cross-validated RMSE Scores: {rmse_scores}')\n",
    "print(f'Mean RMSE: {rmse_scores.mean()}')"
   ]
  },
  {
   "cell_type": "markdown",
   "metadata": {},
   "source": [
    "#### Our original scores were quite unrealistic, we have since tested with our model and the scores above reflect a great resting place to go forward with.  2.4 cents of error in our TSLA data in predicting future prices, not too bad!"
   ]
  },
  {
   "cell_type": "code",
   "execution_count": 108,
   "metadata": {},
   "outputs": [
    {
     "name": "stdout",
     "output_type": "stream",
     "text": [
      "Low            0.999234\n",
      "High           0.999152\n",
      "Open           0.998103\n",
      "Close_Lag_1    0.989525\n",
      "EMA_core       0.968766\n",
      "Close_Lag_3    0.968332\n",
      "SMA_core       0.654543\n",
      "RSI_core      -0.012661\n",
      "Volume        -0.432286\n",
      "dtype: float64\n"
     ]
    }
   ],
   "source": [
    "correlations = X.corrwith(y)\n",
    "print(correlations.sort_values(ascending = False))"
   ]
  },
  {
   "cell_type": "markdown",
   "metadata": {},
   "source": [
    "#### There are several feature columns that are influencing our Close target because they are correlating too well.  Let's go back to our X and y assignment at the top of our notebook and drop some more of those columns to balance our score."
   ]
  },
  {
   "cell_type": "markdown",
   "metadata": {},
   "source": [
    "#### Now that our predictions look good let's make a few plots to visualize our results, starting with a plot that shows Actual vs Predicted values."
   ]
  },
  {
   "cell_type": "code",
   "execution_count": 109,
   "metadata": {},
   "outputs": [
    {
     "data": {
      "application/vnd.plotly.v1+json": {
       "config": {
        "plotlyServerURL": "https://plot.ly"
       },
       "data": [
        {
         "mode": "markers",
         "name": "Predicted vs Actual",
         "type": "scatter",
         "x": [
          -1.099544562111715,
          1.5674784708089553,
          -1.0814994655741217,
          1.7266158193126262,
          1.2753396726292907,
          0.6219719077065498,
          -1.2634744357022265,
          -1.2844307742706516,
          1.484694760233514,
          0.3626072939161798,
          1.0777725973283014,
          1.7251869445610228,
          1.7291756935338374,
          -1.2601464186635316,
          -1.1674145627985415,
          -1.20721971440265,
          1.5823027397605984,
          1.2873061920777276,
          0.940127509107092,
          -1.232325671288629,
          -1.2212223735588712,
          -1.2730060018648448,
          0.9495638601035185,
          -0.1286761194270823,
          -0.5905016977294337,
          0.8104600550965078,
          -0.9423243258415276,
          0.6444762081168156,
          -1.1517627905903849,
          0.7506570273585306,
          0.8234981624761486,
          1.188210198790629,
          0.1282772852530814,
          0.5375512457300964,
          0.2841995974331469,
          0.7299090464860694,
          -0.1667786739681928,
          -1.1800419504460942,
          0.3846353481642433,
          0.7041898460171944,
          1.8723575010862643,
          0.7320523586134746,
          0.2315111014189886,
          -1.121643985151611,
          -1.2670524819760771,
          0.3175988293606445,
          -1.1061470099792945,
          -1.2064517248832871,
          0.7196690045412394,
          0.3955898274848752,
          1.038181620232188,
          -0.1695171915996035,
          0.3769850224748223,
          -1.2731607818675603,
          -1.25612779359027,
          0.594734715178466,
          -1.2479595757491408,
          0.5738377966650067,
          -1.279060715546518,
          0.0368611871596092,
          1.7584372388475225,
          -0.2971068769460213,
          -1.2584675317098966,
          0.8863971309309313,
          -0.3592257964292655,
          -1.2129053202754916,
          0.6772502562411133,
          0.718002074841033,
          -1.2568898385491674,
          -0.5039853482417957,
          0.4326206578297847,
          1.0947697479115552,
          1.1725822388905829,
          -1.2386244866781178,
          0.1236335104428686,
          1.3214795454494233,
          0.0142377911425437,
          0.1161321223944455,
          0.3457291026747295,
          -0.0828639639231438,
          -0.3302619901325792,
          -1.2925870859577255,
          1.0300553209105572,
          -1.2867883631047985,
          -0.9387045824787972,
          0.4715566090885004,
          0.082286350073947,
          0.6921340729961564,
          -1.058614202300343,
          1.5382466312644714,
          0.7100838521688112,
          1.765551634306345,
          0.3618334450019746,
          1.1684147102425722,
          0.2497287775744444,
          -1.2468581798499874,
          0.1673024900843985,
          1.8807222641514871,
          0.4572979761366578,
          -0.5931331792062207,
          0.4440513833126192,
          -0.1753516499478203,
          -1.255919427377744,
          -0.0817625339577413,
          -1.26121209610052,
          0.1921286097672728,
          0.6532873753100422,
          0.8464490032794152,
          1.8127331167584877,
          1.3537473691123243,
          1.1236145948664382,
          0.1241693044084708,
          0.212400344477532,
          0.8897606961005459,
          -1.2223178248975597,
          -0.1976476011786849,
          0.6995462074719777,
          -0.9569282883603408,
          0.5845542210370358,
          -0.2090484846273211,
          -1.3075542032083427,
          0.7646180575583712,
          -0.9979538974041532,
          0.1690885153914045,
          1.1496016923181145,
          0.29958950238459,
          1.7854959242304036,
          0.6139050199233227,
          -0.8286182381107806,
          1.6320440964339518,
          0.4555713623680553,
          0.1441731421359289,
          0.6767740100789112,
          0.6476018546028234,
          0.5694917608717928,
          0.9553087923491412,
          -1.2866276215084929,
          0.5138859675510286,
          0.1878421217774588,
          0.3731450748780094,
          -0.9831832487285692,
          0.6709693937648923,
          1.9891357853582057,
          0.1684634678532008,
          -0.1714818603168091,
          -0.8306543778185655,
          1.3171035313570154,
          -1.2569672370670877,
          0.3601068312333723,
          0.6030696362094907,
          -1.22927152985945,
          -1.297975012429504,
          -0.9059781589707196,
          0.8327857120965741,
          0.3949050958782752,
          1.0611324610354542,
          0.5037948632471964,
          0.8138535985653167,
          -0.1948792415130761,
          1.2803405979949063,
          0.903036994693786,
          0.5194228231472428,
          0.1328316702256963,
          0.9424491921147038,
          -0.9561900386764288,
          1.0442544060590002,
          0.5371047053370961,
          -1.278483215975474,
          0.2923261692847696,
          0.594317880554667,
          1.587839459091816,
          0.6654325381686786,
          -1.296004390635271,
          0.9680792752759736,
          0.6986234209167745,
          1.2672430790768625,
          -0.1731190842478137,
          0.8069772580550973,
          1.8079703826064712,
          0.7703631260689903,
          -1.2742086085900284,
          -0.9361921966088096,
          0.3349235609950954,
          -0.9752233970999656,
          0.335370101388096,
          0.7127332524926164,
          0.5766359983648135,
          0.2607130989292741,
          0.8252843240481512,
          0.7393453974824965,
          0.2089175474361212,
          0.8187949761275326,
          0.5160888274818334,
          0.8537717479176387,
          0.0830901772873466,
          -1.1660571590375175,
          1.156686382007735,
          0.1885565591532605,
          1.7871629901956063,
          0.6919257238167545,
          1.432661153791758,
          0.9244101593694476,
          1.336452615777068,
          -1.265546242772803,
          0.8870520205033326,
          0.5705039372645939,
          0.2154366011259416,
          0.2103464221877246,
          0.449290499891834,
          -1.2122563922966796,
          1.8525622850682004,
          -1.2735001328078166,
          -1.287550416580258,
          0.14810247957034,
          0.5808927805854256,
          0.0664798830286974,
          -0.0843820922473487,
          0.4962933389337768,
          0.5946751673750661,
          0.1314027954740929,
          0.9170872784662276,
          -0.934257301793304,
          0.2151687041431405,
          1.2817991785157117,
          -1.2834544015056386,
          0.6604614548372613,
          -1.111898108216001,
          0.9887081605416356,
          0.6003309823130834,
          0.9937982032148563,
          -1.2926347105739455,
          0.8911895708521492,
          0.8841345869317303,
          0.3836827195748422,
          -1.2734763204997064,
          -0.3110916853877226,
          0.4348532235297913,
          0.6619497411272679,
          0.0467439422840404,
          0.7985827892206729,
          1.1739514295737898,
          1.171450966890982,
          -1.2371182474748432,
          -1.2126016877974009,
          0.7787874369376128,
          -1.1081116786965,
          -1.1644675767558577,
          0.2127574950329346,
          -1.237290895225204,
          0.3187598071294465,
          -1.2330996224015816,
          0.5546079441167501,
          -0.923469542695692,
          0.678649425223515,
          1.5173201432468062,
          -1.2109228008437658,
          -1.1348131453914798,
          0.9051804430861872,
          -0.940847826473704,
          0.5974136850064768,
          -0.3205577421533511,
          -1.0746946301207307,
          -0.93307257984889,
          1.274535981680888,
          -0.4552261215295506,
          1.3252598089778402,
          -1.2485549345512674,
          -1.2898365684900748,
          -0.8605588213849752,
          0.1375646986085106,
          0.5629131593785731,
          1.1496313980873156,
          1.5960254424818427,
          -0.8492054944200611,
          0.6201561766303417,
          1.0406820829149956,
          0.2227594820291614
         ],
         "y": [
          -1.1065417056756413,
          1.5943238626919636,
          -1.0664909389141919,
          1.7011204847300934,
          1.2536542119948946,
          0.6199122323479253,
          -1.2670337612737959,
          -1.2880133200545594,
          1.4215854964555144,
          0.34650211267772835,
          1.102024555304915,
          1.7510428100646882,
          1.6592324386194766,
          -1.261180055940199,
          -1.1654311235958374,
          -1.2046968492083951,
          1.6287773920144093,
          1.2728789984280031,
          0.9534151936396718,
          -1.225985613804009,
          -1.2235521610382722,
          -1.2715839143576446,
          0.9555688918688655,
          -0.14005802862772887,
          -0.6025669359599714,
          0.7927692194880167,
          -0.9505277922939378,
          0.6274104596305013,
          -1.1484851763222372,
          0.7569225093444566,
          0.8046461838702882,
          1.208464035174633,
          0.1185564003776857,
          0.529609994996626,
          0.29384143990566536,
          0.695099464976112,
          -0.16910160952790612,
          -1.1724652320944537,
          0.3732245846745974,
          0.7335549029423333,
          1.8661237845980645,
          0.8050786378194896,
          0.22578385061720335,
          -1.1239747027216291,
          -1.2653249097014805,
          0.2827555362100923,
          -1.1064857443164782,
          -1.20673328259497,
          0.7517898352217871,
          0.40366724355810957,
          1.0458928079813443,
          -0.16401003740394646,
          0.3725465133822411,
          -1.2707049913289405,
          -1.2571351118417684,
          0.5869167771658416,
          -1.248129205616156,
          0.6196698777611437,
          -1.281309088723436,
          0.05082511633836794,
          1.7042004854997246,
          -0.30270838814994583,
          -1.2593340702253994,
          0.8987683864770784,
          -0.36998986904452047,
          -1.214830998296821,
          0.6967802615287695,
          0.6949272351643765,
          -1.2573865843353882,
          -0.5187821233634748,
          0.42117488571005424,
          1.1246622778251156,
          1.1600734726647548,
          -1.237180572890768,
          0.16891770665237205,
          1.353205043409349,
          0.02507536580773338,
          0.11110704347267224,
          0.34923870264427914,
          -0.17937291624810722,
          -0.36151461931415396,
          -1.2964496553534361,
          0.9862776533679799,
          -1.2806511520321893,
          -0.9276181650212199,
          0.45805633122968537,
          0.09209076976393643,
          0.6857505863736981,
          -1.0333598838906135,
          1.496315778141628,
          0.6971454841704124,
          1.8045088965895753,
          0.3878567481818397,
          1.148228147314526,
          0.24185990688934458,
          -1.2456754867960214,
          0.17904548850439153,
          1.8205342455793903,
          0.44342957516086834,
          -0.6016964998878127,
          0.4699405045398549,
          -0.23075281510996865,
          -1.2565821355865718,
          -0.07297895731448385,
          -1.2606308000057487,
          0.201079047551275,
          0.6636558931602046,
          0.8780752598263745,
          1.7770827762320645,
          1.3563632208703986,
          1.1277231667557288,
          0.1216124678426525,
          0.2012628400164668,
          0.8754635379370292,
          -1.2245643504740054,
          -0.1901307448050545,
          0.6733919101078223,
          -0.9409652217307509,
          0.5593108362791376,
          -0.157519170439224,
          -1.3124326991212756,
          0.7764370785291224,
          -0.9791298345530735,
          0.17305386956229749,
          1.14964205673216,
          0.3294971360755764,
          1.7571390926589099,
          0.6479369767861383,
          -0.8251204336873639,
          1.6490710935401902,
          0.47739138879515963,
          0.11487377514861061,
          0.65841411514798,
          0.6319424043433673,
          0.590775792325082,
          0.9067919799203573,
          -1.2876678313842898,
          0.5151254701431219,
          0.18368727919189456,
          0.33383397975885765,
          -0.9699900981738576,
          0.6788275716452554,
          1.9343375410826043,
          0.16411178854904784,
          -0.20794741987322132,
          -0.8347820676954644,
          1.3183421830609874,
          -1.2580092582925069,
          0.370281731869479,
          0.6307507731152019,
          -1.2328529830239376,
          -1.296506938846419,
          -0.9019078867388948,
          0.8259395625459757,
          0.38311031056937483,
          1.0373513054149208,
          0.5051110201960823,
          0.7908222862875279,
          -0.17973227842405606,
          1.3379185149081272,
          0.9212572660117564,
          0.5061182533347162,
          0.13213285305714456,
          0.9080407485729745,
          -0.9506696086958291,
          1.09154704425608,
          0.5499123254342743,
          -1.2812663968266584,
          0.3056567691478822,
          0.6051848129133197,
          1.5899895994136797,
          0.6672761652577791,
          -1.2917280293346078,
          1.0236247741944249,
          0.695947107157339,
          1.2267194464910336,
          -0.1620260279450383,
          0.8094222342605262,
          1.800507092733718,
          0.8025494903631576,
          -1.2698182819638826,
          -0.9352169575913933,
          0.30967193895661105,
          -0.9623321745238668,
          0.3801582598732296,
          0.6909620040045902,
          0.584379788287558,
          0.2905019957473176,
          0.8158151433697841,
          0.7946631067304084,
          0.23076958868797576,
          0.8331182292117648,
          0.5079736366314901,
          0.8956452542922938,
          0.07800295201502008,
          -1.1455272966588168,
          1.149142227945721,
          0.1724845395663517,
          1.8170982678446763,
          0.726814701485,
          1.410864413665841,
          0.9833607441838494,
          1.3603196860283415,
          -1.2683039526450879,
          0.8675129889942651,
          0.5636202624298561,
          0.20073061063097924,
          0.22638035916196453,
          0.44933995893855316,
          -1.2093391274461307,
          1.8067891639548235,
          -1.2755659111144775,
          -1.286348387856106,
          0.13189198602861588,
          0.6084370552606095,
          0.08261015387671707,
          -0.08384167733416249,
          0.4682936562767549,
          0.5949030602251628,
          0.14878660536985816,
          0.9288109756813088,
          -0.9292984456490337,
          0.21774588996399394,
          1.2885366631814419,
          -1.283983058202203,
          0.6761700627664066,
          -1.1035052579669793,
          0.9769069772149678,
          0.6418229570807911,
          0.9951216408388446,
          -1.2905936998328162,
          0.9023480309157103,
          0.8978133836637932,
          0.4453478680078602,
          -1.2718113331403706,
          -0.33691111376848615,
          0.4395267903891449,
          0.612991753811259,
          0.021077258941558305,
          0.8332827019839317,
          1.1510012173638793,
          1.2665605612704065,
          -1.237565691680106,
          -1.2109836321641847,
          0.7410653631811525,
          -1.1034074448124251,
          -1.1638236383924927,
          0.19540266965330888,
          -1.238483471681838,
          0.3454824192825323,
          -1.22846625838042,
          0.5308052763418726,
          -0.9272816806684029,
          0.6466656318214921,
          1.5592061100395582,
          -1.2106645294762381,
          -1.1299426183653218,
          0.912861974630806,
          -0.9362547620519395,
          0.6014098794949579,
          -0.3160930664754499,
          -1.0705883852704654,
          -0.9313769164740163,
          1.2489530183097688,
          -0.4608085030117953,
          1.3043253050360473,
          -1.2495734922754085,
          -1.29119289856683,
          -0.859099859166367,
          0.12307102405499712,
          0.5420429591851383,
          1.1114955928279626,
          1.5483053570832181,
          -0.8483860263093027,
          0.5547799521554084,
          1.0262309108777874,
          0.23441106887757726
         ]
        },
        {
         "mode": "lines",
         "name": "Ideal Line",
         "type": "scatter",
         "x": [
          -1.099544562111715,
          1.5674784708089553,
          -1.0814994655741217,
          1.7266158193126262,
          1.2753396726292907,
          0.6219719077065498,
          -1.2634744357022265,
          -1.2844307742706516,
          1.484694760233514,
          0.3626072939161798,
          1.0777725973283014,
          1.7251869445610228,
          1.7291756935338374,
          -1.2601464186635316,
          -1.1674145627985415,
          -1.20721971440265,
          1.5823027397605984,
          1.2873061920777276,
          0.940127509107092,
          -1.232325671288629,
          -1.2212223735588712,
          -1.2730060018648448,
          0.9495638601035185,
          -0.1286761194270823,
          -0.5905016977294337,
          0.8104600550965078,
          -0.9423243258415276,
          0.6444762081168156,
          -1.1517627905903849,
          0.7506570273585306,
          0.8234981624761486,
          1.188210198790629,
          0.1282772852530814,
          0.5375512457300964,
          0.2841995974331469,
          0.7299090464860694,
          -0.1667786739681928,
          -1.1800419504460942,
          0.3846353481642433,
          0.7041898460171944,
          1.8723575010862643,
          0.7320523586134746,
          0.2315111014189886,
          -1.121643985151611,
          -1.2670524819760771,
          0.3175988293606445,
          -1.1061470099792945,
          -1.2064517248832871,
          0.7196690045412394,
          0.3955898274848752,
          1.038181620232188,
          -0.1695171915996035,
          0.3769850224748223,
          -1.2731607818675603,
          -1.25612779359027,
          0.594734715178466,
          -1.2479595757491408,
          0.5738377966650067,
          -1.279060715546518,
          0.0368611871596092,
          1.7584372388475225,
          -0.2971068769460213,
          -1.2584675317098966,
          0.8863971309309313,
          -0.3592257964292655,
          -1.2129053202754916,
          0.6772502562411133,
          0.718002074841033,
          -1.2568898385491674,
          -0.5039853482417957,
          0.4326206578297847,
          1.0947697479115552,
          1.1725822388905829,
          -1.2386244866781178,
          0.1236335104428686,
          1.3214795454494233,
          0.0142377911425437,
          0.1161321223944455,
          0.3457291026747295,
          -0.0828639639231438,
          -0.3302619901325792,
          -1.2925870859577255,
          1.0300553209105572,
          -1.2867883631047985,
          -0.9387045824787972,
          0.4715566090885004,
          0.082286350073947,
          0.6921340729961564,
          -1.058614202300343,
          1.5382466312644714,
          0.7100838521688112,
          1.765551634306345,
          0.3618334450019746,
          1.1684147102425722,
          0.2497287775744444,
          -1.2468581798499874,
          0.1673024900843985,
          1.8807222641514871,
          0.4572979761366578,
          -0.5931331792062207,
          0.4440513833126192,
          -0.1753516499478203,
          -1.255919427377744,
          -0.0817625339577413,
          -1.26121209610052,
          0.1921286097672728,
          0.6532873753100422,
          0.8464490032794152,
          1.8127331167584877,
          1.3537473691123243,
          1.1236145948664382,
          0.1241693044084708,
          0.212400344477532,
          0.8897606961005459,
          -1.2223178248975597,
          -0.1976476011786849,
          0.6995462074719777,
          -0.9569282883603408,
          0.5845542210370358,
          -0.2090484846273211,
          -1.3075542032083427,
          0.7646180575583712,
          -0.9979538974041532,
          0.1690885153914045,
          1.1496016923181145,
          0.29958950238459,
          1.7854959242304036,
          0.6139050199233227,
          -0.8286182381107806,
          1.6320440964339518,
          0.4555713623680553,
          0.1441731421359289,
          0.6767740100789112,
          0.6476018546028234,
          0.5694917608717928,
          0.9553087923491412,
          -1.2866276215084929,
          0.5138859675510286,
          0.1878421217774588,
          0.3731450748780094,
          -0.9831832487285692,
          0.6709693937648923,
          1.9891357853582057,
          0.1684634678532008,
          -0.1714818603168091,
          -0.8306543778185655,
          1.3171035313570154,
          -1.2569672370670877,
          0.3601068312333723,
          0.6030696362094907,
          -1.22927152985945,
          -1.297975012429504,
          -0.9059781589707196,
          0.8327857120965741,
          0.3949050958782752,
          1.0611324610354542,
          0.5037948632471964,
          0.8138535985653167,
          -0.1948792415130761,
          1.2803405979949063,
          0.903036994693786,
          0.5194228231472428,
          0.1328316702256963,
          0.9424491921147038,
          -0.9561900386764288,
          1.0442544060590002,
          0.5371047053370961,
          -1.278483215975474,
          0.2923261692847696,
          0.594317880554667,
          1.587839459091816,
          0.6654325381686786,
          -1.296004390635271,
          0.9680792752759736,
          0.6986234209167745,
          1.2672430790768625,
          -0.1731190842478137,
          0.8069772580550973,
          1.8079703826064712,
          0.7703631260689903,
          -1.2742086085900284,
          -0.9361921966088096,
          0.3349235609950954,
          -0.9752233970999656,
          0.335370101388096,
          0.7127332524926164,
          0.5766359983648135,
          0.2607130989292741,
          0.8252843240481512,
          0.7393453974824965,
          0.2089175474361212,
          0.8187949761275326,
          0.5160888274818334,
          0.8537717479176387,
          0.0830901772873466,
          -1.1660571590375175,
          1.156686382007735,
          0.1885565591532605,
          1.7871629901956063,
          0.6919257238167545,
          1.432661153791758,
          0.9244101593694476,
          1.336452615777068,
          -1.265546242772803,
          0.8870520205033326,
          0.5705039372645939,
          0.2154366011259416,
          0.2103464221877246,
          0.449290499891834,
          -1.2122563922966796,
          1.8525622850682004,
          -1.2735001328078166,
          -1.287550416580258,
          0.14810247957034,
          0.5808927805854256,
          0.0664798830286974,
          -0.0843820922473487,
          0.4962933389337768,
          0.5946751673750661,
          0.1314027954740929,
          0.9170872784662276,
          -0.934257301793304,
          0.2151687041431405,
          1.2817991785157117,
          -1.2834544015056386,
          0.6604614548372613,
          -1.111898108216001,
          0.9887081605416356,
          0.6003309823130834,
          0.9937982032148563,
          -1.2926347105739455,
          0.8911895708521492,
          0.8841345869317303,
          0.3836827195748422,
          -1.2734763204997064,
          -0.3110916853877226,
          0.4348532235297913,
          0.6619497411272679,
          0.0467439422840404,
          0.7985827892206729,
          1.1739514295737898,
          1.171450966890982,
          -1.2371182474748432,
          -1.2126016877974009,
          0.7787874369376128,
          -1.1081116786965,
          -1.1644675767558577,
          0.2127574950329346,
          -1.237290895225204,
          0.3187598071294465,
          -1.2330996224015816,
          0.5546079441167501,
          -0.923469542695692,
          0.678649425223515,
          1.5173201432468062,
          -1.2109228008437658,
          -1.1348131453914798,
          0.9051804430861872,
          -0.940847826473704,
          0.5974136850064768,
          -0.3205577421533511,
          -1.0746946301207307,
          -0.93307257984889,
          1.274535981680888,
          -0.4552261215295506,
          1.3252598089778402,
          -1.2485549345512674,
          -1.2898365684900748,
          -0.8605588213849752,
          0.1375646986085106,
          0.5629131593785731,
          1.1496313980873156,
          1.5960254424818427,
          -0.8492054944200611,
          0.6201561766303417,
          1.0406820829149956,
          0.2227594820291614
         ],
         "y": [
          -1.099544562111715,
          1.5674784708089553,
          -1.0814994655741217,
          1.7266158193126262,
          1.2753396726292907,
          0.6219719077065498,
          -1.2634744357022265,
          -1.2844307742706516,
          1.484694760233514,
          0.3626072939161798,
          1.0777725973283014,
          1.7251869445610228,
          1.7291756935338374,
          -1.2601464186635316,
          -1.1674145627985415,
          -1.20721971440265,
          1.5823027397605984,
          1.2873061920777276,
          0.940127509107092,
          -1.232325671288629,
          -1.2212223735588712,
          -1.2730060018648448,
          0.9495638601035185,
          -0.1286761194270823,
          -0.5905016977294337,
          0.8104600550965078,
          -0.9423243258415276,
          0.6444762081168156,
          -1.1517627905903849,
          0.7506570273585306,
          0.8234981624761486,
          1.188210198790629,
          0.1282772852530814,
          0.5375512457300964,
          0.2841995974331469,
          0.7299090464860694,
          -0.1667786739681928,
          -1.1800419504460942,
          0.3846353481642433,
          0.7041898460171944,
          1.8723575010862643,
          0.7320523586134746,
          0.2315111014189886,
          -1.121643985151611,
          -1.2670524819760771,
          0.3175988293606445,
          -1.1061470099792945,
          -1.2064517248832871,
          0.7196690045412394,
          0.3955898274848752,
          1.038181620232188,
          -0.1695171915996035,
          0.3769850224748223,
          -1.2731607818675603,
          -1.25612779359027,
          0.594734715178466,
          -1.2479595757491408,
          0.5738377966650067,
          -1.279060715546518,
          0.0368611871596092,
          1.7584372388475225,
          -0.2971068769460213,
          -1.2584675317098966,
          0.8863971309309313,
          -0.3592257964292655,
          -1.2129053202754916,
          0.6772502562411133,
          0.718002074841033,
          -1.2568898385491674,
          -0.5039853482417957,
          0.4326206578297847,
          1.0947697479115552,
          1.1725822388905829,
          -1.2386244866781178,
          0.1236335104428686,
          1.3214795454494233,
          0.0142377911425437,
          0.1161321223944455,
          0.3457291026747295,
          -0.0828639639231438,
          -0.3302619901325792,
          -1.2925870859577255,
          1.0300553209105572,
          -1.2867883631047985,
          -0.9387045824787972,
          0.4715566090885004,
          0.082286350073947,
          0.6921340729961564,
          -1.058614202300343,
          1.5382466312644714,
          0.7100838521688112,
          1.765551634306345,
          0.3618334450019746,
          1.1684147102425722,
          0.2497287775744444,
          -1.2468581798499874,
          0.1673024900843985,
          1.8807222641514871,
          0.4572979761366578,
          -0.5931331792062207,
          0.4440513833126192,
          -0.1753516499478203,
          -1.255919427377744,
          -0.0817625339577413,
          -1.26121209610052,
          0.1921286097672728,
          0.6532873753100422,
          0.8464490032794152,
          1.8127331167584877,
          1.3537473691123243,
          1.1236145948664382,
          0.1241693044084708,
          0.212400344477532,
          0.8897606961005459,
          -1.2223178248975597,
          -0.1976476011786849,
          0.6995462074719777,
          -0.9569282883603408,
          0.5845542210370358,
          -0.2090484846273211,
          -1.3075542032083427,
          0.7646180575583712,
          -0.9979538974041532,
          0.1690885153914045,
          1.1496016923181145,
          0.29958950238459,
          1.7854959242304036,
          0.6139050199233227,
          -0.8286182381107806,
          1.6320440964339518,
          0.4555713623680553,
          0.1441731421359289,
          0.6767740100789112,
          0.6476018546028234,
          0.5694917608717928,
          0.9553087923491412,
          -1.2866276215084929,
          0.5138859675510286,
          0.1878421217774588,
          0.3731450748780094,
          -0.9831832487285692,
          0.6709693937648923,
          1.9891357853582057,
          0.1684634678532008,
          -0.1714818603168091,
          -0.8306543778185655,
          1.3171035313570154,
          -1.2569672370670877,
          0.3601068312333723,
          0.6030696362094907,
          -1.22927152985945,
          -1.297975012429504,
          -0.9059781589707196,
          0.8327857120965741,
          0.3949050958782752,
          1.0611324610354542,
          0.5037948632471964,
          0.8138535985653167,
          -0.1948792415130761,
          1.2803405979949063,
          0.903036994693786,
          0.5194228231472428,
          0.1328316702256963,
          0.9424491921147038,
          -0.9561900386764288,
          1.0442544060590002,
          0.5371047053370961,
          -1.278483215975474,
          0.2923261692847696,
          0.594317880554667,
          1.587839459091816,
          0.6654325381686786,
          -1.296004390635271,
          0.9680792752759736,
          0.6986234209167745,
          1.2672430790768625,
          -0.1731190842478137,
          0.8069772580550973,
          1.8079703826064712,
          0.7703631260689903,
          -1.2742086085900284,
          -0.9361921966088096,
          0.3349235609950954,
          -0.9752233970999656,
          0.335370101388096,
          0.7127332524926164,
          0.5766359983648135,
          0.2607130989292741,
          0.8252843240481512,
          0.7393453974824965,
          0.2089175474361212,
          0.8187949761275326,
          0.5160888274818334,
          0.8537717479176387,
          0.0830901772873466,
          -1.1660571590375175,
          1.156686382007735,
          0.1885565591532605,
          1.7871629901956063,
          0.6919257238167545,
          1.432661153791758,
          0.9244101593694476,
          1.336452615777068,
          -1.265546242772803,
          0.8870520205033326,
          0.5705039372645939,
          0.2154366011259416,
          0.2103464221877246,
          0.449290499891834,
          -1.2122563922966796,
          1.8525622850682004,
          -1.2735001328078166,
          -1.287550416580258,
          0.14810247957034,
          0.5808927805854256,
          0.0664798830286974,
          -0.0843820922473487,
          0.4962933389337768,
          0.5946751673750661,
          0.1314027954740929,
          0.9170872784662276,
          -0.934257301793304,
          0.2151687041431405,
          1.2817991785157117,
          -1.2834544015056386,
          0.6604614548372613,
          -1.111898108216001,
          0.9887081605416356,
          0.6003309823130834,
          0.9937982032148563,
          -1.2926347105739455,
          0.8911895708521492,
          0.8841345869317303,
          0.3836827195748422,
          -1.2734763204997064,
          -0.3110916853877226,
          0.4348532235297913,
          0.6619497411272679,
          0.0467439422840404,
          0.7985827892206729,
          1.1739514295737898,
          1.171450966890982,
          -1.2371182474748432,
          -1.2126016877974009,
          0.7787874369376128,
          -1.1081116786965,
          -1.1644675767558577,
          0.2127574950329346,
          -1.237290895225204,
          0.3187598071294465,
          -1.2330996224015816,
          0.5546079441167501,
          -0.923469542695692,
          0.678649425223515,
          1.5173201432468062,
          -1.2109228008437658,
          -1.1348131453914798,
          0.9051804430861872,
          -0.940847826473704,
          0.5974136850064768,
          -0.3205577421533511,
          -1.0746946301207307,
          -0.93307257984889,
          1.274535981680888,
          -0.4552261215295506,
          1.3252598089778402,
          -1.2485549345512674,
          -1.2898365684900748,
          -0.8605588213849752,
          0.1375646986085106,
          0.5629131593785731,
          1.1496313980873156,
          1.5960254424818427,
          -0.8492054944200611,
          0.6201561766303417,
          1.0406820829149956,
          0.2227594820291614
         ]
        }
       ],
       "layout": {
        "template": {
         "data": {
          "bar": [
           {
            "error_x": {
             "color": "#f2f5fa"
            },
            "error_y": {
             "color": "#f2f5fa"
            },
            "marker": {
             "line": {
              "color": "rgb(17,17,17)",
              "width": 0.5
             },
             "pattern": {
              "fillmode": "overlay",
              "size": 10,
              "solidity": 0.2
             }
            },
            "type": "bar"
           }
          ],
          "barpolar": [
           {
            "marker": {
             "line": {
              "color": "rgb(17,17,17)",
              "width": 0.5
             },
             "pattern": {
              "fillmode": "overlay",
              "size": 10,
              "solidity": 0.2
             }
            },
            "type": "barpolar"
           }
          ],
          "carpet": [
           {
            "aaxis": {
             "endlinecolor": "#A2B1C6",
             "gridcolor": "#506784",
             "linecolor": "#506784",
             "minorgridcolor": "#506784",
             "startlinecolor": "#A2B1C6"
            },
            "baxis": {
             "endlinecolor": "#A2B1C6",
             "gridcolor": "#506784",
             "linecolor": "#506784",
             "minorgridcolor": "#506784",
             "startlinecolor": "#A2B1C6"
            },
            "type": "carpet"
           }
          ],
          "choropleth": [
           {
            "colorbar": {
             "outlinewidth": 0,
             "ticks": ""
            },
            "type": "choropleth"
           }
          ],
          "contour": [
           {
            "colorbar": {
             "outlinewidth": 0,
             "ticks": ""
            },
            "colorscale": [
             [
              0,
              "#0d0887"
             ],
             [
              0.1111111111111111,
              "#46039f"
             ],
             [
              0.2222222222222222,
              "#7201a8"
             ],
             [
              0.3333333333333333,
              "#9c179e"
             ],
             [
              0.4444444444444444,
              "#bd3786"
             ],
             [
              0.5555555555555556,
              "#d8576b"
             ],
             [
              0.6666666666666666,
              "#ed7953"
             ],
             [
              0.7777777777777778,
              "#fb9f3a"
             ],
             [
              0.8888888888888888,
              "#fdca26"
             ],
             [
              1,
              "#f0f921"
             ]
            ],
            "type": "contour"
           }
          ],
          "contourcarpet": [
           {
            "colorbar": {
             "outlinewidth": 0,
             "ticks": ""
            },
            "type": "contourcarpet"
           }
          ],
          "heatmap": [
           {
            "colorbar": {
             "outlinewidth": 0,
             "ticks": ""
            },
            "colorscale": [
             [
              0,
              "#0d0887"
             ],
             [
              0.1111111111111111,
              "#46039f"
             ],
             [
              0.2222222222222222,
              "#7201a8"
             ],
             [
              0.3333333333333333,
              "#9c179e"
             ],
             [
              0.4444444444444444,
              "#bd3786"
             ],
             [
              0.5555555555555556,
              "#d8576b"
             ],
             [
              0.6666666666666666,
              "#ed7953"
             ],
             [
              0.7777777777777778,
              "#fb9f3a"
             ],
             [
              0.8888888888888888,
              "#fdca26"
             ],
             [
              1,
              "#f0f921"
             ]
            ],
            "type": "heatmap"
           }
          ],
          "heatmapgl": [
           {
            "colorbar": {
             "outlinewidth": 0,
             "ticks": ""
            },
            "colorscale": [
             [
              0,
              "#0d0887"
             ],
             [
              0.1111111111111111,
              "#46039f"
             ],
             [
              0.2222222222222222,
              "#7201a8"
             ],
             [
              0.3333333333333333,
              "#9c179e"
             ],
             [
              0.4444444444444444,
              "#bd3786"
             ],
             [
              0.5555555555555556,
              "#d8576b"
             ],
             [
              0.6666666666666666,
              "#ed7953"
             ],
             [
              0.7777777777777778,
              "#fb9f3a"
             ],
             [
              0.8888888888888888,
              "#fdca26"
             ],
             [
              1,
              "#f0f921"
             ]
            ],
            "type": "heatmapgl"
           }
          ],
          "histogram": [
           {
            "marker": {
             "pattern": {
              "fillmode": "overlay",
              "size": 10,
              "solidity": 0.2
             }
            },
            "type": "histogram"
           }
          ],
          "histogram2d": [
           {
            "colorbar": {
             "outlinewidth": 0,
             "ticks": ""
            },
            "colorscale": [
             [
              0,
              "#0d0887"
             ],
             [
              0.1111111111111111,
              "#46039f"
             ],
             [
              0.2222222222222222,
              "#7201a8"
             ],
             [
              0.3333333333333333,
              "#9c179e"
             ],
             [
              0.4444444444444444,
              "#bd3786"
             ],
             [
              0.5555555555555556,
              "#d8576b"
             ],
             [
              0.6666666666666666,
              "#ed7953"
             ],
             [
              0.7777777777777778,
              "#fb9f3a"
             ],
             [
              0.8888888888888888,
              "#fdca26"
             ],
             [
              1,
              "#f0f921"
             ]
            ],
            "type": "histogram2d"
           }
          ],
          "histogram2dcontour": [
           {
            "colorbar": {
             "outlinewidth": 0,
             "ticks": ""
            },
            "colorscale": [
             [
              0,
              "#0d0887"
             ],
             [
              0.1111111111111111,
              "#46039f"
             ],
             [
              0.2222222222222222,
              "#7201a8"
             ],
             [
              0.3333333333333333,
              "#9c179e"
             ],
             [
              0.4444444444444444,
              "#bd3786"
             ],
             [
              0.5555555555555556,
              "#d8576b"
             ],
             [
              0.6666666666666666,
              "#ed7953"
             ],
             [
              0.7777777777777778,
              "#fb9f3a"
             ],
             [
              0.8888888888888888,
              "#fdca26"
             ],
             [
              1,
              "#f0f921"
             ]
            ],
            "type": "histogram2dcontour"
           }
          ],
          "mesh3d": [
           {
            "colorbar": {
             "outlinewidth": 0,
             "ticks": ""
            },
            "type": "mesh3d"
           }
          ],
          "parcoords": [
           {
            "line": {
             "colorbar": {
              "outlinewidth": 0,
              "ticks": ""
             }
            },
            "type": "parcoords"
           }
          ],
          "pie": [
           {
            "automargin": true,
            "type": "pie"
           }
          ],
          "scatter": [
           {
            "marker": {
             "line": {
              "color": "#283442"
             }
            },
            "type": "scatter"
           }
          ],
          "scatter3d": [
           {
            "line": {
             "colorbar": {
              "outlinewidth": 0,
              "ticks": ""
             }
            },
            "marker": {
             "colorbar": {
              "outlinewidth": 0,
              "ticks": ""
             }
            },
            "type": "scatter3d"
           }
          ],
          "scattercarpet": [
           {
            "marker": {
             "colorbar": {
              "outlinewidth": 0,
              "ticks": ""
             }
            },
            "type": "scattercarpet"
           }
          ],
          "scattergeo": [
           {
            "marker": {
             "colorbar": {
              "outlinewidth": 0,
              "ticks": ""
             }
            },
            "type": "scattergeo"
           }
          ],
          "scattergl": [
           {
            "marker": {
             "line": {
              "color": "#283442"
             }
            },
            "type": "scattergl"
           }
          ],
          "scattermapbox": [
           {
            "marker": {
             "colorbar": {
              "outlinewidth": 0,
              "ticks": ""
             }
            },
            "type": "scattermapbox"
           }
          ],
          "scatterpolar": [
           {
            "marker": {
             "colorbar": {
              "outlinewidth": 0,
              "ticks": ""
             }
            },
            "type": "scatterpolar"
           }
          ],
          "scatterpolargl": [
           {
            "marker": {
             "colorbar": {
              "outlinewidth": 0,
              "ticks": ""
             }
            },
            "type": "scatterpolargl"
           }
          ],
          "scatterternary": [
           {
            "marker": {
             "colorbar": {
              "outlinewidth": 0,
              "ticks": ""
             }
            },
            "type": "scatterternary"
           }
          ],
          "surface": [
           {
            "colorbar": {
             "outlinewidth": 0,
             "ticks": ""
            },
            "colorscale": [
             [
              0,
              "#0d0887"
             ],
             [
              0.1111111111111111,
              "#46039f"
             ],
             [
              0.2222222222222222,
              "#7201a8"
             ],
             [
              0.3333333333333333,
              "#9c179e"
             ],
             [
              0.4444444444444444,
              "#bd3786"
             ],
             [
              0.5555555555555556,
              "#d8576b"
             ],
             [
              0.6666666666666666,
              "#ed7953"
             ],
             [
              0.7777777777777778,
              "#fb9f3a"
             ],
             [
              0.8888888888888888,
              "#fdca26"
             ],
             [
              1,
              "#f0f921"
             ]
            ],
            "type": "surface"
           }
          ],
          "table": [
           {
            "cells": {
             "fill": {
              "color": "#506784"
             },
             "line": {
              "color": "rgb(17,17,17)"
             }
            },
            "header": {
             "fill": {
              "color": "#2a3f5f"
             },
             "line": {
              "color": "rgb(17,17,17)"
             }
            },
            "type": "table"
           }
          ]
         },
         "layout": {
          "annotationdefaults": {
           "arrowcolor": "#f2f5fa",
           "arrowhead": 0,
           "arrowwidth": 1
          },
          "autotypenumbers": "strict",
          "coloraxis": {
           "colorbar": {
            "outlinewidth": 0,
            "ticks": ""
           }
          },
          "colorscale": {
           "diverging": [
            [
             0,
             "#8e0152"
            ],
            [
             0.1,
             "#c51b7d"
            ],
            [
             0.2,
             "#de77ae"
            ],
            [
             0.3,
             "#f1b6da"
            ],
            [
             0.4,
             "#fde0ef"
            ],
            [
             0.5,
             "#f7f7f7"
            ],
            [
             0.6,
             "#e6f5d0"
            ],
            [
             0.7,
             "#b8e186"
            ],
            [
             0.8,
             "#7fbc41"
            ],
            [
             0.9,
             "#4d9221"
            ],
            [
             1,
             "#276419"
            ]
           ],
           "sequential": [
            [
             0,
             "#0d0887"
            ],
            [
             0.1111111111111111,
             "#46039f"
            ],
            [
             0.2222222222222222,
             "#7201a8"
            ],
            [
             0.3333333333333333,
             "#9c179e"
            ],
            [
             0.4444444444444444,
             "#bd3786"
            ],
            [
             0.5555555555555556,
             "#d8576b"
            ],
            [
             0.6666666666666666,
             "#ed7953"
            ],
            [
             0.7777777777777778,
             "#fb9f3a"
            ],
            [
             0.8888888888888888,
             "#fdca26"
            ],
            [
             1,
             "#f0f921"
            ]
           ],
           "sequentialminus": [
            [
             0,
             "#0d0887"
            ],
            [
             0.1111111111111111,
             "#46039f"
            ],
            [
             0.2222222222222222,
             "#7201a8"
            ],
            [
             0.3333333333333333,
             "#9c179e"
            ],
            [
             0.4444444444444444,
             "#bd3786"
            ],
            [
             0.5555555555555556,
             "#d8576b"
            ],
            [
             0.6666666666666666,
             "#ed7953"
            ],
            [
             0.7777777777777778,
             "#fb9f3a"
            ],
            [
             0.8888888888888888,
             "#fdca26"
            ],
            [
             1,
             "#f0f921"
            ]
           ]
          },
          "colorway": [
           "#636efa",
           "#EF553B",
           "#00cc96",
           "#ab63fa",
           "#FFA15A",
           "#19d3f3",
           "#FF6692",
           "#B6E880",
           "#FF97FF",
           "#FECB52"
          ],
          "font": {
           "color": "#f2f5fa"
          },
          "geo": {
           "bgcolor": "rgb(17,17,17)",
           "lakecolor": "rgb(17,17,17)",
           "landcolor": "rgb(17,17,17)",
           "showlakes": true,
           "showland": true,
           "subunitcolor": "#506784"
          },
          "hoverlabel": {
           "align": "left"
          },
          "hovermode": "closest",
          "mapbox": {
           "style": "dark"
          },
          "paper_bgcolor": "rgb(17,17,17)",
          "plot_bgcolor": "rgb(17,17,17)",
          "polar": {
           "angularaxis": {
            "gridcolor": "#506784",
            "linecolor": "#506784",
            "ticks": ""
           },
           "bgcolor": "rgb(17,17,17)",
           "radialaxis": {
            "gridcolor": "#506784",
            "linecolor": "#506784",
            "ticks": ""
           }
          },
          "scene": {
           "xaxis": {
            "backgroundcolor": "rgb(17,17,17)",
            "gridcolor": "#506784",
            "gridwidth": 2,
            "linecolor": "#506784",
            "showbackground": true,
            "ticks": "",
            "zerolinecolor": "#C8D4E3"
           },
           "yaxis": {
            "backgroundcolor": "rgb(17,17,17)",
            "gridcolor": "#506784",
            "gridwidth": 2,
            "linecolor": "#506784",
            "showbackground": true,
            "ticks": "",
            "zerolinecolor": "#C8D4E3"
           },
           "zaxis": {
            "backgroundcolor": "rgb(17,17,17)",
            "gridcolor": "#506784",
            "gridwidth": 2,
            "linecolor": "#506784",
            "showbackground": true,
            "ticks": "",
            "zerolinecolor": "#C8D4E3"
           }
          },
          "shapedefaults": {
           "line": {
            "color": "#f2f5fa"
           }
          },
          "sliderdefaults": {
           "bgcolor": "#C8D4E3",
           "bordercolor": "rgb(17,17,17)",
           "borderwidth": 1,
           "tickwidth": 0
          },
          "ternary": {
           "aaxis": {
            "gridcolor": "#506784",
            "linecolor": "#506784",
            "ticks": ""
           },
           "baxis": {
            "gridcolor": "#506784",
            "linecolor": "#506784",
            "ticks": ""
           },
           "bgcolor": "rgb(17,17,17)",
           "caxis": {
            "gridcolor": "#506784",
            "linecolor": "#506784",
            "ticks": ""
           }
          },
          "title": {
           "x": 0.05
          },
          "updatemenudefaults": {
           "bgcolor": "#506784",
           "borderwidth": 0
          },
          "xaxis": {
           "automargin": true,
           "gridcolor": "#283442",
           "linecolor": "#506784",
           "ticks": "",
           "title": {
            "standoff": 15
           },
           "zerolinecolor": "#283442",
           "zerolinewidth": 2
          },
          "yaxis": {
           "automargin": true,
           "gridcolor": "#283442",
           "linecolor": "#506784",
           "ticks": "",
           "title": {
            "standoff": 15
           },
           "zerolinecolor": "#283442",
           "zerolinewidth": 2
          }
         }
        },
        "title": {
         "text": "AAPL Actual vs Predicted Closing Prices"
        },
        "xaxis": {
         "title": {
          "text": "Actual Closing Price"
         }
        },
        "yaxis": {
         "title": {
          "text": "Predicted Closing Price"
         }
        }
       }
      }
     },
     "metadata": {},
     "output_type": "display_data"
    }
   ],
   "source": [
    "fig = go.Figure()\n",
    "\n",
    "fig.add_trace(go.Scatter(x = y_test, y = y_pred,\n",
    "                        mode = 'markers',\n",
    "                        name = 'Predicted vs Actual'))\n",
    "\n",
    "fig.add_trace(go.Scatter(x = y_test, y = y_test,\n",
    "                        mode = 'lines',\n",
    "                        name = 'Ideal Line'))\n",
    "\n",
    "fig.update_layout(title = 'AAPL Actual vs Predicted Closing Prices',\n",
    "                xaxis_title = 'Actual Closing Price',\n",
    "                yaxis_title = 'Predicted Closing Price',\n",
    "                template = 'plotly_dark')\n",
    "\n",
    "fig.show()\n",
    "\n",
    "\n"
   ]
  },
  {
   "cell_type": "markdown",
   "metadata": {},
   "source": [
    "#### Pretty good, we will improve this further later on in the project.  Let's look at a residuals plot as well now."
   ]
  },
  {
   "cell_type": "code",
   "execution_count": 110,
   "metadata": {},
   "outputs": [
    {
     "data": {
      "application/vnd.plotly.v1+json": {
       "config": {
        "plotlyServerURL": "https://plot.ly"
       },
       "data": [
        {
         "mode": "markers",
         "name": "Residuals",
         "type": "scatter",
         "x": [
          -1.1065417056756413,
          1.5943238626919636,
          -1.0664909389141919,
          1.7011204847300934,
          1.2536542119948946,
          0.6199122323479253,
          -1.2670337612737959,
          -1.2880133200545594,
          1.4215854964555144,
          0.34650211267772835,
          1.102024555304915,
          1.7510428100646882,
          1.6592324386194766,
          -1.261180055940199,
          -1.1654311235958374,
          -1.2046968492083951,
          1.6287773920144093,
          1.2728789984280031,
          0.9534151936396718,
          -1.225985613804009,
          -1.2235521610382722,
          -1.2715839143576446,
          0.9555688918688655,
          -0.14005802862772887,
          -0.6025669359599714,
          0.7927692194880167,
          -0.9505277922939378,
          0.6274104596305013,
          -1.1484851763222372,
          0.7569225093444566,
          0.8046461838702882,
          1.208464035174633,
          0.1185564003776857,
          0.529609994996626,
          0.29384143990566536,
          0.695099464976112,
          -0.16910160952790612,
          -1.1724652320944537,
          0.3732245846745974,
          0.7335549029423333,
          1.8661237845980645,
          0.8050786378194896,
          0.22578385061720335,
          -1.1239747027216291,
          -1.2653249097014805,
          0.2827555362100923,
          -1.1064857443164782,
          -1.20673328259497,
          0.7517898352217871,
          0.40366724355810957,
          1.0458928079813443,
          -0.16401003740394646,
          0.3725465133822411,
          -1.2707049913289405,
          -1.2571351118417684,
          0.5869167771658416,
          -1.248129205616156,
          0.6196698777611437,
          -1.281309088723436,
          0.05082511633836794,
          1.7042004854997246,
          -0.30270838814994583,
          -1.2593340702253994,
          0.8987683864770784,
          -0.36998986904452047,
          -1.214830998296821,
          0.6967802615287695,
          0.6949272351643765,
          -1.2573865843353882,
          -0.5187821233634748,
          0.42117488571005424,
          1.1246622778251156,
          1.1600734726647548,
          -1.237180572890768,
          0.16891770665237205,
          1.353205043409349,
          0.02507536580773338,
          0.11110704347267224,
          0.34923870264427914,
          -0.17937291624810722,
          -0.36151461931415396,
          -1.2964496553534361,
          0.9862776533679799,
          -1.2806511520321893,
          -0.9276181650212199,
          0.45805633122968537,
          0.09209076976393643,
          0.6857505863736981,
          -1.0333598838906135,
          1.496315778141628,
          0.6971454841704124,
          1.8045088965895753,
          0.3878567481818397,
          1.148228147314526,
          0.24185990688934458,
          -1.2456754867960214,
          0.17904548850439153,
          1.8205342455793903,
          0.44342957516086834,
          -0.6016964998878127,
          0.4699405045398549,
          -0.23075281510996865,
          -1.2565821355865718,
          -0.07297895731448385,
          -1.2606308000057487,
          0.201079047551275,
          0.6636558931602046,
          0.8780752598263745,
          1.7770827762320645,
          1.3563632208703986,
          1.1277231667557288,
          0.1216124678426525,
          0.2012628400164668,
          0.8754635379370292,
          -1.2245643504740054,
          -0.1901307448050545,
          0.6733919101078223,
          -0.9409652217307509,
          0.5593108362791376,
          -0.157519170439224,
          -1.3124326991212756,
          0.7764370785291224,
          -0.9791298345530735,
          0.17305386956229749,
          1.14964205673216,
          0.3294971360755764,
          1.7571390926589099,
          0.6479369767861383,
          -0.8251204336873639,
          1.6490710935401902,
          0.47739138879515963,
          0.11487377514861061,
          0.65841411514798,
          0.6319424043433673,
          0.590775792325082,
          0.9067919799203573,
          -1.2876678313842898,
          0.5151254701431219,
          0.18368727919189456,
          0.33383397975885765,
          -0.9699900981738576,
          0.6788275716452554,
          1.9343375410826043,
          0.16411178854904784,
          -0.20794741987322132,
          -0.8347820676954644,
          1.3183421830609874,
          -1.2580092582925069,
          0.370281731869479,
          0.6307507731152019,
          -1.2328529830239376,
          -1.296506938846419,
          -0.9019078867388948,
          0.8259395625459757,
          0.38311031056937483,
          1.0373513054149208,
          0.5051110201960823,
          0.7908222862875279,
          -0.17973227842405606,
          1.3379185149081272,
          0.9212572660117564,
          0.5061182533347162,
          0.13213285305714456,
          0.9080407485729745,
          -0.9506696086958291,
          1.09154704425608,
          0.5499123254342743,
          -1.2812663968266584,
          0.3056567691478822,
          0.6051848129133197,
          1.5899895994136797,
          0.6672761652577791,
          -1.2917280293346078,
          1.0236247741944249,
          0.695947107157339,
          1.2267194464910336,
          -0.1620260279450383,
          0.8094222342605262,
          1.800507092733718,
          0.8025494903631576,
          -1.2698182819638826,
          -0.9352169575913933,
          0.30967193895661105,
          -0.9623321745238668,
          0.3801582598732296,
          0.6909620040045902,
          0.584379788287558,
          0.2905019957473176,
          0.8158151433697841,
          0.7946631067304084,
          0.23076958868797576,
          0.8331182292117648,
          0.5079736366314901,
          0.8956452542922938,
          0.07800295201502008,
          -1.1455272966588168,
          1.149142227945721,
          0.1724845395663517,
          1.8170982678446763,
          0.726814701485,
          1.410864413665841,
          0.9833607441838494,
          1.3603196860283415,
          -1.2683039526450879,
          0.8675129889942651,
          0.5636202624298561,
          0.20073061063097924,
          0.22638035916196453,
          0.44933995893855316,
          -1.2093391274461307,
          1.8067891639548235,
          -1.2755659111144775,
          -1.286348387856106,
          0.13189198602861588,
          0.6084370552606095,
          0.08261015387671707,
          -0.08384167733416249,
          0.4682936562767549,
          0.5949030602251628,
          0.14878660536985816,
          0.9288109756813088,
          -0.9292984456490337,
          0.21774588996399394,
          1.2885366631814419,
          -1.283983058202203,
          0.6761700627664066,
          -1.1035052579669793,
          0.9769069772149678,
          0.6418229570807911,
          0.9951216408388446,
          -1.2905936998328162,
          0.9023480309157103,
          0.8978133836637932,
          0.4453478680078602,
          -1.2718113331403706,
          -0.33691111376848615,
          0.4395267903891449,
          0.612991753811259,
          0.021077258941558305,
          0.8332827019839317,
          1.1510012173638793,
          1.2665605612704065,
          -1.237565691680106,
          -1.2109836321641847,
          0.7410653631811525,
          -1.1034074448124251,
          -1.1638236383924927,
          0.19540266965330888,
          -1.238483471681838,
          0.3454824192825323,
          -1.22846625838042,
          0.5308052763418726,
          -0.9272816806684029,
          0.6466656318214921,
          1.5592061100395582,
          -1.2106645294762381,
          -1.1299426183653218,
          0.912861974630806,
          -0.9362547620519395,
          0.6014098794949579,
          -0.3160930664754499,
          -1.0705883852704654,
          -0.9313769164740163,
          1.2489530183097688,
          -0.4608085030117953,
          1.3043253050360473,
          -1.2495734922754085,
          -1.29119289856683,
          -0.859099859166367,
          0.12307102405499712,
          0.5420429591851383,
          1.1114955928279626,
          1.5483053570832181,
          -0.8483860263093027,
          0.5547799521554084,
          1.0262309108777874,
          0.23441106887757726
         ],
         "y": [
          0.0069971435639262225,
          -0.026845391883008274,
          -0.0150085266599298,
          0.025495334582532836,
          0.021685460634396136,
          0.002059675358624502,
          0.0035593255715693495,
          0.00358254578390782,
          0.06310926377799975,
          0.01610518123845145,
          -0.024251957976613614,
          -0.025855865503665365,
          0.06994325491436082,
          0.0010336372766674984,
          -0.0019834392027040515,
          -0.0025228651942548197,
          -0.046474652253810866,
          0.014427193649724446,
          -0.01328768453257978,
          -0.006340057484619965,
          0.0023297874794010465,
          -0.001422087507200187,
          -0.0060050317653470575,
          0.011381909200646578,
          0.012065238230537623,
          0.01769083560849105,
          0.008203466452410213,
          0.01706574848631426,
          -0.003277614268147655,
          -0.006265481985926025,
          0.01885197860586041,
          -0.02025383638400391,
          0.009720884875395713,
          0.007941250733470406,
          -0.00964184247251848,
          0.03480958150995739,
          0.0023229355597133294,
          -0.007576718351640421,
          0.01141076348964587,
          -0.02936505692513891,
          0.006233716488199814,
          -0.07302627920601501,
          0.005727250801785239,
          0.002330717570018237,
          -0.0017275722745966338,
          0.03484329315055218,
          0.00033873433718367707,
          0.00028155771168281163,
          -0.03212083068054772,
          -0.008077416073234367,
          -0.007711187749156245,
          -0.0055071541956570325,
          0.0044385090925812,
          -0.002455790538619773,
          0.001007318251498468,
          0.007817938012624426,
          0.00016962986701507532,
          -0.04583208109613701,
          0.0022483731769180615,
          -0.013963929178758744,
          0.05423675334779787,
          0.005601511203924547,
          0.0008665385155028904,
          -0.012371255546147042,
          0.010764072615254971,
          0.00192567802132948,
          -0.019530005287656138,
          0.023074839676656467,
          0.0004967457862208313,
          0.014796775121679095,
          0.011445772119730468,
          -0.029892529913560395,
          0.012508766225828083,
          -0.0014439137873496488,
          -0.04528419620950344,
          -0.03172549795992574,
          -0.010837574665189679,
          0.005025078921773257,
          -0.003509599969549637,
          0.09650895232496343,
          0.03125262918157479,
          0.0038625693957106133,
          0.04377766754257728,
          -0.006137211072609228,
          -0.011086417457577324,
          0.013500277858815024,
          -0.009804419689989435,
          0.006383486622458245,
          -0.02525431840972958,
          0.04193085312284328,
          0.012938367998398759,
          -0.038957262283230154,
          -0.026023303179865065,
          0.020186562928046214,
          0.00786887068509981,
          -0.0011826930539660108,
          -0.011742998419993045,
          0.06018801857209688,
          0.013868400975789452,
          0.008563320681592046,
          -0.025889121227235745,
          0.05540116516214835,
          0.0006627082088277447,
          -0.008783576643257449,
          -0.0005812960947713108,
          -0.008950437784002202,
          -0.010368517850162351,
          -0.031626256546959275,
          0.03565034052642324,
          -0.002615851758074328,
          -0.004108571889290591,
          0.002556836565818288,
          0.011137504461065206,
          0.014297158163516621,
          0.002246525576445668,
          -0.007516856373630393,
          0.02615429736415542,
          -0.015963066629589906,
          0.025243384757898224,
          -0.051529314188097086,
          0.004878495912932879,
          -0.01181902097075116,
          -0.018824062851079737,
          -0.0039653541708929985,
          -0.00004036441404542401,
          -0.029907633690986424,
          0.028356831571493712,
          -0.03403195686281557,
          -0.0034978044234167394,
          -0.01702699710623845,
          -0.021820026427104344,
          0.029299366987318304,
          0.018359894930931264,
          0.01565945025945603,
          -0.021284031453289276,
          0.04851681242878392,
          0.0010402098757968936,
          -0.0012395025920933778,
          0.004154842585564228,
          0.03931109511915176,
          -0.013193150554711597,
          -0.007858177880363137,
          0.054798244275601427,
          0.00435167930415295,
          0.03646555955641223,
          0.004127689876898821,
          -0.0012386517039719713,
          0.0010420212254191874,
          -0.01017490063610671,
          -0.027681136905711168,
          0.003581453164487547,
          -0.0014680735830849834,
          -0.0040702722318248785,
          0.006846149550598479,
          0.01179478530890038,
          0.0237811556205334,
          -0.0013161569488859826,
          0.023031312277788762,
          -0.015146963089020027,
          -0.057577916913220895,
          -0.018220271317970438,
          0.01330456981252659,
          0.0006988171685517464,
          0.03440844354172934,
          -0.005520429980599761,
          -0.04729263819707974,
          -0.012807620097178174,
          0.0027831808511844525,
          -0.01333059986311258,
          -0.010866932358652659,
          -0.0021501403218637805,
          -0.0018436270891004636,
          -0.004276361300663112,
          -0.055545498918451286,
          0.0026763137594355557,
          0.04052363258582892,
          -0.011093056302775406,
          -0.002444976205428828,
          0.007463289872753354,
          -0.032186364294167324,
          -0.004390326626145802,
          -0.0009752390174162517,
          0.025251622038484356,
          -0.01289122257609887,
          -0.04478815848513362,
          0.02177124848802625,
          -0.007743789922744493,
          -0.02978889681804353,
          0.009469180678367106,
          -0.055317709247911906,
          -0.021852041251854554,
          -0.014323253084232213,
          0.00811519085034329,
          -0.041873506374655145,
          0.005087225272326523,
          -0.020529862378700692,
          0.00754415406201403,
          0.016072019586908792,
          -0.029935277649070002,
          -0.0348889776682455,
          0.021796740125916925,
          -0.05895058481440185,
          -0.023867070251273548,
          0.0027577098722848525,
          0.01953903150906755,
          0.006883674834737841,
          0.014705990494962351,
          -0.016033936974239937,
          -0.00004945904671915802,
          -0.002917264850548884,
          0.04577312111337695,
          0.0020657783066608815,
          -0.0012020287241520933,
          0.01621049354172413,
          -0.027544274675183944,
          -0.01613027084801967,
          -0.0005404149131862102,
          0.027999682657021907,
          -0.00022789285009672255,
          -0.017383809895765268,
          -0.011723697215081152,
          -0.004958856144270274,
          -0.0025771858208534504,
          -0.006737484665730209,
          0.0005286566965643225,
          -0.015708607929145302,
          -0.00839285024902181,
          0.011801183326667797,
          -0.04149197476770772,
          -0.0013234376239882328,
          -0.002041010741129279,
          -0.011158460063561026,
          -0.013678796732062848,
          -0.06166514843301801,
          -0.0016649873593357345,
          0.025819428380763565,
          -0.004673566859353606,
          0.048957987316008866,
          0.025666683342482094,
          -0.03469991276325879,
          0.02295021220991056,
          -0.09510959437942446,
          0.0004474442052628813,
          -0.0016180556332161533,
          0.037722073756460306,
          -0.0047042338840748155,
          -0.0006439383633649598,
          0.01735482537962571,
          0.0011925764566340646,
          -0.0267226121530858,
          -0.004633364021161546,
          0.023802667774877495,
          0.0038121379727108495,
          0.03198379340202295,
          -0.04188596679275203,
          -0.00025827136752765156,
          -0.004870527026157978,
          -0.007681531544618814,
          -0.004593064421764548,
          -0.003996194488481097,
          -0.004464675677901209,
          -0.004106244850265339,
          -0.0016956633748737016,
          0.025582963371119316,
          0.005582381482244714,
          0.02093450394179297,
          0.001018557724141056,
          0.0013563300767551745,
          -0.0014589622186081952,
          0.01449367455351347,
          0.020870200193434774,
          0.038135805259353006,
          0.0477200853986246,
          -0.0008194681107583923,
          0.0653762244749333,
          0.014451172037208249,
          -0.011651586848415857
         ]
        },
        {
         "mode": "lines",
         "name": "Zero Line",
         "type": "scatter",
         "x": [
          -1.1065417056756413,
          1.5943238626919636,
          -1.0664909389141919,
          1.7011204847300934,
          1.2536542119948946,
          0.6199122323479253,
          -1.2670337612737959,
          -1.2880133200545594,
          1.4215854964555144,
          0.34650211267772835,
          1.102024555304915,
          1.7510428100646882,
          1.6592324386194766,
          -1.261180055940199,
          -1.1654311235958374,
          -1.2046968492083951,
          1.6287773920144093,
          1.2728789984280031,
          0.9534151936396718,
          -1.225985613804009,
          -1.2235521610382722,
          -1.2715839143576446,
          0.9555688918688655,
          -0.14005802862772887,
          -0.6025669359599714,
          0.7927692194880167,
          -0.9505277922939378,
          0.6274104596305013,
          -1.1484851763222372,
          0.7569225093444566,
          0.8046461838702882,
          1.208464035174633,
          0.1185564003776857,
          0.529609994996626,
          0.29384143990566536,
          0.695099464976112,
          -0.16910160952790612,
          -1.1724652320944537,
          0.3732245846745974,
          0.7335549029423333,
          1.8661237845980645,
          0.8050786378194896,
          0.22578385061720335,
          -1.1239747027216291,
          -1.2653249097014805,
          0.2827555362100923,
          -1.1064857443164782,
          -1.20673328259497,
          0.7517898352217871,
          0.40366724355810957,
          1.0458928079813443,
          -0.16401003740394646,
          0.3725465133822411,
          -1.2707049913289405,
          -1.2571351118417684,
          0.5869167771658416,
          -1.248129205616156,
          0.6196698777611437,
          -1.281309088723436,
          0.05082511633836794,
          1.7042004854997246,
          -0.30270838814994583,
          -1.2593340702253994,
          0.8987683864770784,
          -0.36998986904452047,
          -1.214830998296821,
          0.6967802615287695,
          0.6949272351643765,
          -1.2573865843353882,
          -0.5187821233634748,
          0.42117488571005424,
          1.1246622778251156,
          1.1600734726647548,
          -1.237180572890768,
          0.16891770665237205,
          1.353205043409349,
          0.02507536580773338,
          0.11110704347267224,
          0.34923870264427914,
          -0.17937291624810722,
          -0.36151461931415396,
          -1.2964496553534361,
          0.9862776533679799,
          -1.2806511520321893,
          -0.9276181650212199,
          0.45805633122968537,
          0.09209076976393643,
          0.6857505863736981,
          -1.0333598838906135,
          1.496315778141628,
          0.6971454841704124,
          1.8045088965895753,
          0.3878567481818397,
          1.148228147314526,
          0.24185990688934458,
          -1.2456754867960214,
          0.17904548850439153,
          1.8205342455793903,
          0.44342957516086834,
          -0.6016964998878127,
          0.4699405045398549,
          -0.23075281510996865,
          -1.2565821355865718,
          -0.07297895731448385,
          -1.2606308000057487,
          0.201079047551275,
          0.6636558931602046,
          0.8780752598263745,
          1.7770827762320645,
          1.3563632208703986,
          1.1277231667557288,
          0.1216124678426525,
          0.2012628400164668,
          0.8754635379370292,
          -1.2245643504740054,
          -0.1901307448050545,
          0.6733919101078223,
          -0.9409652217307509,
          0.5593108362791376,
          -0.157519170439224,
          -1.3124326991212756,
          0.7764370785291224,
          -0.9791298345530735,
          0.17305386956229749,
          1.14964205673216,
          0.3294971360755764,
          1.7571390926589099,
          0.6479369767861383,
          -0.8251204336873639,
          1.6490710935401902,
          0.47739138879515963,
          0.11487377514861061,
          0.65841411514798,
          0.6319424043433673,
          0.590775792325082,
          0.9067919799203573,
          -1.2876678313842898,
          0.5151254701431219,
          0.18368727919189456,
          0.33383397975885765,
          -0.9699900981738576,
          0.6788275716452554,
          1.9343375410826043,
          0.16411178854904784,
          -0.20794741987322132,
          -0.8347820676954644,
          1.3183421830609874,
          -1.2580092582925069,
          0.370281731869479,
          0.6307507731152019,
          -1.2328529830239376,
          -1.296506938846419,
          -0.9019078867388948,
          0.8259395625459757,
          0.38311031056937483,
          1.0373513054149208,
          0.5051110201960823,
          0.7908222862875279,
          -0.17973227842405606,
          1.3379185149081272,
          0.9212572660117564,
          0.5061182533347162,
          0.13213285305714456,
          0.9080407485729745,
          -0.9506696086958291,
          1.09154704425608,
          0.5499123254342743,
          -1.2812663968266584,
          0.3056567691478822,
          0.6051848129133197,
          1.5899895994136797,
          0.6672761652577791,
          -1.2917280293346078,
          1.0236247741944249,
          0.695947107157339,
          1.2267194464910336,
          -0.1620260279450383,
          0.8094222342605262,
          1.800507092733718,
          0.8025494903631576,
          -1.2698182819638826,
          -0.9352169575913933,
          0.30967193895661105,
          -0.9623321745238668,
          0.3801582598732296,
          0.6909620040045902,
          0.584379788287558,
          0.2905019957473176,
          0.8158151433697841,
          0.7946631067304084,
          0.23076958868797576,
          0.8331182292117648,
          0.5079736366314901,
          0.8956452542922938,
          0.07800295201502008,
          -1.1455272966588168,
          1.149142227945721,
          0.1724845395663517,
          1.8170982678446763,
          0.726814701485,
          1.410864413665841,
          0.9833607441838494,
          1.3603196860283415,
          -1.2683039526450879,
          0.8675129889942651,
          0.5636202624298561,
          0.20073061063097924,
          0.22638035916196453,
          0.44933995893855316,
          -1.2093391274461307,
          1.8067891639548235,
          -1.2755659111144775,
          -1.286348387856106,
          0.13189198602861588,
          0.6084370552606095,
          0.08261015387671707,
          -0.08384167733416249,
          0.4682936562767549,
          0.5949030602251628,
          0.14878660536985816,
          0.9288109756813088,
          -0.9292984456490337,
          0.21774588996399394,
          1.2885366631814419,
          -1.283983058202203,
          0.6761700627664066,
          -1.1035052579669793,
          0.9769069772149678,
          0.6418229570807911,
          0.9951216408388446,
          -1.2905936998328162,
          0.9023480309157103,
          0.8978133836637932,
          0.4453478680078602,
          -1.2718113331403706,
          -0.33691111376848615,
          0.4395267903891449,
          0.612991753811259,
          0.021077258941558305,
          0.8332827019839317,
          1.1510012173638793,
          1.2665605612704065,
          -1.237565691680106,
          -1.2109836321641847,
          0.7410653631811525,
          -1.1034074448124251,
          -1.1638236383924927,
          0.19540266965330888,
          -1.238483471681838,
          0.3454824192825323,
          -1.22846625838042,
          0.5308052763418726,
          -0.9272816806684029,
          0.6466656318214921,
          1.5592061100395582,
          -1.2106645294762381,
          -1.1299426183653218,
          0.912861974630806,
          -0.9362547620519395,
          0.6014098794949579,
          -0.3160930664754499,
          -1.0705883852704654,
          -0.9313769164740163,
          1.2489530183097688,
          -0.4608085030117953,
          1.3043253050360473,
          -1.2495734922754085,
          -1.29119289856683,
          -0.859099859166367,
          0.12307102405499712,
          0.5420429591851383,
          1.1114955928279626,
          1.5483053570832181,
          -0.8483860263093027,
          0.5547799521554084,
          1.0262309108777874,
          0.23441106887757726
         ],
         "y": [
          0,
          0,
          0,
          0,
          0,
          0,
          0,
          0,
          0,
          0,
          0,
          0,
          0,
          0,
          0,
          0,
          0,
          0,
          0,
          0,
          0,
          0,
          0,
          0,
          0,
          0,
          0,
          0,
          0,
          0,
          0,
          0,
          0,
          0,
          0,
          0,
          0,
          0,
          0,
          0,
          0,
          0,
          0,
          0,
          0,
          0,
          0,
          0,
          0,
          0,
          0,
          0,
          0,
          0,
          0,
          0,
          0,
          0,
          0,
          0,
          0,
          0,
          0,
          0,
          0,
          0,
          0,
          0,
          0,
          0,
          0,
          0,
          0,
          0,
          0,
          0,
          0,
          0,
          0,
          0,
          0,
          0,
          0,
          0,
          0,
          0,
          0,
          0,
          0,
          0,
          0,
          0,
          0,
          0,
          0,
          0,
          0,
          0,
          0,
          0,
          0,
          0,
          0,
          0,
          0,
          0,
          0,
          0,
          0,
          0,
          0,
          0,
          0,
          0,
          0,
          0,
          0,
          0,
          0,
          0,
          0,
          0,
          0,
          0,
          0,
          0,
          0,
          0,
          0,
          0,
          0,
          0,
          0,
          0,
          0,
          0,
          0,
          0,
          0,
          0,
          0,
          0,
          0,
          0,
          0,
          0,
          0,
          0,
          0,
          0,
          0,
          0,
          0,
          0,
          0,
          0,
          0,
          0,
          0,
          0,
          0,
          0,
          0,
          0,
          0,
          0,
          0,
          0,
          0,
          0,
          0,
          0,
          0,
          0,
          0,
          0,
          0,
          0,
          0,
          0,
          0,
          0,
          0,
          0,
          0,
          0,
          0,
          0,
          0,
          0,
          0,
          0,
          0,
          0,
          0,
          0,
          0,
          0,
          0,
          0,
          0,
          0,
          0,
          0,
          0,
          0,
          0,
          0,
          0,
          0,
          0,
          0,
          0,
          0,
          0,
          0,
          0,
          0,
          0,
          0,
          0,
          0,
          0,
          0,
          0,
          0,
          0,
          0,
          0,
          0,
          0,
          0,
          0,
          0,
          0,
          0,
          0,
          0,
          0,
          0,
          0,
          0,
          0,
          0,
          0,
          0,
          0,
          0,
          0,
          0,
          0,
          0,
          0,
          0,
          0,
          0,
          0,
          0,
          0,
          0,
          0,
          0,
          0,
          0,
          0,
          0,
          0,
          0,
          0,
          0,
          0,
          0,
          0,
          0,
          0,
          0,
          0
         ]
        }
       ],
       "layout": {
        "template": {
         "data": {
          "bar": [
           {
            "error_x": {
             "color": "#f2f5fa"
            },
            "error_y": {
             "color": "#f2f5fa"
            },
            "marker": {
             "line": {
              "color": "rgb(17,17,17)",
              "width": 0.5
             },
             "pattern": {
              "fillmode": "overlay",
              "size": 10,
              "solidity": 0.2
             }
            },
            "type": "bar"
           }
          ],
          "barpolar": [
           {
            "marker": {
             "line": {
              "color": "rgb(17,17,17)",
              "width": 0.5
             },
             "pattern": {
              "fillmode": "overlay",
              "size": 10,
              "solidity": 0.2
             }
            },
            "type": "barpolar"
           }
          ],
          "carpet": [
           {
            "aaxis": {
             "endlinecolor": "#A2B1C6",
             "gridcolor": "#506784",
             "linecolor": "#506784",
             "minorgridcolor": "#506784",
             "startlinecolor": "#A2B1C6"
            },
            "baxis": {
             "endlinecolor": "#A2B1C6",
             "gridcolor": "#506784",
             "linecolor": "#506784",
             "minorgridcolor": "#506784",
             "startlinecolor": "#A2B1C6"
            },
            "type": "carpet"
           }
          ],
          "choropleth": [
           {
            "colorbar": {
             "outlinewidth": 0,
             "ticks": ""
            },
            "type": "choropleth"
           }
          ],
          "contour": [
           {
            "colorbar": {
             "outlinewidth": 0,
             "ticks": ""
            },
            "colorscale": [
             [
              0,
              "#0d0887"
             ],
             [
              0.1111111111111111,
              "#46039f"
             ],
             [
              0.2222222222222222,
              "#7201a8"
             ],
             [
              0.3333333333333333,
              "#9c179e"
             ],
             [
              0.4444444444444444,
              "#bd3786"
             ],
             [
              0.5555555555555556,
              "#d8576b"
             ],
             [
              0.6666666666666666,
              "#ed7953"
             ],
             [
              0.7777777777777778,
              "#fb9f3a"
             ],
             [
              0.8888888888888888,
              "#fdca26"
             ],
             [
              1,
              "#f0f921"
             ]
            ],
            "type": "contour"
           }
          ],
          "contourcarpet": [
           {
            "colorbar": {
             "outlinewidth": 0,
             "ticks": ""
            },
            "type": "contourcarpet"
           }
          ],
          "heatmap": [
           {
            "colorbar": {
             "outlinewidth": 0,
             "ticks": ""
            },
            "colorscale": [
             [
              0,
              "#0d0887"
             ],
             [
              0.1111111111111111,
              "#46039f"
             ],
             [
              0.2222222222222222,
              "#7201a8"
             ],
             [
              0.3333333333333333,
              "#9c179e"
             ],
             [
              0.4444444444444444,
              "#bd3786"
             ],
             [
              0.5555555555555556,
              "#d8576b"
             ],
             [
              0.6666666666666666,
              "#ed7953"
             ],
             [
              0.7777777777777778,
              "#fb9f3a"
             ],
             [
              0.8888888888888888,
              "#fdca26"
             ],
             [
              1,
              "#f0f921"
             ]
            ],
            "type": "heatmap"
           }
          ],
          "heatmapgl": [
           {
            "colorbar": {
             "outlinewidth": 0,
             "ticks": ""
            },
            "colorscale": [
             [
              0,
              "#0d0887"
             ],
             [
              0.1111111111111111,
              "#46039f"
             ],
             [
              0.2222222222222222,
              "#7201a8"
             ],
             [
              0.3333333333333333,
              "#9c179e"
             ],
             [
              0.4444444444444444,
              "#bd3786"
             ],
             [
              0.5555555555555556,
              "#d8576b"
             ],
             [
              0.6666666666666666,
              "#ed7953"
             ],
             [
              0.7777777777777778,
              "#fb9f3a"
             ],
             [
              0.8888888888888888,
              "#fdca26"
             ],
             [
              1,
              "#f0f921"
             ]
            ],
            "type": "heatmapgl"
           }
          ],
          "histogram": [
           {
            "marker": {
             "pattern": {
              "fillmode": "overlay",
              "size": 10,
              "solidity": 0.2
             }
            },
            "type": "histogram"
           }
          ],
          "histogram2d": [
           {
            "colorbar": {
             "outlinewidth": 0,
             "ticks": ""
            },
            "colorscale": [
             [
              0,
              "#0d0887"
             ],
             [
              0.1111111111111111,
              "#46039f"
             ],
             [
              0.2222222222222222,
              "#7201a8"
             ],
             [
              0.3333333333333333,
              "#9c179e"
             ],
             [
              0.4444444444444444,
              "#bd3786"
             ],
             [
              0.5555555555555556,
              "#d8576b"
             ],
             [
              0.6666666666666666,
              "#ed7953"
             ],
             [
              0.7777777777777778,
              "#fb9f3a"
             ],
             [
              0.8888888888888888,
              "#fdca26"
             ],
             [
              1,
              "#f0f921"
             ]
            ],
            "type": "histogram2d"
           }
          ],
          "histogram2dcontour": [
           {
            "colorbar": {
             "outlinewidth": 0,
             "ticks": ""
            },
            "colorscale": [
             [
              0,
              "#0d0887"
             ],
             [
              0.1111111111111111,
              "#46039f"
             ],
             [
              0.2222222222222222,
              "#7201a8"
             ],
             [
              0.3333333333333333,
              "#9c179e"
             ],
             [
              0.4444444444444444,
              "#bd3786"
             ],
             [
              0.5555555555555556,
              "#d8576b"
             ],
             [
              0.6666666666666666,
              "#ed7953"
             ],
             [
              0.7777777777777778,
              "#fb9f3a"
             ],
             [
              0.8888888888888888,
              "#fdca26"
             ],
             [
              1,
              "#f0f921"
             ]
            ],
            "type": "histogram2dcontour"
           }
          ],
          "mesh3d": [
           {
            "colorbar": {
             "outlinewidth": 0,
             "ticks": ""
            },
            "type": "mesh3d"
           }
          ],
          "parcoords": [
           {
            "line": {
             "colorbar": {
              "outlinewidth": 0,
              "ticks": ""
             }
            },
            "type": "parcoords"
           }
          ],
          "pie": [
           {
            "automargin": true,
            "type": "pie"
           }
          ],
          "scatter": [
           {
            "marker": {
             "line": {
              "color": "#283442"
             }
            },
            "type": "scatter"
           }
          ],
          "scatter3d": [
           {
            "line": {
             "colorbar": {
              "outlinewidth": 0,
              "ticks": ""
             }
            },
            "marker": {
             "colorbar": {
              "outlinewidth": 0,
              "ticks": ""
             }
            },
            "type": "scatter3d"
           }
          ],
          "scattercarpet": [
           {
            "marker": {
             "colorbar": {
              "outlinewidth": 0,
              "ticks": ""
             }
            },
            "type": "scattercarpet"
           }
          ],
          "scattergeo": [
           {
            "marker": {
             "colorbar": {
              "outlinewidth": 0,
              "ticks": ""
             }
            },
            "type": "scattergeo"
           }
          ],
          "scattergl": [
           {
            "marker": {
             "line": {
              "color": "#283442"
             }
            },
            "type": "scattergl"
           }
          ],
          "scattermapbox": [
           {
            "marker": {
             "colorbar": {
              "outlinewidth": 0,
              "ticks": ""
             }
            },
            "type": "scattermapbox"
           }
          ],
          "scatterpolar": [
           {
            "marker": {
             "colorbar": {
              "outlinewidth": 0,
              "ticks": ""
             }
            },
            "type": "scatterpolar"
           }
          ],
          "scatterpolargl": [
           {
            "marker": {
             "colorbar": {
              "outlinewidth": 0,
              "ticks": ""
             }
            },
            "type": "scatterpolargl"
           }
          ],
          "scatterternary": [
           {
            "marker": {
             "colorbar": {
              "outlinewidth": 0,
              "ticks": ""
             }
            },
            "type": "scatterternary"
           }
          ],
          "surface": [
           {
            "colorbar": {
             "outlinewidth": 0,
             "ticks": ""
            },
            "colorscale": [
             [
              0,
              "#0d0887"
             ],
             [
              0.1111111111111111,
              "#46039f"
             ],
             [
              0.2222222222222222,
              "#7201a8"
             ],
             [
              0.3333333333333333,
              "#9c179e"
             ],
             [
              0.4444444444444444,
              "#bd3786"
             ],
             [
              0.5555555555555556,
              "#d8576b"
             ],
             [
              0.6666666666666666,
              "#ed7953"
             ],
             [
              0.7777777777777778,
              "#fb9f3a"
             ],
             [
              0.8888888888888888,
              "#fdca26"
             ],
             [
              1,
              "#f0f921"
             ]
            ],
            "type": "surface"
           }
          ],
          "table": [
           {
            "cells": {
             "fill": {
              "color": "#506784"
             },
             "line": {
              "color": "rgb(17,17,17)"
             }
            },
            "header": {
             "fill": {
              "color": "#2a3f5f"
             },
             "line": {
              "color": "rgb(17,17,17)"
             }
            },
            "type": "table"
           }
          ]
         },
         "layout": {
          "annotationdefaults": {
           "arrowcolor": "#f2f5fa",
           "arrowhead": 0,
           "arrowwidth": 1
          },
          "autotypenumbers": "strict",
          "coloraxis": {
           "colorbar": {
            "outlinewidth": 0,
            "ticks": ""
           }
          },
          "colorscale": {
           "diverging": [
            [
             0,
             "#8e0152"
            ],
            [
             0.1,
             "#c51b7d"
            ],
            [
             0.2,
             "#de77ae"
            ],
            [
             0.3,
             "#f1b6da"
            ],
            [
             0.4,
             "#fde0ef"
            ],
            [
             0.5,
             "#f7f7f7"
            ],
            [
             0.6,
             "#e6f5d0"
            ],
            [
             0.7,
             "#b8e186"
            ],
            [
             0.8,
             "#7fbc41"
            ],
            [
             0.9,
             "#4d9221"
            ],
            [
             1,
             "#276419"
            ]
           ],
           "sequential": [
            [
             0,
             "#0d0887"
            ],
            [
             0.1111111111111111,
             "#46039f"
            ],
            [
             0.2222222222222222,
             "#7201a8"
            ],
            [
             0.3333333333333333,
             "#9c179e"
            ],
            [
             0.4444444444444444,
             "#bd3786"
            ],
            [
             0.5555555555555556,
             "#d8576b"
            ],
            [
             0.6666666666666666,
             "#ed7953"
            ],
            [
             0.7777777777777778,
             "#fb9f3a"
            ],
            [
             0.8888888888888888,
             "#fdca26"
            ],
            [
             1,
             "#f0f921"
            ]
           ],
           "sequentialminus": [
            [
             0,
             "#0d0887"
            ],
            [
             0.1111111111111111,
             "#46039f"
            ],
            [
             0.2222222222222222,
             "#7201a8"
            ],
            [
             0.3333333333333333,
             "#9c179e"
            ],
            [
             0.4444444444444444,
             "#bd3786"
            ],
            [
             0.5555555555555556,
             "#d8576b"
            ],
            [
             0.6666666666666666,
             "#ed7953"
            ],
            [
             0.7777777777777778,
             "#fb9f3a"
            ],
            [
             0.8888888888888888,
             "#fdca26"
            ],
            [
             1,
             "#f0f921"
            ]
           ]
          },
          "colorway": [
           "#636efa",
           "#EF553B",
           "#00cc96",
           "#ab63fa",
           "#FFA15A",
           "#19d3f3",
           "#FF6692",
           "#B6E880",
           "#FF97FF",
           "#FECB52"
          ],
          "font": {
           "color": "#f2f5fa"
          },
          "geo": {
           "bgcolor": "rgb(17,17,17)",
           "lakecolor": "rgb(17,17,17)",
           "landcolor": "rgb(17,17,17)",
           "showlakes": true,
           "showland": true,
           "subunitcolor": "#506784"
          },
          "hoverlabel": {
           "align": "left"
          },
          "hovermode": "closest",
          "mapbox": {
           "style": "dark"
          },
          "paper_bgcolor": "rgb(17,17,17)",
          "plot_bgcolor": "rgb(17,17,17)",
          "polar": {
           "angularaxis": {
            "gridcolor": "#506784",
            "linecolor": "#506784",
            "ticks": ""
           },
           "bgcolor": "rgb(17,17,17)",
           "radialaxis": {
            "gridcolor": "#506784",
            "linecolor": "#506784",
            "ticks": ""
           }
          },
          "scene": {
           "xaxis": {
            "backgroundcolor": "rgb(17,17,17)",
            "gridcolor": "#506784",
            "gridwidth": 2,
            "linecolor": "#506784",
            "showbackground": true,
            "ticks": "",
            "zerolinecolor": "#C8D4E3"
           },
           "yaxis": {
            "backgroundcolor": "rgb(17,17,17)",
            "gridcolor": "#506784",
            "gridwidth": 2,
            "linecolor": "#506784",
            "showbackground": true,
            "ticks": "",
            "zerolinecolor": "#C8D4E3"
           },
           "zaxis": {
            "backgroundcolor": "rgb(17,17,17)",
            "gridcolor": "#506784",
            "gridwidth": 2,
            "linecolor": "#506784",
            "showbackground": true,
            "ticks": "",
            "zerolinecolor": "#C8D4E3"
           }
          },
          "shapedefaults": {
           "line": {
            "color": "#f2f5fa"
           }
          },
          "sliderdefaults": {
           "bgcolor": "#C8D4E3",
           "bordercolor": "rgb(17,17,17)",
           "borderwidth": 1,
           "tickwidth": 0
          },
          "ternary": {
           "aaxis": {
            "gridcolor": "#506784",
            "linecolor": "#506784",
            "ticks": ""
           },
           "baxis": {
            "gridcolor": "#506784",
            "linecolor": "#506784",
            "ticks": ""
           },
           "bgcolor": "rgb(17,17,17)",
           "caxis": {
            "gridcolor": "#506784",
            "linecolor": "#506784",
            "ticks": ""
           }
          },
          "title": {
           "x": 0.05
          },
          "updatemenudefaults": {
           "bgcolor": "#506784",
           "borderwidth": 0
          },
          "xaxis": {
           "automargin": true,
           "gridcolor": "#283442",
           "linecolor": "#506784",
           "ticks": "",
           "title": {
            "standoff": 15
           },
           "zerolinecolor": "#283442",
           "zerolinewidth": 2
          },
          "yaxis": {
           "automargin": true,
           "gridcolor": "#283442",
           "linecolor": "#506784",
           "ticks": "",
           "title": {
            "standoff": 15
           },
           "zerolinecolor": "#283442",
           "zerolinewidth": 2
          }
         }
        },
        "title": {
         "text": "Residuals vs Predicted Closing Prices"
        },
        "xaxis": {
         "title": {
          "text": "Predicted Closing Prices"
         }
        },
        "yaxis": {
         "title": {
          "text": "Residuals"
         }
        }
       }
      }
     },
     "metadata": {},
     "output_type": "display_data"
    }
   ],
   "source": [
    "# Calculate the residuals first.\n",
    "residuals = y_test - y_pred\n",
    "\n",
    "# Create the residuals plot\n",
    "fig = go.Figure()\n",
    "\n",
    "fig.add_trace(go.Scatter(x = y_pred, y = residuals,\n",
    "                mode = 'markers',\n",
    "                name = 'Residuals'))\n",
    "\n",
    "fig.add_trace(go.Scatter(x = y_pred, y = np.zeros_like(y_pred),\n",
    "                mode = 'lines',\n",
    "                name = 'Zero Line'))\n",
    "\n",
    "fig.update_layout(title = 'Residuals vs Predicted Closing Prices',\n",
    "                xaxis_title = 'Predicted Closing Prices',\n",
    "                yaxis_title = 'Residuals',\n",
    "                template = 'plotly_dark')\n",
    "\n",
    "fig.show()\n",
    "\n",
    "\n"
   ]
  },
  {
   "cell_type": "markdown",
   "metadata": {},
   "source": [
    "#### In the plot above, contrary to many other plots we create, we are wanting to see randomness.  We are looking for the data to be scattered around the zero line and randomly distributed, and that the spread is fairly symmetrical around the zero.  If there was clustering it could indicate bias in the predictions.  "
   ]
  },
  {
   "cell_type": "markdown",
   "metadata": {},
   "source": [
    "#### Since we have our residuals variable established let's make a distribution plot for it to get another look."
   ]
  },
  {
   "cell_type": "code",
   "execution_count": 111,
   "metadata": {},
   "outputs": [
    {
     "data": {
      "application/vnd.plotly.v1+json": {
       "config": {
        "plotlyServerURL": "https://plot.ly"
       },
       "data": [
        {
         "alignmentgroup": "True",
         "bingroup": "x",
         "histnorm": "probability density",
         "hovertemplate": "variable=Close<br>value=%{x}<br>probability density=%{y}<extra></extra>",
         "legendgroup": "Close",
         "marker": {
          "color": "#636efa",
          "pattern": {
           "shape": ""
          }
         },
         "name": "Close",
         "nbinsx": 30,
         "offsetgroup": "Close",
         "orientation": "v",
         "showlegend": true,
         "type": "histogram",
         "x": [
          0.0069971435639262225,
          -0.026845391883008274,
          -0.0150085266599298,
          0.025495334582532836,
          0.021685460634396136,
          0.002059675358624502,
          0.0035593255715693495,
          0.00358254578390782,
          0.06310926377799975,
          0.01610518123845145,
          -0.024251957976613614,
          -0.025855865503665365,
          0.06994325491436082,
          0.0010336372766674984,
          -0.0019834392027040515,
          -0.0025228651942548197,
          -0.046474652253810866,
          0.014427193649724446,
          -0.01328768453257978,
          -0.006340057484619965,
          0.0023297874794010465,
          -0.001422087507200187,
          -0.0060050317653470575,
          0.011381909200646578,
          0.012065238230537623,
          0.01769083560849105,
          0.008203466452410213,
          0.01706574848631426,
          -0.003277614268147655,
          -0.006265481985926025,
          0.01885197860586041,
          -0.02025383638400391,
          0.009720884875395713,
          0.007941250733470406,
          -0.00964184247251848,
          0.03480958150995739,
          0.0023229355597133294,
          -0.007576718351640421,
          0.01141076348964587,
          -0.02936505692513891,
          0.006233716488199814,
          -0.07302627920601501,
          0.005727250801785239,
          0.002330717570018237,
          -0.0017275722745966338,
          0.03484329315055218,
          0.00033873433718367707,
          0.00028155771168281163,
          -0.03212083068054772,
          -0.008077416073234367,
          -0.007711187749156245,
          -0.0055071541956570325,
          0.0044385090925812,
          -0.002455790538619773,
          0.001007318251498468,
          0.007817938012624426,
          0.00016962986701507532,
          -0.04583208109613701,
          0.0022483731769180615,
          -0.013963929178758744,
          0.05423675334779787,
          0.005601511203924547,
          0.0008665385155028904,
          -0.012371255546147042,
          0.010764072615254971,
          0.00192567802132948,
          -0.019530005287656138,
          0.023074839676656467,
          0.0004967457862208313,
          0.014796775121679095,
          0.011445772119730468,
          -0.029892529913560395,
          0.012508766225828083,
          -0.0014439137873496488,
          -0.04528419620950344,
          -0.03172549795992574,
          -0.010837574665189679,
          0.005025078921773257,
          -0.003509599969549637,
          0.09650895232496343,
          0.03125262918157479,
          0.0038625693957106133,
          0.04377766754257728,
          -0.006137211072609228,
          -0.011086417457577324,
          0.013500277858815024,
          -0.009804419689989435,
          0.006383486622458245,
          -0.02525431840972958,
          0.04193085312284328,
          0.012938367998398759,
          -0.038957262283230154,
          -0.026023303179865065,
          0.020186562928046214,
          0.00786887068509981,
          -0.0011826930539660108,
          -0.011742998419993045,
          0.06018801857209688,
          0.013868400975789452,
          0.008563320681592046,
          -0.025889121227235745,
          0.05540116516214835,
          0.0006627082088277447,
          -0.008783576643257449,
          -0.0005812960947713108,
          -0.008950437784002202,
          -0.010368517850162351,
          -0.031626256546959275,
          0.03565034052642324,
          -0.002615851758074328,
          -0.004108571889290591,
          0.002556836565818288,
          0.011137504461065206,
          0.014297158163516621,
          0.002246525576445668,
          -0.007516856373630393,
          0.02615429736415542,
          -0.015963066629589906,
          0.025243384757898224,
          -0.051529314188097086,
          0.004878495912932879,
          -0.01181902097075116,
          -0.018824062851079737,
          -0.0039653541708929985,
          -0.00004036441404542401,
          -0.029907633690986424,
          0.028356831571493712,
          -0.03403195686281557,
          -0.0034978044234167394,
          -0.01702699710623845,
          -0.021820026427104344,
          0.029299366987318304,
          0.018359894930931264,
          0.01565945025945603,
          -0.021284031453289276,
          0.04851681242878392,
          0.0010402098757968936,
          -0.0012395025920933778,
          0.004154842585564228,
          0.03931109511915176,
          -0.013193150554711597,
          -0.007858177880363137,
          0.054798244275601427,
          0.00435167930415295,
          0.03646555955641223,
          0.004127689876898821,
          -0.0012386517039719713,
          0.0010420212254191874,
          -0.01017490063610671,
          -0.027681136905711168,
          0.003581453164487547,
          -0.0014680735830849834,
          -0.0040702722318248785,
          0.006846149550598479,
          0.01179478530890038,
          0.0237811556205334,
          -0.0013161569488859826,
          0.023031312277788762,
          -0.015146963089020027,
          -0.057577916913220895,
          -0.018220271317970438,
          0.01330456981252659,
          0.0006988171685517464,
          0.03440844354172934,
          -0.005520429980599761,
          -0.04729263819707974,
          -0.012807620097178174,
          0.0027831808511844525,
          -0.01333059986311258,
          -0.010866932358652659,
          -0.0021501403218637805,
          -0.0018436270891004636,
          -0.004276361300663112,
          -0.055545498918451286,
          0.0026763137594355557,
          0.04052363258582892,
          -0.011093056302775406,
          -0.002444976205428828,
          0.007463289872753354,
          -0.032186364294167324,
          -0.004390326626145802,
          -0.0009752390174162517,
          0.025251622038484356,
          -0.01289122257609887,
          -0.04478815848513362,
          0.02177124848802625,
          -0.007743789922744493,
          -0.02978889681804353,
          0.009469180678367106,
          -0.055317709247911906,
          -0.021852041251854554,
          -0.014323253084232213,
          0.00811519085034329,
          -0.041873506374655145,
          0.005087225272326523,
          -0.020529862378700692,
          0.00754415406201403,
          0.016072019586908792,
          -0.029935277649070002,
          -0.0348889776682455,
          0.021796740125916925,
          -0.05895058481440185,
          -0.023867070251273548,
          0.0027577098722848525,
          0.01953903150906755,
          0.006883674834737841,
          0.014705990494962351,
          -0.016033936974239937,
          -0.00004945904671915802,
          -0.002917264850548884,
          0.04577312111337695,
          0.0020657783066608815,
          -0.0012020287241520933,
          0.01621049354172413,
          -0.027544274675183944,
          -0.01613027084801967,
          -0.0005404149131862102,
          0.027999682657021907,
          -0.00022789285009672255,
          -0.017383809895765268,
          -0.011723697215081152,
          -0.004958856144270274,
          -0.0025771858208534504,
          -0.006737484665730209,
          0.0005286566965643225,
          -0.015708607929145302,
          -0.00839285024902181,
          0.011801183326667797,
          -0.04149197476770772,
          -0.0013234376239882328,
          -0.002041010741129279,
          -0.011158460063561026,
          -0.013678796732062848,
          -0.06166514843301801,
          -0.0016649873593357345,
          0.025819428380763565,
          -0.004673566859353606,
          0.048957987316008866,
          0.025666683342482094,
          -0.03469991276325879,
          0.02295021220991056,
          -0.09510959437942446,
          0.0004474442052628813,
          -0.0016180556332161533,
          0.037722073756460306,
          -0.0047042338840748155,
          -0.0006439383633649598,
          0.01735482537962571,
          0.0011925764566340646,
          -0.0267226121530858,
          -0.004633364021161546,
          0.023802667774877495,
          0.0038121379727108495,
          0.03198379340202295,
          -0.04188596679275203,
          -0.00025827136752765156,
          -0.004870527026157978,
          -0.007681531544618814,
          -0.004593064421764548,
          -0.003996194488481097,
          -0.004464675677901209,
          -0.004106244850265339,
          -0.0016956633748737016,
          0.025582963371119316,
          0.005582381482244714,
          0.02093450394179297,
          0.001018557724141056,
          0.0013563300767551745,
          -0.0014589622186081952,
          0.01449367455351347,
          0.020870200193434774,
          0.038135805259353006,
          0.0477200853986246,
          -0.0008194681107583923,
          0.0653762244749333,
          0.014451172037208249,
          -0.011651586848415857
         ],
         "xaxis": "x",
         "yaxis": "y"
        },
        {
         "alignmentgroup": "True",
         "hovertemplate": "variable=Close<br>value=%{x}<extra></extra>",
         "legendgroup": "Close",
         "marker": {
          "color": "#636efa"
         },
         "name": "Close",
         "notched": true,
         "offsetgroup": "Close",
         "showlegend": false,
         "type": "box",
         "x": [
          0.0069971435639262225,
          -0.026845391883008274,
          -0.0150085266599298,
          0.025495334582532836,
          0.021685460634396136,
          0.002059675358624502,
          0.0035593255715693495,
          0.00358254578390782,
          0.06310926377799975,
          0.01610518123845145,
          -0.024251957976613614,
          -0.025855865503665365,
          0.06994325491436082,
          0.0010336372766674984,
          -0.0019834392027040515,
          -0.0025228651942548197,
          -0.046474652253810866,
          0.014427193649724446,
          -0.01328768453257978,
          -0.006340057484619965,
          0.0023297874794010465,
          -0.001422087507200187,
          -0.0060050317653470575,
          0.011381909200646578,
          0.012065238230537623,
          0.01769083560849105,
          0.008203466452410213,
          0.01706574848631426,
          -0.003277614268147655,
          -0.006265481985926025,
          0.01885197860586041,
          -0.02025383638400391,
          0.009720884875395713,
          0.007941250733470406,
          -0.00964184247251848,
          0.03480958150995739,
          0.0023229355597133294,
          -0.007576718351640421,
          0.01141076348964587,
          -0.02936505692513891,
          0.006233716488199814,
          -0.07302627920601501,
          0.005727250801785239,
          0.002330717570018237,
          -0.0017275722745966338,
          0.03484329315055218,
          0.00033873433718367707,
          0.00028155771168281163,
          -0.03212083068054772,
          -0.008077416073234367,
          -0.007711187749156245,
          -0.0055071541956570325,
          0.0044385090925812,
          -0.002455790538619773,
          0.001007318251498468,
          0.007817938012624426,
          0.00016962986701507532,
          -0.04583208109613701,
          0.0022483731769180615,
          -0.013963929178758744,
          0.05423675334779787,
          0.005601511203924547,
          0.0008665385155028904,
          -0.012371255546147042,
          0.010764072615254971,
          0.00192567802132948,
          -0.019530005287656138,
          0.023074839676656467,
          0.0004967457862208313,
          0.014796775121679095,
          0.011445772119730468,
          -0.029892529913560395,
          0.012508766225828083,
          -0.0014439137873496488,
          -0.04528419620950344,
          -0.03172549795992574,
          -0.010837574665189679,
          0.005025078921773257,
          -0.003509599969549637,
          0.09650895232496343,
          0.03125262918157479,
          0.0038625693957106133,
          0.04377766754257728,
          -0.006137211072609228,
          -0.011086417457577324,
          0.013500277858815024,
          -0.009804419689989435,
          0.006383486622458245,
          -0.02525431840972958,
          0.04193085312284328,
          0.012938367998398759,
          -0.038957262283230154,
          -0.026023303179865065,
          0.020186562928046214,
          0.00786887068509981,
          -0.0011826930539660108,
          -0.011742998419993045,
          0.06018801857209688,
          0.013868400975789452,
          0.008563320681592046,
          -0.025889121227235745,
          0.05540116516214835,
          0.0006627082088277447,
          -0.008783576643257449,
          -0.0005812960947713108,
          -0.008950437784002202,
          -0.010368517850162351,
          -0.031626256546959275,
          0.03565034052642324,
          -0.002615851758074328,
          -0.004108571889290591,
          0.002556836565818288,
          0.011137504461065206,
          0.014297158163516621,
          0.002246525576445668,
          -0.007516856373630393,
          0.02615429736415542,
          -0.015963066629589906,
          0.025243384757898224,
          -0.051529314188097086,
          0.004878495912932879,
          -0.01181902097075116,
          -0.018824062851079737,
          -0.0039653541708929985,
          -0.00004036441404542401,
          -0.029907633690986424,
          0.028356831571493712,
          -0.03403195686281557,
          -0.0034978044234167394,
          -0.01702699710623845,
          -0.021820026427104344,
          0.029299366987318304,
          0.018359894930931264,
          0.01565945025945603,
          -0.021284031453289276,
          0.04851681242878392,
          0.0010402098757968936,
          -0.0012395025920933778,
          0.004154842585564228,
          0.03931109511915176,
          -0.013193150554711597,
          -0.007858177880363137,
          0.054798244275601427,
          0.00435167930415295,
          0.03646555955641223,
          0.004127689876898821,
          -0.0012386517039719713,
          0.0010420212254191874,
          -0.01017490063610671,
          -0.027681136905711168,
          0.003581453164487547,
          -0.0014680735830849834,
          -0.0040702722318248785,
          0.006846149550598479,
          0.01179478530890038,
          0.0237811556205334,
          -0.0013161569488859826,
          0.023031312277788762,
          -0.015146963089020027,
          -0.057577916913220895,
          -0.018220271317970438,
          0.01330456981252659,
          0.0006988171685517464,
          0.03440844354172934,
          -0.005520429980599761,
          -0.04729263819707974,
          -0.012807620097178174,
          0.0027831808511844525,
          -0.01333059986311258,
          -0.010866932358652659,
          -0.0021501403218637805,
          -0.0018436270891004636,
          -0.004276361300663112,
          -0.055545498918451286,
          0.0026763137594355557,
          0.04052363258582892,
          -0.011093056302775406,
          -0.002444976205428828,
          0.007463289872753354,
          -0.032186364294167324,
          -0.004390326626145802,
          -0.0009752390174162517,
          0.025251622038484356,
          -0.01289122257609887,
          -0.04478815848513362,
          0.02177124848802625,
          -0.007743789922744493,
          -0.02978889681804353,
          0.009469180678367106,
          -0.055317709247911906,
          -0.021852041251854554,
          -0.014323253084232213,
          0.00811519085034329,
          -0.041873506374655145,
          0.005087225272326523,
          -0.020529862378700692,
          0.00754415406201403,
          0.016072019586908792,
          -0.029935277649070002,
          -0.0348889776682455,
          0.021796740125916925,
          -0.05895058481440185,
          -0.023867070251273548,
          0.0027577098722848525,
          0.01953903150906755,
          0.006883674834737841,
          0.014705990494962351,
          -0.016033936974239937,
          -0.00004945904671915802,
          -0.002917264850548884,
          0.04577312111337695,
          0.0020657783066608815,
          -0.0012020287241520933,
          0.01621049354172413,
          -0.027544274675183944,
          -0.01613027084801967,
          -0.0005404149131862102,
          0.027999682657021907,
          -0.00022789285009672255,
          -0.017383809895765268,
          -0.011723697215081152,
          -0.004958856144270274,
          -0.0025771858208534504,
          -0.006737484665730209,
          0.0005286566965643225,
          -0.015708607929145302,
          -0.00839285024902181,
          0.011801183326667797,
          -0.04149197476770772,
          -0.0013234376239882328,
          -0.002041010741129279,
          -0.011158460063561026,
          -0.013678796732062848,
          -0.06166514843301801,
          -0.0016649873593357345,
          0.025819428380763565,
          -0.004673566859353606,
          0.048957987316008866,
          0.025666683342482094,
          -0.03469991276325879,
          0.02295021220991056,
          -0.09510959437942446,
          0.0004474442052628813,
          -0.0016180556332161533,
          0.037722073756460306,
          -0.0047042338840748155,
          -0.0006439383633649598,
          0.01735482537962571,
          0.0011925764566340646,
          -0.0267226121530858,
          -0.004633364021161546,
          0.023802667774877495,
          0.0038121379727108495,
          0.03198379340202295,
          -0.04188596679275203,
          -0.00025827136752765156,
          -0.004870527026157978,
          -0.007681531544618814,
          -0.004593064421764548,
          -0.003996194488481097,
          -0.004464675677901209,
          -0.004106244850265339,
          -0.0016956633748737016,
          0.025582963371119316,
          0.005582381482244714,
          0.02093450394179297,
          0.001018557724141056,
          0.0013563300767551745,
          -0.0014589622186081952,
          0.01449367455351347,
          0.020870200193434774,
          0.038135805259353006,
          0.0477200853986246,
          -0.0008194681107583923,
          0.0653762244749333,
          0.014451172037208249,
          -0.011651586848415857
         ],
         "xaxis": "x2",
         "yaxis": "y2"
        }
       ],
       "layout": {
        "barmode": "relative",
        "legend": {
         "title": {
          "text": "variable"
         },
         "tracegroupgap": 0
        },
        "margin": {
         "t": 60
        },
        "template": {
         "data": {
          "bar": [
           {
            "error_x": {
             "color": "#f2f5fa"
            },
            "error_y": {
             "color": "#f2f5fa"
            },
            "marker": {
             "line": {
              "color": "rgb(17,17,17)",
              "width": 0.5
             },
             "pattern": {
              "fillmode": "overlay",
              "size": 10,
              "solidity": 0.2
             }
            },
            "type": "bar"
           }
          ],
          "barpolar": [
           {
            "marker": {
             "line": {
              "color": "rgb(17,17,17)",
              "width": 0.5
             },
             "pattern": {
              "fillmode": "overlay",
              "size": 10,
              "solidity": 0.2
             }
            },
            "type": "barpolar"
           }
          ],
          "carpet": [
           {
            "aaxis": {
             "endlinecolor": "#A2B1C6",
             "gridcolor": "#506784",
             "linecolor": "#506784",
             "minorgridcolor": "#506784",
             "startlinecolor": "#A2B1C6"
            },
            "baxis": {
             "endlinecolor": "#A2B1C6",
             "gridcolor": "#506784",
             "linecolor": "#506784",
             "minorgridcolor": "#506784",
             "startlinecolor": "#A2B1C6"
            },
            "type": "carpet"
           }
          ],
          "choropleth": [
           {
            "colorbar": {
             "outlinewidth": 0,
             "ticks": ""
            },
            "type": "choropleth"
           }
          ],
          "contour": [
           {
            "colorbar": {
             "outlinewidth": 0,
             "ticks": ""
            },
            "colorscale": [
             [
              0,
              "#0d0887"
             ],
             [
              0.1111111111111111,
              "#46039f"
             ],
             [
              0.2222222222222222,
              "#7201a8"
             ],
             [
              0.3333333333333333,
              "#9c179e"
             ],
             [
              0.4444444444444444,
              "#bd3786"
             ],
             [
              0.5555555555555556,
              "#d8576b"
             ],
             [
              0.6666666666666666,
              "#ed7953"
             ],
             [
              0.7777777777777778,
              "#fb9f3a"
             ],
             [
              0.8888888888888888,
              "#fdca26"
             ],
             [
              1,
              "#f0f921"
             ]
            ],
            "type": "contour"
           }
          ],
          "contourcarpet": [
           {
            "colorbar": {
             "outlinewidth": 0,
             "ticks": ""
            },
            "type": "contourcarpet"
           }
          ],
          "heatmap": [
           {
            "colorbar": {
             "outlinewidth": 0,
             "ticks": ""
            },
            "colorscale": [
             [
              0,
              "#0d0887"
             ],
             [
              0.1111111111111111,
              "#46039f"
             ],
             [
              0.2222222222222222,
              "#7201a8"
             ],
             [
              0.3333333333333333,
              "#9c179e"
             ],
             [
              0.4444444444444444,
              "#bd3786"
             ],
             [
              0.5555555555555556,
              "#d8576b"
             ],
             [
              0.6666666666666666,
              "#ed7953"
             ],
             [
              0.7777777777777778,
              "#fb9f3a"
             ],
             [
              0.8888888888888888,
              "#fdca26"
             ],
             [
              1,
              "#f0f921"
             ]
            ],
            "type": "heatmap"
           }
          ],
          "heatmapgl": [
           {
            "colorbar": {
             "outlinewidth": 0,
             "ticks": ""
            },
            "colorscale": [
             [
              0,
              "#0d0887"
             ],
             [
              0.1111111111111111,
              "#46039f"
             ],
             [
              0.2222222222222222,
              "#7201a8"
             ],
             [
              0.3333333333333333,
              "#9c179e"
             ],
             [
              0.4444444444444444,
              "#bd3786"
             ],
             [
              0.5555555555555556,
              "#d8576b"
             ],
             [
              0.6666666666666666,
              "#ed7953"
             ],
             [
              0.7777777777777778,
              "#fb9f3a"
             ],
             [
              0.8888888888888888,
              "#fdca26"
             ],
             [
              1,
              "#f0f921"
             ]
            ],
            "type": "heatmapgl"
           }
          ],
          "histogram": [
           {
            "marker": {
             "pattern": {
              "fillmode": "overlay",
              "size": 10,
              "solidity": 0.2
             }
            },
            "type": "histogram"
           }
          ],
          "histogram2d": [
           {
            "colorbar": {
             "outlinewidth": 0,
             "ticks": ""
            },
            "colorscale": [
             [
              0,
              "#0d0887"
             ],
             [
              0.1111111111111111,
              "#46039f"
             ],
             [
              0.2222222222222222,
              "#7201a8"
             ],
             [
              0.3333333333333333,
              "#9c179e"
             ],
             [
              0.4444444444444444,
              "#bd3786"
             ],
             [
              0.5555555555555556,
              "#d8576b"
             ],
             [
              0.6666666666666666,
              "#ed7953"
             ],
             [
              0.7777777777777778,
              "#fb9f3a"
             ],
             [
              0.8888888888888888,
              "#fdca26"
             ],
             [
              1,
              "#f0f921"
             ]
            ],
            "type": "histogram2d"
           }
          ],
          "histogram2dcontour": [
           {
            "colorbar": {
             "outlinewidth": 0,
             "ticks": ""
            },
            "colorscale": [
             [
              0,
              "#0d0887"
             ],
             [
              0.1111111111111111,
              "#46039f"
             ],
             [
              0.2222222222222222,
              "#7201a8"
             ],
             [
              0.3333333333333333,
              "#9c179e"
             ],
             [
              0.4444444444444444,
              "#bd3786"
             ],
             [
              0.5555555555555556,
              "#d8576b"
             ],
             [
              0.6666666666666666,
              "#ed7953"
             ],
             [
              0.7777777777777778,
              "#fb9f3a"
             ],
             [
              0.8888888888888888,
              "#fdca26"
             ],
             [
              1,
              "#f0f921"
             ]
            ],
            "type": "histogram2dcontour"
           }
          ],
          "mesh3d": [
           {
            "colorbar": {
             "outlinewidth": 0,
             "ticks": ""
            },
            "type": "mesh3d"
           }
          ],
          "parcoords": [
           {
            "line": {
             "colorbar": {
              "outlinewidth": 0,
              "ticks": ""
             }
            },
            "type": "parcoords"
           }
          ],
          "pie": [
           {
            "automargin": true,
            "type": "pie"
           }
          ],
          "scatter": [
           {
            "marker": {
             "line": {
              "color": "#283442"
             }
            },
            "type": "scatter"
           }
          ],
          "scatter3d": [
           {
            "line": {
             "colorbar": {
              "outlinewidth": 0,
              "ticks": ""
             }
            },
            "marker": {
             "colorbar": {
              "outlinewidth": 0,
              "ticks": ""
             }
            },
            "type": "scatter3d"
           }
          ],
          "scattercarpet": [
           {
            "marker": {
             "colorbar": {
              "outlinewidth": 0,
              "ticks": ""
             }
            },
            "type": "scattercarpet"
           }
          ],
          "scattergeo": [
           {
            "marker": {
             "colorbar": {
              "outlinewidth": 0,
              "ticks": ""
             }
            },
            "type": "scattergeo"
           }
          ],
          "scattergl": [
           {
            "marker": {
             "line": {
              "color": "#283442"
             }
            },
            "type": "scattergl"
           }
          ],
          "scattermapbox": [
           {
            "marker": {
             "colorbar": {
              "outlinewidth": 0,
              "ticks": ""
             }
            },
            "type": "scattermapbox"
           }
          ],
          "scatterpolar": [
           {
            "marker": {
             "colorbar": {
              "outlinewidth": 0,
              "ticks": ""
             }
            },
            "type": "scatterpolar"
           }
          ],
          "scatterpolargl": [
           {
            "marker": {
             "colorbar": {
              "outlinewidth": 0,
              "ticks": ""
             }
            },
            "type": "scatterpolargl"
           }
          ],
          "scatterternary": [
           {
            "marker": {
             "colorbar": {
              "outlinewidth": 0,
              "ticks": ""
             }
            },
            "type": "scatterternary"
           }
          ],
          "surface": [
           {
            "colorbar": {
             "outlinewidth": 0,
             "ticks": ""
            },
            "colorscale": [
             [
              0,
              "#0d0887"
             ],
             [
              0.1111111111111111,
              "#46039f"
             ],
             [
              0.2222222222222222,
              "#7201a8"
             ],
             [
              0.3333333333333333,
              "#9c179e"
             ],
             [
              0.4444444444444444,
              "#bd3786"
             ],
             [
              0.5555555555555556,
              "#d8576b"
             ],
             [
              0.6666666666666666,
              "#ed7953"
             ],
             [
              0.7777777777777778,
              "#fb9f3a"
             ],
             [
              0.8888888888888888,
              "#fdca26"
             ],
             [
              1,
              "#f0f921"
             ]
            ],
            "type": "surface"
           }
          ],
          "table": [
           {
            "cells": {
             "fill": {
              "color": "#506784"
             },
             "line": {
              "color": "rgb(17,17,17)"
             }
            },
            "header": {
             "fill": {
              "color": "#2a3f5f"
             },
             "line": {
              "color": "rgb(17,17,17)"
             }
            },
            "type": "table"
           }
          ]
         },
         "layout": {
          "annotationdefaults": {
           "arrowcolor": "#f2f5fa",
           "arrowhead": 0,
           "arrowwidth": 1
          },
          "autotypenumbers": "strict",
          "coloraxis": {
           "colorbar": {
            "outlinewidth": 0,
            "ticks": ""
           }
          },
          "colorscale": {
           "diverging": [
            [
             0,
             "#8e0152"
            ],
            [
             0.1,
             "#c51b7d"
            ],
            [
             0.2,
             "#de77ae"
            ],
            [
             0.3,
             "#f1b6da"
            ],
            [
             0.4,
             "#fde0ef"
            ],
            [
             0.5,
             "#f7f7f7"
            ],
            [
             0.6,
             "#e6f5d0"
            ],
            [
             0.7,
             "#b8e186"
            ],
            [
             0.8,
             "#7fbc41"
            ],
            [
             0.9,
             "#4d9221"
            ],
            [
             1,
             "#276419"
            ]
           ],
           "sequential": [
            [
             0,
             "#0d0887"
            ],
            [
             0.1111111111111111,
             "#46039f"
            ],
            [
             0.2222222222222222,
             "#7201a8"
            ],
            [
             0.3333333333333333,
             "#9c179e"
            ],
            [
             0.4444444444444444,
             "#bd3786"
            ],
            [
             0.5555555555555556,
             "#d8576b"
            ],
            [
             0.6666666666666666,
             "#ed7953"
            ],
            [
             0.7777777777777778,
             "#fb9f3a"
            ],
            [
             0.8888888888888888,
             "#fdca26"
            ],
            [
             1,
             "#f0f921"
            ]
           ],
           "sequentialminus": [
            [
             0,
             "#0d0887"
            ],
            [
             0.1111111111111111,
             "#46039f"
            ],
            [
             0.2222222222222222,
             "#7201a8"
            ],
            [
             0.3333333333333333,
             "#9c179e"
            ],
            [
             0.4444444444444444,
             "#bd3786"
            ],
            [
             0.5555555555555556,
             "#d8576b"
            ],
            [
             0.6666666666666666,
             "#ed7953"
            ],
            [
             0.7777777777777778,
             "#fb9f3a"
            ],
            [
             0.8888888888888888,
             "#fdca26"
            ],
            [
             1,
             "#f0f921"
            ]
           ]
          },
          "colorway": [
           "#636efa",
           "#EF553B",
           "#00cc96",
           "#ab63fa",
           "#FFA15A",
           "#19d3f3",
           "#FF6692",
           "#B6E880",
           "#FF97FF",
           "#FECB52"
          ],
          "font": {
           "color": "#f2f5fa"
          },
          "geo": {
           "bgcolor": "rgb(17,17,17)",
           "lakecolor": "rgb(17,17,17)",
           "landcolor": "rgb(17,17,17)",
           "showlakes": true,
           "showland": true,
           "subunitcolor": "#506784"
          },
          "hoverlabel": {
           "align": "left"
          },
          "hovermode": "closest",
          "mapbox": {
           "style": "dark"
          },
          "paper_bgcolor": "rgb(17,17,17)",
          "plot_bgcolor": "rgb(17,17,17)",
          "polar": {
           "angularaxis": {
            "gridcolor": "#506784",
            "linecolor": "#506784",
            "ticks": ""
           },
           "bgcolor": "rgb(17,17,17)",
           "radialaxis": {
            "gridcolor": "#506784",
            "linecolor": "#506784",
            "ticks": ""
           }
          },
          "scene": {
           "xaxis": {
            "backgroundcolor": "rgb(17,17,17)",
            "gridcolor": "#506784",
            "gridwidth": 2,
            "linecolor": "#506784",
            "showbackground": true,
            "ticks": "",
            "zerolinecolor": "#C8D4E3"
           },
           "yaxis": {
            "backgroundcolor": "rgb(17,17,17)",
            "gridcolor": "#506784",
            "gridwidth": 2,
            "linecolor": "#506784",
            "showbackground": true,
            "ticks": "",
            "zerolinecolor": "#C8D4E3"
           },
           "zaxis": {
            "backgroundcolor": "rgb(17,17,17)",
            "gridcolor": "#506784",
            "gridwidth": 2,
            "linecolor": "#506784",
            "showbackground": true,
            "ticks": "",
            "zerolinecolor": "#C8D4E3"
           }
          },
          "shapedefaults": {
           "line": {
            "color": "#f2f5fa"
           }
          },
          "sliderdefaults": {
           "bgcolor": "#C8D4E3",
           "bordercolor": "rgb(17,17,17)",
           "borderwidth": 1,
           "tickwidth": 0
          },
          "ternary": {
           "aaxis": {
            "gridcolor": "#506784",
            "linecolor": "#506784",
            "ticks": ""
           },
           "baxis": {
            "gridcolor": "#506784",
            "linecolor": "#506784",
            "ticks": ""
           },
           "bgcolor": "rgb(17,17,17)",
           "caxis": {
            "gridcolor": "#506784",
            "linecolor": "#506784",
            "ticks": ""
           }
          },
          "title": {
           "x": 0.05
          },
          "updatemenudefaults": {
           "bgcolor": "#506784",
           "borderwidth": 0
          },
          "xaxis": {
           "automargin": true,
           "gridcolor": "#283442",
           "linecolor": "#506784",
           "ticks": "",
           "title": {
            "standoff": 15
           },
           "zerolinecolor": "#283442",
           "zerolinewidth": 2
          },
          "yaxis": {
           "automargin": true,
           "gridcolor": "#283442",
           "linecolor": "#506784",
           "ticks": "",
           "title": {
            "standoff": 15
           },
           "zerolinecolor": "#283442",
           "zerolinewidth": 2
          }
         }
        },
        "title": {
         "text": "TSLA Distribution of Residuals"
        },
        "xaxis": {
         "anchor": "y",
         "domain": [
          0,
          1
         ],
         "title": {
          "text": "Residuals"
         }
        },
        "xaxis2": {
         "anchor": "y2",
         "domain": [
          0,
          1
         ],
         "matches": "x",
         "showgrid": true,
         "showticklabels": false
        },
        "yaxis": {
         "anchor": "x",
         "domain": [
          0,
          0.7326
         ],
         "title": {
          "text": "Density"
         }
        },
        "yaxis2": {
         "anchor": "x2",
         "domain": [
          0.7426,
          1
         ],
         "matches": "y2",
         "showgrid": false,
         "showline": false,
         "showticklabels": false,
         "ticks": ""
        }
       }
      }
     },
     "metadata": {},
     "output_type": "display_data"
    }
   ],
   "source": [
    "fig = px.histogram(residuals, nbins = 30, marginal = 'box', histnorm = 'probability density')\n",
    "\n",
    "fig.update_layout(title = 'TSLA Distribution of Residuals',\n",
    "                xaxis_title = 'Residuals',\n",
    "                yaxis_title = 'Density',\n",
    "                template = 'plotly_dark')\n",
    "\n",
    "fig.show()"
   ]
  },
  {
   "cell_type": "markdown",
   "metadata": {},
   "source": [
    "#### Overall this is a good distribution.  The distribution is centered around 0, and suggests that on average the model's predictions are unbiased.  The histogram appears somewhat bell-shaped though it is definitely not normal.  Again the highest concentration of residuals are very close to the 0 marker, indicating that most predictions are very accurate.  Speaking to the boxplot at the top, is shows a few outliers on each end.  The majority of the data points within the IQR (Interquartile Range) suggest that most predictions are fairly close to the actual values.  If anything is to be improved I can look at the outliers here and remove them so as the model isn't hindered by their bias."
   ]
  },
  {
   "cell_type": "markdown",
   "metadata": {},
   "source": [
    "## Summary of the Analysis on the AAPL Linear Regression Model\n",
    "\n",
    "#### In this notebook we developed a baseline Linear Regression model to predict the closing prices of AAPL stock.  We implemented several of our previous preprocessing steps, including feature creation and scaling, followed by model creation and evaluation.\n",
    "\n",
    "### Key Insights\n",
    "\n",
    "#### - The model performed well as a baseline, with a Mean Absolute Error (MAE) of approximately 2.4 cents.\n",
    "#### - The residuals analysis indicated that the model's errors are unbiased and normally distributed, suggesting that the model is generally reliable.\n",
    "#### - The distribution of residuals showed no significant skewness or outliers, further confirming the model's robustness for a baseline.\n",
    "\n",
    "### Potential Next Steps\n",
    "\n",
    "#### - In the next phase, we will explore more advanced models such as Decision Trees, GRU, and Transformer models to improve prediction accuracy.\n",
    "#### - We will also consider incorporating additional data and refining features based on the insights gained from this baseline model."
   ]
  },
  {
   "cell_type": "code",
   "execution_count": null,
   "metadata": {},
   "outputs": [],
   "source": []
  }
 ],
 "metadata": {
  "kernelspec": {
   "display_name": "DL-Strat",
   "language": "python",
   "name": "python3"
  },
  "language_info": {
   "codemirror_mode": {
    "name": "ipython",
    "version": 3
   },
   "file_extension": ".py",
   "mimetype": "text/x-python",
   "name": "python",
   "nbconvert_exporter": "python",
   "pygments_lexer": "ipython3",
   "version": "3.11.0"
  }
 },
 "nbformat": 4,
 "nbformat_minor": 2
}
