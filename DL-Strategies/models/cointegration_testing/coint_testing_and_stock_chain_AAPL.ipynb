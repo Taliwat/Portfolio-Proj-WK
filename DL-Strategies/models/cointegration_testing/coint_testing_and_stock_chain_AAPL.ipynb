{
 "cells": [
  {
   "cell_type": "markdown",
   "metadata": {},
   "source": [
    "# **Cointegration Testing Analysis and Stock Chain Visual for the AAPL Stock**\n",
    "## In this notebook we start to bring things together from other sections of the project.  We combine our analyzed and preprocessed core_stock_data with our preprocessed and dynamically generated secondary stock data to perform cointegration testing to see if we can create cointegrated pairs, which we will then visualize to produce our intended stock chain.  We will also utlize and test our exogenous data and features here; data we haven't talked about a whole lot yet.  This data will aid in potentially adding another layer to the stock chains we want to create, reducing risk when we go to develop our trading strategy in a few phases of our project."
   ]
  },
  {
   "cell_type": "markdown",
   "metadata": {},
   "source": [
    "#### As with our other notebooks let's read in our data to use for this.  This time let's take a good look at the shape of our dataframes since we will plan on merging them later on in the notebook.  It will be important that the dataframes match in size so that modeling works for our Decision Trees.  If they mismatch we will have to investigate."
   ]
  },
  {
   "cell_type": "code",
   "execution_count": 1,
   "metadata": {},
   "outputs": [],
   "source": [
    "import sys\n",
    "import os\n",
    "\n",
    "import numpy as np\n",
    "import pandas as pd\n",
    "import matplotlib.pyplot as plt\n",
    "import seaborn as sns\n",
    "from statsmodels.tsa.stattools import coint, adfuller\n",
    "import networkx as nx\n",
    "\n",
    "project_root = os.path.abspath(os.path.join(os.getcwd(), '..', '..'))\n",
    "if project_root not in sys.path:\n",
    "    sys.path.append(project_root)"
   ]
  },
  {
   "cell_type": "code",
   "execution_count": 2,
   "metadata": {},
   "outputs": [
    {
     "name": "stdout",
     "output_type": "stream",
     "text": [
      "            Close_core  Volume_core  Open_core  High_core   Low_core  \\\n",
      "Date                                                                   \n",
      "2019-03-14   45.932499   94318000.0  45.974998  46.025002  45.639999   \n",
      "2019-03-15   46.529999  156171600.0  46.212502  46.832500  45.935001   \n",
      "2019-03-18   47.005001  104879200.0  46.450001  47.097500  46.447498   \n",
      "2019-03-19   46.632500  126585600.0  47.087502  47.247501  46.480000   \n",
      "2019-03-20   47.040001  124140800.0  46.557499  47.372501  46.182499   \n",
      "\n",
      "            SMA_core   EMA_core   RSI_core  BBM_core   BBU_core  ...  \\\n",
      "Date                                                             ...   \n",
      "2019-03-14  41.35925  42.219051  75.741602  41.35925  46.695085  ...   \n",
      "2019-03-15  41.50025  42.388107  76.985910  41.50025  47.003365  ...   \n",
      "2019-03-18  41.72940  42.569162  78.724282  41.72940  47.174667  ...   \n",
      "2019-03-19  41.92075  42.728509  73.527018  41.92075  47.369412  ...   \n",
      "2019-03-20  42.12190  42.897587  80.396901  42.12190  47.569044  ...   \n",
      "\n",
      "            Momentum_7_Lag_Avg_1_3_core  Momentum_7_Lag_Std_1_3_core  \\\n",
      "Date                                                                   \n",
      "2019-03-14                     2.049999                     0.601040   \n",
      "2019-03-15                     2.049999                     0.601040   \n",
      "2019-03-18                     2.474998                     0.601040   \n",
      "2019-03-19                     2.943333                     0.915770   \n",
      "2019-03-20                     3.394999                     0.490078   \n",
      "\n",
      "            Momentum_30_Lag_Avg_1_3_core  Momentum_30_Lag_Std_1_3_core  \\\n",
      "Date                                                                     \n",
      "2019-03-14                      4.619999                      0.212131   \n",
      "2019-03-15                      4.619999                      0.212131   \n",
      "2019-03-18                      4.769999                      0.212131   \n",
      "2019-03-19                      4.971666                      0.380143   \n",
      "2019-03-20                      4.704999                      0.799484   \n",
      "\n",
      "            Momentum_50_Lag_Avg_1_3_core  Momentum_50_Lag_Std_1_3_core  \\\n",
      "Date                                                                     \n",
      "2019-03-14                      7.049999                  1.000000e-10   \n",
      "2019-03-15                      7.049999                  1.000000e-10   \n",
      "2019-03-18                      7.049999                  1.000000e-10   \n",
      "2019-03-19                      8.519166                  2.544672e+00   \n",
      "2019-03-20                      9.358334                  2.211183e+00   \n",
      "\n",
      "            OBV_Lag_Avg_1_3_core  OBV_Lag_Std_1_3_core  Diff_Close_EMA_core  \\\n",
      "Date                                                                          \n",
      "2019-03-14          1.592191e+09          1.104300e+08             3.713448   \n",
      "2019-03-15          1.592191e+09          1.104300e+08             4.141891   \n",
      "2019-03-18          1.670277e+09          1.104300e+08             4.435839   \n",
      "2019-03-19          1.731265e+09          1.313626e+08             3.903991   \n",
      "2019-03-20          1.776087e+09          6.769383e+07             4.142414   \n",
      "\n",
      "            Ratio_Close_EMA_core  \n",
      "Date                              \n",
      "2019-03-14              1.087957  \n",
      "2019-03-15              1.097714  \n",
      "2019-03-18              1.104203  \n",
      "2019-03-19              1.091367  \n",
      "2019-03-20              1.096565  \n",
      "\n",
      "[5 rows x 153 columns]\n",
      "(13650, 153)\n",
      "           ticker   Close_sec  Volume_sec    Open_sec    High_sec     Low_sec  \\\n",
      "Date                                                                            \n",
      "2019-03-14    RMD  101.000000    972500.0  102.570000  102.570000  100.959999   \n",
      "2019-03-15    RMD  100.370003   2279400.0  100.900002  101.730003  100.199997   \n",
      "2019-03-18    RMD   97.400002   1915700.0  100.360001  100.610001   96.940002   \n",
      "2019-03-19    RMD   97.900002   1101100.0   97.660004   98.190002   97.070000   \n",
      "2019-03-20    RMD   98.809998   1467600.0   99.129997  100.800003   98.449997   \n",
      "\n",
      "             SMA_sec     EMA_sec    RSI_sec   BBM_sec  ...  \\\n",
      "Date                                                   ...   \n",
      "2019-03-14  104.9046  101.000000  63.818062  104.9046  ...   \n",
      "2019-03-15  104.9046  100.975294  63.818062  104.9046  ...   \n",
      "2019-03-18  104.9046  100.835087  63.818062  104.9046  ...   \n",
      "2019-03-19  104.9046  100.719985  63.818062  104.9046  ...   \n",
      "2019-03-20  104.9046  100.645084  63.818062  104.9046  ...   \n",
      "\n",
      "            Momentum_7_Lag_Avg_1_3_sec  Momentum_7_Lag_Std_1_3_sec  \\\n",
      "Date                                                                 \n",
      "2019-03-14                    0.419998                1.000000e-10   \n",
      "2019-03-15                    0.419998                1.000000e-10   \n",
      "2019-03-18                    0.419998                1.000000e-10   \n",
      "2019-03-19                    0.419998                1.000000e-10   \n",
      "2019-03-20                    0.419998                1.000000e-10   \n",
      "\n",
      "            Momentum_30_Lag_Avg_1_3_sec  Momentum_30_Lag_Std_1_3_sec  \\\n",
      "Date                                                                   \n",
      "2019-03-14                     2.940002                 1.000000e-10   \n",
      "2019-03-15                     2.940002                 1.000000e-10   \n",
      "2019-03-18                     2.940002                 1.000000e-10   \n",
      "2019-03-19                     2.940002                 1.000000e-10   \n",
      "2019-03-20                     2.940002                 1.000000e-10   \n",
      "\n",
      "            Momentum_50_Lag_Avg_1_3_sec  Momentum_50_Lag_Std_1_3_sec  \\\n",
      "Date                                                                   \n",
      "2019-03-14                    12.889999                 1.000000e-10   \n",
      "2019-03-15                    12.889999                 1.000000e-10   \n",
      "2019-03-18                    12.889999                 1.000000e-10   \n",
      "2019-03-19                    12.889999                 1.000000e-10   \n",
      "2019-03-20                    12.889999                 1.000000e-10   \n",
      "\n",
      "            OBV_Lag_Avg_1_3_sec  OBV_Lag_Std_1_3_sec  Diff_Close_EMA_sec  \\\n",
      "Date                                                                       \n",
      "2019-03-14         1.000000e-10         1.611779e+06        1.000000e-10   \n",
      "2019-03-15         1.000000e-10         1.611779e+06        1.000000e-10   \n",
      "2019-03-18         1.000000e-10         1.611779e+06        1.000000e-10   \n",
      "2019-03-19         1.000000e-10         2.100176e+06        1.000000e-10   \n",
      "2019-03-20         1.000000e-10         9.614140e+05        1.000000e-10   \n",
      "\n",
      "            Ratio_Close_EMA_sec  \n",
      "Date                             \n",
      "2019-03-14             1.000000  \n",
      "2019-03-15             0.994006  \n",
      "2019-03-18             0.965934  \n",
      "2019-03-19             0.972002  \n",
      "2019-03-20             0.981767  \n",
      "\n",
      "[5 rows x 153 columns]\n",
      "(266665, 153)\n",
      "            interest_rates_10yr         gold  copper    platinum  silver  \\\n",
      "Date                                                                       \n",
      "2019-03-14                2.630  1293.400024  2.8885  825.599976  15.101   \n",
      "2019-03-15                2.593  1301.800049  2.9035  830.299988  15.253   \n",
      "2019-03-18                2.602  1300.300049  2.9035  832.599976  15.251   \n",
      "2019-03-19                2.614  1305.000000  2.9195  851.200012  15.301   \n",
      "2019-03-20                2.535  1300.500000  2.9155  858.200012  15.245   \n",
      "\n",
      "            crude_oil  natural_gas    corn   wheat  volatility_index  ...  \\\n",
      "Date                                                                  ...   \n",
      "2019-03-14  58.610001        2.855  361.50  448.25             13.50  ...   \n",
      "2019-03-15  58.520000        2.795  373.25  462.25             12.88  ...   \n",
      "2019-03-18  59.090000        2.850  371.50  456.75             13.10  ...   \n",
      "2019-03-19  59.029999        2.874  371.25  456.50             13.56  ...   \n",
      "2019-03-20  59.830002        2.820  371.50  464.75             13.91  ...   \n",
      "\n",
      "            vanguard_total_world_stock_etf_Diff  us_treasury_bond_etf_Lag_1  \\\n",
      "Date                                                                          \n",
      "2019-03-14                         5.699997e-01                   24.870001   \n",
      "2019-03-15                         5.699997e-01                   24.870001   \n",
      "2019-03-18                         3.300018e-01                   24.920000   \n",
      "2019-03-19                         1.000214e-02                   24.910000   \n",
      "2019-03-20                         1.000000e-10                   24.900000   \n",
      "\n",
      "            us_treasury_bond_etf_Lag_2  us_treasury_bond_etf_Lag_3  \\\n",
      "Date                                                                 \n",
      "2019-03-14                   24.870001                   24.870001   \n",
      "2019-03-15                   24.870001                   24.870001   \n",
      "2019-03-18                   24.870001                   24.870001   \n",
      "2019-03-19                   24.920000                   24.870001   \n",
      "2019-03-20                   24.910000                   24.920000   \n",
      "\n",
      "            us_treasury_bond_etf_MA_7  us_treasury_bond_etf_MA_30  \\\n",
      "Date                                                                \n",
      "2019-03-14                  24.967143                      25.044   \n",
      "2019-03-15                  24.967143                      25.044   \n",
      "2019-03-18                  24.967143                      25.044   \n",
      "2019-03-19                  24.967143                      25.044   \n",
      "2019-03-20                  24.967143                      25.044   \n",
      "\n",
      "            us_treasury_bond_etf_Std_7  us_treasury_bond_etf_Std_30  \\\n",
      "Date                                                                  \n",
      "2019-03-14                    0.097076                     0.102876   \n",
      "2019-03-15                    0.097076                     0.102876   \n",
      "2019-03-18                    0.097076                     0.102876   \n",
      "2019-03-19                    0.097076                     0.102876   \n",
      "2019-03-20                    0.097076                     0.102876   \n",
      "\n",
      "            us_treasury_bond_etf_RoC  us_treasury_bond_etf_Diff  \n",
      "Date                                                             \n",
      "2019-03-14              2.010424e-01               4.999924e-02  \n",
      "2019-03-15              2.010424e-01               4.999924e-02  \n",
      "2019-03-18              1.000000e-10               1.000000e-10  \n",
      "2019-03-19              1.000000e-10               1.000000e-10  \n",
      "2019-03-20              4.417695e-01               1.100006e-01  \n",
      "\n",
      "[5 rows x 180 columns]\n",
      "(1415, 180)\n"
     ]
    }
   ],
   "source": [
    "# Now let's access the main core_stock_data.csv file, as well as the secondary stock data and exo_data to all be used in this notebook!\n",
    "csv_path = os.path.join(project_root, 'data', 'core_stock_unscaled.csv')\n",
    "core_stock_data = pd.read_csv(csv_path, parse_dates=['Date'], index_col= 'Date')\n",
    "print(core_stock_data.head())\n",
    "print(core_stock_data.shape)\n",
    "\n",
    "csv_path = os.path.join(project_root, 'data', 'sec_stock_unscaled.csv')\n",
    "sec_stock_data = pd.read_csv(csv_path, parse_dates=['Date'], index_col= 'Date')\n",
    "print(sec_stock_data.head())\n",
    "print(sec_stock_data.shape)\n",
    "\n",
    "csv_path = os.path.join(project_root, 'data', 'exo_data_unscaled.csv')\n",
    "exo_data = pd.read_csv(csv_path, parse_dates=['Date'], index_col= 'Date')\n",
    "\n",
    "print(exo_data.head())\n",
    "print(exo_data.shape)\n",
    "\n",
    "\n"
   ]
  },
  {
   "cell_type": "code",
   "execution_count": 3,
   "metadata": {},
   "outputs": [
    {
     "name": "stdout",
     "output_type": "stream",
     "text": [
      "DatetimeIndex(['2019-04-19', '2019-05-27', '2019-07-04', '2019-09-02',\n",
      "               '2019-11-28', '2019-12-25', '2020-01-01', '2020-01-20',\n",
      "               '2020-02-17', '2020-04-10', '2020-05-25', '2020-07-03',\n",
      "               '2020-09-07', '2020-11-26', '2020-12-25', '2021-01-01',\n",
      "               '2021-01-18', '2021-02-15', '2021-04-02', '2021-05-31',\n",
      "               '2021-07-05', '2021-09-06', '2021-11-25', '2021-12-24',\n",
      "               '2022-01-17', '2022-02-21', '2022-04-15', '2022-05-30',\n",
      "               '2022-06-20', '2022-07-04', '2022-09-05', '2022-11-24',\n",
      "               '2022-12-26', '2023-01-02', '2023-01-16', '2023-02-20',\n",
      "               '2023-04-07', '2023-05-29', '2023-06-19', '2023-07-04',\n",
      "               '2023-09-04', '2023-11-23', '2023-12-25', '2024-01-01',\n",
      "               '2024-01-15', '2024-02-19', '2024-03-29', '2024-05-27',\n",
      "               '2024-06-19', '2024-07-04'],\n",
      "              dtype='datetime64[ns]', name='Date', freq=None)\n"
     ]
    }
   ],
   "source": [
    "exo_only_dates = exo_data.index.difference(core_stock_data.index)\n",
    "print(exo_only_dates)\n",
    "\n"
   ]
  },
  {
   "cell_type": "markdown",
   "metadata": {},
   "source": [
    "#### Now let's grab just our core stock for this notebook."
   ]
  },
  {
   "cell_type": "code",
   "execution_count": 4,
   "metadata": {},
   "outputs": [
    {
     "name": "stdout",
     "output_type": "stream",
     "text": [
      "Date\n",
      "2019-03-14    AAPL\n",
      "2019-03-15    AAPL\n",
      "2019-03-18    AAPL\n",
      "2019-03-19    AAPL\n",
      "2019-03-20    AAPL\n",
      "Name: Ticker, dtype: object\n"
     ]
    }
   ],
   "source": [
    "# We will want to preserve this version of our data since we will be doing merges later on, once we merge it will exponentially increase how much data is contained in our subject ticker variable.\n",
    "core_stock_data = core_stock_data[core_stock_data['Ticker'] == 'AAPL'].copy()\n",
    "optimized_features = ['ATR_14_core_Lag_3', 'Momentum_1_Lag_Std_1_3_core', 'Open_Lag_Std_1_3_core', 'Momentum_30_Lag_Std_1_3_core', 'Momentum_50_Lag_Std_1_3_core',\n",
    "                'Low_Lag_Std_1_3_core', 'High_Lag_Std_1_3_core', 'EMA_Lag_Std_1_3_core', 'MACD_Hist_Lag_Std_1_3_core', 'OBV_core', 'MACD_Lag_Std_1_3_core',\n",
    "                'ATR_14_Lag_Std_1_3_core', 'MACD_Signal_Lag_Std_1_3_core', 'OBV_core_Lag_3', 'Momentum_50_core_Lag_1', 'Momentum_50_core_Lag_3', 'Diff_Close_EMA_core',\n",
    "                'BBU_Lag_Std_1_3_core', 'BBL_Lag_Std_1_3_core', 'Volume_Lag_Std_1_3_core', 'Momentum_7_core_Lag_3', 'Momentum_3_Lag_Avg_1_3_core', 'MACD_Hist_core_Lag_3',\n",
    "                'Momentum_1_core_Lag_2', 'Momentum_1_core_Lag_3', 'Close_core', 'Ticker'\n",
    "                ]\n",
    "\n",
    "available_features = [feature for feature in optimized_features if feature in core_stock_data.columns]\n",
    "\n",
    "core_stock_data = core_stock_data[available_features]\n",
    "\n",
    "print(core_stock_data['Ticker'].head())"
   ]
  },
  {
   "cell_type": "markdown",
   "metadata": {},
   "source": [
    "#### Now looking back at exo_data I see a mismatch in our data.  Sec_stock_data is a different story as we still need it as it is for now, and we will look at it later.  For now though let's look into exo_data and fix."
   ]
  },
  {
   "cell_type": "code",
   "execution_count": 5,
   "metadata": {},
   "outputs": [
    {
     "name": "stdout",
     "output_type": "stream",
     "text": [
      "DatetimeIndex(['2019-04-19', '2019-05-27', '2019-07-04', '2019-09-02',\n",
      "               '2019-11-28', '2019-12-25', '2020-01-01', '2020-01-20',\n",
      "               '2020-02-17', '2020-04-10', '2020-05-25', '2020-07-03',\n",
      "               '2020-09-07', '2020-11-26', '2020-12-25', '2021-01-01',\n",
      "               '2021-01-18', '2021-02-15', '2021-04-02', '2021-05-31',\n",
      "               '2021-07-05', '2021-09-06', '2021-11-25', '2021-12-24',\n",
      "               '2022-01-17', '2022-02-21', '2022-04-15', '2022-05-30',\n",
      "               '2022-06-20', '2022-07-04', '2022-09-05', '2022-11-24',\n",
      "               '2022-12-26', '2023-01-02', '2023-01-16', '2023-02-20',\n",
      "               '2023-04-07', '2023-05-29', '2023-06-19', '2023-07-04',\n",
      "               '2023-09-04', '2023-11-23', '2023-12-25', '2024-01-01',\n",
      "               '2024-01-15', '2024-02-19', '2024-03-29', '2024-05-27',\n",
      "               '2024-06-19', '2024-07-04'],\n",
      "              dtype='datetime64[ns]', name='Date', freq=None)\n"
     ]
    }
   ],
   "source": [
    "exo_only_dates = exo_data.index.difference(core_stock_data.index)\n",
    "print(exo_only_dates)"
   ]
  },
  {
   "cell_type": "markdown",
   "metadata": {},
   "source": [
    "#### There are 50 different dates and values that our exo_data has that our core target data does not.  Upon first glance they appear to be related to holidays.  Let's remove these values from exo_data so that the indices align."
   ]
  },
  {
   "cell_type": "code",
   "execution_count": 6,
   "metadata": {},
   "outputs": [
    {
     "name": "stdout",
     "output_type": "stream",
     "text": [
      "Exo_data shape after dropping extra values: (1365, 180)\n"
     ]
    }
   ],
   "source": [
    "exo_data_cleaned = exo_data.drop(index = exo_only_dates)\n",
    "\n",
    "# Now re-check shape\n",
    "print(f\"Exo_data shape after dropping extra values: {exo_data_cleaned.shape}\")\n"
   ]
  },
  {
   "cell_type": "markdown",
   "metadata": {},
   "source": [
    "#### Now we are ready.  We have our core stock and our secondary stock data.  Before we do the cointegration tests we will perform a ADF (Augmented Dickey-Fuller) test to check for stationarity.  This will help our cointegration results."
   ]
  },
  {
   "cell_type": "code",
   "execution_count": 7,
   "metadata": {},
   "outputs": [
    {
     "name": "stdout",
     "output_type": "stream",
     "text": [
      "ADF Statistic: -0.9854132994930892\n",
      "p-value: 0.7585472175807795\n",
      "Critical Values: {'1%': -3.435153261837347, '5%': -2.8636612797849814, '10%': -2.567899369049974}\n"
     ]
    }
   ],
   "source": [
    "\n",
    "# Perform ADF Test on the 'Close' price column\n",
    "adf_result = adfuller(core_stock_data['Close_core'])\n",
    "\n",
    "# Display ADF test results\n",
    "print('ADF Statistic:', adf_result[0])\n",
    "print('p-value:', adf_result[1])\n",
    "print('Critical Values:', adf_result[4])\n",
    "\n",
    "\n"
   ]
  },
  {
   "cell_type": "markdown",
   "metadata": {},
   "source": [
    "#### Let's break down our results.  The ADF Statistic as a negative number is expected and a higher negative number here suggests stronger evidence against our hypothesis that the data is non-stationary.  The output here is fairly large which means the data is very likely to be stationary.  For the p value a value of 0 can occur when the ADF statistic is very large.  This value also aids in showing that the data is stationary.  Finally for the critical values as all being negative as well, this again shows that we can reject the null hypothesis and safely say that our core data is stationary and move on with the next phase of the notebook."
   ]
  },
  {
   "cell_type": "markdown",
   "metadata": {},
   "source": [
    "#### Now since there are 200 stocks in our secondary stock data we will need to make a function to process the tests more efficiently."
   ]
  },
  {
   "cell_type": "code",
   "execution_count": 8,
   "metadata": {},
   "outputs": [
    {
     "name": "stdout",
     "output_type": "stream",
     "text": [
      "    Secondary_Ticker  T-Statistic   P_value  \\\n",
      "0                RMD    -0.814387  0.932787   \n",
      "1               AMAT    -2.290508  0.378299   \n",
      "2               JNPR    -2.632174  0.224915   \n",
      "3               DECK    -2.150604  0.449963   \n",
      "4                JBL    -1.825677  0.617168   \n",
      "..               ...          ...       ...   \n",
      "195               ON    -1.828137  0.615957   \n",
      "196             SWKS    -0.497450  0.964513   \n",
      "197              MCD    -2.279811  0.383669   \n",
      "198             ADSK    -0.781050  0.937149   \n",
      "199                A    -1.380142  0.804239   \n",
      "\n",
      "                                       Critical_Values  Cointegrated  \n",
      "0    [-3.9044872726627737, -3.340613212756168, -3.0...         False  \n",
      "1    [-3.9044872726627737, -3.340613212756168, -3.0...         False  \n",
      "2    [-3.9044872726627737, -3.340613212756168, -3.0...         False  \n",
      "3    [-3.9044872726627737, -3.340613212756168, -3.0...         False  \n",
      "4    [-3.9044872726627737, -3.340613212756168, -3.0...         False  \n",
      "..                                                 ...           ...  \n",
      "195  [-3.9044872726627737, -3.340613212756168, -3.0...         False  \n",
      "196  [-3.9044872726627737, -3.340613212756168, -3.0...         False  \n",
      "197  [-3.9044872726627737, -3.340613212756168, -3.0...         False  \n",
      "198  [-3.9044872726627737, -3.340613212756168, -3.0...         False  \n",
      "199  [-3.9044872726627737, -3.340613212756168, -3.0...         False  \n",
      "\n",
      "[200 rows x 5 columns]\n",
      "\n",
      "Cointegrated Pairs:\n",
      "    Secondary_Ticker  T-Statistic   P_value  \\\n",
      "15               AZN    -3.350304  0.048178   \n",
      "85               ROL    -3.338208  0.049692   \n",
      "173             VTRS    -3.453472  0.036749   \n",
      "\n",
      "                                       Critical_Values  Cointegrated  \n",
      "15   [-3.9044872726627737, -3.340613212756168, -3.0...          True  \n",
      "85   [-3.9044872726627737, -3.340613212756168, -3.0...          True  \n",
      "173  [-3.9044872726627737, -3.340613212756168, -3.0...          True  \n"
     ]
    }
   ],
   "source": [
    "# Let's make a function that runs the test for our core stock for each secondary stock we have generated.\n",
    "def cointegration_test_sec(core_stock_data, sec_stock_data, core_ticker):\n",
    "    results = []\n",
    "    \n",
    "    core_data = core_stock_data[core_stock_data['Ticker'] == core_ticker]['Close_core']\n",
    "    \n",
    "    secondary_tickers = sec_stock_data['ticker'].unique()\n",
    "    \n",
    "    for ticker in secondary_tickers:\n",
    "        sec_data = sec_stock_data[sec_stock_data['ticker'] == ticker]['Close_sec']\n",
    "        \n",
    "        # As a check ensure the lengths match by trimming the larger series (if needed)\n",
    "        min_len = min(len(core_data), len(sec_data))\n",
    "        core_trimmed = core_data.iloc[-min_len:]\n",
    "        sec_trimmed = sec_data.iloc[-min_len:]\n",
    "        \n",
    "        # Perform the cointegration test.\n",
    "        coint_t, p_value, critical_values = coint(core_trimmed, sec_trimmed)\n",
    "        \n",
    "        # Append results to our results list\n",
    "        results.append({\n",
    "            'Secondary_Ticker' : ticker,\n",
    "            'T-Statistic' : coint_t,\n",
    "            'P_value' : p_value,\n",
    "            'Critical_Values' : critical_values,\n",
    "            'Cointegrated' : p_value < 0.05 # True if cointegrated\n",
    "        })\n",
    "\n",
    "    # Convert the results into a dataframe\n",
    "    results_df = pd.DataFrame(results)\n",
    "    \n",
    "    return results_df\n",
    "\n",
    "# Call the function now and perform cointegration testing on subject core stock and all secondary stocks\n",
    "results_df = cointegration_test_sec(core_stock_data, sec_stock_data, core_ticker='AAPL')\n",
    "\n",
    "print(results_df)\n",
    "\n",
    "# Filter and display only the cointegrated pairs\n",
    "cointegrated_pairs = results_df[results_df['Cointegrated'] == True]\n",
    "print(\"\\nCointegrated Pairs:\")\n",
    "print(cointegrated_pairs)\n"
   ]
  },
  {
   "cell_type": "markdown",
   "metadata": {},
   "source": [
    "#### Neat!  Out of our 200 secondary stocks that we generated and preprocessed, we have 3 cointegration pairs with our core stock!  For this notebook using AAPL as our core stock it looks like AZN, ROL, and VTRS (AstraZeneca PLC, Rollins Inc, and Viatris Inc respectively) are the cointegrated pairs as their p-value is less than 0.05 which is the deterministic stat for the cointegration test."
   ]
  },
  {
   "cell_type": "markdown",
   "metadata": {},
   "source": [
    "#### We will now do the same cointegration test on our exogenous features."
   ]
  },
  {
   "cell_type": "code",
   "execution_count": 9,
   "metadata": {},
   "outputs": [
    {
     "name": "stdout",
     "output_type": "stream",
     "text": [
      "                 Exogenous_Feature  T-Statistic   P_value  \\\n",
      "0                       nasdaq_100    -1.595764  0.722675   \n",
      "1                            sp500    -2.174622  0.437486   \n",
      "2              interest_rates_10yr    -2.100665  0.476020   \n",
      "3                             gold    -2.543518  0.260221   \n",
      "4                           copper    -1.800987  0.629243   \n",
      "5                         platinum    -1.119751  0.877682   \n",
      "6                           silver    -2.273159  0.387020   \n",
      "7                        crude_oil    -1.722480  0.666556   \n",
      "8                      natural_gas    -0.837346  0.929616   \n",
      "9                             corn    -0.550604  0.960528   \n",
      "10                           wheat    -0.961956  0.909828   \n",
      "11                volatility_index    -1.264144  0.840295   \n",
      "12           exchange_rate_usd_eur    -1.147543  0.871107   \n",
      "13           exchange_rate_usd_jpy    -2.073559  0.490193   \n",
      "14    dow_jones_industrial_average    -2.709884  0.196044   \n",
      "15       consumer_confidence_index    -1.449701  0.779970   \n",
      "16  vanguard_total_world_stock_etf    -1.939308  0.559946   \n",
      "17            us_treasury_bond_etf    -2.007994  0.524420   \n",
      "\n",
      "                                      Critical_Values  Cointegrated  \n",
      "0   [-3.9044872726627737, -3.340613212756168, -3.0...         False  \n",
      "1   [-3.9044872726627737, -3.340613212756168, -3.0...         False  \n",
      "2   [-3.9044872726627737, -3.340613212756168, -3.0...         False  \n",
      "3   [-3.9044872726627737, -3.340613212756168, -3.0...         False  \n",
      "4   [-3.9044872726627737, -3.340613212756168, -3.0...         False  \n",
      "5   [-3.9044872726627737, -3.340613212756168, -3.0...         False  \n",
      "6   [-3.9044872726627737, -3.340613212756168, -3.0...         False  \n",
      "7   [-3.9044872726627737, -3.340613212756168, -3.0...         False  \n",
      "8   [-3.9044872726627737, -3.340613212756168, -3.0...         False  \n",
      "9   [-3.9044872726627737, -3.340613212756168, -3.0...         False  \n",
      "10  [-3.9044872726627737, -3.340613212756168, -3.0...         False  \n",
      "11  [-3.9044872726627737, -3.340613212756168, -3.0...         False  \n",
      "12  [-3.9044872726627737, -3.340613212756168, -3.0...         False  \n",
      "13  [-3.9044872726627737, -3.340613212756168, -3.0...         False  \n",
      "14  [-3.9044872726627737, -3.340613212756168, -3.0...         False  \n",
      "15  [-3.9044872726627737, -3.340613212756168, -3.0...         False  \n",
      "16  [-3.9044872726627737, -3.340613212756168, -3.0...         False  \n",
      "17  [-3.9044872726627737, -3.340613212756168, -3.0...         False  \n",
      "No exogenous features are cointegrated with our core ticker.\n"
     ]
    }
   ],
   "source": [
    "# Let's make a function that runs the test for our core stock for each exogenous feature we have generated.\n",
    "def cointegration_test_exo(core_stock_data, exo_data_cleaned, core_ticker):\n",
    "    results = []\n",
    "    \n",
    "    core_data = core_stock_data[core_stock_data['Ticker'] == core_ticker]['Close_core']\n",
    "    \n",
    "    exo_features = ['nasdaq_100', 'sp500', 'interest_rates_10yr', 'gold', 'copper', 'platinum', 'silver', 'crude_oil', 'natural_gas', 'corn', 'wheat', 'volatility_index', 'exchange_rate_usd_eur', 'exchange_rate_usd_jpy', 'dow_jones_industrial_average', 'consumer_confidence_index', 'vanguard_total_world_stock_etf', 'us_treasury_bond_etf']\n",
    "    \n",
    "    for feature in exo_features:\n",
    "        exo_series = exo_data_cleaned[feature]\n",
    "        \n",
    "        # Perform the cointegration test.\n",
    "        coint_t, p_value, critical_values = coint(core_data, exo_series)\n",
    "        \n",
    "        # Append results to our results list\n",
    "        results.append({\n",
    "            'Exogenous_Feature' : feature,\n",
    "            'T-Statistic' : coint_t,\n",
    "            'P_value' : p_value,\n",
    "            'Critical_Values' : critical_values,\n",
    "            'Cointegrated' : p_value < 0.05 # True if cointegrated\n",
    "        })\n",
    "\n",
    "    # Convert the results into a dataframe\n",
    "    results_df = pd.DataFrame(results)\n",
    "    \n",
    "    return results_df\n",
    "\n",
    "# Call the function now and perform cointegration testing on subject core stock and all secondary stocks\n",
    "results_df_exo = cointegration_test_exo(core_stock_data, exo_data_cleaned, core_ticker='AAPL')\n",
    "\n",
    "print(results_df_exo)\n",
    "\n",
    "# Filter and display only the cointegrated pairs\n",
    "cointegrated_exo = results_df_exo[results_df_exo['Cointegrated'] == True]\n",
    "\n",
    "# In case no cointegration is found, we need some error logic.\n",
    "if cointegrated_exo.empty:\n",
    "    print(\"No exogenous features are cointegrated with our core ticker.\")\n",
    "else:\n",
    "    print(\"\\nCointegrated Exogenous Pairs:\")\n",
    "    print(cointegrated_exo)\n",
    "\n",
    "\n"
   ]
  },
  {
   "cell_type": "markdown",
   "metadata": {},
   "source": [
    "#### Unfortunately none of our exogenous features are cointegrated with our core ticker in this notebook at this time.  At another time we can look at expanding on our list of features in this space or the time period used but right now we will just move forward."
   ]
  },
  {
   "cell_type": "markdown",
   "metadata": {},
   "source": [
    "#### Now that we have done the initial cointegration testing we will now expand and look at layering.  We will take our cointegrated pairs that we had (3 of them) and do cointegration tests with them, so tests are done independently of themselves against the secondary stock data and exogenous data.  If pairs are found then they become layer 2 and branches of that pair, and testing will continue with that next layer until there is nothing left to test."
   ]
  },
  {
   "cell_type": "markdown",
   "metadata": {},
   "source": [
    "#### One thing we will be introducing is a threshold for our p_value.  As new cointegration pairs are introduced and new layers are created this can get out of hand (read grow) really quickly, so to keep the chain in check the p_threshold will make sure our stock chains are 'pruned' in a manner of speaking.  Also as I was running this layered test model I want to limit how many pairs are developed per pair.  At a later date I can explore the full potentiality of the chain(s) but right now we need to see it through with a minimum number of pairs."
   ]
  },
  {
   "cell_type": "code",
   "execution_count": 10,
   "metadata": {},
   "outputs": [
    {
     "name": "stdout",
     "output_type": "stream",
     "text": [
      "    Secondary_Ticker  T-Statistic   P_value  \\\n",
      "15               AZN    -3.350304  0.048178   \n",
      "85               ROL    -3.338208  0.049692   \n",
      "173             VTRS    -3.453472  0.036749   \n",
      "\n",
      "                                       Critical_Values  Cointegrated  \n",
      "15   [-3.9044872726627737, -3.340613212756168, -3.0...          True  \n",
      "85   [-3.9044872726627737, -3.340613212756168, -3.0...          True  \n",
      "173  [-3.9044872726627737, -3.340613212756168, -3.0...          True  \n"
     ]
    }
   ],
   "source": [
    "# We will make this list for the next layers since it combines both sec_stock_data and exo_data.\n",
    "exo_features = exo_data_cleaned[['nasdaq_100', 'sp500', 'interest_rates_10yr', 'gold', 'copper', 'platinum', 'silver', 'crude_oil', 'natural_gas', 'corn', 'wheat', 'volatility_index', 'exchange_rate_usd_eur', 'exchange_rate_usd_jpy', 'dow_jones_industrial_average', 'consumer_confidence_index', 'vanguard_total_world_stock_etf', 'us_treasury_bond_etf']]\n",
    "\n",
    "# Doing a check to make sure we can use cointegrated_pairs in the next part of the notebook.\n",
    "print(cointegrated_pairs)"
   ]
  },
  {
   "cell_type": "code",
   "execution_count": 24,
   "metadata": {},
   "outputs": [
    {
     "name": "stdout",
     "output_type": "stream",
     "text": [
      "Testing pair: AZN\n",
      "Testing pair: ROL\n",
      "New cointegrated pair found: ROL with TMUS\n",
      "Testing pair: VTRS\n",
      "New cointegrated pair found: VTRS with JNPR\n",
      "New cointegrated pair found: VTRS with JBL\n",
      "New cointegrated pair found: VTRS with ORCL\n",
      "New cointegrated pair found: VTRS with MCHP\n",
      "New cointegrated pair found: VTRS with TMUS\n",
      "\n",
      "Cointegrated Pairs for Secondary Stocks:\n",
      "  Secondary_Ticker  Cointegrated  T-Statistic   P_value  \\\n",
      "0             TMUS          True    -4.359434  0.002065   \n",
      "1             JNPR          True    -4.124743  0.004730   \n",
      "2              JBL          True    -4.115109  0.004887   \n",
      "3             ORCL          True    -4.013804  0.006862   \n",
      "4             MCHP          True    -4.019298  0.006739   \n",
      "5             TMUS          True    -4.097230  0.005193   \n",
      "\n",
      "                                     Critical_Values  \n",
      "0  [-3.9044872726627737, -3.340613212756168, -3.0...  \n",
      "1  [-3.9044872726627737, -3.340613212756168, -3.0...  \n",
      "2  [-3.9044872726627737, -3.340613212756168, -3.0...  \n",
      "3  [-3.9044872726627737, -3.340613212756168, -3.0...  \n",
      "4  [-3.9044872726627737, -3.340613212756168, -3.0...  \n",
      "5  [-3.9044872726627737, -3.340613212756168, -3.0...  \n",
      "No exogenous pairs were found.\n"
     ]
    }
   ],
   "source": [
    "# I don't want any of my pairs cointegrating with themselves, so let's make sure that doesn't happen.\n",
    "existing_pairs = set()\n",
    "\n",
    "# Setting the maximum number of cointegrations per pair\n",
    "max_cointegrations_per_stock = 5\n",
    "cointegrations_per_stock = {}\n",
    "\n",
    "# Let's make a function that uses our cointegrated pairs previously found and tests them against both the sec_stock_data and exo_features we just made.\n",
    "def cointegration_test_layered(sec_stock_data, exo_features, cointegrated_pairs, p_threshold):\n",
    "    results_sec_data = []\n",
    "    results_exo_data = []\n",
    "    \n",
    "    # Here we will access the cointegrated data from the previous layer\n",
    "    for pair in cointegrated_pairs['Secondary_Ticker']:\n",
    "        print(f\"Testing pair: {pair}\")\n",
    "        pair_data = sec_stock_data[sec_stock_data['ticker'] == pair]['Close_sec']\n",
    "\n",
    "        # Now initialize the count for each pair\n",
    "        cointegrations_per_stock.setdefault(pair, 0)\n",
    "        \n",
    "        # Now perform the test with remaining secondary stocks\n",
    "        secondary_tickers = sec_stock_data['ticker'].unique()\n",
    "        for ticker in secondary_tickers:\n",
    "            \n",
    "            # Skip self_cointegration\n",
    "            if pair == ticker:\n",
    "                continue\n",
    "            \n",
    "            # Also skip if this pair already exists in the tree\n",
    "            if (pair, ticker) in existing_pairs or (ticker, pair) in existing_pairs:\n",
    "                continue\n",
    "            \n",
    "            if cointegrations_per_stock[pair] >= max_cointegrations_per_stock:\n",
    "                break\n",
    "            \n",
    "            sec_data = sec_stock_data[sec_stock_data['ticker'] == ticker]['Close_sec']\n",
    "        \n",
    "            # As a check ensure the lengths match by trimming the larger series (if needed)\n",
    "            min_len = min(len(pair_data), len(sec_data))\n",
    "            pair_trimmed = pair_data.iloc[-min_len:]\n",
    "            sec_trimmed = sec_data.iloc[-min_len:]\n",
    "        \n",
    "            # Perform the cointegration test.\n",
    "            coint_t, p_value, critical_values = coint(pair_trimmed, sec_trimmed)\n",
    "        \n",
    "            # Append results to our results list\n",
    "            if p_value < p_threshold:\n",
    "                results_sec_data.append({\n",
    "                    'Secondary_Ticker' : ticker,\n",
    "                    'Cointegrated' : pair,\n",
    "                    'T-Statistic' : coint_t,\n",
    "                    'P_value' : p_value,\n",
    "                    'Critical_Values' : critical_values,\n",
    "                    'Cointegrated' : True # True if cointegrated\n",
    "                })\n",
    "                existing_pairs.add((pair, ticker))\n",
    "                cointegrations_per_stock[pair] += 1\n",
    "                print(f\"New cointegrated pair found: {pair} with {ticker}\")\n",
    "\n",
    "            \n",
    "        # Now perform the test for our exogenous features\n",
    "        for feature in exo_features.columns:\n",
    "            if cointegrations_per_stock[pair] >= max_cointegrations_per_stock:\n",
    "                break\n",
    "            \n",
    "            exo_data = exo_features[feature]\n",
    "    \n",
    "            # Again as a check ensure the lengths of the indices match\n",
    "            min_len = min(len(pair_data), len(exo_data))\n",
    "            pair_trimmed = pair_data.iloc[-min_len:]\n",
    "            exo_trimmed = exo_data.iloc[-min_len:]\n",
    "    \n",
    "            # Perform the test on the exo_features\n",
    "            coint_t, p_value, critical_values = coint(pair_trimmed, exo_trimmed)\n",
    "        \n",
    "            # Append results to our results list\n",
    "            if p_value < p_threshold:\n",
    "                results_exo_data.append({\n",
    "                    'Exogenous_Feature' : feature,\n",
    "                    'Cointegrated' : pair,\n",
    "                    'T-Statistic' : coint_t,\n",
    "                    'P_value' : p_value,\n",
    "                    'Critical_Values' : critical_values,\n",
    "                    'Cointegrated' : True # True if cointegrated\n",
    "                })\n",
    "                cointegrations_per_stock[pair] += 1\n",
    "                [print(f\"New cointegrated exogenous pair found: {pair} with {feature}\")]\n",
    "        \n",
    "    results_sec_df = pd.DataFrame(results_sec_data)\n",
    "    results_exo_df = pd.DataFrame(results_exo_data)\n",
    "    \n",
    "    return results_sec_df, results_exo_df\n",
    "\n",
    "results_sec_df, results_exo_df = cointegration_test_layered(sec_stock_data, exo_features, cointegrated_pairs, p_threshold = 0.01)\n",
    "\n",
    "# Display only the sec cointegrated pairs\n",
    "if not results_sec_df.empty:\n",
    "    cointegrated_pairs_sec = results_sec_df[results_sec_df['Cointegrated'] == True]\n",
    "    print(\"\\nCointegrated Pairs for Secondary Stocks:\")\n",
    "    print(cointegrated_pairs_sec)\n",
    "else:\n",
    "    print(\"No secondary stock pairs were found.\")\n",
    "\n",
    "# Display only the exo cointegrated pairs\n",
    "if not results_exo_df.empty:\n",
    "    cointegrated_pairs_exo = results_exo_df[results_exo_df['Cointegrated'] == True]\n",
    "    print(\"\\nCointegrated Pairs for Exogenous Features:\")\n",
    "    print(cointegrated_pairs_exo)\n",
    "else:\n",
    "    print(\"No exogenous pairs were found.\")\n",
    "\n",
    "\n"
   ]
  },
  {
   "cell_type": "markdown",
   "metadata": {},
   "source": [
    "#### So the output is muted quite a bit because I want the tree to end as soon as possible, at least for the purposes of this project and to demonstrate.  You can see one of our original pairs did not produce a new pair, so that branch ends with AZN.  ROL is now paired with TMUS, and VTRS paired with a max (our setting here) pairing with JNPR, JBL, ORCL, MCHP, and TMUS as well.  It is to be noted that the secondary stock testing and the exogenous feature testing are done independently above, and if the max pairing limit is hit in the secondary stock testing then there will be no exogenous features paired regardless of the p_value obtained."
   ]
  },
  {
   "cell_type": "markdown",
   "metadata": {},
   "source": [
    "#### Now that we have our repeatable function though we can re-use this at will to repeat the layers and input the most recent layers' pairs to produce new testing and new potential pairs, until there are no more pairs left generated.  If, like in the last testing, there are duplicate pairs I will remove the duplicate before proceeding with the new test round."
   ]
  },
  {
   "cell_type": "code",
   "execution_count": 25,
   "metadata": {},
   "outputs": [
    {
     "name": "stdout",
     "output_type": "stream",
     "text": [
      "  Secondary_Ticker\n",
      "0             TMUS\n",
      "1             JNPR\n",
      "2              JBL\n",
      "3             ORCL\n",
      "4             MCHP\n"
     ]
    }
   ],
   "source": [
    "# First set up the new variable with the input.\n",
    "new_pairs_layer_2 = results_sec_df[['Secondary_Ticker']].drop_duplicates()\n",
    "new_pairs_layer_2 = new_pairs_layer_2.drop_duplicates()\n",
    "print(new_pairs_layer_2)"
   ]
  },
  {
   "cell_type": "markdown",
   "metadata": {},
   "source": [
    "#### Now run the next phase of testing using our pairs from last round.  We didn't have any new exo_feature pairs so we will skip there."
   ]
  },
  {
   "cell_type": "code",
   "execution_count": 30,
   "metadata": {},
   "outputs": [
    {
     "name": "stdout",
     "output_type": "stream",
     "text": [
      "Testing pair: TMUS\n",
      "Testing pair: JNPR\n",
      "Testing pair: JBL\n",
      "Testing pair: ORCL\n",
      "Testing pair: MCHP\n",
      "No cointegrated pairs found in secondary stock data for the input pairs set.\n",
      "No cointegrated pairs found in exogenous feature data for the input pairs set.\n",
      "\n",
      "No cointegrated pairs found for secondary stocks in Layer 3.\n",
      "\n",
      "No cointegrated pairs found in exogenous data for Layer 3.\n"
     ]
    }
   ],
   "source": [
    "results_sec_df_layer_3, results_exo_df_layer_3 = cointegration_test_layered(sec_stock_data, exo_features, new_pairs_layer_2, p_threshold = 0.01)\n",
    "\n",
    "# Initialize the default empty DataFrames\n",
    "cointegrated_pairs_sec_layer_3 = pd.DataFrame()\n",
    "cointegrated_pairs_exo_layer_3 = pd.DataFrame()\n",
    "\n",
    "# Add a check and print statement in case there are no new pairs.\n",
    "if 'Cointegrated' in results_sec_df_layer_3.columns:\n",
    "    # Display only the cointegrated pairs for layer 3\n",
    "    cointegrated_pairs_sec_layer_3 = results_sec_df_layer_3[results_sec_df_layer_3['Cointegrated'] == True]\n",
    "else:\n",
    "    print(\"No cointegrated pairs found in secondary stock data for the input pairs set.\")\n",
    "\n",
    "# Do the same thing for the exo_features.\n",
    "if 'Cointegrated' in results_exo_df_layer_3.columns:\n",
    "    # Display only the exo_feature pairs for layer 3\n",
    "    cointegrated_pairs_exo_layer_3 = results_exo_df_layer_3[results_exo_df_layer_3['Cointegrated'] == True]\n",
    "else:\n",
    "    print(\"No cointegrated pairs found in exogenous feature data for the input pairs set.\")\n",
    "\n",
    "# Now we can actually print the results.\n",
    "if not cointegrated_pairs_sec_layer_3.empty:\n",
    "    print(\"\\nCointegrated Pairs for Secondary Stocks (Layer 3)\")\n",
    "    print(cointegrated_pairs_sec_layer_3)\n",
    "else:\n",
    "    print(\"\\nNo cointegrated pairs found for secondary stocks in Layer 3.\")\n",
    "\n",
    "if not cointegrated_pairs_exo_layer_3.empty:\n",
    "    print(\"\\nCointegrated Pairs for Exogenous Features (Layer 3)\")\n",
    "    print(cointegrated_pairs_exo_layer_3)\n",
    "else:\n",
    "    print(\"\\nNo cointegrated pairs found in exogenous data for Layer 3.\")"
   ]
  },
  {
   "cell_type": "markdown",
   "metadata": {},
   "source": [
    "#### Alright so we have reached the end of our chain.  Let's prepare to visualize."
   ]
  },
  {
   "cell_type": "code",
   "execution_count": 32,
   "metadata": {},
   "outputs": [
    {
     "data": {
      "image/png": "[encoded data removed]",
      "text/plain": [
       "<Figure size 1200x1200 with 1 Axes>"
      ]
     },
     "metadata": {},
     "output_type": "display_data"
    }
   ],
   "source": [
    "# Initialize a graph for the tree\n",
    "G = nx.Graph()\n",
    "\n",
    "# We need to input each pair from each layer.\n",
    "pairs_layer_1 = [('AAPL', 'AZN'), ('AAPL', 'ROL'), ('AAPL', 'VTRS')]\n",
    "pairs_layer_2 = [('ROL', 'TMUS'), ('VTRS', 'JNPR'), ('VTRS', 'JBL'), ('VTRS', 'ORCL'),\n",
    "                ('VTRS', 'MCHP'), ('VTRS', 'TMUS')]\n",
    "\n",
    "# Add each pair to the graph, by layer.\n",
    "for pair in pairs_layer_1:\n",
    "    G.add_edge(pair[0], pair[1], layer = 'Layer 1')\n",
    "\n",
    "for pair in pairs_layer_2:\n",
    "    G.add_edge(pair[0], pair[1], layer = 'Layer 2')\n",
    "\n",
    "# Draw the graph\n",
    "plt.figure(figsize = (12, 12))\n",
    "\n",
    "# Set positions of the nodes to create a chain-like structure\n",
    "pos = nx.spring_layout(G)\n",
    "\n",
    "# Set nodes and the edges we defined\n",
    "nx.draw(G, pos, with_labels = True, node_size = 3000, node_color = 'skyblue', font_size = 12,\n",
    "        font_weight = 'bold', edge_color = 'grey')\n",
    "\n",
    "# Adding edge labels for which layer each connection was created in\n",
    "edge_labels = nx.get_edge_attributes(G, 'layer')\n",
    "nx.draw_networkx_edge_labels(G, pos, edge_labels = edge_labels, font_color='red')\n",
    "\n",
    "# Show the plot\n",
    "plt.title('Stock Chain for AAPL')\n",
    "plt.show()\n",
    "\n",
    "\n",
    "\n",
    "\n",
    "\n",
    "\n"
   ]
  },
  {
   "cell_type": "markdown",
   "metadata": {},
   "source": [
    "#### The library used above in networkx in conjunction with matplotlib made a really nice plot here, defining all the work we did in this notebook showing the cointegration starting with our core stock in AAPL.  You can see where we start in the middle and the results for each layer branching out."
   ]
  },
  {
   "cell_type": "markdown",
   "metadata": {},
   "source": [
    "## Notebook Summary for Cointegration Testing And Stock Chain Formation for - AAPL\n",
    "#### In this notebook we took all of the work done thusfar and put it to the test.  We took our AAPL data pulled from our core stock data, used our optimized features, then ran cointegration testing to form stock chains centered around our starting root node.  These chains are abbreviated, as we kept a limit on pairs generated from each input pair as well as the p_threshold is all the way down to 0.01 which further limited pair generation otherwise the chain would be a lot bigger.  From here we can look to start organizing our trading strategy a little bit at a time, by looking at things like pair trading opportunities, hedging, and arbitrage strategies.  We can then look to backtest and forecast this chain as a unit."
   ]
  },
  {
   "cell_type": "code",
   "execution_count": null,
   "metadata": {},
   "outputs": [],
   "source": []
  },
  {
   "cell_type": "code",
   "execution_count": null,
   "metadata": {},
   "outputs": [],
   "source": []
  },
  {
   "cell_type": "code",
   "execution_count": null,
   "metadata": {},
   "outputs": [],
   "source": []
  },
  {
   "cell_type": "code",
   "execution_count": null,
   "metadata": {},
   "outputs": [],
   "source": []
  }
 ],
 "metadata": {
  "kernelspec": {
   "display_name": "DL-Strat",
   "language": "python",
   "name": "python3"
  },
  "language_info": {
   "codemirror_mode": {
    "name": "ipython",
    "version": 3
   },
   "file_extension": ".py",
   "mimetype": "text/x-python",
   "name": "python",
   "nbconvert_exporter": "python",
   "pygments_lexer": "ipython3",
   "version": "3.11.0"
  }
 },
 "nbformat": 4,
 "nbformat_minor": 2
}
